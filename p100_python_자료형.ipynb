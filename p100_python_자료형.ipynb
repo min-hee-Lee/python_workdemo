{
  "nbformat": 4,
  "nbformat_minor": 0,
  "metadata": {
    "colab": {
      "provenance": [],
      "authorship_tag": "ABX9TyMh6m0xf4FXFbuzEaihw4+C",
      "include_colab_link": true
    },
    "kernelspec": {
      "name": "python3",
      "display_name": "Python 3"
    },
    "language_info": {
      "name": "python"
    }
  },
  "cells": [
    {
      "cell_type": "markdown",
      "metadata": {
        "id": "view-in-github",
        "colab_type": "text"
      },
      "source": [
        "<a href=\"https://colab.research.google.com/github/min-hee-Lee/python_workdemo/blob/master/p100_python_%EC%9E%90%EB%A3%8C%ED%98%95.ipynb\" target=\"_parent\"><img src=\"https://colab.research.google.com/assets/colab-badge.svg\" alt=\"Open In Colab\"/></a>"
      ]
    },
    {
      "cell_type": "code",
      "source": [
        "#python version 확인\n",
        "!python --version"
      ],
      "metadata": {
        "colab": {
          "base_uri": "https://localhost:8080/"
        },
        "id": "NYDrAmuvp6jY",
        "outputId": "2cb79e3b-5be1-4e60-bc18-cc911208128c"
      },
      "execution_count": null,
      "outputs": [
        {
          "output_type": "stream",
          "name": "stdout",
          "text": [
            "Python 3.8.10\n"
          ]
        }
      ]
    },
    {
      "cell_type": "code",
      "execution_count": null,
      "metadata": {
        "colab": {
          "base_uri": "https://localhost:8080/"
        },
        "id": "HLT86gSBohD0",
        "outputId": "f64f181e-fbe4-4aca-cc84-5d6a862ef551"
      },
      "outputs": [
        {
          "output_type": "stream",
          "name": "stdout",
          "text": [
            "The Zen of Python, by Tim Peters\n",
            "\n",
            "Beautiful is better than ugly.\n",
            "Explicit is better than implicit.\n",
            "Simple is better than complex.\n",
            "Complex is better than complicated.\n",
            "Flat is better than nested.\n",
            "Sparse is better than dense.\n",
            "Readability counts.\n",
            "Special cases aren't special enough to break the rules.\n",
            "Although practicality beats purity.\n",
            "Errors should never pass silently.\n",
            "Unless explicitly silenced.\n",
            "In the face of ambiguity, refuse the temptation to guess.\n",
            "There should be one-- and preferably only one --obvious way to do it.\n",
            "Although that way may not be obvious at first unless you're Dutch.\n",
            "Now is better than never.\n",
            "Although never is often better than *right* now.\n",
            "If the implementation is hard to explain, it's a bad idea.\n",
            "If the implementation is easy to explain, it may be a good idea.\n",
            "Namespaces are one honking great idea -- let's do more of those!\n"
          ]
        }
      ],
      "source": [
        "# python의 철학\n",
        "import this"
      ]
    },
    {
      "cell_type": "code",
      "source": [
        "import keyword\n",
        "#keyword.kwlist(세로출력)\n",
        "#print통해 출력하면 list로 가로출력됨.\n",
        "print(keyword.kwlist)\n",
        "print(len(keyword.kwlist))"
      ],
      "metadata": {
        "id": "6KsCSo2Sozqu",
        "colab": {
          "base_uri": "https://localhost:8080/"
        },
        "outputId": "5639f5fe-8992-420d-c97c-6b3569d8267f"
      },
      "execution_count": null,
      "outputs": [
        {
          "output_type": "stream",
          "name": "stdout",
          "text": [
            "['False', 'None', 'True', 'and', 'as', 'assert', 'async', 'await', 'break', 'class', 'continue', 'def', 'del', 'elif', 'else', 'except', 'finally', 'for', 'from', 'global', 'if', 'import', 'in', 'is', 'lambda', 'nonlocal', 'not', 'or', 'pass', 'raise', 'return', 'try', 'while', 'with', 'yield']\n",
            "35\n"
          ]
        }
      ]
    },
    {
      "cell_type": "code",
      "source": [
        "print('Hello World')"
      ],
      "metadata": {
        "colab": {
          "base_uri": "https://localhost:8080/"
        },
        "id": "kc4RbS5Lqg2I",
        "outputId": "a31c1d92-203a-422e-d22f-1bdc0d3f8aa5"
      },
      "execution_count": null,
      "outputs": [
        {
          "output_type": "stream",
          "name": "stdout",
          "text": [
            "Hello World\n"
          ]
        }
      ]
    },
    {
      "cell_type": "code",
      "source": [
        "print(\"Hello World\")"
      ],
      "metadata": {
        "colab": {
          "base_uri": "https://localhost:8080/"
        },
        "id": "iSVfUSTRrCmm",
        "outputId": "637aa2fd-3718-4cf9-db1e-d4cf3e7bd11f"
      },
      "execution_count": null,
      "outputs": [
        {
          "output_type": "stream",
          "name": "stdout",
          "text": [
            "Hello World\n"
          ]
        }
      ]
    },
    {
      "cell_type": "code",
      "source": [
        "#연달아서 출력할 경우 ;세미콜론으로 구분하거나 줄바꿈\n",
        "print(\"python\");print('python')"
      ],
      "metadata": {
        "colab": {
          "base_uri": "https://localhost:8080/"
        },
        "id": "Wbsf53tmrGX0",
        "outputId": "13c3dc8d-8f82-4080-f487-84a1673ce9d9"
      },
      "execution_count": null,
      "outputs": [
        {
          "output_type": "stream",
          "name": "stdout",
          "text": [
            "python\n",
            "python\n"
          ]
        }
      ]
    },
    {
      "cell_type": "code",
      "source": [
        "# 조건식이나 블록처리를 :콜론으로 구분\n",
        "# 줄바꿈으로 오류가 날 경우 \\넣어주면 연결해준다는 뜻.\n",
        "a = 10 ;  b = 20 \n",
        "if(a==10) and \\\n",
        "(b==20) :\n",
        "  print(\"OK\")\n",
        "else :\n",
        "  print(\"No\")"
      ],
      "metadata": {
        "colab": {
          "base_uri": "https://localhost:8080/"
        },
        "id": "Qrgw7aderQmc",
        "outputId": "f739f171-5cac-46cb-e89f-dfa7c0b2113c"
      },
      "execution_count": null,
      "outputs": [
        {
          "output_type": "stream",
          "name": "stdout",
          "text": [
            "OK\n"
          ]
        }
      ]
    },
    {
      "cell_type": "code",
      "source": [
        "start=begin=1\n",
        "#print(start) 여러 변수의 값을 출력할 때는 print\n",
        "#print(begin)\n",
        "start \n",
        "begin #변수만 적어줄 경우 제일 마지막에 있는 값만 출력됨."
      ],
      "metadata": {
        "id": "gPfV0f5CrurQ",
        "colab": {
          "base_uri": "https://localhost:8080/"
        },
        "outputId": "ddebae44-1e13-4288-a855-f0c6747b8d15"
      },
      "execution_count": null,
      "outputs": [
        {
          "output_type": "execute_result",
          "data": {
            "text/plain": [
              "1"
            ]
          },
          "metadata": {},
          "execution_count": 2
        }
      ]
    },
    {
      "cell_type": "code",
      "source": [
        "a=1\n",
        "a=eval('3+4') #연산할 때는 ''묶어줘야함\n",
        "print(a)\n",
        "\n",
        "a=eval('a+3')\n",
        "print(a) #앞에있는 값 a(7)와 3을 더해줌"
      ],
      "metadata": {
        "colab": {
          "base_uri": "https://localhost:8080/"
        },
        "id": "0h0ga_55hCl5",
        "outputId": "6d78c77e-d115-4705-e116-d5261b17ab27"
      },
      "execution_count": null,
      "outputs": [
        {
          "output_type": "stream",
          "name": "stdout",
          "text": [
            "7\n",
            "10\n"
          ]
        }
      ]
    },
    {
      "cell_type": "markdown",
      "source": [
        "## 자료형\n",
        "1. 데이터 저장방법에 따른 자료형의 분류\n",
        "  - 직접(direct)형 : 직접 데이터를 표현하는 자료형 : int, float, complex\n",
        "  - 시퀀스(sequence)형 : 다른 데이터를 포함하는 자료형, 순서가 있는 집합 자료형 : list, str, tuple, bytes, bytearray, range\n",
        "  - 매핑(Mapping)형 : 다른 데이터를 포함하는 자료형 : dict\n",
        "  - 집합(Set)자료형 : 순서가 없고, 중복된 항목도 없다 : set, frozenset\n",
        "\n",
        "####2. 변경 가능성에 따른 자료형 분류(중요)\n",
        "  - 변경 가능형(Mutable) : 데이터의 값을 변경할 수 있다. : *list, dict, set*\n",
        "  - 변경 불가능형(Immutable) : 데이터의 값을 변경할 수 없다. : int, float, complex, *str, tuple*, frozenset\n",
        "\n",
        "3. 데이터 저장 개수에 따른 자료형 분류\n",
        "  - 리터널(Literal/Scalar)형 : 한 가지 객체만 저장한다. : int, bytes, str, float, complex\n",
        "  - 컨테이널(Container)형 : 여러가지 객체를 저장한다. : list, tuple, dict, set, frozenset"
      ],
      "metadata": {
        "id": "_eZ7397shi3H"
      }
    },
    {
      "cell_type": "markdown",
      "source": [
        "type() : 데이터 자료형 확인"
      ],
      "metadata": {
        "id": "eMvRKzgtlLTq"
      }
    },
    {
      "cell_type": "code",
      "source": [
        "type(5)"
      ],
      "metadata": {
        "colab": {
          "base_uri": "https://localhost:8080/"
        },
        "id": "WBMWY_oTlCaI",
        "outputId": "c580d73b-1b51-4daa-9937-72be68cfd1de"
      },
      "execution_count": null,
      "outputs": [
        {
          "output_type": "execute_result",
          "data": {
            "text/plain": [
              "int"
            ]
          },
          "metadata": {},
          "execution_count": 6
        }
      ]
    },
    {
      "cell_type": "code",
      "source": [
        "type(85.3)"
      ],
      "metadata": {
        "colab": {
          "base_uri": "https://localhost:8080/"
        },
        "id": "GT2dIVF2lISG",
        "outputId": "e9ad52d8-a7e3-4dd3-ac19-bb87b0e12aaf"
      },
      "execution_count": null,
      "outputs": [
        {
          "output_type": "execute_result",
          "data": {
            "text/plain": [
              "float"
            ]
          },
          "metadata": {},
          "execution_count": 7
        }
      ]
    },
    {
      "cell_type": "code",
      "source": [
        "type([1,3,5])"
      ],
      "metadata": {
        "colab": {
          "base_uri": "https://localhost:8080/"
        },
        "id": "7ZkH1HLNlTpn",
        "outputId": "6b7b3b11-df02-4b79-bdbb-5b7760727117"
      },
      "execution_count": null,
      "outputs": [
        {
          "output_type": "execute_result",
          "data": {
            "text/plain": [
              "list"
            ]
          },
          "metadata": {},
          "execution_count": 8
        }
      ]
    },
    {
      "cell_type": "code",
      "source": [
        "#tuple은 괄호 생략 가능\n",
        "type((2, 6, 7))"
      ],
      "metadata": {
        "colab": {
          "base_uri": "https://localhost:8080/"
        },
        "id": "VQBgTLDdlWt2",
        "outputId": "28253191-f0b1-4055-8815-39d0efa33c2c"
      },
      "execution_count": null,
      "outputs": [
        {
          "output_type": "execute_result",
          "data": {
            "text/plain": [
              "tuple"
            ]
          },
          "metadata": {},
          "execution_count": 9
        }
      ]
    },
    {
      "cell_type": "code",
      "source": [
        "def call():\n",
        "  return 2,3,4\n",
        "\n",
        "print(call())\n",
        "print(type(call()))"
      ],
      "metadata": {
        "colab": {
          "base_uri": "https://localhost:8080/"
        },
        "id": "9nFfq5kDlZ2t",
        "outputId": "6104ec33-35d7-48c9-95e2-8e0718c8081c"
      },
      "execution_count": null,
      "outputs": [
        {
          "output_type": "stream",
          "name": "stdout",
          "text": [
            "(2, 3, 4)\n",
            "<class 'tuple'>\n"
          ]
        }
      ]
    },
    {
      "cell_type": "code",
      "source": [
        "#중괄호는 set\n",
        "type({1,3,4})"
      ],
      "metadata": {
        "colab": {
          "base_uri": "https://localhost:8080/"
        },
        "id": "pUeWuxdslr7q",
        "outputId": "267aa4f6-4532-481c-ec2f-c3e483319080"
      },
      "execution_count": null,
      "outputs": [
        {
          "output_type": "execute_result",
          "data": {
            "text/plain": [
              "set"
            ]
          },
          "metadata": {},
          "execution_count": 12
        }
      ]
    },
    {
      "cell_type": "markdown",
      "source": [
        "dir( ) : 자료형의 내장함수를 검색할 수 있다."
      ],
      "metadata": {
        "id": "cKHfwmaFmFZL"
      }
    },
    {
      "cell_type": "code",
      "source": [
        "print(dir(str))"
      ],
      "metadata": {
        "colab": {
          "base_uri": "https://localhost:8080/"
        },
        "id": "KIq9WiHKl9N5",
        "outputId": "8d3d9a67-446d-4631-8218-894aaccec65f"
      },
      "execution_count": null,
      "outputs": [
        {
          "output_type": "stream",
          "name": "stdout",
          "text": [
            "['__add__', '__class__', '__contains__', '__delattr__', '__dir__', '__doc__', '__eq__', '__format__', '__ge__', '__getattribute__', '__getitem__', '__getnewargs__', '__gt__', '__hash__', '__init__', '__init_subclass__', '__iter__', '__le__', '__len__', '__lt__', '__mod__', '__mul__', '__ne__', '__new__', '__reduce__', '__reduce_ex__', '__repr__', '__rmod__', '__rmul__', '__setattr__', '__sizeof__', '__str__', '__subclasshook__', 'capitalize', 'casefold', 'center', 'count', 'encode', 'endswith', 'expandtabs', 'find', 'format', 'format_map', 'index', 'isalnum', 'isalpha', 'isascii', 'isdecimal', 'isdigit', 'isidentifier', 'islower', 'isnumeric', 'isprintable', 'isspace', 'istitle', 'isupper', 'join', 'ljust', 'lower', 'lstrip', 'maketrans', 'partition', 'replace', 'rfind', 'rindex', 'rjust', 'rpartition', 'rsplit', 'rstrip', 'split', 'splitlines', 'startswith', 'strip', 'swapcase', 'title', 'translate', 'upper', 'zfill']\n"
          ]
        }
      ]
    },
    {
      "cell_type": "code",
      "source": [
        "print(dir(list))"
      ],
      "metadata": {
        "colab": {
          "base_uri": "https://localhost:8080/"
        },
        "id": "4tR4G1flmSGI",
        "outputId": "d3b6e840-8d85-4305-ecc0-17cdbba1c149"
      },
      "execution_count": null,
      "outputs": [
        {
          "output_type": "stream",
          "name": "stdout",
          "text": [
            "['__add__', '__class__', '__contains__', '__delattr__', '__delitem__', '__dir__', '__doc__', '__eq__', '__format__', '__ge__', '__getattribute__', '__getitem__', '__gt__', '__hash__', '__iadd__', '__imul__', '__init__', '__init_subclass__', '__iter__', '__le__', '__len__', '__lt__', '__mul__', '__ne__', '__new__', '__reduce__', '__reduce_ex__', '__repr__', '__reversed__', '__rmul__', '__setattr__', '__setitem__', '__sizeof__', '__str__', '__subclasshook__', 'append', 'clear', 'copy', 'count', 'extend', 'index', 'insert', 'pop', 'remove', 'reverse', 'sort']\n"
          ]
        }
      ]
    },
    {
      "cell_type": "markdown",
      "source": [
        "help( ) : 자료형에서 제공하는 메소드 사용법을 검색할 수 있다."
      ],
      "metadata": {
        "id": "kPrh-X4Mmx1z"
      }
    },
    {
      "cell_type": "code",
      "source": [
        "#help(str)\n",
        "help(str.index)"
      ],
      "metadata": {
        "colab": {
          "base_uri": "https://localhost:8080/"
        },
        "id": "nCLk6Zxzmib2",
        "outputId": "14709870-229c-4a30-b551-d9d1950d0a6a"
      },
      "execution_count": null,
      "outputs": [
        {
          "output_type": "stream",
          "name": "stdout",
          "text": [
            "Help on method_descriptor:\n",
            "\n",
            "index(...)\n",
            "    S.index(sub[, start[, end]]) -> int\n",
            "    \n",
            "    Return the lowest index in S where substring sub is found,\n",
            "    such that sub is contained within S[start:end].  Optional\n",
            "    arguments start and end are interpreted as in slice notation.\n",
            "    \n",
            "    Raises ValueError when the substring is not found.\n",
            "\n"
          ]
        }
      ]
    },
    {
      "cell_type": "markdown",
      "source": [
        "## Sequence 자료형\n",
        "- Sequence는 여러 객체를 저장할 수 있는 순서를 갖는 연속된 자료형이다.\n",
        "- 자료형 종류 : str, tuple, list\n",
        "- sequence형의 공통적인 연산\n",
        "  - 인덱스(indexing)\n",
        "  - 슬라이싱(slicing)\n",
        "  - 연결하기\n",
        "  - 반복하기\n",
        "  - 멤버 검사\n",
        "  - 길이 정보"
      ],
      "metadata": {
        "id": "GTof5hQunYXH"
      }
    },
    {
      "cell_type": "markdown",
      "source": [
        "### 문자열(str)\n",
        "- 문자열은 문자들을 표현하는 자료형으로 작은따옴표(')나 큰따옴표(\")로 묶는다.\n",
        "- 문자열의 슬라이싱 : [인덱스 시작 : 인덱스 끝 : 스텝]\n",
        "- 스텝의 default는 1의 값을 갖는다."
      ],
      "metadata": {
        "id": "FT36uGaIn-v4"
      }
    },
    {
      "cell_type": "code",
      "source": [
        "s_val = 'hello python!'\n",
        "s_val[0:3]    #0번째 인덱스부터 3미만까지 가져와라"
      ],
      "metadata": {
        "colab": {
          "base_uri": "https://localhost:8080/",
          "height": 36
        },
        "id": "K31PD5fbm48B",
        "outputId": "ab59a146-d101-4cea-8c15-b211ca127c0d"
      },
      "execution_count": null,
      "outputs": [
        {
          "output_type": "execute_result",
          "data": {
            "text/plain": [
              "'hel'"
            ],
            "application/vnd.google.colaboratory.intrinsic+json": {
              "type": "string"
            }
          },
          "metadata": {},
          "execution_count": 18
        }
      ]
    },
    {
      "cell_type": "code",
      "source": [
        " s_val[1] #1인덱스 값을 가져와라"
      ],
      "metadata": {
        "colab": {
          "base_uri": "https://localhost:8080/",
          "height": 36
        },
        "id": "ft8I65DsonyW",
        "outputId": "876471f5-19ac-41c4-bc56-faf4a6c316b0"
      },
      "execution_count": null,
      "outputs": [
        {
          "output_type": "execute_result",
          "data": {
            "text/plain": [
              "'e'"
            ],
            "application/vnd.google.colaboratory.intrinsic+json": {
              "type": "string"
            }
          },
          "metadata": {},
          "execution_count": 19
        }
      ]
    },
    {
      "cell_type": "code",
      "source": [
        "s_val[1:]  #1인덱스부터 끝까지 가져와라"
      ],
      "metadata": {
        "colab": {
          "base_uri": "https://localhost:8080/",
          "height": 36
        },
        "id": "7iIiRdWEozUl",
        "outputId": "17bcdcf7-08dc-49e4-aa2c-8e9c901375ef"
      },
      "execution_count": null,
      "outputs": [
        {
          "output_type": "execute_result",
          "data": {
            "text/plain": [
              "'ello python!'"
            ],
            "application/vnd.google.colaboratory.intrinsic+json": {
              "type": "string"
            }
          },
          "metadata": {},
          "execution_count": 20
        }
      ]
    },
    {
      "cell_type": "code",
      "source": [
        "s_val[:3]  #0인덱스부터 3미만까지 "
      ],
      "metadata": {
        "colab": {
          "base_uri": "https://localhost:8080/",
          "height": 36
        },
        "id": "oG5wa2I0o5sS",
        "outputId": "dee4a28a-1323-4c95-e45e-f295d5561409"
      },
      "execution_count": null,
      "outputs": [
        {
          "output_type": "execute_result",
          "data": {
            "text/plain": [
              "'hel'"
            ],
            "application/vnd.google.colaboratory.intrinsic+json": {
              "type": "string"
            }
          },
          "metadata": {},
          "execution_count": 21
        }
      ]
    },
    {
      "cell_type": "code",
      "source": [
        "s_val[:]  #전체 인덱스를 가져와라"
      ],
      "metadata": {
        "colab": {
          "base_uri": "https://localhost:8080/",
          "height": 36
        },
        "id": "2ZsoZ8L_o-_c",
        "outputId": "9b6a0d37-62f9-4f30-e117-5dacaa5c56d7"
      },
      "execution_count": null,
      "outputs": [
        {
          "output_type": "execute_result",
          "data": {
            "text/plain": [
              "'hello python!'"
            ],
            "application/vnd.google.colaboratory.intrinsic+json": {
              "type": "string"
            }
          },
          "metadata": {},
          "execution_count": 22
        }
      ]
    },
    {
      "cell_type": "code",
      "source": [
        "s_val[-1] #끝에서 1번째"
      ],
      "metadata": {
        "colab": {
          "base_uri": "https://localhost:8080/",
          "height": 36
        },
        "id": "No3PNCZopCww",
        "outputId": "0653cc69-dc3c-41af-ce18-aad061230ffe"
      },
      "execution_count": null,
      "outputs": [
        {
          "output_type": "execute_result",
          "data": {
            "text/plain": [
              "'!'"
            ],
            "application/vnd.google.colaboratory.intrinsic+json": {
              "type": "string"
            }
          },
          "metadata": {},
          "execution_count": 23
        }
      ]
    },
    {
      "cell_type": "code",
      "source": [
        "s_val[-3:-1] #끝에서 3번쨰부터 1미만까지"
      ],
      "metadata": {
        "colab": {
          "base_uri": "https://localhost:8080/",
          "height": 36
        },
        "id": "kd5kQDBYpHkG",
        "outputId": "24a478c1-841d-4f3a-d759-4a84eea59084"
      },
      "execution_count": null,
      "outputs": [
        {
          "output_type": "execute_result",
          "data": {
            "text/plain": [
              "'on'"
            ],
            "application/vnd.google.colaboratory.intrinsic+json": {
              "type": "string"
            }
          },
          "metadata": {},
          "execution_count": 27
        }
      ]
    },
    {
      "cell_type": "code",
      "source": [
        "s_val[::2] #0인덱스부터 2스탭씩 읽어옴(한칸띄고)"
      ],
      "metadata": {
        "colab": {
          "base_uri": "https://localhost:8080/",
          "height": 36
        },
        "id": "Y8gRgYg-pP7t",
        "outputId": "0c62e6b7-107e-4c4a-9252-c13098f26d3e"
      },
      "execution_count": null,
      "outputs": [
        {
          "output_type": "execute_result",
          "data": {
            "text/plain": [
              "'hlopto!'"
            ],
            "application/vnd.google.colaboratory.intrinsic+json": {
              "type": "string"
            }
          },
          "metadata": {},
          "execution_count": 28
        }
      ]
    },
    {
      "cell_type": "code",
      "source": [
        "s_val[::-2]  #0인덱스부터 2스탭씩 역방향으로 읽어옴(한칸띄고)"
      ],
      "metadata": {
        "colab": {
          "base_uri": "https://localhost:8080/",
          "height": 36
        },
        "id": "xi_Kd5YOpp76",
        "outputId": "4bee14cd-2ca2-4ef6-95cf-6a1dc8c27675"
      },
      "execution_count": null,
      "outputs": [
        {
          "output_type": "execute_result",
          "data": {
            "text/plain": [
              "'!otpolh'"
            ],
            "application/vnd.google.colaboratory.intrinsic+json": {
              "type": "string"
            }
          },
          "metadata": {},
          "execution_count": 29
        }
      ]
    },
    {
      "cell_type": "code",
      "source": [
        "s_val[::-1]"
      ],
      "metadata": {
        "colab": {
          "base_uri": "https://localhost:8080/",
          "height": 36
        },
        "id": "L54Zb_-Sp0bq",
        "outputId": "49ba1ca8-4b78-4ffd-df0e-2afdc13e5fac"
      },
      "execution_count": null,
      "outputs": [
        {
          "output_type": "execute_result",
          "data": {
            "text/plain": [
              "'!nohtyp olleh'"
            ],
            "application/vnd.google.colaboratory.intrinsic+json": {
              "type": "string"
            }
          },
          "metadata": {},
          "execution_count": 30
        }
      ]
    },
    {
      "cell_type": "code",
      "source": [
        "s_val[-1:-3:-1]  #-1에서 -3미만까지 / 스탭-1은 뒤 글자부터 역순으로 읽어옴"
      ],
      "metadata": {
        "colab": {
          "base_uri": "https://localhost:8080/",
          "height": 36
        },
        "id": "Uywl5l2isZa4",
        "outputId": "16abe43c-dd9d-4744-c5c9-850a70882d7c"
      },
      "execution_count": null,
      "outputs": [
        {
          "output_type": "execute_result",
          "data": {
            "text/plain": [
              "'!n'"
            ],
            "application/vnd.google.colaboratory.intrinsic+json": {
              "type": "string"
            }
          },
          "metadata": {},
          "execution_count": 31
        }
      ]
    },
    {
      "cell_type": "code",
      "source": [
        "s_val[-3:-1:-1]  #이렇게 사용할 수 없음"
      ],
      "metadata": {
        "colab": {
          "base_uri": "https://localhost:8080/",
          "height": 36
        },
        "id": "aAch2nyysejm",
        "outputId": "9cbd4824-c6cd-4b5d-e236-13cbe52172c8"
      },
      "execution_count": null,
      "outputs": [
        {
          "output_type": "execute_result",
          "data": {
            "text/plain": [
              "''"
            ],
            "application/vnd.google.colaboratory.intrinsic+json": {
              "type": "string"
            }
          },
          "metadata": {},
          "execution_count": 32
        }
      ]
    },
    {
      "cell_type": "code",
      "source": [
        "s_val[-3:-1:1] #1은 앞글자부터 읽어옴"
      ],
      "metadata": {
        "colab": {
          "base_uri": "https://localhost:8080/",
          "height": 36
        },
        "id": "LItcY51lsp47",
        "outputId": "59bb20e9-a563-4a29-ef25-83c3468b73bf"
      },
      "execution_count": null,
      "outputs": [
        {
          "output_type": "execute_result",
          "data": {
            "text/plain": [
              "'on'"
            ],
            "application/vnd.google.colaboratory.intrinsic+json": {
              "type": "string"
            }
          },
          "metadata": {},
          "execution_count": 33
        }
      ]
    },
    {
      "cell_type": "markdown",
      "source": [
        "문자열의 연결하기는 (+)연산자를 사용"
      ],
      "metadata": {
        "id": "Q4wah0Dhtb7s"
      }
    },
    {
      "cell_type": "code",
      "source": [
        "s_val2 = 'hello' + ' ' + 'python!'\n",
        "s_val2"
      ],
      "metadata": {
        "colab": {
          "base_uri": "https://localhost:8080/",
          "height": 36
        },
        "id": "_qhQQiZ8thdY",
        "outputId": "91452099-8c10-471a-bd6f-8ca75b5bd978"
      },
      "execution_count": null,
      "outputs": [
        {
          "output_type": "execute_result",
          "data": {
            "text/plain": [
              "'hello python!'"
            ],
            "application/vnd.google.colaboratory.intrinsic+json": {
              "type": "string"
            }
          },
          "metadata": {},
          "execution_count": 34
        }
      ]
    },
    {
      "cell_type": "markdown",
      "source": [
        "문자열 반복하기는 (*)연산자를 사용"
      ],
      "metadata": {
        "id": "j3By_un2todq"
      }
    },
    {
      "cell_type": "code",
      "source": [
        "s_val3 = 'win' * 3\n",
        "s_val3"
      ],
      "metadata": {
        "colab": {
          "base_uri": "https://localhost:8080/",
          "height": 36
        },
        "id": "dVXahcJCtt2a",
        "outputId": "f30dcebb-723b-4e8f-f8f7-38e53d586af9"
      },
      "execution_count": null,
      "outputs": [
        {
          "output_type": "execute_result",
          "data": {
            "text/plain": [
              "'winwinwin'"
            ],
            "application/vnd.google.colaboratory.intrinsic+json": {
              "type": "string"
            }
          },
          "metadata": {},
          "execution_count": 36
        }
      ]
    },
    {
      "cell_type": "code",
      "source": [
        "#s_val3= 'win' * 'python'  #문자열과 문자열을 *할 수 없다.(문자와 숫자만 가능)\n",
        "#s_val3"
      ],
      "metadata": {
        "colab": {
          "base_uri": "https://localhost:8080/",
          "height": 194
        },
        "id": "wS9cMMeEtxyw",
        "outputId": "d8d5c8ec-33cc-46a7-9321-cc3ab14a2944"
      },
      "execution_count": null,
      "outputs": [
        {
          "output_type": "error",
          "ename": "TypeError",
          "evalue": "ignored",
          "traceback": [
            "\u001b[0;31m---------------------------------------------------------------------------\u001b[0m",
            "\u001b[0;31mTypeError\u001b[0m                                 Traceback (most recent call last)",
            "\u001b[0;32m<ipython-input-37-91d0178a913a>\u001b[0m in \u001b[0;36m<module>\u001b[0;34m\u001b[0m\n\u001b[0;32m----> 1\u001b[0;31m \u001b[0ms_val3\u001b[0m\u001b[0;34m=\u001b[0m \u001b[0;34m'win'\u001b[0m \u001b[0;34m*\u001b[0m \u001b[0;34m'python'\u001b[0m\u001b[0;34m\u001b[0m\u001b[0;34m\u001b[0m\u001b[0m\n\u001b[0m\u001b[1;32m      2\u001b[0m \u001b[0ms_val3\u001b[0m\u001b[0;34m\u001b[0m\u001b[0;34m\u001b[0m\u001b[0m\n",
            "\u001b[0;31mTypeError\u001b[0m: can't multiply sequence by non-int of type 'str'"
          ]
        }
      ]
    },
    {
      "cell_type": "markdown",
      "source": [
        "문자열을 변경할 때 슬라이싱과 연결하기 사용"
      ],
      "metadata": {
        "id": "gpYau2z3uVJm"
      }
    },
    {
      "cell_type": "code",
      "source": [
        "s_val3 = 'hello python!'"
      ],
      "metadata": {
        "id": "OOvTLvYJuEj2"
      },
      "execution_count": null,
      "outputs": []
    },
    {
      "cell_type": "code",
      "source": [
        "s_val4 = 'H' + s_val3[1:]\n",
        "s_val4"
      ],
      "metadata": {
        "colab": {
          "base_uri": "https://localhost:8080/",
          "height": 36
        },
        "id": "t_nl0Rvwuevl",
        "outputId": "234dda91-e9e4-4a89-e8fe-7a530f2d38be"
      },
      "execution_count": null,
      "outputs": [
        {
          "output_type": "execute_result",
          "data": {
            "text/plain": [
              "'Hello python!'"
            ],
            "application/vnd.google.colaboratory.intrinsic+json": {
              "type": "string"
            }
          },
          "metadata": {},
          "execution_count": 40
        }
      ]
    },
    {
      "cell_type": "markdown",
      "source": [
        "문자열의 길이는 len( ) 내장함수 사용"
      ],
      "metadata": {
        "id": "2skzFv_tuvJe"
      }
    },
    {
      "cell_type": "code",
      "source": [
        "len(s_val4)"
      ],
      "metadata": {
        "colab": {
          "base_uri": "https://localhost:8080/"
        },
        "id": "srZ3khr1ujgJ",
        "outputId": "c1fae23e-023f-426c-9e7a-4694fef63c3e"
      },
      "execution_count": null,
      "outputs": [
        {
          "output_type": "execute_result",
          "data": {
            "text/plain": [
              "13"
            ]
          },
          "metadata": {},
          "execution_count": 41
        }
      ]
    },
    {
      "cell_type": "markdown",
      "source": [
        "in 연산자로 멤버를 검사해 부분 문자열의 존재 확인"
      ],
      "metadata": {
        "id": "SxMUBBsAu-26"
      }
    },
    {
      "cell_type": "code",
      "source": [
        "s_val5 = 'red green blue'\n",
        "'red' in s_val5  #red라는 문자열이 s_val5에 포함돼있는지 검사"
      ],
      "metadata": {
        "colab": {
          "base_uri": "https://localhost:8080/"
        },
        "id": "BXPfTlChu3uk",
        "outputId": "92c2358b-1421-4b25-bc4f-c3c74211f917"
      },
      "execution_count": null,
      "outputs": [
        {
          "output_type": "execute_result",
          "data": {
            "text/plain": [
              "True"
            ]
          },
          "metadata": {},
          "execution_count": 42
        }
      ]
    },
    {
      "cell_type": "code",
      "source": [
        "'white' in s_val5"
      ],
      "metadata": {
        "colab": {
          "base_uri": "https://localhost:8080/"
        },
        "id": "TKmNMfqUvQBB",
        "outputId": "f4dfddc9-cf16-4543-dbeb-36a794afd3f2"
      },
      "execution_count": null,
      "outputs": [
        {
          "output_type": "execute_result",
          "data": {
            "text/plain": [
              "False"
            ]
          },
          "metadata": {},
          "execution_count": 43
        }
      ]
    },
    {
      "cell_type": "markdown",
      "source": [
        "여러 줄 문자열은 작은따옴표 또는 큰따옴표를 세 번 연속해서 입력"
      ],
      "metadata": {
        "id": "Gya-JRpzviLi"
      }
    },
    {
      "cell_type": "code",
      "source": [
        "s_val6 = ''' red\n",
        "green\n",
        "blue'''\n",
        "s_val6"
      ],
      "metadata": {
        "colab": {
          "base_uri": "https://localhost:8080/",
          "height": 36
        },
        "id": "QDEMCAIovYsU",
        "outputId": "92a53f63-f642-436a-93a0-d38e5f00b9a8"
      },
      "execution_count": null,
      "outputs": [
        {
          "output_type": "execute_result",
          "data": {
            "text/plain": [
              "' red\\ngreen\\nblue'"
            ],
            "application/vnd.google.colaboratory.intrinsic+json": {
              "type": "string"
            }
          },
          "metadata": {},
          "execution_count": 44
        }
      ]
    },
    {
      "cell_type": "markdown",
      "source": [
        "문자열 서식지정 : 어떤 문서 양식을 만들어 놓고 빈칸에 필요한 내용을 채워서 문서를 지정한다."
      ],
      "metadata": {
        "id": "WNaFzP2swMhV"
      }
    },
    {
      "cell_type": "code",
      "source": [
        "s_val7 = 'python'\n",
        "s_val8 = 83.5\n",
        "print('%s의 점수는 %f입니다.' % (s_val7, s_val8))  #python1,2방식\n",
        "print('{}의 점수는 {}입니다.' .format(s_val7, s_val8))  #python3 방식 : 인덱스를 지정하지 않으면 순서대로 출력\n",
        "print('{1}의 점수는 {0}입니다.' .format(s_val8, s_val7))  #인덱스를 지정하면 인덱스 값으로 출력\n",
        "print('{subject}의 점수는 {jumsu}입니다.' .format(jumsu=s_val8, subject=s_val7))\n",
        "print('{{0}}의 점수는 {1}입니다.' .format(s_val7, s_val8)) #x\n",
        "print('{{{0}}}의 점수는 {1}입니다.' .format(s_val7, s_val8)) #o 변수의 값을 출력하면서 {}중괄호 자체를 출력할 때는 {{}}두개를 쓴다.\n",
        "print('{0:<10}의 점수는 {1}입니다.' .format(s_val7, s_val8)) # 10자리 확보하고 남은 공간은 오른쪽 여백으로 채운다\n",
        "print('{0:>10}의 점수는 {1}입니다.' .format(s_val7, s_val8)) # 10자리 확보하고 남은 공간은 왼쪽 여백으로 채운다\n",
        "print('{:>10}의 점수는 {}입니다.' .format(s_val7, s_val8)) #인덱스값을 다 생략하든지 다 지정하든지 통일해야함"
      ],
      "metadata": {
        "colab": {
          "base_uri": "https://localhost:8080/"
        },
        "id": "WOAZZ3Prv17O",
        "outputId": "763fb991-945c-48ee-c21a-cda761a25697"
      },
      "execution_count": null,
      "outputs": [
        {
          "output_type": "stream",
          "name": "stdout",
          "text": [
            "python의 점수는 83.500000입니다.\n",
            "python의 점수는 83.5입니다.\n",
            "python의 점수는 83.5입니다.\n",
            "python의 점수는 83.5입니다.\n",
            "{0}의 점수는 83.5입니다.\n",
            "{python}의 점수는 83.5입니다.\n",
            "python    의 점수는 83.5입니다.\n",
            "    python의 점수는 83.5입니다.\n",
            "    python의 점수는 83.5입니다.\n"
          ]
        }
      ]
    },
    {
      "cell_type": "markdown",
      "source": [
        "### 리스트(list)\n",
        "  - 시퀀스(Sequence) 자료형으로 데이터의 크기나 원소 값을 변경할 수 있다.\n",
        "  - 리스트는 [ ]대괄호로 표현한다.\n"
      ],
      "metadata": {
        "id": "LiGcnKXK04qh"
      }
    },
    {
      "cell_type": "code",
      "source": [
        "l = []\n",
        "print(l)\n",
        "print(type(l))"
      ],
      "metadata": {
        "colab": {
          "base_uri": "https://localhost:8080/"
        },
        "id": "3JYA0m1lwpML",
        "outputId": "8f660166-1616-4883-a0a9-52dead35d551"
      },
      "execution_count": null,
      "outputs": [
        {
          "output_type": "stream",
          "name": "stdout",
          "text": [
            "[]\n",
            "<class 'list'>\n"
          ]
        }
      ]
    },
    {
      "cell_type": "markdown",
      "source": [
        "java :\n",
        "```java\n",
        "class Test{\n",
        "  public static void main(String[] args) {\n",
        "    int[] arr = new int[] {1,2,3};\n",
        "  }\n",
        "} \n",
        "```\n",
        "\n",
        "javascript : \n",
        "```javascript\n",
        "  let color=['red','green','blue'];\n",
        "```"
      ],
      "metadata": {
        "id": "BejsgRSh1h2W"
      }
    },
    {
      "cell_type": "code",
      "source": [
        "l_val=[10,20,30]\n",
        "l_val"
      ],
      "metadata": {
        "colab": {
          "base_uri": "https://localhost:8080/"
        },
        "id": "gff9uxcS1Yei",
        "outputId": "abef49bf-6082-4cb9-8d7b-02fe252e7d1e"
      },
      "execution_count": null,
      "outputs": [
        {
          "output_type": "execute_result",
          "data": {
            "text/plain": [
              "[10, 20, 30]"
            ]
          },
          "metadata": {},
          "execution_count": 61
        }
      ]
    },
    {
      "cell_type": "code",
      "source": [
        "print(type(l_val))\n",
        "type(l_val)"
      ],
      "metadata": {
        "colab": {
          "base_uri": "https://localhost:8080/"
        },
        "id": "6ZAZFoJ72usY",
        "outputId": "1e8eb155-3998-4947-aaf0-95960601a06b"
      },
      "execution_count": null,
      "outputs": [
        {
          "output_type": "stream",
          "name": "stdout",
          "text": [
            "<class 'list'>\n"
          ]
        },
        {
          "output_type": "execute_result",
          "data": {
            "text/plain": [
              "list"
            ]
          },
          "metadata": {},
          "execution_count": 63
        }
      ]
    },
    {
      "cell_type": "markdown",
      "source": [
        "리스트(list)는 슬라이싱을 이용해서 데이터를 접근할 수 있다"
      ],
      "metadata": {
        "id": "mCt7AIHx3EvD"
      }
    },
    {
      "cell_type": "code",
      "source": [
        "l_val2 = [5,10,15,20,25,30]\n",
        "l_val2[3]"
      ],
      "metadata": {
        "colab": {
          "base_uri": "https://localhost:8080/"
        },
        "id": "i2RSENuv2xd5",
        "outputId": "5fb82b9b-c961-45a9-8ba0-1e158e72bf7d"
      },
      "execution_count": null,
      "outputs": [
        {
          "output_type": "execute_result",
          "data": {
            "text/plain": [
              "20"
            ]
          },
          "metadata": {},
          "execution_count": 64
        }
      ]
    },
    {
      "cell_type": "code",
      "source": [
        "l_val2[0:3]"
      ],
      "metadata": {
        "colab": {
          "base_uri": "https://localhost:8080/"
        },
        "id": "d9OzPo4y3Zmr",
        "outputId": "4c4e9db7-280f-49e4-a302-6d5d5ca6d22d"
      },
      "execution_count": null,
      "outputs": [
        {
          "output_type": "execute_result",
          "data": {
            "text/plain": [
              "[5, 10, 15]"
            ]
          },
          "metadata": {},
          "execution_count": 66
        }
      ]
    },
    {
      "cell_type": "code",
      "source": [
        "l_val2[1:]"
      ],
      "metadata": {
        "colab": {
          "base_uri": "https://localhost:8080/"
        },
        "id": "3YYqTTUW3iQ6",
        "outputId": "2a28634e-1f81-4946-ab8f-858ef064b7a0"
      },
      "execution_count": null,
      "outputs": [
        {
          "output_type": "execute_result",
          "data": {
            "text/plain": [
              "[10, 15, 20, 25, 30]"
            ]
          },
          "metadata": {},
          "execution_count": 67
        }
      ]
    },
    {
      "cell_type": "code",
      "source": [
        "l_val2[:3]"
      ],
      "metadata": {
        "colab": {
          "base_uri": "https://localhost:8080/"
        },
        "id": "7RKWsMHi3oZ1",
        "outputId": "f5b140ab-8cc8-4858-8dc8-33c80f170aaf"
      },
      "execution_count": null,
      "outputs": [
        {
          "output_type": "execute_result",
          "data": {
            "text/plain": [
              "[5, 10, 15]"
            ]
          },
          "metadata": {},
          "execution_count": 68
        }
      ]
    },
    {
      "cell_type": "code",
      "source": [
        "l_val2[: ]"
      ],
      "metadata": {
        "colab": {
          "base_uri": "https://localhost:8080/"
        },
        "id": "sAsJrts53rMM",
        "outputId": "bbbb4eff-4c0d-490d-8ebd-3c4e838fce01"
      },
      "execution_count": null,
      "outputs": [
        {
          "output_type": "execute_result",
          "data": {
            "text/plain": [
              "[5, 10, 15, 20, 25, 30]"
            ]
          },
          "metadata": {},
          "execution_count": 69
        }
      ]
    },
    {
      "cell_type": "code",
      "source": [
        "l_val2[::-1]"
      ],
      "metadata": {
        "colab": {
          "base_uri": "https://localhost:8080/"
        },
        "id": "n8AH_Jyd3ut1",
        "outputId": "7a49b7a0-fec4-45d7-9b6c-a9037c7993f6"
      },
      "execution_count": null,
      "outputs": [
        {
          "output_type": "execute_result",
          "data": {
            "text/plain": [
              "[30, 25, 20, 15, 10, 5]"
            ]
          },
          "metadata": {},
          "execution_count": 70
        }
      ]
    },
    {
      "cell_type": "code",
      "source": [
        "l_val2[-1:-3:-1]"
      ],
      "metadata": {
        "colab": {
          "base_uri": "https://localhost:8080/"
        },
        "id": "7qUIXbaH6gkL",
        "outputId": "385e081c-b8e9-463a-9ed2-f33076abd606"
      },
      "execution_count": null,
      "outputs": [
        {
          "output_type": "execute_result",
          "data": {
            "text/plain": [
              "[30, 25]"
            ]
          },
          "metadata": {},
          "execution_count": 71
        }
      ]
    },
    {
      "cell_type": "markdown",
      "source": [
        "list는 다양한 타입을 함께 포함할 수 있다."
      ],
      "metadata": {
        "id": "s-Ls4Qxi693g"
      }
    },
    {
      "cell_type": "code",
      "source": [
        "l_val3 = [10,'python', 80.5, True]\n",
        "l_val3"
      ],
      "metadata": {
        "colab": {
          "base_uri": "https://localhost:8080/"
        },
        "id": "dsHm0dHl6m3Q",
        "outputId": "2be94f2b-5db4-4131-aedf-2965f35bed96"
      },
      "execution_count": null,
      "outputs": [
        {
          "output_type": "execute_result",
          "data": {
            "text/plain": [
              "[10, 'python', 80.5, True]"
            ]
          },
          "metadata": {},
          "execution_count": 73
        }
      ]
    },
    {
      "cell_type": "code",
      "source": [
        "l_val3=[[10,20],(1,2,3), {100,200}] #배열 안에 배열, tuple, \n",
        "l_val3"
      ],
      "metadata": {
        "colab": {
          "base_uri": "https://localhost:8080/"
        },
        "id": "3ANNh2Te7McA",
        "outputId": "728a3db8-2f64-45e4-9f29-a3b6e7943759"
      },
      "execution_count": null,
      "outputs": [
        {
          "output_type": "execute_result",
          "data": {
            "text/plain": [
              "[[10, 20], (1, 2, 3), {100, 200}]"
            ]
          },
          "metadata": {},
          "execution_count": 74
        }
      ]
    },
    {
      "cell_type": "markdown",
      "source": [
        "list는 (+)연산자를 사용해 연결 할 수 있다."
      ],
      "metadata": {
        "id": "cs7ikBYc7omW"
      }
    },
    {
      "cell_type": "code",
      "source": [
        "l_val4=[1,2]\n",
        "l_val4 + l_val4"
      ],
      "metadata": {
        "colab": {
          "base_uri": "https://localhost:8080/"
        },
        "id": "Qg-hT5pm7b-2",
        "outputId": "31fd495b-f57a-47bc-f3ed-e15b17bf88cd"
      },
      "execution_count": null,
      "outputs": [
        {
          "output_type": "execute_result",
          "data": {
            "text/plain": [
              "[1, 2, 1, 2]"
            ]
          },
          "metadata": {},
          "execution_count": 75
        }
      ]
    },
    {
      "cell_type": "code",
      "source": [
        "#l_val4 + 3"
      ],
      "metadata": {
        "colab": {
          "base_uri": "https://localhost:8080/",
          "height": 176
        },
        "id": "8On4wRDn73JQ",
        "outputId": "2e6a7069-8bd4-4eeb-893c-f40d517df304"
      },
      "execution_count": null,
      "outputs": [
        {
          "output_type": "error",
          "ename": "TypeError",
          "evalue": "ignored",
          "traceback": [
            "\u001b[0;31m---------------------------------------------------------------------------\u001b[0m",
            "\u001b[0;31mTypeError\u001b[0m                                 Traceback (most recent call last)",
            "\u001b[0;32m<ipython-input-76-6d925cf7cbbb>\u001b[0m in \u001b[0;36m<module>\u001b[0;34m\u001b[0m\n\u001b[0;32m----> 1\u001b[0;31m \u001b[0ml_val4\u001b[0m \u001b[0;34m+\u001b[0m \u001b[0;36m3\u001b[0m\u001b[0;34m\u001b[0m\u001b[0;34m\u001b[0m\u001b[0m\n\u001b[0m",
            "\u001b[0;31mTypeError\u001b[0m: can only concatenate list (not \"int\") to list"
          ]
        }
      ]
    },
    {
      "cell_type": "markdown",
      "source": [
        "list는 (*)연산자를 사용해 반복하기를 할 수 있다."
      ],
      "metadata": {
        "id": "FLaBx5wi8W_W"
      }
    },
    {
      "cell_type": "code",
      "source": [
        "l_val4 * 3 "
      ],
      "metadata": {
        "colab": {
          "base_uri": "https://localhost:8080/"
        },
        "id": "naPLHLOK8DVD",
        "outputId": "acc46c96-fe50-4408-c349-26e479d7f641"
      },
      "execution_count": null,
      "outputs": [
        {
          "output_type": "execute_result",
          "data": {
            "text/plain": [
              "[1, 2, 1, 2, 1, 2]"
            ]
          },
          "metadata": {},
          "execution_count": 77
        }
      ]
    },
    {
      "cell_type": "markdown",
      "source": [
        "list에 특정값이 있는지 멤버 검사를 할 수 있다."
      ],
      "metadata": {
        "id": "Jzzo6ckA9Jf7"
      }
    },
    {
      "cell_type": "code",
      "source": [
        "2 in l_val4"
      ],
      "metadata": {
        "colab": {
          "base_uri": "https://localhost:8080/"
        },
        "id": "O1VAsbDc8vVr",
        "outputId": "c0e9e518-cedc-461a-e12e-2d4c978c00cb"
      },
      "execution_count": null,
      "outputs": [
        {
          "output_type": "execute_result",
          "data": {
            "text/plain": [
              "True"
            ]
          },
          "metadata": {},
          "execution_count": 78
        }
      ]
    },
    {
      "cell_type": "code",
      "source": [
        "5 in l_val4"
      ],
      "metadata": {
        "colab": {
          "base_uri": "https://localhost:8080/"
        },
        "id": "dmf85YX49UrQ",
        "outputId": "4be8a3ab-3c5e-471e-9a5b-501d644ae351"
      },
      "execution_count": null,
      "outputs": [
        {
          "output_type": "execute_result",
          "data": {
            "text/plain": [
              "False"
            ]
          },
          "metadata": {},
          "execution_count": 79
        }
      ]
    },
    {
      "cell_type": "markdown",
      "source": [
        "list는 mutable이므로 요소들을 변경할 수 있다."
      ],
      "metadata": {
        "id": "j2v1GK1Y9Wb6"
      }
    },
    {
      "cell_type": "code",
      "source": [
        "l_val5 = ['apple','banana', 100, 200]\n",
        "l_val5[0:2] = [1,2]  #0에서 2미만에 있는 값을 1,2로 변경해라\n",
        "l_val5"
      ],
      "metadata": {
        "colab": {
          "base_uri": "https://localhost:8080/"
        },
        "id": "IFeCcmvm9oer",
        "outputId": "c9f6d458-b3e1-4399-bdc5-011dae166e54"
      },
      "execution_count": null,
      "outputs": [
        {
          "output_type": "execute_result",
          "data": {
            "text/plain": [
              "[1, 2, 100, 200]"
            ]
          },
          "metadata": {},
          "execution_count": 87
        }
      ]
    },
    {
      "cell_type": "code",
      "source": [
        "l_val5[0:2] = [50] #크기가 달라도 가능\n",
        "l_val5 #0에서 2미만 사이의 값을 모두 50으로 바꿔라(1,2가 50 하나로 바뀌므로 리스트의 크기가 바뀜)"
      ],
      "metadata": {
        "colab": {
          "base_uri": "https://localhost:8080/"
        },
        "id": "owJJWJjJ-CU6",
        "outputId": "33c4bffa-d9c0-4871-84a2-4e2d8f5ceb67"
      },
      "execution_count": null,
      "outputs": [
        {
          "output_type": "execute_result",
          "data": {
            "text/plain": [
              "[50, 100, 200]"
            ]
          },
          "metadata": {},
          "execution_count": 88
        }
      ]
    },
    {
      "cell_type": "markdown",
      "source": [
        "list의 일부 요소를 삭제할 수 있다."
      ],
      "metadata": {
        "id": "1qwhVL0m-eF_"
      }
    },
    {
      "cell_type": "code",
      "source": [
        "l_val6 = ['apple','banana', 100, 200]\n",
        "l_val6[0:2] = []  #요소 2개를 삭제한다\n",
        "l_val6"
      ],
      "metadata": {
        "colab": {
          "base_uri": "https://localhost:8080/"
        },
        "id": "zwOZKQth-FP9",
        "outputId": "e409567b-3d71-43b3-ff1e-0a58f31a3e86"
      },
      "execution_count": null,
      "outputs": [
        {
          "output_type": "execute_result",
          "data": {
            "text/plain": [
              "[100, 200]"
            ]
          },
          "metadata": {},
          "execution_count": 90
        }
      ]
    },
    {
      "cell_type": "code",
      "source": [
        "l_val6 = ['apple','banana', 100, 200]\n",
        "del l_val6[0:2]  #del문을 이용해서 요소를 삭제할 수 있다.\n",
        "l_val6"
      ],
      "metadata": {
        "colab": {
          "base_uri": "https://localhost:8080/"
        },
        "id": "b2gYKK4w-pWY",
        "outputId": "a1bbda47-0000-49c4-8e13-7fbe2aecac78"
      },
      "execution_count": null,
      "outputs": [
        {
          "output_type": "execute_result",
          "data": {
            "text/plain": [
              "[100, 200]"
            ]
          },
          "metadata": {},
          "execution_count": 92
        }
      ]
    },
    {
      "cell_type": "markdown",
      "source": [
        "list에 요소를 추가 할 수 있다."
      ],
      "metadata": {
        "id": "c3ujiLjk_D65"
      }
    },
    {
      "cell_type": "code",
      "source": [
        "l_val7 = [3,6,9]\n",
        "l_val7"
      ],
      "metadata": {
        "colab": {
          "base_uri": "https://localhost:8080/"
        },
        "id": "ksUNWr8E-18s",
        "outputId": "b7b3ad78-0786-4529-806b-0db30db99490"
      },
      "execution_count": null,
      "outputs": [
        {
          "output_type": "execute_result",
          "data": {
            "text/plain": [
              "[3, 6, 9]"
            ]
          },
          "metadata": {},
          "execution_count": 98
        }
      ]
    },
    {
      "cell_type": "code",
      "source": [
        "l_val7[1:1] = ['red','green']  #슬라이싱 : 1인덱스에 크기가 달라도 2개값이 다 들어감.\n",
        "l_val7"
      ],
      "metadata": {
        "colab": {
          "base_uri": "https://localhost:8080/"
        },
        "id": "rjFOuIpP_MTL",
        "outputId": "499c317c-0335-4069-a99c-03948c671968"
      },
      "execution_count": null,
      "outputs": [
        {
          "output_type": "execute_result",
          "data": {
            "text/plain": [
              "[3, 'red', 'green', 6, 9]"
            ]
          },
          "metadata": {},
          "execution_count": 99
        }
      ]
    },
    {
      "cell_type": "code",
      "source": [
        "l_val7 = [3,6,9]\n",
        "l_val7"
      ],
      "metadata": {
        "colab": {
          "base_uri": "https://localhost:8080/"
        },
        "id": "Gwy52Pwh_5qi",
        "outputId": "fa79ce6c-e454-443a-e65a-5d8e6e18812d"
      },
      "execution_count": null,
      "outputs": [
        {
          "output_type": "execute_result",
          "data": {
            "text/plain": [
              "[3, 6, 9]"
            ]
          },
          "metadata": {},
          "execution_count": 101
        }
      ]
    },
    {
      "cell_type": "code",
      "source": [
        "l_val7[1] = ['red','green']  #인덱싱 : 1인덱스에 2개가 들어가므로 3인덱스 값이 지워짐\n",
        "l_val7"
      ],
      "metadata": {
        "colab": {
          "base_uri": "https://localhost:8080/"
        },
        "id": "ps551sIz_8cf",
        "outputId": "2e874e8b-77e8-41eb-9476-3e8f650fcdff"
      },
      "execution_count": null,
      "outputs": [
        {
          "output_type": "execute_result",
          "data": {
            "text/plain": [
              "[3, ['red', 'green'], 9]"
            ]
          },
          "metadata": {},
          "execution_count": 102
        }
      ]
    },
    {
      "cell_type": "markdown",
      "source": [
        "list에서 확장슬라이싱을 사용할 때는 왼쪽과 오른쪽 요소 개수가 같아야 한다."
      ],
      "metadata": {
        "id": "kweQTj5RA_a_"
      }
    },
    {
      "cell_type": "code",
      "source": [
        "l_val8 = [2,4,6,8]\n",
        "l_val8"
      ],
      "metadata": {
        "colab": {
          "base_uri": "https://localhost:8080/"
        },
        "id": "VAxPr40MAAId",
        "outputId": "efa31546-a795-4a45-9cf3-2e5b32270ee5"
      },
      "execution_count": null,
      "outputs": [
        {
          "output_type": "execute_result",
          "data": {
            "text/plain": [
              "[2, 4, 6, 8]"
            ]
          },
          "metadata": {},
          "execution_count": 105
        }
      ]
    },
    {
      "cell_type": "code",
      "source": [
        "l_val8[::1]=[-1,-2,-3,-4] \n",
        "l_val8"
      ],
      "metadata": {
        "colab": {
          "base_uri": "https://localhost:8080/"
        },
        "id": "IQmpUQwXBLz8",
        "outputId": "e008327f-a627-4251-d0df-f8ae26ceee0f"
      },
      "execution_count": null,
      "outputs": [
        {
          "output_type": "execute_result",
          "data": {
            "text/plain": [
              "[-1, -2, -3, -4]"
            ]
          },
          "metadata": {},
          "execution_count": 106
        }
      ]
    },
    {
      "cell_type": "code",
      "source": [
        "l_val8 = [2,4,6,8]\n",
        "l_val8"
      ],
      "metadata": {
        "colab": {
          "base_uri": "https://localhost:8080/"
        },
        "id": "j3Y6b3N4BYgu",
        "outputId": "b668ff85-6fa2-4a52-ba4e-d6adccb26ffb"
      },
      "execution_count": null,
      "outputs": [
        {
          "output_type": "execute_result",
          "data": {
            "text/plain": [
              "[2, 4, 6, 8]"
            ]
          },
          "metadata": {},
          "execution_count": 109
        }
      ]
    },
    {
      "cell_type": "code",
      "source": [
        "# 왼쪽의 개수와 오른쪽의 개수가 다르므로 오류 발생\n",
        "# 왼쪽의 l_val8[::2]결과는 [2,6] 2개의 요소이고 오른쪽은 4개의 요소이다.\n",
        "#l_val8[::2]=[-1,-2,-3,-4] #2와 6만 가져오므로 size가 안맞음\n",
        "#l_val8"
      ],
      "metadata": {
        "colab": {
          "base_uri": "https://localhost:8080/",
          "height": 194
        },
        "id": "iKhUb8WZBhP5",
        "outputId": "9f0e1b44-4362-45d2-f26c-bd7d25138ea0"
      },
      "execution_count": null,
      "outputs": [
        {
          "output_type": "error",
          "ename": "ValueError",
          "evalue": "ignored",
          "traceback": [
            "\u001b[0;31m---------------------------------------------------------------------------\u001b[0m",
            "\u001b[0;31mValueError\u001b[0m                                Traceback (most recent call last)",
            "\u001b[0;32m<ipython-input-108-06600e9d4ed9>\u001b[0m in \u001b[0;36m<module>\u001b[0;34m\u001b[0m\n\u001b[0;32m----> 1\u001b[0;31m \u001b[0ml_val8\u001b[0m\u001b[0;34m[\u001b[0m\u001b[0;34m:\u001b[0m\u001b[0;34m:\u001b[0m\u001b[0;36m2\u001b[0m\u001b[0;34m]\u001b[0m\u001b[0;34m=\u001b[0m\u001b[0;34m[\u001b[0m\u001b[0;34m-\u001b[0m\u001b[0;36m1\u001b[0m\u001b[0;34m,\u001b[0m\u001b[0;34m-\u001b[0m\u001b[0;36m2\u001b[0m\u001b[0;34m,\u001b[0m\u001b[0;34m-\u001b[0m\u001b[0;36m3\u001b[0m\u001b[0;34m,\u001b[0m\u001b[0;34m-\u001b[0m\u001b[0;36m4\u001b[0m\u001b[0;34m]\u001b[0m\u001b[0;34m\u001b[0m\u001b[0;34m\u001b[0m\u001b[0m\n\u001b[0m\u001b[1;32m      2\u001b[0m \u001b[0ml_val8\u001b[0m\u001b[0;34m\u001b[0m\u001b[0;34m\u001b[0m\u001b[0m\n",
            "\u001b[0;31mValueError\u001b[0m: attempt to assign sequence of size 4 to extended slice of size 2"
          ]
        }
      ]
    },
    {
      "cell_type": "code",
      "source": [
        "l_val8[::2]=[-1,-2]  #0번째 인덱스와 2번째 인덱스에 교체\n",
        "l_val8"
      ],
      "metadata": {
        "colab": {
          "base_uri": "https://localhost:8080/"
        },
        "id": "a9TvXZtPBj1H",
        "outputId": "1947ca77-26f1-4e19-ff37-f1b8426ff7c9"
      },
      "execution_count": null,
      "outputs": [
        {
          "output_type": "execute_result",
          "data": {
            "text/plain": [
              "[-1, 4, -2, 8]"
            ]
          },
          "metadata": {},
          "execution_count": 110
        }
      ]
    },
    {
      "cell_type": "markdown",
      "source": [
        "list는 변수에서 데이터를 각각 꺼내 오는 언패킹(unpacking) 지원을 한다."
      ],
      "metadata": {
        "id": "hhjTeg7ICh6B"
      }
    },
    {
      "cell_type": "code",
      "source": [
        "l_val9=['foo', 'bar',4,5]\n",
        "l_val9"
      ],
      "metadata": {
        "colab": {
          "base_uri": "https://localhost:8080/"
        },
        "id": "M4B9So3GCt5t",
        "outputId": "2133a5df-19b2-4c93-8fb6-b5005edf53c4"
      },
      "execution_count": null,
      "outputs": [
        {
          "output_type": "execute_result",
          "data": {
            "text/plain": [
              "['foo', 'bar', 4, 5]"
            ]
          },
          "metadata": {},
          "execution_count": 113
        }
      ]
    },
    {
      "cell_type": "code",
      "source": [
        "x,y,z,w = l_val9\n",
        "print(x,y,z,w)"
      ],
      "metadata": {
        "colab": {
          "base_uri": "https://localhost:8080/"
        },
        "id": "_uFdRVutC87p",
        "outputId": "4f8cd8b3-1fe4-4c48-c9a4-2ebb53176a74"
      },
      "execution_count": null,
      "outputs": [
        {
          "output_type": "stream",
          "name": "stdout",
          "text": [
            "foo bar 4 5\n"
          ]
        }
      ]
    },
    {
      "cell_type": "code",
      "source": [
        "x,y,_,_= l_val9  #l_val9는 4개인데 2개만 꺼내올 수 없음/ 빈 자리도 채워줘야함\n",
        "print(x,y)"
      ],
      "metadata": {
        "colab": {
          "base_uri": "https://localhost:8080/"
        },
        "id": "q83kgyEPDIC6",
        "outputId": "f4b8eeaa-ce7a-469b-c519-de3ab816cc9b"
      },
      "execution_count": null,
      "outputs": [
        {
          "output_type": "stream",
          "name": "stdout",
          "text": [
            "foo bar\n"
          ]
        }
      ]
    },
    {
      "cell_type": "code",
      "source": [
        "x,y,*z= l_val9 #x,y외에 나머지 모두를 *z로 가져와라\n",
        "print(x,y,z)"
      ],
      "metadata": {
        "colab": {
          "base_uri": "https://localhost:8080/"
        },
        "id": "BXZkFbgADlK6",
        "outputId": "e3633d69-ac90-41ed-ccac-3845b5f2daf4"
      },
      "execution_count": null,
      "outputs": [
        {
          "output_type": "stream",
          "name": "stdout",
          "text": [
            "foo bar [4, 5]\n"
          ]
        }
      ]
    },
    {
      "cell_type": "code",
      "source": [
        "x,*y,z= l_val9 #앞의 x와 뒤의 z외에 나머지를 *y로 가져와라\n",
        "print(x,y,z)"
      ],
      "metadata": {
        "colab": {
          "base_uri": "https://localhost:8080/"
        },
        "id": "bpmoDxR4EBnJ",
        "outputId": "e480919d-7218-4eb3-e119-3a1f4cb8b9ba"
      },
      "execution_count": null,
      "outputs": [
        {
          "output_type": "stream",
          "name": "stdout",
          "text": [
            "foo ['bar', 4] 5\n"
          ]
        }
      ]
    },
    {
      "cell_type": "code",
      "source": [
        "print(dir(l_val9))"
      ],
      "metadata": {
        "colab": {
          "base_uri": "https://localhost:8080/"
        },
        "id": "j1aqZakfEb-q",
        "outputId": "76ecaae2-5297-4cec-ded3-29fcfb4b345b"
      },
      "execution_count": null,
      "outputs": [
        {
          "output_type": "stream",
          "name": "stdout",
          "text": [
            "['__add__', '__class__', '__contains__', '__delattr__', '__delitem__', '__dir__', '__doc__', '__eq__', '__format__', '__ge__', '__getattribute__', '__getitem__', '__gt__', '__hash__', '__iadd__', '__imul__', '__init__', '__init_subclass__', '__iter__', '__le__', '__len__', '__lt__', '__mul__', '__ne__', '__new__', '__reduce__', '__reduce_ex__', '__repr__', '__reversed__', '__rmul__', '__setattr__', '__setitem__', '__sizeof__', '__str__', '__subclasshook__', 'append', 'clear', 'copy', 'count', 'extend', 'index', 'insert', 'pop', 'remove', 'reverse', 'sort']\n"
          ]
        }
      ]
    },
    {
      "cell_type": "markdown",
      "source": [
        "### Tuple(튜플)\n",
        "- 변경이 불가능(immutable)한 순서(sequence)가 있는 자료형이다.\n",
        "- 튜플은 ()소괄호로 표현한다. "
      ],
      "metadata": {
        "id": "aqsa2aoaE9mJ"
      }
    },
    {
      "cell_type": "code",
      "source": [
        "t=()\n",
        "t"
      ],
      "metadata": {
        "colab": {
          "base_uri": "https://localhost:8080/"
        },
        "id": "Gp0j1sdfE1P7",
        "outputId": "cf0d2b55-b0b5-45b1-a948-565f69595e5e"
      },
      "execution_count": null,
      "outputs": [
        {
          "output_type": "execute_result",
          "data": {
            "text/plain": [
              "()"
            ]
          },
          "metadata": {},
          "execution_count": 121
        }
      ]
    },
    {
      "cell_type": "markdown",
      "source": [
        "tuple은 값 사이에 콤마(,)를 구분하여 사용한다."
      ],
      "metadata": {
        "id": "ZavWD_WqPivQ"
      }
    },
    {
      "cell_type": "code",
      "source": [
        "t_val=(10,20,30)\n",
        "t_val"
      ],
      "metadata": {
        "colab": {
          "base_uri": "https://localhost:8080/"
        },
        "id": "tA2K6NZ1FO89",
        "outputId": "bd1c09da-1497-445c-cb28-a16280d6383b"
      },
      "execution_count": null,
      "outputs": [
        {
          "output_type": "execute_result",
          "data": {
            "text/plain": [
              "(10, 20, 30)"
            ]
          },
          "metadata": {},
          "execution_count": 123
        }
      ]
    },
    {
      "cell_type": "code",
      "source": [
        "t_val = 40, 50, 60 #tuple은 소괄호 생략해서도 표현 가능\n",
        "t_val"
      ],
      "metadata": {
        "colab": {
          "base_uri": "https://localhost:8080/"
        },
        "id": "KHgQdJAlPdyV",
        "outputId": "31b26342-ec56-4c1b-ed49-b46ab81c52fe"
      },
      "execution_count": null,
      "outputs": [
        {
          "output_type": "execute_result",
          "data": {
            "text/plain": [
              "(40, 50, 60)"
            ]
          },
          "metadata": {},
          "execution_count": 125
        }
      ]
    },
    {
      "cell_type": "code",
      "source": [
        "t_val2 = (1)\n",
        "print(t_val2)\n",
        "print(type(t_val2))"
      ],
      "metadata": {
        "colab": {
          "base_uri": "https://localhost:8080/"
        },
        "id": "FUF7bsuSPwjN",
        "outputId": "2e3874d5-cc18-485c-a605-81fcff9014fd"
      },
      "execution_count": null,
      "outputs": [
        {
          "output_type": "stream",
          "name": "stdout",
          "text": [
            "1\n",
            "<class 'int'>\n"
          ]
        }
      ]
    },
    {
      "cell_type": "code",
      "source": [
        "# 요소가 한 개일 때는 반드시 쉼표(,)가 있어야 한다\n",
        "# 괄호는 생략할 수 있지만 쉼표(,)는 있어야 한다.\n",
        "t_val2 = (1,)\n",
        "print(t_val2)\n",
        "print(type(t_val2))"
      ],
      "metadata": {
        "colab": {
          "base_uri": "https://localhost:8080/"
        },
        "id": "0RtEZ-avQKIx",
        "outputId": "ad377eb0-b21d-4bef-df77-f621922bfdd5"
      },
      "execution_count": null,
      "outputs": [
        {
          "output_type": "stream",
          "name": "stdout",
          "text": [
            "(1,)\n",
            "<class 'tuple'>\n"
          ]
        }
      ]
    },
    {
      "cell_type": "code",
      "source": [
        "a = [1,2,]\n",
        "a"
      ],
      "metadata": {
        "colab": {
          "base_uri": "https://localhost:8080/"
        },
        "id": "Ys7QtYhPQQfP",
        "outputId": "8aa9df86-01e4-4421-dfe9-e0e5e31340bb"
      },
      "execution_count": null,
      "outputs": [
        {
          "output_type": "execute_result",
          "data": {
            "text/plain": [
              "[1, 2]"
            ]
          },
          "metadata": {},
          "execution_count": 128
        }
      ]
    },
    {
      "cell_type": "markdown",
      "source": [
        "tuple은 immutable이므로 한 번 생성되면 요소를 변경할 수 없다."
      ],
      "metadata": {
        "id": "1-becpwfREqm"
      }
    },
    {
      "cell_type": "code",
      "source": [
        "t_val3 = (1,2,3)\n",
        "t_val3"
      ],
      "metadata": {
        "colab": {
          "base_uri": "https://localhost:8080/"
        },
        "id": "NGQSEoNkQUio",
        "outputId": "9c3c1415-edc1-47c2-d5a4-0822fa319e30"
      },
      "execution_count": null,
      "outputs": [
        {
          "output_type": "execute_result",
          "data": {
            "text/plain": [
              "(1, 2, 3)"
            ]
          },
          "metadata": {},
          "execution_count": 129
        }
      ]
    },
    {
      "cell_type": "code",
      "source": [
        "#t_val3[0] = 100 \n",
        "#t_val3"
      ],
      "metadata": {
        "colab": {
          "base_uri": "https://localhost:8080/",
          "height": 194
        },
        "id": "8-rfh88ZQ48B",
        "outputId": "1531620e-c926-4e48-acd8-4866557a9480"
      },
      "execution_count": null,
      "outputs": [
        {
          "output_type": "error",
          "ename": "TypeError",
          "evalue": "ignored",
          "traceback": [
            "\u001b[0;31m---------------------------------------------------------------------------\u001b[0m",
            "\u001b[0;31mTypeError\u001b[0m                                 Traceback (most recent call last)",
            "\u001b[0;32m<ipython-input-130-76991e44fb02>\u001b[0m in \u001b[0;36m<module>\u001b[0;34m\u001b[0m\n\u001b[0;32m----> 1\u001b[0;31m \u001b[0mt_val3\u001b[0m\u001b[0;34m[\u001b[0m\u001b[0;36m0\u001b[0m\u001b[0;34m]\u001b[0m \u001b[0;34m=\u001b[0m \u001b[0;36m100\u001b[0m\u001b[0;34m\u001b[0m\u001b[0;34m\u001b[0m\u001b[0m\n\u001b[0m\u001b[1;32m      2\u001b[0m \u001b[0mt_val3\u001b[0m\u001b[0;34m\u001b[0m\u001b[0;34m\u001b[0m\u001b[0m\n",
            "\u001b[0;31mTypeError\u001b[0m: 'tuple' object does not support item assignment"
          ]
        }
      ]
    },
    {
      "cell_type": "markdown",
      "source": [
        "tuple은 다양한 타입을 함께 포함할 수 있다."
      ],
      "metadata": {
        "id": "62WxaENKRb8-"
      }
    },
    {
      "cell_type": "code",
      "source": [
        "t_val4 = (10, 'python', 80.5, True)\n",
        "t_val4"
      ],
      "metadata": {
        "colab": {
          "base_uri": "https://localhost:8080/"
        },
        "id": "KJDTf5UvQ_7K",
        "outputId": "f437adf2-6c66-447b-e248-460d8aed9fb7"
      },
      "execution_count": null,
      "outputs": [
        {
          "output_type": "execute_result",
          "data": {
            "text/plain": [
              "(10, 'python', 80.5, True)"
            ]
          },
          "metadata": {},
          "execution_count": 131
        }
      ]
    },
    {
      "cell_type": "markdown",
      "source": [
        "tuple은 인덱싱, 슬라이싱으로 각 요소에 접근할 수 있다."
      ],
      "metadata": {
        "id": "Uj5zmhciRlSe"
      }
    },
    {
      "cell_type": "code",
      "source": [
        "t_val5 = (5, 10, 15, 20, 25, 30)\n",
        "t_val5"
      ],
      "metadata": {
        "colab": {
          "base_uri": "https://localhost:8080/"
        },
        "id": "FbvEBUtkRwbo",
        "outputId": "b736f2da-8062-4da5-f688-c34671e8b221"
      },
      "execution_count": null,
      "outputs": [
        {
          "output_type": "execute_result",
          "data": {
            "text/plain": [
              "(5, 10, 15, 20, 25, 30)"
            ]
          },
          "metadata": {},
          "execution_count": 132
        }
      ]
    },
    {
      "cell_type": "code",
      "source": [
        "t_val5[3]  #인덱싱 : 특정 인덱스값에 접근"
      ],
      "metadata": {
        "colab": {
          "base_uri": "https://localhost:8080/"
        },
        "id": "wu7PwYRoR11K",
        "outputId": "28f6ae0e-ccfc-4d6c-9bf8-eed26379855b"
      },
      "execution_count": null,
      "outputs": [
        {
          "output_type": "execute_result",
          "data": {
            "text/plain": [
              "20"
            ]
          },
          "metadata": {},
          "execution_count": 133
        }
      ]
    },
    {
      "cell_type": "code",
      "source": [
        "t_val5[-1]  #인덱싱"
      ],
      "metadata": {
        "colab": {
          "base_uri": "https://localhost:8080/"
        },
        "id": "JT3mz9UHR6d-",
        "outputId": "1656b74b-0ce4-49ee-aaf8-c4dff4a48389"
      },
      "execution_count": null,
      "outputs": [
        {
          "output_type": "execute_result",
          "data": {
            "text/plain": [
              "30"
            ]
          },
          "metadata": {},
          "execution_count": 134
        }
      ]
    },
    {
      "cell_type": "code",
      "source": [
        "t_val5[0:2]  #슬라이싱"
      ],
      "metadata": {
        "colab": {
          "base_uri": "https://localhost:8080/"
        },
        "id": "NWtMcV8GR-kl",
        "outputId": "820ec7bc-2965-432a-e4d7-fdd8a4d13b4e"
      },
      "execution_count": null,
      "outputs": [
        {
          "output_type": "execute_result",
          "data": {
            "text/plain": [
              "(5, 10)"
            ]
          },
          "metadata": {},
          "execution_count": 135
        }
      ]
    },
    {
      "cell_type": "code",
      "source": [
        "t_val5[::2] #확장 슬라이싱 : 스텝 지정할 수 있음"
      ],
      "metadata": {
        "colab": {
          "base_uri": "https://localhost:8080/"
        },
        "id": "4xyo1B3SSGHJ",
        "outputId": "15a819bd-6317-4707-c8af-6b9f5d75b1e7"
      },
      "execution_count": null,
      "outputs": [
        {
          "output_type": "execute_result",
          "data": {
            "text/plain": [
              "(5, 15, 25)"
            ]
          },
          "metadata": {},
          "execution_count": 136
        }
      ]
    },
    {
      "cell_type": "markdown",
      "source": [
        "tuple은 (+)연산자를 사용하여 연결하기를 할 수 있다."
      ],
      "metadata": {
        "id": "1dR-_ksuSh4G"
      }
    },
    {
      "cell_type": "code",
      "source": [
        "t_val5 + t_val5"
      ],
      "metadata": {
        "colab": {
          "base_uri": "https://localhost:8080/"
        },
        "id": "chcxAgeNSN9W",
        "outputId": "eebd4e78-9b15-4b64-880e-b2315cb46bbc"
      },
      "execution_count": null,
      "outputs": [
        {
          "output_type": "execute_result",
          "data": {
            "text/plain": [
              "(5, 10, 15, 20, 25, 30, 5, 10, 15, 20, 25, 30)"
            ]
          },
          "metadata": {},
          "execution_count": 137
        }
      ]
    },
    {
      "cell_type": "code",
      "source": [
        "# t_val5+ [1,2,3]  #(+)는 tuple끼리만 사용할 수 있다"
      ],
      "metadata": {
        "colab": {
          "base_uri": "https://localhost:8080/",
          "height": 176
        },
        "id": "enKqS493Sr3d",
        "outputId": "fad9f4c5-bbae-40b2-8056-43c32491fee8"
      },
      "execution_count": null,
      "outputs": [
        {
          "output_type": "error",
          "ename": "TypeError",
          "evalue": "ignored",
          "traceback": [
            "\u001b[0;31m---------------------------------------------------------------------------\u001b[0m",
            "\u001b[0;31mTypeError\u001b[0m                                 Traceback (most recent call last)",
            "\u001b[0;32m<ipython-input-138-9b0b758718b6>\u001b[0m in \u001b[0;36m<module>\u001b[0;34m\u001b[0m\n\u001b[0;32m----> 1\u001b[0;31m \u001b[0mt_val5\u001b[0m\u001b[0;34m+\u001b[0m \u001b[0;34m[\u001b[0m\u001b[0;36m1\u001b[0m\u001b[0;34m,\u001b[0m\u001b[0;36m2\u001b[0m\u001b[0;34m,\u001b[0m\u001b[0;36m3\u001b[0m\u001b[0;34m]\u001b[0m\u001b[0;34m\u001b[0m\u001b[0;34m\u001b[0m\u001b[0m\n\u001b[0m",
            "\u001b[0;31mTypeError\u001b[0m: can only concatenate tuple (not \"list\") to tuple"
          ]
        }
      ]
    },
    {
      "cell_type": "markdown",
      "source": [
        "tuple은 (*)연산자를 사용하여 반복하기를 할 수 있다."
      ],
      "metadata": {
        "id": "8gIXfXutS1Mz"
      }
    },
    {
      "cell_type": "code",
      "source": [
        "t_val5 * 3 # 반복하기(*)는 성수값만 가능"
      ],
      "metadata": {
        "colab": {
          "base_uri": "https://localhost:8080/"
        },
        "id": "eP8ehlxGTCdb",
        "outputId": "026d95ed-a6b0-4cc4-b35b-0f7a2952a52f"
      },
      "execution_count": null,
      "outputs": [
        {
          "output_type": "execute_result",
          "data": {
            "text/plain": [
              "(5, 10, 15, 20, 25, 30, 5, 10, 15, 20, 25, 30, 5, 10, 15, 20, 25, 30)"
            ]
          },
          "metadata": {},
          "execution_count": 139
        }
      ]
    },
    {
      "cell_type": "markdown",
      "source": [
        "tuple은 in 연산자를 사용하여 멤버검사를 할 수 있다."
      ],
      "metadata": {
        "id": "7isGTbOGTNN5"
      }
    },
    {
      "cell_type": "code",
      "source": [
        "5 in t_val5  #멤버검사"
      ],
      "metadata": {
        "colab": {
          "base_uri": "https://localhost:8080/"
        },
        "id": "uFFEHORkTEUL",
        "outputId": "eaa06f3e-8d36-429e-df7b-4e21c115ac49"
      },
      "execution_count": null,
      "outputs": [
        {
          "output_type": "execute_result",
          "data": {
            "text/plain": [
              "True"
            ]
          },
          "metadata": {},
          "execution_count": 140
        }
      ]
    },
    {
      "cell_type": "code",
      "source": [
        "8 in t_val5  #멤버검사"
      ],
      "metadata": {
        "colab": {
          "base_uri": "https://localhost:8080/"
        },
        "id": "avIJVCtoTWKM",
        "outputId": "28495ade-00d7-49e2-80ba-25908c5ab076"
      },
      "execution_count": null,
      "outputs": [
        {
          "output_type": "execute_result",
          "data": {
            "text/plain": [
              "False"
            ]
          },
          "metadata": {},
          "execution_count": 141
        }
      ]
    },
    {
      "cell_type": "markdown",
      "source": [
        "tuple은 검색에 관련된 count(), index()메서드 2개를 제공한다."
      ],
      "metadata": {
        "id": "cu26cmo-TzVi"
      }
    },
    {
      "cell_type": "code",
      "source": [
        "t_val6 = (1,2,3,2,2,3)\n",
        "t_val6"
      ],
      "metadata": {
        "colab": {
          "base_uri": "https://localhost:8080/"
        },
        "id": "II_zh5TUTZYk",
        "outputId": "7dcaba05-c294-4031-cc92-3acbf0d6f9d2"
      },
      "execution_count": null,
      "outputs": [
        {
          "output_type": "execute_result",
          "data": {
            "text/plain": [
              "(1, 2, 3, 2, 2, 3)"
            ]
          },
          "metadata": {},
          "execution_count": 142
        }
      ]
    },
    {
      "cell_type": "code",
      "source": [
        "len(t_val6)  #요소 전체 개수 리턴(str,list 어느때나 사용가능한 함수)"
      ],
      "metadata": {
        "colab": {
          "base_uri": "https://localhost:8080/"
        },
        "id": "aPC1FCyrT8_H",
        "outputId": "ad6ddfb0-a0b8-4a26-d0e0-8268de46c61c"
      },
      "execution_count": null,
      "outputs": [
        {
          "output_type": "execute_result",
          "data": {
            "text/plain": [
              "6"
            ]
          },
          "metadata": {},
          "execution_count": 143
        }
      ]
    },
    {
      "cell_type": "code",
      "source": [
        "t_val6.count(2) #2요소의 개수를 리턴하는 메서드"
      ],
      "metadata": {
        "colab": {
          "base_uri": "https://localhost:8080/"
        },
        "id": "aMhicxMxT_f4",
        "outputId": "2370d386-def3-41ab-9660-f9e09946dfaa"
      },
      "execution_count": null,
      "outputs": [
        {
          "output_type": "execute_result",
          "data": {
            "text/plain": [
              "3"
            ]
          },
          "metadata": {},
          "execution_count": 144
        }
      ]
    },
    {
      "cell_type": "code",
      "source": [
        "t_val6.index(2)  #2요소가 있는 첫 번째 인덱스 값을 리턴하는 메서드"
      ],
      "metadata": {
        "colab": {
          "base_uri": "https://localhost:8080/"
        },
        "id": "k6_xpubxUO6r",
        "outputId": "0e58942d-da8c-4113-ff34-c9b6646a98f7"
      },
      "execution_count": null,
      "outputs": [
        {
          "output_type": "execute_result",
          "data": {
            "text/plain": [
              "1"
            ]
          },
          "metadata": {},
          "execution_count": 145
        }
      ]
    },
    {
      "cell_type": "code",
      "source": [
        "t_val6.index(2,2) #2요소가 있는 두 번째 인덱스 값을 리턴"
      ],
      "metadata": {
        "colab": {
          "base_uri": "https://localhost:8080/"
        },
        "id": "I7qdcqBiUXXJ",
        "outputId": "1a5b61a9-f097-45a2-cf1c-d5dcf4cf34c1"
      },
      "execution_count": null,
      "outputs": [
        {
          "output_type": "execute_result",
          "data": {
            "text/plain": [
              "3"
            ]
          },
          "metadata": {},
          "execution_count": 146
        }
      ]
    },
    {
      "cell_type": "markdown",
      "source": [
        "tuple은 중첩해서 사용할 수 있다."
      ],
      "metadata": {
        "id": "JBg1fAk1U_FJ"
      }
    },
    {
      "cell_type": "code",
      "source": [
        "t_val7 = ('python', (1,2,3), [4,5,])\n",
        "t_val7"
      ],
      "metadata": {
        "colab": {
          "base_uri": "https://localhost:8080/"
        },
        "id": "fMNUMN-vU1Ns",
        "outputId": "18914801-f7ad-49e9-c2b8-8bc78d991ad3"
      },
      "execution_count": null,
      "outputs": [
        {
          "output_type": "execute_result",
          "data": {
            "text/plain": [
              "('python', (1, 2, 3), [4, 5])"
            ]
          },
          "metadata": {},
          "execution_count": 149
        }
      ]
    },
    {
      "cell_type": "markdown",
      "source": [
        "tuple은 한 변수에 요소를 각각 꺼내오는 언패킹(unpacking)을 지원 한다."
      ],
      "metadata": {
        "id": "UuJuNrSWVSqM"
      }
    },
    {
      "cell_type": "code",
      "source": [
        "t_val8 = (10,20,30)\n",
        "t_val8"
      ],
      "metadata": {
        "colab": {
          "base_uri": "https://localhost:8080/"
        },
        "id": "uFKGhvuGVHzH",
        "outputId": "75bb442c-be3a-46d5-d6c3-423ea9c10edb"
      },
      "execution_count": null,
      "outputs": [
        {
          "output_type": "execute_result",
          "data": {
            "text/plain": [
              "(10, 20, 30)"
            ]
          },
          "metadata": {},
          "execution_count": 150
        }
      ]
    },
    {
      "cell_type": "code",
      "source": [
        "l,m,n = t_val8\n",
        "print(l,m,n)"
      ],
      "metadata": {
        "colab": {
          "base_uri": "https://localhost:8080/"
        },
        "id": "h4D0aiIsVeFk",
        "outputId": "5395aae2-beeb-4aef-d66d-6b3f6c689a6a"
      },
      "execution_count": null,
      "outputs": [
        {
          "output_type": "stream",
          "name": "stdout",
          "text": [
            "10 20 30\n"
          ]
        }
      ]
    },
    {
      "cell_type": "code",
      "source": [
        "t_val9 = ((1,2),(3,4))\n",
        "t_val9"
      ],
      "metadata": {
        "colab": {
          "base_uri": "https://localhost:8080/"
        },
        "id": "7UELJwh2VjBj",
        "outputId": "5e54ad6c-2acd-4349-b633-c9b05af7f702"
      },
      "execution_count": null,
      "outputs": [
        {
          "output_type": "execute_result",
          "data": {
            "text/plain": [
              "((1, 2), (3, 4))"
            ]
          },
          "metadata": {},
          "execution_count": 152
        }
      ]
    },
    {
      "cell_type": "code",
      "source": [
        "x,y = t_val9\n",
        "print(x)\n",
        "print(y)"
      ],
      "metadata": {
        "colab": {
          "base_uri": "https://localhost:8080/"
        },
        "id": "CuU8KKweVt7N",
        "outputId": "6e181162-00ff-4eba-e190-58fa10e421d5"
      },
      "execution_count": null,
      "outputs": [
        {
          "output_type": "stream",
          "name": "stdout",
          "text": [
            "(1, 2)\n",
            "(3, 4)\n"
          ]
        }
      ]
    },
    {
      "cell_type": "code",
      "source": [
        "(x1,y1),(x2,y2) = t_val9\n",
        "print(x1)\n",
        "print(y1)\n",
        "print(x2)\n",
        "print(y2)"
      ],
      "metadata": {
        "colab": {
          "base_uri": "https://localhost:8080/"
        },
        "id": "b5PkDVgnWRg_",
        "outputId": "ea5c2039-a940-4d6e-b335-202a68cf0899"
      },
      "execution_count": null,
      "outputs": [
        {
          "output_type": "stream",
          "name": "stdout",
          "text": [
            "1\n",
            "2\n",
            "3\n",
            "4\n"
          ]
        }
      ]
    },
    {
      "cell_type": "code",
      "source": [
        "t_val10 = (1,2,3,4,5,6,8,9,10)\n",
        "t_val10"
      ],
      "metadata": {
        "colab": {
          "base_uri": "https://localhost:8080/"
        },
        "id": "tE_JB3r9Wh-4",
        "outputId": "d9dcbb85-4182-4424-a209-987fdd992164"
      },
      "execution_count": null,
      "outputs": [
        {
          "output_type": "execute_result",
          "data": {
            "text/plain": [
              "(1, 2, 3, 4, 5, 6, 8, 9, 10)"
            ]
          },
          "metadata": {},
          "execution_count": 163
        }
      ]
    },
    {
      "cell_type": "code",
      "source": [
        "a, *b = t_val10  #a외에 나머지는 *b에 담아서 리턴/*로 지정하면 list로 가져옴\n",
        "print(a, type(a))\n",
        "print(b, type(b))"
      ],
      "metadata": {
        "colab": {
          "base_uri": "https://localhost:8080/"
        },
        "id": "A-1fqHSEW0nX",
        "outputId": "ab9af9a9-f027-4a83-d137-022ceac44b06"
      },
      "execution_count": null,
      "outputs": [
        {
          "output_type": "stream",
          "name": "stdout",
          "text": [
            "1 <class 'int'>\n",
            "[2, 3, 4, 5, 6, 8, 9, 10] <class 'list'>\n"
          ]
        }
      ]
    },
    {
      "cell_type": "code",
      "source": [
        "a, *b, c = t_val10\n",
        "print(a)\n",
        "print(b)\n",
        "print(c)"
      ],
      "metadata": {
        "colab": {
          "base_uri": "https://localhost:8080/"
        },
        "id": "Mh0sdFVCW63R",
        "outputId": "ccdb8627-8cbd-43f9-987e-39ce3724936d"
      },
      "execution_count": null,
      "outputs": [
        {
          "output_type": "stream",
          "name": "stdout",
          "text": [
            "1\n",
            "[2, 3, 4, 5, 6, 8, 9]\n",
            "10\n"
          ]
        }
      ]
    },
    {
      "cell_type": "code",
      "source": [
        "*a, b, c = t_val10  #*가 어느자리에 와도 상관없음\n",
        "print(a)\n",
        "print(b)\n",
        "print(c)"
      ],
      "metadata": {
        "colab": {
          "base_uri": "https://localhost:8080/"
        },
        "id": "GS_jMgygXlGo",
        "outputId": "beb5ca43-bf97-40dc-d233-dfdb6d24a044"
      },
      "execution_count": null,
      "outputs": [
        {
          "output_type": "stream",
          "name": "stdout",
          "text": [
            "[1, 2, 3, 4, 5, 6, 8]\n",
            "9\n",
            "10\n"
          ]
        }
      ]
    },
    {
      "cell_type": "code",
      "source": [
        "# *기호는 한 번만 사용해야 한다.\n",
        "#a, *b, *c = t_val10  #*를 두개 이상을 쓸 수는 없음\n",
        "#print(a)\n",
        "#print(b)\n",
        "#print(c)"
      ],
      "metadata": {
        "colab": {
          "base_uri": "https://localhost:8080/",
          "height": 138
        },
        "id": "UAU0pMd8Xos2",
        "outputId": "c580c8b0-8561-4ab1-cf6a-3deff85c4bbc"
      },
      "execution_count": null,
      "outputs": [
        {
          "output_type": "error",
          "ename": "SyntaxError",
          "evalue": "ignored",
          "traceback": [
            "\u001b[0;36m  File \u001b[0;32m\"<ipython-input-167-a60b2214d36d>\"\u001b[0;36m, line \u001b[0;32m1\u001b[0m\n\u001b[0;31m    a, *b, *c = t_val10  #*가 어느자리에 와도 상관없음\u001b[0m\n\u001b[0m    ^\u001b[0m\n\u001b[0;31mSyntaxError\u001b[0m\u001b[0;31m:\u001b[0m two starred expressions in assignment\n"
          ]
        }
      ]
    },
    {
      "cell_type": "markdown",
      "source": [
        "### tuple과 list 비교\n",
        "- 공통점\n",
        "  - 임의의 객체를 저장할 수 있고 순서(sequence) 자료형이다.(순서가 유지된다)\n",
        "- 차이점\n",
        "  - tuple은 변경 불가능(immutable)한 자료형이다.\n",
        "  - list는 변경 가능(mutable)한 자료형이다."
      ],
      "metadata": {
        "id": "SzmbSi7AX_q3"
      }
    },
    {
      "cell_type": "markdown",
      "source": [
        "tuple을 list()함수를 이용해서 list 자료형으로 생성할 수 있다."
      ],
      "metadata": {
        "id": "VUtUAF_lY_jm"
      }
    },
    {
      "cell_type": "code",
      "source": [
        "t_data = (1,2,3)\n",
        "print(t_data)\n",
        "print(type(t_data))"
      ],
      "metadata": {
        "colab": {
          "base_uri": "https://localhost:8080/"
        },
        "id": "wk4AI2_2X8qq",
        "outputId": "37e9e5ca-c39f-47c4-858a-230ec540a4b9"
      },
      "execution_count": null,
      "outputs": [
        {
          "output_type": "stream",
          "name": "stdout",
          "text": [
            "(1, 2, 3)\n",
            "<class 'tuple'>\n"
          ]
        }
      ]
    },
    {
      "cell_type": "code",
      "source": [
        "# tuple을 list로 변경\n",
        "l_data = list(t_data)\n",
        "print(l_data)\n",
        "print(type(l_data))"
      ],
      "metadata": {
        "colab": {
          "base_uri": "https://localhost:8080/"
        },
        "id": "gU0eZYoeYyVE",
        "outputId": "633b167c-d94f-4ee2-ce7a-72f45252d427"
      },
      "execution_count": null,
      "outputs": [
        {
          "output_type": "stream",
          "name": "stdout",
          "text": [
            "[1, 2, 3]\n",
            "<class 'list'>\n"
          ]
        }
      ]
    },
    {
      "cell_type": "markdown",
      "source": [
        "str자료형의 요소를 list( )함수를 이용해서 list자료형으로 생성할 수 있다."
      ],
      "metadata": {
        "id": "tIePeXrPZXNi"
      }
    },
    {
      "cell_type": "code",
      "source": [
        "s_data = 'python'\n",
        "print(s_data)\n",
        "print(type(s_data))"
      ],
      "metadata": {
        "colab": {
          "base_uri": "https://localhost:8080/"
        },
        "id": "OGSU8b_lY5Ed",
        "outputId": "470d7a29-cd1e-427b-86c7-c5dc3e155ae8"
      },
      "execution_count": null,
      "outputs": [
        {
          "output_type": "stream",
          "name": "stdout",
          "text": [
            "python\n",
            "<class 'str'>\n"
          ]
        }
      ]
    },
    {
      "cell_type": "code",
      "source": [
        "# 다른 타입을 list로 받아올 수 있다.\n",
        "list(s_data)"
      ],
      "metadata": {
        "colab": {
          "base_uri": "https://localhost:8080/"
        },
        "id": "20nFwN3iZOv5",
        "outputId": "39ea3dbb-f8d7-4cc7-ed7c-f1c94b15c0fa"
      },
      "execution_count": null,
      "outputs": [
        {
          "output_type": "execute_result",
          "data": {
            "text/plain": [
              "['p', 'y', 't', 'h', 'o', 'n']"
            ]
          },
          "metadata": {},
          "execution_count": 171
        }
      ]
    },
    {
      "cell_type": "markdown",
      "source": [
        "list의 요소를 tuple()함수를 이용해서 tuple을 생성할 수 있다."
      ],
      "metadata": {
        "id": "Y1zN7_vnZmbh"
      }
    },
    {
      "cell_type": "code",
      "source": [
        "l_arg = [1,2,3,4,5]\n",
        "print(l_arg)\n",
        "print(type(l_arg))"
      ],
      "metadata": {
        "colab": {
          "base_uri": "https://localhost:8080/"
        },
        "id": "J0NQ4F0eZQnk",
        "outputId": "f930c37c-8199-4615-e562-fe74b60652a6"
      },
      "execution_count": null,
      "outputs": [
        {
          "output_type": "stream",
          "name": "stdout",
          "text": [
            "[1, 2, 3, 4, 5]\n",
            "<class 'list'>\n"
          ]
        }
      ]
    },
    {
      "cell_type": "code",
      "source": [
        "t_arg = tuple(l_arg)\n",
        "print(t_arg)\n",
        "print(type(t_arg))"
      ],
      "metadata": {
        "colab": {
          "base_uri": "https://localhost:8080/"
        },
        "id": "9wr1Hk8Qd8gS",
        "outputId": "9a8fe318-ed15-4024-9ed5-57e8d059fe20"
      },
      "execution_count": null,
      "outputs": [
        {
          "output_type": "stream",
          "name": "stdout",
          "text": [
            "(1, 2, 3, 4, 5)\n",
            "<class 'tuple'>\n"
          ]
        }
      ]
    },
    {
      "cell_type": "markdown",
      "source": [
        "str자료형의 요소를 tuple() 함수를 사용해서 tuple을 생성할 수 있다."
      ],
      "metadata": {
        "id": "luM5Hhgeet4p"
      }
    },
    {
      "cell_type": "code",
      "source": [
        "s_arg = 'python'\n",
        "print(s_arg)\n",
        "print(type(s_arg))"
      ],
      "metadata": {
        "colab": {
          "base_uri": "https://localhost:8080/"
        },
        "id": "uZHqHG0qeaXK",
        "outputId": "45da541d-9488-4092-c53b-3e2bdd0b0521"
      },
      "execution_count": null,
      "outputs": [
        {
          "output_type": "stream",
          "name": "stdout",
          "text": [
            "python\n",
            "<class 'str'>\n"
          ]
        }
      ]
    },
    {
      "cell_type": "code",
      "source": [
        "t_arg = tuple(s_arg)\n",
        "print(t_arg)\n",
        "print(type(t_arg))"
      ],
      "metadata": {
        "colab": {
          "base_uri": "https://localhost:8080/"
        },
        "id": "bBfDiHcYejAR",
        "outputId": "1f996979-a00c-4d92-e91d-69039294add9"
      },
      "execution_count": null,
      "outputs": [
        {
          "output_type": "stream",
          "name": "stdout",
          "text": [
            "('p', 'y', 't', 'h', 'o', 'n')\n",
            "<class 'tuple'>\n"
          ]
        }
      ]
    },
    {
      "cell_type": "markdown",
      "source": [
        "### 집합(sets)\n",
        "- 집합은 여러 값을 순서가 없고 중복없이 모아놓은 자료형이다.\n",
        "- python에서는 set와 frozenset 두 가지 집합 자료형을 제공한다.\n",
        "- set은 변경 가능한 집합이고, frozenset은 변경 불가능한 자료형이다.\n",
        "- set은 set()으로 표현한다.({}중괄호는 사용할 수 없다)"
      ],
      "metadata": {
        "id": "fEYcmkfsfQgA"
      }
    },
    {
      "cell_type": "code",
      "source": [
        "s = {}\n",
        "print(s)\n",
        "print(type(s))"
      ],
      "metadata": {
        "colab": {
          "base_uri": "https://localhost:8080/"
        },
        "id": "MSsEEXalesQU",
        "outputId": "a426bb9c-e2da-4c1b-d21d-53c29f67f49c"
      },
      "execution_count": null,
      "outputs": [
        {
          "output_type": "stream",
          "name": "stdout",
          "text": [
            "{}\n",
            "<class 'dict'>\n"
          ]
        }
      ]
    },
    {
      "cell_type": "code",
      "source": [
        "s = set()\n",
        "print(s)\n",
        "print(type(s))"
      ],
      "metadata": {
        "colab": {
          "base_uri": "https://localhost:8080/"
        },
        "id": "olGu8JIZgIml",
        "outputId": "d1109b73-1d4c-4ed7-ecaf-f922cdc8acca"
      },
      "execution_count": null,
      "outputs": [
        {
          "output_type": "stream",
          "name": "stdout",
          "text": [
            "set()\n",
            "<class 'set'>\n"
          ]
        }
      ]
    },
    {
      "cell_type": "markdown",
      "source": [
        "집합(set)\n",
        "- 멤버십(원소와 집합사이의 귀속관계)검사, 시퀀스에서의 중복제거와 교집합, 합집합, 차집합같은 수학 연산 수행에 사용된다.\n",
        "- 다른 시퀀스(sequence)와 마찬가지로 x in set, len(), 컴프리헨션과 같은 기능을 제공하지만 삽입순서를 기록하지는 않는다.따라서 ***인덱싱과 슬라이싱은 사용이 불가능하다.***\n",
        "- 반복 가능한(literable)객체로 부터 집합을 만들 수 있지만 모든 데이터가 원소로 사용할수 있는 것은 아니다. 해시기능(Hashable)이면서 변경 불가능한 자료형만이 집합의 원소로 사용가능하다."
      ],
      "metadata": {
        "id": "9czQIIYGgWxS"
      }
    },
    {
      "cell_type": "code",
      "source": [
        "set((3,1,2))   #set생성 / tuple로 집합을 생성하며 오름차순으로 정렬한다."
      ],
      "metadata": {
        "colab": {
          "base_uri": "https://localhost:8080/"
        },
        "id": "DUqsJv02hrAz",
        "outputId": "b25c626e-90e6-473f-d408-c9f5785dd4c4"
      },
      "execution_count": null,
      "outputs": [
        {
          "output_type": "execute_result",
          "data": {
            "text/plain": [
              "{1, 2, 3}"
            ]
          },
          "metadata": {},
          "execution_count": 180
        }
      ]
    },
    {
      "cell_type": "code",
      "source": [
        "a = (3,1,2)\n",
        "set(a)"
      ],
      "metadata": {
        "colab": {
          "base_uri": "https://localhost:8080/"
        },
        "id": "XoFFbmQFjgwD",
        "outputId": "c4fcf1e1-1ad6-4f11-c959-8b2e4f5faaa1"
      },
      "execution_count": null,
      "outputs": [
        {
          "output_type": "execute_result",
          "data": {
            "text/plain": [
              "{1, 2, 3}"
            ]
          },
          "metadata": {},
          "execution_count": 186
        }
      ]
    },
    {
      "cell_type": "code",
      "source": [
        "set([3,1,2])  #list로 집합을 생성하며 오름차순으로 정렬한다"
      ],
      "metadata": {
        "colab": {
          "base_uri": "https://localhost:8080/"
        },
        "id": "KK_cbSU1h2sF",
        "outputId": "cb8dcbae-1a96-4ffc-ef10-f8540611335b"
      },
      "execution_count": null,
      "outputs": [
        {
          "output_type": "execute_result",
          "data": {
            "text/plain": [
              "{1, 2, 3}"
            ]
          },
          "metadata": {},
          "execution_count": 188
        }
      ]
    },
    {
      "cell_type": "code",
      "source": [
        "b = [3,1,2]\n",
        "s_val = set(b)\n",
        "print(s_val)"
      ],
      "metadata": {
        "colab": {
          "base_uri": "https://localhost:8080/"
        },
        "id": "hFMHVgYzjpSF",
        "outputId": "651bcd5a-813b-49d2-e9e7-d50e89f1392f"
      },
      "execution_count": null,
      "outputs": [
        {
          "output_type": "stream",
          "name": "stdout",
          "text": [
            "{1, 2, 3}\n"
          ]
        }
      ]
    },
    {
      "cell_type": "code",
      "source": [
        "b[1]=10\n",
        "print(b)"
      ],
      "metadata": {
        "colab": {
          "base_uri": "https://localhost:8080/"
        },
        "id": "6m_rqNmyjxC-",
        "outputId": "65a75169-3eae-4d14-e914-5c4ae11cab86"
      },
      "execution_count": null,
      "outputs": [
        {
          "output_type": "stream",
          "name": "stdout",
          "text": [
            "[3, 10, 2]\n"
          ]
        }
      ]
    },
    {
      "cell_type": "code",
      "source": [
        "s_val  #deep copy로 생성하므로 원래 요소 그대로 출력한다.(주소만 복사해서 변경했으므로 요소값은 변경안됨)"
      ],
      "metadata": {
        "colab": {
          "base_uri": "https://localhost:8080/"
        },
        "id": "aT8EqX9rkBKN",
        "outputId": "eee56472-8179-4a27-a051-5ac545fd8f46"
      },
      "execution_count": null,
      "outputs": [
        {
          "output_type": "execute_result",
          "data": {
            "text/plain": [
              "{1, 2, 3}"
            ]
          },
          "metadata": {},
          "execution_count": 191
        }
      ]
    },
    {
      "cell_type": "code",
      "source": [
        "set('python') #str로 집합을 생성하며 오름차순으로 정렬한다."
      ],
      "metadata": {
        "colab": {
          "base_uri": "https://localhost:8080/"
        },
        "id": "mKMqSHJFiK-Z",
        "outputId": "192d241c-7d59-4599-ebc3-73b667c26642"
      },
      "execution_count": null,
      "outputs": [
        {
          "output_type": "execute_result",
          "data": {
            "text/plain": [
              "{'h', 'n', 'o', 'p', 't', 'y'}"
            ]
          },
          "metadata": {},
          "execution_count": 182
        }
      ]
    },
    {
      "cell_type": "code",
      "source": [
        "set((3,1,2,2,3,2,4))  #중복된 원소는 한 번만 표현한다."
      ],
      "metadata": {
        "colab": {
          "base_uri": "https://localhost:8080/"
        },
        "id": "LBLKIDrWiQSK",
        "outputId": "bb021177-fab1-49bf-d58a-1983f949c814"
      },
      "execution_count": null,
      "outputs": [
        {
          "output_type": "execute_result",
          "data": {
            "text/plain": [
              "{1, 2, 3, 4}"
            ]
          },
          "metadata": {},
          "execution_count": 183
        }
      ]
    },
    {
      "cell_type": "code",
      "source": [
        "set('python hello') #중복된 원소는 한 번만 표현한다."
      ],
      "metadata": {
        "colab": {
          "base_uri": "https://localhost:8080/"
        },
        "id": "Nw_Hud-Fif3L",
        "outputId": "5e1c788d-d2b1-45eb-864b-c54d5a5fd32f"
      },
      "execution_count": null,
      "outputs": [
        {
          "output_type": "execute_result",
          "data": {
            "text/plain": [
              "{' ', 'e', 'h', 'l', 'n', 'o', 'p', 't', 'y'}"
            ]
          },
          "metadata": {},
          "execution_count": 184
        }
      ]
    },
    {
      "cell_type": "code",
      "source": [
        "set({'one':1, 'two':2})  #dict자료형으로 생성하면 키 값만 반환한다."
      ],
      "metadata": {
        "colab": {
          "base_uri": "https://localhost:8080/"
        },
        "id": "UbVAz82Zio7C",
        "outputId": "01f39c96-699a-4672-ea9c-8bb610e5d176"
      },
      "execution_count": null,
      "outputs": [
        {
          "output_type": "execute_result",
          "data": {
            "text/plain": [
              "{'one', 'two'}"
            ]
          },
          "metadata": {},
          "execution_count": 185
        }
      ]
    },
    {
      "cell_type": "code",
      "source": [
        "print(dir(set))"
      ],
      "metadata": {
        "colab": {
          "base_uri": "https://localhost:8080/"
        },
        "id": "ySYb4Scmi-80",
        "outputId": "6204c79f-3321-49d4-ec04-a447bb4b6ef9"
      },
      "execution_count": null,
      "outputs": [
        {
          "output_type": "stream",
          "name": "stdout",
          "text": [
            "['__and__', '__class__', '__contains__', '__delattr__', '__dir__', '__doc__', '__eq__', '__format__', '__ge__', '__getattribute__', '__gt__', '__hash__', '__iand__', '__init__', '__init_subclass__', '__ior__', '__isub__', '__iter__', '__ixor__', '__le__', '__len__', '__lt__', '__ne__', '__new__', '__or__', '__rand__', '__reduce__', '__reduce_ex__', '__repr__', '__ror__', '__rsub__', '__rxor__', '__setattr__', '__sizeof__', '__str__', '__sub__', '__subclasshook__', '__xor__', 'add', 'clear', 'copy', 'difference', 'difference_update', 'discard', 'intersection', 'intersection_update', 'isdisjoint', 'issubset', 'issuperset', 'pop', 'remove', 'symmetric_difference', 'symmetric_difference_update', 'union', 'update']\n"
          ]
        }
      ]
    },
    {
      "cell_type": "markdown",
      "source": [
        "### frozenset\n",
        "- 값을 변경하지 않는 범위에서 set객체와 동일하게 동작한다.\n",
        "- frozenset 객체의 생성은 집합을 포함한 반복 가능한 자료형으로 부터 가능하다.\n",
        "- frozenset은 frozenset()으로 생성한다."
      ],
      "metadata": {
        "id": "lFFvqqw1lUaF"
      }
    },
    {
      "cell_type": "code",
      "source": [
        "f_val = frozenset();\n",
        "print(f_val)\n",
        "print(type(f_val))"
      ],
      "metadata": {
        "colab": {
          "base_uri": "https://localhost:8080/"
        },
        "id": "Y8teMgOjlAPt",
        "outputId": "d2898434-20d3-46b4-da74-9fb9d67216e6"
      },
      "execution_count": null,
      "outputs": [
        {
          "output_type": "stream",
          "name": "stdout",
          "text": [
            "frozenset()\n",
            "<class 'frozenset'>\n"
          ]
        }
      ]
    },
    {
      "cell_type": "code",
      "source": [
        "f_val2 = frozenset([1,2,3,4,5])\n",
        "print(f_val2)\n",
        "print(type(f_val2))"
      ],
      "metadata": {
        "colab": {
          "base_uri": "https://localhost:8080/"
        },
        "id": "m16qsIDllx1u",
        "outputId": "75fafdaf-c054-47bc-fb60-b2f11ea18077"
      },
      "execution_count": null,
      "outputs": [
        {
          "output_type": "stream",
          "name": "stdout",
          "text": [
            "frozenset({1, 2, 3, 4, 5})\n",
            "<class 'frozenset'>\n"
          ]
        }
      ]
    },
    {
      "cell_type": "code",
      "source": [
        "print(dir(frozenset))"
      ],
      "metadata": {
        "colab": {
          "base_uri": "https://localhost:8080/"
        },
        "id": "qMw_03D7l6_4",
        "outputId": "89e393c2-afad-4cae-c33c-0f90c6b35534"
      },
      "execution_count": null,
      "outputs": [
        {
          "output_type": "stream",
          "name": "stdout",
          "text": [
            "['__and__', '__class__', '__contains__', '__delattr__', '__dir__', '__doc__', '__eq__', '__format__', '__ge__', '__getattribute__', '__gt__', '__hash__', '__init__', '__init_subclass__', '__iter__', '__le__', '__len__', '__lt__', '__ne__', '__new__', '__or__', '__rand__', '__reduce__', '__reduce_ex__', '__repr__', '__ror__', '__rsub__', '__rxor__', '__setattr__', '__sizeof__', '__str__', '__sub__', '__subclasshook__', '__xor__', 'copy', 'difference', 'intersection', 'isdisjoint', 'issubset', 'issuperset', 'symmetric_difference', 'union']\n"
          ]
        }
      ]
    },
    {
      "cell_type": "markdown",
      "source": [
        "### dict(사전)\n",
        "- 특정 키를 주면 이와 관련된 값을 돌려주는 내용 기반으로 검색하는 자료형이다.\n",
        "- 데이터의 저장 순서가 없다.\n",
        "- 내부적으로 해시 기법을 사용하기 때문에 검색 속도가 빠르다.\n",
        "- key-value 형식으로 저장을 하기 때문에 key를 이용해서 value에 접근한다.\n",
        "- key값은 중복을 허용하지 않는다."
      ],
      "metadata": {
        "id": "MB6flrrimOOq"
      }
    },
    {
      "cell_type": "markdown",
      "source": [
        "dict 생성은 {} 또는 dict()함수를 사용해서 생성할 수 있다."
      ],
      "metadata": {
        "id": "8wlQht5TmyO6"
      }
    },
    {
      "cell_type": "code",
      "source": [
        "d_val = {'one':1, 'two':2}\n",
        "print(d_val)\n",
        "print(type(d_val))"
      ],
      "metadata": {
        "colab": {
          "base_uri": "https://localhost:8080/"
        },
        "id": "Thy7PhTcl-hJ",
        "outputId": "3828c71e-bbfb-42c3-f671-538c69a6ae74"
      },
      "execution_count": null,
      "outputs": [
        {
          "output_type": "stream",
          "name": "stdout",
          "text": [
            "{'one': 1, 'two': 2}\n",
            "<class 'dict'>\n"
          ]
        }
      ]
    },
    {
      "cell_type": "code",
      "source": [
        "d_val2 = dict(one=1, two=2)  #dict()함수를 사용해서 생성할 때 키를 작은따옴표'one' 또는 큰따옴표\"one\"를 사용하지 않는다.\n",
        "print(d_val2)\n",
        "print(type(d_val2))"
      ],
      "metadata": {
        "colab": {
          "base_uri": "https://localhost:8080/"
        },
        "id": "SEF0VhlFm87b",
        "outputId": "651c106b-a5d8-456f-ffbe-8a2cc99595ac"
      },
      "execution_count": null,
      "outputs": [
        {
          "output_type": "stream",
          "name": "stdout",
          "text": [
            "{'one': 1, 'two': 2}\n",
            "<class 'dict'>\n"
          ]
        }
      ]
    },
    {
      "cell_type": "markdown",
      "source": [
        "zip함수를 이용해서 dict(사전)를 생성할 수 있다."
      ],
      "metadata": {
        "id": "mIFnL6H_q3Xp"
      }
    },
    {
      "cell_type": "code",
      "source": [
        "keys = ['one','two','three']\n",
        "values = [1,2,3]\n",
        "d_val3 = dict(zip(keys, values))\n",
        "print(d_val3)\n",
        "print(type(d_val3))"
      ],
      "metadata": {
        "colab": {
          "base_uri": "https://localhost:8080/"
        },
        "id": "Vc8ZuRRMnR2H",
        "outputId": "c91e4e97-99c6-4c91-b0a4-16ad7774e398"
      },
      "execution_count": null,
      "outputs": [
        {
          "output_type": "stream",
          "name": "stdout",
          "text": [
            "{'one': 1, 'two': 2, 'three': 3}\n",
            "<class 'dict'>\n"
          ]
        }
      ]
    },
    {
      "cell_type": "code",
      "source": [
        "print(dir(dict))"
      ],
      "metadata": {
        "colab": {
          "base_uri": "https://localhost:8080/"
        },
        "id": "lB1GTwQFrNd3",
        "outputId": "43349dfd-4da4-4a4a-c00e-f0c58eb34565"
      },
      "execution_count": null,
      "outputs": [
        {
          "output_type": "stream",
          "name": "stdout",
          "text": [
            "['__class__', '__contains__', '__delattr__', '__delitem__', '__dir__', '__doc__', '__eq__', '__format__', '__ge__', '__getattribute__', '__getitem__', '__gt__', '__hash__', '__init__', '__init_subclass__', '__iter__', '__le__', '__len__', '__lt__', '__ne__', '__new__', '__reduce__', '__reduce_ex__', '__repr__', '__reversed__', '__setattr__', '__setitem__', '__sizeof__', '__str__', '__subclasshook__', 'clear', 'copy', 'fromkeys', 'get', 'items', 'keys', 'pop', 'popitem', 'setdefault', 'update', 'values']\n"
          ]
        }
      ]
    },
    {
      "cell_type": "markdown",
      "source": [
        "mutable : list, set, dict  \n",
        "immutable : str, tuple, set  \n",
        "sequence : list, tuple, str  \n"
      ],
      "metadata": {
        "id": "3QRqV7uYrZxH"
      }
    }
  ]
}