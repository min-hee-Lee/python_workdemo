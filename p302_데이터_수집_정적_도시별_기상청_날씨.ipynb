{
  "nbformat": 4,
  "nbformat_minor": 0,
  "metadata": {
    "colab": {
      "provenance": [],
      "authorship_tag": "ABX9TyPAN7VshsBIyn9ek1BwpNYB",
      "include_colab_link": true
    },
    "kernelspec": {
      "name": "python3",
      "display_name": "Python 3"
    },
    "language_info": {
      "name": "python"
    }
  },
  "cells": [
    {
      "cell_type": "markdown",
      "metadata": {
        "id": "view-in-github",
        "colab_type": "text"
      },
      "source": [
        "<a href=\"https://colab.research.google.com/github/min-hee-Lee/python_workdemo/blob/master/p302_%EB%8D%B0%EC%9D%B4%ED%84%B0_%EC%88%98%EC%A7%91_%EC%A0%95%EC%A0%81_%EB%8F%84%EC%8B%9C%EB%B3%84_%EA%B8%B0%EC%83%81%EC%B2%AD_%EB%82%A0%EC%94%A8.ipynb\" target=\"_parent\"><img src=\"https://colab.research.google.com/assets/colab-badge.svg\" alt=\"Open In Colab\"/></a>"
      ]
    },
    {
      "cell_type": "markdown",
      "source": [
        "##도시별 기상청 날씨 Crowling\n",
        "\n",
        "https://www.weather.go.kr/w/obs-climate/land/city-obs.do"
      ],
      "metadata": {
        "id": "gfDhSungJiJN"
      }
    },
    {
      "cell_type": "markdown",
      "source": [
        "### 구글 드라이브 연결"
      ],
      "metadata": {
        "id": "I0x-ropnJDFc"
      }
    },
    {
      "cell_type": "code",
      "source": [
        "from google.colab import drive\n",
        "drive.mount('/content/drive')\n",
        "\n",
        "%cd /content/drive/MyDrive/python/data"
      ],
      "metadata": {
        "colab": {
          "base_uri": "https://localhost:8080/"
        },
        "id": "fkUJd6u3JSzZ",
        "outputId": "02955c8d-998a-4589-cb96-5b6a1759aaea"
      },
      "execution_count": null,
      "outputs": [
        {
          "output_type": "stream",
          "name": "stdout",
          "text": [
            "Mounted at /content/drive\n",
            "/content/drive/MyDrive/python/data\n"
          ]
        }
      ]
    },
    {
      "cell_type": "markdown",
      "source": [
        "### 1. import"
      ],
      "metadata": {
        "id": "E1wouXeUK0hV"
      }
    },
    {
      "cell_type": "code",
      "source": [
        "from bs4 import BeautifulSoup\n",
        "import requests"
      ],
      "metadata": {
        "id": "tCZ53ec_JZ-_"
      },
      "execution_count": null,
      "outputs": []
    },
    {
      "cell_type": "markdown",
      "source": [
        "###2. 작업결과를 저장할 리스트 준비"
      ],
      "metadata": {
        "id": "OuzvQBCqK-hQ"
      }
    },
    {
      "cell_type": "code",
      "source": [
        "result = []"
      ],
      "metadata": {
        "id": "fKFpqc4DK9lU"
      },
      "execution_count": null,
      "outputs": []
    },
    {
      "cell_type": "markdown",
      "source": [
        "###3 BeautifulSoup 객체 생성하여 파싱"
      ],
      "metadata": {
        "id": "eHfVa09ULGMv"
      }
    },
    {
      "cell_type": "code",
      "source": [
        "del result[:]  #python파일로 저장할 때 지워줘야함\n",
        "\n",
        "header = {\"User-Agent\":\"Mozilla/5.0 (Windows NT 10.0; Win64; x64) AppleWebKit/537.36 (KHTML, like Gecko) Chrome/110.0.0.0 Safari/537.36\"}\n",
        "url = \"https://www.weather.go.kr/w/obs-climate/land/city-obs.do\"\n",
        "\n",
        "res = requests.get(url, headers = header)\n",
        "soup = BeautifulSoup(res.text, 'html.parser')\n",
        "print(type(soup))\n",
        "\n",
        "tbody_tag = soup.find('tbody')\n",
        "#print(tbody_tag)\n",
        "tr_rs_tag = tbody_tag.find_all('tr')\n",
        "#print(tr_rs_tag)\n",
        "#print(type(tr_rs_tag))\n",
        "print(tr_rs_tag[0])\n",
        "\n",
        "for tr_tag in tr_rs_tag:\n",
        "  td_rs_tag = tr_tag.find_all('td')\n",
        "  city = td_rs_tag[0].string        #지역\n",
        "  cur_temp = td_rs_tag[5].string    #현재기온\n",
        "  sen_temp = td_rs_tag[7].string    #체감온도\n",
        "  result.append([city, cur_temp, sen_temp])"
      ],
      "metadata": {
        "colab": {
          "base_uri": "https://localhost:8080/"
        },
        "id": "4LGXvSY8LFCa",
        "outputId": "1034dd0a-b497-4d34-a659-efcf0dc1de8c"
      },
      "execution_count": null,
      "outputs": [
        {
          "output_type": "stream",
          "name": "stdout",
          "text": [
            "<class 'bs4.BeautifulSoup'>\n",
            "<tr>\n",
            "<td><a href=\"city-obs.do?tm=2023.2.15.12:00&amp;type=t99&amp;mode=0&amp;reg=100&amp;auto_man=m&amp;stn=105\">강릉</a></td>\n",
            "<td> </td>\n",
            "<td>9.4</td>\n",
            "<td> </td>\n",
            "<td> </td>\n",
            "<td>2.7</td>\n",
            "<td>0.7</td>\n",
            "<td>0.8</td>\n",
            "<td>13.9</td>\n",
            "<td>17.1</td>\n",
            "<td>87</td>\n",
            "<td>북북동</td>\n",
            "<td><script>writeWindSpeed('1.9', false, '', '', 1);</script></td>\n",
            "<td>1032.8</td>\n",
            "</tr>\n"
          ]
        },
        {
          "output_type": "execute_result",
          "data": {
            "text/plain": [
              "[['강릉', '2.7', '0.8'],\n",
              " ['강진군', '5.9', '5.0'],\n",
              " ['강화', '3.5', '1.6'],\n",
              " ['거제', '6.3', '4.7'],\n",
              " ['거창', '3.1', '1.5'],\n",
              " ['경주시', '2.4', '-1.0'],\n",
              " ['고산', '6.9', '2.1'],\n",
              " ['고창', '2.5', '2.5'],\n",
              " ['고창군', '2.9', '2.9'],\n",
              " ['고흥', '5.7', '4.3'],\n",
              " ['광양시', '6.6', '3.8'],\n",
              " ['광주', '4.0', '4.0'],\n",
              " ['구미', '4.2', '4.2'],\n",
              " ['군산', '6.6', '5.3'],\n",
              " ['금산', '5.2', '3.8'],\n",
              " ['김해시', '6.6', '6.6'],\n",
              " ['남원', '4.9', '2.1'],\n",
              " ['남해', '5.5', '3.1'],\n",
              " ['대관령', '-4.4', '-8.0'],\n",
              " ['대구', '4.0', '1.0'],\n",
              " ['대전', '6.0', '3.4'],\n",
              " ['동두천', '5.0', '5.0'],\n",
              " ['동해', '0.7', '0.7'],\n",
              " ['목포', '2.6', '-0.3'],\n",
              " ['문경', '3.4', '0.5'],\n",
              " ['밀양', '6.5', '4.8'],\n",
              " ['백령도', '2.1', '0.1'],\n",
              " ['보령', '6.2', '6.2'],\n",
              " ['보성군', '6.6', '3.8'],\n",
              " ['보은', '4.6', '1.8'],\n",
              " ['봉화', '2.8', '0.3'],\n",
              " ['부산', '6.7', '4.0'],\n",
              " ['부안', '5.2', '5.2'],\n",
              " ['부여', '6.4', '5.7'],\n",
              " ['북강릉', '-0.3', '-0.3'],\n",
              " ['북부산', '6.1', '2.4'],\n",
              " ['북창원', '7.0', '5.7'],\n",
              " ['북춘천', '3.1', '1.9'],\n",
              " ['산청', '3.3', '3.3'],\n",
              " ['상주', '4.3', '3.0'],\n",
              " ['서귀포', '10.7', '10.7'],\n",
              " ['서산', '5.7', '3.8'],\n",
              " ['서울', '6.1', '4.1'],\n",
              " ['성산', '8.0', '6.2'],\n",
              " ['세종', '5.6', '3.5'],\n",
              " ['속초', '-0.3', '-2.9'],\n",
              " ['수원', '6.0', '3.9'],\n",
              " ['순창군', '3.8', '3.8'],\n",
              " ['순천', '6.8', '5.3'],\n",
              " ['안동', '4.0', '0.9'],\n",
              " ['양산시', '7.1', '4.4'],\n",
              " ['양평', '5.4', '3.6'],\n",
              " ['여수', '5.0', '0.7'],\n",
              " ['영광군', '3.2', '3.2'],\n",
              " ['영덕', '1.4', '-1.4'],\n",
              " ['영월', '7.0', '5.9'],\n",
              " ['영주', '3.1', '1.6'],\n",
              " ['영천', '4.7', '2.1'],\n",
              " ['완도', '6.0', '6.0'],\n",
              " ['울릉도', '-1.0', '-6.1'],\n",
              " ['울산', '2.9', '0.8'],\n",
              " ['울진', '0.4', '-1.2'],\n",
              " ['원주', '4.9', '4.9'],\n",
              " ['의령군', '6.7', '4.6'],\n",
              " ['의성', '4.8', '3.5'],\n",
              " ['이천', '6.2', '6.2'],\n",
              " ['인제', '3.2', '0.3'],\n",
              " ['인천', '6.0', '5.2'],\n",
              " ['임실', '4.9', '4.9'],\n",
              " ['장수', '3.6', '3.6'],\n",
              " ['장흥', '5.8', '5.8'],\n",
              " ['전주', '6.8', '6.8'],\n",
              " ['정선군', '2.4', '0.7'],\n",
              " ['정읍', '4.3', '4.3'],\n",
              " ['제주', '6.7', '5.9'],\n",
              " ['제천', '3.3', '0.8'],\n",
              " ['진도군', '3.7', '0.4'],\n",
              " ['진주', '6.2', '4.5'],\n",
              " ['창원', '5.9', '4.8'],\n",
              " ['천안', '5.0', '2.1'],\n",
              " ['철원', '3.4', '1.8'],\n",
              " ['청송군', '2.9', '-0.3'],\n",
              " ['청주', '5.4', '3.6'],\n",
              " ['추풍령', '2.0', '-1.2'],\n",
              " ['춘천', '3.6', '0.7'],\n",
              " ['충주', '4.5', '1.5'],\n",
              " ['태백', '-2.7', '-5.2'],\n",
              " ['통영', '7.4', '5.1'],\n",
              " ['파주', '5.0', '3.2'],\n",
              " ['포항', '2.3', '-1.5'],\n",
              " ['함양군', '4.2', '3.0'],\n",
              " ['합천', '5.2', '3.5'],\n",
              " ['해남', '5.1', '3.6'],\n",
              " ['홍성', '4.8', '3.0'],\n",
              " ['홍천', '4.3', '2.8'],\n",
              " ['흑산도', '5.9', '2.5']]"
            ]
          },
          "metadata": {},
          "execution_count": 15
        }
      ]
    },
    {
      "cell_type": "markdown",
      "source": [
        "###4. 도시별, 현재기온, 체감온도 크롤링 결과"
      ],
      "metadata": {
        "id": "fLyi8e_mPFpS"
      }
    },
    {
      "cell_type": "code",
      "source": [
        "for element in result:\n",
        "  print(element)\n",
        "  break"
      ],
      "metadata": {
        "colab": {
          "base_uri": "https://localhost:8080/"
        },
        "id": "20pzZyKrL1fa",
        "outputId": "c545512f-b125-447b-f371-4b7c7a68d90a"
      },
      "execution_count": null,
      "outputs": [
        {
          "output_type": "stream",
          "name": "stdout",
          "text": [
            "['강릉', '2.7', '0.8']\n"
          ]
        }
      ]
    },
    {
      "cell_type": "markdown",
      "source": [
        "###5. 저장할 날짜 지정"
      ],
      "metadata": {
        "id": "1PH0t2lsQN41"
      }
    },
    {
      "cell_type": "code",
      "source": [
        "import datetime\n",
        "\n",
        "to_now = datetime.datetime.now()\n",
        "to_now = to_now.strftime('%Y-%m-%d %H:%M:%s')"
      ],
      "metadata": {
        "id": "-cWjt9nWQTTY"
      },
      "execution_count": null,
      "outputs": []
    },
    {
      "cell_type": "markdown",
      "source": [
        "###6. 크롤링 결과를 csv파일로 저장"
      ],
      "metadata": {
        "id": "iAIViCPSPSTz"
      }
    },
    {
      "cell_type": "code",
      "source": [
        "import csv\n",
        "\n",
        "# fields names\n",
        "fields = ['City', 'CurTemp', 'SenTemp']\n",
        "\n",
        "with open('./%s-weather.csv' % to_now, 'w', newline='', encoding='cp949') as f:\n",
        "  write = csv.writer(f)\n",
        "  write.writerow(fields)\n",
        "  write.writerows(result)"
      ],
      "metadata": {
        "id": "CMkmHdu-PRLd"
      },
      "execution_count": null,
      "outputs": []
    },
    {
      "cell_type": "markdown",
      "source": [
        "###7.weather.csv 파일 읽어오기"
      ],
      "metadata": {
        "id": "73qrcDs_RiYp"
      }
    },
    {
      "cell_type": "code",
      "source": [
        "with open('./%s-weather.csv' % to_now, 'r', encoding='cp949') as f:\n",
        "    reader = csv.reader(f)\n",
        "    for row in reader:\n",
        "        for cell in row:  #쪼개서 가져오기\n",
        "           print(cell, end=',')\n",
        "        print()  #print는 println과 같이 줄바꿈됨\n",
        "        break"
      ],
      "metadata": {
        "colab": {
          "base_uri": "https://localhost:8080/"
        },
        "id": "zdtm5chxRJ2Z",
        "outputId": "07db2e3c-63ac-41ed-b76a-37fc9f766393"
      },
      "execution_count": null,
      "outputs": [
        {
          "output_type": "stream",
          "name": "stdout",
          "text": [
            "City,CurTemp,SenTemp,\n"
          ]
        }
      ]
    },
    {
      "cell_type": "markdown",
      "source": [
        "###8. weather.py 파일 생성"
      ],
      "metadata": {
        "id": "wyO7nVqMR8Ir"
      }
    },
    {
      "cell_type": "code",
      "source": [
        "%%writefile ./weather_collector.py\n",
        "\n",
        "from bs4 import BeautifulSoup\n",
        "import requests\n",
        "import csv\n",
        "import datetime\n",
        "\n",
        "result = []\n",
        "\n",
        "def weather_process():\n",
        "    header = {\"User-Agent\":\"Mozilla/5.0 (Windows NT 10.0; Win64; x64) AppleWebKit/537.36 (KHTML, like Gecko) Chrome/110.0.0.0 Safari/537.36\"}\n",
        "    url = \"https://www.weather.go.kr/w/obs-climate/land/city-obs.do\"\n",
        "\n",
        "    res = requests.get(url, headers = header)\n",
        "    soup = BeautifulSoup(res.text, 'html.parser')\n",
        "\n",
        "    tbody_tag = soup.find('tbody')\n",
        "    tr_rs_tag = tbody_tag.find_all('tr')\n",
        "\n",
        "    for tr_tag in tr_rs_tag:\n",
        "      td_rs_tag = tr_tag.find_all('td')\n",
        "      city = td_rs_tag[0].string        #지역\n",
        "      cur_temp = td_rs_tag[5].string    #현재기온\n",
        "      sen_temp = td_rs_tag[7].string    #체감온도\n",
        "      result.append([city, cur_temp, sen_temp])\n",
        "\n",
        "def weather_save(filename):\n",
        "    fields = ['City', 'CurTemp', 'SenTemp']\n",
        "\n",
        "    with open('./%s-weather.csv' % filename, 'w', newline='', encoding='cp949') as f:\n",
        "      write = csv.writer(f)\n",
        "      write.writerow(fields)\n",
        "      write.writerows(result)\n",
        "\n",
        "def weather_load(filename):\n",
        "    with open('./%s-weather.csv' % filename, 'r', encoding='cp949') as f:\n",
        "      reader = csv.reader(f)\n",
        "      for row in reader:\n",
        "          for cell in row:  #쪼개서 가져오기\n",
        "            print(cell, end=',')\n",
        "          print() \n",
        "\n",
        "def main():\n",
        "    weather_process()\n",
        "\n",
        "    to_now = datetime.datetime.now()\n",
        "    to_now = to_now.strftime('%Y-%m-%d %H:%M:%s')\n",
        "\n",
        "    weather_save(to_now)\n",
        "    weather_load(to_now)\n",
        "\n",
        "if __name__ == '__main__':\n",
        "  main()"
      ],
      "metadata": {
        "colab": {
          "base_uri": "https://localhost:8080/"
        },
        "id": "awmhCv7fUQJQ",
        "outputId": "1bceb054-608c-4489-f08b-3331158c390b"
      },
      "execution_count": null,
      "outputs": [
        {
          "output_type": "stream",
          "name": "stdout",
          "text": [
            "Writing ./weather_collector.py\n"
          ]
        }
      ]
    },
    {
      "cell_type": "code",
      "source": [],
      "metadata": {
        "id": "0nmY640wWPtD"
      },
      "execution_count": null,
      "outputs": []
    }
  ]
}