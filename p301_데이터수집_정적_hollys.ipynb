{
  "nbformat": 4,
  "nbformat_minor": 0,
  "metadata": {
    "colab": {
      "provenance": [],
      "authorship_tag": "ABX9TyMyyZ8ziNRqsxdXuXZuA3IU",
      "include_colab_link": true
    },
    "kernelspec": {
      "name": "python3",
      "display_name": "Python 3"
    },
    "language_info": {
      "name": "python"
    }
  },
  "cells": [
    {
      "cell_type": "markdown",
      "metadata": {
        "id": "view-in-github",
        "colab_type": "text"
      },
      "source": [
        "<a href=\"https://colab.research.google.com/github/min-hee-Lee/python_workdemo/blob/master/p301_%EB%8D%B0%EC%9D%B4%ED%84%B0%EC%88%98%EC%A7%91_%EC%A0%95%EC%A0%81_hollys.ipynb\" target=\"_parent\"><img src=\"https://colab.research.google.com/assets/colab-badge.svg\" alt=\"Open In Colab\"/></a>"
      ]
    },
    {
      "cell_type": "markdown",
      "source": [
        "###hollys crowling"
      ],
      "metadata": {
        "id": "tIKq5_qHSdY5"
      }
    },
    {
      "cell_type": "code",
      "execution_count": 72,
      "metadata": {
        "id": "0h7OogYhSP7M"
      },
      "outputs": [],
      "source": [
        "from bs4 import BeautifulSoup\n",
        "import requests"
      ]
    },
    {
      "cell_type": "code",
      "source": [
        "url = 'https://m.hollys.co.kr/store/korStore2.do'   #앞에 m이 붙으면 모바일 버전\n",
        "res = requests.get(url)\n",
        "print(res)\n",
        "#print(res.text)"
      ],
      "metadata": {
        "colab": {
          "base_uri": "https://localhost:8080/"
        },
        "id": "rf7M0TczTUKU",
        "outputId": "3b5454bb-6ec2-4bdd-cbe2-481a5e0d948c"
      },
      "execution_count": 73,
      "outputs": [
        {
          "output_type": "stream",
          "name": "stdout",
          "text": [
            "<Response [200]>\n"
          ]
        }
      ]
    },
    {
      "cell_type": "code",
      "source": [
        "url = 'https://www.hollys.co.kr/store/korea/korStore2.do'  #웹버전\n",
        "header = {\"User-Agent\":\"Mozilla/5.0 (Windows NT 10.0; Win64; x64) AppleWebKit/537.36 (KHTML, like Gecko) Chrome/110.0.0.0 Safari/537.36\"}\n",
        "res = requests.get(url, headers=header)\n",
        "print(res)\n",
        "#print(res.text)\n",
        "print(type(res))\n",
        "\n",
        "soup = BeautifulSoup(res.text, 'html.parser')\n",
        "#print(soup)\n",
        "print(type(soup))\n",
        "\n",
        "tag_body = soup.find('tbody')\n",
        "#print(tag_body)\n",
        "print(type(tag_body))  #<class 'bs4.element.Tag'>\n",
        "\n",
        "tag_tr = soup.findAll('tr')\n",
        "print(type(tag_tr))   #<class 'bs4.element.ResultSet'>\n",
        "print(dir(tag_tr))"
      ],
      "metadata": {
        "colab": {
          "base_uri": "https://localhost:8080/"
        },
        "id": "1NL5L5AYSnvY",
        "outputId": "5927f9ef-2548-4dc5-9f60-0e742cba7737"
      },
      "execution_count": 74,
      "outputs": [
        {
          "output_type": "stream",
          "name": "stdout",
          "text": [
            "<Response [200]>\n",
            "<class 'requests.models.Response'>\n",
            "<class 'bs4.BeautifulSoup'>\n",
            "<class 'bs4.element.Tag'>\n",
            "<class 'bs4.element.ResultSet'>\n",
            "['__add__', '__class__', '__contains__', '__delattr__', '__delitem__', '__dict__', '__dir__', '__doc__', '__eq__', '__format__', '__ge__', '__getattr__', '__getattribute__', '__getitem__', '__gt__', '__hash__', '__iadd__', '__imul__', '__init__', '__init_subclass__', '__iter__', '__le__', '__len__', '__lt__', '__module__', '__mul__', '__ne__', '__new__', '__reduce__', '__reduce_ex__', '__repr__', '__reversed__', '__rmul__', '__setattr__', '__setitem__', '__sizeof__', '__str__', '__subclasshook__', '__weakref__', 'append', 'clear', 'copy', 'count', 'extend', 'index', 'insert', 'pop', 'remove', 'reverse', 'sort', 'source']\n"
          ]
        }
      ]
    },
    {
      "cell_type": "code",
      "source": [
        "tag_table = soup.select_one('table.tb_store')\n",
        "print(type(tag_table))   #<class 'bs4.element.Tag'>\n",
        "print(dir(tag_table))\n",
        "\n",
        "tag_tableList = soup.select('table.tb_store')\n",
        "print(type(tag_tableList))  #<class 'list'>\n",
        "\n",
        "tag_tr_list = soup.select('tr')\n",
        "print(type(tag_tr_list))   ##<class 'list'>\n",
        "#dir(tag_tr_list)"
      ],
      "metadata": {
        "colab": {
          "base_uri": "https://localhost:8080/"
        },
        "id": "xx3pUnD_S2gW",
        "outputId": "cfcc361e-9dbd-4520-eb0b-062eccd78cba"
      },
      "execution_count": 75,
      "outputs": [
        {
          "output_type": "stream",
          "name": "stdout",
          "text": [
            "<class 'bs4.element.Tag'>\n",
            "['HTML_FORMATTERS', 'XML_FORMATTERS', '__bool__', '__call__', '__class__', '__contains__', '__copy__', '__delattr__', '__delitem__', '__dict__', '__dir__', '__doc__', '__eq__', '__format__', '__ge__', '__getattr__', '__getattribute__', '__getitem__', '__gt__', '__hash__', '__init__', '__init_subclass__', '__iter__', '__le__', '__len__', '__lt__', '__module__', '__ne__', '__new__', '__reduce__', '__reduce_ex__', '__repr__', '__setattr__', '__setitem__', '__sizeof__', '__str__', '__subclasshook__', '__unicode__', '__weakref__', '_all_strings', '_attr_value_as_string', '_attribute_checker', '_find_all', '_find_one', '_formatter_for_name', '_is_xml', '_lastRecursiveChild', '_last_descendant', '_select_debug', '_selector_combinators', '_should_pretty_print', '_tag_name_matches_and', 'append', 'attribselect_re', 'attrs', 'can_be_empty_element', 'childGenerator', 'children', 'clear', 'contents', 'decode', 'decode_contents', 'decompose', 'descendants', 'encode', 'encode_contents', 'extract', 'fetchNextSiblings', 'fetchParents', 'fetchPrevious', 'fetchPreviousSiblings', 'find', 'findAll', 'findAllNext', 'findAllPrevious', 'findChild', 'findChildren', 'findNext', 'findNextSibling', 'findNextSiblings', 'findParent', 'findParents', 'findPrevious', 'findPreviousSibling', 'findPreviousSiblings', 'find_all', 'find_all_next', 'find_all_previous', 'find_next', 'find_next_sibling', 'find_next_siblings', 'find_parent', 'find_parents', 'find_previous', 'find_previous_sibling', 'find_previous_siblings', 'format_string', 'get', 'getText', 'get_attribute_list', 'get_text', 'has_attr', 'has_key', 'hidden', 'index', 'insert', 'insert_after', 'insert_before', 'isSelfClosing', 'is_empty_element', 'known_xml', 'name', 'namespace', 'next', 'nextGenerator', 'nextSibling', 'nextSiblingGenerator', 'next_element', 'next_elements', 'next_sibling', 'next_siblings', 'parent', 'parentGenerator', 'parents', 'parserClass', 'parser_class', 'prefix', 'preserve_whitespace_tags', 'prettify', 'previous', 'previousGenerator', 'previousSibling', 'previousSiblingGenerator', 'previous_element', 'previous_elements', 'previous_sibling', 'previous_siblings', 'quoted_colon', 'recursiveChildGenerator', 'renderContents', 'replaceWith', 'replaceWithChildren', 'replace_with', 'replace_with_children', 'select', 'select_one', 'setup', 'string', 'strings', 'stripped_strings', 'tag_name_re', 'text', 'unwrap', 'wrap']\n",
            "<class 'list'>\n",
            "<class 'list'>\n"
          ]
        }
      ]
    },
    {
      "cell_type": "code",
      "source": [
        "for store in tag_body.find_all('tr'):\n",
        "  if len(store)<=3:\n",
        "    break\n",
        "\n",
        "  store_id = store.find_all('td')\n",
        "  # store_area = store_id[0].text와 같은 결과\n",
        "  store_area = store_id[0].string   \n",
        "  print(store_area)"
      ],
      "metadata": {
        "colab": {
          "base_uri": "https://localhost:8080/"
        },
        "id": "WaACCzKX7bXa",
        "outputId": "8afe3dce-5f28-4b27-cdc9-7441d149a739"
      },
      "execution_count": 91,
      "outputs": [
        {
          "output_type": "stream",
          "name": "stdout",
          "text": [
            "충남 천안시 동남구\n",
            "충남 천안시 동남구\n",
            "충남 공주시\n",
            "충남 공주시\n",
            "제주 제주시\n",
            "서울 마포구\n",
            "서울 강남구\n",
            "경기 수원시\n",
            "경기 고양시 덕양구\n",
            "서울 용산구\n"
          ]
        }
      ]
    },
    {
      "cell_type": "markdown",
      "source": [
        "### 새 섹션"
      ],
      "metadata": {
        "id": "R14G2ljttVWj"
      }
    },
    {
      "cell_type": "code",
      "source": [
        "result = []\n",
        "\n",
        "for store in tag_body.find_all('tr'):\n",
        "  if len(store)<=3:\n",
        "    break\n",
        "\n",
        "  store_id = store.select_one('td.noline.center_t').text\n",
        "  #print(store_id)\n",
        "\n",
        "  store_area = store.select_one('td.center_t a').text\n",
        "  #print(store_area)\n",
        "\n",
        "  store_open = store.find('td', class_='center_t tdp0').text\n",
        "  #print(store_open)\n",
        "\n",
        "  store_address = store.select_one('td:nth-of-type(4) > a').text\n",
        "  #print(store_address)\n",
        "\n",
        "  result.append([store_id]+[store_area]+[store_open]+[store_address])"
      ],
      "metadata": {
        "colab": {
          "base_uri": "https://localhost:8080/"
        },
        "id": "Ko_Z88RZWb4F",
        "outputId": "9037151f-8edd-4a76-dd9b-81ef83f06043"
      },
      "execution_count": 93,
      "outputs": [
        {
          "output_type": "execute_result",
          "data": {
            "text/plain": [
              "[['충남 천안시 동남구',\n",
              "  '순천향대학교 천안병원 외래점',\n",
              "  '영업중',\n",
              "  '충청남도 천안시 동남구 순천향6길 31 (봉명동, 순천향대학교천안병원) 외래센터 2층'],\n",
              " ['충남 천안시 동남구',\n",
              "  '순천향대학교 천안병원 본관점',\n",
              "  '영업중',\n",
              "  '충청남도 천안시 동남구 순천향6길 31 (봉명동, 순천향대학교천안병원) 본관 1층'],\n",
              " ['충남 공주시', '(천)이인휴게소점', '영업중', '충청남도 공주시 이인면 논산천안고속도로 32 (이인상행휴게소) .'],\n",
              " ['충남 공주시', '(논)탄천휴게소2호점', '영업중', '충청남도 공주시 탄천면 논산천안고속도로 27 (탄천하행휴게소) .'],\n",
              " ['제주 제주시', '이도점', '영업중', '제주특별자치도 제주시 중앙로 302 (이도이동, 더스프링) .'],\n",
              " ['서울 마포구', '연트럴파크점', '영업중', '서울특별시 마포구 동교로 233 (연남동) .'],\n",
              " ['서울 강남구', '강남우리라운지점', '영업중', '서울특별시 강남구 테헤란로 301 역삼동 701-02 삼정빌딩 1층'],\n",
              " ['경기 수원시', '수원영통점', '영업중', '경기도 수원시 영통구 청명남로 10 영통동 1000-1'],\n",
              " ['경기 고양시 덕양구', '원흥역점', '영업중', '경기 고양시 덕양구 권율대로 690 201동 108호~111호'],\n",
              " ['서울 용산구', '이태원역점', '영업중', '서울특별시 용산구 이태원로 180 2층~3층']]"
            ]
          },
          "metadata": {},
          "execution_count": 93
        }
      ]
    },
    {
      "cell_type": "code",
      "source": [
        "print(len(result))\n",
        "print(result)"
      ],
      "metadata": {
        "colab": {
          "base_uri": "https://localhost:8080/"
        },
        "id": "nPP93kqBaa8G",
        "outputId": "2a860d1e-24fb-4436-e9c2-885faa74f420"
      },
      "execution_count": 77,
      "outputs": [
        {
          "output_type": "stream",
          "name": "stdout",
          "text": [
            "10\n",
            "[['충남 천안시 동남구', '순천향대학교 천안병원 외래점', '영업중', '충청남도 천안시 동남구 순천향6길 31 (봉명동, 순천향대학교천안병원) 외래센터 2층'], ['충남 천안시 동남구', '순천향대학교 천안병원 본관점', '영업중', '충청남도 천안시 동남구 순천향6길 31 (봉명동, 순천향대학교천안병원) 본관 1층'], ['충남 공주시', '(천)이인휴게소점', '영업중', '충청남도 공주시 이인면 논산천안고속도로 32 (이인상행휴게소) .'], ['충남 공주시', '(논)탄천휴게소2호점', '영업중', '충청남도 공주시 탄천면 논산천안고속도로 27 (탄천하행휴게소) .'], ['제주 제주시', '이도점', '영업중', '제주특별자치도 제주시 중앙로 302 (이도이동, 더스프링) .'], ['서울 마포구', '연트럴파크점', '영업중', '서울특별시 마포구 동교로 233 (연남동) .'], ['서울 강남구', '강남우리라운지점', '영업중', '서울특별시 강남구 테헤란로 301 역삼동 701-02 삼정빌딩 1층'], ['경기 수원시', '수원영통점', '영업중', '경기도 수원시 영통구 청명남로 10 영통동 1000-1'], ['경기 고양시 덕양구', '원흥역점', '영업중', '경기 고양시 덕양구 권율대로 690 201동 108호~111호'], ['서울 용산구', '이태원역점', '영업중', '서울특별시 용산구 이태원로 180 2층~3층']]\n"
          ]
        }
      ]
    },
    {
      "cell_type": "code",
      "source": [
        "from google.colab import drive\n",
        "drive.mount('/content/drive')\n",
        "\n",
        "%cd /content/drive/MyDrive/python/data"
      ],
      "metadata": {
        "colab": {
          "base_uri": "https://localhost:8080/"
        },
        "id": "DHL908JjeA51",
        "outputId": "458bc293-e525-4230-f14d-c100e4c41b40"
      },
      "execution_count": 78,
      "outputs": [
        {
          "output_type": "stream",
          "name": "stdout",
          "text": [
            "Drive already mounted at /content/drive; to attempt to forcibly remount, call drive.mount(\"/content/drive\", force_remount=True).\n",
            "/content/drive/MyDrive/python/data\n"
          ]
        }
      ]
    },
    {
      "cell_type": "code",
      "source": [
        "!pwd"
      ],
      "metadata": {
        "colab": {
          "base_uri": "https://localhost:8080/"
        },
        "id": "3dVZxbaeedXQ",
        "outputId": "7b23f9ae-05c9-42e0-f73b-af6a2b02ba49"
      },
      "execution_count": 79,
      "outputs": [
        {
          "output_type": "stream",
          "name": "stdout",
          "text": [
            "/content/drive/MyDrive/python/data\n"
          ]
        }
      ]
    },
    {
      "cell_type": "markdown",
      "source": [
        "### csv파일로 저장하기 "
      ],
      "metadata": {
        "id": "NeJ3GoJ1txp3"
      }
    },
    {
      "cell_type": "code",
      "source": [
        "import csv\n",
        "\n",
        "#field names\n",
        "fields = ['store_id','store_area','store_open','store_address']\n",
        "\n",
        "# list를 csv파일로 저장하기\n",
        "# 'cp949'운영체제에 따라 인코딩이 달라짐 \n",
        "# utf-8로 해보고 깨지면 'cp949'로\n",
        "with open('./hollys.csv', 'w', newline='', encoding='cp949') as f:\n",
        "  write = csv.writer(f)\n",
        "  write.writerow(fields)\n",
        "  write.writerows(result)"
      ],
      "metadata": {
        "id": "cM3VQYuHbiw3"
      },
      "execution_count": 80,
      "outputs": []
    },
    {
      "cell_type": "code",
      "source": [
        "#파일로 저장한 것 다시 읽어오기\n",
        "with open('./hollys.csv','r',encoding='cp949') as f:\n",
        "  reader = csv.reader(f)\n",
        "  for row in reader:\n",
        "    for cell in row:  #쪼개서 가져오기\n",
        "      print(cell, end=',')\n",
        "    print()  #print는 println과 같이 줄바꿈됨\n"
      ],
      "metadata": {
        "colab": {
          "base_uri": "https://localhost:8080/"
        },
        "id": "n2ejR1bZdL9j",
        "outputId": "da4e696b-0515-40da-81df-ad1ee2e96f96"
      },
      "execution_count": 81,
      "outputs": [
        {
          "output_type": "stream",
          "name": "stdout",
          "text": [
            "store_id,store_area,store_open,store_address,\n",
            "충남 천안시 동남구,순천향대학교 천안병원 외래점,영업중,충청남도 천안시 동남구 순천향6길 31 (봉명동, 순천향대학교천안병원) 외래센터 2층,\n",
            "충남 천안시 동남구,순천향대학교 천안병원 본관점,영업중,충청남도 천안시 동남구 순천향6길 31 (봉명동, 순천향대학교천안병원) 본관 1층,\n",
            "충남 공주시,(천)이인휴게소점,영업중,충청남도 공주시 이인면 논산천안고속도로 32 (이인상행휴게소) .,\n",
            "충남 공주시,(논)탄천휴게소2호점,영업중,충청남도 공주시 탄천면 논산천안고속도로 27 (탄천하행휴게소) .,\n",
            "제주 제주시,이도점,영업중,제주특별자치도 제주시 중앙로 302 (이도이동, 더스프링) .,\n",
            "서울 마포구,연트럴파크점,영업중,서울특별시 마포구 동교로 233 (연남동) .,\n",
            "서울 강남구,강남우리라운지점,영업중,서울특별시 강남구 테헤란로 301 역삼동 701-02 삼정빌딩 1층,\n",
            "경기 수원시,수원영통점,영업중,경기도 수원시 영통구 청명남로 10 영통동 1000-1,\n",
            "경기 고양시 덕양구,원흥역점,영업중,경기 고양시 덕양구 권율대로 690 201동 108호~111호,\n",
            "서울 용산구,이태원역점,영업중,서울특별시 용산구 이태원로 180 2층~3층,\n"
          ]
        }
      ]
    },
    {
      "cell_type": "code",
      "source": [
        "# 날짜 가져오기\n",
        "import datetime\n",
        "\n",
        "now = datetime.datetime.today()\n",
        "print(now)\n",
        "print(now.utcnow())\n",
        "print(now.year, now.month, now.day, now.hour, now.minute, now.second)\n",
        "print(now.date())\n",
        "print(now.time())\n"
      ],
      "metadata": {
        "colab": {
          "base_uri": "https://localhost:8080/"
        },
        "id": "fNbLPL8hodb_",
        "outputId": "62417663-4be1-4dae-e909-2945a414df95"
      },
      "execution_count": 82,
      "outputs": [
        {
          "output_type": "stream",
          "name": "stdout",
          "text": [
            "2023-02-15 02:17:09.816343\n",
            "2023-02-15 02:17:09.816501\n",
            "2023 2 15 2 17 9\n",
            "2023-02-15\n",
            "02:17:09.816343\n"
          ]
        }
      ]
    },
    {
      "cell_type": "code",
      "source": [
        "import time\n",
        "time.strftime('%Y-%m-%d %h', time.localtime(time.time()))\n"
      ],
      "metadata": {
        "colab": {
          "base_uri": "https://localhost:8080/",
          "height": 35
        },
        "id": "gK9dHeW4q4Ma",
        "outputId": "9573bbea-12f6-427a-bf69-676af36432cc"
      },
      "execution_count": 83,
      "outputs": [
        {
          "output_type": "execute_result",
          "data": {
            "text/plain": [
              "'2023-02-15 Feb'"
            ],
            "application/vnd.google.colaboratory.intrinsic+json": {
              "type": "string"
            }
          },
          "metadata": {},
          "execution_count": 83
        }
      ]
    },
    {
      "cell_type": "markdown",
      "source": [
        "### 파일 작성하여 크롤링하기"
      ],
      "metadata": {
        "id": "SAfRPooytAC1"
      }
    },
    {
      "cell_type": "code",
      "source": [
        "#주피터에서 python파일로 저장하기\n",
        "%%writefile ./hollys_collector.py\n",
        "\n",
        "from bs4 import BeautifulSoup\n",
        "import requests\n",
        "import csv\n",
        "import datetime\n",
        "\n",
        "result = []\n",
        "\n",
        "def hollys_process():\n",
        "\n",
        "    url = 'https://www.hollys.co.kr/store/korea/korStore2.do'  #웹버전\n",
        "    header = {\"User-Agent\":\"Mozilla/5.0 (Windows NT 10.0; Win64; x64) AppleWebKit/537.36 (KHTML, like Gecko) Chrome/110.0.0.0 Safari/537.36\"}\n",
        "    res = requests.get(url, headers=header)\n",
        "\n",
        "    soup = BeautifulSoup(res.text, 'html.parser')\n",
        "    tag_body = soup.find('tbody')\n",
        "\n",
        "    for store in tag_body.find_all('tr'):\n",
        "        if len(store)<=3:\n",
        "            break\n",
        "\n",
        "        store_id = store.select_one('td.noline.center_t').text\n",
        "\n",
        "        store_area = store.select_one('td.center_t a').text\n",
        "\n",
        "        store_open = store.find('td', class_='center_t tdp0').text\n",
        "\n",
        "        store_address = store.select_one('td:nth-of-type(4) > a').text\n",
        "\n",
        "        result.append([store_id]+[store_area]+[store_open]+[store_address])\n",
        "\n",
        "\n",
        "#저장하기\n",
        "def hollys_save(filename):\n",
        "\n",
        "    fields = ['store_id','store_area','store_open','store_address']\n",
        "\n",
        "    # list를 csv파일로 저장하기\n",
        "    with open(filename, 'w', newline='', encoding='cp949') as f:\n",
        "      write = csv.writer(f)\n",
        "      write.writerow(fields)\n",
        "      write.writerows(result)\n",
        "    print(\"hollys 데이터 저장완료\")\n",
        "    del result[:]\n",
        "\n",
        "\n",
        "#저장 파일 읽어오기\n",
        "def hollys_load(filename):\n",
        "    with open(filename,'r',encoding='cp949') as f:\n",
        "      reader = csv.reader(f)\n",
        "      for row in reader:\n",
        "        for cell in row:  #쪼개서 가져오기\n",
        "          print(cell, end=',')\n",
        "        print()\n",
        "\n",
        "def main():\n",
        "    hollys_process()\n",
        "    #to_now = datetime.datetime.today()\n",
        "    to_now = datetime.datetime.now()\n",
        "    to_now = to_now.strftime('%Y-%m-%d %H:%M:%s')\n",
        "\n",
        "    print(to_now)\n",
        "    filename = './%s-hollys.csv' % to_now\n",
        "    hollys_save(filename)\n",
        "    hollys_load(filename)\n",
        "\n",
        "if __name__ == '__main__':\n",
        "  main()"
      ],
      "metadata": {
        "colab": {
          "base_uri": "https://localhost:8080/"
        },
        "id": "YNGTwAouslwQ",
        "outputId": "af29a34c-35b9-4984-d69e-fbc500451090"
      },
      "execution_count": 90,
      "outputs": [
        {
          "output_type": "stream",
          "name": "stdout",
          "text": [
            "Writing ./hollys_collector.py\n"
          ]
        }
      ]
    },
    {
      "cell_type": "code",
      "source": [
        "hollys_process()\n",
        "to_now = datetime.datetime.today().date()\n",
        "filename = './%s-hollys.csv' % to_now\n",
        "hollys_save(filename)\n",
        "hollys_load(filename)"
      ],
      "metadata": {
        "colab": {
          "base_uri": "https://localhost:8080/"
        },
        "id": "CJLBlRlTwbRj",
        "outputId": "16abb5d6-bd94-4fc3-ab67-39ad59e4a7bd"
      },
      "execution_count": 87,
      "outputs": [
        {
          "output_type": "stream",
          "name": "stdout",
          "text": [
            "hollys 데이터 저장완료\n",
            "store_id,store_area,store_open,store_address,\n",
            "충남 천안시 동남구,순천향대학교 천안병원 외래점,영업중,충청남도 천안시 동남구 순천향6길 31 (봉명동, 순천향대학교천안병원) 외래센터 2층,\n",
            "충남 천안시 동남구,순천향대학교 천안병원 본관점,영업중,충청남도 천안시 동남구 순천향6길 31 (봉명동, 순천향대학교천안병원) 본관 1층,\n",
            "충남 공주시,(천)이인휴게소점,영업중,충청남도 공주시 이인면 논산천안고속도로 32 (이인상행휴게소) .,\n",
            "충남 공주시,(논)탄천휴게소2호점,영업중,충청남도 공주시 탄천면 논산천안고속도로 27 (탄천하행휴게소) .,\n",
            "제주 제주시,이도점,영업중,제주특별자치도 제주시 중앙로 302 (이도이동, 더스프링) .,\n",
            "서울 마포구,연트럴파크점,영업중,서울특별시 마포구 동교로 233 (연남동) .,\n",
            "서울 강남구,강남우리라운지점,영업중,서울특별시 강남구 테헤란로 301 역삼동 701-02 삼정빌딩 1층,\n",
            "경기 수원시,수원영통점,영업중,경기도 수원시 영통구 청명남로 10 영통동 1000-1,\n",
            "경기 고양시 덕양구,원흥역점,영업중,경기 고양시 덕양구 권율대로 690 201동 108호~111호,\n",
            "서울 용산구,이태원역점,영업중,서울특별시 용산구 이태원로 180 2층~3층,\n"
          ]
        }
      ]
    },
    {
      "cell_type": "code",
      "source": [],
      "metadata": {
        "id": "Jk55vHkbwh2t"
      },
      "execution_count": 85,
      "outputs": []
    }
  ]
}