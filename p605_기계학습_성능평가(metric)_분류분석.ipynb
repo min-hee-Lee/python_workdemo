{
  "nbformat": 4,
  "nbformat_minor": 0,
  "metadata": {
    "colab": {
      "provenance": [],
      "include_colab_link": true
    },
    "kernelspec": {
      "name": "python3",
      "display_name": "Python 3"
    },
    "language_info": {
      "name": "python"
    }
  },
  "cells": [
    {
      "cell_type": "markdown",
      "metadata": {
        "id": "view-in-github",
        "colab_type": "text"
      },
      "source": [
        "<a href=\"https://colab.research.google.com/github/min-hee-Lee/python_workdemo/blob/master/p605_%EA%B8%B0%EA%B3%84%ED%95%99%EC%8A%B5_%EC%84%B1%EB%8A%A5%ED%8F%89%EA%B0%80(metric)_%EB%B6%84%EB%A5%98%EB%B6%84%EC%84%9D.ipynb\" target=\"_parent\"><img src=\"https://colab.research.google.com/assets/colab-badge.svg\" alt=\"Open In Colab\"/></a>"
      ]
    },
    {
      "cell_type": "markdown",
      "source": [
        "### 구글 코랩에서 한글 문제 해결  \n",
        "- 아래 코드 설치를 한다.  \n",
        "- 코랩 런타임 -> 런타임 다시 시작 한다."
      ],
      "metadata": {
        "id": "4ok5sUefdRjP"
      }
    },
    {
      "cell_type": "code",
      "source": [
        "!sudo apt-get install -y fonts-nanum\n",
        "!sudo fc-cache -fv\n",
        "!rm ~/.cache/matplotlib -rf"
      ],
      "metadata": {
        "colab": {
          "base_uri": "https://localhost:8080/"
        },
        "id": "muD-PfHRdQrW",
        "outputId": "c1c7fec2-6f06-4440-b17a-14bd71a3ddd2"
      },
      "execution_count": 1,
      "outputs": [
        {
          "output_type": "stream",
          "name": "stdout",
          "text": [
            "Reading package lists... Done\n",
            "Building dependency tree       \n",
            "Reading state information... Done\n",
            "fonts-nanum is already the newest version (20180306-3).\n",
            "0 upgraded, 0 newly installed, 0 to remove and 22 not upgraded.\n",
            "/usr/share/fonts: caching, new cache contents: 0 fonts, 1 dirs\n",
            "/usr/share/fonts/truetype: caching, new cache contents: 0 fonts, 3 dirs\n",
            "/usr/share/fonts/truetype/humor-sans: caching, new cache contents: 1 fonts, 0 dirs\n",
            "/usr/share/fonts/truetype/liberation: caching, new cache contents: 16 fonts, 0 dirs\n",
            "/usr/share/fonts/truetype/nanum: caching, new cache contents: 10 fonts, 0 dirs\n",
            "/usr/local/share/fonts: caching, new cache contents: 0 fonts, 0 dirs\n",
            "/root/.local/share/fonts: skipping, no such directory\n",
            "/root/.fonts: skipping, no such directory\n",
            "/usr/share/fonts/truetype: skipping, looped directory detected\n",
            "/usr/share/fonts/truetype/humor-sans: skipping, looped directory detected\n",
            "/usr/share/fonts/truetype/liberation: skipping, looped directory detected\n",
            "/usr/share/fonts/truetype/nanum: skipping, looped directory detected\n",
            "/var/cache/fontconfig: cleaning cache directory\n",
            "/root/.cache/fontconfig: not cleaning non-existent cache directory\n",
            "/root/.fontconfig: not cleaning non-existent cache directory\n",
            "fc-cache: succeeded\n"
          ]
        }
      ]
    },
    {
      "cell_type": "markdown",
      "source": [
        "# 구글 드라이버 연동"
      ],
      "metadata": {
        "id": "6DHdrt58dZuW"
      }
    },
    {
      "cell_type": "code",
      "source": [
        "from google.colab import drive\n",
        "drive.mount('/content/drive')\n",
        "\n",
        "%cd /content/drive/MyDrive/python/dataanalysis"
      ],
      "metadata": {
        "colab": {
          "base_uri": "https://localhost:8080/"
        },
        "id": "VPO0Qitlda0n",
        "outputId": "4d12d30a-e694-4920-e3e1-6e749af62761"
      },
      "execution_count": 2,
      "outputs": [
        {
          "output_type": "stream",
          "name": "stdout",
          "text": [
            "Drive already mounted at /content/drive; to attempt to forcibly remount, call drive.mount(\"/content/drive\", force_remount=True).\n",
            "/content/drive/MyDrive/python/dataanalysis\n"
          ]
        }
      ]
    },
    {
      "cell_type": "markdown",
      "source": [
        "- 분류의 평가방법은 실제 결과 데이터와 예측 결과 데이터가 얼마나 정확하고 오류가 적게 발생하는가에 기반하지만, 단순히 정확도만 가지고 판단했다가는 잘못된 평가 결과게 빠질 수 있다. \n",
        "\n",
        "- 0 또는 1, 긍정 또는 부정을 판단하는 이진 분류에서는 정확도보다는 다른 성능 평가 지표가 더 중요시 되는 경우가 많다.  \n",
        "\n",
        "- 분류의 성능 평가 지표(암기)  \n",
        "① 정확도(Accuracy)  \n",
        "② 오차행렬(Confusion Matrix)  \n",
        "③ 정밀도(Precision)  \n",
        "④ 재현율(Recall)  \n",
        "⑤ F1 스코어  \n",
        "⑥ ROC AUC  "
      ],
      "metadata": {
        "id": "9ZArPpu2IM_o"
      }
    },
    {
      "cell_type": "markdown",
      "source": [
        "### 1. 정확도 (Accuracy)  \n",
        "$정확도(Accuracy) = \\frac{예측 결과가 동일한 데이터 건수 }{전체 예측데이터 건수}$\n",
        "\n",
        "- 정확도는 직관적으로 모델 예측 성능을 나타내는 평가 지표이다.  \n",
        "- 하지만 이진 분류의 경우 데이터의 구성에 따라 ML모델의 성능을 왜곡할 수 있기 때문에 정확도 수치 하나만 가지고 성능을 평가하지 않는다."
      ],
      "metadata": {
        "id": "nuOSLhSlIR9A"
      }
    },
    {
      "cell_type": "markdown",
      "source": [
        "단순히 Sex 피처가 1이면 0, 그렇지 않으면 1로 예측하는 단순한 Classifier이다."
      ],
      "metadata": {
        "id": "9Xxw9tSiaSDe"
      }
    },
    {
      "cell_type": "code",
      "execution_count": 3,
      "metadata": {
        "id": "8jlHrJJFH7N7"
      },
      "outputs": [],
      "source": [
        "import numpy as np\n",
        "from sklearn.base import BaseEstimator\n",
        "\n",
        "class MyDummyClassifier(BaseEstimator):\n",
        "    # fit( ) 메소드는 아무것도 학습하지 않음. \n",
        "    def fit(self, X , y=None):\n",
        "        pass\n",
        "    \n",
        "    # predict( ) 메소드는 단순히 Sex feature가 1 이면 0 , 그렇지 않으면 1 로 예측함. \n",
        "    def predict(self, X):\n",
        "        pred = np.zeros( ( X.shape[0], 1 ))\n",
        "        for i in range (X.shape[0]) :\n",
        "            if X['Sex'].iloc[i] == 1:\n",
        "                pred[i] = 0\n",
        "            else :\n",
        "                pred[i] = 1\n",
        "        \n",
        "        return pred"
      ]
    },
    {
      "cell_type": "markdown",
      "source": [
        " 앞에 타이타닉 예시에서 했던 전처리와 동일하게 처리"
      ],
      "metadata": {
        "id": "QGHO6QhZas_2"
      }
    },
    {
      "cell_type": "code",
      "source": [
        "import pandas as pd\n",
        "from sklearn.preprocessing import LabelEncoder\n",
        "\n",
        "# Null 처리 함수\n",
        "def fillna(df):\n",
        "    df['Age'].fillna(df['Age'].mean(),inplace=True)\n",
        "    df['Cabin'].fillna('N',inplace=True)\n",
        "    df['Embarked'].fillna('N',inplace=True)\n",
        "    df['Fare'].fillna(0,inplace=True)\n",
        "    return df\n",
        "\n",
        "# 머신러닝 알고리즘에 불필요한 속성 제거\n",
        "def drop_features(df):\n",
        "    df.drop(['PassengerId','Name','Ticket'],axis=1,inplace=True)\n",
        "    return df\n",
        "\n",
        "# 레이블 인코딩 수행. \n",
        "def format_features(df):\n",
        "    df['Cabin'] = df['Cabin'].str[:1]\n",
        "    features = ['Cabin','Sex','Embarked']\n",
        "    for feature in features:\n",
        "        le = LabelEncoder()\n",
        "        le = le.fit(df[feature])\n",
        "        df[feature] = le.transform(df[feature])\n",
        "    return df\n",
        "\n",
        "# 앞에서 설정한 Data Preprocessing 함수 호출\n",
        "def transform_features(df):\n",
        "    df = fillna(df)\n",
        "    df = drop_features(df)\n",
        "    df = format_features(df)\n",
        "    return df"
      ],
      "metadata": {
        "id": "j_M4XxofaOWf"
      },
      "execution_count": 4,
      "outputs": []
    },
    {
      "cell_type": "markdown",
      "source": [
        "정확도 측정"
      ],
      "metadata": {
        "id": "-30jlCkZa2NF"
      }
    },
    {
      "cell_type": "code",
      "source": [
        "import pandas as pd\n",
        "from sklearn.model_selection import train_test_split\n",
        "from sklearn.metrics import accuracy_score\n",
        "\n",
        "# 원본 데이터를 재로딩, 데이터 가공, 학습데이터/테스트 데이터 분할\n",
        "titanic_df = pd.read_csv('./dataset/titanic/train.csv')\n",
        "y_titanic_df = titanic_df['Survived']\n",
        "X_titanic_df= titanic_df.drop('Survived', axis=1)\n",
        "X_titanic_df = transform_features(X_titanic_df)\n",
        "X_train, X_test, y_train, y_test=train_test_split(X_titanic_df, y_titanic_df, \\\n",
        "                                                  test_size=0.2, random_state=0)\n",
        "\n",
        "# 위에서 생성한 Dummy Classifier를 이용하여 학습/예측/평가 수행\n",
        "myclf = MyDummyClassifier()\n",
        "myclf.fit(X_train, y_train)\n",
        "\n",
        "mypredictions = myclf.predict(X_test)\n",
        "print('Dummy Classifier의 정확도는: {0:.4f}'.format(accuracy_score(y_test , mypredictions)))"
      ],
      "metadata": {
        "colab": {
          "base_uri": "https://localhost:8080/"
        },
        "id": "EVz7EJZjaxIe",
        "outputId": "7fb0c8b4-54f8-4000-9a76-cb6bc2f7fb5d"
      },
      "execution_count": 5,
      "outputs": [
        {
          "output_type": "stream",
          "name": "stdout",
          "text": [
            "Dummy Classifier의 정확도는: 0.7877\n"
          ]
        }
      ]
    },
    {
      "cell_type": "markdown",
      "source": [
        "불균형한 이진 분류로 만들기 위해 숫자 '7'만 True 나머지 숫자는 False로 설정\n",
        "\n",
        "- 마찬가지로 fit은 아무것도 하지 않음\n",
        "- predict에서는 무조건 0을 반환함\n",
        "- 모든 예측을 다 0으로 하는 것! (모두 7이 아닌 다른 숫자라고 예측)\n",
        "- 당연히 모델로서 말이 안 되는데 이것의 정확도를 측정"
      ],
      "metadata": {
        "id": "tAAS7DWPbL8W"
      }
    },
    {
      "cell_type": "code",
      "source": [
        "from sklearn.datasets import load_digits\n",
        "from sklearn.model_selection import train_test_split\n",
        "from sklearn.base import BaseEstimator\n",
        "from sklearn.metrics import confusion_matrix\n",
        "from sklearn.metrics import accuracy_score\n",
        "import numpy as np\n",
        "import pandas as pd\n",
        "\n",
        "class MyFakeClassifier(BaseEstimator):\n",
        "    def fit(self,X,y):\n",
        "        pass\n",
        "    \n",
        "    # 입력값으로 들어오는 X 데이터 셋의 크기만큼 모두 0값으로 만들어서 반환\n",
        "    def predict(self,X):\n",
        "        return np.zeros( (len(X), 1) , dtype=bool)\n",
        "\n",
        "# 사이킷런의 내장 데이터 셋인 load_digits( )를 이용하여 MNIST 데이터 로딩\n",
        "digits = load_digits()\n",
        "\n",
        "print(digits.data)\n",
        "print(\"### digits.data.shape:\", digits.data.shape)\n",
        "print(digits.target)\n",
        "print(\"### digits.target.shape:\", digits.target.shape)"
      ],
      "metadata": {
        "colab": {
          "base_uri": "https://localhost:8080/"
        },
        "id": "vBQ3lbBSa3_t",
        "outputId": "b93486a3-fcbe-4f15-e622-cd7d6dde08dd"
      },
      "execution_count": 6,
      "outputs": [
        {
          "output_type": "stream",
          "name": "stdout",
          "text": [
            "[[ 0.  0.  5. ...  0.  0.  0.]\n",
            " [ 0.  0.  0. ... 10.  0.  0.]\n",
            " [ 0.  0.  0. ... 16.  9.  0.]\n",
            " ...\n",
            " [ 0.  0.  1. ...  6.  0.  0.]\n",
            " [ 0.  0.  2. ... 12.  0.  0.]\n",
            " [ 0.  0. 10. ... 12.  1.  0.]]\n",
            "### digits.data.shape: (1797, 64)\n",
            "[0 1 2 ... 8 9 8]\n",
            "### digits.target.shape: (1797,)\n"
          ]
        }
      ]
    },
    {
      "cell_type": "markdown",
      "source": [
        "정확도 예측"
      ],
      "metadata": {
        "id": "cSBRmknFbWoV"
      }
    },
    {
      "cell_type": "code",
      "source": [
        "# digits번호가 7번이면 True이고 이를 astype(int)로 1로 변환, 7번이 아니면 False이고 0으로 변환. \n",
        "# 전체 데이터의 10%만 True, 나머지 90%는 False인 불균형한 데이터 세트로 변형\n",
        "y = (digits.target == 7).astype(int)\n",
        "X_train, X_test, y_train, y_test = train_test_split( digits.data, y, random_state=11)\n",
        "\n",
        "# 불균형한 레이블 데이터 분포도 확인. \n",
        "print('레이블 테스트 세트 크기 :', y_test.shape)\n",
        "print('테스트 세트 레이블 0 과 1의 분포도')\n",
        "print(pd.Series(y_test).value_counts())\n",
        "\n",
        "# Dummy Classifier로 학습/예측/정확도 평가\n",
        "fakeclf = MyFakeClassifier()\n",
        "fakeclf.fit(X_train , y_train)\n",
        "\n",
        "fakepred = fakeclf.predict(X_test)\n",
        "cf = confusion_matrix(y_test,fakepred)\n",
        "print('confusion_matrix')\n",
        "print()\n",
        "print(cf)\n",
        "print('모든 예측을 0으로 하여도 정확도는:{:.3f}'.format(accuracy_score(y_test , fakepred)))\n",
        "\n",
        "#결과값은 훈련할 때마다 다를 수 있음"
      ],
      "metadata": {
        "colab": {
          "base_uri": "https://localhost:8080/"
        },
        "id": "u75M3LCAbUQu",
        "outputId": "c0ac5ef9-2be9-4f53-cb77-0a98a1731284"
      },
      "execution_count": 7,
      "outputs": [
        {
          "output_type": "stream",
          "name": "stdout",
          "text": [
            "레이블 테스트 세트 크기 : (450,)\n",
            "테스트 세트 레이블 0 과 1의 분포도\n",
            "0    405\n",
            "1     45\n",
            "dtype: int64\n",
            "confusion_matrix\n",
            "\n",
            "[[405   0]\n",
            " [ 45   0]]\n",
            "모든 예측을 0으로 하여도 정확도는:0.900\n"
          ]
        }
      ]
    },
    {
      "cell_type": "markdown",
      "source": [
        "- 모든 예측을 0으로 했지만, 0 (7이 아닌 숫자)이 1 (숫자 7)보다 훨씬 많은 불균형 데이터였기 때문에, 정확도가 무려 90%가 나왔다. \n",
        "\n",
        "- 이렇게 두 가지 예제로 불균형 데이터에서 정확도의 성능 평가지표로서 한계를 보였다 "
      ],
      "metadata": {
        "id": "fKgUU28EbbYO"
      }
    },
    {
      "cell_type": "markdown",
      "source": [
        "### 2 오차행렬 = 오분류표=혼동행렬\n",
        "- 이진 분류에서 성능 지표로 오차행렬(confusion matrix, 혼동 행렬)은 학습된 분류 모델이 예측을 수행하면서 얼마나 헷갈리고(confused) 있는지도 함께 보여주는 지표이다.\n",
        "\n",
        "\n",
        "![confusion](https://velog.velcdn.com/images/gangjoo/post/c6d9396b-15b1-4325-b429-50ca9fc3210c/image.png)\n",
        "\n",
        "\n",
        "- TN는 예측값을 Negative 값 0으로 예측했고 실제값 역시 Negative 값 0\n",
        "- FP는 예측값을 Positive 값 1로 예측했는데 실제 값은 Negative 값 0\n",
        "- FN은 예측값을 Negative 값 0으로 예측했는데 실제 값은 Positive 값 1\n",
        "- TP는 예측값을 Positive갑 1로 예측했는데 실제 값 역시 Positive 값 1\n",
        "\n",
        "정확도(Accuracy) = 예측  결과와 실제 값이 동일한 건수 / 전체 데이터수 = (TN + TP ) / (TN + FP + FN + TP) \n",
        "\n",
        "**예측이 맞으면 앞이 T, 틀리면 F\n",
        "예)TN = T:맞게예측함 N:결과가 Negative라는 것을"
      ],
      "metadata": {
        "id": "qeJycLkieZWl"
      }
    },
    {
      "cell_type": "markdown",
      "source": [
        "사이킷런은 오차 행렬을 구하기 위해 confusion_matrix() API를 제공"
      ],
      "metadata": {
        "id": "tZtP1hIpBIOh"
      }
    },
    {
      "cell_type": "code",
      "source": [
        "from sklearn.metrics import confusion_matrix\n",
        "import seaborn as sns\n",
        "sns.heatmap(confusion_matrix(y_test, fakepred), annot=True, fmt='2.0f', cmap='summer_r')"
      ],
      "metadata": {
        "colab": {
          "base_uri": "https://localhost:8080/",
          "height": 285
        },
        "id": "CXrBo-oEBHxi",
        "outputId": "5d86d3ca-27da-4657-b868-892f7d3941b5"
      },
      "execution_count": 8,
      "outputs": [
        {
          "output_type": "execute_result",
          "data": {
            "text/plain": [
              "<AxesSubplot:>"
            ]
          },
          "metadata": {},
          "execution_count": 8
        },
        {
          "output_type": "display_data",
          "data": {
            "text/plain": [
              "<Figure size 432x288 with 2 Axes>"
            ],
            "image/png": "[encoded data removed]"
          },
          "metadata": {
            "needs_background": "light"
          }
        }
      ]
    },
    {
      "cell_type": "markdown",
      "source": [
        "### 3 정밀도(Precision)와 재현율(Recall)"
      ],
      "metadata": {
        "id": "H72sqDsD_UGR"
      }
    },
    {
      "cell_type": "markdown",
      "source": [
        " \n",
        "정밀도(Precision) = TP  / (FP + TP)  \n",
        "재현율(Recall) = TP / (FN + TP)  \n",
        "재현율(Recall)=민감도(Sensitivity)=TPR(True Positive Rate)\n",
        "\n",
        "\n",
        "- 분균형한 데이터 세트에서 정확도만으로는 모델 신뢰도가 떨어질 수 있다.\n",
        "- 재현율이 상대적으로 더 중요한 지표인 경우는 실제 Positive 양성인 데이터 예측을 Negative로 잘못 판단하게 되면 업무상 큰 영향이 발생하는 경우 ex) 암 판단 모델, 보험 사기등의 금융 사기 적발 모델이다.\n",
        "- 정밀도가 상대적으로 더 중요한 지표인 경우는 실제 Negative 음성인 데이터 예측을 Positive로 잘못 판단하게 되면 업무상 큰 영향이 발생하는 경우 ex) 스팸 메일 여부를 판단하는 모델이다.\n",
        "-재현율과 정밀도 모두 TP를 높이는데 초점을 맞추지만, 재현율은 FN을 낮추는데, 정밀도는 FP를 낮추는데 초점을 맞춘다.\n",
        "- 사이킷런은 정밀도 계산을 위해 precision_score(), 재현율 계산을 위해 recall_score()를 API로 제공한다.\n"
      ],
      "metadata": {
        "id": "k3jXgxER5Sky"
      }
    },
    {
      "cell_type": "markdown",
      "source": [
        "평가를 간편하게 적용하기 위해서 confusion matrix, accuracy, precision, recall등의 평가를 한번에 호출하는 get_clf_eval()함수를 만들고 타이타닉 데이터를 가공해 로지스틱 회귀로 분류를 수행"
      ],
      "metadata": {
        "id": "G1T4LV2Z9h3Z"
      }
    },
    {
      "cell_type": "code",
      "source": [
        "from sklearn.metrics import precision_score, recall_score\n",
        "\n",
        "def get_clf_eval(y_test, pred):\n",
        "    confusion = confusion_matrix(y_test, pred)\n",
        "    accuracy = accuracy_score(y_test, pred)\n",
        "    precision = precision_score(y_test, pred)\n",
        "    recall = recall_score(y_test, pred)\n",
        "    # 원래 책에 있는 print(confusion)인데 안예뻐서 seaborn의 heatmap 사용\n",
        "    sns.heatmap(confusion, annot=True, fmt='2.0f', cmap='summer_r')\n",
        "    print('정확도: {0:.4f}, 정밀도: {1:.4f}, 재현율: {2:.4f}'.format(accuracy, precision, recall))"
      ],
      "metadata": {
        "id": "f7JwraqLbYWG"
      },
      "execution_count": 9,
      "outputs": []
    },
    {
      "cell_type": "code",
      "source": [
        "from sklearn.linear_model import LogisticRegression\n",
        "\n",
        "titanic_df = pd.read_csv('./dataset/titanic/train.csv')\n",
        "y_titanic_df = titanic_df['Survived']\n",
        "X_titanic_df = titanic_df.drop('Survived', axis=1)\n",
        "X_titanic_df = transform_features(X_titanic_df)\n",
        "\n",
        "print(X_titanic_df.shape)\n",
        "X_train, X_test, y_train, y_test = train_test_split(X_titanic_df, y_titanic_df, test_size=0.20, random_state=11)\n",
        "print(X_train.shape)\n",
        "print(X_test.shape)  #테스트한 결과 총 179개\n",
        "\n",
        "lr_clf = LogisticRegression(max_iter=500)\n",
        "lr_clf.fit(X_train, y_train)  #훈련시킴\n",
        "pred = lr_clf.predict(X_test) #예측함\n",
        "get_clf_eval(y_test, pred)  #y_test:실제값, pred:예측값"
      ],
      "metadata": {
        "colab": {
          "base_uri": "https://localhost:8080/",
          "height": 338
        },
        "id": "wWLT-e314yga",
        "outputId": "860d63bc-92a7-4690-edec-59d8b4723b77"
      },
      "execution_count": 10,
      "outputs": [
        {
          "output_type": "stream",
          "name": "stdout",
          "text": [
            "(891, 8)\n",
            "(712, 8)\n",
            "(179, 8)\n",
            "정확도: 0.8492, 정밀도: 0.7742, 재현율: 0.7869\n"
          ]
        },
        {
          "output_type": "display_data",
          "data": {
            "text/plain": [
              "<Figure size 432x288 with 2 Axes>"
            ],
            "image/png": "[encoded data removed]"
          },
          "metadata": {
            "needs_background": "light"
          }
        }
      ]
    },
    {
      "cell_type": "markdown",
      "source": [
        "\n",
        "\n",
        "\n",
        "실제 죽음  생존 예측  \n",
        "죽음 예측   실제 생존"
      ],
      "metadata": {
        "id": "rTg8f7zk--QB"
      }
    },
    {
      "cell_type": "markdown",
      "source": [
        "정밀도/재현율 트레이드오프\n",
        "\n",
        "- 분류의 결정 임곗값(Threshold)을 조정해 정밀도 또는 재현율의 수치를 높일 수 있다. \n",
        "- 하지만 정밀도와 재현율은 상호 보완적인 평가 지표이기에 어느 한쪽을 강제로 높이면 다른 하나의 수치는 떨어지기 쉽다. 이를 정밀도/재현율 트레이드오프(Trade-off)라고 한다.\n",
        "- 사이킷런의 분류 알고리즘은 예측 데이터가 특정 레이블(Label, 결정 클래스 값)에 속하는지를 계산하기 위해 먼저 개별 레이블별로 결정 확률을 구한다. 그리고 예측 확률이 큰 레이블값으로 예측하게 된다.\n",
        "- 가령 이진 분류 모델에서 특정 데이터가 0이 될 확률이 10%,1이될 확률이 90%로 예측됐다면 최종 예측은 더 큰 확률을 가진, 즉 90% 확률을 가진 1로 예측한다.\n",
        "- 일반적으로 이진 분류에서는 이 임계값을 0.5, 즉 50%로 정하고 이 기준 값보다 확률이 크면 Positive, 작으면 Negative로 결정한다.\n",
        "- 사이킷런은 개별 데이터별로 예측 확률을 반환하는 메서드인 predict_proba()를 제공한다. \n",
        "- predict_proba( )메서드는  학습이 완료된 사이킷런 Classifier 객체에서 호출이 가능하며 테스트 피처 데이터 세트를 파라미터로 입력해주면 테스트 피처 레코드의 개별 클래스 예측 확률을 반환한다. \n",
        "- predict()메서드와 유사하지만 단지 반환 결과가 예측 결과 클래스값이 아닌 예측 확률 결과이다. \n",
        "- 이진 분류에서 predict_proba( )를 수행해 반환되는 ndarry는 첫 번째 칼럼이 클래스 값 0에 대한 예측 확률, 두 번째 컬럼이 클래스 값 1에 대한 예측 확률이다.\n"
      ],
      "metadata": {
        "id": "Xr4qBKVF_dQ5"
      }
    },
    {
      "cell_type": "code",
      "source": [
        "pred_proba = lr_clf.predict_proba(X_test)\n",
        "pred = lr_clf.predict(X_test)\n",
        "print(f'pred_proba() 결과 shape: {pred_proba.shape}')\n",
        "print(f'pred_proba array에서 앞 3개만 샘플로 추출:\\n{pred_proba[:3]}')\n",
        "\n",
        "# 예측 확률 array와 예측 결괏값 array를 병합해 예측 확률과 결과값을 한눈에 확인\n",
        "pred_proba_result = np.concatenate([pred_proba, pred.reshape(-1, 1)], axis=1)\n",
        "print(f'두 개의 class중에서 더 큰 확률을 클래스 값으로 예측:\\n{pred_proba_result[:3]}')"
      ],
      "metadata": {
        "colab": {
          "base_uri": "https://localhost:8080/"
        },
        "id": "W2Ui3CLN-FEC",
        "outputId": "a6208402-f7fc-46d6-d241-5035d0cd17db"
      },
      "execution_count": 11,
      "outputs": [
        {
          "output_type": "stream",
          "name": "stdout",
          "text": [
            "pred_proba() 결과 shape: (179, 2)\n",
            "pred_proba array에서 앞 3개만 샘플로 추출:\n",
            "[[0.4621693  0.5378307 ]\n",
            " [0.87879062 0.12120938]\n",
            " [0.87724729 0.12275271]]\n",
            "두 개의 class중에서 더 큰 확률을 클래스 값으로 예측:\n",
            "[[0.4621693  0.5378307  1.        ]\n",
            " [0.87879062 0.12120938 0.        ]\n",
            " [0.87724729 0.12275271 0.        ]]\n"
          ]
        }
      ]
    },
    {
      "cell_type": "markdown",
      "source": [
        "사이킷런의 predict()는 predict_proba() 메서드가 반환하는 확률 값을 가진 ndarray에서 정해진 임곗값(위의 예제는 0.5)을 만족하는 ndarray의 칼럼 위치를 최종 예측 클래스로 결정한다. 사이킷런의 Binarizer 클래스를 이용해서 이 로직을 구현한다."
      ],
      "metadata": {
        "id": "SJn6fc9hHCIw"
      }
    },
    {
      "cell_type": "code",
      "source": [
        "# 이해를 돕기위한 Binarizer 예제\n",
        "from sklearn.preprocessing import Binarizer\n",
        "\n",
        "X = [[1, -1, 2],\n",
        "    [2, 0 , 0],\n",
        "    [0, 1.1, 1.2]]\n",
        "\n",
        "# X의 개별 원소들이 threshold 값보다 같거나 작으면 0, 크면 1\n",
        "binarizer = Binarizer(threshold=1.1)\n",
        "print(binarizer.fit_transform(X))"
      ],
      "metadata": {
        "colab": {
          "base_uri": "https://localhost:8080/"
        },
        "id": "dvC4-2A2GzDJ",
        "outputId": "1e54b4e8-6158-4384-eea9-0df48a6c8e9e"
      },
      "execution_count": 12,
      "outputs": [
        {
          "output_type": "stream",
          "name": "stdout",
          "text": [
            "[[0. 0. 1.]\n",
            " [1. 0. 0.]\n",
            " [0. 0. 1.]]\n"
          ]
        }
      ]
    },
    {
      "cell_type": "code",
      "source": [
        "custom_threshold = 0.5  #임계값을 0.5로 주고 새로 훈련, 결과값 출력\n",
        "\n",
        "# predict_proba() 반환값의 두 번째 칼럼, 즉 positive 클래스 칼럼 하나만 추출해 Binarizer를 적용\n",
        "pred_proba_1 = pred_proba[:, 1].reshape(-1, 1)\n",
        "binarizer = Binarizer(threshold=custom_threshold).fit(pred_proba_1)\n",
        "custom_predict = binarizer.transform(pred_proba_1)\n",
        "\n",
        "get_clf_eval(y_test, custom_predict)"
      ],
      "metadata": {
        "colab": {
          "base_uri": "https://localhost:8080/",
          "height": 283
        },
        "id": "HjupVtjeHFVR",
        "outputId": "cdf0de80-c3f9-4872-9e00-f55d5068258d"
      },
      "execution_count": 14,
      "outputs": [
        {
          "output_type": "stream",
          "name": "stdout",
          "text": [
            "정확도: 0.8492, 정밀도: 0.7742, 재현율: 0.7869\n"
          ]
        },
        {
          "output_type": "display_data",
          "data": {
            "text/plain": [
              "<Figure size 432x288 with 2 Axes>"
            ],
            "image/png": "[encoded data removed]"
          },
          "metadata": {
            "needs_background": "light"
          }
        }
      ]
    },
    {
      "cell_type": "code",
      "source": [
        "# Binarizer의 threshold 설정값을 0.4로 설정, 즉 분류 결정 임계값을 0.5에서 0.4로 낮춤\n",
        "custom_threshold_2 = 0.4\n",
        "pred_proba_2 = pred_proba[:, 1].reshape(-1, 1)\n",
        "binarizer_2 = Binarizer(threshold=custom_threshold_2).fit(pred_proba_2)\n",
        "custom_predict_2 = binarizer_2.transform(pred_proba_2)\n",
        "\n",
        "get_clf_eval(y_test, custom_predict_2)"
      ],
      "metadata": {
        "colab": {
          "base_uri": "https://localhost:8080/",
          "height": 283
        },
        "id": "0tSUtFIoNq8Y",
        "outputId": "51e637c0-0f1b-4931-b66f-6d5eb2350b0a"
      },
      "execution_count": 15,
      "outputs": [
        {
          "output_type": "stream",
          "name": "stdout",
          "text": [
            "정확도: 0.8324, 정밀도: 0.7183, 재현율: 0.8361\n"
          ]
        },
        {
          "output_type": "display_data",
          "data": {
            "text/plain": [
              "<Figure size 432x288 with 2 Axes>"
            ],
            "image/png": "[encoded data removed]"
          },
          "metadata": {
            "needs_background": "light"
          }
        }
      ]
    },
    {
      "cell_type": "markdown",
      "source": [
        "임계값을 낮추니 재현율 값이 올라가고 정밀도가 떨어졌다. 이유는 분류 결정 임계값은 Positive 예측값을 결정하는 확률의 기준이 된다. 확률이 0.5가 아닌 0.4부터 Positive로 예측을 더 너그럽게 하기 때문에 임계값을 낮출수록 True 값이 많아지게 된다.(따라서 암 진단처럼 넓게 계산해야 하는 부분에서 임계값을 0.4로 설정해야 한다)"
      ],
      "metadata": {
        "id": "sxw6hs2ETmMA"
      }
    },
    {
      "cell_type": "markdown",
      "source": [
        "![임계값](https://user-images.githubusercontent.com/76269316/124445451-87630080-ddba-11eb-8a42-899cea80c606.png)"
      ],
      "metadata": {
        "id": "RC5iuKdMX1Vv"
      }
    },
    {
      "cell_type": "markdown",
      "source": [
        "Positive 예측값이 많아지면 상대적으로 재현율 값이 높아진다. 양성 예측을 많이 하다 보니 실제 양성을 음성으로 예측하는 횟수가 상대적으로 줄어들기 때문이다.\n",
        "\n",
        "[임계값 0.5일때 오차 행렬]\n",
        "\n",
        "\n",
        "| TN (108) | FP (10) |\n",
        "|---|---|\n",
        "| FN(14)   | TP (47) |\n",
        "\n",
        "\n",
        "\n",
        "\n",
        "[임계값 0.4일때 오차 행렬]\n",
        "\n",
        "\n",
        "| TN (97) | FP (21) |\n",
        "|---|---|\n",
        "| FN(11)   | TP (50) |\n",
        "  \n",
        "  "
      ],
      "metadata": {
        "id": "LKfoHt3NVQCe"
      }
    },
    {
      "cell_type": "markdown",
      "source": [
        "임계값이 낮아지면서 TP가 48에서 51로 늘었고, FN이 13에서 10으로 줄었다. 따라서 재현율이 0.8361로 좋아졌고,\n",
        "\n",
        "FP는 14에서 19로 늘면서 정밀도가 0.7286으로 나빠졌다."
      ],
      "metadata": {
        "id": "Wm2_DRFTYa4X"
      }
    },
    {
      "cell_type": "markdown",
      "source": [
        "임계값을 0.4에서부터 0.6까지 0.05씩 증가시키며 평가 지표 조사"
      ],
      "metadata": {
        "id": "8B9pSZFRYzl-"
      }
    },
    {
      "cell_type": "code",
      "source": [
        "#테스트를 수행할 모든 임계값을 리스트 객체로 저장\n",
        "thresholds = [0.4, 0.45, 0.50, 0.55, 0.60]\n",
        "\n",
        "def get_eval_by_threshold(y_test, pred_proba_c1, thresholds):\n",
        "    #thresholds list 객체 내의 값을 차례로 iteration하면서 evaluation 수행\n",
        "    for custom_threshold in thresholds:\n",
        "        binarizer = Binarizer(threshold=custom_threshold).fit(pred_proba_c1)\n",
        "        custom_predict = binarizer.transform(pred_proba_c1)\n",
        "        print('임계값: ', custom_threshold)\n",
        "        get_clf_eval(y_test, custom_predict)\n",
        "      \n",
        "get_eval_by_threshold(y_test, pred_proba[:, 1].reshape(-1, 1), thresholds)"
      ],
      "metadata": {
        "colab": {
          "base_uri": "https://localhost:8080/",
          "height": 447
        },
        "id": "b6qEp8eEOJ2y",
        "outputId": "347622c6-0866-40f9-948f-30b257704b74"
      },
      "execution_count": 16,
      "outputs": [
        {
          "output_type": "stream",
          "name": "stdout",
          "text": [
            "임계값:  0.4\n",
            "정확도: 0.8324, 정밀도: 0.7183, 재현율: 0.8361\n",
            "임계값:  0.45\n",
            "정확도: 0.8492, 정밀도: 0.7656, 재현율: 0.8033\n",
            "임계값:  0.5\n",
            "정확도: 0.8492, 정밀도: 0.7742, 재현율: 0.7869\n",
            "임계값:  0.55\n",
            "정확도: 0.8659, 정밀도: 0.8364, 재현율: 0.7541\n",
            "임계값:  0.6\n",
            "정확도: 0.8771, 정밀도: 0.8824, 재현율: 0.7377\n"
          ]
        },
        {
          "output_type": "display_data",
          "data": {
            "text/plain": [
              "<Figure size 432x288 with 6 Axes>"
            ],
            "image/png": "[encoded data removed]"
          },
          "metadata": {
            "needs_background": "light"
          }
        }
      ]
    },
    {
      "cell_type": "markdown",
      "source": [
        "위에서는 get_eval_by_threshold 사용자 정의 함수를 사용했는데, 사이킷런에서는 precision_recall_curve() API를 제공한다.\n",
        "\n",
        "입력 파라미터  \n",
        "  > y_true : 실제 클래스값 배열 (배열 크기 = [데이터 건수])  \n",
        "  > probas_pred : positive column의 예측 확률 배열 (배열 크기 = [데이터 건수])  \n",
        "\n",
        "반환 값   \n",
        "  >  정밀도 : 임계값별 정밀도 값을 배열로 반환  \n",
        "  > 재현율 : 임계값별 재현율 값을 배열로 반환  "
      ],
      "metadata": {
        "id": "bFNbhb31aece"
      }
    },
    {
      "cell_type": "code",
      "source": [
        "from sklearn.metrics import precision_recall_curve\n",
        "\n",
        "#레이블 값이 1일 때의 예측 확률 추출\n",
        "pred_proba_class1 = lr_clf.predict_proba(X_test)[:, 1]\n",
        "\n",
        "#실제값 데이터 세트와 레이블 값이 1일 때의 예측 확률을 precision_recall_curve 인자로 입력\n",
        "precisions, recalls, thresholds = precision_recall_curve(y_test, pred_proba_class1)\n",
        "print('반환된 분류 결정 임계값 배열의 shape: ', thresholds.shape)\n",
        "\n",
        "#반환된 임계값 배열 row가 143건이므로 샘플로 10건만 추출, 임계값을 15 step으로 추출\n",
        "thr_index = np.arange(0, thresholds.shape[0], 15)\n",
        "print('샘플 추출을 위한 임계값 배열의 index 10개: ',thr_index)\n",
        "print('샘플용 10개의 임계값: ', np.round(thresholds[thr_index], 2))\n",
        "\n",
        "#15 step 단위로 추출된 임계값에 따른 정밀도와 재현율 값\n",
        "print('샘플 임계값별 정밀도: ', np.round(precisions[thr_index], 3))\n",
        "print('샘플 임계값별 재현율: ', np.round(recalls[thr_index], 3))"
      ],
      "metadata": {
        "colab": {
          "base_uri": "https://localhost:8080/"
        },
        "id": "KWXP6U82Y84P",
        "outputId": "55013e19-9843-485f-d3ff-3cda4b8fd3f4"
      },
      "execution_count": 17,
      "outputs": [
        {
          "output_type": "stream",
          "name": "stdout",
          "text": [
            "반환된 분류 결정 임계값 배열의 shape:  (165,)\n",
            "샘플 추출을 위한 임계값 배열의 index 10개:  [  0  15  30  45  60  75  90 105 120 135 150]\n",
            "샘플용 10개의 임계값:  [0.01 0.09 0.11 0.13 0.15 0.23 0.35 0.5  0.63 0.75 0.89]\n",
            "샘플 임계값별 정밀도:  [0.341 0.372 0.415 0.448 0.505 0.585 0.688 0.774 0.913 0.935 0.938]\n",
            "샘플 임계값별 재현율:  [1.    1.    0.967 0.918 0.902 0.902 0.869 0.787 0.689 0.475 0.246]\n"
          ]
        }
      ]
    },
    {
      "cell_type": "markdown",
      "source": [
        "추출된 샘플 10개에 해당하는 정밀도와 재현율 값을 보면, 임계값이 증가할수록 정밀도값은 동시에 높아지나 재현율 값은 낮아짐을 알 수 있다.  \n",
        "precision_recall_curve() API는 정밀도와 재현율의 임계값에 따른 값 변화를 곡선 형태의 그래프로 시각화할 수 있다."
      ],
      "metadata": {
        "id": "qOzik6zRdFTW"
      }
    },
    {
      "cell_type": "markdown",
      "source": [
        "precision_recall_curve_plot()을 이용한 임계값에 따른 정밀도와 재현율을 시각화"
      ],
      "metadata": {
        "id": "6FwD_vBLdmWW"
      }
    },
    {
      "cell_type": "code",
      "source": [
        "from sklearn.metrics import precision_recall_curve\n",
        "import matplotlib.pyplot as plt\n",
        "import matplotlib.ticker as ticker\n",
        "\n",
        "def precision_recall_curve_plot(y_test, pred_proba_c1):\n",
        "    #threshold ndarray와 threshold에 따른 정밀도, 재현율 ndarray 추출\n",
        "    precisions, recalls, thresholds = precision_recall_curve(y_test, pred_proba_c1)\n",
        "    \n",
        "    #X축을 threshold 값으로, Y축은 정밀도, 재현율 값으로 각각 plot 실행. (정밀도는 점선으로 표시_\n",
        "    plt.figure(figsize=(8, 6))\n",
        "    threshold_boundary = thresholds.shape[0]\n",
        "    plt.plot(thresholds, precisions[0:threshold_boundary], linestyle='--', label='precision')\n",
        "    plt.plot(thresholds, recalls[0:threshold_boundary], label='recall')\n",
        "    \n",
        "    #threshold 값 X축의 scale을 0.1 단위로 변경\n",
        "    start, end = plt.xlim()  #X축 범위 반환\n",
        "    plt.xticks(np.round(np.arange(start, end, 0.1), 2))  #X축에 눈금 표시\n",
        "    \n",
        "    #X축, Y축 label과 legend, grid 설정\n",
        "    plt.xlabel('Threshold value'); \n",
        "    plt.ylabel('Precision and Recall value');\n",
        "    plt.legend();\n",
        "    plt.grid()  #범례, 격자 표시\n",
        "    plt.show()\n",
        "    \n",
        "precision_recall_curve_plot(y_test, lr_clf.predict_proba(X_test)[:, 1])"
      ],
      "metadata": {
        "colab": {
          "base_uri": "https://localhost:8080/",
          "height": 388
        },
        "id": "FTHd9Jw2cxIG",
        "outputId": "46281a4a-cfc7-4a01-824c-e75b98f4a781"
      },
      "execution_count": 18,
      "outputs": [
        {
          "output_type": "display_data",
          "data": {
            "text/plain": [
              "<Figure size 576x432 with 1 Axes>"
            ],
            "image/png": "[encoded data removed]"
          },
          "metadata": {
            "needs_background": "light"
          }
        }
      ]
    },
    {
      "cell_type": "markdown",
      "source": [
        "- 임계값을 변경함에 따라 정밀도와 재현율의 수치가 변한다.  \n",
        "- 임계값이 낮을수록 많은 수의 양성 예측으로 인해 재현율 값이 극도로 높아지고 정밀도 값이 극도로 낮아진다.  \n",
        "- 임계값을 계속 증가시킬수록 재현율 값이 낮아지고 정밀도 값이 높아지는 반대의 양상이 된다."
      ],
      "metadata": {
        "id": "zBnt-qeYd6PO"
      }
    },
    {
      "cell_type": "markdown",
      "source": [
        "정밀도가 100%가 되는 방법(극단적으로 100%로 만드는 방법, 사용하는 방법 아님)    \n",
        "- 확실한 기준이 되는 경우만 positive로 예측하고 나머지는 모두 negative로 예측한다.\n",
        "- $정밀도(Precision) = \\frac{TP}{FP+TP}$\n",
        "- 예를 들어, 전체 환자 1000명 중 확실한 positive 징후만 가진 환자가 단 한명이라고 하면 이 한 명만 positive로 예측하고 나머지는 모두 negative로 예측하더라도 FP = 0, TP = 1이 되므로 1/(1+0)이 되서 100%가 된다."
      ],
      "metadata": {
        "id": "3ag--zn7hN5V"
      }
    },
    {
      "cell_type": "markdown",
      "source": [
        "재현율이 100%가 되는 방법(참고)  \n",
        "\n",
        "- 모든 환자를 positive로 예측한다.\n",
        "- $재현율(Recall)= \\frac{TP}{FN+TP}$\n",
        "- 전체 환자 1000명을 다 positive로 예측하면 이 중 실제 양성인 사람이 30명이여도 TN이 수치에 포함되지 않고, FN은 아예 0이므로 30/(30+0)으로 100%가 된다.\n",
        "- 분류가 정밀도 또는 재현율 중 하나에 상대적인 중요도를 부여해 각 예측 상황에 맞는 분류 알고리즘을 튜닝할 수 있지만,극단적으로 정밀도와 재현율 중 한 쪽만을 강조하는 상황이 돼서는 안된다.\n"
      ],
      "metadata": {
        "id": "Eg-xQmwThyf-"
      }
    },
    {
      "cell_type": "markdown",
      "source": [
        "### 4  F1 스코어"
      ],
      "metadata": {
        "id": "xePXvmxPi019"
      }
    },
    {
      "cell_type": "markdown",
      "source": [
        "- F1 스코어(Score)는 정밀도와 재현율을 결합한 지표이다. \n",
        "- F1 스코어는 정밀도와 재현율이 어느 한 쪽으로 치우치지 않는 수치를 나타낼 때 상대적으로 높은 값을 가진다.\n",
        "- F1 스코어 공식  \n",
        " $F1 = \\frac{2}{\\frac{1}{recall} + \\frac{1}{precision}} = 2 * \\frac{precision * recall}{precision + recall} $\n",
        "- 사이킷런은 F1 스코어를 구하기 위해 f1_score()라는 API를 제공한다."
      ],
      "metadata": {
        "id": "L0lSFRfPi8T1"
      }
    },
    {
      "cell_type": "code",
      "source": [
        "from sklearn.metrics import accuracy_score,precision_score,confusion_matrix\n",
        "\n",
        "y_true = np.array([0, 1, 0, 0])\n",
        "y_pred = np.array([0, 1, 1, 0])\n",
        "print(confusion_matrix(y_true, y_pred))\n",
        "\n",
        "print(precision_score(y_true, y_pred))"
      ],
      "metadata": {
        "colab": {
          "base_uri": "https://localhost:8080/"
        },
        "id": "9zyRRPyhNDbB",
        "outputId": "6d829b18-7aba-44fe-b363-e30b52f9f4d7"
      },
      "execution_count": 22,
      "outputs": [
        {
          "output_type": "stream",
          "name": "stdout",
          "text": [
            "[[2 1]\n",
            " [0 1]]\n",
            "0.5\n"
          ]
        }
      ]
    },
    {
      "cell_type": "code",
      "source": [
        "from sklearn.metrics import f1_score\n",
        "f1 = f1_score(y_test, pred)\n",
        "print('F1 스코어: {0:.4f}'.format(f1))"
      ],
      "metadata": {
        "colab": {
          "base_uri": "https://localhost:8080/"
        },
        "id": "fxbuM9Nvdxm2",
        "outputId": "04186444-05b0-4c46-fd63-3c2631e511f6"
      },
      "execution_count": 23,
      "outputs": [
        {
          "output_type": "stream",
          "name": "stdout",
          "text": [
            "F1 스코어: 0.7805\n"
          ]
        }
      ]
    },
    {
      "cell_type": "markdown",
      "source": [
        "임계값을 변화시키면서 F1 스코어를 포함한 평가 지표"
      ],
      "metadata": {
        "id": "dtF_hER7qwRM"
      }
    },
    {
      "cell_type": "code",
      "source": [
        "import sklearn\n",
        "from sklearn.metrics import accuracy_score, precision_score,recall_score, confusion_matrix, f1_score\n",
        "\n",
        "def get_clf_eval(y_test, pred):\n",
        "    confusion = confusion_matrix(y_test, pred)\n",
        "    accuracy = accuracy_score(y_test, pred)\n",
        "    precision = precision_score(y_test, pred)\n",
        "    recall = recall_score(y_test, pred)\n",
        "    #F1 스코어 추가\n",
        "    f1 = f1_score(y_test, pred)\n",
        "    print('오차 행렬')\n",
        "    print(confusion)\n",
        "    #F1 스코어 print 추가\n",
        "    print('정확도: {0:.4f}, 정밀도: {1:.4f}, 재현율: {2:.4f}, F1: {3:.4f}'.format(accuracy, precision, recall, f1))"
      ],
      "metadata": {
        "id": "EYwNffptqj4d"
      },
      "execution_count": null,
      "outputs": []
    },
    {
      "cell_type": "code",
      "source": [
        "from sklearn.preprocessing import Binarizer\n",
        "\n",
        "def get_eval_by_threshold(y_test, pred_proba_c1, thresholds):\n",
        "    #thresholds list 객체 내의 값을 차례로 iteration하면서 evaluation 수행\n",
        "    for custom_threshold in thresholds:\n",
        "        binarizer = Binarizer(threshold=custom_threshold).fit(pred_proba_c1)\n",
        "        custom_predict = binarizer.transform(pred_proba_c1)\n",
        "        print('임계값: ', custom_threshold)\n",
        "        get_clf_eval(y_test, custom_predict)"
      ],
      "metadata": {
        "id": "QdWUdfE5q1AV"
      },
      "execution_count": null,
      "outputs": []
    },
    {
      "cell_type": "code",
      "source": [
        "import numpy as np\n",
        "import pandas as pd\n",
        "import sklearn\n",
        "from sklearn.model_selection import train_test_split\n",
        "from sklearn.linear_model import LogisticRegression\n",
        "\n",
        "#원본 데이터를 재로딩, 데이터 가공, 학습 데이터/테스트 데이터 분할\n",
        "titanic_df = pd.read_csv('./dataset/titanic/train.csv')\n",
        "y_titanic_df = titanic_df['Survived']\n",
        "X_titanic_df = titanic_df.drop('Survived', axis=1)\n",
        "X_titanic_df = transform_features(X_titanic_df)\n",
        "\n",
        "X_train, X_test, y_train, y_test = train_test_split(X_titanic_df, y_titanic_df, test_size=0.2, random_state=11)  #712개의 학습 데이터, 179개의 테스트 데이터\n",
        "\n",
        "lr_clf = LogisticRegression(max_iter=500)\n",
        "\n",
        "lr_clf.fit(X_train, y_train)\n",
        "\n",
        "thresholds = [0.4, 0.45, 0.50, 0.55, 0.60]\n",
        "pred_proba = lr_clf.predict_proba(X_test)\n",
        "get_eval_by_threshold(y_test, pred_proba[:, 1].reshape(-1, 1), thresholds)"
      ],
      "metadata": {
        "colab": {
          "base_uri": "https://localhost:8080/"
        },
        "id": "2DfxFiPyrJjd",
        "outputId": "21e2d376-fe09-4d43-e5dc-7b6712bf0793"
      },
      "execution_count": null,
      "outputs": [
        {
          "output_type": "stream",
          "name": "stdout",
          "text": [
            "임계값:  0.4\n",
            "오차 행렬\n",
            "[[98 20]\n",
            " [10 51]]\n",
            "정확도: 0.8324, 정밀도: 0.7183, 재현율: 0.8361, F1: 0.7727\n",
            "임계값:  0.45\n",
            "오차 행렬\n",
            "[[103  15]\n",
            " [ 12  49]]\n",
            "정확도: 0.8492, 정밀도: 0.7656, 재현율: 0.8033, F1: 0.7840\n",
            "임계값:  0.5\n",
            "오차 행렬\n",
            "[[104  14]\n",
            " [ 13  48]]\n",
            "정확도: 0.8492, 정밀도: 0.7742, 재현율: 0.7869, F1: 0.7805\n",
            "임계값:  0.55\n",
            "오차 행렬\n",
            "[[109   9]\n",
            " [ 15  46]]\n",
            "정확도: 0.8659, 정밀도: 0.8364, 재현율: 0.7541, F1: 0.7931\n",
            "임계값:  0.6\n",
            "오차 행렬\n",
            "[[112   6]\n",
            " [ 16  45]]\n",
            "정확도: 0.8771, 정밀도: 0.8824, 재현율: 0.7377, F1: 0.8036\n"
          ]
        }
      ]
    },
    {
      "cell_type": "markdown",
      "source": [
        "임계값이 0.6일 때 F1 스코어가 가장 좋으나, 재현율이 크게 감소한다."
      ],
      "metadata": {
        "id": "cZNW2LrHs2Jj"
      }
    },
    {
      "cell_type": "markdown",
      "source": [
        "### 5  ROC곡선과 AUC"
      ],
      "metadata": {
        "id": "lY2OuEI2u02M"
      }
    },
    {
      "cell_type": "markdown",
      "source": [
        "- ROC 곡선과 이에 기반한 AUC 스코어는 이진 분류의 예측 성능 측정에서 중요하게 사용되는 지표이다.\n",
        "- ROC 곡선(Receiver Operation Characteristic Curve)은 우리말로 수신자 판단 곡선으로 불린다.\n",
        "- 원래 2차대전 때 통신 장비 성능 평가를 위해 고안된 수치이며, 일반적으로 의학 분야에서 많이 사용되지만 머신러닝의 이진 분류 모델의 예측 성능을 판단하는 중요한 평가 지표이기도 한다.\n",
        "- ROC 곡선은 FPR(False Positive Rate)이 변할 때, TPR(True Positive Rate)이 어떻게 변하는 지를 나타내는 곡선이다. (FPR을 X축으로, TPR을 Y축으로 두고 그린 그래프)\n",
        "- TPR은 True Positive Rate의 약자이며, 이는 재현율을 나타낸다. 즉 재현율은 민감도로도 불린다. 그리고 민감도에 대응하는 지표로 TNR(True Negative Rate)이라고 불리는 특이성(Specificity)이 있다.\n",
        "   - 민감도(TPR)는 실제값 Positive(양성)가 정확히 예측돼야 하는 수준을 나타낸다. (질병이 있는 사람은 질병이 있는 것으로 양성 판정)\n",
        "\n",
        "$$ TPR =  \\frac{TP}{FN+TP}$$\n",
        "   - 특이성(TNR)은 실제값 Negative(음성)가 정확히 예측돼야 하는 수준을 나타낸다.(질병이 없는 건강한 사람은 질병이 없는 것으로 음성 판정)\n",
        "$$ TNR =  \\frac{TN}{FP+TN}$$\n"
      ],
      "metadata": {
        "id": "pVTKG1Zbu_XU"
      }
    },
    {
      "cell_type": "markdown",
      "source": [
        "\n",
        "- FPR(Flase Positive Rate)은 FP / (FP + TN)이므로 1 - TNR= 1- 특이성\n",
        "![FPR](https://community.jmp.com/t5/image/serverpage/image-id/32325i237836D117E0305E/image-size/large?v=v2&px=999)\n",
        "- 가운데 직선은 ROC 곡선의 최저 값으로, 동전을 무작위로 던져 앞/뒤를 맞추는 랜덤 수준의 이진 분류 ROC 직선이다.\n",
        "- ROC 곡선이 가운데 직선에 가까울수록 성능이 떨어지는 것이며, 멀어질수록 성능이 뛰어난다.\n",
        "- ROC 곡선은 FPR을 0부터 1까지 변경하면서 TPR의 변화값을 구한다.\n",
        "- FPR은 분류 결정 임계값을 변경함으로써 변경할 수 있다."
      ],
      "metadata": {
        "id": "VXhwZDQz1vRz"
      }
    },
    {
      "cell_type": "code",
      "source": [],
      "metadata": {
        "id": "p3hSEXzyrNM8"
      },
      "execution_count": null,
      "outputs": []
    }
  ]
}