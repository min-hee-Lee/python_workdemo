{
  "nbformat": 4,
  "nbformat_minor": 0,
  "metadata": {
    "colab": {
      "provenance": [],
      "authorship_tag": "ABX9TyPzplc5jmSSSrbOxpRMOFrC",
      "include_colab_link": true
    },
    "kernelspec": {
      "name": "python3",
      "display_name": "Python 3"
    },
    "language_info": {
      "name": "python"
    }
  },
  "cells": [
    {
      "cell_type": "markdown",
      "metadata": {
        "id": "view-in-github",
        "colab_type": "text"
      },
      "source": [
        "<a href=\"https://colab.research.google.com/github/min-hee-Lee/python_workdemo/blob/master/p200_numpy.ipynb\" target=\"_parent\"><img src=\"https://colab.research.google.com/assets/colab-badge.svg\" alt=\"Open In Colab\"/></a>"
      ]
    },
    {
      "cell_type": "markdown",
      "source": [
        "### Numpy\n",
        "- NumpPy는 Numerical Python의 줄임말로, 파이썬에서 산술 계산을 위한 가장 필수 패키지중 하나이다.\n",
        "- 과학 계산을 위한 대부분의 패키지는 NumPy의 배열 객체를 데이터 교환을 위한 공통 언어처럼 사용한다.\n",
        "- 효율적인 다차원 배열인 ndarray(n dimensional array)는 빠른 배열 계산과 유연한 브로드캐스팅 기능을 제공한다.\n",
        "- 반복문을 작성할 필요 없이 전체 데이터 배열을 빠르게 계산할 수 있는 표준 수학 함수이다.\n",
        "- 배열 데이터를 디스크에 쓰거나 읽을 수 있는 도구와 메모리에 적재된 파일을 다루는 도구이다.\n",
        "- 선형대수, 난수 생성기등에 사용된다.\n",
        "- C, C++, 포트란으로 작성한 코드를 연결할 수 있는 C API가 제공된다.\n",
        "\n",
        "공식문서 https://numpy.org/doc/stable/\n",
        "\n",
        "numpy 100 문제 https://github.com/rougier/numpy-100"
      ],
      "metadata": {
        "id": "Janvaqcsazid"
      }
    },
    {
      "cell_type": "markdown",
      "source": [
        "###1. 데이터 생성"
      ],
      "metadata": {
        "id": "Z72Ta6KRbpXQ"
      }
    },
    {
      "cell_type": "code",
      "execution_count": 4,
      "metadata": {
        "id": "p1FPmW6harD0"
      },
      "outputs": [],
      "source": [
        "#!pip install numpy\n",
        "import numpy as np"
      ]
    },
    {
      "cell_type": "code",
      "source": [
        "a = np.zeros(3)  #3개의 0값을 갖는 배열 생성\n",
        "                  #1차원 배열 - 벡터"
      ],
      "metadata": {
        "id": "dlMmKcJMcC3Y"
      },
      "execution_count": 5,
      "outputs": []
    },
    {
      "cell_type": "code",
      "source": [
        "a"
      ],
      "metadata": {
        "colab": {
          "base_uri": "https://localhost:8080/"
        },
        "id": "Vco5r6d5cIwE",
        "outputId": "1d2f489f-8ba3-4855-c7ef-3afb4e920871"
      },
      "execution_count": 6,
      "outputs": [
        {
          "output_type": "execute_result",
          "data": {
            "text/plain": [
              "array([0., 0., 0.])"
            ]
          },
          "metadata": {},
          "execution_count": 6
        }
      ]
    },
    {
      "cell_type": "code",
      "source": [
        "# 처음 객체들은 type(), dir()을 해본다.\n",
        "print(type(a))\n",
        "print(dir(a))"
      ],
      "metadata": {
        "colab": {
          "base_uri": "https://localhost:8080/"
        },
        "id": "FN8eSO7XcJkZ",
        "outputId": "9a06e52a-46b8-4c22-a6cb-cccd970a91c8"
      },
      "execution_count": 7,
      "outputs": [
        {
          "output_type": "stream",
          "name": "stdout",
          "text": [
            "<class 'numpy.ndarray'>\n",
            "['T', '__abs__', '__add__', '__and__', '__array__', '__array_finalize__', '__array_function__', '__array_interface__', '__array_prepare__', '__array_priority__', '__array_struct__', '__array_ufunc__', '__array_wrap__', '__bool__', '__class__', '__complex__', '__contains__', '__copy__', '__deepcopy__', '__delattr__', '__delitem__', '__dir__', '__divmod__', '__doc__', '__eq__', '__float__', '__floordiv__', '__format__', '__ge__', '__getattribute__', '__getitem__', '__gt__', '__hash__', '__iadd__', '__iand__', '__ifloordiv__', '__ilshift__', '__imatmul__', '__imod__', '__imul__', '__index__', '__init__', '__init_subclass__', '__int__', '__invert__', '__ior__', '__ipow__', '__irshift__', '__isub__', '__iter__', '__itruediv__', '__ixor__', '__le__', '__len__', '__lshift__', '__lt__', '__matmul__', '__mod__', '__mul__', '__ne__', '__neg__', '__new__', '__or__', '__pos__', '__pow__', '__radd__', '__rand__', '__rdivmod__', '__reduce__', '__reduce_ex__', '__repr__', '__rfloordiv__', '__rlshift__', '__rmatmul__', '__rmod__', '__rmul__', '__ror__', '__rpow__', '__rrshift__', '__rshift__', '__rsub__', '__rtruediv__', '__rxor__', '__setattr__', '__setitem__', '__setstate__', '__sizeof__', '__str__', '__sub__', '__subclasshook__', '__truediv__', '__xor__', 'all', 'any', 'argmax', 'argmin', 'argpartition', 'argsort', 'astype', 'base', 'byteswap', 'choose', 'clip', 'compress', 'conj', 'conjugate', 'copy', 'ctypes', 'cumprod', 'cumsum', 'data', 'diagonal', 'dot', 'dtype', 'dump', 'dumps', 'fill', 'flags', 'flat', 'flatten', 'getfield', 'imag', 'item', 'itemset', 'itemsize', 'max', 'mean', 'min', 'nbytes', 'ndim', 'newbyteorder', 'nonzero', 'partition', 'prod', 'ptp', 'put', 'ravel', 'real', 'repeat', 'reshape', 'resize', 'round', 'searchsorted', 'setfield', 'setflags', 'shape', 'size', 'sort', 'squeeze', 'std', 'strides', 'sum', 'swapaxes', 'take', 'tobytes', 'tofile', 'tolist', 'tostring', 'trace', 'transpose', 'var', 'view']\n"
          ]
        }
      ]
    },
    {
      "cell_type": "code",
      "source": [
        "# 1차원 배열 = 벡터\n",
        "a = np.array([1,2,3])   #리스트로 배열 생성\n",
        "a"
      ],
      "metadata": {
        "colab": {
          "base_uri": "https://localhost:8080/"
        },
        "id": "54z3cpb1cgnH",
        "outputId": "adb0c851-372a-404a-ea2a-15f9599e88a9"
      },
      "execution_count": 8,
      "outputs": [
        {
          "output_type": "execute_result",
          "data": {
            "text/plain": [
              "array([1, 2, 3])"
            ]
          },
          "metadata": {},
          "execution_count": 8
        }
      ]
    },
    {
      "cell_type": "code",
      "source": [
        "print(type(a))\n",
        "print(dir(a))\n",
        "print(len(dir(a)))"
      ],
      "metadata": {
        "colab": {
          "base_uri": "https://localhost:8080/"
        },
        "id": "h8FFjzITc3Vf",
        "outputId": "a7774b7d-d5d2-41e6-fad4-d86caab3c475"
      },
      "execution_count": 9,
      "outputs": [
        {
          "output_type": "stream",
          "name": "stdout",
          "text": [
            "<class 'numpy.ndarray'>\n",
            "['T', '__abs__', '__add__', '__and__', '__array__', '__array_finalize__', '__array_function__', '__array_interface__', '__array_prepare__', '__array_priority__', '__array_struct__', '__array_ufunc__', '__array_wrap__', '__bool__', '__class__', '__complex__', '__contains__', '__copy__', '__deepcopy__', '__delattr__', '__delitem__', '__dir__', '__divmod__', '__doc__', '__eq__', '__float__', '__floordiv__', '__format__', '__ge__', '__getattribute__', '__getitem__', '__gt__', '__hash__', '__iadd__', '__iand__', '__ifloordiv__', '__ilshift__', '__imatmul__', '__imod__', '__imul__', '__index__', '__init__', '__init_subclass__', '__int__', '__invert__', '__ior__', '__ipow__', '__irshift__', '__isub__', '__iter__', '__itruediv__', '__ixor__', '__le__', '__len__', '__lshift__', '__lt__', '__matmul__', '__mod__', '__mul__', '__ne__', '__neg__', '__new__', '__or__', '__pos__', '__pow__', '__radd__', '__rand__', '__rdivmod__', '__reduce__', '__reduce_ex__', '__repr__', '__rfloordiv__', '__rlshift__', '__rmatmul__', '__rmod__', '__rmul__', '__ror__', '__rpow__', '__rrshift__', '__rshift__', '__rsub__', '__rtruediv__', '__rxor__', '__setattr__', '__setitem__', '__setstate__', '__sizeof__', '__str__', '__sub__', '__subclasshook__', '__truediv__', '__xor__', 'all', 'any', 'argmax', 'argmin', 'argpartition', 'argsort', 'astype', 'base', 'byteswap', 'choose', 'clip', 'compress', 'conj', 'conjugate', 'copy', 'ctypes', 'cumprod', 'cumsum', 'data', 'diagonal', 'dot', 'dtype', 'dump', 'dumps', 'fill', 'flags', 'flat', 'flatten', 'getfield', 'imag', 'item', 'itemset', 'itemsize', 'max', 'mean', 'min', 'nbytes', 'ndim', 'newbyteorder', 'nonzero', 'partition', 'prod', 'ptp', 'put', 'ravel', 'real', 'repeat', 'reshape', 'resize', 'round', 'searchsorted', 'setfield', 'setflags', 'shape', 'size', 'sort', 'squeeze', 'std', 'strides', 'sum', 'swapaxes', 'take', 'tobytes', 'tofile', 'tolist', 'tostring', 'trace', 'transpose', 'var', 'view']\n",
            "162\n"
          ]
        }
      ]
    },
    {
      "cell_type": "code",
      "source": [
        "#2차원 배열 = 행렬\n",
        "b = np.array([[1,2], [3,4]])\n",
        "b"
      ],
      "metadata": {
        "colab": {
          "base_uri": "https://localhost:8080/"
        },
        "id": "zmRekN0ldGGv",
        "outputId": "9d474b05-9e83-4a51-9b9f-23f4beaeae71"
      },
      "execution_count": 10,
      "outputs": [
        {
          "output_type": "execute_result",
          "data": {
            "text/plain": [
              "array([[1, 2],\n",
              "       [3, 4]])"
            ]
          },
          "metadata": {},
          "execution_count": 10
        }
      ]
    },
    {
      "cell_type": "code",
      "source": [
        "#3차원 배열 이상 = 텐서(tensor)\n",
        "c = np.array([[[1,2],[3,4]],[[5,6],[7,8]]])\n",
        "c"
      ],
      "metadata": {
        "colab": {
          "base_uri": "https://localhost:8080/"
        },
        "id": "yGMpGM4wdYWW",
        "outputId": "c4c01797-5ff0-4c4e-ec36-9fb23e38e16c"
      },
      "execution_count": 11,
      "outputs": [
        {
          "output_type": "execute_result",
          "data": {
            "text/plain": [
              "array([[[1, 2],\n",
              "        [3, 4]],\n",
              "\n",
              "       [[5, 6],\n",
              "        [7, 8]]])"
            ]
          },
          "metadata": {},
          "execution_count": 11
        }
      ]
    },
    {
      "cell_type": "code",
      "source": [
        "# 문자 데이터가 하나라도 있으면 전체가 문자로 바뀐다.\n",
        "# numpy는 homogeneous이다.\n",
        "a = np.array([1,'2',3])\n",
        "print(a)\n",
        "print(type(a))\n",
        "print(type(a[0]))"
      ],
      "metadata": {
        "colab": {
          "base_uri": "https://localhost:8080/"
        },
        "id": "S8K-iCFVdpuQ",
        "outputId": "54c3457c-e5e8-4692-9fee-409bfa04ca9d"
      },
      "execution_count": 12,
      "outputs": [
        {
          "output_type": "stream",
          "name": "stdout",
          "text": [
            "['1' '2' '3']\n",
            "<class 'numpy.ndarray'>\n",
            "<class 'numpy.str_'>\n"
          ]
        }
      ]
    },
    {
      "cell_type": "code",
      "source": [
        "b = np.array(['a',1,True])  #전체 문자열 취급\n",
        "print(b)\n",
        "print(type(b))\n",
        "b"
      ],
      "metadata": {
        "colab": {
          "base_uri": "https://localhost:8080/"
        },
        "id": "vdqcTzwjhKft",
        "outputId": "0b421621-1816-499b-8144-ee2bbcd5c630"
      },
      "execution_count": 13,
      "outputs": [
        {
          "output_type": "stream",
          "name": "stdout",
          "text": [
            "['a' '1' 'True']\n",
            "<class 'numpy.ndarray'>\n"
          ]
        },
        {
          "output_type": "execute_result",
          "data": {
            "text/plain": [
              "array(['a', '1', 'True'], dtype='<U21')"
            ]
          },
          "metadata": {},
          "execution_count": 13
        }
      ]
    },
    {
      "cell_type": "code",
      "source": [
        "c = np.array([1, True, 2, False])  #숫자와 논리값이 같이 나오면 숫자로 취급\n",
        "print(c)\n",
        "print(type(c))\n",
        "c\n",
        "print(type(c[0]))"
      ],
      "metadata": {
        "colab": {
          "base_uri": "https://localhost:8080/"
        },
        "id": "NSFfvgF5hYel",
        "outputId": "7a89a264-78a3-4ff5-bd49-90e7bcd1f194"
      },
      "execution_count": 14,
      "outputs": [
        {
          "output_type": "stream",
          "name": "stdout",
          "text": [
            "[1 1 2 0]\n",
            "<class 'numpy.ndarray'>\n",
            "<class 'numpy.int64'>\n"
          ]
        }
      ]
    },
    {
      "cell_type": "markdown",
      "source": [
        "### np.zeros\n",
        "- tuple로 인자를 넣으면 그대로 모양을 만든다.\n",
        "- (2,3) : 2행 3열 행렬을 만든다.\n",
        "- zeros는 기본값으로 0.(실수값)으로 값을 모두 채운다.  \n",
        "a = np.zeros([2,3])  -> 일반적으로 이렇게 사용  \n",
        "a = np.zeros((2,3))"
      ],
      "metadata": {
        "id": "EV3FKDIqkf83"
      }
    },
    {
      "cell_type": "code",
      "source": [
        "a = np.zeros([2,3])  #실수값 0으로 배열 생성\n",
        "a"
      ],
      "metadata": {
        "colab": {
          "base_uri": "https://localhost:8080/"
        },
        "id": "cO23JPbEhpYm",
        "outputId": "0f28782a-011f-4449-9b01-7c56981e0b5a"
      },
      "execution_count": 15,
      "outputs": [
        {
          "output_type": "execute_result",
          "data": {
            "text/plain": [
              "array([[0., 0., 0.],\n",
              "       [0., 0., 0.]])"
            ]
          },
          "metadata": {},
          "execution_count": 15
        }
      ]
    },
    {
      "cell_type": "code",
      "source": [
        "a = np.zeros([2,3,4])  #[depth, 행, 렬]\n",
        "a"
      ],
      "metadata": {
        "colab": {
          "base_uri": "https://localhost:8080/"
        },
        "id": "P4XS7hoXkU4o",
        "outputId": "7efa85ff-63c3-442a-83f9-edaf96847d5b"
      },
      "execution_count": 16,
      "outputs": [
        {
          "output_type": "execute_result",
          "data": {
            "text/plain": [
              "array([[[0., 0., 0., 0.],\n",
              "        [0., 0., 0., 0.],\n",
              "        [0., 0., 0., 0.]],\n",
              "\n",
              "       [[0., 0., 0., 0.],\n",
              "        [0., 0., 0., 0.],\n",
              "        [0., 0., 0., 0.]]])"
            ]
          },
          "metadata": {},
          "execution_count": 16
        }
      ]
    },
    {
      "cell_type": "markdown",
      "source": [
        "### np.eye\n",
        "- eye는 단위 행렬\n",
        "- 숫자만 사용할 수 있다.\n"
      ],
      "metadata": {
        "id": "pJ9m7_O7lO43"
      }
    },
    {
      "cell_type": "code",
      "source": [
        "# 인자값이 1개이면 행과 열이 같다.\n",
        "# 3행 3열 행렬을 생성한다.\n",
        "a = np.eye(3)  #1과 0으로 채워짐\n",
        "a"
      ],
      "metadata": {
        "colab": {
          "base_uri": "https://localhost:8080/"
        },
        "id": "Gr5Qlf6qk8Bo",
        "outputId": "ac06f466-1cc3-4a3a-d6e2-2d86fa07a93f"
      },
      "execution_count": 17,
      "outputs": [
        {
          "output_type": "execute_result",
          "data": {
            "text/plain": [
              "array([[1., 0., 0.],\n",
              "       [0., 1., 0.],\n",
              "       [0., 0., 1.]])"
            ]
          },
          "metadata": {},
          "execution_count": 17
        }
      ]
    },
    {
      "cell_type": "code",
      "source": [
        "#eye는 행과 열의 크기를 지정할 수 있다.\n",
        "# 3행 2열 행렬생성\n",
        "a = np.eye(3,2)\n",
        "a"
      ],
      "metadata": {
        "colab": {
          "base_uri": "https://localhost:8080/"
        },
        "id": "w0IVJPDplXgq",
        "outputId": "f9c4986c-6b5f-46aa-94a0-e117f3ebf2a1"
      },
      "execution_count": 18,
      "outputs": [
        {
          "output_type": "execute_result",
          "data": {
            "text/plain": [
              "array([[1., 0.],\n",
              "       [0., 1.],\n",
              "       [0., 0.]])"
            ]
          },
          "metadata": {},
          "execution_count": 18
        }
      ]
    },
    {
      "cell_type": "code",
      "source": [
        "# k=1 : 크기(1)이 시작되는 위치를 지정할 수 있다 (1인덱스부터 시작)\n",
        "c = np.eye(3,4, k=1) \n",
        "c"
      ],
      "metadata": {
        "colab": {
          "base_uri": "https://localhost:8080/"
        },
        "id": "_rl26rWrlqp9",
        "outputId": "307c572b-351c-4c9e-e223-9a958f0d1835"
      },
      "execution_count": 19,
      "outputs": [
        {
          "output_type": "execute_result",
          "data": {
            "text/plain": [
              "array([[0., 1., 0., 0.],\n",
              "       [0., 0., 1., 0.],\n",
              "       [0., 0., 0., 1.]])"
            ]
          },
          "metadata": {},
          "execution_count": 19
        }
      ]
    },
    {
      "cell_type": "markdown",
      "source": [
        "### np.identity\n",
        "- 수학에서 단위행렬은 영어로 identity matrix이다.\n",
        "- 크기 한 개만 지정해서 생성할 수 있다."
      ],
      "metadata": {
        "id": "Zq2QxiNlmVJA"
      }
    },
    {
      "cell_type": "code",
      "source": [
        "a = np.identity(3)\n",
        "a"
      ],
      "metadata": {
        "colab": {
          "base_uri": "https://localhost:8080/"
        },
        "id": "ezaBNBa2mGxH",
        "outputId": "80ffaf47-290c-4f9e-a7ab-ad107823ab63"
      },
      "execution_count": 20,
      "outputs": [
        {
          "output_type": "execute_result",
          "data": {
            "text/plain": [
              "array([[1., 0., 0.],\n",
              "       [0., 1., 0.],\n",
              "       [0., 0., 1.]])"
            ]
          },
          "metadata": {},
          "execution_count": 20
        }
      ]
    },
    {
      "cell_type": "code",
      "source": [
        "# TypeError\n",
        "# 인자 하나만 지정할 수 있다.\n",
        "#a = np.identity(3,2) \n",
        "# a"
      ],
      "metadata": {
        "id": "kzdozawmmh0y"
      },
      "execution_count": 21,
      "outputs": []
    },
    {
      "cell_type": "markdown",
      "source": [
        "### np.full\n",
        "- 지정한 크기의 배열을 생성하고 채울 값을 지정할 수 있다.\n",
        "- 2행 2열의 배열 생성 후 1로 채워준다.  \n",
        "  np.full((2,2),1)"
      ],
      "metadata": {
        "id": "XOSNssbDm0XB"
      }
    },
    {
      "cell_type": "code",
      "source": [
        "a = np.full((2,2),1)\n",
        "a"
      ],
      "metadata": {
        "colab": {
          "base_uri": "https://localhost:8080/"
        },
        "id": "oR9MEtximkMT",
        "outputId": "1e7dce6d-4870-4c07-c287-89a2eab6794d"
      },
      "execution_count": 22,
      "outputs": [
        {
          "output_type": "execute_result",
          "data": {
            "text/plain": [
              "array([[1, 1],\n",
              "       [1, 1]])"
            ]
          },
          "metadata": {},
          "execution_count": 22
        }
      ]
    },
    {
      "cell_type": "code",
      "source": [
        "b = np.full(3,4)  #1행 3열을 4로 채운다\n",
        "b"
      ],
      "metadata": {
        "colab": {
          "base_uri": "https://localhost:8080/"
        },
        "id": "pD1rN_iCnFOD",
        "outputId": "681d8813-92bc-4cdb-c64a-dd1114420ba1"
      },
      "execution_count": 23,
      "outputs": [
        {
          "output_type": "execute_result",
          "data": {
            "text/plain": [
              "array([4, 4, 4])"
            ]
          },
          "metadata": {},
          "execution_count": 23
        }
      ]
    },
    {
      "cell_type": "code",
      "source": [
        "c = np.full((2,2),[1,2]) #2행 2열에 배열이 반복돼 들어간다\n",
        "c"
      ],
      "metadata": {
        "colab": {
          "base_uri": "https://localhost:8080/"
        },
        "id": "eqhr5i-ZnTF8",
        "outputId": "65764e73-52f8-445e-a24f-96c024179891"
      },
      "execution_count": 24,
      "outputs": [
        {
          "output_type": "execute_result",
          "data": {
            "text/plain": [
              "array([[1, 2],\n",
              "       [1, 2]])"
            ]
          },
          "metadata": {},
          "execution_count": 24
        }
      ]
    },
    {
      "cell_type": "code",
      "source": [
        "d = np.full((2,2),[[1,2],[3,4]]) #2행 2열에 각각의 배열을 넣어준다\n",
        "d"
      ],
      "metadata": {
        "colab": {
          "base_uri": "https://localhost:8080/"
        },
        "id": "hIRjoMVEnx9o",
        "outputId": "98c7e0f8-e134-4b3d-daf7-2a35370141e1"
      },
      "execution_count": 25,
      "outputs": [
        {
          "output_type": "execute_result",
          "data": {
            "text/plain": [
              "array([[1, 2],\n",
              "       [3, 4]])"
            ]
          },
          "metadata": {},
          "execution_count": 25
        }
      ]
    },
    {
      "cell_type": "markdown",
      "source": [
        "### np.empty\n",
        "- 배열을 생성하고 초기화를 지정하지 않는다.\n",
        "- 메모리에 있는 값이나 이전에 사용했던 값들로 채워진다."
      ],
      "metadata": {
        "id": "GhLnK_j3oEe2"
      }
    },
    {
      "cell_type": "code",
      "source": [
        "a = np.empty(3)\n",
        "a"
      ],
      "metadata": {
        "colab": {
          "base_uri": "https://localhost:8080/"
        },
        "id": "548C2E6Kn8wU",
        "outputId": "f9d98f5e-4089-4f2d-ba46-661cf3ff4f14"
      },
      "execution_count": 26,
      "outputs": [
        {
          "output_type": "execute_result",
          "data": {
            "text/plain": [
              "array([1., 1., 1.])"
            ]
          },
          "metadata": {},
          "execution_count": 26
        }
      ]
    },
    {
      "cell_type": "code",
      "source": [
        "k = np.zeros((2,3))\n",
        "k"
      ],
      "metadata": {
        "colab": {
          "base_uri": "https://localhost:8080/"
        },
        "id": "CkbnwnFyoQFP",
        "outputId": "ea18c059-8b64-4f9d-929c-9c17c6eb65b2"
      },
      "execution_count": 27,
      "outputs": [
        {
          "output_type": "execute_result",
          "data": {
            "text/plain": [
              "array([[0., 0., 0.],\n",
              "       [0., 0., 0.]])"
            ]
          },
          "metadata": {},
          "execution_count": 27
        }
      ]
    },
    {
      "cell_type": "code",
      "source": [
        "# zeros해서 생성한 배열이 있으면 배열의 값을 0으로 채워준다\n",
        "b = np.empty((2,3))  #위에서 (이전에)사용했던 값으로 채워짐\n",
        "b"
      ],
      "metadata": {
        "colab": {
          "base_uri": "https://localhost:8080/"
        },
        "id": "niMVjutho2iw",
        "outputId": "2b9e261d-8905-4fbc-e08d-ddfc7fe90d23"
      },
      "execution_count": 28,
      "outputs": [
        {
          "output_type": "execute_result",
          "data": {
            "text/plain": [
              "array([[0., 0., 0.],\n",
              "       [0., 0., 0.]])"
            ]
          },
          "metadata": {},
          "execution_count": 28
        }
      ]
    },
    {
      "cell_type": "code",
      "source": [
        "c = np.empty((2,5))\n",
        "c"
      ],
      "metadata": {
        "colab": {
          "base_uri": "https://localhost:8080/"
        },
        "id": "LFpu2xhEo5Xf",
        "outputId": "7432af7a-debe-4ea2-93ca-327108a9e27f"
      },
      "execution_count": 29,
      "outputs": [
        {
          "output_type": "execute_result",
          "data": {
            "text/plain": [
              "array([[1.94159894e-316, 0.00000000e+000, 0.00000000e+000,\n",
              "        0.00000000e+000, 0.00000000e+000],\n",
              "       [1.61964966e-051, 5.92937314e-038, 5.49818086e-090,\n",
              "        1.09689289e-071, 1.61721077e-312]])"
            ]
          },
          "metadata": {},
          "execution_count": 29
        }
      ]
    },
    {
      "cell_type": "markdown",
      "source": [
        "### np.ones\n",
        "- 배열의 모든 값을 1로 채운다"
      ],
      "metadata": {
        "id": "5vVqV41JpIQJ"
      }
    },
    {
      "cell_type": "code",
      "source": [
        "# 1행 3열의 배열 생성 후 모든 값을 1로 채운다.\n",
        "a = np.ones(3)\n",
        "a"
      ],
      "metadata": {
        "colab": {
          "base_uri": "https://localhost:8080/"
        },
        "id": "WAee4MiFpdUf",
        "outputId": "62391e71-4559-474f-df2f-af4512449be2"
      },
      "execution_count": 30,
      "outputs": [
        {
          "output_type": "execute_result",
          "data": {
            "text/plain": [
              "array([1., 1., 1.])"
            ]
          },
          "metadata": {},
          "execution_count": 30
        }
      ]
    },
    {
      "cell_type": "code",
      "source": [
        "# b = np.ones([2,3]) 리스트 형태도 가능\n",
        "b = np.ones((2,3))\n",
        "b"
      ],
      "metadata": {
        "colab": {
          "base_uri": "https://localhost:8080/"
        },
        "id": "l6laGxnlpfze",
        "outputId": "1c67dd22-f4ae-4a6b-c83a-a05f6f481241"
      },
      "execution_count": 31,
      "outputs": [
        {
          "output_type": "execute_result",
          "data": {
            "text/plain": [
              "array([[1., 1., 1.],\n",
              "       [1., 1., 1.]])"
            ]
          },
          "metadata": {},
          "execution_count": 31
        }
      ]
    },
    {
      "cell_type": "markdown",
      "source": [
        "### _like\n",
        "- _like가 붙으면 shape가 같게 만들어진다.\n",
        "- 연산하기 위해서 shape를 맞춰야 하는 경우가 있다."
      ],
      "metadata": {
        "id": "07epKgRGp0sA"
      }
    },
    {
      "cell_type": "code",
      "source": [
        "a = np.array([[1,2,3],[4,5,6]])\n",
        "a"
      ],
      "metadata": {
        "colab": {
          "base_uri": "https://localhost:8080/"
        },
        "id": "wMbpE1T8pnNI",
        "outputId": "7043157f-90d9-4b3e-f5c9-2ecb1dd65d0b"
      },
      "execution_count": 32,
      "outputs": [
        {
          "output_type": "execute_result",
          "data": {
            "text/plain": [
              "array([[1, 2, 3],\n",
              "       [4, 5, 6]])"
            ]
          },
          "metadata": {},
          "execution_count": 32
        }
      ]
    },
    {
      "cell_type": "code",
      "source": [
        "a.shape #배열의 구조 확인(2행 3열)"
      ],
      "metadata": {
        "colab": {
          "base_uri": "https://localhost:8080/"
        },
        "id": "_eNvZbLsqCHC",
        "outputId": "739a058b-2f09-4eff-ad4e-b6a8f7521850"
      },
      "execution_count": 33,
      "outputs": [
        {
          "output_type": "execute_result",
          "data": {
            "text/plain": [
              "(2, 3)"
            ]
          },
          "metadata": {},
          "execution_count": 33
        }
      ]
    },
    {
      "cell_type": "code",
      "source": [
        "b = np.empty_like(a)\n",
        "b"
      ],
      "metadata": {
        "colab": {
          "base_uri": "https://localhost:8080/"
        },
        "id": "OS1rKl9uqRnM",
        "outputId": "f1760ef5-3a87-41a2-ab09-795b4e2a61c1"
      },
      "execution_count": 34,
      "outputs": [
        {
          "output_type": "execute_result",
          "data": {
            "text/plain": [
              "array([[4607182418800017408, 4607182418800017408, 4607182418800017408],\n",
              "       [4607182418800017408, 4607182418800017408, 4607182418800017408]])"
            ]
          },
          "metadata": {},
          "execution_count": 34
        }
      ]
    },
    {
      "cell_type": "code",
      "source": [
        "c = np.eye(2)\n",
        "c"
      ],
      "metadata": {
        "colab": {
          "base_uri": "https://localhost:8080/"
        },
        "id": "wThIozGeqWYo",
        "outputId": "4b108bd2-d4c9-462a-f897-24de69ecc817"
      },
      "execution_count": 35,
      "outputs": [
        {
          "output_type": "execute_result",
          "data": {
            "text/plain": [
              "array([[1., 0.],\n",
              "       [0., 1.]])"
            ]
          },
          "metadata": {},
          "execution_count": 35
        }
      ]
    },
    {
      "cell_type": "code",
      "source": [
        "c.shape"
      ],
      "metadata": {
        "colab": {
          "base_uri": "https://localhost:8080/"
        },
        "id": "eMNcxODfqggA",
        "outputId": "1178cf8b-09a0-42e8-e99f-26120946eabf"
      },
      "execution_count": 36,
      "outputs": [
        {
          "output_type": "execute_result",
          "data": {
            "text/plain": [
              "(2, 2)"
            ]
          },
          "metadata": {},
          "execution_count": 36
        }
      ]
    },
    {
      "cell_type": "code",
      "source": [
        "d = np.eye(3)\n",
        "d"
      ],
      "metadata": {
        "id": "UG3SIxCXqnxq",
        "colab": {
          "base_uri": "https://localhost:8080/"
        },
        "outputId": "ca851be6-7184-4b35-856b-a7dd1bd8900b"
      },
      "execution_count": 37,
      "outputs": [
        {
          "output_type": "execute_result",
          "data": {
            "text/plain": [
              "array([[1., 0., 0.],\n",
              "       [0., 1., 0.],\n",
              "       [0., 0., 1.]])"
            ]
          },
          "metadata": {},
          "execution_count": 37
        }
      ]
    },
    {
      "cell_type": "code",
      "source": [
        "d.shape"
      ],
      "metadata": {
        "colab": {
          "base_uri": "https://localhost:8080/"
        },
        "id": "lEYUEr4fqhnI",
        "outputId": "fe042647-f47b-43fa-c83b-0c839c59ae0f"
      },
      "execution_count": 38,
      "outputs": [
        {
          "output_type": "execute_result",
          "data": {
            "text/plain": [
              "(3, 3)"
            ]
          },
          "metadata": {},
          "execution_count": 38
        }
      ]
    },
    {
      "cell_type": "code",
      "source": [
        "# ValueError \n",
        "#c + d   #2행2열과 3행 3열은 합칠 수 없음"
      ],
      "metadata": {
        "id": "1vTopisaqvFN"
      },
      "execution_count": 39,
      "outputs": []
    },
    {
      "cell_type": "markdown",
      "source": [
        "### linspace\n",
        "- 동등한 간격으로 값을 생성한다.\n",
        "  - 0부터 49까지 50개가 생성된다면 세 번째 num인자 값이 생략되어 있으므로 start와 end를 계산해서 default 50이 생성된다.\n",
        "  - linspace(start, end, num)\n",
        "  - linspace(0,49) #num=50"
      ],
      "metadata": {
        "id": "MU_LKkpJrCBM"
      }
    },
    {
      "cell_type": "code",
      "source": [
        "a = np.linspace(0, 49)\n",
        "a"
      ],
      "metadata": {
        "colab": {
          "base_uri": "https://localhost:8080/"
        },
        "id": "YJRmsQmEqwF9",
        "outputId": "2ec537aa-3868-4248-852b-fcd99eac6c29"
      },
      "execution_count": 40,
      "outputs": [
        {
          "output_type": "execute_result",
          "data": {
            "text/plain": [
              "array([ 0.,  1.,  2.,  3.,  4.,  5.,  6.,  7.,  8.,  9., 10., 11., 12.,\n",
              "       13., 14., 15., 16., 17., 18., 19., 20., 21., 22., 23., 24., 25.,\n",
              "       26., 27., 28., 29., 30., 31., 32., 33., 34., 35., 36., 37., 38.,\n",
              "       39., 40., 41., 42., 43., 44., 45., 46., 47., 48., 49.])"
            ]
          },
          "metadata": {},
          "execution_count": 40
        }
      ]
    },
    {
      "cell_type": "code",
      "source": [
        "b = np.linspace(0,20)\n",
        "b"
      ],
      "metadata": {
        "colab": {
          "base_uri": "https://localhost:8080/"
        },
        "id": "fqjITF_trmWd",
        "outputId": "309f841c-d632-4ccf-b6e5-f72b5ee36b05"
      },
      "execution_count": 41,
      "outputs": [
        {
          "output_type": "execute_result",
          "data": {
            "text/plain": [
              "array([ 0.        ,  0.40816327,  0.81632653,  1.2244898 ,  1.63265306,\n",
              "        2.04081633,  2.44897959,  2.85714286,  3.26530612,  3.67346939,\n",
              "        4.08163265,  4.48979592,  4.89795918,  5.30612245,  5.71428571,\n",
              "        6.12244898,  6.53061224,  6.93877551,  7.34693878,  7.75510204,\n",
              "        8.16326531,  8.57142857,  8.97959184,  9.3877551 ,  9.79591837,\n",
              "       10.20408163, 10.6122449 , 11.02040816, 11.42857143, 11.83673469,\n",
              "       12.24489796, 12.65306122, 13.06122449, 13.46938776, 13.87755102,\n",
              "       14.28571429, 14.69387755, 15.10204082, 15.51020408, 15.91836735,\n",
              "       16.32653061, 16.73469388, 17.14285714, 17.55102041, 17.95918367,\n",
              "       18.36734694, 18.7755102 , 19.18367347, 19.59183673, 20.        ])"
            ]
          },
          "metadata": {},
          "execution_count": 41
        }
      ]
    },
    {
      "cell_type": "code",
      "source": [
        "len(b)"
      ],
      "metadata": {
        "colab": {
          "base_uri": "https://localhost:8080/"
        },
        "id": "A88x9c-Frpqa",
        "outputId": "2afb43e3-7e99-48f7-8594-5c80bd94199f"
      },
      "execution_count": 42,
      "outputs": [
        {
          "output_type": "execute_result",
          "data": {
            "text/plain": [
              "50"
            ]
          },
          "metadata": {},
          "execution_count": 42
        }
      ]
    },
    {
      "cell_type": "code",
      "source": [
        "# 1부터 10까지 3개의 요소를 생성한다.\n",
        "# 기본은 endpoint=True 로 설정되어 있기 때문에 10이 포함된다.\n",
        "np.linspace(1,10,3)"
      ],
      "metadata": {
        "colab": {
          "base_uri": "https://localhost:8080/"
        },
        "id": "uBCM6Kgbrrgk",
        "outputId": "43784e41-52ec-422c-f1a8-a073fd5da271"
      },
      "execution_count": 43,
      "outputs": [
        {
          "output_type": "execute_result",
          "data": {
            "text/plain": [
              "array([ 1. ,  5.5, 10. ])"
            ]
          },
          "metadata": {},
          "execution_count": 43
        }
      ]
    },
    {
      "cell_type": "code",
      "source": [
        "# 1부터 10미만 사이에서 3개의 요소를 생성한다.\n",
        "# endpoint=False로 설정되어 있으므로 10이 포함 안된다.\n",
        "np.linspace(1,10,3, endpoint=False)"
      ],
      "metadata": {
        "colab": {
          "base_uri": "https://localhost:8080/"
        },
        "id": "mwNIZxmj29jY",
        "outputId": "2f78fbb0-41a2-4c0c-a1cf-83b99003713e"
      },
      "execution_count": 44,
      "outputs": [
        {
          "output_type": "execute_result",
          "data": {
            "text/plain": [
              "array([1., 4., 7.])"
            ]
          },
          "metadata": {},
          "execution_count": 44
        }
      ]
    },
    {
      "cell_type": "markdown",
      "source": [
        "### logspace\n",
        "- linspace 와 비슷하다.\n",
        "- log scale을 사용하는 차이가 있다.\n",
        "- 1부터 50까지 사이의 10개의 요소를 생성한다.\n",
        "- np.logspace(1,50,10)"
      ],
      "metadata": {
        "id": "70p0GewE3tTg"
      }
    },
    {
      "cell_type": "code",
      "source": [
        "a = np.logspace(1,50,10)\n",
        "a"
      ],
      "metadata": {
        "colab": {
          "base_uri": "https://localhost:8080/"
        },
        "id": "YA_N6-Yh3Zvw",
        "outputId": "5257173e-b93f-45c2-8c31-47a0c95c4634"
      },
      "execution_count": 45,
      "outputs": [
        {
          "output_type": "execute_result",
          "data": {
            "text/plain": [
              "array([1.00000000e+01, 2.78255940e+06, 7.74263683e+11, 2.15443469e+17,\n",
              "       5.99484250e+22, 1.66810054e+28, 4.64158883e+33, 1.29154967e+39,\n",
              "       3.59381366e+44, 1.00000000e+50])"
            ]
          },
          "metadata": {},
          "execution_count": 45
        }
      ]
    },
    {
      "cell_type": "markdown",
      "source": [
        "### dtype\n",
        "- numpy는 c언어를 기반으로 해서 만들었기 때문에 c의 데이터 타입을 차용할 수 있다."
      ],
      "metadata": {
        "id": "rFVi9kAb4I5_"
      }
    },
    {
      "cell_type": "code",
      "source": [
        "a = np.array([1,2,3])\n",
        "a"
      ],
      "metadata": {
        "colab": {
          "base_uri": "https://localhost:8080/"
        },
        "id": "DO4N72Aj3_h4",
        "outputId": "fb46447b-1f78-4242-87f6-21a3a31ca98d"
      },
      "execution_count": 46,
      "outputs": [
        {
          "output_type": "execute_result",
          "data": {
            "text/plain": [
              "array([1, 2, 3])"
            ]
          },
          "metadata": {},
          "execution_count": 46
        }
      ]
    },
    {
      "cell_type": "code",
      "source": [
        "print(type(a))\n",
        "print(a.dtype)"
      ],
      "metadata": {
        "colab": {
          "base_uri": "https://localhost:8080/"
        },
        "id": "jSsB9nZ64WKT",
        "outputId": "d067542a-471f-42ed-ab0e-ea55dc63a01b"
      },
      "execution_count": 47,
      "outputs": [
        {
          "output_type": "stream",
          "name": "stdout",
          "text": [
            "<class 'numpy.ndarray'>\n",
            "int64\n"
          ]
        }
      ]
    },
    {
      "cell_type": "code",
      "source": [],
      "metadata": {
        "id": "ijGEv1bc4n6M"
      },
      "execution_count": 47,
      "outputs": []
    },
    {
      "cell_type": "code",
      "source": [
        "b = np.array([1,2,3],dtype=np.int8)  #numpy데이터타입으로 지정할 수 있다.(np.int8)8은 비트\n",
        "b"
      ],
      "metadata": {
        "colab": {
          "base_uri": "https://localhost:8080/"
        },
        "id": "DuySNZKt4wyB",
        "outputId": "92e39804-61c3-47df-d5f1-5bc7677b6581"
      },
      "execution_count": 48,
      "outputs": [
        {
          "output_type": "execute_result",
          "data": {
            "text/plain": [
              "array([1, 2, 3], dtype=int8)"
            ]
          },
          "metadata": {},
          "execution_count": 48
        }
      ]
    },
    {
      "cell_type": "code",
      "source": [
        "#np.int8은 -128 ~ 127 사이의 값을 지정할 수 있다.\n",
        "c = np.array([-127, -128,17, 2, 3, -127, -128, 127], dtype=np.int8)\n",
        "c"
      ],
      "metadata": {
        "colab": {
          "base_uri": "https://localhost:8080/"
        },
        "id": "aoDFSNJS44Al",
        "outputId": "e52a75d8-4fcb-41b4-8876-1586c02741c1"
      },
      "execution_count": 49,
      "outputs": [
        {
          "output_type": "execute_result",
          "data": {
            "text/plain": [
              "array([-127, -128,   17,    2,    3, -127, -128,  127], dtype=int8)"
            ]
          },
          "metadata": {},
          "execution_count": 49
        }
      ]
    },
    {
      "cell_type": "code",
      "source": [
        "# int는 python의 int를 사용한다.\n",
        "d = np.array([127, 2, 3, -127, -128], dtype=int)   #int내부는 64비트로 처리된다\n",
        "d"
      ],
      "metadata": {
        "colab": {
          "base_uri": "https://localhost:8080/"
        },
        "id": "ScyiwcYy5Qp4",
        "outputId": "1f38c497-13a4-4c32-959c-28750ecb2ae6"
      },
      "execution_count": 50,
      "outputs": [
        {
          "output_type": "execute_result",
          "data": {
            "text/plain": [
              "array([ 127,    2,    3, -127, -128])"
            ]
          },
          "metadata": {},
          "execution_count": 50
        }
      ]
    },
    {
      "cell_type": "code",
      "source": [
        "type(d[0])"
      ],
      "metadata": {
        "colab": {
          "base_uri": "https://localhost:8080/"
        },
        "id": "TndCDwin5oHz",
        "outputId": "bb975de3-9562-4c7e-b500-d3fd1d07c7bb"
      },
      "execution_count": 51,
      "outputs": [
        {
          "output_type": "execute_result",
          "data": {
            "text/plain": [
              "numpy.int64"
            ]
          },
          "metadata": {},
          "execution_count": 51
        }
      ]
    },
    {
      "cell_type": "markdown",
      "source": [
        "### python 도움말"
      ],
      "metadata": {
        "id": "3rVz6FoZ53yS"
      }
    },
    {
      "cell_type": "code",
      "source": [
        "?sum"
      ],
      "metadata": {
        "id": "1H8ld1XN5v8_"
      },
      "execution_count": 52,
      "outputs": []
    },
    {
      "cell_type": "code",
      "source": [
        "help(sum)"
      ],
      "metadata": {
        "colab": {
          "base_uri": "https://localhost:8080/"
        },
        "id": "wzDePHIl57Qc",
        "outputId": "7b8b24a9-f2d5-4779-89bc-a19b56b7e14e"
      },
      "execution_count": 53,
      "outputs": [
        {
          "output_type": "stream",
          "name": "stdout",
          "text": [
            "Help on built-in function sum in module builtins:\n",
            "\n",
            "sum(iterable, /, start=0)\n",
            "    Return the sum of a 'start' value (default: 0) plus an iterable of numbers\n",
            "    \n",
            "    When the iterable is empty, return the start value.\n",
            "    This function is intended specifically for use with numeric values and may\n",
            "    reject non-numeric types.\n",
            "\n"
          ]
        }
      ]
    },
    {
      "cell_type": "markdown",
      "source": [
        "### numpy 도움말"
      ],
      "metadata": {
        "id": "QbGNvzcP6O5s"
      }
    },
    {
      "cell_type": "code",
      "source": [
        "np.lookfor('sum')"
      ],
      "metadata": {
        "colab": {
          "base_uri": "https://localhost:8080/"
        },
        "id": "h1r3D_WW6J-d",
        "outputId": "85ce525e-9925-41a2-d7f4-03e9aec94737"
      },
      "execution_count": 54,
      "outputs": [
        {
          "output_type": "stream",
          "name": "stdout",
          "text": [
            "Search results for 'sum'\n",
            "------------------------\n",
            "numpy.sum\n",
            "    Sum of array elements over a given axis.\n",
            "numpy.cumsum\n",
            "    Return the cumulative sum of the elements along a given axis.\n",
            "numpy.einsum\n",
            "    einsum(subscripts, *operands, out=None, dtype=None, order='K',\n",
            "numpy.nansum\n",
            "    Return the sum of array elements over a given axis treating Not a\n",
            "numpy.nancumsum\n",
            "    Return the cumulative sum of array elements over a given axis treating Not a\n",
            "numpy.einsum_path\n",
            "    Evaluates the lowest cost contraction order for an einsum expression by\n",
            "numpy.trace\n",
            "    Return the sum along diagonals of the array.\n",
            "numpy.ma.sum\n",
            "    Return the sum of the array elements over the given axis.\n",
            "numpy.Bytes0.sum\n",
            "    Scalar method identical to the corresponding array attribute.\n",
            "numpy.polyadd\n",
            "    Find the sum of two polynomials.\n",
            "numpy.ma.cumsum\n",
            "    Return the cumulative sum of the array elements over the given axis.\n",
            "numpy.logaddexp\n",
            "    Logarithm of the sum of exponentiations of the inputs.\n",
            "numpy.Bytes0.cumsum\n",
            "    Scalar method identical to the corresponding array attribute.\n",
            "numpy.logaddexp2\n",
            "    Logarithm of the sum of exponentiations of the inputs in base-2.\n",
            "numpy.matrix.sum\n",
            "    Returns the sum of the matrix elements, along the given axis.\n",
            "numpy.chararray.sum\n",
            "    Return the sum of the array elements over the given axis.\n",
            "numpy.mask_indices\n",
            "    Return the indices to access (n, n) arrays, given a masking function.\n",
            "numpy.chararray.cumsum\n",
            "    Return the cumulative sum of the elements along the given axis.\n",
            "numpy.Str0.expandtabs\n",
            "    Return a copy where all tab characters are expanded using spaces.\n",
            "numpy.chararray.trace\n",
            "    Return the sum along diagonals of the array.\n",
            "numpy.Bytes0.expandtabs\n",
            "    Return a copy where all tab characters are expanded using spaces.\n",
            "numpy.format_float_positional\n",
            "    Format a floating-point scalar as a decimal string in positional notation.\n",
            "numpy.format_float_scientific\n",
            "    Format a floating-point scalar as a decimal string in scientific notation.\n",
            "numpy.linalg.tensorsolve\n",
            "    Solve the tensor equation ``a x = b`` for x.\n",
            "numpy.ma.MaskedArray.sum\n",
            "    Return the sum of the array elements over the given axis.\n",
            "numpy.ma.MaskedArray.cumsum\n",
            "    Return the cumulative sum of the array elements over the given axis.\n",
            "numpy.core._umath_tests.cumsum\n",
            "    Cumulative sum of the input (n)->(n)\n",
            "numpy.ma.MaskedArray.trace\n",
            "    Return the sum along diagonals of the array.\n",
            "numpy.core._multiarray_umath.c_einsum\n",
            "    c_einsum(subscripts, *operands, out=None, dtype=None, order='K',\n",
            "numpy.polynomial.Hermite._add\n",
            "    Add one Hermite series to another.\n",
            "numpy.polynomial.HermiteE._add\n",
            "    Add one Hermite series to another.\n",
            "numpy.polynomial.Laguerre._add\n",
            "    Add one Laguerre series to another.\n",
            "numpy.polynomial.Legendre._add\n",
            "    Add one Legendre series to another.\n",
            "numpy.polynomial.Chebyshev._add\n",
            "    Add one Chebyshev series to another.\n",
            "numpy.polynomial.Polynomial._add\n",
            "    Add one polynomial to another.\n",
            "numpy.AxisError.__class__.__sizeof__\n",
            "    Return memory consumption of the type object.\n",
            "numpy.add\n",
            "    Add arguments element-wise.\n",
            "numpy.cov\n",
            "    Estimate a covariance matrix, given data and weights.\n",
            "numpy.dot\n",
            "    Dot product of two arrays. Specifically,\n",
            "numpy.std\n",
            "    Compute the standard deviation along the specified axis.\n",
            "numpy.var\n",
            "    Compute the variance along the specified axis.\n",
            "numpy.diag\n",
            "    Extract a diagonal or construct a diagonal array.\n",
            "numpy.diff\n",
            "    Calculate the n-th discrete difference along the given axis.\n",
            "numpy.in1d\n",
            "    Test whether each element of a 1-D array is also present in a second array.\n",
            "numpy.isin\n",
            "    Calculates `element in test_elements`, broadcasting over `element` only.\n",
            "numpy.kron\n",
            "    Kronecker product of two arrays.\n",
            "numpy.mean\n",
            "    Compute the arithmetic mean along the specified axis.\n",
            "numpy.core.setup_common.get_api_versions\n",
            "    Return current C API checksum and the recorded checksum.\n",
            "numpy.poly\n",
            "    Find the coefficients of a polynomial with the given sequence of roots.\n",
            "numpy.cross\n",
            "    Return the cross product of two (arrays of) vectors.\n",
            "numpy.inner\n",
            "    Inner product of two arrays.\n",
            "numpy.outer\n",
            "    Compute the outer product of two vectors.\n",
            "numpy.roots\n",
            "    Return the roots of a polynomial with coefficients given in p.\n",
            "numpy.trapz\n",
            "    Integrate along the given axis using the composite trapezoidal rule.\n",
            "numpy.choose\n",
            "    Construct an array from an index array and a list of arrays to choose from.\n",
            "numpy.matmul\n",
            "    Matrix product of two arrays.\n",
            "numpy.nanstd\n",
            "    Compute the standard deviation along the specified axis, while\n",
            "numpy.nanvar\n",
            "    Compute the variance along the specified axis, while ignoring NaNs.\n",
            "numpy.nditer\n",
            "    Efficient multi-dimensional iterator object to iterate over arrays.\n",
            "numpy.poly1d\n",
            "    A one-dimensional polynomial class.\n",
            "numpy.average\n",
            "    Compute the weighted average along the specified axis.\n",
            "numpy.isclose\n",
            "    Returns a boolean array where two arrays are element-wise equal within a\n",
            "numpy.nanmean\n",
            "    Compute the arithmetic mean along the specified axis, ignoring NaNs.\n",
            "numpy.nanprod\n",
            "    Return the product of array elements over a given axis treating Not a\n",
            "numpy.polyder\n",
            "    Return the derivative of the specified order of a polynomial.\n",
            "numpy.polydiv\n",
            "    Returns the quotient and remainder of polynomial division.\n",
            "numpy.polyfit\n",
            "    Least squares polynomial fit.\n",
            "numpy.polyint\n",
            "    Return an antiderivative (indefinite integral) of a polynomial.\n",
            "numpy.polymul\n",
            "    Find the product of two polynomials.\n",
            "numpy.polysub\n",
            "    Difference (subtraction) of two polynomials.\n",
            "numpy.polyval\n",
            "    Evaluate a polynomial at specific values.\n",
            "numpy.bincount\n",
            "    Count number of occurrences of each value in array of non-negative ints.\n",
            "numpy.blackman\n",
            "    Return the Blackman window.\n",
            "numpy.convolve\n",
            "    Returns the discrete, linear convolution of two one-dimensional sequences.\n",
            "numpy.diagflat\n",
            "    Create a two-dimensional array with the flattened input as a diagonal.\n",
            "numpy.diagonal\n",
            "    Return specified diagonals.\n",
            "numpy.gradient\n",
            "    Return the gradient of an N-dimensional array.\n",
            "numpy.setxor1d\n",
            "    Find the set exclusive-or of two arrays.\n",
            "numpy.correlate\n",
            "    Cross-correlation of two 1-dimensional sequences.\n",
            "numpy.histogram\n",
            "    Compute the histogram of a dataset.\n",
            "numpy.isrealobj\n",
            "    Return True if x is a not complex type or an array of complex numbers.\n",
            "numpy.piecewise\n",
            "    Evaluate a piecewise-defined function.\n",
            "numpy.setdiff1d\n",
            "    Find the set difference of two arrays.\n",
            "numpy.tensordot\n",
            "    Compute tensor dot product along specified axes.\n",
            "numpy.vectorize\n",
            "    vectorize(pyfunc, otypes=None, doc=None, excluded=None, cache=False,\n",
            "numpy.histogram2d\n",
            "    Compute the bi-dimensional histogram of two data samples.\n",
            "numpy.histogramdd\n",
            "    Compute the multidimensional histogram of some data.\n",
            "numpy.intersect1d\n",
            "    Find the intersection of two arrays.\n",
            "numpy.ma.add\n",
            "    Add arguments element-wise.\n",
            "numpy.array2string\n",
            "    Return a string representation of an array.\n",
            "numpy.ma.var\n",
            "    Compute the variance along the specified axis.\n",
            "numpy.searchsorted\n",
            "    Find indices where elements should be inserted to maintain order.\n",
            "numpy.lib.tests.test_utils.old_func4\n",
            "    Summary.\n",
            "numpy.lib.tests.test_utils.old_func5\n",
            "    Summary.\n",
            "numpy.fft.hfft\n",
            "    Compute the FFT of a signal that has Hermitian symmetry, i.e., a real\n",
            "numpy.fft.ifft\n",
            "    Compute the one-dimensional inverse discrete Fourier Transform.\n",
            "numpy.fft.irfft\n",
            "    Computes the inverse of `rfft`.\n",
            "numpy.ma.inner\n",
            "    Inner product of two arrays.\n",
            "numpy.ma.outer\n",
            "    Compute the outer product of two vectors.\n",
            "numpy.ma.trace\n",
            "    a.trace(offset=0, axis1=0, axis2=1, dtype=None, out=None)\n",
            "numpy.apply_over_axes\n",
            "    Apply a function repeatedly over multiple axes.\n",
            "numpy.fft.irfftn\n",
            "    Computes the inverse of `rfftn`.\n",
            "numpy.linalg.svd\n",
            "    Singular Value Decomposition.\n",
            "numpy.ma.average\n",
            "    Return the weighted average of array over the given axis.\n",
            "numpy.ma.polyfit\n",
            "    Least squares polynomial fit.\n",
            "numpy.set_printoptions\n",
            "    Set printing options.\n",
            "numpy.linalg.cond\n",
            "    Compute the condition number of a matrix.\n",
            "numpy.linalg.norm\n",
            "    Matrix or vector norm.\n",
            "numpy.linalg.pinv\n",
            "    Compute the (Moore-Penrose) pseudo-inverse of a matrix.\n",
            "numpy.ma.convolve\n",
            "    Returns the discrete, linear convolution of two one-dimensional sequences.\n",
            "numpy.ma.diagflat\n",
            "    Create a two-dimensional array with the flattened input as a diagonal.\n",
            "numpy.linalg.lstsq\n",
            "    Return the least-squares solution to a linear matrix equation.\n",
            "numpy.random.PCG64\n",
            "    BitGenerator for the PCG-64 pseudo-random number generator.\n",
            "numpy.random.SFC64\n",
            "    BitGenerator for Chris Doty-Humphrey's Small Fast Chaotic PRNG.\n",
            "numpy.ufunc.reduce\n",
            "    Reduces `array`'s dimension by one, by applying ufunc along one axis.\n",
            "numpy.histogram_bin_edges\n",
            "    Function to calculate only the edges of the bins used by the `histogram`\n",
            "numpy.random.Philox\n",
            "    Container for the Philox (4x64) pseudo-random number generator.\n",
            "numpy.random.MT19937\n",
            "    Container for the Mersenne Twister pseudo-random number generator.\n",
            "numpy.ufunc.reduceat\n",
            "    Performs a (local) reduce with specified slices over a single axis.\n",
            "numpy.linalg.multi_dot\n",
            "    Compute the dot product of two or more arrays in a single function call,\n",
            "numpy.linalg.tensorinv\n",
            "    Compute the 'inverse' of an N-dimensional array.\n",
            "numpy.random.PCG64DXSM\n",
            "    BitGenerator for the PCG-64 DXSM pseudo-random number generator.\n",
            "numpy.ufunc.accumulate\n",
            "    Accumulate the result of applying the operator to all elements.\n",
            "numpy.linalg.matrix_rank\n",
            "    Return matrix rank of array using SVD method\n",
            "numpy.ma.apply_over_axes\n",
            "    Apply a function repeatedly over multiple axes.\n",
            "numpy.ma.MaskedArray.var\n",
            "    Compute the variance along the specified axis.\n",
            "numpy.random.Generator.f\n",
            "    Draw samples from an F distribution.\n",
            "numpy.distutils.command.sdist.sdist.write_manifest\n",
            "    Write the file list in 'self.filelist' (presumably as filled in\n",
            "numpy.random.RandomState.f\n",
            "    Draw samples from an F distribution.\n",
            "numpy.random.MT19937.jumped\n",
            "    Returns a new bit generator with the state jumped\n",
            "numpy.polynomial.Hermite.fit\n",
            "    Least squares fit to data.\n",
            "numpy.polynomial.Hermite._fit\n",
            "    Least squares fit of Hermite series to data.\n",
            "numpy.core._multiarray_umath.dot\n",
            "    Dot product of two arrays. Specifically,\n",
            "numpy.polynomial.HermiteE.fit\n",
            "    Least squares fit to data.\n",
            "numpy.polynomial.Laguerre.fit\n",
            "    Least squares fit to data.\n",
            "numpy.polynomial.Legendre.fit\n",
            "    Least squares fit to data.\n",
            "numpy.random.Generator.choice\n",
            "    Generates a random sample from a given array\n",
            "numpy.polynomial.Chebyshev.fit\n",
            "    Least squares fit to data.\n",
            "numpy.polynomial.HermiteE._fit\n",
            "    Least squares fit of Hermite series to data.\n",
            "numpy.polynomial.Laguerre._fit\n",
            "    Least squares fit of Laguerre series to data.\n",
            "numpy.polynomial.Legendre._fit\n",
            "    Least squares fit of Legendre series to data.\n",
            "numpy.polynomial.Chebyshev._fit\n",
            "    Least squares fit of Chebyshev series to data.\n",
            "numpy.polynomial.Hermite._roots\n",
            "    Compute the roots of a Hermite series.\n",
            "numpy.core._multiarray_umath.inner\n",
            "    Inner product of two arrays.\n",
            "numpy.polynomial.Polynomial.fit\n",
            "    Least squares fit to data.\n",
            "numpy.random.Generator.binomial\n",
            "    Draw samples from a binomial distribution.\n",
            "numpy.random.Generator.logistic\n",
            "    Draw samples from a logistic distribution.\n",
            "numpy.random.Generator.rayleigh\n",
            "    Draw samples from a Rayleigh distribution.\n",
            "numpy.random.RandomState.choice\n",
            "    Generates a random sample from a given 1-D array\n",
            "numpy.polynomial.HermiteE._roots\n",
            "    Compute the roots of a HermiteE series.\n",
            "numpy.polynomial.Laguerre._roots\n",
            "    Compute the roots of a Laguerre series.\n",
            "numpy.polynomial.Legendre._roots\n",
            "    Compute the roots of a Legendre series.\n",
            "numpy.polynomial.Polynomial._fit\n",
            "    Least-squares fit of a polynomial to data.\n",
            "numpy.random.Generator.chisquare\n",
            "    Draw samples from a chi-square distribution.\n",
            "numpy.random.Generator.dirichlet\n",
            "    Draw samples from the Dirichlet distribution.\n",
            "numpy.random.Generator.geometric\n",
            "    Draw samples from the geometric distribution.\n",
            "numpy.random.Generator.lognormal\n",
            "    Draw samples from a log-normal distribution.\n",
            "numpy.polynomial.Chebyshev._roots\n",
            "    Compute the roots of a Chebyshev series.\n",
            "numpy.random.Generator.standard_t\n",
            "    Draw samples from a standard Student's t distribution with `df` degrees\n",
            "numpy.random.RandomState.binomial\n",
            "    Draw samples from a binomial distribution.\n",
            "numpy.random.RandomState.logistic\n",
            "    Draw samples from a logistic distribution.\n",
            "numpy.random.RandomState.rayleigh\n",
            "    Draw samples from a Rayleigh distribution.\n",
            "numpy.core._multiarray_umath.bincount\n",
            "    Count number of occurrences of each value in array of non-negative ints.\n",
            "numpy.polynomial.Polynomial._roots\n",
            "    Compute the roots of a polynomial.\n",
            "numpy.polynomial.hermite.hermval2d\n",
            "    Evaluate a 2-D Hermite series at points (x, y).\n",
            "numpy.polynomial.hermite.hermval3d\n",
            "    Evaluate a 3-D Hermite series at points (x, y, z).\n",
            "numpy.polynomial.laguerre.lagval2d\n",
            "    Evaluate a 2-D Laguerre series at points (x, y).\n",
            "numpy.polynomial.laguerre.lagval3d\n",
            "    Evaluate a 3-D Laguerre series at points (x, y, z).\n",
            "numpy.polynomial.legendre.legval2d\n",
            "    Evaluate a 2-D Legendre series at points (x, y).\n",
            "numpy.polynomial.legendre.legval3d\n",
            "    Evaluate a 3-D Legendre series at points (x, y, z).\n",
            "numpy.random.Generator.multinomial\n",
            "    Draw samples from a multinomial distribution.\n",
            "numpy.random.RandomState.chisquare\n",
            "    Draw samples from a chi-square distribution.\n",
            "numpy.random.RandomState.dirichlet\n",
            "    Draw samples from the Dirichlet distribution.\n",
            "numpy.random.RandomState.geometric\n",
            "    Draw samples from the geometric distribution.\n",
            "numpy.random.RandomState.lognormal\n",
            "    Draw samples from a log-normal distribution.\n",
            "numpy.random.RandomState.set_state\n",
            "    set_state(state)\n",
            "numpy.polynomial.hermite.hermgrid2d\n",
            "    Evaluate a 2-D Hermite series on the Cartesian product of x and y.\n",
            "numpy.polynomial.hermite.hermgrid3d\n",
            "    Evaluate a 3-D Hermite series on the Cartesian product of x, y, and z.\n",
            "numpy.polynomial.laguerre.laggrid2d\n",
            "    Evaluate a 2-D Laguerre series on the Cartesian product of x and y.\n",
            "numpy.polynomial.laguerre.laggrid3d\n",
            "    Evaluate a 3-D Laguerre series on the Cartesian product of x, y, and z.\n",
            "numpy.polynomial.legendre.leggrid2d\n",
            "    Evaluate a 2-D Legendre series on the Cartesian product of x and y.\n",
            "numpy.polynomial.legendre.leggrid3d\n",
            "    Evaluate a 3-D Legendre series on the Cartesian product of x, y, and z.\n",
            "numpy.random.Generator.noncentral_f\n",
            "    Draw samples from the noncentral F distribution.\n",
            "numpy.random.RandomState.standard_t\n",
            "    Draw samples from a standard Student's t distribution with `df` degrees\n",
            "numpy.polynomial.chebyshev.chebval2d\n",
            "    Evaluate a 2-D Chebyshev series at points (x, y).\n",
            "numpy.polynomial.chebyshev.chebval3d\n",
            "    Evaluate a 3-D Chebyshev series at points (x, y, z).\n",
            "numpy.random.RandomState.multinomial\n",
            "    Draw samples from a multinomial distribution.\n",
            "numpy.polynomial.chebyshev.chebgrid2d\n",
            "    Evaluate a 2-D Chebyshev series on the Cartesian product of x and y.\n",
            "numpy.polynomial.chebyshev.chebgrid3d\n",
            "    Evaluate a 3-D Chebyshev series on the Cartesian product of x, y, and z.\n",
            "numpy.polynomial.hermite_e.hermeval2d\n",
            "    Evaluate a 2-D HermiteE series at points (x, y).\n",
            "numpy.polynomial.hermite_e.hermeval3d\n",
            "    Evaluate a 3-D Hermite_e series at points (x, y, z).\n",
            "numpy.polynomial.polynomial.polyval2d\n",
            "    Evaluate a 2-D polynomial at points (x, y).\n",
            "numpy.polynomial.polynomial.polyval3d\n",
            "    Evaluate a 3-D polynomial at points (x, y, z).\n",
            "numpy.random.Generator.hypergeometric\n",
            "    Draw samples from a Hypergeometric distribution.\n",
            "numpy.random.RandomState.noncentral_f\n",
            "    Draw samples from the noncentral F distribution.\n",
            "numpy.polynomial.hermite_e.hermegrid2d\n",
            "    Evaluate a 2-D HermiteE series on the Cartesian product of x and y.\n",
            "numpy.polynomial.hermite_e.hermegrid3d\n",
            "    Evaluate a 3-D HermiteE series on the Cartesian product of x, y, and z.\n",
            "numpy.polynomial.polynomial.polygrid2d\n",
            "    Evaluate a 2-D polynomial on the Cartesian product of x and y.\n",
            "numpy.polynomial.polynomial.polygrid3d\n",
            "    Evaluate a 3-D polynomial on the Cartesian product of x, y and z.\n",
            "numpy.random.Generator.standard_cauchy\n",
            "    Draw samples from a standard Cauchy distribution with mode = 0.\n",
            "numpy.distutils.command.build_clib.build_clib.check_library_list\n",
            "    Ensure that the list of libraries is valid.\n",
            "numpy.distutils.command.build_ext.build_ext.check_extensions_list\n",
            "    Ensure that the list of extensions (presumably provided as a\n",
            "numpy.random.RandomState.hypergeometric\n",
            "    Draw samples from a Hypergeometric distribution.\n",
            "numpy.lib.recfunctions.apply_along_fields\n",
            "    Apply function 'func' as a reduction across fields of a structured array.\n",
            "numpy.random.Generator.negative_binomial\n",
            "    Draw samples from a negative binomial distribution.\n",
            "numpy.distutils.command.develop.develop.create_index.__getitem__\n",
            "    Return a newest-to-oldest list of distributions for `project_name`\n",
            "numpy.random.RandomState.random_integers\n",
            "    Random integers of type `np.int_` between `low` and `high`, inclusive.\n",
            "numpy.random.RandomState.standard_cauchy\n",
            "    Draw samples from a standard Cauchy distribution with mode = 0.\n",
            "numpy.random.RandomState.negative_binomial\n",
            "    Draw samples from a negative binomial distribution.\n",
            "numpy.random.Generator.noncentral_chisquare\n",
            "    Draw samples from a noncentral chi-square distribution.\n",
            "numpy.random.RandomState.noncentral_chisquare\n",
            "    Draw samples from a noncentral chi-square distribution.\n",
            "numpy.core.tests.test_simd.Test_SIMD_FP64_128_SSE42_f64.test_conversions\n",
            "    Round to nearest even integer, assume CPU control register is set to rounding.\n",
            "numpy.core.tests.test_simd.Test_SIMD_FP32_128_SSE42_f32.test_conversions\n",
            "    Round to nearest even integer, assume CPU control register is set to rounding.\n",
            "numpy.core.tests.test_simd.Test_SIMD_ALL_128_SSE42_f32.test_arithmetic_reduce_sum\n",
            "    Test reduce sum intrinsics:\n",
            "numpy.random.Generator.multivariate_hypergeometric\n",
            "    multivariate_hypergeometric(colors, nsample, size=None,\n",
            "numpy.core.tests.test_simd.Test_SIMD_ALL_128_SSE42_f32.test_arithmetic_reduce_sumup\n",
            "    Test extend reduce sum intrinsics:\n",
            "numpy.distutils.misc_util.Configuration.set_options\n",
            "    Configure Configuration instance.\n",
            "numpy.distutils.misc_util.Configuration.add_subpackage\n",
            "    Add a sub-package to the current Configuration instance.\n",
            "numpy.distutils.misc_util.Configuration.get_subpackage\n",
            "    Return list of subpackage configurations.\n",
            "numpy.distutils.ccompiler_opt.CCompilerOpt.feature_ahead\n",
            "    Return list of features in 'names' after remove any\n",
            "numpy.distutils.ccompiler_opt.CCompilerOpt.feature_untied\n",
            "    same as 'feature_ahead()' but if both features implied each other\n",
            "numpy.distutils.misc_util.Configuration.add_npy_pkg_config\n",
            "    Generate and install a npy-pkg config file from a template.\n",
            "numpy.linalg.tests.test_deprecations.test_qr_mode_full_future_warning\n",
            "    Check mode='full' FutureWarning.\n",
            "numpy.distutils.tests.test_ccompiler_opt_conf.TestConfFeatures.subTest\n",
            "    Return a context manager that will return the enclosed block"
          ]
        }
      ]
    },
    {
      "cell_type": "code",
      "source": [
        "a = np.array([[1,2,3], [4,5,6]])\n",
        "a"
      ],
      "metadata": {
        "colab": {
          "base_uri": "https://localhost:8080/"
        },
        "id": "fgNoYiZA6Sgb",
        "outputId": "3c74eae7-c497-4b59-f2d2-00dab0c22c59"
      },
      "execution_count": 55,
      "outputs": [
        {
          "output_type": "execute_result",
          "data": {
            "text/plain": [
              "array([[1, 2, 3],\n",
              "       [4, 5, 6]])"
            ]
          },
          "metadata": {},
          "execution_count": 55
        }
      ]
    },
    {
      "cell_type": "code",
      "source": [
        "a.shape   #2행3열"
      ],
      "metadata": {
        "colab": {
          "base_uri": "https://localhost:8080/"
        },
        "id": "01Q4Lng07DdN",
        "outputId": "6f5bc663-7ca4-4f0c-cfa4-4712b883b76e"
      },
      "execution_count": 56,
      "outputs": [
        {
          "output_type": "execute_result",
          "data": {
            "text/plain": [
              "(2, 3)"
            ]
          },
          "metadata": {},
          "execution_count": 56
        }
      ]
    },
    {
      "cell_type": "code",
      "source": [
        "# array가 몇 차원인지 알려준다(2행=2차원)\n",
        "# shape로도 알 수 있다\n",
        "a.ndim "
      ],
      "metadata": {
        "colab": {
          "base_uri": "https://localhost:8080/"
        },
        "id": "m4xs-3pK7E8C",
        "outputId": "961a82d3-f417-4349-ff04-66d5e825a7f7"
      },
      "execution_count": 57,
      "outputs": [
        {
          "output_type": "execute_result",
          "data": {
            "text/plain": [
              "2"
            ]
          },
          "metadata": {},
          "execution_count": 57
        }
      ]
    },
    {
      "cell_type": "code",
      "source": [
        "# 데이터 타입을 알려준다.\n",
        "a.dtype"
      ],
      "metadata": {
        "colab": {
          "base_uri": "https://localhost:8080/"
        },
        "id": "DfozJsLa7MG0",
        "outputId": "8e3002f3-9243-4594-faf4-e7dcf4453a9d"
      },
      "execution_count": 58,
      "outputs": [
        {
          "output_type": "execute_result",
          "data": {
            "text/plain": [
              "dtype('int64')"
            ]
          },
          "metadata": {},
          "execution_count": 58
        }
      ]
    },
    {
      "cell_type": "code",
      "source": [
        "# 요소 전체의 개수를 알려준다\n",
        "# shape로도 알 수 있다 (2행 x 3열 = 6개)\n",
        "a.size"
      ],
      "metadata": {
        "colab": {
          "base_uri": "https://localhost:8080/"
        },
        "id": "0VKLo_yk7SsS",
        "outputId": "9f97a3f6-a585-4db5-8844-eaf4284a1145"
      },
      "execution_count": 59,
      "outputs": [
        {
          "output_type": "execute_result",
          "data": {
            "text/plain": [
              "6"
            ]
          },
          "metadata": {},
          "execution_count": 59
        }
      ]
    },
    {
      "cell_type": "code",
      "source": [
        "# 요소당 byte수를 알려준다.\n",
        "a.itemsize"
      ],
      "metadata": {
        "colab": {
          "base_uri": "https://localhost:8080/"
        },
        "id": "C-7WFQwT7eyv",
        "outputId": "65c2fad3-2430-47a7-e954-2922d1cb6342"
      },
      "execution_count": 60,
      "outputs": [
        {
          "output_type": "execute_result",
          "data": {
            "text/plain": [
              "8"
            ]
          },
          "metadata": {},
          "execution_count": 60
        }
      ]
    },
    {
      "cell_type": "markdown",
      "source": [
        "### numpy와 python의 속도 차이(정도만 알기)"
      ],
      "metadata": {
        "id": "VP9u49Yw7wGN"
      }
    },
    {
      "cell_type": "code",
      "source": [
        "np.arange(10)    #range와 같은 역할"
      ],
      "metadata": {
        "colab": {
          "base_uri": "https://localhost:8080/"
        },
        "id": "gQGML1z07nk6",
        "outputId": "512bf57f-7124-4aea-8f28-3c303744266d"
      },
      "execution_count": 61,
      "outputs": [
        {
          "output_type": "execute_result",
          "data": {
            "text/plain": [
              "array([0, 1, 2, 3, 4, 5, 6, 7, 8, 9])"
            ]
          },
          "metadata": {},
          "execution_count": 61
        }
      ]
    },
    {
      "cell_type": "code",
      "source": [
        "# numpy를 이용한 계산\n",
        "%time np.sum(np.arange(1000000000))"
      ],
      "metadata": {
        "colab": {
          "base_uri": "https://localhost:8080/"
        },
        "id": "dG1jMB3-77cn",
        "outputId": "6349ee2e-2e40-406f-955c-37c18aae036a"
      },
      "execution_count": 62,
      "outputs": [
        {
          "output_type": "stream",
          "name": "stdout",
          "text": [
            "CPU times: user 1.27 s, sys: 934 ms, total: 2.21 s\n",
            "Wall time: 2.22 s\n"
          ]
        },
        {
          "output_type": "execute_result",
          "data": {
            "text/plain": [
              "499999999500000000"
            ]
          },
          "metadata": {},
          "execution_count": 62
        }
      ]
    },
    {
      "cell_type": "code",
      "source": [
        "# python을 이용한 계산\n",
        "%time sum(range(1000000000))"
      ],
      "metadata": {
        "colab": {
          "base_uri": "https://localhost:8080/"
        },
        "id": "qynJJcDv8Ii3",
        "outputId": "72f063b5-6c08-434e-9f3c-e25276045150"
      },
      "execution_count": 63,
      "outputs": [
        {
          "output_type": "stream",
          "name": "stdout",
          "text": [
            "CPU times: user 15.9 s, sys: 41.3 ms, total: 15.9 s\n",
            "Wall time: 16.3 s\n"
          ]
        },
        {
          "output_type": "execute_result",
          "data": {
            "text/plain": [
              "499999999500000000"
            ]
          },
          "metadata": {},
          "execution_count": 63
        }
      ]
    },
    {
      "cell_type": "markdown",
      "source": [
        "같은 np.sum()을 사용하더라도 값을 생성하는 방법에 따라 속도가 달라진다."
      ],
      "metadata": {
        "id": "o6kAms3Y8kUd"
      }
    },
    {
      "cell_type": "code",
      "source": [
        "# 오래걸림(포기)\n",
        "# %time np.sum(range(1000000000))"
      ],
      "metadata": {
        "id": "Wu-Ne4Yq8VAI"
      },
      "execution_count": 64,
      "outputs": []
    },
    {
      "cell_type": "markdown",
      "source": [
        "### copy\n",
        "※ 대입문 6가지    \n",
        "  a = 1  \n",
        "  a = b = 1  \n",
        "  a, b = 1, 2  \n",
        "  a, *b = 1, 2, 3  \n",
        "  a += 1  \n",
        "  global, nonlocal\n"
      ],
      "metadata": {
        "id": "8cfib3AB9Ysh"
      }
    },
    {
      "cell_type": "markdown",
      "source": [
        "### python copy"
      ],
      "metadata": {
        "id": "EzD5p8NY91if"
      }
    },
    {
      "cell_type": "code",
      "source": [
        "a = [1,2,3] #sequence, mutable, heterogeneous"
      ],
      "metadata": {
        "id": "vyWTUqVa8xPZ"
      },
      "execution_count": 65,
      "outputs": []
    },
    {
      "cell_type": "code",
      "source": [
        "b = a"
      ],
      "metadata": {
        "id": "yjGPX-zZ-BPu"
      },
      "execution_count": 66,
      "outputs": []
    },
    {
      "cell_type": "code",
      "source": [
        "b"
      ],
      "metadata": {
        "colab": {
          "base_uri": "https://localhost:8080/"
        },
        "id": "sbi8myqS-HiP",
        "outputId": "9081ddd3-009d-4348-f9fa-3a7fbdabee21"
      },
      "execution_count": 67,
      "outputs": [
        {
          "output_type": "execute_result",
          "data": {
            "text/plain": [
              "[1, 2, 3]"
            ]
          },
          "metadata": {},
          "execution_count": 67
        }
      ]
    },
    {
      "cell_type": "code",
      "source": [
        "a is b    #메모리 주소 비교"
      ],
      "metadata": {
        "colab": {
          "base_uri": "https://localhost:8080/"
        },
        "id": "JqF6WXyW-Iqo",
        "outputId": "f741f848-ed21-44b8-cf0b-feeb04367b77"
      },
      "execution_count": 68,
      "outputs": [
        {
          "output_type": "execute_result",
          "data": {
            "text/plain": [
              "True"
            ]
          },
          "metadata": {},
          "execution_count": 68
        }
      ]
    },
    {
      "cell_type": "code",
      "source": [
        "# a와 b가 메모리 주소를 공유\n",
        "# b값을 변경하면 a도 같이 변경 된다.\n",
        "b[0] = 7"
      ],
      "metadata": {
        "id": "0nHHMDQJ-Juh"
      },
      "execution_count": 69,
      "outputs": []
    },
    {
      "cell_type": "code",
      "source": [
        "b"
      ],
      "metadata": {
        "colab": {
          "base_uri": "https://localhost:8080/"
        },
        "id": "lABM-8oH-OL0",
        "outputId": "8b331d20-ef86-4c99-f8da-799c30044117"
      },
      "execution_count": 70,
      "outputs": [
        {
          "output_type": "execute_result",
          "data": {
            "text/plain": [
              "[7, 2, 3]"
            ]
          },
          "metadata": {},
          "execution_count": 70
        }
      ]
    },
    {
      "cell_type": "code",
      "source": [
        "a"
      ],
      "metadata": {
        "colab": {
          "base_uri": "https://localhost:8080/"
        },
        "id": "QR2UGO6x-PHh",
        "outputId": "190c77b7-4e8f-41a9-8f62-837e0c4bff36"
      },
      "execution_count": 71,
      "outputs": [
        {
          "output_type": "execute_result",
          "data": {
            "text/plain": [
              "[7, 2, 3]"
            ]
          },
          "metadata": {},
          "execution_count": 71
        }
      ]
    },
    {
      "cell_type": "markdown",
      "source": [
        "list copy()"
      ],
      "metadata": {
        "id": "qXTWe9v9-fyg"
      }
    },
    {
      "cell_type": "code",
      "source": [
        "a = [1,2,3]"
      ],
      "metadata": {
        "id": "McaI1Q_c-Pt7"
      },
      "execution_count": 72,
      "outputs": []
    },
    {
      "cell_type": "code",
      "source": [
        "# copy()는 똑같은 값만 가지고 메모리는 공유하지 않는다.\n",
        "b = a.copy()"
      ],
      "metadata": {
        "id": "c1TrXNDQ-lLd"
      },
      "execution_count": 73,
      "outputs": []
    },
    {
      "cell_type": "code",
      "source": [
        "a is b   #메모리 주소 비교"
      ],
      "metadata": {
        "colab": {
          "base_uri": "https://localhost:8080/"
        },
        "id": "GKBPIRjb-moN",
        "outputId": "89832351-8059-4956-b24d-109a47a660bd"
      },
      "execution_count": 74,
      "outputs": [
        {
          "output_type": "execute_result",
          "data": {
            "text/plain": [
              "False"
            ]
          },
          "metadata": {},
          "execution_count": 74
        }
      ]
    },
    {
      "cell_type": "code",
      "source": [
        "id(a)  #주소값 확인\n"
      ],
      "metadata": {
        "colab": {
          "base_uri": "https://localhost:8080/"
        },
        "id": "gn2jiHR9-nsC",
        "outputId": "b2be740e-e403-4b28-f345-334793bb3f53"
      },
      "execution_count": 75,
      "outputs": [
        {
          "output_type": "execute_result",
          "data": {
            "text/plain": [
              "140554412330752"
            ]
          },
          "metadata": {},
          "execution_count": 75
        }
      ]
    },
    {
      "cell_type": "code",
      "source": [
        "id(b)"
      ],
      "metadata": {
        "colab": {
          "base_uri": "https://localhost:8080/"
        },
        "id": "98xoYeyh-yFW",
        "outputId": "898c16df-b0b0-411f-a566-c40a3a183f9c"
      },
      "execution_count": 76,
      "outputs": [
        {
          "output_type": "execute_result",
          "data": {
            "text/plain": [
              "140554248527552"
            ]
          },
          "metadata": {},
          "execution_count": 76
        }
      ]
    },
    {
      "cell_type": "code",
      "source": [
        "b[0] =8"
      ],
      "metadata": {
        "id": "76QFpriX-zKb"
      },
      "execution_count": 77,
      "outputs": []
    },
    {
      "cell_type": "code",
      "source": [
        "b"
      ],
      "metadata": {
        "colab": {
          "base_uri": "https://localhost:8080/"
        },
        "id": "dYpplbVl-2rr",
        "outputId": "520a1e16-ee07-4e76-f280-78b217ce0e21"
      },
      "execution_count": 78,
      "outputs": [
        {
          "output_type": "execute_result",
          "data": {
            "text/plain": [
              "[8, 2, 3]"
            ]
          },
          "metadata": {},
          "execution_count": 78
        }
      ]
    },
    {
      "cell_type": "code",
      "source": [
        "a"
      ],
      "metadata": {
        "colab": {
          "base_uri": "https://localhost:8080/"
        },
        "id": "-qUwFqq---N_",
        "outputId": "9815780c-eb23-46ea-9fec-4d8ccbf6f525"
      },
      "execution_count": 79,
      "outputs": [
        {
          "output_type": "execute_result",
          "data": {
            "text/plain": [
              "[1, 2, 3]"
            ]
          },
          "metadata": {},
          "execution_count": 79
        }
      ]
    },
    {
      "cell_type": "code",
      "source": [
        "print(a is b)\n",
        "print(a == b)"
      ],
      "metadata": {
        "colab": {
          "base_uri": "https://localhost:8080/"
        },
        "id": "h_1XGEwe-_ZR",
        "outputId": "edd09ada-1d31-40c2-a528-ae9b95a47213"
      },
      "execution_count": 80,
      "outputs": [
        {
          "output_type": "stream",
          "name": "stdout",
          "text": [
            "False\n",
            "False\n"
          ]
        }
      ]
    },
    {
      "cell_type": "markdown",
      "source": [
        "list가 2차원일 때 "
      ],
      "metadata": {
        "id": "a6vOe08g_Pmw"
      }
    },
    {
      "cell_type": "code",
      "source": [
        "a = [[1,2,3]]"
      ],
      "metadata": {
        "id": "YXcqeYgp_SEo"
      },
      "execution_count": 81,
      "outputs": []
    },
    {
      "cell_type": "code",
      "source": [
        "type(a)"
      ],
      "metadata": {
        "colab": {
          "base_uri": "https://localhost:8080/"
        },
        "id": "fDwHfgg8_VdU",
        "outputId": "0adb13ea-3690-4ca5-d224-6dee683173a0"
      },
      "execution_count": 82,
      "outputs": [
        {
          "output_type": "execute_result",
          "data": {
            "text/plain": [
              "list"
            ]
          },
          "metadata": {},
          "execution_count": 82
        }
      ]
    },
    {
      "cell_type": "code",
      "source": [
        "# shallow copy\n",
        "b = a.copy()"
      ],
      "metadata": {
        "id": "tXDBU8yQ_XiT"
      },
      "execution_count": 83,
      "outputs": []
    },
    {
      "cell_type": "code",
      "source": [
        "print(a is b)\n",
        "print(a ==b)"
      ],
      "metadata": {
        "colab": {
          "base_uri": "https://localhost:8080/"
        },
        "id": "URQmgWJY_Z_j",
        "outputId": "ab7120a0-2eb3-4e7d-b8fc-94378b8419e0"
      },
      "execution_count": 84,
      "outputs": [
        {
          "output_type": "stream",
          "name": "stdout",
          "text": [
            "False\n",
            "True\n"
          ]
        }
      ]
    },
    {
      "cell_type": "code",
      "source": [
        "print(a[0] is b[0])\n",
        "print(a[0] == b[0])"
      ],
      "metadata": {
        "colab": {
          "base_uri": "https://localhost:8080/"
        },
        "id": "vXRyqRbh_v9r",
        "outputId": "e0b1b9fc-aa6e-42e0-b2aa-cd97c24deaaa"
      },
      "execution_count": 85,
      "outputs": [
        {
          "output_type": "stream",
          "name": "stdout",
          "text": [
            "True\n",
            "True\n"
          ]
        }
      ]
    },
    {
      "cell_type": "markdown",
      "source": [
        "list deepcopy()"
      ],
      "metadata": {
        "id": "KO6jdqtL_G3x"
      }
    },
    {
      "cell_type": "code",
      "source": [
        "import copy"
      ],
      "metadata": {
        "id": "nTvtGRVc_F3_"
      },
      "execution_count": 86,
      "outputs": []
    },
    {
      "cell_type": "code",
      "source": [
        "a = [[1,2,3]]\n",
        "b = copy.deepcopy(a)"
      ],
      "metadata": {
        "id": "ySzoZ93PEH19"
      },
      "execution_count": 87,
      "outputs": []
    },
    {
      "cell_type": "code",
      "source": [
        "print(a)\n",
        "print(b)"
      ],
      "metadata": {
        "colab": {
          "base_uri": "https://localhost:8080/"
        },
        "id": "RZPCzeciEMA1",
        "outputId": "4f52cba1-70f3-4393-f538-d3ae5b6ae1a2"
      },
      "execution_count": 88,
      "outputs": [
        {
          "output_type": "stream",
          "name": "stdout",
          "text": [
            "[[1, 2, 3]]\n",
            "[[1, 2, 3]]\n"
          ]
        }
      ]
    },
    {
      "cell_type": "code",
      "source": [
        "print(a is b)\n",
        "print(a == b)\n",
        "print(a[0] is b[0]) # deep copy가 됨\n",
        "print(a[0] == b[0])"
      ],
      "metadata": {
        "colab": {
          "base_uri": "https://localhost:8080/"
        },
        "id": "9aEeFTPTEO_P",
        "outputId": "84f8cc20-0e01-4115-b742-b768efd01ae1"
      },
      "execution_count": 89,
      "outputs": [
        {
          "output_type": "stream",
          "name": "stdout",
          "text": [
            "False\n",
            "True\n",
            "False\n",
            "True\n"
          ]
        }
      ]
    },
    {
      "cell_type": "markdown",
      "source": [
        "[:]는 전체라는 뜻이다.\n",
        "- 슬라이싱 방식으로 1차 리스트일 때는 재할당하면 deepcopy가 된다.\n",
        "- 슬라이싱 2차 리스트 이상인 경우 shallow copy가 발생한다."
      ],
      "metadata": {
        "id": "Q0pFnyKhEhf4"
      }
    },
    {
      "cell_type": "code",
      "source": [
        "#1차원 배열일 때\n",
        "a = [1,2,3]\n",
        "b = a[:]\n",
        "print(a is b) #주소값\n",
        "print (a ==b) #요소값\n",
        "b[0] = 7\n",
        "print(a is b)\n",
        "print (a==b)"
      ],
      "metadata": {
        "colab": {
          "base_uri": "https://localhost:8080/"
        },
        "id": "fKZLQB4JFrnj",
        "outputId": "a350b376-7146-479a-cf9a-6bd913d3bed5"
      },
      "execution_count": 90,
      "outputs": [
        {
          "output_type": "stream",
          "name": "stdout",
          "text": [
            "False\n",
            "True\n",
            "False\n",
            "False\n"
          ]
        }
      ]
    },
    {
      "cell_type": "code",
      "source": [
        "#2차원 배열일 때\n",
        "a = [[1,2,3]]\n",
        "# 슬라이싱 2차 이상인 경우 shallow copy가 된다.\n",
        "b = a[:]\n",
        "print(a is b)\n",
        "print (a ==b)\n",
        "b[0][0] = 7\n",
        "print(a is b)\n",
        "print (a==b)  #a값도 b와 같이 바뀜"
      ],
      "metadata": {
        "colab": {
          "base_uri": "https://localhost:8080/"
        },
        "id": "lU9-PwPfESwf",
        "outputId": "68e60deb-f5d5-4cd3-aa55-858a2db82372"
      },
      "execution_count": 91,
      "outputs": [
        {
          "output_type": "stream",
          "name": "stdout",
          "text": [
            "False\n",
            "True\n",
            "False\n",
            "True\n"
          ]
        }
      ]
    },
    {
      "cell_type": "markdown",
      "source": [
        "※python의 copy는 기본적으로 2차원부터 shallow copy를 한다."
      ],
      "metadata": {
        "id": "Qyo_z_JGGdTa"
      }
    },
    {
      "cell_type": "markdown",
      "source": [
        "### numpy의 copy"
      ],
      "metadata": {
        "id": "R39KYvqFGrQB"
      }
    },
    {
      "cell_type": "code",
      "source": [
        "import numpy as np\n",
        "a = b = np.array([1,2,3])"
      ],
      "metadata": {
        "id": "xvZ8Sg-DFqx2"
      },
      "execution_count": 92,
      "outputs": []
    },
    {
      "cell_type": "code",
      "source": [
        "print(a is b)\n",
        "print(a==b)"
      ],
      "metadata": {
        "colab": {
          "base_uri": "https://localhost:8080/"
        },
        "id": "heVTIl1ZG2JO",
        "outputId": "b171e2dc-6aa0-4448-c63a-9a51b3733d43"
      },
      "execution_count": 93,
      "outputs": [
        {
          "output_type": "stream",
          "name": "stdout",
          "text": [
            "True\n",
            "[ True  True  True]\n"
          ]
        }
      ]
    },
    {
      "cell_type": "markdown",
      "source": [
        "array는 sequence타입으로 인덱싱과 슬라이싱이 가능하다."
      ],
      "metadata": {
        "id": "VuNjvLpkHCHf"
      }
    },
    {
      "cell_type": "code",
      "source": [
        "a[0]  #indexing"
      ],
      "metadata": {
        "colab": {
          "base_uri": "https://localhost:8080/"
        },
        "id": "SvfJqwo_G6HD",
        "outputId": "70554c19-8efc-4334-b2e4-0ab80cb919fd"
      },
      "execution_count": 94,
      "outputs": [
        {
          "output_type": "execute_result",
          "data": {
            "text/plain": [
              "1"
            ]
          },
          "metadata": {},
          "execution_count": 94
        }
      ]
    },
    {
      "cell_type": "code",
      "source": [
        "a[:]  #slicing"
      ],
      "metadata": {
        "colab": {
          "base_uri": "https://localhost:8080/"
        },
        "id": "frA3YQO9HA4k",
        "outputId": "e6961d4f-957b-4539-86eb-260683f0eadd"
      },
      "execution_count": 95,
      "outputs": [
        {
          "output_type": "execute_result",
          "data": {
            "text/plain": [
              "array([1, 2, 3])"
            ]
          },
          "metadata": {},
          "execution_count": 95
        }
      ]
    },
    {
      "cell_type": "code",
      "source": [
        "# array는 mutable이다.\n",
        "# 예외가 몇 가지 있지만 mutable에 가깝다.\n",
        "a[0] = 100\n",
        "print(a)\n",
        "print(b)"
      ],
      "metadata": {
        "colab": {
          "base_uri": "https://localhost:8080/"
        },
        "id": "a-qA-DPjHNgX",
        "outputId": "8ca84ca1-a280-4237-eb64-6a089efdad0d"
      },
      "execution_count": 96,
      "outputs": [
        {
          "output_type": "stream",
          "name": "stdout",
          "text": [
            "[100   2   3]\n",
            "[100   2   3]\n"
          ]
        }
      ]
    },
    {
      "cell_type": "markdown",
      "source": [
        "array는 homogeneous, sequence, mutable이다."
      ],
      "metadata": {
        "id": "zGGcLvhxHctd"
      }
    },
    {
      "cell_type": "markdown",
      "source": [
        "array deepcopy"
      ],
      "metadata": {
        "id": "K9shXYz_HlBc"
      }
    },
    {
      "cell_type": "code",
      "source": [
        "a = np.array([[1,2,3]])\n",
        "# numpy는 기본적으로 deepcopy이다.\n",
        "b = a.copy()"
      ],
      "metadata": {
        "id": "QiEFNU7GHah1"
      },
      "execution_count": 97,
      "outputs": []
    },
    {
      "cell_type": "code",
      "source": [
        "print(a is b)"
      ],
      "metadata": {
        "colab": {
          "base_uri": "https://localhost:8080/"
        },
        "id": "xDHe0fJEHvu6",
        "outputId": "2b6158e6-a20c-4529-cd37-ca2299396bd5"
      },
      "execution_count": 98,
      "outputs": [
        {
          "output_type": "stream",
          "name": "stdout",
          "text": [
            "False\n"
          ]
        }
      ]
    },
    {
      "cell_type": "markdown",
      "source": [
        "### as 계열\n",
        "다른 데이터 타입을 가져와서 바꿔서 사용할 때는 as라는 이름이 보통 붙는다."
      ],
      "metadata": {
        "id": "aobsB9S3H9HA"
      }
    },
    {
      "cell_type": "code",
      "source": [
        "# python의 list 데이터 타입을 int ndarry로 변환\n",
        "a = [1,2,3]  #python의 list\n",
        "print(type(a))\n",
        "print(type(a[0]))\n",
        "\n",
        "b = np.array(a)   #numpy의 array\n",
        "print(type(b))\n",
        "print(type(b[0]))"
      ],
      "metadata": {
        "colab": {
          "base_uri": "https://localhost:8080/"
        },
        "id": "5zriIqGFH0wF",
        "outputId": "ee7f2f38-6b60-4d71-bdd4-5cdc49d59e81"
      },
      "execution_count": 99,
      "outputs": [
        {
          "output_type": "stream",
          "name": "stdout",
          "text": [
            "<class 'list'>\n",
            "<class 'int'>\n",
            "<class 'numpy.ndarray'>\n",
            "<class 'numpy.int64'>\n"
          ]
        }
      ]
    },
    {
      "cell_type": "code",
      "source": [
        "# python의 list 데이터 타입을 int ndarry로 변환(asarray())\n",
        "a = [1,2,3]  #python의 list\n",
        "print(type(a))\n",
        "print(type(a[0]))\n",
        "\n",
        "b = np.asarray(a)   #numpy의 array\n",
        "print(type(b))\n",
        "print(type(b[0]))"
      ],
      "metadata": {
        "colab": {
          "base_uri": "https://localhost:8080/"
        },
        "id": "Ww9mJUMWIbDq",
        "outputId": "92ed5d71-1f96-42ec-8778-5a5a2b5022dd"
      },
      "execution_count": 100,
      "outputs": [
        {
          "output_type": "stream",
          "name": "stdout",
          "text": [
            "<class 'list'>\n",
            "<class 'int'>\n",
            "<class 'numpy.ndarray'>\n",
            "<class 'numpy.int64'>\n"
          ]
        }
      ]
    },
    {
      "cell_type": "code",
      "source": [
        "# python의 list 데이터 타입을 int ndarry로 변환(asarray())\n",
        "a = [1,2,3]  #python의 list\n",
        "print(type(a))\n",
        "print(type(a[0]))\n",
        "\n",
        "b = np.asfarray(a)   #numpy의 array (asfarrayy하면 float으로 바꿈)\n",
        "print(type(b))\n",
        "print(type(b[0]))"
      ],
      "metadata": {
        "colab": {
          "base_uri": "https://localhost:8080/"
        },
        "id": "ZmtJiy5zI34x",
        "outputId": "1f5f60ad-4678-4678-967b-a71c7018b8ff"
      },
      "execution_count": 101,
      "outputs": [
        {
          "output_type": "stream",
          "name": "stdout",
          "text": [
            "<class 'list'>\n",
            "<class 'int'>\n",
            "<class 'numpy.ndarray'>\n",
            "<class 'numpy.float64'>\n"
          ]
        }
      ]
    },
    {
      "cell_type": "code",
      "source": [
        "# python의 list 데이터 타입을 int ndarry로 변환(asarray())\n",
        "a = [1.,2.,3.]  #python의 list  (1. 숫자뒤에 .점붙이면 실수타입)\n",
        "print(type(a))\n",
        "print(type(a[0]))\n",
        "\n",
        "b = np.asarray(a)   #numpy의 array (위의 python타입을 그대로 가져옴)\n",
        "print(type(b))\n",
        "print(type(b[0]))"
      ],
      "metadata": {
        "colab": {
          "base_uri": "https://localhost:8080/"
        },
        "id": "AcS65OSUJGr6",
        "outputId": "cc962ebd-fe79-41dd-f371-b0aab78b0a85"
      },
      "execution_count": 102,
      "outputs": [
        {
          "output_type": "stream",
          "name": "stdout",
          "text": [
            "<class 'list'>\n",
            "<class 'float'>\n",
            "<class 'numpy.ndarray'>\n",
            "<class 'numpy.float64'>\n"
          ]
        }
      ]
    },
    {
      "cell_type": "markdown",
      "source": [
        "### 배열의 값 가져오기"
      ],
      "metadata": {
        "id": "P4kHmQSNJnO9"
      }
    },
    {
      "cell_type": "markdown",
      "source": [
        "#### (1) comma로 값 가져오기"
      ],
      "metadata": {
        "id": "aS1T6GcwJUyX"
      }
    },
    {
      "cell_type": "code",
      "source": [
        "a = [[1,2,3], [4,5,6]]  #python\n",
        "b = np.array([[1,2,3], [4,5,6]]) #array"
      ],
      "metadata": {
        "id": "JYgnLcGqJxYU"
      },
      "execution_count": 103,
      "outputs": []
    },
    {
      "cell_type": "code",
      "source": [
        "a[0]"
      ],
      "metadata": {
        "colab": {
          "base_uri": "https://localhost:8080/"
        },
        "id": "_rN_ANWfJ8jC",
        "outputId": "1b917ca8-8916-45b6-dc19-56619b140e42"
      },
      "execution_count": 104,
      "outputs": [
        {
          "output_type": "execute_result",
          "data": {
            "text/plain": [
              "[1, 2, 3]"
            ]
          },
          "metadata": {},
          "execution_count": 104
        }
      ]
    },
    {
      "cell_type": "code",
      "source": [
        "# a[0,1]  # 이렇게는 못가져온다"
      ],
      "metadata": {
        "id": "7gTVmlN5J9ZF"
      },
      "execution_count": 105,
      "outputs": []
    },
    {
      "cell_type": "code",
      "source": [
        "a[0][1]   #인덱스를 이용해 값을 가져올 때는 행,렬을 입력해줘야함"
      ],
      "metadata": {
        "colab": {
          "base_uri": "https://localhost:8080/"
        },
        "id": "GzdIwtLqKC6X",
        "outputId": "6469e704-60b1-4b6a-ed9f-98be33a59a39"
      },
      "execution_count": 106,
      "outputs": [
        {
          "output_type": "execute_result",
          "data": {
            "text/plain": [
              "2"
            ]
          },
          "metadata": {},
          "execution_count": 106
        }
      ]
    },
    {
      "cell_type": "code",
      "source": [
        "a[slice(0,1)]"
      ],
      "metadata": {
        "colab": {
          "base_uri": "https://localhost:8080/"
        },
        "id": "d5QcbseSKIv7",
        "outputId": "a38f3e8a-8c1f-4029-c323-5c70a8306c24"
      },
      "execution_count": 107,
      "outputs": [
        {
          "output_type": "execute_result",
          "data": {
            "text/plain": [
              "[[1, 2, 3]]"
            ]
          },
          "metadata": {},
          "execution_count": 107
        }
      ]
    },
    {
      "cell_type": "code",
      "source": [
        "b[0]"
      ],
      "metadata": {
        "colab": {
          "base_uri": "https://localhost:8080/"
        },
        "id": "6KYfXv5tKPMr",
        "outputId": "e9f61c68-7ca7-427d-e758-bb942a75d47e"
      },
      "execution_count": 108,
      "outputs": [
        {
          "output_type": "execute_result",
          "data": {
            "text/plain": [
              "array([1, 2, 3])"
            ]
          },
          "metadata": {},
          "execution_count": 108
        }
      ]
    },
    {
      "cell_type": "code",
      "source": [
        "b[0, 1]"
      ],
      "metadata": {
        "colab": {
          "base_uri": "https://localhost:8080/"
        },
        "id": "W5QSpPO8KYWs",
        "outputId": "a3ccff30-c6db-44a3-cb38-fab6abf64180"
      },
      "execution_count": 109,
      "outputs": [
        {
          "output_type": "execute_result",
          "data": {
            "text/plain": [
              "2"
            ]
          },
          "metadata": {},
          "execution_count": 109
        }
      ]
    },
    {
      "cell_type": "markdown",
      "source": [
        "### (2) boolean indexing"
      ],
      "metadata": {
        "id": "z9ct6nFaKqPQ"
      }
    },
    {
      "cell_type": "code",
      "source": [
        "a = [[1,2,3,4]]   # python list"
      ],
      "metadata": {
        "id": "iDXsqNZmKZ_k"
      },
      "execution_count": 110,
      "outputs": []
    },
    {
      "cell_type": "code",
      "source": [
        "# TypeError\n",
        "# a > 3"
      ],
      "metadata": {
        "id": "ijqGxI1hKxxn"
      },
      "execution_count": 111,
      "outputs": []
    },
    {
      "cell_type": "code",
      "source": [
        "b = np.array([1,2,3,4])\n",
        "b"
      ],
      "metadata": {
        "colab": {
          "base_uri": "https://localhost:8080/"
        },
        "id": "DXG-s49UK1ec",
        "outputId": "88edda5f-2f9b-4b66-c396-8bf3f0f09867"
      },
      "execution_count": 112,
      "outputs": [
        {
          "output_type": "execute_result",
          "data": {
            "text/plain": [
              "array([1, 2, 3, 4])"
            ]
          },
          "metadata": {},
          "execution_count": 112
        }
      ]
    },
    {
      "cell_type": "code",
      "source": [
        "b > 3"
      ],
      "metadata": {
        "colab": {
          "base_uri": "https://localhost:8080/"
        },
        "id": "oAOTxZ03LBMr",
        "outputId": "0df4e438-0cc4-493a-bb9a-4ba65cf1bfdb"
      },
      "execution_count": 113,
      "outputs": [
        {
          "output_type": "execute_result",
          "data": {
            "text/plain": [
              "array([False, False, False,  True])"
            ]
          },
          "metadata": {},
          "execution_count": 113
        }
      ]
    },
    {
      "cell_type": "markdown",
      "source": [
        "array를 scalar와 연산하면 elementwise로 계산한다.  \n",
        "(elementwise : 원소별로 각각 계산이 된다.)"
      ],
      "metadata": {
        "id": "jpGsiLRbLcxm"
      }
    },
    {
      "cell_type": "code",
      "source": [
        "b[b>3]   #True인 값만 가져온다."
      ],
      "metadata": {
        "colab": {
          "base_uri": "https://localhost:8080/"
        },
        "id": "fDk58OJYLJv4",
        "outputId": "5a4ce242-2e14-4d42-ac2f-f9a296c3820a"
      },
      "execution_count": 114,
      "outputs": [
        {
          "output_type": "execute_result",
          "data": {
            "text/plain": [
              "array([4])"
            ]
          },
          "metadata": {},
          "execution_count": 114
        }
      ]
    },
    {
      "cell_type": "markdown",
      "source": [
        "numpy에서 boolean indexing 조건\n",
        "- array만 가능하다.\n",
        "- numpy True,False로만 가능하다.\n",
        "- shape가 맞아야 한다.(개수가 맞을 때만 사용할 수 있다)"
      ],
      "metadata": {
        "id": "ltADPjMkMOvr"
      }
    },
    {
      "cell_type": "markdown",
      "source": [
        "####(3) fancy indexing"
      ],
      "metadata": {
        "id": "7xxj9SGXMtpo"
      }
    },
    {
      "cell_type": "code",
      "source": [
        "b = np.arange(100).reshape([20,5])  #reshape(행, 열) 배열의 구조 변경\n",
        "b"
      ],
      "metadata": {
        "colab": {
          "base_uri": "https://localhost:8080/"
        },
        "id": "HNAVAP3cL7DF",
        "outputId": "79808da2-6641-4223-ba72-e52e4cdf1e3b"
      },
      "execution_count": 115,
      "outputs": [
        {
          "output_type": "execute_result",
          "data": {
            "text/plain": [
              "array([[ 0,  1,  2,  3,  4],\n",
              "       [ 5,  6,  7,  8,  9],\n",
              "       [10, 11, 12, 13, 14],\n",
              "       [15, 16, 17, 18, 19],\n",
              "       [20, 21, 22, 23, 24],\n",
              "       [25, 26, 27, 28, 29],\n",
              "       [30, 31, 32, 33, 34],\n",
              "       [35, 36, 37, 38, 39],\n",
              "       [40, 41, 42, 43, 44],\n",
              "       [45, 46, 47, 48, 49],\n",
              "       [50, 51, 52, 53, 54],\n",
              "       [55, 56, 57, 58, 59],\n",
              "       [60, 61, 62, 63, 64],\n",
              "       [65, 66, 67, 68, 69],\n",
              "       [70, 71, 72, 73, 74],\n",
              "       [75, 76, 77, 78, 79],\n",
              "       [80, 81, 82, 83, 84],\n",
              "       [85, 86, 87, 88, 89],\n",
              "       [90, 91, 92, 93, 94],\n",
              "       [95, 96, 97, 98, 99]])"
            ]
          },
          "metadata": {},
          "execution_count": 115
        }
      ]
    },
    {
      "cell_type": "code",
      "source": [
        "b[:]    #b 전체를 복사해서 가져와라 =b[:,:]와 같다\n",
        "print(b[1])\n",
        "print(b[1,2]) # 1행에 2번 인덱스값 가져와라\n",
        "print(b[1:3])  #1행에서부터 3행 미만의 수를 가져와라\n",
        "print(b[1:3, 2:4]) # 2번째 행에부터 4행 미만\n",
        "\n",
        "print(b[[1,3,5]])  #1행 3행 5행 출력\n",
        "\n",
        "print(b[[1,3,5], [0,2,4]]) #1,3,5행에서 0,2,4열에 해당되는 것만 출력\n",
        "\n",
        "print(b[:,[0,2,4]])  #전체 행에서 0,2,4열에 해당되는 것만 출력"
      ],
      "metadata": {
        "colab": {
          "base_uri": "https://localhost:8080/"
        },
        "id": "5FeFaBofM2Im",
        "outputId": "219311e7-8ef5-49da-b9bb-7697645417a5"
      },
      "execution_count": 116,
      "outputs": [
        {
          "output_type": "stream",
          "name": "stdout",
          "text": [
            "[5 6 7 8 9]\n",
            "7\n",
            "[[ 5  6  7  8  9]\n",
            " [10 11 12 13 14]]\n",
            "[[ 7  8]\n",
            " [12 13]]\n",
            "[[ 5  6  7  8  9]\n",
            " [15 16 17 18 19]\n",
            " [25 26 27 28 29]]\n",
            "[ 5 17 29]\n",
            "[[ 0  2  4]\n",
            " [ 5  7  9]\n",
            " [10 12 14]\n",
            " [15 17 19]\n",
            " [20 22 24]\n",
            " [25 27 29]\n",
            " [30 32 34]\n",
            " [35 37 39]\n",
            " [40 42 44]\n",
            " [45 47 49]\n",
            " [50 52 54]\n",
            " [55 57 59]\n",
            " [60 62 64]\n",
            " [65 67 69]\n",
            " [70 72 74]\n",
            " [75 77 79]\n",
            " [80 82 84]\n",
            " [85 87 89]\n",
            " [90 92 94]\n",
            " [95 97 99]]\n"
          ]
        }
      ]
    },
    {
      "cell_type": "code",
      "source": [
        "# fancying indexing은 인덱싱 기법만 사용할 수 있다.\n",
        "# \":\" (콜론)은 슬라이싱 기법이므로 지원하지 않는다.\n",
        "#b[[2:5]]"
      ],
      "metadata": {
        "id": "Utw6--htNQQ7"
      },
      "execution_count": 117,
      "outputs": []
    },
    {
      "cell_type": "markdown",
      "source": [
        "fancy indexing 은 (행,열의) 개수가 같게 지정되어야 한다."
      ],
      "metadata": {
        "id": "Jn4GagCQSWe4"
      }
    },
    {
      "cell_type": "code",
      "source": [
        "b[[1,3,4],[0,2,1]]  #1행 0열, 3행 2열, 4행 1열 출력\n",
        "                    # 정상처리됨"
      ],
      "metadata": {
        "id": "jQ3CBEpBR176",
        "colab": {
          "base_uri": "https://localhost:8080/"
        },
        "outputId": "62a1ef73-1dd2-4563-c491-30b9a3bcd73b"
      },
      "execution_count": 118,
      "outputs": [
        {
          "output_type": "execute_result",
          "data": {
            "text/plain": [
              "array([ 5, 17, 21])"
            ]
          },
          "metadata": {},
          "execution_count": 118
        }
      ]
    },
    {
      "cell_type": "code",
      "source": [
        "#IndexError\n",
        "#b[[1,3,5],[0,2]]"
      ],
      "metadata": {
        "id": "-KV9B2dBRlCT"
      },
      "execution_count": 119,
      "outputs": []
    },
    {
      "cell_type": "markdown",
      "source": [
        "### 3차원 이상에서 차원 구분법"
      ],
      "metadata": {
        "id": "9N4EOukJS3wM"
      }
    },
    {
      "cell_type": "code",
      "source": [
        "b = np.arange(24).reshape(2,3,4)\n",
        "b"
      ],
      "metadata": {
        "colab": {
          "base_uri": "https://localhost:8080/"
        },
        "id": "7JeR6k7xSP3G",
        "outputId": "5ee73db2-cbb0-4a61-ced8-2ee77865a94e"
      },
      "execution_count": 120,
      "outputs": [
        {
          "output_type": "execute_result",
          "data": {
            "text/plain": [
              "array([[[ 0,  1,  2,  3],\n",
              "        [ 4,  5,  6,  7],\n",
              "        [ 8,  9, 10, 11]],\n",
              "\n",
              "       [[12, 13, 14, 15],\n",
              "        [16, 17, 18, 19],\n",
              "        [20, 21, 22, 23]]])"
            ]
          },
          "metadata": {},
          "execution_count": 120
        }
      ]
    },
    {
      "cell_type": "code",
      "source": [
        "print(b)"
      ],
      "metadata": {
        "colab": {
          "base_uri": "https://localhost:8080/"
        },
        "id": "y4XSIrNkTA_3",
        "outputId": "90bd1765-2e00-4e72-dcb9-e5f75a3b6ba3"
      },
      "execution_count": 121,
      "outputs": [
        {
          "output_type": "stream",
          "name": "stdout",
          "text": [
            "[[[ 0  1  2  3]\n",
            "  [ 4  5  6  7]\n",
            "  [ 8  9 10 11]]\n",
            "\n",
            " [[12 13 14 15]\n",
            "  [16 17 18 19]\n",
            "  [20 21 22 23]]]\n"
          ]
        }
      ]
    },
    {
      "cell_type": "code",
      "source": [
        "b[0]   #0번째 깊이에 있는것(단락)"
      ],
      "metadata": {
        "colab": {
          "base_uri": "https://localhost:8080/"
        },
        "id": "NKDdjL1PTHn3",
        "outputId": "b694382f-55cd-4a65-89b6-4cfc07fa5c3b"
      },
      "execution_count": 122,
      "outputs": [
        {
          "output_type": "execute_result",
          "data": {
            "text/plain": [
              "array([[ 0,  1,  2,  3],\n",
              "       [ 4,  5,  6,  7],\n",
              "       [ 8,  9, 10, 11]])"
            ]
          },
          "metadata": {},
          "execution_count": 122
        }
      ]
    },
    {
      "cell_type": "code",
      "source": [
        "b[1]"
      ],
      "metadata": {
        "colab": {
          "base_uri": "https://localhost:8080/"
        },
        "id": "GOW2NXB8TL2N",
        "outputId": "c0389f34-c32e-4047-b843-33124e17946c"
      },
      "execution_count": 123,
      "outputs": [
        {
          "output_type": "execute_result",
          "data": {
            "text/plain": [
              "array([[12, 13, 14, 15],\n",
              "       [16, 17, 18, 19],\n",
              "       [20, 21, 22, 23]])"
            ]
          },
          "metadata": {},
          "execution_count": 123
        }
      ]
    },
    {
      "cell_type": "code",
      "source": [
        "b[0,1]"
      ],
      "metadata": {
        "colab": {
          "base_uri": "https://localhost:8080/"
        },
        "id": "cH8GrtLDTQwE",
        "outputId": "a2aab556-8fd6-4df7-d541-3afce59908e3"
      },
      "execution_count": 124,
      "outputs": [
        {
          "output_type": "execute_result",
          "data": {
            "text/plain": [
              "array([4, 5, 6, 7])"
            ]
          },
          "metadata": {},
          "execution_count": 124
        }
      ]
    },
    {
      "cell_type": "code",
      "source": [
        "b[0,1,3]  # 0깊이 1인덱스행 3인덱스"
      ],
      "metadata": {
        "colab": {
          "base_uri": "https://localhost:8080/"
        },
        "id": "FjATwTQeTTuO",
        "outputId": "05bd3cb7-bb26-475a-db31-604d5cdf6e95"
      },
      "execution_count": 125,
      "outputs": [
        {
          "output_type": "execute_result",
          "data": {
            "text/plain": [
              "7"
            ]
          },
          "metadata": {},
          "execution_count": 125
        }
      ]
    },
    {
      "cell_type": "markdown",
      "source": [
        "### fancy indexing과 indexing 차이\n",
        "  - indexing은 원래 차원에서 하나 감소해서 가져오고 fancy indexing은 원래 차원 그대로 가져온다."
      ],
      "metadata": {
        "id": "rHI1v5kwTnxr"
      }
    },
    {
      "cell_type": "code",
      "source": [
        "b[0]  #indexing은 차원이 하나 감소해서 가져온다(3차원 -> 2차원으로)"
      ],
      "metadata": {
        "colab": {
          "base_uri": "https://localhost:8080/"
        },
        "id": "0VNcAUTkTdOR",
        "outputId": "912f7463-c742-4e46-dbfb-3aa463f43f18"
      },
      "execution_count": 126,
      "outputs": [
        {
          "output_type": "execute_result",
          "data": {
            "text/plain": [
              "array([[ 0,  1,  2,  3],\n",
              "       [ 4,  5,  6,  7],\n",
              "       [ 8,  9, 10, 11]])"
            ]
          },
          "metadata": {},
          "execution_count": 126
        }
      ]
    },
    {
      "cell_type": "code",
      "source": [
        "b[[0]]   #fancy indexing은 원래 3차원 그대로 가져온다"
      ],
      "metadata": {
        "colab": {
          "base_uri": "https://localhost:8080/"
        },
        "id": "O797RowTT5-b",
        "outputId": "25d43afa-eb0b-4889-8424-1180cf7b79f8"
      },
      "execution_count": 127,
      "outputs": [
        {
          "output_type": "execute_result",
          "data": {
            "text/plain": [
              "array([[[ 0,  1,  2,  3],\n",
              "        [ 4,  5,  6,  7],\n",
              "        [ 8,  9, 10, 11]]])"
            ]
          },
          "metadata": {},
          "execution_count": 127
        }
      ]
    },
    {
      "cell_type": "code",
      "source": [
        "#b[0]  #인덱싱 2차원 가져옴\n",
        "#b[0,:,:]  #인덱싱 2차원 가져옴\n",
        "b[[0],:,:] #팬시 인덱싱 3차원 가져옴"
      ],
      "metadata": {
        "colab": {
          "base_uri": "https://localhost:8080/"
        },
        "id": "DkESFbpKT7lR",
        "outputId": "80a04c7a-7efd-496d-dfca-2fa960a38468"
      },
      "execution_count": 128,
      "outputs": [
        {
          "output_type": "execute_result",
          "data": {
            "text/plain": [
              "array([[[ 0,  1,  2,  3],\n",
              "        [ 4,  5,  6,  7],\n",
              "        [ 8,  9, 10, 11]]])"
            ]
          },
          "metadata": {},
          "execution_count": 128
        }
      ]
    },
    {
      "cell_type": "markdown",
      "source": [
        "### Ellipsis"
      ],
      "metadata": {
        "id": "6iVATzn1VFz5"
      }
    },
    {
      "cell_type": "code",
      "source": [
        "b[0,:,:]"
      ],
      "metadata": {
        "colab": {
          "base_uri": "https://localhost:8080/"
        },
        "id": "bDnvQug2UXuQ",
        "outputId": "c3fe5e2c-2624-46a0-dc93-dba8c5331f2f"
      },
      "execution_count": 129,
      "outputs": [
        {
          "output_type": "execute_result",
          "data": {
            "text/plain": [
              "array([[ 0,  1,  2,  3],\n",
              "       [ 4,  5,  6,  7],\n",
              "       [ 8,  9, 10, 11]])"
            ]
          },
          "metadata": {},
          "execution_count": 129
        }
      ]
    },
    {
      "cell_type": "code",
      "source": [
        "b[0,...]"
      ],
      "metadata": {
        "colab": {
          "base_uri": "https://localhost:8080/"
        },
        "id": "we3nJjBNVM3U",
        "outputId": "9206f4a9-95c9-48b0-82d1-ec73046ae46f"
      },
      "execution_count": 130,
      "outputs": [
        {
          "output_type": "execute_result",
          "data": {
            "text/plain": [
              "array([[ 0,  1,  2,  3],\n",
              "       [ 4,  5,  6,  7],\n",
              "       [ 8,  9, 10, 11]])"
            ]
          },
          "metadata": {},
          "execution_count": 130
        }
      ]
    },
    {
      "cell_type": "code",
      "source": [
        "type(...)"
      ],
      "metadata": {
        "colab": {
          "base_uri": "https://localhost:8080/"
        },
        "id": "A3b4XI7qVW92",
        "outputId": "0cc2fd07-c666-4e36-87a4-2f842b20cddb"
      },
      "execution_count": 131,
      "outputs": [
        {
          "output_type": "execute_result",
          "data": {
            "text/plain": [
              "ellipsis"
            ]
          },
          "metadata": {},
          "execution_count": 131
        }
      ]
    },
    {
      "cell_type": "code",
      "source": [
        "b[0]   #생략기법(인덱싱 기법)\n",
        "b[0,:,:] #슬라이싱 기법\n",
        "b[0,...] #Elipse기법"
      ],
      "metadata": {
        "colab": {
          "base_uri": "https://localhost:8080/"
        },
        "id": "N7b-tJ00VbWB",
        "outputId": "394ec273-c9ea-4578-a51f-2f7995e918e8"
      },
      "execution_count": 132,
      "outputs": [
        {
          "output_type": "execute_result",
          "data": {
            "text/plain": [
              "array([[ 0,  1,  2,  3],\n",
              "       [ 4,  5,  6,  7],\n",
              "       [ 8,  9, 10, 11]])"
            ]
          },
          "metadata": {},
          "execution_count": 132
        }
      ]
    },
    {
      "cell_type": "code",
      "source": [
        "b"
      ],
      "metadata": {
        "colab": {
          "base_uri": "https://localhost:8080/"
        },
        "id": "wYyUrZMVVu0E",
        "outputId": "5d9c54da-7711-4c43-8685-f9702c307f60"
      },
      "execution_count": 133,
      "outputs": [
        {
          "output_type": "execute_result",
          "data": {
            "text/plain": [
              "array([[[ 0,  1,  2,  3],\n",
              "        [ 4,  5,  6,  7],\n",
              "        [ 8,  9, 10, 11]],\n",
              "\n",
              "       [[12, 13, 14, 15],\n",
              "        [16, 17, 18, 19],\n",
              "        [20, 21, 22, 23]]])"
            ]
          },
          "metadata": {},
          "execution_count": 133
        }
      ]
    },
    {
      "cell_type": "code",
      "source": [
        "# 숫자 1,5,9만 가져온다.\n",
        "b[0,:,1]   #0번째 깊이에서 1열만 가져오면 됨"
      ],
      "metadata": {
        "colab": {
          "base_uri": "https://localhost:8080/"
        },
        "id": "TR0ZNvwUVxue",
        "outputId": "1fc76683-3724-4c10-9832-d94f072203db"
      },
      "execution_count": 134,
      "outputs": [
        {
          "output_type": "execute_result",
          "data": {
            "text/plain": [
              "array([1, 5, 9])"
            ]
          },
          "metadata": {},
          "execution_count": 134
        }
      ]
    },
    {
      "cell_type": "code",
      "source": [
        "#숫자 1,5,9,3,7,11가져오기\n",
        "b[0,:,[1,3]]"
      ],
      "metadata": {
        "colab": {
          "base_uri": "https://localhost:8080/"
        },
        "id": "4_JZAg9yV2Mn",
        "outputId": "948b386d-413e-4143-effb-17a57448e21f"
      },
      "execution_count": 135,
      "outputs": [
        {
          "output_type": "execute_result",
          "data": {
            "text/plain": [
              "array([[ 1,  5,  9],\n",
              "       [ 3,  7, 11]])"
            ]
          },
          "metadata": {},
          "execution_count": 135
        }
      ]
    },
    {
      "cell_type": "code",
      "source": [
        "#숫자 4,  5,  6,  7, 16, 17, 18, 19 가져오기\n",
        "# 각 깊이의 1행만 가져오기\n",
        "b[:,1,:]\n"
      ],
      "metadata": {
        "colab": {
          "base_uri": "https://localhost:8080/"
        },
        "id": "FXQiarUeWLUb",
        "outputId": "91a1ca99-58d4-4ad6-d125-45832a3242a9"
      },
      "execution_count": 136,
      "outputs": [
        {
          "output_type": "execute_result",
          "data": {
            "text/plain": [
              "array([[ 4,  5,  6,  7],\n",
              "       [16, 17, 18, 19]])"
            ]
          },
          "metadata": {},
          "execution_count": 136
        }
      ]
    },
    {
      "cell_type": "code",
      "source": [
        "b[:,1:2, :]   #원래 차원수 3차원 그대로 가져옴\n",
        "#배열을 할 때는 차원수 고려해서 출력해야함."
      ],
      "metadata": {
        "colab": {
          "base_uri": "https://localhost:8080/"
        },
        "id": "YdqrtfjVWfIq",
        "outputId": "22b8bf78-57fd-49ae-a4dc-aee1566bab39"
      },
      "execution_count": 137,
      "outputs": [
        {
          "output_type": "execute_result",
          "data": {
            "text/plain": [
              "array([[[ 4,  5,  6,  7]],\n",
              "\n",
              "       [[16, 17, 18, 19]]])"
            ]
          },
          "metadata": {},
          "execution_count": 137
        }
      ]
    },
    {
      "cell_type": "code",
      "source": [
        "# 숫자 3,7,11,15,19,23가져오기\n",
        "b[:,:,3]"
      ],
      "metadata": {
        "colab": {
          "base_uri": "https://localhost:8080/"
        },
        "id": "CorIR1FKWmA9",
        "outputId": "d4aafe80-76a5-4fa1-82b3-b90274b1b4b9"
      },
      "execution_count": 138,
      "outputs": [
        {
          "output_type": "execute_result",
          "data": {
            "text/plain": [
              "array([[ 3,  7, 11],\n",
              "       [15, 19, 23]])"
            ]
          },
          "metadata": {},
          "execution_count": 138
        }
      ]
    },
    {
      "cell_type": "code",
      "source": [
        "# 숫자 3,7,11,15,19,23 원래 크기 그대로 가져오기(3차원)\n",
        "b[:,:,[3]]"
      ],
      "metadata": {
        "colab": {
          "base_uri": "https://localhost:8080/"
        },
        "id": "RHN6KthHXMlm",
        "outputId": "3752f044-879b-4280-a376-604fb6b626f9"
      },
      "execution_count": 139,
      "outputs": [
        {
          "output_type": "execute_result",
          "data": {
            "text/plain": [
              "array([[[ 3],\n",
              "        [ 7],\n",
              "        [11]],\n",
              "\n",
              "       [[15],\n",
              "        [19],\n",
              "        [23]]])"
            ]
          },
          "metadata": {},
          "execution_count": 139
        }
      ]
    },
    {
      "cell_type": "markdown",
      "source": [
        "### 줄임표현(...)\n",
        "출력해야 할 데이터 수가 매우 클 때 보이는 ...은 Elipsis와 다르다."
      ],
      "metadata": {
        "id": "Myi7T6X1XfP1"
      }
    },
    {
      "cell_type": "code",
      "source": [
        "# out(출력)에 나오는 ...은 단순히 줄임표현이다.\n",
        "np.arange(100000)"
      ],
      "metadata": {
        "colab": {
          "base_uri": "https://localhost:8080/"
        },
        "id": "PYuD-zp0XUzG",
        "outputId": "caa34033-c51f-432e-9b72-aa603032c88f"
      },
      "execution_count": 140,
      "outputs": [
        {
          "output_type": "execute_result",
          "data": {
            "text/plain": [
              "array([    0,     1,     2, ..., 99997, 99998, 99999])"
            ]
          },
          "metadata": {},
          "execution_count": 140
        }
      ]
    },
    {
      "cell_type": "code",
      "source": [
        "np.set_printoptions(edgeitems=6)   #줄임표 양쪽에 6개씩 출력되게 지정"
      ],
      "metadata": {
        "id": "LPL7141VXtHK"
      },
      "execution_count": 141,
      "outputs": []
    },
    {
      "cell_type": "code",
      "source": [
        "np.arange(100000)"
      ],
      "metadata": {
        "colab": {
          "base_uri": "https://localhost:8080/"
        },
        "id": "GLsVtcBMYC79",
        "outputId": "55d8d2fe-1447-4c58-fce8-9e2cdabadbed"
      },
      "execution_count": 142,
      "outputs": [
        {
          "output_type": "execute_result",
          "data": {
            "text/plain": [
              "array([    0,     1,     2,     3,     4,     5, ..., 99994, 99995, 99996,\n",
              "       99997, 99998, 99999])"
            ]
          },
          "metadata": {},
          "execution_count": 142
        }
      ]
    },
    {
      "cell_type": "markdown",
      "source": [
        "### 연산\n",
        "numpy 연산의 기본은 두 개의 shape가 같아야 한다."
      ],
      "metadata": {
        "id": "AeOY56tUYjQt"
      }
    },
    {
      "cell_type": "code",
      "source": [
        "a = np.arange(12).reshape(3,4)\n",
        "a"
      ],
      "metadata": {
        "colab": {
          "base_uri": "https://localhost:8080/"
        },
        "id": "q_IwBi8tYI86",
        "outputId": "b294f95e-ccbc-4400-c08b-12d5d063a031"
      },
      "execution_count": 143,
      "outputs": [
        {
          "output_type": "execute_result",
          "data": {
            "text/plain": [
              "array([[ 0,  1,  2,  3],\n",
              "       [ 4,  5,  6,  7],\n",
              "       [ 8,  9, 10, 11]])"
            ]
          },
          "metadata": {},
          "execution_count": 143
        }
      ]
    },
    {
      "cell_type": "code",
      "source": [
        "a.shape"
      ],
      "metadata": {
        "colab": {
          "base_uri": "https://localhost:8080/"
        },
        "id": "7fS07FxmYxLz",
        "outputId": "cf2124a2-af28-4ab7-b3f0-0bf82ada514b"
      },
      "execution_count": 144,
      "outputs": [
        {
          "output_type": "execute_result",
          "data": {
            "text/plain": [
              "(3, 4)"
            ]
          },
          "metadata": {},
          "execution_count": 144
        }
      ]
    },
    {
      "cell_type": "code",
      "source": [
        "b = np.arange(1,13).reshape(3,4)  #np.arange(1,13)시작값 1 끝값 13 지정\n",
        "b"
      ],
      "metadata": {
        "colab": {
          "base_uri": "https://localhost:8080/"
        },
        "id": "dYHTy0tjYyy5",
        "outputId": "4fcc3c5f-7ea2-4c5b-c0c2-741a9368c798"
      },
      "execution_count": 145,
      "outputs": [
        {
          "output_type": "execute_result",
          "data": {
            "text/plain": [
              "array([[ 1,  2,  3,  4],\n",
              "       [ 5,  6,  7,  8],\n",
              "       [ 9, 10, 11, 12]])"
            ]
          },
          "metadata": {},
          "execution_count": 145
        }
      ]
    },
    {
      "cell_type": "code",
      "source": [
        "b.shape"
      ],
      "metadata": {
        "colab": {
          "base_uri": "https://localhost:8080/"
        },
        "id": "wu1efJHYY8Q4",
        "outputId": "dd31d93d-2e4c-4a52-c742-14b8567b54ab"
      },
      "execution_count": 146,
      "outputs": [
        {
          "output_type": "execute_result",
          "data": {
            "text/plain": [
              "(3, 4)"
            ]
          },
          "metadata": {},
          "execution_count": 146
        }
      ]
    },
    {
      "cell_type": "markdown",
      "source": [
        "numpy는 elementwise로 vectorize 연산을 한다.  \n",
        "vectorize는 데이터의 연산을 일괄적으로 처리하는 기능이다."
      ],
      "metadata": {
        "id": "noA_ajuNZOVg"
      }
    },
    {
      "cell_type": "code",
      "source": [
        "# 같은 위치의 요소끼리 더해준다.(elementwise(리스트에서는 안됨))\n",
        "a+b    #a와 b의 shape이 같으므로 각각 같은자리 데이터끼리 연산돼서 출력"
      ],
      "metadata": {
        "colab": {
          "base_uri": "https://localhost:8080/"
        },
        "id": "-RAoVmiyZDf_",
        "outputId": "07531f6c-dec9-4eae-f3c2-6fd6baa50736"
      },
      "execution_count": 147,
      "outputs": [
        {
          "output_type": "execute_result",
          "data": {
            "text/plain": [
              "array([[ 1,  3,  5,  7],\n",
              "       [ 9, 11, 13, 15],\n",
              "       [17, 19, 21, 23]])"
            ]
          },
          "metadata": {},
          "execution_count": 147
        }
      ]
    },
    {
      "cell_type": "code",
      "source": [
        "[1,2,3] + [4,5,6]   #python list"
      ],
      "metadata": {
        "colab": {
          "base_uri": "https://localhost:8080/"
        },
        "id": "UYJk8ulxZGVk",
        "outputId": "36919321-0b19-4117-8c2a-4c1ceab96e60"
      },
      "execution_count": 148,
      "outputs": [
        {
          "output_type": "execute_result",
          "data": {
            "text/plain": [
              "[1, 2, 3, 4, 5, 6]"
            ]
          },
          "metadata": {},
          "execution_count": 148
        }
      ]
    },
    {
      "cell_type": "markdown",
      "source": [
        "numpy는 python함수도 ventorize 시키는 기능을 지원한다."
      ],
      "metadata": {
        "id": "MzeoXsuwZ-67"
      }
    },
    {
      "cell_type": "code",
      "source": [
        "#list도 같은 위치 요소끼리 연산하고 싶을 경우\n",
        "@np.vectorize\n",
        "def plus(a,b):\n",
        "  return a+b\n",
        "\n",
        "plus([1,2,3], [4,5,6])"
      ],
      "metadata": {
        "colab": {
          "base_uri": "https://localhost:8080/"
        },
        "id": "fT-gP7HeZvf2",
        "outputId": "786fe06c-ffa7-4210-b390-6c7c524668f4"
      },
      "execution_count": 149,
      "outputs": [
        {
          "output_type": "execute_result",
          "data": {
            "text/plain": [
              "array([5, 7, 9])"
            ]
          },
          "metadata": {},
          "execution_count": 149
        }
      ]
    },
    {
      "cell_type": "code",
      "source": [
        "a * b"
      ],
      "metadata": {
        "colab": {
          "base_uri": "https://localhost:8080/"
        },
        "id": "mVmi1Dj1Z9od",
        "outputId": "d7e6dda1-6da2-4947-d055-e85812420635"
      },
      "execution_count": 150,
      "outputs": [
        {
          "output_type": "execute_result",
          "data": {
            "text/plain": [
              "array([[  0,   2,   6,  12],\n",
              "       [ 20,  30,  42,  56],\n",
              "       [ 72,  90, 110, 132]])"
            ]
          },
          "metadata": {},
          "execution_count": 150
        }
      ]
    },
    {
      "cell_type": "code",
      "source": [
        "#[1,2,3] * [4,5,6]\n",
        "#list는 안됨"
      ],
      "metadata": {
        "id": "VOFpXSPDaHiN"
      },
      "execution_count": 151,
      "outputs": []
    },
    {
      "cell_type": "code",
      "source": [
        "c = np.matrix([[1,2],[3,4]])\n",
        "c"
      ],
      "metadata": {
        "colab": {
          "base_uri": "https://localhost:8080/"
        },
        "id": "kv61BQxLaN3e",
        "outputId": "b5de2eda-c429-4f8a-d521-6c3c283ce8c8"
      },
      "execution_count": 152,
      "outputs": [
        {
          "output_type": "execute_result",
          "data": {
            "text/plain": [
              "matrix([[1, 2],\n",
              "        [3, 4]])"
            ]
          },
          "metadata": {},
          "execution_count": 152
        }
      ]
    },
    {
      "cell_type": "code",
      "source": [
        "type(c)"
      ],
      "metadata": {
        "colab": {
          "base_uri": "https://localhost:8080/"
        },
        "id": "PKYbO25_aqrw",
        "outputId": "dbe1464a-a212-4171-c5a8-345a64e60b76"
      },
      "execution_count": 153,
      "outputs": [
        {
          "output_type": "execute_result",
          "data": {
            "text/plain": [
              "numpy.matrix"
            ]
          },
          "metadata": {},
          "execution_count": 153
        }
      ]
    },
    {
      "cell_type": "code",
      "source": [
        "# matrix * matrix = 행렬곱\n",
        "# 1*1+2*3  1*2+2*4\n",
        "# 3*1+4*3  3*2+4*4\n",
        "c * c"
      ],
      "metadata": {
        "colab": {
          "base_uri": "https://localhost:8080/"
        },
        "id": "Dnuk009iauxf",
        "outputId": "7ef0725a-76dc-4b00-a716-11619c43aac4"
      },
      "execution_count": 154,
      "outputs": [
        {
          "output_type": "execute_result",
          "data": {
            "text/plain": [
              "matrix([[ 7, 10],\n",
              "        [15, 22]])"
            ]
          },
          "metadata": {},
          "execution_count": 154
        }
      ]
    },
    {
      "cell_type": "code",
      "source": [
        "a = np.arange(12).reshape(3,4)\n",
        "print(a)\n",
        "print(a.shape)"
      ],
      "metadata": {
        "id": "ngfvVNwsaxIQ",
        "colab": {
          "base_uri": "https://localhost:8080/"
        },
        "outputId": "b44b62ef-5546-471d-a0d6-4ce4113e0a05"
      },
      "execution_count": 155,
      "outputs": [
        {
          "output_type": "stream",
          "name": "stdout",
          "text": [
            "[[ 0  1  2  3]\n",
            " [ 4  5  6  7]\n",
            " [ 8  9 10 11]]\n",
            "(3, 4)\n"
          ]
        }
      ]
    },
    {
      "cell_type": "code",
      "source": [
        "b = np.arange(1,13).reshape(3,4)\n",
        "print(b)\n",
        "print(b.shape)"
      ],
      "metadata": {
        "colab": {
          "base_uri": "https://localhost:8080/"
        },
        "id": "5iMz0DVePwoT",
        "outputId": "833ea34e-f6ef-4514-83fe-b88a9ab17e9d"
      },
      "execution_count": 156,
      "outputs": [
        {
          "output_type": "stream",
          "name": "stdout",
          "text": [
            "[[ 1  2  3  4]\n",
            " [ 5  6  7  8]\n",
            " [ 9 10 11 12]]\n",
            "(3, 4)\n"
          ]
        }
      ]
    },
    {
      "cell_type": "markdown",
      "source": [
        "ndarry에서 행렬곱 연산자 @ 이다.  \n",
        "python재단에서 numpy를 위해 만들어준 연산자이다."
      ],
      "metadata": {
        "id": "VEVOvV7DP7EA"
      }
    },
    {
      "cell_type": "code",
      "source": [
        "#a @ b"
      ],
      "metadata": {
        "colab": {
          "base_uri": "https://localhost:8080/",
          "height": 176
        },
        "id": "vOc0v0vZQA5a",
        "outputId": "cdb14cd4-67f9-4823-a0a3-94348e5b04de"
      },
      "execution_count": 157,
      "outputs": [
        {
          "output_type": "error",
          "ename": "ValueError",
          "evalue": "ignored",
          "traceback": [
            "\u001b[0;31m---------------------------------------------------------------------------\u001b[0m",
            "\u001b[0;31mValueError\u001b[0m                                Traceback (most recent call last)",
            "\u001b[0;32m<ipython-input-157-88de868f0fd7>\u001b[0m in \u001b[0;36m<module>\u001b[0;34m\u001b[0m\n\u001b[0;32m----> 1\u001b[0;31m \u001b[0ma\u001b[0m \u001b[0;34m@\u001b[0m \u001b[0mb\u001b[0m\u001b[0;34m\u001b[0m\u001b[0;34m\u001b[0m\u001b[0m\n\u001b[0m",
            "\u001b[0;31mValueError\u001b[0m: matmul: Input operand 1 has a mismatch in its core dimension 0, with gufunc signature (n?,k),(k,m?)->(n?,m?) (size 3 is different from 4)"
          ]
        }
      ]
    },
    {
      "cell_type": "markdown",
      "source": [
        "행렬곱을 하기 위해서는 shape가 맞아야 한다.  \n",
        "T는 transpose(전치)의 약자이다."
      ],
      "metadata": {
        "id": "m5W3dXCMQg81"
      }
    },
    {
      "cell_type": "code",
      "source": [
        "b = b.T"
      ],
      "metadata": {
        "id": "DhJody2mQm1V"
      },
      "execution_count": 160,
      "outputs": []
    },
    {
      "cell_type": "code",
      "source": [
        "print(a.shape, b.shape)"
      ],
      "metadata": {
        "colab": {
          "base_uri": "https://localhost:8080/"
        },
        "id": "pZJFydx_Qpso",
        "outputId": "f186201f-e631-4f34-ea87-6d534784caf9"
      },
      "execution_count": 161,
      "outputs": [
        {
          "output_type": "stream",
          "name": "stdout",
          "text": [
            "(3, 4) (4, 3)\n"
          ]
        }
      ]
    },
    {
      "cell_type": "code",
      "source": [
        "a @ b"
      ],
      "metadata": {
        "colab": {
          "base_uri": "https://localhost:8080/"
        },
        "id": "BDJvA-baQtU4",
        "outputId": "8e36adff-1902-42b2-c2d6-e8fd87b3bff6"
      },
      "execution_count": 162,
      "outputs": [
        {
          "output_type": "execute_result",
          "data": {
            "text/plain": [
              "array([[ 20,  44,  68],\n",
              "       [ 60, 148, 236],\n",
              "       [100, 252, 404]])"
            ]
          },
          "metadata": {},
          "execution_count": 162
        }
      ]
    },
    {
      "cell_type": "markdown",
      "source": [
        "함수방법으로 np.dot()을 사용할 수 있다."
      ],
      "metadata": {
        "id": "FCmkPOwSRBC0"
      }
    },
    {
      "cell_type": "code",
      "source": [
        "np.dot(a, a.T)  #ndarry"
      ],
      "metadata": {
        "colab": {
          "base_uri": "https://localhost:8080/"
        },
        "id": "OHTjZ7I_Q0uD",
        "outputId": "f2dac4a5-692b-4727-e71f-6829db21ef33"
      },
      "execution_count": 163,
      "outputs": [
        {
          "output_type": "execute_result",
          "data": {
            "text/plain": [
              "array([[ 14,  38,  62],\n",
              "       [ 38, 126, 214],\n",
              "       [ 62, 214, 366]])"
            ]
          },
          "metadata": {},
          "execution_count": 163
        }
      ]
    },
    {
      "cell_type": "code",
      "source": [
        "b = np.matrix(b)\n",
        "type(b)"
      ],
      "metadata": {
        "colab": {
          "base_uri": "https://localhost:8080/"
        },
        "id": "oTs8pYUbRF4c",
        "outputId": "b06fbd3a-53b2-4578-d3a2-6965a29d0a93"
      },
      "execution_count": 164,
      "outputs": [
        {
          "output_type": "execute_result",
          "data": {
            "text/plain": [
              "numpy.matrix"
            ]
          },
          "metadata": {},
          "execution_count": 164
        }
      ]
    },
    {
      "cell_type": "code",
      "source": [
        "np.dot(b, b.T)   #matrix나 배열이나 dot을 이용하면 행렬곱이 가능하다."
      ],
      "metadata": {
        "colab": {
          "base_uri": "https://localhost:8080/"
        },
        "id": "vgjRG0oCRTf8",
        "outputId": "cfbb90a3-09e5-42eb-feaa-88eb4f91a2be"
      },
      "execution_count": 167,
      "outputs": [
        {
          "output_type": "execute_result",
          "data": {
            "text/plain": [
              "matrix([[107, 122, 137, 152],\n",
              "        [122, 140, 158, 176],\n",
              "        [137, 158, 179, 200],\n",
              "        [152, 176, 200, 224]])"
            ]
          },
          "metadata": {},
          "execution_count": 167
        }
      ]
    },
    {
      "cell_type": "code",
      "source": [
        "a.dot(a.T)  #메소드방식으로 사용 a자리에 반드시 객체가 와야한다"
      ],
      "metadata": {
        "colab": {
          "base_uri": "https://localhost:8080/"
        },
        "id": "23W4LN5zRYVp",
        "outputId": "9d5fb091-ce72-4c4b-cce6-85ca358d149d"
      },
      "execution_count": 168,
      "outputs": [
        {
          "output_type": "execute_result",
          "data": {
            "text/plain": [
              "array([[ 14,  38,  62],\n",
              "       [ 38, 126, 214],\n",
              "       [ 62, 214, 366]])"
            ]
          },
          "metadata": {},
          "execution_count": 168
        }
      ]
    },
    {
      "cell_type": "markdown",
      "source": [
        "### broadcasting\n",
        "python은 배열과 숫자간에 연산을 할 수 있다."
      ],
      "metadata": {
        "id": "mrFT93SlR1t_"
      }
    },
    {
      "cell_type": "code",
      "source": [
        "#[1,2,3] + 1   #리스트와 숫자는 연산이 안된다."
      ],
      "metadata": {
        "colab": {
          "base_uri": "https://localhost:8080/",
          "height": 176
        },
        "id": "zUSyQFWKRkXN",
        "outputId": "215a1b38-5eb2-44e2-9bea-cf7efaec9087"
      },
      "execution_count": 169,
      "outputs": [
        {
          "output_type": "error",
          "ename": "TypeError",
          "evalue": "ignored",
          "traceback": [
            "\u001b[0;31m---------------------------------------------------------------------------\u001b[0m",
            "\u001b[0;31mTypeError\u001b[0m                                 Traceback (most recent call last)",
            "\u001b[0;32m<ipython-input-169-e259f035f6b7>\u001b[0m in \u001b[0;36m<module>\u001b[0;34m\u001b[0m\n\u001b[0;32m----> 1\u001b[0;31m \u001b[0;34m[\u001b[0m\u001b[0;36m1\u001b[0m\u001b[0;34m,\u001b[0m\u001b[0;36m2\u001b[0m\u001b[0;34m,\u001b[0m\u001b[0;36m3\u001b[0m\u001b[0;34m]\u001b[0m \u001b[0;34m+\u001b[0m \u001b[0;36m1\u001b[0m\u001b[0;34m\u001b[0m\u001b[0;34m\u001b[0m\u001b[0m\n\u001b[0m",
            "\u001b[0;31mTypeError\u001b[0m: can only concatenate list (not \"int\") to list"
          ]
        }
      ]
    },
    {
      "cell_type": "code",
      "source": [
        "a = np.array([1,2,3])     #각각 요소에 1을 더함/행렬이 안맞는데 자동으로 맞춰주는 역할이 broadcasting\n",
        "a + 1"
      ],
      "metadata": {
        "colab": {
          "base_uri": "https://localhost:8080/"
        },
        "id": "MjlrFwCASERf",
        "outputId": "ff25d3f9-e1de-41f4-876f-98b338f67bf5"
      },
      "execution_count": 171,
      "outputs": [
        {
          "output_type": "execute_result",
          "data": {
            "text/plain": [
              "array([2, 3, 4])"
            ]
          },
          "metadata": {},
          "execution_count": 171
        }
      ]
    },
    {
      "cell_type": "markdown",
      "source": [
        "broadcasting이란 모양(shape)이 안맞는데, 특정한 조건에 맞으면 모양을 같게 만들어 연산하는 기능이다.  \n",
        "위 연산에서 1을 a에 같은 모양으로 만들어 준다."
      ],
      "metadata": {
        "id": "MnatKPANSj84"
      }
    },
    {
      "cell_type": "markdown",
      "source": [
        "*** shape모양이 배수가 돼야 broadcasting이 발생한다.***"
      ],
      "metadata": {
        "id": "ZlnuiOPITkQj"
      }
    },
    {
      "cell_type": "code",
      "source": [
        "b = np.arange(6).reshape(2,3)\n",
        "b   #2행 3열"
      ],
      "metadata": {
        "colab": {
          "base_uri": "https://localhost:8080/"
        },
        "id": "KFe6rbQ6ST4a",
        "outputId": "38ce1d11-db33-4d89-feec-a558f5dfafdd"
      },
      "execution_count": 174,
      "outputs": [
        {
          "output_type": "execute_result",
          "data": {
            "text/plain": [
              "array([[0, 1, 2],\n",
              "       [3, 4, 5]])"
            ]
          },
          "metadata": {},
          "execution_count": 174
        }
      ]
    },
    {
      "cell_type": "code",
      "source": [
        "c = np.array([3,4])\n",
        "c  #1행 2열"
      ],
      "metadata": {
        "colab": {
          "base_uri": "https://localhost:8080/"
        },
        "id": "gn0D9B6gS3po",
        "outputId": "a193d624-1f59-45c8-be26-ab61ea26a29d"
      },
      "execution_count": 175,
      "outputs": [
        {
          "output_type": "execute_result",
          "data": {
            "text/plain": [
              "array([3, 4])"
            ]
          },
          "metadata": {},
          "execution_count": 175
        }
      ]
    },
    {
      "cell_type": "markdown",
      "source": [
        "행과 열이 각각 배수가 돼야 broadcasting이 발생될 수 있다.  \n",
        "위의 b,c 처럼 행은 배수가 되지만 열이 배수가 되지 않으면 발생하지 않는다."
      ],
      "metadata": {
        "id": "QrDQpAjzTe-d"
      }
    },
    {
      "cell_type": "markdown",
      "source": [
        "### axis\n",
        "axis는 다차원 배열을 연산할 때 기준이 되는 축이다."
      ],
      "metadata": {
        "id": "gcftGOPLT47Y"
      }
    },
    {
      "cell_type": "code",
      "source": [
        "a = np.arange(12).reshape(3,4)\n",
        "a"
      ],
      "metadata": {
        "colab": {
          "base_uri": "https://localhost:8080/"
        },
        "id": "dQJ8kk00TDuO",
        "outputId": "5ec0adbb-35fb-4148-a96b-dc7da012cb26"
      },
      "execution_count": 176,
      "outputs": [
        {
          "output_type": "execute_result",
          "data": {
            "text/plain": [
              "array([[ 0,  1,  2,  3],\n",
              "       [ 4,  5,  6,  7],\n",
              "       [ 8,  9, 10, 11]])"
            ]
          },
          "metadata": {},
          "execution_count": 176
        }
      ]
    },
    {
      "cell_type": "code",
      "source": [
        "np.sum(a)    #배열 전체 요소를 누적해 더함"
      ],
      "metadata": {
        "colab": {
          "base_uri": "https://localhost:8080/"
        },
        "id": "AwvZxsJMT_jf",
        "outputId": "635f20e1-bf19-4422-d7e2-d5c9e8226991"
      },
      "execution_count": 177,
      "outputs": [
        {
          "output_type": "execute_result",
          "data": {
            "text/plain": [
              "66"
            ]
          },
          "metadata": {},
          "execution_count": 177
        }
      ]
    },
    {
      "cell_type": "markdown",
      "source": [
        "(0,0)(0,1)(0,2)(0,3)  -> 열 마다 누적  \n",
        "(1,0)(1,1)(1,2)(1,3)  \n",
        "(2,0)(2,1)(2,2)(2,3)  \n",
        "  |\n",
        "  행 마다 누적"
      ],
      "metadata": {
        "id": "F7cUW4Z6U5Vo"
      }
    },
    {
      "cell_type": "code",
      "source": [
        "np.sum(a, axis=0)    #a배열은 2차원이므로 axis 0=행 기준이다. (행마다 누적 sum)"
      ],
      "metadata": {
        "colab": {
          "base_uri": "https://localhost:8080/"
        },
        "id": "OQS3KBufUCAK",
        "outputId": "07b58443-ef9b-4218-fcc3-d1f774e8033c"
      },
      "execution_count": 178,
      "outputs": [
        {
          "output_type": "execute_result",
          "data": {
            "text/plain": [
              "array([12, 15, 18, 21])"
            ]
          },
          "metadata": {},
          "execution_count": 178
        }
      ]
    },
    {
      "cell_type": "code",
      "source": [
        "np.sum(a, axis=1)   #a배열은 2차원이므로 axis 1=열 기준이다 (열마다 누적 sum)"
      ],
      "metadata": {
        "colab": {
          "base_uri": "https://localhost:8080/"
        },
        "id": "aB0n-KEzUQ8u",
        "outputId": "d477101c-d3fb-4319-f239-7cf8ced598e0"
      },
      "execution_count": 179,
      "outputs": [
        {
          "output_type": "execute_result",
          "data": {
            "text/plain": [
              "array([ 6, 22, 38])"
            ]
          },
          "metadata": {},
          "execution_count": 179
        }
      ]
    },
    {
      "cell_type": "markdown",
      "source": [
        "3차원 이상에서 축기준 계산"
      ],
      "metadata": {
        "id": "F_k-BgxsVgJF"
      }
    },
    {
      "cell_type": "code",
      "source": [
        "a = np.arange(24).reshape(2,3,4)\n",
        "a"
      ],
      "metadata": {
        "colab": {
          "base_uri": "https://localhost:8080/"
        },
        "id": "sYt122_jUupi",
        "outputId": "e170226c-8012-4bce-b2d3-081ad99cae32"
      },
      "execution_count": 180,
      "outputs": [
        {
          "output_type": "execute_result",
          "data": {
            "text/plain": [
              "array([[[ 0,  1,  2,  3],\n",
              "        [ 4,  5,  6,  7],\n",
              "        [ 8,  9, 10, 11]],\n",
              "\n",
              "       [[12, 13, 14, 15],\n",
              "        [16, 17, 18, 19],\n",
              "        [20, 21, 22, 23]]])"
            ]
          },
          "metadata": {},
          "execution_count": 180
        }
      ]
    },
    {
      "cell_type": "code",
      "source": [
        "# 공간기준(공간마다)\n",
        "np.sum(a, axis=0)    #0깊이와 1깊이의 각각 요소의 위치끼리 sum "
      ],
      "metadata": {
        "colab": {
          "base_uri": "https://localhost:8080/"
        },
        "id": "dScZk3EPVn_i",
        "outputId": "e1cd798a-e0e2-4aab-b284-ad62f75425ae"
      },
      "execution_count": 181,
      "outputs": [
        {
          "output_type": "execute_result",
          "data": {
            "text/plain": [
              "array([[12, 14, 16, 18],\n",
              "       [20, 22, 24, 26],\n",
              "       [28, 30, 32, 34]])"
            ]
          },
          "metadata": {},
          "execution_count": 181
        }
      ]
    },
    {
      "cell_type": "code",
      "source": [
        "#행 기준(행마다)\n",
        "np.sum(a, axis=1)   #0깊이의 행끼리 합 / 1깊이의 행끼리 합"
      ],
      "metadata": {
        "colab": {
          "base_uri": "https://localhost:8080/"
        },
        "id": "4D93i_2VVzBa",
        "outputId": "54f32013-019e-4013-ca7e-29c46a30268e"
      },
      "execution_count": 182,
      "outputs": [
        {
          "output_type": "execute_result",
          "data": {
            "text/plain": [
              "array([[12, 15, 18, 21],\n",
              "       [48, 51, 54, 57]])"
            ]
          },
          "metadata": {},
          "execution_count": 182
        }
      ]
    },
    {
      "cell_type": "code",
      "source": [
        "#열 기준(열마다)\n",
        "np.sum(a,axis = 2)  #0깊이의 열끼리 합/1깊이의 열끼리 합"
      ],
      "metadata": {
        "colab": {
          "base_uri": "https://localhost:8080/"
        },
        "id": "LntEb0ChWMhk",
        "outputId": "10aa5834-61b0-4042-8de8-231185459b12"
      },
      "execution_count": 183,
      "outputs": [
        {
          "output_type": "execute_result",
          "data": {
            "text/plain": [
              "array([[ 6, 22, 38],\n",
              "       [54, 70, 86]])"
            ]
          },
          "metadata": {},
          "execution_count": 183
        }
      ]
    },
    {
      "cell_type": "markdown",
      "source": [
        "### array 모양 바꾸기"
      ],
      "metadata": {
        "id": "drIUB2xsWapE"
      }
    },
    {
      "cell_type": "markdown",
      "source": [
        "#### (1) reshape\n",
        "reshape는 차원을 바꿔주는 기능을 한다."
      ],
      "metadata": {
        "id": "cpGLq79fWyYZ"
      }
    },
    {
      "cell_type": "code",
      "source": [
        "a = np.arange(24)\n",
        "b = a.reshape(3,8)   #3행 8열로 모양을 바꿔 b에 넣어쥼\n",
        "a  #a의 모양은 그대로 유지됨"
      ],
      "metadata": {
        "colab": {
          "base_uri": "https://localhost:8080/"
        },
        "id": "7B02VdGLWutk",
        "outputId": "9098ee53-d00c-48d3-ade0-6189e648303f"
      },
      "execution_count": 186,
      "outputs": [
        {
          "output_type": "execute_result",
          "data": {
            "text/plain": [
              "array([ 0,  1,  2,  3,  4,  5,  6,  7,  8,  9, 10, 11, 12, 13, 14, 15, 16,\n",
              "       17, 18, 19, 20, 21, 22, 23])"
            ]
          },
          "metadata": {},
          "execution_count": 186
        }
      ]
    },
    {
      "cell_type": "code",
      "source": [
        "b"
      ],
      "metadata": {
        "colab": {
          "base_uri": "https://localhost:8080/"
        },
        "id": "aAfo0nIDW-gs",
        "outputId": "2c3e3b44-7689-4aa9-8273-234a345ccbbf"
      },
      "execution_count": 187,
      "outputs": [
        {
          "output_type": "execute_result",
          "data": {
            "text/plain": [
              "array([[ 0,  1,  2,  3,  4,  5,  6,  7],\n",
              "       [ 8,  9, 10, 11, 12, 13, 14, 15],\n",
              "       [16, 17, 18, 19, 20, 21, 22, 23]])"
            ]
          },
          "metadata": {},
          "execution_count": 187
        }
      ]
    },
    {
      "cell_type": "code",
      "source": [
        "#a.reshape(2,3,5)  갖고있는 요소는 24개인데 30개를 만들 수 없음"
      ],
      "metadata": {
        "colab": {
          "base_uri": "https://localhost:8080/",
          "height": 176
        },
        "id": "ZE3zFQdMXHQu",
        "outputId": "a13587e8-207a-4321-dcaf-7743b1fab0bc"
      },
      "execution_count": 188,
      "outputs": [
        {
          "output_type": "error",
          "ename": "ValueError",
          "evalue": "ignored",
          "traceback": [
            "\u001b[0;31m---------------------------------------------------------------------------\u001b[0m",
            "\u001b[0;31mValueError\u001b[0m                                Traceback (most recent call last)",
            "\u001b[0;32m<ipython-input-188-b92f90d34b95>\u001b[0m in \u001b[0;36m<module>\u001b[0;34m\u001b[0m\n\u001b[0;32m----> 1\u001b[0;31m \u001b[0ma\u001b[0m\u001b[0;34m.\u001b[0m\u001b[0mreshape\u001b[0m\u001b[0;34m(\u001b[0m\u001b[0;36m2\u001b[0m\u001b[0;34m,\u001b[0m\u001b[0;36m3\u001b[0m\u001b[0;34m,\u001b[0m\u001b[0;36m5\u001b[0m\u001b[0;34m)\u001b[0m\u001b[0;34m\u001b[0m\u001b[0;34m\u001b[0m\u001b[0m\n\u001b[0m",
            "\u001b[0;31mValueError\u001b[0m: cannot reshape array of size 24 into shape (2,3,5)"
          ]
        }
      ]
    },
    {
      "cell_type": "code",
      "source": [
        "# 음수를 쓰면 알아서 shape을 맞춘다.\n",
        "a.reshape(2,3,-1)    #2깊이 3행에 맞춰서 만들고 음수값을 넣으면 알아서 나머지를 채워줌"
      ],
      "metadata": {
        "colab": {
          "base_uri": "https://localhost:8080/"
        },
        "id": "5T6I77WLXTJQ",
        "outputId": "9c18c5a5-7699-44df-9136-3b0d110cd0d1"
      },
      "execution_count": 189,
      "outputs": [
        {
          "output_type": "execute_result",
          "data": {
            "text/plain": [
              "array([[[ 0,  1,  2,  3],\n",
              "        [ 4,  5,  6,  7],\n",
              "        [ 8,  9, 10, 11]],\n",
              "\n",
              "       [[12, 13, 14, 15],\n",
              "        [16, 17, 18, 19],\n",
              "        [20, 21, 22, 23]]])"
            ]
          },
          "metadata": {},
          "execution_count": 189
        }
      ]
    },
    {
      "cell_type": "code",
      "source": [
        "#어떤 음수값을 넣어도 상관없다.\n",
        "a.reshape(2,3,-100)"
      ],
      "metadata": {
        "colab": {
          "base_uri": "https://localhost:8080/"
        },
        "id": "5-3Z66XdXeh-",
        "outputId": "fb69e222-b80e-4428-e286-71d1b4ebed2d"
      },
      "execution_count": 190,
      "outputs": [
        {
          "output_type": "execute_result",
          "data": {
            "text/plain": [
              "array([[[ 0,  1,  2,  3],\n",
              "        [ 4,  5,  6,  7],\n",
              "        [ 8,  9, 10, 11]],\n",
              "\n",
              "       [[12, 13, 14, 15],\n",
              "        [16, 17, 18, 19],\n",
              "        [20, 21, 22, 23]]])"
            ]
          },
          "metadata": {},
          "execution_count": 190
        }
      ]
    },
    {
      "cell_type": "code",
      "source": [
        "# 고정된 값을 줄 때 배열의 크기를 고려해서 줘야한다.\n",
        "#a.reshape(3,5,-1)  #3깊이에 5행은 15개 자리가 생기는데 a에는 24개의 요소가 있으므로 개수가 안맞아 생성할 수 없음"
      ],
      "metadata": {
        "colab": {
          "base_uri": "https://localhost:8080/",
          "height": 176
        },
        "id": "F2QxKsXOXy1O",
        "outputId": "60ffe79b-d858-4c86-f1dc-336af8aa464b"
      },
      "execution_count": 191,
      "outputs": [
        {
          "output_type": "error",
          "ename": "ValueError",
          "evalue": "ignored",
          "traceback": [
            "\u001b[0;31m---------------------------------------------------------------------------\u001b[0m",
            "\u001b[0;31mValueError\u001b[0m                                Traceback (most recent call last)",
            "\u001b[0;32m<ipython-input-191-1830ae2a6540>\u001b[0m in \u001b[0;36m<module>\u001b[0;34m\u001b[0m\n\u001b[0;32m----> 1\u001b[0;31m \u001b[0ma\u001b[0m\u001b[0;34m.\u001b[0m\u001b[0mreshape\u001b[0m\u001b[0;34m(\u001b[0m\u001b[0;36m3\u001b[0m\u001b[0;34m,\u001b[0m\u001b[0;36m5\u001b[0m\u001b[0;34m,\u001b[0m\u001b[0;34m-\u001b[0m\u001b[0;36m1\u001b[0m\u001b[0;34m)\u001b[0m  \u001b[0;31m#3깊이에 5행은 15개 자리가 생기는데 a에는 24개의 요소가 있으므로 개수가 안맞아 생성할 수 없음\u001b[0m\u001b[0;34m\u001b[0m\u001b[0;34m\u001b[0m\u001b[0m\n\u001b[0m",
            "\u001b[0;31mValueError\u001b[0m: cannot reshape array of size 24 into shape (3,5,newaxis)"
          ]
        }
      ]
    },
    {
      "cell_type": "code",
      "source": [
        "# 음수를 2개 사용할 수 없다\n",
        "# 음수는 다른 차원들이 정해진 상황에서 남은 하나의 차원만 알아서 맞춰준다\n",
        "# a.reshape(3,-1,-1)"
      ],
      "metadata": {
        "colab": {
          "base_uri": "https://localhost:8080/",
          "height": 176
        },
        "id": "9-Wp6UvrYO4n",
        "outputId": "44fb2d8b-d544-4729-e2b8-81c6295e2945"
      },
      "execution_count": 192,
      "outputs": [
        {
          "output_type": "error",
          "ename": "ValueError",
          "evalue": "ignored",
          "traceback": [
            "\u001b[0;31m---------------------------------------------------------------------------\u001b[0m",
            "\u001b[0;31mValueError\u001b[0m                                Traceback (most recent call last)",
            "\u001b[0;32m<ipython-input-192-f0dce30971bb>\u001b[0m in \u001b[0;36m<module>\u001b[0;34m\u001b[0m\n\u001b[0;32m----> 1\u001b[0;31m \u001b[0ma\u001b[0m\u001b[0;34m.\u001b[0m\u001b[0mreshape\u001b[0m\u001b[0;34m(\u001b[0m\u001b[0;36m3\u001b[0m\u001b[0;34m,\u001b[0m\u001b[0;34m-\u001b[0m\u001b[0;36m1\u001b[0m\u001b[0;34m,\u001b[0m\u001b[0;34m-\u001b[0m\u001b[0;36m1\u001b[0m\u001b[0;34m)\u001b[0m\u001b[0;34m\u001b[0m\u001b[0;34m\u001b[0m\u001b[0m\n\u001b[0m",
            "\u001b[0;31mValueError\u001b[0m: can only specify one unknown dimension"
          ]
        }
      ]
    },
    {
      "cell_type": "code",
      "source": [
        "#음수값이 1개이면 위치는 어디에 오든 상관없다.\n",
        "a.reshape(3,-1,2) #3깊이 2열을 지정하고 행은 알아서 맞춰서"
      ],
      "metadata": {
        "colab": {
          "base_uri": "https://localhost:8080/"
        },
        "id": "a5Kh3eTXYnOt",
        "outputId": "1c7a2d2c-b815-49ee-dec2-afd2c0a89b30"
      },
      "execution_count": 193,
      "outputs": [
        {
          "output_type": "execute_result",
          "data": {
            "text/plain": [
              "array([[[ 0,  1],\n",
              "        [ 2,  3],\n",
              "        [ 4,  5],\n",
              "        [ 6,  7]],\n",
              "\n",
              "       [[ 8,  9],\n",
              "        [10, 11],\n",
              "        [12, 13],\n",
              "        [14, 15]],\n",
              "\n",
              "       [[16, 17],\n",
              "        [18, 19],\n",
              "        [20, 21],\n",
              "        [22, 23]]])"
            ]
          },
          "metadata": {},
          "execution_count": 193
        }
      ]
    },
    {
      "cell_type": "code",
      "source": [
        "a.reshape(-1,4,2)  # 4행 2열을 지정하고 깊이는 알아서 맞춰서"
      ],
      "metadata": {
        "colab": {
          "base_uri": "https://localhost:8080/"
        },
        "id": "tZHvKGOIY3EG",
        "outputId": "a2f9922e-5059-4b6c-8689-f6c6b25f9fce"
      },
      "execution_count": 194,
      "outputs": [
        {
          "output_type": "execute_result",
          "data": {
            "text/plain": [
              "array([[[ 0,  1],\n",
              "        [ 2,  3],\n",
              "        [ 4,  5],\n",
              "        [ 6,  7]],\n",
              "\n",
              "       [[ 8,  9],\n",
              "        [10, 11],\n",
              "        [12, 13],\n",
              "        [14, 15]],\n",
              "\n",
              "       [[16, 17],\n",
              "        [18, 19],\n",
              "        [20, 21],\n",
              "        [22, 23]]])"
            ]
          },
          "metadata": {},
          "execution_count": 194
        }
      ]
    },
    {
      "cell_type": "markdown",
      "source": [
        "#### (2) reshape으로 차원 늘리기"
      ],
      "metadata": {
        "id": "M3Nhl30GZK34"
      }
    },
    {
      "cell_type": "code",
      "source": [
        "# 1차원 -> 2차원으로\n",
        "a = np.arange(6).reshape(2,3)\n",
        "a"
      ],
      "metadata": {
        "colab": {
          "base_uri": "https://localhost:8080/"
        },
        "id": "eQDI_8vMY51_",
        "outputId": "2d2a7c62-08dd-4436-b4b4-c36f00d635d4"
      },
      "execution_count": 196,
      "outputs": [
        {
          "output_type": "execute_result",
          "data": {
            "text/plain": [
              "array([[0, 1, 2],\n",
              "       [3, 4, 5]])"
            ]
          },
          "metadata": {},
          "execution_count": 196
        }
      ]
    },
    {
      "cell_type": "code",
      "source": [
        "# 1차원 -> 3차원으로\n",
        "a = np.arange(6).reshape(1,3,2)\n",
        "a"
      ],
      "metadata": {
        "colab": {
          "base_uri": "https://localhost:8080/"
        },
        "id": "RkCKuQifZRdq",
        "outputId": "b55fb56c-3070-4b83-99b9-46cce231d560"
      },
      "execution_count": 197,
      "outputs": [
        {
          "output_type": "execute_result",
          "data": {
            "text/plain": [
              "array([[[0, 1],\n",
              "        [2, 3],\n",
              "        [4, 5]]])"
            ]
          },
          "metadata": {},
          "execution_count": 197
        }
      ]
    },
    {
      "cell_type": "markdown",
      "source": [
        "### resize\n"
      ],
      "metadata": {
        "id": "QyeJqyIRZktP"
      }
    },
    {
      "cell_type": "code",
      "source": [
        "# size는 원소 개수를 알려준다.\n",
        "a = np.arange(24)\n",
        "print(a.size)\n",
        "print(len(a))"
      ],
      "metadata": {
        "colab": {
          "base_uri": "https://localhost:8080/"
        },
        "id": "pnJxpYzLZUv_",
        "outputId": "26671e9a-a860-41f5-888d-7ad5c99a0158"
      },
      "execution_count": 198,
      "outputs": [
        {
          "output_type": "stream",
          "name": "stdout",
          "text": [
            "24\n",
            "24\n"
          ]
        }
      ]
    },
    {
      "cell_type": "code",
      "source": [
        "# mutable이다. return이 없고 자기 자신을 바꾼다. -> reshape와 차이점1\n",
        "# 원래의 원소 개수와 변경하는 원소 개수가 안 맞아도 된다. (0으로 채워준다) -> reshape와 차이점 2\n",
        "b = np.arange(24)\n",
        "b.resize((2,3,8))\n",
        "b"
      ],
      "metadata": {
        "colab": {
          "base_uri": "https://localhost:8080/"
        },
        "id": "VGIiSuFOZxMX",
        "outputId": "97e49726-93c0-40cf-f5bd-c46791605444"
      },
      "execution_count": 199,
      "outputs": [
        {
          "output_type": "execute_result",
          "data": {
            "text/plain": [
              "array([[[ 0,  1,  2,  3,  4,  5,  6,  7],\n",
              "        [ 8,  9, 10, 11, 12, 13, 14, 15],\n",
              "        [16, 17, 18, 19, 20, 21, 22, 23]],\n",
              "\n",
              "       [[ 0,  0,  0,  0,  0,  0,  0,  0],\n",
              "        [ 0,  0,  0,  0,  0,  0,  0,  0],\n",
              "        [ 0,  0,  0,  0,  0,  0,  0,  0]]])"
            ]
          },
          "metadata": {},
          "execution_count": 199
        }
      ]
    },
    {
      "cell_type": "markdown",
      "source": [
        "### array 쪼개기"
      ],
      "metadata": {
        "id": "M9MHJKdDczKy"
      }
    },
    {
      "cell_type": "markdown",
      "source": [
        "split"
      ],
      "metadata": {
        "id": "czNZ0BkSdUgz"
      }
    },
    {
      "cell_type": "code",
      "source": [
        "a = np.arange(24)\n",
        "a"
      ],
      "metadata": {
        "colab": {
          "base_uri": "https://localhost:8080/"
        },
        "id": "dFfoGMB-dWSu",
        "outputId": "54810ccf-cedd-4427-f464-819e1559b0f2"
      },
      "execution_count": 208,
      "outputs": [
        {
          "output_type": "execute_result",
          "data": {
            "text/plain": [
              "array([ 0,  1,  2,  3,  4,  5,  6,  7,  8,  9, 10, 11, 12, 13, 14, 15, 16,\n",
              "       17, 18, 19, 20, 21, 22, 23])"
            ]
          },
          "metadata": {},
          "execution_count": 208
        }
      ]
    },
    {
      "cell_type": "code",
      "source": [
        "# indices_or_sections\n",
        "a = np.split(a,3,axis=0)   #1차원 배열을 3개로 쪼갠다\n",
        "print(a)\n",
        "print(type(a))  #그러면 list에 쪼개진 배열을 넣어줌 = list로 리턴\n",
        "print(a[0], type(a[0]))"
      ],
      "metadata": {
        "colab": {
          "base_uri": "https://localhost:8080/"
        },
        "id": "MH1lUEsMdaRV",
        "outputId": "678a4f12-6505-4506-f03b-92f2e351ca34"
      },
      "execution_count": 209,
      "outputs": [
        {
          "output_type": "stream",
          "name": "stdout",
          "text": [
            "[array([0, 1, 2, 3, 4, 5, 6, 7]), array([ 8,  9, 10, 11, 12, 13, 14, 15]), array([16, 17, 18, 19, 20, 21, 22, 23])]\n",
            "<class 'list'>\n",
            "[0 1 2 3 4 5 6 7] <class 'numpy.ndarray'>\n"
          ]
        }
      ]
    },
    {
      "cell_type": "markdown",
      "source": [
        "hsplit & vsplit"
      ],
      "metadata": {
        "id": "KahgQ8Tvej40"
      }
    },
    {
      "cell_type": "markdown",
      "source": [
        "split는 axis 파라미터가 있다.  \n",
        "default:axis=0"
      ],
      "metadata": {
        "id": "l8Fx6IEzeovw"
      }
    },
    {
      "cell_type": "code",
      "source": [
        "a = np.arange(24)\n",
        "b = a.reshape(4,6)\n",
        "print(b)"
      ],
      "metadata": {
        "colab": {
          "base_uri": "https://localhost:8080/"
        },
        "id": "w8cJPyxUdgRI",
        "outputId": "9c712e59-224d-440d-a032-2f94fee05244"
      },
      "execution_count": 210,
      "outputs": [
        {
          "output_type": "stream",
          "name": "stdout",
          "text": [
            "[[ 0  1  2  3  4  5]\n",
            " [ 6  7  8  9 10 11]\n",
            " [12 13 14 15 16 17]\n",
            " [18 19 20 21 22 23]]\n"
          ]
        }
      ]
    },
    {
      "cell_type": "code",
      "source": [
        "np.split(b,2)  #default가 0이므로 행을 기준으로 쪼개짐"
      ],
      "metadata": {
        "colab": {
          "base_uri": "https://localhost:8080/"
        },
        "id": "xmqsJ59Je1LD",
        "outputId": "592f9bd4-6e79-4de7-b4af-ecf8c2d0845a"
      },
      "execution_count": 211,
      "outputs": [
        {
          "output_type": "execute_result",
          "data": {
            "text/plain": [
              "[array([[ 0,  1,  2,  3,  4,  5],\n",
              "        [ 6,  7,  8,  9, 10, 11]]), array([[12, 13, 14, 15, 16, 17],\n",
              "        [18, 19, 20, 21, 22, 23]])]"
            ]
          },
          "metadata": {},
          "execution_count": 211
        }
      ]
    },
    {
      "cell_type": "code",
      "source": [
        "np.split(b,2, axis=0)  #위랑 같음 (2차원 그대로 유지)"
      ],
      "metadata": {
        "colab": {
          "base_uri": "https://localhost:8080/"
        },
        "id": "RYAhxh1TfHGD",
        "outputId": "2e4e5895-0e45-4ea1-d851-acc68cd05adb"
      },
      "execution_count": 212,
      "outputs": [
        {
          "output_type": "execute_result",
          "data": {
            "text/plain": [
              "[array([[ 0,  1,  2,  3,  4,  5],\n",
              "        [ 6,  7,  8,  9, 10, 11]]), array([[12, 13, 14, 15, 16, 17],\n",
              "        [18, 19, 20, 21, 22, 23]])]"
            ]
          },
          "metadata": {},
          "execution_count": 212
        }
      ]
    },
    {
      "cell_type": "code",
      "source": [
        "#수평으로 가져올 때\n",
        "np.hsplit(a,2)   #행을 기준으로 2개로 쪼개겠다 (2개로 나눠진 그대로 가져옴 1차원으로 가져옴)"
      ],
      "metadata": {
        "colab": {
          "base_uri": "https://localhost:8080/"
        },
        "id": "Vq7tj6ffffNF",
        "outputId": "95827583-490d-499e-850f-10bfde5163a2"
      },
      "execution_count": 214,
      "outputs": [
        {
          "output_type": "execute_result",
          "data": {
            "text/plain": [
              "[array([ 0,  1,  2,  3,  4,  5,  6,  7,  8,  9, 10, 11]),\n",
              " array([12, 13, 14, 15, 16, 17, 18, 19, 20, 21, 22, 23])]"
            ]
          },
          "metadata": {},
          "execution_count": 214
        }
      ]
    },
    {
      "cell_type": "code",
      "source": [
        "np.split(b,2, axis=1)  #1을 주면 열을 기준으로 쪼개짐"
      ],
      "metadata": {
        "colab": {
          "base_uri": "https://localhost:8080/"
        },
        "id": "T9wPPNjqfM9b",
        "outputId": "613cbdae-5426-4ba8-928d-775b2a2da83e"
      },
      "execution_count": 213,
      "outputs": [
        {
          "output_type": "execute_result",
          "data": {
            "text/plain": [
              "[array([[ 0,  1,  2],\n",
              "        [ 6,  7,  8],\n",
              "        [12, 13, 14],\n",
              "        [18, 19, 20]]), array([[ 3,  4,  5],\n",
              "        [ 9, 10, 11],\n",
              "        [15, 16, 17],\n",
              "        [21, 22, 23]])]"
            ]
          },
          "metadata": {},
          "execution_count": 213
        }
      ]
    },
    {
      "cell_type": "code",
      "source": [
        "b"
      ],
      "metadata": {
        "colab": {
          "base_uri": "https://localhost:8080/"
        },
        "id": "8mQWDQNHgoeU",
        "outputId": "c3cd5651-be67-42c2-b861-b015b60bcb8e"
      },
      "execution_count": 216,
      "outputs": [
        {
          "output_type": "execute_result",
          "data": {
            "text/plain": [
              "array([[ 0,  1,  2,  3,  4,  5],\n",
              "       [ 6,  7,  8,  9, 10, 11],\n",
              "       [12, 13, 14, 15, 16, 17],\n",
              "       [18, 19, 20, 21, 22, 23]])"
            ]
          },
          "metadata": {},
          "execution_count": 216
        }
      ]
    },
    {
      "cell_type": "code",
      "source": [
        "np.hsplit(b,2)  #???? 설명 못함"
      ],
      "metadata": {
        "colab": {
          "base_uri": "https://localhost:8080/"
        },
        "id": "ypvSW7lifRG6",
        "outputId": "f5ec4b20-e57d-46b6-b541-66234731658b"
      },
      "execution_count": 218,
      "outputs": [
        {
          "output_type": "execute_result",
          "data": {
            "text/plain": [
              "[array([[ 0,  1,  2],\n",
              "        [ 6,  7,  8],\n",
              "        [12, 13, 14],\n",
              "        [18, 19, 20]]), array([[ 3,  4,  5],\n",
              "        [ 9, 10, 11],\n",
              "        [15, 16, 17],\n",
              "        [21, 22, 23]])]"
            ]
          },
          "metadata": {},
          "execution_count": 218
        }
      ]
    },
    {
      "cell_type": "markdown",
      "source": [
        "indices_or_sections\n",
        "- split 시리즈 함수들의 두 번째 파라미터 이름이 indices_or_sections이다.\n",
        "- 숫자를 묶어서 넣으면 구간으로 쪼개진다."
      ],
      "metadata": {
        "id": "-gfzj79PhOU8"
      }
    },
    {
      "cell_type": "code",
      "source": [
        "a = np.arange(24)\n",
        "a"
      ],
      "metadata": {
        "colab": {
          "base_uri": "https://localhost:8080/"
        },
        "id": "bQXBSGLFgJEp",
        "outputId": "feda7043-f804-4b4c-bc42-299c4cc7d968"
      },
      "execution_count": 219,
      "outputs": [
        {
          "output_type": "execute_result",
          "data": {
            "text/plain": [
              "array([ 0,  1,  2,  3,  4,  5,  6,  7,  8,  9, 10, 11, 12, 13, 14, 15, 16,\n",
              "       17, 18, 19, 20, 21, 22, 23])"
            ]
          },
          "metadata": {},
          "execution_count": 219
        }
      ]
    },
    {
      "cell_type": "code",
      "source": [
        "#section\n",
        "# 처음부터 ~ 2미만 : [0,1]\n",
        "# 2부터 ~ 3미만 : [2]\n",
        "# 3부터 ~ 끝까지 : [3,4,5...]\n",
        "np.hsplit(a, (2,3))   #2미만까지/2에서 3미만까지/나머지 로 나눔"
      ],
      "metadata": {
        "colab": {
          "base_uri": "https://localhost:8080/"
        },
        "id": "Iahk4VeVhgxX",
        "outputId": "7ca2cdf6-f7ba-4a3e-a41c-fae8bfcd79d8"
      },
      "execution_count": 220,
      "outputs": [
        {
          "output_type": "execute_result",
          "data": {
            "text/plain": [
              "[array([0, 1]),\n",
              " array([2]),\n",
              " array([ 3,  4,  5,  6,  7,  8,  9, 10, 11, 12, 13, 14, 15, 16, 17, 18, 19,\n",
              "        20, 21, 22, 23])]"
            ]
          },
          "metadata": {},
          "execution_count": 220
        }
      ]
    },
    {
      "cell_type": "markdown",
      "source": [
        "### array 합치기"
      ],
      "metadata": {
        "id": "EgTss-FEiegE"
      }
    },
    {
      "cell_type": "code",
      "source": [
        "a = np.arange(24)\n",
        "x, y, z = np.split(a,3) # a를 3개로 쪼개서 x,y,z에 넣어라"
      ],
      "metadata": {
        "id": "rKUaRGWshuLN"
      },
      "execution_count": 221,
      "outputs": []
    },
    {
      "cell_type": "code",
      "source": [
        "print(x)\n",
        "print(y)\n",
        "print(z)"
      ],
      "metadata": {
        "colab": {
          "base_uri": "https://localhost:8080/"
        },
        "id": "bZLX2V8dippM",
        "outputId": "2c763df2-07d3-48cc-bb95-b599e98817e8"
      },
      "execution_count": 222,
      "outputs": [
        {
          "output_type": "stream",
          "name": "stdout",
          "text": [
            "[0 1 2 3 4 5 6 7]\n",
            "[ 8  9 10 11 12 13 14 15]\n",
            "[16 17 18 19 20 21 22 23]\n"
          ]
        }
      ]
    },
    {
      "cell_type": "markdown",
      "source": [
        "hstack & vstack"
      ],
      "metadata": {
        "id": "RJQlWC7PjB1y"
      }
    },
    {
      "cell_type": "code",
      "source": [
        "np.hstack((x,y))  #hstack 1차원 배열로 합침"
      ],
      "metadata": {
        "colab": {
          "base_uri": "https://localhost:8080/"
        },
        "id": "TFQf0QfNiv0k",
        "outputId": "0c9bd88a-6e32-4fc8-a204-05afc6a9297c"
      },
      "execution_count": 223,
      "outputs": [
        {
          "output_type": "execute_result",
          "data": {
            "text/plain": [
              "array([ 0,  1,  2,  3,  4,  5,  6,  7,  8,  9, 10, 11, 12, 13, 14, 15])"
            ]
          },
          "metadata": {},
          "execution_count": 223
        }
      ]
    },
    {
      "cell_type": "code",
      "source": [
        "np.vstack((x,y))  #hstack 열단위로 1차원 배열로 합침"
      ],
      "metadata": {
        "colab": {
          "base_uri": "https://localhost:8080/"
        },
        "id": "itetqTiKjHMb",
        "outputId": "3a72bb4e-5dda-4a41-c4e2-f6ac127a0664"
      },
      "execution_count": 224,
      "outputs": [
        {
          "output_type": "execute_result",
          "data": {
            "text/plain": [
              "array([[ 0,  1,  2,  3,  4,  5,  6,  7],\n",
              "       [ 8,  9, 10, 11, 12, 13, 14, 15]])"
            ]
          },
          "metadata": {},
          "execution_count": 224
        }
      ]
    },
    {
      "cell_type": "markdown",
      "source": [
        "dstack\n",
        "- dstack은 합쳐서 3차원으로 만들어준다.\n",
        "- 합칠 array들이 1차원, 2차원일 경우는 차원을 늘린 뒤 합친다.\n",
        "- 합쳐지는 차원은 axis=2이다."
      ],
      "metadata": {
        "id": "3cDz7nxkjZha"
      }
    },
    {
      "cell_type": "code",
      "source": [
        "print(x)\n",
        "print(y)  #둘 다 1차원 배열"
      ],
      "metadata": {
        "colab": {
          "base_uri": "https://localhost:8080/"
        },
        "id": "arlcOpoGjRrL",
        "outputId": "ede2a98e-611f-463a-bed1-31b83502ed48"
      },
      "execution_count": 225,
      "outputs": [
        {
          "output_type": "stream",
          "name": "stdout",
          "text": [
            "[0 1 2 3 4 5 6 7]\n",
            "[ 8  9 10 11 12 13 14 15]\n"
          ]
        }
      ]
    },
    {
      "cell_type": "code",
      "source": [
        "c = np.dstack((x,y))\n",
        "c"
      ],
      "metadata": {
        "colab": {
          "base_uri": "https://localhost:8080/"
        },
        "id": "ssyexZLIjw9m",
        "outputId": "78c287b5-96ac-459b-f071-2f725ca40182"
      },
      "execution_count": 227,
      "outputs": [
        {
          "output_type": "execute_result",
          "data": {
            "text/plain": [
              "array([[[ 0,  8],\n",
              "        [ 1,  9],\n",
              "        [ 2, 10],\n",
              "        [ 3, 11],\n",
              "        [ 4, 12],\n",
              "        [ 5, 13],\n",
              "        [ 6, 14],\n",
              "        [ 7, 15]]])"
            ]
          },
          "metadata": {},
          "execution_count": 227
        }
      ]
    },
    {
      "cell_type": "code",
      "source": [
        "c.shape"
      ],
      "metadata": {
        "colab": {
          "base_uri": "https://localhost:8080/"
        },
        "id": "kfs6wLKrkAfY",
        "outputId": "21633539-5ff8-474b-af45-f7a6c59ed7d4"
      },
      "execution_count": 228,
      "outputs": [
        {
          "output_type": "execute_result",
          "data": {
            "text/plain": [
              "(1, 8, 2)"
            ]
          },
          "metadata": {},
          "execution_count": 228
        }
      ]
    },
    {
      "cell_type": "code",
      "source": [
        "x = x.reshape(2,4)\n",
        "y = y.reshape(2,4)"
      ],
      "metadata": {
        "id": "vLTirul3kJLZ"
      },
      "execution_count": 229,
      "outputs": []
    },
    {
      "cell_type": "code",
      "source": [
        "print(x)\n",
        "print(y)"
      ],
      "metadata": {
        "colab": {
          "base_uri": "https://localhost:8080/"
        },
        "id": "SfVqq9Wyk0Eo",
        "outputId": "517068d3-a7ae-4c9b-f3e3-45d2c5c2d0fc"
      },
      "execution_count": 230,
      "outputs": [
        {
          "output_type": "stream",
          "name": "stdout",
          "text": [
            "[[0 1 2 3]\n",
            " [4 5 6 7]]\n",
            "[[ 8  9 10 11]\n",
            " [12 13 14 15]]\n"
          ]
        }
      ]
    },
    {
      "cell_type": "code",
      "source": [
        "c = np.dstack((x,y))\n",
        "c"
      ],
      "metadata": {
        "colab": {
          "base_uri": "https://localhost:8080/"
        },
        "id": "OWsObvyLk248",
        "outputId": "9f6b1dd5-323d-42dd-89e6-616eea09a9e6"
      },
      "execution_count": 231,
      "outputs": [
        {
          "output_type": "execute_result",
          "data": {
            "text/plain": [
              "array([[[ 0,  8],\n",
              "        [ 1,  9],\n",
              "        [ 2, 10],\n",
              "        [ 3, 11]],\n",
              "\n",
              "       [[ 4, 12],\n",
              "        [ 5, 13],\n",
              "        [ 6, 14],\n",
              "        [ 7, 15]]])"
            ]
          },
          "metadata": {},
          "execution_count": 231
        }
      ]
    },
    {
      "cell_type": "code",
      "source": [
        "c.shape"
      ],
      "metadata": {
        "colab": {
          "base_uri": "https://localhost:8080/"
        },
        "id": "ugmY2txzk-3Q",
        "outputId": "b8e11afa-ba83-4472-fc23-d532b48ab060"
      },
      "execution_count": 232,
      "outputs": [
        {
          "output_type": "execute_result",
          "data": {
            "text/plain": [
              "(2, 4, 2)"
            ]
          },
          "metadata": {},
          "execution_count": 232
        }
      ]
    },
    {
      "cell_type": "markdown",
      "source": [
        "### concatenate\n",
        "concatenate는 axis 방향에 그대로 합쳐준다.  \n",
        "※ stack은 axis방향에 새로운 차원을 만들어 합쳐준다."
      ],
      "metadata": {
        "id": "ZdxgSNUclRgE"
      }
    },
    {
      "cell_type": "code",
      "source": [
        "a = np.arange(12).reshape(3,4)\n",
        "x,y = np.split(a,2,axis=1)"
      ],
      "metadata": {
        "id": "NcudzN6PlAfw"
      },
      "execution_count": 233,
      "outputs": []
    },
    {
      "cell_type": "code",
      "source": [
        "print(x)\n",
        "print(y)"
      ],
      "metadata": {
        "colab": {
          "base_uri": "https://localhost:8080/"
        },
        "id": "IL-_oXfmlmiG",
        "outputId": "50b86342-8fc5-4906-db32-09a0b4c5792d"
      },
      "execution_count": 234,
      "outputs": [
        {
          "output_type": "stream",
          "name": "stdout",
          "text": [
            "[[0 1]\n",
            " [4 5]\n",
            " [8 9]]\n",
            "[[ 2  3]\n",
            " [ 6  7]\n",
            " [10 11]]\n"
          ]
        }
      ]
    },
    {
      "cell_type": "code",
      "source": [
        "# 원래 shape크기 그대로 유지한다.\n",
        "np.concatenate((x,y))  #axis=0 /가로방향으로 합쳐짐/2차원 그대로 유지"
      ],
      "metadata": {
        "colab": {
          "base_uri": "https://localhost:8080/"
        },
        "id": "DBxmmcceloc1",
        "outputId": "478d5102-498f-431f-820f-fca3b2aea6c4"
      },
      "execution_count": 235,
      "outputs": [
        {
          "output_type": "execute_result",
          "data": {
            "text/plain": [
              "array([[ 0,  1],\n",
              "       [ 4,  5],\n",
              "       [ 8,  9],\n",
              "       [ 2,  3],\n",
              "       [ 6,  7],\n",
              "       [10, 11]])"
            ]
          },
          "metadata": {},
          "execution_count": 235
        }
      ]
    },
    {
      "cell_type": "code",
      "source": [
        "# shape 크기를 1개 증가해서 합친다\n",
        "np.stack((x,y))  #기본 axis = 0"
      ],
      "metadata": {
        "colab": {
          "base_uri": "https://localhost:8080/"
        },
        "id": "v2g7QXutmLLo",
        "outputId": "cebd1de0-8ba3-4b2d-d483-5aa5b2130b01"
      },
      "execution_count": 236,
      "outputs": [
        {
          "output_type": "execute_result",
          "data": {
            "text/plain": [
              "array([[[ 0,  1],\n",
              "        [ 4,  5],\n",
              "        [ 8,  9]],\n",
              "\n",
              "       [[ 2,  3],\n",
              "        [ 6,  7],\n",
              "        [10, 11]]])"
            ]
          },
          "metadata": {},
          "execution_count": 236
        }
      ]
    },
    {
      "cell_type": "markdown",
      "source": [
        "### 차원 확장"
      ],
      "metadata": {
        "id": "1DcUSuB8rBAN"
      }
    },
    {
      "cell_type": "markdown",
      "source": [
        "reshape"
      ],
      "metadata": {
        "id": "WX03PnNIrHWI"
      }
    },
    {
      "cell_type": "code",
      "source": [
        "a = np.arange(12).reshape(3,4)  #1차원을 2차원으로\n",
        "a"
      ],
      "metadata": {
        "colab": {
          "base_uri": "https://localhost:8080/"
        },
        "id": "OHMXoczNm2TO",
        "outputId": "34215c49-bb39-43bd-87c1-cff72f616612"
      },
      "execution_count": 237,
      "outputs": [
        {
          "output_type": "execute_result",
          "data": {
            "text/plain": [
              "array([[ 0,  1,  2,  3],\n",
              "       [ 4,  5,  6,  7],\n",
              "       [ 8,  9, 10, 11]])"
            ]
          },
          "metadata": {},
          "execution_count": 237
        }
      ]
    },
    {
      "cell_type": "markdown",
      "source": [
        "stack"
      ],
      "metadata": {
        "id": "d_Un0xZsrRfD"
      }
    },
    {
      "cell_type": "code",
      "source": [
        "# 3차원으로 확장\n",
        "# tuple에 원소가 1개 있으면 차원만 확장시켜 준다.\n",
        "np.stack((a,))  #2차원을 3차원으로"
      ],
      "metadata": {
        "colab": {
          "base_uri": "https://localhost:8080/"
        },
        "id": "pk1o8mCarNfd",
        "outputId": "55044550-1581-4425-fffe-2ac0b725eb7b"
      },
      "execution_count": 240,
      "outputs": [
        {
          "output_type": "execute_result",
          "data": {
            "text/plain": [
              "array([[[ 0,  1,  2,  3],\n",
              "        [ 4,  5,  6,  7],\n",
              "        [ 8,  9, 10, 11]]])"
            ]
          },
          "metadata": {},
          "execution_count": 240
        }
      ]
    },
    {
      "cell_type": "markdown",
      "source": [
        "newaxis\n",
        "- 인덱싱할 때 np.newaxis를 쓰면 차원을 늘릴 수 있다."
      ],
      "metadata": {
        "id": "Q_I95xPxruo_"
      }
    },
    {
      "cell_type": "code",
      "source": [
        "a"
      ],
      "metadata": {
        "colab": {
          "base_uri": "https://localhost:8080/"
        },
        "id": "vqMlTVi6rX4n",
        "outputId": "058fa7d0-639c-489d-9f43-a7972bf1117f"
      },
      "execution_count": 241,
      "outputs": [
        {
          "output_type": "execute_result",
          "data": {
            "text/plain": [
              "array([[ 0,  1,  2,  3],\n",
              "       [ 4,  5,  6,  7],\n",
              "       [ 8,  9, 10, 11]])"
            ]
          },
          "metadata": {},
          "execution_count": 241
        }
      ]
    },
    {
      "cell_type": "code",
      "source": [
        "a.shape"
      ],
      "metadata": {
        "colab": {
          "base_uri": "https://localhost:8080/"
        },
        "id": "pC3EY2jmr2-m",
        "outputId": "8dee4079-de86-4323-a9a6-931214ab1eed"
      },
      "execution_count": 242,
      "outputs": [
        {
          "output_type": "execute_result",
          "data": {
            "text/plain": [
              "(3, 4)"
            ]
          },
          "metadata": {},
          "execution_count": 242
        }
      ]
    },
    {
      "cell_type": "code",
      "source": [
        "a[0]  #인덱싱을 이용해 가져오는 방법"
      ],
      "metadata": {
        "colab": {
          "base_uri": "https://localhost:8080/"
        },
        "id": "R29jSv3vr5bA",
        "outputId": "b79296c6-c235-4773-8326-eaabcd7d1d71"
      },
      "execution_count": 243,
      "outputs": [
        {
          "output_type": "execute_result",
          "data": {
            "text/plain": [
              "array([0, 1, 2, 3])"
            ]
          },
          "metadata": {},
          "execution_count": 243
        }
      ]
    },
    {
      "cell_type": "code",
      "source": [
        "a[np.newaxis]  #2차원을 3차원으로 가져옴"
      ],
      "metadata": {
        "colab": {
          "base_uri": "https://localhost:8080/"
        },
        "id": "2k6X7e03sAYB",
        "outputId": "c5b9924a-dfb8-4531-87f1-a7dc78cc3aea"
      },
      "execution_count": 244,
      "outputs": [
        {
          "output_type": "execute_result",
          "data": {
            "text/plain": [
              "array([[[ 0,  1,  2,  3],\n",
              "        [ 4,  5,  6,  7],\n",
              "        [ 8,  9, 10, 11]]])"
            ]
          },
          "metadata": {},
          "execution_count": 244
        }
      ]
    },
    {
      "cell_type": "markdown",
      "source": [
        "슬라이싱을 할 때 np.newaxis를 쓰면 차원을 늘릴 수 있다."
      ],
      "metadata": {
        "id": "jAILIfUFsPR_"
      }
    },
    {
      "cell_type": "code",
      "source": [
        "a[:,:]  #슬라이싱으로 모두 가져오기"
      ],
      "metadata": {
        "colab": {
          "base_uri": "https://localhost:8080/"
        },
        "id": "IlOYsB7HsHf9",
        "outputId": "ca40b3ba-16e6-45ee-edca-673bc9f352db"
      },
      "execution_count": 245,
      "outputs": [
        {
          "output_type": "execute_result",
          "data": {
            "text/plain": [
              "array([[ 0,  1,  2,  3],\n",
              "       [ 4,  5,  6,  7],\n",
              "       [ 8,  9, 10, 11]])"
            ]
          },
          "metadata": {},
          "execution_count": 245
        }
      ]
    },
    {
      "cell_type": "code",
      "source": [
        "a[np.newaxis,:]  #그대로 가져오면서 2차원을 3차원으로 늘림 = 1,3,4"
      ],
      "metadata": {
        "colab": {
          "base_uri": "https://localhost:8080/"
        },
        "id": "7UtiA1hCsbVT",
        "outputId": "6a374d2e-0fa7-48ce-bede-e77f06d2d3b5"
      },
      "execution_count": 246,
      "outputs": [
        {
          "output_type": "execute_result",
          "data": {
            "text/plain": [
              "array([[[ 0,  1,  2,  3],\n",
              "        [ 4,  5,  6,  7],\n",
              "        [ 8,  9, 10, 11]]])"
            ]
          },
          "metadata": {},
          "execution_count": 246
        }
      ]
    },
    {
      "cell_type": "code",
      "source": [
        "a[:,np.newaxis]  # 3깊이로 가져옴 = 3,1,4"
      ],
      "metadata": {
        "colab": {
          "base_uri": "https://localhost:8080/"
        },
        "id": "VpSow7jPsgLP",
        "outputId": "dba83fcb-4d82-4333-d804-fc42193cbcb1"
      },
      "execution_count": 247,
      "outputs": [
        {
          "output_type": "execute_result",
          "data": {
            "text/plain": [
              "array([[[ 0,  1,  2,  3]],\n",
              "\n",
              "       [[ 4,  5,  6,  7]],\n",
              "\n",
              "       [[ 8,  9, 10, 11]]])"
            ]
          },
          "metadata": {},
          "execution_count": 247
        }
      ]
    },
    {
      "cell_type": "code",
      "source": [
        "a[:,np.newaxis].shape"
      ],
      "metadata": {
        "colab": {
          "base_uri": "https://localhost:8080/"
        },
        "id": "wIsmo_5lsoFd",
        "outputId": "0dd45f36-e2aa-4fb3-8215-bd4d82416752"
      },
      "execution_count": 248,
      "outputs": [
        {
          "output_type": "execute_result",
          "data": {
            "text/plain": [
              "(3, 1, 4)"
            ]
          },
          "metadata": {},
          "execution_count": 248
        }
      ]
    },
    {
      "cell_type": "code",
      "source": [
        "a[:,:,np.newaxis]   #3,4,1"
      ],
      "metadata": {
        "colab": {
          "base_uri": "https://localhost:8080/"
        },
        "id": "ZY6lcjJotA7l",
        "outputId": "3a5f2423-81e9-4730-f6c6-049cfbf19a15"
      },
      "execution_count": 249,
      "outputs": [
        {
          "output_type": "execute_result",
          "data": {
            "text/plain": [
              "array([[[ 0],\n",
              "        [ 1],\n",
              "        [ 2],\n",
              "        [ 3]],\n",
              "\n",
              "       [[ 4],\n",
              "        [ 5],\n",
              "        [ 6],\n",
              "        [ 7]],\n",
              "\n",
              "       [[ 8],\n",
              "        [ 9],\n",
              "        [10],\n",
              "        [11]]])"
            ]
          },
          "metadata": {},
          "execution_count": 249
        }
      ]
    },
    {
      "cell_type": "code",
      "source": [
        "a[:,:,np.newaxis].shape"
      ],
      "metadata": {
        "colab": {
          "base_uri": "https://localhost:8080/"
        },
        "id": "_df-8VnHtG1Z",
        "outputId": "6eed0b69-f567-494e-8719-cd69d3d365f0"
      },
      "execution_count": 250,
      "outputs": [
        {
          "output_type": "execute_result",
          "data": {
            "text/plain": [
              "(3, 4, 1)"
            ]
          },
          "metadata": {},
          "execution_count": 250
        }
      ]
    },
    {
      "cell_type": "code",
      "source": [
        "np.newaxis is None  #np.newaxis자리에 None을 써도 된다"
      ],
      "metadata": {
        "colab": {
          "base_uri": "https://localhost:8080/"
        },
        "id": "SncAMW7KtaQT",
        "outputId": "386618d5-6430-4075-8fd8-95b0d1a2840a"
      },
      "execution_count": 251,
      "outputs": [
        {
          "output_type": "execute_result",
          "data": {
            "text/plain": [
              "True"
            ]
          },
          "metadata": {},
          "execution_count": 251
        }
      ]
    },
    {
      "cell_type": "markdown",
      "source": [
        "np.newaxis 대신에 None을 써도 된다.  \n",
        "None은 직관적이지 않고 헷갈려서 np.newaxis를 만들었다.  \n",
        "numpy를 만들 때 python의 모든 연산자를 다 사용해서 남은 연산자가 없었다. 그래서 None을 이용했다."
      ],
      "metadata": {
        "id": "WgbXa2UkthAS"
      }
    },
    {
      "cell_type": "code",
      "source": [
        "a = np.arange(12).reshape(3,4)\n",
        "a"
      ],
      "metadata": {
        "colab": {
          "base_uri": "https://localhost:8080/"
        },
        "id": "6K5kwPv1tcyN",
        "outputId": "b5562ac5-8a46-4c68-e471-6860b7a75d08"
      },
      "execution_count": 252,
      "outputs": [
        {
          "output_type": "execute_result",
          "data": {
            "text/plain": [
              "array([[ 0,  1,  2,  3],\n",
              "       [ 4,  5,  6,  7],\n",
              "       [ 8,  9, 10, 11]])"
            ]
          },
          "metadata": {},
          "execution_count": 252
        }
      ]
    },
    {
      "cell_type": "markdown",
      "source": [
        "expand_dims"
      ],
      "metadata": {
        "id": "5DX27UMLuFPY"
      }
    },
    {
      "cell_type": "code",
      "source": [
        "np.expand_dims(a,0)  #a[np.newaxis:,:] 와 같다 / 공간1이 생김(깊이)"
      ],
      "metadata": {
        "colab": {
          "base_uri": "https://localhost:8080/"
        },
        "id": "kuqXN-zRt0Oe",
        "outputId": "246f3f63-5760-4a53-e6de-b69633b71c7a"
      },
      "execution_count": 253,
      "outputs": [
        {
          "output_type": "execute_result",
          "data": {
            "text/plain": [
              "array([[[ 0,  1,  2,  3],\n",
              "        [ 4,  5,  6,  7],\n",
              "        [ 8,  9, 10, 11]]])"
            ]
          },
          "metadata": {},
          "execution_count": 253
        }
      ]
    },
    {
      "cell_type": "code",
      "source": [
        "np.expand_dims(a,1)  #a[:,np.newaxis,:] 와 같다 / 공간3,1행4열"
      ],
      "metadata": {
        "colab": {
          "base_uri": "https://localhost:8080/"
        },
        "id": "Z6X5I9HuuK-n",
        "outputId": "5028c63c-a41e-4504-c63f-dc67be28783f"
      },
      "execution_count": 254,
      "outputs": [
        {
          "output_type": "execute_result",
          "data": {
            "text/plain": [
              "array([[[ 0,  1,  2,  3]],\n",
              "\n",
              "       [[ 4,  5,  6,  7]],\n",
              "\n",
              "       [[ 8,  9, 10, 11]]])"
            ]
          },
          "metadata": {},
          "execution_count": 254
        }
      ]
    },
    {
      "cell_type": "code",
      "source": [
        "np.expand_dims(a,2)  #a[:,:,np.newaxis]와 같다 /공간3 4행 1열"
      ],
      "metadata": {
        "colab": {
          "base_uri": "https://localhost:8080/"
        },
        "id": "NE8f5bttunlq",
        "outputId": "966b95f0-bf45-45e0-c75d-aac0b057d792"
      },
      "execution_count": 255,
      "outputs": [
        {
          "output_type": "execute_result",
          "data": {
            "text/plain": [
              "array([[[ 0],\n",
              "        [ 1],\n",
              "        [ 2],\n",
              "        [ 3]],\n",
              "\n",
              "       [[ 4],\n",
              "        [ 5],\n",
              "        [ 6],\n",
              "        [ 7]],\n",
              "\n",
              "       [[ 8],\n",
              "        [ 9],\n",
              "        [10],\n",
              "        [11]]])"
            ]
          },
          "metadata": {},
          "execution_count": 255
        }
      ]
    },
    {
      "cell_type": "markdown",
      "source": [
        "### array 한 줄로 펴기"
      ],
      "metadata": {
        "id": "QWsSAMCcvI5H"
      }
    },
    {
      "cell_type": "markdown",
      "source": [
        "flatten"
      ],
      "metadata": {
        "id": "0HWTWl_TvOvo"
      }
    },
    {
      "cell_type": "code",
      "source": [
        "a = np.arange(12).reshape(3,4)\n",
        "a"
      ],
      "metadata": {
        "colab": {
          "base_uri": "https://localhost:8080/"
        },
        "id": "_r3NlOVqu4O7",
        "outputId": "8a25a52c-1c93-4630-de61-a00f805b3afe"
      },
      "execution_count": 256,
      "outputs": [
        {
          "output_type": "execute_result",
          "data": {
            "text/plain": [
              "array([[ 0,  1,  2,  3],\n",
              "       [ 4,  5,  6,  7],\n",
              "       [ 8,  9, 10, 11]])"
            ]
          },
          "metadata": {},
          "execution_count": 256
        }
      ]
    },
    {
      "cell_type": "code",
      "source": [
        "# flatten()은 결과를 return하고 메모리의 값은 변경되지 않는다.(원래값은 변경하지 않는다)\n",
        "b = a.flatten()\n",
        "b"
      ],
      "metadata": {
        "colab": {
          "base_uri": "https://localhost:8080/"
        },
        "id": "6WT59HU4vU6l",
        "outputId": "b5dffc01-c5d1-4707-ac96-2ac919962427"
      },
      "execution_count": 257,
      "outputs": [
        {
          "output_type": "execute_result",
          "data": {
            "text/plain": [
              "array([ 0,  1,  2,  3,  4,  5,  6,  7,  8,  9, 10, 11])"
            ]
          },
          "metadata": {},
          "execution_count": 257
        }
      ]
    },
    {
      "cell_type": "code",
      "source": [
        "a"
      ],
      "metadata": {
        "colab": {
          "base_uri": "https://localhost:8080/"
        },
        "id": "4bPoLudUvke0",
        "outputId": "32637f2a-df69-46ef-f774-9079ecf3dbea"
      },
      "execution_count": 259,
      "outputs": [
        {
          "output_type": "execute_result",
          "data": {
            "text/plain": [
              "array([[ 0,  1,  2,  3],\n",
              "       [ 4,  5,  6,  7],\n",
              "       [ 8,  9, 10, 11]])"
            ]
          },
          "metadata": {},
          "execution_count": 259
        }
      ]
    },
    {
      "cell_type": "markdown",
      "source": [
        "swapaxes"
      ],
      "metadata": {
        "id": "4LdwV-DSv4Td"
      }
    },
    {
      "cell_type": "code",
      "source": [
        "a = np.array([[1],[2]]) #2차원 2행 1열 배열 생성\n",
        "a"
      ],
      "metadata": {
        "colab": {
          "base_uri": "https://localhost:8080/"
        },
        "id": "EIK_vTf5vlwB",
        "outputId": "cf2e7052-424c-47e3-dfea-2e4bf67d3d59"
      },
      "execution_count": 261,
      "outputs": [
        {
          "output_type": "execute_result",
          "data": {
            "text/plain": [
              "array([[1],\n",
              "       [2]])"
            ]
          },
          "metadata": {},
          "execution_count": 261
        }
      ]
    },
    {
      "cell_type": "code",
      "source": [
        "a.shape"
      ],
      "metadata": {
        "colab": {
          "base_uri": "https://localhost:8080/"
        },
        "id": "MMaXwc1JwCEB",
        "outputId": "ad252865-eca5-4655-e337-6ad50be18cd6"
      },
      "execution_count": 262,
      "outputs": [
        {
          "output_type": "execute_result",
          "data": {
            "text/plain": [
              "(2, 1)"
            ]
          },
          "metadata": {},
          "execution_count": 262
        }
      ]
    },
    {
      "cell_type": "code",
      "source": [
        "# a의 0번 차원과 1번 차원을 서로 교환한다.\n",
        "b = np.swapaxes(a,1,0)\n",
        "b"
      ],
      "metadata": {
        "colab": {
          "base_uri": "https://localhost:8080/"
        },
        "id": "8lBX3RsXwRKi",
        "outputId": "457f9836-b4ee-41ad-9e93-d15f82740503"
      },
      "execution_count": 263,
      "outputs": [
        {
          "output_type": "execute_result",
          "data": {
            "text/plain": [
              "array([[1, 2]])"
            ]
          },
          "metadata": {},
          "execution_count": 263
        }
      ]
    },
    {
      "cell_type": "code",
      "source": [
        "a.T"
      ],
      "metadata": {
        "colab": {
          "base_uri": "https://localhost:8080/"
        },
        "id": "f62q3JT1wYy5",
        "outputId": "b66ba6ff-47e1-491b-ad7d-b48747356308"
      },
      "execution_count": 264,
      "outputs": [
        {
          "output_type": "execute_result",
          "data": {
            "text/plain": [
              "array([[1, 2]])"
            ]
          },
          "metadata": {},
          "execution_count": 264
        }
      ]
    },
    {
      "cell_type": "code",
      "source": [],
      "metadata": {
        "id": "lquCofJywlH_"
      },
      "execution_count": null,
      "outputs": []
    }
  ]
}