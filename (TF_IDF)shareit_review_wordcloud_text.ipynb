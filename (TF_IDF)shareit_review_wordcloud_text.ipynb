{
  "nbformat": 4,
  "nbformat_minor": 0,
  "metadata": {
    "colab": {
      "provenance": [],
      "authorship_tag": "ABX9TyN2/TCovW58XX8DqJS81Ij4",
      "include_colab_link": true
    },
    "kernelspec": {
      "name": "python3",
      "display_name": "Python 3"
    },
    "language_info": {
      "name": "python"
    }
  },
  "cells": [
    {
      "cell_type": "markdown",
      "metadata": {
        "id": "view-in-github",
        "colab_type": "text"
      },
      "source": [
        "<a href=\"https://colab.research.google.com/github/min-hee-Lee/python_workdemo/blob/master/(TF_IDF)shareit_review_wordcloud_text.ipynb\" target=\"_parent\"><img src=\"https://colab.research.google.com/assets/colab-badge.svg\" alt=\"Open In Colab\"/></a>"
      ]
    },
    {
      "cell_type": "markdown",
      "source": [
        "### 워드클라우드와 텍스트마이닝"
      ],
      "metadata": {
        "id": "Pr9v_EIZDCHk"
      }
    },
    {
      "cell_type": "code",
      "execution_count": null,
      "metadata": {
        "colab": {
          "base_uri": "https://localhost:8080/"
        },
        "id": "h8roqoIHC6nV",
        "outputId": "5a8ef78e-6ade-4345-ed16-c195f6cb0df4"
      },
      "outputs": [
        {
          "output_type": "stream",
          "name": "stdout",
          "text": [
            "Reading package lists... Done\n",
            "Building dependency tree       \n",
            "Reading state information... Done\n",
            "fonts-nanum is already the newest version (20180306-3).\n",
            "0 upgraded, 0 newly installed, 0 to remove and 24 not upgraded.\n",
            "/usr/share/fonts: caching, new cache contents: 0 fonts, 1 dirs\n",
            "/usr/share/fonts/truetype: caching, new cache contents: 0 fonts, 3 dirs\n",
            "/usr/share/fonts/truetype/humor-sans: caching, new cache contents: 1 fonts, 0 dirs\n",
            "/usr/share/fonts/truetype/liberation: caching, new cache contents: 16 fonts, 0 dirs\n",
            "/usr/share/fonts/truetype/nanum: caching, new cache contents: 10 fonts, 0 dirs\n",
            "/usr/local/share/fonts: caching, new cache contents: 0 fonts, 0 dirs\n",
            "/root/.local/share/fonts: skipping, no such directory\n",
            "/root/.fonts: skipping, no such directory\n",
            "/usr/share/fonts/truetype: skipping, looped directory detected\n",
            "/usr/share/fonts/truetype/humor-sans: skipping, looped directory detected\n",
            "/usr/share/fonts/truetype/liberation: skipping, looped directory detected\n",
            "/usr/share/fonts/truetype/nanum: skipping, looped directory detected\n",
            "/var/cache/fontconfig: cleaning cache directory\n",
            "/root/.cache/fontconfig: not cleaning non-existent cache directory\n",
            "/root/.fontconfig: not cleaning non-existent cache directory\n",
            "fc-cache: succeeded\n"
          ]
        }
      ],
      "source": [
        "#구글 코랩 한글\n",
        "!sudo apt-get install -y fonts-nanum\n",
        "!sudo fc-cache -fv\n",
        "!rm ~/.cache/matplotlib -rf"
      ]
    },
    {
      "cell_type": "code",
      "source": [
        "#드라이브연결\n",
        "from google.colab import drive\n",
        "drive.mount('/content/drive')\n",
        "\n",
        "%cd /content/drive/MyDrive/python/data"
      ],
      "metadata": {
        "colab": {
          "base_uri": "https://localhost:8080/"
        },
        "id": "ofUZVctTDauz",
        "outputId": "15b32b45-a3a2-423b-ffd1-8943cccababb"
      },
      "execution_count": null,
      "outputs": [
        {
          "output_type": "stream",
          "name": "stdout",
          "text": [
            "Drive already mounted at /content/drive; to attempt to forcibly remount, call drive.mount(\"/content/drive\", force_remount=True).\n",
            "/content/drive/MyDrive/python/data\n"
          ]
        }
      ]
    },
    {
      "cell_type": "markdown",
      "source": [
        "Jpype설치\n",
        "- python에서 java라이브러리를 이용할 수 있도록 설치한다."
      ],
      "metadata": {
        "id": "eaP7gfVtDqkp"
      }
    },
    {
      "cell_type": "code",
      "source": [
        "#http://www.lfd.uci.edu/~gohlke/pythonlibs/#jpype\n",
        "#아래 부분 실행하면 설치됨\n",
        "!pip install -U \"jpype1<1.1\""
      ],
      "metadata": {
        "colab": {
          "base_uri": "https://localhost:8080/"
        },
        "id": "mszP8lhhDb0b",
        "outputId": "3f0e834f-ebc7-44b0-e1b2-aec97b0a7eaa"
      },
      "execution_count": null,
      "outputs": [
        {
          "output_type": "stream",
          "name": "stdout",
          "text": [
            "Looking in indexes: https://pypi.org/simple, https://us-python.pkg.dev/colab-wheels/public/simple/\n",
            "Requirement already satisfied: jpype1<1.1 in /usr/local/lib/python3.9/dist-packages (1.0.2)\n"
          ]
        }
      ]
    },
    {
      "cell_type": "code",
      "source": [
        "# 한글을 사용하기 위해 세종사전을 이용\n",
        "!pip install konlpy\n",
        "!pip install wordcloud"
      ],
      "metadata": {
        "colab": {
          "base_uri": "https://localhost:8080/"
        },
        "id": "QNX_V54eD2A2",
        "outputId": "791baa9c-5c91-423a-ca07-a2320763812c"
      },
      "execution_count": null,
      "outputs": [
        {
          "output_type": "stream",
          "name": "stdout",
          "text": [
            "Looking in indexes: https://pypi.org/simple, https://us-python.pkg.dev/colab-wheels/public/simple/\n",
            "Requirement already satisfied: konlpy in /usr/local/lib/python3.9/dist-packages (0.6.0)\n",
            "Requirement already satisfied: lxml>=4.1.0 in /usr/local/lib/python3.9/dist-packages (from konlpy) (4.9.2)\n",
            "Requirement already satisfied: JPype1>=0.7.0 in /usr/local/lib/python3.9/dist-packages (from konlpy) (1.0.2)\n",
            "Requirement already satisfied: numpy>=1.6 in /usr/local/lib/python3.9/dist-packages (from konlpy) (1.22.4)\n",
            "Looking in indexes: https://pypi.org/simple, https://us-python.pkg.dev/colab-wheels/public/simple/\n",
            "Requirement already satisfied: wordcloud in /usr/local/lib/python3.9/dist-packages (1.8.2.2)\n",
            "Requirement already satisfied: matplotlib in /usr/local/lib/python3.9/dist-packages (from wordcloud) (3.7.1)\n",
            "Requirement already satisfied: pillow in /usr/local/lib/python3.9/dist-packages (from wordcloud) (8.4.0)\n",
            "Requirement already satisfied: numpy>=1.6.1 in /usr/local/lib/python3.9/dist-packages (from wordcloud) (1.22.4)\n",
            "Requirement already satisfied: contourpy>=1.0.1 in /usr/local/lib/python3.9/dist-packages (from matplotlib->wordcloud) (1.0.7)\n",
            "Requirement already satisfied: pyparsing>=2.3.1 in /usr/local/lib/python3.9/dist-packages (from matplotlib->wordcloud) (3.0.9)\n",
            "Requirement already satisfied: kiwisolver>=1.0.1 in /usr/local/lib/python3.9/dist-packages (from matplotlib->wordcloud) (1.4.4)\n",
            "Requirement already satisfied: importlib-resources>=3.2.0 in /usr/local/lib/python3.9/dist-packages (from matplotlib->wordcloud) (5.12.0)\n",
            "Requirement already satisfied: cycler>=0.10 in /usr/local/lib/python3.9/dist-packages (from matplotlib->wordcloud) (0.11.0)\n",
            "Requirement already satisfied: fonttools>=4.22.0 in /usr/local/lib/python3.9/dist-packages (from matplotlib->wordcloud) (4.39.3)\n",
            "Requirement already satisfied: python-dateutil>=2.7 in /usr/local/lib/python3.9/dist-packages (from matplotlib->wordcloud) (2.8.2)\n",
            "Requirement already satisfied: packaging>=20.0 in /usr/local/lib/python3.9/dist-packages (from matplotlib->wordcloud) (23.0)\n",
            "Requirement already satisfied: zipp>=3.1.0 in /usr/local/lib/python3.9/dist-packages (from importlib-resources>=3.2.0->matplotlib->wordcloud) (3.15.0)\n",
            "Requirement already satisfied: six>=1.5 in /usr/local/lib/python3.9/dist-packages (from python-dateutil>=2.7->matplotlib->wordcloud) (1.16.0)\n"
          ]
        }
      ]
    },
    {
      "cell_type": "markdown",
      "source": [
        "### KoNLPY(코엔엘파이)\n",
        "- KoNLPY에서는 대한민국 헌법 말뭉치인 kolaw와 국회법안 말뭉치인 kobill을 제공한다"
      ],
      "metadata": {
        "id": "NYAnMZ4uHdP5"
      }
    },
    {
      "cell_type": "markdown",
      "source": [
        "import"
      ],
      "metadata": {
        "id": "7YqnLfN7Hrcn"
      }
    },
    {
      "cell_type": "code",
      "source": [
        "## 기본\n",
        "import numpy as np \n",
        "import pandas as pd \n",
        "import matplotlib.pyplot as plt \n",
        "\n",
        "#데이터 전처리\n",
        "from konlpy.tag import Okt\n",
        "from collections import Counter\n",
        "from wordcloud import WordCloud\n",
        "from sklearn.model_selection import train_test_split\n",
        "from sklearn.feature_extraction.text import CountVectorizer\n",
        "from sklearn import preprocessing\n",
        "from sklearn.naive_bayes import MultinomialNB\n",
        "from sklearn.metrics import accuracy_score, classification_report\n",
        "from sklearn.metrics.pairwise import cosine_similarity\n",
        "from konlpy.tag import Mecab\n",
        "from sklearn.feature_extraction.text import TfidfTransformer\n",
        "from sklearn.feature_extraction.text import CountVectorizer\n",
        "from sklearn.feature_extraction.text import TfidfVectorizer\n"
      ],
      "metadata": {
        "id": "9IwSdaQagMqk"
      },
      "execution_count": null,
      "outputs": []
    },
    {
      "cell_type": "code",
      "source": [
        "# 현재 코랩에 설치돼 있는 것 확인\n",
        "#!pip list"
      ],
      "metadata": {
        "id": "bVMdyqrNFC4D"
      },
      "execution_count": null,
      "outputs": []
    },
    {
      "cell_type": "markdown",
      "source": [
        "### 데이터 가져오기"
      ],
      "metadata": {
        "id": "5edMifA6FGqK"
      }
    },
    {
      "cell_type": "code",
      "source": [
        "#utf-8 codec can's decode byte 0xb9 in position 0: invalid start byte\n",
        "df = pd.read_csv('./shareit_review_TF_IDF.csv', encoding='cp949')\n",
        "gyms = list(df['Gym'])\n",
        "review = list(df['Review'])\n",
        "df.head()\n"
      ],
      "metadata": {
        "colab": {
          "base_uri": "https://localhost:8080/",
          "height": 206
        },
        "id": "UCciuvFHFD4k",
        "outputId": "e879b4e0-70f9-4ae3-bcc4-bd722dadcedf"
      },
      "execution_count": null,
      "outputs": [
        {
          "output_type": "execute_result",
          "data": {
            "text/plain": [
              "  User_name Gender                    Gym  Grade  \\\n",
              "0       이**      M      명지전문대학 예체능관 실내체육관      5   \n",
              "1       김**      M     경기대학교(서울) 본관 실내체육관      5   \n",
              "2       이**      M        한성대학교 상상관 실내체육관      5   \n",
              "3       황**      F         N sports 실내체육관      4   \n",
              "4       박**      F  삼성썬더스 농구클럽 구리다산점 체육관A      5   \n",
              "\n",
              "                                              Review  \n",
              "0                       최저기온 영하15도에도 불구 따뜻하게 즐농했습니다.  \n",
              "1                 기록적 추위에도 따뜻하고 깨끗한 체육관에서 즐겁게 운동했습니다  \n",
              "2  개인적으로 사용한 체육관 시설 중 시설과 장비는 가장 좋았습니다. 다만 정말 상당히...  \n",
              "3  체육관 정보에는 28 x 15 라고 나와있는데 막상 코트에서 뛰어보니 28 x 15...  \n",
              "4                                            아주만족했어요  "
            ],
            "text/html": [
              "\n",
              "  <div id=\"df-dadd5fe6-85d5-434b-bdb7-cba1557b00c8\">\n",
              "    <div class=\"colab-df-container\">\n",
              "      <div>\n",
              "<style scoped>\n",
              "    .dataframe tbody tr th:only-of-type {\n",
              "        vertical-align: middle;\n",
              "    }\n",
              "\n",
              "    .dataframe tbody tr th {\n",
              "        vertical-align: top;\n",
              "    }\n",
              "\n",
              "    .dataframe thead th {\n",
              "        text-align: right;\n",
              "    }\n",
              "</style>\n",
              "<table border=\"1\" class=\"dataframe\">\n",
              "  <thead>\n",
              "    <tr style=\"text-align: right;\">\n",
              "      <th></th>\n",
              "      <th>User_name</th>\n",
              "      <th>Gender</th>\n",
              "      <th>Gym</th>\n",
              "      <th>Grade</th>\n",
              "      <th>Review</th>\n",
              "    </tr>\n",
              "  </thead>\n",
              "  <tbody>\n",
              "    <tr>\n",
              "      <th>0</th>\n",
              "      <td>이**</td>\n",
              "      <td>M</td>\n",
              "      <td>명지전문대학 예체능관 실내체육관</td>\n",
              "      <td>5</td>\n",
              "      <td>최저기온 영하15도에도 불구 따뜻하게 즐농했습니다.</td>\n",
              "    </tr>\n",
              "    <tr>\n",
              "      <th>1</th>\n",
              "      <td>김**</td>\n",
              "      <td>M</td>\n",
              "      <td>경기대학교(서울) 본관 실내체육관</td>\n",
              "      <td>5</td>\n",
              "      <td>기록적 추위에도 따뜻하고 깨끗한 체육관에서 즐겁게 운동했습니다</td>\n",
              "    </tr>\n",
              "    <tr>\n",
              "      <th>2</th>\n",
              "      <td>이**</td>\n",
              "      <td>M</td>\n",
              "      <td>한성대학교 상상관 실내체육관</td>\n",
              "      <td>5</td>\n",
              "      <td>개인적으로 사용한 체육관 시설 중 시설과 장비는 가장 좋았습니다. 다만 정말 상당히...</td>\n",
              "    </tr>\n",
              "    <tr>\n",
              "      <th>3</th>\n",
              "      <td>황**</td>\n",
              "      <td>F</td>\n",
              "      <td>N sports 실내체육관</td>\n",
              "      <td>4</td>\n",
              "      <td>체육관 정보에는 28 x 15 라고 나와있는데 막상 코트에서 뛰어보니 28 x 15...</td>\n",
              "    </tr>\n",
              "    <tr>\n",
              "      <th>4</th>\n",
              "      <td>박**</td>\n",
              "      <td>F</td>\n",
              "      <td>삼성썬더스 농구클럽 구리다산점 체육관A</td>\n",
              "      <td>5</td>\n",
              "      <td>아주만족했어요</td>\n",
              "    </tr>\n",
              "  </tbody>\n",
              "</table>\n",
              "</div>\n",
              "      <button class=\"colab-df-convert\" onclick=\"convertToInteractive('df-dadd5fe6-85d5-434b-bdb7-cba1557b00c8')\"\n",
              "              title=\"Convert this dataframe to an interactive table.\"\n",
              "              style=\"display:none;\">\n",
              "        \n",
              "  <svg xmlns=\"http://www.w3.org/2000/svg\" height=\"24px\"viewBox=\"0 0 24 24\"\n",
              "       width=\"24px\">\n",
              "    <path d=\"M0 0h24v24H0V0z\" fill=\"none\"/>\n",
              "    <path d=\"M18.56 5.44l.94 2.06.94-2.06 2.06-.94-2.06-.94-.94-2.06-.94 2.06-2.06.94zm-11 1L8.5 8.5l.94-2.06 2.06-.94-2.06-.94L8.5 2.5l-.94 2.06-2.06.94zm10 10l.94 2.06.94-2.06 2.06-.94-2.06-.94-.94-2.06-.94 2.06-2.06.94z\"/><path d=\"M17.41 7.96l-1.37-1.37c-.4-.4-.92-.59-1.43-.59-.52 0-1.04.2-1.43.59L10.3 9.45l-7.72 7.72c-.78.78-.78 2.05 0 2.83L4 21.41c.39.39.9.59 1.41.59.51 0 1.02-.2 1.41-.59l7.78-7.78 2.81-2.81c.8-.78.8-2.07 0-2.86zM5.41 20L4 18.59l7.72-7.72 1.47 1.35L5.41 20z\"/>\n",
              "  </svg>\n",
              "      </button>\n",
              "      \n",
              "  <style>\n",
              "    .colab-df-container {\n",
              "      display:flex;\n",
              "      flex-wrap:wrap;\n",
              "      gap: 12px;\n",
              "    }\n",
              "\n",
              "    .colab-df-convert {\n",
              "      background-color: #E8F0FE;\n",
              "      border: none;\n",
              "      border-radius: 50%;\n",
              "      cursor: pointer;\n",
              "      display: none;\n",
              "      fill: #1967D2;\n",
              "      height: 32px;\n",
              "      padding: 0 0 0 0;\n",
              "      width: 32px;\n",
              "    }\n",
              "\n",
              "    .colab-df-convert:hover {\n",
              "      background-color: #E2EBFA;\n",
              "      box-shadow: 0px 1px 2px rgba(60, 64, 67, 0.3), 0px 1px 3px 1px rgba(60, 64, 67, 0.15);\n",
              "      fill: #174EA6;\n",
              "    }\n",
              "\n",
              "    [theme=dark] .colab-df-convert {\n",
              "      background-color: #3B4455;\n",
              "      fill: #D2E3FC;\n",
              "    }\n",
              "\n",
              "    [theme=dark] .colab-df-convert:hover {\n",
              "      background-color: #434B5C;\n",
              "      box-shadow: 0px 1px 3px 1px rgba(0, 0, 0, 0.15);\n",
              "      filter: drop-shadow(0px 1px 2px rgba(0, 0, 0, 0.3));\n",
              "      fill: #FFFFFF;\n",
              "    }\n",
              "  </style>\n",
              "\n",
              "      <script>\n",
              "        const buttonEl =\n",
              "          document.querySelector('#df-dadd5fe6-85d5-434b-bdb7-cba1557b00c8 button.colab-df-convert');\n",
              "        buttonEl.style.display =\n",
              "          google.colab.kernel.accessAllowed ? 'block' : 'none';\n",
              "\n",
              "        async function convertToInteractive(key) {\n",
              "          const element = document.querySelector('#df-dadd5fe6-85d5-434b-bdb7-cba1557b00c8');\n",
              "          const dataTable =\n",
              "            await google.colab.kernel.invokeFunction('convertToInteractive',\n",
              "                                                     [key], {});\n",
              "          if (!dataTable) return;\n",
              "\n",
              "          const docLinkHtml = 'Like what you see? Visit the ' +\n",
              "            '<a target=\"_blank\" href=https://colab.research.google.com/notebooks/data_table.ipynb>data table notebook</a>'\n",
              "            + ' to learn more about interactive tables.';\n",
              "          element.innerHTML = '';\n",
              "          dataTable['output_type'] = 'display_data';\n",
              "          await google.colab.output.renderOutput(dataTable, element);\n",
              "          const docLink = document.createElement('div');\n",
              "          docLink.innerHTML = docLinkHtml;\n",
              "          element.appendChild(docLink);\n",
              "        }\n",
              "      </script>\n",
              "    </div>\n",
              "  </div>\n",
              "  "
            ]
          },
          "metadata": {},
          "execution_count": 7
        }
      ]
    },
    {
      "cell_type": "code",
      "source": [
        "df.shape"
      ],
      "metadata": {
        "colab": {
          "base_uri": "https://localhost:8080/"
        },
        "id": "S6rVThKPGoiD",
        "outputId": "5d907efd-3efc-49b6-c263-65361f46505f"
      },
      "execution_count": null,
      "outputs": [
        {
          "output_type": "execute_result",
          "data": {
            "text/plain": [
              "(392, 5)"
            ]
          },
          "metadata": {},
          "execution_count": 8
        }
      ]
    },
    {
      "cell_type": "code",
      "source": [
        "df.info()"
      ],
      "metadata": {
        "colab": {
          "base_uri": "https://localhost:8080/"
        },
        "id": "-ohA-6fRGqS0",
        "outputId": "46807874-a2b0-4133-9f39-7f368eb23b9c"
      },
      "execution_count": null,
      "outputs": [
        {
          "output_type": "stream",
          "name": "stdout",
          "text": [
            "<class 'pandas.core.frame.DataFrame'>\n",
            "RangeIndex: 392 entries, 0 to 391\n",
            "Data columns (total 5 columns):\n",
            " #   Column     Non-Null Count  Dtype \n",
            "---  ------     --------------  ----- \n",
            " 0   User_name  392 non-null    object\n",
            " 1   Gender     392 non-null    object\n",
            " 2   Gym        392 non-null    object\n",
            " 3   Grade      392 non-null    int64 \n",
            " 4   Review     392 non-null    object\n",
            "dtypes: int64(1), object(4)\n",
            "memory usage: 15.4+ KB\n"
          ]
        }
      ]
    },
    {
      "cell_type": "code",
      "source": [
        "# 각 체육관별 명사를 담은 딕셔너리 만들기\n",
        "\n",
        "noun_dict = {\n",
        "  '명지전문대학 예체능관 실내체육관':['바닥','주차','가격','난방','화장실','시설'],\n",
        "  '경기대학교(서울) 본관 실내체육관': ['바닥','주차','가격','난방','화장실','시설'],\n",
        "  '한성대학교 상상관 실내체육관': ['바닥','주차','가격','난방','화장실','시설'],\n",
        "  'N sports 실내체육관' :['바닥','주차','가격','난방','화장실','시설'],\n",
        "  '삼성썬더스 농구클럽 구리다산점 체육관A' : ['바닥','주차','가격','난방','화장실','시설']\n",
        "}\n",
        "\n",
        "print(noun_dict)"
      ],
      "metadata": {
        "id": "MfFQ14bEvgyT",
        "colab": {
          "base_uri": "https://localhost:8080/"
        },
        "outputId": "03c36e83-755d-4f00-c423-88bf0c85c7c4"
      },
      "execution_count": null,
      "outputs": [
        {
          "output_type": "stream",
          "name": "stdout",
          "text": [
            "{'명지전문대학 예체능관 실내체육관': ['바닥', '주차', '가격', '난방', '화장실', '시설'], '경기대학교(서울) 본관 실내체육관': ['바닥', '주차', '가격', '난방', '화장실', '시설'], '한성대학교 상상관 실내체육관': ['바닥', '주차', '가격', '난방', '화장실', '시설'], 'N sports 실내체육관': ['바닥', '주차', '가격', '난방', '화장실', '시설'], '삼성썬더스 농구클럽 구리다산점 체육관A': ['바닥', '주차', '가격', '난방', '화장실', '시설']}\n"
          ]
        }
      ]
    },
    {
      "cell_type": "code",
      "source": [
        "from konlpy.tag import Komoran\n",
        "from collections import defaultdict"
      ],
      "metadata": {
        "id": "ciU3VGhehotB"
      },
      "execution_count": null,
      "outputs": []
    },
    {
      "cell_type": "code",
      "source": [
        "# Komoran 객체 생성\n",
        "komoran = Komoran()\n",
        "\n",
        "# 호텔 별 명사 빈도수를 저장할 딕셔너리 생성\n",
        "gym_nouns_dict = {}\n",
        "\n",
        "for gym in gyms:\n",
        "  gym_nouns_dict[gym] = defaultdict(int)\n",
        "\n",
        "  \n",
        "# 댓글에서 명사 추출하여 빈도수 계산\n",
        "for i in range(len(review)):\n",
        "    nouns = komoran.nouns(review[i])\n",
        "    gym = gyms[i]\n",
        "    for noun in nouns:\n",
        "        if noun in noun_dict.get(gym, []):\n",
        "          gym_nouns_dict[gym][noun] += 1\n",
        "        \n",
        "\n",
        "# for gym in gyms:\n",
        "#     new_df = df.loc[df.Gym==gym,['Review']]\n",
        "#     reviewList = list(new_df['Review'])\n",
        "#     for i in range(len(reviewList)):\n",
        "#          nouns = komoran.nouns(reviewList[i])\n",
        "#          for noun in nouns:\n",
        "#               if noun in noun_dict.get(gym, []):\n",
        "#                 gym_nouns_dict[gym][noun] += 1\n",
        "\n",
        "\n",
        "\n",
        "#결과 출력\n",
        "for gym in gym_nouns_dict:\n",
        "    print(gym)\n",
        "    \n",
        "    #print(gym_nouns_dict[gym])\n",
        "    for k in gym_nouns_dict[gym]:\n",
        "       print(k)\n",
        "       print( gym_nouns_dict[gym][k])\n",
        "       break\n",
        "   \n",
        "\n",
        "   "
      ],
      "metadata": {
        "id": "Vo4PI0Fwvp9l",
        "colab": {
          "base_uri": "https://localhost:8080/"
        },
        "outputId": "58befe76-42c8-4178-9a28-b9ec6c41339e"
      },
      "execution_count": null,
      "outputs": [
        {
          "output_type": "stream",
          "name": "stdout",
          "text": [
            "명지전문대학 예체능관 실내체육관\n",
            "바닥\n",
            "7\n",
            "경기대학교(서울) 본관 실내체육관\n",
            "주차\n",
            "7\n",
            "한성대학교 상상관 실내체육관\n",
            "시설\n",
            "22\n",
            "N sports 실내체육관\n",
            "바닥\n",
            "12\n",
            "삼성썬더스 농구클럽 구리다산점 체육관A\n",
            "주차\n",
            "5\n"
          ]
        }
      ]
    },
    {
      "cell_type": "code",
      "source": [
        "gyms = list(df['Gym'])\n",
        "gyms"
      ],
      "metadata": {
        "colab": {
          "base_uri": "https://localhost:8080/"
        },
        "id": "XickOffF50cf",
        "outputId": "4d192791-e4f4-47f2-b71c-d444058d50c9"
      },
      "execution_count": null,
      "outputs": [
        {
          "output_type": "execute_result",
          "data": {
            "text/plain": [
              "['명지전문대학 예체능관 실내체육관',\n",
              " '경기대학교(서울) 본관 실내체육관',\n",
              " '한성대학교 상상관 실내체육관',\n",
              " 'N sports 실내체육관',\n",
              " '삼성썬더스 농구클럽 구리다산점 체육관A',\n",
              " '한성대학교 상상관 실내체육관',\n",
              " 'N sports 실내체육관',\n",
              " '명지전문대학 예체능관 실내체육관',\n",
              " '한성대학교 상상관 실내체육관',\n",
              " '경기대학교(서울) 본관 실내체육관',\n",
              " '삼성썬더스 농구클럽 구리다산점 체육관A',\n",
              " '경기대학교(서울) 본관 실내체육관',\n",
              " '삼성썬더스 농구클럽 구리다산점 체육관A',\n",
              " '한성대학교 상상관 실내체육관',\n",
              " '한성대학교 상상관 실내체육관',\n",
              " '삼성썬더스 농구클럽 구리다산점 체육관A',\n",
              " '명지전문대학 예체능관 실내체육관',\n",
              " 'N sports 실내체육관',\n",
              " '경기대학교(서울) 본관 실내체육관',\n",
              " '삼성썬더스 농구클럽 구리다산점 체육관A',\n",
              " '경기대학교(서울) 본관 실내체육관',\n",
              " 'N sports 실내체육관',\n",
              " '한성대학교 상상관 실내체육관',\n",
              " '삼성썬더스 농구클럽 구리다산점 체육관A',\n",
              " '명지전문대학 예체능관 실내체육관',\n",
              " '삼성썬더스 농구클럽 구리다산점 체육관A',\n",
              " '경기대학교(서울) 본관 실내체육관',\n",
              " '삼성썬더스 농구클럽 구리다산점 체육관A',\n",
              " '한성대학교 상상관 실내체육관',\n",
              " '경기대학교(서울) 본관 실내체육관',\n",
              " '삼성썬더스 농구클럽 구리다산점 체육관A',\n",
              " '한성대학교 상상관 실내체육관',\n",
              " '한성대학교 상상관 실내체육관',\n",
              " '경기대학교(서울) 본관 실내체육관',\n",
              " 'N sports 실내체육관',\n",
              " '명지전문대학 예체능관 실내체육관',\n",
              " '삼성썬더스 농구클럽 구리다산점 체육관A',\n",
              " '한성대학교 상상관 실내체육관',\n",
              " '경기대학교(서울) 본관 실내체육관',\n",
              " '삼성썬더스 농구클럽 구리다산점 체육관A',\n",
              " 'N sports 실내체육관',\n",
              " '경기대학교(서울) 본관 실내체육관',\n",
              " '삼성썬더스 농구클럽 구리다산점 체육관A',\n",
              " 'N sports 실내체육관',\n",
              " '경기대학교(서울) 본관 실내체육관',\n",
              " '한성대학교 상상관 실내체육관',\n",
              " '삼성썬더스 농구클럽 구리다산점 체육관A',\n",
              " '명지전문대학 예체능관 실내체육관',\n",
              " 'N sports 실내체육관',\n",
              " '삼성썬더스 농구클럽 구리다산점 체육관A',\n",
              " '경기대학교(서울) 본관 실내체육관',\n",
              " '한성대학교 상상관 실내체육관',\n",
              " '삼성썬더스 농구클럽 구리다산점 체육관A',\n",
              " '경기대학교(서울) 본관 실내체육관',\n",
              " 'N sports 실내체육관',\n",
              " '경기대학교(서울) 본관 실내체육관',\n",
              " '한성대학교 상상관 실내체육관',\n",
              " '삼성썬더스 농구클럽 구리다산점 체육관A',\n",
              " '경기대학교(서울) 본관 실내체육관',\n",
              " 'N sports 실내체육관',\n",
              " '삼성썬더스 농구클럽 구리다산점 체육관A',\n",
              " '명지전문대학 예체능관 실내체육관',\n",
              " '삼성썬더스 농구클럽 구리다산점 체육관A',\n",
              " '경기대학교(서울) 본관 실내체육관',\n",
              " '삼성썬더스 농구클럽 구리다산점 체육관A',\n",
              " '경기대학교(서울) 본관 실내체육관',\n",
              " 'N sports 실내체육관',\n",
              " '한성대학교 상상관 실내체육관',\n",
              " '경기대학교(서울) 본관 실내체육관',\n",
              " 'N sports 실내체육관',\n",
              " '명지전문대학 예체능관 실내체육관',\n",
              " '삼성썬더스 농구클럽 구리다산점 체육관A',\n",
              " '경기대학교(서울) 본관 실내체육관',\n",
              " 'N sports 실내체육관',\n",
              " '경기대학교(서울) 본관 실내체육관',\n",
              " '한성대학교 상상관 실내체육관',\n",
              " '경기대학교(서울) 본관 실내체육관',\n",
              " 'N sports 실내체육관',\n",
              " '삼성썬더스 농구클럽 구리다산점 체육관A',\n",
              " '명지전문대학 예체능관 실내체육관',\n",
              " '삼성썬더스 농구클럽 구리다산점 체육관A',\n",
              " '경기대학교(서울) 본관 실내체육관',\n",
              " '한성대학교 상상관 실내체육관',\n",
              " '한성대학교 상상관 실내체육관',\n",
              " '삼성썬더스 농구클럽 구리다산점 체육관A',\n",
              " 'N sports 실내체육관',\n",
              " 'N sports 실내체육관',\n",
              " '경기대학교(서울) 본관 실내체육관',\n",
              " '한성대학교 상상관 실내체육관',\n",
              " '명지전문대학 예체능관 실내체육관',\n",
              " '삼성썬더스 농구클럽 구리다산점 체육관A',\n",
              " '경기대학교(서울) 본관 실내체육관',\n",
              " 'N sports 실내체육관',\n",
              " 'N sports 실내체육관',\n",
              " '명지전문대학 예체능관 실내체육관',\n",
              " 'N sports 실내체육관',\n",
              " '한성대학교 상상관 실내체육관',\n",
              " '한성대학교 상상관 실내체육관',\n",
              " '명지전문대학 예체능관 실내체육관',\n",
              " 'N sports 실내체육관',\n",
              " '경기대학교(서울) 본관 실내체육관',\n",
              " '삼성썬더스 농구클럽 구리다산점 체육관A',\n",
              " 'N sports 실내체육관',\n",
              " '명지전문대학 예체능관 실내체육관',\n",
              " 'N sports 실내체육관',\n",
              " '경기대학교(서울) 본관 실내체육관',\n",
              " 'N sports 실내체육관',\n",
              " '명지전문대학 예체능관 실내체육관',\n",
              " '한성대학교 상상관 실내체육관',\n",
              " '삼성썬더스 농구클럽 구리다산점 체육관A',\n",
              " '경기대학교(서울) 본관 실내체육관',\n",
              " 'N sports 실내체육관',\n",
              " '명지전문대학 예체능관 실내체육관',\n",
              " '삼성썬더스 농구클럽 구리다산점 체육관A',\n",
              " '경기대학교(서울) 본관 실내체육관',\n",
              " 'N sports 실내체육관',\n",
              " '명지전문대학 예체능관 실내체육관',\n",
              " '한성대학교 상상관 실내체육관',\n",
              " '경기대학교(서울) 본관 실내체육관',\n",
              " 'N sports 실내체육관',\n",
              " '명지전문대학 예체능관 실내체육관',\n",
              " '삼성썬더스 농구클럽 구리다산점 체육관A',\n",
              " '한성대학교 상상관 실내체육관',\n",
              " '명지전문대학 예체능관 실내체육관',\n",
              " '경기대학교(서울) 본관 실내체육관',\n",
              " 'N sports 실내체육관',\n",
              " '명지전문대학 예체능관 실내체육관',\n",
              " '한성대학교 상상관 실내체육관',\n",
              " '경기대학교(서울) 본관 실내체육관',\n",
              " '명지전문대학 예체능관 실내체육관',\n",
              " '명지전문대학 예체능관 실내체육관',\n",
              " 'N sports 실내체육관',\n",
              " '한성대학교 상상관 실내체육관',\n",
              " '경기대학교(서울) 본관 실내체육관',\n",
              " '한성대학교 상상관 실내체육관',\n",
              " '명지전문대학 예체능관 실내체육관',\n",
              " 'N sports 실내체육관',\n",
              " '명지전문대학 예체능관 실내체육관',\n",
              " 'N sports 실내체육관',\n",
              " '경기대학교(서울) 본관 실내체육관',\n",
              " 'N sports 실내체육관',\n",
              " '명지전문대학 예체능관 실내체육관',\n",
              " '한성대학교 상상관 실내체육관',\n",
              " '명지전문대학 예체능관 실내체육관',\n",
              " 'N sports 실내체육관',\n",
              " '경기대학교(서울) 본관 실내체육관',\n",
              " '경기대학교(서울) 본관 실내체육관',\n",
              " '한성대학교 상상관 실내체육관',\n",
              " '명지전문대학 예체능관 실내체육관',\n",
              " '한성대학교 상상관 실내체육관',\n",
              " '경기대학교(서울) 본관 실내체육관',\n",
              " '명지전문대학 예체능관 실내체육관',\n",
              " 'N sports 실내체육관',\n",
              " '명지전문대학 예체능관 실내체육관',\n",
              " '경기대학교(서울) 본관 실내체육관',\n",
              " '삼성썬더스 농구클럽 구리다산점 체육관A',\n",
              " '명지전문대학 예체능관 실내체육관',\n",
              " '한성대학교 상상관 실내체육관',\n",
              " '명지전문대학 예체능관 실내체육관',\n",
              " '한성대학교 상상관 실내체육관',\n",
              " '경기대학교(서울) 본관 실내체육관',\n",
              " '경기대학교(서울) 본관 실내체육관',\n",
              " '명지전문대학 예체능관 실내체육관',\n",
              " '삼성썬더스 농구클럽 구리다산점 체육관A',\n",
              " '명지전문대학 예체능관 실내체육관',\n",
              " '삼성썬더스 농구클럽 구리다산점 체육관A',\n",
              " '경기대학교(서울) 본관 실내체육관',\n",
              " '경기대학교(서울) 본관 실내체육관',\n",
              " '삼성썬더스 농구클럽 구리다산점 체육관A',\n",
              " '한성대학교 상상관 실내체육관',\n",
              " '명지전문대학 예체능관 실내체육관',\n",
              " '명지전문대학 예체능관 실내체육관',\n",
              " '한성대학교 상상관 실내체육관',\n",
              " '경기대학교(서울) 본관 실내체육관',\n",
              " '한성대학교 상상관 실내체육관',\n",
              " '명지전문대학 예체능관 실내체육관',\n",
              " '명지전문대학 예체능관 실내체육관',\n",
              " '경기대학교(서울) 본관 실내체육관',\n",
              " '명지전문대학 예체능관 실내체육관',\n",
              " '경기대학교(서울) 본관 실내체육관',\n",
              " '명지전문대학 예체능관 실내체육관',\n",
              " 'N sports 실내체육관',\n",
              " '경기대학교(서울) 본관 실내체육관',\n",
              " 'N sports 실내체육관',\n",
              " '명지전문대학 예체능관 실내체육관',\n",
              " '경기대학교(서울) 본관 실내체육관',\n",
              " 'N sports 실내체육관',\n",
              " '경기대학교(서울) 본관 실내체육관',\n",
              " '한성대학교 상상관 실내체육관',\n",
              " '명지전문대학 예체능관 실내체육관',\n",
              " '명지전문대학 예체능관 실내체육관',\n",
              " '한성대학교 상상관 실내체육관',\n",
              " 'N sports 실내체육관',\n",
              " '경기대학교(서울) 본관 실내체육관',\n",
              " '명지전문대학 예체능관 실내체육관',\n",
              " '명지전문대학 예체능관 실내체육관',\n",
              " '경기대학교(서울) 본관 실내체육관',\n",
              " '명지전문대학 예체능관 실내체육관',\n",
              " '명지전문대학 예체능관 실내체육관',\n",
              " 'N sports 실내체육관',\n",
              " '명지전문대학 예체능관 실내체육관',\n",
              " '한성대학교 상상관 실내체육관',\n",
              " '경기대학교(서울) 본관 실내체육관',\n",
              " '한성대학교 상상관 실내체육관',\n",
              " '명지전문대학 예체능관 실내체육관',\n",
              " '경기대학교(서울) 본관 실내체육관',\n",
              " '경기대학교(서울) 본관 실내체육관',\n",
              " 'N sports 실내체육관',\n",
              " '명지전문대학 예체능관 실내체육관',\n",
              " '한성대학교 상상관 실내체육관',\n",
              " '명지전문대학 예체능관 실내체육관',\n",
              " '경기대학교(서울) 본관 실내체육관',\n",
              " '삼성썬더스 농구클럽 구리다산점 체육관A',\n",
              " '명지전문대학 예체능관 실내체육관',\n",
              " '경기대학교(서울) 본관 실내체육관',\n",
              " '한성대학교 상상관 실내체육관',\n",
              " '명지전문대학 예체능관 실내체육관',\n",
              " '경기대학교(서울) 본관 실내체육관',\n",
              " '명지전문대학 예체능관 실내체육관',\n",
              " '경기대학교(서울) 본관 실내체육관',\n",
              " '한성대학교 상상관 실내체육관',\n",
              " '명지전문대학 예체능관 실내체육관',\n",
              " '한성대학교 상상관 실내체육관',\n",
              " '경기대학교(서울) 본관 실내체육관',\n",
              " 'N sports 실내체육관',\n",
              " '명지전문대학 예체능관 실내체육관',\n",
              " '경기대학교(서울) 본관 실내체육관',\n",
              " '명지전문대학 예체능관 실내체육관',\n",
              " 'N sports 실내체육관',\n",
              " '명지전문대학 예체능관 실내체육관',\n",
              " 'N sports 실내체육관',\n",
              " '한성대학교 상상관 실내체육관',\n",
              " '명지전문대학 예체능관 실내체육관',\n",
              " 'N sports 실내체육관',\n",
              " '경기대학교(서울) 본관 실내체육관',\n",
              " '명지전문대학 예체능관 실내체육관',\n",
              " '경기대학교(서울) 본관 실내체육관',\n",
              " '한성대학교 상상관 실내체육관',\n",
              " '삼성썬더스 농구클럽 구리다산점 체육관A',\n",
              " '경기대학교(서울) 본관 실내체육관',\n",
              " '명지전문대학 예체능관 실내체육관',\n",
              " 'N sports 실내체육관',\n",
              " '명지전문대학 예체능관 실내체육관',\n",
              " '한성대학교 상상관 실내체육관',\n",
              " '명지전문대학 예체능관 실내체육관',\n",
              " '삼성썬더스 농구클럽 구리다산점 체육관A',\n",
              " '경기대학교(서울) 본관 실내체육관',\n",
              " 'N sports 실내체육관',\n",
              " '경기대학교(서울) 본관 실내체육관',\n",
              " '한성대학교 상상관 실내체육관',\n",
              " '명지전문대학 예체능관 실내체육관',\n",
              " '명지전문대학 예체능관 실내체육관',\n",
              " '한성대학교 상상관 실내체육관',\n",
              " '경기대학교(서울) 본관 실내체육관',\n",
              " '경기대학교(서울) 본관 실내체육관',\n",
              " 'N sports 실내체육관',\n",
              " '명지전문대학 예체능관 실내체육관',\n",
              " '한성대학교 상상관 실내체육관',\n",
              " '명지전문대학 예체능관 실내체육관',\n",
              " 'N sports 실내체육관',\n",
              " '명지전문대학 예체능관 실내체육관',\n",
              " '한성대학교 상상관 실내체육관',\n",
              " '경기대학교(서울) 본관 실내체육관',\n",
              " '삼성썬더스 농구클럽 구리다산점 체육관A',\n",
              " '명지전문대학 예체능관 실내체육관',\n",
              " 'N sports 실내체육관',\n",
              " '한성대학교 상상관 실내체육관',\n",
              " '명지전문대학 예체능관 실내체육관',\n",
              " '경기대학교(서울) 본관 실내체육관',\n",
              " '한성대학교 상상관 실내체육관',\n",
              " '명지전문대학 예체능관 실내체육관',\n",
              " 'N sports 실내체육관',\n",
              " '명지전문대학 예체능관 실내체육관',\n",
              " '삼성썬더스 농구클럽 구리다산점 체육관A',\n",
              " '경기대학교(서울) 본관 실내체육관',\n",
              " '경기대학교(서울) 본관 실내체육관',\n",
              " '한성대학교 상상관 실내체육관',\n",
              " 'N sports 실내체육관',\n",
              " '명지전문대학 예체능관 실내체육관',\n",
              " '삼성썬더스 농구클럽 구리다산점 체육관A',\n",
              " '경기대학교(서울) 본관 실내체육관',\n",
              " '한성대학교 상상관 실내체육관',\n",
              " '삼성썬더스 농구클럽 구리다산점 체육관A',\n",
              " '명지전문대학 예체능관 실내체육관',\n",
              " 'N sports 실내체육관',\n",
              " '한성대학교 상상관 실내체육관',\n",
              " '경기대학교(서울) 본관 실내체육관',\n",
              " 'N sports 실내체육관',\n",
              " '명지전문대학 예체능관 실내체육관',\n",
              " '한성대학교 상상관 실내체육관',\n",
              " '명지전문대학 예체능관 실내체육관',\n",
              " '삼성썬더스 농구클럽 구리다산점 체육관A',\n",
              " '한성대학교 상상관 실내체육관',\n",
              " '경기대학교(서울) 본관 실내체육관',\n",
              " '삼성썬더스 농구클럽 구리다산점 체육관A',\n",
              " '경기대학교(서울) 본관 실내체육관',\n",
              " '한성대학교 상상관 실내체육관',\n",
              " '명지전문대학 예체능관 실내체육관',\n",
              " '경기대학교(서울) 본관 실내체육관',\n",
              " 'N sports 실내체육관',\n",
              " '경기대학교(서울) 본관 실내체육관',\n",
              " '명지전문대학 예체능관 실내체육관',\n",
              " '한성대학교 상상관 실내체육관',\n",
              " '삼성썬더스 농구클럽 구리다산점 체육관A',\n",
              " '명지전문대학 예체능관 실내체육관',\n",
              " '경기대학교(서울) 본관 실내체육관',\n",
              " '한성대학교 상상관 실내체육관',\n",
              " 'N sports 실내체육관',\n",
              " '명지전문대학 예체능관 실내체육관',\n",
              " '경기대학교(서울) 본관 실내체육관',\n",
              " '한성대학교 상상관 실내체육관',\n",
              " '명지전문대학 예체능관 실내체육관',\n",
              " '명지전문대학 예체능관 실내체육관',\n",
              " '삼성썬더스 농구클럽 구리다산점 체육관A',\n",
              " '한성대학교 상상관 실내체육관',\n",
              " '경기대학교(서울) 본관 실내체육관',\n",
              " 'N sports 실내체육관',\n",
              " '명지전문대학 예체능관 실내체육관',\n",
              " '명지전문대학 예체능관 실내체육관',\n",
              " '경기대학교(서울) 본관 실내체육관',\n",
              " '삼성썬더스 농구클럽 구리다산점 체육관A',\n",
              " '명지전문대학 예체능관 실내체육관',\n",
              " 'N sports 실내체육관',\n",
              " '한성대학교 상상관 실내체육관',\n",
              " '경기대학교(서울) 본관 실내체육관',\n",
              " '명지전문대학 예체능관 실내체육관',\n",
              " '명지전문대학 예체능관 실내체육관',\n",
              " '삼성썬더스 농구클럽 구리다산점 체육관A',\n",
              " '한성대학교 상상관 실내체육관',\n",
              " '한성대학교 상상관 실내체육관',\n",
              " 'N sports 실내체육관',\n",
              " '삼성썬더스 농구클럽 구리다산점 체육관A',\n",
              " '명지전문대학 예체능관 실내체육관',\n",
              " '삼성썬더스 농구클럽 구리다산점 체육관A',\n",
              " '한성대학교 상상관 실내체육관',\n",
              " '한성대학교 상상관 실내체육관',\n",
              " '삼성썬더스 농구클럽 구리다산점 체육관A',\n",
              " '명지전문대학 예체능관 실내체육관',\n",
              " '삼성썬더스 농구클럽 구리다산점 체육관A',\n",
              " '한성대학교 상상관 실내체육관',\n",
              " '한성대학교 상상관 실내체육관',\n",
              " 'N sports 실내체육관',\n",
              " '명지전문대학 예체능관 실내체육관',\n",
              " 'N sports 실내체육관',\n",
              " '한성대학교 상상관 실내체육관',\n",
              " '한성대학교 상상관 실내체육관',\n",
              " 'N sports 실내체육관',\n",
              " '명지전문대학 예체능관 실내체육관',\n",
              " '명지전문대학 예체능관 실내체육관',\n",
              " '명지전문대학 예체능관 실내체육관',\n",
              " '명지전문대학 예체능관 실내체육관',\n",
              " '명지전문대학 예체능관 실내체육관',\n",
              " '명지전문대학 예체능관 실내체육관',\n",
              " '명지전문대학 예체능관 실내체육관',\n",
              " '명지전문대학 예체능관 실내체육관',\n",
              " '명지전문대학 예체능관 실내체육관',\n",
              " '명지전문대학 예체능관 실내체육관',\n",
              " '명지전문대학 예체능관 실내체육관',\n",
              " '경기대학교(서울) 본관 실내체육관',\n",
              " '경기대학교(서울) 본관 실내체육관',\n",
              " '경기대학교(서울) 본관 실내체육관',\n",
              " '경기대학교(서울) 본관 실내체육관',\n",
              " '경기대학교(서울) 본관 실내체육관',\n",
              " '경기대학교(서울) 본관 실내체육관',\n",
              " '경기대학교(서울) 본관 실내체육관',\n",
              " '경기대학교(서울) 본관 실내체육관',\n",
              " '경기대학교(서울) 본관 실내체육관',\n",
              " '경기대학교(서울) 본관 실내체육관',\n",
              " '경기대학교(서울) 본관 실내체육관',\n",
              " '경기대학교(서울) 본관 실내체육관',\n",
              " '경기대학교(서울) 본관 실내체육관',\n",
              " '경기대학교(서울) 본관 실내체육관',\n",
              " '경기대학교(서울) 본관 실내체육관',\n",
              " '한성대학교 상상관 실내체육관',\n",
              " '한성대학교 상상관 실내체육관',\n",
              " '한성대학교 상상관 실내체육관',\n",
              " '한성대학교 상상관 실내체육관',\n",
              " '한성대학교 상상관 실내체육관',\n",
              " '한성대학교 상상관 실내체육관',\n",
              " '한성대학교 상상관 실내체육관',\n",
              " '한성대학교 상상관 실내체육관',\n",
              " '한성대학교 상상관 실내체육관',\n",
              " '삼성썬더스 농구클럽 구리다산점 체육관A',\n",
              " '삼성썬더스 농구클럽 구리다산점 체육관A',\n",
              " '삼성썬더스 농구클럽 구리다산점 체육관A',\n",
              " '삼성썬더스 농구클럽 구리다산점 체육관A',\n",
              " '삼성썬더스 농구클럽 구리다산점 체육관A',\n",
              " '삼성썬더스 농구클럽 구리다산점 체육관A',\n",
              " '삼성썬더스 농구클럽 구리다산점 체육관A',\n",
              " '삼성썬더스 농구클럽 구리다산점 체육관A',\n",
              " '삼성썬더스 농구클럽 구리다산점 체육관A',\n",
              " '삼성썬더스 농구클럽 구리다산점 체육관A']"
            ]
          },
          "metadata": {},
          "execution_count": 13
        }
      ]
    },
    {
      "cell_type": "code",
      "source": [
        "data_list = list()\n",
        "gym_list=list()\n",
        "for gym in gym_nouns_dict:\n",
        "    print(gym)\n",
        "    gym_list.append(gym)\n",
        "    data_str=list()\n",
        "    #print(gym_nouns_dict[gym])\n",
        "    for k in gym_nouns_dict[gym]:\n",
        "       print(k)\n",
        "      \n",
        "       #print(gym_nouns_dict[gym][k])\n",
        "       \n",
        "       for  i in range(gym_nouns_dict[gym][k]):\n",
        "         \n",
        "          data_str.append( \"\".join(k))\n",
        "    data_list.append(data_str)\n",
        "print(data_list )\n"
      ],
      "metadata": {
        "colab": {
          "base_uri": "https://localhost:8080/"
        },
        "id": "-Xl3MCDB9bSr",
        "outputId": "649d1de5-5336-46ca-d57d-ee7793b8087a"
      },
      "execution_count": null,
      "outputs": [
        {
          "output_type": "stream",
          "name": "stdout",
          "text": [
            "명지전문대학 예체능관 실내체육관\n",
            "바닥\n",
            "가격\n",
            "주차\n",
            "난방\n",
            "시설\n",
            "화장실\n",
            "경기대학교(서울) 본관 실내체육관\n",
            "주차\n",
            "가격\n",
            "시설\n",
            "바닥\n",
            "난방\n",
            "화장실\n",
            "한성대학교 상상관 실내체육관\n",
            "시설\n",
            "바닥\n",
            "난방\n",
            "주차\n",
            "가격\n",
            "화장실\n",
            "N sports 실내체육관\n",
            "바닥\n",
            "주차\n",
            "가격\n",
            "시설\n",
            "화장실\n",
            "난방\n",
            "삼성썬더스 농구클럽 구리다산점 체육관A\n",
            "주차\n",
            "바닥\n",
            "난방\n",
            "시설\n",
            "화장실\n",
            "가격\n",
            "[['바닥', '바닥', '바닥', '바닥', '바닥', '바닥', '바닥', '가격', '가격', '가격', '가격', '가격', '주차', '주차', '주차', '주차', '주차', '주차', '주차', '주차', '주차', '주차', '주차', '주차', '주차', '주차', '주차', '주차', '난방', '난방', '시설', '시설', '시설', '시설', '시설', '시설', '시설', '시설', '시설', '시설', '시설', '시설', '시설', '시설', '시설', '화장실', '화장실', '화장실', '화장실'], ['주차', '주차', '주차', '주차', '주차', '주차', '주차', '가격', '가격', '가격', '가격', '가격', '가격', '가격', '가격', '가격', '가격', '가격', '가격', '가격', '가격', '가격', '가격', '가격', '가격', '가격', '가격', '가격', '가격', '시설', '시설', '시설', '시설', '시설', '시설', '시설', '시설', '시설', '시설', '시설', '시설', '시설', '시설', '시설', '시설', '시설', '시설', '시설', '바닥', '바닥', '바닥', '바닥', '바닥', '바닥', '바닥', '바닥', '바닥', '바닥', '바닥', '바닥', '바닥', '바닥', '바닥', '난방', '난방', '난방', '난방', '난방', '화장실', '화장실', '화장실'], ['시설', '시설', '시설', '시설', '시설', '시설', '시설', '시설', '시설', '시설', '시설', '시설', '시설', '시설', '시설', '시설', '시설', '시설', '시설', '시설', '시설', '시설', '바닥', '바닥', '바닥', '바닥', '바닥', '바닥', '바닥', '바닥', '바닥', '난방', '난방', '난방', '주차', '주차', '주차', '주차', '주차', '주차', '주차', '주차', '가격', '가격', '가격', '화장실', '화장실', '화장실', '화장실', '화장실', '화장실', '화장실', '화장실', '화장실', '화장실', '화장실', '화장실', '화장실'], ['바닥', '바닥', '바닥', '바닥', '바닥', '바닥', '바닥', '바닥', '바닥', '바닥', '바닥', '바닥', '주차', '주차', '주차', '주차', '가격', '시설', '시설', '시설', '시설', '시설', '시설', '시설', '시설', '시설', '시설', '화장실', '화장실', '난방', '난방', '난방'], ['주차', '주차', '주차', '주차', '주차', '바닥', '바닥', '바닥', '바닥', '바닥', '바닥', '바닥', '바닥', '바닥', '바닥', '바닥', '난방', '난방', '난방', '난방', '난방', '난방', '난방', '난방', '난방', '난방', '난방', '난방', '시설', '시설', '화장실', '가격']]\n"
          ]
        }
      ]
    },
    {
      "cell_type": "code",
      "source": [
        "documents = [\" \".join(gym) for gym in data_list ]\n",
        "documents"
      ],
      "metadata": {
        "colab": {
          "base_uri": "https://localhost:8080/"
        },
        "id": "SXZ8BnrKJIAk",
        "outputId": "0dc6cc06-11f1-4591-e200-1c8d39a685f3"
      },
      "execution_count": null,
      "outputs": [
        {
          "output_type": "execute_result",
          "data": {
            "text/plain": [
              "['바닥 바닥 바닥 바닥 바닥 바닥 바닥 가격 가격 가격 가격 가격 주차 주차 주차 주차 주차 주차 주차 주차 주차 주차 주차 주차 주차 주차 주차 주차 난방 난방 시설 시설 시설 시설 시설 시설 시설 시설 시설 시설 시설 시설 시설 시설 시설 화장실 화장실 화장실 화장실',\n",
              " '주차 주차 주차 주차 주차 주차 주차 가격 가격 가격 가격 가격 가격 가격 가격 가격 가격 가격 가격 가격 가격 가격 가격 가격 가격 가격 가격 가격 가격 시설 시설 시설 시설 시설 시설 시설 시설 시설 시설 시설 시설 시설 시설 시설 시설 시설 시설 시설 바닥 바닥 바닥 바닥 바닥 바닥 바닥 바닥 바닥 바닥 바닥 바닥 바닥 바닥 바닥 난방 난방 난방 난방 난방 화장실 화장실 화장실',\n",
              " '시설 시설 시설 시설 시설 시설 시설 시설 시설 시설 시설 시설 시설 시설 시설 시설 시설 시설 시설 시설 시설 시설 바닥 바닥 바닥 바닥 바닥 바닥 바닥 바닥 바닥 난방 난방 난방 주차 주차 주차 주차 주차 주차 주차 주차 가격 가격 가격 화장실 화장실 화장실 화장실 화장실 화장실 화장실 화장실 화장실 화장실 화장실 화장실 화장실',\n",
              " '바닥 바닥 바닥 바닥 바닥 바닥 바닥 바닥 바닥 바닥 바닥 바닥 주차 주차 주차 주차 가격 시설 시설 시설 시설 시설 시설 시설 시설 시설 시설 화장실 화장실 난방 난방 난방',\n",
              " '주차 주차 주차 주차 주차 바닥 바닥 바닥 바닥 바닥 바닥 바닥 바닥 바닥 바닥 바닥 난방 난방 난방 난방 난방 난방 난방 난방 난방 난방 난방 난방 시설 시설 화장실 가격']"
            ]
          },
          "metadata": {},
          "execution_count": 15
        }
      ]
    },
    {
      "cell_type": "code",
      "source": [
        "noun_dict"
      ],
      "metadata": {
        "colab": {
          "base_uri": "https://localhost:8080/"
        },
        "id": "ayUEiROs3Pqa",
        "outputId": "1f6f258f-502a-4d4b-9c1f-f914be438df4"
      },
      "execution_count": null,
      "outputs": [
        {
          "output_type": "execute_result",
          "data": {
            "text/plain": [
              "{'명지전문대학 예체능관 실내체육관': ['바닥', '주차', '가격', '난방', '화장실', '시설'],\n",
              " '경기대학교(서울) 본관 실내체육관': ['바닥', '주차', '가격', '난방', '화장실', '시설'],\n",
              " '한성대학교 상상관 실내체육관': ['바닥', '주차', '가격', '난방', '화장실', '시설'],\n",
              " 'N sports 실내체육관': ['바닥', '주차', '가격', '난방', '화장실', '시설'],\n",
              " '삼성썬더스 농구클럽 구리다산점 체육관A': ['바닥', '주차', '가격', '난방', '화장실', '시설']}"
            ]
          },
          "metadata": {},
          "execution_count": 16
        }
      ]
    },
    {
      "cell_type": "code",
      "source": [
        "# 단어 목록 생성\n",
        "word_list = ['주차', '바닥', '가격', '난방', '화장실', '시설']\n",
        "\n",
        "# Create an instance of TfidfVectorizer and fit it on the documents\n",
        "vectorizer = TfidfVectorizer(vocabulary=word_list)\n",
        "vectorizer.fit(documents)\n",
        "\n",
        "# Transform the documents into a document-term matrix\n",
        "tfidf_matrix = vectorizer.transform(documents)\n",
        "\n",
        "# Print the resulting document-term matrix with hotel names as row labels\n",
        "#print(pd.DataFrame(tfidf_matrix.toarray(), columns=word_list, index=gyms))\n",
        "print(pd.DataFrame(tfidf_matrix.toarray(), columns=word_list, index=gym_list))\n"
      ],
      "metadata": {
        "colab": {
          "base_uri": "https://localhost:8080/"
        },
        "id": "uTEQggoO28tj",
        "outputId": "3e0f6f83-c204-4076-b541-de82c78b7c67"
      },
      "execution_count": null,
      "outputs": [
        {
          "output_type": "stream",
          "name": "stdout",
          "text": [
            "                             주차        바닥        가격        난방       화장실  \\\n",
            "명지전문대학 예체능관 실내체육관      0.667246  0.291920  0.208514  0.083406  0.166812   \n",
            "경기대학교(서울) 본관 실내체육관     0.206150  0.441750  0.647900  0.147250  0.088350   \n",
            "한성대학교 상상관 실내체육관        0.280056  0.315063  0.105021  0.105021  0.455091   \n",
            "N sports 실내체육관         0.241649  0.724947  0.060412  0.181237  0.120824   \n",
            "삼성썬더스 농구클럽 구리다산점 체육관A  0.290619  0.639362  0.058124  0.697486  0.058124   \n",
            "\n",
            "                             시설  \n",
            "명지전문대학 예체능관 실내체육관      0.625543  \n",
            "경기대학교(서울) 본관 실내체육관     0.559550  \n",
            "한성대학교 상상관 실내체육관        0.770154  \n",
            "N sports 실내체육관         0.604122  \n",
            "삼성썬더스 농구클럽 구리다산점 체육관A  0.116248  \n"
          ]
        }
      ]
    },
    {
      "cell_type": "code",
      "source": [
        "# 체육관별 단어 빈도수 딕셔너리를 데이터프레임으로 변환\n",
        "df = pd.DataFrame.from_dict(gym_nouns_dict, orient='index')\n",
        "\n",
        "# 엑셀 파일로 저장\n",
        "df.to_excel('gym_word_counts.xlsx')"
      ],
      "metadata": {
        "id": "4rZfEk1L6ugh"
      },
      "execution_count": null,
      "outputs": []
    },
    {
      "cell_type": "code",
      "source": [
        "# 각 체육관과 명사의 상관관계 저장\n",
        "corr_dict = {}\n",
        "for gym in gym_nouns_dict.keys():\n",
        "    corr_dict[gym] = {}\n",
        "    for noun in gym_nouns_dict[gym].keys():\n",
        "        corr_dict[gym][noun] = {}\n",
        "        for other_gym in gym_nouns_dict.keys():\n",
        "            if other_gym != gym:\n",
        "                corr_dict[gym][noun][other_gym] = gym_nouns_dict[gym][noun] * gym_nouns_dict[other_gym][noun]"
      ],
      "metadata": {
        "id": "-S1ln2Z29c8A"
      },
      "execution_count": null,
      "outputs": []
    },
    {
      "cell_type": "code",
      "source": [
        "# 데이터프레임 생성\n",
        "df = pd.DataFrame.from_dict(gym_nouns_dict, orient='index')\n",
        "\n",
        "# 전치행렬 적용 (행과 열을 바꿈)\n",
        "df = df.T\n",
        "\n",
        "# 표준편차가 0인 열 제거\n",
        "df = df.loc[:, (df != 0).any(axis=0)]\n",
        "\n",
        "# 상관계수 계산\n",
        "corr_matrix = df.corr()\n",
        "\n",
        "# 결과 출력\n",
        "print(corr_matrix)"
      ],
      "metadata": {
        "colab": {
          "base_uri": "https://localhost:8080/"
        },
        "id": "x-a8sDQs9600",
        "outputId": "45bdc67b-4880-463f-e532-46dea91a983b"
      },
      "execution_count": null,
      "outputs": [
        {
          "output_type": "stream",
          "name": "stdout",
          "text": [
            "                       명지전문대학 예체능관 실내체육관  경기대학교(서울) 본관 실내체육관  한성대학교 상상관 실내체육관  \\\n",
            "명지전문대학 예체능관 실내체육관               1.000000            0.231613         0.569535   \n",
            "경기대학교(서울) 본관 실내체육관              0.231613            1.000000         0.150966   \n",
            "한성대학교 상상관 실내체육관                 0.569535            0.150966         1.000000   \n",
            "N sports 실내체육관                  0.414155            0.346692         0.545866   \n",
            "삼성썬더스 농구클럽 구리다산점 체육관A          -0.279225           -0.281129        -0.415524   \n",
            "\n",
            "                       N sports 실내체육관  삼성썬더스 농구클럽 구리다산점 체육관A  \n",
            "명지전문대학 예체능관 실내체육관            0.414155              -0.279225  \n",
            "경기대학교(서울) 본관 실내체육관           0.346692              -0.281129  \n",
            "한성대학교 상상관 실내체육관              0.545866              -0.415524  \n",
            "N sports 실내체육관               1.000000               0.354414  \n",
            "삼성썬더스 농구클럽 구리다산점 체육관A        0.354414               1.000000  \n"
          ]
        }
      ]
    },
    {
      "cell_type": "code",
      "source": [
        "# pivot 생성\n",
        "\n",
        "# gym_nouns_dict를 이용해서 데이터프레임 생성\n",
        "df = pd.DataFrame.from_dict(gym_nouns_dict, orient='index')\n",
        "\n",
        "# pivot_table 함수를 이용해서 명사를 행으로, 체육관명을 열로 하는 테이블 생성\n",
        "pivot_df = pd.pivot_table(df.unstack().reset_index(), values=0, index='level_0', columns='level_1')\n",
        "\n",
        "# 결과 출력\n",
        "print(pivot_df)"
      ],
      "metadata": {
        "colab": {
          "base_uri": "https://localhost:8080/"
        },
        "id": "ip-t-myV-D6H",
        "outputId": "dc2bcfde-ddf6-4fee-9df3-9abc5f867b44"
      },
      "execution_count": null,
      "outputs": [
        {
          "output_type": "stream",
          "name": "stdout",
          "text": [
            "level_1  N sports 실내체육관  경기대학교(서울) 본관 실내체육관  명지전문대학 예체능관 실내체육관  \\\n",
            "level_0                                                          \n",
            "가격                    1                  22                  5   \n",
            "난방                    3                   5                  2   \n",
            "바닥                   12                  15                  7   \n",
            "시설                   10                  19                 15   \n",
            "주차                    4                   7                 16   \n",
            "화장실                   2                   3                  4   \n",
            "\n",
            "level_1  삼성썬더스 농구클럽 구리다산점 체육관A  한성대학교 상상관 실내체육관  \n",
            "level_0                                          \n",
            "가격                           1                3  \n",
            "난방                          12                3  \n",
            "바닥                          11                9  \n",
            "시설                           2               22  \n",
            "주차                           5                8  \n",
            "화장실                          1               13  \n"
          ]
        }
      ]
    },
    {
      "cell_type": "code",
      "source": [
        "corr_df = pivot_df.corr()\n",
        "print(corr_df)"
      ],
      "metadata": {
        "colab": {
          "base_uri": "https://localhost:8080/"
        },
        "id": "de1YK5cC-imX",
        "outputId": "bf808f19-017f-4ffc-83b3-6298fb9061b0"
      },
      "execution_count": null,
      "outputs": [
        {
          "output_type": "stream",
          "name": "stdout",
          "text": [
            "level_1                N sports 실내체육관  경기대학교(서울) 본관 실내체육관  명지전문대학 예체능관 실내체육관  \\\n",
            "level_1                                                                        \n",
            "N sports 실내체육관               1.000000            0.346692           0.414155   \n",
            "경기대학교(서울) 본관 실내체육관           0.346692            1.000000           0.231613   \n",
            "명지전문대학 예체능관 실내체육관            0.414155            0.231613           1.000000   \n",
            "삼성썬더스 농구클럽 구리다산점 체육관A        0.354414           -0.281129          -0.279225   \n",
            "한성대학교 상상관 실내체육관              0.545866            0.150966           0.569535   \n",
            "\n",
            "level_1                삼성썬더스 농구클럽 구리다산점 체육관A  한성대학교 상상관 실내체육관  \n",
            "level_1                                                        \n",
            "N sports 실내체육관                      0.354414         0.545866  \n",
            "경기대학교(서울) 본관 실내체육관                 -0.281129         0.150966  \n",
            "명지전문대학 예체능관 실내체육관                  -0.279225         0.569535  \n",
            "삼성썬더스 농구클럽 구리다산점 체육관A               1.000000        -0.415524  \n",
            "한성대학교 상상관 실내체육관                    -0.415524         1.000000  \n"
          ]
        }
      ]
    },
    {
      "cell_type": "code",
      "source": [],
      "metadata": {
        "id": "AX9-Rc9vXP3f"
      },
      "execution_count": null,
      "outputs": []
    }
  ]
}