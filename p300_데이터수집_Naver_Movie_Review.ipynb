{
  "nbformat": 4,
  "nbformat_minor": 0,
  "metadata": {
    "colab": {
      "provenance": [],
      "authorship_tag": "ABX9TyPrSAgCevaYhdgz3wwTZoiJ",
      "include_colab_link": true
    },
    "kernelspec": {
      "name": "python3",
      "display_name": "Python 3"
    },
    "language_info": {
      "name": "python"
    }
  },
  "cells": [
    {
      "cell_type": "markdown",
      "metadata": {
        "id": "view-in-github",
        "colab_type": "text"
      },
      "source": [
        "<a href=\"https://colab.research.google.com/github/min-hee-Lee/python_workdemo/blob/master/p300_%EB%8D%B0%EC%9D%B4%ED%84%B0%EC%88%98%EC%A7%91_Naver_Movie_Review.ipynb\" target=\"_parent\"><img src=\"https://colab.research.google.com/assets/colab-badge.svg\" alt=\"Open In Colab\"/></a>"
      ]
    },
    {
      "cell_type": "markdown",
      "source": [
        "# 다양한 웹사이트 Crawling\n",
        "\n",
        "### Naver_Movie_Review_Crawling\n",
        "\n",
        "평점순-모든영화  \n",
        "https://movie.naver.com/movie/sdb/rank/rmovie.naver?sel=pnt&date=20230213"
      ],
      "metadata": {
        "id": "w3w_8Psz_MEz"
      }
    },
    {
      "cell_type": "code",
      "execution_count": 1,
      "metadata": {
        "id": "Ip6CLPAQ-vv3"
      },
      "outputs": [],
      "source": [
        "import requests\n",
        "from bs4 import BeautifulSoup\n",
        "import re"
      ]
    },
    {
      "cell_type": "code",
      "source": [
        "url = 'https://movie.naver.com/movie/sdb/rank/rmovie.naver?sel=pnt&date=20230213'\n",
        "movie_html = requests.get(url)\n",
        "print(movie_html)\n",
        "print(dir(movie_html))\n",
        "#print(movie_html.text)  #사이트에서 소스보기 \n",
        "\n",
        "bs_movie = BeautifulSoup(movie_html.text, 'html.parser')\n",
        "#print(bs_movie)\n",
        "\n",
        "rank_html = bs_movie.find_all('img')  #img태그 모두 가져와라\n",
        "print(rank_html)\n",
        "print(len(rank_html))\n",
        "\n",
        "rank_html = bs_movie.find_all('img', {'alt' : re.compile(\"^[0-9]+$\")}) #img태그 중에 이 조건에 맞는 것만 가져와라\n",
        "print(rank_html)\n",
        "print(len(rank_html))"
      ],
      "metadata": {
        "colab": {
          "base_uri": "https://localhost:8080/"
        },
        "id": "KgSuCUrcAmbS",
        "outputId": "ab5e1991-13c1-4cc0-c839-0f03eedae544"
      },
      "execution_count": 14,
      "outputs": [
        {
          "output_type": "stream",
          "name": "stdout",
          "text": [
            "<Response [200]>\n",
            "['__attrs__', '__bool__', '__class__', '__delattr__', '__dict__', '__dir__', '__doc__', '__enter__', '__eq__', '__exit__', '__format__', '__ge__', '__getattribute__', '__getstate__', '__gt__', '__hash__', '__init__', '__init_subclass__', '__iter__', '__le__', '__lt__', '__module__', '__ne__', '__new__', '__nonzero__', '__reduce__', '__reduce_ex__', '__repr__', '__setattr__', '__setstate__', '__sizeof__', '__str__', '__subclasshook__', '__weakref__', '_content', '_content_consumed', '_next', 'apparent_encoding', 'close', 'connection', 'content', 'cookies', 'elapsed', 'encoding', 'headers', 'history', 'is_permanent_redirect', 'is_redirect', 'iter_content', 'iter_lines', 'json', 'links', 'next', 'ok', 'raise_for_status', 'raw', 'reason', 'request', 'status_code', 'text', 'url']\n",
            "[<img alt=\"자동완성 펼치기\" height=\"4\" src=\"https://ssl.pstatic.net/static/movie/2012/06/srch_arrow_down.gif\" title=\"자동완성 펼치기\" width=\"7\"/>, <img alt=\"NAVER\" height=\"13\" src=\"https://ssl.pstatic.net/static/movie/2013/07/logo_ci.png\" width=\"62\"/>, <img alt=\"영화\" height=\"19\" src=\"https://ssl.pstatic.net/static/movie/2012/06/logo_svc.png\" width=\"34\"/>, <img alt=\"영화랭킹\" height=\"15\" src=\"https://ssl.pstatic.net/imgmovie/2007/img/super_db/tlt_ranking_movie.gif\" width=\"65\"/>, <img alt=\"조회순\" height=\"28\" src=\"https://ssl.pstatic.net/imgmovie/2007/img/super_db/tab_movie_1_off.gif\" width=\"112\"/>, <img alt=\"평점순(현재상영영화)\" height=\"28\" src=\"https://ssl.pstatic.net/imgmovie/2007/img/super_db/tab_movie_2_off.gif\" width=\"126\"/>, <img alt=\"평점순(모든영화)\" height=\"28\" src=\"https://ssl.pstatic.net/imgmovie/2007/img/super_db/tab_movie_3_on.gif\" width=\"126\"/>, <img alt=\"prev\" height=\"13\" src=\"https://ssl.pstatic.net/imgmovie/2007/img/common/btn_prev.gif\" style=\"margin-right:1px;\" width=\"13\"/>, <img alt=\"01\" height=\"13\" src=\"https://ssl.pstatic.net/imgmovie/2007/img/common/bullet_r_r01.gif\" width=\"14\"/>, <img alt=\"\" height=\"14\" src=\"https://ssl.pstatic.net/imgmovie/2007/img/common/point_type_2_bg_on.gif\" width=\"79\"/>, <img alt=\"na\" class=\"arrow\" height=\"10\" src=\"https://ssl.pstatic.net/imgmovie/2007/img/common/icon_na_1.gif\" width=\"7\"/>, <img alt=\"02\" height=\"13\" src=\"https://ssl.pstatic.net/imgmovie/2007/img/common/bullet_r_r02.gif\" width=\"14\"/>, <img alt=\"\" height=\"14\" src=\"https://ssl.pstatic.net/imgmovie/2007/img/common/point_type_2_bg_on.gif\" width=\"79\"/>, <img alt=\"na\" class=\"arrow\" height=\"10\" src=\"https://ssl.pstatic.net/imgmovie/2007/img/common/icon_na_1.gif\" width=\"7\"/>, <img alt=\"03\" height=\"13\" src=\"https://ssl.pstatic.net/imgmovie/2007/img/common/bullet_r_r03.gif\" width=\"14\"/>, <img alt=\"\" height=\"14\" src=\"https://ssl.pstatic.net/imgmovie/2007/img/common/point_type_2_bg_on.gif\" width=\"79\"/>, <img alt=\"na\" class=\"arrow\" height=\"10\" src=\"https://ssl.pstatic.net/imgmovie/2007/img/common/icon_na_1.gif\" width=\"7\"/>, <img alt=\"04\" height=\"13\" src=\"https://ssl.pstatic.net/imgmovie/2007/img/common/bullet_r_r04.gif\" width=\"14\"/>, <img alt=\"\" height=\"14\" src=\"https://ssl.pstatic.net/imgmovie/2007/img/common/point_type_2_bg_on.gif\" width=\"79\"/>, <img alt=\"na\" class=\"arrow\" height=\"10\" src=\"https://ssl.pstatic.net/imgmovie/2007/img/common/icon_na_1.gif\" width=\"7\"/>, <img alt=\"05\" height=\"13\" src=\"https://ssl.pstatic.net/imgmovie/2007/img/common/bullet_r_r05.gif\" width=\"14\"/>, <img alt=\"\" height=\"14\" src=\"https://ssl.pstatic.net/imgmovie/2007/img/common/point_type_2_bg_on.gif\" width=\"79\"/>, <img alt=\"na\" class=\"arrow\" height=\"10\" src=\"https://ssl.pstatic.net/imgmovie/2007/img/common/icon_na_1.gif\" width=\"7\"/>, <img alt=\"06\" height=\"13\" src=\"https://ssl.pstatic.net/imgmovie/2007/img/common/bullet_r_r06.gif\" width=\"14\"/>, <img alt=\"\" height=\"14\" src=\"https://ssl.pstatic.net/imgmovie/2007/img/common/point_type_2_bg_on.gif\" width=\"79\"/>, <img alt=\"na\" class=\"arrow\" height=\"10\" src=\"https://ssl.pstatic.net/imgmovie/2007/img/common/icon_na_1.gif\" width=\"7\"/>, <img alt=\"07\" height=\"13\" src=\"https://ssl.pstatic.net/imgmovie/2007/img/common/bullet_r_r07.gif\" width=\"14\"/>, <img alt=\"\" height=\"14\" src=\"https://ssl.pstatic.net/imgmovie/2007/img/common/point_type_2_bg_on.gif\" width=\"79\"/>, <img alt=\"na\" class=\"arrow\" height=\"10\" src=\"https://ssl.pstatic.net/imgmovie/2007/img/common/icon_na_1.gif\" width=\"7\"/>, <img alt=\"08\" height=\"13\" src=\"https://ssl.pstatic.net/imgmovie/2007/img/common/bullet_r_r08.gif\" width=\"14\"/>, <img alt=\"\" height=\"14\" src=\"https://ssl.pstatic.net/imgmovie/2007/img/common/point_type_2_bg_on.gif\" width=\"79\"/>, <img alt=\"na\" class=\"arrow\" height=\"10\" src=\"https://ssl.pstatic.net/imgmovie/2007/img/common/icon_na_1.gif\" width=\"7\"/>, <img alt=\"09\" height=\"13\" src=\"https://ssl.pstatic.net/imgmovie/2007/img/common/bullet_r_r09.gif\" width=\"14\"/>, <img alt=\"\" height=\"14\" src=\"https://ssl.pstatic.net/imgmovie/2007/img/common/point_type_2_bg_on.gif\" width=\"79\"/>, <img alt=\"na\" class=\"arrow\" height=\"10\" src=\"https://ssl.pstatic.net/imgmovie/2007/img/common/icon_na_1.gif\" width=\"7\"/>, <img alt=\"010\" height=\"13\" src=\"https://ssl.pstatic.net/imgmovie/2007/img/common/bullet_r_r10.gif\" width=\"14\"/>, <img alt=\"\" height=\"14\" src=\"https://ssl.pstatic.net/imgmovie/2007/img/common/point_type_2_bg_on.gif\" width=\"79\"/>, <img alt=\"na\" class=\"arrow\" height=\"10\" src=\"https://ssl.pstatic.net/imgmovie/2007/img/common/icon_na_1.gif\" width=\"7\"/>, <img alt=\"11\" height=\"13\" src=\"https://ssl.pstatic.net/imgmovie/2007/img/common/bullet_r_g11.gif\" width=\"14\"/>, <img alt=\"\" height=\"14\" src=\"https://ssl.pstatic.net/imgmovie/2007/img/common/point_type_2_bg_on.gif\" width=\"79\"/>, <img alt=\"na\" class=\"arrow\" height=\"10\" src=\"https://ssl.pstatic.net/imgmovie/2007/img/common/icon_na_1.gif\" width=\"7\"/>, <img alt=\"12\" height=\"13\" src=\"https://ssl.pstatic.net/imgmovie/2007/img/common/bullet_r_g12.gif\" width=\"14\"/>, <img alt=\"\" height=\"14\" src=\"https://ssl.pstatic.net/imgmovie/2007/img/common/point_type_2_bg_on.gif\" width=\"79\"/>, <img alt=\"na\" class=\"arrow\" height=\"10\" src=\"https://ssl.pstatic.net/imgmovie/2007/img/common/icon_na_1.gif\" width=\"7\"/>, <img alt=\"13\" height=\"13\" src=\"https://ssl.pstatic.net/imgmovie/2007/img/common/bullet_r_g13.gif\" width=\"14\"/>, <img alt=\"\" height=\"14\" src=\"https://ssl.pstatic.net/imgmovie/2007/img/common/point_type_2_bg_on.gif\" width=\"79\"/>, <img alt=\"na\" class=\"arrow\" height=\"10\" src=\"https://ssl.pstatic.net/imgmovie/2007/img/common/icon_na_1.gif\" width=\"7\"/>, <img alt=\"14\" height=\"13\" src=\"https://ssl.pstatic.net/imgmovie/2007/img/common/bullet_r_g14.gif\" width=\"14\"/>, <img alt=\"\" height=\"14\" src=\"https://ssl.pstatic.net/imgmovie/2007/img/common/point_type_2_bg_on.gif\" width=\"79\"/>, <img alt=\"na\" class=\"arrow\" height=\"10\" src=\"https://ssl.pstatic.net/imgmovie/2007/img/common/icon_na_1.gif\" width=\"7\"/>, <img alt=\"15\" height=\"13\" src=\"https://ssl.pstatic.net/imgmovie/2007/img/common/bullet_r_g15.gif\" width=\"14\"/>, <img alt=\"\" height=\"14\" src=\"https://ssl.pstatic.net/imgmovie/2007/img/common/point_type_2_bg_on.gif\" width=\"79\"/>, <img alt=\"na\" class=\"arrow\" height=\"10\" src=\"https://ssl.pstatic.net/imgmovie/2007/img/common/icon_na_1.gif\" width=\"7\"/>, <img alt=\"16\" height=\"13\" src=\"https://ssl.pstatic.net/imgmovie/2007/img/common/bullet_r_g16.gif\" width=\"14\"/>, <img alt=\"\" height=\"14\" src=\"https://ssl.pstatic.net/imgmovie/2007/img/common/point_type_2_bg_on.gif\" width=\"79\"/>, <img alt=\"na\" class=\"arrow\" height=\"10\" src=\"https://ssl.pstatic.net/imgmovie/2007/img/common/icon_na_1.gif\" width=\"7\"/>, <img alt=\"17\" height=\"13\" src=\"https://ssl.pstatic.net/imgmovie/2007/img/common/bullet_r_g17.gif\" width=\"14\"/>, <img alt=\"\" height=\"14\" src=\"https://ssl.pstatic.net/imgmovie/2007/img/common/point_type_2_bg_on.gif\" width=\"79\"/>, <img alt=\"na\" class=\"arrow\" height=\"10\" src=\"https://ssl.pstatic.net/imgmovie/2007/img/common/icon_na_1.gif\" width=\"7\"/>, <img alt=\"18\" height=\"13\" src=\"https://ssl.pstatic.net/imgmovie/2007/img/common/bullet_r_g18.gif\" width=\"14\"/>, <img alt=\"\" height=\"14\" src=\"https://ssl.pstatic.net/imgmovie/2007/img/common/point_type_2_bg_on.gif\" width=\"79\"/>, <img alt=\"na\" class=\"arrow\" height=\"10\" src=\"https://ssl.pstatic.net/imgmovie/2007/img/common/icon_na_1.gif\" width=\"7\"/>, <img alt=\"19\" height=\"13\" src=\"https://ssl.pstatic.net/imgmovie/2007/img/common/bullet_r_g19.gif\" width=\"14\"/>, <img alt=\"\" height=\"14\" src=\"https://ssl.pstatic.net/imgmovie/2007/img/common/point_type_2_bg_on.gif\" width=\"79\"/>, <img alt=\"na\" class=\"arrow\" height=\"10\" src=\"https://ssl.pstatic.net/imgmovie/2007/img/common/icon_na_1.gif\" width=\"7\"/>, <img alt=\"20\" height=\"13\" src=\"https://ssl.pstatic.net/imgmovie/2007/img/common/bullet_r_g20.gif\" width=\"14\"/>, <img alt=\"\" height=\"14\" src=\"https://ssl.pstatic.net/imgmovie/2007/img/common/point_type_2_bg_on.gif\" width=\"79\"/>, <img alt=\"na\" class=\"arrow\" height=\"10\" src=\"https://ssl.pstatic.net/imgmovie/2007/img/common/icon_na_1.gif\" width=\"7\"/>, <img alt=\"21\" height=\"13\" src=\"https://ssl.pstatic.net/imgmovie/2007/img/common/bullet_r_g21.gif\" width=\"14\"/>, <img alt=\"\" height=\"14\" src=\"https://ssl.pstatic.net/imgmovie/2007/img/common/point_type_2_bg_on.gif\" width=\"79\"/>, <img alt=\"na\" class=\"arrow\" height=\"10\" src=\"https://ssl.pstatic.net/imgmovie/2007/img/common/icon_na_1.gif\" width=\"7\"/>, <img alt=\"22\" height=\"13\" src=\"https://ssl.pstatic.net/imgmovie/2007/img/common/bullet_r_g22.gif\" width=\"14\"/>, <img alt=\"\" height=\"14\" src=\"https://ssl.pstatic.net/imgmovie/2007/img/common/point_type_2_bg_on.gif\" width=\"79\"/>, <img alt=\"na\" class=\"arrow\" height=\"10\" src=\"https://ssl.pstatic.net/imgmovie/2007/img/common/icon_na_1.gif\" width=\"7\"/>, <img alt=\"23\" height=\"13\" src=\"https://ssl.pstatic.net/imgmovie/2007/img/common/bullet_r_g23.gif\" width=\"14\"/>, <img alt=\"\" height=\"14\" src=\"https://ssl.pstatic.net/imgmovie/2007/img/common/point_type_2_bg_on.gif\" width=\"79\"/>, <img alt=\"na\" class=\"arrow\" height=\"10\" src=\"https://ssl.pstatic.net/imgmovie/2007/img/common/icon_na_1.gif\" width=\"7\"/>, <img alt=\"24\" height=\"13\" src=\"https://ssl.pstatic.net/imgmovie/2007/img/common/bullet_r_g24.gif\" width=\"14\"/>, <img alt=\"\" height=\"14\" src=\"https://ssl.pstatic.net/imgmovie/2007/img/common/point_type_2_bg_on.gif\" width=\"79\"/>, <img alt=\"na\" class=\"arrow\" height=\"10\" src=\"https://ssl.pstatic.net/imgmovie/2007/img/common/icon_na_1.gif\" width=\"7\"/>, <img alt=\"25\" height=\"13\" src=\"https://ssl.pstatic.net/imgmovie/2007/img/common/bullet_r_g25.gif\" width=\"14\"/>, <img alt=\"\" height=\"14\" src=\"https://ssl.pstatic.net/imgmovie/2007/img/common/point_type_2_bg_on.gif\" width=\"79\"/>, <img alt=\"na\" class=\"arrow\" height=\"10\" src=\"https://ssl.pstatic.net/imgmovie/2007/img/common/icon_na_1.gif\" width=\"7\"/>, <img alt=\"26\" height=\"13\" src=\"https://ssl.pstatic.net/imgmovie/2007/img/common/bullet_r_g26.gif\" width=\"14\"/>, <img alt=\"\" height=\"14\" src=\"https://ssl.pstatic.net/imgmovie/2007/img/common/point_type_2_bg_on.gif\" width=\"79\"/>, <img alt=\"na\" class=\"arrow\" height=\"10\" src=\"https://ssl.pstatic.net/imgmovie/2007/img/common/icon_na_1.gif\" width=\"7\"/>, <img alt=\"27\" height=\"13\" src=\"https://ssl.pstatic.net/imgmovie/2007/img/common/bullet_r_g27.gif\" width=\"14\"/>, <img alt=\"\" height=\"14\" src=\"https://ssl.pstatic.net/imgmovie/2007/img/common/point_type_2_bg_on.gif\" width=\"79\"/>, <img alt=\"na\" class=\"arrow\" height=\"10\" src=\"https://ssl.pstatic.net/imgmovie/2007/img/common/icon_na_1.gif\" width=\"7\"/>, <img alt=\"28\" height=\"13\" src=\"https://ssl.pstatic.net/imgmovie/2007/img/common/bullet_r_g28.gif\" width=\"14\"/>, <img alt=\"\" height=\"14\" src=\"https://ssl.pstatic.net/imgmovie/2007/img/common/point_type_2_bg_on.gif\" width=\"79\"/>, <img alt=\"na\" class=\"arrow\" height=\"10\" src=\"https://ssl.pstatic.net/imgmovie/2007/img/common/icon_na_1.gif\" width=\"7\"/>, <img alt=\"29\" height=\"13\" src=\"https://ssl.pstatic.net/imgmovie/2007/img/common/bullet_r_g29.gif\" width=\"14\"/>, <img alt=\"\" height=\"14\" src=\"https://ssl.pstatic.net/imgmovie/2007/img/common/point_type_2_bg_on.gif\" width=\"79\"/>, <img alt=\"na\" class=\"arrow\" height=\"10\" src=\"https://ssl.pstatic.net/imgmovie/2007/img/common/icon_na_1.gif\" width=\"7\"/>, <img alt=\"30\" height=\"13\" src=\"https://ssl.pstatic.net/imgmovie/2007/img/common/bullet_r_g30.gif\" width=\"14\"/>, <img alt=\"\" height=\"14\" src=\"https://ssl.pstatic.net/imgmovie/2007/img/common/point_type_2_bg_on.gif\" width=\"79\"/>, <img alt=\"up\" class=\"arrow\" height=\"10\" src=\"https://ssl.pstatic.net/imgmovie/2007/img/common/icon_up_1.gif\" width=\"7\"/>, <img alt=\"31\" height=\"13\" src=\"https://ssl.pstatic.net/imgmovie/2007/img/common/bullet_r_g31.gif\" width=\"14\"/>, <img alt=\"\" height=\"14\" src=\"https://ssl.pstatic.net/imgmovie/2007/img/common/point_type_2_bg_on.gif\" width=\"79\"/>, <img alt=\"down\" class=\"arrow\" height=\"10\" src=\"https://ssl.pstatic.net/imgmovie/2007/img/common/icon_down_1.gif\" width=\"7\"/>, <img alt=\"32\" height=\"13\" src=\"https://ssl.pstatic.net/imgmovie/2007/img/common/bullet_r_g32.gif\" width=\"14\"/>, <img alt=\"\" height=\"14\" src=\"https://ssl.pstatic.net/imgmovie/2007/img/common/point_type_2_bg_on.gif\" width=\"79\"/>, <img alt=\"na\" class=\"arrow\" height=\"10\" src=\"https://ssl.pstatic.net/imgmovie/2007/img/common/icon_na_1.gif\" width=\"7\"/>, <img alt=\"33\" height=\"13\" src=\"https://ssl.pstatic.net/imgmovie/2007/img/common/bullet_r_g33.gif\" width=\"14\"/>, <img alt=\"\" height=\"14\" src=\"https://ssl.pstatic.net/imgmovie/2007/img/common/point_type_2_bg_on.gif\" width=\"79\"/>, <img alt=\"na\" class=\"arrow\" height=\"10\" src=\"https://ssl.pstatic.net/imgmovie/2007/img/common/icon_na_1.gif\" width=\"7\"/>, <img alt=\"34\" height=\"13\" src=\"https://ssl.pstatic.net/imgmovie/2007/img/common/bullet_r_g34.gif\" width=\"14\"/>, <img alt=\"\" height=\"14\" src=\"https://ssl.pstatic.net/imgmovie/2007/img/common/point_type_2_bg_on.gif\" width=\"79\"/>, <img alt=\"na\" class=\"arrow\" height=\"10\" src=\"https://ssl.pstatic.net/imgmovie/2007/img/common/icon_na_1.gif\" width=\"7\"/>, <img alt=\"35\" height=\"13\" src=\"https://ssl.pstatic.net/imgmovie/2007/img/common/bullet_r_g35.gif\" width=\"14\"/>, <img alt=\"\" height=\"14\" src=\"https://ssl.pstatic.net/imgmovie/2007/img/common/point_type_2_bg_on.gif\" width=\"79\"/>, <img alt=\"na\" class=\"arrow\" height=\"10\" src=\"https://ssl.pstatic.net/imgmovie/2007/img/common/icon_na_1.gif\" width=\"7\"/>, <img alt=\"36\" height=\"13\" src=\"https://ssl.pstatic.net/imgmovie/2007/img/common/bullet_r_g36.gif\" width=\"14\"/>, <img alt=\"\" height=\"14\" src=\"https://ssl.pstatic.net/imgmovie/2007/img/common/point_type_2_bg_on.gif\" width=\"79\"/>, <img alt=\"na\" class=\"arrow\" height=\"10\" src=\"https://ssl.pstatic.net/imgmovie/2007/img/common/icon_na_1.gif\" width=\"7\"/>, <img alt=\"37\" height=\"13\" src=\"https://ssl.pstatic.net/imgmovie/2007/img/common/bullet_r_g37.gif\" width=\"14\"/>, <img alt=\"\" height=\"14\" src=\"https://ssl.pstatic.net/imgmovie/2007/img/common/point_type_2_bg_on.gif\" width=\"79\"/>, <img alt=\"na\" class=\"arrow\" height=\"10\" src=\"https://ssl.pstatic.net/imgmovie/2007/img/common/icon_na_1.gif\" width=\"7\"/>, <img alt=\"38\" height=\"13\" src=\"https://ssl.pstatic.net/imgmovie/2007/img/common/bullet_r_g38.gif\" width=\"14\"/>, <img alt=\"\" height=\"14\" src=\"https://ssl.pstatic.net/imgmovie/2007/img/common/point_type_2_bg_on.gif\" width=\"79\"/>, <img alt=\"na\" class=\"arrow\" height=\"10\" src=\"https://ssl.pstatic.net/imgmovie/2007/img/common/icon_na_1.gif\" width=\"7\"/>, <img alt=\"39\" height=\"13\" src=\"https://ssl.pstatic.net/imgmovie/2007/img/common/bullet_r_g39.gif\" width=\"14\"/>, <img alt=\"\" height=\"14\" src=\"https://ssl.pstatic.net/imgmovie/2007/img/common/point_type_2_bg_on.gif\" width=\"79\"/>, <img alt=\"na\" class=\"arrow\" height=\"10\" src=\"https://ssl.pstatic.net/imgmovie/2007/img/common/icon_na_1.gif\" width=\"7\"/>, <img alt=\"40\" height=\"13\" src=\"https://ssl.pstatic.net/imgmovie/2007/img/common/bullet_r_g40.gif\" width=\"14\"/>, <img alt=\"\" height=\"14\" src=\"https://ssl.pstatic.net/imgmovie/2007/img/common/point_type_2_bg_on.gif\" width=\"79\"/>, <img alt=\"na\" class=\"arrow\" height=\"10\" src=\"https://ssl.pstatic.net/imgmovie/2007/img/common/icon_na_1.gif\" width=\"7\"/>, <img alt=\"41\" height=\"13\" src=\"https://ssl.pstatic.net/imgmovie/2007/img/common/bullet_r_g41.gif\" width=\"14\"/>, <img alt=\"\" height=\"14\" src=\"https://ssl.pstatic.net/imgmovie/2007/img/common/point_type_2_bg_on.gif\" width=\"79\"/>, <img alt=\"na\" class=\"arrow\" height=\"10\" src=\"https://ssl.pstatic.net/imgmovie/2007/img/common/icon_na_1.gif\" width=\"7\"/>, <img alt=\"42\" height=\"13\" src=\"https://ssl.pstatic.net/imgmovie/2007/img/common/bullet_r_g42.gif\" width=\"14\"/>, <img alt=\"\" height=\"14\" src=\"https://ssl.pstatic.net/imgmovie/2007/img/common/point_type_2_bg_on.gif\" width=\"79\"/>, <img alt=\"na\" class=\"arrow\" height=\"10\" src=\"https://ssl.pstatic.net/imgmovie/2007/img/common/icon_na_1.gif\" width=\"7\"/>, <img alt=\"43\" height=\"13\" src=\"https://ssl.pstatic.net/imgmovie/2007/img/common/bullet_r_g43.gif\" width=\"14\"/>, <img alt=\"\" height=\"14\" src=\"https://ssl.pstatic.net/imgmovie/2007/img/common/point_type_2_bg_on.gif\" width=\"79\"/>, <img alt=\"na\" class=\"arrow\" height=\"10\" src=\"https://ssl.pstatic.net/imgmovie/2007/img/common/icon_na_1.gif\" width=\"7\"/>, <img alt=\"44\" height=\"13\" src=\"https://ssl.pstatic.net/imgmovie/2007/img/common/bullet_r_g44.gif\" width=\"14\"/>, <img alt=\"\" height=\"14\" src=\"https://ssl.pstatic.net/imgmovie/2007/img/common/point_type_2_bg_on.gif\" width=\"79\"/>, <img alt=\"na\" class=\"arrow\" height=\"10\" src=\"https://ssl.pstatic.net/imgmovie/2007/img/common/icon_na_1.gif\" width=\"7\"/>, <img alt=\"45\" height=\"13\" src=\"https://ssl.pstatic.net/imgmovie/2007/img/common/bullet_r_g45.gif\" width=\"14\"/>, <img alt=\"\" height=\"14\" src=\"https://ssl.pstatic.net/imgmovie/2007/img/common/point_type_2_bg_on.gif\" width=\"79\"/>, <img alt=\"na\" class=\"arrow\" height=\"10\" src=\"https://ssl.pstatic.net/imgmovie/2007/img/common/icon_na_1.gif\" width=\"7\"/>, <img alt=\"46\" height=\"13\" src=\"https://ssl.pstatic.net/imgmovie/2007/img/common/bullet_r_g46.gif\" width=\"14\"/>, <img alt=\"\" height=\"14\" src=\"https://ssl.pstatic.net/imgmovie/2007/img/common/point_type_2_bg_on.gif\" width=\"79\"/>, <img alt=\"na\" class=\"arrow\" height=\"10\" src=\"https://ssl.pstatic.net/imgmovie/2007/img/common/icon_na_1.gif\" width=\"7\"/>, <img alt=\"47\" height=\"13\" src=\"https://ssl.pstatic.net/imgmovie/2007/img/common/bullet_r_g47.gif\" width=\"14\"/>, <img alt=\"\" height=\"14\" src=\"https://ssl.pstatic.net/imgmovie/2007/img/common/point_type_2_bg_on.gif\" width=\"79\"/>, <img alt=\"na\" class=\"arrow\" height=\"10\" src=\"https://ssl.pstatic.net/imgmovie/2007/img/common/icon_na_1.gif\" width=\"7\"/>, <img alt=\"48\" height=\"13\" src=\"https://ssl.pstatic.net/imgmovie/2007/img/common/bullet_r_g48.gif\" width=\"14\"/>, <img alt=\"\" height=\"14\" src=\"https://ssl.pstatic.net/imgmovie/2007/img/common/point_type_2_bg_on.gif\" width=\"79\"/>, <img alt=\"na\" class=\"arrow\" height=\"10\" src=\"https://ssl.pstatic.net/imgmovie/2007/img/common/icon_na_1.gif\" width=\"7\"/>, <img alt=\"49\" height=\"13\" src=\"https://ssl.pstatic.net/imgmovie/2007/img/common/bullet_r_g49.gif\" width=\"14\"/>, <img alt=\"\" height=\"14\" src=\"https://ssl.pstatic.net/imgmovie/2007/img/common/point_type_2_bg_on.gif\" width=\"79\"/>, <img alt=\"na\" class=\"arrow\" height=\"10\" src=\"https://ssl.pstatic.net/imgmovie/2007/img/common/icon_na_1.gif\" width=\"7\"/>, <img alt=\"50\" height=\"13\" src=\"https://ssl.pstatic.net/imgmovie/2007/img/common/bullet_r_g50.gif\" width=\"14\"/>, <img alt=\"\" height=\"14\" src=\"https://ssl.pstatic.net/imgmovie/2007/img/common/point_type_2_bg_on.gif\" width=\"79\"/>, <img alt=\"na\" class=\"arrow\" height=\"10\" src=\"https://ssl.pstatic.net/imgmovie/2007/img/common/icon_na_1.gif\" width=\"7\"/>, <img alt=\"네이버 영화평점랭킹 선정방법\" height=\"13\" src=\"https://ssl.pstatic.net/imgmovie/2007/img/super_db/txt_movie_ranking_01.gif\" width=\"154\"/>, <img alt=\"집계기준\" height=\"11\" src=\"https://ssl.pstatic.net/imgmovie/2007/img/super_db/txt_movie_ranking_01_1.gif\" width=\"39\"/>, <img alt=\"집계기간\" height=\"11\" src=\"https://ssl.pstatic.net/imgmovie/2007/img/super_db/txt_movie_ranking_01_2.gif\" width=\"40\"/>, <img alt=\"표본오차\" height=\"11\" src=\"https://ssl.pstatic.net/imgmovie/2007/img/super_db/txt_movie_ranking_01_3.gif\" width=\"40\"/>, <img alt=\"왜 평점응답자를 300명 이상으로 정하나요?\" height=\"12\" src=\"https://ssl.pstatic.net/imgmovie/2007/img/super_db/txt_movie_ranking_02.gif\" width=\"221\"/>, <img alt=\"표본오차 95% 신뢰수준에서 ±5.65가 무슨 뜻인가요?\" height=\"12\" src=\"https://ssl.pstatic.net/imgmovie/2007/img/super_db/txt_movie_ranking_03.gif\" width=\"271\"/>, <img alt=\"Descriptive Statistics는 어떻게 보는건가요?\" height=\"12\" src=\"https://ssl.pstatic.net/imgmovie/2007/img/super_db/txt_movie_ranking_04.gif\" width=\"234\"/>, <img alt=\"TOP\" height=\"11\" src=\"https://ssl.pstatic.net/imgmovie/2007/img/common/btn_top.gif\" width=\"30\"/>, <img alt=\"\" class=\"clear\" src=\"https://ssl.pstatic.net/imgmovie/2007/img/common/blank.gif\"/>, <img alt=\"영화 인기검색어\" height=\"11\" src=\"https://ssl.pstatic.net/imgmovie/2007/img/super_db/tlt_r_best_movie.gif\" width=\"75\"/>, <img alt=\"순위 변동 없음\" height=\"10\" src=\"https://ssl.pstatic.net/imgmovie/2007/img/common/icon_na_1.gif\" width=\"7\"/>, <img alt=\"순위 변동 없음\" height=\"10\" src=\"https://ssl.pstatic.net/imgmovie/2007/img/common/icon_na_1.gif\" width=\"7\"/>, <img alt=\"순위 변동 없음\" height=\"10\" src=\"https://ssl.pstatic.net/imgmovie/2007/img/common/icon_na_1.gif\" width=\"7\"/>, <img alt=\"순위 상승\" height=\"10\" src=\"https://ssl.pstatic.net/imgmovie/2007/img/common/icon_up_1.gif\" width=\"7\"/>, <img alt=\"순위 상승\" height=\"10\" src=\"https://ssl.pstatic.net/imgmovie/2007/img/common/icon_up_1.gif\" width=\"7\"/>, <img alt=\"영화인 인기검색어\" height=\"11\" src=\"https://ssl.pstatic.net/imgmovie/2007/img/super_db/tlt_r_best_star.gif\" width=\"85\"/>, <img alt=\"\" height=\"10\" src=\"https://ssl.pstatic.net/imgmovie/2007/img/common/icon_na_1.gif\" width=\"7\"/>, <img alt=\"\" height=\"10\" src=\"https://ssl.pstatic.net/imgmovie/2007/img/common/icon_up_1.gif\" width=\"7\"/>, <img alt=\"\" height=\"10\" src=\"https://ssl.pstatic.net/imgmovie/2007/img/common/icon_down_1.gif\" width=\"7\"/>, <img alt=\"\" height=\"10\" src=\"https://ssl.pstatic.net/imgmovie/2007/img/common/icon_na_1.gif\" width=\"7\"/>, <img alt=\"\" height=\"10\" src=\"https://ssl.pstatic.net/imgmovie/2007/img/common/icon_na_1.gif\" width=\"7\"/>, <img alt=\"박스오피스\" height=\"11\" src=\"https://ssl.pstatic.net/imgmovie/2007/img/running/tlt_r_boxoffice.gif\" width=\"51\"/>, <img alt=\"\" class=\"clear\" src=\"https://ssl.pstatic.net/imgmovie/2007/img/common/blank.gif\"/>, <img alt=\"NAVER\" height=\"11\" src=\"https://ssl.pstatic.net/static/movie/2013/07/logo_naver.png\" width=\"63\"/>]\n",
            "182\n",
            "[<img alt=\"01\" height=\"13\" src=\"https://ssl.pstatic.net/imgmovie/2007/img/common/bullet_r_r01.gif\" width=\"14\"/>, <img alt=\"02\" height=\"13\" src=\"https://ssl.pstatic.net/imgmovie/2007/img/common/bullet_r_r02.gif\" width=\"14\"/>, <img alt=\"03\" height=\"13\" src=\"https://ssl.pstatic.net/imgmovie/2007/img/common/bullet_r_r03.gif\" width=\"14\"/>, <img alt=\"04\" height=\"13\" src=\"https://ssl.pstatic.net/imgmovie/2007/img/common/bullet_r_r04.gif\" width=\"14\"/>, <img alt=\"05\" height=\"13\" src=\"https://ssl.pstatic.net/imgmovie/2007/img/common/bullet_r_r05.gif\" width=\"14\"/>, <img alt=\"06\" height=\"13\" src=\"https://ssl.pstatic.net/imgmovie/2007/img/common/bullet_r_r06.gif\" width=\"14\"/>, <img alt=\"07\" height=\"13\" src=\"https://ssl.pstatic.net/imgmovie/2007/img/common/bullet_r_r07.gif\" width=\"14\"/>, <img alt=\"08\" height=\"13\" src=\"https://ssl.pstatic.net/imgmovie/2007/img/common/bullet_r_r08.gif\" width=\"14\"/>, <img alt=\"09\" height=\"13\" src=\"https://ssl.pstatic.net/imgmovie/2007/img/common/bullet_r_r09.gif\" width=\"14\"/>, <img alt=\"010\" height=\"13\" src=\"https://ssl.pstatic.net/imgmovie/2007/img/common/bullet_r_r10.gif\" width=\"14\"/>, <img alt=\"11\" height=\"13\" src=\"https://ssl.pstatic.net/imgmovie/2007/img/common/bullet_r_g11.gif\" width=\"14\"/>, <img alt=\"12\" height=\"13\" src=\"https://ssl.pstatic.net/imgmovie/2007/img/common/bullet_r_g12.gif\" width=\"14\"/>, <img alt=\"13\" height=\"13\" src=\"https://ssl.pstatic.net/imgmovie/2007/img/common/bullet_r_g13.gif\" width=\"14\"/>, <img alt=\"14\" height=\"13\" src=\"https://ssl.pstatic.net/imgmovie/2007/img/common/bullet_r_g14.gif\" width=\"14\"/>, <img alt=\"15\" height=\"13\" src=\"https://ssl.pstatic.net/imgmovie/2007/img/common/bullet_r_g15.gif\" width=\"14\"/>, <img alt=\"16\" height=\"13\" src=\"https://ssl.pstatic.net/imgmovie/2007/img/common/bullet_r_g16.gif\" width=\"14\"/>, <img alt=\"17\" height=\"13\" src=\"https://ssl.pstatic.net/imgmovie/2007/img/common/bullet_r_g17.gif\" width=\"14\"/>, <img alt=\"18\" height=\"13\" src=\"https://ssl.pstatic.net/imgmovie/2007/img/common/bullet_r_g18.gif\" width=\"14\"/>, <img alt=\"19\" height=\"13\" src=\"https://ssl.pstatic.net/imgmovie/2007/img/common/bullet_r_g19.gif\" width=\"14\"/>, <img alt=\"20\" height=\"13\" src=\"https://ssl.pstatic.net/imgmovie/2007/img/common/bullet_r_g20.gif\" width=\"14\"/>, <img alt=\"21\" height=\"13\" src=\"https://ssl.pstatic.net/imgmovie/2007/img/common/bullet_r_g21.gif\" width=\"14\"/>, <img alt=\"22\" height=\"13\" src=\"https://ssl.pstatic.net/imgmovie/2007/img/common/bullet_r_g22.gif\" width=\"14\"/>, <img alt=\"23\" height=\"13\" src=\"https://ssl.pstatic.net/imgmovie/2007/img/common/bullet_r_g23.gif\" width=\"14\"/>, <img alt=\"24\" height=\"13\" src=\"https://ssl.pstatic.net/imgmovie/2007/img/common/bullet_r_g24.gif\" width=\"14\"/>, <img alt=\"25\" height=\"13\" src=\"https://ssl.pstatic.net/imgmovie/2007/img/common/bullet_r_g25.gif\" width=\"14\"/>, <img alt=\"26\" height=\"13\" src=\"https://ssl.pstatic.net/imgmovie/2007/img/common/bullet_r_g26.gif\" width=\"14\"/>, <img alt=\"27\" height=\"13\" src=\"https://ssl.pstatic.net/imgmovie/2007/img/common/bullet_r_g27.gif\" width=\"14\"/>, <img alt=\"28\" height=\"13\" src=\"https://ssl.pstatic.net/imgmovie/2007/img/common/bullet_r_g28.gif\" width=\"14\"/>, <img alt=\"29\" height=\"13\" src=\"https://ssl.pstatic.net/imgmovie/2007/img/common/bullet_r_g29.gif\" width=\"14\"/>, <img alt=\"30\" height=\"13\" src=\"https://ssl.pstatic.net/imgmovie/2007/img/common/bullet_r_g30.gif\" width=\"14\"/>, <img alt=\"31\" height=\"13\" src=\"https://ssl.pstatic.net/imgmovie/2007/img/common/bullet_r_g31.gif\" width=\"14\"/>, <img alt=\"32\" height=\"13\" src=\"https://ssl.pstatic.net/imgmovie/2007/img/common/bullet_r_g32.gif\" width=\"14\"/>, <img alt=\"33\" height=\"13\" src=\"https://ssl.pstatic.net/imgmovie/2007/img/common/bullet_r_g33.gif\" width=\"14\"/>, <img alt=\"34\" height=\"13\" src=\"https://ssl.pstatic.net/imgmovie/2007/img/common/bullet_r_g34.gif\" width=\"14\"/>, <img alt=\"35\" height=\"13\" src=\"https://ssl.pstatic.net/imgmovie/2007/img/common/bullet_r_g35.gif\" width=\"14\"/>, <img alt=\"36\" height=\"13\" src=\"https://ssl.pstatic.net/imgmovie/2007/img/common/bullet_r_g36.gif\" width=\"14\"/>, <img alt=\"37\" height=\"13\" src=\"https://ssl.pstatic.net/imgmovie/2007/img/common/bullet_r_g37.gif\" width=\"14\"/>, <img alt=\"38\" height=\"13\" src=\"https://ssl.pstatic.net/imgmovie/2007/img/common/bullet_r_g38.gif\" width=\"14\"/>, <img alt=\"39\" height=\"13\" src=\"https://ssl.pstatic.net/imgmovie/2007/img/common/bullet_r_g39.gif\" width=\"14\"/>, <img alt=\"40\" height=\"13\" src=\"https://ssl.pstatic.net/imgmovie/2007/img/common/bullet_r_g40.gif\" width=\"14\"/>, <img alt=\"41\" height=\"13\" src=\"https://ssl.pstatic.net/imgmovie/2007/img/common/bullet_r_g41.gif\" width=\"14\"/>, <img alt=\"42\" height=\"13\" src=\"https://ssl.pstatic.net/imgmovie/2007/img/common/bullet_r_g42.gif\" width=\"14\"/>, <img alt=\"43\" height=\"13\" src=\"https://ssl.pstatic.net/imgmovie/2007/img/common/bullet_r_g43.gif\" width=\"14\"/>, <img alt=\"44\" height=\"13\" src=\"https://ssl.pstatic.net/imgmovie/2007/img/common/bullet_r_g44.gif\" width=\"14\"/>, <img alt=\"45\" height=\"13\" src=\"https://ssl.pstatic.net/imgmovie/2007/img/common/bullet_r_g45.gif\" width=\"14\"/>, <img alt=\"46\" height=\"13\" src=\"https://ssl.pstatic.net/imgmovie/2007/img/common/bullet_r_g46.gif\" width=\"14\"/>, <img alt=\"47\" height=\"13\" src=\"https://ssl.pstatic.net/imgmovie/2007/img/common/bullet_r_g47.gif\" width=\"14\"/>, <img alt=\"48\" height=\"13\" src=\"https://ssl.pstatic.net/imgmovie/2007/img/common/bullet_r_g48.gif\" width=\"14\"/>, <img alt=\"49\" height=\"13\" src=\"https://ssl.pstatic.net/imgmovie/2007/img/common/bullet_r_g49.gif\" width=\"14\"/>, <img alt=\"50\" height=\"13\" src=\"https://ssl.pstatic.net/imgmovie/2007/img/common/bullet_r_g50.gif\" width=\"14\"/>]\n",
            "50\n"
          ]
        }
      ]
    },
    {
      "cell_type": "code",
      "source": [
        "from typing import Pattern\n",
        "rank = []\n",
        "title = []\n",
        "point = []\n",
        "\n",
        "rank_html = bs_movie.select('td.ac img[alt]')  #select이용해서 가져오기 : css의 selector와 같은방식\n",
        "print(rank_html)\n",
        "print(len(rank_html))\n",
        "\n",
        "pattern = re.compile(\"[0-9]+$\")\n",
        "for element in rank_html:\n",
        "  #element['alt'] : na, up, down\n",
        "\n",
        "  #if(element['alt'] !='na'):\n",
        "    #rank.append(element)\n",
        "\n",
        "  #if(pattern.search(element['alt'])):\n",
        "    #rank.append(element)\n",
        "\n",
        "   if element['alt'] not in ['na','up','down']:\n",
        "    rank.append(element)\n",
        "\n",
        "print(rank)\n",
        "print(len(rank))"
      ],
      "metadata": {
        "colab": {
          "base_uri": "https://localhost:8080/"
        },
        "id": "8VBbZXtUAzun",
        "outputId": "bb6317fa-169a-4b24-99e1-7cb207084b9b"
      },
      "execution_count": 45,
      "outputs": [
        {
          "output_type": "stream",
          "name": "stdout",
          "text": [
            "[<img alt=\"01\" height=\"13\" src=\"https://ssl.pstatic.net/imgmovie/2007/img/common/bullet_r_r01.gif\" width=\"14\"/>, <img alt=\"na\" class=\"arrow\" height=\"10\" src=\"https://ssl.pstatic.net/imgmovie/2007/img/common/icon_na_1.gif\" width=\"7\"/>, <img alt=\"02\" height=\"13\" src=\"https://ssl.pstatic.net/imgmovie/2007/img/common/bullet_r_r02.gif\" width=\"14\"/>, <img alt=\"na\" class=\"arrow\" height=\"10\" src=\"https://ssl.pstatic.net/imgmovie/2007/img/common/icon_na_1.gif\" width=\"7\"/>, <img alt=\"03\" height=\"13\" src=\"https://ssl.pstatic.net/imgmovie/2007/img/common/bullet_r_r03.gif\" width=\"14\"/>, <img alt=\"na\" class=\"arrow\" height=\"10\" src=\"https://ssl.pstatic.net/imgmovie/2007/img/common/icon_na_1.gif\" width=\"7\"/>, <img alt=\"04\" height=\"13\" src=\"https://ssl.pstatic.net/imgmovie/2007/img/common/bullet_r_r04.gif\" width=\"14\"/>, <img alt=\"na\" class=\"arrow\" height=\"10\" src=\"https://ssl.pstatic.net/imgmovie/2007/img/common/icon_na_1.gif\" width=\"7\"/>, <img alt=\"05\" height=\"13\" src=\"https://ssl.pstatic.net/imgmovie/2007/img/common/bullet_r_r05.gif\" width=\"14\"/>, <img alt=\"na\" class=\"arrow\" height=\"10\" src=\"https://ssl.pstatic.net/imgmovie/2007/img/common/icon_na_1.gif\" width=\"7\"/>, <img alt=\"06\" height=\"13\" src=\"https://ssl.pstatic.net/imgmovie/2007/img/common/bullet_r_r06.gif\" width=\"14\"/>, <img alt=\"na\" class=\"arrow\" height=\"10\" src=\"https://ssl.pstatic.net/imgmovie/2007/img/common/icon_na_1.gif\" width=\"7\"/>, <img alt=\"07\" height=\"13\" src=\"https://ssl.pstatic.net/imgmovie/2007/img/common/bullet_r_r07.gif\" width=\"14\"/>, <img alt=\"na\" class=\"arrow\" height=\"10\" src=\"https://ssl.pstatic.net/imgmovie/2007/img/common/icon_na_1.gif\" width=\"7\"/>, <img alt=\"08\" height=\"13\" src=\"https://ssl.pstatic.net/imgmovie/2007/img/common/bullet_r_r08.gif\" width=\"14\"/>, <img alt=\"na\" class=\"arrow\" height=\"10\" src=\"https://ssl.pstatic.net/imgmovie/2007/img/common/icon_na_1.gif\" width=\"7\"/>, <img alt=\"09\" height=\"13\" src=\"https://ssl.pstatic.net/imgmovie/2007/img/common/bullet_r_r09.gif\" width=\"14\"/>, <img alt=\"na\" class=\"arrow\" height=\"10\" src=\"https://ssl.pstatic.net/imgmovie/2007/img/common/icon_na_1.gif\" width=\"7\"/>, <img alt=\"010\" height=\"13\" src=\"https://ssl.pstatic.net/imgmovie/2007/img/common/bullet_r_r10.gif\" width=\"14\"/>, <img alt=\"na\" class=\"arrow\" height=\"10\" src=\"https://ssl.pstatic.net/imgmovie/2007/img/common/icon_na_1.gif\" width=\"7\"/>, <img alt=\"11\" height=\"13\" src=\"https://ssl.pstatic.net/imgmovie/2007/img/common/bullet_r_g11.gif\" width=\"14\"/>, <img alt=\"na\" class=\"arrow\" height=\"10\" src=\"https://ssl.pstatic.net/imgmovie/2007/img/common/icon_na_1.gif\" width=\"7\"/>, <img alt=\"12\" height=\"13\" src=\"https://ssl.pstatic.net/imgmovie/2007/img/common/bullet_r_g12.gif\" width=\"14\"/>, <img alt=\"na\" class=\"arrow\" height=\"10\" src=\"https://ssl.pstatic.net/imgmovie/2007/img/common/icon_na_1.gif\" width=\"7\"/>, <img alt=\"13\" height=\"13\" src=\"https://ssl.pstatic.net/imgmovie/2007/img/common/bullet_r_g13.gif\" width=\"14\"/>, <img alt=\"na\" class=\"arrow\" height=\"10\" src=\"https://ssl.pstatic.net/imgmovie/2007/img/common/icon_na_1.gif\" width=\"7\"/>, <img alt=\"14\" height=\"13\" src=\"https://ssl.pstatic.net/imgmovie/2007/img/common/bullet_r_g14.gif\" width=\"14\"/>, <img alt=\"na\" class=\"arrow\" height=\"10\" src=\"https://ssl.pstatic.net/imgmovie/2007/img/common/icon_na_1.gif\" width=\"7\"/>, <img alt=\"15\" height=\"13\" src=\"https://ssl.pstatic.net/imgmovie/2007/img/common/bullet_r_g15.gif\" width=\"14\"/>, <img alt=\"na\" class=\"arrow\" height=\"10\" src=\"https://ssl.pstatic.net/imgmovie/2007/img/common/icon_na_1.gif\" width=\"7\"/>, <img alt=\"16\" height=\"13\" src=\"https://ssl.pstatic.net/imgmovie/2007/img/common/bullet_r_g16.gif\" width=\"14\"/>, <img alt=\"na\" class=\"arrow\" height=\"10\" src=\"https://ssl.pstatic.net/imgmovie/2007/img/common/icon_na_1.gif\" width=\"7\"/>, <img alt=\"17\" height=\"13\" src=\"https://ssl.pstatic.net/imgmovie/2007/img/common/bullet_r_g17.gif\" width=\"14\"/>, <img alt=\"na\" class=\"arrow\" height=\"10\" src=\"https://ssl.pstatic.net/imgmovie/2007/img/common/icon_na_1.gif\" width=\"7\"/>, <img alt=\"18\" height=\"13\" src=\"https://ssl.pstatic.net/imgmovie/2007/img/common/bullet_r_g18.gif\" width=\"14\"/>, <img alt=\"na\" class=\"arrow\" height=\"10\" src=\"https://ssl.pstatic.net/imgmovie/2007/img/common/icon_na_1.gif\" width=\"7\"/>, <img alt=\"19\" height=\"13\" src=\"https://ssl.pstatic.net/imgmovie/2007/img/common/bullet_r_g19.gif\" width=\"14\"/>, <img alt=\"na\" class=\"arrow\" height=\"10\" src=\"https://ssl.pstatic.net/imgmovie/2007/img/common/icon_na_1.gif\" width=\"7\"/>, <img alt=\"20\" height=\"13\" src=\"https://ssl.pstatic.net/imgmovie/2007/img/common/bullet_r_g20.gif\" width=\"14\"/>, <img alt=\"na\" class=\"arrow\" height=\"10\" src=\"https://ssl.pstatic.net/imgmovie/2007/img/common/icon_na_1.gif\" width=\"7\"/>, <img alt=\"21\" height=\"13\" src=\"https://ssl.pstatic.net/imgmovie/2007/img/common/bullet_r_g21.gif\" width=\"14\"/>, <img alt=\"na\" class=\"arrow\" height=\"10\" src=\"https://ssl.pstatic.net/imgmovie/2007/img/common/icon_na_1.gif\" width=\"7\"/>, <img alt=\"22\" height=\"13\" src=\"https://ssl.pstatic.net/imgmovie/2007/img/common/bullet_r_g22.gif\" width=\"14\"/>, <img alt=\"na\" class=\"arrow\" height=\"10\" src=\"https://ssl.pstatic.net/imgmovie/2007/img/common/icon_na_1.gif\" width=\"7\"/>, <img alt=\"23\" height=\"13\" src=\"https://ssl.pstatic.net/imgmovie/2007/img/common/bullet_r_g23.gif\" width=\"14\"/>, <img alt=\"na\" class=\"arrow\" height=\"10\" src=\"https://ssl.pstatic.net/imgmovie/2007/img/common/icon_na_1.gif\" width=\"7\"/>, <img alt=\"24\" height=\"13\" src=\"https://ssl.pstatic.net/imgmovie/2007/img/common/bullet_r_g24.gif\" width=\"14\"/>, <img alt=\"na\" class=\"arrow\" height=\"10\" src=\"https://ssl.pstatic.net/imgmovie/2007/img/common/icon_na_1.gif\" width=\"7\"/>, <img alt=\"25\" height=\"13\" src=\"https://ssl.pstatic.net/imgmovie/2007/img/common/bullet_r_g25.gif\" width=\"14\"/>, <img alt=\"na\" class=\"arrow\" height=\"10\" src=\"https://ssl.pstatic.net/imgmovie/2007/img/common/icon_na_1.gif\" width=\"7\"/>, <img alt=\"26\" height=\"13\" src=\"https://ssl.pstatic.net/imgmovie/2007/img/common/bullet_r_g26.gif\" width=\"14\"/>, <img alt=\"na\" class=\"arrow\" height=\"10\" src=\"https://ssl.pstatic.net/imgmovie/2007/img/common/icon_na_1.gif\" width=\"7\"/>, <img alt=\"27\" height=\"13\" src=\"https://ssl.pstatic.net/imgmovie/2007/img/common/bullet_r_g27.gif\" width=\"14\"/>, <img alt=\"na\" class=\"arrow\" height=\"10\" src=\"https://ssl.pstatic.net/imgmovie/2007/img/common/icon_na_1.gif\" width=\"7\"/>, <img alt=\"28\" height=\"13\" src=\"https://ssl.pstatic.net/imgmovie/2007/img/common/bullet_r_g28.gif\" width=\"14\"/>, <img alt=\"na\" class=\"arrow\" height=\"10\" src=\"https://ssl.pstatic.net/imgmovie/2007/img/common/icon_na_1.gif\" width=\"7\"/>, <img alt=\"29\" height=\"13\" src=\"https://ssl.pstatic.net/imgmovie/2007/img/common/bullet_r_g29.gif\" width=\"14\"/>, <img alt=\"na\" class=\"arrow\" height=\"10\" src=\"https://ssl.pstatic.net/imgmovie/2007/img/common/icon_na_1.gif\" width=\"7\"/>, <img alt=\"30\" height=\"13\" src=\"https://ssl.pstatic.net/imgmovie/2007/img/common/bullet_r_g30.gif\" width=\"14\"/>, <img alt=\"up\" class=\"arrow\" height=\"10\" src=\"https://ssl.pstatic.net/imgmovie/2007/img/common/icon_up_1.gif\" width=\"7\"/>, <img alt=\"31\" height=\"13\" src=\"https://ssl.pstatic.net/imgmovie/2007/img/common/bullet_r_g31.gif\" width=\"14\"/>, <img alt=\"down\" class=\"arrow\" height=\"10\" src=\"https://ssl.pstatic.net/imgmovie/2007/img/common/icon_down_1.gif\" width=\"7\"/>, <img alt=\"32\" height=\"13\" src=\"https://ssl.pstatic.net/imgmovie/2007/img/common/bullet_r_g32.gif\" width=\"14\"/>, <img alt=\"na\" class=\"arrow\" height=\"10\" src=\"https://ssl.pstatic.net/imgmovie/2007/img/common/icon_na_1.gif\" width=\"7\"/>, <img alt=\"33\" height=\"13\" src=\"https://ssl.pstatic.net/imgmovie/2007/img/common/bullet_r_g33.gif\" width=\"14\"/>, <img alt=\"na\" class=\"arrow\" height=\"10\" src=\"https://ssl.pstatic.net/imgmovie/2007/img/common/icon_na_1.gif\" width=\"7\"/>, <img alt=\"34\" height=\"13\" src=\"https://ssl.pstatic.net/imgmovie/2007/img/common/bullet_r_g34.gif\" width=\"14\"/>, <img alt=\"na\" class=\"arrow\" height=\"10\" src=\"https://ssl.pstatic.net/imgmovie/2007/img/common/icon_na_1.gif\" width=\"7\"/>, <img alt=\"35\" height=\"13\" src=\"https://ssl.pstatic.net/imgmovie/2007/img/common/bullet_r_g35.gif\" width=\"14\"/>, <img alt=\"na\" class=\"arrow\" height=\"10\" src=\"https://ssl.pstatic.net/imgmovie/2007/img/common/icon_na_1.gif\" width=\"7\"/>, <img alt=\"36\" height=\"13\" src=\"https://ssl.pstatic.net/imgmovie/2007/img/common/bullet_r_g36.gif\" width=\"14\"/>, <img alt=\"na\" class=\"arrow\" height=\"10\" src=\"https://ssl.pstatic.net/imgmovie/2007/img/common/icon_na_1.gif\" width=\"7\"/>, <img alt=\"37\" height=\"13\" src=\"https://ssl.pstatic.net/imgmovie/2007/img/common/bullet_r_g37.gif\" width=\"14\"/>, <img alt=\"na\" class=\"arrow\" height=\"10\" src=\"https://ssl.pstatic.net/imgmovie/2007/img/common/icon_na_1.gif\" width=\"7\"/>, <img alt=\"38\" height=\"13\" src=\"https://ssl.pstatic.net/imgmovie/2007/img/common/bullet_r_g38.gif\" width=\"14\"/>, <img alt=\"na\" class=\"arrow\" height=\"10\" src=\"https://ssl.pstatic.net/imgmovie/2007/img/common/icon_na_1.gif\" width=\"7\"/>, <img alt=\"39\" height=\"13\" src=\"https://ssl.pstatic.net/imgmovie/2007/img/common/bullet_r_g39.gif\" width=\"14\"/>, <img alt=\"na\" class=\"arrow\" height=\"10\" src=\"https://ssl.pstatic.net/imgmovie/2007/img/common/icon_na_1.gif\" width=\"7\"/>, <img alt=\"40\" height=\"13\" src=\"https://ssl.pstatic.net/imgmovie/2007/img/common/bullet_r_g40.gif\" width=\"14\"/>, <img alt=\"na\" class=\"arrow\" height=\"10\" src=\"https://ssl.pstatic.net/imgmovie/2007/img/common/icon_na_1.gif\" width=\"7\"/>, <img alt=\"41\" height=\"13\" src=\"https://ssl.pstatic.net/imgmovie/2007/img/common/bullet_r_g41.gif\" width=\"14\"/>, <img alt=\"na\" class=\"arrow\" height=\"10\" src=\"https://ssl.pstatic.net/imgmovie/2007/img/common/icon_na_1.gif\" width=\"7\"/>, <img alt=\"42\" height=\"13\" src=\"https://ssl.pstatic.net/imgmovie/2007/img/common/bullet_r_g42.gif\" width=\"14\"/>, <img alt=\"na\" class=\"arrow\" height=\"10\" src=\"https://ssl.pstatic.net/imgmovie/2007/img/common/icon_na_1.gif\" width=\"7\"/>, <img alt=\"43\" height=\"13\" src=\"https://ssl.pstatic.net/imgmovie/2007/img/common/bullet_r_g43.gif\" width=\"14\"/>, <img alt=\"na\" class=\"arrow\" height=\"10\" src=\"https://ssl.pstatic.net/imgmovie/2007/img/common/icon_na_1.gif\" width=\"7\"/>, <img alt=\"44\" height=\"13\" src=\"https://ssl.pstatic.net/imgmovie/2007/img/common/bullet_r_g44.gif\" width=\"14\"/>, <img alt=\"na\" class=\"arrow\" height=\"10\" src=\"https://ssl.pstatic.net/imgmovie/2007/img/common/icon_na_1.gif\" width=\"7\"/>, <img alt=\"45\" height=\"13\" src=\"https://ssl.pstatic.net/imgmovie/2007/img/common/bullet_r_g45.gif\" width=\"14\"/>, <img alt=\"na\" class=\"arrow\" height=\"10\" src=\"https://ssl.pstatic.net/imgmovie/2007/img/common/icon_na_1.gif\" width=\"7\"/>, <img alt=\"46\" height=\"13\" src=\"https://ssl.pstatic.net/imgmovie/2007/img/common/bullet_r_g46.gif\" width=\"14\"/>, <img alt=\"na\" class=\"arrow\" height=\"10\" src=\"https://ssl.pstatic.net/imgmovie/2007/img/common/icon_na_1.gif\" width=\"7\"/>, <img alt=\"47\" height=\"13\" src=\"https://ssl.pstatic.net/imgmovie/2007/img/common/bullet_r_g47.gif\" width=\"14\"/>, <img alt=\"na\" class=\"arrow\" height=\"10\" src=\"https://ssl.pstatic.net/imgmovie/2007/img/common/icon_na_1.gif\" width=\"7\"/>, <img alt=\"48\" height=\"13\" src=\"https://ssl.pstatic.net/imgmovie/2007/img/common/bullet_r_g48.gif\" width=\"14\"/>, <img alt=\"na\" class=\"arrow\" height=\"10\" src=\"https://ssl.pstatic.net/imgmovie/2007/img/common/icon_na_1.gif\" width=\"7\"/>, <img alt=\"49\" height=\"13\" src=\"https://ssl.pstatic.net/imgmovie/2007/img/common/bullet_r_g49.gif\" width=\"14\"/>, <img alt=\"na\" class=\"arrow\" height=\"10\" src=\"https://ssl.pstatic.net/imgmovie/2007/img/common/icon_na_1.gif\" width=\"7\"/>, <img alt=\"50\" height=\"13\" src=\"https://ssl.pstatic.net/imgmovie/2007/img/common/bullet_r_g50.gif\" width=\"14\"/>, <img alt=\"na\" class=\"arrow\" height=\"10\" src=\"https://ssl.pstatic.net/imgmovie/2007/img/common/icon_na_1.gif\" width=\"7\"/>]\n",
            "100\n",
            "[<img alt=\"01\" height=\"13\" src=\"https://ssl.pstatic.net/imgmovie/2007/img/common/bullet_r_r01.gif\" width=\"14\"/>, <img alt=\"02\" height=\"13\" src=\"https://ssl.pstatic.net/imgmovie/2007/img/common/bullet_r_r02.gif\" width=\"14\"/>, <img alt=\"03\" height=\"13\" src=\"https://ssl.pstatic.net/imgmovie/2007/img/common/bullet_r_r03.gif\" width=\"14\"/>, <img alt=\"04\" height=\"13\" src=\"https://ssl.pstatic.net/imgmovie/2007/img/common/bullet_r_r04.gif\" width=\"14\"/>, <img alt=\"05\" height=\"13\" src=\"https://ssl.pstatic.net/imgmovie/2007/img/common/bullet_r_r05.gif\" width=\"14\"/>, <img alt=\"06\" height=\"13\" src=\"https://ssl.pstatic.net/imgmovie/2007/img/common/bullet_r_r06.gif\" width=\"14\"/>, <img alt=\"07\" height=\"13\" src=\"https://ssl.pstatic.net/imgmovie/2007/img/common/bullet_r_r07.gif\" width=\"14\"/>, <img alt=\"08\" height=\"13\" src=\"https://ssl.pstatic.net/imgmovie/2007/img/common/bullet_r_r08.gif\" width=\"14\"/>, <img alt=\"09\" height=\"13\" src=\"https://ssl.pstatic.net/imgmovie/2007/img/common/bullet_r_r09.gif\" width=\"14\"/>, <img alt=\"010\" height=\"13\" src=\"https://ssl.pstatic.net/imgmovie/2007/img/common/bullet_r_r10.gif\" width=\"14\"/>, <img alt=\"11\" height=\"13\" src=\"https://ssl.pstatic.net/imgmovie/2007/img/common/bullet_r_g11.gif\" width=\"14\"/>, <img alt=\"12\" height=\"13\" src=\"https://ssl.pstatic.net/imgmovie/2007/img/common/bullet_r_g12.gif\" width=\"14\"/>, <img alt=\"13\" height=\"13\" src=\"https://ssl.pstatic.net/imgmovie/2007/img/common/bullet_r_g13.gif\" width=\"14\"/>, <img alt=\"14\" height=\"13\" src=\"https://ssl.pstatic.net/imgmovie/2007/img/common/bullet_r_g14.gif\" width=\"14\"/>, <img alt=\"15\" height=\"13\" src=\"https://ssl.pstatic.net/imgmovie/2007/img/common/bullet_r_g15.gif\" width=\"14\"/>, <img alt=\"16\" height=\"13\" src=\"https://ssl.pstatic.net/imgmovie/2007/img/common/bullet_r_g16.gif\" width=\"14\"/>, <img alt=\"17\" height=\"13\" src=\"https://ssl.pstatic.net/imgmovie/2007/img/common/bullet_r_g17.gif\" width=\"14\"/>, <img alt=\"18\" height=\"13\" src=\"https://ssl.pstatic.net/imgmovie/2007/img/common/bullet_r_g18.gif\" width=\"14\"/>, <img alt=\"19\" height=\"13\" src=\"https://ssl.pstatic.net/imgmovie/2007/img/common/bullet_r_g19.gif\" width=\"14\"/>, <img alt=\"20\" height=\"13\" src=\"https://ssl.pstatic.net/imgmovie/2007/img/common/bullet_r_g20.gif\" width=\"14\"/>, <img alt=\"21\" height=\"13\" src=\"https://ssl.pstatic.net/imgmovie/2007/img/common/bullet_r_g21.gif\" width=\"14\"/>, <img alt=\"22\" height=\"13\" src=\"https://ssl.pstatic.net/imgmovie/2007/img/common/bullet_r_g22.gif\" width=\"14\"/>, <img alt=\"23\" height=\"13\" src=\"https://ssl.pstatic.net/imgmovie/2007/img/common/bullet_r_g23.gif\" width=\"14\"/>, <img alt=\"24\" height=\"13\" src=\"https://ssl.pstatic.net/imgmovie/2007/img/common/bullet_r_g24.gif\" width=\"14\"/>, <img alt=\"25\" height=\"13\" src=\"https://ssl.pstatic.net/imgmovie/2007/img/common/bullet_r_g25.gif\" width=\"14\"/>, <img alt=\"26\" height=\"13\" src=\"https://ssl.pstatic.net/imgmovie/2007/img/common/bullet_r_g26.gif\" width=\"14\"/>, <img alt=\"27\" height=\"13\" src=\"https://ssl.pstatic.net/imgmovie/2007/img/common/bullet_r_g27.gif\" width=\"14\"/>, <img alt=\"28\" height=\"13\" src=\"https://ssl.pstatic.net/imgmovie/2007/img/common/bullet_r_g28.gif\" width=\"14\"/>, <img alt=\"29\" height=\"13\" src=\"https://ssl.pstatic.net/imgmovie/2007/img/common/bullet_r_g29.gif\" width=\"14\"/>, <img alt=\"30\" height=\"13\" src=\"https://ssl.pstatic.net/imgmovie/2007/img/common/bullet_r_g30.gif\" width=\"14\"/>, <img alt=\"31\" height=\"13\" src=\"https://ssl.pstatic.net/imgmovie/2007/img/common/bullet_r_g31.gif\" width=\"14\"/>, <img alt=\"32\" height=\"13\" src=\"https://ssl.pstatic.net/imgmovie/2007/img/common/bullet_r_g32.gif\" width=\"14\"/>, <img alt=\"33\" height=\"13\" src=\"https://ssl.pstatic.net/imgmovie/2007/img/common/bullet_r_g33.gif\" width=\"14\"/>, <img alt=\"34\" height=\"13\" src=\"https://ssl.pstatic.net/imgmovie/2007/img/common/bullet_r_g34.gif\" width=\"14\"/>, <img alt=\"35\" height=\"13\" src=\"https://ssl.pstatic.net/imgmovie/2007/img/common/bullet_r_g35.gif\" width=\"14\"/>, <img alt=\"36\" height=\"13\" src=\"https://ssl.pstatic.net/imgmovie/2007/img/common/bullet_r_g36.gif\" width=\"14\"/>, <img alt=\"37\" height=\"13\" src=\"https://ssl.pstatic.net/imgmovie/2007/img/common/bullet_r_g37.gif\" width=\"14\"/>, <img alt=\"38\" height=\"13\" src=\"https://ssl.pstatic.net/imgmovie/2007/img/common/bullet_r_g38.gif\" width=\"14\"/>, <img alt=\"39\" height=\"13\" src=\"https://ssl.pstatic.net/imgmovie/2007/img/common/bullet_r_g39.gif\" width=\"14\"/>, <img alt=\"40\" height=\"13\" src=\"https://ssl.pstatic.net/imgmovie/2007/img/common/bullet_r_g40.gif\" width=\"14\"/>, <img alt=\"41\" height=\"13\" src=\"https://ssl.pstatic.net/imgmovie/2007/img/common/bullet_r_g41.gif\" width=\"14\"/>, <img alt=\"42\" height=\"13\" src=\"https://ssl.pstatic.net/imgmovie/2007/img/common/bullet_r_g42.gif\" width=\"14\"/>, <img alt=\"43\" height=\"13\" src=\"https://ssl.pstatic.net/imgmovie/2007/img/common/bullet_r_g43.gif\" width=\"14\"/>, <img alt=\"44\" height=\"13\" src=\"https://ssl.pstatic.net/imgmovie/2007/img/common/bullet_r_g44.gif\" width=\"14\"/>, <img alt=\"45\" height=\"13\" src=\"https://ssl.pstatic.net/imgmovie/2007/img/common/bullet_r_g45.gif\" width=\"14\"/>, <img alt=\"46\" height=\"13\" src=\"https://ssl.pstatic.net/imgmovie/2007/img/common/bullet_r_g46.gif\" width=\"14\"/>, <img alt=\"47\" height=\"13\" src=\"https://ssl.pstatic.net/imgmovie/2007/img/common/bullet_r_g47.gif\" width=\"14\"/>, <img alt=\"48\" height=\"13\" src=\"https://ssl.pstatic.net/imgmovie/2007/img/common/bullet_r_g48.gif\" width=\"14\"/>, <img alt=\"49\" height=\"13\" src=\"https://ssl.pstatic.net/imgmovie/2007/img/common/bullet_r_g49.gif\" width=\"14\"/>, <img alt=\"50\" height=\"13\" src=\"https://ssl.pstatic.net/imgmovie/2007/img/common/bullet_r_g50.gif\" width=\"14\"/>]\n",
            "50\n"
          ]
        }
      ]
    },
    {
      "cell_type": "code",
      "source": [
        "title_html = bs_movie.select('td.title')\n",
        "#print(title_html)\n",
        "print(len(title_html))"
      ],
      "metadata": {
        "colab": {
          "base_uri": "https://localhost:8080/"
        },
        "id": "XUyM1T6ME8SD",
        "outputId": "741b8fa2-6022-4a20-8be2-a88790e2ef23"
      },
      "execution_count": 46,
      "outputs": [
        {
          "output_type": "stream",
          "name": "stdout",
          "text": [
            "50\n"
          ]
        }
      ]
    },
    {
      "cell_type": "code",
      "source": [
        "point_html = bs_movie.select('td.point')\n",
        "print(point_html)\n",
        "print(len(point_html))"
      ],
      "metadata": {
        "colab": {
          "base_uri": "https://localhost:8080/"
        },
        "id": "vif_8Uk0G8tH",
        "outputId": "26b084df-3fc3-4a4a-9da0-8ce85b0e9a03"
      },
      "execution_count": 47,
      "outputs": [
        {
          "output_type": "stream",
          "name": "stdout",
          "text": [
            "[<td class=\"point\">9.76</td>, <td class=\"point\">9.65</td>, <td class=\"point\">9.60</td>, <td class=\"point\">9.60</td>, <td class=\"point\">9.60</td>, <td class=\"point\">9.60</td>, <td class=\"point\">9.59</td>, <td class=\"point\">9.53</td>, <td class=\"point\">9.53</td>, <td class=\"point\">9.52</td>, <td class=\"point\">9.51</td>, <td class=\"point\">9.50</td>, <td class=\"point\">9.49</td>, <td class=\"point\">9.48</td>, <td class=\"point\">9.48</td>, <td class=\"point\">9.47</td>, <td class=\"point\">9.46</td>, <td class=\"point\">9.46</td>, <td class=\"point\">9.46</td>, <td class=\"point\">9.45</td>, <td class=\"point\">9.45</td>, <td class=\"point\">9.44</td>, <td class=\"point\">9.44</td>, <td class=\"point\">9.44</td>, <td class=\"point\">9.43</td>, <td class=\"point\">9.43</td>, <td class=\"point\">9.42</td>, <td class=\"point\">9.42</td>, <td class=\"point\">9.42</td>, <td class=\"point\">9.42</td>, <td class=\"point\">9.42</td>, <td class=\"point\">9.42</td>, <td class=\"point\">9.41</td>, <td class=\"point\">9.41</td>, <td class=\"point\">9.41</td>, <td class=\"point\">9.40</td>, <td class=\"point\">9.40</td>, <td class=\"point\">9.40</td>, <td class=\"point\">9.40</td>, <td class=\"point\">9.40</td>, <td class=\"point\">9.40</td>, <td class=\"point\">9.39</td>, <td class=\"point\">9.39</td>, <td class=\"point\">9.39</td>, <td class=\"point\">9.39</td>, <td class=\"point\">9.39</td>, <td class=\"point\">9.39</td>, <td class=\"point\">9.38</td>, <td class=\"point\">9.38</td>, <td class=\"point\">9.38</td>]\n",
            "50\n"
          ]
        }
      ]
    },
    {
      "cell_type": "code",
      "source": [
        "for x,y,z in zip(rank, title_html, point_html):\n",
        "  print(x['alt'],re.sub(\"\\n\",\"\",y.text),z.text)    #re.sub(\"\\n\",\"\",y.text) 줄바꿈 없애기"
      ],
      "metadata": {
        "colab": {
          "base_uri": "https://localhost:8080/"
        },
        "id": "TmmwMQScHek8",
        "outputId": "2b9dbcf4-518e-42bf-c427-15ee0f98c461"
      },
      "execution_count": 48,
      "outputs": [
        {
          "output_type": "stream",
          "name": "stdout",
          "text": [
            "01 탑건: 매버릭 9.76\n",
            "02 클라우스 9.65\n",
            "03 그린 북 9.60\n",
            "04 가버나움 9.60\n",
            "05 인생은 뷰티풀: 비타돌체 9.60\n",
            "06 밥정 9.60\n",
            "07 할머니의 먼 집 9.59\n",
            "08 베일리 어게인 9.53\n",
            "09 원더 9.53\n",
            "010 아일라 9.52\n",
            "11 디지몬 어드벤처 라스트 에볼루션 : 인연 9.51\n",
            "12 극장판 바이올렛 에버가든 9.50\n",
            "13 당갈 9.49\n",
            "14 아바타 리마스터링 9.48\n",
            "15 포드 V 페라리 9.48\n",
            "16 먼 훗날 우리 9.47\n",
            "17 더 퍼스트 슬램덩크 9.46\n",
            "18 쇼생크 탈출 9.46\n",
            "19 주전장 9.46\n",
            "20 터미네이터 2:오리지널 9.45\n",
            "21 덕구 9.45\n",
            "22 클래식 9.44\n",
            "23 라이언 일병 구하기 9.44\n",
            "24 나 홀로 집에 9.44\n",
            "25 타이타닉 9.43\n",
            "26 그대, 고맙소 : 김호중 생애 첫 팬미팅 무비 9.43\n",
            "27 월-E 9.42\n",
            "28 빽 투 더 퓨쳐 9.42\n",
            "29 사운드 오브 뮤직 9.42\n",
            "30 장민호 드라마 최종회 9.42\n",
            "31 포레스트 검프 9.42\n",
            "32 보헤미안 랩소디 9.42\n",
            "33 글래디에이터 9.41\n",
            "34 위대한 쇼맨 9.41\n",
            "35 인생은 아름다워 9.41\n",
            "36 살인의 추억 9.40\n",
            "37 매트릭스 9.40\n",
            "38 헬프 9.40\n",
            "39 센과 치히로의 행방불명 9.40\n",
            "40 캐스트 어웨이 9.40\n",
            "41 태극권 9.40\n",
            "42 토이 스토리 3 9.39\n",
            "43 가나의 혼인잔치: 언약 9.39\n",
            "44 명탐정 코난: 할로윈의 신부 9.39\n",
            "45 쉰들러 리스트 9.39\n",
            "46 헌터 킬러 9.39\n",
            "47 반지의 제왕: 왕의 귀환 9.39\n",
            "48 죽은 시인의 사회 9.38\n",
            "49 히든 피겨스 9.38\n",
            "50 어벤져스: 엔드게임 9.38\n"
          ]
        }
      ]
    },
    {
      "cell_type": "markdown",
      "source": [
        "[참고]"
      ],
      "metadata": {
        "id": "o8Kqs2cHQ7KO"
      }
    },
    {
      "cell_type": "code",
      "source": [
        "if '02' not in ['up', 'down', 'na']:\n",
        "  print('02')"
      ],
      "metadata": {
        "colab": {
          "base_uri": "https://localhost:8080/"
        },
        "id": "SeuWHgNMIMt8",
        "outputId": "26012996-49a6-4a35-903d-35dd455e6f18"
      },
      "execution_count": 33,
      "outputs": [
        {
          "output_type": "stream",
          "name": "stdout",
          "text": [
            "02\n"
          ]
        }
      ]
    },
    {
      "cell_type": "code",
      "source": [],
      "metadata": {
        "id": "L8EZVyzgPFnl"
      },
      "execution_count": null,
      "outputs": []
    }
  ]
}