{
  "nbformat": 4,
  "nbformat_minor": 0,
  "metadata": {
    "colab": {
      "provenance": [],
      "authorship_tag": "ABX9TyMOs5RMLz//embqIs5kt4Vk",
      "include_colab_link": true
    },
    "kernelspec": {
      "name": "python3",
      "display_name": "Python 3"
    },
    "language_info": {
      "name": "python"
    }
  },
  "cells": [
    {
      "cell_type": "markdown",
      "metadata": {
        "id": "view-in-github",
        "colab_type": "text"
      },
      "source": [
        "<a href=\"https://colab.research.google.com/github/min-hee-Lee/python_workdemo/blob/master/p002_markdown.ipynb\" target=\"_parent\"><img src=\"https://colab.research.google.com/assets/colab-badge.svg\" alt=\"Open In Colab\"/></a>"
      ]
    },
    {
      "cell_type": "markdown",
      "source": [
        "- 코랩은 웹브라우저에서 텍스트와 프로그램을 작성할 수 있는 온라인 텍스트 에디터이다.\n",
        "- 클라우드 기반의 주피터 노트북 개발환경이다.(주피터는 오프라인 에디터)\n",
        "- 코랩은 텍스트를 입력할 수 있는 텍스트 셀과 코드를 입력할 수 있는 코드셀을 제공한다.\n",
        "\n",
        "### [실행 방법]\n",
        "- Ctrl + Enter : 실행하고 커서가 현재 위치에 그대로 있다.\n",
        "- Alt + Enter : 실행하고 다음 셀을 생성한다.\n",
        "- Shift + Enter : 실행하고 이동할 셀이 있으면 이동만하고 이동할 셀이 없으면 새로 셀을 생성한다.\n",
        "\n",
        "### [단축키]\n",
        "- Ctrl + M A : 코드 셀 위 삽입\n",
        "- Ctrl + M B : 코드 셀 아래 삽입\n",
        "- Ctrl + M D : 셀 삭제\n",
        "- Ctrl + M M : 마크다운(텍스트)셀로 변경\n",
        "- Ctrl + M Y : 코드셀로 변경\n",
        "- Ctrl + M Z : 실행 취소\n",
        "- Ctrl + M H : 단축키 모음 보기\n",
        "\n",
        "*MAC을 사용하는 경우 Ctrl대신 Command사용\n",
        "\n",
        "###[ 입력 및 편집 이동]\n",
        "- 입력 -> 편집 이동 : ESC\n",
        "- 편집 -> 입력 이동 : Enter\n",
        "\n",
        "### [제목]\n",
        "제목은 #1 ~ #6의 형태로 표현할 수 있다.\n",
        "# 제목1\n",
        "## 제목2\n",
        "### 제목3\n",
        "#### 제목4\n",
        "##### 제목5\n",
        "###### 제목6\n",
        "\n",
        "### [구분선]\n",
        "-를 3개 이상 쓰면 가로선을 그어 구분영역을 표시할 수 있다.\n",
        "\n",
        "---\n",
        "\n",
        "### [줄바꿈]\n",
        "맨 끝에 공백문자 2개 이상(스페이스)을 사용한다.  \n",
        "red  \n",
        "green  \n",
        "blue  \n",
        "\n",
        "### [목록]\n",
        "순서가 있는 목록\n",
        "1. 리스트1\n",
        "2. 리스트2\n",
        "3. 리스트3\n",
        "\n",
        "순서가 없는 목록\n",
        "- 리스트1\n",
        "- 리스트2\n",
        "- 리스트3\n",
        "  - 들여쓰기 리스트1\n",
        "  - 들여쓰기 리스트2\n"
      ],
      "metadata": {
        "id": "-gY6FoodXr-J"
      }
    },
    {
      "cell_type": "markdown",
      "source": [
        "### [웹주소]\n",
        "웹주소를 입력하면 자동으로 하이퍼링크가 생긴다.  \n",
        "http://www.python.org"
      ],
      "metadata": {
        "id": "Pfd5ZL_CXVa9"
      }
    },
    {
      "cell_type": "markdown",
      "source": [
        "### [강조]\n",
        "***굵게***테스트  \n",
        "___기울기___테스트"
      ],
      "metadata": {
        "id": "HhxMm-Dzd3On"
      }
    },
    {
      "cell_type": "markdown",
      "source": [
        "### [코드 블록]\n",
        "```python\n",
        "import python\n",
        "def x(self):\n",
        "  return self.x\n",
        "  ```\n",
        "\n",
        "```java\n",
        "public class Test{\n",
        "  public static void main(String[] args) {\n",
        "    System.out.println(\"Hello Java\");\n",
        "  }\n",
        "}\n",
        "```"
      ],
      "metadata": {
        "id": "uK1kfHLAh5xV"
      }
    },
    {
      "cell_type": "markdown",
      "source": [
        "### [링크]\n",
        "[파이썬](http://www.python.org)\n",
        "\n",
        "!를 붙이면 이미지를 출력할 수 있다.  \n",
        "![python](https://www.python.org/static/img/python-logo.png)"
      ],
      "metadata": {
        "id": "eAR42nS3itRU"
      }
    },
    {
      "cell_type": "markdown",
      "source": [
        "### [이미지 추가]\n",
        "https://velog.io/@countifs/%EC%BD%94%EB%9E%A9Colab-%EC%A3%BC%ED%94%BC%ED%84%B0Jupyter-%EB%85%B8%ED%8A%B8%EB%B6%81%EC%97%90-%EA%B5%AC%EA%B8%80-%EB%93%9C%EB%9D%BC%EC%9D%B4%EB%B8%8C-%EA%B3%B5%EC%9C%A0-%EC%9D%B4%EB%AF%B8%EC%A7%80-%EB%A7%81%ED%81%AC-%EC%97%85%EB%A1%9C%EB%93%9C"
      ],
      "metadata": {
        "id": "HtGB7uWUmytn"
      }
    },
    {
      "cell_type": "code",
      "source": [
        "!pwd"
      ],
      "metadata": {
        "colab": {
          "base_uri": "https://localhost:8080/"
        },
        "id": "q41jGwtSjnU6",
        "outputId": "fc39faa7-839e-41c8-f75a-cb5a06e2e18b"
      },
      "execution_count": null,
      "outputs": [
        {
          "output_type": "stream",
          "name": "stdout",
          "text": [
            "/content\n"
          ]
        }
      ]
    },
    {
      "cell_type": "code",
      "source": [
        "# 구글 드라이버 연동\n",
        "from google.colab import drive\n",
        "drive.mount('/content/drive')"
      ],
      "metadata": {
        "colab": {
          "base_uri": "https://localhost:8080/"
        },
        "id": "SSVG09zdkuXs",
        "outputId": "738c64e6-4eb6-4518-9a01-caf81e4ba541"
      },
      "execution_count": null,
      "outputs": [
        {
          "output_type": "stream",
          "name": "stdout",
          "text": [
            "Drive already mounted at /content/drive; to attempt to forcibly remount, call drive.mount(\"/content/drive\", force_remount=True).\n"
          ]
        }
      ]
    },
    {
      "cell_type": "code",
      "source": [
        "# 경로 변경\n",
        "%cd /content/drive/MyDrive/python"
      ],
      "metadata": {
        "colab": {
          "base_uri": "https://localhost:8080/"
        },
        "id": "kjOCUr9ck3YK",
        "outputId": "98bb40c6-c06a-412d-bc48-722b53722fed"
      },
      "execution_count": null,
      "outputs": [
        {
          "output_type": "stream",
          "name": "stdout",
          "text": [
            "/content/drive/MyDrive/python\n"
          ]
        }
      ]
    },
    {
      "cell_type": "code",
      "source": [
        "url=\"https://drive.google.com/file/d/1UcmyPJ0p0UVQXyPm1KVp35khIRkSRdVr/view?usp=share_link\"\n",
        "path='https://drive.google.com/uc?export=download&id='+url.split('/')[-2]\n",
        "size=\"width=\\\"\\\" \"+\"height =\\\"\\\" \"\n",
        "tag=\"<img src='\"+path+\"' \"+size+\"/><br>\"\n",
        "print(\" ▶ Path : \", path)\n",
        "print('\\n',\"▶ Tag : \", tag)"
      ],
      "metadata": {
        "colab": {
          "base_uri": "https://localhost:8080/"
        },
        "id": "4s8-I2JMk4v2",
        "outputId": "f3f2573b-9459-444a-82a4-c58d8e728d60"
      },
      "execution_count": null,
      "outputs": [
        {
          "output_type": "stream",
          "name": "stdout",
          "text": [
            " ▶ Path :  https://drive.google.com/uc?export=download&id=1UcmyPJ0p0UVQXyPm1KVp35khIRkSRdVr\n",
            "\n",
            " ▶ Tag :  <img src='https://drive.google.com/uc?export=download&id=1UcmyPJ0p0UVQXyPm1KVp35khIRkSRdVr' width=\"\" height =\"\" /><br>\n"
          ]
        }
      ]
    },
    {
      "cell_type": "markdown",
      "source": [
        "<img src='https://drive.google.com/uc?export=download&id=1UcmyPJ0p0UVQXyPm1KVp35khIRkSRdVr' width=\"\" height =\"\" />"
      ],
      "metadata": {
        "id": "iuEzE9xtmPz_"
      }
    }
  ]
}