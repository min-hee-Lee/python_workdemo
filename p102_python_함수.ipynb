{
  "nbformat": 4,
  "nbformat_minor": 0,
  "metadata": {
    "colab": {
      "provenance": [],
      "authorship_tag": "ABX9TyMp9N5wQpTfDMEuasCQUiJ3",
      "include_colab_link": true
    },
    "kernelspec": {
      "name": "python3",
      "display_name": "Python 3"
    },
    "language_info": {
      "name": "python"
    }
  },
  "cells": [
    {
      "cell_type": "markdown",
      "metadata": {
        "id": "view-in-github",
        "colab_type": "text"
      },
      "source": [
        "<a href=\"https://colab.research.google.com/github/min-hee-Lee/python_workdemo/blob/master/p102_python_%ED%95%A8%EC%88%98.ipynb\" target=\"_parent\"><img src=\"https://colab.research.google.com/assets/colab-badge.svg\" alt=\"Open In Colab\"/></a>"
      ]
    },
    {
      "cell_type": "markdown",
      "source": [
        "def(매개변수):  \n",
        "  수행할 문장\n"
      ],
      "metadata": {
        "id": "_kr0_VkIOvrG"
      }
    },
    {
      "cell_type": "code",
      "execution_count": 1,
      "metadata": {
        "id": "3P3I7AUxOUCZ"
      },
      "outputs": [],
      "source": [
        "# 함수를 정의할 때 수행할 문장을 구현하지 않으면 에러가 발생한다.\n",
        "def proc():\n",
        "  pass # pass는 구현을 안할 때 사용한다.(뼈대만 잡을때 수행할 문장을 입력하지 않더라도 error가 나지 않음)"
      ]
    },
    {
      "cell_type": "code",
      "source": [
        "proc()"
      ],
      "metadata": {
        "id": "unuiy4szZwug"
      },
      "execution_count": 2,
      "outputs": []
    },
    {
      "cell_type": "code",
      "source": [
        "print(display())"
      ],
      "metadata": {
        "colab": {
          "base_uri": "https://localhost:8080/"
        },
        "id": "BEUFc8L_aJt2",
        "outputId": "0cf9107e-fab9-4f37-e950-f5f4f9fc854b"
      },
      "execution_count": 3,
      "outputs": [
        {
          "output_type": "stream",
          "name": "stdout",
          "text": [
            "None\n"
          ]
        }
      ]
    },
    {
      "cell_type": "code",
      "source": [
        "a = display()\n",
        "print(a)  #리턴값이 없을 때 출력하면 None"
      ],
      "metadata": {
        "colab": {
          "base_uri": "https://localhost:8080/"
        },
        "id": "Ik7EnB2XaLyz",
        "outputId": "da06a0f1-2adb-431d-a067-b87ee3e9fb4d"
      },
      "execution_count": 5,
      "outputs": [
        {
          "output_type": "stream",
          "name": "stdout",
          "text": [
            "None\n"
          ]
        }
      ]
    },
    {
      "cell_type": "code",
      "source": [
        "k = 5\n",
        "k"
      ],
      "metadata": {
        "colab": {
          "base_uri": "https://localhost:8080/"
        },
        "id": "cTBs5GibaRma",
        "outputId": "86ad6466-ac36-41a0-836c-f473844dc1b3"
      },
      "execution_count": 6,
      "outputs": [
        {
          "output_type": "execute_result",
          "data": {
            "text/plain": [
              "5"
            ]
          },
          "metadata": {},
          "execution_count": 6
        }
      ]
    },
    {
      "cell_type": "markdown",
      "source": [
        "### callable\n",
        "- 이름 뒤에 괄호()를 붙이는 것을 call(호출)이라고 한다.\n",
        "- 이름 뒤에 괄호()를 붙일 수 있는 것을 callable이라고 한다.\n",
        "- 함수는 사용할 때 이름 뒤에 괄호를 붙인다.\n",
        "- python에서 callable인 것은 3가지 유형이 있다.\n",
        "  - (1) function\n",
        "  - (2) class(init가 정의됐을 경우)\n",
        "  - (3) object(call이 정의됐을 경우)"
      ],
      "metadata": {
        "id": "XHo7qRoBauW9"
      }
    },
    {
      "cell_type": "code",
      "source": [
        "#TypeError: 'int' object is not callable (변수에는 ()를 붙일 수 없다)\n",
        "#k()"
      ],
      "metadata": {
        "colab": {
          "base_uri": "https://localhost:8080/",
          "height": 176
        },
        "id": "X220cXHrab5-",
        "outputId": "0a6f34d1-c99d-4279-ac4a-8d570bd0201e"
      },
      "execution_count": 7,
      "outputs": [
        {
          "output_type": "error",
          "ename": "TypeError",
          "evalue": "ignored",
          "traceback": [
            "\u001b[0;31m---------------------------------------------------------------------------\u001b[0m",
            "\u001b[0;31mTypeError\u001b[0m                                 Traceback (most recent call last)",
            "\u001b[0;32m<ipython-input-7-6300244b5355>\u001b[0m in \u001b[0;36m<module>\u001b[0;34m\u001b[0m\n\u001b[0;32m----> 1\u001b[0;31m \u001b[0mk\u001b[0m\u001b[0;34m(\u001b[0m\u001b[0;34m)\u001b[0m\u001b[0;34m\u001b[0m\u001b[0;34m\u001b[0m\u001b[0m\n\u001b[0m",
            "\u001b[0;31mTypeError\u001b[0m: 'int' object is not callable"
          ]
        }
      ]
    },
    {
      "cell_type": "code",
      "source": [
        "list()"
      ],
      "metadata": {
        "colab": {
          "base_uri": "https://localhost:8080/"
        },
        "id": "vcpxsTfPadwx",
        "outputId": "d3245070-ec28-402d-f51c-d1c34926a5bf"
      },
      "execution_count": 8,
      "outputs": [
        {
          "output_type": "execute_result",
          "data": {
            "text/plain": [
              "[]"
            ]
          },
          "metadata": {},
          "execution_count": 8
        }
      ]
    },
    {
      "cell_type": "code",
      "source": [
        "# python에서는 기본객체 또는 함수에 값을 할당 할 수 있다.\n",
        "#하지만 원래 기능은 잃어버린다.\n",
        "list = 3\n",
        "list"
      ],
      "metadata": {
        "colab": {
          "base_uri": "https://localhost:8080/"
        },
        "id": "s8D2nzxFbyK6",
        "outputId": "2ec75362-fbdb-4fa1-9398-6432062279be"
      },
      "execution_count": 9,
      "outputs": [
        {
          "output_type": "execute_result",
          "data": {
            "text/plain": [
              "3"
            ]
          },
          "metadata": {},
          "execution_count": 9
        }
      ]
    },
    {
      "cell_type": "code",
      "source": [
        "#list() 원래 기능을 잃어버림"
      ],
      "metadata": {
        "colab": {
          "base_uri": "https://localhost:8080/",
          "height": 176
        },
        "id": "KoCuCHZDbz_f",
        "outputId": "a65e495f-f85f-431b-c352-e7bbf4d64a83"
      },
      "execution_count": 10,
      "outputs": [
        {
          "output_type": "error",
          "ename": "TypeError",
          "evalue": "ignored",
          "traceback": [
            "\u001b[0;31m---------------------------------------------------------------------------\u001b[0m",
            "\u001b[0;31mTypeError\u001b[0m                                 Traceback (most recent call last)",
            "\u001b[0;32m<ipython-input-10-74d7ab80852e>\u001b[0m in \u001b[0;36m<module>\u001b[0;34m\u001b[0m\n\u001b[0;32m----> 1\u001b[0;31m \u001b[0mlist\u001b[0m\u001b[0;34m(\u001b[0m\u001b[0;34m)\u001b[0m\u001b[0;34m\u001b[0m\u001b[0;34m\u001b[0m\u001b[0m\n\u001b[0m",
            "\u001b[0;31mTypeError\u001b[0m: 'int' object is not callable"
          ]
        }
      ]
    },
    {
      "cell_type": "code",
      "source": [
        "# 원래의 기능으로 원상복귀하기 위해 del로 삭제를 시켜준다.\n",
        "del list\n",
        "list()"
      ],
      "metadata": {
        "colab": {
          "base_uri": "https://localhost:8080/"
        },
        "id": "VBXM1mwOb1g6",
        "outputId": "5a6d231f-3637-448a-adc9-efba8525fae0"
      },
      "execution_count": 11,
      "outputs": [
        {
          "output_type": "execute_result",
          "data": {
            "text/plain": [
              "[]"
            ]
          },
          "metadata": {},
          "execution_count": 11
        }
      ]
    },
    {
      "cell_type": "code",
      "source": [
        "import keyword\n",
        "print(keyword.kwlist)"
      ],
      "metadata": {
        "colab": {
          "base_uri": "https://localhost:8080/"
        },
        "id": "m6LSgHg3cNQ7",
        "outputId": "52eb6b43-3bf3-4c88-9440-613c1061ccda"
      },
      "execution_count": 13,
      "outputs": [
        {
          "output_type": "stream",
          "name": "stdout",
          "text": [
            "['False', 'None', 'True', 'and', 'as', 'assert', 'async', 'await', 'break', 'class', 'continue', 'def', 'del', 'elif', 'else', 'except', 'finally', 'for', 'from', 'global', 'if', 'import', 'in', 'is', 'lambda', 'nonlocal', 'not', 'or', 'pass', 'raise', 'return', 'try', 'while', 'with', 'yield']\n"
          ]
        }
      ]
    },
    {
      "cell_type": "code",
      "source": [
        "# keyword는 새로운 용도로 사용할 수 없다\n",
        "#try = 3"
      ],
      "metadata": {
        "colab": {
          "base_uri": "https://localhost:8080/",
          "height": 138
        },
        "id": "rJOnF2jDcZ-J",
        "outputId": "70bb9e2e-baad-4eb7-edfb-23f446d628be"
      },
      "execution_count": 14,
      "outputs": [
        {
          "output_type": "error",
          "ename": "SyntaxError",
          "evalue": "ignored",
          "traceback": [
            "\u001b[0;36m  File \u001b[0;32m\"<ipython-input-14-f5d48f5ebed9>\"\u001b[0;36m, line \u001b[0;32m1\u001b[0m\n\u001b[0;31m    try = 3\u001b[0m\n\u001b[0m        ^\u001b[0m\n\u001b[0;31mSyntaxError\u001b[0m\u001b[0;31m:\u001b[0m invalid syntax\n"
          ]
        }
      ]
    },
    {
      "cell_type": "markdown",
      "source": [
        "### function"
      ],
      "metadata": {
        "id": "Aj18nI7gc4Ij"
      }
    },
    {
      "cell_type": "code",
      "source": [
        "#함수정의\n",
        "def prn():\n",
        "  return 1"
      ],
      "metadata": {
        "id": "Y3QL7Xguclcx"
      },
      "execution_count": 15,
      "outputs": []
    },
    {
      "cell_type": "code",
      "source": [
        "#함수실행\n",
        "prn() "
      ],
      "metadata": {
        "colab": {
          "base_uri": "https://localhost:8080/"
        },
        "id": "jWgFdqzCc7J7",
        "outputId": "9e1cb1dd-aec0-46ef-c65c-5d1a74c61e80"
      },
      "execution_count": 16,
      "outputs": [
        {
          "output_type": "execute_result",
          "data": {
            "text/plain": [
              "1"
            ]
          },
          "metadata": {},
          "execution_count": 16
        }
      ]
    },
    {
      "cell_type": "code",
      "source": [
        "#()괄호를 붙이지 않으면 함수식이다.(함수식을 값으로 사용할 수 있기 때문에)\n",
        "prn "
      ],
      "metadata": {
        "colab": {
          "base_uri": "https://localhost:8080/"
        },
        "id": "zUQyoU_sc9A0",
        "outputId": "7a3adc90-be96-4893-8bec-5cb8cfa43308"
      },
      "execution_count": 17,
      "outputs": [
        {
          "output_type": "execute_result",
          "data": {
            "text/plain": [
              "<function __main__.prn()>"
            ]
          },
          "metadata": {},
          "execution_count": 17
        }
      ]
    },
    {
      "cell_type": "code",
      "source": [
        "# 내장함수 callable()은 객체가 ()를 붙여 사용할 수 있는지는 True/False로 출력한다. \n",
        "callable(prn) #callable기능을 사용 할 수 있는지"
      ],
      "metadata": {
        "colab": {
          "base_uri": "https://localhost:8080/"
        },
        "id": "dgaFNyHidGTP",
        "outputId": "dc9fb33c-8340-45fa-a4da-ca356051f673"
      },
      "execution_count": 18,
      "outputs": [
        {
          "output_type": "execute_result",
          "data": {
            "text/plain": [
              "True"
            ]
          },
          "metadata": {},
          "execution_count": 18
        }
      ]
    },
    {
      "cell_type": "code",
      "source": [
        "a = 3\n",
        "callable(a)"
      ],
      "metadata": {
        "colab": {
          "base_uri": "https://localhost:8080/"
        },
        "id": "bRxI-aT3dRhR",
        "outputId": "2442cef7-6f22-4068-e309-76c473f47f1d"
      },
      "execution_count": 19,
      "outputs": [
        {
          "output_type": "execute_result",
          "data": {
            "text/plain": [
              "False"
            ]
          },
          "metadata": {},
          "execution_count": 19
        }
      ]
    },
    {
      "cell_type": "markdown",
      "source": [
        "### 매개변수(parameter) 인자(argument)\n",
        "1. positional\n",
        "2. keyword\n",
        "3. positional & keyword\n",
        "4. positional only\n",
        "5. keyword only\n",
        "6. 가변 positional\n",
        "7. 가변 keyword"
      ],
      "metadata": {
        "id": "NyCw08kSdwid"
      }
    },
    {
      "cell_type": "markdown",
      "source": [
        "###1.positional\n",
        "함수 호출 : 선언할 때 파라미터의 순서와 호출할 때 인자의 입력순서를 그대로 매칭한다."
      ],
      "metadata": {
        "id": "Uh8ttxYpeHK-"
      }
    },
    {
      "cell_type": "code",
      "source": [
        "def proc(a,b):\n",
        "  return a,b"
      ],
      "metadata": {
        "id": "rFy2fulEdiGv"
      },
      "execution_count": 20,
      "outputs": []
    },
    {
      "cell_type": "code",
      "source": [
        "proc(2,4)"
      ],
      "metadata": {
        "colab": {
          "base_uri": "https://localhost:8080/"
        },
        "id": "YYuE7b3QeUgq",
        "outputId": "d2da87d9-7c41-4c20-ab3c-26b143c59c91"
      },
      "execution_count": 21,
      "outputs": [
        {
          "output_type": "execute_result",
          "data": {
            "text/plain": [
              "(2, 4)"
            ]
          },
          "metadata": {},
          "execution_count": 21
        }
      ]
    },
    {
      "cell_type": "code",
      "source": [],
      "metadata": {
        "id": "FGDTqYMWeW3X"
      },
      "execution_count": null,
      "outputs": []
    },
    {
      "cell_type": "markdown",
      "source": [
        "### 2.keyword\n",
        "keyword방식을 이용하면 순서와 관계없이 파라미터 이름에 따라 값이 대입된다."
      ],
      "metadata": {
        "id": "rphNnL7oeY2r"
      }
    },
    {
      "cell_type": "code",
      "source": [
        "proc(b=4, a=2)"
      ],
      "metadata": {
        "colab": {
          "base_uri": "https://localhost:8080/"
        },
        "id": "Krh2nGpOehZE",
        "outputId": "df411158-8703-47fe-9a6d-98b7819e4c3b"
      },
      "execution_count": 22,
      "outputs": [
        {
          "output_type": "execute_result",
          "data": {
            "text/plain": [
              "(2, 4)"
            ]
          },
          "metadata": {},
          "execution_count": 22
        }
      ]
    },
    {
      "cell_type": "markdown",
      "source": [
        "### 3.keyword & positional 혼합"
      ],
      "metadata": {
        "id": "ycP5OF1Qezoe"
      }
    },
    {
      "cell_type": "code",
      "source": [
        "def proc(a,b,c):\n",
        "  return a,b,c"
      ],
      "metadata": {
        "id": "5qgowsl0euQc"
      },
      "execution_count": 23,
      "outputs": []
    },
    {
      "cell_type": "code",
      "source": [
        "proc(2,c=5, b=3)"
      ],
      "metadata": {
        "colab": {
          "base_uri": "https://localhost:8080/"
        },
        "id": "JAympmcde8MX",
        "outputId": "c51ad6b0-9b57-4725-d8d1-659a0f553924"
      },
      "execution_count": 24,
      "outputs": [
        {
          "output_type": "execute_result",
          "data": {
            "text/plain": [
              "(2, 3, 5)"
            ]
          },
          "metadata": {},
          "execution_count": 24
        }
      ]
    },
    {
      "cell_type": "code",
      "source": [
        "# 한 번 keyword 방식을 사용하면 그 다음부터는 keyword 방법만 사용할 수 있다.\n",
        "#proc(b=4,a=2,5)  #(한 번 키워드를 사용하면 뒤에 계속 키워드를 사용해야 한다.)"
      ],
      "metadata": {
        "colab": {
          "base_uri": "https://localhost:8080/",
          "height": 138
        },
        "id": "FiC48KFRfAF7",
        "outputId": "768524e3-2385-42de-cf85-bdace0cbab32"
      },
      "execution_count": 25,
      "outputs": [
        {
          "output_type": "error",
          "ename": "SyntaxError",
          "evalue": "ignored",
          "traceback": [
            "\u001b[0;36m  File \u001b[0;32m\"<ipython-input-25-eb355958df94>\"\u001b[0;36m, line \u001b[0;32m1\u001b[0m\n\u001b[0;31m    proc(b=4,a=2,5)\u001b[0m\n\u001b[0m                 ^\u001b[0m\n\u001b[0;31mSyntaxError\u001b[0m\u001b[0;31m:\u001b[0m positional argument follows keyword argument\n"
          ]
        }
      ]
    },
    {
      "cell_type": "code",
      "source": [
        "#python 버전확인\n",
        "import sys\n",
        "sys.version"
      ],
      "metadata": {
        "colab": {
          "base_uri": "https://localhost:8080/",
          "height": 36
        },
        "id": "gUiaJYpRfErk",
        "outputId": "457a9fa6-7115-4a65-8137-c92a6fd62bc1"
      },
      "execution_count": 26,
      "outputs": [
        {
          "output_type": "execute_result",
          "data": {
            "text/plain": [
              "'3.8.10 (default, Nov 14 2022, 12:59:47) \\n[GCC 9.4.0]'"
            ],
            "application/vnd.google.colaboratory.intrinsic+json": {
              "type": "string"
            }
          },
          "metadata": {},
          "execution_count": 26
        }
      ]
    },
    {
      "cell_type": "markdown",
      "source": [
        "### 4.positional only\n",
        "- positional only는 함수를 사용할 때 positional 방식으로만 인자를 쓸 수 있도록 강제하는 방법이다.\n",
        "- /의 앞에 오는 인자들은 positional 방식으로 입력할 수 있지만, keyword방식으로 입력할 수 없다.\n",
        "- positional only함수를 선언하는 것은 python3.8부터 지원한다. 이전 버전에서는 사전 정의된 positional only함수는 있지만, 사용자가 만들 수는 없었다."
      ],
      "metadata": {
        "id": "d5IRJAtXfz2F"
      }
    },
    {
      "cell_type": "code",
      "source": [
        "def proc(a,b,c,/):\n",
        "  return a,b,c"
      ],
      "metadata": {
        "id": "__kWmKtifhWr"
      },
      "execution_count": 27,
      "outputs": []
    },
    {
      "cell_type": "code",
      "source": [
        "proc(4,5,6)"
      ],
      "metadata": {
        "colab": {
          "base_uri": "https://localhost:8080/"
        },
        "id": "h7Sy3jyvgggc",
        "outputId": "82451d4d-0580-4e6d-e749-4fcd31e768f2"
      },
      "execution_count": 28,
      "outputs": [
        {
          "output_type": "execute_result",
          "data": {
            "text/plain": [
              "(4, 5, 6)"
            ]
          },
          "metadata": {},
          "execution_count": 28
        }
      ]
    },
    {
      "cell_type": "code",
      "source": [
        "#proc(4,c=6,b=5)"
      ],
      "metadata": {
        "colab": {
          "base_uri": "https://localhost:8080/",
          "height": 176
        },
        "id": "qI0twvjpgh8R",
        "outputId": "0520f07f-7ef2-4576-de4f-14cd35937d15"
      },
      "execution_count": 29,
      "outputs": [
        {
          "output_type": "error",
          "ename": "TypeError",
          "evalue": "ignored",
          "traceback": [
            "\u001b[0;31m---------------------------------------------------------------------------\u001b[0m",
            "\u001b[0;31mTypeError\u001b[0m                                 Traceback (most recent call last)",
            "\u001b[0;32m<ipython-input-29-e382c0c479c1>\u001b[0m in \u001b[0;36m<module>\u001b[0;34m\u001b[0m\n\u001b[0;32m----> 1\u001b[0;31m \u001b[0mproc\u001b[0m\u001b[0;34m(\u001b[0m\u001b[0;36m4\u001b[0m\u001b[0;34m,\u001b[0m\u001b[0mc\u001b[0m\u001b[0;34m=\u001b[0m\u001b[0;36m6\u001b[0m\u001b[0;34m,\u001b[0m\u001b[0mb\u001b[0m\u001b[0;34m=\u001b[0m\u001b[0;36m5\u001b[0m\u001b[0;34m)\u001b[0m\u001b[0;34m\u001b[0m\u001b[0;34m\u001b[0m\u001b[0m\n\u001b[0m",
            "\u001b[0;31mTypeError\u001b[0m: proc() got some positional-only arguments passed as keyword arguments: 'b, c'"
          ]
        }
      ]
    },
    {
      "cell_type": "markdown",
      "source": [
        "### 5. keyword only\n",
        "- keyword only방식은 인자를 keyword방식으로만 입력되도록 강제하는 방법이다.\n",
        "- '*'이후로는 키워드 방식만 가능하다."
      ],
      "metadata": {
        "id": "4lSD9nPGg_ET"
      }
    },
    {
      "cell_type": "code",
      "source": [
        "def proc(*,a,b,c):\n",
        "  return a,b,c\n",
        "  "
      ],
      "metadata": {
        "id": "y_pLbvO_gmFz"
      },
      "execution_count": 30,
      "outputs": []
    },
    {
      "cell_type": "code",
      "source": [
        "proc(a=3, c=5, b=4) #반드시 이름을 줘서 호출해야함"
      ],
      "metadata": {
        "colab": {
          "base_uri": "https://localhost:8080/"
        },
        "id": "lvbpYHYbhPtV",
        "outputId": "eb54c13e-b546-4b1a-e2dc-7fd1842b7f83"
      },
      "execution_count": 31,
      "outputs": [
        {
          "output_type": "execute_result",
          "data": {
            "text/plain": [
              "(3, 4, 5)"
            ]
          },
          "metadata": {},
          "execution_count": 31
        }
      ]
    },
    {
      "cell_type": "code",
      "source": [
        "#proc(3,4,5)"
      ],
      "metadata": {
        "colab": {
          "base_uri": "https://localhost:8080/",
          "height": 176
        },
        "id": "zvPO5ahEhWYf",
        "outputId": "f7c8a49f-5775-439f-c659-ff3b512b5f65"
      },
      "execution_count": 32,
      "outputs": [
        {
          "output_type": "error",
          "ename": "TypeError",
          "evalue": "ignored",
          "traceback": [
            "\u001b[0;31m---------------------------------------------------------------------------\u001b[0m",
            "\u001b[0;31mTypeError\u001b[0m                                 Traceback (most recent call last)",
            "\u001b[0;32m<ipython-input-32-12a0d2acce26>\u001b[0m in \u001b[0;36m<module>\u001b[0;34m\u001b[0m\n\u001b[0;32m----> 1\u001b[0;31m \u001b[0mproc\u001b[0m\u001b[0;34m(\u001b[0m\u001b[0;36m3\u001b[0m\u001b[0;34m,\u001b[0m\u001b[0;36m4\u001b[0m\u001b[0;34m,\u001b[0m\u001b[0;36m5\u001b[0m\u001b[0;34m)\u001b[0m\u001b[0;34m\u001b[0m\u001b[0;34m\u001b[0m\u001b[0m\n\u001b[0m",
            "\u001b[0;31mTypeError\u001b[0m: proc() takes 0 positional arguments but 3 were given"
          ]
        }
      ]
    },
    {
      "cell_type": "code",
      "source": [],
      "metadata": {
        "id": "0c1kedBEhae4"
      },
      "execution_count": null,
      "outputs": []
    },
    {
      "cell_type": "markdown",
      "source": [
        "####6. 가변 positional\n",
        "- 가변 positional은 파라미터 이름에 '*'를 붙인다.\n",
        "- positional 방식으로 입려되는 인자는 인자의 개수에 상관없이 모두 받아온다."
      ],
      "metadata": {
        "id": "hFp0L0Aghlpc"
      }
    },
    {
      "cell_type": "code",
      "source": [
        "def proc(*a):  #아규먼트 개수에 상관 없음\n",
        "  return a  #tuple로 리턴"
      ],
      "metadata": {
        "id": "959bn7bYhy1n"
      },
      "execution_count": 33,
      "outputs": []
    },
    {
      "cell_type": "code",
      "source": [
        "proc()"
      ],
      "metadata": {
        "colab": {
          "base_uri": "https://localhost:8080/"
        },
        "id": "BxeaDqx0h5ql",
        "outputId": "41385d95-2cd4-4936-fad4-5ea85aa0eddf"
      },
      "execution_count": 34,
      "outputs": [
        {
          "output_type": "execute_result",
          "data": {
            "text/plain": [
              "()"
            ]
          },
          "metadata": {},
          "execution_count": 34
        }
      ]
    },
    {
      "cell_type": "code",
      "source": [
        "proc(1)"
      ],
      "metadata": {
        "colab": {
          "base_uri": "https://localhost:8080/"
        },
        "id": "veh8C_Vnh6r5",
        "outputId": "6a9f2861-c488-4ea7-e06a-82a2205876ab"
      },
      "execution_count": 35,
      "outputs": [
        {
          "output_type": "execute_result",
          "data": {
            "text/plain": [
              "(1,)"
            ]
          },
          "metadata": {},
          "execution_count": 35
        }
      ]
    },
    {
      "cell_type": "code",
      "source": [
        "proc(1,2)"
      ],
      "metadata": {
        "colab": {
          "base_uri": "https://localhost:8080/"
        },
        "id": "QFTu1RtWh8Gc",
        "outputId": "a1e0abf6-609f-4b38-f085-f1a3408aff9d"
      },
      "execution_count": 36,
      "outputs": [
        {
          "output_type": "execute_result",
          "data": {
            "text/plain": [
              "(1, 2)"
            ]
          },
          "metadata": {},
          "execution_count": 36
        }
      ]
    },
    {
      "cell_type": "markdown",
      "source": [
        "####7. 가변keyword\n",
        "- 가변 keyword는 파라미터 이름에 '**'를 붙인다.\n",
        "- keyword방식으로 입력되는 인자의 개수에 상관없이 모두 받아온다"
      ],
      "metadata": {
        "id": "zg3rOx1_iOvQ"
      }
    },
    {
      "cell_type": "code",
      "source": [
        "def proc(**a):\n",
        "  print(type(a))\n",
        "  return a"
      ],
      "metadata": {
        "id": "OnQQKMzMiFQx"
      },
      "execution_count": 37,
      "outputs": []
    },
    {
      "cell_type": "code",
      "source": [
        "# argument로 넘겨준 이름을 dict의 키로 사용한다.\n",
        "proc(x=2, y=3)"
      ],
      "metadata": {
        "colab": {
          "base_uri": "https://localhost:8080/"
        },
        "id": "TRfSgt-Mif-3",
        "outputId": "d7421636-c95f-4368-9eff-4863a77c0207"
      },
      "execution_count": 38,
      "outputs": [
        {
          "output_type": "stream",
          "name": "stdout",
          "text": [
            "<class 'dict'>\n"
          ]
        },
        {
          "output_type": "execute_result",
          "data": {
            "text/plain": [
              "{'x': 2, 'y': 3}"
            ]
          },
          "metadata": {},
          "execution_count": 38
        }
      ]
    },
    {
      "cell_type": "code",
      "source": [
        "proc(x=3, y=1, z=[1,2,3])"
      ],
      "metadata": {
        "colab": {
          "base_uri": "https://localhost:8080/"
        },
        "id": "7ry5s-F3ik7F",
        "outputId": "b123c46b-595a-439c-d82f-d0d98fa1a897"
      },
      "execution_count": 39,
      "outputs": [
        {
          "output_type": "stream",
          "name": "stdout",
          "text": [
            "<class 'dict'>\n"
          ]
        },
        {
          "output_type": "execute_result",
          "data": {
            "text/plain": [
              "{'x': 3, 'y': 1, 'z': [1, 2, 3]}"
            ]
          },
          "metadata": {},
          "execution_count": 39
        }
      ]
    },
    {
      "cell_type": "markdown",
      "source": [
        "#### 가변 keyword / 가변 positional은 한 번만 사용할 수 있다."
      ],
      "metadata": {
        "id": "zgxH8Rj4i9j3"
      }
    },
    {
      "cell_type": "code",
      "source": [
        "#def proc(*a, *b):\n",
        "#  rerurn a,b"
      ],
      "metadata": {
        "colab": {
          "base_uri": "https://localhost:8080/",
          "height": 138
        },
        "id": "CPgepWACi0xV",
        "outputId": "09cc7796-8987-4b08-e892-1126aff13598"
      },
      "execution_count": 40,
      "outputs": [
        {
          "output_type": "error",
          "ename": "SyntaxError",
          "evalue": "ignored",
          "traceback": [
            "\u001b[0;36m  File \u001b[0;32m\"<ipython-input-40-b59871dc0175>\"\u001b[0;36m, line \u001b[0;32m1\u001b[0m\n\u001b[0;31m    def proc(*a, *b):\u001b[0m\n\u001b[0m                 ^\u001b[0m\n\u001b[0;31mSyntaxError\u001b[0m\u001b[0;31m:\u001b[0m invalid syntax\n"
          ]
        }
      ]
    },
    {
      "cell_type": "code",
      "source": [
        "#def proc(**a, **b):\n",
        "#  rerurn a,b"
      ],
      "metadata": {
        "colab": {
          "base_uri": "https://localhost:8080/",
          "height": 138
        },
        "id": "f3E7wPR4jKp_",
        "outputId": "a6d96474-f88c-4ce0-cd91-7e78b8b7572e"
      },
      "execution_count": 41,
      "outputs": [
        {
          "output_type": "error",
          "ename": "SyntaxError",
          "evalue": "ignored",
          "traceback": [
            "\u001b[0;36m  File \u001b[0;32m\"<ipython-input-41-ac94930b11b2>\"\u001b[0;36m, line \u001b[0;32m1\u001b[0m\n\u001b[0;31m    def proc(**a, **b):\u001b[0m\n\u001b[0m                  ^\u001b[0m\n\u001b[0;31mSyntaxError\u001b[0m\u001b[0;31m:\u001b[0m invalid syntax\n"
          ]
        }
      ]
    },
    {
      "cell_type": "markdown",
      "source": [
        "### return\n",
        "- 함수의 결과값을 넘겨주는 목적으로 사용한다.\n",
        "- 함수를 강제적으로 종료할 때 사용한다.\n",
        "- 함수에서 return을 2번 이상 사용할 수 없다.\n",
        "- 함수의 결과를 2개 이상으로 받고 싶다면 unpacking해서 받는다."
      ],
      "metadata": {
        "id": "SQOxvtzHmnXJ"
      }
    },
    {
      "cell_type": "code",
      "source": [
        "def proc(*a):\n",
        "  total=0\n",
        "  avg=0\n",
        "  for i in a:\n",
        "    total += i\n",
        "\n",
        "  avg = total/len(a)\n",
        "  return(total, avg)"
      ],
      "metadata": {
        "id": "d2JJCTZMjQXs"
      },
      "execution_count": 45,
      "outputs": []
    },
    {
      "cell_type": "code",
      "source": [
        "proc(1,2,3,4)"
      ],
      "metadata": {
        "colab": {
          "base_uri": "https://localhost:8080/"
        },
        "id": "lO3WCk0rnPU6",
        "outputId": "24536213-3cec-41d4-ea13-ac800d35cacd"
      },
      "execution_count": 46,
      "outputs": [
        {
          "output_type": "execute_result",
          "data": {
            "text/plain": [
              "(10, 2.5)"
            ]
          },
          "metadata": {},
          "execution_count": 46
        }
      ]
    },
    {
      "cell_type": "code",
      "source": [
        "#함수의 결과를 2개로 받고 싶을 때 unpacking을 사용하면 된다.\n",
        "total, avg = proc(1,2,3,4)\n",
        "print(total)\n",
        "print(avg)"
      ],
      "metadata": {
        "colab": {
          "base_uri": "https://localhost:8080/"
        },
        "id": "erSv2pFrnRU2",
        "outputId": "3fdaf432-c0db-4f8e-84fe-1d38d65dea2e"
      },
      "execution_count": 47,
      "outputs": [
        {
          "output_type": "stream",
          "name": "stdout",
          "text": [
            "10\n",
            "2.5\n"
          ]
        }
      ]
    },
    {
      "cell_type": "code",
      "source": [
        "def proc(**a):\n",
        "  total=0\n",
        "  avg=0\n",
        "  for i in a:\n",
        "    print(i)"
      ],
      "metadata": {
        "id": "NFq033fVnfyC"
      },
      "execution_count": 54,
      "outputs": []
    },
    {
      "cell_type": "code",
      "source": [
        "proc(i=3,j=4,k=5)"
      ],
      "metadata": {
        "colab": {
          "base_uri": "https://localhost:8080/"
        },
        "id": "9238Z3VFoXR3",
        "outputId": "d9801609-07d1-4b8b-fea9-1bb45536386a"
      },
      "execution_count": 55,
      "outputs": [
        {
          "output_type": "stream",
          "name": "stdout",
          "text": [
            "i\n",
            "j\n",
            "k\n"
          ]
        }
      ]
    },
    {
      "cell_type": "code",
      "source": [
        "print(dir(dict))"
      ],
      "metadata": {
        "id": "dAIl_lk8pQaV",
        "colab": {
          "base_uri": "https://localhost:8080/"
        },
        "outputId": "bae1eded-de9f-4c49-b29f-0b9082c0e582"
      },
      "execution_count": 58,
      "outputs": [
        {
          "output_type": "stream",
          "name": "stdout",
          "text": [
            "['__class__', '__contains__', '__delattr__', '__delitem__', '__dir__', '__doc__', '__eq__', '__format__', '__ge__', '__getattribute__', '__getitem__', '__gt__', '__hash__', '__init__', '__init_subclass__', '__iter__', '__le__', '__len__', '__lt__', '__ne__', '__new__', '__reduce__', '__reduce_ex__', '__repr__', '__reversed__', '__setattr__', '__setitem__', '__sizeof__', '__str__', '__subclasshook__', 'clear', 'copy', 'fromkeys', 'get', 'items', 'keys', 'pop', 'popitem', 'setdefault', 'update', 'values']\n"
          ]
        }
      ]
    },
    {
      "cell_type": "code",
      "source": [
        "def proc(**a):\n",
        "  total=0\n",
        "  avg=0\n",
        "  for i in a.items():\n",
        "    print(i)"
      ],
      "metadata": {
        "id": "4QCPai49oekw"
      },
      "execution_count": 56,
      "outputs": []
    },
    {
      "cell_type": "code",
      "source": [
        "proc(i=3,j=4,k=5)"
      ],
      "metadata": {
        "colab": {
          "base_uri": "https://localhost:8080/"
        },
        "id": "8fwGcOPvpLuk",
        "outputId": "3948861f-3e5a-4381-b839-730fdc3f5d3f"
      },
      "execution_count": 57,
      "outputs": [
        {
          "output_type": "stream",
          "name": "stdout",
          "text": [
            "('i', 3)\n",
            "('j', 4)\n",
            "('k', 5)\n"
          ]
        }
      ]
    },
    {
      "cell_type": "code",
      "source": [
        "def proc(**a):\n",
        "  total=0\n",
        "  avg=0\n",
        "  for i in a.keys():\n",
        "    print(i)"
      ],
      "metadata": {
        "id": "xW-_MQ6VpMzu"
      },
      "execution_count": 59,
      "outputs": []
    },
    {
      "cell_type": "code",
      "source": [
        "proc(i=3,j=4,k=5)"
      ],
      "metadata": {
        "colab": {
          "base_uri": "https://localhost:8080/"
        },
        "id": "V7SlVRs2pYzV",
        "outputId": "e473369b-848e-4920-cfd4-939fa40d204d"
      },
      "execution_count": 60,
      "outputs": [
        {
          "output_type": "stream",
          "name": "stdout",
          "text": [
            "i\n",
            "j\n",
            "k\n"
          ]
        }
      ]
    },
    {
      "cell_type": "code",
      "source": [
        "def proc(**a):\n",
        "  total=0\n",
        "  avg=0\n",
        "  for i in a.values():\n",
        "    print(i)"
      ],
      "metadata": {
        "id": "iyt0NzFkpabq"
      },
      "execution_count": 61,
      "outputs": []
    },
    {
      "cell_type": "code",
      "source": [
        "proc(i=3,j=4,k=5)"
      ],
      "metadata": {
        "colab": {
          "base_uri": "https://localhost:8080/"
        },
        "id": "vBBh1hUSpgsN",
        "outputId": "cdbabc02-b91b-44f1-b21d-d08698541f96"
      },
      "execution_count": 62,
      "outputs": [
        {
          "output_type": "stream",
          "name": "stdout",
          "text": [
            "3\n",
            "4\n",
            "5\n"
          ]
        }
      ]
    },
    {
      "cell_type": "code",
      "source": [
        "def proc(**a):\n",
        "  total=0\n",
        "  avg=0\n",
        "  for _, v in a.items():\n",
        "    total += v\n",
        "\n",
        "  avg = total / len(a)\n",
        "  return (total, avg)"
      ],
      "metadata": {
        "id": "egPF9rLSpheU"
      },
      "execution_count": 68,
      "outputs": []
    },
    {
      "cell_type": "code",
      "source": [
        "proc(i=3,j=4,k=5)"
      ],
      "metadata": {
        "colab": {
          "base_uri": "https://localhost:8080/"
        },
        "id": "2328a5ktp2Lt",
        "outputId": "94b0d950-c380-4eb1-cde5-17b5636ad263"
      },
      "execution_count": 69,
      "outputs": [
        {
          "output_type": "execute_result",
          "data": {
            "text/plain": [
              "(12, 4.0)"
            ]
          },
          "metadata": {},
          "execution_count": 69
        }
      ]
    },
    {
      "cell_type": "markdown",
      "source": [
        "### overloading\n",
        "- 함수의 이름은 같은데, 매개변수 개수 또는 매개변수의 타입이 달랑 한다.\n",
        "- python은 overloading을 지원하지 않는다."
      ],
      "metadata": {
        "id": "X_0WNMkRqSO6"
      }
    },
    {
      "cell_type": "code",
      "source": [
        "def add(a):\n",
        "  return a+1\n"
      ],
      "metadata": {
        "id": "ry_qNhC5qFIl"
      },
      "execution_count": 70,
      "outputs": []
    },
    {
      "cell_type": "code",
      "source": [
        "add(6)"
      ],
      "metadata": {
        "colab": {
          "base_uri": "https://localhost:8080/"
        },
        "id": "NM45SqNEqnT9",
        "outputId": "7d50358a-c49b-4d86-cf8b-6b3f8199d414"
      },
      "execution_count": 71,
      "outputs": [
        {
          "output_type": "execute_result",
          "data": {
            "text/plain": [
              "7"
            ]
          },
          "metadata": {},
          "execution_count": 71
        }
      ]
    },
    {
      "cell_type": "code",
      "source": [
        "def add(a,b):\n",
        "  return a+b"
      ],
      "metadata": {
        "id": "wOcYlkiaqohx"
      },
      "execution_count": 72,
      "outputs": []
    },
    {
      "cell_type": "code",
      "source": [
        "add(2,3)"
      ],
      "metadata": {
        "colab": {
          "base_uri": "https://localhost:8080/"
        },
        "id": "CGZrvEe4qsyE",
        "outputId": "d4f382bb-8625-4c77-b73c-3ff5460012cc"
      },
      "execution_count": 73,
      "outputs": [
        {
          "output_type": "execute_result",
          "data": {
            "text/plain": [
              "5"
            ]
          },
          "metadata": {},
          "execution_count": 73
        }
      ]
    },
    {
      "cell_type": "code",
      "source": [
        "#add(6)"
      ],
      "metadata": {
        "colab": {
          "base_uri": "https://localhost:8080/",
          "height": 176
        },
        "id": "ZqFIaZIEquWE",
        "outputId": "a6b57a0d-688a-468c-9f4a-19ed9b2bce82"
      },
      "execution_count": 74,
      "outputs": [
        {
          "output_type": "error",
          "ename": "TypeError",
          "evalue": "ignored",
          "traceback": [
            "\u001b[0;31m---------------------------------------------------------------------------\u001b[0m",
            "\u001b[0;31mTypeError\u001b[0m                                 Traceback (most recent call last)",
            "\u001b[0;32m<ipython-input-74-f5800f3844ff>\u001b[0m in \u001b[0;36m<module>\u001b[0;34m\u001b[0m\n\u001b[0;32m----> 1\u001b[0;31m \u001b[0madd\u001b[0m\u001b[0;34m(\u001b[0m\u001b[0;36m6\u001b[0m\u001b[0;34m)\u001b[0m\u001b[0;34m\u001b[0m\u001b[0;34m\u001b[0m\u001b[0m\n\u001b[0m",
            "\u001b[0;31mTypeError\u001b[0m: add() missing 1 required positional argument: 'b'"
          ]
        }
      ]
    },
    {
      "cell_type": "code",
      "source": [
        "type(proc)"
      ],
      "metadata": {
        "colab": {
          "base_uri": "https://localhost:8080/"
        },
        "id": "osfjDLwrqx8X",
        "outputId": "a2b0760a-380f-453b-efc9-b708dc09f25f"
      },
      "execution_count": 75,
      "outputs": [
        {
          "output_type": "execute_result",
          "data": {
            "text/plain": [
              "function"
            ]
          },
          "metadata": {},
          "execution_count": 75
        }
      ]
    },
    {
      "cell_type": "code",
      "source": [
        "print(dir(proc))"
      ],
      "metadata": {
        "colab": {
          "base_uri": "https://localhost:8080/"
        },
        "id": "I5JLiI2BrDxy",
        "outputId": "2367168a-a559-4e92-cdf4-73e4d74da1d2"
      },
      "execution_count": 77,
      "outputs": [
        {
          "output_type": "stream",
          "name": "stdout",
          "text": [
            "['__annotations__', '__call__', '__class__', '__closure__', '__code__', '__defaults__', '__delattr__', '__dict__', '__dir__', '__doc__', '__eq__', '__format__', '__ge__', '__get__', '__getattribute__', '__globals__', '__gt__', '__hash__', '__init__', '__init_subclass__', '__kwdefaults__', '__le__', '__lt__', '__module__', '__name__', '__ne__', '__new__', '__qualname__', '__reduce__', '__reduce_ex__', '__repr__', '__setattr__', '__sizeof__', '__str__', '__subclasshook__']\n"
          ]
        }
      ]
    },
    {
      "cell_type": "code",
      "source": [
        "# __name__  은 함수 이름을 알려준다.\n",
        "proc.__name__"
      ],
      "metadata": {
        "colab": {
          "base_uri": "https://localhost:8080/",
          "height": 36
        },
        "id": "-92-hJwirHJb",
        "outputId": "6475c758-659b-41ae-dfb2-40012d104954"
      },
      "execution_count": 78,
      "outputs": [
        {
          "output_type": "execute_result",
          "data": {
            "text/plain": [
              "'proc'"
            ],
            "application/vnd.google.colaboratory.intrinsic+json": {
              "type": "string"
            }
          },
          "metadata": {},
          "execution_count": 78
        }
      ]
    },
    {
      "cell_type": "code",
      "source": [
        "display = proc"
      ],
      "metadata": {
        "id": "rt8B-VkprVUJ"
      },
      "execution_count": 79,
      "outputs": []
    },
    {
      "cell_type": "code",
      "source": [
        "# 함수를 다른 함수에 재할당해도 __name__은 원래 이름을 알려준다.\n",
        "display.__name__"
      ],
      "metadata": {
        "colab": {
          "base_uri": "https://localhost:8080/",
          "height": 36
        },
        "id": "7e0Cfplwrnm5",
        "outputId": "ab20538c-8f73-4ac5-f2f1-bec043768eb6"
      },
      "execution_count": 80,
      "outputs": [
        {
          "output_type": "execute_result",
          "data": {
            "text/plain": [
              "'proc'"
            ],
            "application/vnd.google.colaboratory.intrinsic+json": {
              "type": "string"
            }
          },
          "metadata": {},
          "execution_count": 80
        }
      ]
    },
    {
      "cell_type": "code",
      "source": [
        "type(display)"
      ],
      "metadata": {
        "colab": {
          "base_uri": "https://localhost:8080/"
        },
        "id": "LsUd-L1vrqQ7",
        "outputId": "1b70c102-9649-46bd-d8f4-3b53f555dc3c"
      },
      "execution_count": 81,
      "outputs": [
        {
          "output_type": "execute_result",
          "data": {
            "text/plain": [
              "function"
            ]
          },
          "metadata": {},
          "execution_count": 81
        }
      ]
    },
    {
      "cell_type": "markdown",
      "source": [
        "python은 외부에서 함수 내부로 접근할 수 없다."
      ],
      "metadata": {
        "id": "Vx5OqDr3sCs7"
      }
    },
    {
      "cell_type": "code",
      "source": [
        "def proc():\n",
        "  z=1"
      ],
      "metadata": {
        "id": "pMfBFxcIr6jk"
      },
      "execution_count": 82,
      "outputs": []
    },
    {
      "cell_type": "code",
      "source": [
        "# z는 함수 내에서 할당되었으므로 함수 밖에서 호출할 수 없다.\n",
        "#z"
      ],
      "metadata": {
        "colab": {
          "base_uri": "https://localhost:8080/",
          "height": 176
        },
        "id": "vTJSWh8isPKg",
        "outputId": "66727bcb-3088-4e75-cbf3-7cb5b93230f8"
      },
      "execution_count": 83,
      "outputs": [
        {
          "output_type": "error",
          "ename": "NameError",
          "evalue": "ignored",
          "traceback": [
            "\u001b[0;31m---------------------------------------------------------------------------\u001b[0m",
            "\u001b[0;31mNameError\u001b[0m                                 Traceback (most recent call last)",
            "\u001b[0;32m<ipython-input-83-3a710d2a84f8>\u001b[0m in \u001b[0;36m<module>\u001b[0;34m\u001b[0m\n\u001b[0;32m----> 1\u001b[0;31m \u001b[0mz\u001b[0m\u001b[0;34m\u001b[0m\u001b[0;34m\u001b[0m\u001b[0m\n\u001b[0m",
            "\u001b[0;31mNameError\u001b[0m: name 'z' is not defined"
          ]
        }
      ]
    },
    {
      "cell_type": "markdown",
      "source": [
        "함수 내부에서는 외부에 접근할 수 있다"
      ],
      "metadata": {
        "id": "PJiSBr4XshTy"
      }
    },
    {
      "cell_type": "code",
      "source": [
        "c = 10\n",
        "def display():\n",
        "  print(c)"
      ],
      "metadata": {
        "id": "4YJOraSMsQtj"
      },
      "execution_count": 86,
      "outputs": []
    },
    {
      "cell_type": "code",
      "source": [
        "display()"
      ],
      "metadata": {
        "colab": {
          "base_uri": "https://localhost:8080/"
        },
        "id": "HDAfh5WrsnJh",
        "outputId": "48a72b23-1094-4ef1-d8e6-55aaf16a77fc"
      },
      "execution_count": 87,
      "outputs": [
        {
          "output_type": "stream",
          "name": "stdout",
          "text": [
            "10\n"
          ]
        }
      ]
    },
    {
      "cell_type": "markdown",
      "source": [
        "함수에서 외부의 값은 접근할 수 있지만 변경은 할 수 없다."
      ],
      "metadata": {
        "id": "RYttvRHrssqh"
      }
    },
    {
      "cell_type": "code",
      "source": [
        "t=3\n",
        "def prn():\n",
        "  t= t+1\n",
        "  print(t)"
      ],
      "metadata": {
        "id": "3qJInjYXsodt"
      },
      "execution_count": 88,
      "outputs": []
    },
    {
      "cell_type": "code",
      "source": [
        "#prn()"
      ],
      "metadata": {
        "colab": {
          "base_uri": "https://localhost:8080/",
          "height": 288
        },
        "id": "_BqJb5lDs2qd",
        "outputId": "29884377-c914-472e-d714-b522b467dd1d"
      },
      "execution_count": 89,
      "outputs": [
        {
          "output_type": "error",
          "ename": "UnboundLocalError",
          "evalue": "ignored",
          "traceback": [
            "\u001b[0;31m---------------------------------------------------------------------------\u001b[0m",
            "\u001b[0;31mUnboundLocalError\u001b[0m                         Traceback (most recent call last)",
            "\u001b[0;32m<ipython-input-89-9f4e808490c5>\u001b[0m in \u001b[0;36m<module>\u001b[0;34m\u001b[0m\n\u001b[0;32m----> 1\u001b[0;31m \u001b[0mprn\u001b[0m\u001b[0;34m(\u001b[0m\u001b[0;34m)\u001b[0m\u001b[0;34m\u001b[0m\u001b[0;34m\u001b[0m\u001b[0m\n\u001b[0m",
            "\u001b[0;32m<ipython-input-88-bb1af235c49f>\u001b[0m in \u001b[0;36mprn\u001b[0;34m()\u001b[0m\n\u001b[1;32m      1\u001b[0m \u001b[0mt\u001b[0m\u001b[0;34m=\u001b[0m\u001b[0;36m3\u001b[0m\u001b[0;34m\u001b[0m\u001b[0;34m\u001b[0m\u001b[0m\n\u001b[1;32m      2\u001b[0m \u001b[0;32mdef\u001b[0m \u001b[0mprn\u001b[0m\u001b[0;34m(\u001b[0m\u001b[0;34m)\u001b[0m\u001b[0;34m:\u001b[0m\u001b[0;34m\u001b[0m\u001b[0;34m\u001b[0m\u001b[0m\n\u001b[0;32m----> 3\u001b[0;31m   \u001b[0mt\u001b[0m\u001b[0;34m=\u001b[0m \u001b[0mt\u001b[0m\u001b[0;34m+\u001b[0m\u001b[0;36m1\u001b[0m\u001b[0;34m\u001b[0m\u001b[0;34m\u001b[0m\u001b[0m\n\u001b[0m\u001b[1;32m      4\u001b[0m   \u001b[0mprint\u001b[0m\u001b[0;34m(\u001b[0m\u001b[0mt\u001b[0m\u001b[0;34m)\u001b[0m\u001b[0;34m\u001b[0m\u001b[0;34m\u001b[0m\u001b[0m\n",
            "\u001b[0;31mUnboundLocalError\u001b[0m: local variable 't' referenced before assignment"
          ]
        }
      ]
    },
    {
      "cell_type": "markdown",
      "source": [
        "global은 내부와 외부의 객체를 동기화(sync)시켜준다.  \n",
        "global은 사용하기는 편하지만 언제 바뀌었는지 흐름을 파악하기 힘들기 때문에 남용은 하지 않는다."
      ],
      "metadata": {
        "id": "aXxbLQqytHbw"
      }
    },
    {
      "cell_type": "code",
      "source": [
        "t=3\n",
        "def prn():\n",
        "  global t\n",
        "  t= t+1\n",
        "  print(t)"
      ],
      "metadata": {
        "id": "T7G6uTm_s6u-"
      },
      "execution_count": 90,
      "outputs": []
    },
    {
      "cell_type": "code",
      "source": [
        "prn()"
      ],
      "metadata": {
        "colab": {
          "base_uri": "https://localhost:8080/"
        },
        "id": "S-YvTEZNtS7K",
        "outputId": "7a4fc989-ec24-4a5d-9fbd-45b5c7c6f250"
      },
      "execution_count": 91,
      "outputs": [
        {
          "output_type": "stream",
          "name": "stdout",
          "text": [
            "4\n"
          ]
        }
      ]
    },
    {
      "cell_type": "code",
      "source": [
        "#외부의 자원도 값이 변경이 되어서 출력이 된다.\n",
        "t"
      ],
      "metadata": {
        "colab": {
          "base_uri": "https://localhost:8080/"
        },
        "id": "recmWVrptUKt",
        "outputId": "5ee35947-1d11-4118-e461-d2f551ce4622"
      },
      "execution_count": 92,
      "outputs": [
        {
          "output_type": "execute_result",
          "data": {
            "text/plain": [
              "4"
            ]
          },
          "metadata": {},
          "execution_count": 92
        }
      ]
    },
    {
      "cell_type": "markdown",
      "source": [
        "nonlocal은 함수 안에 있는 영역에 동기화(sync)한다."
      ],
      "metadata": {
        "id": "kyOXkFd9t_pO"
      }
    },
    {
      "cell_type": "code",
      "source": [
        "k=1\n",
        "def outer():\n",
        "  m=1\n",
        "  def inner():\n",
        "    k=k+1\n",
        "    m=m+1\n",
        "    return k,m\n",
        "  return inner()"
      ],
      "metadata": {
        "id": "CsVgPNUstrIW"
      },
      "execution_count": 93,
      "outputs": []
    },
    {
      "cell_type": "code",
      "source": [
        "# 외부 자원 k, outer()의 자원 m을 inner()함수에서 변경하고 있으므로 오류가 발생한다.\n",
        "#outer()"
      ],
      "metadata": {
        "colab": {
          "base_uri": "https://localhost:8080/",
          "height": 331
        },
        "id": "2cZ1YaV9uFPg",
        "outputId": "d43ed135-17c1-4913-b2fe-d658e49ba4ff"
      },
      "execution_count": 94,
      "outputs": [
        {
          "output_type": "error",
          "ename": "UnboundLocalError",
          "evalue": "ignored",
          "traceback": [
            "\u001b[0;31m---------------------------------------------------------------------------\u001b[0m",
            "\u001b[0;31mUnboundLocalError\u001b[0m                         Traceback (most recent call last)",
            "\u001b[0;32m<ipython-input-94-0811df1b6f71>\u001b[0m in \u001b[0;36m<module>\u001b[0;34m\u001b[0m\n\u001b[0;32m----> 1\u001b[0;31m \u001b[0mouter\u001b[0m\u001b[0;34m(\u001b[0m\u001b[0;34m)\u001b[0m\u001b[0;34m\u001b[0m\u001b[0;34m\u001b[0m\u001b[0m\n\u001b[0m",
            "\u001b[0;32m<ipython-input-93-35b0d5a613ba>\u001b[0m in \u001b[0;36mouter\u001b[0;34m()\u001b[0m\n\u001b[1;32m      6\u001b[0m     \u001b[0mm\u001b[0m\u001b[0;34m=\u001b[0m\u001b[0mm\u001b[0m\u001b[0;34m+\u001b[0m\u001b[0;36m1\u001b[0m\u001b[0;34m\u001b[0m\u001b[0;34m\u001b[0m\u001b[0m\n\u001b[1;32m      7\u001b[0m     \u001b[0;32mreturn\u001b[0m \u001b[0mk\u001b[0m\u001b[0;34m,\u001b[0m\u001b[0mm\u001b[0m\u001b[0;34m\u001b[0m\u001b[0;34m\u001b[0m\u001b[0m\n\u001b[0;32m----> 8\u001b[0;31m   \u001b[0;32mreturn\u001b[0m \u001b[0minner\u001b[0m\u001b[0;34m(\u001b[0m\u001b[0;34m)\u001b[0m\u001b[0;34m\u001b[0m\u001b[0;34m\u001b[0m\u001b[0m\n\u001b[0m",
            "\u001b[0;32m<ipython-input-93-35b0d5a613ba>\u001b[0m in \u001b[0;36minner\u001b[0;34m()\u001b[0m\n\u001b[1;32m      3\u001b[0m   \u001b[0mm\u001b[0m\u001b[0;34m=\u001b[0m\u001b[0;36m1\u001b[0m\u001b[0;34m\u001b[0m\u001b[0;34m\u001b[0m\u001b[0m\n\u001b[1;32m      4\u001b[0m   \u001b[0;32mdef\u001b[0m \u001b[0minner\u001b[0m\u001b[0;34m(\u001b[0m\u001b[0;34m)\u001b[0m\u001b[0;34m:\u001b[0m\u001b[0;34m\u001b[0m\u001b[0;34m\u001b[0m\u001b[0m\n\u001b[0;32m----> 5\u001b[0;31m     \u001b[0mk\u001b[0m\u001b[0;34m=\u001b[0m\u001b[0mk\u001b[0m\u001b[0;34m+\u001b[0m\u001b[0;36m1\u001b[0m\u001b[0;34m\u001b[0m\u001b[0;34m\u001b[0m\u001b[0m\n\u001b[0m\u001b[1;32m      6\u001b[0m     \u001b[0mm\u001b[0m\u001b[0;34m=\u001b[0m\u001b[0mm\u001b[0m\u001b[0;34m+\u001b[0m\u001b[0;36m1\u001b[0m\u001b[0;34m\u001b[0m\u001b[0;34m\u001b[0m\u001b[0m\n\u001b[1;32m      7\u001b[0m     \u001b[0;32mreturn\u001b[0m \u001b[0mk\u001b[0m\u001b[0;34m,\u001b[0m\u001b[0mm\u001b[0m\u001b[0;34m\u001b[0m\u001b[0;34m\u001b[0m\u001b[0m\n",
            "\u001b[0;31mUnboundLocalError\u001b[0m: local variable 'k' referenced before assignment"
          ]
        }
      ]
    },
    {
      "cell_type": "code",
      "source": [
        "k=1\n",
        "def outer():\n",
        "  m=1\n",
        "  def inner():\n",
        "    global k\n",
        "    k=k+1\n",
        "    nonlocal m\n",
        "    m=m+1\n",
        "    return k,m\n",
        "  return inner()"
      ],
      "metadata": {
        "id": "5tQ__G8vuHMx"
      },
      "execution_count": 95,
      "outputs": []
    },
    {
      "cell_type": "code",
      "source": [
        "outer()"
      ],
      "metadata": {
        "colab": {
          "base_uri": "https://localhost:8080/"
        },
        "id": "ezJaZGnau4Ga",
        "outputId": "05700a8d-e371-4716-d8e0-b75fcca4728f"
      },
      "execution_count": 96,
      "outputs": [
        {
          "output_type": "execute_result",
          "data": {
            "text/plain": [
              "(2, 2)"
            ]
          },
          "metadata": {},
          "execution_count": 96
        }
      ]
    },
    {
      "cell_type": "code",
      "source": [],
      "metadata": {
        "id": "Uv3NhYW8u4t0"
      },
      "execution_count": null,
      "outputs": []
    }
  ]
}