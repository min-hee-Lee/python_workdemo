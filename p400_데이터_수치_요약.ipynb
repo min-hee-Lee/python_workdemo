{
  "nbformat": 4,
  "nbformat_minor": 0,
  "metadata": {
    "colab": {
      "provenance": [],
      "authorship_tag": "ABX9TyObUYMhw9aw5F7c0g1JnVzf",
      "include_colab_link": true
    },
    "kernelspec": {
      "name": "python3",
      "display_name": "Python 3"
    },
    "language_info": {
      "name": "python"
    }
  },
  "cells": [
    {
      "cell_type": "markdown",
      "metadata": {
        "id": "view-in-github",
        "colab_type": "text"
      },
      "source": [
        "<a href=\"https://colab.research.google.com/github/min-hee-Lee/python_workdemo/blob/master/p400_%EB%8D%B0%EC%9D%B4%ED%84%B0_%EC%88%98%EC%B9%98_%EC%9A%94%EC%95%BD.ipynb\" target=\"_parent\"><img src=\"https://colab.research.google.com/assets/colab-badge.svg\" alt=\"Open In Colab\"/></a>"
      ]
    },
    {
      "cell_type": "markdown",
      "source": [
        "###4명의 키와 몸무게 계산(합계,평균, 편차,분산,표준편차,상관계수)\n",
        "- 1.python을 이용한 4명의 키와 몸무게\n",
        "- 2.numpy를 이용한 4명의 키와 몸무게"
      ],
      "metadata": {
        "id": "Ip7Ki8Xssi3Q"
      }
    },
    {
      "cell_type": "markdown",
      "source": [
        "####python을 이용한 4명의 키와 몸무게"
      ],
      "metadata": {
        "id": "xMvYebccsv66"
      }
    },
    {
      "cell_type": "code",
      "execution_count": null,
      "metadata": {
        "id": "h7UGzKqfsav4"
      },
      "outputs": [],
      "source": [
        "height = [175,165,180,160]\n",
        "weight = [75,70,95,72]"
      ]
    },
    {
      "cell_type": "markdown",
      "source": [
        "합계_height, weight"
      ],
      "metadata": {
        "id": "pStabFY-s6n-"
      }
    },
    {
      "cell_type": "code",
      "source": [
        "h_sum = sum(height)\n",
        "w_sum = sum(weight)"
      ],
      "metadata": {
        "id": "C25vBQvBs-Hj"
      },
      "execution_count": null,
      "outputs": []
    },
    {
      "cell_type": "code",
      "source": [
        "print('키 합계:', h_sum)\n",
        "print('몸무게 합계:', w_sum)"
      ],
      "metadata": {
        "colab": {
          "base_uri": "https://localhost:8080/"
        },
        "id": "To0cdFaEtF32",
        "outputId": "33d17c70-714e-47a6-d872-d3530fbf16f8"
      },
      "execution_count": null,
      "outputs": [
        {
          "output_type": "stream",
          "name": "stdout",
          "text": [
            "키 합계: 680\n",
            "몸무게 합계: 312\n"
          ]
        }
      ]
    },
    {
      "cell_type": "markdown",
      "source": [
        "평균_height, weight(별도의 평균함수는 제공되지 않음)"
      ],
      "metadata": {
        "id": "frdaRvnrtmSm"
      }
    },
    {
      "cell_type": "code",
      "source": [
        "length = len(height)"
      ],
      "metadata": {
        "id": "gviVfnxgtlUi"
      },
      "execution_count": null,
      "outputs": []
    },
    {
      "cell_type": "code",
      "source": [
        "h_mean = h_sum/length\n",
        "w_mean = w_sum/length"
      ],
      "metadata": {
        "id": "frGrgh2Ftruh"
      },
      "execution_count": null,
      "outputs": []
    },
    {
      "cell_type": "code",
      "source": [
        "print('키 평균:', h_mean)\n",
        "print('몸무게 평균', w_mean)"
      ],
      "metadata": {
        "colab": {
          "base_uri": "https://localhost:8080/"
        },
        "id": "B8tXIY_Ttza-",
        "outputId": "4d9019c5-41c4-46ac-819b-216c951af281"
      },
      "execution_count": null,
      "outputs": [
        {
          "output_type": "stream",
          "name": "stdout",
          "text": [
            "키 평균: 170.0\n",
            "몸무게 평균 78.0\n"
          ]
        }
      ]
    },
    {
      "cell_type": "markdown",
      "source": [
        "편차_height,weight"
      ],
      "metadata": {
        "id": "BxusTL02uUQk"
      }
    },
    {
      "cell_type": "code",
      "source": [
        "h_deviation = [i-h_mean for i in height]\n",
        "w_deviation = [i-w_mean for i in weight]"
      ],
      "metadata": {
        "id": "atzpkS3suAnS"
      },
      "execution_count": null,
      "outputs": []
    },
    {
      "cell_type": "code",
      "source": [
        "print('키 편차:', h_deviation, sum(h_deviation))\n",
        "print('몸무게 편차:', w_deviation, sum(w_deviation))"
      ],
      "metadata": {
        "colab": {
          "base_uri": "https://localhost:8080/"
        },
        "id": "tvIfIqC1uhst",
        "outputId": "b5c4a6a5-9c82-476c-8896-e6068f752dbd"
      },
      "execution_count": null,
      "outputs": [
        {
          "output_type": "stream",
          "name": "stdout",
          "text": [
            "키 편차: [5.0, -5.0, 10.0, -10.0] 0.0\n",
            "몸무게 편차: [-3.0, -8.0, 17.0, -6.0] 0.0\n"
          ]
        }
      ]
    },
    {
      "cell_type": "markdown",
      "source": [
        "분산-height,weight"
      ],
      "metadata": {
        "id": "kY79FqBTutXB"
      }
    },
    {
      "cell_type": "code",
      "source": [
        "h_data = [(i-h_mean)**2 for i in height]\n",
        "w_data = [(i-w_mean)**2 for i in weight]\n",
        "h_variance = sum(h_data)/length\n",
        "w_variance = sum(w_data)/length"
      ],
      "metadata": {
        "id": "LbfPDrZmusKq"
      },
      "execution_count": null,
      "outputs": []
    },
    {
      "cell_type": "code",
      "source": [
        "print('키 분산:', h_variance)\n",
        "print('몸무게 분산:', w_variance)"
      ],
      "metadata": {
        "colab": {
          "base_uri": "https://localhost:8080/"
        },
        "id": "4wHA5ctEvZcw",
        "outputId": "1f91962c-aac5-4c94-dc58-e1965d2722a5"
      },
      "execution_count": null,
      "outputs": [
        {
          "output_type": "stream",
          "name": "stdout",
          "text": [
            "키 분산: 62.5\n",
            "몸무게 분산: 99.5\n"
          ]
        }
      ]
    },
    {
      "cell_type": "markdown",
      "source": [
        "표준편차-height,weight"
      ],
      "metadata": {
        "id": "Ye1kMYjovjI4"
      }
    },
    {
      "cell_type": "code",
      "source": [
        "import math\n",
        "\n",
        "h_standard_deviation = math.sqrt(h_variance)\n",
        "w_standard_deviation = math.sqrt(w_variance)"
      ],
      "metadata": {
        "id": "VmGZZKQJvh9-"
      },
      "execution_count": null,
      "outputs": []
    },
    {
      "cell_type": "code",
      "source": [
        "print('키 표준편차:', h_standard_deviation)\n",
        "print('몸무게 표준편차:', w_standard_deviation)"
      ],
      "metadata": {
        "colab": {
          "base_uri": "https://localhost:8080/"
        },
        "id": "1rkRNzWHv_hM",
        "outputId": "15606401-1e67-4d3e-d24d-f3adfce89efa"
      },
      "execution_count": null,
      "outputs": [
        {
          "output_type": "stream",
          "name": "stdout",
          "text": [
            "키 표준편차: 7.905694150420948\n",
            "몸무게 표준편차: 9.974968671630002\n"
          ]
        }
      ]
    },
    {
      "cell_type": "markdown",
      "source": [
        "공분산-height,weight"
      ],
      "metadata": {
        "id": "9RaH1gNjwJ8h"
      }
    },
    {
      "cell_type": "code",
      "source": [
        "h_w_covariance = [i*j for i, j in zip(h_deviation, w_deviation)]\n",
        "print(h_w_covariance)\n",
        "\n",
        "h_w_covariance = sum(h_w_covariance)/length\n",
        "print(h_w_covariance)"
      ],
      "metadata": {
        "colab": {
          "base_uri": "https://localhost:8080/"
        },
        "id": "-fnZGD8TwIzE",
        "outputId": "665cd71e-25a7-43f9-e789-8f7ecf5f1d7d"
      },
      "execution_count": null,
      "outputs": [
        {
          "output_type": "stream",
          "name": "stdout",
          "text": [
            "[-15.0, 40.0, 170.0, 60.0]\n",
            "63.75\n"
          ]
        }
      ]
    },
    {
      "cell_type": "markdown",
      "source": [
        "상관계수-height,weight"
      ],
      "metadata": {
        "id": "aj09ET-8wqSD"
      }
    },
    {
      "cell_type": "code",
      "source": [
        "h_w_coef = h_w_covariance / (h_standard_deviation * w_standard_deviation)\n",
        "print(h_w_coef)"
      ],
      "metadata": {
        "colab": {
          "base_uri": "https://localhost:8080/"
        },
        "id": "lRHHOL4swpRJ",
        "outputId": "a0c71db5-7f98-4fe3-e5cd-d91c9ea944d3"
      },
      "execution_count": null,
      "outputs": [
        {
          "output_type": "stream",
          "name": "stdout",
          "text": [
            "0.8084043468090077\n"
          ]
        }
      ]
    },
    {
      "cell_type": "markdown",
      "source": [
        "###numpy를 이용한 4명의 키와 몸무게\n",
        "통계량의 계산이나 기본적인 데이터 분석에 사용되는 함수는 scipy패키지에서도 제공되나 sum,mean,var,cov,corrcoef 등은 Scipy2.0부터 remove되고 numpy에서 사용하도록 권장하고 있다."
      ],
      "metadata": {
        "id": "x3lRALrhxWE6"
      }
    },
    {
      "cell_type": "code",
      "source": [
        "import numpy as np"
      ],
      "metadata": {
        "id": "LMqDIklhxS3l"
      },
      "execution_count": null,
      "outputs": []
    },
    {
      "cell_type": "code",
      "source": [
        "height = np.array([175,165,180,160])\n",
        "weight = np.array([75,70,95,72])"
      ],
      "metadata": {
        "id": "QrSAKEvLySSG"
      },
      "execution_count": null,
      "outputs": []
    },
    {
      "cell_type": "markdown",
      "source": [
        "합계-height,weight"
      ],
      "metadata": {
        "id": "MP6V01_7yfhV"
      }
    },
    {
      "cell_type": "code",
      "source": [
        "h_sum = np.sum(height)\n",
        "w_sum = np.sum(weight)"
      ],
      "metadata": {
        "id": "eureepHbyamX"
      },
      "execution_count": null,
      "outputs": []
    },
    {
      "cell_type": "code",
      "source": [
        "print('키 합계 :',h_sum)\n",
        "print('몸무게 합계 :', w_sum)"
      ],
      "metadata": {
        "colab": {
          "base_uri": "https://localhost:8080/"
        },
        "id": "ObLkFIZqyma4",
        "outputId": "bdedaa93-16c3-42ab-e70c-67c14e878f0e"
      },
      "execution_count": null,
      "outputs": [
        {
          "output_type": "stream",
          "name": "stdout",
          "text": [
            "키 합계 : 680\n",
            "몸무게 합계 : 312\n"
          ]
        }
      ]
    },
    {
      "cell_type": "markdown",
      "source": [
        "평균-height,weight(평균 함수 제공됨)"
      ],
      "metadata": {
        "id": "kJbvKjCKy_Su"
      }
    },
    {
      "cell_type": "code",
      "source": [
        "h_mean = np.mean(height)\n",
        "w_mean = np.mean(weight)"
      ],
      "metadata": {
        "id": "nJI6HdjUytSs"
      },
      "execution_count": null,
      "outputs": []
    },
    {
      "cell_type": "code",
      "source": [
        "print('키 평균 : ', h_mean)\n",
        "print('몸무게 평균:', w_mean)"
      ],
      "metadata": {
        "colab": {
          "base_uri": "https://localhost:8080/"
        },
        "id": "qa4imDmwzKj-",
        "outputId": "a1d5e79e-a085-4871-f6b2-a1ad45b1ea3c"
      },
      "execution_count": null,
      "outputs": [
        {
          "output_type": "stream",
          "name": "stdout",
          "text": [
            "키 평균 :  170.0\n",
            "몸무게 평균: 78.0\n"
          ]
        }
      ]
    },
    {
      "cell_type": "markdown",
      "source": [
        "편차-height,weight(별도제공x)"
      ],
      "metadata": {
        "id": "GpTPe1RLzSpY"
      }
    },
    {
      "cell_type": "code",
      "source": [
        "h_deviation = height - h_mean\n",
        "w_deviation = weight - w_mean"
      ],
      "metadata": {
        "id": "pZuF4bwQzQTt"
      },
      "execution_count": null,
      "outputs": []
    },
    {
      "cell_type": "code",
      "source": [
        "print('키 편차:',h_deviation, np.sum(h_deviation))\n",
        "print('몸무게 편차:', w_deviation, np.sum(w_deviation))"
      ],
      "metadata": {
        "colab": {
          "base_uri": "https://localhost:8080/"
        },
        "id": "7rxwYpoAzv7b",
        "outputId": "8db885c7-bafc-479a-9e62-9d128b045421"
      },
      "execution_count": null,
      "outputs": [
        {
          "output_type": "stream",
          "name": "stdout",
          "text": [
            "키 편차: [  5.  -5.  10. -10.] 0.0\n",
            "몸무게 편차: [-3. -8. 17. -6.] 0.0\n"
          ]
        }
      ]
    },
    {
      "cell_type": "markdown",
      "source": [
        "분산-height,weight(제공됨)"
      ],
      "metadata": {
        "id": "FWtbxy7-z8Sl"
      }
    },
    {
      "cell_type": "code",
      "source": [
        "h_variance = np.var(height)\n",
        "w_variance = np.var(weight)"
      ],
      "metadata": {
        "id": "EFsHdNujz7iA"
      },
      "execution_count": null,
      "outputs": []
    },
    {
      "cell_type": "code",
      "source": [
        "print('키 분산:', h_variance)\n",
        "print('몸무게 분산:', w_variance)"
      ],
      "metadata": {
        "colab": {
          "base_uri": "https://localhost:8080/"
        },
        "id": "y0lWK2tU0Nno",
        "outputId": "5a9dd230-3fec-41fc-dcca-a4847b8687ee"
      },
      "execution_count": null,
      "outputs": [
        {
          "output_type": "stream",
          "name": "stdout",
          "text": [
            "키 분산: 62.5\n",
            "몸무게 분산: 99.5\n"
          ]
        }
      ]
    },
    {
      "cell_type": "markdown",
      "source": [
        "표준편차-height,weight"
      ],
      "metadata": {
        "id": "2OmTBocZ0Uao"
      }
    },
    {
      "cell_type": "code",
      "source": [
        "h_standard_deviation = np.std(height)\n",
        "w_standard_deviation = np.std(weight)"
      ],
      "metadata": {
        "id": "BiadXnIE0Tms"
      },
      "execution_count": null,
      "outputs": []
    },
    {
      "cell_type": "code",
      "source": [
        "print('키 표준편차:', h_standard_deviation)\n",
        "print('몸무게 표준편차:', w_standard_deviation)"
      ],
      "metadata": {
        "colab": {
          "base_uri": "https://localhost:8080/"
        },
        "id": "zsSnXda80fkV",
        "outputId": "c9a128b5-a90f-497e-fbc6-e58814f3c49c"
      },
      "execution_count": null,
      "outputs": [
        {
          "output_type": "stream",
          "name": "stdout",
          "text": [
            "키 표준편차: 7.905694150420948\n",
            "몸무게 표준편차: 9.974968671630002\n"
          ]
        }
      ]
    },
    {
      "cell_type": "markdown",
      "source": [
        "공분산-height,weight"
      ],
      "metadata": {
        "id": "qyj-i2-21AnT"
      }
    },
    {
      "cell_type": "code",
      "source": [
        "#공분산 매트릭스로 출력\n",
        "h_w_covariance = np.cov(height, weight, ddof=0)  #default ddof=0\n",
        "h_w_covariance"
      ],
      "metadata": {
        "colab": {
          "base_uri": "https://localhost:8080/"
        },
        "id": "pg2FHP3p0oi7",
        "outputId": "b7b659ae-1a0f-4bdb-862b-34e25980f8e4"
      },
      "execution_count": null,
      "outputs": [
        {
          "output_type": "execute_result",
          "data": {
            "text/plain": [
              "array([[62.5 , 63.75],\n",
              "       [63.75, 99.5 ]])"
            ]
          },
          "metadata": {},
          "execution_count": 30
        }
      ]
    },
    {
      "cell_type": "markdown",
      "source": [
        "상관계수-height,weight"
      ],
      "metadata": {
        "id": "0JUeQLxq1jb7"
      }
    },
    {
      "cell_type": "code",
      "source": [
        "#상관계수 매트릭스로 출력  (출력된 1은 자기 자신과 비교하는 수치이므로 무시)\n",
        "#1에 가까울 수록 양의 상관관계\n",
        "np.corrcoef(height, weight)"
      ],
      "metadata": {
        "colab": {
          "base_uri": "https://localhost:8080/"
        },
        "id": "jPYRSJBV1ieP",
        "outputId": "3391242d-e3df-4f55-b41c-00fe7c29f83e"
      },
      "execution_count": null,
      "outputs": [
        {
          "output_type": "execute_result",
          "data": {
            "text/plain": [
              "array([[1.        , 0.80840435],\n",
              "       [0.80840435, 1.        ]])"
            ]
          },
          "metadata": {},
          "execution_count": 31
        }
      ]
    },
    {
      "cell_type": "code",
      "source": [],
      "metadata": {
        "id": "_kKSf5ta1s9x"
      },
      "execution_count": null,
      "outputs": []
    }
  ]
}