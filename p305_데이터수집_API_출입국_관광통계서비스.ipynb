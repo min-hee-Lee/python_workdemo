{
  "nbformat": 4,
  "nbformat_minor": 0,
  "metadata": {
    "colab": {
      "provenance": [],
      "include_colab_link": true
    },
    "kernelspec": {
      "name": "python3",
      "display_name": "Python 3"
    },
    "language_info": {
      "name": "python"
    }
  },
  "cells": [
    {
      "cell_type": "markdown",
      "metadata": {
        "id": "view-in-github",
        "colab_type": "text"
      },
      "source": [
        "<a href=\"https://colab.research.google.com/github/min-hee-Lee/python_workdemo/blob/master/p305_%EB%8D%B0%EC%9D%B4%ED%84%B0%EC%88%98%EC%A7%91_API_%EC%B6%9C%EC%9E%85%EA%B5%AD_%EA%B4%80%EA%B4%91%ED%86%B5%EA%B3%84%EC%84%9C%EB%B9%84%EC%8A%A4.ipynb\" target=\"_parent\"><img src=\"https://colab.research.google.com/assets/colab-badge.svg\" alt=\"Open In Colab\"/></a>"
      ]
    },
    {
      "cell_type": "markdown",
      "source": [
        "### 구글 드라이브 연동"
      ],
      "metadata": {
        "id": "DIcRTaMOYMsI"
      }
    },
    {
      "cell_type": "code",
      "execution_count": null,
      "metadata": {
        "colab": {
          "base_uri": "https://localhost:8080/"
        },
        "id": "LgtHDC92Wl5H",
        "outputId": "8b28669f-2a71-4e2b-8b8c-8b0116e96f5b"
      },
      "outputs": [
        {
          "output_type": "stream",
          "name": "stdout",
          "text": [
            "Mounted at /content/drive\n",
            "/content/drive/MyDrive/python/data\n"
          ]
        }
      ],
      "source": [
        "from google.colab import drive\n",
        "drive.mount('/content/drive')\n",
        "\n",
        "%cd /content/drive/MyDrive/python/data"
      ]
    },
    {
      "cell_type": "code",
      "source": [
        "!pip install xmltodict"
      ],
      "metadata": {
        "colab": {
          "base_uri": "https://localhost:8080/"
        },
        "id": "d9-rfCDi2bF7",
        "outputId": "7ed3c823-5b14-4689-c196-36db84eac73f"
      },
      "execution_count": null,
      "outputs": [
        {
          "output_type": "stream",
          "name": "stdout",
          "text": [
            "Looking in indexes: https://pypi.org/simple, https://us-python.pkg.dev/colab-wheels/public/simple/\n",
            "Collecting xmltodict\n",
            "  Downloading xmltodict-0.13.0-py2.py3-none-any.whl (10.0 kB)\n",
            "Installing collected packages: xmltodict\n",
            "Successfully installed xmltodict-0.13.0\n"
          ]
        }
      ]
    },
    {
      "cell_type": "code",
      "source": [
        "import requests\n",
        "import json\n",
        "import xmltodict\n",
        "\n",
        "#ServiceKey=\"guotMBaZy6jHmfXxS6ZeVSYdmwlVUufSl2tx59WkBiSxBJc8lqN9wQ%2FYzidRb8UtdiJSzDro8Myqq1aPFZVZIQ%3D%3D\"\n",
        "ServiceKey=\"guotMBaZy6jHmfXxS6ZeVSYdmwlVUufSl2tx59WkBiSxBJc8lqN9wQ/YzidRb8UtdiJSzDro8Myqq1aPFZVZIQ==\"\n",
        "\n",
        "def getTourismStatesItem(yyyymm, national_code, ed_cd):\n",
        "    url = 'http://openapi.tour.go.kr/openapi/service/EdrcntTourismStatsService/getEdrcntTourismStatsList'\n",
        "    params ={'serviceKey' : ServiceKey, 'YM' : yyyymm, 'NAT_CD' : national_code, 'ED_CD' : ed_cd }\n",
        "\n",
        "    response = requests.get(url, params=params)\n",
        "    #print(response.content)\n",
        "    #print(response.text)\n",
        "    return response.text\n",
        "\n",
        "jsonResult = []\n",
        "result = []\n",
        "natName =''\n",
        "print('<<국내 입국한 외국인의 통계를 수집합니다.>>')\n",
        "nat_cd = input('국가 코드를 입력하세요(중국 : 112 / 일본 : 130 / 미국 : 275) :')\n",
        "nStartYear = int(input('데이터를 몇 년부터 수집할까요?:'))\n",
        "nEndYear = int(input('데이터를 몇 년까지 수집할까요?:'))\n",
        "ed_cd = 'E' #E:방한외래관광객, D:해외 출국\n",
        "\n",
        "dataEND = '{0}{1:0>2}'.format(str(nEndYear), str(12)) \n",
        "print(dataEND)\n",
        "isDataEnd = 0 # 데이터 끝 확인용 flat 초기화\n",
        "\n",
        "for year in range(nStartYear,  nEndYear+1) :\n",
        "  for month in range(1, 13):\n",
        "    if isDataEnd == 1: break; # 데이터 끝 flag 설정되어 있으면 작업 중지\n",
        "    yyyymm = '{0}{1:0>2}'.format(str(year),str(month))\n",
        "\n",
        "    jsonData = getTourismStatesItem(yyyymm, nat_cd, ed_cd )\n",
        "    jsonData = xmltodict.parse(jsonData)\n",
        "    #print(jsonData)\n",
        "\n",
        "    if jsonData['response']['header']['resultMsg']=='OK':\n",
        "      if jsonData['response']['body']['items'] =='':\n",
        "         isDataEnd = 1 #데이터 끝 flag 설정\n",
        "         dataEND = '{0}{1:0>2}'.format(str(year), str(month-1))\n",
        "         print('데이터 없음...\\n 제공되는 통계 데이터는 %s년 %s월까지입니다.' % str(year), str(month-1))\n",
        "         break\n",
        "\n",
        "      #jsonData를 출력하여 확인...........................................\n",
        "      natName = jsonData['response']['body']['items']['item']['natKorNm']\n",
        "      natName = natName.replace(' ','')\n",
        "      num = jsonData['response']['body']['items']['item']['num']     \n",
        "      ed = jsonData['response']['body']['items']['item']['ed']  \n",
        "      print('[%s_%s : %s]' % (natName, num, ed))\n",
        "\n",
        "    "
      ],
      "metadata": {
        "colab": {
          "base_uri": "https://localhost:8080/"
        },
        "id": "qO2m4U1FY_Gn",
        "outputId": "45cd693b-06d5-40a3-e50c-a6918046c9d6"
      },
      "execution_count": null,
      "outputs": [
        {
          "output_type": "stream",
          "name": "stdout",
          "text": [
            "<<국내 입국한 외국인의 통계를 수집합니다.>>\n",
            "국가 코드를 입력하세요(중국 : 112 / 일본 : 130 / 미국 : 275) :275\n",
            "데이터를 몇 년부터 수집할까요?:2015\n",
            "데이터를 몇 년까지 수집할까요?:2020\n",
            "202012\n"
          ]
        }
      ]
    },
    {
      "cell_type": "code",
      "source": [],
      "metadata": {
        "id": "12WrN1m83ss_"
      },
      "execution_count": null,
      "outputs": []
    },
    {
      "cell_type": "code",
      "source": [],
      "metadata": {
        "id": "wzQUsBvxu8AC"
      },
      "execution_count": null,
      "outputs": []
    }
  ]
}