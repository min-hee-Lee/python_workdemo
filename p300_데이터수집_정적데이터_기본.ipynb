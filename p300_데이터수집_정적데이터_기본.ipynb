{
  "nbformat": 4,
  "nbformat_minor": 0,
  "metadata": {
    "colab": {
      "provenance": [],
      "collapsed_sections": [
        "dL-aSmO5yzx4",
        "WO-Pr7mc4E2D",
        "fNqra1xN6TWa",
        "NgXA8Pum8sSz",
        "TMXmg2Z5-MY0",
        "y_KJaF67YhEX"
      ],
      "include_colab_link": true
    },
    "kernelspec": {
      "name": "python3",
      "display_name": "Python 3"
    },
    "language_info": {
      "name": "python"
    }
  },
  "cells": [
    {
      "cell_type": "markdown",
      "metadata": {
        "id": "view-in-github",
        "colab_type": "text"
      },
      "source": [
        "<a href=\"https://colab.research.google.com/github/min-hee-Lee/python_workdemo/blob/master/p300_%EB%8D%B0%EC%9D%B4%ED%84%B0%EC%88%98%EC%A7%91_%EC%A0%95%EC%A0%81%EB%8D%B0%EC%9D%B4%ED%84%B0_%EA%B8%B0%EB%B3%B8.ipynb\" target=\"_parent\"><img src=\"https://colab.research.google.com/assets/colab-badge.svg\" alt=\"Open In Colab\"/></a>"
      ]
    },
    {
      "cell_type": "code",
      "source": [
        "from google.colab import drive\n",
        "drive.mount('/content/drive')\n",
        "%cd /content/drive/MyDrive/python_demo"
      ],
      "metadata": {
        "colab": {
          "base_uri": "https://localhost:8080/"
        },
        "id": "BdLPvZRxUwEs",
        "outputId": "24181163-8d3b-47b7-ab28-5516e0da4590"
      },
      "execution_count": null,
      "outputs": [
        {
          "output_type": "stream",
          "name": "stdout",
          "text": [
            "Mounted at /content/drive\n",
            "/content/drive/MyDrive/python_demo\n"
          ]
        }
      ]
    },
    {
      "cell_type": "markdown",
      "source": [
        "### 1. 크롤링(crawling), 스크래핑(scraping), 파싱(parsing)\n",
        " - 크롤링(crawling) : 웹문서의 하이퍼링크를  타고 들어 가는 행위로 스파이더링(spidering)라고도 한다.\n",
        " - 스크래핑(scraping) : 웹 사이트에서 원하는 정보를 추출하는 기술\n",
        " - 파싱(parsing) : 추출한 정보를 분석하는 기술\n",
        "\n",
        "\n"
      ],
      "metadata": {
        "id": "IwnrhljDMeOL"
      }
    },
    {
      "cell_type": "markdown",
      "source": [
        "2. 웹 페이지 요청하기  \n",
        "- urllib 패키지 : 파이썬에서 내장 모듈\n",
        "- requests 패키지 : 외부모듈\n",
        "\n",
        "3. 외부 라이브러리\n",
        "   - 정적 : BeautifulSoup\n",
        "   - 동적 : Selenium\n",
        "\n",
        "4. BeautifulSoup\n",
        "  - HTML과 XML 문서의 parsing을 하기 위한 python패키지이므로  이 라이브러리를 이용해 정보를 추출한다.\n",
        "  - https://www.crummy.com/software/BeautifulSoup/bs4/doc/\n",
        "  - https://beautiful-soup-4.readthedocs.io/en/latest/\n",
        "\n",
        "5. Selenium\n",
        " - 'Web Applicaton'의 테스트를 자동화하기 위한 도구이다.\n",
        " - Selenium에서는 웹브라우저를 실행 시킨 후 클릭을 하거나, 텍스트를 입력하고, 지우는 등의 조작에 해당하는 메소드를 지원한다.\n",
        " - 팝업을 닫아줘야만 정상적으로 화면을 볼 수 있는 웹 사이트도 있다.\n",
        "   그리고 사용하는 이유 중 가장 중요한게 바로 동적 페이지(JavaScript)로 제공하는 HTML인 경우이다.\n",
        " - 크롤링하는 도구는 BeautifulSoup사용하지만 동적으로 제어해주는 도구는 Selenium을 사용한다.\n",
        "\n",
        "  - !pip install selenium\n",
        "  - https://www.selenium.dev/\n",
        "  - chromdriver.exe 다운로드 https://chromedriver.chromium.org/downloads\n",
        "\n",
        "6. 크롤러(crawler)\n",
        "   - 자동으로 웹 페이지에 있는 정보를 수집하는 프로그램이다.\n",
        "   - 크롤러을 '봇', '로봇', '스파이더'라 한다.\n",
        "   - 구글 등의 검색 엔진은 봇 크롤러를 사용해 전 세계에 있는 웹페이지의 정보를 모아서 축적한다. 그리고 사용자가 키워드를 검색하면 축적된 방대한 정보에서 적당한 웹페이지를 찾아서 제공해 준다.\n"
      ],
      "metadata": {
        "id": "y9AzWnBWOVGE"
      }
    },
    {
      "cell_type": "markdown",
      "source": [
        "###2 크롤링 허용 여부 확인하기\n",
        "- 크로링주소/robots.txt ( https://www.daum.net/robots.txt) \n",
        "- 만약에 https://www.naver.com/robots.txt 실행했을때 robots.txt파일이 검색이 안되면 수집에 대한 정책이 없   으며 크롤링 할 수 있다고 받아들여도 된다.\n",
        "- 수집정책 사이트 : http://www.robotstxt.org/\n",
        "\n",
        "  \n",
        "   |표시 | 허용여부|\n",
        "   |---|---|\n",
        "   |User-agent: *  | 모든 접근 허용|\n",
        "   |Disallow:      ||\n",
        "   | 또는          ||\n",
        "   |User-agent: *  ||\n",
        "   |Allow: /       ||\n",
        "   |User-agent:*   |모든 접근 금지|\n",
        "   |Disallow:/     ||\n",
        "   |User-agent: *  | 특정 디렉토리만 접근 금지|\n",
        "   |Disallow: /user/||"
      ],
      "metadata": {
        "id": "eJdubPn-dHyU"
      }
    },
    {
      "cell_type": "markdown",
      "source": [
        "### 2. urllib 모듈\n",
        "- URL문자열과 웹 요청에 관련된 모듈 5개 제공\n",
        " - urllib.request : URL 문자열을 가지고 요청 기능 제공\n",
        " - urllib.response : urllib 모듈에 의해 사용되는 응답 클래스들 제공\n",
        " - urllib.parse : URL 문자열을 파싱하여 해석하는 기능 제공\n",
        " - urllib.error : urllib.request에 의해 발생하는 예외 클래스 제공\n",
        " - urllib.robotparser : robots.txt파일을 구문 분석하는 기능 제공\n",
        "\n",
        "   https://seo.tbwakorea.com/blog/robots-txt-complete-guide/     "
      ],
      "metadata": {
        "id": "17T_bGQaTEUn"
      }
    },
    {
      "cell_type": "code",
      "execution_count": null,
      "metadata": {
        "id": "CuyGiVHqMO4h"
      },
      "outputs": [],
      "source": [
        "import urllib.request\n",
        "from urllib.request import urlopen\n"
      ]
    },
    {
      "cell_type": "code",
      "source": [
        "url = 'http://www.naver.com'\n",
        "html = urlopen(url)\n",
        "print(html.status)  # 응답코드 200 (정상적으로 응답을 받음)\n",
        "print(type(html))  #<class 'http.client.HTTPResponse'>\n",
        "print(dir(html))\n",
        "\n",
        "lines = html.read().decode('utf-8')\n",
        "#print(lines)\n",
        "\n",
        "\n",
        "with open('./urllib_naver.txt', 'w', encoding='utf-8') as f:  \n",
        "    f.write(lines)"
      ],
      "metadata": {
        "colab": {
          "base_uri": "https://localhost:8080/"
        },
        "id": "Xnc4U5-pTPIJ",
        "outputId": "3dd3f337-c291-40e0-ea19-535812f04926"
      },
      "execution_count": null,
      "outputs": [
        {
          "output_type": "stream",
          "name": "stdout",
          "text": [
            "200\n",
            "<class 'http.client.HTTPResponse'>\n",
            "['__abstractmethods__', '__class__', '__del__', '__delattr__', '__dict__', '__dir__', '__doc__', '__enter__', '__eq__', '__exit__', '__format__', '__ge__', '__getattribute__', '__gt__', '__hash__', '__init__', '__init_subclass__', '__iter__', '__le__', '__lt__', '__module__', '__ne__', '__new__', '__next__', '__reduce__', '__reduce_ex__', '__repr__', '__setattr__', '__sizeof__', '__str__', '__subclasshook__', '_abc_impl', '_checkClosed', '_checkReadable', '_checkSeekable', '_checkWritable', '_check_close', '_close_conn', '_get_chunk_left', '_method', '_peek_chunked', '_read1_chunked', '_read_and_discard_trailer', '_read_next_chunk_size', '_read_status', '_readall_chunked', '_readinto_chunked', '_safe_read', '_safe_readinto', 'begin', 'chunk_left', 'chunked', 'close', 'closed', 'code', 'debuglevel', 'detach', 'fileno', 'flush', 'fp', 'getcode', 'getheader', 'getheaders', 'geturl', 'headers', 'info', 'isatty', 'isclosed', 'length', 'msg', 'peek', 'read', 'read1', 'readable', 'readinto', 'readinto1', 'readline', 'readlines', 'reason', 'seek', 'seekable', 'status', 'tell', 'truncate', 'url', 'version', 'will_close', 'writable', 'write', 'writelines']\n"
          ]
        }
      ]
    },
    {
      "cell_type": "code",
      "source": [
        "with open('./urllib_naver.txt', 'r') as f:\n",
        "#  print(f.read())\n",
        "   print(f.readline()) # 첫 줄이 공백임\n",
        "   print(f.readline())"
      ],
      "metadata": {
        "colab": {
          "base_uri": "https://localhost:8080/"
        },
        "id": "mR4rrveDTaZ3",
        "outputId": "8d4167f5-4e37-459e-88e7-18be3d24fdfe"
      },
      "execution_count": null,
      "outputs": [
        {
          "output_type": "stream",
          "name": "stdout",
          "text": [
            "\n",
            "\n",
            "<!doctype html>                          <html lang=\"ko\" data-dark=\"false\"> <head> <meta charset=\"utf-8\"> <title>NAVER</title> <meta http-equiv=\"X-UA-Compatible\" content=\"IE=edge\"> <meta name=\"viewport\" content=\"width=1190\"> <meta name=\"apple-mobile-web-app-title\" content=\"NAVER\"/> <meta name=\"robots\" content=\"index,nofollow\"/> <meta name=\"description\" content=\"네이버 메인에서 다양한 정보와 유용한 컨텐츠를 만나 보세요\"/> <meta property=\"og:title\" content=\"네이버\"> <meta property=\"og:url\" content=\"https://www.naver.com/\"> <meta property=\"og:image\" content=\"https://s.pstatic.net/static/www/mobile/edit/2016/0705/mobile_212852414260.png\"> <meta property=\"og:description\" content=\"네이버 메인에서 다양한 정보와 유용한 컨텐츠를 만나 보세요\"/> <meta name=\"twitter:card\" content=\"summary\"> <meta name=\"twitter:title\" content=\"\"> <meta name=\"twitter:url\" content=\"https://www.naver.com/\"> <meta name=\"twitter:image\" content=\"https://s.pstatic.net/static/www/mobile/edit/2016/0705/mobile_212852414260.png\"> <meta name=\"twitter:description\" content=\"네이버 메인에서 다양한 정보와 유용한 컨텐츠를 만나 보세요\"/>  <link rel=\"stylesheet\" href=\"https://pm.pstatic.net/dist/css/nmain.20221110.css\"> <link rel=\"stylesheet\" href=\"https://ssl.pstatic.net/sstatic/search/pc/css/sp_autocomplete_220526.css\"> <link rel=\"shortcut icon\" type=\"image/x-icon\" href=\"/favicon.ico?1\"/>  <link rel=\"apple-touch-icon\" sizes=\"114x114\" href=\"https://s.pstatic.net/static/www/u/2014/0328/mma_204243574.png\"/> <link rel=\"apple-touch-icon\" href=\"https://s.pstatic.net/static/www/u/2014/0328/mma_20432863.png\"/> <script>window.nmain=window.nmain||{},window.nmain.supportFlicking=!1;var nsc=\"navertop.v4\",ua=navigator.userAgent,useIeJSFlag=\"1\";window.nmain.isIE=\"0\"===useIeJSFlag,document.getElementsByTagName(\"html\")[0].setAttribute(\"data-useragent\",ua),window.nmain.isIE&&(Object.create=function(n){function a(){}return a.prototype=n,new a})</script> <script>var darkmode= false;window.naver_corp_da=window.naver_corp_da||{main:{}},window.naver_corp_da.main=window.naver_corp_da.main||{},window.naver_corp_da.main.darkmode=darkmode,window.gladsdk=window.gladsdk||{cmd:[]},window.gladsdk.cmd.push((function(){window.gladsdk.setHostMeta(\"theme\",darkmode?\"dark\":\"light\")})),window.ndpsdk=window.ndpsdk||{cmd:[],polyfill:{cmd:[]}},window.ndpsdk.cmd.push((function(){window.ndpsdk.setHostMeta(\"theme\",darkmode?\"dark\":\"light\")}))</script>  <script async src=\"https://ssl.pstatic.net/tveta/libs/glad/prod/gfp-core.js\"></script> <script async src=\"https://ssl.pstatic.net/tveta/libs/ndpsdk/prod/ndp-loader.js\"></script>  <script> window.nmain.gv = {  isLogin: false,\n",
            "\n"
          ]
        }
      ]
    },
    {
      "cell_type": "markdown",
      "source": [
        "#### http.client.HTTPResponse객체의 read() 메서드\n",
        "- read() 메서드를 실행하면 웹 서버가 전달한 데이터(응답  바디)를 바이트열로 읽어 들린다.\n",
        "- 바이트열\n",
        "  - 16진수로 이루어진 수열이기 때문에 읽기 어려우므로 웹 서버가 보낸 한글을 포함한 텍스트 형식의 HTML문서의 내용을 읽을 때는 텍스트 형식으로 변환한다.\n",
        "  - 바이트열(bytes)의 decode('문자셋')메서드를 실행하여 응답된 문자 셋에 알맞은 문자로 변환한다.\n"
      ],
      "metadata": {
        "id": "F_yUQxaEfxDG"
      }
    },
    {
      "cell_type": "code",
      "source": [],
      "metadata": {
        "id": "oQoKC1m_Ue3z"
      },
      "execution_count": null,
      "outputs": []
    },
    {
      "cell_type": "markdown",
      "source": [
        "#### 웹페이지 인코딩 체크\n",
        " - 웹 크롤링하려는 웹 페이지가 어떠한 문자 셋으로 작성되었는지 파악하는 것이 필수이다.\n",
        "   - 페이지의 소스 내용에서 <meta>태그의 charset정보를 체크하면 파악 가능하다.\n",
        "      - `<meta charset=\"utf-8\">`\n",
        "   - 웹 페이지의 문자 셋 정보를 파이썬 프로그램으로도 파악할 수 있다.\n",
        "     - urllib.request.urlopen( ) 함수의 리턴값인  http.client.HTTPResponse 객체의  info() 메소드 호출\n",
        "     - http.client.HTTPMessage 객체가 리턴\n",
        "     - get_content_charset( )메소드 호출\n",
        "     - 문자 셋 정보를 문자열로 리턴 받음"
      ],
      "metadata": {
        "id": "cJYy-RaoiO3T"
      }
    },
    {
      "cell_type": "code",
      "source": [
        "url = 'http://www.naver.com'\n",
        "f = urllib.request.urlopen(url)\n",
        "print(f)\n",
        "print(dir(type(f.info())))\n",
        "encoding = f.info().get_content_charset()\n",
        "print(encoding)"
      ],
      "metadata": {
        "id": "dZckLzq2i17T",
        "colab": {
          "base_uri": "https://localhost:8080/"
        },
        "outputId": "51d24b69-6d4c-477b-918e-eda8d9cfa007"
      },
      "execution_count": null,
      "outputs": [
        {
          "output_type": "stream",
          "name": "stdout",
          "text": [
            "<http.client.HTTPResponse object at 0x7f3c2fe4d940>\n",
            "['__bytes__', '__class__', '__contains__', '__delattr__', '__delitem__', '__dict__', '__dir__', '__doc__', '__eq__', '__format__', '__ge__', '__getattribute__', '__getitem__', '__gt__', '__hash__', '__init__', '__init_subclass__', '__iter__', '__le__', '__len__', '__lt__', '__module__', '__ne__', '__new__', '__reduce__', '__reduce_ex__', '__repr__', '__setattr__', '__setitem__', '__sizeof__', '__str__', '__subclasshook__', '__weakref__', '_get_params_preserve', 'add_header', 'as_bytes', 'as_string', 'attach', 'del_param', 'get', 'get_all', 'get_boundary', 'get_charset', 'get_charsets', 'get_content_charset', 'get_content_disposition', 'get_content_maintype', 'get_content_subtype', 'get_content_type', 'get_default_type', 'get_filename', 'get_param', 'get_params', 'get_payload', 'get_unixfrom', 'getallmatchingheaders', 'is_multipart', 'items', 'keys', 'raw_items', 'replace_header', 'set_boundary', 'set_charset', 'set_default_type', 'set_param', 'set_payload', 'set_raw', 'set_type', 'set_unixfrom', 'values', 'walk']\n",
            "utf-8\n"
          ]
        }
      ]
    },
    {
      "cell_type": "markdown",
      "source": [
        "### 3 requests 모듈\n",
        " - Kenneth Reitz에 의해 개발된 파이썬 라이브러리이다.\n",
        " - HTTP 프로토콜과 관련된 기능을 지원한다.  \n",
        " - anaconda에서는 site-package로 설치되어 있음\n",
        " -만약에 필요하면  !pip install requests\n",
        " - requests.request(method, url, **kwargs)에서 제공해주는 함수\n",
        "   - method : 요청 방식 지정(GET, POST, HEAD, PUT, DELETE, OPTIONS)\n",
        "   - url : 요청할 대상 URL 문자열 지정\n",
        "   - params : [선택적]요청시 전달 할  Query문자열 지정(딕셔너리, 튜플, 리스트, 바이트열 가능)\n",
        "   - data : [선택적]요청시 바디에 담아서 전달할 요청 파라미터 지정(딕셔너리, 튜플, 리스트, 바이트열 가능)\n",
        "   - json : [선택적] 요청시 바디에 담아서 전달할 json타입의 객체 지정\n",
        "   - auth : [선택적]인증처리(로그인)에 사용할 튜플 지정\n",
        " - requests. request( )함수에 요청 방식을 지정하여 호출하는 것과 동일한 함수를 지원한다.\n",
        "    - requests.get(url, params=None, **kwargs)\n",
        "    - requests.post(url, data=None, json=None)\n",
        "    - requests.delete(url, **kwargs)\n",
        " - requests.models.Response객체(응답객체)\n",
        "   - text\n",
        "       - 문자열 형식으로 응답 컨텐츠 추출\n",
        "       - 추출시 사용되는 문자셋은 'ISO-8859-1'이므로 'utf-8'이나 'euc-kr' 문자셋으로 작성된 콘텐츠 추출시 한글이 깨지는 현상 발생\n",
        "       - 추출전 응답되는 컨텐츠의 문자셋정보를 파악하여 Response객체의 encoding속성에 문자 셋 정보를 설정한 후 추출\n",
        "\n",
        "  - content\n",
        "      - 바이트열 형식으로 응답 콘텐츠 추출\n",
        "      - 응답 콘텐츠가 이미지와 같은 바이너리 형식은 경우 사용\n",
        "      - 한글이 들어간 문자열 형식인 경우 r.content.decode('utf-8')를 사용해서 디코드 해야함\n",
        "      \n"
      ],
      "metadata": {
        "id": "z_vf1yOgndki"
      }
    },
    {
      "cell_type": "code",
      "source": [
        "import requests\n",
        "\n",
        "url = 'http://www.naver.com'\n",
        "cont = requests.get(url)\n",
        "print(cont)  # <Response [200]>\n",
        "print(type(cont)) #<class 'requests.models.Response'>\n",
        "print(dir(cont))\n",
        "print(cont.status_code) # 200\n",
        "print(type(cont.text))\n",
        "#print(cont.text) # String 자료형으로 반환\n",
        "print(type(cont.content))\n",
        "print(cont.content) # 바이트열 자료형으로 반환\n"
      ],
      "metadata": {
        "colab": {
          "base_uri": "https://localhost:8080/"
        },
        "id": "eqMLtcOzjGEk",
        "outputId": "36cad696-0c2b-4d66-80b9-74f5512d0cb4"
      },
      "execution_count": null,
      "outputs": [
        {
          "output_type": "stream",
          "name": "stdout",
          "text": [
            "<Response [200]>\n",
            "<class 'requests.models.Response'>\n",
            "['__attrs__', '__bool__', '__class__', '__delattr__', '__dict__', '__dir__', '__doc__', '__enter__', '__eq__', '__exit__', '__format__', '__ge__', '__getattribute__', '__getstate__', '__gt__', '__hash__', '__init__', '__init_subclass__', '__iter__', '__le__', '__lt__', '__module__', '__ne__', '__new__', '__nonzero__', '__reduce__', '__reduce_ex__', '__repr__', '__setattr__', '__setstate__', '__sizeof__', '__str__', '__subclasshook__', '__weakref__', '_content', '_content_consumed', '_next', 'apparent_encoding', 'close', 'connection', 'content', 'cookies', 'elapsed', 'encoding', 'headers', 'history', 'is_permanent_redirect', 'is_redirect', 'iter_content', 'iter_lines', 'json', 'links', 'next', 'ok', 'raise_for_status', 'raw', 'reason', 'request', 'status_code', 'text', 'url']\n",
            "200\n",
            "<class 'str'>\n",
            "<class 'bytes'>\n",
            "b'\\n<!doctype html>                          <html lang=\"ko\" data-dark=\"false\"> <head> <meta charset=\"utf-8\"> <title>NAVER</title> <meta http-equiv=\"X-UA-Compatible\" content=\"IE=edge\"> <meta name=\"viewport\" content=\"width=1190\"> <meta name=\"apple-mobile-web-app-title\" content=\"NAVER\"/> <meta name=\"robots\" content=\"index,nofollow\"/> <meta name=\"description\" content=\"\\xeb\\x84\\xa4\\xec\\x9d\\xb4\\xeb\\xb2\\x84 \\xeb\\xa9\\x94\\xec\\x9d\\xb8\\xec\\x97\\x90\\xec\\x84\\x9c \\xeb\\x8b\\xa4\\xec\\x96\\x91\\xed\\x95\\x9c \\xec\\xa0\\x95\\xeb\\xb3\\xb4\\xec\\x99\\x80 \\xec\\x9c\\xa0\\xec\\x9a\\xa9\\xed\\x95\\x9c \\xec\\xbb\\xa8\\xed\\x85\\x90\\xec\\xb8\\xa0\\xeb\\xa5\\xbc \\xeb\\xa7\\x8c\\xeb\\x82\\x98 \\xeb\\xb3\\xb4\\xec\\x84\\xb8\\xec\\x9a\\x94\"/> <meta property=\"og:title\" content=\"\\xeb\\x84\\xa4\\xec\\x9d\\xb4\\xeb\\xb2\\x84\"> <meta property=\"og:url\" content=\"https://www.naver.com/\"> <meta property=\"og:image\" content=\"https://s.pstatic.net/static/www/mobile/edit/2016/0705/mobile_212852414260.png\"> <meta property=\"og:description\" content=\"\\xeb\\x84\\xa4\\xec\\x9d\\xb4\\xeb\\xb2\\x84 \\xeb\\xa9\\x94\\xec\\x9d\\xb8\\xec\\x97\\x90\\xec\\x84\\x9c \\xeb\\x8b\\xa4\\xec\\x96\\x91\\xed\\x95\\x9c \\xec\\xa0\\x95\\xeb\\xb3\\xb4\\xec\\x99\\x80 \\xec\\x9c\\xa0\\xec\\x9a\\xa9\\xed\\x95\\x9c \\xec\\xbb\\xa8\\xed\\x85\\x90\\xec\\xb8\\xa0\\xeb\\xa5\\xbc \\xeb\\xa7\\x8c\\xeb\\x82\\x98 \\xeb\\xb3\\xb4\\xec\\x84\\xb8\\xec\\x9a\\x94\"/> <meta name=\"twitter:card\" content=\"summary\"> <meta name=\"twitter:title\" content=\"\"> <meta name=\"twitter:url\" content=\"https://www.naver.com/\"> <meta name=\"twitter:image\" content=\"https://s.pstatic.net/static/www/mobile/edit/2016/0705/mobile_212852414260.png\"> <meta name=\"twitter:description\" content=\"\\xeb\\x84\\xa4\\xec\\x9d\\xb4\\xeb\\xb2\\x84 \\xeb\\xa9\\x94\\xec\\x9d\\xb8\\xec\\x97\\x90\\xec\\x84\\x9c \\xeb\\x8b\\xa4\\xec\\x96\\x91\\xed\\x95\\x9c \\xec\\xa0\\x95\\xeb\\xb3\\xb4\\xec\\x99\\x80 \\xec\\x9c\\xa0\\xec\\x9a\\xa9\\xed\\x95\\x9c \\xec\\xbb\\xa8\\xed\\x85\\x90\\xec\\xb8\\xa0\\xeb\\xa5\\xbc \\xeb\\xa7\\x8c\\xeb\\x82\\x98 \\xeb\\xb3\\xb4\\xec\\x84\\xb8\\xec\\x9a\\x94\"/>  <link rel=\"stylesheet\" href=\"https://pm.pstatic.net/dist/css/nmain.20221110.css\"> <link rel=\"stylesheet\" href=\"https://ssl.pstatic.net/sstatic/search/pc/css/sp_autocomplete_220526.css\"> <link rel=\"shortcut icon\" type=\"image/x-icon\" href=\"/favicon.ico?1\"/>  <link rel=\"apple-touch-icon\" sizes=\"114x114\" href=\"https://s.pstatic.net/static/www/u/2014/0328/mma_204243574.png\"/> <link rel=\"apple-touch-icon\" href=\"https://s.pstatic.net/static/www/u/2014/0328/mma_20432863.png\"/> <script>window.nmain=window.nmain||{},window.nmain.supportFlicking=!1;var nsc=\"navertop.v4\",ua=navigator.userAgent,useIeJSFlag=\"1\";window.nmain.isIE=\"0\"===useIeJSFlag,document.getElementsByTagName(\"html\")[0].setAttribute(\"data-useragent\",ua),window.nmain.isIE&&(Object.create=function(n){function a(){}return a.prototype=n,new a})</script> <script>var darkmode= false;window.naver_corp_da=window.naver_corp_da||{main:{}},window.naver_corp_da.main=window.naver_corp_da.main||{},window.naver_corp_da.main.darkmode=darkmode,window.gladsdk=window.gladsdk||{cmd:[]},window.gladsdk.cmd.push((function(){window.gladsdk.setHostMeta(\"theme\",darkmode?\"dark\":\"light\")})),window.ndpsdk=window.ndpsdk||{cmd:[],polyfill:{cmd:[]}},window.ndpsdk.cmd.push((function(){window.ndpsdk.setHostMeta(\"theme\",darkmode?\"dark\":\"light\")}))</script>  <script async src=\"https://ssl.pstatic.net/tveta/libs/glad/prod/gfp-core.js\"></script> <script async src=\"https://ssl.pstatic.net/tveta/libs/ndpsdk/prod/ndp-loader.js\"></script>  <script> window.nmain.gv = {  isLogin: false,\\nuseId: null,   daInfo: {\"BEAUTY\":{\"menu\":\"BEAUTY\",\"childMenu\":\"\",\"adType\":\"singleDom\",\"multiDomAdUrl\":\"\",\"multiDomUnit\":\"\",\"infoList\":[{\"adposId\":\"1000163\",\"singleDomAdUrl\":\"https://siape.veta.naver.com/fxshow\",\"param\":{\"da_dom_id\":\"p_main_beauty_1\",\"tb\":\"BEAUTY_1\",\"unit\":\"SU10595\",\"calp\":\"-\"},\"type\":{\"position\":\"abs\",\"positionIndex\":4,\"subject\":\"contents\"},\"dom\":null},{\"adposId\":\"1000164\",\"singleDomAdUrl\":\"https://siape.veta.naver.com/fxshow\",\"param\":{\"da_dom_id\":\"p_main_beauty_2\",\"tb\":\"BEAUTY_1\",\"unit\":\"SU10596\",\"calp\":\"-\"},\"type\":{\"position\":\"abs\",\"positionIndex\":8,\"subject\":\"contents\"},\"dom\":null}]},\"LIVING\":{\"menu\":\"LIVING\",\"childMenu\":\"\",\"adType\":\"singleDom\",\"multiDomAdUrl\":\"\",\"multiDomUnit\":\"\",\"infoList\":[{\"adposId\":\"1000183\",\"singleDomAdUrl\":\"https://siape.veta.naver.com/fxshow\",\"param\":{\"da_dom_id\":\"p_main_living_1\",\"tb\":\"LIVING_1\",\"unit\":\"SU10597\",\"calp\":\"-\"},\"type\":{\"position\":\"abs\",\"positionIndex\":4,\"subject\":\"contents\"},\"dom\":null},{\"adposId\":\"1000184\",\"singleDomAdUrl\":\"https://siape.veta.naver.com/fxshow\",\"param\":{\"da_dom_id\":\"p_main_living_2\",\"tb\":\"LIVING_1\",\"unit\":\"SU10606\",\"calp\":\"-\"},\"type\":{\"position\":\"abs\",\"positionIndex\":8,\"subject\":\"contents\"},\"dom\":null}]},\"LIVINGHOME\":{\"menu\":\"LIVINGHOME\",\"childMenu\":\"\",\"adType\":\"singleDom\",\"multiDomAdUrl\":\"\",\"multiDomUnit\":\"\",\"infoList\":[{\"adposId\":\"1000185\",\"singleDomAdUrl\":\"https://siape.veta.naver.com/fxshow\",\"param\":{\"da_dom_id\":\"p_main_livinghome_1\",\"tb\":\"LIVINGHOME_1\",\"unit\":\"SU10571\",\"calp\":\"-\"},\"type\":{\"position\":\"abs\",\"positionIndex\":4,\"subject\":\"contents\"},\"dom\":null},{\"adposId\":\"1000186\",\"singleDomAdUrl\":\"https://siape.veta.naver.com/fxshow\",\"param\":{\"da_dom_id\":\"p_main_livinghome_2\",\"tb\":\"LIVINGHOME_1\",\"unit\":\"SU10572\",\"calp\":\"-\"},\"type\":{\"position\":\"abs\",\"positionIndex\":8,\"subject\":\"contents\"},\"dom\":null}]}},\\nsvt: 20221208212417,\\n}; </script> <script> window.nmain.newsstand = {\\nrcode: \\'(none)\\',\\nnewsCastSubsInfo: \\'\\',\\nnewsStandSubsInfo: \\'\\'\\n};\\nwindow.etc = {  };\\nwindow.svr = \"<!--cvweb03-->\"; </script> <script src=\"https://ssl.pstatic.net/tveta/libs/assets/js/pc/main/min/pc.veta.core.min.js\" defer=\"defer\"></script>   <script src=\"https://pm.pstatic.net/dist/js/external.2961eaa5.js?o=www\" type=\"text/javascript\" crossorigin=\"anonymous\" defer=\"defer\"></script> <script src=\"https://pm.pstatic.net/dist/js/preload.5fe99fda.js?o=www\" type=\"text/javascript\" crossorigin=\"anonymous\" defer=\"defer\"></script> <script src=\"https://pm.pstatic.net/dist/js/polyfill.f3c68d2d.js?o=www\" type=\"text/javascript\" crossorigin=\"anonymous\" defer=\"defer\"></script>  <script src=\"https://pm.pstatic.net/dist/js/vendors~more~nmain~notice~search~sidebar_notice.40da85e0.js?o=www\" type=\"text/javascript\" crossorigin=\"anonymous\" defer=\"defer\"></script>   <script src=\"https://pm.pstatic.net/dist/js/search.607b49e4.js?o=www\" type=\"text/javascript\" crossorigin=\"anonymous\" defer=\"defer\"></script>  <script src=\"https://pm.pstatic.net/dist/js/vendors~more~nmain~sidebar_notice.7aad5e27.js?o=www\" type=\"text/javascript\" crossorigin=\"anonymous\" defer=\"defer\"></script> <script src=\"https://pm.pstatic.net/dist/js/nmain.e31af4db.js?o=www\" type=\"text/javascript\" crossorigin=\"anonymous\" defer=\"defer\"></script> <style>:root{color-scheme:light}#_nx_kbd .setkorhelp a{display:none}</style> </head> <body> <div id=\"u_skip\"> <a href=\"#newsstand\"><span>\\xeb\\x89\\xb4\\xec\\x8a\\xa4\\xec\\x8a\\xa4\\xed\\x83\\xa0\\xeb\\x93\\x9c \\xeb\\xb0\\x94\\xeb\\xa1\\x9c\\xea\\xb0\\x80\\xea\\xb8\\xb0</span></a> <a href=\"#themecast\"><span>\\xec\\xa3\\xbc\\xec\\xa0\\x9c\\xeb\\xb3\\x84\\xec\\xba\\x90\\xec\\x8a\\xa4\\xed\\x8a\\xb8 \\xeb\\xb0\\x94\\xeb\\xa1\\x9c\\xea\\xb0\\x80\\xea\\xb8\\xb0</span></a> <a href=\"#timesquare\"><span>\\xed\\x83\\x80\\xec\\x9e\\x84\\xec\\x8a\\xa4\\xed\\x80\\x98\\xec\\x96\\xb4 \\xeb\\xb0\\x94\\xeb\\xa1\\x9c\\xea\\xb0\\x80\\xea\\xb8\\xb0</span></a> <a href=\"#shopcast\"><span>\\xec\\x87\\xbc\\xed\\x95\\x91\\xec\\xba\\x90\\xec\\x8a\\xa4\\xed\\x8a\\xb8 \\xeb\\xb0\\x94\\xeb\\xa1\\x9c\\xea\\xb0\\x80\\xea\\xb8\\xb0</span></a> <a href=\"#account\"><span>\\xeb\\xa1\\x9c\\xea\\xb7\\xb8\\xec\\x9d\\xb8 \\xeb\\xb0\\x94\\xeb\\xa1\\x9c\\xea\\xb0\\x80\\xea\\xb8\\xb0</span></a> </div> <div id=\"wrap\">         \\n<style>._1syGnXOL{padding-right:18px;font-size:14px;line-height:0;letter-spacing:-.25px;color:#000}._1syGnXOL span,._1syGnXOL strong{line-height:49px}._1syGnXOL:before{display:inline-block;content:\"\";vertical-align:top;background-image:url(https://static-whale.pstatic.net/main/sprite-20220513@2x.png);background-repeat:no-repeat;background-size:141px 112px;width:18px;height:18px;margin:16px 8px 0 0;background-position:-98px 0}[data-useragent*=\"MSIE 8\"] ._1syGnXOL:before{background-image:url(https://static-whale.pstatic.net/main/sprite-20220513.png)}._1syGnXOL._3dsvmZg2:before{background-position:-47px -85px}._1syGnXOL._1NBFx1WK:before{width:20px;height:20px;margin:15px 8px 0 0;background-position:-21px -89px}._1syGnXOL._2mcQEKCd:before{width:22px;height:22px;margin:14px 7px 0 0;background-position:-47px -63px}._1syGnXOL._36slsKuJ:before{width:21px;height:49px;margin:0 14px 0 0;background-position:0 -63px}._1syGnXOL._3qlJVWzR:before{width:24px;height:49px;margin:0 10px 0 0;background-position:-117px 0}._1syGnXOL._3di88A4c{padding-right:12px;font-size:17px}._1syGnXOL._3di88A4c:before{content:none}._1syGnXOL ._19K4X1CD{text-decoration:underline}._2aeXMlrb{display:inline-block;position:relative;font-size:12px;height:49px;width:78px;text-decoration:none;color:#fff;font-weight:700;letter-spacing:-.5px;vertical-align:top}._2aeXMlrb span{text-align:center;margin:9px 0;height:31px;display:block;line-height:31px;border-radius:15px}._2aeXMlrb span:before{display:inline-block;content:\"\";vertical-align:top;background-image:url(https://static-whale.pstatic.net/main/sprite-20220513@2x.png);background-repeat:no-repeat;background-size:141px 112px}[data-useragent*=\"MSIE 8\"] ._2aeXMlrb span:before{background-image:url(https://static-whale.pstatic.net/main/sprite-20220513.png)}._2aeXMlrb.BMgpjddw{font-size:11px;width:94px}._2aeXMlrb.BMgpjddw span:before{margin:9px 3px 0 0;width:17px;height:13px;background-position:-89px -63px}._3h-N8T9V{position:absolute;top:0;left:0;right:0;bottom:0;background:rgba(0,0,0,0)}._1KncATpM{display:inline-block;content:\"\";vertical-align:top;background-image:url(https://static-whale.pstatic.net/main/sprite-20220513@2x.png);background-repeat:no-repeat;background-size:141px 112px;margin-top:14px;float:left;width:98px;height:21px;background-position:0 -21px}[data-useragent*=\"MSIE 8\"] ._1KncATpM{background-image:url(https://static-whale.pstatic.net/main/sprite-20220513.png)}._1KncATpM._2v3uxv2x{background-position:0 0}._1KncATpM._1yl_Ow6o{background-position:0 -42px}._20PYt6lT{font-size:11px;height:49px;cursor:pointer;position:absolute;top:0;right:0;color:#666;opacity:.7}._20PYt6lT:after{width:15px;height:15px;margin-left:4px;background-position:-98px -33px;display:inline-block;content:\"\";vertical-align:top;background-image:url(https://static-whale.pstatic.net/main/sprite-20220513@2x.png);background-repeat:no-repeat;background-size:141px 112px}[data-useragent*=\"MSIE 8\"] ._20PYt6lT:after{background-image:url(https://static-whale.pstatic.net/main/sprite-20220513.png)}._20PYt6lT._39oMCV2N:after{background-position:-98px -18px}._20PYt6lT._3MOWOORv{color:#c3c2c2}._20PYt6lT._3MOWOORv:after{background-position:-80px -85px}._20PYt6lT._3wm5EzmJ{color:#fff}._20PYt6lT._3wm5EzmJ:after{background-position:-65px -85px}._1hiMWemA{height:49px}._1hiMWemA .tY_u8r23{position:relative;width:1130px;margin:0 auto}._1hiMWemA .tY_u8r23 a{text-decoration:none}._1hiMWemA._23U_6TM_{position:relative}._1hiMWemA._23U_6TM_:after{position:absolute;z-index:1;content:\"\";display:block;width:100%;height:1px;bottom:0;background-color:rgba(0,0,0,.050980392156862744)}</style>\\n<div\\nid=\"NM_TOP_BANNER\"\\ndata-clk-prefix=\"top\"\\nclass=\"_1hiMWemA\"\\nstyle=\"background-color: #21232b\"\\n>\\n<div class=\"tY_u8r23\">\\n<a\\nclass=\"_3h-N8T9V\"\\nhref=\"https://whale.naver.com/banner/details/darkmode?=main&wpid=RydDy7\"\\ndata-clk=\"dropbanner1b\"\\n></a\\n><i class=\"_1KncATpM _1yl_Ow6o\"><span class=\"blind\">NAVER whale</span></i\\n><img\\nsrc=\"https://static-whale.pstatic.net/main/img_darkmode_v12@2x.png\"\\nwidth=\"200\"\\nheight=\"49\"\\nalt=\"\"\\nstyle=\"padding-left: 100px\"\\n/><span\\nclass=\"_1syGnXOL _3di88A4c\"\\ndata-clk=\"dropbanner1b\"\\nstyle=\"padding-right: 20px; color: white; padding-left: 20px\"\\n><span>\\xeb\\x88\\x88\\xeb\\xb6\\x80\\xec\\x8b\\xac \\xec\\x97\\x86\\xeb\\x8a\\x94 \\xed\\x8e\\xb8\\xec\\x95\\x88~\\xed\\x95\\xa8 </span\\n><strong style=\"color: #22d4ad\">\\xeb\\x82\\xb4\\xea\\xb0\\x80 \\xeb\\x8b\\xa4\\xed\\x81\\xac \\xeb\\xaa\\xa8\\xeb\\x93\\x9c \\xec\\x93\\xb0\\xeb\\x8a\\x94 \\xec\\x9d\\xb4\\xec\\x9c\\xa0</strong></span\\n><a\\nhref=\"https://installer-whale.pstatic.net/downloads/banner/RydDy7/WhaleSetup.exe\"\\nclass=\"_2aeXMlrb BMgpjddw\"\\nid=\"NM_whale_download_btn\"\\ndata-clk=\"dropdownload1b\"\\n><span style=\"background-color: #03bc93\">\\xeb\\x8b\\xa4\\xec\\x9a\\xb4\\xeb\\xa1\\x9c\\xeb\\x93\\x9c</span></a\\n><button\\ntype=\"button\"\\ndata-ui-cookie-exp-days=\"3\"\\ndata-ui-cookie-key=\"NM_TOP_PROMOTION\"\\ndata-ui-cookie-value=\"1\"\\ndata-ui-hide-target=\"#NM_TOP_BANNER\"\\ndata-clk=\"dropclose1b\"\\nclass=\"_20PYt6lT _3wm5EzmJ\"\\n>\\n3\\xec\\x9d\\xbc \\xeb\\x8f\\x99\\xec\\x95\\x88 \\xeb\\xb3\\xb4\\xec\\xa7\\x80 \\xec\\x95\\x8a\\xea\\xb8\\xb0\\n</button>\\n</div>\\n</div>  <div id=\"header\" role=\"banner\">\\n\\n\\n\\n\\n\\n\\n\\n\\n<div class=\"special_bg\">\\n<div class=\"group_flex\">\\n<div class=\"logo_area\">\\n<h1 class=\"logo_default\">\\n<a href=\"/\" class=\"logo_naver\" data-clk=\"top.logo\"\\n><span class=\"blind\">\\xeb\\x84\\xa4\\xec\\x9d\\xb4\\xeb\\xb2\\x84</span></a\\n>\\n</h1>\\n</div>\\n<div class=\"service_area\">\\n<a id=\"NM_set_home_btn\" href=\"https://help.naver.com/support/welcomePage/guide.help\" class=\"link_set\" data-clk=\"top.mkhome\">\\xeb\\x84\\xa4\\xec\\x9d\\xb4\\xeb\\xb2\\x84\\xeb\\xa5\\xbc \\xec\\x8b\\x9c\\xec\\x9e\\x91\\xed\\x8e\\x98\\xec\\x9d\\xb4\\xec\\xa7\\x80\\xeb\\xa1\\x9c</a>\\n<i class=\"sa_bar\"></i>\\n<a href=\"https://jr.naver.com\" class=\"link_jrnaver\" data-clk=\"top.jrnaver\"><i class=\"ico_jrnaver\"></i><span class=\"blind\">\\xec\\xa5\\xac\\xeb\\x8b\\x88\\xec\\x96\\xb4\\xeb\\x84\\xa4\\xec\\x9d\\xb4\\xeb\\xb2\\x84</span></a>\\n<a href=\"https://happybean.naver.com\" class=\"link_happybin\" data-clk=\"top.happybean\"><i class=\"ico_happybin\"></i><span class=\"blind\">\\xed\\x95\\xb4\\xed\\x94\\xbc\\xeb\\xb9\\x88</span></a>\\n</div>\\n\\n<div id=\"search\" class=\"search_area\" data-clk-prefix=\"sch\">\\n<form id=\"sform\" name=\"sform\" action=\"https://search.naver.com/search.naver\" method=\"get\" role=\"search\">\\n<fieldset>\\n<legend class=\"blind\">\\xea\\xb2\\x80\\xec\\x83\\x89</legend>\\n<select id=\"where\" name=\"where\" title=\"\\xea\\xb2\\x80\\xec\\x83\\x89 \\xeb\\xb2\\x94\\xec\\x9c\\x84 \\xec\\x84\\xa0\\xed\\x83\\x9d\" class=\"blind\">\\n<option value=\"nexearch\" selected=\"selected\">\\xed\\x86\\xb5\\xed\\x95\\xa9\\xea\\xb2\\x80\\xec\\x83\\x89</option><option value=\"post\">\\xeb\\xb8\\x94\\xeb\\xa1\\x9c\\xea\\xb7\\xb8</option><option value=\"cafeblog\">\\xec\\xb9\\xb4\\xed\\x8e\\x98</option><option value=\"cafe\">- \\xec\\xb9\\xb4\\xed\\x8e\\x98\\xeb\\xaa\\x85</option><option value=\"article\">- \\xec\\xb9\\xb4\\xed\\x8e\\x98\\xea\\xb8\\x80</option><option value=\"kin\">\\xec\\xa7\\x80\\xec\\x8b\\x9diN</option><option value=\"news\">\\xeb\\x89\\xb4\\xec\\x8a\\xa4</option><option value=\"web\">\\xec\\x82\\xac\\xec\\x9d\\xb4\\xed\\x8a\\xb8</option><option value=\"category\">- \\xec\\xb9\\xb4\\xed\\x85\\x8c\\xea\\xb3\\xa0\\xeb\\xa6\\xac</option><option value=\"site\">- \\xec\\x82\\xac\\xec\\x9d\\xb4\\xed\\x8a\\xb8</option><option value=\"movie\">\\xec\\x98\\x81\\xed\\x99\\x94</option><option value=\"webkr\">\\xec\\x9b\\xb9\\xeb\\xac\\xb8\\xec\\x84\\x9c</option><option value=\"dic\">\\xec\\x82\\xac\\xec\\xa0\\x84</option><option value=\"100\">- \\xeb\\xb0\\xb1\\xea\\xb3\\xbc\\xec\\x82\\xac\\xec\\xa0\\x84</option><option value=\"endic\">- \\xec\\x98\\x81\\xec\\x96\\xb4\\xec\\x82\\xac\\xec\\xa0\\x84</option><option value=\"eedic\">- \\xec\\x98\\x81\\xec\\x98\\x81\\xec\\x82\\xac\\xec\\xa0\\x84</option><option value=\"krdic\">- \\xea\\xb5\\xad\\xec\\x96\\xb4\\xec\\x82\\xac\\xec\\xa0\\x84</option><option value=\"jpdic\">- \\xec\\x9d\\xbc\\xeb\\xb3\\xb8\\xec\\x96\\xb4\\xec\\x82\\xac\\xec\\xa0\\x84</option><option value=\"hanja\">- \\xed\\x95\\x9c\\xec\\x9e\\x90\\xec\\x82\\xac\\xec\\xa0\\x84</option><option value=\"terms\">- \\xec\\x9a\\xa9\\xec\\x96\\xb4\\xec\\x82\\xac\\xec\\xa0\\x84</option><option value=\"book\">\\xec\\xb1\\x85</option><option value=\"music\">\\xec\\x9d\\x8c\\xec\\x95\\x85</option><option value=\"doc\">\\xec\\xa0\\x84\\xeb\\xac\\xb8\\xec\\x9e\\x90\\xeb\\xa3\\x8c</option><option value=\"shop\">\\xec\\x87\\xbc\\xed\\x95\\x91</option><option value=\"local\">\\xec\\xa7\\x80\\xec\\x97\\xad</option><option value=\"video\">\\xeb\\x8f\\x99\\xec\\x98\\x81\\xec\\x83\\x81</option><option value=\"image\">\\xec\\x9d\\xb4\\xeb\\xaf\\xb8\\xec\\xa7\\x80</option><option value=\"mypc\">\\xeb\\x82\\xb4PC</option><optgroup label=\"\\xec\\x8a\\xa4\\xeb\\xa7\\x88\\xed\\x8a\\xb8 \\xed\\x8c\\x8c\\xec\\x9d\\xb8\\xeb\\x8d\\x94\"><option value=\"movie\">\\xec\\x98\\x81\\xed\\x99\\x94</option><option value=\"auto\">\\xec\\x9e\\x90\\xeb\\x8f\\x99\\xec\\xb0\\xa8</option><option value=\"game\">\\xea\\xb2\\x8c\\xec\\x9e\\x84</option><option value=\"health\">\\xea\\xb1\\xb4\\xea\\xb0\\x95</option><option value=\"people\">\\xec\\x9d\\xb8\\xeb\\xac\\xbc</option></optgroup><optgroup label=\"\\xeb\\x84\\xa4\\xec\\x9d\\xb4\\xeb\\xb2\\x84 \\xeb\\x9e\\xa9\"><option>\\xea\\xb8\\x8d\\xec\\xa0\\x95\\xeb\\xb6\\x80\\xec\\xa0\\x95\\xea\\xb2\\x80\\xec\\x83\\x89</option></optgroup>\\n</select>\\n<input type=\"hidden\" id=\"sm\" name=\"sm\" value=\"top_hty\" />\\n<input type=\"hidden\" id=\"fbm\" name=\"fbm\" value=\"0\" />\\n<input type=\"hidden\" id=\"acr\" name=\"acr\" value=\"\" disabled=\"disabled\" />\\n<input type=\"hidden\" id=\"acq\" name=\"acq\" value=\"\" disabled=\"disabled\" />\\n<input type=\"hidden\" id=\"qdt\" name=\"qdt\" value=\"\" disabled=\"disabled\" />\\n<input type=\"hidden\" id=\"ie\" name=\"ie\" value=\"utf8\" />\\n<input type=\"hidden\" id=\"acir\" name=\"acir\" value=\"\" disabled=\"disabled\" />\\n<input type=\"hidden\" id=\"os\" name=\"os\" value=\"\" disabled=\"disabled\" />\\n<input type=\"hidden\" id=\"bid\" name=\"bid\" value=\"\" disabled=\"disabled\" />\\n<input type=\"hidden\" id=\"pkid\" name=\"pkid\" value=\"\" disabled=\"disabled\" />\\n<input type=\"hidden\" id=\"eid\" name=\"eid\" value=\"\" disabled=\"disabled\" />\\n<input type=\"hidden\" id=\"mra\" name=\"mra\" value=\"\" disabled=\"disabled\" />\\n\\n\\n\\n<div class=\"green_window\" style=\\'\\'>\\n<!-- [AU] data-atcmp-element \\xec\\x97\\x90 \\xed\\x95\\xb4\\xeb\\x8b\\xb9\\xed\\x95\\x98\\xeb\\x8a\\x94 attribute\\xeb\\xa5\\xbc \\xec\\xb6\\x94\\xea\\xb0\\x80\\xed\\x95\\xb4\\xec\\xa3\\xbc\\xec\\x84\\xb8\\xec\\x9a\\x94. -->\\n<input id=\"query\" name=\"query\" type=\"text\" title=\"\\xea\\xb2\\x80\\xec\\x83\\x89\\xec\\x96\\xb4 \\xec\\x9e\\x85\\xeb\\xa0\\xa5\" maxlength=\"255\" class=\"input_text\" tabindex=\"1\" accesskey=\"s\" style=\"ime-mode:active;\" autocomplete=\"off\"  placeholder=\"\\xea\\xb2\\x80\\xec\\x83\\x89\\xec\\x96\\xb4\\xeb\\xa5\\xbc \\xec\\x9e\\x85\\xeb\\xa0\\xa5\\xed\\x95\\xb4 \\xec\\xa3\\xbc\\xec\\x84\\xb8\\xec\\x9a\\x94.\" onclick=\"document.getElementById(\\'fbm\\').value=1;\" value=\"\" data-atcmp-element>\\n</div>\\n<button id=\"search_btn\" type=\"submit\" title=\"\\xea\\xb2\\x80\\xec\\x83\\x89\" tabindex=\"3\" class=\"btn_submit\" onclick=\"window.nclick(this,\\'sch.action\\',\\'\\',\\'\\',event);\" style=\\'\\'>\\n<span class=\"blind\">\\xea\\xb2\\x80\\xec\\x83\\x89</span>\\n<span class=\"ico_search_submit\"></span>\\n</button>\\n</fieldset>\\n</form>\\n<!-- \\xed\\x95\\x9c\\xea\\xb8\\x80\\xec\\x9e\\x85\\xeb\\xa0\\xa5\\xea\\xb8\\xb0 -->\\n<a href=\"#\" id=\"ke_kbd_btn\" role=\"button\" class=\"btn_keyboard\" onclick=\"return false;\"><span class=\"blind\">\\xed\\x95\\x9c\\xea\\xb8\\x80 \\xec\\x9e\\x85\\xeb\\xa0\\xa5\\xea\\xb8\\xb0</span><span class=\"ico_keyboard\"></span></a>\\n<div id=\"_nx_kbd\" style=\"display:none;\"></div>\\n<div class=\"autocomplete\">\\n<!-- \\xec\\x9e\\x90\\xeb\\x8f\\x99\\xec\\x99\\x84\\xec\\x84\\xb1 \\xec\\x97\\xb4\\xeb\\xa6\\xb0 \\xea\\xb2\\xbd\\xec\\x9a\\xb0 fold \\xed\\x81\\xb4\\xeb\\x9e\\x98\\xec\\x8a\\xa4 \\xec\\xb6\\x94\\xea\\xb0\\x80, \\xeb\\x94\\xa4\\xeb\\x93\\x9c\\xec\\x9d\\xb8 \\xea\\xb2\\xbd\\xec\\x9a\\xb0 dim \\xec\\xb6\\x94\\xea\\xb0\\x80 -->\\n<a href=\"#\" role=\"button\" id=\"nautocomplete\" tabindex=\"2\" class=\"btn_arw _btn_arw fold\" aria-pressed=\"false\" data-atcmp-element><span class=\"blind\">\\xec\\x9e\\x90\\xeb\\x8f\\x99\\xec\\x99\\x84\\xec\\x84\\xb1 \\xeb\\xa0\\x88\\xec\\x9d\\xb4\\xec\\x96\\xb4</span><span class=\"ico_arr\"></span></a>\\n</div>\\n<!-- \\xec\\x9e\\x90\\xeb\\x8f\\x99\\xec\\x99\\x84\\xec\\x84\\xb1\\xeb\\xa0\\x88\\xec\\x9d\\xb4\\xec\\x96\\xb4 -->\\n<div id=\"autoFrame\" class=\"reatcmp\" style=\"display: none;\">\\n<!-- [AU] data-atcmp-element attribute\\xeb\\xa5\\xbc \\xec\\xb6\\x94\\xea\\xb0\\x80\\xed\\x95\\xb4\\xec\\xa3\\xbc\\xec\\x84\\xb8\\xec\\x9a\\x94. -->\\n<div class=\"ly_atcmp\" data-atcmp-element>\\n<div class=\"api_atcmp_wrap\">\\n<!-- \\xec\\xb5\\x9c\\xea\\xb7\\xbc\\xea\\xb2\\x80\\xec\\x83\\x89\\xec\\x96\\xb4 -->\\n<!-- [AU] _recent_layer \\xed\\x81\\xb4\\xeb\\x9e\\x98\\xec\\x8a\\xa4\\xeb\\xa5\\xbc \\xec\\xb6\\x94\\xea\\xb0\\x80\\xed\\x95\\xb4\\xec\\xa3\\xbc\\xec\\x84\\xb8\\xec\\x9a\\x94. -->\\n<div class=\"atcmp_fixer _recent_layer\" style=\"display:none;\">\\n<!-- [AU] _recent_header \\xed\\x81\\xb4\\xeb\\x9e\\x98\\xec\\x8a\\xa4\\xeb\\xa5\\xbc \\xec\\xb6\\x94\\xea\\xb0\\x80\\xed\\x95\\xb4\\xec\\xa3\\xbc\\xec\\x84\\xb8\\xec\\x9a\\x94. -->\\n<div class=\"atcmp_header _recent_header\">\\n<strong class=\"tit\">\\xec\\xb5\\x9c\\xea\\xb7\\xbc\\xea\\xb2\\x80\\xec\\x83\\x89\\xec\\x96\\xb4</strong>\\n<div class=\"option\">\\n<!-- [AU] _delAll \\xed\\x81\\xb4\\xeb\\x9e\\x98\\xec\\x8a\\xa4\\xeb\\xa5\\xbc \\xec\\xb6\\x94\\xea\\xb0\\x80\\xed\\x95\\xb4\\xec\\xa3\\xbc\\xec\\x84\\xb8\\xec\\x9a\\x94. -->\\n<a role=\"button\" href=\"#\" class=\"item _delAll\" aria-pressed=\"false\">\\xec\\xa0\\x84\\xec\\xb2\\xb4\\xec\\x82\\xad\\xec\\xa0\\x9c</a>\\n</div>\\n</div>\\n<div class=\"atcmp_container\">\\n<!-- [AU] _recent \\xed\\x81\\xb4\\xeb\\x9e\\x98\\xec\\x8a\\xa4\\xeb\\xa5\\xbc \\xec\\xb6\\x94\\xea\\xb0\\x80\\xed\\x95\\xb4\\xec\\xa3\\xbc\\xec\\x84\\xb8\\xec\\x9a\\x94. -->\\n<ul class=\"kwd_lst _recent\">\\n<!-- \\xec\\xb5\\x9c\\xea\\xb7\\xbc\\xea\\xb2\\x80\\xec\\x83\\x89\\xec\\x96\\xb4 \\xed\\x85\\x9c\\xed\\x94\\x8c\\xeb\\xa6\\xbf -->\\n<!-- [AU] _item \\xed\\x81\\xb4\\xeb\\x9e\\x98\\xec\\x8a\\xa4\\xeb\\xa5\\xbc \\xec\\xb6\\x94\\xea\\xb0\\x80\\xed\\x95\\xb4\\xec\\xa3\\xbc\\xec\\x84\\xb8\\xec\\x9a\\x94. -->\\n<!-- [AU] data-template-type=\"history\" data-keyword=\"@in_txt@\" attribute\\xeb\\xa5\\xbc \\xec\\xb6\\x94\\xea\\xb0\\x80\\xed\\x95\\xb4\\xec\\xa3\\xbc\\xec\\x84\\xb8\\xec\\x9a\\x94. -->\\n<li class=\"item _item\" data-rank=\"@rank@\" data-template-type=\"history\" data-keyword=\"@in_txt@\">\\n<a href=\"#\" class=\"kwd\">\\n<span class=\"fix\"><span class=\"common_ico_kwd\"><i class=\"imsc ico_search\"></i></span><span>@txt@</span></span>\\n</a>\\n<span class=\"etc\">\\n<em class=\"date\">@date@.</em>\\n<!-- [AU] _del \\xed\\x81\\xb4\\xeb\\x9e\\x98\\xec\\x8a\\xa4\\xeb\\xa5\\xbc \\xec\\xb6\\x94\\xea\\xb0\\x80\\xed\\x95\\xb4\\xec\\xa3\\xbc\\xec\\x84\\xb8\\xec\\x9a\\x94. -->\\n<a href=\"#\" role=\"button\" class=\"bt_item _del\" aria-pressed=\"false\"><i class=\"imsc ico_del\">\\xec\\x82\\xad\\xec\\xa0\\x9c</i></a>\\n</span>\\n</li>\\n</ul>\\n<!-- [D] \\xea\\xb2\\x80\\xec\\x83\\x89\\xec\\x96\\xb4 \\xec\\xa0\\x80\\xec\\x9e\\xa5 \\xea\\xba\\xbc\\xec\\xa7\\x84 \\xea\\xb2\\xbd\\xec\\x9a\\xb0 atcmp_fixer\\xec\\x97\\x90 type_off \\xec\\xb6\\x94\\xea\\xb0\\x80 -->\\n<!-- [AU] _offMsg \\xed\\x81\\xb4\\xeb\\x9e\\x98\\xec\\x8a\\xa4\\xeb\\xa5\\xbc \\xec\\xb6\\x94\\xea\\xb0\\x80\\xed\\x95\\xb4\\xec\\xa3\\xbc\\xec\\x84\\xb8\\xec\\x9a\\x94. -->\\n<div class=\"kwd_info kwd_off _offMsg\" style=\"display: none;\">\\xea\\xb2\\x80\\xec\\x83\\x89\\xec\\x96\\xb4 \\xec\\xa0\\x80\\xec\\x9e\\xa5 \\xea\\xb8\\xb0\\xeb\\x8a\\xa5\\xec\\x9d\\xb4 \\xea\\xba\\xbc\\xec\\xa0\\xb8 \\xec\\x9e\\x88\\xec\\x8a\\xb5\\xeb\\x8b\\x88\\xeb\\x8b\\xa4.<br><span class=\"kwd_dsc\">\\xec\\x84\\xa4\\xec\\xa0\\x95\\xec\\x9d\\xb4 \\xec\\xb4\\x88\\xea\\xb8\\xb0\\xed\\x99\\x94 \\xeb\\x90\\x9c\\xeb\\x8b\\xa4\\xeb\\xa9\\xb4 <a href=\"https://help.naver.com/support/alias/search/word/word_29.naver\" class=\"kwd_help\" data-clk=\"sly.help\" target=\"_blank\">\\xeb\\x8f\\x84\\xec\\x9b\\x80\\xeb\\xa7\\x90</a>\\xec\\x9d\\x84 \\xed\\x99\\x95\\xec\\x9d\\xb8\\xed\\x95\\xb4\\xec\\xa3\\xbc\\xec\\x84\\xb8\\xec\\x9a\\x94.</span></div>\\n<!-- [D] \\xea\\xb2\\x80\\xec\\x83\\x89\\xec\\x96\\xb4 \\xeb\\x82\\xb4\\xec\\x97\\xad \\xec\\x97\\x86\\xeb\\x8a\\x94 \\xea\\xb2\\xbd\\xec\\x9a\\xb0 atcmp_fixer\\xec\\x97\\x90 type_off \\xec\\xb6\\x94\\xea\\xb0\\x80 -->\\n<!-- [AU] _recentNone \\xed\\x81\\xb4\\xeb\\x9e\\x98\\xec\\x8a\\xa4\\xeb\\xa5\\xbc \\xec\\xb6\\x94\\xea\\xb0\\x80\\xed\\x95\\xb4\\xec\\xa3\\xbc\\xec\\x84\\xb8\\xec\\x9a\\x94. -->\\n<div class=\"kwd_info kwd_none _recentNone\" style=\"display: none;\">\\xec\\xb5\\x9c\\xea\\xb7\\xbc \\xea\\xb2\\x80\\xec\\x83\\x89\\xec\\x96\\xb4 \\xeb\\x82\\xb4\\xec\\x97\\xad\\xec\\x9d\\xb4 \\xec\\x97\\x86\\xec\\x8a\\xb5\\xeb\\x8b\\x88\\xeb\\x8b\\xa4.<br><span class=\"kwd_dsc\">\\xec\\x84\\xa4\\xec\\xa0\\x95\\xec\\x9d\\xb4 \\xec\\xb4\\x88\\xea\\xb8\\xb0\\xed\\x99\\x94 \\xeb\\x90\\x9c\\xeb\\x8b\\xa4\\xeb\\xa9\\xb4 <a href=\"https://help.naver.com/support/alias/search/word/word_29.naver\" class=\"kwd_help\" data-clk=\"sly.help\" target=\"_blank\">\\xeb\\x8f\\x84\\xec\\x9b\\x80\\xeb\\xa7\\x90</a>\\xec\\x9d\\x84 \\xed\\x99\\x95\\xec\\x9d\\xb8\\xed\\x95\\xb4\\xec\\xa3\\xbc\\xec\\x84\\xb8\\xec\\x9a\\x94.</span></div>\\n</div>\\n<div class=\"atcmp_footer\">\\n<span class=\"side_opt_area\">\\n<span class=\"opt_item\"><a href=\"https://help.naver.com/support/service/main.help?serviceNo=605&amp;categoryNo=1991\" data-clk=\"sly.help\" target=\"_blank\">\\xeb\\x8f\\x84\\xec\\x9b\\x80\\xeb\\xa7\\x90</a></span>\\n</span>\\n<span class=\"rside_opt_area\">\\n<span class=\"opt_item\">\\n<!-- [AU] _keywordOnOff \\xed\\x81\\xb4\\xeb\\x9e\\x98\\xec\\x8a\\xa4\\xeb\\xa5\\xbc \\xec\\xb6\\x94\\xea\\xb0\\x80\\xed\\x95\\xb4\\xec\\xa3\\xbc\\xec\\x84\\xb8\\xec\\x9a\\x94. -->\\n<a href=\"#\" class=\"close _keywordOnOff\">\\xec\\x9e\\x90\\xeb\\x8f\\x99\\xec\\xa0\\x80\\xec\\x9e\\xa5 \\xeb\\x81\\x84\\xea\\xb8\\xb0</a>\\n</span>\\n</span>\\n</div>\\n</div>\\n<!-- \\xec\\x9e\\x90\\xeb\\x8f\\x99\\xec\\x99\\x84\\xec\\x84\\xb1 -->\\n<!-- [AU] _atcmp_layer \\xed\\x81\\xb4\\xeb\\x9e\\x98\\xec\\x8a\\xa4\\xeb\\xa5\\xbc \\xec\\xb6\\x94\\xea\\xb0\\x80\\xed\\x95\\xb4\\xec\\xa3\\xbc\\xec\\x84\\xb8\\xec\\x9a\\x94. -->\\n<div class=\"atcmp_fixer _atcmp_layer\" style=\"display:none;\">\\n<!-- [AU] _words \\xed\\x81\\xb4\\xeb\\x9e\\x98\\xec\\x8a\\xa4\\xeb\\xa5\\xbc \\xec\\xb6\\x94\\xea\\xb0\\x80\\xed\\x95\\xb4\\xec\\xa3\\xbc\\xec\\x84\\xb8\\xec\\x9a\\x94. -->\\n<div class=\"atcmp_container _words\">\\n<!-- \\xec\\xa0\\x95\\xeb\\x8b\\xb5\\xed\\x98\\x95 \\xed\\x85\\x9c\\xed\\x94\\x8c\\xeb\\xa6\\xbf : \\xeb\\xa1\\x9c\\xeb\\x98\\x90\\xeb\\x8b\\xb9\\xec\\xb2\\xa8\\xeb\\xb2\\x88\\xed\\x98\\xb8 -->\\n<!-- [AU] _answer \\xed\\x81\\xb4\\xeb\\x9e\\x98\\xec\\x8a\\xa4\\xeb\\xa5\\xbc \\xec\\xb6\\x94\\xea\\xb0\\x80\\xed\\x95\\xb4\\xec\\xa3\\xbc\\xec\\x84\\xb8\\xec\\x9a\\x94. -->\\n<!-- [AU] data-template-type=\"answer_3\" data-code=\"@code@\" data-keyword=\"@1@\" attribute\\xeb\\xa5\\xbc \\xec\\xb6\\x94\\xea\\xb0\\x80\\xed\\x95\\xb4\\xec\\xa3\\xbc\\xec\\x84\\xb8\\xec\\x9a\\x94. -->\\n<div class=\"atcmp_correct type_lotto _answer\" data-template-type=\"answer_3\" data-code=\"@code@\" data-keyword=\"@1@\">\\n<a href=\"#\" class=\"link_item\">\\n<span class=\"common_ico_kwd\"><i class=\"imsc ico_search\"></i></span>\\n<div class=\"dsc_area\">\\n<span class=\"tit\">@5@\\xed\\x9a\\x8c\\xec\\xb0\\xa8 \\xeb\\x8b\\xb9\\xec\\xb2\\xa8\\xeb\\xb2\\x88\\xed\\x98\\xb8</span>\\n<span class=\"dsc\">\\n<span class=\"item\">\\xec\\xb6\\x94\\xec\\xb2\\xa8 @13@.</span><span class=\"item\">\\xec\\xa7\\x80\\xea\\xb8\\x89\\xea\\xb8\\xb0\\xed\\x95\\x9c 1\\xeb\\x85\\x84</span>\\n</span>\\n</div>\\n<span class=\"etc_area\">\\n<span class=\"etc lotto\">\\n<em class=\"n@6@\">@6@</em><em class=\"n@7@\">@7@</em><em class=\"n@8@\">@8@</em><em class=\"n@9@\">@9@</em><em class=\"n@10@\">@10@</em><em class=\"n@11@\">@11@</em><em class=\"imsc_bf bonus n@12@\">@12@</em>\\n</span>\\n</span>\\n</a>\\n</div>\\n<!-- \\xec\\xa0\\x95\\xeb\\x8b\\xb5\\xed\\x98\\x95 \\xed\\x85\\x9c\\xed\\x94\\x8c\\xeb\\xa6\\xbf : \\xed\\x99\\x98\\xec\\x9c\\xa8 -->\\n<!-- [AU] _answer \\xed\\x81\\xb4\\xeb\\x9e\\x98\\xec\\x8a\\xa4\\xeb\\xa5\\xbc \\xec\\xb6\\x94\\xea\\xb0\\x80\\xed\\x95\\xb4\\xec\\xa3\\xbc\\xec\\x84\\xb8\\xec\\x9a\\x94. -->\\n<!-- [AU] data-template-type=\"answer_9\" data-code=\"@code@\" data-keyword=\"@1@\" attribute\\xeb\\xa5\\xbc \\xec\\xb6\\x94\\xea\\xb0\\x80\\xed\\x95\\xb4\\xec\\xa3\\xbc\\xec\\x84\\xb8\\xec\\x9a\\x94. -->\\n<div class=\"atcmp_correct type_exchange _answer\" data-template-type=\"answer_9\" data-code=\"@code@\" data-keyword=\"@1@\">\\n<!-- [D] \\xec\\x83\\x81\\xec\\x8a\\xb9 up, \\xed\\x95\\x98\\xeb\\x9d\\xbd down \\xec\\xb6\\x94\\xea\\xb0\\x80 -->\\n<a href=\"#\" class=\"link_item @11@\">\\n<!-- [D] \\xea\\xb5\\xad\\xea\\xb0\\x80\\xeb\\xb3\\x84 class \\xea\\xb0\\x80\\xeb\\x82\\x98\\xeb\\x8b\\xa4\\xec\\x88\\x9c\\nZAR \\xeb\\x82\\xa8\\xec\\x95\\x84\\xed\\x94\\x84\\xeb\\xa6\\xac\\xec\\xb9\\xb4 \\xea\\xb3\\xb5\\xed\\x99\\x94\\xea\\xb5\\xad\\nNPR \\xeb\\x84\\xa4\\xed\\x8c\\x94\\nNOK \\xeb\\x85\\xb8\\xeb\\xa5\\xb4\\xec\\x9b\\xa8\\xec\\x9d\\xb4\\nNZD \\xeb\\x89\\xb4\\xec\\xa7\\x88\\xeb\\x9e\\x9c\\xeb\\x93\\x9c\\nTWD \\xeb\\x8c\\x80\\xeb\\xa7\\x8c\\nDKK \\xeb\\x8d\\xb4\\xeb\\xa7\\x88\\xed\\x81\\xac\\nRUB \\xeb\\x9f\\xac\\xec\\x8b\\x9c\\xec\\x95\\x84\\nMOP \\xeb\\xa7\\x88\\xec\\xb9\\xb4\\xec\\x98\\xa4\\nMYR \\xeb\\xa7\\x90\\xeb\\xa0\\x88\\xec\\x9d\\xb4\\xec\\x8b\\x9c\\xec\\x95\\x84\\nMXN \\xeb\\xa9\\x95\\xec\\x8b\\x9c\\xec\\xbd\\x94\\nMNT \\xeb\\xaa\\xbd\\xea\\xb3\\xa8\\nUSD \\xeb\\xaf\\xb8\\xea\\xb5\\xad\\nBHD \\xeb\\xb0\\x94\\xeb\\xa0\\x88\\xec\\x9d\\xb8\\nBDT \\xeb\\xb0\\xa9\\xea\\xb8\\x80\\xeb\\x9d\\xbc\\xeb\\x8d\\xb0\\xec\\x8b\\x9c\\nVND \\xeb\\xb2\\xa0\\xed\\x8a\\xb8\\xeb\\x82\\xa8\\nBRL \\xeb\\xb8\\x8c\\xeb\\x9d\\xbc\\xec\\xa7\\x88\\nSAR \\xec\\x82\\xac\\xec\\x9a\\xb0\\xeb\\x94\\x94\\xec\\x95\\x84\\xeb\\x9d\\xbc\\xeb\\xb9\\x84\\xec\\x95\\x84\\nSEK \\xec\\x8a\\xa4\\xec\\x9b\\xa8\\xeb\\x8d\\xb4\\nCHF \\xec\\x8a\\xa4\\xec\\x9c\\x84\\xec\\x8a\\xa4\\nSGD \\xec\\x8b\\xb1\\xea\\xb0\\x80\\xed\\x8f\\xac\\xeb\\xa5\\xb4\\nAED \\xec\\x95\\x84\\xeb\\x9e\\x8d\\xec\\x97\\x90\\xeb\\xaf\\xb8\\xeb\\xa6\\xac\\xed\\x8a\\xb8\\nGBP \\xec\\x98\\x81\\xea\\xb5\\xad\\nEUR \\xec\\x9c\\xa0\\xeb\\x9f\\xbd\\xec\\x97\\xb0\\xed\\x95\\xa9\\nILS \\xec\\x9d\\xb4\\xec\\x8a\\xa4\\xeb\\x9d\\xbc\\xec\\x97\\x98\\nEGP \\xec\\x9d\\xb4\\xec\\xa7\\x91\\xed\\x8a\\xb8\\nINR \\xec\\x9d\\xb8\\xeb\\x8f\\x84\\nIDR \\xec\\x9d\\xb8\\xeb\\x8f\\x84\\xeb\\x84\\xa4\\xec\\x8b\\x9c\\xec\\x95\\x84\\nJPY \\xec\\x9d\\xbc\\xeb\\xb3\\xb8\\nCNY \\xec\\xa4\\x91\\xea\\xb5\\xad\\nCZK \\xec\\xb2\\xb4\\xec\\xbd\\x94\\nCLP \\xec\\xb9\\xa0\\xeb\\xa0\\x88\\nKZT \\xec\\xb9\\xb4\\xec\\x9e\\x90\\xed\\x9d\\x90\\xec\\x8a\\xa4\\xed\\x83\\x84\\nQAR \\xec\\xb9\\xb4\\xed\\x83\\x80\\xeb\\xa5\\xb4\\nCAD \\xec\\xba\\x90\\xeb\\x82\\x98\\xeb\\x8b\\xa4\\nKWD \\xec\\xbf\\xa0\\xec\\x9b\\xa8\\xec\\x9d\\xb4\\xed\\x8a\\xb8\\nTHB \\xed\\x83\\x9c\\xea\\xb5\\xad\\nTRY \\xed\\x84\\xb0\\xed\\x82\\xa4\\nPKR \\xed\\x8c\\x8c\\xed\\x82\\xa4\\xec\\x8a\\xa4\\xed\\x83\\x84\\nPLN \\xed\\x8f\\xb4\\xeb\\x9e\\x80\\xeb\\x93\\x9c\\nPHP \\xed\\x95\\x84\\xeb\\xa6\\xac\\xed\\x95\\x80\\nHUF \\xed\\x97\\x9d\\xea\\xb0\\x80\\xeb\\xa6\\xac\\nAUD \\xed\\x98\\xb8\\xec\\xa3\\xbc\\nHKD \\xed\\x99\\x8d\\xec\\xbd\\xa9\\n-->\\n<span class=\"common_ico_kwd\"><i class=\"imsc ico @12@\">@14@</i></span>\\n<div class=\"dsc_area\">\\n<span class=\"tit\">@txt@<span class=\"sub\">@currency@</span></span>\\n<span class=\"dsc\">\\n<span class=\"item\"><i class=\"imsc ico_arr\"></i>@8@(@9@%)</span>\\n</span>\\n</div>\\n<span class=\"etc_area\">\\n<span class=\"etc\"><em class=\"num\">@6@</em>\\xec\\x9b\\x90</span>\\n</span>\\n</a>\\n</div>\\n<!-- \\xec\\xa0\\x95\\xeb\\x8b\\xb5\\xed\\x98\\x95 \\xed\\x85\\x9c\\xed\\x94\\x8c\\xeb\\xa6\\xbf : \\xeb\\x82\\xa0\\xec\\x94\\xa8(\\xea\\xb5\\xad\\xeb\\x82\\xb411, \\xed\\x95\\xb4\\xec\\x99\\xb812) -->\\n<!-- [AU] _answer \\xed\\x81\\xb4\\xeb\\x9e\\x98\\xec\\x8a\\xa4\\xeb\\xa5\\xbc \\xec\\xb6\\x94\\xea\\xb0\\x80\\xed\\x95\\xb4\\xec\\xa3\\xbc\\xec\\x84\\xb8\\xec\\x9a\\x94. -->\\n<!-- [AU] data-template-type=\"answer_11\" data-code=\"@code@\" data-keyword=\"@1@\" attribute\\xeb\\xa5\\xbc \\xec\\xb6\\x94\\xea\\xb0\\x80\\xed\\x95\\xb4\\xec\\xa3\\xbc\\xec\\x84\\xb8\\xec\\x9a\\x94. -->\\n<div class=\"atcmp_correct type_weather _answer\" data-template-type=\"answer_11\" data-code=\"@code@\" data-keyword=\"@1@\">\\n<!-- [D] \\xec\\x83\\x81\\xec\\x8a\\xb9 up, \\xed\\x95\\x98\\xeb\\x9d\\xbd down \\xec\\xb6\\x94\\xea\\xb0\\x80 -->\\n<a href=\"#\" class=\"link_item @12@\">\\n<span class=\"common_ico_kwd\"><i class=\"imsc ico_search\"></i></span>\\n<div class=\"dsc_area\">\\n<span class=\"tit\">@txt@</span>\\n<span class=\"dsc\">\\n<span class=\"item\">@7@, @message@</span>\\n</span>\\n</div>\\n<span class=\"etc_area\">\\n<span class=\"etc\">\\n<!-- [D] \\xeb\\x82\\xa0\\xec\\x94\\xa8\\xeb\\xb3\\x84 class\\nico1 \\xeb\\xa7\\x91\\xec\\x9d\\x8c(\\xeb\\x82\\xae)\\nico2 \\xeb\\xa7\\x91\\xec\\x9d\\x8c(\\xeb\\xb0\\xa4)\\nico3 \\xea\\xb5\\xac\\xeb\\xa6\\x84\\xec\\xa1\\xb0\\xea\\xb8\\x88(\\xeb\\x82\\xae)\\nico4 \\xea\\xb5\\xac\\xeb\\xa6\\x84\\xec\\xa1\\xb0\\xea\\xb8\\x88(\\xeb\\xb0\\xa4)\\nico5 \\xea\\xb5\\xac\\xeb\\xa6\\x84\\xeb\\xa7\\x8e\\xec\\x9d\\x8c(\\xeb\\x82\\xae)\\nico6 \\xea\\xb5\\xac\\xeb\\xa6\\x84\\xeb\\xa7\\x8e\\xec\\x9d\\x8c(\\xeb\\xb0\\xa4)\\nico7 \\xed\\x9d\\x90\\xeb\\xa6\\xbc\\nico8 \\xec\\x95\\xbd\\xed\\x95\\x9c\\xeb\\xb9\\x84\\nico9 \\xeb\\xb9\\x84\\nico10 \\xea\\xb0\\x95\\xed\\x95\\x9c\\xeb\\xb9\\x84\\nico11 \\xec\\x95\\xbd\\xed\\x95\\x9c\\xeb\\x88\\x88\\nico12 \\xeb\\x88\\x88\\nico13 \\xea\\xb0\\x95\\xed\\x95\\x9c\\xeb\\x88\\x88\\nico14 \\xec\\xa7\\x84\\xeb\\x88\\x88\\xea\\xb9\\xa8\\xeb\\xb9\\x84\\nico15 \\xec\\x86\\x8c\\xeb\\x82\\x98\\xea\\xb8\\xb0\\nico16 \\xec\\x95\\x88\\xea\\xb0\\x9c\\nico17 \\xec\\x86\\x8c\\xeb\\x82\\x99\\xeb\\x88\\x88\\nico18 \\xeb\\xb2\\x88\\xea\\xb0\\x9c\\xeb\\x87\\x8c\\xec\\x9a\\xb0\\nico19 \\xec\\x9a\\xb0\\xeb\\xb0\\x95\\nico20 \\xed\\x99\\xa9\\xec\\x82\\xac\\nico21 \\xeb\\xb9\\x84\\xeb\\x98\\x90\\xeb\\x8a\\x94\\xeb\\x88\\x88\\nico22 \\xea\\xb0\\x80\\xeb\\x81\\x94\\xeb\\xb9\\x84\\nico23 \\xea\\xb0\\x80\\xeb\\x81\\x94\\xeb\\x88\\x88\\nico24 \\xea\\xb0\\x80\\xeb\\x81\\x94\\xeb\\xb9\\x84\\xeb\\x98\\x90\\xeb\\x8a\\x94\\xeb\\x88\\x88\\nico25 \\xed\\x9d\\x90\\xeb\\xa6\\xb0\\xed\\x9b\\x84\\xea\\xb0\\xac\\nico26 \\xeb\\x87\\x8c\\xec\\x9a\\xb0\\xed\\x9b\\x84\\xea\\xb0\\xac\\nico27 \\xeb\\xb9\\x84\\xed\\x9b\\x84\\xea\\xb0\\xac\\nico28 \\xeb\\x88\\x88\\xed\\x9b\\x84\\xea\\xb0\\xac\\nico29 \\xed\\x9d\\x90\\xeb\\xa0\\xa4\\xec\\xa0\\xb8\\xeb\\xb9\\x84\\nico30 \\xed\\x9d\\x90\\xeb\\xa0\\xa4\\xec\\xa0\\xb8\\xeb\\x88\\x88\\n-->\\n<span class=\"ico_weather\"><i class=\"imsc ico ico@iconNo@\">@7@</i></span>\\n<em class=\"degree\">@8@<sup class=\"celsius\">\\xc2\\xb0</sup></em>\\n</span>\\n</span>\\n</a>\\n</div>\\n<!-- \\xec\\xa0\\x95\\xeb\\x8b\\xb5\\xed\\x98\\x95 \\xed\\x85\\x9c\\xed\\x94\\x8c\\xeb\\xa6\\xbf : \\xec\\x82\\xac\\xec\\x9d\\xb4\\xed\\x8a\\xb8 \\xeb\\xb0\\x94\\xeb\\xa1\\x9c\\xea\\xb0\\x80\\xea\\xb8\\xb0 -->\\n<!-- [AU] _answer \\xed\\x81\\xb4\\xeb\\x9e\\x98\\xec\\x8a\\xa4\\xeb\\xa5\\xbc \\xec\\xb6\\x94\\xea\\xb0\\x80\\xed\\x95\\xb4\\xec\\xa3\\xbc\\xec\\x84\\xb8\\xec\\x9a\\x94. -->\\n<!-- [AU] data-template-type=\"answer_17\" data-code=\"@code@\" data-keyword=\"@1@\" attribute\\xeb\\xa5\\xbc \\xec\\xb6\\x94\\xea\\xb0\\x80\\xed\\x95\\xb4\\xec\\xa3\\xbc\\xec\\x84\\xb8\\xec\\x9a\\x94. -->\\n<div class=\"atcmp_correct type_site _answer\" data-template-type=\"answer_17\" data-code=\"@code@\" data-keyword=\"@1@\">\\n<a href=\"@5@\" class=\"link_item\" target=\"_blank\">\\n<span class=\"common_ico_kwd\"><i class=\"imsc ico_url\"></i></span>\\n<div class=\"dsc_area\">\\n<span class=\"tit\">@txt@</span>\\n<span class=\"dsc\">\\n<span class=\"item\">@5@</span>\\n</span>\\n</div>\\n<span class=\"etc_area\">\\n<span class=\"etc\">\\xeb\\xb0\\x94\\xeb\\xa1\\x9c\\xea\\xb0\\x80\\xea\\xb8\\xb0</span>\\n</span>\\n</a>\\n</div>\\n<!-- [AU] _kwd_list \\xed\\x81\\xb4\\xeb\\x9e\\x98\\xec\\x8a\\xa4\\xeb\\xa5\\xbc \\xec\\xb6\\x94\\xea\\xb0\\x80\\xed\\x95\\xb4\\xec\\xa3\\xbc\\xec\\x84\\xb8\\xec\\x9a\\x94. -->\\n<ul class=\"kwd_lst _kwd_list\">\\n<!-- [AU] \\xec\\x9e\\x90\\xeb\\x8f\\x99\\xec\\x99\\x84\\xec\\x84\\xb1 \\xea\\xb2\\x80\\xec\\x83\\x89\\xec\\x96\\xb4 \\xed\\x85\\x9c\\xed\\x94\\x8c\\xeb\\xa6\\xbf -->\\n<!-- [AU] _item \\xed\\x81\\xb4\\xeb\\x9e\\x98\\xec\\x8a\\xa4\\xeb\\xa5\\xbc \\xec\\xb6\\x94\\xea\\xb0\\x80\\xed\\x95\\xb4\\xec\\xa3\\xbc\\xec\\x84\\xb8\\xec\\x9a\\x94. -->\\n<!-- [AU] data-rank=\"@rank@\" data-template-type=\"suggestion\" data-keyword=\"@in_txt@\" attribute\\xeb\\xa5\\xbc \\xec\\xb6\\x94\\xea\\xb0\\x80\\xed\\x95\\xb4\\xec\\xa3\\xbc\\xec\\x84\\xb8\\xec\\x9a\\x94. -->\\n<li class=\"item _item\" data-rank=\"@rank@\" data-template-type=\"suggestion\" data-keyword=\"@in_txt@\">\\n<a href=\"#\" class=\"kwd\">\\n<span class=\"fix\"><span class=\"common_ico_kwd\"><i class=\"imsc ico_search\"></i></span>@txt@</span>\\n</a>\\n<span class=\"etc\">\\n<a href=\"#\" role=\"button\" class=\"bt_item _add\" aria-pressed=\"false\"><i class=\"imsc ico_insert\">\\xec\\xb6\\x94\\xea\\xb0\\x80</i></a>\\n</span>\\n</li>\\n<!-- [AU] \\xec\\xb5\\x9c\\xea\\xb7\\xbc\\xea\\xb2\\x80\\xec\\x83\\x89\\xec\\x96\\xb4 \\xed\\x85\\x9c\\xed\\x94\\x8c\\xeb\\xa6\\xbf -->\\n<!-- [AU] _item \\xed\\x81\\xb4\\xeb\\x9e\\x98\\xec\\x8a\\xa4\\xeb\\xa5\\xbc \\xec\\xb6\\x94\\xea\\xb0\\x80\\xed\\x95\\xb4\\xec\\xa3\\xbc\\xec\\x84\\xb8\\xec\\x9a\\x94. -->\\n<!-- [AU] data-rank=\"@rank@\" data-template-type=\"history\" data-keyword=\"@in_txt@\" attribute\\xeb\\xa5\\xbc \\xec\\xb6\\x94\\xea\\xb0\\x80\\xed\\x95\\xb4\\xec\\xa3\\xbc\\xec\\x84\\xb8\\xec\\x9a\\x94. -->\\n<li class=\"item has_correct _item\" data-rank=\"@rank@\" data-template-type=\"history\" data-keyword=\"@in_txt@\">\\n<a href=\"#\" class=\"kwd\">\\n<span class=\"fix\"><span class=\"common_ico_kwd\"><i class=\"imsc ico_search\"></i></span>@txt@</span>\\n</a>\\n<span class=\"etc\">\\n<!-- \\xec\\xb5\\x9c\\xea\\xb7\\xbc\\xea\\xb2\\x80\\xec\\x83\\x89\\xec\\x96\\xb4 \\xec\\x9e\\x88\\xec\\x9c\\xbc\\xeb\\xa9\\xb4 \\xeb\\x82\\xa0\\xec\\xa7\\x9c \\xed\\x91\\x9c\\xec\\x8b\\x9c -->\\n<em class=\"date\">@date@.</em>\\n<a href=\"#\" role=\"button\" class=\"bt_item _add\" aria-pressed=\"false\"><i class=\"imsc ico_insert\">\\xec\\xb6\\x94\\xea\\xb0\\x80</i></a>\\n</span>\\n</li>\\n</ul>\\n<!-- [AU] \\xeb\\xac\\xb8\\xeb\\xa7\\xa5\\xea\\xb2\\x80\\xec\\x83\\x89 \\xed\\x85\\x9c\\xed\\x94\\x8c\\xeb\\xa6\\xbf -->\\n<!-- [AU] _item \\xed\\x81\\xb4\\xeb\\x9e\\x98\\xec\\x8a\\xa4\\xeb\\xa5\\xbc \\xec\\xb6\\x94\\xea\\xb0\\x80\\xed\\x95\\xb4\\xec\\xa3\\xbc\\xec\\x84\\xb8\\xec\\x9a\\x94. -->\\n<!-- [AU] data-rank=\"@rank@\" data-template-type=\"intend\" data-keyword=\"@transQuery@\" attribute\\xeb\\xa5\\xbc \\xec\\xb6\\x94\\xea\\xb0\\x80\\xed\\x95\\xb4\\xec\\xa3\\xbc\\xec\\x84\\xb8\\xec\\x9a\\x94. -->\\n<li class=\"item has_correct _item\" data-rank=\"@rank@\" data-intend-rank=\"@intendRank@\" data-template-type=\"intend\" data-keyword=\"@transQuery@\">\\n<a href=\"#\" class=\"kwd\">\\n<span class=\"fix\"><span class=\"common_ico_kwd\"><i class=\"imsc ico_search\"></i></span>@query@ <span class=\"context\">@intend@</span></span>\\n</a>\\n<span class=\"etc\">\\n<a href=\"#\" role=\"button\" class=\"bt_item _add\" aria-pressed=\"false\"><i class=\"imsc ico_insert\">\\xec\\xb6\\x94\\xea\\xb0\\x80</i></a>\\n</span>\\n</li>\\n<!-- [D] \\xec\\x84\\xa0\\xea\\xb1\\xb0\\xec\\x95\\x88\\xeb\\x82\\xb4\\xeb\\xac\\xb8\\xea\\xb5\\xac -->\\n<!-- [AU] _alert \\xed\\x81\\xb4\\xeb\\x9e\\x98\\xec\\x8a\\xa4\\xeb\\xa5\\xbc \\xec\\xb6\\x94\\xea\\xb0\\x80\\xed\\x95\\xb4\\xec\\xa3\\xbc\\xec\\x84\\xb8\\xec\\x9a\\x94. -->\\n<div class=\"atcmp_alert _alert\">\\n<div class=\"dsc_election\">\\n<p class=\"dsc\">\\n<i class=\"imsc ico_election\"></i><span class=\"_alert_passage\"></span>\\n</p>\\n<span class=\"dsc_inner\">\\n<!-- [AU] _alert_passage2 \\xed\\x81\\xb4\\xeb\\x9e\\x98\\xec\\x8a\\xa4\\xeb\\xa5\\xbc \\xec\\xb6\\x94\\xea\\xb0\\x80\\xed\\x95\\xb4\\xec\\xa3\\xbc\\xec\\x84\\xb8\\xec\\x9a\\x94. -->\\n<span class=\"_alert_passage2\"></span>\\n<!-- [AU] _alert_link \\xed\\x81\\xb4\\xeb\\x9e\\x98\\xec\\x8a\\xa4\\xeb\\xa5\\xbc \\xec\\xb6\\x94\\xea\\xb0\\x80\\xed\\x95\\xb4\\xec\\xa3\\xbc\\xec\\x84\\xb8\\xec\\x9a\\x94. -->\\n<a href=\"#\" class=\"link _alert_link\" target=\"_blank\">\\xec\\x9e\\x90\\xec\\x84\\xb8\\xed\\x9e\\x88\\xeb\\xb3\\xb4\\xea\\xb8\\xb0</a>\\n</span>\\n</div>\\n</div>\\n<!-- [AU] _plus \\xed\\x81\\xb4\\xeb\\x9e\\x98\\xec\\x8a\\xa4\\xeb\\xa5\\xbc \\xec\\xb6\\x94\\xea\\xb0\\x80\\xed\\x95\\xb4\\xec\\xa3\\xbc\\xec\\x84\\xb8\\xec\\x9a\\x94. -->\\n<div class=\"atcmp_plus _plus\">\\n<div class=\"dsc_plus\">\\n<a href=\"https://help.naver.com/support/alias/search/word/word_16.naver\" class=\"link_dsc\" data-clk=\"sug.cxhelp\" target=\"_blank\">\\xea\\xb4\\x80\\xec\\x8b\\xac\\xec\\x82\\xac\\xeb\\xa5\\xbc \\xeb\\xb0\\x98\\xec\\x98\\x81\\xed\\x95\\x9c \\xec\\xbb\\xa8\\xed\\x85\\x8d\\xec\\x8a\\xa4\\xed\\x8a\\xb8 \\xec\\x9e\\x90\\xeb\\x8f\\x99\\xec\\x99\\x84\\xec\\x84\\xb1<i class=\"imsc ico_help\">\\xeb\\x8f\\x84\\xec\\x9b\\x80\\xeb\\xa7\\x90</i></a>\\n</div>\\n<div class=\"switch\">\\n<!-- [D] \\xec\\x84\\xa0\\xed\\x83\\x9d\\xec\\x8b\\x9c aria-pressed=\"ture/false\" -->\\n<!-- [AU] _plus_btn \\xed\\x81\\xb4\\xeb\\x9e\\x98\\xec\\x8a\\xa4\\xeb\\xa5\\xbc \\xec\\xb6\\x94\\xea\\xb0\\x80\\xed\\x95\\xb4\\xec\\xa3\\xbc\\xec\\x84\\xb8\\xec\\x9a\\x94. -->\\n<a role=\"button\" href=\"#\" class=\"bt_switch active _plus_btn\" aria-pressed=\"false\"><i class=\"imsc ico_option\">\\xec\\xbb\\xa8\\xed\\x85\\x8d\\xec\\x8a\\xa4\\xed\\x8a\\xb8 \\xec\\x9e\\x90\\xeb\\x8f\\x99\\xec\\x99\\x84\\xec\\x84\\xb1</i></a>\\n</div>\\n<!-- [AU] _plus_layer \\xed\\x81\\xb4\\xeb\\x9e\\x98\\xec\\x8a\\xa4\\xeb\\xa5\\xbc \\xec\\xb6\\x94\\xea\\xb0\\x80\\xed\\x95\\xb4\\xec\\xa3\\xbc\\xec\\x84\\xb8\\xec\\x9a\\x94. -->\\n<div class=\"layer_plus _plus_layer\">\\n<strong class=\"tit\">\\xec\\xbb\\xa8\\xed\\x85\\x8d\\xec\\x8a\\xa4\\xed\\x8a\\xb8 \\xec\\x9e\\x90\\xeb\\x8f\\x99\\xec\\x99\\x84\\xec\\x84\\xb1</strong>\\n<!-- [AU] _plus_layer_isloggedin \\xed\\x81\\xb4\\xeb\\x9e\\x98\\xec\\x8a\\xa4\\xeb\\xa5\\xbc \\xec\\xb6\\x94\\xea\\xb0\\x80\\xed\\x95\\xb4\\xec\\xa3\\xbc\\xec\\x84\\xb8\\xec\\x9a\\x94. -->\\n<!-- [AU] style=\"display:none\" \\xec\\xb6\\x94\\xea\\xb0\\x80\\xed\\x95\\xb4\\xec\\xa3\\xbc\\xec\\x84\\xb8\\xec\\x9a\\x94. -->\\n<div class=\"_plus_layer_isloggedin\" style=\"display:none\">\\n<p class=\"dsc\">ON/OFF \\xec\\x84\\xa4\\xec\\xa0\\x95\\xec\\x9d\\x80<br>\\xed\\x95\\xb4\\xeb\\x8b\\xb9\\xea\\xb8\\xb0\\xea\\xb8\\xb0(\\xeb\\xb8\\x8c\\xeb\\x9d\\xbc\\xec\\x9a\\xb0\\xec\\xa0\\x80)\\xec\\x97\\x90 \\xec\\xa0\\x80\\xec\\x9e\\xa5\\xeb\\x90\\xa9\\xeb\\x8b\\x88\\xeb\\x8b\\xa4.</p>\\n<div class=\"btn_area\">\\n<a href=\"https://help.naver.com/support/alias/search/word/word_16.naver\" class=\"btn btn_view\" data-clk=\"sug.cxlink\" target=\"_blank\">\\xec\\x9e\\x90\\xec\\x84\\xb8\\xed\\x9e\\x88</a>\\n</div>\\n</div>\\n<!-- [AU] _plus_layer_isnotloggedin \\xed\\x81\\xb4\\xeb\\x9e\\x98\\xec\\x8a\\xa4\\xeb\\xa5\\xbc \\xec\\xb6\\x94\\xea\\xb0\\x80\\xed\\x95\\xb4\\xec\\xa3\\xbc\\xec\\x84\\xb8\\xec\\x9a\\x94. -->\\n<!-- [AU] style=\"display:none\" \\xec\\xb6\\x94\\xea\\xb0\\x80\\xed\\x95\\xb4\\xec\\xa3\\xbc\\xec\\x84\\xb8\\xec\\x9a\\x94. -->\\n<div class=\"_plus_layer_isnotloggedin\" style=\"display:none\">\\n<p class=\"dsc\"><em class=\"txt\">\\xeb\\x8f\\x99\\xec\\x9d\\xbc\\xed\\x95\\x9c \\xec\\x8b\\x9c\\xea\\xb0\\x84\\xeb\\x8c\\x80/\\xec\\x97\\xb0\\xeb\\xa0\\xb9/\\xeb\\x82\\xa8\\xeb\\x85\\x80\\xeb\\xb3\\x84</em> \\xec\\x82\\xac\\xec\\x9a\\xa9\\xec\\x9e\\x90 \\xea\\xb7\\xb8\\xeb\\xa3\\xb9\\xec\\x9d\\x98<br>\\xea\\xb4\\x80\\xec\\x8b\\xac\\xec\\x82\\xac\\xec\\x97\\x90 \\xeb\\xa7\\x9e\\xec\\xb6\\xb0 \\xec\\x9e\\x90\\xeb\\x8f\\x99\\xec\\x99\\x84\\xec\\x84\\xb1\\xec\\x9d\\x84 \\xec\\xa0\\x9c\\xea\\xb3\\xb5\\xed\\x95\\xa9\\xeb\\x8b\\x88\\xeb\\x8b\\xa4.</p>\\n<div class=\"btn_area\">\\n<a href=\"https://nid.naver.com/nidlogin.login\" class=\"btn btn_login\" data-clk=\"sug.cxlogin\">\\xeb\\xa1\\x9c\\xea\\xb7\\xb8\\xec\\x9d\\xb8</a>\\n<a href=\"https://help.naver.com/support/alias/search/word/word_16.naver\" class=\"btn btn_view\" data-clk=\"sug.cxlink\" target=\"_blank\">\\xec\\x9e\\x90\\xec\\x84\\xb8\\xed\\x9e\\x88</a>\\n</div>\\n</div>\\n<!-- [AU] _plus_layer_close \\xed\\x81\\xb4\\xeb\\x9e\\x98\\xec\\x8a\\xa4\\xeb\\xa5\\xbc \\xec\\xb6\\x94\\xea\\xb0\\x80\\xed\\x95\\xb4\\xec\\xa3\\xbc\\xec\\x84\\xb8\\xec\\x9a\\x94. -->\\n<a href=\"#\" role=\"button\" class=\"btn_close _plus_layer_close\"><i class=\"imsc ico_close\">\\xec\\xbb\\xa8\\xed\\x85\\x8d\\xec\\x8a\\xa4\\xed\\x8a\\xb8 \\xec\\x9e\\x90\\xeb\\x8f\\x99\\xec\\x99\\x84\\xec\\x84\\xb1 \\xeb\\xa0\\x88\\xec\\x9d\\xb4\\xec\\x96\\xb4 \\xeb\\x8b\\xab\\xea\\xb8\\xb0</i></a>\\n</div>\\n</div>\\n</div>\\n<div class=\"atcmp_footer\">\\n<span class=\"side_opt_area\">\\n<span class=\"opt_item\"><a href=\"https://help.naver.com/alias/search/word/word_17.naver\" data-clk=\"sug.help\" target=\"_blank\">\\xeb\\x8f\\x84\\xec\\x9b\\x80\\xeb\\xa7\\x90</a></span>\\n<span class=\"opt_item\"><a href=\"https://help.naver.com/support/contents/contents.help?serviceNo=605&categoryNo=18215\" class=\"report\" data-clk=\"sug.report\" target=\"_blank\">\\xec\\x8b\\xa0\\xea\\xb3\\xa0</a></span>\\n</span>\\n<span class=\"rside_opt_area\">\\n<span class=\"opt_item\">\\n<!-- [AU] _suggestOnOff \\xed\\x81\\xb4\\xeb\\x9e\\x98\\xec\\x8a\\xa4\\xeb\\xa5\\xbc \\xec\\xb6\\x94\\xea\\xb0\\x80\\xed\\x95\\xb4\\xec\\xa3\\xbc\\xec\\x84\\xb8\\xec\\x9a\\x94. -->\\n<a href=\"#\" class=\"close _suggestOnOff\">\\xec\\x9e\\x90\\xeb\\x8f\\x99\\xec\\x99\\x84\\xec\\x84\\xb1 \\xeb\\x81\\x84\\xea\\xb8\\xb0</a>\\n</span>\\n</span>\\n</div>\\n</div>\\n</div>\\n</div>\\n</div>\\n</div>\\n\\n</div>\\n</div>\\n\\n<!--EMPTY-->\\n<div id=\"gnb\" role=\"navigation\">\\n<div id=\"NM_FAVORITE\" class=\"gnb_inner\">\\n<div class=\"group_nav\">\\n<ul class=\"list_nav type_fix\">\\n<li class=\"nav_item\">\\n<a href=\"https://mail.naver.com/\" class=\"nav\" data-clk=\"svc.mail\"><i class=\"ico_mail\"></i>\\xeb\\xa9\\x94\\xec\\x9d\\xbc</a>\\n</li>\\n<li class=\"nav_item\"><a href=\"https://section.cafe.naver.com/\" class=\"nav\" data-clk=\"svc.cafe\">\\xec\\xb9\\xb4\\xed\\x8e\\x98</a></li>\\n<li class=\"nav_item\"><a href=\"https://section.blog.naver.com/\" class=\"nav\" data-clk=\"svc.blog\">\\xeb\\xb8\\x94\\xeb\\xa1\\x9c\\xea\\xb7\\xb8</a></li>\\n<li class=\"nav_item\"><a href=\"https://kin.naver.com/\" class=\"nav\" data-clk=\"svc.kin\">\\xec\\xa7\\x80\\xec\\x8b\\x9diN</a></li>\\n<li class=\"nav_item\"><a href=\"https://shopping.naver.com/\" class=\"nav shop\" data-clk=\"svc.shopping\"><span class=\"blind\">\\xec\\x87\\xbc\\xed\\x95\\x91</span></a></li>\\n<li class=\"nav_item\"><a href=\"https://shoppinglive.naver.com/home\" class=\"nav shoplive\"\\ndata-clk=\"svc.shoppinglive\"><span class=\"blind\">\\xec\\x87\\xbc\\xed\\x95\\x91LIVE</span></a></li>\\n<li class=\"nav_item\"><a href=\"https://order.pay.naver.com/home\" class=\"nav\" data-clk=\"svc.pay\">Pay</a></li>\\n<li class=\"nav_item\">\\n<a href=\"https://tv.naver.com/\" class=\"nav\" data-clk=\"svc.tvcast\"><i class=\"ico_tv\"></i>TV</a>\\n</li>\\n</ul>\\n<ul\\nclass=\"list_nav NM_FAVORITE_LIST\"\\n>\\n<li class=\"nav_item\"><a href=\"https://dict.naver.com/\" class=\"nav\" data-clk=\"svc.dic\">\\xec\\x82\\xac\\xec\\xa0\\x84</a></li>\\n<li class=\"nav_item\"><a href=\"https://news.naver.com/\" class=\"nav\" data-clk=\"svc.news\">\\xeb\\x89\\xb4\\xec\\x8a\\xa4</a></li>\\n<li class=\"nav_item\"><a href=\"https://finance.naver.com/\" class=\"nav\" data-clk=\"svc.stock\">\\xec\\xa6\\x9d\\xea\\xb6\\x8c</a></li>\\n<li class=\"nav_item\"><a href=\"https://land.naver.com/\" class=\"nav\" data-clk=\"svc.land\">\\xeb\\xb6\\x80\\xeb\\x8f\\x99\\xec\\x82\\xb0</a></li>\\n<li class=\"nav_item\"><a href=\"https://map.naver.com/\" class=\"nav\" data-clk=\"svc.map\">\\xec\\xa7\\x80\\xeb\\x8f\\x84</a></li>\\n<li class=\"nav_item\"><a href=\"https://vibe.naver.com/?from&#x3D;naver_main&amp;utm_source&#x3D;naver_main&amp;utm_medium&#x3D;naver_main_pcweb&amp;utm_campaign&#x3D;naver_main_redirect\" class=\"nav\" data-clk=\"svc.vibe\">VIBE</a></li>\\n<li class=\"nav_item\"><a href=\"https://search.shopping.naver.com/book/home\" class=\"nav\" data-clk=\"svc.book\">\\xeb\\x8f\\x84\\xec\\x84\\x9c</a></li>\\n<li class=\"nav_item\"><a href=\"https://comic.naver.com/\" class=\"nav\" data-clk=\"svc.webtoon\">\\xec\\x9b\\xb9\\xed\\x88\\xb0</a></li>\\n\\n</ul>\\n<ul class=\"list_nav type_empty\" style=\"display: none;\"></ul>\\n<a href=\"#\" role=\"button\" class=\"btn_more\" data-clk=\"svc.more\">\\xeb\\x8d\\x94\\xeb\\xb3\\xb4\\xea\\xb8\\xb0</a>\\n<div class=\"ly_btn_area\">\\n<a href=\"more.html\" class=\"btn NM_FAVORITE_ALL\" data-clk=\"map.svcmore\">\\xec\\x84\\x9c\\xeb\\xb9\\x84\\xec\\x8a\\xa4 \\xec\\xa0\\x84\\xec\\xb2\\xb4\\xeb\\xb3\\xb4\\xea\\xb8\\xb0</a>\\n<a href=\"#\" role=\"button\" class=\"btn btn_set\" data-clk=\"map.edit\">\\xeb\\xa9\\x94\\xeb\\x89\\xb4\\xec\\x84\\xa4\\xec\\xa0\\x95</a>\\n<a href=\"#\" role=\"button\" class=\"btn btn_reset\" data-clk=\"edt.reset\">\\xec\\xb4\\x88\\xea\\xb8\\xb0\\xed\\x99\\x94</a>\\n<a href=\"#\" role=\"button\" class=\"btn btn_save\" data-clk=\"edt.save\">\\xec\\xa0\\x80\\xec\\x9e\\xa5</a>\\n</div>\\n</div>\\n<div id=\"NM_WEATHER\" class=\"group_weather\">\\n<div>\\n<a data-clk=\"squ.weat\" href=\"https://weather.naver.com/today/WDJPN00047\" class=\"weather_area ico_w01\">\\n<div class=\"current_box\">\\n<strong class=\"current\" aria-label=\"\\xed\\x98\\x84\\xec\\x9e\\xac\\xea\\xb8\\xb0\\xec\\x98\\xa8\">9.0\\xc2\\xb0</strong><strong class=\"state\">\\xeb\\xa7\\x91\\xec\\x9d\\x8c(\\xeb\\x82\\xae)</strong>\\n</div>\\n<div class=\"degree_box\">\\n<span class=\"min\" aria-label=\"\\xec\\xb5\\x9c\\xec\\xa0\\x80\\xea\\xb8\\xb0\\xec\\x98\\xa8\">14.0\\xc2\\xb0</span><span class=\"max\" aria-label=\"\\xec\\xb5\\x9c\\xea\\xb3\\xa0\\xea\\xb8\\xb0\\xec\\x98\\xa8\">14.0\\xc2\\xb0</span>\\n</div>\\n<span class=\"location\">\\xeb\\x8f\\x84\\xec\\xbf\\x84</span>\\n</a>\\n</div>\\n</div>\\n</div>\\n<div class=\"ly_service\">\\n<div class=\"group_service NM_FAVORITE_ALL_LY\"></div>\\n<div class=\"group_service NM_FAVORITE_EDIT_LY\" style=\"display: none;\"></div>\\n</div>\\n</div>\\n</div>\\n <div id=\"container\" role=\"main\"> <div style=\"position:relative;width:1130px;margin:0 auto;z-index:11\"> <div id=\"da_top\"></div> <div id=\"da_expwide\"></div> </div> <div id=\"NM_INT_LEFT\" class=\"column_left\"> <div id=\"veta_top\"> <div id=\"veta_top_inner\" style=\"height:135px\"> </div> <span class=\"veta_bd_t\"></span> <span class=\"veta_bd_b\"></span> <span class=\"veta_bd_l\"></span> <span class=\"veta_bd_r\"></span> </div> <div id=\"newsstand\" class=\"sc_newscast\"> <h2 class=\"blind\">\\xeb\\x89\\xb4\\xec\\x8a\\xa4\\xec\\x8a\\xa4\\xed\\x83\\xa0\\xeb\\x93\\x9c</h2> <div id=\"NM_NEWSSTAND_HEADER\" class=\"group_issue\" data-clk-prefix=\"ncy\"> <div class=\"issue_area\"> <a class=\"link_media\" href=\"https://news.naver.com/main/list.naver?mode=LPOD&mid=sec&sid1=001&sid2=140&oid=001&isYeonhapFlash=Y\" data-clk=\"newsflash\">\\xec\\x97\\xb0\\xed\\x95\\xa9\\xeb\\x89\\xb4\\xec\\x8a\\xa4</a> <div id=\"NM_ONELINE_ROLLING\" class=\"list_issue\" data-nm-ui=\"rolling\"> <div><a href=\"https://news.naver.com/main/list.naver?mode=LPOD&mid=sec&sid1=001&sid2=140&oid=001&isYeonhapFlash=Y&aid=0013632092\" class=\"issue\" data-clk=\"quickarticle\">\\xec\\x97\\x85\\xeb\\xac\\xb4\\xea\\xb0\\x9c\\xec\\x8b\\x9c\\xeb\\xaa\\x85\\xeb\\xa0\\xb9\\xec\\x97\\x90 \\'\\xeb\\xac\\xbc\\xeb\\xa5\\x98 \\xed\\x9a\\x8c\\xeb\\xb3\\xb5\\xec\\x84\\xb8\\' \\xec\\x9d\\xb4\\xec\\x96\\xb4\\xec\\xa0\\xb8\\xe2\\x80\\xa6\\xeb\\x85\\xb8\\xeb\\x8f\\x99\\xea\\xb3\\x84\\xeb\\x8a\\x94 \\xeb\\x8f\\x99\\xec\\xa1\\xb0\\xed\\x8c\\x8c\\xec\\x97\\x85 \\xeb\\xa7\\x9e\\xec\\x84\\x9c</a></div>\\n<div><a href=\"https://news.naver.com/main/list.naver?mode=LPOD&mid=sec&sid1=001&sid2=140&oid=001&isYeonhapFlash=Y&aid=0013632318\" class=\"issue\" data-clk=\"quickarticle\">\\xec\\x9a\\xb8\\xec\\xbb\\xa5\\xed\\x95\\x9c \\xe5\\xb0\\xb9 \"\\xec\\x9a\\xb0\\xeb\\xa6\\xac\\xec\\x97\\x90\\xea\\xb2\\x90 \\xec\\x9a\\xb0\\xec\\x8a\\xb9\\xed\\x8c\\x80\"\\xe2\\x80\\xa6\\xec\\x86\\x90\\xed\\x9d\\xa5\\xeb\\xaf\\xbc, \\xec\\xa3\\xbc\\xec\\x9e\\xa5 \\xec\\x99\\x84\\xec\\x9e\\xa5 \\xe5\\xb0\\xb9\\xec\\x99\\xbc\\xed\\x8c\\x94\\xec\\x97\\x90</a></div>\\n<div><a href=\"https://news.naver.com/main/list.naver?mode=LPOD&mid=sec&sid1=001&sid2=140&oid=001&isYeonhapFlash=Y&aid=0013632245\" class=\"issue\" data-clk=\"quickarticle\">\\xeb\\xaf\\xbc\\xec\\xa3\\xbc \"\\xec\\xa2\\x85\\xeb\\xb6\\x80\\xec\\x84\\xb8 \\xec\\x9e\\xa0\\xec\\xa0\\x95 \\xed\\x95\\xa9\\xec\\x9d\\x98\"\\xe2\\x80\\xa61\\xea\\xb0\\x80\\xea\\xb5\\xac1\\xec\\xa3\\xbc\\xed\\x83\\x9d \\xea\\xb8\\xb0\\xec\\xa4\\x80 11\\xec\\x96\\xb5\\xe2\\x86\\x9212\\xec\\x96\\xb5\\xec\\x9b\\x90 \\xeb\\x90\\xa0 \\xeb\\x93\\xaf</a></div>\\n<div><a href=\"https://news.naver.com/main/list.naver?mode=LPOD&mid=sec&sid1=001&sid2=140&oid=001&isYeonhapFlash=Y&aid=0013632141\" class=\"issue\" data-clk=\"quickarticle\">\\'\\xec\\x9d\\xb4\\xec\\x83\\x81\\xeb\\xaf\\xbc \\xed\\x95\\xb4\\xec\\x9e\\x84\\xea\\xb1\\xb4\\xec\\x9d\\x98\\xec\\x95\\x88\\' \\xeb\\xb3\\xb8\\xed\\x9a\\x8c\\xec\\x9d\\x98\\xec\\x9e\\xa5 \\xea\\xb3\\xb5\\xeb\\xb0\\xa9\\xe2\\x80\\xa6\"\\xec\\x9d\\xb4\\xec\\x9e\\xac\\xeb\\xaa\\x85 \\xeb\\xb0\\xa9\\xed\\x83\\x84\" \"\\xec\\x9c\\xa0\\xea\\xb0\\x80\\xec\\xa1\\xb1 \\xeb\\x9c\\xbb\"</a></div>\\n<div><a href=\"https://news.naver.com/main/list.naver?mode=LPOD&mid=sec&sid1=001&sid2=140&oid=001&isYeonhapFlash=Y&aid=0013632171\" class=\"issue\" data-clk=\"quickarticle\">\\xea\\xb2\\x80\\xec\\xb0\\xb0, \\xec\\x84\\x9c\\xed\\x9b\\x88 \\xec\\x98\\x81\\xec\\x9e\\xa5\\xec\\x97\\x90 \"\\xe9\\x9d\\x91\\xc2\\xb7\\xea\\xb5\\xad\\xec\\xa0\\x95\\xec\\x9b\\x90 \\xec\\x8b\\xa4\\xeb\\xac\\xb4\\xec\\xa7\\x84 \\'\\xec\\xb2\\xa9\\xeb\\xb3\\xb4 \\xec\\x82\\xad\\xec\\xa0\\x9c\\' \\xec\\xa7\\x80\\xec\\xb9\\xa8 \\xea\\xb3\\xb5\\xec\\x9c\\xa0\"</a></div>\\n<div><a href=\"https://news.naver.com/main/list.naver?mode=LPOD&mid=sec&sid1=001&sid2=140&oid=001&isYeonhapFlash=Y&aid=0013631912\" class=\"issue\" data-clk=\"quickarticle\">\\xeb\\x82\\xb4\\xeb\\x85\\x84 6\\xec\\x9b\\x94\\xeb\\xb6\\x80\\xed\\x84\\xb0 \\'\\xeb\\xa7\\x8c \\xeb\\x82\\x98\\xec\\x9d\\xb4\\'\\xeb\\xa1\\x9c \\xed\\x86\\xb5\\xec\\x9d\\xbc\\xe2\\x80\\xa6\\'\\xec\\xb9\\xb4\\xec\\xb9\\xb4\\xec\\x98\\xa4 \\xeb\\xa8\\xb9\\xed\\x86\\xb5 \\xeb\\xb0\\xa9\\xec\\xa7\\x80\\xeb\\xb2\\x95\\'\\xeb\\x8f\\x84 \\xed\\x86\\xb5\\xea\\xb3\\xbc</a></div>\\n<div><a href=\"https://news.naver.com/main/list.naver?mode=LPOD&mid=sec&sid1=001&sid2=140&oid=001&isYeonhapFlash=Y&aid=0013632207\" class=\"issue\" data-clk=\"quickarticle\">\\xec\\x84\\x9c\\xec\\x9a\\xb8\\xec\\x8b\\x9c \"\\xec\\xa0\\x84\\xec\\x9e\\xa5\\xec\\x97\\xb0 \\xed\\x83\\x91\\xec\\x8a\\xb9\\xec\\x8b\\x9c\\xec\\x9c\\x84 \\xec\\xa7\\x80\\xed\\x95\\x98\\xec\\xb2\\xa0\\xec\\x97\\xad \\xeb\\xac\\xb4\\xec\\xa0\\x95\\xec\\xb0\\xa8 \\xed\\x86\\xb5\\xea\\xb3\\xbc\"</a></div>\\n<div><a href=\"https://news.naver.com/main/list.naver?mode=LPOD&mid=sec&sid1=001&sid2=140&oid=001&isYeonhapFlash=Y&aid=0013632094\" class=\"issue\" data-clk=\"quickarticle\">\\xec\\x9c\\x84\\xeb\\xaf\\xb9\\xec\\x8a\\xa4 \\xed\\x87\\xb4\\xec\\xb6\\x9c\\xec\\x97\\x90 \\xea\\xb0\\x80\\xec\\x83\\x81\\xec\\x9e\\x90\\xec\\x82\\xb0\\xec\\x8b\\x9c\\xec\\x9e\\xa5 \\'\\xed\\x9d\\x94\\xeb\\x93\\xa4\\'\\xe2\\x80\\xa6\"\\xec\\x83\\x81\\xed\\x8f\\x90 \\xea\\xb8\\xb0\\xec\\xa4\\x80\\xec\\x9d\\xb4\\xeb\\x9d\\xbc\\xeb\\x8f\\x84 \\xea\\xb3\\xb5\\xea\\xb0\\x9c\\xed\\x95\\xb4\\xec\\x95\\xbc\"</a></div>\\n<div><a href=\"https://news.naver.com/main/list.naver?mode=LPOD&mid=sec&sid1=001&sid2=140&oid=001&isYeonhapFlash=Y&aid=0013631723\" class=\"issue\" data-clk=\"quickarticle\">\\xeb\\x82\\xa8\\xec\\x9a\\xa9 \\xec\\x9d\\x98\\xec\\x8b\\xac\\xeb\\x90\\x98\\xeb\\x8a\\x94 MRI-\\xec\\xb4\\x88\\xec\\x9d\\x8c\\xed\\x8c\\x8c\\xeb\\x8a\\x94 \\xea\\xb1\\xb4\\xea\\xb0\\x95\\xeb\\xb3\\xb4\\xed\\x97\\x98\\xec\\x84\\x9c \\xec\\xa0\\x9c\\xec\\x99\\xb8\\xe2\\x80\\xa6\\xe6\\x96\\x87\\xec\\xbc\\x80\\xec\\x96\\xb4 \\'\\xec\\x88\\x98\\xec\\x88\\xa0\\xeb\\x8c\\x80\\'</a></div>\\n<div><a href=\"https://news.naver.com/main/list.naver?mode=LPOD&mid=sec&sid1=001&sid2=140&oid=001&isYeonhapFlash=Y&aid=0013632002\" class=\"issue\" data-clk=\"quickarticle\">\\xeb\\x82\\xb4\\xec\\x9d\\xbc \\xec\\xb6\\x9c\\xea\\xb7\\xbc\\xea\\xb8\\xb8 \\xeb\\x8f\\x84\\xeb\\xa1\\x9c \\xec\\x82\\xb4\\xec\\x96\\xbc\\xec\\x9d\\x8c \\'\\xec\\xa3\\xbc\\xec\\x9d\\x98\\'\\xe2\\x80\\xa6\\xec\\xa4\\x91\\xeb\\xb6\\x80\\xec\\xa7\\x80\\xeb\\xb0\\xa9\\xec\\x97\\x90 \\xec\\x83\\x88\\xeb\\xb2\\xbd\\xeb\\x85\\x98 \\xeb\\xb9\\x84\\xc2\\xb7\\xeb\\x88\\x88</a></div> </div> </div> <div class=\"direct_area\"> <a href=\"https://m.sports.naver.com/qatar2022/index\" class=\"link_worldcup\" data-clk=\"qatar2022\"><span class=\"blind\">QATAR 2022</span></a> <a href=\"http://news.naver.com/\" class=\"link_news\" data-clk=\"newshome\">\\xeb\\x89\\xb4\\xec\\x8a\\xa4\\xed\\x99\\x88</a>\\n<a href=\"http://entertain.naver.com/home\" class=\"link_direct\" data-clk=\"entertainment\">\\xec\\x97\\xb0\\xec\\x98\\x88</a>\\n<a href=\"http://sports.news.naver.com/\" class=\"link_direct\" data-clk=\"sports\">\\xec\\x8a\\xa4\\xed\\x8f\\xac\\xec\\xb8\\xa0</a>\\n<a href=\"http://news.naver.com/main/main.naver?mode=LSD&mid=shm&sid1=101\" class=\"link_direct\" data-clk=\"economy\">\\xea\\xb2\\xbd\\xec\\xa0\\x9c</a> </div> </div>        <div id=\"NM_NEWSSTAND_TITLE\" class=\"group_title\" data-clk-prefix=\"nsd\"> <a href=\"http://newsstand.naver.com/\" class=\"link_newsstand\" data-clk=\"title\" target=\"_blank\">\\xeb\\x89\\xb4\\xec\\x8a\\xa4\\xec\\x8a\\xa4\\xed\\x83\\xa0\\xeb\\x93\\x9c</a> <div id=\"NM_NEWSSTAND_data_buttons\" class=\"sort_area\" role=\"tablist\">  <a href=\"#\" role=\"tab\" data-type=\"my\" data-clk=\"my\" class=\"btn_sort\" aria-controls=\"NM_NEWSSTAND_MY_LIST\" aria-selected=\"false\">\\xea\\xb5\\xac\\xeb\\x8f\\x85\\xed\\x95\\x9c \\xec\\x96\\xb8\\xeb\\xa1\\xa0\\xec\\x82\\xac</a> <a href=\"#\" role=\"tab\" data-type=\"all\" data-clk=\"all\" class=\"btn_sort\" aria-controls=\"NM_NEWSSTAND_DEFAULT_THUMB\" aria-selected=\"true\">\\xec\\xa0\\x84\\xec\\xb2\\xb4\\xec\\x96\\xb8\\xeb\\xa1\\xa0\\xec\\x82\\xac</a>  </div> <div id=\"NM_NEWSSTAND_view_buttons\" class=\"set_area\" role=\"tablist\">  <a href=\"#\" role=\"tab\" data-type=\"list\" data-clk=\"articleview\" class=\"btn_set\" aria-controls=\"NM_NEWSSTAND_DEFAULT_LIST\" aria-selected=\"false\"> <i class=\"ico_list\"><span class=\"blind\">\\xeb\\xa6\\xac\\xec\\x8a\\xa4\\xed\\x8a\\xb8\\xed\\x98\\x95</span></i></a> <a href=\"#\" role=\"tab\" data-type=\"thumb\" data-clk=\"pressview\" class=\"btn_set\" aria-controls=\"NM_NEWSSTAND_DEFAULT_THUMB\" aria-selected=\"true\"> <i class=\"ico_tile\"><span class=\"blind\">\\xec\\x8d\\xb8\\xeb\\x84\\xa4\\xec\\x9d\\xbc\\xed\\x98\\x95</span></i></a>  <a href=\"http://newsstand.naver.com/config.html\" class=\"btn_set\" data-clk=\"set\" target=\"_blank\"> <i class=\"ico_set\"><span class=\"blind\">\\xec\\x84\\xa4\\xec\\xa0\\x95</span></i></a> </div> </div> <div id=\"NM_NEWSSTAND_VIEW_CONTAINER\" style=\"position:relative\"> <div id=\"NM_NEWSSTAND_DEFAULT_LIST\" class=\"group_news\" role=\"tabpanel\" style=\"display:none\" data-clk-prefix=\"nsd_all\"> <a href=\"#\" role=\"button\" class=\"pm_btn_prev_l _NM_NEWSSTAND_LIST_prev_btn\" data-clk-custom=\"prev\"><i class=\"ico_btn\"><span class=\"blind\">\\xec\\x9d\\xb4\\xec\\xa0\\x84</span></i></a> <a href=\"#\" role=\"button\" class=\"pm_btn_next_l _NM_NEWSSTAND_LIST_next_btn\" data-clk-custom=\"next\"><i class=\"ico_btn\"><span class=\"blind\">\\xeb\\x8b\\xa4\\xec\\x9d\\x8c</span></i></a> <div class=\"list_view\"> <div class=\"option_area\"> <div class=\"list_option_wrap\"> <ul class=\"list_option\"> <li class=\"option_item\" data-cateid=\"ct2\"><a href=\"#\" class=\"option\" data-clk=\"daei\">\\xec\\xa2\\x85\\xed\\x95\\xa9/\\xea\\xb2\\xbd\\xec\\xa0\\x9c</a></li> <li class=\"option_item\" data-cateid=\"ct3\"><a href=\"#\" class=\"option\" data-clk=\"dtvcom\">\\xeb\\xb0\\xa9\\xec\\x86\\xa1/\\xed\\x86\\xb5\\xec\\x8b\\xa0</a></li> <li class=\"option_item\" data-cateid=\"ct4\"><a href=\"#\" class=\"option\" data-clk=\"dit\">IT</a></li> <li class=\"option_item\" data-cateid=\"ct5\"><a href=\"#\" class=\"option\" data-clk=\"deng\">\\xec\\x98\\x81\\xec\\x9e\\x90\\xec\\xa7\\x80</a></li> <li class=\"option_item\" data-cateid=\"ct6\"><a href=\"#\" class=\"option\" data-clk=\"dsporent\">\\xec\\x8a\\xa4\\xed\\x8f\\xac\\xec\\xb8\\xa0/\\xec\\x97\\xb0\\xec\\x98\\x88</a></li> <li class=\"option_item\" data-cateid=\"ct7\"><a href=\"#\" class=\"option\" data-clk=\"dmagtec\">\\xeb\\xa7\\xa4\\xea\\xb1\\xb0\\xec\\xa7\\x84/\\xec\\xa0\\x84\\xeb\\xac\\xb8\\xec\\xa7\\x80</a></li> <li class=\"option_item\" data-cateid=\"ct8\"><a href=\"#\" class=\"option\" data-clk=\"dloc\">\\xec\\xa7\\x80\\xec\\x97\\xad</a></li> </ul> </div> </div> <div class=\"_NM_NEWSSTAND_ARTICLE_CONTAINER\" data-clk-sub=\"*a\"></div> </div> <div class=\"ly_popup NM_NEWSSTAND_POPUP NM_NEWSSTAND_invalid\" style=\"display:none\" data-clk-sub=\"*a\"> <a href=\"#\" role=\"button\" class=\"btn_close NM_NEWSSTAND_POPUP_CLOSE\"><i class=\"ico_close\"></i><span class=\"blind\">\\xeb\\x8b\\xab\\xea\\xb8\\xb0</span></a> <p class=\"popup_msg\">\\xed\\x95\\xb4\\xeb\\x8b\\xb9 \\xec\\x96\\xb8\\xeb\\xa1\\xa0\\xec\\x82\\xac \\xec\\x82\\xac\\xec\\xa0\\x95\\xec\\x9c\\xbc\\xeb\\xa1\\x9c \\xec\\xa0\\x91\\xea\\xb7\\xbc\\xec\\x9d\\xb4 \\xec\\xa0\\x9c\\xed\\x95\\x9c\\xeb\\x90\\xa9\\xeb\\x8b\\x88\\xeb\\x8b\\xa4.</p> <div class=\"popup_btn\"> <a href=\"#\" role=\"button\" class=\"btn_confirm NM_NEWSSTAND_POPUP_CLOSE\">\\xed\\x99\\x95\\xec\\x9d\\xb8</a> </div> </div> <div class=\"ly_popup NM_NEWSSTAND_POPUP NM_NEWSSTAND_undescribe_confirm\" style=\"display:none\" data-clk-sub=\"*a\"> <a href=\"#\" role=\"button\" class=\"btn_close NM_NEWSSTAND_POPUP_CLOSE\" data-clk=\"usclose\"><i class=\"ico_close\"></i><span class=\"blind\">\\xeb\\x8b\\xab\\xea\\xb8\\xb0</span></a> <p class=\"popup_msg\"><strong class=\"NM_NEWSSTAND_POPUP_PNAME\"></strong>\\xec\\x9d\\x84(\\xeb\\xa5\\xbc)<br>\\xea\\xb5\\xac\\xeb\\x8f\\x85\\xed\\x95\\xb4\\xec\\xa7\\x80 \\xed\\x95\\x98\\xec\\x8b\\x9c\\xea\\xb2\\xa0\\xec\\x8a\\xb5\\xeb\\x8b\\x88\\xea\\xb9\\x8c?</p> <div class=\"popup_btn\"> <a href=\"#\" role=\"button\" class=\"btn_confirm NM_NEWSSTAND_POPUP_CONFIRM\" data-clk=\"usdone\">\\xed\\x99\\x95\\xec\\x9d\\xb8</a> <a href=\"#\" role=\"button\" class=\"btn_confirm NM_NEWSSTAND_POPUP_CLOSE\" data-clk=\"uscancel\">\\xec\\xb7\\xa8\\xec\\x86\\x8c</a> </div> </div> <div class=\"ly_toast NM_NEWSSTAND_TOAST\" style=\"display:none\"> <p class=\"toast_msg\">\\xea\\xb5\\xac\\xeb\\x8f\\x85\\xed\\x95\\x9c \\xec\\x96\\xb8\\xeb\\xa1\\xa0\\xec\\x82\\xac\\xec\\x97\\x90 \\xec\\xb6\\x94\\xea\\xb0\\x80\\xeb\\x90\\x98\\xec\\x97\\x88\\xec\\x8a\\xb5\\xeb\\x8b\\x88\\xeb\\x8b\\xa4.</p> </div> </div>   <div id=\"NM_NEWSSTAND_DEFAULT_THUMB\" class=\"group_news\" role=\"tabpanel\" style=\"display:block\" data-clk-prefix=\"nsd_all\"> <a href=\"#\" role=\"button\" class=\"pm_btn_prev_l _NM_UI_PAGE_PREV\" data-clk-custom=\"prev\"><i class=\"ico_btn\"><span class=\"blind\">\\xec\\x9d\\xb4\\xec\\xa0\\x84</span></i></a> <a href=\"#\" role=\"button\" class=\"pm_btn_next_l _NM_UI_PAGE_NEXT\" data-clk-custom=\"next\"><i class=\"ico_btn\"><span class=\"blind\">\\xeb\\x8b\\xa4\\xec\\x9d\\x8c</span></i></a> <div class=\"_NM_UI_PAGE_CONTAINER\" style=\"height:100%;overflow:hidden\" data-clk-sub=\"*p\">   <div style=\"width: 750px; float: left;\">\\n<div class=\"tile_view\">\\n<div class=\"frame_area\">\\n<i class=\"line to_right1\"></i>\\n<i class=\"line to_right2\"></i>\\n<i class=\"line to_right3\"></i>\\n<i class=\"line to_bottom1\"></i>\\n<i class=\"line to_bottom2\"></i>\\n<i class=\"line to_bottom3\"></i>\\n<i class=\"line to_bottom4\"></i>\\n<i class=\"line to_bottom5\"></i>\\n</div>\\n<div class=\"thumb_area\">\\n<div\\nclass=\"thumb_box _NM_NEWSSTAND_THUMB _NM_NEWSSTAND_THUMB_press_valid\"\\ndata-pid=\"022\"\\n>\\n<a href=\"#\" class=\"thumb\">\\n<img\\nsrc=\"https://s.pstatic.net/static/newsstand/2020/logo/light/0604/022.png\"\\nheight=\"20\"\\nalt=\"\\xec\\x84\\xb8\\xea\\xb3\\x84\\xec\\x9d\\xbc\\xeb\\xb3\\xb4\"\\nclass=\"news_logo\"\\n/>\\n<span class=\"thumb_dim\"></span\\n></a>\\n<div class=\"popup_wrap\">\\n<a\\nhref=\"#\"\\nrole=\"button\"\\nclass=\"btn_popup _NM_NEWSSTAND_THUMB_subscribe_press\"\\ndata-pid=\"022\"\\ndata-clk=\"sub\"\\n>\\xea\\xb5\\xac\\xeb\\x8f\\x85</a\\n>\\n<a\\nhref=\"#\"\\nrole=\"button\"\\nclass=\"btn_popup _NM_NEWSSTAND_THUMB_unsubscribe_press\"\\ndata-pid=\"022\"\\ndata-clk=\"unsub\"\\n>\\xed\\x95\\xb4\\xec\\xa7\\x80</a\\n>\\n<a\\nhref=\"http://newsstand.naver.com/?list=&pcode=022\"\\ntarget=\"_blank\"\\nclass=\"btn_popup\"\\ndata-clk=\"logo\"\\ndata-pid=\"022\"\\n>\\xea\\xb8\\xb0\\xec\\x82\\xac\\xeb\\xb3\\xb4\\xea\\xb8\\xb0</a\\n>\\n</div>\\n</div>\\n<div\\nclass=\"thumb_box _NM_NEWSSTAND_THUMB _NM_NEWSSTAND_THUMB_press_valid\"\\ndata-pid=\"018\"\\n>\\n<a href=\"#\" class=\"thumb\">\\n<img\\nsrc=\"https://s.pstatic.net/static/newsstand/2020/logo/light/0604/018.png\"\\nheight=\"20\"\\nalt=\"\\xec\\x9d\\xb4\\xeb\\x8d\\xb0\\xec\\x9d\\xbc\\xeb\\xa6\\xac\"\\nclass=\"news_logo\"\\n/>\\n<span class=\"thumb_dim\"></span\\n></a>\\n<div class=\"popup_wrap\">\\n<a\\nhref=\"#\"\\nrole=\"button\"\\nclass=\"btn_popup _NM_NEWSSTAND_THUMB_subscribe_press\"\\ndata-pid=\"018\"\\ndata-clk=\"sub\"\\n>\\xea\\xb5\\xac\\xeb\\x8f\\x85</a\\n>\\n<a\\nhref=\"#\"\\nrole=\"button\"\\nclass=\"btn_popup _NM_NEWSSTAND_THUMB_unsubscribe_press\"\\ndata-pid=\"018\"\\ndata-clk=\"unsub\"\\n>\\xed\\x95\\xb4\\xec\\xa7\\x80</a\\n>\\n<a\\nhref=\"http://newsstand.naver.com/?list=&pcode=018\"\\ntarget=\"_blank\"\\nclass=\"btn_popup\"\\ndata-clk=\"logo\"\\ndata-pid=\"018\"\\n>\\xea\\xb8\\xb0\\xec\\x82\\xac\\xeb\\xb3\\xb4\\xea\\xb8\\xb0</a\\n>\\n</div>\\n</div>\\n<div\\nclass=\"thumb_box _NM_NEWSSTAND_THUMB _NM_NEWSSTAND_THUMB_press_valid\"\\ndata-pid=\"016\"\\n>\\n<a href=\"#\" class=\"thumb\">\\n<img\\nsrc=\"https://s.pstatic.net/static/newsstand/2020/logo/light/0604/016.png\"\\nheight=\"20\"\\nalt=\"\\xed\\x97\\xa4\\xeb\\x9f\\xb4\\xeb\\x93\\x9c\\xea\\xb2\\xbd\\xec\\xa0\\x9c\"\\nclass=\"news_logo\"\\n/>\\n<span class=\"thumb_dim\"></span\\n></a>\\n<div class=\"popup_wrap\">\\n<a\\nhref=\"#\"\\nrole=\"button\"\\nclass=\"btn_popup _NM_NEWSSTAND_THUMB_subscribe_press\"\\ndata-pid=\"016\"\\ndata-clk=\"sub\"\\n>\\xea\\xb5\\xac\\xeb\\x8f\\x85</a\\n>\\n<a\\nhref=\"#\"\\nrole=\"button\"\\nclass=\"btn_popup _NM_NEWSSTAND_THUMB_unsubscribe_press\"\\ndata-pid=\"016\"\\ndata-clk=\"unsub\"\\n>\\xed\\x95\\xb4\\xec\\xa7\\x80</a\\n>\\n<a\\nhref=\"http://newsstand.naver.com/?list=&pcode=016\"\\ntarget=\"_blank\"\\nclass=\"btn_popup\"\\ndata-clk=\"logo\"\\ndata-pid=\"016\"\\n>\\xea\\xb8\\xb0\\xec\\x82\\xac\\xeb\\xb3\\xb4\\xea\\xb8\\xb0</a\\n>\\n</div>\\n</div>\\n<div\\nclass=\"thumb_box _NM_NEWSSTAND_THUMB _NM_NEWSSTAND_THUMB_press_valid\"\\ndata-pid=\"055\"\\n>\\n<a href=\"#\" class=\"thumb\">\\n<img\\nsrc=\"https://s.pstatic.net/static/newsstand/2020/logo/light/0604/055.png\"\\nheight=\"20\"\\nalt=\"SBS\"\\nclass=\"news_logo\"\\n/>\\n<span class=\"thumb_dim\"></span\\n></a>\\n<div class=\"popup_wrap\">\\n<a\\nhref=\"#\"\\nrole=\"button\"\\nclass=\"btn_popup _NM_NEWSSTAND_THUMB_subscribe_press\"\\ndata-pid=\"055\"\\ndata-clk=\"sub\"\\n>\\xea\\xb5\\xac\\xeb\\x8f\\x85</a\\n>\\n<a\\nhref=\"#\"\\nrole=\"button\"\\nclass=\"btn_popup _NM_NEWSSTAND_THUMB_unsubscribe_press\"\\ndata-pid=\"055\"\\ndata-clk=\"unsub\"\\n>\\xed\\x95\\xb4\\xec\\xa7\\x80</a\\n>\\n<a\\nhref=\"http://newsstand.naver.com/?list=&pcode=055\"\\ntarget=\"_blank\"\\nclass=\"btn_popup\"\\ndata-clk=\"logo\"\\ndata-pid=\"055\"\\n>\\xea\\xb8\\xb0\\xec\\x82\\xac\\xeb\\xb3\\xb4\\xea\\xb8\\xb0</a\\n>\\n</div>\\n</div>\\n<div\\nclass=\"thumb_box _NM_NEWSSTAND_THUMB _NM_NEWSSTAND_THUMB_press_valid\"\\ndata-pid=\"308\"\\n>\\n<a href=\"#\" class=\"thumb\">\\n<img\\nsrc=\"https://s.pstatic.net/static/newsstand/2020/logo/light/0604/308.png\"\\nheight=\"20\"\\nalt=\"\\xec\\x8b\\x9c\\xec\\x82\\xac\\xec\\x9d\\xb8\"\\nclass=\"news_logo\"\\n/>\\n<span class=\"thumb_dim\"></span\\n></a>\\n<div class=\"popup_wrap\">\\n<a\\nhref=\"#\"\\nrole=\"button\"\\nclass=\"btn_popup _NM_NEWSSTAND_THUMB_subscribe_press\"\\ndata-pid=\"308\"\\ndata-clk=\"sub\"\\n>\\xea\\xb5\\xac\\xeb\\x8f\\x85</a\\n>\\n<a\\nhref=\"#\"\\nrole=\"button\"\\nclass=\"btn_popup _NM_NEWSSTAND_THUMB_unsubscribe_press\"\\ndata-pid=\"308\"\\ndata-clk=\"unsub\"\\n>\\xed\\x95\\xb4\\xec\\xa7\\x80</a\\n>\\n<a\\nhref=\"http://newsstand.naver.com/?list=&pcode=308\"\\ntarget=\"_blank\"\\nclass=\"btn_popup\"\\ndata-clk=\"logo\"\\ndata-pid=\"308\"\\n>\\xea\\xb8\\xb0\\xec\\x82\\xac\\xeb\\xb3\\xb4\\xea\\xb8\\xb0</a\\n>\\n</div>\\n</div>\\n<div\\nclass=\"thumb_box _NM_NEWSSTAND_THUMB _NM_NEWSSTAND_THUMB_press_valid\"\\ndata-pid=\"330\"\\n>\\n<a href=\"#\" class=\"thumb\">\\n<img\\nsrc=\"https://s.pstatic.net/static/newsstand/2020/logo/light/0604/330.png\"\\nheight=\"20\"\\nalt=\"\\xec\\xa4\\x91\\xec\\x95\\x99\\xeb\\x8d\\xb0\\xec\\x9d\\xbc\\xeb\\xa6\\xac\"\\nclass=\"news_logo\"\\n/>\\n<span class=\"thumb_dim\"></span\\n></a>\\n<div class=\"popup_wrap\">\\n<a\\nhref=\"#\"\\nrole=\"button\"\\nclass=\"btn_popup _NM_NEWSSTAND_THUMB_subscribe_press\"\\ndata-pid=\"330\"\\ndata-clk=\"sub\"\\n>\\xea\\xb5\\xac\\xeb\\x8f\\x85</a\\n>\\n<a\\nhref=\"#\"\\nrole=\"button\"\\nclass=\"btn_popup _NM_NEWSSTAND_THUMB_unsubscribe_press\"\\ndata-pid=\"330\"\\ndata-clk=\"unsub\"\\n>\\xed\\x95\\xb4\\xec\\xa7\\x80</a\\n>\\n<a\\nhref=\"http://newsstand.naver.com/?list=&pcode=330\"\\ntarget=\"_blank\"\\nclass=\"btn_popup\"\\ndata-clk=\"logo\"\\ndata-pid=\"330\"\\n>\\xea\\xb8\\xb0\\xec\\x82\\xac\\xeb\\xb3\\xb4\\xea\\xb8\\xb0</a\\n>\\n</div>\\n</div>\\n<div\\nclass=\"thumb_box _NM_NEWSSTAND_THUMB _NM_NEWSSTAND_THUMB_press_valid\"\\ndata-pid=\"008\"\\n>\\n<a href=\"#\" class=\"thumb\">\\n<img\\nsrc=\"https://s.pstatic.net/static/newsstand/2020/logo/light/0604/008.png\"\\nheight=\"20\"\\nalt=\"\\xeb\\xa8\\xb8\\xeb\\x8b\\x88\\xed\\x88\\xac\\xeb\\x8d\\xb0\\xec\\x9d\\xb4\"\\nclass=\"news_logo\"\\n/>\\n<span class=\"thumb_dim\"></span\\n></a>\\n<div class=\"popup_wrap\">\\n<a\\nhref=\"#\"\\nrole=\"button\"\\nclass=\"btn_popup _NM_NEWSSTAND_THUMB_subscribe_press\"\\ndata-pid=\"008\"\\ndata-clk=\"sub\"\\n>\\xea\\xb5\\xac\\xeb\\x8f\\x85</a\\n>\\n<a\\nhref=\"#\"\\nrole=\"button\"\\nclass=\"btn_popup _NM_NEWSSTAND_THUMB_unsubscribe_press\"\\ndata-pid=\"008\"\\ndata-clk=\"unsub\"\\n>\\xed\\x95\\xb4\\xec\\xa7\\x80</a\\n>\\n<a\\nhref=\"http://newsstand.naver.com/?list=&pcode=008\"\\ntarget=\"_blank\"\\nclass=\"btn_popup\"\\ndata-clk=\"logo\"\\ndata-pid=\"008\"\\n>\\xea\\xb8\\xb0\\xec\\x82\\xac\\xeb\\xb3\\xb4\\xea\\xb8\\xb0</a\\n>\\n</div>\\n</div>\\n<div\\nclass=\"thumb_box _NM_NEWSSTAND_THUMB _NM_NEWSSTAND_THUMB_press_valid\"\\ndata-pid=\"030\"\\n>\\n<a href=\"#\" class=\"thumb\">\\n<img\\nsrc=\"https://s.pstatic.net/static/newsstand/2020/logo/light/0604/030.png\"\\nheight=\"20\"\\nalt=\"\\xec\\xa0\\x84\\xec\\x9e\\x90\\xec\\x8b\\xa0\\xeb\\xac\\xb8\"\\nclass=\"news_logo\"\\n/>\\n<span class=\"thumb_dim\"></span\\n></a>\\n<div class=\"popup_wrap\">\\n<a\\nhref=\"#\"\\nrole=\"button\"\\nclass=\"btn_popup _NM_NEWSSTAND_THUMB_subscribe_press\"\\ndata-pid=\"030\"\\ndata-clk=\"sub\"\\n>\\xea\\xb5\\xac\\xeb\\x8f\\x85</a\\n>\\n<a\\nhref=\"#\"\\nrole=\"button\"\\nclass=\"btn_popup _NM_NEWSSTAND_THUMB_unsubscribe_press\"\\ndata-pid=\"030\"\\ndata-clk=\"unsub\"\\n>\\xed\\x95\\xb4\\xec\\xa7\\x80</a\\n>\\n<a\\nhref=\"http://newsstand.naver.com/?list=&pcode=030\"\\ntarget=\"_blank\"\\nclass=\"btn_popup\"\\ndata-clk=\"logo\"\\ndata-pid=\"030\"\\n>\\xea\\xb8\\xb0\\xec\\x82\\xac\\xeb\\xb3\\xb4\\xea\\xb8\\xb0</a\\n>\\n</div>\\n</div>\\n<div\\nclass=\"thumb_box _NM_NEWSSTAND_THUMB _NM_NEWSSTAND_THUMB_press_valid\"\\ndata-pid=\"028\"\\n>\\n<a href=\"#\" class=\"thumb\">\\n<img\\nsrc=\"https://s.pstatic.net/static/newsstand/2020/logo/light/0604/028.png\"\\nheight=\"20\"\\nalt=\"\\xed\\x95\\x9c\\xea\\xb2\\xa8\\xeb\\xa0\\x88\"\\nclass=\"news_logo\"\\n/>\\n<span class=\"thumb_dim\"></span\\n></a>\\n<div class=\"popup_wrap\">\\n<a\\nhref=\"#\"\\nrole=\"button\"\\nclass=\"btn_popup _NM_NEWSSTAND_THUMB_subscribe_press\"\\ndata-pid=\"028\"\\ndata-clk=\"sub\"\\n>\\xea\\xb5\\xac\\xeb\\x8f\\x85</a\\n>\\n<a\\nhref=\"#\"\\nrole=\"button\"\\nclass=\"btn_popup _NM_NEWSSTAND_THUMB_unsubscribe_press\"\\ndata-pid=\"028\"\\ndata-clk=\"unsub\"\\n>\\xed\\x95\\xb4\\xec\\xa7\\x80</a\\n>\\n<a\\nhref=\"http://newsstand.naver.com/?list=&pcode=028\"\\ntarget=\"_blank\"\\nclass=\"btn_popup\"\\ndata-clk=\"logo\"\\ndata-pid=\"028\"\\n>\\xea\\xb8\\xb0\\xec\\x82\\xac\\xeb\\xb3\\xb4\\xea\\xb8\\xb0</a\\n>\\n</div>\\n</div>\\n<div\\nclass=\"thumb_box _NM_NEWSSTAND_THUMB _NM_NEWSSTAND_THUMB_press_valid\"\\ndata-pid=\"930\"\\n>\\n<a href=\"#\" class=\"thumb\">\\n<img\\nsrc=\"https://s.pstatic.net/static/newsstand/2020/logo/light/0604/930.png\"\\nheight=\"20\"\\nalt=\"\\xeb\\x89\\xb4\\xec\\x8a\\xa4\\xed\\x83\\x80\\xed\\x8c\\x8c\"\\nclass=\"news_logo\"\\n/>\\n<span class=\"thumb_dim\"></span\\n></a>\\n<div class=\"popup_wrap\">\\n<a\\nhref=\"#\"\\nrole=\"button\"\\nclass=\"btn_popup _NM_NEWSSTAND_THUMB_subscribe_press\"\\ndata-pid=\"930\"\\ndata-clk=\"sub\"\\n>\\xea\\xb5\\xac\\xeb\\x8f\\x85</a\\n>\\n<a\\nhref=\"#\"\\nrole=\"button\"\\nclass=\"btn_popup _NM_NEWSSTAND_THUMB_unsubscribe_press\"\\ndata-pid=\"930\"\\ndata-clk=\"unsub\"\\n>\\xed\\x95\\xb4\\xec\\xa7\\x80</a\\n>\\n<a\\nhref=\"http://newsstand.naver.com/?list=&pcode=930\"\\ntarget=\"_blank\"\\nclass=\"btn_popup\"\\ndata-clk=\"logo\"\\ndata-pid=\"930\"\\n>\\xea\\xb8\\xb0\\xec\\x82\\xac\\xeb\\xb3\\xb4\\xea\\xb8\\xb0</a\\n>\\n</div>\\n</div>\\n<div\\nclass=\"thumb_box _NM_NEWSSTAND_THUMB _NM_NEWSSTAND_THUMB_press_valid\"\\ndata-pid=\"073\"\\n>\\n<a href=\"#\" class=\"thumb\">\\n<img\\nsrc=\"https://s.pstatic.net/static/newsstand/up/2020/0708/nsd94830278.png\"\\nheight=\"20\"\\nalt=\"\\xec\\x8a\\xa4\\xed\\x8f\\xac\\xec\\xb8\\xa0\\xec\\x84\\x9c\\xec\\x9a\\xb8\"\\nclass=\"news_logo\"\\n/>\\n<span class=\"thumb_dim\"></span\\n></a>\\n<div class=\"popup_wrap\">\\n<a\\nhref=\"#\"\\nrole=\"button\"\\nclass=\"btn_popup _NM_NEWSSTAND_THUMB_subscribe_press\"\\ndata-pid=\"073\"\\ndata-clk=\"sub\"\\n>\\xea\\xb5\\xac\\xeb\\x8f\\x85</a\\n>\\n<a\\nhref=\"#\"\\nrole=\"button\"\\nclass=\"btn_popup _NM_NEWSSTAND_THUMB_unsubscribe_press\"\\ndata-pid=\"073\"\\ndata-clk=\"unsub\"\\n>\\xed\\x95\\xb4\\xec\\xa7\\x80</a\\n>\\n<a\\nhref=\"http://newsstand.naver.com/?list=&pcode=073\"\\ntarget=\"_blank\"\\nclass=\"btn_popup\"\\ndata-clk=\"logo\"\\ndata-pid=\"073\"\\n>\\xea\\xb8\\xb0\\xec\\x82\\xac\\xeb\\xb3\\xb4\\xea\\xb8\\xb0</a\\n>\\n</div>\\n</div>\\n<div\\nclass=\"thumb_box _NM_NEWSSTAND_THUMB _NM_NEWSSTAND_THUMB_press_valid\"\\ndata-pid=\"023\"\\n>\\n<a href=\"#\" class=\"thumb\">\\n<img\\nsrc=\"https://s.pstatic.net/static/newsstand/up/2020/0903/nsd185255316.png\"\\nheight=\"20\"\\nalt=\"\\xec\\xa1\\xb0\\xec\\x84\\xa0\\xec\\x9d\\xbc\\xeb\\xb3\\xb4\"\\nclass=\"news_logo\"\\n/>\\n<span class=\"thumb_dim\"></span\\n></a>\\n<div class=\"popup_wrap\">\\n<a\\nhref=\"#\"\\nrole=\"button\"\\nclass=\"btn_popup _NM_NEWSSTAND_THUMB_subscribe_press\"\\ndata-pid=\"023\"\\ndata-clk=\"sub\"\\n>\\xea\\xb5\\xac\\xeb\\x8f\\x85</a\\n>\\n<a\\nhref=\"#\"\\nrole=\"button\"\\nclass=\"btn_popup _NM_NEWSSTAND_THUMB_unsubscribe_press\"\\ndata-pid=\"023\"\\ndata-clk=\"unsub\"\\n>\\xed\\x95\\xb4\\xec\\xa7\\x80</a\\n>\\n<a\\nhref=\"http://newsstand.naver.com/?list=&pcode=023\"\\ntarget=\"_blank\"\\nclass=\"btn_popup\"\\ndata-clk=\"logo\"\\ndata-pid=\"023\"\\n>\\xea\\xb8\\xb0\\xec\\x82\\xac\\xeb\\xb3\\xb4\\xea\\xb8\\xb0</a\\n>\\n</div>\\n</div>\\n<div\\nclass=\"thumb_box _NM_NEWSSTAND_THUMB _NM_NEWSSTAND_THUMB_press_valid\"\\ndata-pid=\"015\"\\n>\\n<a href=\"#\" class=\"thumb\">\\n<img\\nsrc=\"https://s.pstatic.net/static/newsstand/2020/logo/light/0604/015.png\"\\nheight=\"20\"\\nalt=\"\\xed\\x95\\x9c\\xea\\xb5\\xad\\xea\\xb2\\xbd\\xec\\xa0\\x9c\"\\nclass=\"news_logo\"\\n/>\\n<span class=\"thumb_dim\"></span\\n></a>\\n<div class=\"popup_wrap\">\\n<a\\nhref=\"#\"\\nrole=\"button\"\\nclass=\"btn_popup _NM_NEWSSTAND_THUMB_subscribe_press\"\\ndata-pid=\"015\"\\ndata-clk=\"sub\"\\n>\\xea\\xb5\\xac\\xeb\\x8f\\x85</a\\n>\\n<a\\nhref=\"#\"\\nrole=\"button\"\\nclass=\"btn_popup _NM_NEWSSTAND_THUMB_unsubscribe_press\"\\ndata-pid=\"015\"\\ndata-clk=\"unsub\"\\n>\\xed\\x95\\xb4\\xec\\xa7\\x80</a\\n>\\n<a\\nhref=\"http://newsstand.naver.com/?list=&pcode=015\"\\ntarget=\"_blank\"\\nclass=\"btn_popup\"\\ndata-clk=\"logo\"\\ndata-pid=\"015\"\\n>\\xea\\xb8\\xb0\\xec\\x82\\xac\\xeb\\xb3\\xb4\\xea\\xb8\\xb0</a\\n>\\n</div>\\n</div>\\n<div\\nclass=\"thumb_box _NM_NEWSSTAND_THUMB _NM_NEWSSTAND_THUMB_press_valid\"\\ndata-pid=\"056\"\\n>\\n<a href=\"#\" class=\"thumb\">\\n<img\\nsrc=\"https://s.pstatic.net/static/newsstand/2020/logo/light/0604/056.png\"\\nheight=\"20\"\\nalt=\"KBS\"\\nclass=\"news_logo\"\\n/>\\n<span class=\"thumb_dim\"></span\\n></a>\\n<div class=\"popup_wrap\">\\n<a\\nhref=\"#\"\\nrole=\"button\"\\nclass=\"btn_popup _NM_NEWSSTAND_THUMB_subscribe_press\"\\ndata-pid=\"056\"\\ndata-clk=\"sub\"\\n>\\xea\\xb5\\xac\\xeb\\x8f\\x85</a\\n>\\n<a\\nhref=\"#\"\\nrole=\"button\"\\nclass=\"btn_popup _NM_NEWSSTAND_THUMB_unsubscribe_press\"\\ndata-pid=\"056\"\\ndata-clk=\"unsub\"\\n>\\xed\\x95\\xb4\\xec\\xa7\\x80</a\\n>\\n<a\\nhref=\"http://newsstand.naver.com/?list=&pcode=056\"\\ntarget=\"_blank\"\\nclass=\"btn_popup\"\\ndata-clk=\"logo\"\\ndata-pid=\"056\"\\n>\\xea\\xb8\\xb0\\xec\\x82\\xac\\xeb\\xb3\\xb4\\xea\\xb8\\xb0</a\\n>\\n</div>\\n</div>\\n<div\\nclass=\"thumb_box _NM_NEWSSTAND_THUMB _NM_NEWSSTAND_THUMB_press_valid\"\\ndata-pid=\"368\"\\n>\\n<a href=\"#\" class=\"thumb\">\\n<img\\nsrc=\"https://s.pstatic.net/static/newsstand/2020/logo/light/0604/368.png\"\\nheight=\"20\"\\nalt=\"\\xeb\\x8d\\xb0\\xec\\x9d\\xbc\\xeb\\xa6\\xac\\xec\\x95\\x88\"\\nclass=\"news_logo\"\\n/>\\n<span class=\"thumb_dim\"></span\\n></a>\\n<div class=\"popup_wrap\">\\n<a\\nhref=\"#\"\\nrole=\"button\"\\nclass=\"btn_popup _NM_NEWSSTAND_THUMB_subscribe_press\"\\ndata-pid=\"368\"\\ndata-clk=\"sub\"\\n>\\xea\\xb5\\xac\\xeb\\x8f\\x85</a\\n>\\n<a\\nhref=\"#\"\\nrole=\"button\"\\nclass=\"btn_popup _NM_NEWSSTAND_THUMB_unsubscribe_press\"\\ndata-pid=\"368\"\\ndata-clk=\"unsub\"\\n>\\xed\\x95\\xb4\\xec\\xa7\\x80</a\\n>\\n<a\\nhref=\"http://newsstand.naver.com/?list=&pcode=368\"\\ntarget=\"_blank\"\\nclass=\"btn_popup\"\\ndata-clk=\"logo\"\\ndata-pid=\"368\"\\n>\\xea\\xb8\\xb0\\xec\\x82\\xac\\xeb\\xb3\\xb4\\xea\\xb8\\xb0</a\\n>\\n</div>\\n</div>\\n<div\\nclass=\"thumb_box _NM_NEWSSTAND_THUMB _NM_NEWSSTAND_THUMB_press_valid\"\\ndata-pid=\"907\"\\n>\\n<a href=\"#\" class=\"thumb\">\\n<img\\nsrc=\"https://s.pstatic.net/static/newsstand/2020/logo/light/0604/907.png\"\\nheight=\"20\"\\nalt=\"\\xea\\xb2\\xbd\\xeb\\xb6\\x81\\xeb\\xa7\\xa4\\xec\\x9d\\xbc\\xec\\x8b\\xa0\\xeb\\xac\\xb8\"\\nclass=\"news_logo\"\\n/>\\n<span class=\"thumb_dim\"></span\\n></a>\\n<div class=\"popup_wrap\">\\n<a\\nhref=\"#\"\\nrole=\"button\"\\nclass=\"btn_popup _NM_NEWSSTAND_THUMB_subscribe_press\"\\ndata-pid=\"907\"\\ndata-clk=\"sub\"\\n>\\xea\\xb5\\xac\\xeb\\x8f\\x85</a\\n>\\n<a\\nhref=\"#\"\\nrole=\"button\"\\nclass=\"btn_popup _NM_NEWSSTAND_THUMB_unsubscribe_press\"\\ndata-pid=\"907\"\\ndata-clk=\"unsub\"\\n>\\xed\\x95\\xb4\\xec\\xa7\\x80</a\\n>\\n<a\\nhref=\"http://newsstand.naver.com/?list=&pcode=907\"\\ntarget=\"_blank\"\\nclass=\"btn_popup\"\\ndata-clk=\"logo\"\\ndata-pid=\"907\"\\n>\\xea\\xb8\\xb0\\xec\\x82\\xac\\xeb\\xb3\\xb4\\xea\\xb8\\xb0</a\\n>\\n</div>\\n</div>\\n<div\\nclass=\"thumb_box _NM_NEWSSTAND_THUMB _NM_NEWSSTAND_THUMB_press_valid\"\\ndata-pid=\"336\"\\n>\\n<a href=\"#\" class=\"thumb\">\\n<img\\nsrc=\"https://s.pstatic.net/static/newsstand/2020/logo/light/0604/336.png\"\\nheight=\"20\"\\nalt=\"\\xec\\xa0\\x84\\xeb\\xb6\\x81\\xec\\x9d\\xbc\\xeb\\xb3\\xb4\"\\nclass=\"news_logo\"\\n/>\\n<span class=\"thumb_dim\"></span\\n></a>\\n<div class=\"popup_wrap\">\\n<a\\nhref=\"#\"\\nrole=\"button\"\\nclass=\"btn_popup _NM_NEWSSTAND_THUMB_subscribe_press\"\\ndata-pid=\"336\"\\ndata-clk=\"sub\"\\n>\\xea\\xb5\\xac\\xeb\\x8f\\x85</a\\n>\\n<a\\nhref=\"#\"\\nrole=\"button\"\\nclass=\"btn_popup _NM_NEWSSTAND_THUMB_unsubscribe_press\"\\ndata-pid=\"336\"\\ndata-clk=\"unsub\"\\n>\\xed\\x95\\xb4\\xec\\xa7\\x80</a\\n>\\n<a\\nhref=\"http://newsstand.naver.com/?list=&pcode=336\"\\ntarget=\"_blank\"\\nclass=\"btn_popup\"\\ndata-clk=\"logo\"\\ndata-pid=\"336\"\\n>\\xea\\xb8\\xb0\\xec\\x82\\xac\\xeb\\xb3\\xb4\\xea\\xb8\\xb0</a\\n>\\n</div>\\n</div>\\n<div\\nclass=\"thumb_box _NM_NEWSSTAND_THUMB _NM_NEWSSTAND_THUMB_press_valid\"\\ndata-pid=\"089\"\\n>\\n<a href=\"#\" class=\"thumb\">\\n<img\\nsrc=\"https://s.pstatic.net/static/newsstand/2020/logo/light/0604/089.png\"\\nheight=\"20\"\\nalt=\"\\xeb\\x8c\\x80\\xec\\xa0\\x84\\xec\\x9d\\xbc\\xeb\\xb3\\xb4\"\\nclass=\"news_logo\"\\n/>\\n<span class=\"thumb_dim\"></span\\n></a>\\n<div class=\"popup_wrap\">\\n<a\\nhref=\"#\"\\nrole=\"button\"\\nclass=\"btn_popup _NM_NEWSSTAND_THUMB_subscribe_press\"\\ndata-pid=\"089\"\\ndata-clk=\"sub\"\\n>\\xea\\xb5\\xac\\xeb\\x8f\\x85</a\\n>\\n<a\\nhref=\"#\"\\nrole=\"button\"\\nclass=\"btn_popup _NM_NEWSSTAND_THUMB_unsubscribe_press\"\\ndata-pid=\"089\"\\ndata-clk=\"unsub\"\\n>\\xed\\x95\\xb4\\xec\\xa7\\x80</a\\n>\\n<a\\nhref=\"http://newsstand.naver.com/?list=&pcode=089\"\\ntarget=\"_blank\"\\nclass=\"btn_popup\"\\ndata-clk=\"logo\"\\ndata-pid=\"089\"\\n>\\xea\\xb8\\xb0\\xec\\x82\\xac\\xeb\\xb3\\xb4\\xea\\xb8\\xb0</a\\n>\\n</div>\\n</div>\\n<div\\nclass=\"thumb_box _NM_NEWSSTAND_THUMB _NM_NEWSSTAND_THUMB_press_valid\"\\ndata-pid=\"921\"\\n>\\n<a href=\"#\" class=\"thumb\">\\n<img\\nsrc=\"https://s.pstatic.net/static/newsstand/2020/logo/light/0604/921.png\"\\nheight=\"20\"\\nalt=\"\\xec\\x95\\x84\\xec\\xa3\\xbc\\xea\\xb2\\xbd\\xec\\xa0\\x9c\"\\nclass=\"news_logo\"\\n/>\\n<span class=\"thumb_dim\"></span\\n></a>\\n<div class=\"popup_wrap\">\\n<a\\nhref=\"#\"\\nrole=\"button\"\\nclass=\"btn_popup _NM_NEWSSTAND_THUMB_subscribe_press\"\\ndata-pid=\"921\"\\ndata-clk=\"sub\"\\n>\\xea\\xb5\\xac\\xeb\\x8f\\x85</a\\n>\\n<a\\nhref=\"#\"\\nrole=\"button\"\\nclass=\"btn_popup _NM_NEWSSTAND_THUMB_unsubscribe_press\"\\ndata-pid=\"921\"\\ndata-clk=\"unsub\"\\n>\\xed\\x95\\xb4\\xec\\xa7\\x80</a\\n>\\n<a\\nhref=\"http://newsstand.naver.com/?list=&pcode=921\"\\ntarget=\"_blank\"\\nclass=\"btn_popup\"\\ndata-clk=\"logo\"\\ndata-pid=\"921\"\\n>\\xea\\xb8\\xb0\\xec\\x82\\xac\\xeb\\xb3\\xb4\\xea\\xb8\\xb0</a\\n>\\n</div>\\n</div>\\n<div\\nclass=\"thumb_box _NM_NEWSSTAND_THUMB _NM_NEWSSTAND_THUMB_press_valid\"\\ndata-pid=\"353\"\\n>\\n<a href=\"#\" class=\"thumb\">\\n<img\\nsrc=\"https://s.pstatic.net/static/newsstand/2020/logo/light/0604/353.png\"\\nheight=\"20\"\\nalt=\"\\xec\\xa4\\x91\\xec\\x95\\x99SUNDAY\"\\nclass=\"news_logo\"\\n/>\\n<span class=\"thumb_dim\"></span\\n></a>\\n<div class=\"popup_wrap\">\\n<a\\nhref=\"#\"\\nrole=\"button\"\\nclass=\"btn_popup _NM_NEWSSTAND_THUMB_subscribe_press\"\\ndata-pid=\"353\"\\ndata-clk=\"sub\"\\n>\\xea\\xb5\\xac\\xeb\\x8f\\x85</a\\n>\\n<a\\nhref=\"#\"\\nrole=\"button\"\\nclass=\"btn_popup _NM_NEWSSTAND_THUMB_unsubscribe_press\"\\ndata-pid=\"353\"\\ndata-clk=\"unsub\"\\n>\\xed\\x95\\xb4\\xec\\xa7\\x80</a\\n>\\n<a\\nhref=\"http://newsstand.naver.com/?list=&pcode=353\"\\ntarget=\"_blank\"\\nclass=\"btn_popup\"\\ndata-clk=\"logo\"\\ndata-pid=\"353\"\\n>\\xea\\xb8\\xb0\\xec\\x82\\xac\\xeb\\xb3\\xb4\\xea\\xb8\\xb0</a\\n>\\n</div>\\n</div>\\n<div\\nclass=\"thumb_box _NM_NEWSSTAND_THUMB _NM_NEWSSTAND_THUMB_press_valid\"\\ndata-pid=\"959\"\\n>\\n<a href=\"#\" class=\"thumb\">\\n<img\\nsrc=\"https://s.pstatic.net/static/newsstand/up/2021/1221/nsd15292271.png\"\\nheight=\"20\"\\nalt=\"M\\xec\\x9d\\xb4\\xec\\xbd\\x94\\xeb\\x85\\xb8\\xeb\\xaf\\xb8\\xeb\\x89\\xb4\\xec\\x8a\\xa4\"\\nclass=\"news_logo\"\\n/>\\n<span class=\"thumb_dim\"></span\\n></a>\\n<div class=\"popup_wrap\">\\n<a\\nhref=\"#\"\\nrole=\"button\"\\nclass=\"btn_popup _NM_NEWSSTAND_THUMB_subscribe_press\"\\ndata-pid=\"959\"\\ndata-clk=\"sub\"\\n>\\xea\\xb5\\xac\\xeb\\x8f\\x85</a\\n>\\n<a\\nhref=\"#\"\\nrole=\"button\"\\nclass=\"btn_popup _NM_NEWSSTAND_THUMB_unsubscribe_press\"\\ndata-pid=\"959\"\\ndata-clk=\"unsub\"\\n>\\xed\\x95\\xb4\\xec\\xa7\\x80</a\\n>\\n<a\\nhref=\"http://newsstand.naver.com/?list=&pcode=959\"\\ntarget=\"_blank\"\\nclass=\"btn_popup\"\\ndata-clk=\"logo\"\\ndata-pid=\"959\"\\n>\\xea\\xb8\\xb0\\xec\\x82\\xac\\xeb\\xb3\\xb4\\xea\\xb8\\xb0</a\\n>\\n</div>\\n</div>\\n<div\\nclass=\"thumb_box _NM_NEWSSTAND_THUMB _NM_NEWSSTAND_THUMB_press_valid\"\\ndata-pid=\"329\"\\n>\\n<a href=\"#\" class=\"thumb\">\\n<img\\nsrc=\"https://s.pstatic.net/static/newsstand/up/2021/0728/nsd1110888.png\"\\nheight=\"20\"\\nalt=\"\\xec\\x86\\x8c\\xeb\\x85\\x84\\xed\\x95\\x9c\\xea\\xb5\\xad\\xec\\x9d\\xbc\\xeb\\xb3\\xb4\"\\nclass=\"news_logo\"\\n/>\\n<span class=\"thumb_dim\"></span\\n></a>\\n<div class=\"popup_wrap\">\\n<a\\nhref=\"#\"\\nrole=\"button\"\\nclass=\"btn_popup _NM_NEWSSTAND_THUMB_subscribe_press\"\\ndata-pid=\"329\"\\ndata-clk=\"sub\"\\n>\\xea\\xb5\\xac\\xeb\\x8f\\x85</a\\n>\\n<a\\nhref=\"#\"\\nrole=\"button\"\\nclass=\"btn_popup _NM_NEWSSTAND_THUMB_unsubscribe_press\"\\ndata-pid=\"329\"\\ndata-clk=\"unsub\"\\n>\\xed\\x95\\xb4\\xec\\xa7\\x80</a\\n>\\n<a\\nhref=\"http://newsstand.naver.com/?list=&pcode=329\"\\ntarget=\"_blank\"\\nclass=\"btn_popup\"\\ndata-clk=\"logo\"\\ndata-pid=\"329\"\\n>\\xea\\xb8\\xb0\\xec\\x82\\xac\\xeb\\xb3\\xb4\\xea\\xb8\\xb0</a\\n>\\n</div>\\n</div>\\n<div\\nclass=\"thumb_box _NM_NEWSSTAND_THUMB _NM_NEWSSTAND_THUMB_press_valid\"\\ndata-pid=\"960\"\\n>\\n<a href=\"#\" class=\"thumb\">\\n<img\\nsrc=\"https://s.pstatic.net/static/newsstand/up/2022/1115/nsd153942530.png\"\\nheight=\"20\"\\nalt=\"\\xeb\\x8c\\x80\\xed\\x95\\x9c\\xea\\xb2\\xbd\\xec\\xa0\\x9c\"\\nclass=\"news_logo\"\\n/>\\n<span class=\"thumb_dim\"></span\\n></a>\\n<div class=\"popup_wrap\">\\n<a\\nhref=\"#\"\\nrole=\"button\"\\nclass=\"btn_popup _NM_NEWSSTAND_THUMB_subscribe_press\"\\ndata-pid=\"960\"\\ndata-clk=\"sub\"\\n>\\xea\\xb5\\xac\\xeb\\x8f\\x85</a\\n>\\n<a\\nhref=\"#\"\\nrole=\"button\"\\nclass=\"btn_popup _NM_NEWSSTAND_THUMB_unsubscribe_press\"\\ndata-pid=\"960\"\\ndata-clk=\"unsub\"\\n>\\xed\\x95\\xb4\\xec\\xa7\\x80</a\\n>\\n<a\\nhref=\"http://newsstand.naver.com/?list=&pcode=960\"\\ntarget=\"_blank\"\\nclass=\"btn_popup\"\\ndata-clk=\"logo\"\\ndata-pid=\"960\"\\n>\\xea\\xb8\\xb0\\xec\\x82\\xac\\xeb\\xb3\\xb4\\xea\\xb8\\xb0</a\\n>\\n</div>\\n</div>\\n<div\\nclass=\"thumb_box _NM_NEWSSTAND_THUMB _NM_NEWSSTAND_THUMB_press_valid\"\\ndata-pid=\"356\"\\n>\\n<a href=\"#\" class=\"thumb\">\\n<img\\nsrc=\"https://s.pstatic.net/static/newsstand/2020/logo/light/0604/356.png\"\\nheight=\"20\"\\nalt=\"\\xea\\xb2\\x8c\\xec\\x9e\\x84\\xeb\\xa9\\x94\\xec\\xb9\\xb4\"\\nclass=\"news_logo\"\\n/>\\n<span class=\"thumb_dim\"></span\\n></a>\\n<div class=\"popup_wrap\">\\n<a\\nhref=\"#\"\\nrole=\"button\"\\nclass=\"btn_popup _NM_NEWSSTAND_THUMB_subscribe_press\"\\ndata-pid=\"356\"\\ndata-clk=\"sub\"\\n>\\xea\\xb5\\xac\\xeb\\x8f\\x85</a\\n>\\n<a\\nhref=\"#\"\\nrole=\"button\"\\nclass=\"btn_popup _NM_NEWSSTAND_THUMB_unsubscribe_press\"\\ndata-pid=\"356\"\\ndata-clk=\"unsub\"\\n>\\xed\\x95\\xb4\\xec\\xa7\\x80</a\\n>\\n<a\\nhref=\"http://newsstand.naver.com/?list=&pcode=356\"\\ntarget=\"_blank\"\\nclass=\"btn_popup\"\\ndata-clk=\"logo\"\\ndata-pid=\"356\"\\n>\\xea\\xb8\\xb0\\xec\\x82\\xac\\xeb\\xb3\\xb4\\xea\\xb8\\xb0</a\\n>\\n</div>\\n</div>\\n</div>\\n</div>\\n</div>\\n  </div> <div class=\"ly_popup NM_NEWSSTAND_POPUP NM_NEWSSTAND_invalid\" style=\"display:none\"> <a href=\"#\" role=\"button\" class=\"btn_close NM_NEWSSTAND_POPUP_CLOSE\"><i class=\"ico_close\"></i><span class=\"blind\">\\xeb\\x8b\\xab\\xea\\xb8\\xb0</span></a> <p class=\"popup_msg\">\\xed\\x95\\xb4\\xeb\\x8b\\xb9 \\xec\\x96\\xb8\\xeb\\xa1\\xa0\\xec\\x82\\xac \\xec\\x82\\xac\\xec\\xa0\\x95\\xec\\x9c\\xbc\\xeb\\xa1\\x9c \\xec\\xa0\\x91\\xea\\xb7\\xbc\\xec\\x9d\\xb4 \\xec\\xa0\\x9c\\xed\\x95\\x9c\\xeb\\x90\\xa9\\xeb\\x8b\\x88\\xeb\\x8b\\xa4.</p> <div class=\"popup_btn\"> <a href=\"#\" role=\"button\" class=\"btn_confirm NM_NEWSSTAND_POPUP_CLOSE\">\\xed\\x99\\x95\\xec\\x9d\\xb8</a> </div> </div> <div class=\"ly_popup NM_NEWSSTAND_POPUP NM_NEWSSTAND_undescribe_confirm\" style=\"display:none\" data-clk-sub=\"*a\"> <a href=\"#\" role=\"button\" class=\"btn_close NM_NEWSSTAND_POPUP_CLOSE\" data-clk=\"usclose\"><i class=\"ico_close\"></i><span class=\"blind\">\\xeb\\x8b\\xab\\xea\\xb8\\xb0</span></a> <p class=\"popup_msg\"><strong class=\"NM_NEWSSTAND_POPUP_PNAME\"></strong>\\xec\\x9d\\x84(\\xeb\\xa5\\xbc)<br/>\\xea\\xb5\\xac\\xeb\\x8f\\x85\\xed\\x95\\xb4\\xec\\xa7\\x80 \\xed\\x95\\x98\\xec\\x8b\\x9c\\xea\\xb2\\xa0\\xec\\x8a\\xb5\\xeb\\x8b\\x88\\xea\\xb9\\x8c?</p> <div class=\"popup_btn\"> <a href=\"#\" role=\"button\" class=\"btn_confirm NM_NEWSSTAND_POPUP_CONFIRM\" data-clk=\"usdone\">\\xed\\x99\\x95\\xec\\x9d\\xb8</a> <a href=\"#\" role=\"button\" class=\"btn_confirm NM_NEWSSTAND_POPUP_CLOSE\" data-clk=\"uscancel\">\\xec\\xb7\\xa8\\xec\\x86\\x8c</a> </div> </div> <div class=\"ly_toast NM_NEWSSTAND_TOAST\" style=\"display:none\"> <p class=\"toast_msg\">\\xea\\xb5\\xac\\xeb\\x8f\\x85\\xed\\x95\\x9c \\xec\\x96\\xb8\\xeb\\xa1\\xa0\\xec\\x82\\xac\\xec\\x97\\x90 \\xec\\xb6\\x94\\xea\\xb0\\x80\\xeb\\x90\\x98\\xec\\x97\\x88\\xec\\x8a\\xb5\\xeb\\x8b\\x88\\xeb\\x8b\\xa4.</p> </div> </div> <div id=\"NM_NEWSSTAND_MY_LIST\" class=\"group_news\" role=\"tabpanel\" style=\"display:none\" data-clk-prefix=\"nsd_myn\"> <a href=\"#\" role=\"button\" class=\"pm_btn_prev_l _NM_NEWSSTAND_LIST_prev_btn\" data-clk-custom=\"prev\"><i class=\"ico_btn\"></i><span class=\"blind\">\\xec\\x9d\\xb4\\xec\\xa0\\x84</span></a> <a href=\"#\" role=\"button\" class=\"pm_btn_next_l _NM_NEWSSTAND_LIST_next_btn\" data-clk-custom=\"next\"><i class=\"ico_btn\"></i><span class=\"blind\">\\xeb\\x8b\\xa4\\xec\\x9d\\x8c</span><span class=\"blind\">\\xeb\\x8b\\xa4\\xec\\x9d\\x8c</span></a> <div class=\"list_view\"> <div class=\"option_area\"> <div class=\"list_option_wrap\"> <ul class=\"list_option _NM_NEWSSTAND_MY_presslist\"> <!-- nvpaperlist:empty --> </ul> </div> </div> <div class=\"_NM_NEWSSTAND_ARTICLE_CONTAINER\" data-clk-sub=\"*a\">  </div> </div> <div class=\"ly_popup NM_NEWSSTAND_POPUP NM_NEWSSTAND_invalid\" style=\"display:none\"> <a href=\"#\" role=\"button\" class=\"btn_close NM_NEWSSTAND_POPUP_CLOSE\"><i class=\"ico_close\"></i><span class=\"blind\">\\xeb\\x8b\\xab\\xea\\xb8\\xb0</span></a> <p class=\"popup_msg\">\\xed\\x95\\xb4\\xeb\\x8b\\xb9 \\xec\\x96\\xb8\\xeb\\xa1\\xa0\\xec\\x82\\xac \\xec\\x82\\xac\\xec\\xa0\\x95\\xec\\x9c\\xbc\\xeb\\xa1\\x9c \\xec\\xa0\\x91\\xea\\xb7\\xbc\\xec\\x9d\\xb4 \\xec\\x9d\\xbc\\xec\\x8b\\x9c \\xec\\xa0\\x9c\\xed\\x95\\x9c\\xeb\\x90\\xa9\\xeb\\x8b\\x88\\xeb\\x8b\\xa4.</p> <div class=\"popup_btn\"> <a href=\"#\" role=\"button\" class=\"btn_confirm NM_NEWSSTAND_POPUP_CLOSE\">\\xed\\x99\\x95\\xec\\x9d\\xb8</a> </div> </div> <div class=\"ly_popup NM_NEWSSTAND_POPUP NM_NEWSSTAND_undescribe_confirm\" style=\"display:none\" data-clk-sub=\"*a\"> <a href=\"#\" role=\"button\" class=\"btn_close NM_NEWSSTAND_POPUP_CLOSE\" data-clk=\"usclose\"><i class=\"ico_close\"></i><span class=\"blind\">\\xeb\\x8b\\xab\\xea\\xb8\\xb0</span></a> <p class=\"popup_msg\"><strong class=\"NM_NEWSSTAND_POPUP_PNAME\"></strong>\\xec\\x9d\\x84(\\xeb\\xa5\\xbc)<br>\\xea\\xb5\\xac\\xeb\\x8f\\x85\\xed\\x95\\xb4\\xec\\xa7\\x80 \\xed\\x95\\x98\\xec\\x8b\\x9c\\xea\\xb2\\xa0\\xec\\x8a\\xb5\\xeb\\x8b\\x88\\xea\\xb9\\x8c?</p> <div class=\"popup_btn\"> <a href=\"#\" role=\"button\" class=\"btn_confirm NM_NEWSSTAND_POPUP_CONFIRM\" data-clk=\"usdone\">\\xed\\x99\\x95\\xec\\x9d\\xb8</a> <a href=\"#\" role=\"button\" class=\"btn_confirm NM_NEWSSTAND_POPUP_CLOSE\" data-clk=\"uscancel\">\\xec\\xb7\\xa8\\xec\\x86\\x8c</a> </div> </div> </div> <div id=\"NM_NEWSSTAND_MY_THUMB\" class=\"group_news\" role=\"tabpanel\" style=\"display:none\" data-clk-prefix=\"nsd_myn\"> <a href=\"#\" role=\"button\" class=\"pm_btn_prev_l _NM_UI_PAGE_PREV\" data-clk-custom=\"prev\"><i class=\"ico_btn\"><span class=\"blind\">\\xec\\x9d\\xb4\\xec\\xa0\\x84</span></i></a> <a href=\"#\" role=\"button\" class=\"pm_btn_next_l _NM_UI_PAGE_NEXT\" data-clk-custom=\"next\"><i class=\"ico_btn\"><span class=\"blind\">\\xeb\\x8b\\xa4\\xec\\x9d\\x8c</span></i></a> <div class=\"_NM_UI_PAGE_CONTAINER\" data-clk-sub=\"*p\"></div> <div class=\"ly_popup NM_NEWSSTAND_POPUP NM_NEWSSTAND_invalid\" style=\"display:none\"> <a href=\"#\" role=\"button\" class=\"btn_close NM_NEWSSTAND_POPUP_CLOSE\"><i class=\"ico_close\"></i><span class=\"blind\">\\xeb\\x8b\\xab\\xea\\xb8\\xb0</span></a> <p class=\"popup_msg\">\\xed\\x95\\xb4\\xeb\\x8b\\xb9 \\xec\\x96\\xb8\\xeb\\xa1\\xa0\\xec\\x82\\xac \\xec\\x82\\xac\\xec\\xa0\\x95\\xec\\x9c\\xbc\\xeb\\xa1\\x9c \\xec\\xa0\\x91\\xea\\xb7\\xbc\\xec\\x9d\\xb4 \\xec\\xa0\\x9c\\xed\\x95\\x9c\\xeb\\x90\\xa9\\xeb\\x8b\\x88\\xeb\\x8b\\xa4.</p> <div class=\"popup_btn\"> <a href=\"#\" role=\"button\" class=\"btn_confirm NM_NEWSSTAND_POPUP_CLOSE\">\\xed\\x99\\x95\\xec\\x9d\\xb8</a> </div> </div> <div class=\"ly_popup NM_NEWSSTAND_POPUP NM_NEWSSTAND_undescribe_confirm\" style=\"display:none\" data-clk-sub=\"*a\"> <a href=\"#\" role=\"button\" class=\"btn_close NM_NEWSSTAND_POPUP_CLOSE\" data-clk=\"usclose\"><i class=\"ico_close\"></i><span class=\"blind\">\\xeb\\x8b\\xab\\xea\\xb8\\xb0</span></a> <p class=\"popup_msg\"><strong class=\"NM_NEWSSTAND_POPUP_PNAME\"></strong>\\xec\\x9d\\x84(\\xeb\\xa5\\xbc)<br>\\xea\\xb5\\xac\\xeb\\x8f\\x85\\xed\\x95\\xb4\\xec\\xa7\\x80 \\xed\\x95\\x98\\xec\\x8b\\x9c\\xea\\xb2\\xa0\\xec\\x8a\\xb5\\xeb\\x8b\\x88\\xea\\xb9\\x8c?</p> <div class=\"popup_btn\"> <a href=\"#\" role=\"button\" class=\"btn_confirm NM_NEWSSTAND_POPUP_CONFIRM\" data-clk=\"usdone\">\\xed\\x99\\x95\\xec\\x9d\\xb8</a> <a href=\"#\" role=\"button\" class=\"btn_confirm NM_NEWSSTAND_POPUP_CLOSE\" data-clk=\"uscancel\">\\xec\\xb7\\xa8\\xec\\x86\\x8c</a> </div> </div> </div> <div id=\"NM_NEWSSTAND_MY_EMPTY\" class=\"group_news\" role=\"tabpanel\" style=\"display:none\"> <div class=\"error_view\"> <div class=\"error_area\"> <strong class=\"error_msg\">\\xea\\xb5\\xac\\xeb\\x8f\\x85\\xed\\x95\\x9c \\xec\\x96\\xb8\\xeb\\xa1\\xa0\\xec\\x82\\xac\\xea\\xb0\\x80 \\xec\\x97\\x86\\xec\\x8a\\xb5\\xeb\\x8b\\x88\\xeb\\x8b\\xa4.</strong> <p class=\"dsc_msg\">\\xec\\x96\\xb8\\xeb\\xa1\\xa0\\xec\\x82\\xac \\xea\\xb5\\xac\\xeb\\x8f\\x85 \\xec\\x84\\xa4\\xec\\xa0\\x95\\xec\\x97\\x90\\xec\\x84\\x9c \\xea\\xb4\\x80\\xec\\x8b\\xac\\xec\\x9e\\x88\\xeb\\x8a\\x94 \\xec\\x96\\xb8\\xeb\\xa1\\xa0\\xec\\x82\\xac\\xeb\\xa5\\xbc \\xea\\xb5\\xac\\xeb\\x8f\\x85\\xed\\x95\\x98\\xec\\x8b\\x9c\\xeb\\xa9\\xb4<br>\\xec\\x96\\xb8\\xeb\\xa1\\xa0\\xec\\x82\\xac\\xea\\xb0\\x80 \\xec\\xa7\\x81\\xec\\xa0\\x91 \\xed\\x8e\\xb8\\xec\\xa7\\x91\\xed\\x95\\x9c \\xeb\\x89\\xb4\\xec\\x8a\\xa4\\xeb\\x93\\xa4\\xec\\x9d\\x84 \\xeb\\x84\\xa4\\xec\\x9d\\xb4\\xeb\\xb2\\x84 \\xed\\x99\\x88\\xec\\x97\\x90\\xec\\x84\\x9c \\xeb\\xb0\\x94\\xeb\\xa1\\x9c \\xeb\\xb3\\xb4\\xec\\x8b\\xa4 \\xec\\x88\\x98 \\xec\\x9e\\x88\\xec\\x8a\\xb5\\xeb\\x8b\\x88\\xeb\\x8b\\xa4.</p> <a href=\"http://newsstand.naver.com/config.html\" class=\"link_redirect\" target=\"_blank\">\\xec\\x96\\xb8\\xeb\\xa1\\xa0\\xec\\x82\\xac \\xea\\xb5\\xac\\xeb\\x8f\\x85 \\xec\\x84\\xa4\\xec\\xa0\\x95\\xed\\x95\\x98\\xea\\xb8\\xb0</a> </div> </div> </div> </div> </div> <!-- EMPTY -->  <div id=\"NM_THEMECAST_CONTENTS_CONTAINER\"> <div id=\"themecast\" class=\"sc_themecast id_enter\" >\\n\\t<h2 class=\"blind\">\\xec\\xa3\\xbc\\xec\\xa0\\x9c\\xeb\\xb3\\x84 \\xec\\xba\\x90\\xec\\x8a\\xa4\\xed\\x8a\\xb8</h2>\\n\\t<div class=\"theme_head\">\\n\\t\\t<div class=\"group_title\">\\n\\t<div class=\"title_area\">\\n\\t\\t<strong class=\"title\">\\xec\\x98\\xa4\\xeb\\x8a\\x98 \\xec\\x9d\\xbd\\xec\\x9d\\x84\\xeb\\xa7\\x8c\\xed\\x95\\x9c \\xea\\xb8\\x80</strong><span class=\"dsc\">\\xec\\xa3\\xbc\\xec\\xa0\\x9c\\xeb\\xb3\\x84\\xeb\\xa1\\x9c \\xeb\\xb6\\x84\\xeb\\xa5\\x98\\xeb\\x90\\x9c \\xeb\\x8b\\xa4\\xec\\x96\\x91\\xed\\x95\\x9c \\xea\\xb8\\x80 \\xeb\\xaa\\xa8\\xec\\x9d\\x8c</span>\\n\\t</div>\\n\\t<div class=\"info_area\">\\n\\t\\t\\n\\t\\t\\t<span class=\"info\"><strong class=\"new\">684</strong> \\xea\\xb0\\x9c\\xec\\x9d\\x98 \\xea\\xb8\\x80</span>\\n\\t\\t\\n\\t\\t<a id=\"NM_THEME_EDIT_SET\" href=\"#\" role=\"button\" class=\"btn_set\" data-clk=\"tca.like\">\\xea\\xb4\\x80\\xec\\x8b\\xac\\xec\\xa3\\xbc\\xec\\xa0\\x9c \\xec\\x84\\xa4\\xec\\xa0\\x95</a>\\n\\t</div>\\n</div>\\n<div id=\"NM_THEME_CATE_GROUPS\" class=\"group_category\" data-demo-key=\"default\">\\n\\t<div class=\"main_category\">\\n\\t\\t<a href=\"#\" role=\"button\" class=\"pm_btn_prev NM_THEME_PREV\" data-clk=\"tct.prev\" style=\"display: none;\">\\n\\t\\t\\t<i class=\"ico_btn\"><span class=\"blind\">\\xec\\x9d\\xb4\\xec\\xa0\\x84</span></i>\\n\\t\\t</a>\\n\\t\\t<a href=\"#\" role=\"button\" class=\"pm_btn_next NM_THEME_NEXT\" data-clk=\"tct.next\" style=\"display: none;\">\\n\\t\\t\\t<i class=\"ico_btn\"><span class=\"blind\">\\xeb\\x8b\\xa4\\xec\\x9d\\x8c</span></i>\\n\\t\\t</a>\\n\\t\\t<div class=\"list_category_wrap\">\\n\\t\\t\\t<ul id=\"NM_THEME_CATE_LIST\" class=\"list_category\" role=\"tablist\" data-index=\"0\">\\n\\t\\t\\t\\t\\n\\t\\t\\t\\t\\t<li class=\"category_item\" role=\"presentation\">\\n\\t\\t\\t\\t\\t\\t\\n\\t\\t\\t\\t\\t\\t\\n\\t\\t\\t\\t\\t\\t<a href=\"#\" role=\"tab\" class=\"_NM_THEME_CATE tab id_enter\"\\n\\t\\t\\t\\t\\t\\t   aria-selected=\"true\"\\n\\t\\t\\t\\t\\t\\t   aria-controls=\"NM_THEME_CONTAINER\"\\n\\t\\t\\t\\t\\t\\t   data-clk=\"tct.tvc\" data-panel-code=\"ENTER\">\\xec\\x97\\x94\\xed\\x84\\xb0</a>\\n\\t\\t\\t\\t\\t</li>\\n\\t\\t\\t\\t\\n\\t\\t\\t\\t\\t<li class=\"category_item\" role=\"presentation\">\\n\\t\\t\\t\\t\\t\\t\\n\\t\\t\\t\\t\\t\\t\\n\\t\\t\\t\\t\\t\\t<a href=\"#\" role=\"tab\" class=\"_NM_THEME_CATE tab id_sports\"\\n\\t\\t\\t\\t\\t\\t   aria-selected=\"false\"\\n\\t\\t\\t\\t\\t\\t   aria-controls=\"NM_THEME_CONTAINER\"\\n\\t\\t\\t\\t\\t\\t   data-clk=\"tct.spo\" data-panel-code=\"SPORTS\">\\xec\\x8a\\xa4\\xed\\x8f\\xac\\xec\\xb8\\xa0</a>\\n\\t\\t\\t\\t\\t</li>\\n\\t\\t\\t\\t\\n\\t\\t\\t\\t\\t<li class=\"category_item\" role=\"presentation\">\\n\\t\\t\\t\\t\\t\\t\\n\\t\\t\\t\\t\\t\\t\\n\\t\\t\\t\\t\\t\\t<a href=\"#\" role=\"tab\" class=\"_NM_THEME_CATE tab id_cargame\"\\n\\t\\t\\t\\t\\t\\t   aria-selected=\"false\"\\n\\t\\t\\t\\t\\t\\t   aria-controls=\"NM_THEME_CONTAINER\"\\n\\t\\t\\t\\t\\t\\t   data-clk=\"tct.aut\" data-panel-code=\"CARGAME\">\\xec\\x9e\\x90\\xeb\\x8f\\x99\\xec\\xb0\\xa8</a>\\n\\t\\t\\t\\t\\t</li>\\n\\t\\t\\t\\t\\n\\t\\t\\t\\t\\t<li class=\"category_item\" role=\"presentation\">\\n\\t\\t\\t\\t\\t\\t\\n\\t\\t\\t\\t\\t\\t\\n\\t\\t\\t\\t\\t\\t<a href=\"#\" role=\"tab\" class=\"_NM_THEME_CATE tab id_bboom\"\\n\\t\\t\\t\\t\\t\\t   aria-selected=\"false\"\\n\\t\\t\\t\\t\\t\\t   aria-controls=\"NM_THEME_CONTAINER\"\\n\\t\\t\\t\\t\\t\\t   data-clk=\"tct.web\" data-panel-code=\"BBOOM\">\\xec\\x9b\\xb9\\xed\\x88\\xb0</a>\\n\\t\\t\\t\\t\\t</li>\\n\\t\\t\\t\\t\\n\\t\\t\\t\\t\\t<li class=\"category_item\" role=\"presentation\">\\n\\t\\t\\t\\t\\t\\t\\n\\t\\t\\t\\t\\t\\t\\n\\t\\t\\t\\t\\t\\t<a href=\"#\" role=\"tab\" class=\"_NM_THEME_CATE tab id_finance\"\\n\\t\\t\\t\\t\\t\\t   aria-selected=\"false\"\\n\\t\\t\\t\\t\\t\\t   aria-controls=\"NM_THEME_CONTAINER\"\\n\\t\\t\\t\\t\\t\\t   data-clk=\"tct.fin\" data-panel-code=\"FINANCE\">\\xea\\xb2\\xbd\\xec\\xa0\\x9c</a>\\n\\t\\t\\t\\t\\t</li>\\n\\t\\t\\t\\t\\n\\t\\t\\t\\t\\t<li class=\"category_item\" role=\"presentation\">\\n\\t\\t\\t\\t\\t\\t\\n\\t\\t\\t\\t\\t\\t\\n\\t\\t\\t\\t\\t\\t<a href=\"#\" role=\"tab\" class=\"_NM_THEME_CATE tab id_myfeed\"\\n\\t\\t\\t\\t\\t\\t   aria-selected=\"false\"\\n\\t\\t\\t\\t\\t\\t   aria-controls=\"NM_THEME_CONTAINER\"\\n\\t\\t\\t\\t\\t\\t   data-clk=\"tct.sub\" data-panel-code=\"MYFEED\">\\xec\\xb6\\x94\\xec\\xb2\\x9c<span class=\\'ico_middot\\'></span>\\xea\\xb5\\xac\\xeb\\x8f\\x85</a>\\n\\t\\t\\t\\t\\t</li>\\n\\t\\t\\t\\t\\n\\t\\t\\t\\t\\t<li class=\"category_item\" role=\"presentation\">\\n\\t\\t\\t\\t\\t\\t\\n\\t\\t\\t\\t\\t\\t\\n\\t\\t\\t\\t\\t\\t<a href=\"#\" role=\"tab\" class=\"_NM_THEME_CATE tab id_living\"\\n\\t\\t\\t\\t\\t\\t   aria-selected=\"false\"\\n\\t\\t\\t\\t\\t\\t   aria-controls=\"NM_THEME_CONTAINER\"\\n\\t\\t\\t\\t\\t\\t   data-clk=\"tct.fod\" data-panel-code=\"LIVING\">\\xeb\\xa0\\x88\\xec\\x8b\\x9c\\xed\\x94\\xbc</a>\\n\\t\\t\\t\\t\\t</li>\\n\\t\\t\\t\\t\\n\\t\\t\\t\\t\\t<li class=\"category_item\" role=\"presentation\">\\n\\t\\t\\t\\t\\t\\t\\n\\t\\t\\t\\t\\t\\t\\n\\t\\t\\t\\t\\t\\t<a href=\"#\" role=\"tab\" class=\"_NM_THEME_CATE tab id_livinghome\"\\n\\t\\t\\t\\t\\t\\t   aria-selected=\"false\"\\n\\t\\t\\t\\t\\t\\t   aria-controls=\"NM_THEME_CONTAINER\"\\n\\t\\t\\t\\t\\t\\t   data-clk=\"tct.lif\" data-panel-code=\"LIVINGHOME\">\\xeb\\xa6\\xac\\xeb\\xb9\\x99</a>\\n\\t\\t\\t\\t\\t</li>\\n\\t\\t\\t\\t\\n\\t\\t\\t\\t\\t<li class=\"category_item\" role=\"presentation\">\\n\\t\\t\\t\\t\\t\\t\\n\\t\\t\\t\\t\\t\\t\\n\\t\\t\\t\\t\\t\\t<a href=\"#\" role=\"tab\" class=\"_NM_THEME_CATE tab id_culture\"\\n\\t\\t\\t\\t\\t\\t   aria-selected=\"false\"\\n\\t\\t\\t\\t\\t\\t   aria-controls=\"NM_THEME_CONTAINER\"\\n\\t\\t\\t\\t\\t\\t   data-clk=\"tct.bok\" data-panel-code=\"CULTURE\">\\xec\\xb1\\x85\\xeb\\xb0\\xa9</a>\\n\\t\\t\\t\\t\\t</li>\\n\\t\\t\\t\\t\\n\\t\\t\\t\\t\\t<li class=\"category_item\" role=\"presentation\">\\n\\t\\t\\t\\t\\t\\t\\n\\t\\t\\t\\t\\t\\t\\n\\t\\t\\t\\t\\t\\t<a href=\"#\" role=\"tab\" class=\"_NM_THEME_CATE tab id_beauty\"\\n\\t\\t\\t\\t\\t\\t   aria-selected=\"false\"\\n\\t\\t\\t\\t\\t\\t   aria-controls=\"NM_THEME_CONTAINER\"\\n\\t\\t\\t\\t\\t\\t   data-clk=\"tct.bty\" data-panel-code=\"BEAUTY\">\\xed\\x8c\\xa8\\xec\\x85\\x98\\xeb\\xb7\\xb0\\xed\\x8b\\xb0</a>\\n\\t\\t\\t\\t\\t</li>\\n\\t\\t\\t\\t\\n\\t\\t\\t</ul>\\n\\t\\t</div>\\n\\t</div>\\n</div>\\n\\n\\t</div>\\n\\t<div id=\"NM_THEME_CONTAINER\" class=\"theme_cont\" role=\"tabpanel\" data-panel-code=\"ENTER\" data-parent-code=\"\">\\n\\t\\t<div class=\"group_topstory\" data-block-id=\"6390a72426e9d1825a1a606f\" data-block-code=\"PC-THEME-ENTER-EDIT-AREA\" data-block-type=\"BLOCKS\" data-template-code=\"PC-THEMECAST-EDIT-AREA\"\\n\\n\\t data-da=\"margin-top\"\\n\\t >\\n\\n\\t<div class=\"topstory_inner\" data-block-id=\"6390a6280a71f982482319b4\" data-block-code=\"PC-THEME-ENTER-EDIT-AREA-ITEM\" data-block-type=\"A-MATERIAL\" data-template-code=\"IMAGE1\"\\n\\n\\t >\\n\\n\\t\\n\\t\\t<div class=\"topstory_view \">\\n\\n\\t\\t\\t\\n\\t\\t\\t\\n\\t\\t\\t<a href=\"https://tv.naver.com/v/31379716\" class=\"topstory_thumb\"\\n\\t\\t\\t   data-clk=\"tcc_tvc.editbigimg1\"\\n\\t\\t\\t   target=\"_blank\">\\n\\t\\t\\t\\t<img src=\"https://s.pstatic.net/static/www/mobile/edit/20221207/cropImg_728x360_112364503262310034.jpeg\" data-src=\"https://s.pstatic.net/static/www/mobile/edit/20221207/cropImg_728x360_112364503262310034.jpeg\" alt=\"\\xed\\x8c\\xa8\\xec\\x85\\x98\\xec\\xb2\\x98\\xeb\\x9f\\xbc \\xec\\x97\\xb4\\xec\\xa0\\x95\\xec\\xa0\\x81\\xec\\x9c\\xbc\\xeb\\xa1\\x9c \\xec\\x82\\xac\\xeb\\x9e\\x91\\xed\\x95\\x98\\xeb\\x8a\\x94 \\xec\\xb2\\xad\\xec\\xb6\\x98\\xeb\\x93\\xa4\\xec\\x9d\\x98 \\xeb\\x9c\\xa8\\xea\\xb2\\x81\\xea\\xb2\\x8c \\xeb\\xb9\\x9b\\xeb\\x82\\x98\\xeb\\x8a\\x94 \\xeb\\xb0\\x80\\xeb\\xa0\\x88\\xeb\\x8b\\x88\\xec\\x96\\xbc \\xeb\\x9d\\xbc\\xec\\x9d\\xb4\\xed\\x94\\x84!\" width=\"364\" height=\"180\" onerror=\"this.outerHTML=\\'<span class=\\\\\\'pm_noimg\\\\\\'><span class=\\\\\\'noimg_text\\\\\\'>\\xec\\x9d\\xb4\\xeb\\xaf\\xb8\\xec\\xa7\\x80 \\xec\\xa4\\x80\\xeb\\xb9\\x84\\xec\\xa4\\x91</span></span>\\'\">\\n\\n\\t\\t\\t\\t\\n\\t\\t\\t\\t\\t<span class=\"thumb_bd\"></span>\\n\\t\\t\\t\\t\\n\\t\\t\\t</a>\\n\\t\\t\\t<a href=\"https://tv.naver.com/v/31379716\" class=\"topstory_info\"\\n\\t\\t\\t   data-clk=\"tcc_tvc.editbigtxt1\"\\n\\t\\t\\t   target=\"_blank\">\\n\\t\\t\\t\\t\\n\\t\\t\\t\\t\\t<em class=\"theme_category\">\\xeb\\x8d\\x94 \\xed\\x8c\\xa8\\xeb\\xb7\\xb8\\xeb\\x9f\\xac\\xec\\x8a\\xa4 | \\xec\\x8a\\xa4\\xed\\x8e\\x98\\xec\\x85\\x9c \\xec\\x8b\\xac\\xec\\xbf\\xb5 \\xec\\x98\\x88\\xea\\xb3\\xa0\\xed\\x8e\\xb8</em>\\n\\t\\t\\t\\t\\n\\n\\t\\t\\t\\t<strong class=\"title line_two \">\\xed\\x8c\\xa8\\xec\\x85\\x98\\xec\\xb2\\x98\\xeb\\x9f\\xbc \\xec\\x97\\xb4\\xec\\xa0\\x95\\xec\\xa0\\x81\\xec\\x9c\\xbc\\xeb\\xa1\\x9c \\xec\\x82\\xac\\xeb\\x9e\\x91\\xed\\x95\\x98\\xeb\\x8a\\x94 \\xec\\xb2\\xad\\xec\\xb6\\x98\\xeb\\x93\\xa4\\xec\\x9d\\x98 \\xeb\\x9c\\xa8\\xea\\xb2\\x81\\xea\\xb2\\x8c \\xeb\\xb9\\x9b\\xeb\\x82\\x98\\xeb\\x8a\\x94 \\xeb\\xb0\\x80\\xeb\\xa0\\x88\\xeb\\x8b\\x88\\xec\\x96\\xbc \\xeb\\x9d\\xbc\\xec\\x9d\\xb4\\xed\\x94\\x84!</strong>\\n\\t\\t\\t\\t\\n\\n\\t\\t\\t\\t\\n\\t\\t\\t\\t\\t<div class=\"source_area\">\\n\\t\\t\\t\\t\\t\\t<span class=\"source\"><span class=\"source_inner\">Netflix Korea</span></span>\\n\\t\\t\\t\\t\\t</div>\\n\\t\\t\\t\\t\\n\\t\\t\\t</a>\\n\\t\\t\\t\\n\\t\\t</div>\\n\\t\\n</div>\\n<div class=\"topstory_inner\" data-block-id=\"6390a6c5ab978382d3f7e30a\" data-block-code=\"PC-THEME-ENTER-EDIT-AREA-ITEM\" data-block-type=\"MATERIALS\" data-template-code=\"IMAGE3\"\\n\\n\\t >\\n\\n\\t<div class=\"list_theme_wrap type_topstory\">\\n\\t\\t<ul class=\"list_theme\">\\n\\t\\t\\t\\n\\t\\t\\t<li class=\"theme_item\">\\n\\t\\t\\t\\t\\n\\t\\t\\t\\t\\n\\t\\t\\t\\t<a href=\"https://tv.naver.com/v/31415294\" class=\"theme_thumb\" data-clk=\"tcc_tvc.editsmallimg1\" target=\"_blank\">\\n\\t\\t\\t\\t\\t<img src=\"https://s.pstatic.net/static/www/mobile/edit/20221207/cropImg_196x196_112364642944631553.png\" data-src=\"https://s.pstatic.net/static/www/mobile/edit/20221207/cropImg_196x196_112364642944631553.png\" alt=\"\\xec\\x9b\\x8c\\xec\\xbb\\xa4\\xed\\x99\\x80\\xeb\\xa6\\xad \\xed\\x8c\\x8c\\xed\\x8a\\xb8\\xec\\x9e\\xa5 &#x27;\\xec\\xa2\\x85\\xec\\xb0\\xac&#x27;\\xea\\xb3\\xbc \\xeb\\xaa\\xa8\\xed\\x83\\x9c\\xec\\x86\\x94\\xeb\\xa1\\x9c \\xec\\x8b\\xa0\\xec\\x9e\\x85\\xec\\x9d\\xb8\\xed\\x84\\xb4 &#x27;\\xec\\x8a\\xb9\\xed\\x98\\x84&#x27;\\xec\\x9d\\x98 \\xec\\x95\\x84\\xec\\x8a\\xac\\xec\\x95\\x84\\xec\\x8a\\xac\\xed\\x95\\x9c \\xec\\x82\\xac\\xeb\\x82\\xb4\\xec\\x97\\xb0\\xec\\x95\\xa0\" width=\"98\" height=\"98\" onerror=\"this.outerHTML=\\'<span class=\\\\\\'pm_noimg\\\\\\'><span class=\\\\\\'noimg_text\\\\\\'>\\xec\\x9d\\xb4\\xeb\\xaf\\xb8\\xec\\xa7\\x80 \\xec\\xa4\\x80\\xeb\\xb9\\x84\\xec\\xa4\\x91</span></span>\\'\">\\n\\n\\t\\t\\t\\t\\t\\n\\t\\t\\t\\t\\t\\t<span class=\"thumb_bd\"></span>\\n\\t\\t\\t\\t\\t\\n\\t\\t\\t\\t</a>\\n\\t\\t\\t\\t<a href=\"https://tv.naver.com/v/31415294\" class=\"theme_info\" data-clk=\"tcc_tvc.editsmalltxt1\" target=\"_blank\">\\n\\t\\t\\t\\t\\t<em class=\"theme_category\">\\xec\\x8b\\xa0\\xec\\x9e\\x85\\xec\\x82\\xac\\xec\\x9b\\x90 \\xe3\\x85\\xa3 \\xec\\xba\\x90\\xeb\\xa6\\xad\\xed\\x84\\xb0 \\xec\\x98\\x88\\xea\\xb3\\xa0\\xed\\x8e\\xb8</em>\\n\\t\\t\\t\\t\\t<strong class=\"title\">\\xec\\x9b\\x8c\\xec\\xbb\\xa4\\xed\\x99\\x80\\xeb\\xa6\\xad \\xed\\x8c\\x8c\\xed\\x8a\\xb8\\xec\\x9e\\xa5 \\'\\xec\\xa2\\x85\\xec\\xb0\\xac\\'\\xea\\xb3\\xbc \\xeb\\xaa\\xa8\\xed\\x83\\x9c\\xec\\x86\\x94\\xeb\\xa1\\x9c \\xec\\x8b\\xa0\\xec\\x9e\\x85\\xec\\x9d\\xb8\\xed\\x84\\xb4 \\'\\xec\\x8a\\xb9\\xed\\x98\\x84\\'\\xec\\x9d\\x98 \\xec\\x95\\x84\\xec\\x8a\\xac\\xec\\x95\\x84\\xec\\x8a\\xac\\xed\\x95\\x9c \\xec\\x82\\xac\\xeb\\x82\\xb4\\xec\\x97\\xb0\\xec\\x95\\xa0 </strong>\\n\\t\\t\\t\\t\\t<div class=\"source_box\">\\n\\t\\t\\t\\t\\t\\t<span class=\"source\"><span class=\"source_inner\">\\xec\\x99\\x93\\xec\\xb1\\xa0</span></span>\\n\\t\\t\\t\\t\\t</div>\\n\\t\\t\\t\\t</a>\\n\\t\\t\\t</li>\\n\\t\\t\\t\\n\\t\\t\\t<li class=\"theme_item\">\\n\\t\\t\\t\\t\\n\\t\\t\\t\\t\\n\\t\\t\\t\\t<a href=\"https://tv.naver.com/v/31415810\" class=\"theme_thumb\" data-clk=\"tcc_tvc.editsmallimg2\" target=\"_blank\">\\n\\t\\t\\t\\t\\t<img src=\"https://s.pstatic.net/static/www/mobile/edit/20221207/cropImg_196x196_112364649469532284.jpeg\" data-src=\"https://s.pstatic.net/static/www/mobile/edit/20221207/cropImg_196x196_112364649469532284.jpeg\" alt=\"\\xeb\\xa8\\xbc\\xec\\xa0\\x80 \\xec\\xb0\\xbe\\xec\\xa7\\x80 \\xeb\\xaa\\xbb\\xed\\x95\\x98\\xeb\\xa9\\xb4 \\xeb\\xb9\\xbc\\xec\\x95\\x97\\xea\\xb8\\xb4\\xeb\\x8b\\xa4. \\xeb\\x8f\\x88\\xea\\xb0\\x80\\xeb\\xb0\\xa9\\xec\\x9d\\x84 \\xec\\xb0\\xa8\\xec\\xa7\\x80\\xed\\x95\\xa0 \\xed\\x8c\\x80\\xec\\x9d\\x80?\\xf0\\x9f\\x92\\xb5\" width=\"98\" height=\"98\" onerror=\"this.outerHTML=\\'<span class=\\\\\\'pm_noimg\\\\\\'><span class=\\\\\\'noimg_text\\\\\\'>\\xec\\x9d\\xb4\\xeb\\xaf\\xb8\\xec\\xa7\\x80 \\xec\\xa4\\x80\\xeb\\xb9\\x84\\xec\\xa4\\x91</span></span>\\'\">\\n\\n\\t\\t\\t\\t\\t\\n\\t\\t\\t\\t\\t\\t<span class=\"thumb_bd\"></span>\\n\\t\\t\\t\\t\\t\\n\\t\\t\\t\\t</a>\\n\\t\\t\\t\\t<a href=\"https://tv.naver.com/v/31415810\" class=\"theme_info\" data-clk=\"tcc_tvc.editsmalltxt2\" target=\"_blank\">\\n\\t\\t\\t\\t\\t<em class=\"theme_category\">\\xeb\\xb3\\xb4\\xeb\\xac\\xbc\\xec\\xb0\\xbe\\xea\\xb8\\xb0 \\xe3\\x85\\xa3 2\\xed\\x99\\x94 \\xec\\x98\\x88\\xea\\xb3\\xa0\\xed\\x8e\\xb8</em>\\n\\t\\t\\t\\t\\t<strong class=\"title\">\\xeb\\xa8\\xbc\\xec\\xa0\\x80 \\xec\\xb0\\xbe\\xec\\xa7\\x80 \\xeb\\xaa\\xbb\\xed\\x95\\x98\\xeb\\xa9\\xb4 \\xeb\\xb9\\xbc\\xec\\x95\\x97\\xea\\xb8\\xb4\\xeb\\x8b\\xa4. \\xeb\\x8f\\x88\\xea\\xb0\\x80\\xeb\\xb0\\xa9\\xec\\x9d\\x84 \\xec\\xb0\\xa8\\xec\\xa7\\x80\\xed\\x95\\xa0 \\xed\\x8c\\x80\\xec\\x9d\\x80?\\xf0\\x9f\\x92\\xb5 </strong>\\n\\t\\t\\t\\t\\t<div class=\"source_box\">\\n\\t\\t\\t\\t\\t\\t<span class=\"source\"><span class=\"source_inner\">\\xed\\x8b\\xb0\\xeb\\xb9\\x99</span></span>\\n\\t\\t\\t\\t\\t</div>\\n\\t\\t\\t\\t</a>\\n\\t\\t\\t</li>\\n\\t\\t\\t\\n\\t\\t\\t<li class=\"theme_item\">\\n\\t\\t\\t\\t\\n\\t\\t\\t\\t\\n\\t\\t\\t\\t<a href=\"https://tv.naver.com/v/31402235\" class=\"theme_thumb\" data-clk=\"tcc_tvc.editsmallimg3\" target=\"_blank\">\\n\\t\\t\\t\\t\\t<img src=\"https://s.pstatic.net/static/www/mobile/edit/20221207/cropImg_196x196_112364684162933527.jpeg\" data-src=\"https://s.pstatic.net/static/www/mobile/edit/20221207/cropImg_196x196_112364684162933527.jpeg\" alt=\"\\xec\\xb2\\xab \\xeb\\xa6\\xac\\xec\\x96\\xbc\\xeb\\xa6\\xac\\xed\\x8b\\xb0\\xeb\\xb6\\x80\\xed\\x84\\xb0 \\xec\\x98\\x88\\xeb\\x8a\\xa5\\xea\\xb0\\x90 \\xed\\x84\\xb0\\xec\\xa7\\x84 \\xec\\x97\\x90\\xec\\x8a\\xa4\\xed\\x8c\\x8c\" width=\"98\" height=\"98\" onerror=\"this.outerHTML=\\'<span class=\\\\\\'pm_noimg\\\\\\'><span class=\\\\\\'noimg_text\\\\\\'>\\xec\\x9d\\xb4\\xeb\\xaf\\xb8\\xec\\xa7\\x80 \\xec\\xa4\\x80\\xeb\\xb9\\x84\\xec\\xa4\\x91</span></span>\\'\">\\n\\n\\t\\t\\t\\t\\t\\n\\t\\t\\t\\t\\t\\t<span class=\"thumb_bd\"></span>\\n\\t\\t\\t\\t\\t\\n\\t\\t\\t\\t</a>\\n\\t\\t\\t\\t<a href=\"https://tv.naver.com/v/31402235\" class=\"theme_info\" data-clk=\"tcc_tvc.editsmalltxt3\" target=\"_blank\">\\n\\t\\t\\t\\t\\t<em class=\"theme_category\">\\xec\\x97\\x90\\xec\\x8a\\xa4\\xed\\x8c\\x8c\\xec\\x9d\\x98 \\xec\\x8b\\xb1\\xed\\x81\\xac\\xeb\\xa1\\x9c\\xeb\\x93\\x9c \\xe3\\x85\\xa3 \\xeb\\xa9\\x94\\xec\\x9d\\xb8\\xed\\x8b\\xb0\\xec\\xa0\\x80</em>\\n\\t\\t\\t\\t\\t<strong class=\"title\">\\xec\\xb2\\xab \\xeb\\xa6\\xac\\xec\\x96\\xbc\\xeb\\xa6\\xac\\xed\\x8b\\xb0\\xeb\\xb6\\x80\\xed\\x84\\xb0 \\xec\\x98\\x88\\xeb\\x8a\\xa5\\xea\\xb0\\x90 \\xed\\x84\\xb0\\xec\\xa7\\x84 \\xec\\x97\\x90\\xec\\x8a\\xa4\\xed\\x8c\\x8c </strong>\\n\\t\\t\\t\\t\\t<div class=\"source_box\">\\n\\t\\t\\t\\t\\t\\t<span class=\"source\"><span class=\"source_inner\">\\xec\\x9b\\xa8\\xec\\x9d\\xb4\\xeb\\xb8\\x8c</span></span>\\n\\t\\t\\t\\t\\t</div>\\n\\t\\t\\t\\t</a>\\n\\t\\t\\t</li>\\n\\t\\t\\t\\n\\t\\t</ul>\\n\\t</div>\\n</div>\\n</div>\\n<div class=\"theme_link\" data-block-id=\"6143f896a10d300685314343\" data-block-code=\"\" data-block-type=\"MATERIALS\" data-template-code=\"THEME-SHORTCUT\"\\n\\n\\t >\\n\\n\\t\\n\\t\\t<a href=\"https://entertain.naver.com/home\" class=\"link_enter\" data-clk=\"tcc_tvc.short1\" target=\"_blank\">\\xec\\x97\\xb0\\xec\\x98\\x88 \\xed\\x99\\x88</a>\\n\\t\\n\\t<ul class=\"list_service\">\\n\\t\\t\\n\\t\\t\\t\\n\\t\\t\\n\\t\\t\\t\\n\\t\\t\\t\\t<li class=\"service_item\" data-gdid=\"\">\\n\\t\\t\\t\\t\\t<a href=\"https://now.naver.com/\" class=\"service\" data-clk=\"tcc_tvc.short3\" target=\"_blank\">\\xeb\\x84\\xa4\\xec\\x9d\\xb4\\xeb\\xb2\\x84 NOW.</a>\\n\\t\\t\\t\\t</li>\\n\\t\\t\\t\\n\\t\\t\\n\\t\\t\\t\\n\\t\\t\\t\\t<li class=\"service_item\" data-gdid=\"\">\\n\\t\\t\\t\\t\\t<a href=\"https://tv.naver.com/\" class=\"service\" data-clk=\"tcc_tvc.short4\" target=\"_blank\">\\xeb\\x84\\xa4\\xec\\x9d\\xb4\\xeb\\xb2\\x84 TV\\xed\\x99\\x88</a>\\n\\t\\t\\t\\t</li>\\n\\t\\t\\t\\n\\t\\t\\n\\t\\t\\t\\n\\t\\t\\t\\t<li class=\"service_item\" data-gdid=\"\">\\n\\t\\t\\t\\t\\t<a href=\"https://tv.naver.com/r\" class=\"service\" data-clk=\"tcc_tvc.short5\" target=\"_blank\">TOP100</a>\\n\\t\\t\\t\\t</li>\\n\\t\\t\\t\\n\\t\\t\\n\\t\\t\\t\\n\\t\\t\\t\\t<li class=\"service_item\" data-gdid=\"\">\\n\\t\\t\\t\\t\\t<a href=\"https://series.naver.com/broadcasting/home.nhn\" class=\"service\" data-clk=\"tcc_tvc.short6\" target=\"_blank\">\\xec\\x8b\\x9c\\xeb\\xa6\\xac\\xec\\xa6\\x88\\xec\\x98\\xa8</a>\\n\\t\\t\\t\\t</li>\\n\\t\\t\\t\\n\\t\\t\\n\\t\\t\\t\\n\\t\\t\\t\\t<li class=\"service_item\" data-gdid=\"\">\\n\\t\\t\\t\\t\\t<a href=\"https://www.vlive.tv/home/\" class=\"service\" data-clk=\"tcc_tvc.short7\" target=\"_blank\">V LIVE</a>\\n\\t\\t\\t\\t</li>\\n\\t\\t\\t\\n\\t\\t\\n\\t\\t\\t\\n\\t\\t\\t\\t<li class=\"service_item\" data-gdid=\"\">\\n\\t\\t\\t\\t\\t<a href=\"https://vibe.naver.com\" class=\"service\" data-clk=\"tcc_tvc.short8\" target=\"_blank\">VIBE</a>\\n\\t\\t\\t\\t</li>\\n\\t\\t\\t\\n\\t\\t\\n\\t</ul>\\n</div>\\n<div class=\"group_theme\" data-block-id=\"5db0bbf2d6902f284eaffba7\" data-block-code=\"PC-THEME-ENTER-RANKING-0\" data-block-type=\"MATERIALS\" data-template-code=\"3X3\"\\n\\n     data-page=\"1\"\\n     >\\n\\n\\t<div class=\"media_view_wrap type_column\">\\n\\t\\t<div class=\"media_view\">\\n\\t\\t\\t\\n\\t\\t\\t\\t\\n\\t\\t\\t\\t\\t<a href=\"https://tv.naver.com/v/29239922\" class=\"media_area\" data-da-position=\"true\" data-gdid=\"PC-THEME-ENTER-RANKING-0[materials][0]\"\\n\\t\\t\\t\\t\\t   data-clk=\"tcc_tvc.list1cont1\" target=\"_blank\">\\n\\t\\t\\t\\t\\t\\t<div class=\"media_thumb\">\\n\\t\\t\\t\\t\\t\\t\\t<img src=\"https://s.pstatic.net/dthumb.phinf/?src&#x3D;%22https%3A%2F%2Fphinf.pstatic.net%2Ftvcast%2F20220916_158%2FNxZDa_1663301384320GIwyC_PNG%2F1663301357388.png%22&amp;type&#x3D;nf464_260\"\\n\\t\\t\\t\\t\\t\\t\\t     data-src=\"https://s.pstatic.net/dthumb.phinf/?src&#x3D;%22https%3A%2F%2Fphinf.pstatic.net%2Ftvcast%2F20220916_158%2FNxZDa_1663301384320GIwyC_PNG%2F1663301357388.png%22&amp;type&#x3D;nf464_260\" alt=\"\" width=\"232\" height=\"130\"\\n\\t\\t\\t\\t\\t\\t\\t     onerror=\"this.outerHTML=\\'<span class=\\\\\\'pm_noimg\\\\\\'><span class=\\\\\\'noimg_text\\\\\\'>\\xec\\x9d\\xb4\\xeb\\xaf\\xb8\\xec\\xa7\\x80 \\xec\\xa4\\x80\\xeb\\xb9\\x84\\xec\\xa4\\x91</span></span>\\'\">\\n\\n\\t\\t\\t\\t\\t\\t\\t\\n\\t\\t\\t\\t\\t\\t\\t\\t<span class=\"thumb_dim\"></span>\\n\\t\\t\\t\\t\\t\\t\\t\\t<span class=\"thumb_bd\"></span>\\n\\t\\t\\t\\t\\t\\t\\t\\t<i class=\"pm_ico_play\"><span class=\"blind\">\\xec\\x9e\\xac\\xec\\x83\\x9d</span></i>\\n\\t\\t\\t\\t\\t\\t\\t\\t<span class=\"theme_runtime\"><span class=\"runtime_bg\">\\xec\\x9e\\xac\\xec\\x83\\x9d\\xec\\x8b\\x9c\\xea\\xb0\\x84</span><em\\n\\t\\t\\t\\t\\t\\t\\t\\t\\t\\tclass=\"time\">2:22</em></span>\\n\\t\\t\\t\\t\\t\\t\\t\\n\\t\\t\\t\\t\\t\\t</div>\\n\\t\\t\\t\\t\\t\\t<div class=\"media_info\">\\n\\t\\t\\t\\t\\t\\t\\t<div class=\"info_box\">\\n\\t\\t\\t\\t\\t\\t\\t\\t\\n\\t\\t\\t\\t\\t\\t\\t\\t\\t<em class=\"theme_category\">\\xec\\x9b\\xb9\\xec\\x98\\x88\\xeb\\x8a\\xa5</em>\\n\\t\\t\\t\\t\\t\\t\\t\\t\\n\\t\\t\\t\\t\\t\\t\\t\\t\\n\\t\\t\\t\\t\\t\\t\\t\\t<strong class=\"title \">\\xec\\xb2\\xab \\xeb\\x8d\\xb0\\xec\\x9d\\xb4\\xed\\x8a\\xb8\\xeb\\xb6\\x80\\xed\\x84\\xb0 \\xeb\\xa7\\x88\\xec\\xa7\\x80\\xeb\\xa7\\x89 \\xec\\x88\\x9c\\xea\\xb0\\x84\\xea\\xb9\\x8c\\xec\\xa7\\x80 \\xe2\\x80\\x98\\xeb\\xbd\\x80\\xeb\\xbd\\x80\\xe2\\x80\\x99\\xeb\\xa1\\x9c \\xec\\x9e\\xa5\\xec\\x8b\\x9d\\xed\\x95\\x9c \\xec\\xbb\\xa4\\xed\\x94\\x8c\\xe2\\x99\\xa5 | \\xec\\x8d\\xb8\\xed\\x95\\x91</strong>\\n\\t\\t\\t\\t\\t\\t\\t\\t<div class=\"source_wrap\">\\n\\t\\t\\t\\t\\t\\t\\t\\t\\t\\n\\t\\t\\t\\t\\t\\t\\t\\t\\t\\t<span class=\"date\">4\\xeb\\xb6\\x84 \\xec\\xa0\\x84</span>\\n\\t\\t\\t\\t\\t\\t\\t\\t\\t\\t<span class=\"source\">\\n\\t\\t\\t\\t\\t\\t\\t\\t\\t\\t\\t\\n\\t\\t\\t\\t\\t\\t\\t\\t\\t\\t<span class=\"source_inner\">\\xec\\x8d\\xb8\\xed\\x95\\x91</span>\\n\\t\\t\\t\\t\\t\\t\\t\\t\\t\\t</span>\\n\\t\\t\\t\\t\\t\\t\\t\\t\\t\\n\\t\\t\\t\\t\\t\\t\\t\\t</div>\\n\\t\\t\\t\\t\\t\\t\\t</div>\\n\\t\\t\\t\\t\\t\\t</div>\\n\\t\\t\\t\\t\\t</a>\\n\\t\\t\\t\\t\\n\\t\\t\\t\\n\\t\\t\\t\\t\\n\\t\\t\\t\\t\\t<a href=\"https://tv.naver.com/v/30897585\" class=\"media_area\" data-da-position=\"true\" data-gdid=\"PC-THEME-ENTER-RANKING-0[materials][1]\"\\n\\t\\t\\t\\t\\t   data-clk=\"tcc_tvc.list1cont2\" target=\"_blank\">\\n\\t\\t\\t\\t\\t\\t<div class=\"media_thumb\">\\n\\t\\t\\t\\t\\t\\t\\t<img src=\"https://s.pstatic.net/dthumb.phinf/?src&#x3D;%22https%3A%2F%2Fphinf.pstatic.net%2Ftvcast%2F20221119_170%2FczvFh_16688196428598qxQ6_JPEG%2F1668819457407.jpg%22&amp;type&#x3D;nf464_260\"\\n\\t\\t\\t\\t\\t\\t\\t     data-src=\"https://s.pstatic.net/dthumb.phinf/?src&#x3D;%22https%3A%2F%2Fphinf.pstatic.net%2Ftvcast%2F20221119_170%2FczvFh_16688196428598qxQ6_JPEG%2F1668819457407.jpg%22&amp;type&#x3D;nf464_260\" alt=\"\" width=\"232\" height=\"130\"\\n\\t\\t\\t\\t\\t\\t\\t     onerror=\"this.outerHTML=\\'<span class=\\\\\\'pm_noimg\\\\\\'><span class=\\\\\\'noimg_text\\\\\\'>\\xec\\x9d\\xb4\\xeb\\xaf\\xb8\\xec\\xa7\\x80 \\xec\\xa4\\x80\\xeb\\xb9\\x84\\xec\\xa4\\x91</span></span>\\'\">\\n\\n\\t\\t\\t\\t\\t\\t\\t\\n\\t\\t\\t\\t\\t\\t\\t\\t<span class=\"thumb_dim\"></span>\\n\\t\\t\\t\\t\\t\\t\\t\\t<span class=\"thumb_bd\"></span>\\n\\t\\t\\t\\t\\t\\t\\t\\t<i class=\"pm_ico_play\"><span class=\"blind\">\\xec\\x9e\\xac\\xec\\x83\\x9d</span></i>\\n\\t\\t\\t\\t\\t\\t\\t\\t<span class=\"theme_runtime\"><span class=\"runtime_bg\">\\xec\\x9e\\xac\\xec\\x83\\x9d\\xec\\x8b\\x9c\\xea\\xb0\\x84</span><em\\n\\t\\t\\t\\t\\t\\t\\t\\t\\t\\tclass=\"time\">0:40</em></span>\\n\\t\\t\\t\\t\\t\\t\\t\\n\\t\\t\\t\\t\\t\\t</div>\\n\\t\\t\\t\\t\\t\\t<div class=\"media_info\">\\n\\t\\t\\t\\t\\t\\t\\t<div class=\"info_box\">\\n\\t\\t\\t\\t\\t\\t\\t\\t\\n\\t\\t\\t\\t\\t\\t\\t\\t\\t<em class=\"theme_category\">\\xec\\x9b\\xb9\\xeb\\x93\\x9c\\xeb\\x9d\\xbc\\xeb\\xa7\\x88</em>\\n\\t\\t\\t\\t\\t\\t\\t\\t\\n\\t\\t\\t\\t\\t\\t\\t\\t\\n\\t\\t\\t\\t\\t\\t\\t\\t<strong class=\"title \">\\xed\\x99\\x94\\xec\\xa0\\x9c\\xec\\x9d\\x98 \\xeb\\x93\\x9c\\xeb\\x9d\\xbc\\xeb\\xa7\\x88 \\xe2\\x80\\x98\\xec\\x9e\\xac\\xeb\\xb2\\x8c\\xec\\xa7\\x91 \\xeb\\xa7\\x89\\xeb\\x82\\xb4\\xec\\x95\\x84\\xeb\\x93\\xa4\\' \\xea\\xb7\\xb8 \\xec\\x9b\\x90\\xec\\x9e\\x91 \\xec\\x8a\\xa4\\xed\\x86\\xa0\\xeb\\xa6\\xac</strong>\\n\\t\\t\\t\\t\\t\\t\\t\\t<div class=\"source_wrap\">\\n\\t\\t\\t\\t\\t\\t\\t\\t\\t\\n\\t\\t\\t\\t\\t\\t\\t\\t\\t\\t<span class=\"date\">4\\xeb\\xb6\\x84 \\xec\\xa0\\x84</span>\\n\\t\\t\\t\\t\\t\\t\\t\\t\\t\\t<span class=\"source\">\\n\\t\\t\\t\\t\\t\\t\\t\\t\\t\\t\\t\\n\\t\\t\\t\\t\\t\\t\\t\\t\\t\\t<span class=\"source_inner\">\\xeb\\x84\\xa4\\xec\\x9d\\xb4\\xeb\\xb2\\x84 \\xec\\x9b\\xb9\\xed\\x88\\xb0</span>\\n\\t\\t\\t\\t\\t\\t\\t\\t\\t\\t</span>\\n\\t\\t\\t\\t\\t\\t\\t\\t\\t\\n\\t\\t\\t\\t\\t\\t\\t\\t</div>\\n\\t\\t\\t\\t\\t\\t\\t</div>\\n\\t\\t\\t\\t\\t\\t</div>\\n\\t\\t\\t\\t\\t</a>\\n\\t\\t\\t\\t\\n\\t\\t\\t\\n\\t\\t\\t\\t\\n\\t\\t\\t\\t\\t<a href=\"https://tv.naver.com/v/31429957\" class=\"media_area\" data-da-position=\"true\" data-gdid=\"PC-THEME-ENTER-RANKING-0[materials][2]\"\\n\\t\\t\\t\\t\\t   data-clk=\"tcc_tvc.list1cont3\" target=\"_blank\">\\n\\t\\t\\t\\t\\t\\t<div class=\"media_thumb\">\\n\\t\\t\\t\\t\\t\\t\\t<img src=\"https://s.pstatic.net/dthumb.phinf/?src&#x3D;%22https%3A%2F%2Fs.pstatic.net%2Ftvcast.phinf%2F20221208_157%2FzoeQV_16704312916819cdC1_JPEG%2Fclip_20221208012558_157.jpg%22&amp;type&#x3D;nf464_260\"\\n\\t\\t\\t\\t\\t\\t\\t     data-src=\"https://s.pstatic.net/dthumb.phinf/?src&#x3D;%22https%3A%2F%2Fs.pstatic.net%2Ftvcast.phinf%2F20221208_157%2FzoeQV_16704312916819cdC1_JPEG%2Fclip_20221208012558_157.jpg%22&amp;type&#x3D;nf464_260\" alt=\"\" width=\"232\" height=\"130\"\\n\\t\\t\\t\\t\\t\\t\\t     onerror=\"this.outerHTML=\\'<span class=\\\\\\'pm_noimg\\\\\\'><span class=\\\\\\'noimg_text\\\\\\'>\\xec\\x9d\\xb4\\xeb\\xaf\\xb8\\xec\\xa7\\x80 \\xec\\xa4\\x80\\xeb\\xb9\\x84\\xec\\xa4\\x91</span></span>\\'\">\\n\\n\\t\\t\\t\\t\\t\\t\\t\\n\\t\\t\\t\\t\\t\\t\\t\\t<span class=\"thumb_dim\"></span>\\n\\t\\t\\t\\t\\t\\t\\t\\t<span class=\"thumb_bd\"></span>\\n\\t\\t\\t\\t\\t\\t\\t\\t<i class=\"pm_ico_play\"><span class=\"blind\">\\xec\\x9e\\xac\\xec\\x83\\x9d</span></i>\\n\\t\\t\\t\\t\\t\\t\\t\\t<span class=\"theme_runtime\"><span class=\"runtime_bg\">\\xec\\x9e\\xac\\xec\\x83\\x9d\\xec\\x8b\\x9c\\xea\\xb0\\x84</span><em\\n\\t\\t\\t\\t\\t\\t\\t\\t\\t\\tclass=\"time\">5:42</em></span>\\n\\t\\t\\t\\t\\t\\t\\t\\n\\t\\t\\t\\t\\t\\t</div>\\n\\t\\t\\t\\t\\t\\t<div class=\"media_info\">\\n\\t\\t\\t\\t\\t\\t\\t<div class=\"info_box\">\\n\\t\\t\\t\\t\\t\\t\\t\\t\\n\\t\\t\\t\\t\\t\\t\\t\\t\\t<em class=\"theme_category\">TV \\xeb\\x93\\x9c\\xeb\\x9d\\xbc\\xeb\\xa7\\x88</em>\\n\\t\\t\\t\\t\\t\\t\\t\\t\\n\\t\\t\\t\\t\\t\\t\\t\\t\\n\\t\\t\\t\\t\\t\\t\\t\\t<strong class=\"title \">[\\xeb\\x8b\\xa8\\xeb\\x8f\\x85\\xec\\x84\\xa0\\xea\\xb3\\xb5\\xea\\xb0\\x9c] \\xf0\\x9f\\x91\\xa9\\xf0\\x9f\\x8f\\xbb \\xe2\\x9d\\xa4 \\xf0\\x9f\\x92\\x8b \\xf0\\x9f\\x91\\xa8\\xf0\\x9f\\x8f\\xbb\\'\\xea\\xb8\\x88\\xed\\x98\\xbc\\xeb\\xa0\\xb9\\' \\xeb\\x82\\xb4\\xeb\\xa0\\xa4\\xec\\xa7\\x80\\xea\\xb8\\xb0 \\xed\\x95\\x98\\xeb\\xa3\\xa8 \\xec\\xa0\\x84! \\xec\\x98\\xa4\\xea\\xb0\\x90 \\xeb\\xa7\\x8c\\xec\\xa1\\xb1 \\xed\\x86\\xb5\\xec\\xbe\\x8c\\xed\\x95\\x9c \\xeb\\xb0\\x98\\xec\\xa0\\x84 \\xed\\x95\\x98\\xec\\x9d\\xb4\\xeb\\x9d\\xbc\\xec\\x9d\\xb4\\xed\\x8a\\xb8 \\xeb\\x8c\\x80\\xea\\xb3\\xb5\\xea\\xb0\\x9c!\\xe2\\x9c\\xa8 12/9 (\\xea\\xb8\\x88) \\xec\\xb2\\xab \\xeb\\xb0\\xa9\\xec\\x86\\xa1, MBC 221209 \\xeb\\xb0\\xa9\\xec\\x86\\xa1</strong>\\n\\t\\t\\t\\t\\t\\t\\t\\t<div class=\"source_wrap\">\\n\\t\\t\\t\\t\\t\\t\\t\\t\\t\\n\\t\\t\\t\\t\\t\\t\\t\\t\\t\\t<span class=\"date\">12\\xec\\x8b\\x9c\\xea\\xb0\\x84 \\xec\\xa0\\x84</span>\\n\\t\\t\\t\\t\\t\\t\\t\\t\\t\\t<span class=\"source\">\\n\\t\\t\\t\\t\\t\\t\\t\\t\\t\\t\\t\\n\\t\\t\\t\\t\\t\\t\\t\\t\\t\\t<span class=\"source_inner\">\\xea\\xb8\\x88\\xed\\x98\\xbc\\xeb\\xa0\\xb9, \\xec\\xa1\\xb0\\xec\\x84\\xa0 \\xed\\x98\\xbc\\xec\\x9d\\xb8 \\xea\\xb8\\x88\\xec\\xa7\\x80\\xeb\\xa0\\xb9</span>\\n\\t\\t\\t\\t\\t\\t\\t\\t\\t\\t</span>\\n\\t\\t\\t\\t\\t\\t\\t\\t\\t\\n\\t\\t\\t\\t\\t\\t\\t\\t</div>\\n\\t\\t\\t\\t\\t\\t\\t</div>\\n\\t\\t\\t\\t\\t\\t</div>\\n\\t\\t\\t\\t\\t</a>\\n\\t\\t\\t\\t\\n\\t\\t\\t\\n\\t\\t\\t\\t\\n\\t\\t\\t\\t\\t<a href=\"https://tv.naver.com/v/29995979\" class=\"media_area\" data-da-position=\"true\" data-gdid=\"PC-THEME-ENTER-RANKING-0[materials][3]\"\\n\\t\\t\\t\\t\\t   data-clk=\"tcc_tvc.list1cont4\" target=\"_blank\">\\n\\t\\t\\t\\t\\t\\t<div class=\"media_thumb\">\\n\\t\\t\\t\\t\\t\\t\\t<img src=\"https://s.pstatic.net/dthumb.phinf/?src&#x3D;%22https%3A%2F%2Fphinf.pstatic.net%2Ftvcast%2F20221017_264%2FwjLa0_1666006620457Hvcck_JPEG%2F393ee7df-2c61-49c7-a956-ca6b51dc7d60_B.jpg%22&amp;type&#x3D;nf464_260\"\\n\\t\\t\\t\\t\\t\\t\\t     data-src=\"https://s.pstatic.net/dthumb.phinf/?src&#x3D;%22https%3A%2F%2Fphinf.pstatic.net%2Ftvcast%2F20221017_264%2FwjLa0_1666006620457Hvcck_JPEG%2F393ee7df-2c61-49c7-a956-ca6b51dc7d60_B.jpg%22&amp;type&#x3D;nf464_260\" alt=\"\" width=\"232\" height=\"130\"\\n\\t\\t\\t\\t\\t\\t\\t     onerror=\"this.outerHTML=\\'<span class=\\\\\\'pm_noimg\\\\\\'><span class=\\\\\\'noimg_text\\\\\\'>\\xec\\x9d\\xb4\\xeb\\xaf\\xb8\\xec\\xa7\\x80 \\xec\\xa4\\x80\\xeb\\xb9\\x84\\xec\\xa4\\x91</span></span>\\'\">\\n\\n\\t\\t\\t\\t\\t\\t\\t\\n\\t\\t\\t\\t\\t\\t\\t\\t<span class=\"thumb_dim\"></span>\\n\\t\\t\\t\\t\\t\\t\\t\\t<span class=\"thumb_bd\"></span>\\n\\t\\t\\t\\t\\t\\t\\t\\t<i class=\"pm_ico_play\"><span class=\"blind\">\\xec\\x9e\\xac\\xec\\x83\\x9d</span></i>\\n\\t\\t\\t\\t\\t\\t\\t\\t<span class=\"theme_runtime\"><span class=\"runtime_bg\">\\xec\\x9e\\xac\\xec\\x83\\x9d\\xec\\x8b\\x9c\\xea\\xb0\\x84</span><em\\n\\t\\t\\t\\t\\t\\t\\t\\t\\t\\tclass=\"time\">3:40</em></span>\\n\\t\\t\\t\\t\\t\\t\\t\\n\\t\\t\\t\\t\\t\\t</div>\\n\\t\\t\\t\\t\\t\\t<div class=\"media_info\">\\n\\t\\t\\t\\t\\t\\t\\t<div class=\"info_box\">\\n\\t\\t\\t\\t\\t\\t\\t\\t\\n\\t\\t\\t\\t\\t\\t\\t\\t\\t<em class=\"theme_category\">\\xec\\x9b\\xb9\\xec\\x98\\x88\\xeb\\x8a\\xa5</em>\\n\\t\\t\\t\\t\\t\\t\\t\\t\\n\\t\\t\\t\\t\\t\\t\\t\\t\\n\\t\\t\\t\\t\\t\\t\\t\\t<strong class=\"title \">[\\xec\\xb5\\x9c\\xec\\xb4\\x88\\xea\\xb3\\xb5\\xea\\xb0\\x9c] LE SSERAFIM(\\xeb\\xa5\\xb4\\xec\\x84\\xb8\\xeb\\x9d\\xbc\\xed\\x95\\x8c) - ANTIFRAGILE | LE SSERAFIM COMEBACKSHOW | M2 221017 \\xeb\\xb0\\xa9\\xec\\x86\\xa1</strong>\\n\\t\\t\\t\\t\\t\\t\\t\\t<div class=\"source_wrap\">\\n\\t\\t\\t\\t\\t\\t\\t\\t\\t\\n\\t\\t\\t\\t\\t\\t\\t\\t\\t\\t<span class=\"date\">4\\xeb\\xb6\\x84 \\xec\\xa0\\x84</span>\\n\\t\\t\\t\\t\\t\\t\\t\\t\\t\\t<span class=\"source\">\\n\\t\\t\\t\\t\\t\\t\\t\\t\\t\\t\\t\\n\\t\\t\\t\\t\\t\\t\\t\\t\\t\\t<span class=\"source_inner\">Mnet M2 (\\xec\\x97\\xa0\\xed\\x88\\xac)</span>\\n\\t\\t\\t\\t\\t\\t\\t\\t\\t\\t</span>\\n\\t\\t\\t\\t\\t\\t\\t\\t\\t\\n\\t\\t\\t\\t\\t\\t\\t\\t</div>\\n\\t\\t\\t\\t\\t\\t\\t</div>\\n\\t\\t\\t\\t\\t\\t</div>\\n\\t\\t\\t\\t\\t</a>\\n\\t\\t\\t\\t\\n\\t\\t\\t\\n\\t\\t\\t\\t\\n\\t\\t\\t\\t\\t<a href=\"https://tv.naver.com/v/31404839\" class=\"media_area\" data-da-position=\"true\" data-gdid=\"PC-THEME-ENTER-RANKING-0[materials][4]\"\\n\\t\\t\\t\\t\\t   data-clk=\"tcc_tvc.list1cont5\" target=\"_blank\">\\n\\t\\t\\t\\t\\t\\t<div class=\"media_thumb\">\\n\\t\\t\\t\\t\\t\\t\\t<img src=\"https://s.pstatic.net/dthumb.phinf/?src&#x3D;%22https%3A%2F%2Fs.pstatic.net%2Ftvcast.phinf%2F20221208_173%2Fdrwqd_1670462180736Bnp0C_JPEG%2F1670462178310.jpg%22&amp;type&#x3D;nf464_260\"\\n\\t\\t\\t\\t\\t\\t\\t     data-src=\"https://s.pstatic.net/dthumb.phinf/?src&#x3D;%22https%3A%2F%2Fs.pstatic.net%2Ftvcast.phinf%2F20221208_173%2Fdrwqd_1670462180736Bnp0C_JPEG%2F1670462178310.jpg%22&amp;type&#x3D;nf464_260\" alt=\"\" width=\"232\" height=\"130\"\\n\\t\\t\\t\\t\\t\\t\\t     onerror=\"this.outerHTML=\\'<span class=\\\\\\'pm_noimg\\\\\\'><span class=\\\\\\'noimg_text\\\\\\'>\\xec\\x9d\\xb4\\xeb\\xaf\\xb8\\xec\\xa7\\x80 \\xec\\xa4\\x80\\xeb\\xb9\\x84\\xec\\xa4\\x91</span></span>\\'\">\\n\\n\\t\\t\\t\\t\\t\\t\\t\\n\\t\\t\\t\\t\\t\\t\\t\\t<span class=\"thumb_dim\"></span>\\n\\t\\t\\t\\t\\t\\t\\t\\t<span class=\"thumb_bd\"></span>\\n\\t\\t\\t\\t\\t\\t\\t\\t<i class=\"pm_ico_play\"><span class=\"blind\">\\xec\\x9e\\xac\\xec\\x83\\x9d</span></i>\\n\\t\\t\\t\\t\\t\\t\\t\\t<span class=\"theme_runtime\"><span class=\"runtime_bg\">\\xec\\x9e\\xac\\xec\\x83\\x9d\\xec\\x8b\\x9c\\xea\\xb0\\x84</span><em\\n\\t\\t\\t\\t\\t\\t\\t\\t\\t\\tclass=\"time\">1:30</em></span>\\n\\t\\t\\t\\t\\t\\t\\t\\n\\t\\t\\t\\t\\t\\t</div>\\n\\t\\t\\t\\t\\t\\t<div class=\"media_info\">\\n\\t\\t\\t\\t\\t\\t\\t<div class=\"info_box\">\\n\\t\\t\\t\\t\\t\\t\\t\\t\\n\\t\\t\\t\\t\\t\\t\\t\\t\\t<em class=\"theme_category\">TV \\xeb\\x93\\x9c\\xeb\\x9d\\xbc\\xeb\\xa7\\x88</em>\\n\\t\\t\\t\\t\\t\\t\\t\\t\\n\\t\\t\\t\\t\\t\\t\\t\\t\\n\\t\\t\\t\\t\\t\\t\\t\\t<strong class=\"title \">[\\xeb\\x84\\xb7\\xed\\x94\\x8c\\xeb\\xa6\\xad\\xec\\x8a\\xa4] \\xeb\\x8d\\x94 \\xea\\xb8\\x80\\xeb\\xa1\\x9c\\xeb\\xa6\\xac I \\xed\\x8b\\xb0\\xec\\xa0\\x80 \\xec\\x98\\x88\\xea\\xb3\\xa0\\xed\\x8e\\xb8</strong>\\n\\t\\t\\t\\t\\t\\t\\t\\t<div class=\"source_wrap\">\\n\\t\\t\\t\\t\\t\\t\\t\\t\\t\\n\\t\\t\\t\\t\\t\\t\\t\\t\\t\\t<span class=\"date\">12\\xec\\x8b\\x9c\\xea\\xb0\\x84 \\xec\\xa0\\x84</span>\\n\\t\\t\\t\\t\\t\\t\\t\\t\\t\\t<span class=\"source\">\\n\\t\\t\\t\\t\\t\\t\\t\\t\\t\\t\\t\\n\\t\\t\\t\\t\\t\\t\\t\\t\\t\\t<span class=\"source_inner\">Netflix Korea</span>\\n\\t\\t\\t\\t\\t\\t\\t\\t\\t\\t</span>\\n\\t\\t\\t\\t\\t\\t\\t\\t\\t\\n\\t\\t\\t\\t\\t\\t\\t\\t</div>\\n\\t\\t\\t\\t\\t\\t\\t</div>\\n\\t\\t\\t\\t\\t\\t</div>\\n\\t\\t\\t\\t\\t</a>\\n\\t\\t\\t\\t\\n\\t\\t\\t\\n\\t\\t\\t\\t\\n\\t\\t\\t\\t\\t<a href=\"https://tv.naver.com/v/31435893\" class=\"media_area\" data-da-position=\"true\" data-gdid=\"PC-THEME-ENTER-RANKING-0[materials][5]\"\\n\\t\\t\\t\\t\\t   data-clk=\"tcc_tvc.list1cont6\" target=\"_blank\">\\n\\t\\t\\t\\t\\t\\t<div class=\"media_thumb\">\\n\\t\\t\\t\\t\\t\\t\\t<img src=\"https://s.pstatic.net/dthumb.phinf/?src&#x3D;%22https%3A%2F%2Fs.pstatic.net%2Ftvcast.phinf%2F20221208_199%2FVGsTR_16704672923205doOw_JPEG%2F20221208_105437_214_1.jpg%22&amp;type&#x3D;nf464_260\"\\n\\t\\t\\t\\t\\t\\t\\t     data-src=\"https://s.pstatic.net/dthumb.phinf/?src&#x3D;%22https%3A%2F%2Fs.pstatic.net%2Ftvcast.phinf%2F20221208_199%2FVGsTR_16704672923205doOw_JPEG%2F20221208_105437_214_1.jpg%22&amp;type&#x3D;nf464_260\" alt=\"\" width=\"232\" height=\"130\"\\n\\t\\t\\t\\t\\t\\t\\t     onerror=\"this.outerHTML=\\'<span class=\\\\\\'pm_noimg\\\\\\'><span class=\\\\\\'noimg_text\\\\\\'>\\xec\\x9d\\xb4\\xeb\\xaf\\xb8\\xec\\xa7\\x80 \\xec\\xa4\\x80\\xeb\\xb9\\x84\\xec\\xa4\\x91</span></span>\\'\">\\n\\n\\t\\t\\t\\t\\t\\t\\t\\n\\t\\t\\t\\t\\t\\t\\t\\t<span class=\"thumb_dim\"></span>\\n\\t\\t\\t\\t\\t\\t\\t\\t<span class=\"thumb_bd\"></span>\\n\\t\\t\\t\\t\\t\\t\\t\\t<i class=\"pm_ico_play\"><span class=\"blind\">\\xec\\x9e\\xac\\xec\\x83\\x9d</span></i>\\n\\t\\t\\t\\t\\t\\t\\t\\t<span class=\"theme_runtime\"><span class=\"runtime_bg\">\\xec\\x9e\\xac\\xec\\x83\\x9d\\xec\\x8b\\x9c\\xea\\xb0\\x84</span><em\\n\\t\\t\\t\\t\\t\\t\\t\\t\\t\\tclass=\"time\">25:36</em></span>\\n\\t\\t\\t\\t\\t\\t\\t\\n\\t\\t\\t\\t\\t\\t</div>\\n\\t\\t\\t\\t\\t\\t<div class=\"media_info\">\\n\\t\\t\\t\\t\\t\\t\\t<div class=\"info_box\">\\n\\t\\t\\t\\t\\t\\t\\t\\t\\n\\t\\t\\t\\t\\t\\t\\t\\t\\t<em class=\"theme_category\">TV \\xeb\\x93\\x9c\\xeb\\x9d\\xbc\\xeb\\xa7\\x88</em>\\n\\t\\t\\t\\t\\t\\t\\t\\t\\n\\t\\t\\t\\t\\t\\t\\t\\t\\n\\t\\t\\t\\t\\t\\t\\t\\t<strong class=\"title \">[7-8\\xed\\x9a\\x8c \\xed\\x95\\x98\\xec\\x9d\\xb4\\xeb\\x9d\\xbc\\xec\\x9d\\xb4\\xed\\x8a\\xb8] \\xec\\x88\\x9c\\xec\\x96\\x91 \\xec\\x8a\\xb9\\xea\\xb3\\x84 \\xec\\x8b\\xb8\\xec\\x9b\\x80 \\xec\\x8b\\x9c\\xec\\x9e\\x91\\xe2\\x99\\xa8 \\xec\\x86\\xa1\\xec\\xa4\\x91\\xea\\xb8\\xb0, \\xec\\x82\\xbc\\xeb\\x82\\xa8\\xeb\\xa7\\xa4 \\xeb\\x8f\\x84\\xec\\x9e\\xa5\\xea\\xb9\\xa8\\xea\\xb8\\xb0 \\xea\\xb0\\x80\\xeb\\xb3\\xb4\\xec\\x9e\\x90\\xea\\xb3\\xa0\\xe2\\x86\\x97 | JTBC 221204 \\xeb\\xb0\\xa9\\xec\\x86\\xa1</strong>\\n\\t\\t\\t\\t\\t\\t\\t\\t<div class=\"source_wrap\">\\n\\t\\t\\t\\t\\t\\t\\t\\t\\t\\n\\t\\t\\t\\t\\t\\t\\t\\t\\t\\t<span class=\"date\">9\\xec\\x8b\\x9c\\xea\\xb0\\x84 \\xec\\xa0\\x84</span>\\n\\t\\t\\t\\t\\t\\t\\t\\t\\t\\t<span class=\"source\">\\n\\t\\t\\t\\t\\t\\t\\t\\t\\t\\t\\t\\n\\t\\t\\t\\t\\t\\t\\t\\t\\t\\t<span class=\"source_inner\">\\xec\\x9e\\xac\\xeb\\xb2\\x8c\\xec\\xa7\\x91 \\xeb\\xa7\\x89\\xeb\\x82\\xb4\\xec\\x95\\x84\\xeb\\x93\\xa4</span>\\n\\t\\t\\t\\t\\t\\t\\t\\t\\t\\t</span>\\n\\t\\t\\t\\t\\t\\t\\t\\t\\t\\n\\t\\t\\t\\t\\t\\t\\t\\t</div>\\n\\t\\t\\t\\t\\t\\t\\t</div>\\n\\t\\t\\t\\t\\t\\t</div>\\n\\t\\t\\t\\t\\t</a>\\n\\t\\t\\t\\t\\n\\t\\t\\t\\n\\t\\t\\t\\t\\n\\t\\t\\t\\t\\t<a href=\"https://tv.naver.com/v/31428972\" class=\"media_area\" data-da-position=\"true\" data-gdid=\"PC-THEME-ENTER-RANKING-0[materials][6]\"\\n\\t\\t\\t\\t\\t   data-clk=\"tcc_tvc.list1cont7\" target=\"_blank\">\\n\\t\\t\\t\\t\\t\\t<div class=\"media_thumb\">\\n\\t\\t\\t\\t\\t\\t\\t<img src=\"https://s.pstatic.net/dthumb.phinf/?src&#x3D;%22https%3A%2F%2Fs.pstatic.net%2Ftvcast.phinf%2F20221208_185%2FZTumy_1670426790872ppxEw_JPEG%2FHls1670312161243-1280-0.jpg%22&amp;type&#x3D;nf464_260\"\\n\\t\\t\\t\\t\\t\\t\\t     data-src=\"https://s.pstatic.net/dthumb.phinf/?src&#x3D;%22https%3A%2F%2Fs.pstatic.net%2Ftvcast.phinf%2F20221208_185%2FZTumy_1670426790872ppxEw_JPEG%2FHls1670312161243-1280-0.jpg%22&amp;type&#x3D;nf464_260\" alt=\"\" width=\"232\" height=\"130\"\\n\\t\\t\\t\\t\\t\\t\\t     onerror=\"this.outerHTML=\\'<span class=\\\\\\'pm_noimg\\\\\\'><span class=\\\\\\'noimg_text\\\\\\'>\\xec\\x9d\\xb4\\xeb\\xaf\\xb8\\xec\\xa7\\x80 \\xec\\xa4\\x80\\xeb\\xb9\\x84\\xec\\xa4\\x91</span></span>\\'\">\\n\\n\\t\\t\\t\\t\\t\\t\\t\\n\\t\\t\\t\\t\\t\\t\\t\\t<span class=\"thumb_dim\"></span>\\n\\t\\t\\t\\t\\t\\t\\t\\t<span class=\"thumb_bd\"></span>\\n\\t\\t\\t\\t\\t\\t\\t\\t<i class=\"pm_ico_play\"><span class=\"blind\">\\xec\\x9e\\xac\\xec\\x83\\x9d</span></i>\\n\\t\\t\\t\\t\\t\\t\\t\\t<span class=\"theme_runtime\"><span class=\"runtime_bg\">\\xec\\x9e\\xac\\xec\\x83\\x9d\\xec\\x8b\\x9c\\xea\\xb0\\x84</span><em\\n\\t\\t\\t\\t\\t\\t\\t\\t\\t\\tclass=\"time\">11:49</em></span>\\n\\t\\t\\t\\t\\t\\t\\t\\n\\t\\t\\t\\t\\t\\t</div>\\n\\t\\t\\t\\t\\t\\t<div class=\"media_info\">\\n\\t\\t\\t\\t\\t\\t\\t<div class=\"info_box\">\\n\\t\\t\\t\\t\\t\\t\\t\\t\\n\\t\\t\\t\\t\\t\\t\\t\\t\\t<em class=\"theme_category\">TV \\xec\\x98\\x88\\xeb\\x8a\\xa5</em>\\n\\t\\t\\t\\t\\t\\t\\t\\t\\n\\t\\t\\t\\t\\t\\t\\t\\t\\n\\t\\t\\t\\t\\t\\t\\t\\t<strong class=\"title \">\\xed\\x99\\x95\\xec\\x8b\\xa0\\xec\\x9d\\x98 11\\xea\\xb8\\xb0 \\xec\\xbb\\xa4\\xed\\x94\\x8c\\xeb\\x93\\xa4! \\xea\\xb3\\xbc\\xec\\x97\\xb0 \\xec\\xb5\\x9c\\xec\\xa2\\x85 \\xec\\x84\\xa0\\xed\\x83\\x9d\\xea\\xb9\\x8c\\xec\\xa7\\x80 \\xea\\xb7\\xb8\\xeb\\x8c\\x80\\xeb\\xa1\\x9c \\xec\\x9d\\xb4\\xec\\x96\\xb4\\xec\\xa7\\x88 \\xec\\x88\\x98 \\xec\\x9e\\x88\\xec\\x9d\\x84\\xea\\xb9\\x8c?\\xe3\\x85\\xa3\\xeb\\x82\\x98\\xeb\\x8a\\x94\\xec\\x86\\x94\\xeb\\xa1\\x9c EP.74\\xe3\\x85\\xa3SBSPLUS\\xe3\\x85\\xa3\\xeb\\xa7\\xa4\\xec\\xa3\\xbc \\xec\\x88\\x98\\xec\\x9a\\x94\\xec\\x9d\\xbc \\xeb\\xb0\\xa4 10\\xec\\x8b\\x9c 30\\xeb\\xb6\\x84 \\xeb\\xb0\\xa9\\xec\\x86\\xa1</strong>\\n\\t\\t\\t\\t\\t\\t\\t\\t<div class=\"source_wrap\">\\n\\t\\t\\t\\t\\t\\t\\t\\t\\t\\n\\t\\t\\t\\t\\t\\t\\t\\t\\t\\t<span class=\"date\">20\\xec\\x8b\\x9c\\xea\\xb0\\x84 \\xec\\xa0\\x84</span>\\n\\t\\t\\t\\t\\t\\t\\t\\t\\t\\t<span class=\"source\">\\n\\t\\t\\t\\t\\t\\t\\t\\t\\t\\t\\t\\n\\t\\t\\t\\t\\t\\t\\t\\t\\t\\t<span class=\"source_inner\">\\xeb\\x82\\x98\\xeb\\x8a\\x94 SOLO</span>\\n\\t\\t\\t\\t\\t\\t\\t\\t\\t\\t</span>\\n\\t\\t\\t\\t\\t\\t\\t\\t\\t\\n\\t\\t\\t\\t\\t\\t\\t\\t</div>\\n\\t\\t\\t\\t\\t\\t\\t</div>\\n\\t\\t\\t\\t\\t\\t</div>\\n\\t\\t\\t\\t\\t</a>\\n\\t\\t\\t\\t\\n\\t\\t\\t\\n\\t\\t\\t\\t\\n\\t\\t\\t\\t\\t<a href=\"https://tv.naver.com/v/21756475\" class=\"media_area\" data-da-position=\"true\" data-gdid=\"PC-THEME-ENTER-RANKING-0[materials][7]\"\\n\\t\\t\\t\\t\\t   data-clk=\"tcc_tvc.list1cont8\" target=\"_blank\">\\n\\t\\t\\t\\t\\t\\t<div class=\"media_thumb\">\\n\\t\\t\\t\\t\\t\\t\\t<img src=\"https://s.pstatic.net/dthumb.phinf/?src&#x3D;%22https%3A%2F%2Fphinf.pstatic.net%2Ftvcast%2F20210808_213%2FLsP41_1628421531141ucQPk_PNG%2F1628421453988.png%22&amp;type&#x3D;nf464_260\"\\n\\t\\t\\t\\t\\t\\t\\t     data-src=\"https://s.pstatic.net/dthumb.phinf/?src&#x3D;%22https%3A%2F%2Fphinf.pstatic.net%2Ftvcast%2F20210808_213%2FLsP41_1628421531141ucQPk_PNG%2F1628421453988.png%22&amp;type&#x3D;nf464_260\" alt=\"\" width=\"232\" height=\"130\"\\n\\t\\t\\t\\t\\t\\t\\t     onerror=\"this.outerHTML=\\'<span class=\\\\\\'pm_noimg\\\\\\'><span class=\\\\\\'noimg_text\\\\\\'>\\xec\\x9d\\xb4\\xeb\\xaf\\xb8\\xec\\xa7\\x80 \\xec\\xa4\\x80\\xeb\\xb9\\x84\\xec\\xa4\\x91</span></span>\\'\">\\n\\n\\t\\t\\t\\t\\t\\t\\t\\n\\t\\t\\t\\t\\t\\t\\t\\t<span class=\"thumb_dim\"></span>\\n\\t\\t\\t\\t\\t\\t\\t\\t<span class=\"thumb_bd\"></span>\\n\\t\\t\\t\\t\\t\\t\\t\\t<i class=\"pm_ico_play\"><span class=\"blind\">\\xec\\x9e\\xac\\xec\\x83\\x9d</span></i>\\n\\t\\t\\t\\t\\t\\t\\t\\t<span class=\"theme_runtime\"><span class=\"runtime_bg\">\\xec\\x9e\\xac\\xec\\x83\\x9d\\xec\\x8b\\x9c\\xea\\xb0\\x84</span><em\\n\\t\\t\\t\\t\\t\\t\\t\\t\\t\\tclass=\"time\">2:16</em></span>\\n\\t\\t\\t\\t\\t\\t\\t\\n\\t\\t\\t\\t\\t\\t</div>\\n\\t\\t\\t\\t\\t\\t<div class=\"media_info\">\\n\\t\\t\\t\\t\\t\\t\\t<div class=\"info_box\">\\n\\t\\t\\t\\t\\t\\t\\t\\t\\n\\t\\t\\t\\t\\t\\t\\t\\t\\t<em class=\"theme_category\">\\xec\\x9b\\xb9\\xeb\\x93\\x9c\\xeb\\x9d\\xbc\\xeb\\xa7\\x88</em>\\n\\t\\t\\t\\t\\t\\t\\t\\t\\n\\t\\t\\t\\t\\t\\t\\t\\t\\n\\t\\t\\t\\t\\t\\t\\t\\t<strong class=\"title \">[\\xed\\x88\\xb0\\xeb\\xb0\\xa4\\xec\\xa7\\x80\\xea\\xb8\\xb0] \\xed\\x9a\\x8c\\xec\\x82\\xac \\xeb\\x8f\\x99\\xeb\\xa3\\x8c\\xec\\x99\\x80 \\xed\\x95\\x98\\xeb\\xa3\\xbb\\xeb\\xb0\\xa4\\xec\\x9d\\x84 \\xeb\\xb3\\xb4\\xeb\\x83\\x88\\xec\\x8a\\xb5\\xeb\\x8b\\x88\\xeb\\x8b\\xa4..</strong>\\n\\t\\t\\t\\t\\t\\t\\t\\t<div class=\"source_wrap\">\\n\\t\\t\\t\\t\\t\\t\\t\\t\\t\\n\\t\\t\\t\\t\\t\\t\\t\\t\\t\\t<span class=\"date\">4\\xeb\\xb6\\x84 \\xec\\xa0\\x84</span>\\n\\t\\t\\t\\t\\t\\t\\t\\t\\t\\t<span class=\"source\">\\n\\t\\t\\t\\t\\t\\t\\t\\t\\t\\t\\t\\n\\t\\t\\t\\t\\t\\t\\t\\t\\t\\t<span class=\"source_inner\">\\xeb\\x84\\xa4\\xec\\x9d\\xb4\\xeb\\xb2\\x84 \\xec\\x9b\\xb9\\xed\\x88\\xb0</span>\\n\\t\\t\\t\\t\\t\\t\\t\\t\\t\\t</span>\\n\\t\\t\\t\\t\\t\\t\\t\\t\\t\\n\\t\\t\\t\\t\\t\\t\\t\\t</div>\\n\\t\\t\\t\\t\\t\\t\\t</div>\\n\\t\\t\\t\\t\\t\\t</div>\\n\\t\\t\\t\\t\\t</a>\\n\\t\\t\\t\\t\\n\\t\\t\\t\\n\\t\\t\\t\\t\\n\\t\\t\\t\\t\\t<a href=\"https://tv.naver.com/v/27211619\" class=\"media_area\" data-da-position=\"true\" data-gdid=\"PC-THEME-ENTER-RANKING-0[materials][8]\"\\n\\t\\t\\t\\t\\t   data-clk=\"tcc_tvc.list1cont9\" target=\"_blank\">\\n\\t\\t\\t\\t\\t\\t<div class=\"media_thumb\">\\n\\t\\t\\t\\t\\t\\t\\t<img src=\"https://s.pstatic.net/dthumb.phinf/?src&#x3D;%22https%3A%2F%2Fphinf.pstatic.net%2Ftvcast%2F20220607_24%2FNffLd_1654591171726gyofG_PNG%2F1654591045811.png%22&amp;type&#x3D;nf464_260\"\\n\\t\\t\\t\\t\\t\\t\\t     data-src=\"https://s.pstatic.net/dthumb.phinf/?src&#x3D;%22https%3A%2F%2Fphinf.pstatic.net%2Ftvcast%2F20220607_24%2FNffLd_1654591171726gyofG_PNG%2F1654591045811.png%22&amp;type&#x3D;nf464_260\" alt=\"\" width=\"232\" height=\"130\"\\n\\t\\t\\t\\t\\t\\t\\t     onerror=\"this.outerHTML=\\'<span class=\\\\\\'pm_noimg\\\\\\'><span class=\\\\\\'noimg_text\\\\\\'>\\xec\\x9d\\xb4\\xeb\\xaf\\xb8\\xec\\xa7\\x80 \\xec\\xa4\\x80\\xeb\\xb9\\x84\\xec\\xa4\\x91</span></span>\\'\">\\n\\n\\t\\t\\t\\t\\t\\t\\t\\n\\t\\t\\t\\t\\t\\t\\t\\t<span class=\"thumb_dim\"></span>\\n\\t\\t\\t\\t\\t\\t\\t\\t<span class=\"thumb_bd\"></span>\\n\\t\\t\\t\\t\\t\\t\\t\\t<i class=\"pm_ico_play\"><span class=\"blind\">\\xec\\x9e\\xac\\xec\\x83\\x9d</span></i>\\n\\t\\t\\t\\t\\t\\t\\t\\t<span class=\"theme_runtime\"><span class=\"runtime_bg\">\\xec\\x9e\\xac\\xec\\x83\\x9d\\xec\\x8b\\x9c\\xea\\xb0\\x84</span><em\\n\\t\\t\\t\\t\\t\\t\\t\\t\\t\\tclass=\"time\">0:53</em></span>\\n\\t\\t\\t\\t\\t\\t\\t\\n\\t\\t\\t\\t\\t\\t</div>\\n\\t\\t\\t\\t\\t\\t<div class=\"media_info\">\\n\\t\\t\\t\\t\\t\\t\\t<div class=\"info_box\">\\n\\t\\t\\t\\t\\t\\t\\t\\t\\n\\t\\t\\t\\t\\t\\t\\t\\t\\t<em class=\"theme_category\">\\xec\\x9b\\xb9\\xeb\\x93\\x9c\\xeb\\x9d\\xbc\\xeb\\xa7\\x88</em>\\n\\t\\t\\t\\t\\t\\t\\t\\t\\n\\t\\t\\t\\t\\t\\t\\t\\t\\n\\t\\t\\t\\t\\t\\t\\t\\t<strong class=\"title \">\\xeb\\x93\\x9c\\xeb\\x9d\\xbc\\xeb\\xa7\\x88 \\'\\xec\\x9c\\xa0\\xeb\\xaf\\xb8\\xec\\x9d\\x98 \\xec\\x84\\xb8\\xed\\x8f\\xac\\xeb\\x93\\xa4 \\xec\\x8b\\x9c\\xec\\xa6\\x8c2\\' \\xed\\x8b\\xb0\\xec\\xa0\\x80 \\xec\\x98\\x88\\xea\\xb3\\xa0\\xed\\x8e\\xb8\\xf0\\x9f\\x92\\x93</strong>\\n\\t\\t\\t\\t\\t\\t\\t\\t<div class=\"source_wrap\">\\n\\t\\t\\t\\t\\t\\t\\t\\t\\t\\n\\t\\t\\t\\t\\t\\t\\t\\t\\t\\t<span class=\"date\">4\\xeb\\xb6\\x84 \\xec\\xa0\\x84</span>\\n\\t\\t\\t\\t\\t\\t\\t\\t\\t\\t<span class=\"source\">\\n\\t\\t\\t\\t\\t\\t\\t\\t\\t\\t\\t\\n\\t\\t\\t\\t\\t\\t\\t\\t\\t\\t<span class=\"source_inner\">\\xeb\\x84\\xa4\\xec\\x9d\\xb4\\xeb\\xb2\\x84 \\xec\\x9b\\xb9\\xed\\x88\\xb0</span>\\n\\t\\t\\t\\t\\t\\t\\t\\t\\t\\t</span>\\n\\t\\t\\t\\t\\t\\t\\t\\t\\t\\n\\t\\t\\t\\t\\t\\t\\t\\t</div>\\n\\t\\t\\t\\t\\t\\t\\t</div>\\n\\t\\t\\t\\t\\t\\t</div>\\n\\t\\t\\t\\t\\t</a>\\n\\t\\t\\t\\t\\n\\t\\t\\t\\n\\t\\t</div>\\n\\t</div>\\n</div>\\n\\n<div class=\"group_theme\" data-block-id=\"5e5753e0d6902f284e257c65\" data-block-code=\"PC-THEME-ENTER-MUSIC-DOMESTIC-TOP100-REALTIME\" data-block-type=\"BLOCKS\" data-template-code=\"THEME-MUSIC-DOMESTIC-TOP100-REALTIME\"\\n >\\n  <div class=\"theme_title\">\\n    <a href=\"https://vibe.naver.com/chart/domestic\" class=\"title\" target=\"_blank\"\\n      data-clk=\"tcc_tvc.mrankmore\">\\xeb\\xae\\xa4\\xec\\xa7\\x81 \\xea\\xb8\\x89\\xec\\x83\\x81\\xec\\x8a\\xb9 \\xec\\xb0\\xa8\\xed\\x8a\\xb8</a>\\n    <div class=\"right_box\">\\n      <span class=\"dsc\">\\xec\\x98\\xa4\\xed\\x9b\\x84 9\\xec\\x8b\\x9c \\xec\\x97\\x85\\xeb\\x8d\\xb0\\xec\\x9d\\xb4\\xed\\x8a\\xb8</span>\\n    </div>\\n  </div>\\n  <div class=\"chart_view_wrap type_music\">\\n    \\n    <div class=\"chart_view\">\\n      \\n      <div class=\"chart_area\">\\n        <div class=\"chart_rank\">\\n          <em class=\"rank\">1<span class=\"blind\">\\xec\\x9c\\x84</span></em>\\n          \\n          \\n        </div>\\n        <div class=\"chart_info\">\\n          <a href=\"https://vibe.naver.com/track/58855632\" target=\"_blank\" class=\"thumb_box\"\\n            data-clk=\"tcc_tvc.mrankcover1\"><img\\n              src=\"https://s.pstatic.net/dthumb.phinf/?src&#x3D;%22https%3A%2F%2Fmusicmeta-phinf.pstatic.net%2Falbum%2F008%2F409%2F8409171.jpg%3Ftype%3Dr480Fll%26v%3D20221208181505%22&amp;type&#x3D;navermain_n96_96\" alt=\"\\xea\\xb9\\xa8\\xec\\x9a\\xb0\\xec\\xa7\\x80 \\xec\\x95\\x8a\\xec\\x9d\\x84\\xea\\xb2\\x8c (Feat. pH-1)\" height=\"48\" width=\"48\" onerror=\"this.outerHTML=\\'<span class=\\\\\\'pm_noimg_s\\\\\\'><span class=\\\\\\'blind\\\\\\'>\\xec\\x9d\\xb4\\xeb\\xaf\\xb8\\xec\\xa7\\x80 \\xec\\xa4\\x80\\xeb\\xb9\\x84\\xec\\xa4\\x91</span></span>\\'\"><span\\n              class=\"thumb_bd\"></span></a>\\n          <div class=\"info_box\">\\n            <a href=\"https://vibe.naver.com/track/58855632\" target=\"_blank\" class=\"title\"\\n              data-clk=\"tcc_tvc.mranksong1\">\\xea\\xb9\\xa8\\xec\\x9a\\xb0\\xec\\xa7\\x80 \\xec\\x95\\x8a\\xec\\x9d\\x84\\xea\\xb2\\x8c (Feat. pH-1)</a>\\n            <div class=\"dsc_wrap\"><span class=\"dsc\">\\n                \\n                <a href=\"https://vibe.naver.com/artist/2952489\" target=\"_blank\"\\n                  data-clk=\"tcc_tvc.mranksinger1\">meenoi (\\xeb\\xaf\\xb8\\xeb\\x85\\xb8\\xec\\x9d\\xb4)</a>\\n                \\n              </span><span class=\"dsc\"><a href=\"https://vibe.naver.com/album/8409171\" target=\"_blank\"\\n                  data-clk=\"tcc_tvc.mrankalbum1\">NOI MAS</a></span>\\n            </div>\\n          </div>\\n        </div>\\n        <div class=\"chart_link\">\\n          <a href=\"https://vibe.naver.com/track/58855632\" target=\"_blank\" class=\"link_play\"\\n            data-clk=\"tcc_tvc.mrankplay1\"><span\\n              class=\"blind\">\\xec\\x9e\\xac\\xec\\x83\\x9d</span></a><a href=\"https://vibe.naver.com/track/58855632\" target=\"_blank\" class=\"link_lyrics\"\\n            data-clk=\"tcc_tvc.mranklyrics1\"><span\\n              class=\"blind\">\\xea\\xb0\\x80\\xec\\x82\\xac</span></a>\\n        </div>\\n      </div>\\n      \\n      <div class=\"chart_area\">\\n        <div class=\"chart_rank\">\\n          <em class=\"rank\">2<span class=\"blind\">\\xec\\x9c\\x84</span></em>\\n          \\n          <div class=\"state\"><i class=\"ico_up\"><span class=\"blind\">\\xec\\x83\\x81\\xec\\x8a\\xb9</span></i></div>\\n          \\n          \\n        </div>\\n        <div class=\"chart_info\">\\n          <a href=\"https://vibe.naver.com/track/58853644\" target=\"_blank\" class=\"thumb_box\"\\n            data-clk=\"tcc_tvc.mrankcover2\"><img\\n              src=\"https://s.pstatic.net/dthumb.phinf/?src&#x3D;%22https%3A%2F%2Fmusicmeta-phinf.pstatic.net%2Falbum%2F008%2F408%2F8408812.jpg%3Ftype%3Dr480Fll%26v%3D20221202140608%22&amp;type&#x3D;navermain_n96_96\" alt=\"WHEN I MOVE\" height=\"48\" width=\"48\" onerror=\"this.outerHTML=\\'<span class=\\\\\\'pm_noimg_s\\\\\\'><span class=\\\\\\'blind\\\\\\'>\\xec\\x9d\\xb4\\xeb\\xaf\\xb8\\xec\\xa7\\x80 \\xec\\xa4\\x80\\xeb\\xb9\\x84\\xec\\xa4\\x91</span></span>\\'\"><span\\n              class=\"thumb_bd\"></span></a>\\n          <div class=\"info_box\">\\n            <a href=\"https://vibe.naver.com/track/58853644\" target=\"_blank\" class=\"title\"\\n              data-clk=\"tcc_tvc.mranksong2\">WHEN I MOVE</a>\\n            <div class=\"dsc_wrap\"><span class=\"dsc\">\\n                \\n                <a href=\"https://vibe.naver.com/artist/17392\" target=\"_blank\"\\n                  data-clk=\"tcc_tvc.mranksinger2\">\\xec\\xb9\\xb4\\xeb\\x9d\\xbc(Kara)</a>\\n                \\n              </span><span class=\"dsc\"><a href=\"https://vibe.naver.com/album/8408812\" target=\"_blank\"\\n                  data-clk=\"tcc_tvc.mrankalbum2\">MOVE AGAIN</a></span>\\n            </div>\\n          </div>\\n        </div>\\n        <div class=\"chart_link\">\\n          <a href=\"https://vibe.naver.com/track/58853644\" target=\"_blank\" class=\"link_play\"\\n            data-clk=\"tcc_tvc.mrankplay2\"><span\\n              class=\"blind\">\\xec\\x9e\\xac\\xec\\x83\\x9d</span></a><a href=\"https://vibe.naver.com/track/58853644\" target=\"_blank\" class=\"link_lyrics\"\\n            data-clk=\"tcc_tvc.mranklyrics2\"><span\\n              class=\"blind\">\\xea\\xb0\\x80\\xec\\x82\\xac</span></a>\\n        </div>\\n      </div>\\n      \\n      <div class=\"chart_area\">\\n        <div class=\"chart_rank\">\\n          <em class=\"rank\">3<span class=\"blind\">\\xec\\x9c\\x84</span></em>\\n          \\n          \\n          <div class=\"state\"><i class=\"ico_down\"><span class=\"blind\">\\xed\\x95\\x98\\xeb\\x9d\\xbd</span></i></div>\\n          \\n        </div>\\n        <div class=\"chart_info\">\\n          <a href=\"https://vibe.naver.com/track/58888640\" target=\"_blank\" class=\"thumb_box\"\\n            data-clk=\"tcc_tvc.mrankcover3\"><img\\n              src=\"https://s.pstatic.net/dthumb.phinf/?src&#x3D;%22https%3A%2F%2Fmusicmeta-phinf.pstatic.net%2Falbum%2F008%2F416%2F8416030.jpg%3Ftype%3Dr480Fll%26v%3D20221204175913%22&amp;type&#x3D;navermain_n96_96\" alt=\"\\xec\\x9e\\x98\\xea\\xb0\\x80\\xec\\x9a\\x94\" height=\"48\" width=\"48\" onerror=\"this.outerHTML=\\'<span class=\\\\\\'pm_noimg_s\\\\\\'><span class=\\\\\\'blind\\\\\\'>\\xec\\x9d\\xb4\\xeb\\xaf\\xb8\\xec\\xa7\\x80 \\xec\\xa4\\x80\\xeb\\xb9\\x84\\xec\\xa4\\x91</span></span>\\'\"><span\\n              class=\"thumb_bd\"></span></a>\\n          <div class=\"info_box\">\\n            <a href=\"https://vibe.naver.com/track/58888640\" target=\"_blank\" class=\"title\"\\n              data-clk=\"tcc_tvc.mranksong3\">\\xec\\x9e\\x98\\xea\\xb0\\x80\\xec\\x9a\\x94</a>\\n            <div class=\"dsc_wrap\"><span class=\"dsc\">\\n                \\n                <a href=\"https://vibe.naver.com/artist/204654\" target=\"_blank\"\\n                  data-clk=\"tcc_tvc.mranksinger3\">\\xec\\xa3\\xbc\\xed\\x98\\xb8</a>\\n                \\n              </span><span class=\"dsc\"><a href=\"https://vibe.naver.com/album/8416030\" target=\"_blank\"\\n                  data-clk=\"tcc_tvc.mrankalbum3\">\\xec\\x9e\\x98\\xea\\xb0\\x80\\xec\\x9a\\x94</a></span>\\n            </div>\\n          </div>\\n        </div>\\n        <div class=\"chart_link\">\\n          <a href=\"https://vibe.naver.com/track/58888640\" target=\"_blank\" class=\"link_play\"\\n            data-clk=\"tcc_tvc.mrankplay3\"><span\\n              class=\"blind\">\\xec\\x9e\\xac\\xec\\x83\\x9d</span></a><a href=\"https://vibe.naver.com/track/58888640\" target=\"_blank\" class=\"link_lyrics\"\\n            data-clk=\"tcc_tvc.mranklyrics3\"><span\\n              class=\"blind\">\\xea\\xb0\\x80\\xec\\x82\\xac</span></a>\\n        </div>\\n      </div>\\n      \\n      <div class=\"chart_area\">\\n        <div class=\"chart_rank\">\\n          <em class=\"rank\">4<span class=\"blind\">\\xec\\x9c\\x84</span></em>\\n          \\n          \\n        </div>\\n        <div class=\"chart_info\">\\n          <a href=\"https://vibe.naver.com/track/58855633\" target=\"_blank\" class=\"thumb_box\"\\n            data-clk=\"tcc_tvc.mrankcover4\"><img\\n              src=\"https://s.pstatic.net/dthumb.phinf/?src&#x3D;%22https%3A%2F%2Fmusicmeta-phinf.pstatic.net%2Falbum%2F008%2F409%2F8409171.jpg%3Ftype%3Dr480Fll%26v%3D20221208181505%22&amp;type&#x3D;navermain_n96_96\" alt=\"No Santa\" height=\"48\" width=\"48\" onerror=\"this.outerHTML=\\'<span class=\\\\\\'pm_noimg_s\\\\\\'><span class=\\\\\\'blind\\\\\\'>\\xec\\x9d\\xb4\\xeb\\xaf\\xb8\\xec\\xa7\\x80 \\xec\\xa4\\x80\\xeb\\xb9\\x84\\xec\\xa4\\x91</span></span>\\'\"><span\\n              class=\"thumb_bd\"></span></a>\\n          <div class=\"info_box\">\\n            <a href=\"https://vibe.naver.com/track/58855633\" target=\"_blank\" class=\"title\"\\n              data-clk=\"tcc_tvc.mranksong4\">No Santa</a>\\n            <div class=\"dsc_wrap\"><span class=\"dsc\">\\n                \\n                <a href=\"https://vibe.naver.com/artist/2952489\" target=\"_blank\"\\n                  data-clk=\"tcc_tvc.mranksinger4\">meenoi (\\xeb\\xaf\\xb8\\xeb\\x85\\xb8\\xec\\x9d\\xb4)</a>\\n                \\n              </span><span class=\"dsc\"><a href=\"https://vibe.naver.com/album/8409171\" target=\"_blank\"\\n                  data-clk=\"tcc_tvc.mrankalbum4\">NOI MAS</a></span>\\n            </div>\\n          </div>\\n        </div>\\n        <div class=\"chart_link\">\\n          <a href=\"https://vibe.naver.com/track/58855633\" target=\"_blank\" class=\"link_play\"\\n            data-clk=\"tcc_tvc.mrankplay4\"><span\\n              class=\"blind\">\\xec\\x9e\\xac\\xec\\x83\\x9d</span></a><a href=\"https://vibe.naver.com/track/58855633\" target=\"_blank\" class=\"link_lyrics\"\\n            data-clk=\"tcc_tvc.mranklyrics4\"><span\\n              class=\"blind\">\\xea\\xb0\\x80\\xec\\x82\\xac</span></a>\\n        </div>\\n      </div>\\n      \\n      <div class=\"chart_area\">\\n        <div class=\"chart_rank\">\\n          <em class=\"rank\">5<span class=\"blind\">\\xec\\x9c\\x84</span></em>\\n          \\n          \\n          <div class=\"state\"><i class=\"ico_down\"><span class=\"blind\">\\xed\\x95\\x98\\xeb\\x9d\\xbd</span></i></div>\\n          \\n        </div>\\n        <div class=\"chart_info\">\\n          <a href=\"https://vibe.naver.com/track/58525218\" target=\"_blank\" class=\"thumb_box\"\\n            data-clk=\"tcc_tvc.mrankcover5\"><img\\n              src=\"https://s.pstatic.net/dthumb.phinf/?src&#x3D;%22https%3A%2F%2Fmusicmeta-phinf.pstatic.net%2Falbum%2F008%2F322%2F8322250.jpg%3Ftype%3Dr480Fll%26v%3D20221117171009%22&amp;type&#x3D;navermain_n96_96\" alt=\"\\xeb\\x84\\x88\\xeb\\x82\\x98 \\xeb\\x82\\x98\\xeb\\x82\\x98 (Feat. \\xec\\x83\\x98\\xea\\xb9\\x80 (Sam Kim))\" height=\"48\" width=\"48\" onerror=\"this.outerHTML=\\'<span class=\\\\\\'pm_noimg_s\\\\\\'><span class=\\\\\\'blind\\\\\\'>\\xec\\x9d\\xb4\\xeb\\xaf\\xb8\\xec\\xa7\\x80 \\xec\\xa4\\x80\\xeb\\xb9\\x84\\xec\\xa4\\x91</span></span>\\'\"><span\\n              class=\"thumb_bd\"></span></a>\\n          <div class=\"info_box\">\\n            <a href=\"https://vibe.naver.com/track/58525218\" target=\"_blank\" class=\"title\"\\n              data-clk=\"tcc_tvc.mranksong5\">\\xeb\\x84\\x88\\xeb\\x82\\x98 \\xeb\\x82\\x98\\xeb\\x82\\x98 (Feat. \\xec\\x83\\x98\\xea\\xb9\\x80 (Sam Kim))</a>\\n            <div class=\"dsc_wrap\"><span class=\"dsc\">\\n                \\n                <a href=\"https://vibe.naver.com/artist/329023\" target=\"_blank\"\\n                  data-clk=\"tcc_tvc.mranksinger5\">\\xec\\xa0\\x81\\xec\\x9e\\xac</a>\\n                \\n              </span><span class=\"dsc\"><a href=\"https://vibe.naver.com/album/8322250\" target=\"_blank\"\\n                  data-clk=\"tcc_tvc.mrankalbum5\">The LIGHTS</a></span>\\n            </div>\\n          </div>\\n        </div>\\n        <div class=\"chart_link\">\\n          <a href=\"https://vibe.naver.com/track/58525218\" target=\"_blank\" class=\"link_play\"\\n            data-clk=\"tcc_tvc.mrankplay5\"><span\\n              class=\"blind\">\\xec\\x9e\\xac\\xec\\x83\\x9d</span></a><a href=\"https://vibe.naver.com/track/58525218\" target=\"_blank\" class=\"link_lyrics\"\\n            data-clk=\"tcc_tvc.mranklyrics5\"><span\\n              class=\"blind\">\\xea\\xb0\\x80\\xec\\x82\\xac</span></a>\\n        </div>\\n      </div>\\n      \\n    </div>\\n    \\n    <div class=\"chart_view\">\\n      \\n      <div class=\"chart_area\">\\n        <div class=\"chart_rank\">\\n          <em class=\"rank\">6<span class=\"blind\">\\xec\\x9c\\x84</span></em>\\n          \\n          \\n        </div>\\n        <div class=\"chart_info\">\\n          <a href=\"https://vibe.naver.com/track/58817861\" target=\"_blank\" class=\"thumb_box\"\\n            data-clk=\"tcc_tvc.mrankcover6\"><img\\n              src=\"https://s.pstatic.net/dthumb.phinf/?src&#x3D;%22https%3A%2F%2Fmusicmeta-phinf.pstatic.net%2Falbum%2F008%2F399%2F8399184.jpg%3Ftype%3Dr480Fll%26v%3D20221206155756%22&amp;type&#x3D;navermain_n96_96\" alt=\"ZOOM\" height=\"48\" width=\"48\" onerror=\"this.outerHTML=\\'<span class=\\\\\\'pm_noimg_s\\\\\\'><span class=\\\\\\'blind\\\\\\'>\\xec\\x9d\\xb4\\xeb\\xaf\\xb8\\xec\\xa7\\x80 \\xec\\xa4\\x80\\xeb\\xb9\\x84\\xec\\xa4\\x91</span></span>\\'\"><span\\n              class=\"thumb_bd\"></span></a>\\n          <div class=\"info_box\">\\n            <a href=\"https://vibe.naver.com/track/58817861\" target=\"_blank\" class=\"title\"\\n              data-clk=\"tcc_tvc.mranksong6\">ZOOM</a>\\n            <div class=\"dsc_wrap\"><span class=\"dsc\">\\n                \\n                <a href=\"https://vibe.naver.com/artist/343255\" target=\"_blank\"\\n                  data-clk=\"tcc_tvc.mranksinger6\">Red Velvet (\\xeb\\xa0\\x88\\xeb\\x93\\x9c\\xeb\\xb2\\xa8\\xeb\\xb2\\xb3)</a>\\n                \\n              </span><span class=\"dsc\"><a href=\"https://vibe.naver.com/album/8399184\" target=\"_blank\"\\n                  data-clk=\"tcc_tvc.mrankalbum6\">&#x27;The ReVe Festival 2022 - Birthday&#x27;</a></span>\\n            </div>\\n          </div>\\n        </div>\\n        <div class=\"chart_link\">\\n          <a href=\"https://vibe.naver.com/track/58817861\" target=\"_blank\" class=\"link_play\"\\n            data-clk=\"tcc_tvc.mrankplay6\"><span\\n              class=\"blind\">\\xec\\x9e\\xac\\xec\\x83\\x9d</span></a><a href=\"https://vibe.naver.com/track/58817861\" target=\"_blank\" class=\"link_lyrics\"\\n            data-clk=\"tcc_tvc.mranklyrics6\"><span\\n              class=\"blind\">\\xea\\xb0\\x80\\xec\\x82\\xac</span></a>\\n        </div>\\n      </div>\\n      \\n      <div class=\"chart_area\">\\n        <div class=\"chart_rank\">\\n          <em class=\"rank\">7<span class=\"blind\">\\xec\\x9c\\x84</span></em>\\n          \\n          <div class=\"state\"><i class=\"ico_up\"><span class=\"blind\">\\xec\\x83\\x81\\xec\\x8a\\xb9</span></i></div>\\n          \\n          \\n        </div>\\n        <div class=\"chart_info\">\\n          <a href=\"https://vibe.naver.com/track/58525801\" target=\"_blank\" class=\"thumb_box\"\\n            data-clk=\"tcc_tvc.mrankcover7\"><img\\n              src=\"https://s.pstatic.net/dthumb.phinf/?src&#x3D;%22https%3A%2F%2Fmusicmeta-phinf.pstatic.net%2Falbum%2F008%2F322%2F8322455.jpg%3Ftype%3Dr480Fll%26v%3D20221110175904%22&amp;type&#x3D;navermain_n96_96\" alt=\"\\xec\\x82\\xb4\\xeb\\x8b\\xa4\\xea\\xb0\\x80 \\xed\\x95\\x9c\\xeb\\xb2\\x88\\xec\\xaf\\xa4\" height=\"48\" width=\"48\" onerror=\"this.outerHTML=\\'<span class=\\\\\\'pm_noimg_s\\\\\\'><span class=\\\\\\'blind\\\\\\'>\\xec\\x9d\\xb4\\xeb\\xaf\\xb8\\xec\\xa7\\x80 \\xec\\xa4\\x80\\xeb\\xb9\\x84\\xec\\xa4\\x91</span></span>\\'\"><span\\n              class=\"thumb_bd\"></span></a>\\n          <div class=\"info_box\">\\n            <a href=\"https://vibe.naver.com/track/58525801\" target=\"_blank\" class=\"title\"\\n              data-clk=\"tcc_tvc.mranksong7\">\\xec\\x82\\xb4\\xeb\\x8b\\xa4\\xea\\xb0\\x80 \\xed\\x95\\x9c\\xeb\\xb2\\x88\\xec\\xaf\\xa4</a>\\n            <div class=\"dsc_wrap\"><span class=\"dsc\">\\n                \\n                <a href=\"https://vibe.naver.com/artist/265284\" target=\"_blank\"\\n                  data-clk=\"tcc_tvc.mranksinger7\">\\xec\\x9d\\xb4\\xec\\x98\\x88\\xec\\xa4\\x80</a>\\n                \\n              </span><span class=\"dsc\"><a href=\"https://vibe.naver.com/album/8322455\" target=\"_blank\"\\n                  data-clk=\"tcc_tvc.mrankalbum7\">\\xec\\x82\\xb4\\xeb\\x8b\\xa4\\xea\\xb0\\x80 \\xed\\x95\\x9c\\xeb\\xb2\\x88\\xec\\xaf\\xa4 (Re : WIND 4MEN Vol.03)</a></span>\\n            </div>\\n          </div>\\n        </div>\\n        <div class=\"chart_link\">\\n          <a href=\"https://vibe.naver.com/track/58525801\" target=\"_blank\" class=\"link_play\"\\n            data-clk=\"tcc_tvc.mrankplay7\"><span\\n              class=\"blind\">\\xec\\x9e\\xac\\xec\\x83\\x9d</span></a><a href=\"https://vibe.naver.com/track/58525801\" target=\"_blank\" class=\"link_lyrics\"\\n            data-clk=\"tcc_tvc.mranklyrics7\"><span\\n              class=\"blind\">\\xea\\xb0\\x80\\xec\\x82\\xac</span></a>\\n        </div>\\n      </div>\\n      \\n      <div class=\"chart_area\">\\n        <div class=\"chart_rank\">\\n          <em class=\"rank\">8<span class=\"blind\">\\xec\\x9c\\x84</span></em>\\n          \\n          <div class=\"state\"><i class=\"ico_up\"><span class=\"blind\">\\xec\\x83\\x81\\xec\\x8a\\xb9</span></i></div>\\n          \\n          \\n        </div>\\n        <div class=\"chart_info\">\\n          <a href=\"https://vibe.naver.com/track/58620580\" target=\"_blank\" class=\"thumb_box\"\\n            data-clk=\"tcc_tvc.mrankcover8\"><img\\n              src=\"https://s.pstatic.net/dthumb.phinf/?src&#x3D;%22https%3A%2F%2Fmusicmeta-phinf.pstatic.net%2Falbum%2F008%2F098%2F8098925.jpg%3Ftype%3Dr480Fll%26v%3D20221122131237%22&amp;type&#x3D;navermain_n96_96\" alt=\"\\xeb\\x82\\x98\\xec\\x81\\x9cX\" height=\"48\" width=\"48\" onerror=\"this.outerHTML=\\'<span class=\\\\\\'pm_noimg_s\\\\\\'><span class=\\\\\\'blind\\\\\\'>\\xec\\x9d\\xb4\\xeb\\xaf\\xb8\\xec\\xa7\\x80 \\xec\\xa4\\x80\\xeb\\xb9\\x84\\xec\\xa4\\x91</span></span>\\'\"><span\\n              class=\"thumb_bd\"></span></a>\\n          <div class=\"info_box\">\\n            <a href=\"https://vibe.naver.com/track/58620580\" target=\"_blank\" class=\"title\"\\n              data-clk=\"tcc_tvc.mranksong8\">\\xeb\\x82\\x98\\xec\\x81\\x9cX</a>\\n            <div class=\"dsc_wrap\"><span class=\"dsc\">\\n                \\n                <a href=\"https://vibe.naver.com/artist/2563841\" target=\"_blank\"\\n                  data-clk=\"tcc_tvc.mranksinger8\">\\xeb\\xb9\\x84\\xeb\\xb9\\x84(BIBI)</a>\\n                \\n              </span><span class=\"dsc\"><a href=\"https://vibe.naver.com/album/8098925\" target=\"_blank\"\\n                  data-clk=\"tcc_tvc.mrankalbum8\">Lowlife Princess: Noir</a></span>\\n            </div>\\n          </div>\\n        </div>\\n        <div class=\"chart_link\">\\n          <a href=\"https://vibe.naver.com/track/58620580\" target=\"_blank\" class=\"link_play\"\\n            data-clk=\"tcc_tvc.mrankplay8\"><span\\n              class=\"blind\">\\xec\\x9e\\xac\\xec\\x83\\x9d</span></a><a href=\"https://vibe.naver.com/track/58620580\" target=\"_blank\" class=\"link_lyrics\"\\n            data-clk=\"tcc_tvc.mranklyrics8\"><span\\n              class=\"blind\">\\xea\\xb0\\x80\\xec\\x82\\xac</span></a>\\n        </div>\\n      </div>\\n      \\n      <div class=\"chart_area\">\\n        <div class=\"chart_rank\">\\n          <em class=\"rank\">9<span class=\"blind\">\\xec\\x9c\\x84</span></em>\\n          \\n          <div class=\"state\"><i class=\"ico_up\"><span class=\"blind\">\\xec\\x83\\x81\\xec\\x8a\\xb9</span></i></div>\\n          \\n          \\n        </div>\\n        <div class=\"chart_info\">\\n          <a href=\"https://vibe.naver.com/track/58860995\" target=\"_blank\" class=\"thumb_box\"\\n            data-clk=\"tcc_tvc.mrankcover9\"><img\\n              src=\"https://s.pstatic.net/dthumb.phinf/?src&#x3D;%22https%3A%2F%2Fmusicmeta-phinf.pstatic.net%2Falbum%2F008%2F410%2F8410460.jpg%3Ftype%3Dr480Fll%26v%3D20221206155850%22&amp;type&#x3D;navermain_n96_96\" alt=\"Cheshire\" height=\"48\" width=\"48\" onerror=\"this.outerHTML=\\'<span class=\\\\\\'pm_noimg_s\\\\\\'><span class=\\\\\\'blind\\\\\\'>\\xec\\x9d\\xb4\\xeb\\xaf\\xb8\\xec\\xa7\\x80 \\xec\\xa4\\x80\\xeb\\xb9\\x84\\xec\\xa4\\x91</span></span>\\'\"><span\\n              class=\"thumb_bd\"></span></a>\\n          <div class=\"info_box\">\\n            <a href=\"https://vibe.naver.com/track/58860995\" target=\"_blank\" class=\"title\"\\n              data-clk=\"tcc_tvc.mranksong9\">Cheshire</a>\\n            <div class=\"dsc_wrap\"><span class=\"dsc\">\\n                \\n                <a href=\"https://vibe.naver.com/artist/2708920\" target=\"_blank\"\\n                  data-clk=\"tcc_tvc.mranksinger9\">ITZY(\\xec\\x9e\\x88\\xec\\xa7\\x80)</a>\\n                \\n              </span><span class=\"dsc\"><a href=\"https://vibe.naver.com/album/8410460\" target=\"_blank\"\\n                  data-clk=\"tcc_tvc.mrankalbum9\">CHESHIRE</a></span>\\n            </div>\\n          </div>\\n        </div>\\n        <div class=\"chart_link\">\\n          <a href=\"https://vibe.naver.com/track/58860995\" target=\"_blank\" class=\"link_play\"\\n            data-clk=\"tcc_tvc.mrankplay9\"><span\\n              class=\"blind\">\\xec\\x9e\\xac\\xec\\x83\\x9d</span></a><a href=\"https://vibe.naver.com/track/58860995\" target=\"_blank\" class=\"link_lyrics\"\\n            data-clk=\"tcc_tvc.mranklyrics9\"><span\\n              class=\"blind\">\\xea\\xb0\\x80\\xec\\x82\\xac</span></a>\\n        </div>\\n      </div>\\n      \\n      <div class=\"chart_area\">\\n        <div class=\"chart_rank\">\\n          <em class=\"rank\">10<span class=\"blind\">\\xec\\x9c\\x84</span></em>\\n          \\n          \\n          <div class=\"state\"><i class=\"ico_down\"><span class=\"blind\">\\xed\\x95\\x98\\xeb\\x9d\\xbd</span></i></div>\\n          \\n        </div>\\n        <div class=\"chart_info\">\\n          <a href=\"https://vibe.naver.com/track/58869008\" target=\"_blank\" class=\"thumb_box\"\\n            data-clk=\"tcc_tvc.mrankcover10\"><img\\n              src=\"https://s.pstatic.net/dthumb.phinf/?src&#x3D;%22https%3A%2F%2Fmusicmeta-phinf.pstatic.net%2Falbum%2F008%2F412%2F8412347.jpg%3Ftype%3Dr480Fll%26v%3D20221201115939%22&amp;type&#x3D;navermain_n96_96\" alt=\"Winter Dream\" height=\"48\" width=\"48\" onerror=\"this.outerHTML=\\'<span class=\\\\\\'pm_noimg_s\\\\\\'><span class=\\\\\\'blind\\\\\\'>\\xec\\x9d\\xb4\\xeb\\xaf\\xb8\\xec\\xa7\\x80 \\xec\\xa4\\x80\\xeb\\xb9\\x84\\xec\\xa4\\x91</span></span>\\'\"><span\\n              class=\"thumb_bd\"></span></a>\\n          <div class=\"info_box\">\\n            <a href=\"https://vibe.naver.com/track/58869008\" target=\"_blank\" class=\"title\"\\n              data-clk=\"tcc_tvc.mranksong10\">Winter Dream</a>\\n            <div class=\"dsc_wrap\"><span class=\"dsc\">\\n                \\n                <a href=\"https://vibe.naver.com/artist/270281\" target=\"_blank\"\\n                  data-clk=\"tcc_tvc.mranksinger10\">\\xec\\x8a\\xa4\\xed\\x85\\x94\\xeb\\x9d\\xbc\\xec\\x9e\\xa5(Stella Jang)</a>\\n                \\n              </span><span class=\"dsc\"><a href=\"https://vibe.naver.com/album/8412347\" target=\"_blank\"\\n                  data-clk=\"tcc_tvc.mrankalbum10\">WinterStella</a></span>\\n            </div>\\n          </div>\\n        </div>\\n        <div class=\"chart_link\">\\n          <a href=\"https://vibe.naver.com/track/58869008\" target=\"_blank\" class=\"link_play\"\\n            data-clk=\"tcc_tvc.mrankplay10\"><span\\n              class=\"blind\">\\xec\\x9e\\xac\\xec\\x83\\x9d</span></a><a href=\"https://vibe.naver.com/track/58869008\" target=\"_blank\" class=\"link_lyrics\"\\n            data-clk=\"tcc_tvc.mranklyrics10\"><span\\n              class=\"blind\">\\xea\\xb0\\x80\\xec\\x82\\xac</span></a>\\n        </div>\\n      </div>\\n      \\n    </div>\\n    \\n  </div>\\n</div>\\n<div class=\"group_theme\" data-block-id=\"5db0bbf2d6902f284eaffb63\" data-block-code=\"PC-THEME-ENTER-RANKING-1\" data-block-type=\"MATERIALS\" data-template-code=\"3X3\"\\n\\n     data-page=\"1\"\\n     >\\n\\n\\t<div class=\"media_view_wrap type_column\">\\n\\t\\t<div class=\"media_view\">\\n\\t\\t\\t\\n\\t\\t\\t\\t\\n\\t\\t\\t\\t\\t<a href=\"https://tv.naver.com/v/31428271\" class=\"media_area\" data-da-position=\"true\" data-gdid=\"PC-THEME-ENTER-RANKING-1[materials][0]\"\\n\\t\\t\\t\\t\\t   data-clk=\"tcc_tvc.list2cont1\" target=\"_blank\">\\n\\t\\t\\t\\t\\t\\t<div class=\"media_thumb\">\\n\\t\\t\\t\\t\\t\\t\\t<img src=\"https://s.pstatic.net/dthumb.phinf/?src&#x3D;%22https%3A%2F%2Fs.pstatic.net%2Ftvcast.phinf%2F20221207_127%2FHZXMA_1670424691305SiRjC_JPEG%2F6xQ1670311835533-1280-0.jpg%22&amp;type&#x3D;nf464_260\"\\n\\t\\t\\t\\t\\t\\t\\t     data-src=\"https://s.pstatic.net/dthumb.phinf/?src&#x3D;%22https%3A%2F%2Fs.pstatic.net%2Ftvcast.phinf%2F20221207_127%2FHZXMA_1670424691305SiRjC_JPEG%2F6xQ1670311835533-1280-0.jpg%22&amp;type&#x3D;nf464_260\" alt=\"\" width=\"232\" height=\"130\"\\n\\t\\t\\t\\t\\t\\t\\t     onerror=\"this.outerHTML=\\'<span class=\\\\\\'pm_noimg\\\\\\'><span class=\\\\\\'noimg_text\\\\\\'>\\xec\\x9d\\xb4\\xeb\\xaf\\xb8\\xec\\xa7\\x80 \\xec\\xa4\\x80\\xeb\\xb9\\x84\\xec\\xa4\\x91</span></span>\\'\">\\n\\n\\t\\t\\t\\t\\t\\t\\t\\n\\t\\t\\t\\t\\t\\t\\t\\t<span class=\"thumb_dim\"></span>\\n\\t\\t\\t\\t\\t\\t\\t\\t<span class=\"thumb_bd\"></span>\\n\\t\\t\\t\\t\\t\\t\\t\\t<i class=\"pm_ico_play\"><span class=\"blind\">\\xec\\x9e\\xac\\xec\\x83\\x9d</span></i>\\n\\t\\t\\t\\t\\t\\t\\t\\t<span class=\"theme_runtime\"><span class=\"runtime_bg\">\\xec\\x9e\\xac\\xec\\x83\\x9d\\xec\\x8b\\x9c\\xea\\xb0\\x84</span><em\\n\\t\\t\\t\\t\\t\\t\\t\\t\\t\\tclass=\"time\">12:02</em></span>\\n\\t\\t\\t\\t\\t\\t\\t\\n\\t\\t\\t\\t\\t\\t</div>\\n\\t\\t\\t\\t\\t\\t<div class=\"media_info\">\\n\\t\\t\\t\\t\\t\\t\\t<div class=\"info_box\">\\n\\t\\t\\t\\t\\t\\t\\t\\t\\n\\t\\t\\t\\t\\t\\t\\t\\t\\t<em class=\"theme_category\">TV \\xec\\x98\\x88\\xeb\\x8a\\xa5</em>\\n\\t\\t\\t\\t\\t\\t\\t\\t\\n\\t\\t\\t\\t\\t\\t\\t\\t\\n\\t\\t\\t\\t\\t\\t\\t\\t<strong class=\"title \">\\xeb\\x8d\\xb0\\xec\\x9d\\xb4\\xed\\x8a\\xb8\\xea\\xb6\\x8c\\xec\\x9d\\x98 \\xed\\x96\\x89\\xeb\\xb0\\xa9\\xec\\x9d\\x80? \\xeb\\xa7\\x88\\xec\\x9d\\x8c\\xec\\x9d\\xb4 \\xeb\\x94\\xb0\\xeb\\xa5\\xb4\\xeb\\x8a\\x94 \\xea\\xb3\\xb3\\xec\\x9c\\xbc\\xeb\\xa1\\x9c! \\xec\\x86\\x94\\xec\\xa7\\x81\\xed\\x95\\x9c \\xec\\x86\\x94\\xeb\\xa1\\x9c\\xeb\\x82\\xa8\\xeb\\x85\\x80\\xeb\\x93\\xa4\\xec\\x9d\\x98 \\xec\\xa7\\x81\\xec\\xa7\\x84 \\xec\\x8b\\xa0\\xed\\x98\\xb8!\\xe3\\x85\\xa3\\xeb\\x82\\x98\\xeb\\x8a\\x94\\xec\\x86\\x94\\xeb\\xa1\\x9c EP.74\\xe3\\x85\\xa3SBSPLUS\\xe3\\x85\\xa3\\xeb\\xa7\\xa4\\xec\\xa3\\xbc \\xec\\x88\\x98\\xec\\x9a\\x94\\xec\\x9d\\xbc \\xeb\\xb0\\xa4 10\\xec\\x8b\\x9c 30\\xeb\\xb6\\x84 \\xeb\\xb0\\xa9\\xec\\x86\\xa1</strong>\\n\\t\\t\\t\\t\\t\\t\\t\\t<div class=\"source_wrap\">\\n\\t\\t\\t\\t\\t\\t\\t\\t\\t\\n\\t\\t\\t\\t\\t\\t\\t\\t\\t\\t<span class=\"date\">21\\xec\\x8b\\x9c\\xea\\xb0\\x84 \\xec\\xa0\\x84</span>\\n\\t\\t\\t\\t\\t\\t\\t\\t\\t\\t<span class=\"source\">\\n\\t\\t\\t\\t\\t\\t\\t\\t\\t\\t\\t\\n\\t\\t\\t\\t\\t\\t\\t\\t\\t\\t<span class=\"source_inner\">\\xeb\\x82\\x98\\xeb\\x8a\\x94 SOLO</span>\\n\\t\\t\\t\\t\\t\\t\\t\\t\\t\\t</span>\\n\\t\\t\\t\\t\\t\\t\\t\\t\\t\\n\\t\\t\\t\\t\\t\\t\\t\\t</div>\\n\\t\\t\\t\\t\\t\\t\\t</div>\\n\\t\\t\\t\\t\\t\\t</div>\\n\\t\\t\\t\\t\\t</a>\\n\\t\\t\\t\\t\\n\\t\\t\\t\\n\\t\\t\\t\\t\\n\\t\\t\\t\\t\\t<a href=\"https://tv.naver.com/v/28210510\" class=\"media_area\" data-da-position=\"true\" data-gdid=\"PC-THEME-ENTER-RANKING-1[materials][1]\"\\n\\t\\t\\t\\t\\t   data-clk=\"tcc_tvc.list2cont2\" target=\"_blank\">\\n\\t\\t\\t\\t\\t\\t<div class=\"media_thumb\">\\n\\t\\t\\t\\t\\t\\t\\t<img src=\"https://s.pstatic.net/dthumb.phinf/?src&#x3D;%22https%3A%2F%2Fphinf.pstatic.net%2Ftvcast%2F20220728_92%2FHcBIm_1658982543418t4gMh_PNG%2F1658982539647.png%22&amp;type&#x3D;nf464_260\"\\n\\t\\t\\t\\t\\t\\t\\t     data-src=\"https://s.pstatic.net/dthumb.phinf/?src&#x3D;%22https%3A%2F%2Fphinf.pstatic.net%2Ftvcast%2F20220728_92%2FHcBIm_1658982543418t4gMh_PNG%2F1658982539647.png%22&amp;type&#x3D;nf464_260\" alt=\"\" width=\"232\" height=\"130\"\\n\\t\\t\\t\\t\\t\\t\\t     onerror=\"this.outerHTML=\\'<span class=\\\\\\'pm_noimg\\\\\\'><span class=\\\\\\'noimg_text\\\\\\'>\\xec\\x9d\\xb4\\xeb\\xaf\\xb8\\xec\\xa7\\x80 \\xec\\xa4\\x80\\xeb\\xb9\\x84\\xec\\xa4\\x91</span></span>\\'\">\\n\\n\\t\\t\\t\\t\\t\\t\\t\\n\\t\\t\\t\\t\\t\\t\\t\\t<span class=\"thumb_dim\"></span>\\n\\t\\t\\t\\t\\t\\t\\t\\t<span class=\"thumb_bd\"></span>\\n\\t\\t\\t\\t\\t\\t\\t\\t<i class=\"pm_ico_play\"><span class=\"blind\">\\xec\\x9e\\xac\\xec\\x83\\x9d</span></i>\\n\\t\\t\\t\\t\\t\\t\\t\\t<span class=\"theme_runtime\"><span class=\"runtime_bg\">\\xec\\x9e\\xac\\xec\\x83\\x9d\\xec\\x8b\\x9c\\xea\\xb0\\x84</span><em\\n\\t\\t\\t\\t\\t\\t\\t\\t\\t\\tclass=\"time\">0:59</em></span>\\n\\t\\t\\t\\t\\t\\t\\t\\n\\t\\t\\t\\t\\t\\t</div>\\n\\t\\t\\t\\t\\t\\t<div class=\"media_info\">\\n\\t\\t\\t\\t\\t\\t\\t<div class=\"info_box\">\\n\\t\\t\\t\\t\\t\\t\\t\\t\\n\\t\\t\\t\\t\\t\\t\\t\\t\\t<em class=\"theme_category\">\\xec\\x9b\\xb9\\xec\\x98\\x88\\xeb\\x8a\\xa5</em>\\n\\t\\t\\t\\t\\t\\t\\t\\t\\n\\t\\t\\t\\t\\t\\t\\t\\t\\n\\t\\t\\t\\t\\t\\t\\t\\t<strong class=\"title \">[\\xec\\x8d\\xb8\\xed\\x95\\x91] \\xeb\\x8b\\xb9\\xec\\x8b\\xa0\\xec\\x9d\\x80 \\xed\\x94\\x8c\\xeb\\x9f\\xac\\xed\\x8c\\x85\\xec\\x9d\\x98 \\xeb\\xa7\\x88\\xeb\\xb2\\x95\\xec\\x9d\\x84 \\xeb\\xaf\\xbf\\xeb\\x82\\x98\\xec\\x9a\\x94? | 1\\xec\\xb0\\xa8 \\xed\\x8b\\xb0\\xec\\xa0\\x80</strong>\\n\\t\\t\\t\\t\\t\\t\\t\\t<div class=\"source_wrap\">\\n\\t\\t\\t\\t\\t\\t\\t\\t\\t\\n\\t\\t\\t\\t\\t\\t\\t\\t\\t\\t<span class=\"date\">4\\xeb\\xb6\\x84 \\xec\\xa0\\x84</span>\\n\\t\\t\\t\\t\\t\\t\\t\\t\\t\\t<span class=\"source\">\\n\\t\\t\\t\\t\\t\\t\\t\\t\\t\\t\\t\\n\\t\\t\\t\\t\\t\\t\\t\\t\\t\\t<span class=\"source_inner\">\\xec\\x8d\\xb8\\xed\\x95\\x91</span>\\n\\t\\t\\t\\t\\t\\t\\t\\t\\t\\t</span>\\n\\t\\t\\t\\t\\t\\t\\t\\t\\t\\n\\t\\t\\t\\t\\t\\t\\t\\t</div>\\n\\t\\t\\t\\t\\t\\t\\t</div>\\n\\t\\t\\t\\t\\t\\t</div>\\n\\t\\t\\t\\t\\t</a>\\n\\t\\t\\t\\t\\n\\t\\t\\t\\n\\t\\t\\t\\t\\n\\t\\t\\t\\t\\t<a href=\"https://tv.naver.com/v/31435709\" class=\"media_area\" data-da-position=\"true\" data-gdid=\"PC-THEME-ENTER-RANKING-1[materials][2]\"\\n\\t\\t\\t\\t\\t   data-clk=\"tcc_tvc.list2cont3\" target=\"_blank\">\\n\\t\\t\\t\\t\\t\\t<div class=\"media_thumb\">\\n\\t\\t\\t\\t\\t\\t\\t<img src=\"https://s.pstatic.net/dthumb.phinf/?src&#x3D;%22https%3A%2F%2Fs.pstatic.net%2Ftvcast.phinf%2F20221208_68%2FbcsWB_1670466996055cSmk2_JPEG%2F4e9227bd-11af-4017-a04c-9bf7d70f437a_B.jpg%22&amp;type&#x3D;nf464_260\"\\n\\t\\t\\t\\t\\t\\t\\t     data-src=\"https://s.pstatic.net/dthumb.phinf/?src&#x3D;%22https%3A%2F%2Fs.pstatic.net%2Ftvcast.phinf%2F20221208_68%2FbcsWB_1670466996055cSmk2_JPEG%2F4e9227bd-11af-4017-a04c-9bf7d70f437a_B.jpg%22&amp;type&#x3D;nf464_260\" alt=\"\" width=\"232\" height=\"130\"\\n\\t\\t\\t\\t\\t\\t\\t     onerror=\"this.outerHTML=\\'<span class=\\\\\\'pm_noimg\\\\\\'><span class=\\\\\\'noimg_text\\\\\\'>\\xec\\x9d\\xb4\\xeb\\xaf\\xb8\\xec\\xa7\\x80 \\xec\\xa4\\x80\\xeb\\xb9\\x84\\xec\\xa4\\x91</span></span>\\'\">\\n\\n\\t\\t\\t\\t\\t\\t\\t\\n\\t\\t\\t\\t\\t\\t\\t\\t<span class=\"thumb_dim\"></span>\\n\\t\\t\\t\\t\\t\\t\\t\\t<span class=\"thumb_bd\"></span>\\n\\t\\t\\t\\t\\t\\t\\t\\t<i class=\"pm_ico_play\"><span class=\"blind\">\\xec\\x9e\\xac\\xec\\x83\\x9d</span></i>\\n\\t\\t\\t\\t\\t\\t\\t\\t<span class=\"theme_runtime\"><span class=\"runtime_bg\">\\xec\\x9e\\xac\\xec\\x83\\x9d\\xec\\x8b\\x9c\\xea\\xb0\\x84</span><em\\n\\t\\t\\t\\t\\t\\t\\t\\t\\t\\tclass=\"time\">2:20</em></span>\\n\\t\\t\\t\\t\\t\\t\\t\\n\\t\\t\\t\\t\\t\\t</div>\\n\\t\\t\\t\\t\\t\\t<div class=\"media_info\">\\n\\t\\t\\t\\t\\t\\t\\t<div class=\"info_box\">\\n\\t\\t\\t\\t\\t\\t\\t\\t\\n\\t\\t\\t\\t\\t\\t\\t\\t\\t<em class=\"theme_category\">TV \\xec\\x98\\x88\\xeb\\x8a\\xa5</em>\\n\\t\\t\\t\\t\\t\\t\\t\\t\\n\\t\\t\\t\\t\\t\\t\\t\\t\\n\\t\\t\\t\\t\\t\\t\\t\\t<strong class=\"title \">[\\xec\\x98\\x88\\xea\\xb3\\xa0] \\xec\\xa1\\xb4\\xec\\x9e\\xac \\xec\\x9e\\x90\\xec\\xb2\\xb4\\xea\\xb0\\x80 \\xec\\x8b\\xa0\\xeb\\x93\\x9c\\xeb\\xa1\\xac, \\xeb\\x89\\xb4\\xec\\xa7\\x84\\xec\\x8a\\xa4 \\xeb\\x93\\xb1\\xec\\x9e\\xa5\\xe2\\x99\\xa5 \\xec\\x95\\xa8\\xeb\\xb2\\x94 \\xec\\xa4\\x80\\xeb\\xb9\\x84 \\xea\\xb3\\xbc\\xec\\xa0\\x95\\xeb\\xb6\\x80\\xed\\x84\\xb0 \\xed\\x95\\x98\\xec\\x9e\\x8e\\xeb\\xb3\\xb4\\xec\\x9d\\xb4 \\xed\\x83\\x80\\xec\\x9e\\x84\\xea\\xb9\\x8c\\xec\\xa7\\x80!</strong>\\n\\t\\t\\t\\t\\t\\t\\t\\t<div class=\"source_wrap\">\\n\\t\\t\\t\\t\\t\\t\\t\\t\\t\\n\\t\\t\\t\\t\\t\\t\\t\\t\\t\\t<span class=\"date\">9\\xec\\x8b\\x9c\\xea\\xb0\\x84 \\xec\\xa0\\x84</span>\\n\\t\\t\\t\\t\\t\\t\\t\\t\\t\\t<span class=\"source\">\\n\\t\\t\\t\\t\\t\\t\\t\\t\\t\\t\\t\\n\\t\\t\\t\\t\\t\\t\\t\\t\\t\\t<span class=\"source_inner\">\\xec\\x9c\\xa0 \\xed\\x80\\xb4\\xec\\xa6\\x88 \\xec\\x98\\xa8 \\xeb\\x8d\\x94 \\xeb\\xb8\\x94\\xeb\\x9f\\xad</span>\\n\\t\\t\\t\\t\\t\\t\\t\\t\\t\\t</span>\\n\\t\\t\\t\\t\\t\\t\\t\\t\\t\\n\\t\\t\\t\\t\\t\\t\\t\\t</div>\\n\\t\\t\\t\\t\\t\\t\\t</div>\\n\\t\\t\\t\\t\\t\\t</div>\\n\\t\\t\\t\\t\\t</a>\\n\\t\\t\\t\\t\\n\\t\\t\\t\\n\\t\\t\\t\\t\\n\\t\\t\\t\\t\\t<a href=\"https://tv.naver.com/v/28322412\" class=\"media_area\" data-da-position=\"true\" data-gdid=\"PC-THEME-ENTER-RANKING-1[materials][3]\"\\n\\t\\t\\t\\t\\t   data-clk=\"tcc_tvc.list2cont4\" target=\"_blank\">\\n\\t\\t\\t\\t\\t\\t<div class=\"media_thumb\">\\n\\t\\t\\t\\t\\t\\t\\t<img src=\"https://s.pstatic.net/dthumb.phinf/?src&#x3D;%22https%3A%2F%2Fphinf.pstatic.net%2Ftvcast%2F20220802_282%2FysUgc_1659429648996mjp3T_JPEG%2F04ca6a72-123e-11ed-9d93-d4f5ef590144_01.jpg%22&amp;type&#x3D;nf464_260\"\\n\\t\\t\\t\\t\\t\\t\\t     data-src=\"https://s.pstatic.net/dthumb.phinf/?src&#x3D;%22https%3A%2F%2Fphinf.pstatic.net%2Ftvcast%2F20220802_282%2FysUgc_1659429648996mjp3T_JPEG%2F04ca6a72-123e-11ed-9d93-d4f5ef590144_01.jpg%22&amp;type&#x3D;nf464_260\" alt=\"\" width=\"232\" height=\"130\"\\n\\t\\t\\t\\t\\t\\t\\t     onerror=\"this.outerHTML=\\'<span class=\\\\\\'pm_noimg\\\\\\'><span class=\\\\\\'noimg_text\\\\\\'>\\xec\\x9d\\xb4\\xeb\\xaf\\xb8\\xec\\xa7\\x80 \\xec\\xa4\\x80\\xeb\\xb9\\x84\\xec\\xa4\\x91</span></span>\\'\">\\n\\n\\t\\t\\t\\t\\t\\t\\t\\n\\t\\t\\t\\t\\t\\t\\t\\t<span class=\"thumb_dim\"></span>\\n\\t\\t\\t\\t\\t\\t\\t\\t<span class=\"thumb_bd\"></span>\\n\\t\\t\\t\\t\\t\\t\\t\\t<i class=\"pm_ico_play\"><span class=\"blind\">\\xec\\x9e\\xac\\xec\\x83\\x9d</span></i>\\n\\t\\t\\t\\t\\t\\t\\t\\t<span class=\"theme_runtime\"><span class=\"runtime_bg\">\\xec\\x9e\\xac\\xec\\x83\\x9d\\xec\\x8b\\x9c\\xea\\xb0\\x84</span><em\\n\\t\\t\\t\\t\\t\\t\\t\\t\\t\\tclass=\"time\">1:15</em></span>\\n\\t\\t\\t\\t\\t\\t\\t\\n\\t\\t\\t\\t\\t\\t</div>\\n\\t\\t\\t\\t\\t\\t<div class=\"media_info\">\\n\\t\\t\\t\\t\\t\\t\\t<div class=\"info_box\">\\n\\t\\t\\t\\t\\t\\t\\t\\t\\n\\t\\t\\t\\t\\t\\t\\t\\t\\t<em class=\"theme_category\">\\xec\\x9b\\xb9\\xec\\x98\\x88\\xeb\\x8a\\xa5</em>\\n\\t\\t\\t\\t\\t\\t\\t\\t\\n\\t\\t\\t\\t\\t\\t\\t\\t\\n\\t\\t\\t\\t\\t\\t\\t\\t<strong class=\"title \">\\xec\\xa7\\x84~\\xec\\xa7\\x9c \\xec\\x9e\\x98\\xeb\\x82\\x98\\xea\\xb0\\x80\\xeb\\x8a\\x94 5\\xeb\\xaa\\x85\\xec\\x9d\\xb4 \\xec\\x99\\x9c \\xea\\xb0\\x99\\xec\\x9d\\xb4 \\xec\\x9e\\x88\\xec\\xa3\\xa0?</strong>\\n\\t\\t\\t\\t\\t\\t\\t\\t<div class=\"source_wrap\">\\n\\t\\t\\t\\t\\t\\t\\t\\t\\t\\n\\t\\t\\t\\t\\t\\t\\t\\t\\t\\t<span class=\"date\">4\\xeb\\xb6\\x84 \\xec\\xa0\\x84</span>\\n\\t\\t\\t\\t\\t\\t\\t\\t\\t\\t<span class=\"source\">\\n\\t\\t\\t\\t\\t\\t\\t\\t\\t\\t\\t\\n\\t\\t\\t\\t\\t\\t\\t\\t\\t\\t<span class=\"source_inner\">\\xec\\x8d\\xb8\\xed\\x95\\x91</span>\\n\\t\\t\\t\\t\\t\\t\\t\\t\\t\\t</span>\\n\\t\\t\\t\\t\\t\\t\\t\\t\\t\\n\\t\\t\\t\\t\\t\\t\\t\\t</div>\\n\\t\\t\\t\\t\\t\\t\\t</div>\\n\\t\\t\\t\\t\\t\\t</div>\\n\\t\\t\\t\\t\\t</a>\\n\\t\\t\\t\\t\\n\\t\\t\\t\\n\\t\\t\\t\\t\\n\\t\\t\\t\\t\\t<a href=\"https://tv.naver.com/v/26605099\" class=\"media_area\" data-da-position=\"true\" data-gdid=\"PC-THEME-ENTER-RANKING-1[materials][4]\"\\n\\t\\t\\t\\t\\t   data-clk=\"tcc_tvc.list2cont5\" target=\"_blank\">\\n\\t\\t\\t\\t\\t\\t<div class=\"media_thumb\">\\n\\t\\t\\t\\t\\t\\t\\t<img src=\"https://s.pstatic.net/dthumb.phinf/?src&#x3D;%22https%3A%2F%2Fphinf.pstatic.net%2Ftvcast%2F20220504_251%2F9TzRx_1651657193399xUXmF_JPEG%2F1651656998195.jpg%22&amp;type&#x3D;nf464_260\"\\n\\t\\t\\t\\t\\t\\t\\t     data-src=\"https://s.pstatic.net/dthumb.phinf/?src&#x3D;%22https%3A%2F%2Fphinf.pstatic.net%2Ftvcast%2F20220504_251%2F9TzRx_1651657193399xUXmF_JPEG%2F1651656998195.jpg%22&amp;type&#x3D;nf464_260\" alt=\"\" width=\"232\" height=\"130\"\\n\\t\\t\\t\\t\\t\\t\\t     onerror=\"this.outerHTML=\\'<span class=\\\\\\'pm_noimg\\\\\\'><span class=\\\\\\'noimg_text\\\\\\'>\\xec\\x9d\\xb4\\xeb\\xaf\\xb8\\xec\\xa7\\x80 \\xec\\xa4\\x80\\xeb\\xb9\\x84\\xec\\xa4\\x91</span></span>\\'\">\\n\\n\\t\\t\\t\\t\\t\\t\\t\\n\\t\\t\\t\\t\\t\\t\\t\\t<span class=\"thumb_dim\"></span>\\n\\t\\t\\t\\t\\t\\t\\t\\t<span class=\"thumb_bd\"></span>\\n\\t\\t\\t\\t\\t\\t\\t\\t<i class=\"pm_ico_play\"><span class=\"blind\">\\xec\\x9e\\xac\\xec\\x83\\x9d</span></i>\\n\\t\\t\\t\\t\\t\\t\\t\\t<span class=\"theme_runtime\"><span class=\"runtime_bg\">\\xec\\x9e\\xac\\xec\\x83\\x9d\\xec\\x8b\\x9c\\xea\\xb0\\x84</span><em\\n\\t\\t\\t\\t\\t\\t\\t\\t\\t\\tclass=\"time\">0:53</em></span>\\n\\t\\t\\t\\t\\t\\t\\t\\n\\t\\t\\t\\t\\t\\t</div>\\n\\t\\t\\t\\t\\t\\t<div class=\"media_info\">\\n\\t\\t\\t\\t\\t\\t\\t<div class=\"info_box\">\\n\\t\\t\\t\\t\\t\\t\\t\\t\\n\\t\\t\\t\\t\\t\\t\\t\\t\\t<em class=\"theme_category\">\\xec\\x9b\\xb9\\xeb\\x93\\x9c\\xeb\\x9d\\xbc\\xeb\\xa7\\x88</em>\\n\\t\\t\\t\\t\\t\\t\\t\\t\\n\\t\\t\\t\\t\\t\\t\\t\\t\\n\\t\\t\\t\\t\\t\\t\\t\\t<strong class=\"title \">\\xeb\\x84\\xb7\\xed\\x94\\x8c\\xeb\\xa6\\xad\\xec\\x8a\\xa4 \\xec\\x8b\\x9c\\xeb\\xa6\\xac\\xec\\xa6\\x88 \\'\\xec\\x95\\x88\\xeb\\x82\\x98\\xeb\\x9d\\xbc\\xec\\x88\\x98\\xeb\\xa7\\x88\\xeb\\x82\\x98\\xeb\\x9d\\xbc\\'\\xec\\x9d\\x98 \\xec\\x9b\\x90\\xec\\x9e\\x91 \\xec\\x9b\\xb9\\xed\\x88\\xb0</strong>\\n\\t\\t\\t\\t\\t\\t\\t\\t<div class=\"source_wrap\">\\n\\t\\t\\t\\t\\t\\t\\t\\t\\t\\n\\t\\t\\t\\t\\t\\t\\t\\t\\t\\t<span class=\"date\">4\\xeb\\xb6\\x84 \\xec\\xa0\\x84</span>\\n\\t\\t\\t\\t\\t\\t\\t\\t\\t\\t<span class=\"source\">\\n\\t\\t\\t\\t\\t\\t\\t\\t\\t\\t\\t\\n\\t\\t\\t\\t\\t\\t\\t\\t\\t\\t<span class=\"source_inner\">\\xeb\\x84\\xa4\\xec\\x9d\\xb4\\xeb\\xb2\\x84 \\xec\\x9b\\xb9\\xed\\x88\\xb0</span>\\n\\t\\t\\t\\t\\t\\t\\t\\t\\t\\t</span>\\n\\t\\t\\t\\t\\t\\t\\t\\t\\t\\n\\t\\t\\t\\t\\t\\t\\t\\t</div>\\n\\t\\t\\t\\t\\t\\t\\t</div>\\n\\t\\t\\t\\t\\t\\t</div>\\n\\t\\t\\t\\t\\t</a>\\n\\t\\t\\t\\t\\n\\t\\t\\t\\n\\t\\t\\t\\t\\n\\t\\t\\t\\t\\t<a href=\"https://tv.naver.com/v/31427856\" class=\"media_area\" data-da-position=\"true\" data-gdid=\"PC-THEME-ENTER-RANKING-1[materials][5]\"\\n\\t\\t\\t\\t\\t   data-clk=\"tcc_tvc.list2cont6\" target=\"_blank\">\\n\\t\\t\\t\\t\\t\\t<div class=\"media_thumb\">\\n\\t\\t\\t\\t\\t\\t\\t<img src=\"https://s.pstatic.net/dthumb.phinf/?src&#x3D;%22https%3A%2F%2Fs.pstatic.net%2Ftvcast.phinf%2F20221207_241%2FcPa0k_1670423491757rJVfa_JPEG%2FxJQ1670311549915-1280-0.jpg%22&amp;type&#x3D;nf464_260\"\\n\\t\\t\\t\\t\\t\\t\\t     data-src=\"https://s.pstatic.net/dthumb.phinf/?src&#x3D;%22https%3A%2F%2Fs.pstatic.net%2Ftvcast.phinf%2F20221207_241%2FcPa0k_1670423491757rJVfa_JPEG%2FxJQ1670311549915-1280-0.jpg%22&amp;type&#x3D;nf464_260\" alt=\"\" width=\"232\" height=\"130\"\\n\\t\\t\\t\\t\\t\\t\\t     onerror=\"this.outerHTML=\\'<span class=\\\\\\'pm_noimg\\\\\\'><span class=\\\\\\'noimg_text\\\\\\'>\\xec\\x9d\\xb4\\xeb\\xaf\\xb8\\xec\\xa7\\x80 \\xec\\xa4\\x80\\xeb\\xb9\\x84\\xec\\xa4\\x91</span></span>\\'\">\\n\\n\\t\\t\\t\\t\\t\\t\\t\\n\\t\\t\\t\\t\\t\\t\\t\\t<span class=\"thumb_dim\"></span>\\n\\t\\t\\t\\t\\t\\t\\t\\t<span class=\"thumb_bd\"></span>\\n\\t\\t\\t\\t\\t\\t\\t\\t<i class=\"pm_ico_play\"><span class=\"blind\">\\xec\\x9e\\xac\\xec\\x83\\x9d</span></i>\\n\\t\\t\\t\\t\\t\\t\\t\\t<span class=\"theme_runtime\"><span class=\"runtime_bg\">\\xec\\x9e\\xac\\xec\\x83\\x9d\\xec\\x8b\\x9c\\xea\\xb0\\x84</span><em\\n\\t\\t\\t\\t\\t\\t\\t\\t\\t\\tclass=\"time\">9:37</em></span>\\n\\t\\t\\t\\t\\t\\t\\t\\n\\t\\t\\t\\t\\t\\t</div>\\n\\t\\t\\t\\t\\t\\t<div class=\"media_info\">\\n\\t\\t\\t\\t\\t\\t\\t<div class=\"info_box\">\\n\\t\\t\\t\\t\\t\\t\\t\\t\\n\\t\\t\\t\\t\\t\\t\\t\\t\\t<em class=\"theme_category\">TV \\xec\\x98\\x88\\xeb\\x8a\\xa5</em>\\n\\t\\t\\t\\t\\t\\t\\t\\t\\n\\t\\t\\t\\t\\t\\t\\t\\t\\n\\t\\t\\t\\t\\t\\t\\t\\t<strong class=\"title \">\\xeb\\x82\\x9c \\xeb\\xaa\\xa8\\xeb\\x93\\xa0 \\xea\\xb2\\x8c \\xeb\\x81\\x9d, \\xec\\x86\\x94\\xeb\\xa1\\x9c\\xeb\\xa1\\x9c \\xed\\x87\\xb4\\xec\\x86\\x8c? \\xed\\x95\\xa0 \\xeb\\xa7\\x8c\\xed\\x81\\xbc \\xed\\x95\\xb4\\xec\\x84\\x9c \\xeb\\x8d\\x94 \\xec\\x86\\x8d\\xec\\x83\\x81\\xed\\x95\\x9c \\xec\\xa0\\x95\\xec\\x88\\x99\\xec\\x9d\\x98 \\xeb\\x88\\x88\\xeb\\xac\\xbc...?\\xe3\\x85\\xa3\\xeb\\x82\\x98\\xeb\\x8a\\x94\\xec\\x86\\x94\\xeb\\xa1\\x9c EP.74\\xe3\\x85\\xa3SBSPLUS\\xe3\\x85\\xa3\\xeb\\xa7\\xa4\\xec\\xa3\\xbc \\xec\\x88\\x98\\xec\\x9a\\x94\\xec\\x9d\\xbc \\xeb\\xb0\\xa4 10\\xec\\x8b\\x9c 30\\xeb\\xb6\\x84 \\xeb\\xb0\\xa9\\xec\\x86\\xa1</strong>\\n\\t\\t\\t\\t\\t\\t\\t\\t<div class=\"source_wrap\">\\n\\t\\t\\t\\t\\t\\t\\t\\t\\t\\n\\t\\t\\t\\t\\t\\t\\t\\t\\t\\t<span class=\"date\">21\\xec\\x8b\\x9c\\xea\\xb0\\x84 \\xec\\xa0\\x84</span>\\n\\t\\t\\t\\t\\t\\t\\t\\t\\t\\t<span class=\"source\">\\n\\t\\t\\t\\t\\t\\t\\t\\t\\t\\t\\t\\n\\t\\t\\t\\t\\t\\t\\t\\t\\t\\t<span class=\"source_inner\">\\xeb\\x82\\x98\\xeb\\x8a\\x94 SOLO</span>\\n\\t\\t\\t\\t\\t\\t\\t\\t\\t\\t</span>\\n\\t\\t\\t\\t\\t\\t\\t\\t\\t\\n\\t\\t\\t\\t\\t\\t\\t\\t</div>\\n\\t\\t\\t\\t\\t\\t\\t</div>\\n\\t\\t\\t\\t\\t\\t</div>\\n\\t\\t\\t\\t\\t</a>\\n\\t\\t\\t\\t\\n\\t\\t\\t\\n\\t\\t\\t\\t\\n\\t\\t\\t\\t\\t<a href=\"https://tv.naver.com/v/28359959\" class=\"media_area\" data-da-position=\"true\" data-gdid=\"PC-THEME-ENTER-RANKING-1[materials][6]\"\\n\\t\\t\\t\\t\\t   data-clk=\"tcc_tvc.list2cont7\" target=\"_blank\">\\n\\t\\t\\t\\t\\t\\t<div class=\"media_thumb\">\\n\\t\\t\\t\\t\\t\\t\\t<img src=\"https://s.pstatic.net/dthumb.phinf/?src&#x3D;%22https%3A%2F%2Fphinf.pstatic.net%2Ftvcast%2F20220804_222%2FbXyeG_1659578602297hVpsm_PNG%2F1659578598547.png%22&amp;type&#x3D;nf464_260\"\\n\\t\\t\\t\\t\\t\\t\\t     data-src=\"https://s.pstatic.net/dthumb.phinf/?src&#x3D;%22https%3A%2F%2Fphinf.pstatic.net%2Ftvcast%2F20220804_222%2FbXyeG_1659578602297hVpsm_PNG%2F1659578598547.png%22&amp;type&#x3D;nf464_260\" alt=\"\" width=\"232\" height=\"130\"\\n\\t\\t\\t\\t\\t\\t\\t     onerror=\"this.outerHTML=\\'<span class=\\\\\\'pm_noimg\\\\\\'><span class=\\\\\\'noimg_text\\\\\\'>\\xec\\x9d\\xb4\\xeb\\xaf\\xb8\\xec\\xa7\\x80 \\xec\\xa4\\x80\\xeb\\xb9\\x84\\xec\\xa4\\x91</span></span>\\'\">\\n\\n\\t\\t\\t\\t\\t\\t\\t\\n\\t\\t\\t\\t\\t\\t\\t\\t<span class=\"thumb_dim\"></span>\\n\\t\\t\\t\\t\\t\\t\\t\\t<span class=\"thumb_bd\"></span>\\n\\t\\t\\t\\t\\t\\t\\t\\t<i class=\"pm_ico_play\"><span class=\"blind\">\\xec\\x9e\\xac\\xec\\x83\\x9d</span></i>\\n\\t\\t\\t\\t\\t\\t\\t\\t<span class=\"theme_runtime\"><span class=\"runtime_bg\">\\xec\\x9e\\xac\\xec\\x83\\x9d\\xec\\x8b\\x9c\\xea\\xb0\\x84</span><em\\n\\t\\t\\t\\t\\t\\t\\t\\t\\t\\tclass=\"time\">2:6</em></span>\\n\\t\\t\\t\\t\\t\\t\\t\\n\\t\\t\\t\\t\\t\\t</div>\\n\\t\\t\\t\\t\\t\\t<div class=\"media_info\">\\n\\t\\t\\t\\t\\t\\t\\t<div class=\"info_box\">\\n\\t\\t\\t\\t\\t\\t\\t\\t\\n\\t\\t\\t\\t\\t\\t\\t\\t\\t<em class=\"theme_category\">\\xec\\x9b\\xb9\\xec\\x98\\x88\\xeb\\x8a\\xa5</em>\\n\\t\\t\\t\\t\\t\\t\\t\\t\\n\\t\\t\\t\\t\\t\\t\\t\\t\\n\\t\\t\\t\\t\\t\\t\\t\\t<strong class=\"title \">[\\xec\\x8d\\xb8\\xed\\x95\\x91] \\xeb\\x84\\x98\\xec\\xb3\\x90\\xeb\\x82\\x98\\xeb\\x8a\\x94 \\xec\\x8d\\xb8 \\xec\\x8b\\x9c\\xea\\xb7\\xb8\\xeb\\x84\\x90,  5\\xec\\x9d\\xb8 5\\xec\\x83\\x89 \\xea\\xb3\\xbc\\xeb\\xaa\\xb0\\xec\\x9e\\x85 \\xec\\x8b\\x9c\\xec\\x9e\\x91\\xed\\x95\\xa9\\xeb\\x8b\\x88\\xeb\\x8b\\xa4! | 2\\xec\\xb0\\xa8 \\xed\\x8b\\xb0\\xec\\xa0\\x80</strong>\\n\\t\\t\\t\\t\\t\\t\\t\\t<div class=\"source_wrap\">\\n\\t\\t\\t\\t\\t\\t\\t\\t\\t\\n\\t\\t\\t\\t\\t\\t\\t\\t\\t\\t<span class=\"date\">4\\xeb\\xb6\\x84 \\xec\\xa0\\x84</span>\\n\\t\\t\\t\\t\\t\\t\\t\\t\\t\\t<span class=\"source\">\\n\\t\\t\\t\\t\\t\\t\\t\\t\\t\\t\\t\\n\\t\\t\\t\\t\\t\\t\\t\\t\\t\\t<span class=\"source_inner\">\\xec\\x8d\\xb8\\xed\\x95\\x91</span>\\n\\t\\t\\t\\t\\t\\t\\t\\t\\t\\t</span>\\n\\t\\t\\t\\t\\t\\t\\t\\t\\t\\n\\t\\t\\t\\t\\t\\t\\t\\t</div>\\n\\t\\t\\t\\t\\t\\t\\t</div>\\n\\t\\t\\t\\t\\t\\t</div>\\n\\t\\t\\t\\t\\t</a>\\n\\t\\t\\t\\t\\n\\t\\t\\t\\n\\t\\t\\t\\t\\n\\t\\t\\t\\t\\t<a href=\"https://tv.naver.com/v/31440126\" class=\"media_area\" data-da-position=\"true\" data-gdid=\"PC-THEME-ENTER-RANKING-1[materials][7]\"\\n\\t\\t\\t\\t\\t   data-clk=\"tcc_tvc.list2cont8\" target=\"_blank\">\\n\\t\\t\\t\\t\\t\\t<div class=\"media_thumb\">\\n\\t\\t\\t\\t\\t\\t\\t<img src=\"https://s.pstatic.net/dthumb.phinf/?src&#x3D;%22https%3A%2F%2Fs.pstatic.net%2Ftvcast.phinf%2F20221208_8%2FjGx0g_16704756941001rmfw_JPEG%2F20221208_134635_264_1.jpg%22&amp;type&#x3D;nf464_260\"\\n\\t\\t\\t\\t\\t\\t\\t     data-src=\"https://s.pstatic.net/dthumb.phinf/?src&#x3D;%22https%3A%2F%2Fs.pstatic.net%2Ftvcast.phinf%2F20221208_8%2FjGx0g_16704756941001rmfw_JPEG%2F20221208_134635_264_1.jpg%22&amp;type&#x3D;nf464_260\" alt=\"\" width=\"232\" height=\"130\"\\n\\t\\t\\t\\t\\t\\t\\t     onerror=\"this.outerHTML=\\'<span class=\\\\\\'pm_noimg\\\\\\'><span class=\\\\\\'noimg_text\\\\\\'>\\xec\\x9d\\xb4\\xeb\\xaf\\xb8\\xec\\xa7\\x80 \\xec\\xa4\\x80\\xeb\\xb9\\x84\\xec\\xa4\\x91</span></span>\\'\">\\n\\n\\t\\t\\t\\t\\t\\t\\t\\n\\t\\t\\t\\t\\t\\t\\t\\t<span class=\"thumb_dim\"></span>\\n\\t\\t\\t\\t\\t\\t\\t\\t<span class=\"thumb_bd\"></span>\\n\\t\\t\\t\\t\\t\\t\\t\\t<i class=\"pm_ico_play\"><span class=\"blind\">\\xec\\x9e\\xac\\xec\\x83\\x9d</span></i>\\n\\t\\t\\t\\t\\t\\t\\t\\t<span class=\"theme_runtime\"><span class=\"runtime_bg\">\\xec\\x9e\\xac\\xec\\x83\\x9d\\xec\\x8b\\x9c\\xea\\xb0\\x84</span><em\\n\\t\\t\\t\\t\\t\\t\\t\\t\\t\\tclass=\"time\">4:03</em></span>\\n\\t\\t\\t\\t\\t\\t\\t\\n\\t\\t\\t\\t\\t\\t</div>\\n\\t\\t\\t\\t\\t\\t<div class=\"media_info\">\\n\\t\\t\\t\\t\\t\\t\\t<div class=\"info_box\">\\n\\t\\t\\t\\t\\t\\t\\t\\t\\n\\t\\t\\t\\t\\t\\t\\t\\t\\t<em class=\"theme_category\">TV \\xeb\\x93\\x9c\\xeb\\x9d\\xbc\\xeb\\xa7\\x88</em>\\n\\t\\t\\t\\t\\t\\t\\t\\t\\n\\t\\t\\t\\t\\t\\t\\t\\t\\n\\t\\t\\t\\t\\t\\t\\t\\t<strong class=\"title \">[\\xeb\\xa9\\x94\\xec\\x9d\\xb4\\xed\\x82\\xb9] \\xeb\\x82\\xae\\xeb\\xa7\\x90\\xec\\x9d\\x84 \\xec\\x83\\x88\\xf0\\x9f\\x90\\xa6\\xea\\xb0\\x80 \\xeb\\x93\\xa3\\xea\\xb3\\xa0 \\xea\\xb0\\xa4\\xeb\\x9f\\xac\\xeb\\xa6\\xac\\xeb\\x8a\\x94 \\xec\\x84\\xb1\\xec\\xa4\\x80\\xec\\x9d\\xb4\\xf0\\x9f\\x91\\x80\\xea\\xb0\\x80 \\xeb\\xb3\\xb8\\xeb\\x8b\\xa4... | \\xec\\x9e\\xac\\xeb\\xb2\\x8c\\xec\\xa7\\x91 \\xeb\\xa7\\x89\\xeb\\x82\\xb4\\xec\\x95\\x84\\xeb\\x93\\xa4 \\xf0\\x9f\\x95\\xa5 EP.23</strong>\\n\\t\\t\\t\\t\\t\\t\\t\\t<div class=\"source_wrap\">\\n\\t\\t\\t\\t\\t\\t\\t\\t\\t\\n\\t\\t\\t\\t\\t\\t\\t\\t\\t\\t<span class=\"date\">7\\xec\\x8b\\x9c\\xea\\xb0\\x84 \\xec\\xa0\\x84</span>\\n\\t\\t\\t\\t\\t\\t\\t\\t\\t\\t<span class=\"source\">\\n\\t\\t\\t\\t\\t\\t\\t\\t\\t\\t\\t\\n\\t\\t\\t\\t\\t\\t\\t\\t\\t\\t<span class=\"source_inner\">\\xec\\x9e\\xac\\xeb\\xb2\\x8c\\xec\\xa7\\x91 \\xeb\\xa7\\x89\\xeb\\x82\\xb4\\xec\\x95\\x84\\xeb\\x93\\xa4</span>\\n\\t\\t\\t\\t\\t\\t\\t\\t\\t\\t</span>\\n\\t\\t\\t\\t\\t\\t\\t\\t\\t\\n\\t\\t\\t\\t\\t\\t\\t\\t</div>\\n\\t\\t\\t\\t\\t\\t\\t</div>\\n\\t\\t\\t\\t\\t\\t</div>\\n\\t\\t\\t\\t\\t</a>\\n\\t\\t\\t\\t\\n\\t\\t\\t\\n\\t\\t\\t\\t\\n\\t\\t\\t\\t\\t<a href=\"https://tv.naver.com/v/31437320\" class=\"media_area\" data-da-position=\"true\" data-gdid=\"PC-THEME-ENTER-RANKING-1[materials][8]\"\\n\\t\\t\\t\\t\\t   data-clk=\"tcc_tvc.list2cont9\" target=\"_blank\">\\n\\t\\t\\t\\t\\t\\t<div class=\"media_thumb\">\\n\\t\\t\\t\\t\\t\\t\\t<img src=\"https://s.pstatic.net/dthumb.phinf/?src&#x3D;%22https%3A%2F%2Fs.pstatic.net%2Ftvcast.phinf%2F20221208_275%2F5ccw9_1670469993847AV8SN_JPEG%2F2ba7747d-23c6-435a-a357-379c69483dc7_B.jpg%22&amp;type&#x3D;nf464_260\"\\n\\t\\t\\t\\t\\t\\t\\t     data-src=\"https://s.pstatic.net/dthumb.phinf/?src&#x3D;%22https%3A%2F%2Fs.pstatic.net%2Ftvcast.phinf%2F20221208_275%2F5ccw9_1670469993847AV8SN_JPEG%2F2ba7747d-23c6-435a-a357-379c69483dc7_B.jpg%22&amp;type&#x3D;nf464_260\" alt=\"\" width=\"232\" height=\"130\"\\n\\t\\t\\t\\t\\t\\t\\t     onerror=\"this.outerHTML=\\'<span class=\\\\\\'pm_noimg\\\\\\'><span class=\\\\\\'noimg_text\\\\\\'>\\xec\\x9d\\xb4\\xeb\\xaf\\xb8\\xec\\xa7\\x80 \\xec\\xa4\\x80\\xeb\\xb9\\x84\\xec\\xa4\\x91</span></span>\\'\">\\n\\n\\t\\t\\t\\t\\t\\t\\t\\n\\t\\t\\t\\t\\t\\t\\t\\t<span class=\"thumb_dim\"></span>\\n\\t\\t\\t\\t\\t\\t\\t\\t<span class=\"thumb_bd\"></span>\\n\\t\\t\\t\\t\\t\\t\\t\\t<i class=\"pm_ico_play\"><span class=\"blind\">\\xec\\x9e\\xac\\xec\\x83\\x9d</span></i>\\n\\t\\t\\t\\t\\t\\t\\t\\t<span class=\"theme_runtime\"><span class=\"runtime_bg\">\\xec\\x9e\\xac\\xec\\x83\\x9d\\xec\\x8b\\x9c\\xea\\xb0\\x84</span><em\\n\\t\\t\\t\\t\\t\\t\\t\\t\\t\\tclass=\"time\">4:35</em></span>\\n\\t\\t\\t\\t\\t\\t\\t\\n\\t\\t\\t\\t\\t\\t</div>\\n\\t\\t\\t\\t\\t\\t<div class=\"media_info\">\\n\\t\\t\\t\\t\\t\\t\\t<div class=\"info_box\">\\n\\t\\t\\t\\t\\t\\t\\t\\t\\n\\t\\t\\t\\t\\t\\t\\t\\t\\t<em class=\"theme_category\">TV \\xec\\x98\\x88\\xeb\\x8a\\xa5</em>\\n\\t\\t\\t\\t\\t\\t\\t\\t\\n\\t\\t\\t\\t\\t\\t\\t\\t\\n\\t\\t\\t\\t\\t\\t\\t\\t<strong class=\"title \">[\\xec\\x84\\xa0\\xea\\xb3\\xb5\\xea\\xb0\\x9c] \\xec\\xa0\\x95\\xed\\x95\\xb4\\xec\\x9d\\xb8\\xe2\\x86\\x92\\xea\\xb9\\x80\\xec\\x9c\\xa0\\xec\\xa0\\x95, \\xec\\x86\\x90\\xeb\\x8b\\x98\\xeb\\xa7\\x8c 41\\xeb\\xaa\\x85! \\xed\\x9e\\x90\\xeb\\xa7\\x81 \\xea\\xb7\\xb8 \\xec\\x9e\\xa1\\xec\\xb1\\x84 \\'\\xeb\\xb0\\x94\\xeb\\x8b\\xac\\xec\\xa7\\x91\\'</strong>\\n\\t\\t\\t\\t\\t\\t\\t\\t<div class=\"source_wrap\">\\n\\t\\t\\t\\t\\t\\t\\t\\t\\t\\n\\t\\t\\t\\t\\t\\t\\t\\t\\t\\t<span class=\"date\">8\\xec\\x8b\\x9c\\xea\\xb0\\x84 \\xec\\xa0\\x84</span>\\n\\t\\t\\t\\t\\t\\t\\t\\t\\t\\t<span class=\"source\">\\n\\t\\t\\t\\t\\t\\t\\t\\t\\t\\t\\t\\n\\t\\t\\t\\t\\t\\t\\t\\t\\t\\t<span class=\"source_inner\">\\xeb\\xb0\\x94\\xed\\x80\\xb4 \\xeb\\x8b\\xac\\xeb\\xa6\\xb0 \\xec\\xa7\\x914</span>\\n\\t\\t\\t\\t\\t\\t\\t\\t\\t\\t</span>\\n\\t\\t\\t\\t\\t\\t\\t\\t\\t\\n\\t\\t\\t\\t\\t\\t\\t\\t</div>\\n\\t\\t\\t\\t\\t\\t\\t</div>\\n\\t\\t\\t\\t\\t\\t</div>\\n\\t\\t\\t\\t\\t</a>\\n\\t\\t\\t\\t\\n\\t\\t\\t\\n\\t\\t</div>\\n\\t</div>\\n</div>\\n\\n<div class=\"group_theme _NM_API_UI\" data-ui-circular=\"false\" data-block-id=\"5e5753e0d6902f284e257c99\" data-block-code=\"PC-THEME-ENTER-VIBE-MAGAZINES\" data-block-type=\"BLOCKS\" data-template-code=\"THEME-ENTER-VIBE-MAGAZINES\"\\n\\n\\t>\\n  <div class=\"theme_title\">\\n    <a href=\"https://vibe.naver.com/magazines\" target=\"_blank\" class=\"title\"\\n      data-clk=\"tcc_tvc.vmagmore\">VIBE MAG</a>\\n  </div>\\n  <div class=\"poster_view_wrap type_album \">\\n    <a href=\"#\" target=\"_blank\" role=\"button\" class=\"pm_btn_prev _NM_UI_PAGE_PREV\"\\n      data-clk=\"tcc_tvc.vmagflkp\"><i class=\"ico_btn\"><span class=\"blind\">\\xec\\x9d\\xb4\\xec\\xa0\\x84</span></i></a>\\n    <a href=\"#\" target=\"_blank\" role=\"button\" class=\"pm_btn_next _NM_UI_PAGE_NEXT\"\\n      data-clk=\"tcc_tvc.vmagflkn\"><i class=\"ico_btn\"><span class=\"blind\">\\xeb\\x8b\\xa4\\xec\\x9d\\x8c</span></i></a>\\n    <div class=\"_NM_UI_PAGE_CONTAINER\" style=\"height: 254px;\">\\n      \\n      <div class=\"poster_view\" style=\"width: 100%;\">\\n        \\n        <a href=\"https://vibe.naver.com/magazines/62245\" target=\"_blank\" class=\"poster_area\"\\n          data-clk=\"tcc_tvc.vmagcontent1\">\\n          <div class=\"poster_thumb\"><img src=\"https://s.pstatic.net/dthumb.phinf/?src&#x3D;%22https%3A%2F%2Fmusic-phinf.pstatic.net%2F20221206_51%2F1670304686445OnYOy_JPEG%2F%25C4%25BF%25B9%25F61.jpg%22&amp;type&#x3D;navermain_n260_260\" alt=\"\" width=\"130\"\\n              height=\"130\" onerror=\"this.outerHTML=\\'<span class=\\\\\\'pm_noimg\\\\\\'><span class=\\\\\\'noimg_text\\\\\\'>\\xec\\x9d\\xb4\\xeb\\xaf\\xb8\\xec\\xa7\\x80 \\xec\\xa4\\x80\\xeb\\xb9\\x84\\xec\\xa4\\x91</span></span>\\'\"><span class=\"thumb_bd\"></span></div>\\n          <div class=\"poster_info\">\\n            <strong class=\"title\">\\xec\\x9d\\xb4\\xec\\xa3\\xbc\\xec\\x9d\\x98 \\xeb\\x94\\x94\\xea\\xb9\\x85 #148  \\xeb\\x93\\x9c\\xeb\\xa0\\x88\\xec\\x9d\\xb4\\xed\\x81\\xac</strong>\\n            <span class=\"dsc\">2022.12.06</span>\\n          </div>\\n        </a>\\n        \\n        <a href=\"https://vibe.naver.com/magazines/62244\" target=\"_blank\" class=\"poster_area\"\\n          data-clk=\"tcc_tvc.vmagcontent2\">\\n          <div class=\"poster_thumb\"><img src=\"https://s.pstatic.net/dthumb.phinf/?src&#x3D;%22https%3A%2F%2Fmusic-phinf.pstatic.net%2F20221205_282%2F1670225500747aIc8T_JPEG%2F%25C4%25BF%25B9%25F61.jpg%22&amp;type&#x3D;navermain_n260_260\" alt=\"\" width=\"130\"\\n              height=\"130\" onerror=\"this.outerHTML=\\'<span class=\\\\\\'pm_noimg\\\\\\'><span class=\\\\\\'noimg_text\\\\\\'>\\xec\\x9d\\xb4\\xeb\\xaf\\xb8\\xec\\xa7\\x80 \\xec\\xa4\\x80\\xeb\\xb9\\x84\\xec\\xa4\\x91</span></span>\\'\"><span class=\"thumb_bd\"></span></div>\\n          <div class=\"poster_info\">\\n            <strong class=\"title\">New Release #121 :  RM, \\xed\\x8a\\xb8\\xeb\\xa1\\x9c\\xec\\x9d\\xb4 \\xec\\x8b\\x9c\\xeb\\xb0\\x98</strong>\\n            <span class=\"dsc\">2022.12.05</span>\\n          </div>\\n        </a>\\n        \\n        <a href=\"https://vibe.naver.com/magazines/62243\" target=\"_blank\" class=\"poster_area\"\\n          data-clk=\"tcc_tvc.vmagcontent3\">\\n          <div class=\"poster_thumb\"><img src=\"https://s.pstatic.net/dthumb.phinf/?src&#x3D;%22https%3A%2F%2Fmusic-phinf.pstatic.net%2F20221202_178%2F1669965733146Y9uBA_JPEG%2F%25C4%25BF%25B9%25F61.jpg%22&amp;type&#x3D;navermain_n260_260\" alt=\"\" width=\"130\"\\n              height=\"130\" onerror=\"this.outerHTML=\\'<span class=\\\\\\'pm_noimg\\\\\\'><span class=\\\\\\'noimg_text\\\\\\'>\\xec\\x9d\\xb4\\xeb\\xaf\\xb8\\xec\\xa7\\x80 \\xec\\xa4\\x80\\xeb\\xb9\\x84\\xec\\xa4\\x91</span></span>\\'\"><span class=\"thumb_bd\"></span></div>\\n          <div class=\"poster_info\">\\n            <strong class=\"title\">\\xec\\x88\\x8f\\xed\\x8f\\xbc\\xec\\x9c\\xbc\\xeb\\xa1\\x9c \\xec\\x97\\xad\\xec\\xa3\\xbc\\xed\\x96\\x89 :  \\xec\\x9c\\xa4\\xed\\x95\\x98, \\xeb\\xb0\\xb1\\xec\\x95\\x84</strong>\\n            <span class=\"dsc\">2022.12.02</span>\\n          </div>\\n        </a>\\n        \\n        <a href=\"https://vibe.naver.com/magazines/62242\" target=\"_blank\" class=\"poster_area\"\\n          data-clk=\"tcc_tvc.vmagcontent4\">\\n          <div class=\"poster_thumb\"><img src=\"https://s.pstatic.net/dthumb.phinf/?src&#x3D;%22https%3A%2F%2Fmusic-phinf.pstatic.net%2F20221128_268%2F166961871726150irh_JPEG%2F%25C4%25BF%25B9%25F61.jpg%22&amp;type&#x3D;navermain_n260_260\" alt=\"\" width=\"130\"\\n              height=\"130\" onerror=\"this.outerHTML=\\'<span class=\\\\\\'pm_noimg\\\\\\'><span class=\\\\\\'noimg_text\\\\\\'>\\xec\\x9d\\xb4\\xeb\\xaf\\xb8\\xec\\xa7\\x80 \\xec\\xa4\\x80\\xeb\\xb9\\x84\\xec\\xa4\\x91</span></span>\\'\"><span class=\"thumb_bd\"></span></div>\\n          <div class=\"poster_info\">\\n            <strong class=\"title\">New Release #120 :  \\xeb\\xb3\\xb4\\xec\\x95\\x84, \\xec\\xa7\\x80\\xeb\\xaf\\xb8 \\xed\\x97\\xa8\\xeb\\x93\\x9c\\xeb\\xa6\\xad\\xec\\x8a\\xa4</strong>\\n            <span class=\"dsc\">2022.11.28</span>\\n          </div>\\n        </a>\\n        \\n        <a href=\"https://vibe.naver.com/magazines/62238\" target=\"_blank\" class=\"poster_area\"\\n          data-clk=\"tcc_tvc.vmagcontent5\">\\n          <div class=\"poster_thumb\"><img src=\"https://s.pstatic.net/dthumb.phinf/?src&#x3D;%22https%3A%2F%2Fmusic-phinf.pstatic.net%2F20221125_16%2F1669365474335untU3_JPEG%2F%25C4%25BF%25B9%25F61.jpg%22&amp;type&#x3D;navermain_n260_260\" alt=\"\" width=\"130\"\\n              height=\"130\" onerror=\"this.outerHTML=\\'<span class=\\\\\\'pm_noimg\\\\\\'><span class=\\\\\\'noimg_text\\\\\\'>\\xec\\x9d\\xb4\\xeb\\xaf\\xb8\\xec\\xa7\\x80 \\xec\\xa4\\x80\\xeb\\xb9\\x84\\xec\\xa4\\x91</span></span>\\'\"><span class=\"thumb_bd\"></span></div>\\n          <div class=\"poster_info\">\\n            <strong class=\"title\">\\xeb\\xa0\\x88\\xec\\xa0\\x84\\xeb\\x93\\x9c \\xea\\xb7\\xb8 \\xec\\x9e\\x90\\xec\\xb2\\xb4  \\xed\\x9e\\x99\\xed\\x95\\xa9\\xed\\x8c\\x80</strong>\\n            <span class=\"dsc\">2022.11.25</span>\\n          </div>\\n        </a>\\n        \\n      </div>\\n      \\n      <div class=\"poster_view\" style=\"width: 100%;\">\\n        \\n        <a href=\"https://vibe.naver.com/magazines/62234\" target=\"_blank\" class=\"poster_area\"\\n          data-clk=\"tcc_tvc.vmagcontent6\">\\n          <div class=\"poster_thumb\"><img src=\"https://s.pstatic.net/dthumb.phinf/?src&#x3D;%22https%3A%2F%2Fmusic-phinf.pstatic.net%2F20221123_28%2F1669182829681BKTIW_JPEG%2F%25C4%25BF%25B9%25F61.jpg%22&amp;type&#x3D;navermain_n260_260\" alt=\"\" width=\"130\"\\n              height=\"130\" onerror=\"this.outerHTML=\\'<span class=\\\\\\'pm_noimg\\\\\\'><span class=\\\\\\'noimg_text\\\\\\'>\\xec\\x9d\\xb4\\xeb\\xaf\\xb8\\xec\\xa7\\x80 \\xec\\xa4\\x80\\xeb\\xb9\\x84\\xec\\xa4\\x91</span></span>\\'\"><span class=\"thumb_bd\"></span></div>\\n          <div class=\"poster_info\">\\n            <strong class=\"title\">Only  \\xea\\xb0\\x80\\xed\\x98\\xb8</strong>\\n            <span class=\"dsc\">2022.11.23</span>\\n          </div>\\n        </a>\\n        \\n        <a href=\"https://vibe.naver.com/magazines/62233\" target=\"_blank\" class=\"poster_area\"\\n          data-clk=\"tcc_tvc.vmagcontent7\">\\n          <div class=\"poster_thumb\"><img src=\"https://s.pstatic.net/dthumb.phinf/?src&#x3D;%22https%3A%2F%2Fmusic-phinf.pstatic.net%2F20221122_92%2F1669080444505USy6g_JPEG%2F%25C4%25BF%25B9%25F61.jpg%22&amp;type&#x3D;navermain_n260_260\" alt=\"\" width=\"130\"\\n              height=\"130\" onerror=\"this.outerHTML=\\'<span class=\\\\\\'pm_noimg\\\\\\'><span class=\\\\\\'noimg_text\\\\\\'>\\xec\\x9d\\xb4\\xeb\\xaf\\xb8\\xec\\xa7\\x80 \\xec\\xa4\\x80\\xeb\\xb9\\x84\\xec\\xa4\\x91</span></span>\\'\"><span class=\"thumb_bd\"></span></div>\\n          <div class=\"poster_info\">\\n            <strong class=\"title\">\\xec\\x9d\\xb4\\xec\\xa3\\xbc\\xec\\x9d\\x98 \\xeb\\x94\\x94\\xea\\xb9\\x85 #147  \\xec\\xa1\\xb0\\xec\\x9a\\xa9\\xed\\x95\\x84</strong>\\n            <span class=\"dsc\">2022.11.22</span>\\n          </div>\\n        </a>\\n        \\n        <a href=\"https://vibe.naver.com/magazines/62232\" target=\"_blank\" class=\"poster_area\"\\n          data-clk=\"tcc_tvc.vmagcontent8\">\\n          <div class=\"poster_thumb\"><img src=\"https://s.pstatic.net/dthumb.phinf/?src&#x3D;%22https%3A%2F%2Fmusic-phinf.pstatic.net%2F20221121_142%2F1669015645587rXJAz_JPEG%2F%25C4%25BF%25B9%25F61.jpg%22&amp;type&#x3D;navermain_n260_260\" alt=\"\" width=\"130\"\\n              height=\"130\" onerror=\"this.outerHTML=\\'<span class=\\\\\\'pm_noimg\\\\\\'><span class=\\\\\\'noimg_text\\\\\\'>\\xec\\x9d\\xb4\\xeb\\xaf\\xb8\\xec\\xa7\\x80 \\xec\\xa4\\x80\\xeb\\xb9\\x84\\xec\\xa4\\x91</span></span>\\'\"><span class=\"thumb_bd\"></span></div>\\n          <div class=\"poster_info\">\\n            <strong class=\"title\">New Release #119 :  \\xec\\xa1\\xb4 \\xec\\xbc\\x80\\xec\\x9d\\xb4, \\xec\\xa1\\xb0\\xec\\x9a\\xa9\\xed\\x95\\x84</strong>\\n            <span class=\"dsc\">2022.11.21</span>\\n          </div>\\n        </a>\\n        \\n        <a href=\"https://vibe.naver.com/magazines/62230\" target=\"_blank\" class=\"poster_area\"\\n          data-clk=\"tcc_tvc.vmagcontent9\">\\n          <div class=\"poster_thumb\"><img src=\"https://s.pstatic.net/dthumb.phinf/?src&#x3D;%22https%3A%2F%2Fmusic-phinf.pstatic.net%2F20221116_253%2F1668565137519Wl1R0_JPEG%2F%25C4%25BF%25B9%25F61.jpg%22&amp;type&#x3D;navermain_n260_260\" alt=\"\" width=\"130\"\\n              height=\"130\" onerror=\"this.outerHTML=\\'<span class=\\\\\\'pm_noimg\\\\\\'><span class=\\\\\\'noimg_text\\\\\\'>\\xec\\x9d\\xb4\\xeb\\xaf\\xb8\\xec\\xa7\\x80 \\xec\\xa4\\x80\\xeb\\xb9\\x84\\xec\\xa4\\x91</span></span>\\'\"><span class=\"thumb_bd\"></span></div>\\n          <div class=\"poster_info\">\\n            <strong class=\"title\">NEXTREND :  CLASS:y(\\xed\\x81\\xb4\\xeb\\x9d\\xbc\\xec\\x94\\xa8)</strong>\\n            <span class=\"dsc\">2022.11.16</span>\\n          </div>\\n        </a>\\n        \\n        <a href=\"https://vibe.naver.com/magazines/62229\" target=\"_blank\" class=\"poster_area\"\\n          data-clk=\"tcc_tvc.vmagcontent10\">\\n          <div class=\"poster_thumb\"><img src=\"https://s.pstatic.net/dthumb.phinf/?src&#x3D;%22https%3A%2F%2Fmusic-phinf.pstatic.net%2F20221116_44%2F16685619072863BKgh_JPEG%2F%25C4%25BF%25B9%25F61.jpg%22&amp;type&#x3D;navermain_n260_260\" alt=\"\" width=\"130\"\\n              height=\"130\" onerror=\"this.outerHTML=\\'<span class=\\\\\\'pm_noimg\\\\\\'><span class=\\\\\\'noimg_text\\\\\\'>\\xec\\x9d\\xb4\\xeb\\xaf\\xb8\\xec\\xa7\\x80 \\xec\\xa4\\x80\\xeb\\xb9\\x84\\xec\\xa4\\x91</span></span>\\'\"><span class=\"thumb_bd\"></span></div>\\n          <div class=\"poster_info\">\\n            <strong class=\"title\">\\xec\\x98\\xa8\\xec\\xa0\\x84\\xed\\x95\\x9c  \\xec\\x9c\\xa0\\xec\\x95\\x84\\xeb\\xa7\\x8c\\xec\\x9d\\x98 \\xec\\x8b\\x9c\\xea\\xb0\\x84</strong>\\n            <span class=\"dsc\">2022.11.16</span>\\n          </div>\\n        </a>\\n        \\n      </div>\\n      \\n    </div>\\n  </div>\\n</div>\\n\\n<div class=\"group_theme\" data-block-id=\"5db0bbf2d6902f284eaffb6d\" data-block-code=\"PC-THEME-ENTER-RANKING-2\" data-block-type=\"MATERIALS\" data-template-code=\"3X3\"\\n\\n     data-page=\"2\"\\n     style=\"display:none\">\\n\\n\\t<div class=\"media_view_wrap type_column\">\\n\\t\\t<div class=\"media_view\">\\n\\t\\t\\t\\n\\t\\t\\t\\t\\n\\t\\t\\t\\t\\t<a href=\"https://tv.naver.com/v/30944228\" class=\"media_area\" data-da-position=\"true\" data-gdid=\"PC-THEME-ENTER-RANKING-2[materials][0]\"\\n\\t\\t\\t\\t\\t   data-clk=\"tcc_tvc.list3cont1\" target=\"_blank\">\\n\\t\\t\\t\\t\\t\\t<div class=\"media_thumb\">\\n\\t\\t\\t\\t\\t\\t\\t<img \\n\\t\\t\\t\\t\\t\\t\\t     data-src=\"https://s.pstatic.net/dthumb.phinf/?src&#x3D;%22https%3A%2F%2Fphinf.pstatic.net%2Ftvcast%2F20221121_167%2FVggHF_1669006728118x5Wmp_JPEG%2F1669006664998.jpg%22&amp;type&#x3D;nf464_260\" alt=\"\" width=\"232\" height=\"130\"\\n\\t\\t\\t\\t\\t\\t\\t     onerror=\"this.outerHTML=\\'<span class=\\\\\\'pm_noimg\\\\\\'><span class=\\\\\\'noimg_text\\\\\\'>\\xec\\x9d\\xb4\\xeb\\xaf\\xb8\\xec\\xa7\\x80 \\xec\\xa4\\x80\\xeb\\xb9\\x84\\xec\\xa4\\x91</span></span>\\'\">\\n\\n\\t\\t\\t\\t\\t\\t\\t\\n\\t\\t\\t\\t\\t\\t\\t\\t<span class=\"thumb_dim\"></span>\\n\\t\\t\\t\\t\\t\\t\\t\\t<span class=\"thumb_bd\"></span>\\n\\t\\t\\t\\t\\t\\t\\t\\t<i class=\"pm_ico_play\"><span class=\"blind\">\\xec\\x9e\\xac\\xec\\x83\\x9d</span></i>\\n\\t\\t\\t\\t\\t\\t\\t\\t<span class=\"theme_runtime\"><span class=\"runtime_bg\">\\xec\\x9e\\xac\\xec\\x83\\x9d\\xec\\x8b\\x9c\\xea\\xb0\\x84</span><em\\n\\t\\t\\t\\t\\t\\t\\t\\t\\t\\tclass=\"time\">1:0</em></span>\\n\\t\\t\\t\\t\\t\\t\\t\\n\\t\\t\\t\\t\\t\\t</div>\\n\\t\\t\\t\\t\\t\\t<div class=\"media_info\">\\n\\t\\t\\t\\t\\t\\t\\t<div class=\"info_box\">\\n\\t\\t\\t\\t\\t\\t\\t\\t\\n\\t\\t\\t\\t\\t\\t\\t\\t\\t<em class=\"theme_category\">\\xec\\x9b\\xb9\\xeb\\x93\\x9c\\xeb\\x9d\\xbc\\xeb\\xa7\\x88</em>\\n\\t\\t\\t\\t\\t\\t\\t\\t\\n\\t\\t\\t\\t\\t\\t\\t\\t\\n\\t\\t\\t\\t\\t\\t\\t\\t<strong class=\"title \">\\xec\\x82\\xac\\xeb\\x9d\\xbc\\xec\\xa7\\x84 \\xec\\xb2\\x9c\\xec\\x9e\\xac CEO, \\xec\\x8a\\xa4\\xeb\\xa7\\x88\\xed\\x8a\\xb8\\xed\\x8f\\xb0\\xec\\x97\\x90 \\xea\\xb0\\x87\\xed\\x98\\x94\\xeb\\x8b\\xa4..? \\'\\xec\\x82\\xac\\xec\\x9e\\xa5\\xeb\\x8b\\x98\\xec\\x9d\\x84 \\xec\\x9e\\xa0\\xea\\xb8\\x88\\xed\\x95\\xb4\\xec\\xa0\\x9c\\'</strong>\\n\\t\\t\\t\\t\\t\\t\\t\\t<div class=\"source_wrap\">\\n\\t\\t\\t\\t\\t\\t\\t\\t\\t\\n\\t\\t\\t\\t\\t\\t\\t\\t\\t\\t<span class=\"date\">4\\xeb\\xb6\\x84 \\xec\\xa0\\x84</span>\\n\\t\\t\\t\\t\\t\\t\\t\\t\\t\\t<span class=\"source\">\\n\\t\\t\\t\\t\\t\\t\\t\\t\\t\\t\\t\\n\\t\\t\\t\\t\\t\\t\\t\\t\\t\\t<span class=\"source_inner\">\\xeb\\x84\\xa4\\xec\\x9d\\xb4\\xeb\\xb2\\x84 \\xec\\x9b\\xb9\\xed\\x88\\xb0</span>\\n\\t\\t\\t\\t\\t\\t\\t\\t\\t\\t</span>\\n\\t\\t\\t\\t\\t\\t\\t\\t\\t\\n\\t\\t\\t\\t\\t\\t\\t\\t</div>\\n\\t\\t\\t\\t\\t\\t\\t</div>\\n\\t\\t\\t\\t\\t\\t</div>\\n\\t\\t\\t\\t\\t</a>\\n\\t\\t\\t\\t\\n\\t\\t\\t\\n\\t\\t\\t\\t\\n\\t\\t\\t\\t\\t<a href=\"https://tv.naver.com/v/31451508\" class=\"media_area\" data-da-position=\"true\" data-gdid=\"PC-THEME-ENTER-RANKING-2[materials][1]\"\\n\\t\\t\\t\\t\\t   data-clk=\"tcc_tvc.list3cont2\" target=\"_blank\">\\n\\t\\t\\t\\t\\t\\t<div class=\"media_thumb\">\\n\\t\\t\\t\\t\\t\\t\\t<img \\n\\t\\t\\t\\t\\t\\t\\t     data-src=\"https://s.pstatic.net/dthumb.phinf/?src&#x3D;%22https%3A%2F%2Fs.pstatic.net%2Ftvcast.phinf%2F20221208_137%2FgvM34_1670495795551CvpRJ_JPEG%2Fclip_20221208192825_48.jpg%22&amp;type&#x3D;nf464_260\" alt=\"\" width=\"232\" height=\"130\"\\n\\t\\t\\t\\t\\t\\t\\t     onerror=\"this.outerHTML=\\'<span class=\\\\\\'pm_noimg\\\\\\'><span class=\\\\\\'noimg_text\\\\\\'>\\xec\\x9d\\xb4\\xeb\\xaf\\xb8\\xec\\xa7\\x80 \\xec\\xa4\\x80\\xeb\\xb9\\x84\\xec\\xa4\\x91</span></span>\\'\">\\n\\n\\t\\t\\t\\t\\t\\t\\t\\n\\t\\t\\t\\t\\t\\t\\t\\t<span class=\"thumb_dim\"></span>\\n\\t\\t\\t\\t\\t\\t\\t\\t<span class=\"thumb_bd\"></span>\\n\\t\\t\\t\\t\\t\\t\\t\\t<i class=\"pm_ico_play\"><span class=\"blind\">\\xec\\x9e\\xac\\xec\\x83\\x9d</span></i>\\n\\t\\t\\t\\t\\t\\t\\t\\t<span class=\"theme_runtime\"><span class=\"runtime_bg\">\\xec\\x9e\\xac\\xec\\x83\\x9d\\xec\\x8b\\x9c\\xea\\xb0\\x84</span><em\\n\\t\\t\\t\\t\\t\\t\\t\\t\\t\\tclass=\"time\">3:14</em></span>\\n\\t\\t\\t\\t\\t\\t\\t\\n\\t\\t\\t\\t\\t\\t</div>\\n\\t\\t\\t\\t\\t\\t<div class=\"media_info\">\\n\\t\\t\\t\\t\\t\\t\\t<div class=\"info_box\">\\n\\t\\t\\t\\t\\t\\t\\t\\t\\n\\t\\t\\t\\t\\t\\t\\t\\t\\t<em class=\"theme_category\">TV \\xeb\\x93\\x9c\\xeb\\x9d\\xbc\\xeb\\xa7\\x88</em>\\n\\t\\t\\t\\t\\t\\t\\t\\t\\n\\t\\t\\t\\t\\t\\t\\t\\t\\n\\t\\t\\t\\t\\t\\t\\t\\t<strong class=\"title \">\\xef\\xbc\\x82\\xeb\\x8b\\xb9\\xec\\x8b\\xa0 \\xeb\\x81\\x8c\\xec\\x96\\xb4\\xeb\\x82\\xb4\\xeb\\xa6\\xac\\xea\\xb3\\xa0, \\xec\\xb2\\x9c\\xed\\x95\\x98\\xea\\xb0\\x80 \\xeb\\xb0\\x98\\xeb\\x93\\x9c\\xec\\x8b\\x9c \\xeb\\x90\\x98\\xec\\xb0\\xbe\\xec\\x95\\x84\\xec\\x98\\xac \\xea\\xb1\\xb0\\xeb\\x9d\\xbc\\xea\\xb3\\xa0\\xef\\xbc\\x82 \\xeb\\xb0\\x98\\xed\\x9a\\xa8\\xec\\xa0\\x95\\xec\\x97\\x90 \\xeb\\x8c\\x80\\xed\\x95\\x9c \\xeb\\xb6\\x84\\xeb\\x85\\xb8\\xeb\\xa1\\x9c \\xeb\\xb3\\xb5\\xec\\x88\\x98\\xeb\\xa5\\xbc \\xeb\\x8b\\xa4\\xec\\xa7\\x90\\xed\\x95\\x98\\xeb\\x8a\\x94 \\xec\\x9e\\xa5\\xec\\x84\\x9c\\xed\\x9d\\xac, MBC 221208 \\xeb\\xb0\\xa9\\xec\\x86\\xa1</strong>\\n\\t\\t\\t\\t\\t\\t\\t\\t<div class=\"source_wrap\">\\n\\t\\t\\t\\t\\t\\t\\t\\t\\t\\n\\t\\t\\t\\t\\t\\t\\t\\t\\t\\t<span class=\"date\">1\\xec\\x8b\\x9c\\xea\\xb0\\x84 \\xec\\xa0\\x84</span>\\n\\t\\t\\t\\t\\t\\t\\t\\t\\t\\t<span class=\"source\">\\n\\t\\t\\t\\t\\t\\t\\t\\t\\t\\t\\t\\n\\t\\t\\t\\t\\t\\t\\t\\t\\t\\t<span class=\"source_inner\">\\xeb\\xa7\\x88\\xeb\\x85\\x80\\xec\\x9d\\x98 \\xea\\xb2\\x8c\\xec\\x9e\\x84</span>\\n\\t\\t\\t\\t\\t\\t\\t\\t\\t\\t</span>\\n\\t\\t\\t\\t\\t\\t\\t\\t\\t\\n\\t\\t\\t\\t\\t\\t\\t\\t</div>\\n\\t\\t\\t\\t\\t\\t\\t</div>\\n\\t\\t\\t\\t\\t\\t</div>\\n\\t\\t\\t\\t\\t</a>\\n\\t\\t\\t\\t\\n\\t\\t\\t\\n\\t\\t\\t\\t\\n\\t\\t\\t\\t\\t<a href=\"https://tv.naver.com/v/31402235\" class=\"media_area\" data-da-position=\"true\" data-gdid=\"PC-THEME-ENTER-RANKING-2[materials][2]\"\\n\\t\\t\\t\\t\\t   data-clk=\"tcc_tvc.list3cont3\" target=\"_blank\">\\n\\t\\t\\t\\t\\t\\t<div class=\"media_thumb\">\\n\\t\\t\\t\\t\\t\\t\\t<img \\n\\t\\t\\t\\t\\t\\t\\t     data-src=\"https://s.pstatic.net/dthumb.phinf/?src&#x3D;%22https%3A%2F%2Fs.pstatic.net%2Ftvcast.phinf%2F20221207_196%2F7ddOi_1670376683527KOXEG_JPEG%2F1670376531325.jpg%22&amp;type&#x3D;nf464_260\" alt=\"\" width=\"232\" height=\"130\"\\n\\t\\t\\t\\t\\t\\t\\t     onerror=\"this.outerHTML=\\'<span class=\\\\\\'pm_noimg\\\\\\'><span class=\\\\\\'noimg_text\\\\\\'>\\xec\\x9d\\xb4\\xeb\\xaf\\xb8\\xec\\xa7\\x80 \\xec\\xa4\\x80\\xeb\\xb9\\x84\\xec\\xa4\\x91</span></span>\\'\">\\n\\n\\t\\t\\t\\t\\t\\t\\t\\n\\t\\t\\t\\t\\t\\t\\t\\t<span class=\"thumb_dim\"></span>\\n\\t\\t\\t\\t\\t\\t\\t\\t<span class=\"thumb_bd\"></span>\\n\\t\\t\\t\\t\\t\\t\\t\\t<i class=\"pm_ico_play\"><span class=\"blind\">\\xec\\x9e\\xac\\xec\\x83\\x9d</span></i>\\n\\t\\t\\t\\t\\t\\t\\t\\t<span class=\"theme_runtime\"><span class=\"runtime_bg\">\\xec\\x9e\\xac\\xec\\x83\\x9d\\xec\\x8b\\x9c\\xea\\xb0\\x84</span><em\\n\\t\\t\\t\\t\\t\\t\\t\\t\\t\\tclass=\"time\">2:03</em></span>\\n\\t\\t\\t\\t\\t\\t\\t\\n\\t\\t\\t\\t\\t\\t</div>\\n\\t\\t\\t\\t\\t\\t<div class=\"media_info\">\\n\\t\\t\\t\\t\\t\\t\\t<div class=\"info_box\">\\n\\t\\t\\t\\t\\t\\t\\t\\t\\n\\t\\t\\t\\t\\t\\t\\t\\t\\t<em class=\"theme_category\">TV \\xeb\\x93\\x9c\\xeb\\x9d\\xbc\\xeb\\xa7\\x88</em>\\n\\t\\t\\t\\t\\t\\t\\t\\t\\n\\t\\t\\t\\t\\t\\t\\t\\t\\n\\t\\t\\t\\t\\t\\t\\t\\t<strong class=\"title \">[\\xec\\x97\\x90\\xec\\x8a\\xa4\\xed\\x8c\\x8c\\xec\\x9d\\x98 \\xec\\x8b\\xb1\\xed\\x81\\xac\\xeb\\xa1\\x9c\\xeb\\x93\\x9c] \\xec\\xb2\\xab \\xeb\\xa6\\xac\\xec\\x96\\xbc\\xeb\\xa6\\xac\\xed\\x8b\\xb0\\xeb\\xb6\\x80\\xed\\x84\\xb0 \\xec\\x98\\x88\\xeb\\x8a\\xa5\\xea\\xb0\\x90 \\xed\\x84\\xb0\\xec\\xa7\\x84 \\xec\\x97\\x90\\xec\\x8a\\xa4\\xed\\x8c\\x8c | \\xeb\\xa9\\x94\\xec\\x9d\\xb8 \\xed\\x8b\\xb0\\xec\\xa0\\x80 | \\xec\\x9b\\xa8\\xec\\x9d\\xb4\\xeb\\xb8\\x8c \\xec\\x98\\xa4\\xeb\\xa6\\xac\\xec\\xa7\\x80\\xeb\\x84\\x90</strong>\\n\\t\\t\\t\\t\\t\\t\\t\\t<div class=\"source_wrap\">\\n\\t\\t\\t\\t\\t\\t\\t\\t\\t\\n\\t\\t\\t\\t\\t\\t\\t\\t\\t\\t<span class=\"date\">\\xec\\x96\\xb4\\xec\\xa0\\x9c</span>\\n\\t\\t\\t\\t\\t\\t\\t\\t\\t\\t<span class=\"source\">\\n\\t\\t\\t\\t\\t\\t\\t\\t\\t\\t\\t\\n\\t\\t\\t\\t\\t\\t\\t\\t\\t\\t<span class=\"source_inner\">\\xec\\x9b\\xa8\\xec\\x9d\\xb4\\xeb\\xb8\\x8c(Wavve)</span>\\n\\t\\t\\t\\t\\t\\t\\t\\t\\t\\t</span>\\n\\t\\t\\t\\t\\t\\t\\t\\t\\t\\n\\t\\t\\t\\t\\t\\t\\t\\t</div>\\n\\t\\t\\t\\t\\t\\t\\t</div>\\n\\t\\t\\t\\t\\t\\t</div>\\n\\t\\t\\t\\t\\t</a>\\n\\t\\t\\t\\t\\n\\t\\t\\t\\n\\t\\t\\t\\t\\n\\t\\t\\t\\t\\t<a href=\"https://tv.naver.com/v/25007383\" class=\"media_area\" data-da-position=\"true\" data-gdid=\"PC-THEME-ENTER-RANKING-2[materials][3]\"\\n\\t\\t\\t\\t\\t   data-clk=\"tcc_tvc.list3cont4\" target=\"_blank\">\\n\\t\\t\\t\\t\\t\\t<div class=\"media_thumb\">\\n\\t\\t\\t\\t\\t\\t\\t<img \\n\\t\\t\\t\\t\\t\\t\\t     data-src=\"https://s.pstatic.net/dthumb.phinf/?src&#x3D;%22https%3A%2F%2Fphinf.pstatic.net%2Ftvcast%2F20220208_90%2FZ7uWG_1644314034580RHv4q_PNG%2F1644313896713.png%22&amp;type&#x3D;nf464_260\" alt=\"\" width=\"232\" height=\"130\"\\n\\t\\t\\t\\t\\t\\t\\t     onerror=\"this.outerHTML=\\'<span class=\\\\\\'pm_noimg\\\\\\'><span class=\\\\\\'noimg_text\\\\\\'>\\xec\\x9d\\xb4\\xeb\\xaf\\xb8\\xec\\xa7\\x80 \\xec\\xa4\\x80\\xeb\\xb9\\x84\\xec\\xa4\\x91</span></span>\\'\">\\n\\n\\t\\t\\t\\t\\t\\t\\t\\n\\t\\t\\t\\t\\t\\t\\t\\t<span class=\"thumb_dim\"></span>\\n\\t\\t\\t\\t\\t\\t\\t\\t<span class=\"thumb_bd\"></span>\\n\\t\\t\\t\\t\\t\\t\\t\\t<i class=\"pm_ico_play\"><span class=\"blind\">\\xec\\x9e\\xac\\xec\\x83\\x9d</span></i>\\n\\t\\t\\t\\t\\t\\t\\t\\t<span class=\"theme_runtime\"><span class=\"runtime_bg\">\\xec\\x9e\\xac\\xec\\x83\\x9d\\xec\\x8b\\x9c\\xea\\xb0\\x84</span><em\\n\\t\\t\\t\\t\\t\\t\\t\\t\\t\\tclass=\"time\">1:35</em></span>\\n\\t\\t\\t\\t\\t\\t\\t\\n\\t\\t\\t\\t\\t\\t</div>\\n\\t\\t\\t\\t\\t\\t<div class=\"media_info\">\\n\\t\\t\\t\\t\\t\\t\\t<div class=\"info_box\">\\n\\t\\t\\t\\t\\t\\t\\t\\t\\n\\t\\t\\t\\t\\t\\t\\t\\t\\t<em class=\"theme_category\">\\xec\\x9b\\xb9\\xec\\x98\\x88\\xeb\\x8a\\xa5</em>\\n\\t\\t\\t\\t\\t\\t\\t\\t\\n\\t\\t\\t\\t\\t\\t\\t\\t\\n\\t\\t\\t\\t\\t\\t\\t\\t<strong class=\"title \">[\\xed\\x99\\x80\\xec\\x9d\\xb8\\xeb\\x9f\\xac\\xeb\\xb8\\x8c] \\xeb\\x93\\xb1\\xec\\x9e\\xa5 \\xed\\x95\\x9c \\xeb\\xb2\\x88\\xec\\x97\\x90 \\xeb\\xaa\\xa8\\xeb\\x93\\xa0 \\xec\\x8b\\x9c\\xec\\x84\\xa0 \\xec\\xa7\\x91\\xec\\xa4\\x91 \\xec\\x8b\\x9c\\xed\\x82\\xa8 \\xea\\xb7\\xb8\\xeb\\x85\\x80\\xec\\x9d\\x98 \\xec\\x95\\x84\\xec\\x9a\\xb0\\xeb\\x9d\\xbc\\xe2\\x9c\\xa8</strong>\\n\\t\\t\\t\\t\\t\\t\\t\\t<div class=\"source_wrap\">\\n\\t\\t\\t\\t\\t\\t\\t\\t\\t\\n\\t\\t\\t\\t\\t\\t\\t\\t\\t\\t<span class=\"date\">4\\xeb\\xb6\\x84 \\xec\\xa0\\x84</span>\\n\\t\\t\\t\\t\\t\\t\\t\\t\\t\\t<span class=\"source\">\\n\\t\\t\\t\\t\\t\\t\\t\\t\\t\\t\\t\\n\\t\\t\\t\\t\\t\\t\\t\\t\\t\\t<span class=\"source_inner\">\\xec\\x8d\\xb8\\xed\\x95\\x91</span>\\n\\t\\t\\t\\t\\t\\t\\t\\t\\t\\t</span>\\n\\t\\t\\t\\t\\t\\t\\t\\t\\t\\n\\t\\t\\t\\t\\t\\t\\t\\t</div>\\n\\t\\t\\t\\t\\t\\t\\t</div>\\n\\t\\t\\t\\t\\t\\t</div>\\n\\t\\t\\t\\t\\t</a>\\n\\t\\t\\t\\t\\n\\t\\t\\t\\n\\t\\t\\t\\t\\n\\t\\t\\t\\t\\t<a href=\"https://tv.naver.com/v/31428596\" class=\"media_area\" data-da-position=\"true\" data-gdid=\"PC-THEME-ENTER-RANKING-2[materials][4]\"\\n\\t\\t\\t\\t\\t   data-clk=\"tcc_tvc.list3cont5\" target=\"_blank\">\\n\\t\\t\\t\\t\\t\\t<div class=\"media_thumb\">\\n\\t\\t\\t\\t\\t\\t\\t<img \\n\\t\\t\\t\\t\\t\\t\\t     data-src=\"https://s.pstatic.net/dthumb.phinf/?src&#x3D;%22https%3A%2F%2Fs.pstatic.net%2Ftvcast.phinf%2F20221208_190%2F4IRTW_1670425599918iaCXk_JPEG%2FC202200138_3_202212071146393541.jpg%22&amp;type&#x3D;nf464_260\" alt=\"\" width=\"232\" height=\"130\"\\n\\t\\t\\t\\t\\t\\t\\t     onerror=\"this.outerHTML=\\'<span class=\\\\\\'pm_noimg\\\\\\'><span class=\\\\\\'noimg_text\\\\\\'>\\xec\\x9d\\xb4\\xeb\\xaf\\xb8\\xec\\xa7\\x80 \\xec\\xa4\\x80\\xeb\\xb9\\x84\\xec\\xa4\\x91</span></span>\\'\">\\n\\n\\t\\t\\t\\t\\t\\t\\t\\n\\t\\t\\t\\t\\t\\t\\t\\t<span class=\"thumb_dim\"></span>\\n\\t\\t\\t\\t\\t\\t\\t\\t<span class=\"thumb_bd\"></span>\\n\\t\\t\\t\\t\\t\\t\\t\\t<i class=\"pm_ico_play\"><span class=\"blind\">\\xec\\x9e\\xac\\xec\\x83\\x9d</span></i>\\n\\t\\t\\t\\t\\t\\t\\t\\t<span class=\"theme_runtime\"><span class=\"runtime_bg\">\\xec\\x9e\\xac\\xec\\x83\\x9d\\xec\\x8b\\x9c\\xea\\xb0\\x84</span><em\\n\\t\\t\\t\\t\\t\\t\\t\\t\\t\\tclass=\"time\">4:07</em></span>\\n\\t\\t\\t\\t\\t\\t\\t\\n\\t\\t\\t\\t\\t\\t</div>\\n\\t\\t\\t\\t\\t\\t<div class=\"media_info\">\\n\\t\\t\\t\\t\\t\\t\\t<div class=\"info_box\">\\n\\t\\t\\t\\t\\t\\t\\t\\t\\n\\t\\t\\t\\t\\t\\t\\t\\t\\t<em class=\"theme_category\">TV \\xec\\x98\\x88\\xeb\\x8a\\xa5</em>\\n\\t\\t\\t\\t\\t\\t\\t\\t\\n\\t\\t\\t\\t\\t\\t\\t\\t\\n\\t\\t\\t\\t\\t\\t\\t\\t<strong class=\"title \">\\xed\\x98\\xb8\\xed\\x9d\\xa1 \\xea\\xb0\\x95\\xec\\x95\\xbd \\xec\\xa1\\xb0\\xec\\xa0\\x88\\xeb\\xa1\\x9c \\xeb\\xaa\\xb0\\xec\\x9e\\x85\\xeb\\x8f\\x84 100% \\xe2\\x80\\x98\\xec\\xb2\\x9c\\xec\\x83\\x81\\xec\\x9e\\xac\\xed\\x9a\\x8c\\xe2\\x80\\x99\\xe2\\x99\\xaa TV CHOSUN 221207 \\xeb\\xb0\\xa9\\xec\\x86\\xa1</strong>\\n\\t\\t\\t\\t\\t\\t\\t\\t<div class=\"source_wrap\">\\n\\t\\t\\t\\t\\t\\t\\t\\t\\t\\n\\t\\t\\t\\t\\t\\t\\t\\t\\t\\t<span class=\"date\">21\\xec\\x8b\\x9c\\xea\\xb0\\x84 \\xec\\xa0\\x84</span>\\n\\t\\t\\t\\t\\t\\t\\t\\t\\t\\t<span class=\"source\">\\n\\t\\t\\t\\t\\t\\t\\t\\t\\t\\t\\t\\n\\t\\t\\t\\t\\t\\t\\t\\t\\t\\t<span class=\"source_inner\">\\xeb\\xb3\\xb5\\xeb\\x8d\\xa9\\xec\\x9d\\xb4\\xeb\\x93\\xa4\\xea\\xb3\\xa0(GO)</span>\\n\\t\\t\\t\\t\\t\\t\\t\\t\\t\\t</span>\\n\\t\\t\\t\\t\\t\\t\\t\\t\\t\\n\\t\\t\\t\\t\\t\\t\\t\\t</div>\\n\\t\\t\\t\\t\\t\\t\\t</div>\\n\\t\\t\\t\\t\\t\\t</div>\\n\\t\\t\\t\\t\\t</a>\\n\\t\\t\\t\\t\\n\\t\\t\\t\\n\\t\\t\\t\\t\\n\\t\\t\\t\\t\\t<a href=\"https://tv.naver.com/v/21621585\" class=\"media_area\" data-da-position=\"true\" data-gdid=\"PC-THEME-ENTER-RANKING-2[materials][5]\"\\n\\t\\t\\t\\t\\t   data-clk=\"tcc_tvc.list3cont6\" target=\"_blank\">\\n\\t\\t\\t\\t\\t\\t<div class=\"media_thumb\">\\n\\t\\t\\t\\t\\t\\t\\t<img \\n\\t\\t\\t\\t\\t\\t\\t     data-src=\"https://s.pstatic.net/dthumb.phinf/?src&#x3D;%22https%3A%2F%2Fphinf.pstatic.net%2Ftvcast%2F20210730_176%2FORGwT_1627642187310e1AsQ_JPEG%2Fb8a3e430-f123-11eb-8111-505dac8c381b_03.jpg%22&amp;type&#x3D;nf464_260\" alt=\"\" width=\"232\" height=\"130\"\\n\\t\\t\\t\\t\\t\\t\\t     onerror=\"this.outerHTML=\\'<span class=\\\\\\'pm_noimg\\\\\\'><span class=\\\\\\'noimg_text\\\\\\'>\\xec\\x9d\\xb4\\xeb\\xaf\\xb8\\xec\\xa7\\x80 \\xec\\xa4\\x80\\xeb\\xb9\\x84\\xec\\xa4\\x91</span></span>\\'\">\\n\\n\\t\\t\\t\\t\\t\\t\\t\\n\\t\\t\\t\\t\\t\\t\\t\\t<span class=\"thumb_dim\"></span>\\n\\t\\t\\t\\t\\t\\t\\t\\t<span class=\"thumb_bd\"></span>\\n\\t\\t\\t\\t\\t\\t\\t\\t<i class=\"pm_ico_play\"><span class=\"blind\">\\xec\\x9e\\xac\\xec\\x83\\x9d</span></i>\\n\\t\\t\\t\\t\\t\\t\\t\\t<span class=\"theme_runtime\"><span class=\"runtime_bg\">\\xec\\x9e\\xac\\xec\\x83\\x9d\\xec\\x8b\\x9c\\xea\\xb0\\x84</span><em\\n\\t\\t\\t\\t\\t\\t\\t\\t\\t\\tclass=\"time\">0:15</em></span>\\n\\t\\t\\t\\t\\t\\t\\t\\n\\t\\t\\t\\t\\t\\t</div>\\n\\t\\t\\t\\t\\t\\t<div class=\"media_info\">\\n\\t\\t\\t\\t\\t\\t\\t<div class=\"info_box\">\\n\\t\\t\\t\\t\\t\\t\\t\\t\\n\\t\\t\\t\\t\\t\\t\\t\\t\\t<em class=\"theme_category\">\\xec\\x9b\\xb9\\xeb\\x93\\x9c\\xeb\\x9d\\xbc\\xeb\\xa7\\x88</em>\\n\\t\\t\\t\\t\\t\\t\\t\\t\\n\\t\\t\\t\\t\\t\\t\\t\\t\\n\\t\\t\\t\\t\\t\\t\\t\\t<strong class=\"title \">\\xe2\\xad\\x90\\xec\\xb6\\x95\\xe2\\xad\\x90\\xec\\x98\\xa4\\xed\\x94\\xbc\\xec\\x8a\\xa4 \\xec\\x8b\\x9c\\xed\\x8a\\xb8\\xec\\xbd\\xa4 \\'\\xec\\xa1\\xb0\\xec\\xa1\\xb0\\xec\\xbd\\x94\\xeb\\xaf\\xb9\\xec\\x8a\\xa4\\'\\xeb\\xa1\\x9c \\xeb\\x8f\\x8c\\xec\\x95\\x84\\xec\\x98\\xa8 \\xeb\\xac\\xb4\\xeb\\xb9\\x99\\xea\\xb1\\xb4 \\xec\\x9e\\x91\\xea\\xb0\\x80!</strong>\\n\\t\\t\\t\\t\\t\\t\\t\\t<div class=\"source_wrap\">\\n\\t\\t\\t\\t\\t\\t\\t\\t\\t\\n\\t\\t\\t\\t\\t\\t\\t\\t\\t\\t<span class=\"date\">4\\xeb\\xb6\\x84 \\xec\\xa0\\x84</span>\\n\\t\\t\\t\\t\\t\\t\\t\\t\\t\\t<span class=\"source\">\\n\\t\\t\\t\\t\\t\\t\\t\\t\\t\\t\\t\\n\\t\\t\\t\\t\\t\\t\\t\\t\\t\\t<span class=\"source_inner\">\\xeb\\x84\\xa4\\xec\\x9d\\xb4\\xeb\\xb2\\x84 \\xec\\x9b\\xb9\\xed\\x88\\xb0</span>\\n\\t\\t\\t\\t\\t\\t\\t\\t\\t\\t</span>\\n\\t\\t\\t\\t\\t\\t\\t\\t\\t\\n\\t\\t\\t\\t\\t\\t\\t\\t</div>\\n\\t\\t\\t\\t\\t\\t\\t</div>\\n\\t\\t\\t\\t\\t\\t</div>\\n\\t\\t\\t\\t\\t</a>\\n\\t\\t\\t\\t\\n\\t\\t\\t\\n\\t\\t\\t\\t\\n\\t\\t\\t\\t\\t<a href=\"https://tv.naver.com/v/15641298\" class=\"media_area\" data-da-position=\"true\" data-gdid=\"PC-THEME-ENTER-RANKING-2[materials][6]\"\\n\\t\\t\\t\\t\\t   data-clk=\"tcc_tvc.list3cont7\" target=\"_blank\">\\n\\t\\t\\t\\t\\t\\t<div class=\"media_thumb\">\\n\\t\\t\\t\\t\\t\\t\\t<img \\n\\t\\t\\t\\t\\t\\t\\t     data-src=\"https://s.pstatic.net/dthumb.phinf/?src&#x3D;%22https%3A%2F%2Fphinf.pstatic.net%2Ftvcast%2F20200907_99%2FjjPoQ_1599463911338F9i0U_JPEG%2F1599463705095.jpg%22&amp;type&#x3D;nf464_260\" alt=\"\" width=\"232\" height=\"130\"\\n\\t\\t\\t\\t\\t\\t\\t     onerror=\"this.outerHTML=\\'<span class=\\\\\\'pm_noimg\\\\\\'><span class=\\\\\\'noimg_text\\\\\\'>\\xec\\x9d\\xb4\\xeb\\xaf\\xb8\\xec\\xa7\\x80 \\xec\\xa4\\x80\\xeb\\xb9\\x84\\xec\\xa4\\x91</span></span>\\'\">\\n\\n\\t\\t\\t\\t\\t\\t\\t\\n\\t\\t\\t\\t\\t\\t\\t\\t<span class=\"thumb_dim\"></span>\\n\\t\\t\\t\\t\\t\\t\\t\\t<span class=\"thumb_bd\"></span>\\n\\t\\t\\t\\t\\t\\t\\t\\t<i class=\"pm_ico_play\"><span class=\"blind\">\\xec\\x9e\\xac\\xec\\x83\\x9d</span></i>\\n\\t\\t\\t\\t\\t\\t\\t\\t<span class=\"theme_runtime\"><span class=\"runtime_bg\">\\xec\\x9e\\xac\\xec\\x83\\x9d\\xec\\x8b\\x9c\\xea\\xb0\\x84</span><em\\n\\t\\t\\t\\t\\t\\t\\t\\t\\t\\tclass=\"time\">3:14</em></span>\\n\\t\\t\\t\\t\\t\\t\\t\\n\\t\\t\\t\\t\\t\\t</div>\\n\\t\\t\\t\\t\\t\\t<div class=\"media_info\">\\n\\t\\t\\t\\t\\t\\t\\t<div class=\"info_box\">\\n\\t\\t\\t\\t\\t\\t\\t\\t\\n\\t\\t\\t\\t\\t\\t\\t\\t\\t<em class=\"theme_category\">\\xec\\x9b\\xb9\\xeb\\x93\\x9c\\xeb\\x9d\\xbc\\xeb\\xa7\\x88</em>\\n\\t\\t\\t\\t\\t\\t\\t\\t\\n\\t\\t\\t\\t\\t\\t\\t\\t\\n\\t\\t\\t\\t\\t\\t\\t\\t<strong class=\"title \">\\'\\xec\\x97\\xb0\\xec\\x95\\xa0\\xed\\x98\\x81\\xeb\\xaa\\x85 - \\xea\\xb3\\xb5\\xec\\xa3\\xbc\\xec\\x98\\x81 \\xec\\x9e\\x90\\xec\\xb7\\xa8\\xeb\\xb0\\xa9 \\xec\\xa7\\x91\\xeb\\x93\\xa4\\xec\\x9d\\xb4 \\xed\\x92\\x80\\xeb\\xb2\\x84\\xec\\xa0\\x84 \\xeb\\x8c\\x80\\xea\\xb3\\xb5\\xea\\xb0\\x9c!</strong>\\n\\t\\t\\t\\t\\t\\t\\t\\t<div class=\"source_wrap\">\\n\\t\\t\\t\\t\\t\\t\\t\\t\\t\\n\\t\\t\\t\\t\\t\\t\\t\\t\\t\\t<span class=\"date\">4\\xeb\\xb6\\x84 \\xec\\xa0\\x84</span>\\n\\t\\t\\t\\t\\t\\t\\t\\t\\t\\t<span class=\"source\">\\n\\t\\t\\t\\t\\t\\t\\t\\t\\t\\t\\t\\n\\t\\t\\t\\t\\t\\t\\t\\t\\t\\t<span class=\"source_inner\">\\xeb\\x84\\xa4\\xec\\x9d\\xb4\\xeb\\xb2\\x84 \\xec\\x9b\\xb9\\xed\\x88\\xb0</span>\\n\\t\\t\\t\\t\\t\\t\\t\\t\\t\\t</span>\\n\\t\\t\\t\\t\\t\\t\\t\\t\\t\\n\\t\\t\\t\\t\\t\\t\\t\\t</div>\\n\\t\\t\\t\\t\\t\\t\\t</div>\\n\\t\\t\\t\\t\\t\\t</div>\\n\\t\\t\\t\\t\\t</a>\\n\\t\\t\\t\\t\\n\\t\\t\\t\\n\\t\\t\\t\\t\\n\\t\\t\\t\\t\\t<a href=\"https://tv.naver.com/v/26089862\" class=\"media_area\" data-da-position=\"true\" data-gdid=\"PC-THEME-ENTER-RANKING-2[materials][7]\"\\n\\t\\t\\t\\t\\t   data-clk=\"tcc_tvc.list3cont8\" target=\"_blank\">\\n\\t\\t\\t\\t\\t\\t<div class=\"media_thumb\">\\n\\t\\t\\t\\t\\t\\t\\t<img \\n\\t\\t\\t\\t\\t\\t\\t     data-src=\"https://s.pstatic.net/dthumb.phinf/?src&#x3D;%22https%3A%2F%2Fphinf.pstatic.net%2Ftvcast%2F20220407_92%2FHC8C8_1649302841919TEKmh_JPEG%2F1649302731434.jpg%22&amp;type&#x3D;nf464_260\" alt=\"\" width=\"232\" height=\"130\"\\n\\t\\t\\t\\t\\t\\t\\t     onerror=\"this.outerHTML=\\'<span class=\\\\\\'pm_noimg\\\\\\'><span class=\\\\\\'noimg_text\\\\\\'>\\xec\\x9d\\xb4\\xeb\\xaf\\xb8\\xec\\xa7\\x80 \\xec\\xa4\\x80\\xeb\\xb9\\x84\\xec\\xa4\\x91</span></span>\\'\">\\n\\n\\t\\t\\t\\t\\t\\t\\t\\n\\t\\t\\t\\t\\t\\t\\t\\t<span class=\"thumb_dim\"></span>\\n\\t\\t\\t\\t\\t\\t\\t\\t<span class=\"thumb_bd\"></span>\\n\\t\\t\\t\\t\\t\\t\\t\\t<i class=\"pm_ico_play\"><span class=\"blind\">\\xec\\x9e\\xac\\xec\\x83\\x9d</span></i>\\n\\t\\t\\t\\t\\t\\t\\t\\t<span class=\"theme_runtime\"><span class=\"runtime_bg\">\\xec\\x9e\\xac\\xec\\x83\\x9d\\xec\\x8b\\x9c\\xea\\xb0\\x84</span><em\\n\\t\\t\\t\\t\\t\\t\\t\\t\\t\\tclass=\"time\">0:32</em></span>\\n\\t\\t\\t\\t\\t\\t\\t\\n\\t\\t\\t\\t\\t\\t</div>\\n\\t\\t\\t\\t\\t\\t<div class=\"media_info\">\\n\\t\\t\\t\\t\\t\\t\\t<div class=\"info_box\">\\n\\t\\t\\t\\t\\t\\t\\t\\t\\n\\t\\t\\t\\t\\t\\t\\t\\t\\t<em class=\"theme_category\">\\xec\\x9b\\xb9\\xeb\\x93\\x9c\\xeb\\x9d\\xbc\\xeb\\xa7\\x88</em>\\n\\t\\t\\t\\t\\t\\t\\t\\t\\n\\t\\t\\t\\t\\t\\t\\t\\t\\n\\t\\t\\t\\t\\t\\t\\t\\t<strong class=\"title \">\\xeb\\x93\\x9c\\xeb\\x9d\\xbc\\xeb\\xa7\\x88 \\'\\xeb\\x82\\xb4\\xec\\x9d\\xbc\\'\\xec\\x9d\\x98 \\xec\\x9b\\x90\\xec\\x9e\\x91 \\xec\\x9b\\xb9\\xed\\x88\\xb0 - \\xec\\xb2\\xab \\xec\\xa7\\x81\\xec\\x9e\\xa5\\xec\\x9d\\xb4 \\xec\\xa0\\x80\\xec\\x8a\\xb9\\xec\\x9d\\xb4 \\xeb\\x90\\x98\\xec\\x96\\xb4\\xeb\\xb2\\x84\\xeb\\xa6\\xb0 \\xec\\xb7\\xa8\\xec\\xa4\\x80\\xec\\x83\\x9d #\\xec\\x9b\\xb9\\xed\\x88\\xb0\\xeb\\x82\\xb4\\xec\\x9d\\xbc</strong>\\n\\t\\t\\t\\t\\t\\t\\t\\t<div class=\"source_wrap\">\\n\\t\\t\\t\\t\\t\\t\\t\\t\\t\\n\\t\\t\\t\\t\\t\\t\\t\\t\\t\\t<span class=\"date\">4\\xeb\\xb6\\x84 \\xec\\xa0\\x84</span>\\n\\t\\t\\t\\t\\t\\t\\t\\t\\t\\t<span class=\"source\">\\n\\t\\t\\t\\t\\t\\t\\t\\t\\t\\t\\t\\n\\t\\t\\t\\t\\t\\t\\t\\t\\t\\t<span class=\"source_inner\">\\xeb\\x84\\xa4\\xec\\x9d\\xb4\\xeb\\xb2\\x84 \\xec\\x9b\\xb9\\xed\\x88\\xb0</span>\\n\\t\\t\\t\\t\\t\\t\\t\\t\\t\\t</span>\\n\\t\\t\\t\\t\\t\\t\\t\\t\\t\\n\\t\\t\\t\\t\\t\\t\\t\\t</div>\\n\\t\\t\\t\\t\\t\\t\\t</div>\\n\\t\\t\\t\\t\\t\\t</div>\\n\\t\\t\\t\\t\\t</a>\\n\\t\\t\\t\\t\\n\\t\\t\\t\\n\\t\\t\\t\\t\\n\\t\\t\\t\\t\\t<a href=\"https://tv.naver.com/v/28529069\" class=\"media_area\" data-da-position=\"true\" data-gdid=\"PC-THEME-ENTER-RANKING-2[materials][8]\"\\n\\t\\t\\t\\t\\t   data-clk=\"tcc_tvc.list3cont9\" target=\"_blank\">\\n\\t\\t\\t\\t\\t\\t<div class=\"media_thumb\">\\n\\t\\t\\t\\t\\t\\t\\t<img \\n\\t\\t\\t\\t\\t\\t\\t     data-src=\"https://s.pstatic.net/dthumb.phinf/?src&#x3D;%22https%3A%2F%2Fphinf.pstatic.net%2Ftvcast%2F20220812_290%2FsmovP_1660278883932BIeO5_PNG%2F1660278827662.png%22&amp;type&#x3D;nf464_260\" alt=\"\" width=\"232\" height=\"130\"\\n\\t\\t\\t\\t\\t\\t\\t     onerror=\"this.outerHTML=\\'<span class=\\\\\\'pm_noimg\\\\\\'><span class=\\\\\\'noimg_text\\\\\\'>\\xec\\x9d\\xb4\\xeb\\xaf\\xb8\\xec\\xa7\\x80 \\xec\\xa4\\x80\\xeb\\xb9\\x84\\xec\\xa4\\x91</span></span>\\'\">\\n\\n\\t\\t\\t\\t\\t\\t\\t\\n\\t\\t\\t\\t\\t\\t\\t\\t<span class=\"thumb_dim\"></span>\\n\\t\\t\\t\\t\\t\\t\\t\\t<span class=\"thumb_bd\"></span>\\n\\t\\t\\t\\t\\t\\t\\t\\t<i class=\"pm_ico_play\"><span class=\"blind\">\\xec\\x9e\\xac\\xec\\x83\\x9d</span></i>\\n\\t\\t\\t\\t\\t\\t\\t\\t<span class=\"theme_runtime\"><span class=\"runtime_bg\">\\xec\\x9e\\xac\\xec\\x83\\x9d\\xec\\x8b\\x9c\\xea\\xb0\\x84</span><em\\n\\t\\t\\t\\t\\t\\t\\t\\t\\t\\tclass=\"time\">2:50</em></span>\\n\\t\\t\\t\\t\\t\\t\\t\\n\\t\\t\\t\\t\\t\\t</div>\\n\\t\\t\\t\\t\\t\\t<div class=\"media_info\">\\n\\t\\t\\t\\t\\t\\t\\t<div class=\"info_box\">\\n\\t\\t\\t\\t\\t\\t\\t\\t\\n\\t\\t\\t\\t\\t\\t\\t\\t\\t<em class=\"theme_category\">\\xec\\x9b\\xb9\\xec\\x98\\x88\\xeb\\x8a\\xa5</em>\\n\\t\\t\\t\\t\\t\\t\\t\\t\\n\\t\\t\\t\\t\\t\\t\\t\\t\\n\\t\\t\\t\\t\\t\\t\\t\\t<strong class=\"title \">\\xec\\xb2\\xab \\xeb\\xa7\\x8c\\xeb\\x82\\xa8\\xeb\\xb6\\x80\\xed\\x84\\xb0 \\xec\\x84\\xb1\\xec\\x9d\\xb8\\xec\\x9a\\xa9\\xed\\x92\\x88 \\xed\\x86\\xa0\\xed\\x81\\xac \\xea\\xb0\\x80\\xeb\\x8a\\xa5?!\\xf0\\x9f\\x92\\x8b | EP.1-1 | \\xec\\x8d\\xb8\\xed\\x95\\x91</strong>\\n\\t\\t\\t\\t\\t\\t\\t\\t<div class=\"source_wrap\">\\n\\t\\t\\t\\t\\t\\t\\t\\t\\t\\n\\t\\t\\t\\t\\t\\t\\t\\t\\t\\t<span class=\"date\">4\\xeb\\xb6\\x84 \\xec\\xa0\\x84</span>\\n\\t\\t\\t\\t\\t\\t\\t\\t\\t\\t<span class=\"source\">\\n\\t\\t\\t\\t\\t\\t\\t\\t\\t\\t\\t\\n\\t\\t\\t\\t\\t\\t\\t\\t\\t\\t<span class=\"source_inner\">\\xec\\x8d\\xb8\\xed\\x95\\x91</span>\\n\\t\\t\\t\\t\\t\\t\\t\\t\\t\\t</span>\\n\\t\\t\\t\\t\\t\\t\\t\\t\\t\\n\\t\\t\\t\\t\\t\\t\\t\\t</div>\\n\\t\\t\\t\\t\\t\\t\\t</div>\\n\\t\\t\\t\\t\\t\\t</div>\\n\\t\\t\\t\\t\\t</a>\\n\\t\\t\\t\\t\\n\\t\\t\\t\\n\\t\\t</div>\\n\\t</div>\\n</div>\\n\\n<div class=\"group_theme\" data-block-id=\"5db0bbf2d6902f284eaffbab\" data-block-code=\"PC-THEME-ENTER-RANKING-3\" data-block-type=\"MATERIALS\" data-template-code=\"3X3\"\\n\\n     data-page=\"2\"\\n     style=\"display:none\">\\n\\n\\t<div class=\"media_view_wrap type_column\">\\n\\t\\t<div class=\"media_view\">\\n\\t\\t\\t\\n\\t\\t\\t\\t\\n\\t\\t\\t\\t\\t<a href=\"https://tv.naver.com/v/31388563\" class=\"media_area\" data-da-position=\"true\" data-gdid=\"PC-THEME-ENTER-RANKING-3[materials][0]\"\\n\\t\\t\\t\\t\\t   data-clk=\"tcc_tvc.list4cont1\" target=\"_blank\">\\n\\t\\t\\t\\t\\t\\t<div class=\"media_thumb\">\\n\\t\\t\\t\\t\\t\\t\\t<img \\n\\t\\t\\t\\t\\t\\t\\t     data-src=\"https://s.pstatic.net/dthumb.phinf/?src&#x3D;%22https%3A%2F%2Fs.pstatic.net%2Ftvcast.phinf%2F20221206_156%2FM4t5U_1670324491967i0xxn_JPEG%2F20221206_193257_599_1.jpg%22&amp;type&#x3D;nf464_260\" alt=\"\" width=\"232\" height=\"130\"\\n\\t\\t\\t\\t\\t\\t\\t     onerror=\"this.outerHTML=\\'<span class=\\\\\\'pm_noimg\\\\\\'><span class=\\\\\\'noimg_text\\\\\\'>\\xec\\x9d\\xb4\\xeb\\xaf\\xb8\\xec\\xa7\\x80 \\xec\\xa4\\x80\\xeb\\xb9\\x84\\xec\\xa4\\x91</span></span>\\'\">\\n\\n\\t\\t\\t\\t\\t\\t\\t\\n\\t\\t\\t\\t\\t\\t\\t\\t<span class=\"thumb_dim\"></span>\\n\\t\\t\\t\\t\\t\\t\\t\\t<span class=\"thumb_bd\"></span>\\n\\t\\t\\t\\t\\t\\t\\t\\t<i class=\"pm_ico_play\"><span class=\"blind\">\\xec\\x9e\\xac\\xec\\x83\\x9d</span></i>\\n\\t\\t\\t\\t\\t\\t\\t\\t<span class=\"theme_runtime\"><span class=\"runtime_bg\">\\xec\\x9e\\xac\\xec\\x83\\x9d\\xec\\x8b\\x9c\\xea\\xb0\\x84</span><em\\n\\t\\t\\t\\t\\t\\t\\t\\t\\t\\tclass=\"time\">16:06</em></span>\\n\\t\\t\\t\\t\\t\\t\\t\\n\\t\\t\\t\\t\\t\\t</div>\\n\\t\\t\\t\\t\\t\\t<div class=\"media_info\">\\n\\t\\t\\t\\t\\t\\t\\t<div class=\"info_box\">\\n\\t\\t\\t\\t\\t\\t\\t\\t\\n\\t\\t\\t\\t\\t\\t\\t\\t\\t<em class=\"theme_category\">TV \\xeb\\x93\\x9c\\xeb\\x9d\\xbc\\xeb\\xa7\\x88</em>\\n\\t\\t\\t\\t\\t\\t\\t\\t\\n\\t\\t\\t\\t\\t\\t\\t\\t\\n\\t\\t\\t\\t\\t\\t\\t\\t<strong class=\"title \">[\\xec\\x8a\\xa4\\xed\\x8e\\x98\\xec\\x85\\x9c] \\xec\\x9e\\xac\\xeb\\xb2\\x8c\\xec\\xa7\\x91 \\xeb\\xa7\\x89\\xeb\\x82\\xb4\\xec\\x95\\x84\\xeb\\x93\\xa4\\xec\\x97\\x90\\xec\\x84\\x9c \\xec\\x82\\xac\\xec\\x95\\xbd\\xea\\xb8\\xb8 \\xea\\xb1\\xb7\\xea\\xb3\\xa0 \\xec\\x9e\\x88\\xeb\\x8a\\x94 \\xeb\\x82\\x98.. \\xec\\xa0\\x95\\xec\\x83\\x81\\xec\\x9d\\xb8\\xea\\xb0\\x80\\xec\\x9a\\x94? \\'\\xec\\x86\\xa1\\xec\\xa4\\x91\\xea\\xb8\\xb0X\\xeb\\xb0\\x95\\xec\\xa7\\x80\\xed\\x98\\x84\\' \\xec\\x84\\x9c\\xec\\x82\\xac \\xeb\\xaa\\xa8\\xec\\x9d\\x8c\\xe1\\x83\\xa6</strong>\\n\\t\\t\\t\\t\\t\\t\\t\\t<div class=\"source_wrap\">\\n\\t\\t\\t\\t\\t\\t\\t\\t\\t\\n\\t\\t\\t\\t\\t\\t\\t\\t\\t\\t<span class=\"date\">2\\xec\\x9d\\xbc \\xec\\xa0\\x84</span>\\n\\t\\t\\t\\t\\t\\t\\t\\t\\t\\t<span class=\"source\">\\n\\t\\t\\t\\t\\t\\t\\t\\t\\t\\t\\t\\n\\t\\t\\t\\t\\t\\t\\t\\t\\t\\t<span class=\"source_inner\">\\xec\\x9e\\xac\\xeb\\xb2\\x8c\\xec\\xa7\\x91 \\xeb\\xa7\\x89\\xeb\\x82\\xb4\\xec\\x95\\x84\\xeb\\x93\\xa4</span>\\n\\t\\t\\t\\t\\t\\t\\t\\t\\t\\t</span>\\n\\t\\t\\t\\t\\t\\t\\t\\t\\t\\n\\t\\t\\t\\t\\t\\t\\t\\t</div>\\n\\t\\t\\t\\t\\t\\t\\t</div>\\n\\t\\t\\t\\t\\t\\t</div>\\n\\t\\t\\t\\t\\t</a>\\n\\t\\t\\t\\t\\n\\t\\t\\t\\n\\t\\t\\t\\t\\n\\t\\t\\t\\t\\t<a href=\"https://tv.naver.com/v/28483865\" class=\"media_area\" data-da-position=\"true\" data-gdid=\"PC-THEME-ENTER-RANKING-3[materials][1]\"\\n\\t\\t\\t\\t\\t   data-clk=\"tcc_tvc.list4cont2\" target=\"_blank\">\\n\\t\\t\\t\\t\\t\\t<div class=\"media_thumb\">\\n\\t\\t\\t\\t\\t\\t\\t<img \\n\\t\\t\\t\\t\\t\\t\\t     data-src=\"https://s.pstatic.net/dthumb.phinf/?src&#x3D;%22https%3A%2F%2Fphinf.pstatic.net%2Ftvcast%2F20220810_206%2Fv6g8H_1660118439697Hd7vl_PNG%2F1660118376139.png%22&amp;type&#x3D;nf464_260\" alt=\"\" width=\"232\" height=\"130\"\\n\\t\\t\\t\\t\\t\\t\\t     onerror=\"this.outerHTML=\\'<span class=\\\\\\'pm_noimg\\\\\\'><span class=\\\\\\'noimg_text\\\\\\'>\\xec\\x9d\\xb4\\xeb\\xaf\\xb8\\xec\\xa7\\x80 \\xec\\xa4\\x80\\xeb\\xb9\\x84\\xec\\xa4\\x91</span></span>\\'\">\\n\\n\\t\\t\\t\\t\\t\\t\\t\\n\\t\\t\\t\\t\\t\\t\\t\\t<span class=\"thumb_dim\"></span>\\n\\t\\t\\t\\t\\t\\t\\t\\t<span class=\"thumb_bd\"></span>\\n\\t\\t\\t\\t\\t\\t\\t\\t<i class=\"pm_ico_play\"><span class=\"blind\">\\xec\\x9e\\xac\\xec\\x83\\x9d</span></i>\\n\\t\\t\\t\\t\\t\\t\\t\\t<span class=\"theme_runtime\"><span class=\"runtime_bg\">\\xec\\x9e\\xac\\xec\\x83\\x9d\\xec\\x8b\\x9c\\xea\\xb0\\x84</span><em\\n\\t\\t\\t\\t\\t\\t\\t\\t\\t\\tclass=\"time\">5:35</em></span>\\n\\t\\t\\t\\t\\t\\t\\t\\n\\t\\t\\t\\t\\t\\t</div>\\n\\t\\t\\t\\t\\t\\t<div class=\"media_info\">\\n\\t\\t\\t\\t\\t\\t\\t<div class=\"info_box\">\\n\\t\\t\\t\\t\\t\\t\\t\\t\\n\\t\\t\\t\\t\\t\\t\\t\\t\\t<em class=\"theme_category\">\\xec\\x9b\\xb9\\xec\\x98\\x88\\xeb\\x8a\\xa5</em>\\n\\t\\t\\t\\t\\t\\t\\t\\t\\n\\t\\t\\t\\t\\t\\t\\t\\t\\n\\t\\t\\t\\t\\t\\t\\t\\t<strong class=\"title \">[\\xec\\x84\\xa0\\xea\\xb3\\xb5\\xea\\xb0\\x9c] \\xeb\\xac\\xb4\\xed\\x95\\x9c \\xed\\x94\\x8c\\xeb\\x9f\\xac\\xed\\x8c\\x85\\xec\\x9d\\x98 \\xec\\x84\\x9c\\xeb\\xa7\\x89... \"Welcome to \\xec\\x8d\\xb8\\xed\\x86\\xa0\\xed\\x94\\xbc\\xec\\x95\\x84\" | EP.1 | \\xec\\x8d\\xb8\\xed\\x95\\x91</strong>\\n\\t\\t\\t\\t\\t\\t\\t\\t<div class=\"source_wrap\">\\n\\t\\t\\t\\t\\t\\t\\t\\t\\t\\n\\t\\t\\t\\t\\t\\t\\t\\t\\t\\t<span class=\"date\">4\\xeb\\xb6\\x84 \\xec\\xa0\\x84</span>\\n\\t\\t\\t\\t\\t\\t\\t\\t\\t\\t<span class=\"source\">\\n\\t\\t\\t\\t\\t\\t\\t\\t\\t\\t\\t\\n\\t\\t\\t\\t\\t\\t\\t\\t\\t\\t<span class=\"source_inner\">\\xec\\x8d\\xb8\\xed\\x95\\x91</span>\\n\\t\\t\\t\\t\\t\\t\\t\\t\\t\\t</span>\\n\\t\\t\\t\\t\\t\\t\\t\\t\\t\\n\\t\\t\\t\\t\\t\\t\\t\\t</div>\\n\\t\\t\\t\\t\\t\\t\\t</div>\\n\\t\\t\\t\\t\\t\\t</div>\\n\\t\\t\\t\\t\\t</a>\\n\\t\\t\\t\\t\\n\\t\\t\\t\\n\\t\\t\\t\\t\\n\\t\\t\\t\\t\\t<a href=\"https://tv.naver.com/v/31367328\" class=\"media_area\" data-da-position=\"true\" data-gdid=\"PC-THEME-ENTER-RANKING-3[materials][2]\"\\n\\t\\t\\t\\t\\t   data-clk=\"tcc_tvc.list4cont3\" target=\"_blank\">\\n\\t\\t\\t\\t\\t\\t<div class=\"media_thumb\">\\n\\t\\t\\t\\t\\t\\t\\t<img \\n\\t\\t\\t\\t\\t\\t\\t     data-src=\"https://s.pstatic.net/dthumb.phinf/?src&#x3D;%22https%3A%2F%2Fs.pstatic.net%2Ftvcast.phinf%2F20221206_286%2FtYrlF_1670284591251sr8En_JPEG%2F9681a68b-6ec3-44ff-8304-557aa5a2202f_B.jpg%22&amp;type&#x3D;nf464_260\" alt=\"\" width=\"232\" height=\"130\"\\n\\t\\t\\t\\t\\t\\t\\t     onerror=\"this.outerHTML=\\'<span class=\\\\\\'pm_noimg\\\\\\'><span class=\\\\\\'noimg_text\\\\\\'>\\xec\\x9d\\xb4\\xeb\\xaf\\xb8\\xec\\xa7\\x80 \\xec\\xa4\\x80\\xeb\\xb9\\x84\\xec\\xa4\\x91</span></span>\\'\">\\n\\n\\t\\t\\t\\t\\t\\t\\t\\n\\t\\t\\t\\t\\t\\t\\t\\t<span class=\"thumb_dim\"></span>\\n\\t\\t\\t\\t\\t\\t\\t\\t<span class=\"thumb_bd\"></span>\\n\\t\\t\\t\\t\\t\\t\\t\\t<i class=\"pm_ico_play\"><span class=\"blind\">\\xec\\x9e\\xac\\xec\\x83\\x9d</span></i>\\n\\t\\t\\t\\t\\t\\t\\t\\t<span class=\"theme_runtime\"><span class=\"runtime_bg\">\\xec\\x9e\\xac\\xec\\x83\\x9d\\xec\\x8b\\x9c\\xea\\xb0\\x84</span><em\\n\\t\\t\\t\\t\\t\\t\\t\\t\\t\\tclass=\"time\">2:40</em></span>\\n\\t\\t\\t\\t\\t\\t\\t\\n\\t\\t\\t\\t\\t\\t</div>\\n\\t\\t\\t\\t\\t\\t<div class=\"media_info\">\\n\\t\\t\\t\\t\\t\\t\\t<div class=\"info_box\">\\n\\t\\t\\t\\t\\t\\t\\t\\t\\n\\t\\t\\t\\t\\t\\t\\t\\t\\t<em class=\"theme_category\">TV \\xeb\\x93\\x9c\\xeb\\x9d\\xbc\\xeb\\xa7\\x88</em>\\n\\t\\t\\t\\t\\t\\t\\t\\t\\n\\t\\t\\t\\t\\t\\t\\t\\t\\n\\t\\t\\t\\t\\t\\t\\t\\t<strong class=\"title \">[\\xed\\x95\\x98\\xec\\x9d\\xb4\\xeb\\x9d\\xbc\\xec\\x9d\\xb4\\xed\\x8a\\xb8] \\xeb\\xb9\\x9b\\xea\\xb3\\xbc \\xea\\xb7\\xb8\\xeb\\xa6\\xbc\\xec\\x9e\\x90 \\xea\\xb0\\x99\\xec\\x9d\\x80 \\xec\\x9a\\xb4\\xeb\\xaa\\x85\\xec\\xa0\\x81\\xec\\x9d\\xb8 \\xeb\\xa7\\x8c\\xeb\\x82\\xa8, \\xea\\xb7\\xb8\\xeb\\xa6\\xac\\xea\\xb3\\xa0 \\xeb\\x8b\\xa4\\xec\\x8b\\x9c \\xec\\x8b\\x9c\\xec\\x9e\\x91\\xeb\\x90\\x98\\xeb\\x8a\\x94 \\xec\\x88\\xa0\\xec\\x82\\xac\\xeb\\x93\\xa4\\xec\\x9d\\x98 \\xec\\x9d\\xb4\\xec\\x95\\xbc\\xea\\xb8\\xb0!</strong>\\n\\t\\t\\t\\t\\t\\t\\t\\t<div class=\"source_wrap\">\\n\\t\\t\\t\\t\\t\\t\\t\\t\\t\\n\\t\\t\\t\\t\\t\\t\\t\\t\\t\\t<span class=\"date\">2\\xec\\x9d\\xbc \\xec\\xa0\\x84</span>\\n\\t\\t\\t\\t\\t\\t\\t\\t\\t\\t<span class=\"source\">\\n\\t\\t\\t\\t\\t\\t\\t\\t\\t\\t\\t\\n\\t\\t\\t\\t\\t\\t\\t\\t\\t\\t<span class=\"source_inner\">\\xed\\x99\\x98\\xed\\x98\\xbc: \\xeb\\xb9\\x9b\\xea\\xb3\\xbc \\xea\\xb7\\xb8\\xeb\\xa6\\xbc\\xec\\x9e\\x90</span>\\n\\t\\t\\t\\t\\t\\t\\t\\t\\t\\t</span>\\n\\t\\t\\t\\t\\t\\t\\t\\t\\t\\n\\t\\t\\t\\t\\t\\t\\t\\t</div>\\n\\t\\t\\t\\t\\t\\t\\t</div>\\n\\t\\t\\t\\t\\t\\t</div>\\n\\t\\t\\t\\t\\t</a>\\n\\t\\t\\t\\t\\n\\t\\t\\t\\n\\t\\t\\t\\t\\n\\t\\t\\t\\t\\t<a href=\"https://tv.naver.com/v/23824208\" class=\"media_area\" data-da-position=\"true\" data-gdid=\"PC-THEME-ENTER-RANKING-3[materials][3]\"\\n\\t\\t\\t\\t\\t   data-clk=\"tcc_tvc.list4cont4\" target=\"_blank\">\\n\\t\\t\\t\\t\\t\\t<div class=\"media_thumb\">\\n\\t\\t\\t\\t\\t\\t\\t<img \\n\\t\\t\\t\\t\\t\\t\\t     data-src=\"https://s.pstatic.net/dthumb.phinf/?src&#x3D;%22https%3A%2F%2Fphinf.pstatic.net%2Ftvcast%2F20211130_55%2Fa8bxc_1638273537905gzd7h_JPEG%2F1638273388256.jpg%22&amp;type&#x3D;nf464_260\" alt=\"\" width=\"232\" height=\"130\"\\n\\t\\t\\t\\t\\t\\t\\t     onerror=\"this.outerHTML=\\'<span class=\\\\\\'pm_noimg\\\\\\'><span class=\\\\\\'noimg_text\\\\\\'>\\xec\\x9d\\xb4\\xeb\\xaf\\xb8\\xec\\xa7\\x80 \\xec\\xa4\\x80\\xeb\\xb9\\x84\\xec\\xa4\\x91</span></span>\\'\">\\n\\n\\t\\t\\t\\t\\t\\t\\t\\n\\t\\t\\t\\t\\t\\t\\t\\t<span class=\"thumb_dim\"></span>\\n\\t\\t\\t\\t\\t\\t\\t\\t<span class=\"thumb_bd\"></span>\\n\\t\\t\\t\\t\\t\\t\\t\\t<i class=\"pm_ico_play\"><span class=\"blind\">\\xec\\x9e\\xac\\xec\\x83\\x9d</span></i>\\n\\t\\t\\t\\t\\t\\t\\t\\t<span class=\"theme_runtime\"><span class=\"runtime_bg\">\\xec\\x9e\\xac\\xec\\x83\\x9d\\xec\\x8b\\x9c\\xea\\xb0\\x84</span><em\\n\\t\\t\\t\\t\\t\\t\\t\\t\\t\\tclass=\"time\">0:37</em></span>\\n\\t\\t\\t\\t\\t\\t\\t\\n\\t\\t\\t\\t\\t\\t</div>\\n\\t\\t\\t\\t\\t\\t<div class=\"media_info\">\\n\\t\\t\\t\\t\\t\\t\\t<div class=\"info_box\">\\n\\t\\t\\t\\t\\t\\t\\t\\t\\n\\t\\t\\t\\t\\t\\t\\t\\t\\t<em class=\"theme_category\">\\xec\\x9b\\xb9\\xeb\\x93\\x9c\\xeb\\x9d\\xbc\\xeb\\xa7\\x88</em>\\n\\t\\t\\t\\t\\t\\t\\t\\t\\n\\t\\t\\t\\t\\t\\t\\t\\t\\n\\t\\t\\t\\t\\t\\t\\t\\t<strong class=\"title \">\\xeb\\x84\\xb7\\xed\\x94\\x8c\\xeb\\xa6\\xad\\xec\\x8a\\xa4 \\'\\xec\\xa7\\x80\\xec\\x98\\xa5\\' \\xec\\x9b\\x90\\xec\\x9e\\x91 \\xec\\x9b\\xb9\\xed\\x88\\xb0 - \\xeb\\x82\\xb4 \\xec\\xa3\\xbd\\xec\\x9d\\x8c\\xec\\x9d\\x84 \\xeb\\xaa\\xa8\\xeb\\x91\\x90\\xea\\xb0\\x80 \\xec\\xa7\\x80\\xec\\xbc\\x9c\\xeb\\xb3\\xb4\\xea\\xb3\\xa0 \\xec\\x9e\\x88\\xeb\\x8b\\xa4.</strong>\\n\\t\\t\\t\\t\\t\\t\\t\\t<div class=\"source_wrap\">\\n\\t\\t\\t\\t\\t\\t\\t\\t\\t\\n\\t\\t\\t\\t\\t\\t\\t\\t\\t\\t<span class=\"date\">4\\xeb\\xb6\\x84 \\xec\\xa0\\x84</span>\\n\\t\\t\\t\\t\\t\\t\\t\\t\\t\\t<span class=\"source\">\\n\\t\\t\\t\\t\\t\\t\\t\\t\\t\\t\\t\\n\\t\\t\\t\\t\\t\\t\\t\\t\\t\\t<span class=\"source_inner\">\\xeb\\x84\\xa4\\xec\\x9d\\xb4\\xeb\\xb2\\x84 \\xec\\x9b\\xb9\\xed\\x88\\xb0</span>\\n\\t\\t\\t\\t\\t\\t\\t\\t\\t\\t</span>\\n\\t\\t\\t\\t\\t\\t\\t\\t\\t\\n\\t\\t\\t\\t\\t\\t\\t\\t</div>\\n\\t\\t\\t\\t\\t\\t\\t</div>\\n\\t\\t\\t\\t\\t\\t</div>\\n\\t\\t\\t\\t\\t</a>\\n\\t\\t\\t\\t\\n\\t\\t\\t\\n\\t\\t\\t\\t\\n\\t\\t\\t\\t\\t<a href=\"https://tv.naver.com/v/31428603\" class=\"media_area\" data-da-position=\"true\" data-gdid=\"PC-THEME-ENTER-RANKING-3[materials][4]\"\\n\\t\\t\\t\\t\\t   data-clk=\"tcc_tvc.list4cont5\" target=\"_blank\">\\n\\t\\t\\t\\t\\t\\t<div class=\"media_thumb\">\\n\\t\\t\\t\\t\\t\\t\\t<img \\n\\t\\t\\t\\t\\t\\t\\t     data-src=\"https://s.pstatic.net/dthumb.phinf/?src&#x3D;%22https%3A%2F%2Fs.pstatic.net%2Ftvcast.phinf%2F20221208_18%2FIBQGA_1670425608340I2xss_JPEG%2FC202200138_3_202212071148120391.jpg%22&amp;type&#x3D;nf464_260\" alt=\"\" width=\"232\" height=\"130\"\\n\\t\\t\\t\\t\\t\\t\\t     onerror=\"this.outerHTML=\\'<span class=\\\\\\'pm_noimg\\\\\\'><span class=\\\\\\'noimg_text\\\\\\'>\\xec\\x9d\\xb4\\xeb\\xaf\\xb8\\xec\\xa7\\x80 \\xec\\xa4\\x80\\xeb\\xb9\\x84\\xec\\xa4\\x91</span></span>\\'\">\\n\\n\\t\\t\\t\\t\\t\\t\\t\\n\\t\\t\\t\\t\\t\\t\\t\\t<span class=\"thumb_dim\"></span>\\n\\t\\t\\t\\t\\t\\t\\t\\t<span class=\"thumb_bd\"></span>\\n\\t\\t\\t\\t\\t\\t\\t\\t<i class=\"pm_ico_play\"><span class=\"blind\">\\xec\\x9e\\xac\\xec\\x83\\x9d</span></i>\\n\\t\\t\\t\\t\\t\\t\\t\\t<span class=\"theme_runtime\"><span class=\"runtime_bg\">\\xec\\x9e\\xac\\xec\\x83\\x9d\\xec\\x8b\\x9c\\xea\\xb0\\x84</span><em\\n\\t\\t\\t\\t\\t\\t\\t\\t\\t\\tclass=\"time\">4:44</em></span>\\n\\t\\t\\t\\t\\t\\t\\t\\n\\t\\t\\t\\t\\t\\t</div>\\n\\t\\t\\t\\t\\t\\t<div class=\"media_info\">\\n\\t\\t\\t\\t\\t\\t\\t<div class=\"info_box\">\\n\\t\\t\\t\\t\\t\\t\\t\\t\\n\\t\\t\\t\\t\\t\\t\\t\\t\\t<em class=\"theme_category\">TV \\xec\\x98\\x88\\xeb\\x8a\\xa5</em>\\n\\t\\t\\t\\t\\t\\t\\t\\t\\n\\t\\t\\t\\t\\t\\t\\t\\t\\n\\t\\t\\t\\t\\t\\t\\t\\t<strong class=\"title \">\\xea\\xbf\\x88\\xec\\x9d\\x84 \\xec\\xb0\\xbe\\xec\\x9c\\xbc\\xeb\\x9f\\xac \\xea\\xb3\\xa0\\xed\\x96\\xa5\\xec\\x9d\\x84 \\xeb\\x96\\xa0\\xeb\\x82\\x9c \\xec\\x82\\xac\\xeb\\x9e\\x8c\\xeb\\x93\\xa4\\xec\\x9d\\x84 \\xec\\x9c\\x84\\xed\\x95\\x9c \\xeb\\x85\\xb8\\xeb\\x9e\\x98\\xf0\\x9f\\x8e\\xa4 \\xe2\\x80\\x98\\xea\\xbf\\x88\\xe2\\x80\\x99\\xe2\\x99\\xaa TV CHOSUN 221207 \\xeb\\xb0\\xa9\\xec\\x86\\xa1</strong>\\n\\t\\t\\t\\t\\t\\t\\t\\t<div class=\"source_wrap\">\\n\\t\\t\\t\\t\\t\\t\\t\\t\\t\\n\\t\\t\\t\\t\\t\\t\\t\\t\\t\\t<span class=\"date\">21\\xec\\x8b\\x9c\\xea\\xb0\\x84 \\xec\\xa0\\x84</span>\\n\\t\\t\\t\\t\\t\\t\\t\\t\\t\\t<span class=\"source\">\\n\\t\\t\\t\\t\\t\\t\\t\\t\\t\\t\\t\\n\\t\\t\\t\\t\\t\\t\\t\\t\\t\\t<span class=\"source_inner\">\\xeb\\xb3\\xb5\\xeb\\x8d\\xa9\\xec\\x9d\\xb4\\xeb\\x93\\xa4\\xea\\xb3\\xa0(GO)</span>\\n\\t\\t\\t\\t\\t\\t\\t\\t\\t\\t</span>\\n\\t\\t\\t\\t\\t\\t\\t\\t\\t\\n\\t\\t\\t\\t\\t\\t\\t\\t</div>\\n\\t\\t\\t\\t\\t\\t\\t</div>\\n\\t\\t\\t\\t\\t\\t</div>\\n\\t\\t\\t\\t\\t</a>\\n\\t\\t\\t\\t\\n\\t\\t\\t\\n\\t\\t\\t\\t\\n\\t\\t\\t\\t\\t<a href=\"https://tv.naver.com/v/31428720\" class=\"media_area\" data-da-position=\"true\" data-gdid=\"PC-THEME-ENTER-RANKING-3[materials][5]\"\\n\\t\\t\\t\\t\\t   data-clk=\"tcc_tvc.list4cont6\" target=\"_blank\">\\n\\t\\t\\t\\t\\t\\t<div class=\"media_thumb\">\\n\\t\\t\\t\\t\\t\\t\\t<img \\n\\t\\t\\t\\t\\t\\t\\t     data-src=\"https://s.pstatic.net/dthumb.phinf/?src&#x3D;%22https%3A%2F%2Fs.pstatic.net%2Ftvcast.phinf%2F20221208_288%2FjD9Z9_1670425952761q6OPD_JPEG%2Fr3k1670312092777-1280-0.jpg%22&amp;type&#x3D;nf464_260\" alt=\"\" width=\"232\" height=\"130\"\\n\\t\\t\\t\\t\\t\\t\\t     onerror=\"this.outerHTML=\\'<span class=\\\\\\'pm_noimg\\\\\\'><span class=\\\\\\'noimg_text\\\\\\'>\\xec\\x9d\\xb4\\xeb\\xaf\\xb8\\xec\\xa7\\x80 \\xec\\xa4\\x80\\xeb\\xb9\\x84\\xec\\xa4\\x91</span></span>\\'\">\\n\\n\\t\\t\\t\\t\\t\\t\\t\\n\\t\\t\\t\\t\\t\\t\\t\\t<span class=\"thumb_dim\"></span>\\n\\t\\t\\t\\t\\t\\t\\t\\t<span class=\"thumb_bd\"></span>\\n\\t\\t\\t\\t\\t\\t\\t\\t<i class=\"pm_ico_play\"><span class=\"blind\">\\xec\\x9e\\xac\\xec\\x83\\x9d</span></i>\\n\\t\\t\\t\\t\\t\\t\\t\\t<span class=\"theme_runtime\"><span class=\"runtime_bg\">\\xec\\x9e\\xac\\xec\\x83\\x9d\\xec\\x8b\\x9c\\xea\\xb0\\x84</span><em\\n\\t\\t\\t\\t\\t\\t\\t\\t\\t\\tclass=\"time\">6:53</em></span>\\n\\t\\t\\t\\t\\t\\t\\t\\n\\t\\t\\t\\t\\t\\t</div>\\n\\t\\t\\t\\t\\t\\t<div class=\"media_info\">\\n\\t\\t\\t\\t\\t\\t\\t<div class=\"info_box\">\\n\\t\\t\\t\\t\\t\\t\\t\\t\\n\\t\\t\\t\\t\\t\\t\\t\\t\\t<em class=\"theme_category\">TV \\xec\\x98\\x88\\xeb\\x8a\\xa5</em>\\n\\t\\t\\t\\t\\t\\t\\t\\t\\n\\t\\t\\t\\t\\t\\t\\t\\t\\n\\t\\t\\t\\t\\t\\t\\t\\t<strong class=\"title \">\\xea\\xb7\\xb8\\xeb\\x8c\\x80\\xeb\\xa1\\x9c\\xec\\x9d\\xb8 \\xeb\\xa7\\x88\\xec\\x9d\\x8c! \\xed\\x9b\\x84\\xed\\x9a\\x8c\\xeb\\x8a\\x94 \\xec\\x97\\x86\\xeb\\x8b\\xa4. \\xec\\x9d\\xbc\\xed\\x8e\\xb8\\xeb\\x8b\\xa8\\xec\\x8b\\xac \\xec\\xa7\\x81\\xec\\xa7\\x84\\xeb\\xbf\\x90\\xec\\x9d\\xb8 \\xec\\x86\\x94\\xeb\\xa1\\x9c\\xeb\\x85\\x80\\xeb\\x93\\xa4!\\xe3\\x85\\xa3\\xeb\\x82\\x98\\xeb\\x8a\\x94\\xec\\x86\\x94\\xeb\\xa1\\x9c EP.74\\xe3\\x85\\xa3SBSPLUS\\xe3\\x85\\xa3\\xeb\\xa7\\xa4\\xec\\xa3\\xbc \\xec\\x88\\x98\\xec\\x9a\\x94\\xec\\x9d\\xbc \\xeb\\xb0\\xa4 10\\xec\\x8b\\x9c 30\\xeb\\xb6\\x84 \\xeb\\xb0\\xa9\\xec\\x86\\xa1</strong>\\n\\t\\t\\t\\t\\t\\t\\t\\t<div class=\"source_wrap\">\\n\\t\\t\\t\\t\\t\\t\\t\\t\\t\\n\\t\\t\\t\\t\\t\\t\\t\\t\\t\\t<span class=\"date\">21\\xec\\x8b\\x9c\\xea\\xb0\\x84 \\xec\\xa0\\x84</span>\\n\\t\\t\\t\\t\\t\\t\\t\\t\\t\\t<span class=\"source\">\\n\\t\\t\\t\\t\\t\\t\\t\\t\\t\\t\\t\\n\\t\\t\\t\\t\\t\\t\\t\\t\\t\\t<span class=\"source_inner\">\\xeb\\x82\\x98\\xeb\\x8a\\x94 SOLO</span>\\n\\t\\t\\t\\t\\t\\t\\t\\t\\t\\t</span>\\n\\t\\t\\t\\t\\t\\t\\t\\t\\t\\n\\t\\t\\t\\t\\t\\t\\t\\t</div>\\n\\t\\t\\t\\t\\t\\t\\t</div>\\n\\t\\t\\t\\t\\t\\t</div>\\n\\t\\t\\t\\t\\t</a>\\n\\t\\t\\t\\t\\n\\t\\t\\t\\n\\t\\t\\t\\t\\n\\t\\t\\t\\t\\t<a href=\"https://tv.naver.com/v/31426837\" class=\"media_area\" data-da-position=\"true\" data-gdid=\"PC-THEME-ENTER-RANKING-3[materials][6]\"\\n\\t\\t\\t\\t\\t   data-clk=\"tcc_tvc.list4cont7\" target=\"_blank\">\\n\\t\\t\\t\\t\\t\\t<div class=\"media_thumb\">\\n\\t\\t\\t\\t\\t\\t\\t<img \\n\\t\\t\\t\\t\\t\\t\\t     data-src=\"https://s.pstatic.net/dthumb.phinf/?src&#x3D;%22https%3A%2F%2Fs.pstatic.net%2Ftvcast.phinf%2F20221208_25%2FV8me9_1670492813516KKx0x_PNG%2Fc9979fba-1290-45a6-a966-5910fcb062e3_B.png%22&amp;type&#x3D;nf464_260\" alt=\"\" width=\"232\" height=\"130\"\\n\\t\\t\\t\\t\\t\\t\\t     onerror=\"this.outerHTML=\\'<span class=\\\\\\'pm_noimg\\\\\\'><span class=\\\\\\'noimg_text\\\\\\'>\\xec\\x9d\\xb4\\xeb\\xaf\\xb8\\xec\\xa7\\x80 \\xec\\xa4\\x80\\xeb\\xb9\\x84\\xec\\xa4\\x91</span></span>\\'\">\\n\\n\\t\\t\\t\\t\\t\\t\\t\\n\\t\\t\\t\\t\\t\\t\\t\\t<span class=\"thumb_dim\"></span>\\n\\t\\t\\t\\t\\t\\t\\t\\t<span class=\"thumb_bd\"></span>\\n\\t\\t\\t\\t\\t\\t\\t\\t<i class=\"pm_ico_play\"><span class=\"blind\">\\xec\\x9e\\xac\\xec\\x83\\x9d</span></i>\\n\\t\\t\\t\\t\\t\\t\\t\\t<span class=\"theme_runtime\"><span class=\"runtime_bg\">\\xec\\x9e\\xac\\xec\\x83\\x9d\\xec\\x8b\\x9c\\xea\\xb0\\x84</span><em\\n\\t\\t\\t\\t\\t\\t\\t\\t\\t\\tclass=\"time\">17:01</em></span>\\n\\t\\t\\t\\t\\t\\t\\t\\n\\t\\t\\t\\t\\t\\t</div>\\n\\t\\t\\t\\t\\t\\t<div class=\"media_info\">\\n\\t\\t\\t\\t\\t\\t\\t<div class=\"info_box\">\\n\\t\\t\\t\\t\\t\\t\\t\\t\\n\\t\\t\\t\\t\\t\\t\\t\\t\\t<em class=\"theme_category\">TV \\xec\\x98\\x88\\xeb\\x8a\\xa5</em>\\n\\t\\t\\t\\t\\t\\t\\t\\t\\n\\t\\t\\t\\t\\t\\t\\t\\t\\n\\t\\t\\t\\t\\t\\t\\t\\t<strong class=\"title \">\\xec\\x99\\x84\\xec\\xa0\\x84\\xec\\xb2\\xb4\\xeb\\xa1\\x9c \\xec\\x98\\x88\\xeb\\x8a\\xa5 \\xec\\xbb\\xb4\\xeb\\xb0\\xb1\\xed\\x95\\x9c god\\xe2\\xad\\x90 \\xec\\xb2\\xab\\xec\\x9d\\xb8\\xec\\x83\\x81\\xeb\\xb6\\x80\\xed\\x84\\xb0 JYP \\xec\\x8d\\xb0\\xea\\xb9\\x8c\\xec\\xa7\\x80 \\xec\\x9b\\x83\\xec\\x9d\\x8c\\xeb\\xb3\\xb4 \\xec\\x9e\\xa5\\xec\\xb0\\xa9 \\xec\\xa4\\x80\\xeb\\xb9\\x84\\xf0\\x9f\\x92\\xa8 #highlight</strong>\\n\\t\\t\\t\\t\\t\\t\\t\\t<div class=\"source_wrap\">\\n\\t\\t\\t\\t\\t\\t\\t\\t\\t\\n\\t\\t\\t\\t\\t\\t\\t\\t\\t\\t<span class=\"date\">22\\xec\\x8b\\x9c\\xea\\xb0\\x84 \\xec\\xa0\\x84</span>\\n\\t\\t\\t\\t\\t\\t\\t\\t\\t\\t<span class=\"source\">\\n\\t\\t\\t\\t\\t\\t\\t\\t\\t\\t\\t\\n\\t\\t\\t\\t\\t\\t\\t\\t\\t\\t<span class=\"source_inner\">\\xec\\x9c\\xa0 \\xed\\x80\\xb4\\xec\\xa6\\x88 \\xec\\x98\\xa8 \\xeb\\x8d\\x94 \\xeb\\xb8\\x94\\xeb\\x9f\\xad</span>\\n\\t\\t\\t\\t\\t\\t\\t\\t\\t\\t</span>\\n\\t\\t\\t\\t\\t\\t\\t\\t\\t\\n\\t\\t\\t\\t\\t\\t\\t\\t</div>\\n\\t\\t\\t\\t\\t\\t\\t</div>\\n\\t\\t\\t\\t\\t\\t</div>\\n\\t\\t\\t\\t\\t</a>\\n\\t\\t\\t\\t\\n\\t\\t\\t\\n\\t\\t\\t\\t\\n\\t\\t\\t\\t\\t<a href=\"https://tv.naver.com/v/31379716\" class=\"media_area\" data-da-position=\"true\" data-gdid=\"PC-THEME-ENTER-RANKING-3[materials][7]\"\\n\\t\\t\\t\\t\\t   data-clk=\"tcc_tvc.list4cont8\" target=\"_blank\">\\n\\t\\t\\t\\t\\t\\t<div class=\"media_thumb\">\\n\\t\\t\\t\\t\\t\\t\\t<img \\n\\t\\t\\t\\t\\t\\t\\t     data-src=\"https://s.pstatic.net/dthumb.phinf/?src&#x3D;%22https%3A%2F%2Fs.pstatic.net%2Ftvcast.phinf%2F20221206_25%2FY2M0p_16703088641788pgGk_JPEG%2F1670308699771.jpg%22&amp;type&#x3D;nf464_260\" alt=\"\" width=\"232\" height=\"130\"\\n\\t\\t\\t\\t\\t\\t\\t     onerror=\"this.outerHTML=\\'<span class=\\\\\\'pm_noimg\\\\\\'><span class=\\\\\\'noimg_text\\\\\\'>\\xec\\x9d\\xb4\\xeb\\xaf\\xb8\\xec\\xa7\\x80 \\xec\\xa4\\x80\\xeb\\xb9\\x84\\xec\\xa4\\x91</span></span>\\'\">\\n\\n\\t\\t\\t\\t\\t\\t\\t\\n\\t\\t\\t\\t\\t\\t\\t\\t<span class=\"thumb_dim\"></span>\\n\\t\\t\\t\\t\\t\\t\\t\\t<span class=\"thumb_bd\"></span>\\n\\t\\t\\t\\t\\t\\t\\t\\t<i class=\"pm_ico_play\"><span class=\"blind\">\\xec\\x9e\\xac\\xec\\x83\\x9d</span></i>\\n\\t\\t\\t\\t\\t\\t\\t\\t<span class=\"theme_runtime\"><span class=\"runtime_bg\">\\xec\\x9e\\xac\\xec\\x83\\x9d\\xec\\x8b\\x9c\\xea\\xb0\\x84</span><em\\n\\t\\t\\t\\t\\t\\t\\t\\t\\t\\tclass=\"time\">0:58</em></span>\\n\\t\\t\\t\\t\\t\\t\\t\\n\\t\\t\\t\\t\\t\\t</div>\\n\\t\\t\\t\\t\\t\\t<div class=\"media_info\">\\n\\t\\t\\t\\t\\t\\t\\t<div class=\"info_box\">\\n\\t\\t\\t\\t\\t\\t\\t\\t\\n\\t\\t\\t\\t\\t\\t\\t\\t\\t<em class=\"theme_category\">TV \\xeb\\x93\\x9c\\xeb\\x9d\\xbc\\xeb\\xa7\\x88</em>\\n\\t\\t\\t\\t\\t\\t\\t\\t\\n\\t\\t\\t\\t\\t\\t\\t\\t\\n\\t\\t\\t\\t\\t\\t\\t\\t<strong class=\"title \">[\\xeb\\x84\\xb7\\xed\\x94\\x8c\\xeb\\xa6\\xad\\xec\\x8a\\xa4] \\xeb\\x8d\\x94 \\xed\\x8c\\xa8\\xeb\\xb7\\xb8\\xeb\\x9f\\xac\\xec\\x8a\\xa4 | \\xec\\x8a\\xa4\\xed\\x8e\\x98\\xec\\x85\\x9c \\xec\\x8b\\xac\\xec\\xbf\\xb5 \\xec\\x98\\x88\\xea\\xb3\\xa0\\xed\\x8e\\xb8</strong>\\n\\t\\t\\t\\t\\t\\t\\t\\t<div class=\"source_wrap\">\\n\\t\\t\\t\\t\\t\\t\\t\\t\\t\\n\\t\\t\\t\\t\\t\\t\\t\\t\\t\\t<span class=\"date\">\\xec\\x96\\xb4\\xec\\xa0\\x9c</span>\\n\\t\\t\\t\\t\\t\\t\\t\\t\\t\\t<span class=\"source\">\\n\\t\\t\\t\\t\\t\\t\\t\\t\\t\\t\\t\\n\\t\\t\\t\\t\\t\\t\\t\\t\\t\\t<span class=\"source_inner\">Netflix Korea</span>\\n\\t\\t\\t\\t\\t\\t\\t\\t\\t\\t</span>\\n\\t\\t\\t\\t\\t\\t\\t\\t\\t\\n\\t\\t\\t\\t\\t\\t\\t\\t</div>\\n\\t\\t\\t\\t\\t\\t\\t</div>\\n\\t\\t\\t\\t\\t\\t</div>\\n\\t\\t\\t\\t\\t</a>\\n\\t\\t\\t\\t\\n\\t\\t\\t\\n\\t\\t\\t\\t\\n\\t\\t\\t\\t\\t<a href=\"https://tv.naver.com/v/823886\" class=\"media_area\" data-da-position=\"true\" data-gdid=\"PC-THEME-ENTER-RANKING-3[materials][8]\"\\n\\t\\t\\t\\t\\t   data-clk=\"tcc_tvc.list4cont9\" target=\"_blank\">\\n\\t\\t\\t\\t\\t\\t<div class=\"media_thumb\">\\n\\t\\t\\t\\t\\t\\t\\t<img \\n\\t\\t\\t\\t\\t\\t\\t     data-src=\"https://s.pstatic.net/dthumb.phinf/?src&#x3D;%22https%3A%2F%2Fphinf.pstatic.net%2Ftvcast%2F20201105_4%2Fuxnkb_1604566684522Yz1rj_JPEG%2FB120160050_EPI0001_05_B.jpg%22&amp;type&#x3D;nf464_260\" alt=\"\" width=\"232\" height=\"130\"\\n\\t\\t\\t\\t\\t\\t\\t     onerror=\"this.outerHTML=\\'<span class=\\\\\\'pm_noimg\\\\\\'><span class=\\\\\\'noimg_text\\\\\\'>\\xec\\x9d\\xb4\\xeb\\xaf\\xb8\\xec\\xa7\\x80 \\xec\\xa4\\x80\\xeb\\xb9\\x84\\xec\\xa4\\x91</span></span>\\'\">\\n\\n\\t\\t\\t\\t\\t\\t\\t\\n\\t\\t\\t\\t\\t\\t\\t\\t<span class=\"thumb_dim\"></span>\\n\\t\\t\\t\\t\\t\\t\\t\\t<span class=\"thumb_bd\"></span>\\n\\t\\t\\t\\t\\t\\t\\t\\t<i class=\"pm_ico_play\"><span class=\"blind\">\\xec\\x9e\\xac\\xec\\x83\\x9d</span></i>\\n\\t\\t\\t\\t\\t\\t\\t\\t<span class=\"theme_runtime\"><span class=\"runtime_bg\">\\xec\\x9e\\xac\\xec\\x83\\x9d\\xec\\x8b\\x9c\\xea\\xb0\\x84</span><em\\n\\t\\t\\t\\t\\t\\t\\t\\t\\t\\tclass=\"time\">4:46</em></span>\\n\\t\\t\\t\\t\\t\\t\\t\\n\\t\\t\\t\\t\\t\\t</div>\\n\\t\\t\\t\\t\\t\\t<div class=\"media_info\">\\n\\t\\t\\t\\t\\t\\t\\t<div class=\"info_box\">\\n\\t\\t\\t\\t\\t\\t\\t\\t\\n\\t\\t\\t\\t\\t\\t\\t\\t\\t<em class=\"theme_category\">\\xec\\x9b\\xb9\\xec\\x98\\x88\\xeb\\x8a\\xa5</em>\\n\\t\\t\\t\\t\\t\\t\\t\\t\\n\\t\\t\\t\\t\\t\\t\\t\\t\\n\\t\\t\\t\\t\\t\\t\\t\\t<strong class=\"title \">\\xec\\x8b\\xa0\\xec\\x84\\x9c\\xec\\x9c\\xa0\\xea\\xb8\\xb0\\xed\\x8c\\x80 \\xed\\x9a\\x8c\\xec\\x8b\\x9d \\'\\xeb\\xaf\\xb8\\xea\\xb3\\xb5\\xea\\xb0\\x9c \\xec\\x98\\x81\\xec\\x83\\x81\\' \\xec\\x9c\\xa0\\xec\\xb6\\x9c! | CJ ENM 160419 \\xeb\\xb0\\xa9\\xec\\x86\\xa1</strong>\\n\\t\\t\\t\\t\\t\\t\\t\\t<div class=\"source_wrap\">\\n\\t\\t\\t\\t\\t\\t\\t\\t\\t\\n\\t\\t\\t\\t\\t\\t\\t\\t\\t\\t<span class=\"date\">4\\xeb\\xb6\\x84 \\xec\\xa0\\x84</span>\\n\\t\\t\\t\\t\\t\\t\\t\\t\\t\\t<span class=\"source\">\\n\\t\\t\\t\\t\\t\\t\\t\\t\\t\\t\\t\\n\\t\\t\\t\\t\\t\\t\\t\\t\\t\\t<span class=\"source_inner\">\\xef\\xbc\\x9c\\xec\\x8b\\xa0\\xec\\x84\\x9c\\xec\\x9c\\xa0\\xea\\xb8\\xb02-\\xec\\x96\\xb8\\xeb\\xa6\\xac\\xeb\\xaf\\xb8\\xed\\x8b\\xb0\\xeb\\x93\\x9c\\xef\\xbc\\x9e</span>\\n\\t\\t\\t\\t\\t\\t\\t\\t\\t\\t</span>\\n\\t\\t\\t\\t\\t\\t\\t\\t\\t\\n\\t\\t\\t\\t\\t\\t\\t\\t</div>\\n\\t\\t\\t\\t\\t\\t\\t</div>\\n\\t\\t\\t\\t\\t\\t</div>\\n\\t\\t\\t\\t\\t</a>\\n\\t\\t\\t\\t\\n\\t\\t\\t\\n\\t\\t</div>\\n\\t</div>\\n</div>\\n\\n<div class=\"group_theme\" data-block-id=\"5db0bbf2d6902f284eaffb93\" data-block-code=\"PC-THEME-ENTER-RANKING-4\" data-block-type=\"MATERIALS\" data-template-code=\"3X3\"\\n\\n     data-page=\"3\"\\n     style=\"display:none\">\\n\\n\\t<div class=\"media_view_wrap type_column\">\\n\\t\\t<div class=\"media_view\">\\n\\t\\t\\t\\n\\t\\t\\t\\t\\n\\t\\t\\t\\t\\t<a href=\"https://tv.naver.com/v/31428383\" class=\"media_area\" data-da-position=\"true\" data-gdid=\"PC-THEME-ENTER-RANKING-4[materials][0]\"\\n\\t\\t\\t\\t\\t   data-clk=\"tcc_tvc.list5cont1\" target=\"_blank\">\\n\\t\\t\\t\\t\\t\\t<div class=\"media_thumb\">\\n\\t\\t\\t\\t\\t\\t\\t<img \\n\\t\\t\\t\\t\\t\\t\\t     data-src=\"https://s.pstatic.net/dthumb.phinf/?src&#x3D;%22https%3A%2F%2Fs.pstatic.net%2Ftvcast.phinf%2F20221207_12%2FNd1qx_1670425049616nrh9n_JPEG%2Fl9e1670312244683-1280-0.jpg%22&amp;type&#x3D;nf464_260\" alt=\"\" width=\"232\" height=\"130\"\\n\\t\\t\\t\\t\\t\\t\\t     onerror=\"this.outerHTML=\\'<span class=\\\\\\'pm_noimg\\\\\\'><span class=\\\\\\'noimg_text\\\\\\'>\\xec\\x9d\\xb4\\xeb\\xaf\\xb8\\xec\\xa7\\x80 \\xec\\xa4\\x80\\xeb\\xb9\\x84\\xec\\xa4\\x91</span></span>\\'\">\\n\\n\\t\\t\\t\\t\\t\\t\\t\\n\\t\\t\\t\\t\\t\\t\\t\\t<span class=\"thumb_dim\"></span>\\n\\t\\t\\t\\t\\t\\t\\t\\t<span class=\"thumb_bd\"></span>\\n\\t\\t\\t\\t\\t\\t\\t\\t<i class=\"pm_ico_play\"><span class=\"blind\">\\xec\\x9e\\xac\\xec\\x83\\x9d</span></i>\\n\\t\\t\\t\\t\\t\\t\\t\\t<span class=\"theme_runtime\"><span class=\"runtime_bg\">\\xec\\x9e\\xac\\xec\\x83\\x9d\\xec\\x8b\\x9c\\xea\\xb0\\x84</span><em\\n\\t\\t\\t\\t\\t\\t\\t\\t\\t\\tclass=\"time\">6:45</em></span>\\n\\t\\t\\t\\t\\t\\t\\t\\n\\t\\t\\t\\t\\t\\t</div>\\n\\t\\t\\t\\t\\t\\t<div class=\"media_info\">\\n\\t\\t\\t\\t\\t\\t\\t<div class=\"info_box\">\\n\\t\\t\\t\\t\\t\\t\\t\\t\\n\\t\\t\\t\\t\\t\\t\\t\\t\\t<em class=\"theme_category\">TV \\xec\\x98\\x88\\xeb\\x8a\\xa5</em>\\n\\t\\t\\t\\t\\t\\t\\t\\t\\n\\t\\t\\t\\t\\t\\t\\t\\t\\n\\t\\t\\t\\t\\t\\t\\t\\t<strong class=\"title \">\\xeb\\x91\\x90 \\xeb\\x82\\xa8\\xec\\x9e\\x90\\xec\\x9d\\x98 \\xeb\\xa7\\x88\\xec\\x9d\\x8c\\xec\\x9d\\x84 \\xed\\x9b\\x94\\xec\\xb9\\x9c \\xed\\x98\\x84\\xec\\x88\\x99\\xec\\x9d\\x98 \\xeb\\xa7\\x88\\xec\\x9d\\x8c\\xec\\x9d\\x80? \\xea\\xb7\\x80\\xec\\x97\\xac\\xec\\x9a\\xb4 \\xec\\x98\\x81\\xed\\x98\\xb8 vs \\xeb\\xa8\\xb9\\xeb\\xa8\\xb9\\xed\\x95\\x9c \\xec\\x98\\x81\\xec\\x88\\x98!\\xe3\\x85\\xa3\\xeb\\x82\\x98\\xeb\\x8a\\x94\\xec\\x86\\x94\\xeb\\xa1\\x9c EP.74\\xe3\\x85\\xa3SBSPLUS\\xe3\\x85\\xa3\\xeb\\xa7\\xa4\\xec\\xa3\\xbc \\xec\\x88\\x98\\xec\\x9a\\x94\\xec\\x9d\\xbc \\xeb\\xb0\\xa4 10\\xec\\x8b\\x9c 30\\xeb\\xb6\\x84 \\xeb\\xb0\\xa9\\xec\\x86\\xa1</strong>\\n\\t\\t\\t\\t\\t\\t\\t\\t<div class=\"source_wrap\">\\n\\t\\t\\t\\t\\t\\t\\t\\t\\t\\n\\t\\t\\t\\t\\t\\t\\t\\t\\t\\t<span class=\"date\">21\\xec\\x8b\\x9c\\xea\\xb0\\x84 \\xec\\xa0\\x84</span>\\n\\t\\t\\t\\t\\t\\t\\t\\t\\t\\t<span class=\"source\">\\n\\t\\t\\t\\t\\t\\t\\t\\t\\t\\t\\t\\n\\t\\t\\t\\t\\t\\t\\t\\t\\t\\t<span class=\"source_inner\">\\xeb\\x82\\x98\\xeb\\x8a\\x94 SOLO</span>\\n\\t\\t\\t\\t\\t\\t\\t\\t\\t\\t</span>\\n\\t\\t\\t\\t\\t\\t\\t\\t\\t\\n\\t\\t\\t\\t\\t\\t\\t\\t</div>\\n\\t\\t\\t\\t\\t\\t\\t</div>\\n\\t\\t\\t\\t\\t\\t</div>\\n\\t\\t\\t\\t\\t</a>\\n\\t\\t\\t\\t\\n\\t\\t\\t\\n\\t\\t\\t\\t\\n\\t\\t\\t\\t\\t<a href=\"https://tv.naver.com/v/25021715\" class=\"media_area\" data-da-position=\"true\" data-gdid=\"PC-THEME-ENTER-RANKING-4[materials][1]\"\\n\\t\\t\\t\\t\\t   data-clk=\"tcc_tvc.list5cont2\" target=\"_blank\">\\n\\t\\t\\t\\t\\t\\t<div class=\"media_thumb\">\\n\\t\\t\\t\\t\\t\\t\\t<img \\n\\t\\t\\t\\t\\t\\t\\t     data-src=\"https://s.pstatic.net/dthumb.phinf/?src&#x3D;%22https%3A%2F%2Fphinf.pstatic.net%2Ftvcast%2F20220209_239%2FLcGFB_1644382713037NEMLx_PNG%2F1644382704930.png%22&amp;type&#x3D;nf464_260\" alt=\"\" width=\"232\" height=\"130\"\\n\\t\\t\\t\\t\\t\\t\\t     onerror=\"this.outerHTML=\\'<span class=\\\\\\'pm_noimg\\\\\\'><span class=\\\\\\'noimg_text\\\\\\'>\\xec\\x9d\\xb4\\xeb\\xaf\\xb8\\xec\\xa7\\x80 \\xec\\xa4\\x80\\xeb\\xb9\\x84\\xec\\xa4\\x91</span></span>\\'\">\\n\\n\\t\\t\\t\\t\\t\\t\\t\\n\\t\\t\\t\\t\\t\\t\\t\\t<span class=\"thumb_dim\"></span>\\n\\t\\t\\t\\t\\t\\t\\t\\t<span class=\"thumb_bd\"></span>\\n\\t\\t\\t\\t\\t\\t\\t\\t<i class=\"pm_ico_play\"><span class=\"blind\">\\xec\\x9e\\xac\\xec\\x83\\x9d</span></i>\\n\\t\\t\\t\\t\\t\\t\\t\\t<span class=\"theme_runtime\"><span class=\"runtime_bg\">\\xec\\x9e\\xac\\xec\\x83\\x9d\\xec\\x8b\\x9c\\xea\\xb0\\x84</span><em\\n\\t\\t\\t\\t\\t\\t\\t\\t\\t\\tclass=\"time\">0:42</em></span>\\n\\t\\t\\t\\t\\t\\t\\t\\n\\t\\t\\t\\t\\t\\t</div>\\n\\t\\t\\t\\t\\t\\t<div class=\"media_info\">\\n\\t\\t\\t\\t\\t\\t\\t<div class=\"info_box\">\\n\\t\\t\\t\\t\\t\\t\\t\\t\\n\\t\\t\\t\\t\\t\\t\\t\\t\\t<em class=\"theme_category\">\\xec\\x9b\\xb9\\xec\\x98\\x88\\xeb\\x8a\\xa5</em>\\n\\t\\t\\t\\t\\t\\t\\t\\t\\n\\t\\t\\t\\t\\t\\t\\t\\t\\n\\t\\t\\t\\t\\t\\t\\t\\t<strong class=\"title \">[\\xed\\x99\\x80\\xec\\x9d\\xb8\\xeb\\x9f\\xac\\xeb\\xb8\\x8c] \\xec\\x97\\xad\\xeb\\x8c\\x80\\xea\\xb8\\x89 \\xe2\\x80\\x98\\xec\\xa7\\x81\\xec\\xa7\\x84\\xe2\\x80\\x99\\xeb\\x82\\xa8 \\xea\\xb9\\x80\\xea\\xb0\\x95\\xec\\x97\\xb4\\xeb\\x8f\\x84 \\xeb\\xb0\\x98\\xed\\x95\\x9c \\xeb\\xa7\\xa4\\xeb\\x84\\x88\\xeb\\x82\\xa8\\xec\\x9d\\x98 \\xe2\\x80\\x98\\xec\\xa0\\x95.\\xec\\x84\\x9d\\xe2\\x80\\x99 (ft. \\xed\\x8b\\xb0\\xec\\x8a\\x88)</strong>\\n\\t\\t\\t\\t\\t\\t\\t\\t<div class=\"source_wrap\">\\n\\t\\t\\t\\t\\t\\t\\t\\t\\t\\n\\t\\t\\t\\t\\t\\t\\t\\t\\t\\t<span class=\"date\">4\\xeb\\xb6\\x84 \\xec\\xa0\\x84</span>\\n\\t\\t\\t\\t\\t\\t\\t\\t\\t\\t<span class=\"source\">\\n\\t\\t\\t\\t\\t\\t\\t\\t\\t\\t\\t\\n\\t\\t\\t\\t\\t\\t\\t\\t\\t\\t<span class=\"source_inner\">\\xec\\x8d\\xb8\\xed\\x95\\x91</span>\\n\\t\\t\\t\\t\\t\\t\\t\\t\\t\\t</span>\\n\\t\\t\\t\\t\\t\\t\\t\\t\\t\\n\\t\\t\\t\\t\\t\\t\\t\\t</div>\\n\\t\\t\\t\\t\\t\\t\\t</div>\\n\\t\\t\\t\\t\\t\\t</div>\\n\\t\\t\\t\\t\\t</a>\\n\\t\\t\\t\\t\\n\\t\\t\\t\\n\\t\\t\\t\\t\\n\\t\\t\\t\\t\\t<a href=\"https://tv.naver.com/v/31427613\" class=\"media_area\" data-da-position=\"true\" data-gdid=\"PC-THEME-ENTER-RANKING-4[materials][2]\"\\n\\t\\t\\t\\t\\t   data-clk=\"tcc_tvc.list5cont3\" target=\"_blank\">\\n\\t\\t\\t\\t\\t\\t<div class=\"media_thumb\">\\n\\t\\t\\t\\t\\t\\t\\t<img \\n\\t\\t\\t\\t\\t\\t\\t     data-src=\"https://s.pstatic.net/dthumb.phinf/?src&#x3D;%22https%3A%2F%2Fs.pstatic.net%2Ftvcast.phinf%2F20221207_123%2FzVaMg_1670422894206Xms4i_JPEG%2FKtY1670311392509-1280-0.jpg%22&amp;type&#x3D;nf464_260\" alt=\"\" width=\"232\" height=\"130\"\\n\\t\\t\\t\\t\\t\\t\\t     onerror=\"this.outerHTML=\\'<span class=\\\\\\'pm_noimg\\\\\\'><span class=\\\\\\'noimg_text\\\\\\'>\\xec\\x9d\\xb4\\xeb\\xaf\\xb8\\xec\\xa7\\x80 \\xec\\xa4\\x80\\xeb\\xb9\\x84\\xec\\xa4\\x91</span></span>\\'\">\\n\\n\\t\\t\\t\\t\\t\\t\\t\\n\\t\\t\\t\\t\\t\\t\\t\\t<span class=\"thumb_dim\"></span>\\n\\t\\t\\t\\t\\t\\t\\t\\t<span class=\"thumb_bd\"></span>\\n\\t\\t\\t\\t\\t\\t\\t\\t<i class=\"pm_ico_play\"><span class=\"blind\">\\xec\\x9e\\xac\\xec\\x83\\x9d</span></i>\\n\\t\\t\\t\\t\\t\\t\\t\\t<span class=\"theme_runtime\"><span class=\"runtime_bg\">\\xec\\x9e\\xac\\xec\\x83\\x9d\\xec\\x8b\\x9c\\xea\\xb0\\x84</span><em\\n\\t\\t\\t\\t\\t\\t\\t\\t\\t\\tclass=\"time\">9:54</em></span>\\n\\t\\t\\t\\t\\t\\t\\t\\n\\t\\t\\t\\t\\t\\t</div>\\n\\t\\t\\t\\t\\t\\t<div class=\"media_info\">\\n\\t\\t\\t\\t\\t\\t\\t<div class=\"info_box\">\\n\\t\\t\\t\\t\\t\\t\\t\\t\\n\\t\\t\\t\\t\\t\\t\\t\\t\\t<em class=\"theme_category\">TV \\xec\\x98\\x88\\xeb\\x8a\\xa5</em>\\n\\t\\t\\t\\t\\t\\t\\t\\t\\n\\t\\t\\t\\t\\t\\t\\t\\t\\n\\t\\t\\t\\t\\t\\t\\t\\t<strong class=\"title \">\\xec\\x8a\\x88\\xed\\x8d\\xbc \\xeb\\x8d\\xb0\\xec\\x9d\\xb4\\xed\\x8a\\xb8\\xea\\xb6\\x8c \\xed\\x9a\\x8d\\xeb\\x93\\x9d\\xec\\x9d\\x98 \\xec\\x8b\\x9c\\xea\\xb0\\x84! \\xea\\xb0\\x80\\xec\\x9e\\xa5 \\xec\\xa0\\x88\\xec\\x8b\\xa4\\xed\\x95\\x9c \\xec\\x82\\xac\\xeb\\x9e\\x8c\\xeb\\xa7\\x8c\\xec\\x9d\\xb4 \\xea\\xb0\\x80\\xec\\xa7\\x88 \\xec\\x88\\x98 \\xec\\x9e\\x88\\xeb\\x8b\\xa4! \\xea\\xb7\\xb8 \\xec\\x82\\xac\\xeb\\x9e\\x8c\\xec\\x9d\\x80 \\xea\\xb3\\xbc\\xec\\x97\\xb0 \\xeb\\x88\\x84\\xea\\xb5\\xac...?\\xe3\\x85\\xa3\\xeb\\x82\\x98\\xeb\\x8a\\x94\\xec\\x86\\x94\\xeb\\xa1\\x9c EP.74\\xe3\\x85\\xa3SBSPLUS\\xe3\\x85\\xa3\\xeb\\xa7\\xa4\\xec\\xa3\\xbc \\xec\\x88\\x98\\xec\\x9a\\x94\\xec\\x9d\\xbc \\xeb\\xb0\\xa4 10\\xec\\x8b\\x9c 30\\xeb\\xb6\\x84 \\xeb\\xb0\\xa9\\xec\\x86\\xa1</strong>\\n\\t\\t\\t\\t\\t\\t\\t\\t<div class=\"source_wrap\">\\n\\t\\t\\t\\t\\t\\t\\t\\t\\t\\n\\t\\t\\t\\t\\t\\t\\t\\t\\t\\t<span class=\"date\">22\\xec\\x8b\\x9c\\xea\\xb0\\x84 \\xec\\xa0\\x84</span>\\n\\t\\t\\t\\t\\t\\t\\t\\t\\t\\t<span class=\"source\">\\n\\t\\t\\t\\t\\t\\t\\t\\t\\t\\t\\t\\n\\t\\t\\t\\t\\t\\t\\t\\t\\t\\t<span class=\"source_inner\">\\xeb\\x82\\x98\\xeb\\x8a\\x94 SOLO</span>\\n\\t\\t\\t\\t\\t\\t\\t\\t\\t\\t</span>\\n\\t\\t\\t\\t\\t\\t\\t\\t\\t\\n\\t\\t\\t\\t\\t\\t\\t\\t</div>\\n\\t\\t\\t\\t\\t\\t\\t</div>\\n\\t\\t\\t\\t\\t\\t</div>\\n\\t\\t\\t\\t\\t</a>\\n\\t\\t\\t\\t\\n\\t\\t\\t\\n\\t\\t\\t\\t\\n\\t\\t\\t\\t\\t<a href=\"https://tv.naver.com/v/29995982\" class=\"media_area\" data-da-position=\"true\" data-gdid=\"PC-THEME-ENTER-RANKING-4[materials][3]\"\\n\\t\\t\\t\\t\\t   data-clk=\"tcc_tvc.list5cont4\" target=\"_blank\">\\n\\t\\t\\t\\t\\t\\t<div class=\"media_thumb\">\\n\\t\\t\\t\\t\\t\\t\\t<img \\n\\t\\t\\t\\t\\t\\t\\t     data-src=\"https://s.pstatic.net/dthumb.phinf/?src&#x3D;%22https%3A%2F%2Fphinf.pstatic.net%2Ftvcast%2F20221017_243%2F1rwH1_1666006625071uFuT0_JPEG%2Fdbb6cbd2-539e-4999-828e-c44cc53a0a4d_B.jpg%22&amp;type&#x3D;nf464_260\" alt=\"\" width=\"232\" height=\"130\"\\n\\t\\t\\t\\t\\t\\t\\t     onerror=\"this.outerHTML=\\'<span class=\\\\\\'pm_noimg\\\\\\'><span class=\\\\\\'noimg_text\\\\\\'>\\xec\\x9d\\xb4\\xeb\\xaf\\xb8\\xec\\xa7\\x80 \\xec\\xa4\\x80\\xeb\\xb9\\x84\\xec\\xa4\\x91</span></span>\\'\">\\n\\n\\t\\t\\t\\t\\t\\t\\t\\n\\t\\t\\t\\t\\t\\t\\t\\t<span class=\"thumb_dim\"></span>\\n\\t\\t\\t\\t\\t\\t\\t\\t<span class=\"thumb_bd\"></span>\\n\\t\\t\\t\\t\\t\\t\\t\\t<i class=\"pm_ico_play\"><span class=\"blind\">\\xec\\x9e\\xac\\xec\\x83\\x9d</span></i>\\n\\t\\t\\t\\t\\t\\t\\t\\t<span class=\"theme_runtime\"><span class=\"runtime_bg\">\\xec\\x9e\\xac\\xec\\x83\\x9d\\xec\\x8b\\x9c\\xea\\xb0\\x84</span><em\\n\\t\\t\\t\\t\\t\\t\\t\\t\\t\\tclass=\"time\">22:50</em></span>\\n\\t\\t\\t\\t\\t\\t\\t\\n\\t\\t\\t\\t\\t\\t</div>\\n\\t\\t\\t\\t\\t\\t<div class=\"media_info\">\\n\\t\\t\\t\\t\\t\\t\\t<div class=\"info_box\">\\n\\t\\t\\t\\t\\t\\t\\t\\t\\n\\t\\t\\t\\t\\t\\t\\t\\t\\t<em class=\"theme_category\">\\xec\\x9b\\xb9\\xec\\x98\\x88\\xeb\\x8a\\xa5</em>\\n\\t\\t\\t\\t\\t\\t\\t\\t\\n\\t\\t\\t\\t\\t\\t\\t\\t\\n\\t\\t\\t\\t\\t\\t\\t\\t<strong class=\"title \">\\xeb\\xa5\\xb4\\xec\\x84\\xb8\\xeb\\x9d\\xbc\\xed\\x95\\x8c, \\xe3\\x85\\x87\\xe3\\x85\\x87\\xed\\x95\\x9c\\xed\\x85\\x8c \\xeb\\xbd\\x80\\xeb\\xbd\\x80 \\xea\\xb0\\x80\\xeb\\x8a\\xa5? \\xeb\\xb0\\x95\\xec\\x8a\\xa4 \\xec\\x86\\x8d \\xeb\\xac\\xbc\\xea\\xb1\\xb4\\xec\\x9d\\x98 \\xec\\xa0\\x95\\xec\\xb2\\xb4\\xeb\\x8a\\x94?! | LE SSERAFIM COMEBACKSHOW | M2 221017 \\xeb\\xb0\\xa9\\xec\\x86\\xa1</strong>\\n\\t\\t\\t\\t\\t\\t\\t\\t<div class=\"source_wrap\">\\n\\t\\t\\t\\t\\t\\t\\t\\t\\t\\n\\t\\t\\t\\t\\t\\t\\t\\t\\t\\t<span class=\"date\">4\\xeb\\xb6\\x84 \\xec\\xa0\\x84</span>\\n\\t\\t\\t\\t\\t\\t\\t\\t\\t\\t<span class=\"source\">\\n\\t\\t\\t\\t\\t\\t\\t\\t\\t\\t\\t\\n\\t\\t\\t\\t\\t\\t\\t\\t\\t\\t<span class=\"source_inner\">Mnet M2 (\\xec\\x97\\xa0\\xed\\x88\\xac)</span>\\n\\t\\t\\t\\t\\t\\t\\t\\t\\t\\t</span>\\n\\t\\t\\t\\t\\t\\t\\t\\t\\t\\n\\t\\t\\t\\t\\t\\t\\t\\t</div>\\n\\t\\t\\t\\t\\t\\t\\t</div>\\n\\t\\t\\t\\t\\t\\t</div>\\n\\t\\t\\t\\t\\t</a>\\n\\t\\t\\t\\t\\n\\t\\t\\t\\n\\t\\t\\t\\t\\n\\t\\t\\t\\t\\t<a href=\"https://tv.naver.com/v/15583729\" class=\"media_area\" data-da-position=\"true\" data-gdid=\"PC-THEME-ENTER-RANKING-4[materials][4]\"\\n\\t\\t\\t\\t\\t   data-clk=\"tcc_tvc.list5cont5\" target=\"_blank\">\\n\\t\\t\\t\\t\\t\\t<div class=\"media_thumb\">\\n\\t\\t\\t\\t\\t\\t\\t<img \\n\\t\\t\\t\\t\\t\\t\\t     data-src=\"https://s.pstatic.net/dthumb.phinf/?src&#x3D;%22https%3A%2F%2Fphinf.pstatic.net%2Ftvcast%2F20200903_147%2FmPPRy_1599117956868vxcsW_JPEG%2F1599117677709.jpg%22&amp;type&#x3D;nf464_260\" alt=\"\" width=\"232\" height=\"130\"\\n\\t\\t\\t\\t\\t\\t\\t     onerror=\"this.outerHTML=\\'<span class=\\\\\\'pm_noimg\\\\\\'><span class=\\\\\\'noimg_text\\\\\\'>\\xec\\x9d\\xb4\\xeb\\xaf\\xb8\\xec\\xa7\\x80 \\xec\\xa4\\x80\\xeb\\xb9\\x84\\xec\\xa4\\x91</span></span>\\'\">\\n\\n\\t\\t\\t\\t\\t\\t\\t\\n\\t\\t\\t\\t\\t\\t\\t\\t<span class=\"thumb_dim\"></span>\\n\\t\\t\\t\\t\\t\\t\\t\\t<span class=\"thumb_bd\"></span>\\n\\t\\t\\t\\t\\t\\t\\t\\t<i class=\"pm_ico_play\"><span class=\"blind\">\\xec\\x9e\\xac\\xec\\x83\\x9d</span></i>\\n\\t\\t\\t\\t\\t\\t\\t\\t<span class=\"theme_runtime\"><span class=\"runtime_bg\">\\xec\\x9e\\xac\\xec\\x83\\x9d\\xec\\x8b\\x9c\\xea\\xb0\\x84</span><em\\n\\t\\t\\t\\t\\t\\t\\t\\t\\t\\tclass=\"time\">1:40</em></span>\\n\\t\\t\\t\\t\\t\\t\\t\\n\\t\\t\\t\\t\\t\\t</div>\\n\\t\\t\\t\\t\\t\\t<div class=\"media_info\">\\n\\t\\t\\t\\t\\t\\t\\t<div class=\"info_box\">\\n\\t\\t\\t\\t\\t\\t\\t\\t\\n\\t\\t\\t\\t\\t\\t\\t\\t\\t<em class=\"theme_category\">\\xec\\x9b\\xb9\\xeb\\x93\\x9c\\xeb\\x9d\\xbc\\xeb\\xa7\\x88</em>\\n\\t\\t\\t\\t\\t\\t\\t\\t\\n\\t\\t\\t\\t\\t\\t\\t\\t\\n\\t\\t\\t\\t\\t\\t\\t\\t<strong class=\"title \">\\'\\xec\\x97\\xb0\\xec\\x95\\xa0\\xed\\x98\\x81\\xeb\\xaa\\x85\\' - \"4\\xf0\\x9f\\x91\\x82\\xf0\\x9f\\x8f\\xbb\\xf0\\x9f\\x93\\x8f\\xe2\\x80\\x9d \\xec\\x8b\\xa4\\xec\\x82\\xac\\xeb\\xa1\\x9c \\xeb\\xb3\\xb4\\xeb\\x8b\\x88 \\xeb\\x8d\\x94 \\xec\\x8b\\xac\\xec\\xbf\\xb5!?</strong>\\n\\t\\t\\t\\t\\t\\t\\t\\t<div class=\"source_wrap\">\\n\\t\\t\\t\\t\\t\\t\\t\\t\\t\\n\\t\\t\\t\\t\\t\\t\\t\\t\\t\\t<span class=\"date\">4\\xeb\\xb6\\x84 \\xec\\xa0\\x84</span>\\n\\t\\t\\t\\t\\t\\t\\t\\t\\t\\t<span class=\"source\">\\n\\t\\t\\t\\t\\t\\t\\t\\t\\t\\t\\t\\n\\t\\t\\t\\t\\t\\t\\t\\t\\t\\t<span class=\"source_inner\">\\xeb\\x84\\xa4\\xec\\x9d\\xb4\\xeb\\xb2\\x84 \\xec\\x9b\\xb9\\xed\\x88\\xb0</span>\\n\\t\\t\\t\\t\\t\\t\\t\\t\\t\\t</span>\\n\\t\\t\\t\\t\\t\\t\\t\\t\\t\\n\\t\\t\\t\\t\\t\\t\\t\\t</div>\\n\\t\\t\\t\\t\\t\\t\\t</div>\\n\\t\\t\\t\\t\\t\\t</div>\\n\\t\\t\\t\\t\\t</a>\\n\\t\\t\\t\\t\\n\\t\\t\\t\\n\\t\\t\\t\\t\\n\\t\\t\\t\\t\\t<a href=\"https://tv.naver.com/v/15541717\" class=\"media_area\" data-da-position=\"true\" data-gdid=\"PC-THEME-ENTER-RANKING-4[materials][5]\"\\n\\t\\t\\t\\t\\t   data-clk=\"tcc_tvc.list5cont6\" target=\"_blank\">\\n\\t\\t\\t\\t\\t\\t<div class=\"media_thumb\">\\n\\t\\t\\t\\t\\t\\t\\t<img \\n\\t\\t\\t\\t\\t\\t\\t     data-src=\"https://s.pstatic.net/dthumb.phinf/?src&#x3D;%22https%3A%2F%2Fphinf.pstatic.net%2Ftvcast%2F20200901_41%2FLRZkh_1598931189167PP675_JPEG%2F1598930958646.jpg%22&amp;type&#x3D;nf464_260\" alt=\"\" width=\"232\" height=\"130\"\\n\\t\\t\\t\\t\\t\\t\\t     onerror=\"this.outerHTML=\\'<span class=\\\\\\'pm_noimg\\\\\\'><span class=\\\\\\'noimg_text\\\\\\'>\\xec\\x9d\\xb4\\xeb\\xaf\\xb8\\xec\\xa7\\x80 \\xec\\xa4\\x80\\xeb\\xb9\\x84\\xec\\xa4\\x91</span></span>\\'\">\\n\\n\\t\\t\\t\\t\\t\\t\\t\\n\\t\\t\\t\\t\\t\\t\\t\\t<span class=\"thumb_dim\"></span>\\n\\t\\t\\t\\t\\t\\t\\t\\t<span class=\"thumb_bd\"></span>\\n\\t\\t\\t\\t\\t\\t\\t\\t<i class=\"pm_ico_play\"><span class=\"blind\">\\xec\\x9e\\xac\\xec\\x83\\x9d</span></i>\\n\\t\\t\\t\\t\\t\\t\\t\\t<span class=\"theme_runtime\"><span class=\"runtime_bg\">\\xec\\x9e\\xac\\xec\\x83\\x9d\\xec\\x8b\\x9c\\xea\\xb0\\x84</span><em\\n\\t\\t\\t\\t\\t\\t\\t\\t\\t\\tclass=\"time\">0:18</em></span>\\n\\t\\t\\t\\t\\t\\t\\t\\n\\t\\t\\t\\t\\t\\t</div>\\n\\t\\t\\t\\t\\t\\t<div class=\"media_info\">\\n\\t\\t\\t\\t\\t\\t\\t<div class=\"info_box\">\\n\\t\\t\\t\\t\\t\\t\\t\\t\\n\\t\\t\\t\\t\\t\\t\\t\\t\\t<em class=\"theme_category\">\\xec\\x9b\\xb9\\xeb\\x93\\x9c\\xeb\\x9d\\xbc\\xeb\\xa7\\x88</em>\\n\\t\\t\\t\\t\\t\\t\\t\\t\\n\\t\\t\\t\\t\\t\\t\\t\\t\\n\\t\\t\\t\\t\\t\\t\\t\\t<strong class=\"title \">\\'\\xec\\x97\\xb0\\xec\\x95\\xa0\\xed\\x98\\x81\\xeb\\xaa\\x85\\' - \\xeb\\x93\\x9c\\xeb\\x9d\\xbc\\xeb\\xa7\\x88 9\\xec\\x9b\\x941\\xec\\x9d\\xbc \\xec\\xb2\\xab\\xeb\\xb0\\xa9 \\xeb\\xac\\xb4\\xeb\\xa3\\x8c \\xea\\xb3\\xb5\\xea\\xb0\\x9c!</strong>\\n\\t\\t\\t\\t\\t\\t\\t\\t<div class=\"source_wrap\">\\n\\t\\t\\t\\t\\t\\t\\t\\t\\t\\n\\t\\t\\t\\t\\t\\t\\t\\t\\t\\t<span class=\"date\">4\\xeb\\xb6\\x84 \\xec\\xa0\\x84</span>\\n\\t\\t\\t\\t\\t\\t\\t\\t\\t\\t<span class=\"source\">\\n\\t\\t\\t\\t\\t\\t\\t\\t\\t\\t\\t\\n\\t\\t\\t\\t\\t\\t\\t\\t\\t\\t<span class=\"source_inner\">\\xeb\\x84\\xa4\\xec\\x9d\\xb4\\xeb\\xb2\\x84 \\xec\\x9b\\xb9\\xed\\x88\\xb0</span>\\n\\t\\t\\t\\t\\t\\t\\t\\t\\t\\t</span>\\n\\t\\t\\t\\t\\t\\t\\t\\t\\t\\n\\t\\t\\t\\t\\t\\t\\t\\t</div>\\n\\t\\t\\t\\t\\t\\t\\t</div>\\n\\t\\t\\t\\t\\t\\t</div>\\n\\t\\t\\t\\t\\t</a>\\n\\t\\t\\t\\t\\n\\t\\t\\t\\n\\t\\t\\t\\t\\n\\t\\t\\t\\t\\t<a href=\"https://tv.naver.com/v/31408836\" class=\"media_area\" data-da-position=\"true\" data-gdid=\"PC-THEME-ENTER-RANKING-4[materials][6]\"\\n\\t\\t\\t\\t\\t   data-clk=\"tcc_tvc.list5cont7\" target=\"_blank\">\\n\\t\\t\\t\\t\\t\\t<div class=\"media_thumb\">\\n\\t\\t\\t\\t\\t\\t\\t<img \\n\\t\\t\\t\\t\\t\\t\\t     data-src=\"https://s.pstatic.net/dthumb.phinf/?src&#x3D;%22https%3A%2F%2Fs.pstatic.net%2Ftvcast.phinf%2F20221207_178%2Fk5N6e_1670388990133oy1jn_JPEG%2Fd8493ed4-1b0e-4e73-b5be-3479e87f9c68_B.jpg%22&amp;type&#x3D;nf464_260\" alt=\"\" width=\"232\" height=\"130\"\\n\\t\\t\\t\\t\\t\\t\\t     onerror=\"this.outerHTML=\\'<span class=\\\\\\'pm_noimg\\\\\\'><span class=\\\\\\'noimg_text\\\\\\'>\\xec\\x9d\\xb4\\xeb\\xaf\\xb8\\xec\\xa7\\x80 \\xec\\xa4\\x80\\xeb\\xb9\\x84\\xec\\xa4\\x91</span></span>\\'\">\\n\\n\\t\\t\\t\\t\\t\\t\\t\\n\\t\\t\\t\\t\\t\\t\\t\\t<span class=\"thumb_dim\"></span>\\n\\t\\t\\t\\t\\t\\t\\t\\t<span class=\"thumb_bd\"></span>\\n\\t\\t\\t\\t\\t\\t\\t\\t<i class=\"pm_ico_play\"><span class=\"blind\">\\xec\\x9e\\xac\\xec\\x83\\x9d</span></i>\\n\\t\\t\\t\\t\\t\\t\\t\\t<span class=\"theme_runtime\"><span class=\"runtime_bg\">\\xec\\x9e\\xac\\xec\\x83\\x9d\\xec\\x8b\\x9c\\xea\\xb0\\x84</span><em\\n\\t\\t\\t\\t\\t\\t\\t\\t\\t\\tclass=\"time\">14:01</em></span>\\n\\t\\t\\t\\t\\t\\t\\t\\n\\t\\t\\t\\t\\t\\t</div>\\n\\t\\t\\t\\t\\t\\t<div class=\"media_info\">\\n\\t\\t\\t\\t\\t\\t\\t<div class=\"info_box\">\\n\\t\\t\\t\\t\\t\\t\\t\\t\\n\\t\\t\\t\\t\\t\\t\\t\\t\\t<em class=\"theme_category\">TV \\xeb\\x93\\x9c\\xeb\\x9d\\xbc\\xeb\\xa7\\x88</em>\\n\\t\\t\\t\\t\\t\\t\\t\\t\\n\\t\\t\\t\\t\\t\\t\\t\\t\\n\\t\\t\\t\\t\\t\\t\\t\\t<strong class=\"title \">[\\xeb\\xa9\\x94\\xec\\x9d\\xb4\\xed\\x82\\xb9] \\xec\\xb0\\xb8\\xec\\x9d\\x84 \\xec\\x88\\x98 \\xec\\x97\\x86\\xeb\\x8a\\x94 \\xec\\x9b\\x83\\xec\\x9d\\x8c\\xea\\xb3\\xbc \\xea\\xb7\\xb8\\xeb\\xa0\\x81\\xea\\xb7\\xb8\\xeb\\xa0\\x81 \\xeb\\x88\\x88\\xeb\\xac\\xbc\\xea\\xb9\\x8c\\xec\\xa7\\x80! \\xec\\x95\\xa0\\xed\\x8b\\x8b\\xed\\x95\\x9c \\xeb\\xa7\\x88\\xec\\xa7\\x80\\xeb\\xa7\\x89 \\xec\\xb4\\xac\\xec\\x98\\x81 \\xed\\x98\\x84\\xec\\x9e\\xa5!</strong>\\n\\t\\t\\t\\t\\t\\t\\t\\t<div class=\"source_wrap\">\\n\\t\\t\\t\\t\\t\\t\\t\\t\\t\\n\\t\\t\\t\\t\\t\\t\\t\\t\\t\\t<span class=\"date\">\\xec\\x96\\xb4\\xec\\xa0\\x9c</span>\\n\\t\\t\\t\\t\\t\\t\\t\\t\\t\\t<span class=\"source\">\\n\\t\\t\\t\\t\\t\\t\\t\\t\\t\\t\\t\\n\\t\\t\\t\\t\\t\\t\\t\\t\\t\\t<span class=\"source_inner\">\\xec\\x8a\\x88\\xeb\\xa3\\xb9</span>\\n\\t\\t\\t\\t\\t\\t\\t\\t\\t\\t</span>\\n\\t\\t\\t\\t\\t\\t\\t\\t\\t\\n\\t\\t\\t\\t\\t\\t\\t\\t</div>\\n\\t\\t\\t\\t\\t\\t\\t</div>\\n\\t\\t\\t\\t\\t\\t</div>\\n\\t\\t\\t\\t\\t</a>\\n\\t\\t\\t\\t\\n\\t\\t\\t\\n\\t\\t\\t\\t\\n\\t\\t\\t\\t\\t<a href=\"https://tv.naver.com/v/30777559\" class=\"media_area\" data-da-position=\"true\" data-gdid=\"PC-THEME-ENTER-RANKING-4[materials][7]\"\\n\\t\\t\\t\\t\\t   data-clk=\"tcc_tvc.list5cont8\" target=\"_blank\">\\n\\t\\t\\t\\t\\t\\t<div class=\"media_thumb\">\\n\\t\\t\\t\\t\\t\\t\\t<img \\n\\t\\t\\t\\t\\t\\t\\t     data-src=\"https://s.pstatic.net/dthumb.phinf/?src&#x3D;%22https%3A%2F%2Fphinf.pstatic.net%2Ftvcast%2F20221115_244%2Fvwjmw_1668480168601fESgn_JPEG%2F1668479907266.jpg%22&amp;type&#x3D;nf464_260\" alt=\"\" width=\"232\" height=\"130\"\\n\\t\\t\\t\\t\\t\\t\\t     onerror=\"this.outerHTML=\\'<span class=\\\\\\'pm_noimg\\\\\\'><span class=\\\\\\'noimg_text\\\\\\'>\\xec\\x9d\\xb4\\xeb\\xaf\\xb8\\xec\\xa7\\x80 \\xec\\xa4\\x80\\xeb\\xb9\\x84\\xec\\xa4\\x91</span></span>\\'\">\\n\\n\\t\\t\\t\\t\\t\\t\\t\\n\\t\\t\\t\\t\\t\\t\\t\\t<span class=\"thumb_dim\"></span>\\n\\t\\t\\t\\t\\t\\t\\t\\t<span class=\"thumb_bd\"></span>\\n\\t\\t\\t\\t\\t\\t\\t\\t<i class=\"pm_ico_play\"><span class=\"blind\">\\xec\\x9e\\xac\\xec\\x83\\x9d</span></i>\\n\\t\\t\\t\\t\\t\\t\\t\\t<span class=\"theme_runtime\"><span class=\"runtime_bg\">\\xec\\x9e\\xac\\xec\\x83\\x9d\\xec\\x8b\\x9c\\xea\\xb0\\x84</span><em\\n\\t\\t\\t\\t\\t\\t\\t\\t\\t\\tclass=\"time\">2:0</em></span>\\n\\t\\t\\t\\t\\t\\t\\t\\n\\t\\t\\t\\t\\t\\t</div>\\n\\t\\t\\t\\t\\t\\t<div class=\"media_info\">\\n\\t\\t\\t\\t\\t\\t\\t<div class=\"info_box\">\\n\\t\\t\\t\\t\\t\\t\\t\\t\\n\\t\\t\\t\\t\\t\\t\\t\\t\\t<em class=\"theme_category\">\\xec\\x9b\\xb9\\xeb\\x93\\x9c\\xeb\\x9d\\xbc\\xeb\\xa7\\x88</em>\\n\\t\\t\\t\\t\\t\\t\\t\\t\\n\\t\\t\\t\\t\\t\\t\\t\\t\\n\\t\\t\\t\\t\\t\\t\\t\\t<strong class=\"title \">\\xec\\x9b\\x90\\xed\\x83\\x91 \\xed\\x95\\x99\\xec\\x9b\\x90\\xeb\\xac\\xbc\\xec\\x9d\\xb4 \\xec\\x97\\xb0\\xea\\xb8\\xb0\\xed\\x8c\\x8c \\xeb\\xb0\\xb0\\xec\\x9a\\xb0\\xeb\\x93\\xa4\\xec\\x9d\\x84 \\xeb\\xa7\\x8c\\xeb\\x82\\x98\\xeb\\xa9\\xb4? - \\xeb\\x93\\x9c\\xeb\\x9d\\xbc\\xeb\\xa7\\x88 \\xe2\\x80\\x98\\xec\\x95\\xbd\\xed\\x95\\x9c\\xec\\x98\\x81\\xec\\x9b\\x85\\' \\xec\\xba\\x90\\xeb\\xa6\\xad\\xed\\x84\\xb0 \\xec\\x86\\x8c\\xea\\xb0\\x9c</strong>\\n\\t\\t\\t\\t\\t\\t\\t\\t<div class=\"source_wrap\">\\n\\t\\t\\t\\t\\t\\t\\t\\t\\t\\n\\t\\t\\t\\t\\t\\t\\t\\t\\t\\t<span class=\"date\">4\\xeb\\xb6\\x84 \\xec\\xa0\\x84</span>\\n\\t\\t\\t\\t\\t\\t\\t\\t\\t\\t<span class=\"source\">\\n\\t\\t\\t\\t\\t\\t\\t\\t\\t\\t\\t\\n\\t\\t\\t\\t\\t\\t\\t\\t\\t\\t<span class=\"source_inner\">\\xeb\\x84\\xa4\\xec\\x9d\\xb4\\xeb\\xb2\\x84 \\xec\\x9b\\xb9\\xed\\x88\\xb0</span>\\n\\t\\t\\t\\t\\t\\t\\t\\t\\t\\t</span>\\n\\t\\t\\t\\t\\t\\t\\t\\t\\t\\n\\t\\t\\t\\t\\t\\t\\t\\t</div>\\n\\t\\t\\t\\t\\t\\t\\t</div>\\n\\t\\t\\t\\t\\t\\t</div>\\n\\t\\t\\t\\t\\t</a>\\n\\t\\t\\t\\t\\n\\t\\t\\t\\n\\t\\t\\t\\t\\n\\t\\t\\t\\t\\t<a href=\"https://tv.naver.com/v/25021698\" class=\"media_area\" data-da-position=\"true\" data-gdid=\"PC-THEME-ENTER-RANKING-4[materials][8]\"\\n\\t\\t\\t\\t\\t   data-clk=\"tcc_tvc.list5cont9\" target=\"_blank\">\\n\\t\\t\\t\\t\\t\\t<div class=\"media_thumb\">\\n\\t\\t\\t\\t\\t\\t\\t<img \\n\\t\\t\\t\\t\\t\\t\\t     data-src=\"https://s.pstatic.net/dthumb.phinf/?src&#x3D;%22https%3A%2F%2Fphinf.pstatic.net%2Ftvcast%2F20220209_39%2Fv7fJd_164438162266270Jhm_PNG%2F1644381616731.png%22&amp;type&#x3D;nf464_260\" alt=\"\" width=\"232\" height=\"130\"\\n\\t\\t\\t\\t\\t\\t\\t     onerror=\"this.outerHTML=\\'<span class=\\\\\\'pm_noimg\\\\\\'><span class=\\\\\\'noimg_text\\\\\\'>\\xec\\x9d\\xb4\\xeb\\xaf\\xb8\\xec\\xa7\\x80 \\xec\\xa4\\x80\\xeb\\xb9\\x84\\xec\\xa4\\x91</span></span>\\'\">\\n\\n\\t\\t\\t\\t\\t\\t\\t\\n\\t\\t\\t\\t\\t\\t\\t\\t<span class=\"thumb_dim\"></span>\\n\\t\\t\\t\\t\\t\\t\\t\\t<span class=\"thumb_bd\"></span>\\n\\t\\t\\t\\t\\t\\t\\t\\t<i class=\"pm_ico_play\"><span class=\"blind\">\\xec\\x9e\\xac\\xec\\x83\\x9d</span></i>\\n\\t\\t\\t\\t\\t\\t\\t\\t<span class=\"theme_runtime\"><span class=\"runtime_bg\">\\xec\\x9e\\xac\\xec\\x83\\x9d\\xec\\x8b\\x9c\\xea\\xb0\\x84</span><em\\n\\t\\t\\t\\t\\t\\t\\t\\t\\t\\tclass=\"time\">0:57</em></span>\\n\\t\\t\\t\\t\\t\\t\\t\\n\\t\\t\\t\\t\\t\\t</div>\\n\\t\\t\\t\\t\\t\\t<div class=\"media_info\">\\n\\t\\t\\t\\t\\t\\t\\t<div class=\"info_box\">\\n\\t\\t\\t\\t\\t\\t\\t\\t\\n\\t\\t\\t\\t\\t\\t\\t\\t\\t<em class=\"theme_category\">\\xec\\x9b\\xb9\\xec\\x98\\x88\\xeb\\x8a\\xa5</em>\\n\\t\\t\\t\\t\\t\\t\\t\\t\\n\\t\\t\\t\\t\\t\\t\\t\\t\\n\\t\\t\\t\\t\\t\\t\\t\\t<strong class=\"title \">[\\xed\\x99\\x80\\xec\\x9d\\xb8\\xeb\\x9f\\xac\\xeb\\xb8\\x8c] \\xec\\xb0\\xa8\\xea\\xb0\\x91\\xea\\xb2\\x8c\\xeb\\xa7\\x8c \\xeb\\xb3\\xb4\\xec\\x9d\\xb4\\xeb\\x8d\\x98 \\xea\\xb7\\xb8\\xeb\\x85\\x80\\xeb\\x8a\\x94 \\xec\\x8a\\xa4\\xec\\x9c\\x97\\xed\\x95\\x9c \\xe2\\x80\\x98\\xea\\xb0\\x80\\xec\\xa3\\xbd\\xea\\xb3\\xb5\\xeb\\xb0\\xa9 \\xec\\x84\\xa0\\xec\\x83\\x9d\\xeb\\x8b\\x98\\xe2\\x80\\x99?\\xf0\\x9f\\x98\\xb2</strong>\\n\\t\\t\\t\\t\\t\\t\\t\\t<div class=\"source_wrap\">\\n\\t\\t\\t\\t\\t\\t\\t\\t\\t\\n\\t\\t\\t\\t\\t\\t\\t\\t\\t\\t<span class=\"date\">4\\xeb\\xb6\\x84 \\xec\\xa0\\x84</span>\\n\\t\\t\\t\\t\\t\\t\\t\\t\\t\\t<span class=\"source\">\\n\\t\\t\\t\\t\\t\\t\\t\\t\\t\\t\\t\\n\\t\\t\\t\\t\\t\\t\\t\\t\\t\\t<span class=\"source_inner\">\\xec\\x8d\\xb8\\xed\\x95\\x91</span>\\n\\t\\t\\t\\t\\t\\t\\t\\t\\t\\t</span>\\n\\t\\t\\t\\t\\t\\t\\t\\t\\t\\n\\t\\t\\t\\t\\t\\t\\t\\t</div>\\n\\t\\t\\t\\t\\t\\t\\t</div>\\n\\t\\t\\t\\t\\t\\t</div>\\n\\t\\t\\t\\t\\t</a>\\n\\t\\t\\t\\t\\n\\t\\t\\t\\n\\t\\t</div>\\n\\t</div>\\n</div>\\n\\n<div class=\"group_theme\" data-block-id=\"5db0bbf2d6902f284eaffbb2\" data-block-code=\"PC-THEME-ENTER-RANKING-5\" data-block-type=\"MATERIALS\" data-template-code=\"3X3\"\\n\\n     data-page=\"3\"\\n     style=\"display:none\">\\n\\n\\t<div class=\"media_view_wrap type_column\">\\n\\t\\t<div class=\"media_view\">\\n\\t\\t\\t\\n\\t\\t\\t\\t\\n\\t\\t\\t\\t\\t<a href=\"https://tv.naver.com/v/31448828\" class=\"media_area\" data-da-position=\"true\" data-gdid=\"PC-THEME-ENTER-RANKING-5[materials][0]\"\\n\\t\\t\\t\\t\\t   data-clk=\"tcc_tvc.list6cont1\" target=\"_blank\">\\n\\t\\t\\t\\t\\t\\t<div class=\"media_thumb\">\\n\\t\\t\\t\\t\\t\\t\\t<img \\n\\t\\t\\t\\t\\t\\t\\t     data-src=\"https://s.pstatic.net/dthumb.phinf/?src&#x3D;%22https%3A%2F%2Fs.pstatic.net%2Ftvcast.phinf%2F20221208_172%2FWq3Td_1670489499503hKgJ8_JPEG%2F20221208_173532_764_1.jpg%22&amp;type&#x3D;nf464_260\" alt=\"\" width=\"232\" height=\"130\"\\n\\t\\t\\t\\t\\t\\t\\t     onerror=\"this.outerHTML=\\'<span class=\\\\\\'pm_noimg\\\\\\'><span class=\\\\\\'noimg_text\\\\\\'>\\xec\\x9d\\xb4\\xeb\\xaf\\xb8\\xec\\xa7\\x80 \\xec\\xa4\\x80\\xeb\\xb9\\x84\\xec\\xa4\\x91</span></span>\\'\">\\n\\n\\t\\t\\t\\t\\t\\t\\t\\n\\t\\t\\t\\t\\t\\t\\t\\t<span class=\"thumb_dim\"></span>\\n\\t\\t\\t\\t\\t\\t\\t\\t<span class=\"thumb_bd\"></span>\\n\\t\\t\\t\\t\\t\\t\\t\\t<i class=\"pm_ico_play\"><span class=\"blind\">\\xec\\x9e\\xac\\xec\\x83\\x9d</span></i>\\n\\t\\t\\t\\t\\t\\t\\t\\t<span class=\"theme_runtime\"><span class=\"runtime_bg\">\\xec\\x9e\\xac\\xec\\x83\\x9d\\xec\\x8b\\x9c\\xea\\xb0\\x84</span><em\\n\\t\\t\\t\\t\\t\\t\\t\\t\\t\\tclass=\"time\">4:49</em></span>\\n\\t\\t\\t\\t\\t\\t\\t\\n\\t\\t\\t\\t\\t\\t</div>\\n\\t\\t\\t\\t\\t\\t<div class=\"media_info\">\\n\\t\\t\\t\\t\\t\\t\\t<div class=\"info_box\">\\n\\t\\t\\t\\t\\t\\t\\t\\t\\n\\t\\t\\t\\t\\t\\t\\t\\t\\t<em class=\"theme_category\">TV \\xeb\\x93\\x9c\\xeb\\x9d\\xbc\\xeb\\xa7\\x88</em>\\n\\t\\t\\t\\t\\t\\t\\t\\t\\n\\t\\t\\t\\t\\t\\t\\t\\t\\n\\t\\t\\t\\t\\t\\t\\t\\t<strong class=\"title \">[MV] \\xec\\x8b\\xa0\\xec\\x9a\\xa9\\xec\\x9e\\xac (Shin Yong Jae) - MOTHER \\xe3\\x80\\x8a\\xec\\x9e\\xac\\xeb\\xb2\\x8c\\xec\\xa7\\x91 \\xeb\\xa7\\x89\\xeb\\x82\\xb4\\xec\\x95\\x84\\xeb\\x93\\xa4\\xe3\\x80\\x8b OST Part.2 \\xe2\\x99\\xaa</strong>\\n\\t\\t\\t\\t\\t\\t\\t\\t<div class=\"source_wrap\">\\n\\t\\t\\t\\t\\t\\t\\t\\t\\t\\n\\t\\t\\t\\t\\t\\t\\t\\t\\t\\t<span class=\"date\">3\\xec\\x8b\\x9c\\xea\\xb0\\x84 \\xec\\xa0\\x84</span>\\n\\t\\t\\t\\t\\t\\t\\t\\t\\t\\t<span class=\"source\">\\n\\t\\t\\t\\t\\t\\t\\t\\t\\t\\t\\t\\n\\t\\t\\t\\t\\t\\t\\t\\t\\t\\t<span class=\"source_inner\">\\xec\\x9e\\xac\\xeb\\xb2\\x8c\\xec\\xa7\\x91 \\xeb\\xa7\\x89\\xeb\\x82\\xb4\\xec\\x95\\x84\\xeb\\x93\\xa4</span>\\n\\t\\t\\t\\t\\t\\t\\t\\t\\t\\t</span>\\n\\t\\t\\t\\t\\t\\t\\t\\t\\t\\n\\t\\t\\t\\t\\t\\t\\t\\t</div>\\n\\t\\t\\t\\t\\t\\t\\t</div>\\n\\t\\t\\t\\t\\t\\t</div>\\n\\t\\t\\t\\t\\t</a>\\n\\t\\t\\t\\t\\n\\t\\t\\t\\n\\t\\t\\t\\t\\n\\t\\t\\t\\t\\t<a href=\"https://tv.naver.com/v/31428273\" class=\"media_area\" data-da-position=\"true\" data-gdid=\"PC-THEME-ENTER-RANKING-5[materials][1]\"\\n\\t\\t\\t\\t\\t   data-clk=\"tcc_tvc.list6cont2\" target=\"_blank\">\\n\\t\\t\\t\\t\\t\\t<div class=\"media_thumb\">\\n\\t\\t\\t\\t\\t\\t\\t<img \\n\\t\\t\\t\\t\\t\\t\\t     data-src=\"https://s.pstatic.net/dthumb.phinf/?src&#x3D;%22https%3A%2F%2Fs.pstatic.net%2Ftvcast.phinf%2F20221207_207%2F4J6hM_1670424692991YtPPV_JPEG%2Fqmd1670311721607-1280-0.jpg%22&amp;type&#x3D;nf464_260\" alt=\"\" width=\"232\" height=\"130\"\\n\\t\\t\\t\\t\\t\\t\\t     onerror=\"this.outerHTML=\\'<span class=\\\\\\'pm_noimg\\\\\\'><span class=\\\\\\'noimg_text\\\\\\'>\\xec\\x9d\\xb4\\xeb\\xaf\\xb8\\xec\\xa7\\x80 \\xec\\xa4\\x80\\xeb\\xb9\\x84\\xec\\xa4\\x91</span></span>\\'\">\\n\\n\\t\\t\\t\\t\\t\\t\\t\\n\\t\\t\\t\\t\\t\\t\\t\\t<span class=\"thumb_dim\"></span>\\n\\t\\t\\t\\t\\t\\t\\t\\t<span class=\"thumb_bd\"></span>\\n\\t\\t\\t\\t\\t\\t\\t\\t<i class=\"pm_ico_play\"><span class=\"blind\">\\xec\\x9e\\xac\\xec\\x83\\x9d</span></i>\\n\\t\\t\\t\\t\\t\\t\\t\\t<span class=\"theme_runtime\"><span class=\"runtime_bg\">\\xec\\x9e\\xac\\xec\\x83\\x9d\\xec\\x8b\\x9c\\xea\\xb0\\x84</span><em\\n\\t\\t\\t\\t\\t\\t\\t\\t\\t\\tclass=\"time\">6:52</em></span>\\n\\t\\t\\t\\t\\t\\t\\t\\n\\t\\t\\t\\t\\t\\t</div>\\n\\t\\t\\t\\t\\t\\t<div class=\"media_info\">\\n\\t\\t\\t\\t\\t\\t\\t<div class=\"info_box\">\\n\\t\\t\\t\\t\\t\\t\\t\\t\\n\\t\\t\\t\\t\\t\\t\\t\\t\\t<em class=\"theme_category\">TV \\xec\\x98\\x88\\xeb\\x8a\\xa5</em>\\n\\t\\t\\t\\t\\t\\t\\t\\t\\n\\t\\t\\t\\t\\t\\t\\t\\t\\n\\t\\t\\t\\t\\t\\t\\t\\t<strong class=\"title \">\\xec\\xa0\\x81\\xea\\xb7\\xb9\\xec\\xa0\\x81\\xec\\x9d\\xb8 \\xec\\x96\\xb4\\xed\\x95\\x84? \\xec\\x8b\\xa0\\xeb\\xa2\\xb0\\xeb\\x8f\\x84 \\xed\\x95\\x98\\xeb\\x9d\\xbd? \\xeb\\xb6\\x80\\xec\\xa7\\x80\\xeb\\x9f\\xb0\\xed\\x95\\x9c \\xec\\x82\\xac\\xeb\\x9e\\x8c\\xec\\x9d\\xb4 \\xeb\\xa7\\x88\\xec\\x9d\\x8c\\xec\\x9d\\x84 \\xec\\x96\\xbb\\xeb\\x8a\\x94\\xeb\\x8b\\xa4! \\xec\\x86\\x94\\xeb\\xa1\\x9c\\xeb\\x82\\xa8\\xeb\\x85\\x80\\xeb\\x93\\xa4\\xec\\x9d\\x98 \\xeb\\xb0\\x94\\xec\\x81\\x9c \\xec\\x95\\x84\\xec\\xb9\\xa8!\\xe3\\x85\\xa3\\xeb\\x82\\x98\\xeb\\x8a\\x94\\xec\\x86\\x94\\xeb\\xa1\\x9c EP.74\\xe3\\x85\\xa3SBSPLUS\\xe3\\x85\\xa3\\xeb\\xa7\\xa4\\xec\\xa3\\xbc \\xec\\x88\\x98\\xec\\x9a\\x94\\xec\\x9d\\xbc \\xeb\\xb0\\xa4 10\\xec\\x8b\\x9c 30\\xeb\\xb6\\x84 \\xeb\\xb0\\xa9\\xec\\x86\\xa1</strong>\\n\\t\\t\\t\\t\\t\\t\\t\\t<div class=\"source_wrap\">\\n\\t\\t\\t\\t\\t\\t\\t\\t\\t\\n\\t\\t\\t\\t\\t\\t\\t\\t\\t\\t<span class=\"date\">21\\xec\\x8b\\x9c\\xea\\xb0\\x84 \\xec\\xa0\\x84</span>\\n\\t\\t\\t\\t\\t\\t\\t\\t\\t\\t<span class=\"source\">\\n\\t\\t\\t\\t\\t\\t\\t\\t\\t\\t\\t\\n\\t\\t\\t\\t\\t\\t\\t\\t\\t\\t<span class=\"source_inner\">\\xeb\\x82\\x98\\xeb\\x8a\\x94 SOLO</span>\\n\\t\\t\\t\\t\\t\\t\\t\\t\\t\\t</span>\\n\\t\\t\\t\\t\\t\\t\\t\\t\\t\\n\\t\\t\\t\\t\\t\\t\\t\\t</div>\\n\\t\\t\\t\\t\\t\\t\\t</div>\\n\\t\\t\\t\\t\\t\\t</div>\\n\\t\\t\\t\\t\\t</a>\\n\\t\\t\\t\\t\\n\\t\\t\\t\\n\\t\\t\\t\\t\\n\\t\\t\\t\\t\\t<a href=\"https://tv.naver.com/v/31326263\" class=\"media_area\" data-da-position=\"true\" data-gdid=\"PC-THEME-ENTER-RANKING-5[materials][2]\"\\n\\t\\t\\t\\t\\t   data-clk=\"tcc_tvc.list6cont3\" target=\"_blank\">\\n\\t\\t\\t\\t\\t\\t<div class=\"media_thumb\">\\n\\t\\t\\t\\t\\t\\t\\t<img \\n\\t\\t\\t\\t\\t\\t\\t     data-src=\"https://s.pstatic.net/dthumb.phinf/?src&#x3D;%22https%3A%2F%2Fs.pstatic.net%2Ftvcast.phinf%2F20221204_37%2FExaTt_1670157991505rIIX9_JPEG%2F20221204_211506_622_1.jpg%22&amp;type&#x3D;nf464_260\" alt=\"\" width=\"232\" height=\"130\"\\n\\t\\t\\t\\t\\t\\t\\t     onerror=\"this.outerHTML=\\'<span class=\\\\\\'pm_noimg\\\\\\'><span class=\\\\\\'noimg_text\\\\\\'>\\xec\\x9d\\xb4\\xeb\\xaf\\xb8\\xec\\xa7\\x80 \\xec\\xa4\\x80\\xeb\\xb9\\x84\\xec\\xa4\\x91</span></span>\\'\">\\n\\n\\t\\t\\t\\t\\t\\t\\t\\n\\t\\t\\t\\t\\t\\t\\t\\t<span class=\"thumb_dim\"></span>\\n\\t\\t\\t\\t\\t\\t\\t\\t<span class=\"thumb_bd\"></span>\\n\\t\\t\\t\\t\\t\\t\\t\\t<i class=\"pm_ico_play\"><span class=\"blind\">\\xec\\x9e\\xac\\xec\\x83\\x9d</span></i>\\n\\t\\t\\t\\t\\t\\t\\t\\t<span class=\"theme_runtime\"><span class=\"runtime_bg\">\\xec\\x9e\\xac\\xec\\x83\\x9d\\xec\\x8b\\x9c\\xea\\xb0\\x84</span><em\\n\\t\\t\\t\\t\\t\\t\\t\\t\\t\\tclass=\"time\">15:53</em></span>\\n\\t\\t\\t\\t\\t\\t\\t\\n\\t\\t\\t\\t\\t\\t</div>\\n\\t\\t\\t\\t\\t\\t<div class=\"media_info\">\\n\\t\\t\\t\\t\\t\\t\\t<div class=\"info_box\">\\n\\t\\t\\t\\t\\t\\t\\t\\t\\n\\t\\t\\t\\t\\t\\t\\t\\t\\t<em class=\"theme_category\">TV \\xeb\\x93\\x9c\\xeb\\x9d\\xbc\\xeb\\xa7\\x88</em>\\n\\t\\t\\t\\t\\t\\t\\t\\t\\n\\t\\t\\t\\t\\t\\t\\t\\t\\n\\t\\t\\t\\t\\t\\t\\t\\t<strong class=\"title \">[8\\xed\\x9a\\x8c \\xed\\x95\\x98\\xec\\x9d\\xb4\\xeb\\x9d\\xbc\\xec\\x9d\\xb4\\xed\\x8a\\xb8] \\xec\\x9e\\xa5\\xec\\x9e\\x90\\xec\\x8a\\xb9\\xea\\xb3\\x84 \\xec\\x9b\\x90\\xec\\xb9\\x99\\xec\\x9d\\x84 \\xea\\xb9\\xa8\\xeb\\xb6\\x80\\xec\\x88\\x9c \\xec\\x9d\\xb4\\xec\\x84\\xb1\\xeb\\xaf\\xbc?! \\xec\\x88\\x9c\\xec\\x96\\x91\\xea\\xb7\\xb8\\xeb\\xa3\\xb9 \\xec\\x8a\\xb9\\xea\\xb3\\x84 \\xec\\x8b\\xb8\\xec\\x9b\\x80\\xec\\x97\\x90 \\xec\\x86\\xa1\\xec\\xa4\\x91\\xea\\xb8\\xb0 \\xec\\x9e\\xa5\\xec\\x9e\\x91 \\xed\\x95\\x9c \\xec\\x8a\\xa4\\xed\\x91\\xbc\\xf0\\x9f\\x94\\xa5 | JTBC 221204 \\xeb\\xb0\\xa9\\xec\\x86\\xa1</strong>\\n\\t\\t\\t\\t\\t\\t\\t\\t<div class=\"source_wrap\">\\n\\t\\t\\t\\t\\t\\t\\t\\t\\t\\n\\t\\t\\t\\t\\t\\t\\t\\t\\t\\t<span class=\"date\">3\\xec\\x9d\\xbc \\xec\\xa0\\x84</span>\\n\\t\\t\\t\\t\\t\\t\\t\\t\\t\\t<span class=\"source\">\\n\\t\\t\\t\\t\\t\\t\\t\\t\\t\\t\\t\\n\\t\\t\\t\\t\\t\\t\\t\\t\\t\\t<span class=\"source_inner\">\\xec\\x9e\\xac\\xeb\\xb2\\x8c\\xec\\xa7\\x91 \\xeb\\xa7\\x89\\xeb\\x82\\xb4\\xec\\x95\\x84\\xeb\\x93\\xa4</span>\\n\\t\\t\\t\\t\\t\\t\\t\\t\\t\\t</span>\\n\\t\\t\\t\\t\\t\\t\\t\\t\\t\\n\\t\\t\\t\\t\\t\\t\\t\\t</div>\\n\\t\\t\\t\\t\\t\\t\\t</div>\\n\\t\\t\\t\\t\\t\\t</div>\\n\\t\\t\\t\\t\\t</a>\\n\\t\\t\\t\\t\\n\\t\\t\\t\\n\\t\\t\\t\\t\\n\\t\\t\\t\\t\\t<a href=\"https://tv.naver.com/v/31427135\" class=\"media_area\" data-da-position=\"true\" data-gdid=\"PC-THEME-ENTER-RANKING-5[materials][3]\"\\n\\t\\t\\t\\t\\t   data-clk=\"tcc_tvc.list6cont4\" target=\"_blank\">\\n\\t\\t\\t\\t\\t\\t<div class=\"media_thumb\">\\n\\t\\t\\t\\t\\t\\t\\t<img \\n\\t\\t\\t\\t\\t\\t\\t     data-src=\"https://s.pstatic.net/dthumb.phinf/?src&#x3D;%22https%3A%2F%2Fs.pstatic.net%2Ftvcast.phinf%2F20221207_125%2Fnqnn8_1670421690455C1oYl_JPEG%2Fazk1670310971191-1280-0.jpg%22&amp;type&#x3D;nf464_260\" alt=\"\" width=\"232\" height=\"130\"\\n\\t\\t\\t\\t\\t\\t\\t     onerror=\"this.outerHTML=\\'<span class=\\\\\\'pm_noimg\\\\\\'><span class=\\\\\\'noimg_text\\\\\\'>\\xec\\x9d\\xb4\\xeb\\xaf\\xb8\\xec\\xa7\\x80 \\xec\\xa4\\x80\\xeb\\xb9\\x84\\xec\\xa4\\x91</span></span>\\'\">\\n\\n\\t\\t\\t\\t\\t\\t\\t\\n\\t\\t\\t\\t\\t\\t\\t\\t<span class=\"thumb_dim\"></span>\\n\\t\\t\\t\\t\\t\\t\\t\\t<span class=\"thumb_bd\"></span>\\n\\t\\t\\t\\t\\t\\t\\t\\t<i class=\"pm_ico_play\"><span class=\"blind\">\\xec\\x9e\\xac\\xec\\x83\\x9d</span></i>\\n\\t\\t\\t\\t\\t\\t\\t\\t<span class=\"theme_runtime\"><span class=\"runtime_bg\">\\xec\\x9e\\xac\\xec\\x83\\x9d\\xec\\x8b\\x9c\\xea\\xb0\\x84</span><em\\n\\t\\t\\t\\t\\t\\t\\t\\t\\t\\tclass=\"time\">5:18</em></span>\\n\\t\\t\\t\\t\\t\\t\\t\\n\\t\\t\\t\\t\\t\\t</div>\\n\\t\\t\\t\\t\\t\\t<div class=\"media_info\">\\n\\t\\t\\t\\t\\t\\t\\t<div class=\"info_box\">\\n\\t\\t\\t\\t\\t\\t\\t\\t\\n\\t\\t\\t\\t\\t\\t\\t\\t\\t<em class=\"theme_category\">TV \\xec\\x98\\x88\\xeb\\x8a\\xa5</em>\\n\\t\\t\\t\\t\\t\\t\\t\\t\\n\\t\\t\\t\\t\\t\\t\\t\\t\\n\\t\\t\\t\\t\\t\\t\\t\\t<strong class=\"title \">\\xec\\x82\\xac\\xeb\\x9e\\x91\\xec\\x9d\\x80 \\xec\\x97\\xad\\xec\\x8b\\x9c \\xed\\x83\\x80\\xec\\x9d\\xb4\\xeb\\xb0\\x8d! \\xec\\x96\\xbc\\xea\\xb5\\xb4\\xeb\\xa7\\x8c \\xeb\\xb4\\x90\\xeb\\x8f\\x84 \\xec\\x9b\\x83\\xec\\x9d\\x8c\\xec\\x9d\\xb4 \\xeb\\x82\\x98\\xec\\x98\\xa4\\xea\\xb3\\xa0 \\xea\\xb3\\xa0\\xeb\\xaf\\xbc\\xea\\xb9\\x8c\\xec\\xa7\\x80 \\xeb\\x82\\xa0\\xeb\\xa0\\xa4\\xeb\\xb2\\x84\\xeb\\xa6\\xac\\xeb\\x8a\\x94 \\xec\\x82\\xac\\xeb\\x9e\\x8c\\xec\\x9d\\x80....? \\xe3\\x85\\xa3\\xeb\\x82\\x98\\xeb\\x8a\\x94\\xec\\x86\\x94\\xeb\\xa1\\x9c EP.74\\xe3\\x85\\xa3SBSPLUS\\xe3\\x85\\xa3\\xeb\\xa7\\xa4\\xec\\xa3\\xbc \\xec\\x88\\x98\\xec\\x9a\\x94\\xec\\x9d\\xbc \\xeb\\xb0\\xa4 10\\xec\\x8b\\x9c 30\\xeb\\xb6\\x84 \\xeb\\xb0\\xa9\\xec\\x86\\xa1</strong>\\n\\t\\t\\t\\t\\t\\t\\t\\t<div class=\"source_wrap\">\\n\\t\\t\\t\\t\\t\\t\\t\\t\\t\\n\\t\\t\\t\\t\\t\\t\\t\\t\\t\\t<span class=\"date\">22\\xec\\x8b\\x9c\\xea\\xb0\\x84 \\xec\\xa0\\x84</span>\\n\\t\\t\\t\\t\\t\\t\\t\\t\\t\\t<span class=\"source\">\\n\\t\\t\\t\\t\\t\\t\\t\\t\\t\\t\\t\\n\\t\\t\\t\\t\\t\\t\\t\\t\\t\\t<span class=\"source_inner\">\\xeb\\x82\\x98\\xeb\\x8a\\x94 SOLO</span>\\n\\t\\t\\t\\t\\t\\t\\t\\t\\t\\t</span>\\n\\t\\t\\t\\t\\t\\t\\t\\t\\t\\n\\t\\t\\t\\t\\t\\t\\t\\t</div>\\n\\t\\t\\t\\t\\t\\t\\t</div>\\n\\t\\t\\t\\t\\t\\t</div>\\n\\t\\t\\t\\t\\t</a>\\n\\t\\t\\t\\t\\n\\t\\t\\t\\n\\t\\t\\t\\t\\n\\t\\t\\t\\t\\t<a href=\"https://tv.naver.com/v/29239777\" class=\"media_area\" data-da-position=\"true\" data-gdid=\"PC-THEME-ENTER-RANKING-5[materials][4]\"\\n\\t\\t\\t\\t\\t   data-clk=\"tcc_tvc.list6cont5\" target=\"_blank\">\\n\\t\\t\\t\\t\\t\\t<div class=\"media_thumb\">\\n\\t\\t\\t\\t\\t\\t\\t<img \\n\\t\\t\\t\\t\\t\\t\\t     data-src=\"https://s.pstatic.net/dthumb.phinf/?src&#x3D;%22https%3A%2F%2Fphinf.pstatic.net%2Ftvcast%2F20220916_1%2FGWT0P_1663301059714WlHst_PNG%2F1663301036761.png%22&amp;type&#x3D;nf464_260\" alt=\"\" width=\"232\" height=\"130\"\\n\\t\\t\\t\\t\\t\\t\\t     onerror=\"this.outerHTML=\\'<span class=\\\\\\'pm_noimg\\\\\\'><span class=\\\\\\'noimg_text\\\\\\'>\\xec\\x9d\\xb4\\xeb\\xaf\\xb8\\xec\\xa7\\x80 \\xec\\xa4\\x80\\xeb\\xb9\\x84\\xec\\xa4\\x91</span></span>\\'\">\\n\\n\\t\\t\\t\\t\\t\\t\\t\\n\\t\\t\\t\\t\\t\\t\\t\\t<span class=\"thumb_dim\"></span>\\n\\t\\t\\t\\t\\t\\t\\t\\t<span class=\"thumb_bd\"></span>\\n\\t\\t\\t\\t\\t\\t\\t\\t<i class=\"pm_ico_play\"><span class=\"blind\">\\xec\\x9e\\xac\\xec\\x83\\x9d</span></i>\\n\\t\\t\\t\\t\\t\\t\\t\\t<span class=\"theme_runtime\"><span class=\"runtime_bg\">\\xec\\x9e\\xac\\xec\\x83\\x9d\\xec\\x8b\\x9c\\xea\\xb0\\x84</span><em\\n\\t\\t\\t\\t\\t\\t\\t\\t\\t\\tclass=\"time\">2:1</em></span>\\n\\t\\t\\t\\t\\t\\t\\t\\n\\t\\t\\t\\t\\t\\t</div>\\n\\t\\t\\t\\t\\t\\t<div class=\"media_info\">\\n\\t\\t\\t\\t\\t\\t\\t<div class=\"info_box\">\\n\\t\\t\\t\\t\\t\\t\\t\\t\\n\\t\\t\\t\\t\\t\\t\\t\\t\\t<em class=\"theme_category\">\\xec\\x9b\\xb9\\xec\\x98\\x88\\xeb\\x8a\\xa5</em>\\n\\t\\t\\t\\t\\t\\t\\t\\t\\n\\t\\t\\t\\t\\t\\t\\t\\t\\n\\t\\t\\t\\t\\t\\t\\t\\t<strong class=\"title \">\\xec\\xb9\\xa8\\xeb\\x8c\\x80 \\xec\\x9c\\x84\\xec\\x97\\x90\\xec\\x84\\x9c \\xeb\\xac\\xb4\\xec\\x8a\\xa8 \\xec\\x9d\\xbc\\xec\\x9d\\xb4...?! \\xec\\x9e\\xac\\xec\\x9b\\x90X\\xed\\x95\\x9c\\xec\\x8a\\xac \\xec\\xa7\\x9c\\xeb\\xa6\\xbf\\xed\\x95\\x9c \\xeb\\x91\\x98\\xeb\\xa7\\x8c\\xec\\x9d\\x98 \\xeb\\x8d\\xb0\\xec\\x9d\\xb4\\xed\\x8a\\xb8\\xe2\\x99\\xa5 | \\xec\\x8d\\xb8\\xed\\x95\\x91</strong>\\n\\t\\t\\t\\t\\t\\t\\t\\t<div class=\"source_wrap\">\\n\\t\\t\\t\\t\\t\\t\\t\\t\\t\\n\\t\\t\\t\\t\\t\\t\\t\\t\\t\\t<span class=\"date\">4\\xeb\\xb6\\x84 \\xec\\xa0\\x84</span>\\n\\t\\t\\t\\t\\t\\t\\t\\t\\t\\t<span class=\"source\">\\n\\t\\t\\t\\t\\t\\t\\t\\t\\t\\t\\t\\n\\t\\t\\t\\t\\t\\t\\t\\t\\t\\t<span class=\"source_inner\">\\xec\\x8d\\xb8\\xed\\x95\\x91</span>\\n\\t\\t\\t\\t\\t\\t\\t\\t\\t\\t</span>\\n\\t\\t\\t\\t\\t\\t\\t\\t\\t\\n\\t\\t\\t\\t\\t\\t\\t\\t</div>\\n\\t\\t\\t\\t\\t\\t\\t</div>\\n\\t\\t\\t\\t\\t\\t</div>\\n\\t\\t\\t\\t\\t</a>\\n\\t\\t\\t\\t\\n\\t\\t\\t\\n\\t\\t\\t\\t\\n\\t\\t\\t\\t\\t<a href=\"https://tv.naver.com/v/21621573\" class=\"media_area\" data-da-position=\"true\" data-gdid=\"PC-THEME-ENTER-RANKING-5[materials][5]\"\\n\\t\\t\\t\\t\\t   data-clk=\"tcc_tvc.list6cont6\" target=\"_blank\">\\n\\t\\t\\t\\t\\t\\t<div class=\"media_thumb\">\\n\\t\\t\\t\\t\\t\\t\\t<img \\n\\t\\t\\t\\t\\t\\t\\t     data-src=\"https://s.pstatic.net/dthumb.phinf/?src&#x3D;%22https%3A%2F%2Fphinf.pstatic.net%2Ftvcast%2F20210730_26%2FIAG7s_1627642118367FQLFE_JPEG%2F5ba76ba4-f123-11eb-8678-48df379cca40_03.jpg%22&amp;type&#x3D;nf464_260\" alt=\"\" width=\"232\" height=\"130\"\\n\\t\\t\\t\\t\\t\\t\\t     onerror=\"this.outerHTML=\\'<span class=\\\\\\'pm_noimg\\\\\\'><span class=\\\\\\'noimg_text\\\\\\'>\\xec\\x9d\\xb4\\xeb\\xaf\\xb8\\xec\\xa7\\x80 \\xec\\xa4\\x80\\xeb\\xb9\\x84\\xec\\xa4\\x91</span></span>\\'\">\\n\\n\\t\\t\\t\\t\\t\\t\\t\\n\\t\\t\\t\\t\\t\\t\\t\\t<span class=\"thumb_dim\"></span>\\n\\t\\t\\t\\t\\t\\t\\t\\t<span class=\"thumb_bd\"></span>\\n\\t\\t\\t\\t\\t\\t\\t\\t<i class=\"pm_ico_play\"><span class=\"blind\">\\xec\\x9e\\xac\\xec\\x83\\x9d</span></i>\\n\\t\\t\\t\\t\\t\\t\\t\\t<span class=\"theme_runtime\"><span class=\"runtime_bg\">\\xec\\x9e\\xac\\xec\\x83\\x9d\\xec\\x8b\\x9c\\xea\\xb0\\x84</span><em\\n\\t\\t\\t\\t\\t\\t\\t\\t\\t\\tclass=\"time\">0:15</em></span>\\n\\t\\t\\t\\t\\t\\t\\t\\n\\t\\t\\t\\t\\t\\t</div>\\n\\t\\t\\t\\t\\t\\t<div class=\"media_info\">\\n\\t\\t\\t\\t\\t\\t\\t<div class=\"info_box\">\\n\\t\\t\\t\\t\\t\\t\\t\\t\\n\\t\\t\\t\\t\\t\\t\\t\\t\\t<em class=\"theme_category\">\\xec\\x9b\\xb9\\xeb\\x93\\x9c\\xeb\\x9d\\xbc\\xeb\\xa7\\x88</em>\\n\\t\\t\\t\\t\\t\\t\\t\\t\\n\\t\\t\\t\\t\\t\\t\\t\\t\\n\\t\\t\\t\\t\\t\\t\\t\\t<strong class=\"title \">\\xf0\\x9f\\x94\\xa5\\xec\\x9c\\xa0\\xeb\\xaf\\xb8\\xec\\x9d\\x98 \\xec\\x84\\xb8\\xed\\x8f\\xac\\xeb\\x93\\xa4 \\xec\\x9d\\xb4\\xeb\\x8f\\x99\\xea\\xb1\\xb4 \\xec\\x9e\\x91\\xea\\xb0\\x80\\xec\\x9d\\x98 \\xec\\x8b\\xa0\\xec\\x9e\\x91 \\'\\xec\\xa1\\xb0\\xec\\xa1\\xb0\\xec\\xbd\\x94\\xeb\\xaf\\xb9\\xec\\x8a\\xa4\\'</strong>\\n\\t\\t\\t\\t\\t\\t\\t\\t<div class=\"source_wrap\">\\n\\t\\t\\t\\t\\t\\t\\t\\t\\t\\n\\t\\t\\t\\t\\t\\t\\t\\t\\t\\t<span class=\"date\">4\\xeb\\xb6\\x84 \\xec\\xa0\\x84</span>\\n\\t\\t\\t\\t\\t\\t\\t\\t\\t\\t<span class=\"source\">\\n\\t\\t\\t\\t\\t\\t\\t\\t\\t\\t\\t\\n\\t\\t\\t\\t\\t\\t\\t\\t\\t\\t<span class=\"source_inner\">\\xeb\\x84\\xa4\\xec\\x9d\\xb4\\xeb\\xb2\\x84 \\xec\\x9b\\xb9\\xed\\x88\\xb0</span>\\n\\t\\t\\t\\t\\t\\t\\t\\t\\t\\t</span>\\n\\t\\t\\t\\t\\t\\t\\t\\t\\t\\n\\t\\t\\t\\t\\t\\t\\t\\t</div>\\n\\t\\t\\t\\t\\t\\t\\t</div>\\n\\t\\t\\t\\t\\t\\t</div>\\n\\t\\t\\t\\t\\t</a>\\n\\t\\t\\t\\t\\n\\t\\t\\t\\n\\t\\t\\t\\t\\n\\t\\t\\t\\t\\t<a href=\"https://tv.naver.com/v/28529157\" class=\"media_area\" data-da-position=\"true\" data-gdid=\"PC-THEME-ENTER-RANKING-5[materials][6]\"\\n\\t\\t\\t\\t\\t   data-clk=\"tcc_tvc.list6cont7\" target=\"_blank\">\\n\\t\\t\\t\\t\\t\\t<div class=\"media_thumb\">\\n\\t\\t\\t\\t\\t\\t\\t<img \\n\\t\\t\\t\\t\\t\\t\\t     data-src=\"https://s.pstatic.net/dthumb.phinf/?src&#x3D;%22https%3A%2F%2Fphinf.pstatic.net%2Ftvcast%2F20220812_212%2FSYXS8_1660279118078DSRrq_PNG%2F1660279088457.png%22&amp;type&#x3D;nf464_260\" alt=\"\" width=\"232\" height=\"130\"\\n\\t\\t\\t\\t\\t\\t\\t     onerror=\"this.outerHTML=\\'<span class=\\\\\\'pm_noimg\\\\\\'><span class=\\\\\\'noimg_text\\\\\\'>\\xec\\x9d\\xb4\\xeb\\xaf\\xb8\\xec\\xa7\\x80 \\xec\\xa4\\x80\\xeb\\xb9\\x84\\xec\\xa4\\x91</span></span>\\'\">\\n\\n\\t\\t\\t\\t\\t\\t\\t\\n\\t\\t\\t\\t\\t\\t\\t\\t<span class=\"thumb_dim\"></span>\\n\\t\\t\\t\\t\\t\\t\\t\\t<span class=\"thumb_bd\"></span>\\n\\t\\t\\t\\t\\t\\t\\t\\t<i class=\"pm_ico_play\"><span class=\"blind\">\\xec\\x9e\\xac\\xec\\x83\\x9d</span></i>\\n\\t\\t\\t\\t\\t\\t\\t\\t<span class=\"theme_runtime\"><span class=\"runtime_bg\">\\xec\\x9e\\xac\\xec\\x83\\x9d\\xec\\x8b\\x9c\\xea\\xb0\\x84</span><em\\n\\t\\t\\t\\t\\t\\t\\t\\t\\t\\tclass=\"time\">4:24</em></span>\\n\\t\\t\\t\\t\\t\\t\\t\\n\\t\\t\\t\\t\\t\\t</div>\\n\\t\\t\\t\\t\\t\\t<div class=\"media_info\">\\n\\t\\t\\t\\t\\t\\t\\t<div class=\"info_box\">\\n\\t\\t\\t\\t\\t\\t\\t\\t\\n\\t\\t\\t\\t\\t\\t\\t\\t\\t<em class=\"theme_category\">\\xec\\x9b\\xb9\\xec\\x98\\x88\\xeb\\x8a\\xa5</em>\\n\\t\\t\\t\\t\\t\\t\\t\\t\\n\\t\\t\\t\\t\\t\\t\\t\\t\\n\\t\\t\\t\\t\\t\\t\\t\\t<strong class=\"title \">\"\\xec\\x9a\\xb0\\xeb\\xa6\\xac\\xeb\\x81\\xbc\\xeb\\xa6\\xac \\xec\\xa0\\x80\\xea\\xb8\\xb0 \\xea\\xb0\\x80\\xec\\x84\\x9c \\xec\\x96\\x98\\xea\\xb8\\xb0\\xed\\x95\\x98\\xec\\x9e\\x90\" \\xea\\xb0\\x91.\\xeb\\xb6\\x84 \\xeb\\x91\\x98\\xeb\\xa7\\x8c\\xec\\x9d\\x98 \\xed\\x8a\\x9c\\xeb\\xb8\\x8c \\xeb\\x8d\\xb0\\xec\\x9d\\xb4\\xed\\x8a\\xb8\\xe2\\x99\\xa5 | EP.1-2 | \\xec\\x8d\\xb8\\xed\\x95\\x91</strong>\\n\\t\\t\\t\\t\\t\\t\\t\\t<div class=\"source_wrap\">\\n\\t\\t\\t\\t\\t\\t\\t\\t\\t\\n\\t\\t\\t\\t\\t\\t\\t\\t\\t\\t<span class=\"date\">4\\xeb\\xb6\\x84 \\xec\\xa0\\x84</span>\\n\\t\\t\\t\\t\\t\\t\\t\\t\\t\\t<span class=\"source\">\\n\\t\\t\\t\\t\\t\\t\\t\\t\\t\\t\\t\\n\\t\\t\\t\\t\\t\\t\\t\\t\\t\\t<span class=\"source_inner\">\\xec\\x8d\\xb8\\xed\\x95\\x91</span>\\n\\t\\t\\t\\t\\t\\t\\t\\t\\t\\t</span>\\n\\t\\t\\t\\t\\t\\t\\t\\t\\t\\n\\t\\t\\t\\t\\t\\t\\t\\t</div>\\n\\t\\t\\t\\t\\t\\t\\t</div>\\n\\t\\t\\t\\t\\t\\t</div>\\n\\t\\t\\t\\t\\t</a>\\n\\t\\t\\t\\t\\n\\t\\t\\t\\n\\t\\t\\t\\t\\n\\t\\t\\t\\t\\t<a href=\"https://tv.naver.com/v/30311878\" class=\"media_area\" data-da-position=\"true\" data-gdid=\"PC-THEME-ENTER-RANKING-5[materials][7]\"\\n\\t\\t\\t\\t\\t   data-clk=\"tcc_tvc.list6cont8\" target=\"_blank\">\\n\\t\\t\\t\\t\\t\\t<div class=\"media_thumb\">\\n\\t\\t\\t\\t\\t\\t\\t<img \\n\\t\\t\\t\\t\\t\\t\\t     data-src=\"https://s.pstatic.net/dthumb.phinf/?src&#x3D;%22https%3A%2F%2Fs.pstatic.net%2Ftvcast.phinf%2F20221028_241%2Fce10P_1666936054826eUQ9g_JPEG%2F1666935760555.jpg%22&amp;type&#x3D;nf464_260\" alt=\"\" width=\"232\" height=\"130\"\\n\\t\\t\\t\\t\\t\\t\\t     onerror=\"this.outerHTML=\\'<span class=\\\\\\'pm_noimg\\\\\\'><span class=\\\\\\'noimg_text\\\\\\'>\\xec\\x9d\\xb4\\xeb\\xaf\\xb8\\xec\\xa7\\x80 \\xec\\xa4\\x80\\xeb\\xb9\\x84\\xec\\xa4\\x91</span></span>\\'\">\\n\\n\\t\\t\\t\\t\\t\\t\\t\\n\\t\\t\\t\\t\\t\\t\\t\\t<span class=\"thumb_dim\"></span>\\n\\t\\t\\t\\t\\t\\t\\t\\t<span class=\"thumb_bd\"></span>\\n\\t\\t\\t\\t\\t\\t\\t\\t<i class=\"pm_ico_play\"><span class=\"blind\">\\xec\\x9e\\xac\\xec\\x83\\x9d</span></i>\\n\\t\\t\\t\\t\\t\\t\\t\\t<span class=\"theme_runtime\"><span class=\"runtime_bg\">\\xec\\x9e\\xac\\xec\\x83\\x9d\\xec\\x8b\\x9c\\xea\\xb0\\x84</span><em\\n\\t\\t\\t\\t\\t\\t\\t\\t\\t\\tclass=\"time\">4:00</em></span>\\n\\t\\t\\t\\t\\t\\t\\t\\n\\t\\t\\t\\t\\t\\t</div>\\n\\t\\t\\t\\t\\t\\t<div class=\"media_info\">\\n\\t\\t\\t\\t\\t\\t\\t<div class=\"info_box\">\\n\\t\\t\\t\\t\\t\\t\\t\\t\\n\\t\\t\\t\\t\\t\\t\\t\\t\\t<em class=\"theme_category\">TV \\xeb\\x93\\x9c\\xeb\\x9d\\xbc\\xeb\\xa7\\x88</em>\\n\\t\\t\\t\\t\\t\\t\\t\\t\\n\\t\\t\\t\\t\\t\\t\\t\\t\\n\\t\\t\\t\\t\\t\\t\\t\\t<strong class=\"title \">[\\xeb\\x84\\xb7\\xed\\x94\\x8c\\xeb\\xa6\\xad\\xec\\x8a\\xa4] \\xec\\x8a\\xa4\\xed\\x8e\\x98\\xec\\x85\\x9c MV \\'AB6IX - Life is beautiful\\' | \\xeb\\x8d\\x94 \\xed\\x8c\\xa8\\xeb\\xb7\\xb8\\xeb\\x9f\\xac\\xec\\x8a\\xa4</strong>\\n\\t\\t\\t\\t\\t\\t\\t\\t<div class=\"source_wrap\">\\n\\t\\t\\t\\t\\t\\t\\t\\t\\t\\n\\t\\t\\t\\t\\t\\t\\t\\t\\t\\t<span class=\"date\">1\\xea\\xb0\\x9c\\xec\\x9b\\x94 \\xec\\xa0\\x84</span>\\n\\t\\t\\t\\t\\t\\t\\t\\t\\t\\t<span class=\"source\">\\n\\t\\t\\t\\t\\t\\t\\t\\t\\t\\t\\t\\n\\t\\t\\t\\t\\t\\t\\t\\t\\t\\t<span class=\"source_inner\">Netflix Korea</span>\\n\\t\\t\\t\\t\\t\\t\\t\\t\\t\\t</span>\\n\\t\\t\\t\\t\\t\\t\\t\\t\\t\\n\\t\\t\\t\\t\\t\\t\\t\\t</div>\\n\\t\\t\\t\\t\\t\\t\\t</div>\\n\\t\\t\\t\\t\\t\\t</div>\\n\\t\\t\\t\\t\\t</a>\\n\\t\\t\\t\\t\\n\\t\\t\\t\\n\\t\\t\\t\\t\\n\\t\\t\\t\\t\\t<a href=\"https://tv.naver.com/v/31422256\" class=\"media_area\" data-da-position=\"true\" data-gdid=\"PC-THEME-ENTER-RANKING-5[materials][8]\"\\n\\t\\t\\t\\t\\t   data-clk=\"tcc_tvc.list6cont9\" target=\"_blank\">\\n\\t\\t\\t\\t\\t\\t<div class=\"media_thumb\">\\n\\t\\t\\t\\t\\t\\t\\t<img \\n\\t\\t\\t\\t\\t\\t\\t     data-src=\"https://s.pstatic.net/dthumb.phinf/?src&#x3D;%22https%3A%2F%2Fs.pstatic.net%2Ftvcast.phinf%2F20221207_130%2FlRZRl_1670411201479XiaEj_JPEG%2Fclip_20221207200024_47.jpg%22&amp;type&#x3D;nf464_260\" alt=\"\" width=\"232\" height=\"130\"\\n\\t\\t\\t\\t\\t\\t\\t     onerror=\"this.outerHTML=\\'<span class=\\\\\\'pm_noimg\\\\\\'><span class=\\\\\\'noimg_text\\\\\\'>\\xec\\x9d\\xb4\\xeb\\xaf\\xb8\\xec\\xa7\\x80 \\xec\\xa4\\x80\\xeb\\xb9\\x84\\xec\\xa4\\x91</span></span>\\'\">\\n\\n\\t\\t\\t\\t\\t\\t\\t\\n\\t\\t\\t\\t\\t\\t\\t\\t<span class=\"thumb_dim\"></span>\\n\\t\\t\\t\\t\\t\\t\\t\\t<span class=\"thumb_bd\"></span>\\n\\t\\t\\t\\t\\t\\t\\t\\t<i class=\"pm_ico_play\"><span class=\"blind\">\\xec\\x9e\\xac\\xec\\x83\\x9d</span></i>\\n\\t\\t\\t\\t\\t\\t\\t\\t<span class=\"theme_runtime\"><span class=\"runtime_bg\">\\xec\\x9e\\xac\\xec\\x83\\x9d\\xec\\x8b\\x9c\\xea\\xb0\\x84</span><em\\n\\t\\t\\t\\t\\t\\t\\t\\t\\t\\tclass=\"time\">0:24</em></span>\\n\\t\\t\\t\\t\\t\\t\\t\\n\\t\\t\\t\\t\\t\\t</div>\\n\\t\\t\\t\\t\\t\\t<div class=\"media_info\">\\n\\t\\t\\t\\t\\t\\t\\t<div class=\"info_box\">\\n\\t\\t\\t\\t\\t\\t\\t\\t\\n\\t\\t\\t\\t\\t\\t\\t\\t\\t<em class=\"theme_category\">TV \\xeb\\x93\\x9c\\xeb\\x9d\\xbc\\xeb\\xa7\\x88</em>\\n\\t\\t\\t\\t\\t\\t\\t\\t\\n\\t\\t\\t\\t\\t\\t\\t\\t\\n\\t\\t\\t\\t\\t\\t\\t\\t<strong class=\"title \">[33\\xed\\x9a\\x8c \\xec\\x98\\x88\\xea\\xb3\\xa0] \\xef\\xbc\\x82\\xeb\\x82\\x98\\xeb\\xa5\\xbc \\xed\\x95\\xb4\\xec\\xb9\\x98\\xeb\\xa0\\xa4\\xea\\xb3\\xa0 \\xed\\x95\\x9c \\xec\\x82\\xac\\xeb\\x9e\\x8c, \\xec\\xa0\\x95\\xeb\\xa7\\x90 \\xec\\xa0\\x95\\xed\\x98\\x9c\\xec\\x88\\x98\\xec\\x94\\xa8\\xea\\xb0\\x80 \\xeb\\xa7\\x9e\\xec\\x8a\\xb5\\xeb\\x8b\\x88\\xea\\xb9\\x8c?\\xef\\xbc\\x82, MBC 221208 \\xeb\\xb0\\xa9\\xec\\x86\\xa1</strong>\\n\\t\\t\\t\\t\\t\\t\\t\\t<div class=\"source_wrap\">\\n\\t\\t\\t\\t\\t\\t\\t\\t\\t\\n\\t\\t\\t\\t\\t\\t\\t\\t\\t\\t<span class=\"date\">\\xec\\x96\\xb4\\xec\\xa0\\x9c</span>\\n\\t\\t\\t\\t\\t\\t\\t\\t\\t\\t<span class=\"source\">\\n\\t\\t\\t\\t\\t\\t\\t\\t\\t\\t\\t\\n\\t\\t\\t\\t\\t\\t\\t\\t\\t\\t<span class=\"source_inner\">\\xeb\\xa7\\x88\\xeb\\x85\\x80\\xec\\x9d\\x98 \\xea\\xb2\\x8c\\xec\\x9e\\x84</span>\\n\\t\\t\\t\\t\\t\\t\\t\\t\\t\\t</span>\\n\\t\\t\\t\\t\\t\\t\\t\\t\\t\\n\\t\\t\\t\\t\\t\\t\\t\\t</div>\\n\\t\\t\\t\\t\\t\\t\\t</div>\\n\\t\\t\\t\\t\\t\\t</div>\\n\\t\\t\\t\\t\\t</a>\\n\\t\\t\\t\\t\\n\\t\\t\\t\\n\\t\\t</div>\\n\\t</div>\\n</div>\\n\\n\\n\\n\\n\\n\\t<div class=\"btn_more_wrap\">\\n\\t\\t<button type=\"button\" class=\"btn_more\" data-clk-custom=\"tcc_tvc.more\" data-next-page=\"2\"><i class=\"ico_more\"></i>\\xec\\x83\\x88\\xeb\\xa1\\x9c\\xec\\x9a\\xb4 \\xea\\xb8\\x80 \\xeb\\x8d\\x94\\xeb\\xb3\\xb4\\xea\\xb8\\xb0</button>\\n\\t</div>\\n\\n\\n<div class=\"NM_THEME_META\" style=\"display: none\" data-panel-code=\"ENTER\" data-parent-code=\"\"></div>\\n\\n\\t</div>\\n</div>\\n </div> </div> <div id=\"NM_INT_RIGHT\" class=\"column_right\"> <div class=\"column_fix_wrap\"> <div id=\"da_brand\"></div> \\n\\n\\n\\n\\n\\n<div id=\"account\" class=\"sc_login\">\\n<h2 class=\"blind\">Sign in</h2>\\n<p class=\"login_msg\">Connect with people</p>\\n<a href=\"https://nid.naver.com/nidlogin.login?mode=form&url=https%3A%2F%2Fwww.naver.com\" class=\"link_login\" data-clk=\"log_off.login\"><i class=\"ico_naver\"><span class=\"blind\">NAVER</span></i>Sign in</a>\\n<div class=\"sub_area\">\\n<div class=\"look_box\">\\n<a href=\"https://nid.naver.com/user/help.nhn?todo=idinquiry\" class=\"link_look\" data-clk=\"log_off.searchid\">Forgot Username</a>\\n<a href=\"https://nid.naver.com/nidreminder.form\" class=\"link_look\" data-clk=\"log_off.searchpass\">Password</a>\\n</div>\\n<a href=\"https://nid.naver.com/nidregister.form?url=https%3A%2F%2Fwww.naver.com\" class=\"link_join\" data-clk=\"log_off.registration\">Sign up</a>\\n</div>\\n</div>\\n\\n\\n\\n <div id=\"timesquare\" class=\"sc_timesquare\"> <h2 class=\"blind\">\\xed\\x83\\x80\\xec\\x9e\\x84\\xec\\x8a\\xa4\\xed\\x80\\x98\\xec\\x96\\xb4</h2> <div class=\"card_wrap\">\\n<div class=\"card_nav\">\\n<a href=\"#\" role=\"button\" class=\"btn_nav btn_prev\" data-clk=\"squ.pre\"><span class=\"blind\">\\xec\\x9d\\xb4\\xec\\xa0\\x84</span></a>\\n<a href=\"#\" role=\"button\" class=\"btn_nav btn_next\" data-clk=\"squ.next\"><span class=\"blind\">\\xeb\\x8b\\xa4\\xec\\x9d\\x8c</span></a>\\n</div>\\n<div id=\"NM_TS_ROLLING_WRAP\" style=\"height: 100%;\">\\n<div>\\n<a href=\"https://news.naver.com/main/tv/index.naver?mid=tvh\" class=\"card_news\" data-clk=\"squ.line1\"><i class=\"news_badge type_live\">LIVE</i><span class=\"news\">\\xec\\xa0\\x80\\xeb\\x85\\x81\\xeb\\xb0\\xa9\\xec\\x86\\xa1 \\xeb\\xa9\\x94\\xec\\x9d\\xb8\\xeb\\x89\\xb4\\xec\\x8a\\xa4 \\xeb\\xb3\\xb4\\xea\\xb8\\xb0</span></a>\\n</div>\\n<div>\\n<a href=\"https://search.naver.com/search.naver?sm=top_hty&amp;fbm=0&amp;ie=utf8&amp;query=%EC%BD%94%EB%A1%9C%EB%82%9819\" class=\"card_news\" data-clk=\"squ.line3\"><i class=\"news_badge\">\\xec\\x9d\\xb4\\xec\\x8a\\x88</i><span class=\"news\">\\xec\\xbd\\x94\\xeb\\xa1\\x9c\\xeb\\x82\\x98\\xeb\\xb0\\x94\\xec\\x9d\\xb4\\xeb\\x9f\\xac\\xec\\x8a\\xa4\\xea\\xb0\\x90\\xec\\x97\\xbc\\xec\\xa6\\x9d-19 \\xed\\x98\\x84\\xed\\x99\\xa9</span></a>\\n</div>\\n<div>\\n<a href=\"https://finance.naver.com/world/sise.nhn?symbol=RUI@RTSI\" class=\"card_stock \" data-clk=\"squ.rus\">\\n<strong class=\"stock_title\">\\xec\\xa6\\x9d\\xec\\x8b\\x9c</strong>\\n<div class=\"stock_box\">\\n<em class=\"name\">\\xeb\\x9f\\xac\\xec\\x8b\\x9c\\xec\\x95\\x84</em>\\n<strong class=\"current\">1,098.77</strong>\\n<span class=\"rate rate_down\"><span class=\"blind\">\\xed\\x95\\x98\\xeb\\x9d\\xbd</span>0.16 -0.01%</span>\\n</div>\\n</a>\\n</div>\\n<div>\\n<a href=\"https://finance.naver.com/world/sise.nhn?symbol=XTR@DAX30\" class=\"card_stock \" data-clk=\"squ.ger\">\\n<strong class=\"stock_title\">\\xec\\xa6\\x9d\\xec\\x8b\\x9c</strong>\\n<div class=\"stock_box\">\\n<em class=\"name\">\\xeb\\x8f\\x85\\xec\\x9d\\xbc</em>\\n<strong class=\"current\">14,201.56</strong>\\n<span class=\"rate rate_down\"><span class=\"blind\">\\xed\\x95\\x98\\xeb\\x9d\\xbd</span>59.63 -0.42%</span>\\n</div>\\n</a>\\n</div>\\n<div>\\n<a href=\"https://finance.naver.com/world/sise.nhn?symbol=STX@SX5E\" class=\"card_stock \" data-clk=\"squ.euro\">\\n<strong class=\"stock_title\">\\xec\\xa6\\x9d\\xec\\x8b\\x9c</strong>\\n<div class=\"stock_box\">\\n<em class=\"name\">\\xec\\x9c\\xa0\\xeb\\xa1\\x9c\\xec\\x8a\\xa4\\xed\\x86\\xa1\\xec\\x8a\\xa450</em>\\n<strong class=\"current\">3,905.76</strong>\\n<span class=\"rate rate_down\"><span class=\"blind\">\\xed\\x95\\x98\\xeb\\x9d\\xbd</span>15.14 -0.39%</span>\\n</div>\\n</a>\\n</div>\\n<div>\\n<a href=\"https://finance.naver.com/marketindex/exchangeDetail.nhn?marketindexCd=FX_USDKRW\" class=\"card_stock type_exchange\" data-clk=\"squ.usd\">\\n<strong class=\"stock_title\">\\xed\\x99\\x98\\xec\\x9c\\xa8</strong>\\n<div class=\"stock_box\">\\n<em class=\"name\">USD</em>\\n<strong class=\"current\">1,320.00</strong>\\n<span class=\"rate rate_stable\"><span class=\"blind\">\\xeb\\xb3\\xb4\\xed\\x95\\xa9</span>0.00 0.00%</span>\\n</div>\\n</a>\\n</div>\\n</div>\\n</div> <!-- EMPTY --> </div> <div id=\"veta_branding\"> <span class=\"blind\"> <script id=\"veta_service_check\"></script> </span> <div id=\"veta_branding_inner\" style=\"width:350px;height:200px\"> </div> <span class=\"veta_bd_t\"></span> <span class=\"veta_bd_b\"></span> <span class=\"veta_bd_l\"></span> <span class=\"veta_bd_r\"></span> </div> <div id=\"shopcast\" class=\"sc_shopcast\"> <iframe id=\"shopcast_iframe\" data-iframe-src=\"/shoppingbox/shoppingboxnew/main.nhn?mode=plusdeal&domain=N\" title=\"\\xec\\x87\\xbc\\xed\\x95\\x91\\xec\\xba\\x90\\xec\\x8a\\xa4\\xed\\x8a\\xb8\" width=\"350\" height=\"1809\" marginheight=\"0\" marginwidth=\"0\" scrolling=\"no\" frameborder=\"0\"></iframe> </div> </div> </div> <a id=\"NM_scroll_top_btn\" href=\"#wrap\" class=\"content_top\"><span class=\"blind\">TOP</span></a> <button id=\"NM_darkmode_btn\" type=\"button\" role=\"button\" class=\"btn_theme\" aria-pressed=\"false\"  > <span class=\"blind\">\\xeb\\x9d\\xbc\\xec\\x9d\\xb4\\xed\\x8a\\xb8 \\xeb\\xaa\\xa8\\xeb\\x93\\x9c\\xeb\\xa1\\x9c \\xeb\\xb3\\xb4\\xea\\xb8\\xb0</span> </button> </div> <div id=\"footer\" role=\"contentinfo\"> <div class=\"footer_inner\"> <div id=\"NM-FOOTER-AD\" class=\"banner_area\"> <div class=\"da_box_wrap\"> <div id=\"da_public_left\"> </div> <div id=\"da_public_right\"> </div> <div id=\"veta_time2\"> </div> </div> </div> <div class=\"notice_area\" data-clk-prefix=\"ntc\"> <div class=\"notice_box\"> <h3 class=\"title\"><a href=\"https://www.naver.com/NOTICE\">\\xea\\xb3\\xb5\\xec\\xa7\\x80\\xec\\x82\\xac\\xed\\x95\\xad</a> </h3> <!-- EMPTY --> </div> <a href=\"more.html\" class=\"link_all\" data-clk=\"svcmap\">\\xec\\x84\\x9c\\xeb\\xb9\\x84\\xec\\x8a\\xa4 \\xec\\xa0\\x84\\xec\\xb2\\xb4\\xeb\\xb3\\xb4\\xea\\xb8\\xb0</a> </div> <div class=\"aside_area\"> <div class=\"partner_box_wrap\"> <div class=\"partner_box\" data-clk-prefix=\"crt\"> <h3 class=\"title\">Creators</h3> <a href=\"https://www.navercorp.com/service/creators\" class=\"link_partner\" data-clk=\"creator\">\\xed\\x81\\xac\\xeb\\xa6\\xac\\xec\\x97\\x90\\xec\\x9d\\xb4\\xed\\x84\\xb0</a> <a href=\"https://www.navercorp.com/service/business\" class=\"link_partner\" data-clk=\"smbusiness\">\\xec\\x8a\\xa4\\xeb\\xaa\\xb0\\xeb\\xb9\\x84\\xec\\xa6\\x88\\xeb\\x8b\\x88\\xec\\x8a\\xa4</a> </div> <div class=\"partner_box\" data-clk-prefix=\"crt\"> <h3 class=\"title\">Partners</h3> <a href=\"https://campaign.naver.com/smefullcare/online/\" class=\"link_partner\" data-clk=\"sme\">SME \\xed\\x92\\x80\\xec\\xbc\\x80\\xec\\x96\\xb4 \\xec\\x8b\\x9c\\xec\\x8a\\xa4\\xed\\x85\\x9c</a> <a href=\"https://business.naver.com/service.html\" class=\"link_partner\" data-clk=\"service\">\\xeb\\xb9\\x84\\xec\\xa6\\x88\\xeb\\x8b\\x88\\xec\\x8a\\xa4 \\xc2\\xb7 \\xea\\xb4\\x91\\xea\\xb3\\xa0</a> <a href=\"https://sell.storefarm.naver.com/#/home/about\" class=\"link_partner\" data-clk=\"store\">\\xec\\x8a\\xa4\\xed\\x86\\xa0\\xec\\x96\\xb4 \\xea\\xb0\\x9c\\xec\\x84\\xa4</a> <a href=\"https://smartplace.naver.com\" class=\"link_partner\" data-clk=\"place\">\\xec\\xa7\\x80\\xec\\x97\\xad\\xec\\x97\\x85\\xec\\xb2\\xb4 \\xeb\\x93\\xb1\\xeb\\xa1\\x9d</a> <a href=\"https://expert.naver.com/expert/introduction?tab=guide#join\" class=\"link_partner\" data-clk=\"expert\">\\xec\\x97\\x91\\xec\\x8a\\xa4\\xed\\x8d\\xbc\\xed\\x8a\\xb8 \\xeb\\x93\\xb1\\xeb\\xa1\\x9d</a> </div> <div class=\"partner_box\" data-clk-prefix=\"crt\"> <h3 class=\"title\">Developers</h3> <a href=\"https://developers.naver.com\" class=\"link_partner\" data-clk=\"center\">\\xeb\\x84\\xa4\\xec\\x9d\\xb4\\xeb\\xb2\\x84 \\xea\\xb0\\x9c\\xeb\\xb0\\x9c\\xec\\x9e\\x90 \\xec\\x84\\xbc\\xed\\x84\\xb0</a> <a href=\"https://developers.naver.com/docs/common/openapiguide/#/apilist.md\" class=\"link_partner\" data-clk=\"openapi\">\\xec\\x98\\xa4\\xed\\x94\\x88 API</a> <a href=\"https://naver.github.io\" class=\"link_partner\" data-clk=\"opensource\">\\xec\\x98\\xa4\\xed\\x94\\x88\\xec\\x86\\x8c\\xec\\x8a\\xa4</a> <a href=\"https://d2.naver.com\" class=\"link_partner\" data-clk=\"d2\">\\xeb\\x84\\xa4\\xec\\x9d\\xb4\\xeb\\xb2\\x84 D2</a> <a href=\"http://d2startup.com\" class=\"link_partner\" data-clk=\"naverD2SF\">\\xeb\\x84\\xa4\\xec\\x9d\\xb4\\xeb\\xb2\\x84 D2SF</a> <a href=\"https://www.naverlabs.com\" class=\"link_partner\" data-clk=\"labs\">\\xeb\\x84\\xa4\\xec\\x9d\\xb4\\xeb\\xb2\\x84 \\xeb\\x9e\\xa9\\xec\\x8a\\xa4</a> </div> </div> <div class=\"service_box_wrap\"> <div class=\"service_box\" data-clk-prefix=\"wbd\"> <a href=\"http://whale.naver.com/\" class=\"service_logo\" data-clk=\"bt\"> <img src=\"data:image/png;base64,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\" alt=\"\\xec\\x9b\\xa8\\xec\\x9d\\xbc\" width=\"48\" height=\"48\"> </a> <div class=\"service_info\"> <strong class=\"title\">\\xec\\x9b\\xa8\\xec\\x9d\\xbc \\xeb\\xb8\\x8c\\xeb\\x9d\\xbc\\xec\\x9a\\xb0\\xec\\xa0\\x80</strong> <a href=\"http://whale.naver.com/\" class=\"dsc\" data-clk=\"bt\">\\xeb\\x8b\\xa4\\xec\\x9a\\xb4\\xeb\\xb0\\x9b\\xea\\xb8\\xb0</a> </div> </div> <div class=\"service_box\" data-clk-prefix=\"prj\"> <a href=\"https://search.naver.com/search.naver?where=nexearch&sm=top_hty&fbm=1&ie=utf8&query=%ED%94%84%EB%A1%9C%EC%A0%9D%ED%8A%B8%EA%BD%83\" class=\"service_logo\" data-clk=\"link\"> <img src=\"data:image/png;base64,iVBORw0KGgoAAAANSUhEUgAAAF4AAABkCAMAAAA47XeXAAAAgVBMVEUAAADN5PdGm99Gm99Gm99Gm99Gm95Gm99Gm99Gm99Gm99Gm99Gm99Gm99Gm99Gm99Gm99Gm99Gm99Gm99Gm99Gm99Gm99Gmt9Gm99Gm99Gm99Gm95Gm99Gm99Gm95Gm99Hm99Gm99Gm9/////3+/5cp+LO5PfR5/fO5fdcp+P7/f/zv5GhAAAAInRSTlMA/v7vH9u5qJNgGwb6l8a9uqF9WFUyLxYMCtbVmLCwe4OCj8gzEgAAA0NJREFUaN7NmmFz4iAQhkkwMTHGWrWtWvWuq8mF+/8/8Ey2nb0OhSwQZnw+MHQ7pbjAy2s2gsuiLPJMLpcyy4tyISZltnmHbxw3MzEVr/MUNNL5q5iCt2ccXCN9fhPB7CQYkTsRRlWDlboSAexzGCHfC28OKxhldfDOzBMwePLNTw0sauHFFphshQcLCUwkaQRfXYBPSkrEUBdv3jezcXXhw1ciUhc+fCUidQlH7qzqEk5d2dQlnHxvU5dwVgdXdSGclaiGyamt6hLO1qIu4ZASzcFE092SBprk1jagulvXAAw/qb5N7m176xQYmOPoLymYaK/X65/PNhlagE6LGUhfRM8FjNzuf/73//bHmInzoJEpjMyeWpp9RzGz/PT6+QvMNO2Q+67PPeYZY5h7jDVg5OM+/BGikd13JfDAj/Ad1WLMyEyUwKPT00ypN1GKAljQJtFiFgqRe86eYhbWIvPPPR5d+9pKiIgUwKNJdHXBvW9jyRye1EWLWYfnJcd141Byspizz7gbUyWDuqiW0v15D9g3ZgF86JwyKUgUHJaATUmS5rsEdkkTZLjZS8Alw+skFr8Nl6H6uosShaKOp3Zo+/jgFTDe+wcSfv0yFGfQaLX7tDO0reXOPRuMCG4Q11Y3IiYblWgzS7R+h31qdRtlGB7zikeUckz+AB3a8FuMqD7Cd2nhUHLOEIkLubQIkEuLxIdwEwUy3HyXxsbgPMJcGuGox+TSIugxuTQ+KHIaAS5N92eIIuMT5tJoPfHy5q9yKoXLelLuKRri0mjMQdhwTPw6Sv8pzKXhFyhNilEwkSCXRrnAnaPnJdyl0UrqXircpeHVglnv+62K4NJo3lFcGmWd79KO7OQoXAE8XNO6tIQGxj7fpfHTwk8RubQLWEGvgTNGKzj01fixunCMCCYcvSSlaFwUyKVx86J3bczpUR3zimq1LqdosAUbJF54ar+uk5Gju436mPTk8ZAXFdO93HRYTesUVgf3B+y0XdxLfdVputmfKp/iBtNjyl3c0kzUwtJIWewIPvAL9LOyWLsV9WAps3VRzh6hJBm3oOqsRKfHLGYzS/GP+iLBuBKdqkd+iWPkFZTHf4Em4us/uhI5qss/6zK5u8+AXpwAAAAASUVORK5CYII=\" alt=\"\\xea\\xbd\\x83\" width=\"47\" height=\"50\"> </a> <div class=\"service_info\"> <strong class=\"title\">\\xed\\x94\\x84\\xeb\\xa1\\x9c\\xec\\xa0\\x9d\\xed\\x8a\\xb8 \\xea\\xbd\\x83</strong> <a href=\"https://search.naver.com/search.naver?where=nexearch&sm=top_hty&fbm=1&ie=utf8&query=%ED%94%84%EB%A1%9C%EC%A0%9D%ED%8A%B8%EA%BD%83\" class=\"dsc\" data-clk=\"link\">\\xeb\\xb0\\x94\\xeb\\xa1\\x9c\\xea\\xb0\\x80\\xea\\xb8\\xb0</a> </div> </div> </div> </div> <div class=\"corp_area\" data-clk-prefix=\"plc\"> <h3 class=\"blind\">\\xeb\\x84\\xa4\\xec\\x9d\\xb4\\xeb\\xb2\\x84 \\xec\\xa0\\x95\\xec\\xb1\\x85 \\xeb\\xb0\\x8f \\xec\\x95\\xbd\\xea\\xb4\\x80</h3> <ul class=\"list_corp\"> <li class=\"corp_item\"><a href=\"https://www.navercorp.com\" data-clk=\"intronhn\">\\xed\\x9a\\x8c\\xec\\x82\\xac\\xec\\x86\\x8c\\xea\\xb0\\x9c</a></li> <li class=\"corp_item\"><a href=\"https://recruit.navercorp.com/\" data-clk=\"recruit\">\\xec\\x9d\\xb8\\xec\\x9e\\xac\\xec\\xb1\\x84\\xec\\x9a\\xa9</a></li> <li class=\"corp_item\"><a href=\"https://www.navercorp.com/naver/proposalGuide\" data-clk=\"contact\">\\xec\\xa0\\x9c\\xed\\x9c\\xb4\\xec\\xa0\\x9c\\xec\\x95\\x88</a></li> <li class=\"corp_item\"><a href=\"/policy/service.html\" data-clk=\"service\">\\xec\\x9d\\xb4\\xec\\x9a\\xa9\\xec\\x95\\xbd\\xea\\xb4\\x80</a></li> <li class=\"corp_item\"><a href=\"/policy/privacy.html\" data-clk=\"privacy\"><strong>\\xea\\xb0\\x9c\\xec\\x9d\\xb8\\xec\\xa0\\x95\\xeb\\xb3\\xb4\\xec\\xb2\\x98\\xeb\\xa6\\xac\\xeb\\xb0\\xa9\\xec\\xb9\\xa8</strong></a></li> <li class=\"corp_item\"><a href=\"/policy/youthpolicy.html\" data-clk=\"youth\">\\xec\\xb2\\xad\\xec\\x86\\x8c\\xeb\\x85\\x84\\xeb\\xb3\\xb4\\xed\\x98\\xb8\\xec\\xa0\\x95\\xec\\xb1\\x85</a></li> <li class=\"corp_item\"><a href=\"https://policy.naver.com/policy/service_group.html\" data-clk=\"policy\">\\xeb\\x84\\xa4\\xec\\x9d\\xb4\\xeb\\xb2\\x84 \\xec\\xa0\\x95\\xec\\xb1\\x85</a></li> <li class=\"corp_item\"><a href=\"https://help.naver.com/\" data-clk=\"helpcenter\">\\xea\\xb3\\xa0\\xea\\xb0\\x9d\\xec\\x84\\xbc\\xed\\x84\\xb0</a></li> </ul> <address class=\"addr\"><a href=\"https://www.navercorp.com\" target=\"_blank\" data-clk=\"nhn\">\\xe2\\x93\\x92 NAVER Corp.</a></address> </div> </div> </div> </div> <div id=\"adscript\" style=\"display:none\"></div> </body> </html>\\n'\n"
          ]
        }
      ]
    },
    {
      "cell_type": "markdown",
      "source": [
        "### 4. urllib  VS request\n",
        "- urllib\n",
        "   - 인코딩하여 바이너리 형태로 데이터 전송\n",
        "   - 데이터 전달 방식에 따라 GET요청, POST요청을 구분\n",
        "- requests\n",
        "   - 딕셔너리 형태로 데이터 전송\n",
        "   - 요청메서드 (GET, POST)를 명시하여 요청   \n"
      ],
      "metadata": {
        "id": "j7SlW99as50B"
      }
    },
    {
      "cell_type": "code",
      "source": [
        "!pwd"
      ],
      "metadata": {
        "id": "ku1B_THlq_-n",
        "colab": {
          "base_uri": "https://localhost:8080/"
        },
        "outputId": "d35358e6-c339-4750-b648-f3046a1e88c8"
      },
      "execution_count": null,
      "outputs": [
        {
          "output_type": "stream",
          "name": "stdout",
          "text": [
            "/content\n"
          ]
        }
      ]
    },
    {
      "cell_type": "markdown",
      "source": [
        "### 5 BeautifulSoup\n",
        "- HTML 및 XML 파일에서 데이터를 추출하기 위한 파이썬 라이브러리이다.\n",
        "- 파이썬에서 기본적으로 제공하는 라이브러리가 아니므로 별도 설치가 필요하다.\n",
        "   - Anaconda에는 BeautifulSoup 패키지가 Site-package로 설치되어 있다.\n",
        "   - pip install beautifulSoup4\n",
        "- HTML 및 XML 파일의 내용을 읽을 때 다음 파서(Parser)를 이용한다.\n",
        "   - html.parser, lxml, lxml-xml, html5lib\n",
        "   - 파이썬이 내장하고 있는 파서 사용 가능\n",
        "   - 좀 더 성능이 좋은 파서를 추가로 설치하여 사용 가능   \n",
        "   - 파서 라이브러리(Parser Library) 비교\n",
        "     ![parser](https://img1.daumcdn.net/thumb/R1280x0/?scode=mtistory2&fname=https%3A%2F%2Fblog.kakaocdn.net%2Fdn%2Fc28GWb%2FbtqCtX7fBRN%2FnRwJ7DSP8dtjjBxGwfGv10%2Fimg.png)\n",
        "   \n",
        "- HTML파싱\n",
        "  - BeautifulSoup의 메인 패키지인 bs 패키지에서 BeautifulSoup( )함수 임포트\n",
        "  - 파싱할 HTML문서와 파싱에 사용할 파서(구문분석기)를 지정하여 호출\n",
        "  - HTML 문서에 대한 파싱이 끝나면 트리 구조 형식으로 DOM 객체 생성 \n",
        "\n",
        "- bs4.BeautifulSoup 객체의 태그 접근 방법\n",
        "  - HTML문서를 파싱하고 bs4.BeautifulSoup 객체생성  \n",
        "  - <html>, <head>태그와 <body>태그는 제외하고 접근하려는 태그에 계층 구조를 적용\n",
        "  - 태그명을 (.)연산자와 함께 사용\n",
        "    - bs.태그명\n",
        "    - bs.태그명.태그명\n",
        "    - bs.태그명.태그명.태그명\n",
        "    - bs.html.body.h1\n",
        "\n",
        "- bs4.element.Tag 객체의 주요 속성과 메서드\n",
        "  - 태그명 속출\n",
        "     - bs.태그명.name\n",
        "  - 속성 속출\n",
        "    - bs.태그명['속성명']\n",
        "    - bs.태그명.attrs\n",
        "  - 콘텐츠 추출\n",
        "    - bs.태그명.string\n",
        "    - bs.태그명.text\n",
        "    - bs.태그명.contents\n",
        "    - bs.태그명.strings\n",
        "    - bs.태그명.get_text( )\n",
        "- 태그로 부터 다른 태그로 이동\n",
        "   - 부모 태그 추출\n",
        "     - bs.태그명.parent\n",
        "   - 자식 태그들 추출\n",
        "     - bs.태그명.children\n",
        "   - 형제 태그 추출\n",
        "     - bs.태그명.next_sibling\n",
        "     - bs.태그명.previous_sibling\n",
        "     - bs.태그명.next_siblings\n",
        "     - bs.태그명.previous_siblings\n",
        "   - 자손 태그들 속출\n",
        "     - bs.태그명.descendants\n",
        "\n",
        "- bs4.BeautifulSoup 객체의 주요 메서드\n",
        "   - HTML문서에 대한 파싱이 끝나고 생성된 트리 구조 형식의 DOM객체\n",
        "   - 태그 찾기 기능의 주요 메서드\n",
        "      - find_all( ) 4버전 => findAll()  3버전\n",
        "      - find( )\n",
        "      - select( )\n",
        "      - find_parents( ) 및 find_parent( )\n",
        "      - find_next_siblings( )및 find_next_sibling( )\n",
        "      - find_previous_siblings( ) 및 find_previous_sibling( )\n",
        "      - find_all_next( ) 및 find_next( )\n",
        "      - first_all_previous( ) 및 first_previous( )\n",
        "\n",
        "\n",
        "\n",
        "\n",
        "  \n",
        "\n",
        "\n"
      ],
      "metadata": {
        "id": "htaiz9kiti1h"
      }
    },
    {
      "cell_type": "markdown",
      "source": [
        "#### bs.find( )\n",
        "- 주어진 기준에 맞는 태그 한 개만 리턴\n",
        "- 결과는 존재하면 bs4.element.Tag 리턴하고 없으면 None을 리턴한다.\n",
        "- find()는 find_all()에 limit=1로 설정한 것과 동일하게 수행\n",
        "\n"
      ],
      "metadata": {
        "id": "dL-aSmO5yzx4"
      }
    },
    {
      "cell_type": "code",
      "source": [
        "import requests\n",
        "import bs4\n",
        "\n",
        "url = 'http://www.naver.com'\n",
        "res = requests.get(url)\n",
        "\n",
        "#print(res.text)\n",
        "\n",
        "#BeautifulSoup(parsing할 데이터, parsing방법)\n",
        "# res.text를 html으로 파싱\n",
        "bs_obj2 = bs4.BeautifulSoup(res.text, 'html.parser')\n",
        "#print(bs_obj2)\n",
        "print(bs_obj2.find('div'))\n",
        "\n",
        "print('-------------------------')\n",
        "bs_obj3 = bs4.BeautifulSoup(res.text, 'lxml')\n",
        "print(type(bs_obj3))  # <class 'bs4.BeautifulSoup'>\n",
        "print(type(bs_obj3.find('div')))  # <class 'bs4.element.Tag'>\n",
        "print(bs_obj3.find('xk'))   # 결과값이 없으면 None으로 리턴 \n",
        "bs_obj3.find('div')\n"
      ],
      "metadata": {
        "colab": {
          "base_uri": "https://localhost:8080/"
        },
        "id": "W6t8gTvitxwj",
        "outputId": "756448d9-6791-4653-8298-ea5ac037a1cf"
      },
      "execution_count": null,
      "outputs": [
        {
          "output_type": "stream",
          "name": "stdout",
          "text": [
            "<div id=\"u_skip\"> <a href=\"#newsstand\"><span>뉴스스탠드 바로가기</span></a> <a href=\"#themecast\"><span>주제별캐스트 바로가기</span></a> <a href=\"#timesquare\"><span>타임스퀘어 바로가기</span></a> <a href=\"#shopcast\"><span>쇼핑캐스트 바로가기</span></a> <a href=\"#account\"><span>로그인 바로가기</span></a> </div>\n",
            "-------------------------\n",
            "<class 'bs4.BeautifulSoup'>\n",
            "<class 'bs4.element.Tag'>\n",
            "None\n"
          ]
        },
        {
          "output_type": "execute_result",
          "data": {
            "text/plain": [
              "<div id=\"u_skip\"> <a href=\"#newsstand\"><span>뉴스스탠드 바로가기</span></a> <a href=\"#themecast\"><span>주제별캐스트 바로가기</span></a> <a href=\"#timesquare\"><span>타임스퀘어 바로가기</span></a> <a href=\"#shopcast\"><span>쇼핑캐스트 바로가기</span></a> <a href=\"#account\"><span>로그인 바로가기</span></a> </div>"
            ]
          },
          "metadata": {},
          "execution_count": 5
        }
      ]
    },
    {
      "cell_type": "markdown",
      "source": [
        "### 소스 예제"
      ],
      "metadata": {
        "id": "UYQ6eVOl2G9S"
      }
    },
    {
      "cell_type": "code",
      "source": [
        "\n",
        "\n",
        "html_str = \"\"\"<!DOCTYPE html>\n",
        "<html>\n",
        "  <body>\n",
        "    <ul class=\"ko\">\n",
        "       <li>\n",
        "           <p> Previous Element1</p>\n",
        "           <p> Previous Element2</p>\n",
        "           <a  href =\"https://www.naver.com\"> 네이버</a>\n",
        "           <p> Next Element1</p>\n",
        "           <p> Next Element2</p>\n",
        "       </li>\n",
        "\n",
        "        <li>\n",
        "           <a  href =\"https://www.daum.net\"> 다음</a>\n",
        "       </li>       \n",
        "    </ul>\n",
        "\n",
        "    <ul class=\"sns\">\n",
        "       <li>\n",
        "          <a href=\"https://www.google.com\">구글</a>\n",
        "       </li>\n",
        "       <li>\n",
        "          <a href=\"https://www.facebook.com\">페이스북</a>\n",
        "       </li>\n",
        "    </ul>\n",
        "    <div id=\"result\">page</div>\n",
        "  </body>\n",
        "</html>\n",
        "\"\"\""
      ],
      "metadata": {
        "id": "Z7XQsYHmt77i"
      },
      "execution_count": null,
      "outputs": []
    },
    {
      "cell_type": "code",
      "source": [
        "import bs4\n",
        "bs_obj = bs4.BeautifulSoup(html_str, 'html.parser')"
      ],
      "metadata": {
        "id": "XfzHL3j63RKC"
      },
      "execution_count": null,
      "outputs": []
    },
    {
      "cell_type": "markdown",
      "source": [
        "#### find(  )\n"
      ],
      "metadata": {
        "id": "WO-Pr7mc4E2D"
      }
    },
    {
      "cell_type": "code",
      "source": [
        "print(type(bs_obj))  #<class 'bs4.BeautifulSoup'>\n"
      ],
      "metadata": {
        "colab": {
          "base_uri": "https://localhost:8080/"
        },
        "id": "ItYbThFS3vBZ",
        "outputId": "c8bda797-c1b5-41be-da91-557391698832"
      },
      "execution_count": null,
      "outputs": [
        {
          "output_type": "stream",
          "name": "stdout",
          "text": [
            "<class 'bs4.BeautifulSoup'>\n"
          ]
        }
      ]
    },
    {
      "cell_type": "code",
      "source": [
        "print(bs_obj.find('div'))           #<div id=\"result\">page</div>\n",
        "print(type(bs_obj.find('div')))      #<class 'bs4.element.Tag'>\n",
        "print(dir(bs_obj.find('div')))\n",
        "print(bs_obj.find('div').text)  # page"
      ],
      "metadata": {
        "colab": {
          "base_uri": "https://localhost:8080/"
        },
        "id": "Xdiz2l_24Wf5",
        "outputId": "ebf8faef-2e38-49b2-cea3-2635db06a833"
      },
      "execution_count": null,
      "outputs": [
        {
          "output_type": "stream",
          "name": "stdout",
          "text": [
            "<div id=\"result\">page</div>\n",
            "<class 'bs4.element.Tag'>\n",
            "['HTML_FORMATTERS', 'XML_FORMATTERS', '__bool__', '__call__', '__class__', '__contains__', '__copy__', '__delattr__', '__delitem__', '__dict__', '__dir__', '__doc__', '__eq__', '__format__', '__ge__', '__getattr__', '__getattribute__', '__getitem__', '__gt__', '__hash__', '__init__', '__init_subclass__', '__iter__', '__le__', '__len__', '__lt__', '__module__', '__ne__', '__new__', '__reduce__', '__reduce_ex__', '__repr__', '__setattr__', '__setitem__', '__sizeof__', '__str__', '__subclasshook__', '__unicode__', '__weakref__', '_all_strings', '_attr_value_as_string', '_attribute_checker', '_find_all', '_find_one', '_formatter_for_name', '_is_xml', '_lastRecursiveChild', '_last_descendant', '_select_debug', '_selector_combinators', '_should_pretty_print', '_tag_name_matches_and', 'append', 'attribselect_re', 'attrs', 'can_be_empty_element', 'childGenerator', 'children', 'clear', 'contents', 'decode', 'decode_contents', 'decompose', 'descendants', 'encode', 'encode_contents', 'extract', 'fetchNextSiblings', 'fetchParents', 'fetchPrevious', 'fetchPreviousSiblings', 'find', 'findAll', 'findAllNext', 'findAllPrevious', 'findChild', 'findChildren', 'findNext', 'findNextSibling', 'findNextSiblings', 'findParent', 'findParents', 'findPrevious', 'findPreviousSibling', 'findPreviousSiblings', 'find_all', 'find_all_next', 'find_all_previous', 'find_next', 'find_next_sibling', 'find_next_siblings', 'find_parent', 'find_parents', 'find_previous', 'find_previous_sibling', 'find_previous_siblings', 'format_string', 'get', 'getText', 'get_attribute_list', 'get_text', 'has_attr', 'has_key', 'hidden', 'index', 'insert', 'insert_after', 'insert_before', 'isSelfClosing', 'is_empty_element', 'known_xml', 'name', 'namespace', 'next', 'nextGenerator', 'nextSibling', 'nextSiblingGenerator', 'next_element', 'next_elements', 'next_sibling', 'next_siblings', 'parent', 'parentGenerator', 'parents', 'parserClass', 'parser_class', 'prefix', 'preserve_whitespace_tags', 'prettify', 'previous', 'previousGenerator', 'previousSibling', 'previousSiblingGenerator', 'previous_element', 'previous_elements', 'previous_sibling', 'previous_siblings', 'quoted_colon', 'recursiveChildGenerator', 'renderContents', 'replaceWith', 'replaceWithChildren', 'replace_with', 'replace_with_children', 'select', 'select_one', 'setup', 'string', 'strings', 'stripped_strings', 'tag_name_re', 'text', 'unwrap', 'wrap']\n",
            "page\n"
          ]
        }
      ]
    },
    {
      "cell_type": "code",
      "source": [
        "ulEle = bs_obj.find('ul')\n",
        "print(ulEle)\n",
        "print('--------------------------')\n",
        "ul_li = ulEle.find('li')\n",
        "print(ul_li)\n",
        "print(type(ul_li))  # <class 'bs4.element.Tag'>\n",
        "print(ul_li.text)"
      ],
      "metadata": {
        "colab": {
          "base_uri": "https://localhost:8080/"
        },
        "id": "nj_C3DPh4i4J",
        "outputId": "9d2c2ec2-65de-4964-d8e9-5194e5be71ae"
      },
      "execution_count": null,
      "outputs": [
        {
          "output_type": "stream",
          "name": "stdout",
          "text": [
            "<ul class=\"ko\">\n",
            "<li>\n",
            "<a href=\"https://www.naver.com\"> 네이버</a>\n",
            "</li>\n",
            "<li>\n",
            "<a href=\"https://www.daum.net\"> 다음</a>\n",
            "</li>\n",
            "</ul>\n",
            "--------------------------\n",
            "<li>\n",
            "<a href=\"https://www.naver.com\"> 네이버</a>\n",
            "</li>\n",
            "<class 'bs4.element.Tag'>\n",
            "\n",
            " 네이버\n",
            "\n"
          ]
        }
      ]
    },
    {
      "cell_type": "markdown",
      "source": [
        "#### find_all( )\n",
        "- 주어진 기준에 맞는 모든 태그들을 가져옴 \n",
        "- 결과는 bs4.element.ResultSet 객체로 리턴\n",
        "- 호출 방법\n",
        "   - find_all('div')\n",
        "   - find_all(['p', 'img'])\n",
        "   - find_all(True)\n",
        "   - find_all(re.compile('^b'))\n",
        "   - find_all(id='link')\n",
        "   - find_all(src=re.compile('png$'), id='fid')\n",
        "   - find_all('a', limit=2)\n"
      ],
      "metadata": {
        "id": "fNqra1xN6TWa"
      }
    },
    {
      "cell_type": "code",
      "source": [
        "\n",
        "ul = bs_obj.find('ul')\n",
        "ul_li = ul.find_all('li')\n",
        "print(ul_li)\n",
        "print(type(ul_li)) # <class 'bs4.element.ResultSet'>\n",
        "print(dir(ul_li))\n",
        "\n",
        "print(ul_li[0])\n",
        "print(ul_li[1])\n",
        "\n",
        "for element in ul_li:\n",
        "  print(element.text)"
      ],
      "metadata": {
        "colab": {
          "base_uri": "https://localhost:8080/"
        },
        "id": "N_aOylY85Yo5",
        "outputId": "62186ccc-a608-452b-bd05-d793b1cc4c62"
      },
      "execution_count": null,
      "outputs": [
        {
          "output_type": "stream",
          "name": "stdout",
          "text": [
            "[<li>\n",
            "<a href=\"https://www.naver.com\"> 네이버</a>\n",
            "</li>, <li>\n",
            "<a href=\"https://www.daum.net\"> 다음</a>\n",
            "</li>]\n",
            "<class 'bs4.element.ResultSet'>\n",
            "['__add__', '__class__', '__contains__', '__delattr__', '__delitem__', '__dict__', '__dir__', '__doc__', '__eq__', '__format__', '__ge__', '__getattr__', '__getattribute__', '__getitem__', '__gt__', '__hash__', '__iadd__', '__imul__', '__init__', '__init_subclass__', '__iter__', '__le__', '__len__', '__lt__', '__module__', '__mul__', '__ne__', '__new__', '__reduce__', '__reduce_ex__', '__repr__', '__reversed__', '__rmul__', '__setattr__', '__setitem__', '__sizeof__', '__str__', '__subclasshook__', '__weakref__', 'append', 'clear', 'copy', 'count', 'extend', 'index', 'insert', 'pop', 'remove', 'reverse', 'sort', 'source']\n",
            "<li>\n",
            "<a href=\"https://www.naver.com\"> 네이버</a>\n",
            "</li>\n",
            "<li>\n",
            "<a href=\"https://www.daum.net\"> 다음</a>\n",
            "</li>\n",
            "\n",
            " 네이버\n",
            "\n",
            "\n",
            " 다음\n",
            "\n"
          ]
        }
      ]
    },
    {
      "cell_type": "markdown",
      "source": [
        "#### class속성 이용하기  tag_and_property"
      ],
      "metadata": {
        "id": "NgXA8Pum8sSz"
      }
    },
    {
      "cell_type": "code",
      "source": [
        "ul_reply = bs_obj.find('ul')\n",
        "print(ul_reply)\n",
        "print('-----------------------------')\n",
        "\n",
        "ul_ko = bs_obj.find('ul', {'class':'ko'})\n",
        "print(ul_ko)\n",
        "print('=================================')\n",
        "ul_sns = bs_obj.find('ul',attrs={'class':'sns'} )\n",
        "print(ul_sns)\n",
        "\n",
        "print('----------------------------')\n",
        "ul_li = ul_sns.find_all('li')\n",
        "for li in ul_li:\n",
        "  print(li.text)\n"
      ],
      "metadata": {
        "colab": {
          "base_uri": "https://localhost:8080/"
        },
        "id": "oimq8Rry7uXy",
        "outputId": "681f944f-b164-46a7-8ba0-24a5817a84e2"
      },
      "execution_count": null,
      "outputs": [
        {
          "output_type": "stream",
          "name": "stdout",
          "text": [
            "<ul class=\"ko\">\n",
            "<li>\n",
            "<a href=\"https://www.naver.com\"> 네이버</a>\n",
            "</li>\n",
            "<li>\n",
            "<a href=\"https://www.daum.net\"> 다음</a>\n",
            "</li>\n",
            "</ul>\n",
            "-----------------------------\n",
            "<ul class=\"ko\">\n",
            "<li>\n",
            "<a href=\"https://www.naver.com\"> 네이버</a>\n",
            "</li>\n",
            "<li>\n",
            "<a href=\"https://www.daum.net\"> 다음</a>\n",
            "</li>\n",
            "</ul>\n",
            "=================================\n",
            "<ul class=\"sns\">\n",
            "<li>\n",
            "<a href=\"https://www.google.com\">구글</a>\n",
            "</li>\n",
            "<li>\n",
            "<a href=\"https://www.facebook.com\">페이스북</a>\n",
            "</li>\n",
            "</ul>\n",
            "----------------------------\n",
            "\n",
            "구글\n",
            "\n",
            "\n",
            "페이스북\n",
            "\n"
          ]
        }
      ]
    },
    {
      "cell_type": "markdown",
      "source": [
        "#### 속성값 가져오기 property_href"
      ],
      "metadata": {
        "id": "TMXmg2Z5-MY0"
      }
    },
    {
      "cell_type": "code",
      "source": [
        "atag = bs_obj.find('a')\n",
        "print(atag)\n",
        "print(atag['href'])\n",
        "print(type(atag['href']))"
      ],
      "metadata": {
        "colab": {
          "base_uri": "https://localhost:8080/"
        },
        "id": "BnXKf77S89rq",
        "outputId": "09138acb-de39-4efc-b6fb-967dbc57f690"
      },
      "execution_count": null,
      "outputs": [
        {
          "output_type": "stream",
          "name": "stdout",
          "text": [
            "<a href=\"https://www.naver.com\"> 네이버</a>\n",
            "https://www.naver.com\n",
            "<class 'str'>\n"
          ]
        }
      ]
    },
    {
      "cell_type": "code",
      "source": [
        "atag = bs_obj.find_all('a')\n",
        "print(atag)\n",
        "print(len(atag))\n",
        "\n",
        "print('--------------------------')\n",
        "for atn in atag:\n",
        "  print(atn['href'])"
      ],
      "metadata": {
        "colab": {
          "base_uri": "https://localhost:8080/"
        },
        "id": "YdOwqAhS-fwr",
        "outputId": "193bc2eb-8e2f-440a-f6d4-6419059dd147"
      },
      "execution_count": null,
      "outputs": [
        {
          "output_type": "stream",
          "name": "stdout",
          "text": [
            "[<a href=\"https://www.naver.com\"> 네이버</a>, <a href=\"https://www.daum.net\"> 다음</a>, <a href=\"https://www.google.com\">구글</a>, <a href=\"https://www.facebook.com\">페이스북</a>]\n",
            "4\n",
            "--------------------------\n",
            "https://www.naver.com\n",
            "https://www.daum.net\n",
            "https://www.google.com\n",
            "https://www.facebook.com\n"
          ]
        }
      ]
    },
    {
      "cell_type": "code",
      "source": [
        "bs_obj.find('a').attrs\n",
        "print(type(bs_obj.find('a').attrs))"
      ],
      "metadata": {
        "colab": {
          "base_uri": "https://localhost:8080/"
        },
        "id": "XNxTCYNV-5mz",
        "outputId": "ad4fb6a3-bff1-40fe-b21f-0ad7ba452a5f"
      },
      "execution_count": null,
      "outputs": [
        {
          "output_type": "stream",
          "name": "stdout",
          "text": [
            "<class 'dict'>\n"
          ]
        }
      ]
    },
    {
      "cell_type": "code",
      "source": [
        "# id속성의 값이 'result'인 태그를 가져온다.\n",
        "dv= bs_obj.find(id='result')\n",
        "print(dv)\n",
        "print(type(dv))"
      ],
      "metadata": {
        "colab": {
          "base_uri": "https://localhost:8080/"
        },
        "id": "6Gwkvkzx_tfC",
        "outputId": "3562eb63-e99a-4cfc-df5f-b7892520c808"
      },
      "execution_count": null,
      "outputs": [
        {
          "output_type": "stream",
          "name": "stdout",
          "text": [
            "<div id=\"result\">page</div>\n",
            "<class 'bs4.element.Tag'>\n"
          ]
        }
      ]
    },
    {
      "cell_type": "code",
      "source": [
        "#uclass = bs_obj.find(class_='ko')\n",
        "uclass = bs_obj.find(True, {'class':'ko'})\n",
        "print(uclass)\n",
        "print('===========================')\n",
        "uclass = bs_obj.find(False, {'class':'ko'})\n",
        "print(uclass)"
      ],
      "metadata": {
        "colab": {
          "base_uri": "https://localhost:8080/"
        },
        "id": "Aj7PZ7g7AJhD",
        "outputId": "6ac42837-b955-47ca-8718-065a918f59ff"
      },
      "execution_count": null,
      "outputs": [
        {
          "output_type": "stream",
          "name": "stdout",
          "text": [
            "<ul class=\"ko\">\n",
            "<li>\n",
            "<a href=\"https://www.naver.com\"> 네이버</a>\n",
            "</li>\n",
            "<li>\n",
            "<a href=\"https://www.daum.net\"> 다음</a>\n",
            "</li>\n",
            "</ul>\n",
            "===========================\n",
            "<ul class=\"ko\">\n",
            "<li>\n",
            "<a href=\"https://www.naver.com\"> 네이버</a>\n",
            "</li>\n",
            "<li>\n",
            "<a href=\"https://www.daum.net\"> 다음</a>\n",
            "</li>\n",
            "</ul>\n"
          ]
        }
      ]
    },
    {
      "cell_type": "code",
      "source": [
        "# single element\n",
        "print(bs_obj.find('a'))\n",
        "print(bs_obj.a)\n",
        "\n",
        "print(bs_obj.find('a').get_text())\n",
        "print(type(bs_obj.find('a').get_text()))\n",
        "print(bs_obj.a.get_text())\n",
        "print(type(bs_obj.a.get_text()))\n",
        "\n",
        "# get_text( )\n",
        "# https://www.crummy.com/software/BeautifulSoup/bs4/doc/#get-text"
      ],
      "metadata": {
        "colab": {
          "base_uri": "https://localhost:8080/"
        },
        "id": "HshnGb48EEc0",
        "outputId": "8db9aa75-2b5b-41d3-91da-66dd56e26f02"
      },
      "execution_count": null,
      "outputs": [
        {
          "output_type": "stream",
          "name": "stdout",
          "text": [
            "<a href=\"https://www.naver.com\"> 네이버</a>\n",
            "<a href=\"https://www.naver.com\"> 네이버</a>\n",
            " 네이버\n",
            "<class 'str'>\n",
            " 네이버\n",
            "<class 'str'>\n"
          ]
        }
      ]
    },
    {
      "cell_type": "code",
      "source": [
        "# multi element\n",
        "print(bs_obj. find_all('a'))\n",
        "\n",
        "print(bs_obj.find_all('a')[0].get_text( ))\n",
        "print(bs_obj.find_all('a')[1].get_text( ))\n",
        "print(bs_obj.find_all('a')[2].get_text( ))\n",
        "\n",
        "print(type(bs_obj. find_all('a')))\n",
        "print(type(bs_obj. find('a')))"
      ],
      "metadata": {
        "colab": {
          "base_uri": "https://localhost:8080/"
        },
        "id": "N_AyfJIVFOL8",
        "outputId": "973b180e-355a-4016-869d-5f2d21589290"
      },
      "execution_count": null,
      "outputs": [
        {
          "output_type": "stream",
          "name": "stdout",
          "text": [
            "[<a href=\"https://www.naver.com\"> 네이버</a>, <a href=\"https://www.daum.net\"> 다음</a>, <a href=\"https://www.google.com\">구글</a>, <a href=\"https://www.facebook.com\">페이스북</a>]\n",
            " 네이버\n",
            " 다음\n",
            "구글\n",
            "<class 'bs4.element.ResultSet'>\n",
            "<class 'bs4.element.Tag'>\n"
          ]
        }
      ]
    },
    {
      "cell_type": "code",
      "source": [
        "#attribute\n",
        "print(bs_obj.attrs)\n",
        "print(bs_obj.find('a').attrs)\n",
        "\n",
        "print(bs_obj.a['href'])\n",
        "print(bs_obj.a.attrs['href'])\n",
        "print(bs_obj.a.get('href'))"
      ],
      "metadata": {
        "colab": {
          "base_uri": "https://localhost:8080/"
        },
        "id": "0lK_jcFPHj96",
        "outputId": "e6a8f5af-ecc8-47f7-a64c-352c988f8519"
      },
      "execution_count": null,
      "outputs": [
        {
          "output_type": "stream",
          "name": "stdout",
          "text": [
            "{}\n",
            "{'href': 'https://www.naver.com'}\n",
            "https://www.naver.com\n",
            "https://www.naver.com\n",
            "https://www.naver.com\n"
          ]
        }
      ]
    },
    {
      "cell_type": "code",
      "source": [
        "# children\n",
        "print(bs_obj.ul.children)\n",
        "print(type(bs_obj.ul.children))\n",
        "\n",
        "for sub in bs_obj.ul.children:\n",
        "  print(sub)\n",
        "\n",
        "print('==============================')\n",
        "\n",
        "for sub in bs_obj.find_all('ul')[1].children:\n",
        " print(sub)"
      ],
      "metadata": {
        "colab": {
          "base_uri": "https://localhost:8080/"
        },
        "id": "7kLpViv6IC3w",
        "outputId": "a9c67807-9212-4384-ed09-0369e51c9f79"
      },
      "execution_count": null,
      "outputs": [
        {
          "output_type": "stream",
          "name": "stdout",
          "text": [
            "<list_iterator object at 0x7f61387aa640>\n",
            "<class 'list_iterator'>\n",
            "\n",
            "\n",
            "<li>\n",
            "<a href=\"https://www.naver.com\"> 네이버</a>\n",
            "</li>\n",
            "\n",
            "\n",
            "<li>\n",
            "<a href=\"https://www.daum.net\"> 다음</a>\n",
            "</li>\n",
            "\n",
            "\n",
            "==============================\n",
            "\n",
            "\n",
            "<li>\n",
            "<a href=\"https://www.google.com\">구글</a>\n",
            "</li>\n",
            "\n",
            "\n",
            "<li>\n",
            "<a href=\"https://www.facebook.com\">페이스북</a>\n",
            "</li>\n",
            "\n",
            "\n"
          ]
        }
      ]
    },
    {
      "cell_type": "code",
      "source": [
        "# siblings\n",
        "print(bs_obj.find('a').next_siblings)\n",
        "ele = bs_obj.find('a').next_siblings\n",
        "# next(ele)\n",
        "\n",
        "cnt = 0\n",
        "for subNext in ele:\n",
        "  cnt += 1\n",
        "  print(subNext)\n",
        "print(cnt)"
      ],
      "metadata": {
        "colab": {
          "base_uri": "https://localhost:8080/"
        },
        "id": "KjoB8z9CIlQn",
        "outputId": "9f9c1e7e-2722-43de-fe30-9efd5f86497e"
      },
      "execution_count": null,
      "outputs": [
        {
          "output_type": "stream",
          "name": "stdout",
          "text": [
            "<generator object PageElement.next_siblings at 0x7f61386d09e0>\n",
            "\n",
            "\n",
            "<p> Next Element1</p>\n",
            "\n",
            "\n",
            "<p> Next Element2</p>\n",
            "\n",
            "\n",
            "5\n"
          ]
        }
      ]
    },
    {
      "cell_type": "code",
      "source": [
        "# 정규 표현식과 람다식\n",
        "import re\n",
        "\n",
        "print(bs_obj.find('a', {'href':'https://www.naver.com'}))\n",
        "print(bs_obj.find('a', {'href': re.compile('.*com')}))\n",
        "print(bs_obj.find('a', {'href': re.compile('.*naver.*')}))\n",
        "print(bs_obj.find('a', {'href': re.compile('naver')}))\n",
        "\n",
        "print(\"==============================================================\")\n",
        "print(bs_obj.find_all('a', {'href': re.compile('.*com')}))\n",
        "print(bs_obj.find_all('a', {'href': re.compile('.*naver.*')}))\n",
        "print(bs_obj.find_all('a', {'href': re.compile('naver')}))\n",
        "\n",
        "print(\"==============================================================\")\n",
        "print(bs_obj.find(href=lambda val : val))\n",
        "print(bs_obj.find(href=lambda val : val and 'daum' in val))\n",
        "print(\"===========================================================\")\n",
        "print(bs_obj.find(class_=lambda val:val))\n",
        "print(\"===========================================================\")\n",
        "print(bs_obj.find(class_=lambda val : val and 'sns' in val))"
      ],
      "metadata": {
        "colab": {
          "base_uri": "https://localhost:8080/"
        },
        "id": "6nsC9eyeJtr2",
        "outputId": "d39c35c7-a413-49d3-b360-4926525b1a3a"
      },
      "execution_count": null,
      "outputs": [
        {
          "output_type": "stream",
          "name": "stdout",
          "text": [
            "<a href=\"https://www.naver.com\"> 네이버</a>\n",
            "<a href=\"https://www.naver.com\"> 네이버</a>\n",
            "<a href=\"https://www.naver.com\"> 네이버</a>\n",
            "<a href=\"https://www.naver.com\"> 네이버</a>\n",
            "==============================================================\n",
            "[<a href=\"https://www.naver.com\"> 네이버</a>, <a href=\"https://www.google.com\">구글</a>, <a href=\"https://www.facebook.com\">페이스북</a>]\n",
            "[<a href=\"https://www.naver.com\"> 네이버</a>]\n",
            "[<a href=\"https://www.naver.com\"> 네이버</a>]\n",
            "==============================================================\n",
            "<a href=\"https://www.naver.com\"> 네이버</a>\n",
            "<a href=\"https://www.daum.net\"> 다음</a>\n",
            "===========================================================\n",
            "<ul class=\"ko\">\n",
            "<li>\n",
            "<p> Previous Element1</p>\n",
            "<p> Previous Element2</p>\n",
            "<a href=\"https://www.naver.com\"> 네이버</a>\n",
            "<p> Next Element1</p>\n",
            "<p> Next Element2</p>\n",
            "</li>\n",
            "<li>\n",
            "<a href=\"https://www.daum.net\"> 다음</a>\n",
            "</li>\n",
            "</ul>\n",
            "===========================================================\n",
            "<ul class=\"sns\">\n",
            "<li>\n",
            "<a href=\"https://www.google.com\">구글</a>\n",
            "</li>\n",
            "<li>\n",
            "<a href=\"https://www.facebook.com\">페이스북</a>\n",
            "</li>\n",
            "</ul>\n"
          ]
        }
      ]
    },
    {
      "cell_type": "markdown",
      "source": [
        "#### select( ) vs select_one( )\n",
        "- 주어진 CSS 선택자에 맞는 모든 태그를 가져옴 \n",
        "- 결과는 list객체로 리턴\n",
        "- CSS선택자를 적용한 호추\n",
        "  -  select('태그명')\n",
        "  -  select('.클래스명')\n",
        "  -  select('#아이디명')\n",
        "  -  select('태그명.클래스명')\n",
        "  -  select('상위태그명>자식태그명>손자태그명')\n",
        "  -  select('태그명:nth-of-type(2)')\n",
        "  -  select('태그명[속성]')"
      ],
      "metadata": {
        "id": "y_KJaF67YhEX"
      }
    },
    {
      "cell_type": "code",
      "source": [
        "ul_ = bs_obj.select_one('ul')\n",
        "print(ul_)\n",
        "print(type(ul_))\n",
        "print('------------------------------')\n",
        "ul_li = bs_obj.select_one('ul > li')  #  > 양쪽에 공백 처리해야함\n",
        "print(ul_li)"
      ],
      "metadata": {
        "colab": {
          "base_uri": "https://localhost:8080/"
        },
        "id": "x_hN9UWGMPFk",
        "outputId": "6cc744c2-d003-4229-ba68-00593ad86948"
      },
      "execution_count": null,
      "outputs": [
        {
          "output_type": "stream",
          "name": "stdout",
          "text": [
            "<ul class=\"ko\">\n",
            "<li>\n",
            "<p> Previous Element1</p>\n",
            "<p> Previous Element2</p>\n",
            "<a href=\"https://www.naver.com\"> 네이버</a>\n",
            "<p> Next Element1</p>\n",
            "<p> Next Element2</p>\n",
            "</li>\n",
            "<li>\n",
            "<a href=\"https://www.daum.net\"> 다음</a>\n",
            "</li>\n",
            "</ul>\n",
            "<class 'bs4.element.Tag'>\n",
            "------------------------------\n",
            "<li>\n",
            "<p> Previous Element1</p>\n",
            "<p> Previous Element2</p>\n",
            "<a href=\"https://www.naver.com\"> 네이버</a>\n",
            "<p> Next Element1</p>\n",
            "<p> Next Element2</p>\n",
            "</li>\n"
          ]
        }
      ]
    },
    {
      "cell_type": "code",
      "source": [
        "print(bs_obj.select('a'))\n",
        "print(type(bs_obj.select('a')))\n"
      ],
      "metadata": {
        "colab": {
          "base_uri": "https://localhost:8080/"
        },
        "id": "jCYSQ9y8ZlRL",
        "outputId": "ed558d37-9263-48cd-a602-c73b5f95081b"
      },
      "execution_count": null,
      "outputs": [
        {
          "output_type": "stream",
          "name": "stdout",
          "text": [
            "[<a href=\"https://www.naver.com\"> 네이버</a>, <a href=\"https://www.daum.net\"> 다음</a>, <a href=\"https://www.google.com\">구글</a>, <a href=\"https://www.facebook.com\">페이스북</a>]\n",
            "<class 'list'>\n"
          ]
        }
      ]
    },
    {
      "cell_type": "code",
      "source": [
        "bs_obj.select('.ko')"
      ],
      "metadata": {
        "colab": {
          "base_uri": "https://localhost:8080/"
        },
        "id": "Wr3_LLyRa3Ow",
        "outputId": "9d3bb71e-100c-4655-a8b7-8e9c0375af37"
      },
      "execution_count": null,
      "outputs": [
        {
          "output_type": "execute_result",
          "data": {
            "text/plain": [
              "[<ul class=\"ko\">\n",
              " <li>\n",
              " <p> Previous Element1</p>\n",
              " <p> Previous Element2</p>\n",
              " <a href=\"https://www.naver.com\"> 네이버</a>\n",
              " <p> Next Element1</p>\n",
              " <p> Next Element2</p>\n",
              " </li>\n",
              " <li>\n",
              " <a href=\"https://www.daum.net\"> 다음</a>\n",
              " </li>\n",
              " </ul>]"
            ]
          },
          "metadata": {},
          "execution_count": 95
        }
      ]
    },
    {
      "cell_type": "code",
      "source": [
        "bs_obj.select('#result')"
      ],
      "metadata": {
        "colab": {
          "base_uri": "https://localhost:8080/"
        },
        "id": "rAXlCSp6bNGI",
        "outputId": "b9686b21-fe84-4e20-8f81-f70415529eb7"
      },
      "execution_count": null,
      "outputs": [
        {
          "output_type": "execute_result",
          "data": {
            "text/plain": [
              "[<div id=\"result\">page</div>]"
            ]
          },
          "metadata": {},
          "execution_count": 96
        }
      ]
    },
    {
      "cell_type": "code",
      "source": [
        "#  nth_child(n) : 부모 엘리먼트의 모든 자식 엘리먼트 중 n번째\n",
        "# nth_of_type(n) : 부모 엘리먼트의  특정 자식 엘리먼트 중 n번째\n",
        "bs_obj.select('ul.sns > li:nth-of-type(2)')      "
      ],
      "metadata": {
        "colab": {
          "base_uri": "https://localhost:8080/"
        },
        "id": "_DqEpK8IbS5S",
        "outputId": "d553cbfb-258f-4a15-d4e2-1d5fcc3c2546"
      },
      "execution_count": null,
      "outputs": [
        {
          "output_type": "execute_result",
          "data": {
            "text/plain": [
              "[<li>\n",
              " <a href=\"https://www.facebook.com\">페이스북</a>\n",
              " </li>]"
            ]
          },
          "metadata": {},
          "execution_count": 98
        }
      ]
    },
    {
      "cell_type": "code",
      "source": [
        "ul_li = bs_obj.select('ul > li')\n",
        "print(ul_li)\n",
        "print('---------------------------')\n",
        "for liElement in ul_li:\n",
        " # print(liElement)\n",
        "  print(liElement.text)\n"
      ],
      "metadata": {
        "colab": {
          "base_uri": "https://localhost:8080/"
        },
        "id": "pEkPlkSLbaDY",
        "outputId": "27b62c99-f7da-41cf-c7e1-eb45b678b5fc"
      },
      "execution_count": null,
      "outputs": [
        {
          "output_type": "stream",
          "name": "stdout",
          "text": [
            "[<li>\n",
            "<p> Previous Element1</p>\n",
            "<p> Previous Element2</p>\n",
            "<a href=\"https://www.naver.com\"> 네이버</a>\n",
            "<p> Next Element1</p>\n",
            "<p> Next Element2</p>\n",
            "</li>, <li>\n",
            "<a href=\"https://www.daum.net\"> 다음</a>\n",
            "</li>, <li>\n",
            "<a href=\"https://www.google.com\">구글</a>\n",
            "</li>, <li>\n",
            "<a href=\"https://www.facebook.com\">페이스북</a>\n",
            "</li>]\n",
            "---------------------------\n",
            "\n",
            " Previous Element1\n",
            " Previous Element2\n",
            " 네이버\n",
            " Next Element1\n",
            " Next Element2\n",
            "\n",
            "\n",
            " 다음\n",
            "\n",
            "\n",
            "구글\n",
            "\n",
            "\n",
            "페이스북\n",
            "\n"
          ]
        }
      ]
    },
    {
      "cell_type": "code",
      "source": [
        "print(bs_obj.select_one('a'))\n",
        "\n",
        "print(type(bs_obj.select_one('a'))) #find('a)와 타입이 같음\n",
        "print(type(bs_obj.select('a')))     # find_all('a') 리턴타입이 ResultSet이므로 다르다   "
      ],
      "metadata": {
        "colab": {
          "base_uri": "https://localhost:8080/"
        },
        "id": "0lYx-GHvcZoN",
        "outputId": "9d0965e7-0265-4ddd-e0aa-04b7e2bb8ec0"
      },
      "execution_count": null,
      "outputs": [
        {
          "output_type": "stream",
          "name": "stdout",
          "text": [
            "<a href=\"https://www.naver.com\"> 네이버</a>\n",
            "<class 'bs4.element.Tag'>\n",
            "<class 'list'>\n"
          ]
        }
      ]
    },
    {
      "cell_type": "markdown",
      "source": [
        "### 응답코드가 406일 때 문제해결 방법\n",
        " - 웹 url을 통해서 데이터를 가져올 때 요청에 유저(사용자) 에이전트 헤더를 검사한다.\n",
        " - 그리고 urllib.request.urlopen은 SSL 인증서 에러가 난다.\n",
        " - 문제해결방법\n",
        "     - requests.get(url,  headers=header)"
      ],
      "metadata": {
        "id": "QDsPFMYCeDSb"
      }
    },
    {
      "cell_type": "code",
      "source": [
        "import bs4\n",
        "import requests\n",
        "\n",
        "url = 'https://www.melon.com/'\n",
        "header = {\"User-Agent\":\"Mozilla/5.0 (Linux; Android 6.0; Nexus 5 Build/MRA58N) AppleWebKit/537.36 (KHTML, like Gecko) Chrome/108.0.0.0 Mobile Safari/537.36\"}\n",
        "res = requests.get(url,headers= header)\n",
        "print(res)  #<Response [406]>\n",
        "\n",
        "bs_melon = bs4.BeautifulSoup(res.text, 'html.parser')\n",
        "print(type(bs_melon))\n",
        "#print(bs_melon)\n"
      ],
      "metadata": {
        "colab": {
          "base_uri": "https://localhost:8080/"
        },
        "id": "MJ9wCs_bc7pn",
        "outputId": "a0991c30-6dcf-43e9-b82b-3677a5174b6b"
      },
      "execution_count": null,
      "outputs": [
        {
          "output_type": "stream",
          "name": "stdout",
          "text": [
            "<Response [200]>\n",
            "<class 'bs4.BeautifulSoup'>\n"
          ]
        }
      ]
    },
    {
      "cell_type": "markdown",
      "source": [
        "### GET 방식의 request"
      ],
      "metadata": {
        "id": "JLfNE_W2kqSb"
      }
    },
    {
      "cell_type": "code",
      "source": [
        "def getDownload( url, param = None, retries = 5 ):\n",
        "    resp = None\n",
        "    try:\n",
        "        resp = requests.get( url, params = param )\n",
        "        resp.raise_for_status()\n",
        "    except requests.exceptions.HTTPError as e:\n",
        "        if 500 <= resp.status_code < 600 and retries > 0:\n",
        "            print( 'Retries : {0}'.format( retries ) )\n",
        "            return getDownload( url, param, retries - 1 )\n",
        "        else:\n",
        "            print( resp.status_code )\n",
        "            print( resp.reason )\n",
        "            print( resp.request.headers )\n",
        "    return resp"
      ],
      "metadata": {
        "id": "Xc4cUV1nd-qi"
      },
      "execution_count": null,
      "outputs": []
    },
    {
      "cell_type": "code",
      "source": [
        "url = 'http://www.crawler-test.com/status_codes/status_500'\n",
        "getDownload( url )"
      ],
      "metadata": {
        "colab": {
          "base_uri": "https://localhost:8080/"
        },
        "id": "Kg_08OiCkybi",
        "outputId": "428f86d3-a6ec-428d-f3d8-7f76334c0654"
      },
      "execution_count": null,
      "outputs": [
        {
          "output_type": "stream",
          "name": "stdout",
          "text": [
            "Retries : 5\n",
            "Retries : 4\n",
            "Retries : 3\n",
            "Retries : 2\n",
            "Retries : 1\n",
            "500\n",
            "Internal Server Error\n",
            "{'User-Agent': 'python-requests/2.23.0', 'Accept-Encoding': 'gzip, deflate', 'Accept': '*/*', 'Connection': 'keep-alive'}\n"
          ]
        },
        {
          "output_type": "execute_result",
          "data": {
            "text/plain": [
              "<Response [500]>"
            ]
          },
          "metadata": {},
          "execution_count": 117
        }
      ]
    },
    {
      "cell_type": "markdown",
      "source": [
        "### POST 방식 request"
      ],
      "metadata": {
        "id": "D1m7XiPAle_M"
      }
    },
    {
      "cell_type": "code",
      "source": [
        "def postDownload( url, data = None, param = None, retries = 3 ):\n",
        "    resp = None\n",
        "    try:\n",
        "        resp = requests.post( url, data, params = param )\n",
        "        resp.raise_for_status()\n",
        "    except requests.exceptions.HTTPError as e:\n",
        "        if 500 <= resp.status_code < 600 and retries > 0:\n",
        "            print( 'Retries : {0}'.format( retries ) )\n",
        "            return postDownload( url, param, retries - 1 )\n",
        "        else:\n",
        "            print( resp.status_code )\n",
        "            print( resp.reason )\n",
        "            print( resp.request.headers )\n",
        "    return resp"
      ],
      "metadata": {
        "id": "j3m1r_CXk1hK"
      },
      "execution_count": null,
      "outputs": []
    },
    {
      "cell_type": "code",
      "source": [
        "url = 'http://pythonscraping.com/pages/files/processing.php'\n",
        "data = { 'firstname':'테스트', 'lastname':1234 }"
      ],
      "metadata": {
        "id": "Vw4ZSogDlme0"
      },
      "execution_count": null,
      "outputs": []
    },
    {
      "cell_type": "code",
      "source": [
        "html = postDownload( url, data )\n",
        "print( html.request.body )\n",
        "print( '------------------------------' )\n",
        "print( html.request.headers )\n",
        "html.text"
      ],
      "metadata": {
        "colab": {
          "base_uri": "https://localhost:8080/",
          "height": 89
        },
        "id": "wZ-5dsOMln20",
        "outputId": "e4ec048f-b3d7-411d-d940-ac20f9445242"
      },
      "execution_count": null,
      "outputs": [
        {
          "output_type": "stream",
          "name": "stdout",
          "text": [
            "None\n",
            "------------------------------\n",
            "{'User-Agent': 'python-requests/2.23.0', 'Accept-Encoding': 'gzip, deflate', 'Accept': '*/*', 'Connection': 'keep-alive'}\n"
          ]
        },
        {
          "output_type": "execute_result",
          "data": {
            "text/plain": [
              "'Hello there,  !'"
            ],
            "application/vnd.google.colaboratory.intrinsic+json": {
              "type": "string"
            }
          },
          "metadata": {},
          "execution_count": 125
        }
      ]
    },
    {
      "cell_type": "markdown",
      "source": [
        "### Cookie 활용"
      ],
      "metadata": {
        "id": "nPsVe4JUXZLk"
      }
    },
    {
      "cell_type": "code",
      "source": [
        "import requests"
      ],
      "metadata": {
        "id": "0VpXiG3VXmV9"
      },
      "execution_count": null,
      "outputs": []
    },
    {
      "cell_type": "code",
      "source": [
        "def postDownloadCookie( url, data = None, param = None,\n",
        "                           cookie = None, retries = 3 ):\n",
        "    resp = None\n",
        "    try:\n",
        "        resp = requests.post( url, data = data, cookies = cookie, params = param )\n",
        "        resp.raise_for_status()\n",
        "    except requests.exceptions.HTTPError as e:\n",
        "        if 500 <= resp.status_code < 600 and retries > 0:\n",
        "            print( 'Retries : {0}'.format( retries ) )\n",
        "            return postDownloadCookie( url, data, param, cookie, retries - 1 )\n",
        "        else:\n",
        "            print( resp.status_code )\n",
        "            print( resp.reason )\n",
        "            print( resp.request.headers )\n",
        "    return resp"
      ],
      "metadata": {
        "id": "q1wrSCnPlpxV"
      },
      "execution_count": null,
      "outputs": []
    },
    {
      "cell_type": "code",
      "source": [
        "url = 'http://pythonscraping.com/pages/files/processing.php'\n",
        "data = { 'firstname':'test', 'lastname':1234 }"
      ],
      "metadata": {
        "id": "wGPOuIxsXeFJ"
      },
      "execution_count": null,
      "outputs": []
    },
    {
      "cell_type": "code",
      "source": [
        "html = postDownloadCookie( url, data )\n",
        "cookie = html.cookies.get_dict()\n",
        "\n",
        "html = postDownloadCookie( url, data, cookie )\n",
        "print(html.text)\n",
        "\n",
        "session = requests.Session()\n",
        "data = { 'username':'test', 'password':'password' }\n",
        "\n",
        "html = session.post( url, data )\n",
        "print(html.text)\n",
        "\n",
        "html = session.post( url )\n",
        "print(html.text)"
      ],
      "metadata": {
        "colab": {
          "base_uri": "https://localhost:8080/"
        },
        "id": "rZlE9JlFXfaH",
        "outputId": "cadd5a3e-f566-4af6-f1dc-8314e41cc383"
      },
      "execution_count": null,
      "outputs": [
        {
          "output_type": "stream",
          "name": "stdout",
          "text": [
            "Hello there,  !\n",
            "Hello there,  !\n",
            "Hello there,  !\n"
          ]
        }
      ]
    },
    {
      "cell_type": "markdown",
      "source": [
        "#### naver에서 class속성의 값이 2개 이상일때"
      ],
      "metadata": {
        "id": "qcKlhVPsm3Yo"
      }
    },
    {
      "cell_type": "code",
      "source": [
        "header = {\"user-agent\":\"Mozilla/5.0 (Windows NT 10.0; Win64; x64) AppleWebKit/537.36 (KHTML, like Gecko) Chrome/91.0.4472.124 Safari/537.36\"}\n",
        "\n",
        "url = requests.get('https://news.naver.com', headers=header)\n",
        "print(url)\n",
        "print(type(url))  #<class 'requests.models.Response'>\n",
        "\n",
        "html = bs4.BeautifulSoup(url.text, 'html.parser')\n",
        "\n",
        "newsnow = html.find('div',{'class' : 'cjs_journal_wrap _item_contents'})\n",
        " \n",
        "#print(newsnow)\n",
        "\n",
        "print(re.findall('[a-z가-힣]+', newsnow.text))\n",
        "\n",
        "\n"
      ],
      "metadata": {
        "colab": {
          "base_uri": "https://localhost:8080/"
        },
        "id": "7wToQjv_m73C",
        "outputId": "8923590c-8e05-4ee5-cab1-bd074c66e3c3"
      },
      "execution_count": null,
      "outputs": [
        {
          "output_type": "stream",
          "name": "stdout",
          "text": [
            "<Response [200]>\n",
            "<class 'requests.models.Response'>\n",
            "['관점', '올해의', '사진과', '정부예산의', '민낯', '역사', '장식한', '컷', '미', '월스트리트저널', '은', '해마다', '올해의', '사진', 'he', 'ear', 'in', 'hotos', '을', '발표한다', '앙겔라', '메르켈', '독일', '총리의', '열정적인', '제스처를', '버락', '오바마', '미국', '대통령이', '바라보는', '모습', '년']\n"
          ]
        }
      ]
    },
    {
      "cell_type": "code",
      "source": [],
      "metadata": {
        "id": "F9q07QNUnDH3"
      },
      "execution_count": null,
      "outputs": []
    }
  ]
}