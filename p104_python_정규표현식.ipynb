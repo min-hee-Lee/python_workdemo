{
  "nbformat": 4,
  "nbformat_minor": 0,
  "metadata": {
    "colab": {
      "provenance": [],
      "authorship_tag": "ABX9TyOz/k+9eOWxLaRai2ffDdO8",
      "include_colab_link": true
    },
    "kernelspec": {
      "name": "python3",
      "display_name": "Python 3"
    },
    "language_info": {
      "name": "python"
    }
  },
  "cells": [
    {
      "cell_type": "markdown",
      "metadata": {
        "id": "view-in-github",
        "colab_type": "text"
      },
      "source": [
        "<a href=\"https://colab.research.google.com/github/min-hee-Lee/python_workdemo/blob/master/p104_python_%EC%A0%95%EA%B7%9C%ED%91%9C%ED%98%84%EC%8B%9D.ipynb\" target=\"_parent\"><img src=\"https://colab.research.google.com/assets/colab-badge.svg\" alt=\"Open In Colab\"/></a>"
      ]
    },
    {
      "cell_type": "markdown",
      "source": [
        "### 정규 표현식(Regular Express)\n",
        "- 메타문자 : 원래 그 문자가 가진 뜻이 아닌 특별한 용도로 사용되는 문자이다.\n",
        "- 정규 표현식에서 사용되는 문자 : ^$+?{}"
      ],
      "metadata": {
        "id": "Rf5oe_m5MlTD"
      }
    },
    {
      "cell_type": "code",
      "source": [
        "import re"
      ],
      "metadata": {
        "id": "dH3THchtM-_Q"
      },
      "execution_count": 2,
      "outputs": []
    },
    {
      "cell_type": "code",
      "source": [
        "#[ ] : or\n",
        "p = re.compile('[a-z]')"
      ],
      "metadata": {
        "id": "fgob_K8gNAdN"
      },
      "execution_count": 3,
      "outputs": []
    },
    {
      "cell_type": "code",
      "source": [
        "m = p.match('python') #p문자 찾기"
      ],
      "metadata": {
        "id": "R7FbYrl7NNKR"
      },
      "execution_count": 4,
      "outputs": []
    },
    {
      "cell_type": "code",
      "source": [
        "print(m)   #0번째인덱스에서 1번째 미만 까지"
      ],
      "metadata": {
        "colab": {
          "base_uri": "https://localhost:8080/"
        },
        "id": "tFPJISiUNRbJ",
        "outputId": "cc9d733f-0cd7-4b33-8d8c-d91f0e3a2ad8"
      },
      "execution_count": 5,
      "outputs": [
        {
          "output_type": "stream",
          "name": "stdout",
          "text": [
            "<re.Match object; span=(0, 1), match='p'>\n"
          ]
        }
      ]
    },
    {
      "cell_type": "code",
      "source": [
        "n = p.search('python')\n",
        "n"
      ],
      "metadata": {
        "colab": {
          "base_uri": "https://localhost:8080/"
        },
        "id": "YyhMH0aGNThc",
        "outputId": "d846602b-099c-4dd5-b643-c1c11d2a7fc3"
      },
      "execution_count": 8,
      "outputs": [
        {
          "output_type": "execute_result",
          "data": {
            "text/plain": [
              "<re.Match object; span=(0, 1), match='p'>"
            ]
          },
          "metadata": {},
          "execution_count": 8
        }
      ]
    },
    {
      "cell_type": "code",
      "source": [
        "p = re.compile('[a-z]')"
      ],
      "metadata": {
        "id": "IyaeGw7LNiR6"
      },
      "execution_count": 11,
      "outputs": []
    },
    {
      "cell_type": "code",
      "source": [
        "m=p.findall('3 life it sto short')  #영문자만 모두 찾는다\n",
        "print(m)"
      ],
      "metadata": {
        "colab": {
          "base_uri": "https://localhost:8080/"
        },
        "id": "FVaXnu6CN150",
        "outputId": "472e11d4-5d33-4ea2-9340-68a6870e8539"
      },
      "execution_count": 12,
      "outputs": [
        {
          "output_type": "stream",
          "name": "stdout",
          "text": [
            "['l', 'i', 'f', 'e', 'i', 't', 's', 't', 'o', 's', 'h', 'o', 'r', 't']\n"
          ]
        }
      ]
    },
    {
      "cell_type": "code",
      "source": [
        "p = re.compile('[a-z]+')   #+는 무조건 한개 이상\n",
        "m=p.findall('li2fe is %to short3 e')\n",
        "print(m)  #영문자 한개 이상인 것들만 리턴"
      ],
      "metadata": {
        "colab": {
          "base_uri": "https://localhost:8080/"
        },
        "id": "kJ5rbMqbOC4X",
        "outputId": "c1df5e2a-afe3-4d32-9bc3-e8b2f4c7ff78"
      },
      "execution_count": 14,
      "outputs": [
        {
          "output_type": "stream",
          "name": "stdout",
          "text": [
            "['li', 'fe', 'is', 'to', 'short', 'e']\n"
          ]
        }
      ]
    },
    {
      "cell_type": "code",
      "source": [
        "p = re.compile('[a-z]')\n",
        "m = p.finditer('life is to short')\n",
        "print(m)"
      ],
      "metadata": {
        "colab": {
          "base_uri": "https://localhost:8080/"
        },
        "id": "aiqf6QVyOQs2",
        "outputId": "c433c452-2b27-4cf2-93ce-5cd4cdf3b4c7"
      },
      "execution_count": 16,
      "outputs": [
        {
          "output_type": "stream",
          "name": "stdout",
          "text": [
            "<callable_iterator object at 0x7f1655703cd0>\n"
          ]
        }
      ]
    },
    {
      "cell_type": "code",
      "source": [
        "for r in m :\n",
        "  print(r)"
      ],
      "metadata": {
        "colab": {
          "base_uri": "https://localhost:8080/"
        },
        "id": "5jcxX0D1OfzO",
        "outputId": "eba283c8-229e-4186-d71b-86195dc690fd"
      },
      "execution_count": 17,
      "outputs": [
        {
          "output_type": "stream",
          "name": "stdout",
          "text": [
            "<re.Match object; span=(0, 1), match='l'>\n",
            "<re.Match object; span=(1, 2), match='i'>\n",
            "<re.Match object; span=(2, 3), match='f'>\n",
            "<re.Match object; span=(3, 4), match='e'>\n",
            "<re.Match object; span=(5, 6), match='i'>\n",
            "<re.Match object; span=(6, 7), match='s'>\n",
            "<re.Match object; span=(8, 9), match='t'>\n",
            "<re.Match object; span=(9, 10), match='o'>\n",
            "<re.Match object; span=(11, 12), match='s'>\n",
            "<re.Match object; span=(12, 13), match='h'>\n",
            "<re.Match object; span=(13, 14), match='o'>\n",
            "<re.Match object; span=(14, 15), match='r'>\n",
            "<re.Match object; span=(15, 16), match='t'>\n"
          ]
        }
      ]
    },
    {
      "cell_type": "code",
      "source": [
        "print(type(r))\n",
        "print(dir(r))"
      ],
      "metadata": {
        "colab": {
          "base_uri": "https://localhost:8080/"
        },
        "id": "wCJAXJl6Oqvr",
        "outputId": "a4d083e4-2283-4e4d-f0c9-c882687a3091"
      },
      "execution_count": 21,
      "outputs": [
        {
          "output_type": "stream",
          "name": "stdout",
          "text": [
            "<class 're.Match'>\n",
            "['__class__', '__copy__', '__deepcopy__', '__delattr__', '__dir__', '__doc__', '__eq__', '__format__', '__ge__', '__getattribute__', '__getitem__', '__gt__', '__hash__', '__init__', '__init_subclass__', '__le__', '__lt__', '__ne__', '__new__', '__reduce__', '__reduce_ex__', '__repr__', '__setattr__', '__sizeof__', '__str__', '__subclasshook__', 'end', 'endpos', 'expand', 'group', 'groupdict', 'groups', 'lastgroup', 'lastindex', 'pos', 're', 'regs', 'span', 'start', 'string']\n"
          ]
        }
      ]
    },
    {
      "cell_type": "code",
      "source": [
        "p = re.compile('[a-z]+')\n",
        "m = p.finditer('life is to short')\n",
        "for r in m : \n",
        "  print(r.group(), r.start(), r.end(), r.span())"
      ],
      "metadata": {
        "colab": {
          "base_uri": "https://localhost:8080/"
        },
        "id": "_0JCK33mOzFo",
        "outputId": "be365764-b578-469e-e544-852c961bec53"
      },
      "execution_count": 26,
      "outputs": [
        {
          "output_type": "stream",
          "name": "stdout",
          "text": [
            "life 0 4 (0, 4)\n",
            "is 5 7 (5, 7)\n",
            "to 8 10 (8, 10)\n",
            "short 11 16 (11, 16)\n"
          ]
        }
      ]
    },
    {
      "cell_type": "code",
      "source": [
        "#문자 클래스 [] : 문자 a-z 아무거나 들어가도 배치\n",
        "p = re.compile('[a-z]')\n",
        "m = p.match('abc')  #첫 번쨰 일치하는 값만 가져옴\n",
        "print(m)\n",
        "print(dir(m))\n",
        "print(m.group(), m.start(), m.string)"
      ],
      "metadata": {
        "id": "dN_LkpiuO_1L",
        "colab": {
          "base_uri": "https://localhost:8080/"
        },
        "outputId": "f1a91124-b329-42c8-d250-a2e0943259ed"
      },
      "execution_count": 31,
      "outputs": [
        {
          "output_type": "stream",
          "name": "stdout",
          "text": [
            "<re.Match object; span=(0, 1), match='a'>\n",
            "['__class__', '__copy__', '__deepcopy__', '__delattr__', '__dir__', '__doc__', '__eq__', '__format__', '__ge__', '__getattribute__', '__getitem__', '__gt__', '__hash__', '__init__', '__init_subclass__', '__le__', '__lt__', '__ne__', '__new__', '__reduce__', '__reduce_ex__', '__repr__', '__setattr__', '__sizeof__', '__str__', '__subclasshook__', 'end', 'endpos', 'expand', 'group', 'groupdict', 'groups', 'lastgroup', 'lastindex', 'pos', 're', 'regs', 'span', 'start', 'string']\n",
            "a 0 abc\n"
          ]
        }
      ]
    },
    {
      "cell_type": "code",
      "source": [
        "# Dot(.) : a와 b사이에 줄바꿈 문자를 제외한 어떤 문자도 매치\n",
        "p = re.compile('a.b')\n",
        "m = p.match('abc') \n",
        "print(m)"
      ],
      "metadata": {
        "colab": {
          "base_uri": "https://localhost:8080/"
        },
        "id": "xJxG0x6cPtGZ",
        "outputId": "399aada5-60f7-4f0b-e219-a68d55f247df"
      },
      "execution_count": 33,
      "outputs": [
        {
          "output_type": "stream",
          "name": "stdout",
          "text": [
            "None\n"
          ]
        }
      ]
    },
    {
      "cell_type": "code",
      "source": [
        "#반복(*) : *문자 바로 앞에 있는 t가 0번 이상 반복되면 매치\n",
        "p = re.compile('cat*k')\n",
        "m = p.match('ck') \n",
        "print(m)\n",
        "\n",
        "m = p.match('cak') \n",
        "print(m)\n",
        "print(m.group())\n",
        "\n",
        "m = p.match('catttk') \n",
        "print(m)\n",
        "print(m.group(), m.start())"
      ],
      "metadata": {
        "colab": {
          "base_uri": "https://localhost:8080/"
        },
        "id": "JcKZ8CDCSit2",
        "outputId": "d20500ad-419e-4dad-8ffe-172ac515c904"
      },
      "execution_count": 36,
      "outputs": [
        {
          "output_type": "stream",
          "name": "stdout",
          "text": [
            "None\n",
            "<re.Match object; span=(0, 3), match='cak'>\n",
            "cak\n",
            "<re.Match object; span=(0, 6), match='catttk'>\n",
            "catttk 0\n"
          ]
        }
      ]
    },
    {
      "cell_type": "code",
      "source": [
        "#반복(+) : +문자 바로 앞에 있는 t가 1번 이상 반복되면 매치\n",
        "p = re.compile('cat+k')\n",
        "m = p.match('ck') \n",
        "print(m)\n",
        "\n",
        "m = p.match('cak') \n",
        "print(m)\n",
        "\n",
        "m = p.match('catttk') \n",
        "print(m)\n",
        "print(m.group(), m.start())"
      ],
      "metadata": {
        "colab": {
          "base_uri": "https://localhost:8080/"
        },
        "id": "yoObmsptS6wc",
        "outputId": "e9134c1b-b722-455d-ccc5-3da8a98214f1"
      },
      "execution_count": 37,
      "outputs": [
        {
          "output_type": "stream",
          "name": "stdout",
          "text": [
            "None\n",
            "None\n",
            "<re.Match object; span=(0, 6), match='catttk'>\n",
            "catttk 0\n"
          ]
        }
      ]
    },
    {
      "cell_type": "code",
      "source": [
        "# 반복{{m,n}, ?} : 반복 횟수를 고정시킬 때 사용한다.\n",
        "p = re.compile('ca{2}t')\n",
        "m = p.match('cat') \n",
        "print(m)"
      ],
      "metadata": {
        "colab": {
          "base_uri": "https://localhost:8080/"
        },
        "id": "HIpyQnE7TWt1",
        "outputId": "d6354c10-ba6f-442e-c627-9dfbfc8ffab1"
      },
      "execution_count": 38,
      "outputs": [
        {
          "output_type": "stream",
          "name": "stdout",
          "text": [
            "None\n"
          ]
        }
      ]
    },
    {
      "cell_type": "code",
      "source": [
        "p = re.compile('ca{2}t')  #a가 2개일 때\n",
        "m = p.match('caat') \n",
        "print(m)\n",
        "print(m.group())"
      ],
      "metadata": {
        "colab": {
          "base_uri": "https://localhost:8080/"
        },
        "id": "Ki-FcVBwT4aD",
        "outputId": "2853ec39-c93c-4107-8db6-7320538f841f"
      },
      "execution_count": 39,
      "outputs": [
        {
          "output_type": "stream",
          "name": "stdout",
          "text": [
            "<re.Match object; span=(0, 4), match='caat'>\n",
            "caat\n"
          ]
        }
      ]
    },
    {
      "cell_type": "code",
      "source": [
        "p = re.compile('ca{2}t')  #a가 고정적으로 2개여야만 함\n",
        "m = p.match('caaat') #a가 3개면 None\n",
        "print(m)"
      ],
      "metadata": {
        "colab": {
          "base_uri": "https://localhost:8080/"
        },
        "id": "jmQuwmTBT-Uk",
        "outputId": "2e815006-c72f-4cc1-d57a-e1a82a3f7cb3"
      },
      "execution_count": 40,
      "outputs": [
        {
          "output_type": "stream",
          "name": "stdout",
          "text": [
            "None\n"
          ]
        }
      ]
    },
    {
      "cell_type": "code",
      "source": [
        "# ? : {0, 1} 의미 (0개 아니면 1개 의미)\n",
        "p = re.compile('ca?t')  \n",
        "m = p.match('cat') \n",
        "print(m)\n",
        "print(m.group())"
      ],
      "metadata": {
        "colab": {
          "base_uri": "https://localhost:8080/"
        },
        "id": "wQqLOfJhUXj8",
        "outputId": "9bb58fc3-e466-4bf1-914d-2c2fbc09807c"
      },
      "execution_count": 41,
      "outputs": [
        {
          "output_type": "stream",
          "name": "stdout",
          "text": [
            "<re.Match object; span=(0, 3), match='cat'>\n",
            "cat\n"
          ]
        }
      ]
    },
    {
      "cell_type": "code",
      "source": [
        "p = re.compile('ca?t')  \n",
        "m = p.match('ct') \n",
        "print(m)\n",
        "print(m.group())"
      ],
      "metadata": {
        "colab": {
          "base_uri": "https://localhost:8080/"
        },
        "id": "eLer3rFWUrhz",
        "outputId": "7bf0b68c-41c4-40bd-d6ec-62a5d1f6309a"
      },
      "execution_count": 42,
      "outputs": [
        {
          "output_type": "stream",
          "name": "stdout",
          "text": [
            "<re.Match object; span=(0, 2), match='ct'>\n",
            "ct\n"
          ]
        }
      ]
    },
    {
      "cell_type": "markdown",
      "source": [
        "### 정규 표현식 옵션"
      ],
      "metadata": {
        "id": "myXpbpGWU6x4"
      }
    },
    {
      "cell_type": "code",
      "source": [
        "# 줄바꿈 문자를 포함하여 모든 문자와 매치할 수 있도록 한다.\n",
        "p = re.compile('a.b', re.DOTALL)    #정확히 a.b와 일치해야함\n",
        "m = p.match('a\\nb')   # \\n:줄바꿈\n",
        "print(m)\n",
        "print(m.group())"
      ],
      "metadata": {
        "colab": {
          "base_uri": "https://localhost:8080/"
        },
        "id": "wKuRR9O2U3tB",
        "outputId": "297c19ec-a795-42d3-99b4-4726a090e47a"
      },
      "execution_count": 45,
      "outputs": [
        {
          "output_type": "stream",
          "name": "stdout",
          "text": [
            "<re.Match object; span=(0, 3), match='a\\nb'>\n",
            "a\n",
            "b\n"
          ]
        }
      ]
    },
    {
      "cell_type": "code",
      "source": [
        "# 대소문자에 관계 없이 매치할 수 있도록 한다.\n",
        "p = re.compile('[a-z]', re.I)    #대문자 아이(Ignore)\n",
        "m = p.match('Life is to short')  #한 번만 도므로 제일 첫 번째 L 가져옴\n",
        "print(m)\n",
        "print(m.group())"
      ],
      "metadata": {
        "colab": {
          "base_uri": "https://localhost:8080/"
        },
        "id": "iF5Qa0LyVNuV",
        "outputId": "fdf2c314-49f5-4221-c47d-6e458ff14510"
      },
      "execution_count": 46,
      "outputs": [
        {
          "output_type": "stream",
          "name": "stdout",
          "text": [
            "<re.Match object; span=(0, 1), match='L'>\n",
            "L\n"
          ]
        }
      ]
    },
    {
      "cell_type": "code",
      "source": [
        "p = re.compile('^python\\s\\w+', re.M)    \n",
        "m = p.findall(\"\"\"python one\n",
        "life is too short\n",
        "python two\n",
        "you need python\n",
        "python _\n",
        "python 9\n",
        "python three\"\"\" ) \n",
        "\n",
        "print(m)\n",
        "print(dir(m))"
      ],
      "metadata": {
        "colab": {
          "base_uri": "https://localhost:8080/"
        },
        "id": "GB9O_UGlVy1M",
        "outputId": "bcf7ee90-f6b6-4f20-ad2b-151bcab7aee9"
      },
      "execution_count": 47,
      "outputs": [
        {
          "output_type": "stream",
          "name": "stdout",
          "text": [
            "['python one', 'python two', 'python _', 'python 9', 'python three']\n",
            "['__add__', '__class__', '__contains__', '__delattr__', '__delitem__', '__dir__', '__doc__', '__eq__', '__format__', '__ge__', '__getattribute__', '__getitem__', '__gt__', '__hash__', '__iadd__', '__imul__', '__init__', '__init_subclass__', '__iter__', '__le__', '__len__', '__lt__', '__mul__', '__ne__', '__new__', '__reduce__', '__reduce_ex__', '__repr__', '__reversed__', '__rmul__', '__setattr__', '__setitem__', '__sizeof__', '__str__', '__subclasshook__', 'append', 'clear', 'copy', 'count', 'extend', 'index', 'insert', 'pop', 'remove', 'reverse', 'sort']\n"
          ]
        }
      ]
    },
    {
      "cell_type": "markdown",
      "source": [
        "### findall VS finditer\n",
        "- 일치하는 검색 데이터를 모두 가져온다.\n",
        "- findall은 matchers로 리턴하고 캡처된 그룹이 있다면 튜플로 리턴한다.\n",
        "- findalliter은 Match object로 리턴한다. 리턴된 오브젝트를 가지고 m.group(1), m.group(2)이런 식으로 사용할 수 있다."
      ],
      "metadata": {
        "id": "qNH0OCIJWwv-"
      }
    },
    {
      "cell_type": "code",
      "source": [
        "p = re.compile(\"([0-9]+)([^0-9]*)\")  #^가 대괄호 안에 들어가면 숫자로 시작하면 안된다(not)\n",
        "m = p.findall(\"abc253korea523fast23slow\")\n",
        "print(m)"
      ],
      "metadata": {
        "colab": {
          "base_uri": "https://localhost:8080/"
        },
        "id": "n5X4_YNyWfDC",
        "outputId": "d9aaf7b4-9acc-4950-c989-e18cb743ddcf"
      },
      "execution_count": 50,
      "outputs": [
        {
          "output_type": "stream",
          "name": "stdout",
          "text": [
            "[('253', 'korea'), ('523', 'fast'), ('23', 'slow')]\n"
          ]
        }
      ]
    },
    {
      "cell_type": "code",
      "source": [
        "p = re.compile(\"([0-9]+)([^0-9]*)\") \n",
        "m = p.finditer(\"abc253korea523fast23slow\") #검색이 시작되면 뒤로 되돌아 올 수 없다\n",
        "print(m)\n",
        "for a in m:\n",
        "  print(a.span(), a.group())"
      ],
      "metadata": {
        "colab": {
          "base_uri": "https://localhost:8080/"
        },
        "id": "tFU8cMCEXiQY",
        "outputId": "2a61099b-c509-465f-c4f4-fd81dfa13129"
      },
      "execution_count": 54,
      "outputs": [
        {
          "output_type": "stream",
          "name": "stdout",
          "text": [
            "<callable_iterator object at 0x7f165417f250>\n",
            "(3, 11) 253korea\n",
            "(11, 18) 523fast\n",
            "(18, 24) 23slow\n"
          ]
        }
      ]
    },
    {
      "cell_type": "markdown",
      "source": [
        "### 부정적 전방탐색 ?!"
      ],
      "metadata": {
        "id": "qGkMmClsXxWF"
      }
    },
    {
      "cell_type": "code",
      "source": [
        "p = re.compile(\".*[.](?!bat$|exe$).*$\")   #bat나 exe로 끝나는게 ?!아니면\n",
        "file = ['foo.bar', 'autoexec.bat', 'sendmail.cf']\n",
        "\n",
        "for item in file:\n",
        "  #print(item)\n",
        "  m = p.search(item)\n",
        "  #print(m)\n",
        "  if m :\n",
        "    print(m)\n",
        "    print(m.group(), m.start(), m.end())"
      ],
      "metadata": {
        "colab": {
          "base_uri": "https://localhost:8080/"
        },
        "id": "P-LipDShYaDq",
        "outputId": "50693fc2-79f0-4c82-ddf4-a69f3d88ee94"
      },
      "execution_count": 55,
      "outputs": [
        {
          "output_type": "stream",
          "name": "stdout",
          "text": [
            "<re.Match object; span=(0, 7), match='foo.bar'>\n",
            "foo.bar 0 7\n",
            "<re.Match object; span=(0, 11), match='sendmail.cf'>\n",
            "sendmail.cf 0 11\n"
          ]
        }
      ]
    },
    {
      "cell_type": "markdown",
      "source": [
        "### subn() : sub() 비슷하고 리턴은 튜플로 한다."
      ],
      "metadata": {
        "id": "2oBbIi3VZtbA"
      }
    },
    {
      "cell_type": "code",
      "source": [
        "p = re.compile('(blue|white|red)')\n",
        "m = p.subn('color', 'blue socks and red socks') #위 문자열(blue|white|red)을 color로 바꿔라\n",
        "print(m)\n",
        "print(type(m))"
      ],
      "metadata": {
        "colab": {
          "base_uri": "https://localhost:8080/"
        },
        "id": "YeAkhKftY_36",
        "outputId": "87e1e5bf-f4e2-4a87-b160-085f033e7f4d"
      },
      "execution_count": 56,
      "outputs": [
        {
          "output_type": "stream",
          "name": "stdout",
          "text": [
            "('color socks and color socks', 2)\n",
            "<class 'tuple'>\n"
          ]
        }
      ]
    },
    {
      "cell_type": "code",
      "source": [],
      "metadata": {
        "id": "ha017fZlaCuq"
      },
      "execution_count": null,
      "outputs": []
    }
  ]
}