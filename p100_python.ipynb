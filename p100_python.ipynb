{
  "nbformat": 4,
  "nbformat_minor": 0,
  "metadata": {
    "colab": {
      "provenance": [],
      "authorship_tag": "ABX9TyPGC5FlWziRJ54ZonXewg4T",
      "include_colab_link": true
    },
    "kernelspec": {
      "name": "python3",
      "display_name": "Python 3"
    },
    "language_info": {
      "name": "python"
    }
  },
  "cells": [
    {
      "cell_type": "markdown",
      "metadata": {
        "id": "view-in-github",
        "colab_type": "text"
      },
      "source": [
        "<a href=\"https://colab.research.google.com/github/min-hee-Lee/python_workdemo/blob/master/p100_python.ipynb\" target=\"_parent\"><img src=\"https://colab.research.google.com/assets/colab-badge.svg\" alt=\"Open In Colab\"/></a>"
      ]
    },
    {
      "cell_type": "code",
      "source": [
        "#python version 확인\n",
        "!python --version"
      ],
      "metadata": {
        "colab": {
          "base_uri": "https://localhost:8080/"
        },
        "id": "NYDrAmuvp6jY",
        "outputId": "2cb79e3b-5be1-4e60-bc18-cc911208128c"
      },
      "execution_count": null,
      "outputs": [
        {
          "output_type": "stream",
          "name": "stdout",
          "text": [
            "Python 3.8.10\n"
          ]
        }
      ]
    },
    {
      "cell_type": "code",
      "execution_count": null,
      "metadata": {
        "colab": {
          "base_uri": "https://localhost:8080/"
        },
        "id": "HLT86gSBohD0",
        "outputId": "f64f181e-fbe4-4aca-cc84-5d6a862ef551"
      },
      "outputs": [
        {
          "output_type": "stream",
          "name": "stdout",
          "text": [
            "The Zen of Python, by Tim Peters\n",
            "\n",
            "Beautiful is better than ugly.\n",
            "Explicit is better than implicit.\n",
            "Simple is better than complex.\n",
            "Complex is better than complicated.\n",
            "Flat is better than nested.\n",
            "Sparse is better than dense.\n",
            "Readability counts.\n",
            "Special cases aren't special enough to break the rules.\n",
            "Although practicality beats purity.\n",
            "Errors should never pass silently.\n",
            "Unless explicitly silenced.\n",
            "In the face of ambiguity, refuse the temptation to guess.\n",
            "There should be one-- and preferably only one --obvious way to do it.\n",
            "Although that way may not be obvious at first unless you're Dutch.\n",
            "Now is better than never.\n",
            "Although never is often better than *right* now.\n",
            "If the implementation is hard to explain, it's a bad idea.\n",
            "If the implementation is easy to explain, it may be a good idea.\n",
            "Namespaces are one honking great idea -- let's do more of those!\n"
          ]
        }
      ],
      "source": [
        "# python의 철학\n",
        "import this"
      ]
    },
    {
      "cell_type": "code",
      "source": [
        "import keyword\n",
        "#keyword.kwlist(세로출력)\n",
        "#print통해 출력하면 list로 가로출력됨.\n",
        "print(keyword.kwlist)\n",
        "print(len(keyword.kwlist))"
      ],
      "metadata": {
        "id": "6KsCSo2Sozqu",
        "colab": {
          "base_uri": "https://localhost:8080/"
        },
        "outputId": "5639f5fe-8992-420d-c97c-6b3569d8267f"
      },
      "execution_count": null,
      "outputs": [
        {
          "output_type": "stream",
          "name": "stdout",
          "text": [
            "['False', 'None', 'True', 'and', 'as', 'assert', 'async', 'await', 'break', 'class', 'continue', 'def', 'del', 'elif', 'else', 'except', 'finally', 'for', 'from', 'global', 'if', 'import', 'in', 'is', 'lambda', 'nonlocal', 'not', 'or', 'pass', 'raise', 'return', 'try', 'while', 'with', 'yield']\n",
            "35\n"
          ]
        }
      ]
    },
    {
      "cell_type": "code",
      "source": [
        "print('Hello World')"
      ],
      "metadata": {
        "colab": {
          "base_uri": "https://localhost:8080/"
        },
        "id": "kc4RbS5Lqg2I",
        "outputId": "a31c1d92-203a-422e-d22f-1bdc0d3f8aa5"
      },
      "execution_count": null,
      "outputs": [
        {
          "output_type": "stream",
          "name": "stdout",
          "text": [
            "Hello World\n"
          ]
        }
      ]
    },
    {
      "cell_type": "code",
      "source": [
        "print(\"Hello World\")"
      ],
      "metadata": {
        "colab": {
          "base_uri": "https://localhost:8080/"
        },
        "id": "iSVfUSTRrCmm",
        "outputId": "637aa2fd-3718-4cf9-db1e-d4cf3e7bd11f"
      },
      "execution_count": null,
      "outputs": [
        {
          "output_type": "stream",
          "name": "stdout",
          "text": [
            "Hello World\n"
          ]
        }
      ]
    },
    {
      "cell_type": "code",
      "source": [
        "#연달아서 출력할 경우 ;세미콜론으로 구분하거나 줄바꿈\n",
        "print(\"python\");print('python')"
      ],
      "metadata": {
        "colab": {
          "base_uri": "https://localhost:8080/"
        },
        "id": "Wbsf53tmrGX0",
        "outputId": "13c3dc8d-8f82-4080-f487-84a1673ce9d9"
      },
      "execution_count": null,
      "outputs": [
        {
          "output_type": "stream",
          "name": "stdout",
          "text": [
            "python\n",
            "python\n"
          ]
        }
      ]
    },
    {
      "cell_type": "code",
      "source": [
        "# 조건식이나 블록처리를 :콜론으로 구분\n",
        "a = 10 ;  b = 20 \n",
        "if(a==10) and (b==20) :\n",
        "  print(\"OK\")\n",
        "else :\n",
        "  print(\"No\")"
      ],
      "metadata": {
        "colab": {
          "base_uri": "https://localhost:8080/"
        },
        "id": "Qrgw7aderQmc",
        "outputId": "f739f171-5cac-46cb-e89f-dfa7c0b2113c"
      },
      "execution_count": null,
      "outputs": [
        {
          "output_type": "stream",
          "name": "stdout",
          "text": [
            "OK\n"
          ]
        }
      ]
    },
    {
      "cell_type": "code",
      "source": [],
      "metadata": {
        "id": "gPfV0f5CrurQ"
      },
      "execution_count": null,
      "outputs": []
    }
  ]
}