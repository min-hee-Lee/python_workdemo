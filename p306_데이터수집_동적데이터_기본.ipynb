{
  "nbformat": 4,
  "nbformat_minor": 0,
  "metadata": {
    "colab": {
      "provenance": [],
      "authorship_tag": "ABX9TyM/TG0fjrx4DH8SKUco3zr8",
      "include_colab_link": true
    },
    "kernelspec": {
      "name": "python3",
      "display_name": "Python 3"
    },
    "language_info": {
      "name": "python"
    }
  },
  "cells": [
    {
      "cell_type": "markdown",
      "metadata": {
        "id": "view-in-github",
        "colab_type": "text"
      },
      "source": [
        "<a href=\"https://colab.research.google.com/github/min-hee-Lee/python_workdemo/blob/master/p306_%EB%8D%B0%EC%9D%B4%ED%84%B0%EC%88%98%EC%A7%91_%EB%8F%99%EC%A0%81%EB%8D%B0%EC%9D%B4%ED%84%B0_%EA%B8%B0%EB%B3%B8.ipynb\" target=\"_parent\"><img src=\"https://colab.research.google.com/assets/colab-badge.svg\" alt=\"Open In Colab\"/></a>"
      ]
    },
    {
      "cell_type": "markdown",
      "source": [
        "구글 드라이브 연결"
      ],
      "metadata": {
        "id": "IzWtpoDs2R-u"
      }
    },
    {
      "cell_type": "code",
      "source": [
        "from google.colab import drive\n",
        "drive.mount('/content/drive')\n",
        "\n",
        "%cd /content/drive/MyDrive/python/data"
      ],
      "metadata": {
        "colab": {
          "base_uri": "https://localhost:8080/"
        },
        "id": "xgBivfUJ2TJH",
        "outputId": "e23bacae-3976-4da4-f8ad-e236f1cc54cb"
      },
      "execution_count": null,
      "outputs": [
        {
          "output_type": "stream",
          "name": "stdout",
          "text": [
            "Mounted at /content/drive\n",
            "/content/drive/MyDrive/python/data\n"
          ]
        }
      ]
    },
    {
      "cell_type": "code",
      "source": [
        "%%shell\n",
        "\n",
        "# Add debian buster\n",
        "cat > /etc/apt/sources.list.d/debian.list <<'EOF'\n",
        "deb [arch=amd64 signed-by=/usr/share/keyrings/debian-buster.gpg] http://deb.debian.org/debian buster main\n",
        "deb [arch=amd64 signed-by=/usr/share/keyrings/debian-buster-updates.gpg] http://deb.debian.org/debian buster-updates main\n",
        "deb [arch=amd64 signed-by=/usr/share/keyrings/debian-security-buster.gpg] http://deb.debian.org/debian-security buster/updates main\n",
        "EOF\n",
        "\n",
        "# Add keys\n",
        "apt-key adv --keyserver keyserver.ubuntu.com --recv-keys DCC9EFBF77E11517\n",
        "apt-key adv --keyserver keyserver.ubuntu.com --recv-keys 648ACFD622F3D138\n",
        "apt-key adv --keyserver keyserver.ubuntu.com --recv-keys 112695A0E562B32A\n",
        "\n",
        "apt-key export 77E11517 | gpg --dearmour -o /usr/share/keyrings/debian-buster.gpg\n",
        "apt-key export 22F3D138 | gpg --dearmour -o /usr/share/keyrings/debian-buster-updates.gpg\n",
        "apt-key export E562B32A | gpg --dearmour -o /usr/share/keyrings/debian-security-buster.gpg\n",
        "\n",
        "# Prefer debian repo for chromium* packages only\n",
        "# Note the double-blank lines between entries\n",
        "cat > /etc/apt/preferences.d/chromium.pref << 'EOF'\n",
        "Package: *\n",
        "Pin: release a=eoan\n",
        "Pin-Priority: 500\n",
        "\n",
        "\n",
        "Package: *\n",
        "Pin: origin \"deb.debian.org\"\n",
        "Pin-Priority: 300\n",
        "\n",
        "\n",
        "Package: chromium*\n",
        "Pin: origin \"deb.debian.org\"\n",
        "Pin-Priority: 700\n",
        "EOF\n",
        "\n",
        "# Install chromium and chromium-driver\n",
        "apt-get update\n",
        "apt-get install chromium chromium-driver\n",
        "\n",
        "# Install selenium\n",
        "pip install selenium"
      ],
      "metadata": {
        "colab": {
          "base_uri": "https://localhost:8080/"
        },
        "id": "zsD8R2Oq2Tdi",
        "outputId": "3cc0fea6-454f-4539-f1f3-cd67390d03f5"
      },
      "execution_count": null,
      "outputs": [
        {
          "output_type": "stream",
          "name": "stdout",
          "text": [
            "Executing: /tmp/apt-key-gpghome.FXHuvR1Dwh/gpg.1.sh --keyserver keyserver.ubuntu.com --recv-keys DCC9EFBF77E11517\n",
            "gpg: key DCC9EFBF77E11517: public key \"Debian Stable Release Key (10/buster) <debian-release@lists.debian.org>\" imported\n",
            "gpg: Total number processed: 1\n",
            "gpg:               imported: 1\n",
            "Executing: /tmp/apt-key-gpghome.V9wkE5QtsI/gpg.1.sh --keyserver keyserver.ubuntu.com --recv-keys 648ACFD622F3D138\n",
            "gpg: key DC30D7C23CBBABEE: public key \"Debian Archive Automatic Signing Key (10/buster) <ftpmaster@debian.org>\" imported\n",
            "gpg: Total number processed: 1\n",
            "gpg:               imported: 1\n",
            "Executing: /tmp/apt-key-gpghome.zthtAGGb39/gpg.1.sh --keyserver keyserver.ubuntu.com --recv-keys 112695A0E562B32A\n",
            "gpg: key 4DFAB270CAA96DFA: public key \"Debian Security Archive Automatic Signing Key (10/buster) <ftpmaster@debian.org>\" imported\n",
            "gpg: Total number processed: 1\n",
            "gpg:               imported: 1\n",
            "Warning: apt-key output should not be parsed (stdout is not a terminal)\n",
            "Warning: apt-key output should not be parsed (stdout is not a terminal)\n",
            "Warning: apt-key output should not be parsed (stdout is not a terminal)\n",
            "Get:1 http://deb.debian.org/debian buster InRelease [122 kB]\n",
            "Get:2 http://security.ubuntu.com/ubuntu focal-security InRelease [114 kB]\n",
            "Get:3 http://deb.debian.org/debian buster-updates InRelease [56.6 kB]\n",
            "Get:4 http://deb.debian.org/debian-security buster/updates InRelease [34.8 kB]\n",
            "Get:5 https://cloud.r-project.org/bin/linux/ubuntu focal-cran40/ InRelease [3,622 B]\n",
            "Get:6 http://deb.debian.org/debian buster/main amd64 Packages [10.7 MB]\n",
            "Hit:7 http://ppa.launchpad.net/c2d4u.team/c2d4u4.0+/ubuntu focal InRelease\n",
            "Hit:8 http://archive.ubuntu.com/ubuntu focal InRelease\n",
            "Ign:9 https://developer.download.nvidia.com/compute/machine-learning/repos/ubuntu2004/x86_64  InRelease\n",
            "Hit:10 https://developer.download.nvidia.com/compute/cuda/repos/ubuntu2004/x86_64  InRelease\n",
            "Hit:11 https://developer.download.nvidia.com/compute/machine-learning/repos/ubuntu2004/x86_64  Release\n",
            "Get:12 http://archive.ubuntu.com/ubuntu focal-updates InRelease [114 kB]\n",
            "Get:13 http://deb.debian.org/debian buster-updates/main amd64 Packages [9,745 B]\n",
            "Hit:14 http://ppa.launchpad.net/cran/libgit2/ubuntu focal InRelease\n",
            "Get:15 http://deb.debian.org/debian-security buster/updates/main amd64 Packages [550 kB]\n",
            "Hit:16 http://ppa.launchpad.net/deadsnakes/ppa/ubuntu focal InRelease\n",
            "Get:17 http://archive.ubuntu.com/ubuntu focal-backports InRelease [108 kB]\n",
            "Get:18 http://security.ubuntu.com/ubuntu focal-security/restricted amd64 Packages [1,937 kB]\n",
            "Hit:19 http://ppa.launchpad.net/graphics-drivers/ppa/ubuntu focal InRelease\n",
            "Get:20 http://security.ubuntu.com/ubuntu focal-security/main amd64 Packages [2,496 kB]\n",
            "Hit:21 http://ppa.launchpad.net/ubuntugis/ppa/ubuntu focal InRelease\n",
            "Get:22 http://security.ubuntu.com/ubuntu focal-security/universe amd64 Packages [995 kB]\n",
            "Get:24 http://archive.ubuntu.com/ubuntu focal-updates/restricted amd64 Packages [2,066 kB]\n",
            "Get:25 http://archive.ubuntu.com/ubuntu focal-updates/main amd64 Packages [2,970 kB]\n",
            "Get:26 http://archive.ubuntu.com/ubuntu focal-updates/universe amd64 Packages [1,296 kB]\n",
            "Fetched 23.6 MB in 3s (7,885 kB/s)\n",
            "Reading package lists... Done\n",
            "Reading package lists... Done\n",
            "Building dependency tree       \n",
            "Reading state information... Done\n",
            "The following package was automatically installed and is no longer required:\n",
            "  libnvidia-common-510\n",
            "Use 'apt autoremove' to remove it.\n",
            "The following additional packages will be installed:\n",
            "  chromium-common chromium-sandbox libevent-2.1-6 libicu63 libimobiledevice6\n",
            "  libjpeg62-turbo libplist3 libre2-5 libu2f-udev libusbmuxd6 libvpx5\n",
            "  libxxf86dga1 upower usbmuxd x11-utils\n",
            "Suggested packages:\n",
            "  chromium-l10n chromium-shell libusbmuxd-tools mesa-utils\n",
            "The following NEW packages will be installed:\n",
            "  chromium chromium-common chromium-driver chromium-sandbox libevent-2.1-6\n",
            "  libicu63 libimobiledevice6 libjpeg62-turbo libplist3 libre2-5 libu2f-udev\n",
            "  libusbmuxd6 libvpx5 libxxf86dga1 upower usbmuxd x11-utils\n",
            "0 upgraded, 17 newly installed, 0 to remove and 23 not upgraded.\n",
            "Need to get 74.6 MB of archives.\n",
            "After this operation, 256 MB of additional disk space will be used.\n",
            "Get:1 http://deb.debian.org/debian buster/main amd64 libevent-2.1-6 amd64 2.1.8-stable-4 [177 kB]\n",
            "Get:2 http://deb.debian.org/debian buster/main amd64 libicu63 amd64 63.1-6+deb10u3 [8,293 kB]\n",
            "Get:3 http://deb.debian.org/debian buster/main amd64 libjpeg62-turbo amd64 1:1.5.2-2+deb10u1 [133 kB]\n",
            "Get:4 http://deb.debian.org/debian buster/main amd64 libvpx5 amd64 1.7.0-3+deb10u1 [800 kB]\n",
            "Get:5 http://deb.debian.org/debian buster/main amd64 chromium-common amd64 90.0.4430.212-1~deb10u1 [1,423 kB]\n",
            "Get:6 http://deb.debian.org/debian buster/main amd64 chromium amd64 90.0.4430.212-1~deb10u1 [58.3 MB]\n",
            "Get:7 http://archive.ubuntu.com/ubuntu focal/main amd64 libre2-5 amd64 20200101+dfsg-1build1 [162 kB]\n",
            "Get:8 http://deb.debian.org/debian buster/main amd64 chromium-driver amd64 90.0.4430.212-1~deb10u1 [4,703 kB]\n",
            "Get:9 http://deb.debian.org/debian buster/main amd64 chromium-sandbox amd64 90.0.4430.212-1~deb10u1 [146 kB]\n",
            "Get:10 http://archive.ubuntu.com/ubuntu focal/main amd64 libxxf86dga1 amd64 2:1.1.5-0ubuntu1 [12.0 kB]\n",
            "Get:11 http://archive.ubuntu.com/ubuntu focal/main amd64 x11-utils amd64 7.7+5 [199 kB]\n",
            "Get:12 http://archive.ubuntu.com/ubuntu focal/main amd64 libplist3 amd64 2.1.0-4build2 [31.6 kB]\n",
            "Get:13 http://archive.ubuntu.com/ubuntu focal/main amd64 libusbmuxd6 amd64 2.0.1-2 [19.1 kB]\n",
            "Get:14 http://archive.ubuntu.com/ubuntu focal/main amd64 libimobiledevice6 amd64 1.2.1~git20191129.9f79242-1build1 [65.2 kB]\n",
            "Get:15 http://archive.ubuntu.com/ubuntu focal/main amd64 libu2f-udev all 1.1.10-1 [6,108 B]\n",
            "Get:16 http://archive.ubuntu.com/ubuntu focal/main amd64 upower amd64 0.99.11-1build2 [104 kB]\n",
            "Get:17 http://archive.ubuntu.com/ubuntu focal/main amd64 usbmuxd amd64 1.1.1~git20191130.9af2b12-1 [38.4 kB]\n",
            "Fetched 74.6 MB in 1s (80.1 MB/s)\n",
            "Selecting previously unselected package libevent-2.1-6:amd64.\n",
            "(Reading database ... 128126 files and directories currently installed.)\n",
            "Preparing to unpack .../00-libevent-2.1-6_2.1.8-stable-4_amd64.deb ...\n",
            "Unpacking libevent-2.1-6:amd64 (2.1.8-stable-4) ...\n",
            "Selecting previously unselected package libicu63:amd64.\n",
            "Preparing to unpack .../01-libicu63_63.1-6+deb10u3_amd64.deb ...\n",
            "Unpacking libicu63:amd64 (63.1-6+deb10u3) ...\n",
            "Selecting previously unselected package libjpeg62-turbo:amd64.\n",
            "Preparing to unpack .../02-libjpeg62-turbo_1%3a1.5.2-2+deb10u1_amd64.deb ...\n",
            "Unpacking libjpeg62-turbo:amd64 (1:1.5.2-2+deb10u1) ...\n",
            "Selecting previously unselected package libre2-5:amd64.\n",
            "Preparing to unpack .../03-libre2-5_20200101+dfsg-1build1_amd64.deb ...\n",
            "Unpacking libre2-5:amd64 (20200101+dfsg-1build1) ...\n",
            "Selecting previously unselected package libvpx5:amd64.\n",
            "Preparing to unpack .../04-libvpx5_1.7.0-3+deb10u1_amd64.deb ...\n",
            "Unpacking libvpx5:amd64 (1.7.0-3+deb10u1) ...\n",
            "Selecting previously unselected package libxxf86dga1:amd64.\n",
            "Preparing to unpack .../05-libxxf86dga1_2%3a1.1.5-0ubuntu1_amd64.deb ...\n",
            "Unpacking libxxf86dga1:amd64 (2:1.1.5-0ubuntu1) ...\n",
            "Selecting previously unselected package x11-utils.\n",
            "Preparing to unpack .../06-x11-utils_7.7+5_amd64.deb ...\n",
            "Unpacking x11-utils (7.7+5) ...\n",
            "Selecting previously unselected package chromium-common.\n",
            "Preparing to unpack .../07-chromium-common_90.0.4430.212-1~deb10u1_amd64.deb ...\n",
            "Unpacking chromium-common (90.0.4430.212-1~deb10u1) ...\n",
            "Selecting previously unselected package chromium.\n",
            "Preparing to unpack .../08-chromium_90.0.4430.212-1~deb10u1_amd64.deb ...\n",
            "Unpacking chromium (90.0.4430.212-1~deb10u1) ...\n",
            "Selecting previously unselected package chromium-driver.\n",
            "Preparing to unpack .../09-chromium-driver_90.0.4430.212-1~deb10u1_amd64.deb ...\n",
            "Unpacking chromium-driver (90.0.4430.212-1~deb10u1) ...\n",
            "Selecting previously unselected package chromium-sandbox.\n",
            "Preparing to unpack .../10-chromium-sandbox_90.0.4430.212-1~deb10u1_amd64.deb ...\n",
            "Unpacking chromium-sandbox (90.0.4430.212-1~deb10u1) ...\n",
            "Selecting previously unselected package libplist3:amd64.\n",
            "Preparing to unpack .../11-libplist3_2.1.0-4build2_amd64.deb ...\n",
            "Unpacking libplist3:amd64 (2.1.0-4build2) ...\n",
            "Selecting previously unselected package libusbmuxd6:amd64.\n",
            "Preparing to unpack .../12-libusbmuxd6_2.0.1-2_amd64.deb ...\n",
            "Unpacking libusbmuxd6:amd64 (2.0.1-2) ...\n",
            "Selecting previously unselected package libimobiledevice6:amd64.\n",
            "Preparing to unpack .../13-libimobiledevice6_1.2.1~git20191129.9f79242-1build1_amd64.deb ...\n",
            "Unpacking libimobiledevice6:amd64 (1.2.1~git20191129.9f79242-1build1) ...\n",
            "Selecting previously unselected package libu2f-udev.\n",
            "Preparing to unpack .../14-libu2f-udev_1.1.10-1_all.deb ...\n",
            "Unpacking libu2f-udev (1.1.10-1) ...\n",
            "Selecting previously unselected package upower.\n",
            "Preparing to unpack .../15-upower_0.99.11-1build2_amd64.deb ...\n",
            "Unpacking upower (0.99.11-1build2) ...\n",
            "Selecting previously unselected package usbmuxd.\n",
            "Preparing to unpack .../16-usbmuxd_1.1.1~git20191130.9af2b12-1_amd64.deb ...\n",
            "Unpacking usbmuxd (1.1.1~git20191130.9af2b12-1) ...\n",
            "Setting up libplist3:amd64 (2.1.0-4build2) ...\n",
            "Setting up libu2f-udev (1.1.10-1) ...\n",
            "Failed to send reload request: No such file or directory\n",
            "Setting up libxxf86dga1:amd64 (2:1.1.5-0ubuntu1) ...\n",
            "Setting up chromium-sandbox (90.0.4430.212-1~deb10u1) ...\n",
            "Setting up libicu63:amd64 (63.1-6+deb10u3) ...\n",
            "Setting up libjpeg62-turbo:amd64 (1:1.5.2-2+deb10u1) ...\n",
            "Setting up libevent-2.1-6:amd64 (2.1.8-stable-4) ...\n",
            "Setting up libusbmuxd6:amd64 (2.0.1-2) ...\n",
            "Setting up x11-utils (7.7+5) ...\n",
            "Setting up libre2-5:amd64 (20200101+dfsg-1build1) ...\n",
            "Setting up chromium-common (90.0.4430.212-1~deb10u1) ...\n",
            "Setting up libimobiledevice6:amd64 (1.2.1~git20191129.9f79242-1build1) ...\n",
            "Setting up libvpx5:amd64 (1.7.0-3+deb10u1) ...\n",
            "Setting up upower (0.99.11-1build2) ...\n",
            "Setting up usbmuxd (1.1.1~git20191130.9af2b12-1) ...\n",
            "Warning: The home dir /var/lib/usbmux you specified can't be accessed: No such file or directory\n",
            "Adding system user `usbmux' (UID 107) ...\n",
            "Adding new user `usbmux' (UID 107) with group `plugdev' ...\n",
            "Not creating home directory `/var/lib/usbmux'.\n",
            "Setting up chromium (90.0.4430.212-1~deb10u1) ...\n",
            "update-alternatives: using /usr/bin/chromium to provide /usr/bin/x-www-browser (x-www-browser) in auto mode\n",
            "update-alternatives: using /usr/bin/chromium to provide /usr/bin/gnome-www-browser (gnome-www-browser) in auto mode\n",
            "Setting up chromium-driver (90.0.4430.212-1~deb10u1) ...\n",
            "Processing triggers for man-db (2.9.1-1) ...\n",
            "Processing triggers for dbus (1.12.16-2ubuntu2.3) ...\n",
            "Processing triggers for mime-support (3.64ubuntu1) ...\n",
            "Processing triggers for hicolor-icon-theme (0.17-2) ...\n",
            "Processing triggers for libc-bin (2.31-0ubuntu9.9) ...\n",
            "Looking in indexes: https://pypi.org/simple, https://us-python.pkg.dev/colab-wheels/public/simple/\n",
            "Collecting selenium\n",
            "  Downloading selenium-4.8.0-py3-none-any.whl (6.3 MB)\n",
            "\u001b[2K     \u001b[90m━━━━━━━━━━━━━━━━━━━━━━━━━━━━━━━━━━━━━━━━\u001b[0m \u001b[32m6.3/6.3 MB\u001b[0m \u001b[31m39.5 MB/s\u001b[0m eta \u001b[36m0:00:00\u001b[0m\n",
            "\u001b[?25hCollecting urllib3[socks]~=1.26\n",
            "  Downloading urllib3-1.26.14-py2.py3-none-any.whl (140 kB)\n",
            "\u001b[2K     \u001b[90m━━━━━━━━━━━━━━━━━━━━━━━━━━━━━━━━━━━━━━\u001b[0m \u001b[32m140.6/140.6 KB\u001b[0m \u001b[31m10.6 MB/s\u001b[0m eta \u001b[36m0:00:00\u001b[0m\n",
            "\u001b[?25hCollecting trio-websocket~=0.9\n",
            "  Downloading trio_websocket-0.9.2-py3-none-any.whl (16 kB)\n",
            "Collecting trio~=0.17\n",
            "  Downloading trio-0.22.0-py3-none-any.whl (384 kB)\n",
            "\u001b[2K     \u001b[90m━━━━━━━━━━━━━━━━━━━━━━━━━━━━━━━━━━━━━━\u001b[0m \u001b[32m384.9/384.9 KB\u001b[0m \u001b[31m27.9 MB/s\u001b[0m eta \u001b[36m0:00:00\u001b[0m\n",
            "\u001b[?25hRequirement already satisfied: certifi>=2021.10.8 in /usr/local/lib/python3.8/dist-packages (from selenium) (2022.12.7)\n",
            "Collecting outcome\n",
            "  Downloading outcome-1.2.0-py2.py3-none-any.whl (9.7 kB)\n",
            "Collecting exceptiongroup>=1.0.0rc9\n",
            "  Downloading exceptiongroup-1.1.0-py3-none-any.whl (14 kB)\n",
            "Requirement already satisfied: attrs>=19.2.0 in /usr/local/lib/python3.8/dist-packages (from trio~=0.17->selenium) (22.2.0)\n",
            "Requirement already satisfied: idna in /usr/local/lib/python3.8/dist-packages (from trio~=0.17->selenium) (2.10)\n",
            "Collecting sniffio\n",
            "  Downloading sniffio-1.3.0-py3-none-any.whl (10 kB)\n",
            "Collecting async-generator>=1.9\n",
            "  Downloading async_generator-1.10-py3-none-any.whl (18 kB)\n",
            "Requirement already satisfied: sortedcontainers in /usr/local/lib/python3.8/dist-packages (from trio~=0.17->selenium) (2.4.0)\n",
            "Collecting wsproto>=0.14\n",
            "  Downloading wsproto-1.2.0-py3-none-any.whl (24 kB)\n",
            "Requirement already satisfied: PySocks!=1.5.7,<2.0,>=1.5.6 in /usr/local/lib/python3.8/dist-packages (from urllib3[socks]~=1.26->selenium) (1.7.1)\n",
            "Collecting h11<1,>=0.9.0\n",
            "  Downloading h11-0.14.0-py3-none-any.whl (58 kB)\n",
            "\u001b[2K     \u001b[90m━━━━━━━━━━━━━━━━━━━━━━━━━━━━━━━━━━━━━━━━\u001b[0m \u001b[32m58.3/58.3 KB\u001b[0m \u001b[31m6.1 MB/s\u001b[0m eta \u001b[36m0:00:00\u001b[0m\n",
            "\u001b[?25hInstalling collected packages: urllib3, sniffio, outcome, h11, exceptiongroup, async-generator, wsproto, trio, trio-websocket, selenium\n",
            "  Attempting uninstall: urllib3\n",
            "    Found existing installation: urllib3 1.24.3\n",
            "    Uninstalling urllib3-1.24.3:\n",
            "      Successfully uninstalled urllib3-1.24.3\n",
            "Successfully installed async-generator-1.10 exceptiongroup-1.1.0 h11-0.14.0 outcome-1.2.0 selenium-4.8.0 sniffio-1.3.0 trio-0.22.0 trio-websocket-0.9.2 urllib3-1.26.14 wsproto-1.2.0\n"
          ]
        },
        {
          "output_type": "execute_result",
          "data": {
            "text/plain": []
          },
          "metadata": {},
          "execution_count": 2
        }
      ]
    },
    {
      "cell_type": "code",
      "source": [
        "# -*- coding: UTF-8 -*-\n",
        "import time\n",
        "from selenium import webdriver\n",
        "from selenium.webdriver.common.by import By\n",
        "\n",
        "#시간 대기 작업할 때 필요함\n",
        "from selenium.webdriver.support.ui import WebDriverWait\n",
        "from selenium.webdriver.support import expected_conditions as EC"
      ],
      "metadata": {
        "id": "II-5uvyu4SBj"
      },
      "execution_count": null,
      "outputs": []
    },
    {
      "cell_type": "markdown",
      "source": [
        "###Naver에서id가 1개일 때 & 검색어 입력"
      ],
      "metadata": {
        "id": "sV9QI1_x4EWv"
      }
    },
    {
      "cell_type": "code",
      "source": [
        "#Colab에선 웹브라우저 창이 뜨지 않으므로 별도 설정한다.\n",
        " \n",
        "options = webdriver.ChromeOptions()\n",
        "options.add_argument('--headless')        # Head-less 설정\n",
        "options.add_argument('--no-sandbox')\n",
        "options.add_argument('--disable-dev-shm-usage')\n",
        "driver = webdriver.Chrome('chromedriver', options=options)"
      ],
      "metadata": {
        "id": "YG8g6R-r3ama"
      },
      "execution_count": null,
      "outputs": []
    },
    {
      "cell_type": "code",
      "source": [
        "#해당 url로 이동\n",
        "url = \"https://www.naver.com/\" \n",
        "driver.get(url)\n",
        "print(driver)\n",
        "print(dir(driver))\n",
        "\n",
        "#4버전 사용방식\n",
        "#id값이 query인 것을 가져와라 = 네이버에서 검색창\n",
        "inputSearch = driver.find_element(By.ID, 'query')\n",
        "\n",
        "print(inputSearch)\n",
        "\n",
        "#검색어를 입력한다\n",
        "inputSearch.send_keys('겨울왕국')\n",
        "\n",
        "#id='search_btn'인 검색버튼을 찾는다.\n",
        "buttonSearch = driver.find_element(By.ID, 'search_btn')\n",
        "\n",
        "#검색버튼 클릭\n",
        "buttonSearch.click()\n",
        "\n",
        "content = driver.find_element(By.CLASS_NAME, 'api_txt_lines.dsc_txt') #클래스를 .(점)으로 연결\n",
        "print(content.text)"
      ],
      "metadata": {
        "colab": {
          "base_uri": "https://localhost:8080/"
        },
        "id": "TjWD1UYo3bye",
        "outputId": "bab9b2ef-2d16-429a-e61e-ae70bd58680e"
      },
      "execution_count": null,
      "outputs": [
        {
          "output_type": "stream",
          "name": "stdout",
          "text": [
            "<selenium.webdriver.chrome.webdriver.WebDriver (session=\"21ca82aebd08a0b9fef2bd86b9d6bac5\")>\n",
            "['__abstractmethods__', '__class__', '__delattr__', '__dict__', '__dir__', '__doc__', '__enter__', '__eq__', '__exit__', '__format__', '__ge__', '__getattribute__', '__gt__', '__hash__', '__init__', '__init_subclass__', '__le__', '__lt__', '__module__', '__ne__', '__new__', '__reduce__', '__reduce_ex__', '__repr__', '__setattr__', '__sizeof__', '__str__', '__subclasshook__', '__weakref__', '_abc_impl', '_authenticator_id', '_file_detector', '_get_cdp_details', '_is_remote', '_mobile', '_shadowroot_cls', '_switch_to', '_unwrap_value', '_web_element_cls', '_wrap_value', 'add_cookie', 'add_credential', 'add_virtual_authenticator', 'application_cache', 'back', 'bidi_connection', 'capabilities', 'caps', 'close', 'command_executor', 'create_options', 'create_web_element', 'current_url', 'current_window_handle', 'delete_all_cookies', 'delete_cookie', 'delete_network_conditions', 'desired_capabilities', 'error_handler', 'execute', 'execute_async_script', 'execute_cdp_cmd', 'execute_script', 'file_detector', 'file_detector_context', 'find_element', 'find_elements', 'forward', 'fullscreen_window', 'get', 'get_cookie', 'get_cookies', 'get_credentials', 'get_issue_message', 'get_log', 'get_network_conditions', 'get_pinned_scripts', 'get_screenshot_as_base64', 'get_screenshot_as_file', 'get_screenshot_as_png', 'get_sinks', 'get_window_position', 'get_window_rect', 'get_window_size', 'implicitly_wait', 'launch_app', 'log_types', 'maximize_window', 'minimize_window', 'mobile', 'name', 'orientation', 'page_source', 'pin_script', 'pinned_scripts', 'port', 'print_page', 'quit', 'refresh', 'remove_all_credentials', 'remove_credential', 'remove_virtual_authenticator', 'save_screenshot', 'service', 'session_id', 'set_network_conditions', 'set_page_load_timeout', 'set_permissions', 'set_script_timeout', 'set_sink_to_use', 'set_user_verified', 'set_window_position', 'set_window_rect', 'set_window_size', 'start_client', 'start_desktop_mirroring', 'start_session', 'start_tab_mirroring', 'stop_casting', 'stop_client', 'switch_to', 'timeouts', 'title', 'unpin', 'vendor_prefix', 'virtual_authenticator_id', 'window_handles']\n",
            "<selenium.webdriver.remote.webelement.WebElement (session=\"21ca82aebd08a0b9fef2bd86b9d6bac5\", element=\"0cf0b27e-1bf3-4118-ae99-34aa5b3b5970\")>\n",
            "월트 디즈니 애니메이션 스튜디오의 53번째 장편 애니메이션이다. 2013년, 미국에 개봉, 월트 디즈니 컴퍼니 창립 90주년을 기념한 영화다.\n"
          ]
        }
      ]
    },
    {
      "cell_type": "code",
      "source": [
        "#종료\n",
        "driver.quit()"
      ],
      "metadata": {
        "id": "VQ6WPamV7PNq"
      },
      "execution_count": null,
      "outputs": []
    },
    {
      "cell_type": "markdown",
      "source": [
        "###Google에서 class가 1개 일 때 & 검색어 입력"
      ],
      "metadata": {
        "id": "IH0mvdLQ7UzS"
      }
    },
    {
      "cell_type": "code",
      "source": [
        "#Colab에선 웹브라우저 창이 뜨지 않으므로 별도 설정한다.\n",
        " \n",
        "options = webdriver.ChromeOptions()\n",
        "options.add_argument('--headless')        # Head-less 설정\n",
        "options.add_argument('--no-sandbox')\n",
        "options.add_argument('--disable-dev-shm-usage')\n",
        "driver = webdriver.Chrome('chromedriver', options=options)"
      ],
      "metadata": {
        "id": "ZimmcSDm-Sw1"
      },
      "execution_count": null,
      "outputs": []
    },
    {
      "cell_type": "code",
      "source": [
        "url = 'https://www.google.com/'\n",
        "driver.get(url)\n",
        "\n",
        "btns = driver.find_element(By.CLASS_NAME, 'gLFyf')\n",
        "\n",
        "#검색어를 입력한다\n",
        "btns.send_keys('겨울왕국')\n",
        "\n",
        "#btns.click() #click이 안됨. 구글은 엔터로만 검색 가능\n",
        "btns.submit()\n",
        "\n",
        "content = driver.find_element(By.CLASS_NAME, 'VwiC3b.yXK7lf.MUxGbd.yDYNvb.lyLwlc')  #클래스 네임 사이 공백은 (.)점으로 채워준다\n",
        "print(content.text)"
      ],
      "metadata": {
        "colab": {
          "base_uri": "https://localhost:8080/"
        },
        "id": "n-sAFNed-aDa",
        "outputId": "e1e57868-1708-493a-9ec2-1e5365121f3c"
      },
      "execution_count": null,
      "outputs": [
        {
          "output_type": "stream",
          "name": "stdout",
          "text": [
            "4 days ago — 월트 디즈니 애니메이션 스튜디오의 53번째 장편 애니메이션이다. 2013년, 미국에 개봉, 월트 디즈니 컴퍼니 창립 90주년을 기념한 영화다. 디즈니 ...\n"
          ]
        }
      ]
    },
    {
      "cell_type": "code",
      "source": [
        "#종료\n",
        "driver.quit()"
      ],
      "metadata": {
        "id": "AqievUmW_qKm"
      },
      "execution_count": null,
      "outputs": []
    },
    {
      "cell_type": "markdown",
      "source": [
        "###Daum에서 css가 여러개 일 때"
      ],
      "metadata": {
        "id": "GeO9qtR6Ae-6"
      }
    },
    {
      "cell_type": "code",
      "source": [
        "#Colab에선 웹브라우저 창이 뜨지 않으므로 별도 설정한다.\n",
        " \n",
        "options = webdriver.ChromeOptions()\n",
        "options.add_argument('--headless')        # Head-less 설정\n",
        "options.add_argument('--no-sandbox')\n",
        "options.add_argument('--disable-dev-shm-usage')\n",
        "driver = webdriver.Chrome('chromedriver', options=options)"
      ],
      "metadata": {
        "id": "MRHL22xUAeGx"
      },
      "execution_count": null,
      "outputs": []
    },
    {
      "cell_type": "code",
      "source": [
        "url = 'https://www.daum.net/'\n",
        "driver.get(url)\n",
        "\n",
        "#selector가 여러개 일 때\n",
        "atml = driver.find_element(By.CSS_SELECTOR, '.menu_service > ul > li:nth-child(4) > a')\n",
        "print(atml.text)\n",
        "atml.click()"
      ],
      "metadata": {
        "colab": {
          "base_uri": "https://localhost:8080/"
        },
        "id": "ghqSIk2iAp2U",
        "outputId": "7bf63106-7173-4475-cb66-e37343c15f68"
      },
      "execution_count": null,
      "outputs": [
        {
          "output_type": "stream",
          "name": "stdout",
          "text": [
            "지도\n"
          ]
        }
      ]
    },
    {
      "cell_type": "code",
      "source": [
        "#종료\n",
        "driver.quit()"
      ],
      "metadata": {
        "id": "mUW_D2MVBo5R"
      },
      "execution_count": null,
      "outputs": []
    },
    {
      "cell_type": "markdown",
      "source": [
        "###Naver에서 많이 본 뉴스 목록 보기"
      ],
      "metadata": {
        "id": "o12PE_IDB8XZ"
      }
    },
    {
      "cell_type": "code",
      "source": [
        "#Colab에선 웹브라우저 창이 뜨지 않으므로 별도 설정한다.\n",
        " \n",
        "options = webdriver.ChromeOptions()\n",
        "options.add_argument('--headless')        # Head-less 설정\n",
        "options.add_argument('--no-sandbox')\n",
        "options.add_argument('--disable-dev-shm-usage')\n",
        "driver = webdriver.Chrome('chromedriver', options=options)"
      ],
      "metadata": {
        "id": "S8U91PIYByPI"
      },
      "execution_count": null,
      "outputs": []
    },
    {
      "cell_type": "code",
      "source": [
        "#해당 url로 이동\n",
        "url = \"https://www.naver.com/\" \n",
        "driver.get(url)\n",
        "\n",
        "news = driver.find_element(By.CSS_SELECTOR, '#NM_FAVORITE > div.group_nav > ul.list_nav.NM_FAVORITE_LIST > li:nth-child(2) > a')\n",
        "print(news.text)\n",
        "news.click()\n",
        "\n",
        "rank_btn = driver.find_element(By.CSS_SELECTOR,'div.Nlnb._float_lnb > div > div > div.Nlnb_left._lnb_scroll > div > div > ul > li:nth-child(8) > a ')\n",
        "print(rank_btn.text)\n",
        "rank_btn.click()\n",
        "time.sleep(5)\n",
        "\n",
        "# 여러개 가져올 때 elements 's'꼭 붙여야함 = list로 리턴\n",
        "div_rank_list = driver.find_elements(By.CSS_SELECTOR, '#wrap > div.rankingnews._popularWelBase._persist > div.rankingnews_box_wrap._popularRanking > div > div:nth-child(1) > ul > li')\n",
        "print(type(div_rank_list))\n",
        "print(len(div_rank_list))\n",
        "\n",
        "for element_rank in div_rank_list:\n",
        "    num = element_rank.find_element(By.CLASS_NAME, 'list_ranking_num')\n",
        "    content = element_rank.find_element(By.CLASS_NAME, 'list_content')\n",
        "    print(num.text, content.text)\n"
      ],
      "metadata": {
        "colab": {
          "base_uri": "https://localhost:8080/"
        },
        "id": "TMv1JhTVCGAO",
        "outputId": "870f3cfb-df3e-42d1-cc2a-1b295323355b"
      },
      "execution_count": null,
      "outputs": [
        {
          "output_type": "stream",
          "name": "stdout",
          "text": [
            "뉴스\n",
            "랭킹\n",
            "<class 'list'>\n",
            "5\n",
            "1 ‘춘천 초등생 실종’ 50대 용의자, SNS로 “맛있는 밥 사줄게” 유인\n",
            "4시간전\n",
            "2 위메이드 ‘위믹스’, 코인원 재상장…“신뢰 훼손 문제 해소”\n",
            "1시간전\n",
            "3 육아휴직 3개월 이상 쓰게 한 중소기업 사업주, 月 200만원 받는다\n",
            "1시간전\n",
            "4 “인센티브 맞아?”… 주가 4만원인데 11만원에 행사하는 스톡옵션 부여한 위메이드\n",
            "5시간전\n",
            "5 [특징주] ‘하이브’ 어쩌나...SM엔터테인먼트 공개매수 성공 불확실성 커지자 주가 하락\n",
            "1시간전\n"
          ]
        }
      ]
    },
    {
      "cell_type": "code",
      "source": [
        "#종료\n",
        "driver.quit()"
      ],
      "metadata": {
        "id": "4dX19C2JCgX5"
      },
      "execution_count": null,
      "outputs": []
    },
    {
      "cell_type": "markdown",
      "source": [
        "### Naver에서 많이 본 뉴스 목록 보기_엑셀로 저장"
      ],
      "metadata": {
        "id": "R24UPG0HTikC"
      }
    },
    {
      "cell_type": "markdown",
      "source": [
        "[엑셀로 저장]\n",
        "\n",
        "import openpyxl\n",
        "\n",
        "엑셀 파일 생성  \n",
        "wb = openpyxl.Workbook()\n",
        "\n",
        "워크시트 생성  \n",
        "ws = wb.create_sheet('워크시트명')\n",
        "\n",
        "A:열이름, 1:행이름  \n",
        "ws['A1']='번호'  \n",
        "ws['B1']='뉴스'  "
      ],
      "metadata": {
        "id": "1y382GOVTsV3"
      }
    },
    {
      "cell_type": "code",
      "source": [
        "#Colab에선 웹브라우저 창이 뜨지 않으므로 별도 설정한다.\n",
        " \n",
        "options = webdriver.ChromeOptions()\n",
        "options.add_argument('--headless')        # Head-less 설정\n",
        "options.add_argument('--no-sandbox')\n",
        "options.add_argument('--disable-dev-shm-usage')\n",
        "driver = webdriver.Chrome('chromedriver', options=options)"
      ],
      "metadata": {
        "id": "LZ6NwYOIUbq9"
      },
      "execution_count": null,
      "outputs": []
    },
    {
      "cell_type": "code",
      "source": [
        "from pickle import bytes_types\n",
        "import openpyxl\n",
        "\n",
        "#엑셀 파일 생성\n",
        "wb = openpyxl.Workbook()\n",
        "\n",
        "#워크시트를 새로 만들지 않고 현재 워크시트에(워크시트 한개에만) 저장할 때\n",
        "#ws = wb.active\n",
        "\n",
        "#기본적으로 첫 번째 빈 시트가 생김\n",
        "#Sheet 워크시트 삭제\n",
        "#wb.remove_sheet(wb['Sheet'])\n",
        "\n",
        "url = \"https://www.naver.com/\" \n",
        "driver.get(url)\n",
        "\n",
        "news = driver.find_element(By.CSS_SELECTOR, '#NM_FAVORITE > div.group_nav > ul.list_nav.NM_FAVORITE_LIST > li:nth-child(2) > a')\n",
        "print(news.text)\n",
        "news.click()\n",
        "\n",
        "rank_btn = driver.find_element(By.CSS_SELECTOR,'div.Nlnb._float_lnb > div > div > div.Nlnb_left._lnb_scroll > div > div > ul > li:nth-child(8) > a ')\n",
        "print(rank_btn.text)\n",
        "rank_btn.click()\n",
        "time.sleep(5)\n",
        "\n",
        "\n",
        "for i in range(1,3) :\n",
        "    rank_name = driver.find_element(By.CSS_SELECTOR, 'div.rankingnews_box_wrap._popularRanking > div > div:nth-child('+str(i)+') > a > strong')\n",
        "    \n",
        "    #워크시트 생성 (index=1 가장 최근에 생성된 워크시트가 제일 앞으로 배치됨)\n",
        "    ws = wb.create_sheet(rank_name.text, index=1)  \n",
        "    ws['A1']='번호'\n",
        "    ws['B1']='뉴스'\n",
        "\n",
        "    div_rank_list = driver.find_elements(By.CSS_SELECTOR, '#wrap > div.rankingnews._popularWelBase._persist > div.rankingnews_box_wrap._popularRanking > div > div:nth-child('+str(i)+') > ul > li')\n",
        "    print(type(div_rank_list))\n",
        "    print(len(div_rank_list))\n",
        "\n",
        "    for idx, element_rank in enumerate(div_rank_list, start=2):\n",
        "        num = element_rank.find_element(By.CLASS_NAME, 'list_ranking_num')\n",
        "        content = element_rank.find_element(By.CLASS_NAME, 'list_content')\n",
        "        print(num.text, content.text)\n",
        "\n",
        "        ws['A'+str(idx)] = num.text\n",
        "        ws['b'+str(idx)] = content.text\n",
        "\n",
        "wb.save('./news.xlsx')"
      ],
      "metadata": {
        "colab": {
          "base_uri": "https://localhost:8080/"
        },
        "id": "SCgInZ0jTp6x",
        "outputId": "c7e9f473-7c16-493d-b28b-8ee9375b8d3c"
      },
      "execution_count": null,
      "outputs": [
        {
          "output_type": "stream",
          "name": "stdout",
          "text": [
            "뉴스\n",
            "랭킹\n",
            "<class 'list'>\n",
            "5\n",
            "1 강남 땅속에 축구장 2개 크기…'은밀한 공간'이 있다\n",
            "4시간전\n",
            "2 \"3.5억 새 아파트 장만 기뻐했더니…나 혼자 바보 된 기분\"\n",
            "3시간전\n",
            "3 방시혁·민희진 이사 후보서 빠졌다…'이수만 절연' 택한 하이브\n",
            "5시간전\n",
            "4 '이수만 폭로' 이성수 SM엔터 대표의 유튜브 발표 전문\n",
            "2시간전\n",
            "5 세상에 이런 일이…예수상 머리 위에 꽂힌 번개 '포착'\n",
            "2시간전\n",
            "<class 'list'>\n",
            "5\n",
            "1 초간편 '남성 피임약' 나왔다…\"한번 먹으면 정자 3시간 기절\"｜월드클라스\n",
            "4시간전\n",
            "2 초등생 실종 사건, 함께있던 50대 남성이 SNS로 유인｜도시락 있슈\n",
            "4시간전\n",
            "3 제1야당 대표 헌정사 최초 영장청구...'대장동 4895억 배임 등 혐의'\n",
            "3시간전\n",
            "4 \"바이든, 윤 대통령 백악관 국빈 만찬 초청 계획\"\n",
            "4시간전\n",
            "5 여장하고 수영장 탈의실 훔쳐본 남성…알고 보니 구청 공무원\n",
            "1시간전\n"
          ]
        }
      ]
    },
    {
      "cell_type": "markdown",
      "source": [
        "###시간창 대기 3가지\n",
        "- 일반적으로 시간창 대기는 time.sleep, implicitly_wait, Explicit Waits 3가지 사용\n",
        "  - time_sleep : 무조건 지정한 시간만큼 기다린 뒤에 작업을 진행\n",
        "  - implicitly_wait : 지정한 시간보다 빨리 끝나도 작업이 끝나면 기다리지 않고 바로 실행\n",
        "  - Explicit Waits : 특정 상태가 될 때까지 기다리고, 상태가 되면 바로 다음 실행"
      ],
      "metadata": {
        "id": "Vua0rKOPHB30"
      }
    },
    {
      "cell_type": "code",
      "source": [
        "# 무조건 지정된 time만큼 대기 \n",
        "#time.sleep(5) # 5초까지 기다려준다. \n",
        "\n",
        "\n",
        "#5초 driver.implicitly_wait(5)의 경우, 페이지가 2초만에 로딩된다면, \n",
        "#5초를 기다리지않고 바로 다음 코드로 넘어간다.\n",
        "driver.implicitly_wait(5) \n",
        "url = 'https://www.daum.net/'\n",
        "driver.get(url)\n",
        "\n",
        "\n",
        "# button = driver.find_element_by_css_selector('#search_btn')\n",
        "# 검색 버튼을 찾아서 누를건데, 최대 5초까지만 기다리겠다라는 의미 \n",
        "button = WebDriverWait(driver,5).until(EC.presence_of_element_located((By.CSS_SELECTOR, \n",
        "                                                                       '.menu_service > ul > li:nth-child(4) > a'))) \n",
        "print(button.text)\n",
        "\n",
        "\n",
        "button.click()"
      ],
      "metadata": {
        "colab": {
          "base_uri": "https://localhost:8080/"
        },
        "id": "mutfdstKHBHv",
        "outputId": "b8d26b15-7ed4-4fc6-d76a-f059937d7226"
      },
      "execution_count": null,
      "outputs": [
        {
          "output_type": "stream",
          "name": "stdout",
          "text": [
            "지도\n"
          ]
        }
      ]
    },
    {
      "cell_type": "markdown",
      "source": [
        "### daum 로그인"
      ],
      "metadata": {
        "id": "RdRZhd2Xa9nP"
      }
    },
    {
      "cell_type": "code",
      "source": [
        "#Colab에선 웹브라우저 창이 뜨지 않으므로 별도 설정한다.\n",
        " \n",
        "options = webdriver.ChromeOptions()\n",
        "options.add_argument('--headless')        # Head-less 설정\n",
        "options.add_argument('--no-sandbox')\n",
        "options.add_argument('--disable-dev-shm-usage')\n",
        "driver = webdriver.Chrome('chromedriver', options=options)"
      ],
      "metadata": {
        "id": "tIt8y69za6FL"
      },
      "execution_count": null,
      "outputs": []
    },
    {
      "cell_type": "code",
      "source": [
        "url = 'https://www.daum.net/'\n",
        "driver.get(url)\n",
        "\n",
        "#카카오 계정으로 로그인창 들어가기\n",
        "next = driver.find_element(By.XPATH, '//*[@id=\"inner_login\"]/a[1]')\n",
        "next.click()\n",
        "\n",
        "#아이디 비밀번호 입력\n",
        "inputid = driver.find_element(By.ID, 'loginKey--1')\n",
        "inputpwd = driver.find_element(By.ID, 'password--2')\n",
        "time.sleep(3)\n",
        "\n",
        "# 로그인하기\n",
        "inputid.send_keys('breeze61533@kakao.com')\n",
        "inputpwd.send_keys('****')\n",
        "\n",
        "login = driver.find_element(By.CLASS_NAME, 'btn_g.highlight.submit')\n",
        "print(login.text)\n",
        "login.click()\n",
        "\n",
        "#실행 후 스마트폰에서 인증해야함"
      ],
      "metadata": {
        "colab": {
          "base_uri": "https://localhost:8080/"
        },
        "id": "np77ECK3bUPV",
        "outputId": "95cca7c8-b153-4646-c0e4-cbff367fbdd2"
      },
      "execution_count": null,
      "outputs": [
        {
          "output_type": "stream",
          "name": "stdout",
          "text": [
            "Log In\n"
          ]
        }
      ]
    },
    {
      "cell_type": "code",
      "source": [
        "#메일 확인하기 클릭\n",
        "mailclick = driver.find_element(By.CSS_SELECTOR, 'a.link_basis')\n",
        "print(mailclick.text)\n",
        "mailclick.click()\n",
        "\n",
        "#대기시간이 너무 길거나 에러가 날 경우 이 방법으로\n",
        "#mailclick = WebDriverWait(driver, 10).until(EC.presence_of_all_elements_located((By.CLASS_NAME, 'link_basis')))\n",
        "#print(mailclick.text)\n",
        "#mailclick.click()"
      ],
      "metadata": {
        "colab": {
          "base_uri": "https://localhost:8080/"
        },
        "id": "LE9bSAO0dezs",
        "outputId": "c3cd5dda-472f-40c8-dde1-b1743d1f6f90"
      },
      "execution_count": null,
      "outputs": [
        {
          "output_type": "stream",
          "name": "stdout",
          "text": [
            "메일 생성하기\n"
          ]
        }
      ]
    },
    {
      "cell_type": "code",
      "source": [
        "#메일 없어서 안됨\n",
        "\n",
        "#spandaum = driver.find_element(By.CLASS_NAME, 'img_mail.ico_daum')\n",
        "#print(spandaum.tag_name)\n",
        "#print(spandaum.get_attribute('class'))\n",
        "#print(type(spandaum))\n",
        "\n",
        "#메일 목록 가져오기\n",
        "#mail_subject_list = driver.find_elements(By.CLASS_NAME, 'tit_subject')\n",
        "#for subject in mail_subject_list:\n",
        "#  print(subject.text)\n"
      ],
      "metadata": {
        "id": "YHGuE3GWhxsG"
      },
      "execution_count": null,
      "outputs": []
    },
    {
      "cell_type": "code",
      "source": [
        "#종료\n",
        "driver.quit()"
      ],
      "metadata": {
        "id": "UZtX9P-Ni0hX"
      },
      "execution_count": null,
      "outputs": []
    }
  ]
}