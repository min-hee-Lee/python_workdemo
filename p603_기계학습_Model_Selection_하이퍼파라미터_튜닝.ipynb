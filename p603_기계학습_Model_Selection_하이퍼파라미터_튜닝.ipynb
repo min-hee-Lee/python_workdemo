{
  "cells": [
    {
      "cell_type": "markdown",
      "metadata": {
        "id": "view-in-github",
        "colab_type": "text"
      },
      "source": [
        "<a href=\"https://colab.research.google.com/github/min-hee-Lee/python_workdemo/blob/master/p603_%EA%B8%B0%EA%B3%84%ED%95%99%EC%8A%B5_Model_Selection_%ED%95%98%EC%9D%B4%ED%8D%BC%ED%8C%8C%EB%9D%BC%EB%AF%B8%ED%84%B0_%ED%8A%9C%EB%8B%9D.ipynb\" target=\"_parent\"><img src=\"https://colab.research.google.com/assets/colab-badge.svg\" alt=\"Open In Colab\"/></a>"
      ]
    },
    {
      "cell_type": "markdown",
      "metadata": {
        "toc": true,
        "id": "LmNxseIQc6bs"
      },
      "source": [
        "<h1>Table of Contents<span class=\"tocSkip\"></span></h1>\n",
        "<div class=\"toc\"><ul class=\"toc-item\"><li><span><a href=\"#iris-dataset\" data-toc-modified-id=\"iris-dataset-1\"><span class=\"toc-item-num\">1&nbsp;&nbsp;</span>iris dataset</a></span></li><li><span><a href=\"#score\" data-toc-modified-id=\"score-2\"><span class=\"toc-item-num\">2&nbsp;&nbsp;</span>score</a></span></li><li><span><a href=\"#Hyper-Parameter\" data-toc-modified-id=\"Hyper-Parameter-3\"><span class=\"toc-item-num\">3&nbsp;&nbsp;</span>Hyper Parameter</a></span><ul class=\"toc-item\"><li><span><a href=\"#3-way-holdout\" data-toc-modified-id=\"3-way-holdout-3.1\"><span class=\"toc-item-num\">3.1&nbsp;&nbsp;</span>3-way holdout</a></span></li><li><span><a href=\"#GridSearchCV\" data-toc-modified-id=\"GridSearchCV-3.2\"><span class=\"toc-item-num\">3.2&nbsp;&nbsp;</span>GridSearchCV</a></span></li></ul></li><li><span><a href=\"#wine-dataset\" data-toc-modified-id=\"wine-dataset-4\"><span class=\"toc-item-num\">4&nbsp;&nbsp;</span>wine dataset</a></span><ul class=\"toc-item\"><li><span><a href=\"#GridSearchCV-2\" data-toc-modified-id=\"GridSearchCV-2-4.1\"><span class=\"toc-item-num\">4.1&nbsp;&nbsp;</span>GridSearchCV 2</a></span></li></ul></li><li><span><a href=\"#GridSearchCV-+-Pipeline\" data-toc-modified-id=\"GridSearchCV-+-Pipeline-5\"><span class=\"toc-item-num\">5&nbsp;&nbsp;</span>GridSearchCV + Pipeline</a></span><ul class=\"toc-item\"><li><span><a href=\"#GridSearchCV와-Pipeline을-연동하기\" data-toc-modified-id=\"GridSearchCV와-Pipeline을-연동하기-5.1\"><span class=\"toc-item-num\">5.1&nbsp;&nbsp;</span>GridSearchCV와 Pipeline을 연동하기</a></span></li><li><span><a href=\"#GridSearchCV로-최적의-알고리즘-찾기\" data-toc-modified-id=\"GridSearchCV로-최적의-알고리즘-찾기-5.2\"><span class=\"toc-item-num\">5.2&nbsp;&nbsp;</span>GridSearchCV로 최적의 알고리즘 찾기</a></span></li><li><span><a href=\"#알고리즘마다-하이퍼-파라미터-찾기\" data-toc-modified-id=\"알고리즘마다-하이퍼-파라미터-찾기-5.3\"><span class=\"toc-item-num\">5.3&nbsp;&nbsp;</span>알고리즘마다 하이퍼 파라미터 찾기</a></span></li></ul></li></ul></div>"
      ]
    },
    {
      "cell_type": "markdown",
      "metadata": {
        "id": "YTvirx1mc6bw"
      },
      "source": [
        "## iris dataset"
      ]
    },
    {
      "cell_type": "code",
      "execution_count": null,
      "metadata": {
        "id": "YmuqtO8qc6bx"
      },
      "outputs": [],
      "source": [
        "from sklearn.datasets import load_iris"
      ]
    },
    {
      "cell_type": "code",
      "execution_count": null,
      "metadata": {
        "id": "wyQn26kAc6by"
      },
      "outputs": [],
      "source": [
        "data = load_iris()"
      ]
    },
    {
      "cell_type": "code",
      "execution_count": null,
      "metadata": {
        "id": "EfGvupZOc6by"
      },
      "outputs": [],
      "source": [
        "import pandas as pd"
      ]
    },
    {
      "cell_type": "code",
      "execution_count": null,
      "metadata": {
        "id": "VXP2-cMXc6by"
      },
      "outputs": [],
      "source": [
        "data_pd = pd.DataFrame(data.data, columns=data.feature_names)\n",
        "target_pd = pd.DataFrame(data.target, columns=['target'])\n",
        "iris = pd.concat([data_pd, target_pd], axis=1)  #데이터 합쳐서 보기 가능"
      ]
    },
    {
      "cell_type": "code",
      "execution_count": null,
      "metadata": {
        "id": "Fa9N_iJ2c6bz",
        "outputId": "4a4a6af4-b326-4047-a7e5-29ac7f86a797",
        "colab": {
          "base_uri": "https://localhost:8080/",
          "height": 423
        }
      },
      "outputs": [
        {
          "output_type": "execute_result",
          "data": {
            "text/plain": [
              "     sepal length (cm)  sepal width (cm)  petal length (cm)  petal width (cm)  \\\n",
              "0                  5.1               3.5                1.4               0.2   \n",
              "1                  4.9               3.0                1.4               0.2   \n",
              "2                  4.7               3.2                1.3               0.2   \n",
              "3                  4.6               3.1                1.5               0.2   \n",
              "4                  5.0               3.6                1.4               0.2   \n",
              "..                 ...               ...                ...               ...   \n",
              "145                6.7               3.0                5.2               2.3   \n",
              "146                6.3               2.5                5.0               1.9   \n",
              "147                6.5               3.0                5.2               2.0   \n",
              "148                6.2               3.4                5.4               2.3   \n",
              "149                5.9               3.0                5.1               1.8   \n",
              "\n",
              "     target  \n",
              "0         0  \n",
              "1         0  \n",
              "2         0  \n",
              "3         0  \n",
              "4         0  \n",
              "..      ...  \n",
              "145       2  \n",
              "146       2  \n",
              "147       2  \n",
              "148       2  \n",
              "149       2  \n",
              "\n",
              "[150 rows x 5 columns]"
            ],
            "text/html": [
              "\n",
              "  <div id=\"df-9c4ed3fc-fc8d-4778-8586-b06414d058c2\">\n",
              "    <div class=\"colab-df-container\">\n",
              "      <div>\n",
              "<style scoped>\n",
              "    .dataframe tbody tr th:only-of-type {\n",
              "        vertical-align: middle;\n",
              "    }\n",
              "\n",
              "    .dataframe tbody tr th {\n",
              "        vertical-align: top;\n",
              "    }\n",
              "\n",
              "    .dataframe thead th {\n",
              "        text-align: right;\n",
              "    }\n",
              "</style>\n",
              "<table border=\"1\" class=\"dataframe\">\n",
              "  <thead>\n",
              "    <tr style=\"text-align: right;\">\n",
              "      <th></th>\n",
              "      <th>sepal length (cm)</th>\n",
              "      <th>sepal width (cm)</th>\n",
              "      <th>petal length (cm)</th>\n",
              "      <th>petal width (cm)</th>\n",
              "      <th>target</th>\n",
              "    </tr>\n",
              "  </thead>\n",
              "  <tbody>\n",
              "    <tr>\n",
              "      <th>0</th>\n",
              "      <td>5.1</td>\n",
              "      <td>3.5</td>\n",
              "      <td>1.4</td>\n",
              "      <td>0.2</td>\n",
              "      <td>0</td>\n",
              "    </tr>\n",
              "    <tr>\n",
              "      <th>1</th>\n",
              "      <td>4.9</td>\n",
              "      <td>3.0</td>\n",
              "      <td>1.4</td>\n",
              "      <td>0.2</td>\n",
              "      <td>0</td>\n",
              "    </tr>\n",
              "    <tr>\n",
              "      <th>2</th>\n",
              "      <td>4.7</td>\n",
              "      <td>3.2</td>\n",
              "      <td>1.3</td>\n",
              "      <td>0.2</td>\n",
              "      <td>0</td>\n",
              "    </tr>\n",
              "    <tr>\n",
              "      <th>3</th>\n",
              "      <td>4.6</td>\n",
              "      <td>3.1</td>\n",
              "      <td>1.5</td>\n",
              "      <td>0.2</td>\n",
              "      <td>0</td>\n",
              "    </tr>\n",
              "    <tr>\n",
              "      <th>4</th>\n",
              "      <td>5.0</td>\n",
              "      <td>3.6</td>\n",
              "      <td>1.4</td>\n",
              "      <td>0.2</td>\n",
              "      <td>0</td>\n",
              "    </tr>\n",
              "    <tr>\n",
              "      <th>...</th>\n",
              "      <td>...</td>\n",
              "      <td>...</td>\n",
              "      <td>...</td>\n",
              "      <td>...</td>\n",
              "      <td>...</td>\n",
              "    </tr>\n",
              "    <tr>\n",
              "      <th>145</th>\n",
              "      <td>6.7</td>\n",
              "      <td>3.0</td>\n",
              "      <td>5.2</td>\n",
              "      <td>2.3</td>\n",
              "      <td>2</td>\n",
              "    </tr>\n",
              "    <tr>\n",
              "      <th>146</th>\n",
              "      <td>6.3</td>\n",
              "      <td>2.5</td>\n",
              "      <td>5.0</td>\n",
              "      <td>1.9</td>\n",
              "      <td>2</td>\n",
              "    </tr>\n",
              "    <tr>\n",
              "      <th>147</th>\n",
              "      <td>6.5</td>\n",
              "      <td>3.0</td>\n",
              "      <td>5.2</td>\n",
              "      <td>2.0</td>\n",
              "      <td>2</td>\n",
              "    </tr>\n",
              "    <tr>\n",
              "      <th>148</th>\n",
              "      <td>6.2</td>\n",
              "      <td>3.4</td>\n",
              "      <td>5.4</td>\n",
              "      <td>2.3</td>\n",
              "      <td>2</td>\n",
              "    </tr>\n",
              "    <tr>\n",
              "      <th>149</th>\n",
              "      <td>5.9</td>\n",
              "      <td>3.0</td>\n",
              "      <td>5.1</td>\n",
              "      <td>1.8</td>\n",
              "      <td>2</td>\n",
              "    </tr>\n",
              "  </tbody>\n",
              "</table>\n",
              "<p>150 rows × 5 columns</p>\n",
              "</div>\n",
              "      <button class=\"colab-df-convert\" onclick=\"convertToInteractive('df-9c4ed3fc-fc8d-4778-8586-b06414d058c2')\"\n",
              "              title=\"Convert this dataframe to an interactive table.\"\n",
              "              style=\"display:none;\">\n",
              "        \n",
              "  <svg xmlns=\"http://www.w3.org/2000/svg\" height=\"24px\"viewBox=\"0 0 24 24\"\n",
              "       width=\"24px\">\n",
              "    <path d=\"M0 0h24v24H0V0z\" fill=\"none\"/>\n",
              "    <path d=\"M18.56 5.44l.94 2.06.94-2.06 2.06-.94-2.06-.94-.94-2.06-.94 2.06-2.06.94zm-11 1L8.5 8.5l.94-2.06 2.06-.94-2.06-.94L8.5 2.5l-.94 2.06-2.06.94zm10 10l.94 2.06.94-2.06 2.06-.94-2.06-.94-.94-2.06-.94 2.06-2.06.94z\"/><path d=\"M17.41 7.96l-1.37-1.37c-.4-.4-.92-.59-1.43-.59-.52 0-1.04.2-1.43.59L10.3 9.45l-7.72 7.72c-.78.78-.78 2.05 0 2.83L4 21.41c.39.39.9.59 1.41.59.51 0 1.02-.2 1.41-.59l7.78-7.78 2.81-2.81c.8-.78.8-2.07 0-2.86zM5.41 20L4 18.59l7.72-7.72 1.47 1.35L5.41 20z\"/>\n",
              "  </svg>\n",
              "      </button>\n",
              "      \n",
              "  <style>\n",
              "    .colab-df-container {\n",
              "      display:flex;\n",
              "      flex-wrap:wrap;\n",
              "      gap: 12px;\n",
              "    }\n",
              "\n",
              "    .colab-df-convert {\n",
              "      background-color: #E8F0FE;\n",
              "      border: none;\n",
              "      border-radius: 50%;\n",
              "      cursor: pointer;\n",
              "      display: none;\n",
              "      fill: #1967D2;\n",
              "      height: 32px;\n",
              "      padding: 0 0 0 0;\n",
              "      width: 32px;\n",
              "    }\n",
              "\n",
              "    .colab-df-convert:hover {\n",
              "      background-color: #E2EBFA;\n",
              "      box-shadow: 0px 1px 2px rgba(60, 64, 67, 0.3), 0px 1px 3px 1px rgba(60, 64, 67, 0.15);\n",
              "      fill: #174EA6;\n",
              "    }\n",
              "\n",
              "    [theme=dark] .colab-df-convert {\n",
              "      background-color: #3B4455;\n",
              "      fill: #D2E3FC;\n",
              "    }\n",
              "\n",
              "    [theme=dark] .colab-df-convert:hover {\n",
              "      background-color: #434B5C;\n",
              "      box-shadow: 0px 1px 3px 1px rgba(0, 0, 0, 0.15);\n",
              "      filter: drop-shadow(0px 1px 2px rgba(0, 0, 0, 0.3));\n",
              "      fill: #FFFFFF;\n",
              "    }\n",
              "  </style>\n",
              "\n",
              "      <script>\n",
              "        const buttonEl =\n",
              "          document.querySelector('#df-9c4ed3fc-fc8d-4778-8586-b06414d058c2 button.colab-df-convert');\n",
              "        buttonEl.style.display =\n",
              "          google.colab.kernel.accessAllowed ? 'block' : 'none';\n",
              "\n",
              "        async function convertToInteractive(key) {\n",
              "          const element = document.querySelector('#df-9c4ed3fc-fc8d-4778-8586-b06414d058c2');\n",
              "          const dataTable =\n",
              "            await google.colab.kernel.invokeFunction('convertToInteractive',\n",
              "                                                     [key], {});\n",
              "          if (!dataTable) return;\n",
              "\n",
              "          const docLinkHtml = 'Like what you see? Visit the ' +\n",
              "            '<a target=\"_blank\" href=https://colab.research.google.com/notebooks/data_table.ipynb>data table notebook</a>'\n",
              "            + ' to learn more about interactive tables.';\n",
              "          element.innerHTML = '';\n",
              "          dataTable['output_type'] = 'display_data';\n",
              "          await google.colab.output.renderOutput(dataTable, element);\n",
              "          const docLink = document.createElement('div');\n",
              "          docLink.innerHTML = docLinkHtml;\n",
              "          element.appendChild(docLink);\n",
              "        }\n",
              "      </script>\n",
              "    </div>\n",
              "  </div>\n",
              "  "
            ]
          },
          "metadata": {},
          "execution_count": 5
        }
      ],
      "source": [
        "iris"
      ]
    },
    {
      "cell_type": "code",
      "execution_count": null,
      "metadata": {
        "id": "SmYpKYpcc6b0",
        "outputId": "a4f7f705-42bb-485f-e15b-c355b8efaecb",
        "colab": {
          "base_uri": "https://localhost:8080/"
        }
      },
      "outputs": [
        {
          "output_type": "stream",
          "name": "stdout",
          "text": [
            "<class 'pandas.core.frame.DataFrame'>\n",
            "RangeIndex: 150 entries, 0 to 149\n",
            "Data columns (total 5 columns):\n",
            " #   Column             Non-Null Count  Dtype  \n",
            "---  ------             --------------  -----  \n",
            " 0   sepal length (cm)  150 non-null    float64\n",
            " 1   sepal width (cm)   150 non-null    float64\n",
            " 2   petal length (cm)  150 non-null    float64\n",
            " 3   petal width (cm)   150 non-null    float64\n",
            " 4   target             150 non-null    int64  \n",
            "dtypes: float64(4), int64(1)\n",
            "memory usage: 6.0 KB\n"
          ]
        }
      ],
      "source": [
        "iris.info()"
      ]
    },
    {
      "cell_type": "markdown",
      "metadata": {
        "id": "nNpm25sYc6b0"
      },
      "source": [
        "## score"
      ]
    },
    {
      "cell_type": "markdown",
      "metadata": {
        "id": "aGeOzix6c6b1"
      },
      "source": [
        "- 대충의 성능 파악(dummy)"
      ]
    },
    {
      "cell_type": "markdown",
      "metadata": {
        "id": "6ox1uBRbc6b1"
      },
      "source": [
        "- 실제 모델은 내가 가진 모든 데이터로 만든다. "
      ]
    },
    {
      "cell_type": "code",
      "execution_count": null,
      "metadata": {
        "id": "xV1c-XVic6b1"
      },
      "outputs": [],
      "source": [
        "from sklearn.model_selection import train_test_split"
      ]
    },
    {
      "cell_type": "code",
      "execution_count": null,
      "metadata": {
        "id": "qfXSQAspc6b2"
      },
      "outputs": [],
      "source": [
        "# 2way hold out\n",
        "X_train, X_test, y_train, y_test = train_test_split(iris.iloc[:, :-1], iris.target)"
      ]
    },
    {
      "cell_type": "code",
      "execution_count": null,
      "metadata": {
        "id": "Elgvo9iZc6b2"
      },
      "outputs": [],
      "source": [
        "from sklearn.metrics import confusion_matrix"
      ]
    },
    {
      "cell_type": "code",
      "execution_count": null,
      "metadata": {
        "id": "GMJGQbfWc6b2"
      },
      "outputs": [],
      "source": [
        "from sklearn.neighbors  import KNeighborsClassifier"
      ]
    },
    {
      "cell_type": "code",
      "execution_count": null,
      "metadata": {
        "id": "NA1EvxBOc6b2"
      },
      "outputs": [],
      "source": [
        "knn = KNeighborsClassifier()"
      ]
    },
    {
      "cell_type": "code",
      "execution_count": null,
      "metadata": {
        "id": "b1Nxrqwuc6b2",
        "outputId": "0f14bb6e-d971-45ee-8a69-93daae80cb2f",
        "colab": {
          "base_uri": "https://localhost:8080/",
          "height": 74
        }
      },
      "outputs": [
        {
          "output_type": "execute_result",
          "data": {
            "text/plain": [
              "KNeighborsClassifier()"
            ],
            "text/html": [
              "<style>#sk-container-id-1 {color: black;background-color: white;}#sk-container-id-1 pre{padding: 0;}#sk-container-id-1 div.sk-toggleable {background-color: white;}#sk-container-id-1 label.sk-toggleable__label {cursor: pointer;display: block;width: 100%;margin-bottom: 0;padding: 0.3em;box-sizing: border-box;text-align: center;}#sk-container-id-1 label.sk-toggleable__label-arrow:before {content: \"▸\";float: left;margin-right: 0.25em;color: #696969;}#sk-container-id-1 label.sk-toggleable__label-arrow:hover:before {color: black;}#sk-container-id-1 div.sk-estimator:hover label.sk-toggleable__label-arrow:before {color: black;}#sk-container-id-1 div.sk-toggleable__content {max-height: 0;max-width: 0;overflow: hidden;text-align: left;background-color: #f0f8ff;}#sk-container-id-1 div.sk-toggleable__content pre {margin: 0.2em;color: black;border-radius: 0.25em;background-color: #f0f8ff;}#sk-container-id-1 input.sk-toggleable__control:checked~div.sk-toggleable__content {max-height: 200px;max-width: 100%;overflow: auto;}#sk-container-id-1 input.sk-toggleable__control:checked~label.sk-toggleable__label-arrow:before {content: \"▾\";}#sk-container-id-1 div.sk-estimator input.sk-toggleable__control:checked~label.sk-toggleable__label {background-color: #d4ebff;}#sk-container-id-1 div.sk-label input.sk-toggleable__control:checked~label.sk-toggleable__label {background-color: #d4ebff;}#sk-container-id-1 input.sk-hidden--visually {border: 0;clip: rect(1px 1px 1px 1px);clip: rect(1px, 1px, 1px, 1px);height: 1px;margin: -1px;overflow: hidden;padding: 0;position: absolute;width: 1px;}#sk-container-id-1 div.sk-estimator {font-family: monospace;background-color: #f0f8ff;border: 1px dotted black;border-radius: 0.25em;box-sizing: border-box;margin-bottom: 0.5em;}#sk-container-id-1 div.sk-estimator:hover {background-color: #d4ebff;}#sk-container-id-1 div.sk-parallel-item::after {content: \"\";width: 100%;border-bottom: 1px solid gray;flex-grow: 1;}#sk-container-id-1 div.sk-label:hover label.sk-toggleable__label {background-color: #d4ebff;}#sk-container-id-1 div.sk-serial::before {content: \"\";position: absolute;border-left: 1px solid gray;box-sizing: border-box;top: 0;bottom: 0;left: 50%;z-index: 0;}#sk-container-id-1 div.sk-serial {display: flex;flex-direction: column;align-items: center;background-color: white;padding-right: 0.2em;padding-left: 0.2em;position: relative;}#sk-container-id-1 div.sk-item {position: relative;z-index: 1;}#sk-container-id-1 div.sk-parallel {display: flex;align-items: stretch;justify-content: center;background-color: white;position: relative;}#sk-container-id-1 div.sk-item::before, #sk-container-id-1 div.sk-parallel-item::before {content: \"\";position: absolute;border-left: 1px solid gray;box-sizing: border-box;top: 0;bottom: 0;left: 50%;z-index: -1;}#sk-container-id-1 div.sk-parallel-item {display: flex;flex-direction: column;z-index: 1;position: relative;background-color: white;}#sk-container-id-1 div.sk-parallel-item:first-child::after {align-self: flex-end;width: 50%;}#sk-container-id-1 div.sk-parallel-item:last-child::after {align-self: flex-start;width: 50%;}#sk-container-id-1 div.sk-parallel-item:only-child::after {width: 0;}#sk-container-id-1 div.sk-dashed-wrapped {border: 1px dashed gray;margin: 0 0.4em 0.5em 0.4em;box-sizing: border-box;padding-bottom: 0.4em;background-color: white;}#sk-container-id-1 div.sk-label label {font-family: monospace;font-weight: bold;display: inline-block;line-height: 1.2em;}#sk-container-id-1 div.sk-label-container {text-align: center;}#sk-container-id-1 div.sk-container {/* jupyter's `normalize.less` sets `[hidden] { display: none; }` but bootstrap.min.css set `[hidden] { display: none !important; }` so we also need the `!important` here to be able to override the default hidden behavior on the sphinx rendered scikit-learn.org. See: https://github.com/scikit-learn/scikit-learn/issues/21755 */display: inline-block !important;position: relative;}#sk-container-id-1 div.sk-text-repr-fallback {display: none;}</style><div id=\"sk-container-id-1\" class=\"sk-top-container\"><div class=\"sk-text-repr-fallback\"><pre>KNeighborsClassifier()</pre><b>In a Jupyter environment, please rerun this cell to show the HTML representation or trust the notebook. <br />On GitHub, the HTML representation is unable to render, please try loading this page with nbviewer.org.</b></div><div class=\"sk-container\" hidden><div class=\"sk-item\"><div class=\"sk-estimator sk-toggleable\"><input class=\"sk-toggleable__control sk-hidden--visually\" id=\"sk-estimator-id-1\" type=\"checkbox\" checked><label for=\"sk-estimator-id-1\" class=\"sk-toggleable__label sk-toggleable__label-arrow\">KNeighborsClassifier</label><div class=\"sk-toggleable__content\"><pre>KNeighborsClassifier()</pre></div></div></div></div></div>"
            ]
          },
          "metadata": {},
          "execution_count": 10
        }
      ],
      "source": [
        "knn.fit(X_train, y_train)"
      ]
    },
    {
      "cell_type": "code",
      "execution_count": null,
      "metadata": {
        "id": "pASu6xj_c6b3",
        "outputId": "29d2d5ad-a599-47fc-f4df-5619b37b929e",
        "colab": {
          "base_uri": "https://localhost:8080/"
        }
      },
      "outputs": [
        {
          "output_type": "execute_result",
          "data": {
            "text/plain": [
              "array([[11,  0,  0],\n",
              "       [ 0, 13,  2],\n",
              "       [ 0,  0, 12]])"
            ]
          },
          "metadata": {},
          "execution_count": 11
        }
      ],
      "source": [
        "# 행은 실제, 열은 예측한 값 이다.\n",
        "# 실제 0인데, 0으로 예측한 값 13개\n",
        "# 실제 1인데, 1로 예측한 값 10개 & 2로 예측한 값 0개\n",
        "# 실제 2인데, 1로 예측한 값 1개 & 2로 예측한 값 15개\n",
        "pred=knn.predict(X_test)\n",
        "confusion_matrix(y_test,pred )\n",
        "#confusion_matrix(y_test, knn.predict(X_test))"
      ]
    },
    {
      "cell_type": "code",
      "execution_count": null,
      "metadata": {
        "id": "yTpWnHbBc6b3",
        "outputId": "a3c2e725-d53b-4907-895d-d86b0e652ac2",
        "colab": {
          "base_uri": "https://localhost:8080/"
        }
      },
      "outputs": [
        {
          "output_type": "execute_result",
          "data": {
            "text/plain": [
              "array(['setosa', 'versicolor', 'virginica'], dtype='<U10')"
            ]
          },
          "metadata": {},
          "execution_count": 14
        }
      ],
      "source": [
        "# 0, 1, 2는 다음과 같다. \n",
        "data.target_names"
      ]
    },
    {
      "cell_type": "markdown",
      "metadata": {
        "id": "EvTjCDZgc6b3"
      },
      "source": [
        "위의 confusion matirx는 다음과 같다.\n",
        "\n",
        "|   |setosa로 예측|versicolor로 예측|virginica로 예측|\n",
        "|---|---|---|---|\n",
        "|실제 setosa|12|0|0|\n",
        "|실제 versicolor|0|9|1|\n",
        "|실제 virginica|0|1|15|"
      ]
    },
    {
      "cell_type": "markdown",
      "metadata": {
        "id": "xY0Iu2gCc6b3"
      },
      "source": [
        "---"
      ]
    },
    {
      "cell_type": "markdown",
      "metadata": {
        "id": "A2sM9r0rc6b4"
      },
      "source": [
        "이진 분류하는 confusion matrix에서 각 위치를 다음과 같이 이름 붙인다."
      ]
    },
    {
      "cell_type": "markdown",
      "metadata": {
        "id": "-t-TQq59c6b4"
      },
      "source": [
        "|||Predict||\n",
        "|---|---|---|---|\n",
        "|   |    |True|False|\n",
        "|Actual|True|True Positive|False Negative|\n",
        "|   |False|False Positive|True Negative|"
      ]
    },
    {
      "cell_type": "markdown",
      "metadata": {
        "id": "djuelCTkc6b4"
      },
      "source": [
        "- False Positivie는 1종 오류  \n",
        "- False Negative는 2종 오류\n",
        "\n",
        "1종 오류와 2종 오류 중에서 어떤 것이 더 중요한지는, 의사결정자의 판단에 따라 다르다."
      ]
    },
    {
      "cell_type": "markdown",
      "metadata": {
        "id": "an9FN9hxc6b4"
      },
      "source": [
        "---"
      ]
    },
    {
      "cell_type": "markdown",
      "metadata": {
        "id": "J81cW4gtc6b4"
      },
      "source": [
        "Confusion matrix에 기반하여 다음과 같은 모델의 성능 지표가 있다.  \n",
        "정확도는 맹점이 있기 때문에 다른 평가지표도 함께 살펴볼 필요가 있다."
      ]
    },
    {
      "cell_type": "markdown",
      "metadata": {
        "id": "rluJ01tLc6b4"
      },
      "source": [
        "- accuracy(정확도)  \n",
        "    전체 데이터 중에 예측이 맞은 비율  \n",
        ">   $accuracy = \\frac{TP+TN}{TP+FP+TN+FN}$\n",
        "\n",
        "- precision(정밀도)  \n",
        "    양성으로 예측한 것 중에서 양성이 맞는 비율  \n",
        "    즉, 예측한 거 중에 맞은 비율  \n",
        ">   precision = \\frac{TP}{TP+FP}$\n",
        "\n",
        "- recall(재현률)  \n",
        "    실제 양성인 것  중에서 양성으로 예측한 비율  \n",
        "    즉, 맞은 비율  \n",
        ">  $reacll = \\frac{TP}{TP+FN}$"
      ]
    },
    {
      "cell_type": "markdown",
      "metadata": {
        "id": "2BzuHqEsc6b5"
      },
      "source": [
        "multi class 일 경우는, 각 클래스 별로 precision을 구하고 평균을 내면 최종 precision이 된다.  \n",
        "최종 recall도 마찬가지 방법으로 구한다."
      ]
    },
    {
      "cell_type": "code",
      "execution_count": null,
      "metadata": {
        "id": "XlSzFHeRc6b5"
      },
      "outputs": [],
      "source": [
        "from sklearn.model_selection import cross_val_score"
      ]
    },
    {
      "cell_type": "code",
      "execution_count": null,
      "metadata": {
        "id": "eK6twf83c6b5"
      },
      "outputs": [],
      "source": [
        "from sklearn.metrics import recall_score,precision_score"
      ]
    },
    {
      "cell_type": "code",
      "execution_count": null,
      "metadata": {
        "id": "_QzWF91bc6b5",
        "outputId": "6c2aa0a9-661f-4801-f633-77e81ff14f4d",
        "colab": {
          "base_uri": "https://localhost:8080/"
        }
      },
      "outputs": [
        {
          "output_type": "execute_result",
          "data": {
            "text/plain": [
              "array([0.95652174, 0.91304348, 1.        , 1.        , 0.95454545])"
            ]
          },
          "metadata": {},
          "execution_count": 15
        }
      ],
      "source": [
        "# accuracy 대신 recall로 cross validation score를 측정할 수 있다.\n",
        "cross_val_score(KNeighborsClassifier(), X_train, y_train, scoring='recall_micro', cv=5)"
      ]
    },
    {
      "cell_type": "code",
      "execution_count": null,
      "metadata": {
        "id": "GkJJp2gxc6b5",
        "outputId": "485d34ba-2cae-43ed-c574-af0529f13f6b",
        "colab": {
          "base_uri": "https://localhost:8080/"
        }
      },
      "outputs": [
        {
          "output_type": "execute_result",
          "data": {
            "text/plain": [
              "array([0.95652174, 0.91304348, 1.        , 1.        , 0.95454545])"
            ]
          },
          "metadata": {},
          "execution_count": 16
        }
      ],
      "source": [
        "cross_val_score(KNeighborsClassifier(), X_train, y_train, scoring='precision_micro')"
      ]
    },
    {
      "cell_type": "code",
      "execution_count": null,
      "metadata": {
        "id": "-Evaks-Oc6b6"
      },
      "outputs": [],
      "source": [
        "from sklearn.metrics import classification_report"
      ]
    },
    {
      "cell_type": "code",
      "execution_count": null,
      "metadata": {
        "id": "2KGK23HPc6b6",
        "outputId": "3f14f479-c9a0-4cf6-f19d-7df885892f38",
        "colab": {
          "base_uri": "https://localhost:8080/"
        }
      },
      "outputs": [
        {
          "output_type": "stream",
          "name": "stdout",
          "text": [
            "              precision    recall  f1-score   support\n",
            "\n",
            "           0       1.00      1.00      1.00        11\n",
            "           1       1.00      0.87      0.93        15\n",
            "           2       0.86      1.00      0.92        12\n",
            "\n",
            "    accuracy                           0.95        38\n",
            "   macro avg       0.95      0.96      0.95        38\n",
            "weighted avg       0.95      0.95      0.95        38\n",
            "\n"
          ]
        }
      ],
      "source": [
        "# 내부적으로 confusion matrix를 만든 후 평가 지표별로 점수를 계산해준다.\n",
        "#print(classification_report(y_test, knn.predict(X_test)))\n",
        "print(classification_report(y_test, pred))"
      ]
    },
    {
      "cell_type": "code",
      "execution_count": null,
      "metadata": {
        "id": "mLdpW-nHc6b6",
        "colab": {
          "base_uri": "https://localhost:8080/"
        },
        "outputId": "fdd5f112-e789-4da5-bde1-c5d04bf26def"
      },
      "outputs": [
        {
          "output_type": "execute_result",
          "data": {
            "text/plain": [
              "<function pandas.core.algorithms.value_counts(values, sort: 'bool' = True, ascending: 'bool' = False, normalize: 'bool' = False, bins=None, dropna: 'bool' = True) -> 'Series'>"
            ]
          },
          "metadata": {},
          "execution_count": 19
        }
      ],
      "source": [
        "pd.value_counts"
      ]
    },
    {
      "cell_type": "markdown",
      "metadata": {
        "id": "QJy5NyvVc6b6"
      },
      "source": [
        "## Hyper Parameter"
      ]
    },
    {
      "cell_type": "markdown",
      "metadata": {
        "id": "tCCifnmTc6b7"
      },
      "source": [
        "하이퍼 파라미터에 따라서 성능이 달라진다.  \n",
        "고로, 최적의 하이퍼 파라미터를 찾는 것이 중요하다."
      ]
    },
    {
      "cell_type": "code",
      "execution_count": null,
      "metadata": {
        "id": "wcCnbHUbc6b7"
      },
      "outputs": [],
      "source": [
        "# 단순하게 하이퍼 파라미터를 for문으로 찾는 방법을 생각할 수 있다.\n",
        "temp = []\n",
        "for i in range(1, 20):\n",
        "    knn = KNeighborsClassifier(n_neighbors=i)\n",
        "    knn.fit(X_train, y_train)\n",
        "    temp.append(knn.score(X_test, y_test))"
      ]
    },
    {
      "cell_type": "code",
      "execution_count": null,
      "metadata": {
        "id": "JGVmwNMvc6b7",
        "outputId": "1377d45a-037b-494e-b0ca-e5d1adbc3bf0",
        "colab": {
          "base_uri": "https://localhost:8080/"
        }
      },
      "outputs": [
        {
          "output_type": "execute_result",
          "data": {
            "text/plain": [
              "[0.9210526315789473,\n",
              " 0.9473684210526315,\n",
              " 0.9473684210526315,\n",
              " 0.9210526315789473,\n",
              " 0.9473684210526315,\n",
              " 0.9473684210526315,\n",
              " 0.9736842105263158,\n",
              " 0.9473684210526315,\n",
              " 0.9736842105263158,\n",
              " 0.9736842105263158,\n",
              " 0.9736842105263158,\n",
              " 0.9736842105263158,\n",
              " 0.9736842105263158,\n",
              " 0.9736842105263158,\n",
              " 0.9736842105263158,\n",
              " 0.9736842105263158,\n",
              " 0.9736842105263158,\n",
              " 0.9473684210526315,\n",
              " 0.9473684210526315]"
            ]
          },
          "metadata": {},
          "execution_count": 26
        }
      ],
      "source": [
        "temp"
      ]
    },
    {
      "cell_type": "markdown",
      "source": [
        "i가 1~20가운데 언제 가장 확률이 높은지 찾을 수 있음"
      ],
      "metadata": {
        "id": "U92at43trZZI"
      }
    },
    {
      "cell_type": "code",
      "execution_count": null,
      "metadata": {
        "id": "Qpdwho6pc6b7"
      },
      "outputs": [],
      "source": [
        "import numpy as np"
      ]
    },
    {
      "cell_type": "code",
      "execution_count": null,
      "metadata": {
        "id": "GwNTpiTXc6b8",
        "outputId": "975e748b-6508-40b3-8b43-a489cc54f6fb",
        "colab": {
          "base_uri": "https://localhost:8080/"
        }
      },
      "outputs": [
        {
          "output_type": "execute_result",
          "data": {
            "text/plain": [
              "6"
            ]
          },
          "metadata": {},
          "execution_count": 28
        }
      ],
      "source": [
        "# argmax는 가장 큰 값의 index를 알려준다. \n",
        "# n_neighbors가 6일때 성능이 가장 좋다. \n",
        "np.argmax(temp)"
      ]
    },
    {
      "cell_type": "markdown",
      "metadata": {
        "id": "aHwvTjDQc6b8"
      },
      "source": [
        "### 교차검증(3way holdout)"
      ]
    },
    {
      "cell_type": "markdown",
      "metadata": {
        "id": "9JR5XknFc6b8"
      },
      "source": [
        "데이터를 총 3등분한다. \n",
        "- train set : 모델 학습에 사용한다.\n",
        "- validationt set : 하이퍼 파라미터를 찾기 위해서 사용한다.\n",
        "- test set : 한번도 안 본 데이터로 모델의 성능을 측정하기 위해서 사용한다."
      ]
    },
    {
      "cell_type": "code",
      "execution_count": null,
      "metadata": {
        "id": "9jVg5WgJc6b8"
      },
      "outputs": [],
      "source": [
        "X_train, X_test, y_train, y_test = train_test_split(iris.iloc[:, :-1], iris.target)"
      ]
    },
    {
      "cell_type": "code",
      "execution_count": null,
      "metadata": {
        "id": "Ui0dTVhLc6b9"
      },
      "outputs": [],
      "source": [
        "X_train, X_validation, y_train, y_validation = train_test_split(X_train, y_train)"
      ]
    },
    {
      "cell_type": "code",
      "execution_count": null,
      "metadata": {
        "id": "NHYdWvypc6b9"
      },
      "outputs": [],
      "source": [
        "# 하이퍼 파라미터를 찾기 위해서 3-way holdout을 한다.\n",
        "temp = []\n",
        "for i in range(1, 20):\n",
        "    knn = KNeighborsClassifier(n_neighbors=i)\n",
        "    knn.fit(X_train, y_train)\n",
        "    temp.append(knn.score(X_validation, y_validation))"
      ]
    },
    {
      "cell_type": "code",
      "source": [
        "temp"
      ],
      "metadata": {
        "colab": {
          "base_uri": "https://localhost:8080/"
        },
        "id": "6M3MZcg_sGJ7",
        "outputId": "8a1ecea5-004e-48f5-84d6-ae48acfdfb07"
      },
      "execution_count": null,
      "outputs": [
        {
          "output_type": "execute_result",
          "data": {
            "text/plain": [
              "[0.9285714285714286,\n",
              " 0.9285714285714286,\n",
              " 0.9285714285714286,\n",
              " 0.9285714285714286,\n",
              " 0.9285714285714286,\n",
              " 0.9285714285714286,\n",
              " 0.9285714285714286,\n",
              " 0.9285714285714286,\n",
              " 0.9285714285714286,\n",
              " 0.9285714285714286,\n",
              " 0.9285714285714286,\n",
              " 0.9285714285714286,\n",
              " 0.9285714285714286,\n",
              " 0.9285714285714286,\n",
              " 0.9285714285714286,\n",
              " 0.9285714285714286,\n",
              " 0.9285714285714286,\n",
              " 0.9285714285714286,\n",
              " 0.9285714285714286]"
            ]
          },
          "metadata": {},
          "execution_count": 33
        }
      ]
    },
    {
      "cell_type": "code",
      "execution_count": null,
      "metadata": {
        "id": "o2Cagv6fc6b9",
        "outputId": "60e85c58-9346-4a5d-c5fe-a1d8457a2164",
        "colab": {
          "base_uri": "https://localhost:8080/"
        }
      },
      "outputs": [
        {
          "output_type": "execute_result",
          "data": {
            "text/plain": [
              "0"
            ]
          },
          "metadata": {},
          "execution_count": 34
        }
      ],
      "source": [
        "# 3way holdout으로 했을 때, 하이퍼 파라미터 n_neighbors가 0일때 가장 성능이 좋다.\n",
        "np.argmax(temp)"
      ]
    },
    {
      "cell_type": "markdown",
      "source": [
        "#### cross_val_score \n",
        "- 사이킷런(Scikit_Learn)에서는 교차검증(K-Fold, StratifiedKFold)을 쉽게 할수 있도록 제공하는 API 이다.\n",
        "- scikit-learn 0.22 버전부터 기본적으로 5-겹 교차 검증으로 바뀌었다.\n",
        "- cross_val_score에서 사용되는 파라미터\n",
        "  - estimator : 분류(Classifier) 또는 회귀(Regressor)인지 구분\n",
        "  - X : feature  데이터 세트\n",
        "  - y : class 데이터 세트\n",
        "  - scoring : 예측 성능 평가 지표('accuracy', 'neg_brier_score', 'top_k_accuracy'...) \n",
        "  - cv : 교차 검증 필드 수\n",
        "- y가바이너리 또는 다중 클래스, StratifiedKFold가 사용되며, 전체적으로 그 외의 경우 KFold 사용된다.    \n",
        "- 수행 후 반환값은  scoring 파라미터로 지정된 측정값을 배열 형태로 반환한다.\n"
      ],
      "metadata": {
        "id": "CI3pHU_nPvjJ"
      }
    },
    {
      "cell_type": "code",
      "execution_count": null,
      "metadata": {
        "id": "bjcmFngEc6b9"
      },
      "outputs": [],
      "source": [
        "# cross_val_score로 하이퍼 파라미터 찾기\n",
        "# 이 방법은 모든 데이터를 사용하기 때문에 위의 temp 방식 보다 많이 사용한다. \n",
        "# 위에서 여러번 작업한 것을 한 번에 할 수 있다. 따라서 K-Fold, StratifiedKFold 방식을 사용할 필요가 없다\n",
        "# cross_val_score를 사용하면 된다!\n",
        "temp2 = []\n",
        "for i in range(1, 20):\n",
        "    temp2.append(cross_val_score(KNeighborsClassifier(n_neighbors=i),\n",
        "                                   iris.iloc[:,:-1], iris.target, cv=5).mean())   #cv값은 지정 안하면 기본이 5"
      ]
    },
    {
      "cell_type": "code",
      "execution_count": null,
      "metadata": {
        "id": "3JCbIXtbc6b9",
        "outputId": "1e0fa376-b676-4305-c163-41dc3592abd2",
        "colab": {
          "base_uri": "https://localhost:8080/"
        }
      },
      "outputs": [
        {
          "output_type": "execute_result",
          "data": {
            "text/plain": [
              "5"
            ]
          },
          "metadata": {},
          "execution_count": 41
        }
      ],
      "source": [
        "# temp와 최적의 하이퍼 파라미터가 다르게 나왔다. \n",
        "np.argmax(temp2)"
      ]
    },
    {
      "cell_type": "code",
      "execution_count": null,
      "metadata": {
        "id": "3gj6KqPkc6b-",
        "outputId": "12502973-f06f-4643-cf45-090b9a857c32",
        "colab": {
          "base_uri": "https://localhost:8080/"
        }
      },
      "outputs": [
        {
          "output_type": "execute_result",
          "data": {
            "text/plain": [
              "[0.96,\n",
              " 0.9466666666666665,\n",
              " 0.9666666666666668,\n",
              " 0.9733333333333334,\n",
              " 0.9733333333333334,\n",
              " 0.9800000000000001,\n",
              " 0.9800000000000001,\n",
              " 0.9666666666666668,\n",
              " 0.9733333333333334,\n",
              " 0.9800000000000001,\n",
              " 0.9800000000000001,\n",
              " 0.9800000000000001,\n",
              " 0.9733333333333334,\n",
              " 0.9666666666666666,\n",
              " 0.9666666666666668,\n",
              " 0.9666666666666668,\n",
              " 0.9666666666666668,\n",
              " 0.9666666666666666,\n",
              " 0.9666666666666668]"
            ]
          },
          "metadata": {},
          "execution_count": 42
        }
      ],
      "source": [
        "temp2"
      ]
    },
    {
      "cell_type": "code",
      "execution_count": null,
      "metadata": {
        "id": "kxNn2y-oc6b-",
        "outputId": "7d341d6e-fbef-48b0-c254-914d3e023234",
        "colab": {
          "base_uri": "https://localhost:8080/",
          "height": 74
        }
      },
      "outputs": [
        {
          "output_type": "execute_result",
          "data": {
            "text/plain": [
              "KNeighborsClassifier(n_neighbors=6)"
            ],
            "text/html": [
              "<style>#sk-container-id-3 {color: black;background-color: white;}#sk-container-id-3 pre{padding: 0;}#sk-container-id-3 div.sk-toggleable {background-color: white;}#sk-container-id-3 label.sk-toggleable__label {cursor: pointer;display: block;width: 100%;margin-bottom: 0;padding: 0.3em;box-sizing: border-box;text-align: center;}#sk-container-id-3 label.sk-toggleable__label-arrow:before {content: \"▸\";float: left;margin-right: 0.25em;color: #696969;}#sk-container-id-3 label.sk-toggleable__label-arrow:hover:before {color: black;}#sk-container-id-3 div.sk-estimator:hover label.sk-toggleable__label-arrow:before {color: black;}#sk-container-id-3 div.sk-toggleable__content {max-height: 0;max-width: 0;overflow: hidden;text-align: left;background-color: #f0f8ff;}#sk-container-id-3 div.sk-toggleable__content pre {margin: 0.2em;color: black;border-radius: 0.25em;background-color: #f0f8ff;}#sk-container-id-3 input.sk-toggleable__control:checked~div.sk-toggleable__content {max-height: 200px;max-width: 100%;overflow: auto;}#sk-container-id-3 input.sk-toggleable__control:checked~label.sk-toggleable__label-arrow:before {content: \"▾\";}#sk-container-id-3 div.sk-estimator input.sk-toggleable__control:checked~label.sk-toggleable__label {background-color: #d4ebff;}#sk-container-id-3 div.sk-label input.sk-toggleable__control:checked~label.sk-toggleable__label {background-color: #d4ebff;}#sk-container-id-3 input.sk-hidden--visually {border: 0;clip: rect(1px 1px 1px 1px);clip: rect(1px, 1px, 1px, 1px);height: 1px;margin: -1px;overflow: hidden;padding: 0;position: absolute;width: 1px;}#sk-container-id-3 div.sk-estimator {font-family: monospace;background-color: #f0f8ff;border: 1px dotted black;border-radius: 0.25em;box-sizing: border-box;margin-bottom: 0.5em;}#sk-container-id-3 div.sk-estimator:hover {background-color: #d4ebff;}#sk-container-id-3 div.sk-parallel-item::after {content: \"\";width: 100%;border-bottom: 1px solid gray;flex-grow: 1;}#sk-container-id-3 div.sk-label:hover label.sk-toggleable__label {background-color: #d4ebff;}#sk-container-id-3 div.sk-serial::before {content: \"\";position: absolute;border-left: 1px solid gray;box-sizing: border-box;top: 0;bottom: 0;left: 50%;z-index: 0;}#sk-container-id-3 div.sk-serial {display: flex;flex-direction: column;align-items: center;background-color: white;padding-right: 0.2em;padding-left: 0.2em;position: relative;}#sk-container-id-3 div.sk-item {position: relative;z-index: 1;}#sk-container-id-3 div.sk-parallel {display: flex;align-items: stretch;justify-content: center;background-color: white;position: relative;}#sk-container-id-3 div.sk-item::before, #sk-container-id-3 div.sk-parallel-item::before {content: \"\";position: absolute;border-left: 1px solid gray;box-sizing: border-box;top: 0;bottom: 0;left: 50%;z-index: -1;}#sk-container-id-3 div.sk-parallel-item {display: flex;flex-direction: column;z-index: 1;position: relative;background-color: white;}#sk-container-id-3 div.sk-parallel-item:first-child::after {align-self: flex-end;width: 50%;}#sk-container-id-3 div.sk-parallel-item:last-child::after {align-self: flex-start;width: 50%;}#sk-container-id-3 div.sk-parallel-item:only-child::after {width: 0;}#sk-container-id-3 div.sk-dashed-wrapped {border: 1px dashed gray;margin: 0 0.4em 0.5em 0.4em;box-sizing: border-box;padding-bottom: 0.4em;background-color: white;}#sk-container-id-3 div.sk-label label {font-family: monospace;font-weight: bold;display: inline-block;line-height: 1.2em;}#sk-container-id-3 div.sk-label-container {text-align: center;}#sk-container-id-3 div.sk-container {/* jupyter's `normalize.less` sets `[hidden] { display: none; }` but bootstrap.min.css set `[hidden] { display: none !important; }` so we also need the `!important` here to be able to override the default hidden behavior on the sphinx rendered scikit-learn.org. See: https://github.com/scikit-learn/scikit-learn/issues/21755 */display: inline-block !important;position: relative;}#sk-container-id-3 div.sk-text-repr-fallback {display: none;}</style><div id=\"sk-container-id-3\" class=\"sk-top-container\"><div class=\"sk-text-repr-fallback\"><pre>KNeighborsClassifier(n_neighbors=6)</pre><b>In a Jupyter environment, please rerun this cell to show the HTML representation or trust the notebook. <br />On GitHub, the HTML representation is unable to render, please try loading this page with nbviewer.org.</b></div><div class=\"sk-container\" hidden><div class=\"sk-item\"><div class=\"sk-estimator sk-toggleable\"><input class=\"sk-toggleable__control sk-hidden--visually\" id=\"sk-estimator-id-3\" type=\"checkbox\" checked><label for=\"sk-estimator-id-3\" class=\"sk-toggleable__label sk-toggleable__label-arrow\">KNeighborsClassifier</label><div class=\"sk-toggleable__content\"><pre>KNeighborsClassifier(n_neighbors=6)</pre></div></div></div></div></div>"
            ]
          },
          "metadata": {},
          "execution_count": 43
        }
      ],
      "source": [
        "# 찾아낸 하이퍼 파라미터로 최종 모델을 만든다.\n",
        "# 최종 모델은 모든 데이터를 써서 학습한다.\n",
        "knn_final = KNeighborsClassifier(n_neighbors=6)\n",
        "knn_final.fit(iris.iloc[:, :-1], iris.target)"
      ]
    },
    {
      "cell_type": "markdown",
      "source": [
        "#### cross_validate\n",
        "- cross_val_score와 비슷하지만, 분할마다 훈련과 테스트에 걸린 시간을 담은 딕셔너리를 반환한다\n",
        " - fit_time : 훈련 시간\n",
        " - score_time : 테스트 시간\n",
        " - train_score : 훈련 점수\n",
        " - test_score : 테스트 점수"
      ],
      "metadata": {
        "id": "gO5v_lpvckSn"
      }
    },
    {
      "cell_type": "code",
      "source": [
        "from sklearn.model_selection import cross_validate\n",
        "import numpy as np\n",
        "\n",
        "\n",
        "temp3 = []\n",
        "for i in range(1, 20):\n",
        "    temp3.append(cross_validate(KNeighborsClassifier(n_neighbors=i),iris.iloc[:,:-1], iris.target, cv=5, return_train_score=True))"
      ],
      "metadata": {
        "id": "Zod0XYQ-cjuf"
      },
      "execution_count": null,
      "outputs": []
    },
    {
      "cell_type": "code",
      "source": [
        "# temp와 최적의 하이퍼 파라미터가 다르게 나왔다. \n",
        "#np.argmax(temp3[3])\n",
        "#data = np.array(temp3)\n",
        "#data[0]['test_score']\n",
        "#(i for np.argmax(data[0]['test_score'])"
      ],
      "metadata": {
        "id": "lOy3kBupev9o"
      },
      "execution_count": null,
      "outputs": []
    },
    {
      "cell_type": "code",
      "source": [
        "temp3"
      ],
      "metadata": {
        "colab": {
          "base_uri": "https://localhost:8080/"
        },
        "id": "9GSGvBi8dTEu",
        "outputId": "48fd8917-ff9b-4b6c-dd0b-0b6902d07023"
      },
      "execution_count": null,
      "outputs": [
        {
          "output_type": "execute_result",
          "data": {
            "text/plain": [
              "[{'fit_time': array([0.00264096, 0.00238323, 0.00152445, 0.00143719, 0.00136638]),\n",
              "  'score_time': array([0.00331116, 0.00328898, 0.00241208, 0.00221229, 0.0022018 ]),\n",
              "  'test_score': array([0.96666667, 0.96666667, 0.93333333, 0.93333333, 1.        ]),\n",
              "  'train_score': array([1., 1., 1., 1., 1.])},\n",
              " {'fit_time': array([0.00148201, 0.00147891, 0.00141621, 0.00142694, 0.00141239]),\n",
              "  'score_time': array([0.00234413, 0.0024488 , 0.00218081, 0.00223923, 0.00216413]),\n",
              "  'test_score': array([0.96666667, 0.93333333, 0.93333333, 0.9       , 1.        ]),\n",
              "  'train_score': array([0.975     , 0.98333333, 0.975     , 0.98333333, 0.975     ])},\n",
              " {'fit_time': array([0.00145698, 0.00137925, 0.00195026, 0.0017302 , 0.00141382]),\n",
              "  'score_time': array([0.00228238, 0.00218773, 0.00248861, 0.00228095, 0.00231266]),\n",
              "  'test_score': array([0.96666667, 0.96666667, 0.93333333, 0.96666667, 1.        ]),\n",
              "  'train_score': array([0.95833333, 0.95833333, 0.96666667, 0.96666667, 0.95      ])},\n",
              " {'fit_time': array([0.00149274, 0.0014348 , 0.00290918, 0.00147223, 0.00160646]),\n",
              "  'score_time': array([0.00230861, 0.0022769 , 0.00283527, 0.00225067, 0.00227976]),\n",
              "  'test_score': array([0.96666667, 0.96666667, 0.96666667, 0.96666667, 1.        ]),\n",
              "  'train_score': array([0.95833333, 0.95833333, 0.95833333, 0.975     , 0.96666667])},\n",
              " {'fit_time': array([0.00150776, 0.00179434, 0.00148344, 0.00140572, 0.00144362]),\n",
              "  'score_time': array([0.0023191 , 0.00242543, 0.00230932, 0.00228786, 0.00235271]),\n",
              "  'test_score': array([0.96666667, 1.        , 0.93333333, 0.96666667, 1.        ]),\n",
              "  'train_score': array([0.96666667, 0.96666667, 0.975     , 0.975     , 0.96666667])},\n",
              " {'fit_time': array([0.00156665, 0.00148869, 0.00140309, 0.00137162, 0.001369  ]),\n",
              "  'score_time': array([0.00248337, 0.00229073, 0.00239015, 0.00235677, 0.00218892]),\n",
              "  'test_score': array([0.96666667, 1.        , 0.96666667, 0.96666667, 1.        ]),\n",
              "  'train_score': array([0.96666667, 0.975     , 0.975     , 0.98333333, 0.96666667])},\n",
              " {'fit_time': array([0.00139785, 0.00138211, 0.00137544, 0.00135946, 0.00135136]),\n",
              "  'score_time': array([0.00217772, 0.00222707, 0.00226283, 0.00218558, 0.0022037 ]),\n",
              "  'test_score': array([0.96666667, 1.        , 0.96666667, 0.96666667, 1.        ]),\n",
              "  'train_score': array([0.96666667, 0.96666667, 0.975     , 0.98333333, 0.975     ])},\n",
              " {'fit_time': array([0.00183845, 0.00168037, 0.00173926, 0.00187039, 0.0018816 ]),\n",
              "  'score_time': array([0.00257039, 0.00258207, 0.00254321, 0.00261664, 0.00293016]),\n",
              "  'test_score': array([0.96666667, 1.        , 0.93333333, 0.93333333, 1.        ]),\n",
              "  'train_score': array([0.975     , 0.98333333, 0.975     , 0.99166667, 0.975     ])},\n",
              " {'fit_time': array([0.00177121, 0.00179958, 0.00177813, 0.00180316, 0.00175691]),\n",
              "  'score_time': array([0.00254512, 0.00259089, 0.00275826, 0.0029676 , 0.00268316]),\n",
              "  'test_score': array([0.96666667, 1.        , 0.96666667, 0.93333333, 1.        ]),\n",
              "  'train_score': array([0.975     , 0.98333333, 0.975     , 0.98333333, 0.975     ])},\n",
              " {'fit_time': array([0.00169277, 0.00166106, 0.00165939, 0.00170302, 0.00156927]),\n",
              "  'score_time': array([0.00259876, 0.00249696, 0.00251675, 0.00257421, 0.00259924]),\n",
              "  'test_score': array([0.96666667, 1.        , 1.        , 0.93333333, 1.        ]),\n",
              "  'train_score': array([0.975     , 0.975     , 0.975     , 0.98333333, 0.95833333])},\n",
              " {'fit_time': array([0.00166702, 0.00175142, 0.00184298, 0.00175548, 0.00165129]),\n",
              "  'score_time': array([0.00260615, 0.0027194 , 0.00287914, 0.00261116, 0.00252295]),\n",
              "  'test_score': array([0.93333333, 1.        , 1.        , 0.96666667, 1.        ]),\n",
              "  'train_score': array([0.98333333, 0.975     , 0.975     , 0.975     , 0.96666667])},\n",
              " {'fit_time': array([0.00176239, 0.00175452, 0.00174713, 0.00250936, 0.00146127]),\n",
              "  'score_time': array([0.00276327, 0.00268722, 0.00280666, 0.00260949, 0.00254226]),\n",
              "  'test_score': array([0.93333333, 1.        , 1.        , 0.96666667, 1.        ]),\n",
              "  'train_score': array([0.98333333, 0.975     , 0.975     , 0.98333333, 0.95833333])},\n",
              " {'fit_time': array([0.00146174, 0.00137162, 0.00143957, 0.00149155, 0.00143719]),\n",
              "  'score_time': array([0.0022707 , 0.00228786, 0.00229692, 0.00238037, 0.00231624]),\n",
              "  'test_score': array([0.93333333, 1.        , 0.96666667, 0.96666667, 1.        ]),\n",
              "  'train_score': array([0.98333333, 0.975     , 0.975     , 0.98333333, 0.975     ])},\n",
              " {'fit_time': array([0.00177312, 0.00167513, 0.00164461, 0.00146937, 0.00163531]),\n",
              "  'score_time': array([0.00255108, 0.00239086, 0.00236201, 0.00246572, 0.00262165]),\n",
              "  'test_score': array([0.93333333, 1.        , 0.96666667, 0.93333333, 1.        ]),\n",
              "  'train_score': array([0.98333333, 0.975     , 0.975     , 0.98333333, 0.96666667])},\n",
              " {'fit_time': array([0.00167108, 0.00171018, 0.00159168, 0.00225925, 0.00210667]),\n",
              "  'score_time': array([0.00254488, 0.002563  , 0.00233841, 0.00353575, 0.00309801]),\n",
              "  'test_score': array([0.93333333, 1.        , 0.93333333, 0.96666667, 1.        ]),\n",
              "  'train_score': array([0.98333333, 0.975     , 0.98333333, 0.975     , 0.96666667])},\n",
              " {'fit_time': array([0.00205588, 0.00191998, 0.00186372, 0.00171304, 0.0017302 ]),\n",
              "  'score_time': array([0.00264096, 0.00332475, 0.00276518, 0.00260234, 0.00273085]),\n",
              "  'test_score': array([0.93333333, 1.        , 0.93333333, 0.96666667, 1.        ]),\n",
              "  'train_score': array([0.98333333, 0.98333333, 0.975     , 0.98333333, 0.95      ])},\n",
              " {'fit_time': array([0.00161266, 0.00184846, 0.0015924 , 0.00178981, 0.0017786 ]),\n",
              "  'score_time': array([0.00243592, 0.0025773 , 0.00254297, 0.00255775, 0.00272632]),\n",
              "  'test_score': array([0.93333333, 1.        , 0.93333333, 0.96666667, 1.        ]),\n",
              "  'train_score': array([0.98333333, 0.96666667, 0.98333333, 0.98333333, 0.95833333])},\n",
              " {'fit_time': array([0.0018065 , 0.00174403, 0.00172806, 0.00170326, 0.001688  ]),\n",
              "  'score_time': array([0.00365686, 0.00261617, 0.00263023, 0.00257897, 0.0026474 ]),\n",
              "  'test_score': array([0.93333333, 1.        , 0.96666667, 0.93333333, 1.        ]),\n",
              "  'train_score': array([0.98333333, 0.98333333, 0.975     , 0.98333333, 0.95      ])},\n",
              " {'fit_time': array([0.00156593, 0.00177169, 0.00158429, 0.00172639, 0.00206399]),\n",
              "  'score_time': array([0.00240374, 0.00274539, 0.00258064, 0.0025475 , 0.00266123]),\n",
              "  'test_score': array([0.93333333, 1.        , 0.93333333, 0.96666667, 1.        ]),\n",
              "  'train_score': array([0.98333333, 0.975     , 0.975     , 0.98333333, 0.95      ])}]"
            ]
          },
          "metadata": {},
          "execution_count": 47
        }
      ]
    },
    {
      "cell_type": "markdown",
      "metadata": {
        "id": "JtM2STo1c6b-"
      },
      "source": [
        "### GridSearchCV"
      ]
    },
    {
      "cell_type": "markdown",
      "source": [
        "- 교차검증(여러가지 기법들이 존재함)과 하이퍼 파라미터 튜닝(weight)값을 둘다 할 수 있는 API이다."
      ],
      "metadata": {
        "id": "eeNlGMCTbUxw"
      }
    },
    {
      "cell_type": "markdown",
      "metadata": {
        "id": "vvSe5BwNc6b-"
      },
      "source": [
        "scikit-learn에서 하이퍼 파라미터를 편하게 찾는 기능을 제공하고 있다. "
      ]
    },
    {
      "cell_type": "code",
      "execution_count": null,
      "metadata": {
        "id": "OO_2k1Gqc6b-"
      },
      "outputs": [],
      "source": [
        "from sklearn.model_selection import GridSearchCV"
      ]
    },
    {
      "cell_type": "code",
      "execution_count": null,
      "metadata": {
        "id": "dmpHA1xdc6b-"
      },
      "outputs": [],
      "source": [
        "knn = KNeighborsClassifier()"
      ]
    },
    {
      "cell_type": "code",
      "execution_count": null,
      "metadata": {
        "id": "uQLmY-nzc6b_",
        "outputId": "ccd34fa2-ffc9-4e91-b3c8-28c9591d42cc",
        "colab": {
          "base_uri": "https://localhost:8080/"
        }
      },
      "outputs": [
        {
          "output_type": "execute_result",
          "data": {
            "text/plain": [
              "{'algorithm': 'auto',\n",
              " 'leaf_size': 30,\n",
              " 'metric': 'minkowski',\n",
              " 'metric_params': None,\n",
              " 'n_jobs': None,\n",
              " 'n_neighbors': 5,\n",
              " 'p': 2,\n",
              " 'weights': 'uniform'}"
            ]
          },
          "metadata": {},
          "execution_count": 50
        }
      ],
      "source": [
        "# scikit-learn의 모델들은 get_params를 공통적으로 가지고 있다.\n",
        "# 알고리즘이 사용할 수 있는 하이퍼 파라미터를 알려준다.\n",
        "knn.get_params()"
      ]
    },
    {
      "cell_type": "code",
      "execution_count": null,
      "metadata": {
        "id": "JvjdNAilc6b_"
      },
      "outputs": [],
      "source": [
        "# param_grid의 key는 get_params에 나오는 하이퍼 파라미터만 쓸 수 있다.\n",
        "# param_grid의 value는 테스트해 볼 하이퍼 파라미터를 리스트로 넣는다.\n",
        "grid = GridSearchCV(KNeighborsClassifier(), {'n_neighbors':[2,3,4,5,6,7]})"
      ]
    },
    {
      "cell_type": "code",
      "execution_count": null,
      "metadata": {
        "id": "oNl0nwBac6b_",
        "outputId": "94408cc3-7fc2-4e23-b259-3eb880cf16f3",
        "colab": {
          "base_uri": "https://localhost:8080/",
          "height": 117
        }
      },
      "outputs": [
        {
          "output_type": "execute_result",
          "data": {
            "text/plain": [
              "GridSearchCV(estimator=KNeighborsClassifier(),\n",
              "             param_grid={'n_neighbors': [2, 3, 4, 5, 6, 7]})"
            ],
            "text/html": [
              "<style>#sk-container-id-4 {color: black;background-color: white;}#sk-container-id-4 pre{padding: 0;}#sk-container-id-4 div.sk-toggleable {background-color: white;}#sk-container-id-4 label.sk-toggleable__label {cursor: pointer;display: block;width: 100%;margin-bottom: 0;padding: 0.3em;box-sizing: border-box;text-align: center;}#sk-container-id-4 label.sk-toggleable__label-arrow:before {content: \"▸\";float: left;margin-right: 0.25em;color: #696969;}#sk-container-id-4 label.sk-toggleable__label-arrow:hover:before {color: black;}#sk-container-id-4 div.sk-estimator:hover label.sk-toggleable__label-arrow:before {color: black;}#sk-container-id-4 div.sk-toggleable__content {max-height: 0;max-width: 0;overflow: hidden;text-align: left;background-color: #f0f8ff;}#sk-container-id-4 div.sk-toggleable__content pre {margin: 0.2em;color: black;border-radius: 0.25em;background-color: #f0f8ff;}#sk-container-id-4 input.sk-toggleable__control:checked~div.sk-toggleable__content {max-height: 200px;max-width: 100%;overflow: auto;}#sk-container-id-4 input.sk-toggleable__control:checked~label.sk-toggleable__label-arrow:before {content: \"▾\";}#sk-container-id-4 div.sk-estimator input.sk-toggleable__control:checked~label.sk-toggleable__label {background-color: #d4ebff;}#sk-container-id-4 div.sk-label input.sk-toggleable__control:checked~label.sk-toggleable__label {background-color: #d4ebff;}#sk-container-id-4 input.sk-hidden--visually {border: 0;clip: rect(1px 1px 1px 1px);clip: rect(1px, 1px, 1px, 1px);height: 1px;margin: -1px;overflow: hidden;padding: 0;position: absolute;width: 1px;}#sk-container-id-4 div.sk-estimator {font-family: monospace;background-color: #f0f8ff;border: 1px dotted black;border-radius: 0.25em;box-sizing: border-box;margin-bottom: 0.5em;}#sk-container-id-4 div.sk-estimator:hover {background-color: #d4ebff;}#sk-container-id-4 div.sk-parallel-item::after {content: \"\";width: 100%;border-bottom: 1px solid gray;flex-grow: 1;}#sk-container-id-4 div.sk-label:hover label.sk-toggleable__label {background-color: #d4ebff;}#sk-container-id-4 div.sk-serial::before {content: \"\";position: absolute;border-left: 1px solid gray;box-sizing: border-box;top: 0;bottom: 0;left: 50%;z-index: 0;}#sk-container-id-4 div.sk-serial {display: flex;flex-direction: column;align-items: center;background-color: white;padding-right: 0.2em;padding-left: 0.2em;position: relative;}#sk-container-id-4 div.sk-item {position: relative;z-index: 1;}#sk-container-id-4 div.sk-parallel {display: flex;align-items: stretch;justify-content: center;background-color: white;position: relative;}#sk-container-id-4 div.sk-item::before, #sk-container-id-4 div.sk-parallel-item::before {content: \"\";position: absolute;border-left: 1px solid gray;box-sizing: border-box;top: 0;bottom: 0;left: 50%;z-index: -1;}#sk-container-id-4 div.sk-parallel-item {display: flex;flex-direction: column;z-index: 1;position: relative;background-color: white;}#sk-container-id-4 div.sk-parallel-item:first-child::after {align-self: flex-end;width: 50%;}#sk-container-id-4 div.sk-parallel-item:last-child::after {align-self: flex-start;width: 50%;}#sk-container-id-4 div.sk-parallel-item:only-child::after {width: 0;}#sk-container-id-4 div.sk-dashed-wrapped {border: 1px dashed gray;margin: 0 0.4em 0.5em 0.4em;box-sizing: border-box;padding-bottom: 0.4em;background-color: white;}#sk-container-id-4 div.sk-label label {font-family: monospace;font-weight: bold;display: inline-block;line-height: 1.2em;}#sk-container-id-4 div.sk-label-container {text-align: center;}#sk-container-id-4 div.sk-container {/* jupyter's `normalize.less` sets `[hidden] { display: none; }` but bootstrap.min.css set `[hidden] { display: none !important; }` so we also need the `!important` here to be able to override the default hidden behavior on the sphinx rendered scikit-learn.org. See: https://github.com/scikit-learn/scikit-learn/issues/21755 */display: inline-block !important;position: relative;}#sk-container-id-4 div.sk-text-repr-fallback {display: none;}</style><div id=\"sk-container-id-4\" class=\"sk-top-container\"><div class=\"sk-text-repr-fallback\"><pre>GridSearchCV(estimator=KNeighborsClassifier(),\n",
              "             param_grid={&#x27;n_neighbors&#x27;: [2, 3, 4, 5, 6, 7]})</pre><b>In a Jupyter environment, please rerun this cell to show the HTML representation or trust the notebook. <br />On GitHub, the HTML representation is unable to render, please try loading this page with nbviewer.org.</b></div><div class=\"sk-container\" hidden><div class=\"sk-item sk-dashed-wrapped\"><div class=\"sk-label-container\"><div class=\"sk-label sk-toggleable\"><input class=\"sk-toggleable__control sk-hidden--visually\" id=\"sk-estimator-id-4\" type=\"checkbox\" ><label for=\"sk-estimator-id-4\" class=\"sk-toggleable__label sk-toggleable__label-arrow\">GridSearchCV</label><div class=\"sk-toggleable__content\"><pre>GridSearchCV(estimator=KNeighborsClassifier(),\n",
              "             param_grid={&#x27;n_neighbors&#x27;: [2, 3, 4, 5, 6, 7]})</pre></div></div></div><div class=\"sk-parallel\"><div class=\"sk-parallel-item\"><div class=\"sk-item\"><div class=\"sk-label-container\"><div class=\"sk-label sk-toggleable\"><input class=\"sk-toggleable__control sk-hidden--visually\" id=\"sk-estimator-id-5\" type=\"checkbox\" ><label for=\"sk-estimator-id-5\" class=\"sk-toggleable__label sk-toggleable__label-arrow\">estimator: KNeighborsClassifier</label><div class=\"sk-toggleable__content\"><pre>KNeighborsClassifier()</pre></div></div></div><div class=\"sk-serial\"><div class=\"sk-item\"><div class=\"sk-estimator sk-toggleable\"><input class=\"sk-toggleable__control sk-hidden--visually\" id=\"sk-estimator-id-6\" type=\"checkbox\" ><label for=\"sk-estimator-id-6\" class=\"sk-toggleable__label sk-toggleable__label-arrow\">KNeighborsClassifier</label><div class=\"sk-toggleable__content\"><pre>KNeighborsClassifier()</pre></div></div></div></div></div></div></div></div></div></div>"
            ]
          },
          "metadata": {},
          "execution_count": 52
        }
      ],
      "source": [
        "grid.fit(iris.iloc[:, :-1], iris.target)"
      ]
    },
    {
      "cell_type": "code",
      "execution_count": null,
      "metadata": {
        "id": "3pxRtNS0c6b_",
        "outputId": "92fb02df-42d7-4381-9fb6-630032376a23",
        "colab": {
          "base_uri": "https://localhost:8080/"
        }
      },
      "outputs": [
        {
          "output_type": "execute_result",
          "data": {
            "text/plain": [
              "{'n_neighbors': 6}"
            ]
          },
          "metadata": {},
          "execution_count": 53
        }
      ],
      "source": [
        "# 가장 좋은 하이퍼 파라미터를 한번에 찾아준다.\n",
        "grid.best_params_"
      ]
    },
    {
      "cell_type": "code",
      "execution_count": null,
      "metadata": {
        "id": "bFTMjX5fc6b_",
        "outputId": "33f843ef-77c2-4608-cb87-d21cde04b972"
      },
      "outputs": [
        {
          "data": {
            "text/plain": [
              "0.9800000000000001"
            ]
          },
          "execution_count": 39,
          "metadata": {},
          "output_type": "execute_result"
        }
      ],
      "source": [
        "# 가장 좋은 하이퍼 파라미터의 성능을 알려준다.\n",
        "grid.best_score_"
      ]
    },
    {
      "cell_type": "code",
      "execution_count": null,
      "metadata": {
        "id": "vhiRxsN8c6cA",
        "outputId": "d6a953d8-98d1-41dc-9f62-7b940ec67adb",
        "colab": {
          "base_uri": "https://localhost:8080/"
        }
      },
      "outputs": [
        {
          "output_type": "execute_result",
          "data": {
            "text/plain": [
              "{'mean_fit_time': array([0.00190439, 0.00159578, 0.00141377, 0.00145178, 0.00140429,\n",
              "        0.00139303]),\n",
              " 'std_fit_time': array([4.87626991e-04, 2.22729121e-04, 9.63759030e-05, 7.96809587e-05,\n",
              "        1.43019355e-05, 4.87262251e-05]),\n",
              " 'mean_score_time': array([0.00266171, 0.00241756, 0.00225654, 0.00223975, 0.00228505,\n",
              "        0.00236788]),\n",
              " 'std_score_time': array([6.04729595e-04, 1.26433622e-04, 6.68636563e-05, 4.37331168e-05,\n",
              "        5.68767796e-05, 1.66712636e-04]),\n",
              " 'param_n_neighbors': masked_array(data=[2, 3, 4, 5, 6, 7],\n",
              "              mask=[False, False, False, False, False, False],\n",
              "        fill_value='?',\n",
              "             dtype=object),\n",
              " 'params': [{'n_neighbors': 2},\n",
              "  {'n_neighbors': 3},\n",
              "  {'n_neighbors': 4},\n",
              "  {'n_neighbors': 5},\n",
              "  {'n_neighbors': 6},\n",
              "  {'n_neighbors': 7}],\n",
              " 'split0_test_score': array([0.96666667, 0.96666667, 0.96666667, 0.96666667, 0.96666667,\n",
              "        0.96666667]),\n",
              " 'split1_test_score': array([0.93333333, 0.96666667, 0.96666667, 1.        , 1.        ,\n",
              "        1.        ]),\n",
              " 'split2_test_score': array([0.93333333, 0.93333333, 0.96666667, 0.93333333, 0.96666667,\n",
              "        0.96666667]),\n",
              " 'split3_test_score': array([0.9       , 0.96666667, 0.96666667, 0.96666667, 0.96666667,\n",
              "        0.96666667]),\n",
              " 'split4_test_score': array([1., 1., 1., 1., 1., 1.]),\n",
              " 'mean_test_score': array([0.94666667, 0.96666667, 0.97333333, 0.97333333, 0.98      ,\n",
              "        0.98      ]),\n",
              " 'std_test_score': array([0.03399346, 0.02108185, 0.01333333, 0.02494438, 0.01632993,\n",
              "        0.01632993]),\n",
              " 'rank_test_score': array([6, 5, 3, 3, 1, 1], dtype=int32)}"
            ]
          },
          "metadata": {},
          "execution_count": 54
        }
      ],
      "source": [
        "# grid search한 결과를 총 정리해준다.\n",
        "grid.cv_results_"
      ]
    },
    {
      "cell_type": "code",
      "execution_count": null,
      "metadata": {
        "id": "hZZMyzc-c6cA",
        "outputId": "f8cf5d40-81d4-49a6-d547-1deb1a49a80a",
        "colab": {
          "base_uri": "https://localhost:8080/",
          "height": 488
        }
      },
      "outputs": [
        {
          "output_type": "execute_result",
          "data": {
            "text/plain": [
              "                                    0                   1                   2  \\\n",
              "mean_fit_time                0.001904            0.001596            0.001414   \n",
              "std_fit_time                 0.000488            0.000223            0.000096   \n",
              "mean_score_time              0.002662            0.002418            0.002257   \n",
              "std_score_time               0.000605            0.000126            0.000067   \n",
              "param_n_neighbors                   2                   3                   4   \n",
              "params             {'n_neighbors': 2}  {'n_neighbors': 3}  {'n_neighbors': 4}   \n",
              "split0_test_score            0.966667            0.966667            0.966667   \n",
              "split1_test_score            0.933333            0.966667            0.966667   \n",
              "split2_test_score            0.933333            0.933333            0.966667   \n",
              "split3_test_score                 0.9            0.966667            0.966667   \n",
              "split4_test_score                 1.0                 1.0                 1.0   \n",
              "mean_test_score              0.946667            0.966667            0.973333   \n",
              "std_test_score               0.033993            0.021082            0.013333   \n",
              "rank_test_score                     6                   5                   3   \n",
              "\n",
              "                                    3                   4                   5  \n",
              "mean_fit_time                0.001452            0.001404            0.001393  \n",
              "std_fit_time                  0.00008            0.000014            0.000049  \n",
              "mean_score_time               0.00224            0.002285            0.002368  \n",
              "std_score_time               0.000044            0.000057            0.000167  \n",
              "param_n_neighbors                   5                   6                   7  \n",
              "params             {'n_neighbors': 5}  {'n_neighbors': 6}  {'n_neighbors': 7}  \n",
              "split0_test_score            0.966667            0.966667            0.966667  \n",
              "split1_test_score                 1.0                 1.0                 1.0  \n",
              "split2_test_score            0.933333            0.966667            0.966667  \n",
              "split3_test_score            0.966667            0.966667            0.966667  \n",
              "split4_test_score                 1.0                 1.0                 1.0  \n",
              "mean_test_score              0.973333                0.98                0.98  \n",
              "std_test_score               0.024944             0.01633             0.01633  \n",
              "rank_test_score                     3                   1                   1  "
            ],
            "text/html": [
              "\n",
              "  <div id=\"df-7e952cf1-5628-457d-b42a-4f806b4d91d3\">\n",
              "    <div class=\"colab-df-container\">\n",
              "      <div>\n",
              "<style scoped>\n",
              "    .dataframe tbody tr th:only-of-type {\n",
              "        vertical-align: middle;\n",
              "    }\n",
              "\n",
              "    .dataframe tbody tr th {\n",
              "        vertical-align: top;\n",
              "    }\n",
              "\n",
              "    .dataframe thead th {\n",
              "        text-align: right;\n",
              "    }\n",
              "</style>\n",
              "<table border=\"1\" class=\"dataframe\">\n",
              "  <thead>\n",
              "    <tr style=\"text-align: right;\">\n",
              "      <th></th>\n",
              "      <th>0</th>\n",
              "      <th>1</th>\n",
              "      <th>2</th>\n",
              "      <th>3</th>\n",
              "      <th>4</th>\n",
              "      <th>5</th>\n",
              "    </tr>\n",
              "  </thead>\n",
              "  <tbody>\n",
              "    <tr>\n",
              "      <th>mean_fit_time</th>\n",
              "      <td>0.001904</td>\n",
              "      <td>0.001596</td>\n",
              "      <td>0.001414</td>\n",
              "      <td>0.001452</td>\n",
              "      <td>0.001404</td>\n",
              "      <td>0.001393</td>\n",
              "    </tr>\n",
              "    <tr>\n",
              "      <th>std_fit_time</th>\n",
              "      <td>0.000488</td>\n",
              "      <td>0.000223</td>\n",
              "      <td>0.000096</td>\n",
              "      <td>0.00008</td>\n",
              "      <td>0.000014</td>\n",
              "      <td>0.000049</td>\n",
              "    </tr>\n",
              "    <tr>\n",
              "      <th>mean_score_time</th>\n",
              "      <td>0.002662</td>\n",
              "      <td>0.002418</td>\n",
              "      <td>0.002257</td>\n",
              "      <td>0.00224</td>\n",
              "      <td>0.002285</td>\n",
              "      <td>0.002368</td>\n",
              "    </tr>\n",
              "    <tr>\n",
              "      <th>std_score_time</th>\n",
              "      <td>0.000605</td>\n",
              "      <td>0.000126</td>\n",
              "      <td>0.000067</td>\n",
              "      <td>0.000044</td>\n",
              "      <td>0.000057</td>\n",
              "      <td>0.000167</td>\n",
              "    </tr>\n",
              "    <tr>\n",
              "      <th>param_n_neighbors</th>\n",
              "      <td>2</td>\n",
              "      <td>3</td>\n",
              "      <td>4</td>\n",
              "      <td>5</td>\n",
              "      <td>6</td>\n",
              "      <td>7</td>\n",
              "    </tr>\n",
              "    <tr>\n",
              "      <th>params</th>\n",
              "      <td>{'n_neighbors': 2}</td>\n",
              "      <td>{'n_neighbors': 3}</td>\n",
              "      <td>{'n_neighbors': 4}</td>\n",
              "      <td>{'n_neighbors': 5}</td>\n",
              "      <td>{'n_neighbors': 6}</td>\n",
              "      <td>{'n_neighbors': 7}</td>\n",
              "    </tr>\n",
              "    <tr>\n",
              "      <th>split0_test_score</th>\n",
              "      <td>0.966667</td>\n",
              "      <td>0.966667</td>\n",
              "      <td>0.966667</td>\n",
              "      <td>0.966667</td>\n",
              "      <td>0.966667</td>\n",
              "      <td>0.966667</td>\n",
              "    </tr>\n",
              "    <tr>\n",
              "      <th>split1_test_score</th>\n",
              "      <td>0.933333</td>\n",
              "      <td>0.966667</td>\n",
              "      <td>0.966667</td>\n",
              "      <td>1.0</td>\n",
              "      <td>1.0</td>\n",
              "      <td>1.0</td>\n",
              "    </tr>\n",
              "    <tr>\n",
              "      <th>split2_test_score</th>\n",
              "      <td>0.933333</td>\n",
              "      <td>0.933333</td>\n",
              "      <td>0.966667</td>\n",
              "      <td>0.933333</td>\n",
              "      <td>0.966667</td>\n",
              "      <td>0.966667</td>\n",
              "    </tr>\n",
              "    <tr>\n",
              "      <th>split3_test_score</th>\n",
              "      <td>0.9</td>\n",
              "      <td>0.966667</td>\n",
              "      <td>0.966667</td>\n",
              "      <td>0.966667</td>\n",
              "      <td>0.966667</td>\n",
              "      <td>0.966667</td>\n",
              "    </tr>\n",
              "    <tr>\n",
              "      <th>split4_test_score</th>\n",
              "      <td>1.0</td>\n",
              "      <td>1.0</td>\n",
              "      <td>1.0</td>\n",
              "      <td>1.0</td>\n",
              "      <td>1.0</td>\n",
              "      <td>1.0</td>\n",
              "    </tr>\n",
              "    <tr>\n",
              "      <th>mean_test_score</th>\n",
              "      <td>0.946667</td>\n",
              "      <td>0.966667</td>\n",
              "      <td>0.973333</td>\n",
              "      <td>0.973333</td>\n",
              "      <td>0.98</td>\n",
              "      <td>0.98</td>\n",
              "    </tr>\n",
              "    <tr>\n",
              "      <th>std_test_score</th>\n",
              "      <td>0.033993</td>\n",
              "      <td>0.021082</td>\n",
              "      <td>0.013333</td>\n",
              "      <td>0.024944</td>\n",
              "      <td>0.01633</td>\n",
              "      <td>0.01633</td>\n",
              "    </tr>\n",
              "    <tr>\n",
              "      <th>rank_test_score</th>\n",
              "      <td>6</td>\n",
              "      <td>5</td>\n",
              "      <td>3</td>\n",
              "      <td>3</td>\n",
              "      <td>1</td>\n",
              "      <td>1</td>\n",
              "    </tr>\n",
              "  </tbody>\n",
              "</table>\n",
              "</div>\n",
              "      <button class=\"colab-df-convert\" onclick=\"convertToInteractive('df-7e952cf1-5628-457d-b42a-4f806b4d91d3')\"\n",
              "              title=\"Convert this dataframe to an interactive table.\"\n",
              "              style=\"display:none;\">\n",
              "        \n",
              "  <svg xmlns=\"http://www.w3.org/2000/svg\" height=\"24px\"viewBox=\"0 0 24 24\"\n",
              "       width=\"24px\">\n",
              "    <path d=\"M0 0h24v24H0V0z\" fill=\"none\"/>\n",
              "    <path d=\"M18.56 5.44l.94 2.06.94-2.06 2.06-.94-2.06-.94-.94-2.06-.94 2.06-2.06.94zm-11 1L8.5 8.5l.94-2.06 2.06-.94-2.06-.94L8.5 2.5l-.94 2.06-2.06.94zm10 10l.94 2.06.94-2.06 2.06-.94-2.06-.94-.94-2.06-.94 2.06-2.06.94z\"/><path d=\"M17.41 7.96l-1.37-1.37c-.4-.4-.92-.59-1.43-.59-.52 0-1.04.2-1.43.59L10.3 9.45l-7.72 7.72c-.78.78-.78 2.05 0 2.83L4 21.41c.39.39.9.59 1.41.59.51 0 1.02-.2 1.41-.59l7.78-7.78 2.81-2.81c.8-.78.8-2.07 0-2.86zM5.41 20L4 18.59l7.72-7.72 1.47 1.35L5.41 20z\"/>\n",
              "  </svg>\n",
              "      </button>\n",
              "      \n",
              "  <style>\n",
              "    .colab-df-container {\n",
              "      display:flex;\n",
              "      flex-wrap:wrap;\n",
              "      gap: 12px;\n",
              "    }\n",
              "\n",
              "    .colab-df-convert {\n",
              "      background-color: #E8F0FE;\n",
              "      border: none;\n",
              "      border-radius: 50%;\n",
              "      cursor: pointer;\n",
              "      display: none;\n",
              "      fill: #1967D2;\n",
              "      height: 32px;\n",
              "      padding: 0 0 0 0;\n",
              "      width: 32px;\n",
              "    }\n",
              "\n",
              "    .colab-df-convert:hover {\n",
              "      background-color: #E2EBFA;\n",
              "      box-shadow: 0px 1px 2px rgba(60, 64, 67, 0.3), 0px 1px 3px 1px rgba(60, 64, 67, 0.15);\n",
              "      fill: #174EA6;\n",
              "    }\n",
              "\n",
              "    [theme=dark] .colab-df-convert {\n",
              "      background-color: #3B4455;\n",
              "      fill: #D2E3FC;\n",
              "    }\n",
              "\n",
              "    [theme=dark] .colab-df-convert:hover {\n",
              "      background-color: #434B5C;\n",
              "      box-shadow: 0px 1px 3px 1px rgba(0, 0, 0, 0.15);\n",
              "      filter: drop-shadow(0px 1px 2px rgba(0, 0, 0, 0.3));\n",
              "      fill: #FFFFFF;\n",
              "    }\n",
              "  </style>\n",
              "\n",
              "      <script>\n",
              "        const buttonEl =\n",
              "          document.querySelector('#df-7e952cf1-5628-457d-b42a-4f806b4d91d3 button.colab-df-convert');\n",
              "        buttonEl.style.display =\n",
              "          google.colab.kernel.accessAllowed ? 'block' : 'none';\n",
              "\n",
              "        async function convertToInteractive(key) {\n",
              "          const element = document.querySelector('#df-7e952cf1-5628-457d-b42a-4f806b4d91d3');\n",
              "          const dataTable =\n",
              "            await google.colab.kernel.invokeFunction('convertToInteractive',\n",
              "                                                     [key], {});\n",
              "          if (!dataTable) return;\n",
              "\n",
              "          const docLinkHtml = 'Like what you see? Visit the ' +\n",
              "            '<a target=\"_blank\" href=https://colab.research.google.com/notebooks/data_table.ipynb>data table notebook</a>'\n",
              "            + ' to learn more about interactive tables.';\n",
              "          element.innerHTML = '';\n",
              "          dataTable['output_type'] = 'display_data';\n",
              "          await google.colab.output.renderOutput(dataTable, element);\n",
              "          const docLink = document.createElement('div');\n",
              "          docLink.innerHTML = docLinkHtml;\n",
              "          element.appendChild(docLink);\n",
              "        }\n",
              "      </script>\n",
              "    </div>\n",
              "  </div>\n",
              "  "
            ]
          },
          "metadata": {},
          "execution_count": 55
        }
      ],
      "source": [
        "# pandas로 만들면 보기 쉽다.\n",
        "# column이 너무 많을때는 전치(T)해서 보면 편하다.(행렬을 바꿔서)\n",
        "pd.DataFrame(grid.cv_results_).T"
      ]
    },
    {
      "cell_type": "code",
      "execution_count": null,
      "metadata": {
        "id": "6wsYK1csc6cA"
      },
      "outputs": [],
      "source": [
        "# 하이퍼 파라미터를 여러개 한번에 찾을 수 있다.\n",
        "grid = GridSearchCV(KNeighborsClassifier(), {'n_neighbors':[2,3,4,5,6,7],        #6\n",
        "                                            'weights':['distance', 'uniform']})  #각각 2가지 방법으로 적용 = 12번 돌아감"
      ]
    },
    {
      "cell_type": "code",
      "execution_count": null,
      "metadata": {
        "id": "NIrL-xeRc6cA",
        "outputId": "12b3656b-5250-4caf-8dba-dcde17b33cb2",
        "colab": {
          "base_uri": "https://localhost:8080/",
          "height": 117
        }
      },
      "outputs": [
        {
          "output_type": "execute_result",
          "data": {
            "text/plain": [
              "GridSearchCV(estimator=KNeighborsClassifier(),\n",
              "             param_grid={'n_neighbors': [2, 3, 4, 5, 6, 7],\n",
              "                         'weights': ['distance', 'uniform']})"
            ],
            "text/html": [
              "<style>#sk-container-id-5 {color: black;background-color: white;}#sk-container-id-5 pre{padding: 0;}#sk-container-id-5 div.sk-toggleable {background-color: white;}#sk-container-id-5 label.sk-toggleable__label {cursor: pointer;display: block;width: 100%;margin-bottom: 0;padding: 0.3em;box-sizing: border-box;text-align: center;}#sk-container-id-5 label.sk-toggleable__label-arrow:before {content: \"▸\";float: left;margin-right: 0.25em;color: #696969;}#sk-container-id-5 label.sk-toggleable__label-arrow:hover:before {color: black;}#sk-container-id-5 div.sk-estimator:hover label.sk-toggleable__label-arrow:before {color: black;}#sk-container-id-5 div.sk-toggleable__content {max-height: 0;max-width: 0;overflow: hidden;text-align: left;background-color: #f0f8ff;}#sk-container-id-5 div.sk-toggleable__content pre {margin: 0.2em;color: black;border-radius: 0.25em;background-color: #f0f8ff;}#sk-container-id-5 input.sk-toggleable__control:checked~div.sk-toggleable__content {max-height: 200px;max-width: 100%;overflow: auto;}#sk-container-id-5 input.sk-toggleable__control:checked~label.sk-toggleable__label-arrow:before {content: \"▾\";}#sk-container-id-5 div.sk-estimator input.sk-toggleable__control:checked~label.sk-toggleable__label {background-color: #d4ebff;}#sk-container-id-5 div.sk-label input.sk-toggleable__control:checked~label.sk-toggleable__label {background-color: #d4ebff;}#sk-container-id-5 input.sk-hidden--visually {border: 0;clip: rect(1px 1px 1px 1px);clip: rect(1px, 1px, 1px, 1px);height: 1px;margin: -1px;overflow: hidden;padding: 0;position: absolute;width: 1px;}#sk-container-id-5 div.sk-estimator {font-family: monospace;background-color: #f0f8ff;border: 1px dotted black;border-radius: 0.25em;box-sizing: border-box;margin-bottom: 0.5em;}#sk-container-id-5 div.sk-estimator:hover {background-color: #d4ebff;}#sk-container-id-5 div.sk-parallel-item::after {content: \"\";width: 100%;border-bottom: 1px solid gray;flex-grow: 1;}#sk-container-id-5 div.sk-label:hover label.sk-toggleable__label {background-color: #d4ebff;}#sk-container-id-5 div.sk-serial::before {content: \"\";position: absolute;border-left: 1px solid gray;box-sizing: border-box;top: 0;bottom: 0;left: 50%;z-index: 0;}#sk-container-id-5 div.sk-serial {display: flex;flex-direction: column;align-items: center;background-color: white;padding-right: 0.2em;padding-left: 0.2em;position: relative;}#sk-container-id-5 div.sk-item {position: relative;z-index: 1;}#sk-container-id-5 div.sk-parallel {display: flex;align-items: stretch;justify-content: center;background-color: white;position: relative;}#sk-container-id-5 div.sk-item::before, #sk-container-id-5 div.sk-parallel-item::before {content: \"\";position: absolute;border-left: 1px solid gray;box-sizing: border-box;top: 0;bottom: 0;left: 50%;z-index: -1;}#sk-container-id-5 div.sk-parallel-item {display: flex;flex-direction: column;z-index: 1;position: relative;background-color: white;}#sk-container-id-5 div.sk-parallel-item:first-child::after {align-self: flex-end;width: 50%;}#sk-container-id-5 div.sk-parallel-item:last-child::after {align-self: flex-start;width: 50%;}#sk-container-id-5 div.sk-parallel-item:only-child::after {width: 0;}#sk-container-id-5 div.sk-dashed-wrapped {border: 1px dashed gray;margin: 0 0.4em 0.5em 0.4em;box-sizing: border-box;padding-bottom: 0.4em;background-color: white;}#sk-container-id-5 div.sk-label label {font-family: monospace;font-weight: bold;display: inline-block;line-height: 1.2em;}#sk-container-id-5 div.sk-label-container {text-align: center;}#sk-container-id-5 div.sk-container {/* jupyter's `normalize.less` sets `[hidden] { display: none; }` but bootstrap.min.css set `[hidden] { display: none !important; }` so we also need the `!important` here to be able to override the default hidden behavior on the sphinx rendered scikit-learn.org. See: https://github.com/scikit-learn/scikit-learn/issues/21755 */display: inline-block !important;position: relative;}#sk-container-id-5 div.sk-text-repr-fallback {display: none;}</style><div id=\"sk-container-id-5\" class=\"sk-top-container\"><div class=\"sk-text-repr-fallback\"><pre>GridSearchCV(estimator=KNeighborsClassifier(),\n",
              "             param_grid={&#x27;n_neighbors&#x27;: [2, 3, 4, 5, 6, 7],\n",
              "                         &#x27;weights&#x27;: [&#x27;distance&#x27;, &#x27;uniform&#x27;]})</pre><b>In a Jupyter environment, please rerun this cell to show the HTML representation or trust the notebook. <br />On GitHub, the HTML representation is unable to render, please try loading this page with nbviewer.org.</b></div><div class=\"sk-container\" hidden><div class=\"sk-item sk-dashed-wrapped\"><div class=\"sk-label-container\"><div class=\"sk-label sk-toggleable\"><input class=\"sk-toggleable__control sk-hidden--visually\" id=\"sk-estimator-id-7\" type=\"checkbox\" ><label for=\"sk-estimator-id-7\" class=\"sk-toggleable__label sk-toggleable__label-arrow\">GridSearchCV</label><div class=\"sk-toggleable__content\"><pre>GridSearchCV(estimator=KNeighborsClassifier(),\n",
              "             param_grid={&#x27;n_neighbors&#x27;: [2, 3, 4, 5, 6, 7],\n",
              "                         &#x27;weights&#x27;: [&#x27;distance&#x27;, &#x27;uniform&#x27;]})</pre></div></div></div><div class=\"sk-parallel\"><div class=\"sk-parallel-item\"><div class=\"sk-item\"><div class=\"sk-label-container\"><div class=\"sk-label sk-toggleable\"><input class=\"sk-toggleable__control sk-hidden--visually\" id=\"sk-estimator-id-8\" type=\"checkbox\" ><label for=\"sk-estimator-id-8\" class=\"sk-toggleable__label sk-toggleable__label-arrow\">estimator: KNeighborsClassifier</label><div class=\"sk-toggleable__content\"><pre>KNeighborsClassifier()</pre></div></div></div><div class=\"sk-serial\"><div class=\"sk-item\"><div class=\"sk-estimator sk-toggleable\"><input class=\"sk-toggleable__control sk-hidden--visually\" id=\"sk-estimator-id-9\" type=\"checkbox\" ><label for=\"sk-estimator-id-9\" class=\"sk-toggleable__label sk-toggleable__label-arrow\">KNeighborsClassifier</label><div class=\"sk-toggleable__content\"><pre>KNeighborsClassifier()</pre></div></div></div></div></div></div></div></div></div></div>"
            ]
          },
          "metadata": {},
          "execution_count": 57
        }
      ],
      "source": [
        "grid.fit(iris.iloc[:, :-1], iris.target)"
      ]
    },
    {
      "cell_type": "code",
      "execution_count": null,
      "metadata": {
        "id": "Ah5aen0Fc6cA",
        "outputId": "2f445d45-0124-4e4e-8da5-fdb5a8fe85c7",
        "colab": {
          "base_uri": "https://localhost:8080/",
          "height": 598
        }
      },
      "outputs": [
        {
          "output_type": "execute_result",
          "data": {
            "text/plain": [
              "                                                          0   \\\n",
              "mean_fit_time                                       0.002617   \n",
              "std_fit_time                                        0.000541   \n",
              "mean_score_time                                     0.002553   \n",
              "std_score_time                                      0.000833   \n",
              "param_n_neighbors                                          2   \n",
              "param_weights                                       distance   \n",
              "params             {'n_neighbors': 2, 'weights': 'distance'}   \n",
              "split0_test_score                                   0.966667   \n",
              "split1_test_score                                   0.966667   \n",
              "split2_test_score                                   0.933333   \n",
              "split3_test_score                                   0.933333   \n",
              "split4_test_score                                        1.0   \n",
              "mean_test_score                                         0.96   \n",
              "std_test_score                                      0.024944   \n",
              "rank_test_score                                           11   \n",
              "\n",
              "                                                         1   \\\n",
              "mean_fit_time                                       0.00169   \n",
              "std_fit_time                                       0.000199   \n",
              "mean_score_time                                    0.002849   \n",
              "std_score_time                                     0.000464   \n",
              "param_n_neighbors                                         2   \n",
              "param_weights                                       uniform   \n",
              "params             {'n_neighbors': 2, 'weights': 'uniform'}   \n",
              "split0_test_score                                  0.966667   \n",
              "split1_test_score                                  0.933333   \n",
              "split2_test_score                                  0.933333   \n",
              "split3_test_score                                       0.9   \n",
              "split4_test_score                                       1.0   \n",
              "mean_test_score                                    0.946667   \n",
              "std_test_score                                     0.033993   \n",
              "rank_test_score                                          12   \n",
              "\n",
              "                                                          2   \\\n",
              "mean_fit_time                                       0.001547   \n",
              "std_fit_time                                        0.000043   \n",
              "mean_score_time                                     0.001939   \n",
              "std_score_time                                       0.00021   \n",
              "param_n_neighbors                                          3   \n",
              "param_weights                                       distance   \n",
              "params             {'n_neighbors': 3, 'weights': 'distance'}   \n",
              "split0_test_score                                   0.966667   \n",
              "split1_test_score                                   0.966667   \n",
              "split2_test_score                                   0.933333   \n",
              "split3_test_score                                   0.966667   \n",
              "split4_test_score                                        1.0   \n",
              "mean_test_score                                     0.966667   \n",
              "std_test_score                                      0.021082   \n",
              "rank_test_score                                            7   \n",
              "\n",
              "                                                         3   \\\n",
              "mean_fit_time                                      0.001604   \n",
              "std_fit_time                                       0.000062   \n",
              "mean_score_time                                    0.002489   \n",
              "std_score_time                                     0.000094   \n",
              "param_n_neighbors                                         3   \n",
              "param_weights                                       uniform   \n",
              "params             {'n_neighbors': 3, 'weights': 'uniform'}   \n",
              "split0_test_score                                  0.966667   \n",
              "split1_test_score                                  0.966667   \n",
              "split2_test_score                                  0.933333   \n",
              "split3_test_score                                  0.966667   \n",
              "split4_test_score                                       1.0   \n",
              "mean_test_score                                    0.966667   \n",
              "std_test_score                                     0.021082   \n",
              "rank_test_score                                           7   \n",
              "\n",
              "                                                          4   \\\n",
              "mean_fit_time                                       0.001661   \n",
              "std_fit_time                                        0.000243   \n",
              "mean_score_time                                     0.001854   \n",
              "std_score_time                                      0.000182   \n",
              "param_n_neighbors                                          4   \n",
              "param_weights                                       distance   \n",
              "params             {'n_neighbors': 4, 'weights': 'distance'}   \n",
              "split0_test_score                                   0.966667   \n",
              "split1_test_score                                   0.966667   \n",
              "split2_test_score                                   0.933333   \n",
              "split3_test_score                                   0.966667   \n",
              "split4_test_score                                        1.0   \n",
              "mean_test_score                                     0.966667   \n",
              "std_test_score                                      0.021082   \n",
              "rank_test_score                                            7   \n",
              "\n",
              "                                                         5   \\\n",
              "mean_fit_time                                      0.002074   \n",
              "std_fit_time                                       0.000689   \n",
              "mean_score_time                                    0.003033   \n",
              "std_score_time                                     0.000737   \n",
              "param_n_neighbors                                         4   \n",
              "param_weights                                       uniform   \n",
              "params             {'n_neighbors': 4, 'weights': 'uniform'}   \n",
              "split0_test_score                                  0.966667   \n",
              "split1_test_score                                  0.966667   \n",
              "split2_test_score                                  0.966667   \n",
              "split3_test_score                                  0.966667   \n",
              "split4_test_score                                       1.0   \n",
              "mean_test_score                                    0.973333   \n",
              "std_test_score                                     0.013333   \n",
              "rank_test_score                                           5   \n",
              "\n",
              "                                                          6   \\\n",
              "mean_fit_time                                       0.002388   \n",
              "std_fit_time                                         0.00036   \n",
              "mean_score_time                                     0.002692   \n",
              "std_score_time                                      0.000402   \n",
              "param_n_neighbors                                          5   \n",
              "param_weights                                       distance   \n",
              "params             {'n_neighbors': 5, 'weights': 'distance'}   \n",
              "split0_test_score                                   0.966667   \n",
              "split1_test_score                                        1.0   \n",
              "split2_test_score                                        0.9   \n",
              "split3_test_score                                   0.966667   \n",
              "split4_test_score                                        1.0   \n",
              "mean_test_score                                     0.966667   \n",
              "std_test_score                                      0.036515   \n",
              "rank_test_score                                            7   \n",
              "\n",
              "                                                         7   \\\n",
              "mean_fit_time                                      0.001963   \n",
              "std_fit_time                                       0.000204   \n",
              "mean_score_time                                    0.004809   \n",
              "std_score_time                                     0.000879   \n",
              "param_n_neighbors                                         5   \n",
              "param_weights                                       uniform   \n",
              "params             {'n_neighbors': 5, 'weights': 'uniform'}   \n",
              "split0_test_score                                  0.966667   \n",
              "split1_test_score                                       1.0   \n",
              "split2_test_score                                  0.933333   \n",
              "split3_test_score                                  0.966667   \n",
              "split4_test_score                                       1.0   \n",
              "mean_test_score                                    0.973333   \n",
              "std_test_score                                     0.024944   \n",
              "rank_test_score                                           5   \n",
              "\n",
              "                                                          8   \\\n",
              "mean_fit_time                                       0.002259   \n",
              "std_fit_time                                        0.000845   \n",
              "mean_score_time                                     0.002253   \n",
              "std_score_time                                      0.000667   \n",
              "param_n_neighbors                                          6   \n",
              "param_weights                                       distance   \n",
              "params             {'n_neighbors': 6, 'weights': 'distance'}   \n",
              "split0_test_score                                   0.966667   \n",
              "split1_test_score                                        1.0   \n",
              "split2_test_score                                   0.966667   \n",
              "split3_test_score                                   0.966667   \n",
              "split4_test_score                                        1.0   \n",
              "mean_test_score                                         0.98   \n",
              "std_test_score                                       0.01633   \n",
              "rank_test_score                                            1   \n",
              "\n",
              "                                                         9   \\\n",
              "mean_fit_time                                       0.00142   \n",
              "std_fit_time                                       0.000024   \n",
              "mean_score_time                                    0.002293   \n",
              "std_score_time                                     0.000033   \n",
              "param_n_neighbors                                         6   \n",
              "param_weights                                       uniform   \n",
              "params             {'n_neighbors': 6, 'weights': 'uniform'}   \n",
              "split0_test_score                                  0.966667   \n",
              "split1_test_score                                       1.0   \n",
              "split2_test_score                                  0.966667   \n",
              "split3_test_score                                  0.966667   \n",
              "split4_test_score                                       1.0   \n",
              "mean_test_score                                        0.98   \n",
              "std_test_score                                      0.01633   \n",
              "rank_test_score                                           1   \n",
              "\n",
              "                                                          10  \\\n",
              "mean_fit_time                                       0.001412   \n",
              "std_fit_time                                        0.000029   \n",
              "mean_score_time                                     0.001659   \n",
              "std_score_time                                      0.000028   \n",
              "param_n_neighbors                                          7   \n",
              "param_weights                                       distance   \n",
              "params             {'n_neighbors': 7, 'weights': 'distance'}   \n",
              "split0_test_score                                   0.966667   \n",
              "split1_test_score                                        1.0   \n",
              "split2_test_score                                   0.966667   \n",
              "split3_test_score                                   0.966667   \n",
              "split4_test_score                                        1.0   \n",
              "mean_test_score                                         0.98   \n",
              "std_test_score                                       0.01633   \n",
              "rank_test_score                                            1   \n",
              "\n",
              "                                                         11  \n",
              "mean_fit_time                                      0.001433  \n",
              "std_fit_time                                        0.00002  \n",
              "mean_score_time                                    0.002369  \n",
              "std_score_time                                       0.0001  \n",
              "param_n_neighbors                                         7  \n",
              "param_weights                                       uniform  \n",
              "params             {'n_neighbors': 7, 'weights': 'uniform'}  \n",
              "split0_test_score                                  0.966667  \n",
              "split1_test_score                                       1.0  \n",
              "split2_test_score                                  0.966667  \n",
              "split3_test_score                                  0.966667  \n",
              "split4_test_score                                       1.0  \n",
              "mean_test_score                                        0.98  \n",
              "std_test_score                                      0.01633  \n",
              "rank_test_score                                           1  "
            ],
            "text/html": [
              "\n",
              "  <div id=\"df-706fc99b-2845-4092-9f35-011e2853eebd\">\n",
              "    <div class=\"colab-df-container\">\n",
              "      <div>\n",
              "<style scoped>\n",
              "    .dataframe tbody tr th:only-of-type {\n",
              "        vertical-align: middle;\n",
              "    }\n",
              "\n",
              "    .dataframe tbody tr th {\n",
              "        vertical-align: top;\n",
              "    }\n",
              "\n",
              "    .dataframe thead th {\n",
              "        text-align: right;\n",
              "    }\n",
              "</style>\n",
              "<table border=\"1\" class=\"dataframe\">\n",
              "  <thead>\n",
              "    <tr style=\"text-align: right;\">\n",
              "      <th></th>\n",
              "      <th>0</th>\n",
              "      <th>1</th>\n",
              "      <th>2</th>\n",
              "      <th>3</th>\n",
              "      <th>4</th>\n",
              "      <th>5</th>\n",
              "      <th>6</th>\n",
              "      <th>7</th>\n",
              "      <th>8</th>\n",
              "      <th>9</th>\n",
              "      <th>10</th>\n",
              "      <th>11</th>\n",
              "    </tr>\n",
              "  </thead>\n",
              "  <tbody>\n",
              "    <tr>\n",
              "      <th>mean_fit_time</th>\n",
              "      <td>0.002617</td>\n",
              "      <td>0.00169</td>\n",
              "      <td>0.001547</td>\n",
              "      <td>0.001604</td>\n",
              "      <td>0.001661</td>\n",
              "      <td>0.002074</td>\n",
              "      <td>0.002388</td>\n",
              "      <td>0.001963</td>\n",
              "      <td>0.002259</td>\n",
              "      <td>0.00142</td>\n",
              "      <td>0.001412</td>\n",
              "      <td>0.001433</td>\n",
              "    </tr>\n",
              "    <tr>\n",
              "      <th>std_fit_time</th>\n",
              "      <td>0.000541</td>\n",
              "      <td>0.000199</td>\n",
              "      <td>0.000043</td>\n",
              "      <td>0.000062</td>\n",
              "      <td>0.000243</td>\n",
              "      <td>0.000689</td>\n",
              "      <td>0.00036</td>\n",
              "      <td>0.000204</td>\n",
              "      <td>0.000845</td>\n",
              "      <td>0.000024</td>\n",
              "      <td>0.000029</td>\n",
              "      <td>0.00002</td>\n",
              "    </tr>\n",
              "    <tr>\n",
              "      <th>mean_score_time</th>\n",
              "      <td>0.002553</td>\n",
              "      <td>0.002849</td>\n",
              "      <td>0.001939</td>\n",
              "      <td>0.002489</td>\n",
              "      <td>0.001854</td>\n",
              "      <td>0.003033</td>\n",
              "      <td>0.002692</td>\n",
              "      <td>0.004809</td>\n",
              "      <td>0.002253</td>\n",
              "      <td>0.002293</td>\n",
              "      <td>0.001659</td>\n",
              "      <td>0.002369</td>\n",
              "    </tr>\n",
              "    <tr>\n",
              "      <th>std_score_time</th>\n",
              "      <td>0.000833</td>\n",
              "      <td>0.000464</td>\n",
              "      <td>0.00021</td>\n",
              "      <td>0.000094</td>\n",
              "      <td>0.000182</td>\n",
              "      <td>0.000737</td>\n",
              "      <td>0.000402</td>\n",
              "      <td>0.000879</td>\n",
              "      <td>0.000667</td>\n",
              "      <td>0.000033</td>\n",
              "      <td>0.000028</td>\n",
              "      <td>0.0001</td>\n",
              "    </tr>\n",
              "    <tr>\n",
              "      <th>param_n_neighbors</th>\n",
              "      <td>2</td>\n",
              "      <td>2</td>\n",
              "      <td>3</td>\n",
              "      <td>3</td>\n",
              "      <td>4</td>\n",
              "      <td>4</td>\n",
              "      <td>5</td>\n",
              "      <td>5</td>\n",
              "      <td>6</td>\n",
              "      <td>6</td>\n",
              "      <td>7</td>\n",
              "      <td>7</td>\n",
              "    </tr>\n",
              "    <tr>\n",
              "      <th>param_weights</th>\n",
              "      <td>distance</td>\n",
              "      <td>uniform</td>\n",
              "      <td>distance</td>\n",
              "      <td>uniform</td>\n",
              "      <td>distance</td>\n",
              "      <td>uniform</td>\n",
              "      <td>distance</td>\n",
              "      <td>uniform</td>\n",
              "      <td>distance</td>\n",
              "      <td>uniform</td>\n",
              "      <td>distance</td>\n",
              "      <td>uniform</td>\n",
              "    </tr>\n",
              "    <tr>\n",
              "      <th>params</th>\n",
              "      <td>{'n_neighbors': 2, 'weights': 'distance'}</td>\n",
              "      <td>{'n_neighbors': 2, 'weights': 'uniform'}</td>\n",
              "      <td>{'n_neighbors': 3, 'weights': 'distance'}</td>\n",
              "      <td>{'n_neighbors': 3, 'weights': 'uniform'}</td>\n",
              "      <td>{'n_neighbors': 4, 'weights': 'distance'}</td>\n",
              "      <td>{'n_neighbors': 4, 'weights': 'uniform'}</td>\n",
              "      <td>{'n_neighbors': 5, 'weights': 'distance'}</td>\n",
              "      <td>{'n_neighbors': 5, 'weights': 'uniform'}</td>\n",
              "      <td>{'n_neighbors': 6, 'weights': 'distance'}</td>\n",
              "      <td>{'n_neighbors': 6, 'weights': 'uniform'}</td>\n",
              "      <td>{'n_neighbors': 7, 'weights': 'distance'}</td>\n",
              "      <td>{'n_neighbors': 7, 'weights': 'uniform'}</td>\n",
              "    </tr>\n",
              "    <tr>\n",
              "      <th>split0_test_score</th>\n",
              "      <td>0.966667</td>\n",
              "      <td>0.966667</td>\n",
              "      <td>0.966667</td>\n",
              "      <td>0.966667</td>\n",
              "      <td>0.966667</td>\n",
              "      <td>0.966667</td>\n",
              "      <td>0.966667</td>\n",
              "      <td>0.966667</td>\n",
              "      <td>0.966667</td>\n",
              "      <td>0.966667</td>\n",
              "      <td>0.966667</td>\n",
              "      <td>0.966667</td>\n",
              "    </tr>\n",
              "    <tr>\n",
              "      <th>split1_test_score</th>\n",
              "      <td>0.966667</td>\n",
              "      <td>0.933333</td>\n",
              "      <td>0.966667</td>\n",
              "      <td>0.966667</td>\n",
              "      <td>0.966667</td>\n",
              "      <td>0.966667</td>\n",
              "      <td>1.0</td>\n",
              "      <td>1.0</td>\n",
              "      <td>1.0</td>\n",
              "      <td>1.0</td>\n",
              "      <td>1.0</td>\n",
              "      <td>1.0</td>\n",
              "    </tr>\n",
              "    <tr>\n",
              "      <th>split2_test_score</th>\n",
              "      <td>0.933333</td>\n",
              "      <td>0.933333</td>\n",
              "      <td>0.933333</td>\n",
              "      <td>0.933333</td>\n",
              "      <td>0.933333</td>\n",
              "      <td>0.966667</td>\n",
              "      <td>0.9</td>\n",
              "      <td>0.933333</td>\n",
              "      <td>0.966667</td>\n",
              "      <td>0.966667</td>\n",
              "      <td>0.966667</td>\n",
              "      <td>0.966667</td>\n",
              "    </tr>\n",
              "    <tr>\n",
              "      <th>split3_test_score</th>\n",
              "      <td>0.933333</td>\n",
              "      <td>0.9</td>\n",
              "      <td>0.966667</td>\n",
              "      <td>0.966667</td>\n",
              "      <td>0.966667</td>\n",
              "      <td>0.966667</td>\n",
              "      <td>0.966667</td>\n",
              "      <td>0.966667</td>\n",
              "      <td>0.966667</td>\n",
              "      <td>0.966667</td>\n",
              "      <td>0.966667</td>\n",
              "      <td>0.966667</td>\n",
              "    </tr>\n",
              "    <tr>\n",
              "      <th>split4_test_score</th>\n",
              "      <td>1.0</td>\n",
              "      <td>1.0</td>\n",
              "      <td>1.0</td>\n",
              "      <td>1.0</td>\n",
              "      <td>1.0</td>\n",
              "      <td>1.0</td>\n",
              "      <td>1.0</td>\n",
              "      <td>1.0</td>\n",
              "      <td>1.0</td>\n",
              "      <td>1.0</td>\n",
              "      <td>1.0</td>\n",
              "      <td>1.0</td>\n",
              "    </tr>\n",
              "    <tr>\n",
              "      <th>mean_test_score</th>\n",
              "      <td>0.96</td>\n",
              "      <td>0.946667</td>\n",
              "      <td>0.966667</td>\n",
              "      <td>0.966667</td>\n",
              "      <td>0.966667</td>\n",
              "      <td>0.973333</td>\n",
              "      <td>0.966667</td>\n",
              "      <td>0.973333</td>\n",
              "      <td>0.98</td>\n",
              "      <td>0.98</td>\n",
              "      <td>0.98</td>\n",
              "      <td>0.98</td>\n",
              "    </tr>\n",
              "    <tr>\n",
              "      <th>std_test_score</th>\n",
              "      <td>0.024944</td>\n",
              "      <td>0.033993</td>\n",
              "      <td>0.021082</td>\n",
              "      <td>0.021082</td>\n",
              "      <td>0.021082</td>\n",
              "      <td>0.013333</td>\n",
              "      <td>0.036515</td>\n",
              "      <td>0.024944</td>\n",
              "      <td>0.01633</td>\n",
              "      <td>0.01633</td>\n",
              "      <td>0.01633</td>\n",
              "      <td>0.01633</td>\n",
              "    </tr>\n",
              "    <tr>\n",
              "      <th>rank_test_score</th>\n",
              "      <td>11</td>\n",
              "      <td>12</td>\n",
              "      <td>7</td>\n",
              "      <td>7</td>\n",
              "      <td>7</td>\n",
              "      <td>5</td>\n",
              "      <td>7</td>\n",
              "      <td>5</td>\n",
              "      <td>1</td>\n",
              "      <td>1</td>\n",
              "      <td>1</td>\n",
              "      <td>1</td>\n",
              "    </tr>\n",
              "  </tbody>\n",
              "</table>\n",
              "</div>\n",
              "      <button class=\"colab-df-convert\" onclick=\"convertToInteractive('df-706fc99b-2845-4092-9f35-011e2853eebd')\"\n",
              "              title=\"Convert this dataframe to an interactive table.\"\n",
              "              style=\"display:none;\">\n",
              "        \n",
              "  <svg xmlns=\"http://www.w3.org/2000/svg\" height=\"24px\"viewBox=\"0 0 24 24\"\n",
              "       width=\"24px\">\n",
              "    <path d=\"M0 0h24v24H0V0z\" fill=\"none\"/>\n",
              "    <path d=\"M18.56 5.44l.94 2.06.94-2.06 2.06-.94-2.06-.94-.94-2.06-.94 2.06-2.06.94zm-11 1L8.5 8.5l.94-2.06 2.06-.94-2.06-.94L8.5 2.5l-.94 2.06-2.06.94zm10 10l.94 2.06.94-2.06 2.06-.94-2.06-.94-.94-2.06-.94 2.06-2.06.94z\"/><path d=\"M17.41 7.96l-1.37-1.37c-.4-.4-.92-.59-1.43-.59-.52 0-1.04.2-1.43.59L10.3 9.45l-7.72 7.72c-.78.78-.78 2.05 0 2.83L4 21.41c.39.39.9.59 1.41.59.51 0 1.02-.2 1.41-.59l7.78-7.78 2.81-2.81c.8-.78.8-2.07 0-2.86zM5.41 20L4 18.59l7.72-7.72 1.47 1.35L5.41 20z\"/>\n",
              "  </svg>\n",
              "      </button>\n",
              "      \n",
              "  <style>\n",
              "    .colab-df-container {\n",
              "      display:flex;\n",
              "      flex-wrap:wrap;\n",
              "      gap: 12px;\n",
              "    }\n",
              "\n",
              "    .colab-df-convert {\n",
              "      background-color: #E8F0FE;\n",
              "      border: none;\n",
              "      border-radius: 50%;\n",
              "      cursor: pointer;\n",
              "      display: none;\n",
              "      fill: #1967D2;\n",
              "      height: 32px;\n",
              "      padding: 0 0 0 0;\n",
              "      width: 32px;\n",
              "    }\n",
              "\n",
              "    .colab-df-convert:hover {\n",
              "      background-color: #E2EBFA;\n",
              "      box-shadow: 0px 1px 2px rgba(60, 64, 67, 0.3), 0px 1px 3px 1px rgba(60, 64, 67, 0.15);\n",
              "      fill: #174EA6;\n",
              "    }\n",
              "\n",
              "    [theme=dark] .colab-df-convert {\n",
              "      background-color: #3B4455;\n",
              "      fill: #D2E3FC;\n",
              "    }\n",
              "\n",
              "    [theme=dark] .colab-df-convert:hover {\n",
              "      background-color: #434B5C;\n",
              "      box-shadow: 0px 1px 3px 1px rgba(0, 0, 0, 0.15);\n",
              "      filter: drop-shadow(0px 1px 2px rgba(0, 0, 0, 0.3));\n",
              "      fill: #FFFFFF;\n",
              "    }\n",
              "  </style>\n",
              "\n",
              "      <script>\n",
              "        const buttonEl =\n",
              "          document.querySelector('#df-706fc99b-2845-4092-9f35-011e2853eebd button.colab-df-convert');\n",
              "        buttonEl.style.display =\n",
              "          google.colab.kernel.accessAllowed ? 'block' : 'none';\n",
              "\n",
              "        async function convertToInteractive(key) {\n",
              "          const element = document.querySelector('#df-706fc99b-2845-4092-9f35-011e2853eebd');\n",
              "          const dataTable =\n",
              "            await google.colab.kernel.invokeFunction('convertToInteractive',\n",
              "                                                     [key], {});\n",
              "          if (!dataTable) return;\n",
              "\n",
              "          const docLinkHtml = 'Like what you see? Visit the ' +\n",
              "            '<a target=\"_blank\" href=https://colab.research.google.com/notebooks/data_table.ipynb>data table notebook</a>'\n",
              "            + ' to learn more about interactive tables.';\n",
              "          element.innerHTML = '';\n",
              "          dataTable['output_type'] = 'display_data';\n",
              "          await google.colab.output.renderOutput(dataTable, element);\n",
              "          const docLink = document.createElement('div');\n",
              "          docLink.innerHTML = docLinkHtml;\n",
              "          element.appendChild(docLink);\n",
              "        }\n",
              "      </script>\n",
              "    </div>\n",
              "  </div>\n",
              "  "
            ]
          },
          "metadata": {},
          "execution_count": 58
        }
      ],
      "source": [
        "# params를 보면 입력된 하이퍼 파라미터들의 가능한 조합을 모두 계산했다. \n",
        "pd.DataFrame(grid.cv_results_).T"
      ]
    },
    {
      "cell_type": "markdown",
      "source": [
        "rank 12가 가능 낮은 성능, rank 1이 가장 좋은 성능"
      ],
      "metadata": {
        "id": "8dcHbsvcy2Zf"
      }
    },
    {
      "cell_type": "markdown",
      "metadata": {
        "id": "EWZc2Xmac6cB"
      },
      "source": [
        "## wine dataset"
      ]
    },
    {
      "cell_type": "code",
      "execution_count": null,
      "metadata": {
        "id": "JJIvh_SHc6cC"
      },
      "outputs": [],
      "source": [
        "from sklearn.datasets import load_wine"
      ]
    },
    {
      "cell_type": "code",
      "execution_count": null,
      "metadata": {
        "id": "zX8oFAYSc6cC"
      },
      "outputs": [],
      "source": [
        "data = load_wine()"
      ]
    },
    {
      "cell_type": "code",
      "execution_count": null,
      "metadata": {
        "id": "5MJEzQLac6cC"
      },
      "outputs": [],
      "source": [
        "data_pd = pd.DataFrame(data.data, columns=data.feature_names)\n",
        "data_pd['target'] = pd.DataFrame(data.target, columns=['target'])"
      ]
    },
    {
      "cell_type": "code",
      "execution_count": null,
      "metadata": {
        "id": "peACX7NVc6cC"
      },
      "outputs": [],
      "source": [
        "wine = data_pd.copy()"
      ]
    },
    {
      "cell_type": "code",
      "execution_count": null,
      "metadata": {
        "id": "FVgQEfwDc6cC",
        "outputId": "310fbef5-3f13-4a58-bd9b-3f0fcf72e9de",
        "colab": {
          "base_uri": "https://localhost:8080/",
          "height": 467
        }
      },
      "outputs": [
        {
          "output_type": "execute_result",
          "data": {
            "text/plain": [
              "     alcohol  malic_acid   ash  alcalinity_of_ash  magnesium  total_phenols  \\\n",
              "0      14.23        1.71  2.43               15.6      127.0           2.80   \n",
              "1      13.20        1.78  2.14               11.2      100.0           2.65   \n",
              "2      13.16        2.36  2.67               18.6      101.0           2.80   \n",
              "3      14.37        1.95  2.50               16.8      113.0           3.85   \n",
              "4      13.24        2.59  2.87               21.0      118.0           2.80   \n",
              "..       ...         ...   ...                ...        ...            ...   \n",
              "173    13.71        5.65  2.45               20.5       95.0           1.68   \n",
              "174    13.40        3.91  2.48               23.0      102.0           1.80   \n",
              "175    13.27        4.28  2.26               20.0      120.0           1.59   \n",
              "176    13.17        2.59  2.37               20.0      120.0           1.65   \n",
              "177    14.13        4.10  2.74               24.5       96.0           2.05   \n",
              "\n",
              "     flavanoids  nonflavanoid_phenols  proanthocyanins  color_intensity   hue  \\\n",
              "0          3.06                  0.28             2.29             5.64  1.04   \n",
              "1          2.76                  0.26             1.28             4.38  1.05   \n",
              "2          3.24                  0.30             2.81             5.68  1.03   \n",
              "3          3.49                  0.24             2.18             7.80  0.86   \n",
              "4          2.69                  0.39             1.82             4.32  1.04   \n",
              "..          ...                   ...              ...              ...   ...   \n",
              "173        0.61                  0.52             1.06             7.70  0.64   \n",
              "174        0.75                  0.43             1.41             7.30  0.70   \n",
              "175        0.69                  0.43             1.35            10.20  0.59   \n",
              "176        0.68                  0.53             1.46             9.30  0.60   \n",
              "177        0.76                  0.56             1.35             9.20  0.61   \n",
              "\n",
              "     od280/od315_of_diluted_wines  proline  target  \n",
              "0                            3.92   1065.0       0  \n",
              "1                            3.40   1050.0       0  \n",
              "2                            3.17   1185.0       0  \n",
              "3                            3.45   1480.0       0  \n",
              "4                            2.93    735.0       0  \n",
              "..                            ...      ...     ...  \n",
              "173                          1.74    740.0       2  \n",
              "174                          1.56    750.0       2  \n",
              "175                          1.56    835.0       2  \n",
              "176                          1.62    840.0       2  \n",
              "177                          1.60    560.0       2  \n",
              "\n",
              "[178 rows x 14 columns]"
            ],
            "text/html": [
              "\n",
              "  <div id=\"df-84a77a29-db46-4117-a806-1184e9a8e7a1\">\n",
              "    <div class=\"colab-df-container\">\n",
              "      <div>\n",
              "<style scoped>\n",
              "    .dataframe tbody tr th:only-of-type {\n",
              "        vertical-align: middle;\n",
              "    }\n",
              "\n",
              "    .dataframe tbody tr th {\n",
              "        vertical-align: top;\n",
              "    }\n",
              "\n",
              "    .dataframe thead th {\n",
              "        text-align: right;\n",
              "    }\n",
              "</style>\n",
              "<table border=\"1\" class=\"dataframe\">\n",
              "  <thead>\n",
              "    <tr style=\"text-align: right;\">\n",
              "      <th></th>\n",
              "      <th>alcohol</th>\n",
              "      <th>malic_acid</th>\n",
              "      <th>ash</th>\n",
              "      <th>alcalinity_of_ash</th>\n",
              "      <th>magnesium</th>\n",
              "      <th>total_phenols</th>\n",
              "      <th>flavanoids</th>\n",
              "      <th>nonflavanoid_phenols</th>\n",
              "      <th>proanthocyanins</th>\n",
              "      <th>color_intensity</th>\n",
              "      <th>hue</th>\n",
              "      <th>od280/od315_of_diluted_wines</th>\n",
              "      <th>proline</th>\n",
              "      <th>target</th>\n",
              "    </tr>\n",
              "  </thead>\n",
              "  <tbody>\n",
              "    <tr>\n",
              "      <th>0</th>\n",
              "      <td>14.23</td>\n",
              "      <td>1.71</td>\n",
              "      <td>2.43</td>\n",
              "      <td>15.6</td>\n",
              "      <td>127.0</td>\n",
              "      <td>2.80</td>\n",
              "      <td>3.06</td>\n",
              "      <td>0.28</td>\n",
              "      <td>2.29</td>\n",
              "      <td>5.64</td>\n",
              "      <td>1.04</td>\n",
              "      <td>3.92</td>\n",
              "      <td>1065.0</td>\n",
              "      <td>0</td>\n",
              "    </tr>\n",
              "    <tr>\n",
              "      <th>1</th>\n",
              "      <td>13.20</td>\n",
              "      <td>1.78</td>\n",
              "      <td>2.14</td>\n",
              "      <td>11.2</td>\n",
              "      <td>100.0</td>\n",
              "      <td>2.65</td>\n",
              "      <td>2.76</td>\n",
              "      <td>0.26</td>\n",
              "      <td>1.28</td>\n",
              "      <td>4.38</td>\n",
              "      <td>1.05</td>\n",
              "      <td>3.40</td>\n",
              "      <td>1050.0</td>\n",
              "      <td>0</td>\n",
              "    </tr>\n",
              "    <tr>\n",
              "      <th>2</th>\n",
              "      <td>13.16</td>\n",
              "      <td>2.36</td>\n",
              "      <td>2.67</td>\n",
              "      <td>18.6</td>\n",
              "      <td>101.0</td>\n",
              "      <td>2.80</td>\n",
              "      <td>3.24</td>\n",
              "      <td>0.30</td>\n",
              "      <td>2.81</td>\n",
              "      <td>5.68</td>\n",
              "      <td>1.03</td>\n",
              "      <td>3.17</td>\n",
              "      <td>1185.0</td>\n",
              "      <td>0</td>\n",
              "    </tr>\n",
              "    <tr>\n",
              "      <th>3</th>\n",
              "      <td>14.37</td>\n",
              "      <td>1.95</td>\n",
              "      <td>2.50</td>\n",
              "      <td>16.8</td>\n",
              "      <td>113.0</td>\n",
              "      <td>3.85</td>\n",
              "      <td>3.49</td>\n",
              "      <td>0.24</td>\n",
              "      <td>2.18</td>\n",
              "      <td>7.80</td>\n",
              "      <td>0.86</td>\n",
              "      <td>3.45</td>\n",
              "      <td>1480.0</td>\n",
              "      <td>0</td>\n",
              "    </tr>\n",
              "    <tr>\n",
              "      <th>4</th>\n",
              "      <td>13.24</td>\n",
              "      <td>2.59</td>\n",
              "      <td>2.87</td>\n",
              "      <td>21.0</td>\n",
              "      <td>118.0</td>\n",
              "      <td>2.80</td>\n",
              "      <td>2.69</td>\n",
              "      <td>0.39</td>\n",
              "      <td>1.82</td>\n",
              "      <td>4.32</td>\n",
              "      <td>1.04</td>\n",
              "      <td>2.93</td>\n",
              "      <td>735.0</td>\n",
              "      <td>0</td>\n",
              "    </tr>\n",
              "    <tr>\n",
              "      <th>...</th>\n",
              "      <td>...</td>\n",
              "      <td>...</td>\n",
              "      <td>...</td>\n",
              "      <td>...</td>\n",
              "      <td>...</td>\n",
              "      <td>...</td>\n",
              "      <td>...</td>\n",
              "      <td>...</td>\n",
              "      <td>...</td>\n",
              "      <td>...</td>\n",
              "      <td>...</td>\n",
              "      <td>...</td>\n",
              "      <td>...</td>\n",
              "      <td>...</td>\n",
              "    </tr>\n",
              "    <tr>\n",
              "      <th>173</th>\n",
              "      <td>13.71</td>\n",
              "      <td>5.65</td>\n",
              "      <td>2.45</td>\n",
              "      <td>20.5</td>\n",
              "      <td>95.0</td>\n",
              "      <td>1.68</td>\n",
              "      <td>0.61</td>\n",
              "      <td>0.52</td>\n",
              "      <td>1.06</td>\n",
              "      <td>7.70</td>\n",
              "      <td>0.64</td>\n",
              "      <td>1.74</td>\n",
              "      <td>740.0</td>\n",
              "      <td>2</td>\n",
              "    </tr>\n",
              "    <tr>\n",
              "      <th>174</th>\n",
              "      <td>13.40</td>\n",
              "      <td>3.91</td>\n",
              "      <td>2.48</td>\n",
              "      <td>23.0</td>\n",
              "      <td>102.0</td>\n",
              "      <td>1.80</td>\n",
              "      <td>0.75</td>\n",
              "      <td>0.43</td>\n",
              "      <td>1.41</td>\n",
              "      <td>7.30</td>\n",
              "      <td>0.70</td>\n",
              "      <td>1.56</td>\n",
              "      <td>750.0</td>\n",
              "      <td>2</td>\n",
              "    </tr>\n",
              "    <tr>\n",
              "      <th>175</th>\n",
              "      <td>13.27</td>\n",
              "      <td>4.28</td>\n",
              "      <td>2.26</td>\n",
              "      <td>20.0</td>\n",
              "      <td>120.0</td>\n",
              "      <td>1.59</td>\n",
              "      <td>0.69</td>\n",
              "      <td>0.43</td>\n",
              "      <td>1.35</td>\n",
              "      <td>10.20</td>\n",
              "      <td>0.59</td>\n",
              "      <td>1.56</td>\n",
              "      <td>835.0</td>\n",
              "      <td>2</td>\n",
              "    </tr>\n",
              "    <tr>\n",
              "      <th>176</th>\n",
              "      <td>13.17</td>\n",
              "      <td>2.59</td>\n",
              "      <td>2.37</td>\n",
              "      <td>20.0</td>\n",
              "      <td>120.0</td>\n",
              "      <td>1.65</td>\n",
              "      <td>0.68</td>\n",
              "      <td>0.53</td>\n",
              "      <td>1.46</td>\n",
              "      <td>9.30</td>\n",
              "      <td>0.60</td>\n",
              "      <td>1.62</td>\n",
              "      <td>840.0</td>\n",
              "      <td>2</td>\n",
              "    </tr>\n",
              "    <tr>\n",
              "      <th>177</th>\n",
              "      <td>14.13</td>\n",
              "      <td>4.10</td>\n",
              "      <td>2.74</td>\n",
              "      <td>24.5</td>\n",
              "      <td>96.0</td>\n",
              "      <td>2.05</td>\n",
              "      <td>0.76</td>\n",
              "      <td>0.56</td>\n",
              "      <td>1.35</td>\n",
              "      <td>9.20</td>\n",
              "      <td>0.61</td>\n",
              "      <td>1.60</td>\n",
              "      <td>560.0</td>\n",
              "      <td>2</td>\n",
              "    </tr>\n",
              "  </tbody>\n",
              "</table>\n",
              "<p>178 rows × 14 columns</p>\n",
              "</div>\n",
              "      <button class=\"colab-df-convert\" onclick=\"convertToInteractive('df-84a77a29-db46-4117-a806-1184e9a8e7a1')\"\n",
              "              title=\"Convert this dataframe to an interactive table.\"\n",
              "              style=\"display:none;\">\n",
              "        \n",
              "  <svg xmlns=\"http://www.w3.org/2000/svg\" height=\"24px\"viewBox=\"0 0 24 24\"\n",
              "       width=\"24px\">\n",
              "    <path d=\"M0 0h24v24H0V0z\" fill=\"none\"/>\n",
              "    <path d=\"M18.56 5.44l.94 2.06.94-2.06 2.06-.94-2.06-.94-.94-2.06-.94 2.06-2.06.94zm-11 1L8.5 8.5l.94-2.06 2.06-.94-2.06-.94L8.5 2.5l-.94 2.06-2.06.94zm10 10l.94 2.06.94-2.06 2.06-.94-2.06-.94-.94-2.06-.94 2.06-2.06.94z\"/><path d=\"M17.41 7.96l-1.37-1.37c-.4-.4-.92-.59-1.43-.59-.52 0-1.04.2-1.43.59L10.3 9.45l-7.72 7.72c-.78.78-.78 2.05 0 2.83L4 21.41c.39.39.9.59 1.41.59.51 0 1.02-.2 1.41-.59l7.78-7.78 2.81-2.81c.8-.78.8-2.07 0-2.86zM5.41 20L4 18.59l7.72-7.72 1.47 1.35L5.41 20z\"/>\n",
              "  </svg>\n",
              "      </button>\n",
              "      \n",
              "  <style>\n",
              "    .colab-df-container {\n",
              "      display:flex;\n",
              "      flex-wrap:wrap;\n",
              "      gap: 12px;\n",
              "    }\n",
              "\n",
              "    .colab-df-convert {\n",
              "      background-color: #E8F0FE;\n",
              "      border: none;\n",
              "      border-radius: 50%;\n",
              "      cursor: pointer;\n",
              "      display: none;\n",
              "      fill: #1967D2;\n",
              "      height: 32px;\n",
              "      padding: 0 0 0 0;\n",
              "      width: 32px;\n",
              "    }\n",
              "\n",
              "    .colab-df-convert:hover {\n",
              "      background-color: #E2EBFA;\n",
              "      box-shadow: 0px 1px 2px rgba(60, 64, 67, 0.3), 0px 1px 3px 1px rgba(60, 64, 67, 0.15);\n",
              "      fill: #174EA6;\n",
              "    }\n",
              "\n",
              "    [theme=dark] .colab-df-convert {\n",
              "      background-color: #3B4455;\n",
              "      fill: #D2E3FC;\n",
              "    }\n",
              "\n",
              "    [theme=dark] .colab-df-convert:hover {\n",
              "      background-color: #434B5C;\n",
              "      box-shadow: 0px 1px 3px 1px rgba(0, 0, 0, 0.15);\n",
              "      filter: drop-shadow(0px 1px 2px rgba(0, 0, 0, 0.3));\n",
              "      fill: #FFFFFF;\n",
              "    }\n",
              "  </style>\n",
              "\n",
              "      <script>\n",
              "        const buttonEl =\n",
              "          document.querySelector('#df-84a77a29-db46-4117-a806-1184e9a8e7a1 button.colab-df-convert');\n",
              "        buttonEl.style.display =\n",
              "          google.colab.kernel.accessAllowed ? 'block' : 'none';\n",
              "\n",
              "        async function convertToInteractive(key) {\n",
              "          const element = document.querySelector('#df-84a77a29-db46-4117-a806-1184e9a8e7a1');\n",
              "          const dataTable =\n",
              "            await google.colab.kernel.invokeFunction('convertToInteractive',\n",
              "                                                     [key], {});\n",
              "          if (!dataTable) return;\n",
              "\n",
              "          const docLinkHtml = 'Like what you see? Visit the ' +\n",
              "            '<a target=\"_blank\" href=https://colab.research.google.com/notebooks/data_table.ipynb>data table notebook</a>'\n",
              "            + ' to learn more about interactive tables.';\n",
              "          element.innerHTML = '';\n",
              "          dataTable['output_type'] = 'display_data';\n",
              "          await google.colab.output.renderOutput(dataTable, element);\n",
              "          const docLink = document.createElement('div');\n",
              "          docLink.innerHTML = docLinkHtml;\n",
              "          element.appendChild(docLink);\n",
              "        }\n",
              "      </script>\n",
              "    </div>\n",
              "  </div>\n",
              "  "
            ]
          },
          "metadata": {},
          "execution_count": 63
        }
      ],
      "source": [
        "wine"
      ]
    },
    {
      "cell_type": "code",
      "execution_count": null,
      "metadata": {
        "id": "_U-VZ0Qvc6cC",
        "outputId": "9946fc81-0900-4238-e638-f4d831cfd2e9",
        "colab": {
          "base_uri": "https://localhost:8080/"
        }
      },
      "outputs": [
        {
          "output_type": "stream",
          "name": "stdout",
          "text": [
            "<class 'pandas.core.frame.DataFrame'>\n",
            "RangeIndex: 178 entries, 0 to 177\n",
            "Data columns (total 14 columns):\n",
            " #   Column                        Non-Null Count  Dtype  \n",
            "---  ------                        --------------  -----  \n",
            " 0   alcohol                       178 non-null    float64\n",
            " 1   malic_acid                    178 non-null    float64\n",
            " 2   ash                           178 non-null    float64\n",
            " 3   alcalinity_of_ash             178 non-null    float64\n",
            " 4   magnesium                     178 non-null    float64\n",
            " 5   total_phenols                 178 non-null    float64\n",
            " 6   flavanoids                    178 non-null    float64\n",
            " 7   nonflavanoid_phenols          178 non-null    float64\n",
            " 8   proanthocyanins               178 non-null    float64\n",
            " 9   color_intensity               178 non-null    float64\n",
            " 10  hue                           178 non-null    float64\n",
            " 11  od280/od315_of_diluted_wines  178 non-null    float64\n",
            " 12  proline                       178 non-null    float64\n",
            " 13  target                        178 non-null    int64  \n",
            "dtypes: float64(13), int64(1)\n",
            "memory usage: 19.6 KB\n"
          ]
        }
      ],
      "source": [
        "wine.info()"
      ]
    },
    {
      "cell_type": "code",
      "execution_count": null,
      "metadata": {
        "id": "8Qac8sDBc6cD"
      },
      "outputs": [],
      "source": [
        "from sklearn.linear_model import LogisticRegression"
      ]
    },
    {
      "cell_type": "code",
      "execution_count": null,
      "metadata": {
        "id": "B4bqI5XKc6cD"
      },
      "outputs": [],
      "source": [
        "from sklearn.model_selection import GridSearchCV"
      ]
    },
    {
      "cell_type": "code",
      "execution_count": null,
      "metadata": {
        "id": "VdzykUYPc6cD"
      },
      "outputs": [],
      "source": [
        "# 전문 기업들은 전처리만 하고 나면, 자동화된 코드를 모두 만들어두었다.\n",
        "# 함수로 만들어두면 재사용이 가능하다.\n",
        "\n",
        "def all_models(X_train, y_train, X_validation, y_validation, cv=10):\n",
        "    ###################################################\n",
        "    # 1. Logistic Regression                          #\n",
        "    ###################################################\n",
        "    grid_lr = GridSearchCV(LogisticRegression(iter_max=4000), cv=cv)\n",
        "    grid.lr.fit(X_train, y_train)\n",
        "    lr_pd = pd.DataFrame(grid_lr.cv_results_)    \n",
        "    ###################################################\n",
        "    # 2. KNeighbors                                   #\n",
        "    ###################################################\n",
        "    grid_knn = GridSearchCV(KNeighborsClassifier(), cv=cv)\n",
        "    grid_knn.fit(X_train, y_train)\n",
        "    knn_pd = pd.DataFrame(grid_knn.cv_results_)\n",
        "    \n",
        "    return pd.concat([lr_pd, knn_pd], axis=1)"
      ]
    },
    {
      "cell_type": "markdown",
      "metadata": {
        "id": "joLp9jRIc6cD"
      },
      "source": [
        "### GridSearchCV 2"
      ]
    },
    {
      "cell_type": "code",
      "execution_count": null,
      "metadata": {
        "id": "oLsGKthEc6cD"
      },
      "outputs": [],
      "source": [
        "# param_grid는 dict 또는 dictionary로 된 list를 인자로 받을 수 있다. \n",
        "grid = GridSearchCV(KNeighborsClassifier(), [{'n_neighbors':[2,3,4,5],\n",
        "                                              'weights':['uniform', 'distance']}])"
      ]
    },
    {
      "cell_type": "code",
      "execution_count": null,
      "metadata": {
        "id": "C5MArxEfc6cE",
        "outputId": "7b88c72b-d16e-4bad-a432-93cffe8915be",
        "colab": {
          "base_uri": "https://localhost:8080/",
          "height": 117
        }
      },
      "outputs": [
        {
          "output_type": "execute_result",
          "data": {
            "text/plain": [
              "GridSearchCV(estimator=KNeighborsClassifier(),\n",
              "             param_grid=[{'n_neighbors': [2, 3, 4, 5],\n",
              "                          'weights': ['uniform', 'distance']}])"
            ],
            "text/html": [
              "<style>#sk-container-id-6 {color: black;background-color: white;}#sk-container-id-6 pre{padding: 0;}#sk-container-id-6 div.sk-toggleable {background-color: white;}#sk-container-id-6 label.sk-toggleable__label {cursor: pointer;display: block;width: 100%;margin-bottom: 0;padding: 0.3em;box-sizing: border-box;text-align: center;}#sk-container-id-6 label.sk-toggleable__label-arrow:before {content: \"▸\";float: left;margin-right: 0.25em;color: #696969;}#sk-container-id-6 label.sk-toggleable__label-arrow:hover:before {color: black;}#sk-container-id-6 div.sk-estimator:hover label.sk-toggleable__label-arrow:before {color: black;}#sk-container-id-6 div.sk-toggleable__content {max-height: 0;max-width: 0;overflow: hidden;text-align: left;background-color: #f0f8ff;}#sk-container-id-6 div.sk-toggleable__content pre {margin: 0.2em;color: black;border-radius: 0.25em;background-color: #f0f8ff;}#sk-container-id-6 input.sk-toggleable__control:checked~div.sk-toggleable__content {max-height: 200px;max-width: 100%;overflow: auto;}#sk-container-id-6 input.sk-toggleable__control:checked~label.sk-toggleable__label-arrow:before {content: \"▾\";}#sk-container-id-6 div.sk-estimator input.sk-toggleable__control:checked~label.sk-toggleable__label {background-color: #d4ebff;}#sk-container-id-6 div.sk-label input.sk-toggleable__control:checked~label.sk-toggleable__label {background-color: #d4ebff;}#sk-container-id-6 input.sk-hidden--visually {border: 0;clip: rect(1px 1px 1px 1px);clip: rect(1px, 1px, 1px, 1px);height: 1px;margin: -1px;overflow: hidden;padding: 0;position: absolute;width: 1px;}#sk-container-id-6 div.sk-estimator {font-family: monospace;background-color: #f0f8ff;border: 1px dotted black;border-radius: 0.25em;box-sizing: border-box;margin-bottom: 0.5em;}#sk-container-id-6 div.sk-estimator:hover {background-color: #d4ebff;}#sk-container-id-6 div.sk-parallel-item::after {content: \"\";width: 100%;border-bottom: 1px solid gray;flex-grow: 1;}#sk-container-id-6 div.sk-label:hover label.sk-toggleable__label {background-color: #d4ebff;}#sk-container-id-6 div.sk-serial::before {content: \"\";position: absolute;border-left: 1px solid gray;box-sizing: border-box;top: 0;bottom: 0;left: 50%;z-index: 0;}#sk-container-id-6 div.sk-serial {display: flex;flex-direction: column;align-items: center;background-color: white;padding-right: 0.2em;padding-left: 0.2em;position: relative;}#sk-container-id-6 div.sk-item {position: relative;z-index: 1;}#sk-container-id-6 div.sk-parallel {display: flex;align-items: stretch;justify-content: center;background-color: white;position: relative;}#sk-container-id-6 div.sk-item::before, #sk-container-id-6 div.sk-parallel-item::before {content: \"\";position: absolute;border-left: 1px solid gray;box-sizing: border-box;top: 0;bottom: 0;left: 50%;z-index: -1;}#sk-container-id-6 div.sk-parallel-item {display: flex;flex-direction: column;z-index: 1;position: relative;background-color: white;}#sk-container-id-6 div.sk-parallel-item:first-child::after {align-self: flex-end;width: 50%;}#sk-container-id-6 div.sk-parallel-item:last-child::after {align-self: flex-start;width: 50%;}#sk-container-id-6 div.sk-parallel-item:only-child::after {width: 0;}#sk-container-id-6 div.sk-dashed-wrapped {border: 1px dashed gray;margin: 0 0.4em 0.5em 0.4em;box-sizing: border-box;padding-bottom: 0.4em;background-color: white;}#sk-container-id-6 div.sk-label label {font-family: monospace;font-weight: bold;display: inline-block;line-height: 1.2em;}#sk-container-id-6 div.sk-label-container {text-align: center;}#sk-container-id-6 div.sk-container {/* jupyter's `normalize.less` sets `[hidden] { display: none; }` but bootstrap.min.css set `[hidden] { display: none !important; }` so we also need the `!important` here to be able to override the default hidden behavior on the sphinx rendered scikit-learn.org. See: https://github.com/scikit-learn/scikit-learn/issues/21755 */display: inline-block !important;position: relative;}#sk-container-id-6 div.sk-text-repr-fallback {display: none;}</style><div id=\"sk-container-id-6\" class=\"sk-top-container\"><div class=\"sk-text-repr-fallback\"><pre>GridSearchCV(estimator=KNeighborsClassifier(),\n",
              "             param_grid=[{&#x27;n_neighbors&#x27;: [2, 3, 4, 5],\n",
              "                          &#x27;weights&#x27;: [&#x27;uniform&#x27;, &#x27;distance&#x27;]}])</pre><b>In a Jupyter environment, please rerun this cell to show the HTML representation or trust the notebook. <br />On GitHub, the HTML representation is unable to render, please try loading this page with nbviewer.org.</b></div><div class=\"sk-container\" hidden><div class=\"sk-item sk-dashed-wrapped\"><div class=\"sk-label-container\"><div class=\"sk-label sk-toggleable\"><input class=\"sk-toggleable__control sk-hidden--visually\" id=\"sk-estimator-id-10\" type=\"checkbox\" ><label for=\"sk-estimator-id-10\" class=\"sk-toggleable__label sk-toggleable__label-arrow\">GridSearchCV</label><div class=\"sk-toggleable__content\"><pre>GridSearchCV(estimator=KNeighborsClassifier(),\n",
              "             param_grid=[{&#x27;n_neighbors&#x27;: [2, 3, 4, 5],\n",
              "                          &#x27;weights&#x27;: [&#x27;uniform&#x27;, &#x27;distance&#x27;]}])</pre></div></div></div><div class=\"sk-parallel\"><div class=\"sk-parallel-item\"><div class=\"sk-item\"><div class=\"sk-label-container\"><div class=\"sk-label sk-toggleable\"><input class=\"sk-toggleable__control sk-hidden--visually\" id=\"sk-estimator-id-11\" type=\"checkbox\" ><label for=\"sk-estimator-id-11\" class=\"sk-toggleable__label sk-toggleable__label-arrow\">estimator: KNeighborsClassifier</label><div class=\"sk-toggleable__content\"><pre>KNeighborsClassifier()</pre></div></div></div><div class=\"sk-serial\"><div class=\"sk-item\"><div class=\"sk-estimator sk-toggleable\"><input class=\"sk-toggleable__control sk-hidden--visually\" id=\"sk-estimator-id-12\" type=\"checkbox\" ><label for=\"sk-estimator-id-12\" class=\"sk-toggleable__label sk-toggleable__label-arrow\">KNeighborsClassifier</label><div class=\"sk-toggleable__content\"><pre>KNeighborsClassifier()</pre></div></div></div></div></div></div></div></div></div></div>"
            ]
          },
          "metadata": {},
          "execution_count": 69
        }
      ],
      "source": [
        "grid.fit(wine.iloc[:, :-1], wine.target)"
      ]
    },
    {
      "cell_type": "code",
      "execution_count": null,
      "metadata": {
        "id": "CZVqsZMOc6cE",
        "outputId": "bf8e4419-05b6-418e-9484-d029f0432729",
        "colab": {
          "base_uri": "https://localhost:8080/",
          "height": 581
        }
      },
      "outputs": [
        {
          "output_type": "execute_result",
          "data": {
            "text/plain": [
              "                                                          0  \\\n",
              "mean_fit_time                                      0.002071   \n",
              "std_fit_time                                       0.000287   \n",
              "mean_score_time                                    0.004089   \n",
              "std_score_time                                     0.002365   \n",
              "param_n_neighbors                                         2   \n",
              "param_weights                                       uniform   \n",
              "params             {'n_neighbors': 2, 'weights': 'uniform'}   \n",
              "split0_test_score                                  0.611111   \n",
              "split1_test_score                                  0.611111   \n",
              "split2_test_score                                  0.638889   \n",
              "split3_test_score                                  0.657143   \n",
              "split4_test_score                                       0.8   \n",
              "mean_test_score                                    0.663651   \n",
              "std_test_score                                     0.070381   \n",
              "rank_test_score                                           8   \n",
              "\n",
              "                                                           1  \\\n",
              "mean_fit_time                                       0.001756   \n",
              "std_fit_time                                        0.000026   \n",
              "mean_score_time                                     0.002102   \n",
              "std_score_time                                      0.000151   \n",
              "param_n_neighbors                                          2   \n",
              "param_weights                                       distance   \n",
              "params             {'n_neighbors': 2, 'weights': 'distance'}   \n",
              "split0_test_score                                   0.805556   \n",
              "split1_test_score                                   0.638889   \n",
              "split2_test_score                                   0.666667   \n",
              "split3_test_score                                   0.685714   \n",
              "split4_test_score                                   0.828571   \n",
              "mean_test_score                                     0.725079   \n",
              "std_test_score                                      0.076912   \n",
              "rank_test_score                                            1   \n",
              "\n",
              "                                                          2  \\\n",
              "mean_fit_time                                      0.001712   \n",
              "std_fit_time                                       0.000017   \n",
              "mean_score_time                                    0.002805   \n",
              "std_score_time                                     0.000109   \n",
              "param_n_neighbors                                         3   \n",
              "param_weights                                       uniform   \n",
              "params             {'n_neighbors': 3, 'weights': 'uniform'}   \n",
              "split0_test_score                                  0.638889   \n",
              "split1_test_score                                  0.694444   \n",
              "split2_test_score                                  0.666667   \n",
              "split3_test_score                                  0.657143   \n",
              "split4_test_score                                  0.857143   \n",
              "mean_test_score                                    0.702857   \n",
              "std_test_score                                     0.079204   \n",
              "rank_test_score                                           5   \n",
              "\n",
              "                                                           3  \\\n",
              "mean_fit_time                                       0.001824   \n",
              "std_fit_time                                        0.000055   \n",
              "mean_score_time                                     0.002063   \n",
              "std_score_time                                      0.000081   \n",
              "param_n_neighbors                                          3   \n",
              "param_weights                                       distance   \n",
              "params             {'n_neighbors': 3, 'weights': 'distance'}   \n",
              "split0_test_score                                   0.722222   \n",
              "split1_test_score                                   0.722222   \n",
              "split2_test_score                                   0.666667   \n",
              "split3_test_score                                   0.657143   \n",
              "split4_test_score                                   0.857143   \n",
              "mean_test_score                                     0.725079   \n",
              "std_test_score                                      0.071393   \n",
              "rank_test_score                                            1   \n",
              "\n",
              "                                                          4  \\\n",
              "mean_fit_time                                      0.001657   \n",
              "std_fit_time                                        0.00011   \n",
              "mean_score_time                                    0.002599   \n",
              "std_score_time                                     0.000089   \n",
              "param_n_neighbors                                         4   \n",
              "param_weights                                       uniform   \n",
              "params             {'n_neighbors': 4, 'weights': 'uniform'}   \n",
              "split0_test_score                                  0.638889   \n",
              "split1_test_score                                  0.694444   \n",
              "split2_test_score                                  0.638889   \n",
              "split3_test_score                                  0.657143   \n",
              "split4_test_score                                  0.771429   \n",
              "mean_test_score                                    0.680159   \n",
              "std_test_score                                     0.049941   \n",
              "rank_test_score                                           7   \n",
              "\n",
              "                                                           5  \\\n",
              "mean_fit_time                                       0.001631   \n",
              "std_fit_time                                        0.000091   \n",
              "mean_score_time                                      0.00183   \n",
              "std_score_time                                      0.000092   \n",
              "param_n_neighbors                                          4   \n",
              "param_weights                                       distance   \n",
              "params             {'n_neighbors': 4, 'weights': 'distance'}   \n",
              "split0_test_score                                   0.666667   \n",
              "split1_test_score                                   0.694444   \n",
              "split2_test_score                                   0.694444   \n",
              "split3_test_score                                   0.657143   \n",
              "split4_test_score                                   0.857143   \n",
              "mean_test_score                                     0.713968   \n",
              "std_test_score                                      0.073113   \n",
              "rank_test_score                                            4   \n",
              "\n",
              "                                                          6  \\\n",
              "mean_fit_time                                      0.001622   \n",
              "std_fit_time                                       0.000042   \n",
              "mean_score_time                                    0.002649   \n",
              "std_score_time                                     0.000059   \n",
              "param_n_neighbors                                         5   \n",
              "param_weights                                       uniform   \n",
              "params             {'n_neighbors': 5, 'weights': 'uniform'}   \n",
              "split0_test_score                                  0.722222   \n",
              "split1_test_score                                  0.666667   \n",
              "split2_test_score                                  0.638889   \n",
              "split3_test_score                                  0.657143   \n",
              "split4_test_score                                  0.771429   \n",
              "mean_test_score                                     0.69127   \n",
              "std_test_score                                      0.04878   \n",
              "rank_test_score                                           6   \n",
              "\n",
              "                                                           7  \n",
              "mean_fit_time                                       0.001594  \n",
              "std_fit_time                                        0.000067  \n",
              "mean_score_time                                     0.001785  \n",
              "std_score_time                                      0.000024  \n",
              "param_n_neighbors                                          5  \n",
              "param_weights                                       distance  \n",
              "params             {'n_neighbors': 5, 'weights': 'distance'}  \n",
              "split0_test_score                                   0.777778  \n",
              "split1_test_score                                   0.638889  \n",
              "split2_test_score                                   0.666667  \n",
              "split3_test_score                                   0.657143  \n",
              "split4_test_score                                   0.857143  \n",
              "mean_test_score                                     0.719524  \n",
              "std_test_score                                      0.084285  \n",
              "rank_test_score                                            3  "
            ],
            "text/html": [
              "\n",
              "  <div id=\"df-390141b0-8574-419a-a775-b85c1728523c\">\n",
              "    <div class=\"colab-df-container\">\n",
              "      <div>\n",
              "<style scoped>\n",
              "    .dataframe tbody tr th:only-of-type {\n",
              "        vertical-align: middle;\n",
              "    }\n",
              "\n",
              "    .dataframe tbody tr th {\n",
              "        vertical-align: top;\n",
              "    }\n",
              "\n",
              "    .dataframe thead th {\n",
              "        text-align: right;\n",
              "    }\n",
              "</style>\n",
              "<table border=\"1\" class=\"dataframe\">\n",
              "  <thead>\n",
              "    <tr style=\"text-align: right;\">\n",
              "      <th></th>\n",
              "      <th>0</th>\n",
              "      <th>1</th>\n",
              "      <th>2</th>\n",
              "      <th>3</th>\n",
              "      <th>4</th>\n",
              "      <th>5</th>\n",
              "      <th>6</th>\n",
              "      <th>7</th>\n",
              "    </tr>\n",
              "  </thead>\n",
              "  <tbody>\n",
              "    <tr>\n",
              "      <th>mean_fit_time</th>\n",
              "      <td>0.002071</td>\n",
              "      <td>0.001756</td>\n",
              "      <td>0.001712</td>\n",
              "      <td>0.001824</td>\n",
              "      <td>0.001657</td>\n",
              "      <td>0.001631</td>\n",
              "      <td>0.001622</td>\n",
              "      <td>0.001594</td>\n",
              "    </tr>\n",
              "    <tr>\n",
              "      <th>std_fit_time</th>\n",
              "      <td>0.000287</td>\n",
              "      <td>0.000026</td>\n",
              "      <td>0.000017</td>\n",
              "      <td>0.000055</td>\n",
              "      <td>0.00011</td>\n",
              "      <td>0.000091</td>\n",
              "      <td>0.000042</td>\n",
              "      <td>0.000067</td>\n",
              "    </tr>\n",
              "    <tr>\n",
              "      <th>mean_score_time</th>\n",
              "      <td>0.004089</td>\n",
              "      <td>0.002102</td>\n",
              "      <td>0.002805</td>\n",
              "      <td>0.002063</td>\n",
              "      <td>0.002599</td>\n",
              "      <td>0.00183</td>\n",
              "      <td>0.002649</td>\n",
              "      <td>0.001785</td>\n",
              "    </tr>\n",
              "    <tr>\n",
              "      <th>std_score_time</th>\n",
              "      <td>0.002365</td>\n",
              "      <td>0.000151</td>\n",
              "      <td>0.000109</td>\n",
              "      <td>0.000081</td>\n",
              "      <td>0.000089</td>\n",
              "      <td>0.000092</td>\n",
              "      <td>0.000059</td>\n",
              "      <td>0.000024</td>\n",
              "    </tr>\n",
              "    <tr>\n",
              "      <th>param_n_neighbors</th>\n",
              "      <td>2</td>\n",
              "      <td>2</td>\n",
              "      <td>3</td>\n",
              "      <td>3</td>\n",
              "      <td>4</td>\n",
              "      <td>4</td>\n",
              "      <td>5</td>\n",
              "      <td>5</td>\n",
              "    </tr>\n",
              "    <tr>\n",
              "      <th>param_weights</th>\n",
              "      <td>uniform</td>\n",
              "      <td>distance</td>\n",
              "      <td>uniform</td>\n",
              "      <td>distance</td>\n",
              "      <td>uniform</td>\n",
              "      <td>distance</td>\n",
              "      <td>uniform</td>\n",
              "      <td>distance</td>\n",
              "    </tr>\n",
              "    <tr>\n",
              "      <th>params</th>\n",
              "      <td>{'n_neighbors': 2, 'weights': 'uniform'}</td>\n",
              "      <td>{'n_neighbors': 2, 'weights': 'distance'}</td>\n",
              "      <td>{'n_neighbors': 3, 'weights': 'uniform'}</td>\n",
              "      <td>{'n_neighbors': 3, 'weights': 'distance'}</td>\n",
              "      <td>{'n_neighbors': 4, 'weights': 'uniform'}</td>\n",
              "      <td>{'n_neighbors': 4, 'weights': 'distance'}</td>\n",
              "      <td>{'n_neighbors': 5, 'weights': 'uniform'}</td>\n",
              "      <td>{'n_neighbors': 5, 'weights': 'distance'}</td>\n",
              "    </tr>\n",
              "    <tr>\n",
              "      <th>split0_test_score</th>\n",
              "      <td>0.611111</td>\n",
              "      <td>0.805556</td>\n",
              "      <td>0.638889</td>\n",
              "      <td>0.722222</td>\n",
              "      <td>0.638889</td>\n",
              "      <td>0.666667</td>\n",
              "      <td>0.722222</td>\n",
              "      <td>0.777778</td>\n",
              "    </tr>\n",
              "    <tr>\n",
              "      <th>split1_test_score</th>\n",
              "      <td>0.611111</td>\n",
              "      <td>0.638889</td>\n",
              "      <td>0.694444</td>\n",
              "      <td>0.722222</td>\n",
              "      <td>0.694444</td>\n",
              "      <td>0.694444</td>\n",
              "      <td>0.666667</td>\n",
              "      <td>0.638889</td>\n",
              "    </tr>\n",
              "    <tr>\n",
              "      <th>split2_test_score</th>\n",
              "      <td>0.638889</td>\n",
              "      <td>0.666667</td>\n",
              "      <td>0.666667</td>\n",
              "      <td>0.666667</td>\n",
              "      <td>0.638889</td>\n",
              "      <td>0.694444</td>\n",
              "      <td>0.638889</td>\n",
              "      <td>0.666667</td>\n",
              "    </tr>\n",
              "    <tr>\n",
              "      <th>split3_test_score</th>\n",
              "      <td>0.657143</td>\n",
              "      <td>0.685714</td>\n",
              "      <td>0.657143</td>\n",
              "      <td>0.657143</td>\n",
              "      <td>0.657143</td>\n",
              "      <td>0.657143</td>\n",
              "      <td>0.657143</td>\n",
              "      <td>0.657143</td>\n",
              "    </tr>\n",
              "    <tr>\n",
              "      <th>split4_test_score</th>\n",
              "      <td>0.8</td>\n",
              "      <td>0.828571</td>\n",
              "      <td>0.857143</td>\n",
              "      <td>0.857143</td>\n",
              "      <td>0.771429</td>\n",
              "      <td>0.857143</td>\n",
              "      <td>0.771429</td>\n",
              "      <td>0.857143</td>\n",
              "    </tr>\n",
              "    <tr>\n",
              "      <th>mean_test_score</th>\n",
              "      <td>0.663651</td>\n",
              "      <td>0.725079</td>\n",
              "      <td>0.702857</td>\n",
              "      <td>0.725079</td>\n",
              "      <td>0.680159</td>\n",
              "      <td>0.713968</td>\n",
              "      <td>0.69127</td>\n",
              "      <td>0.719524</td>\n",
              "    </tr>\n",
              "    <tr>\n",
              "      <th>std_test_score</th>\n",
              "      <td>0.070381</td>\n",
              "      <td>0.076912</td>\n",
              "      <td>0.079204</td>\n",
              "      <td>0.071393</td>\n",
              "      <td>0.049941</td>\n",
              "      <td>0.073113</td>\n",
              "      <td>0.04878</td>\n",
              "      <td>0.084285</td>\n",
              "    </tr>\n",
              "    <tr>\n",
              "      <th>rank_test_score</th>\n",
              "      <td>8</td>\n",
              "      <td>1</td>\n",
              "      <td>5</td>\n",
              "      <td>1</td>\n",
              "      <td>7</td>\n",
              "      <td>4</td>\n",
              "      <td>6</td>\n",
              "      <td>3</td>\n",
              "    </tr>\n",
              "  </tbody>\n",
              "</table>\n",
              "</div>\n",
              "      <button class=\"colab-df-convert\" onclick=\"convertToInteractive('df-390141b0-8574-419a-a775-b85c1728523c')\"\n",
              "              title=\"Convert this dataframe to an interactive table.\"\n",
              "              style=\"display:none;\">\n",
              "        \n",
              "  <svg xmlns=\"http://www.w3.org/2000/svg\" height=\"24px\"viewBox=\"0 0 24 24\"\n",
              "       width=\"24px\">\n",
              "    <path d=\"M0 0h24v24H0V0z\" fill=\"none\"/>\n",
              "    <path d=\"M18.56 5.44l.94 2.06.94-2.06 2.06-.94-2.06-.94-.94-2.06-.94 2.06-2.06.94zm-11 1L8.5 8.5l.94-2.06 2.06-.94-2.06-.94L8.5 2.5l-.94 2.06-2.06.94zm10 10l.94 2.06.94-2.06 2.06-.94-2.06-.94-.94-2.06-.94 2.06-2.06.94z\"/><path d=\"M17.41 7.96l-1.37-1.37c-.4-.4-.92-.59-1.43-.59-.52 0-1.04.2-1.43.59L10.3 9.45l-7.72 7.72c-.78.78-.78 2.05 0 2.83L4 21.41c.39.39.9.59 1.41.59.51 0 1.02-.2 1.41-.59l7.78-7.78 2.81-2.81c.8-.78.8-2.07 0-2.86zM5.41 20L4 18.59l7.72-7.72 1.47 1.35L5.41 20z\"/>\n",
              "  </svg>\n",
              "      </button>\n",
              "      \n",
              "  <style>\n",
              "    .colab-df-container {\n",
              "      display:flex;\n",
              "      flex-wrap:wrap;\n",
              "      gap: 12px;\n",
              "    }\n",
              "\n",
              "    .colab-df-convert {\n",
              "      background-color: #E8F0FE;\n",
              "      border: none;\n",
              "      border-radius: 50%;\n",
              "      cursor: pointer;\n",
              "      display: none;\n",
              "      fill: #1967D2;\n",
              "      height: 32px;\n",
              "      padding: 0 0 0 0;\n",
              "      width: 32px;\n",
              "    }\n",
              "\n",
              "    .colab-df-convert:hover {\n",
              "      background-color: #E2EBFA;\n",
              "      box-shadow: 0px 1px 2px rgba(60, 64, 67, 0.3), 0px 1px 3px 1px rgba(60, 64, 67, 0.15);\n",
              "      fill: #174EA6;\n",
              "    }\n",
              "\n",
              "    [theme=dark] .colab-df-convert {\n",
              "      background-color: #3B4455;\n",
              "      fill: #D2E3FC;\n",
              "    }\n",
              "\n",
              "    [theme=dark] .colab-df-convert:hover {\n",
              "      background-color: #434B5C;\n",
              "      box-shadow: 0px 1px 3px 1px rgba(0, 0, 0, 0.15);\n",
              "      filter: drop-shadow(0px 1px 2px rgba(0, 0, 0, 0.3));\n",
              "      fill: #FFFFFF;\n",
              "    }\n",
              "  </style>\n",
              "\n",
              "      <script>\n",
              "        const buttonEl =\n",
              "          document.querySelector('#df-390141b0-8574-419a-a775-b85c1728523c button.colab-df-convert');\n",
              "        buttonEl.style.display =\n",
              "          google.colab.kernel.accessAllowed ? 'block' : 'none';\n",
              "\n",
              "        async function convertToInteractive(key) {\n",
              "          const element = document.querySelector('#df-390141b0-8574-419a-a775-b85c1728523c');\n",
              "          const dataTable =\n",
              "            await google.colab.kernel.invokeFunction('convertToInteractive',\n",
              "                                                     [key], {});\n",
              "          if (!dataTable) return;\n",
              "\n",
              "          const docLinkHtml = 'Like what you see? Visit the ' +\n",
              "            '<a target=\"_blank\" href=https://colab.research.google.com/notebooks/data_table.ipynb>data table notebook</a>'\n",
              "            + ' to learn more about interactive tables.';\n",
              "          element.innerHTML = '';\n",
              "          dataTable['output_type'] = 'display_data';\n",
              "          await google.colab.output.renderOutput(dataTable, element);\n",
              "          const docLink = document.createElement('div');\n",
              "          docLink.innerHTML = docLinkHtml;\n",
              "          element.appendChild(docLink);\n",
              "        }\n",
              "      </script>\n",
              "    </div>\n",
              "  </div>\n",
              "  "
            ]
          },
          "metadata": {},
          "execution_count": 70
        }
      ],
      "source": [
        "# params를 보면 매번 실행할때마다 사용되는 하이퍼 파라미터을 기록한다.\n",
        "# 위에서 param_grid를 리스트 안에 딕셔너리 형태로 넣었다.\n",
        "# 딕셔너리 안에서 조합이 구해진다.\n",
        "# 다른 딕셔너리에 들어간 하이퍼파라미터와는 조합을 만들지 않는다.\n",
        "pd.DataFrame(grid.cv_results_).T"
      ]
    },
    {
      "cell_type": "markdown",
      "metadata": {
        "id": "_EZ5VcqUc6cE"
      },
      "source": [
        "## GridSearchCV + Pipeline"
      ]
    },
    {
      "cell_type": "markdown",
      "metadata": {
        "id": "32B_rDR7c6cE"
      },
      "source": [
        "### GridSearchCV와 Pipeline을 연동하기"
      ]
    },
    {
      "cell_type": "code",
      "execution_count": null,
      "metadata": {
        "id": "JOt2hERFc6cE"
      },
      "outputs": [],
      "source": [
        "from sklearn.pipeline import Pipeline"
      ]
    },
    {
      "cell_type": "code",
      "execution_count": null,
      "metadata": {
        "id": "2kFLOSYtc6cE"
      },
      "outputs": [],
      "source": [
        "from sklearn.preprocessing import StandardScaler"
      ]
    },
    {
      "cell_type": "code",
      "execution_count": null,
      "metadata": {
        "id": "zCoBBfVhc6cE"
      },
      "outputs": [],
      "source": [
        "pipe = Pipeline([('ss', StandardScaler()), ('knn', KNeighborsClassifier())])"
      ]
    },
    {
      "cell_type": "code",
      "execution_count": null,
      "metadata": {
        "id": "ApNddB0Fc6cF"
      },
      "outputs": [],
      "source": [
        "grid = GridSearchCV(pipe, {'n_neighbors':[2,3,4,5]})"
      ]
    },
    {
      "cell_type": "code",
      "execution_count": null,
      "metadata": {
        "id": "tnnKs7WSc6cF"
      },
      "outputs": [],
      "source": [
        "# ValueError\n",
        "# Check the list of available parameters with `estimator.get_params().keys()`\n",
        "# grid.fit(wine.iloc[:,:-1], wine.target) 에러"
      ]
    },
    {
      "cell_type": "code",
      "execution_count": null,
      "metadata": {
        "id": "GYb7jkWvc6cF",
        "outputId": "56ac7f06-b9f9-4bdc-cfdb-94b461bdd80b",
        "colab": {
          "base_uri": "https://localhost:8080/"
        }
      },
      "outputs": [
        {
          "output_type": "execute_result",
          "data": {
            "text/plain": [
              "{'steps': [('ss', StandardScaler()), ('knn', KNeighborsClassifier())],\n",
              " 'memory': None,\n",
              " 'verbose': False}"
            ]
          },
          "metadata": {},
          "execution_count": 76
        }
      ],
      "source": [
        "# pipe의 내부를 살펴보자.\n",
        "vars(pipe)"
      ]
    },
    {
      "cell_type": "code",
      "execution_count": null,
      "metadata": {
        "id": "BfwFaD60c6cF",
        "outputId": "a3417fc0-bf42-4bdb-e41a-dcf6d560ce60",
        "colab": {
          "base_uri": "https://localhost:8080/"
        }
      },
      "outputs": [
        {
          "output_type": "execute_result",
          "data": {
            "text/plain": [
              "{'algorithm': 'auto',\n",
              " 'leaf_size': 30,\n",
              " 'metric': 'minkowski',\n",
              " 'metric_params': None,\n",
              " 'n_jobs': None,\n",
              " 'n_neighbors': 5,\n",
              " 'p': 2,\n",
              " 'weights': 'uniform'}"
            ]
          },
          "metadata": {},
          "execution_count": 78
        }
      ],
      "source": [
        "# pipe에서 knn 알고리즘만 꺼내서 get_params를 확인해본다.\n",
        "# n_neighbors가 맞다.\n",
        "pipe.steps[-1][1].get_params()"
      ]
    },
    {
      "cell_type": "code",
      "execution_count": null,
      "metadata": {
        "id": "2xg2pBigc6cF",
        "outputId": "0a123d5f-311d-48bd-942b-6a566dcf0203",
        "colab": {
          "base_uri": "https://localhost:8080/"
        }
      },
      "outputs": [
        {
          "output_type": "execute_result",
          "data": {
            "text/plain": [
              "{'memory': None,\n",
              " 'steps': [('ss', StandardScaler()), ('knn', KNeighborsClassifier())],\n",
              " 'verbose': False,\n",
              " 'ss': StandardScaler(),\n",
              " 'knn': KNeighborsClassifier(),\n",
              " 'ss__copy': True,\n",
              " 'ss__with_mean': True,\n",
              " 'ss__with_std': True,\n",
              " 'knn__algorithm': 'auto',\n",
              " 'knn__leaf_size': 30,\n",
              " 'knn__metric': 'minkowski',\n",
              " 'knn__metric_params': None,\n",
              " 'knn__n_jobs': None,\n",
              " 'knn__n_neighbors': 5,\n",
              " 'knn__p': 2,\n",
              " 'knn__weights': 'uniform'}"
            ]
          },
          "metadata": {},
          "execution_count": 79
        }
      ],
      "source": [
        "# pipe 자체의 get_params를 확인해보자.\n",
        "# Pipeline은 알고리즘의 하이퍼 파라미터 이름을 맹글링한다. (Pipeline의 docstring 참조)\n",
        "pipe.get_params()"
      ]
    },
    {
      "cell_type": "code",
      "execution_count": null,
      "metadata": {
        "id": "iWTvhRzac6cF"
      },
      "outputs": [],
      "source": [
        "# mangling된 이름으로 하이퍼 파라미터 이름을 바꾸었다.(맹글링 시켜준 파라미터값을 넣어줘도 이상없이 처리된다)\n",
        "grid = GridSearchCV(pipe, {'knn__n_neighbors':[2,3,4,5]})"
      ]
    },
    {
      "cell_type": "code",
      "execution_count": null,
      "metadata": {
        "id": "vSNaAp-gc6cF",
        "outputId": "6c564ab0-a4b7-4f9c-d656-f1d55d64748f",
        "colab": {
          "base_uri": "https://localhost:8080/",
          "height": 152
        }
      },
      "outputs": [
        {
          "output_type": "execute_result",
          "data": {
            "text/plain": [
              "GridSearchCV(estimator=Pipeline(steps=[('ss', StandardScaler()),\n",
              "                                       ('knn', KNeighborsClassifier())]),\n",
              "             param_grid={'knn__n_neighbors': [2, 3, 4, 5]})"
            ],
            "text/html": [
              "<style>#sk-container-id-7 {color: black;background-color: white;}#sk-container-id-7 pre{padding: 0;}#sk-container-id-7 div.sk-toggleable {background-color: white;}#sk-container-id-7 label.sk-toggleable__label {cursor: pointer;display: block;width: 100%;margin-bottom: 0;padding: 0.3em;box-sizing: border-box;text-align: center;}#sk-container-id-7 label.sk-toggleable__label-arrow:before {content: \"▸\";float: left;margin-right: 0.25em;color: #696969;}#sk-container-id-7 label.sk-toggleable__label-arrow:hover:before {color: black;}#sk-container-id-7 div.sk-estimator:hover label.sk-toggleable__label-arrow:before {color: black;}#sk-container-id-7 div.sk-toggleable__content {max-height: 0;max-width: 0;overflow: hidden;text-align: left;background-color: #f0f8ff;}#sk-container-id-7 div.sk-toggleable__content pre {margin: 0.2em;color: black;border-radius: 0.25em;background-color: #f0f8ff;}#sk-container-id-7 input.sk-toggleable__control:checked~div.sk-toggleable__content {max-height: 200px;max-width: 100%;overflow: auto;}#sk-container-id-7 input.sk-toggleable__control:checked~label.sk-toggleable__label-arrow:before {content: \"▾\";}#sk-container-id-7 div.sk-estimator input.sk-toggleable__control:checked~label.sk-toggleable__label {background-color: #d4ebff;}#sk-container-id-7 div.sk-label input.sk-toggleable__control:checked~label.sk-toggleable__label {background-color: #d4ebff;}#sk-container-id-7 input.sk-hidden--visually {border: 0;clip: rect(1px 1px 1px 1px);clip: rect(1px, 1px, 1px, 1px);height: 1px;margin: -1px;overflow: hidden;padding: 0;position: absolute;width: 1px;}#sk-container-id-7 div.sk-estimator {font-family: monospace;background-color: #f0f8ff;border: 1px dotted black;border-radius: 0.25em;box-sizing: border-box;margin-bottom: 0.5em;}#sk-container-id-7 div.sk-estimator:hover {background-color: #d4ebff;}#sk-container-id-7 div.sk-parallel-item::after {content: \"\";width: 100%;border-bottom: 1px solid gray;flex-grow: 1;}#sk-container-id-7 div.sk-label:hover label.sk-toggleable__label {background-color: #d4ebff;}#sk-container-id-7 div.sk-serial::before {content: \"\";position: absolute;border-left: 1px solid gray;box-sizing: border-box;top: 0;bottom: 0;left: 50%;z-index: 0;}#sk-container-id-7 div.sk-serial {display: flex;flex-direction: column;align-items: center;background-color: white;padding-right: 0.2em;padding-left: 0.2em;position: relative;}#sk-container-id-7 div.sk-item {position: relative;z-index: 1;}#sk-container-id-7 div.sk-parallel {display: flex;align-items: stretch;justify-content: center;background-color: white;position: relative;}#sk-container-id-7 div.sk-item::before, #sk-container-id-7 div.sk-parallel-item::before {content: \"\";position: absolute;border-left: 1px solid gray;box-sizing: border-box;top: 0;bottom: 0;left: 50%;z-index: -1;}#sk-container-id-7 div.sk-parallel-item {display: flex;flex-direction: column;z-index: 1;position: relative;background-color: white;}#sk-container-id-7 div.sk-parallel-item:first-child::after {align-self: flex-end;width: 50%;}#sk-container-id-7 div.sk-parallel-item:last-child::after {align-self: flex-start;width: 50%;}#sk-container-id-7 div.sk-parallel-item:only-child::after {width: 0;}#sk-container-id-7 div.sk-dashed-wrapped {border: 1px dashed gray;margin: 0 0.4em 0.5em 0.4em;box-sizing: border-box;padding-bottom: 0.4em;background-color: white;}#sk-container-id-7 div.sk-label label {font-family: monospace;font-weight: bold;display: inline-block;line-height: 1.2em;}#sk-container-id-7 div.sk-label-container {text-align: center;}#sk-container-id-7 div.sk-container {/* jupyter's `normalize.less` sets `[hidden] { display: none; }` but bootstrap.min.css set `[hidden] { display: none !important; }` so we also need the `!important` here to be able to override the default hidden behavior on the sphinx rendered scikit-learn.org. See: https://github.com/scikit-learn/scikit-learn/issues/21755 */display: inline-block !important;position: relative;}#sk-container-id-7 div.sk-text-repr-fallback {display: none;}</style><div id=\"sk-container-id-7\" class=\"sk-top-container\"><div class=\"sk-text-repr-fallback\"><pre>GridSearchCV(estimator=Pipeline(steps=[(&#x27;ss&#x27;, StandardScaler()),\n",
              "                                       (&#x27;knn&#x27;, KNeighborsClassifier())]),\n",
              "             param_grid={&#x27;knn__n_neighbors&#x27;: [2, 3, 4, 5]})</pre><b>In a Jupyter environment, please rerun this cell to show the HTML representation or trust the notebook. <br />On GitHub, the HTML representation is unable to render, please try loading this page with nbviewer.org.</b></div><div class=\"sk-container\" hidden><div class=\"sk-item sk-dashed-wrapped\"><div class=\"sk-label-container\"><div class=\"sk-label sk-toggleable\"><input class=\"sk-toggleable__control sk-hidden--visually\" id=\"sk-estimator-id-13\" type=\"checkbox\" ><label for=\"sk-estimator-id-13\" class=\"sk-toggleable__label sk-toggleable__label-arrow\">GridSearchCV</label><div class=\"sk-toggleable__content\"><pre>GridSearchCV(estimator=Pipeline(steps=[(&#x27;ss&#x27;, StandardScaler()),\n",
              "                                       (&#x27;knn&#x27;, KNeighborsClassifier())]),\n",
              "             param_grid={&#x27;knn__n_neighbors&#x27;: [2, 3, 4, 5]})</pre></div></div></div><div class=\"sk-parallel\"><div class=\"sk-parallel-item\"><div class=\"sk-item\"><div class=\"sk-label-container\"><div class=\"sk-label sk-toggleable\"><input class=\"sk-toggleable__control sk-hidden--visually\" id=\"sk-estimator-id-14\" type=\"checkbox\" ><label for=\"sk-estimator-id-14\" class=\"sk-toggleable__label sk-toggleable__label-arrow\">estimator: Pipeline</label><div class=\"sk-toggleable__content\"><pre>Pipeline(steps=[(&#x27;ss&#x27;, StandardScaler()), (&#x27;knn&#x27;, KNeighborsClassifier())])</pre></div></div></div><div class=\"sk-serial\"><div class=\"sk-item\"><div class=\"sk-serial\"><div class=\"sk-item\"><div class=\"sk-estimator sk-toggleable\"><input class=\"sk-toggleable__control sk-hidden--visually\" id=\"sk-estimator-id-15\" type=\"checkbox\" ><label for=\"sk-estimator-id-15\" class=\"sk-toggleable__label sk-toggleable__label-arrow\">StandardScaler</label><div class=\"sk-toggleable__content\"><pre>StandardScaler()</pre></div></div></div><div class=\"sk-item\"><div class=\"sk-estimator sk-toggleable\"><input class=\"sk-toggleable__control sk-hidden--visually\" id=\"sk-estimator-id-16\" type=\"checkbox\" ><label for=\"sk-estimator-id-16\" class=\"sk-toggleable__label sk-toggleable__label-arrow\">KNeighborsClassifier</label><div class=\"sk-toggleable__content\"><pre>KNeighborsClassifier()</pre></div></div></div></div></div></div></div></div></div></div></div></div>"
            ]
          },
          "metadata": {},
          "execution_count": 81
        }
      ],
      "source": [
        "# Pipeline을 거쳐서 GridSeaerchCV까지 한번에 사용할 수 있다.\n",
        "grid.fit(wine.iloc[:, :-1], wine.target)"
      ]
    },
    {
      "cell_type": "markdown",
      "metadata": {
        "id": "3511Lvjjc6cG"
      },
      "source": [
        "### GridSearchCV로 최적의 알고리즘 찾기"
      ]
    },
    {
      "cell_type": "markdown",
      "metadata": {
        "id": "Y4b3rW-Fc6cG"
      },
      "source": [
        "`GridSearchCV`는 최적의 하이퍼 파라미터는 찾을 수 있지만, 최적의 알고리즘을 찾는 기능은 공식적으로 제공하지 않는다.  \n",
        "그러나, scikit-learn의 고수들이 알고리즘도 찾아주는 꼼수를 발견하였다."
      ]
    },
    {
      "cell_type": "code",
      "execution_count": null,
      "metadata": {
        "id": "K38qKPVXc6cG"
      },
      "outputs": [],
      "source": [
        "pipe = Pipeline([('ss', StandardScaler()), ('clf', KNeighborsClassifier())])"
      ]
    },
    {
      "cell_type": "code",
      "execution_count": null,
      "metadata": {
        "id": "e3ah0H4oc6cG"
      },
      "outputs": [],
      "source": [
        "# pipe에서 clf를 하이퍼 파라미터로 취급하여, 알고리즘을 바꾼다.\n",
        "grid = GridSearchCV(pipe, {'clf':[KNeighborsClassifier(), LogisticRegression()]})"
      ]
    },
    {
      "cell_type": "code",
      "execution_count": null,
      "metadata": {
        "id": "3eGhkBClc6cG",
        "outputId": "a4490efe-f41a-424f-897c-1200d171e5a1",
        "colab": {
          "base_uri": "https://localhost:8080/",
          "height": 152
        }
      },
      "outputs": [
        {
          "output_type": "execute_result",
          "data": {
            "text/plain": [
              "GridSearchCV(estimator=Pipeline(steps=[('ss', StandardScaler()),\n",
              "                                       ('clf', KNeighborsClassifier())]),\n",
              "             param_grid={'clf': [KNeighborsClassifier(), LogisticRegression()]})"
            ],
            "text/html": [
              "<style>#sk-container-id-8 {color: black;background-color: white;}#sk-container-id-8 pre{padding: 0;}#sk-container-id-8 div.sk-toggleable {background-color: white;}#sk-container-id-8 label.sk-toggleable__label {cursor: pointer;display: block;width: 100%;margin-bottom: 0;padding: 0.3em;box-sizing: border-box;text-align: center;}#sk-container-id-8 label.sk-toggleable__label-arrow:before {content: \"▸\";float: left;margin-right: 0.25em;color: #696969;}#sk-container-id-8 label.sk-toggleable__label-arrow:hover:before {color: black;}#sk-container-id-8 div.sk-estimator:hover label.sk-toggleable__label-arrow:before {color: black;}#sk-container-id-8 div.sk-toggleable__content {max-height: 0;max-width: 0;overflow: hidden;text-align: left;background-color: #f0f8ff;}#sk-container-id-8 div.sk-toggleable__content pre {margin: 0.2em;color: black;border-radius: 0.25em;background-color: #f0f8ff;}#sk-container-id-8 input.sk-toggleable__control:checked~div.sk-toggleable__content {max-height: 200px;max-width: 100%;overflow: auto;}#sk-container-id-8 input.sk-toggleable__control:checked~label.sk-toggleable__label-arrow:before {content: \"▾\";}#sk-container-id-8 div.sk-estimator input.sk-toggleable__control:checked~label.sk-toggleable__label {background-color: #d4ebff;}#sk-container-id-8 div.sk-label input.sk-toggleable__control:checked~label.sk-toggleable__label {background-color: #d4ebff;}#sk-container-id-8 input.sk-hidden--visually {border: 0;clip: rect(1px 1px 1px 1px);clip: rect(1px, 1px, 1px, 1px);height: 1px;margin: -1px;overflow: hidden;padding: 0;position: absolute;width: 1px;}#sk-container-id-8 div.sk-estimator {font-family: monospace;background-color: #f0f8ff;border: 1px dotted black;border-radius: 0.25em;box-sizing: border-box;margin-bottom: 0.5em;}#sk-container-id-8 div.sk-estimator:hover {background-color: #d4ebff;}#sk-container-id-8 div.sk-parallel-item::after {content: \"\";width: 100%;border-bottom: 1px solid gray;flex-grow: 1;}#sk-container-id-8 div.sk-label:hover label.sk-toggleable__label {background-color: #d4ebff;}#sk-container-id-8 div.sk-serial::before {content: \"\";position: absolute;border-left: 1px solid gray;box-sizing: border-box;top: 0;bottom: 0;left: 50%;z-index: 0;}#sk-container-id-8 div.sk-serial {display: flex;flex-direction: column;align-items: center;background-color: white;padding-right: 0.2em;padding-left: 0.2em;position: relative;}#sk-container-id-8 div.sk-item {position: relative;z-index: 1;}#sk-container-id-8 div.sk-parallel {display: flex;align-items: stretch;justify-content: center;background-color: white;position: relative;}#sk-container-id-8 div.sk-item::before, #sk-container-id-8 div.sk-parallel-item::before {content: \"\";position: absolute;border-left: 1px solid gray;box-sizing: border-box;top: 0;bottom: 0;left: 50%;z-index: -1;}#sk-container-id-8 div.sk-parallel-item {display: flex;flex-direction: column;z-index: 1;position: relative;background-color: white;}#sk-container-id-8 div.sk-parallel-item:first-child::after {align-self: flex-end;width: 50%;}#sk-container-id-8 div.sk-parallel-item:last-child::after {align-self: flex-start;width: 50%;}#sk-container-id-8 div.sk-parallel-item:only-child::after {width: 0;}#sk-container-id-8 div.sk-dashed-wrapped {border: 1px dashed gray;margin: 0 0.4em 0.5em 0.4em;box-sizing: border-box;padding-bottom: 0.4em;background-color: white;}#sk-container-id-8 div.sk-label label {font-family: monospace;font-weight: bold;display: inline-block;line-height: 1.2em;}#sk-container-id-8 div.sk-label-container {text-align: center;}#sk-container-id-8 div.sk-container {/* jupyter's `normalize.less` sets `[hidden] { display: none; }` but bootstrap.min.css set `[hidden] { display: none !important; }` so we also need the `!important` here to be able to override the default hidden behavior on the sphinx rendered scikit-learn.org. See: https://github.com/scikit-learn/scikit-learn/issues/21755 */display: inline-block !important;position: relative;}#sk-container-id-8 div.sk-text-repr-fallback {display: none;}</style><div id=\"sk-container-id-8\" class=\"sk-top-container\"><div class=\"sk-text-repr-fallback\"><pre>GridSearchCV(estimator=Pipeline(steps=[(&#x27;ss&#x27;, StandardScaler()),\n",
              "                                       (&#x27;clf&#x27;, KNeighborsClassifier())]),\n",
              "             param_grid={&#x27;clf&#x27;: [KNeighborsClassifier(), LogisticRegression()]})</pre><b>In a Jupyter environment, please rerun this cell to show the HTML representation or trust the notebook. <br />On GitHub, the HTML representation is unable to render, please try loading this page with nbviewer.org.</b></div><div class=\"sk-container\" hidden><div class=\"sk-item sk-dashed-wrapped\"><div class=\"sk-label-container\"><div class=\"sk-label sk-toggleable\"><input class=\"sk-toggleable__control sk-hidden--visually\" id=\"sk-estimator-id-17\" type=\"checkbox\" ><label for=\"sk-estimator-id-17\" class=\"sk-toggleable__label sk-toggleable__label-arrow\">GridSearchCV</label><div class=\"sk-toggleable__content\"><pre>GridSearchCV(estimator=Pipeline(steps=[(&#x27;ss&#x27;, StandardScaler()),\n",
              "                                       (&#x27;clf&#x27;, KNeighborsClassifier())]),\n",
              "             param_grid={&#x27;clf&#x27;: [KNeighborsClassifier(), LogisticRegression()]})</pre></div></div></div><div class=\"sk-parallel\"><div class=\"sk-parallel-item\"><div class=\"sk-item\"><div class=\"sk-label-container\"><div class=\"sk-label sk-toggleable\"><input class=\"sk-toggleable__control sk-hidden--visually\" id=\"sk-estimator-id-18\" type=\"checkbox\" ><label for=\"sk-estimator-id-18\" class=\"sk-toggleable__label sk-toggleable__label-arrow\">estimator: Pipeline</label><div class=\"sk-toggleable__content\"><pre>Pipeline(steps=[(&#x27;ss&#x27;, StandardScaler()), (&#x27;clf&#x27;, KNeighborsClassifier())])</pre></div></div></div><div class=\"sk-serial\"><div class=\"sk-item\"><div class=\"sk-serial\"><div class=\"sk-item\"><div class=\"sk-estimator sk-toggleable\"><input class=\"sk-toggleable__control sk-hidden--visually\" id=\"sk-estimator-id-19\" type=\"checkbox\" ><label for=\"sk-estimator-id-19\" class=\"sk-toggleable__label sk-toggleable__label-arrow\">StandardScaler</label><div class=\"sk-toggleable__content\"><pre>StandardScaler()</pre></div></div></div><div class=\"sk-item\"><div class=\"sk-estimator sk-toggleable\"><input class=\"sk-toggleable__control sk-hidden--visually\" id=\"sk-estimator-id-20\" type=\"checkbox\" ><label for=\"sk-estimator-id-20\" class=\"sk-toggleable__label sk-toggleable__label-arrow\">KNeighborsClassifier</label><div class=\"sk-toggleable__content\"><pre>KNeighborsClassifier()</pre></div></div></div></div></div></div></div></div></div></div></div></div>"
            ]
          },
          "metadata": {},
          "execution_count": 84
        }
      ],
      "source": [
        "grid.fit(wine.iloc[:, :-1], wine.target)"
      ]
    },
    {
      "cell_type": "code",
      "execution_count": null,
      "metadata": {
        "id": "Nj3pVMJnc6cG",
        "outputId": "8fc6a139-57a8-435e-e4e5-18cdbe8780be",
        "colab": {
          "base_uri": "https://localhost:8080/",
          "height": 211
        }
      },
      "outputs": [
        {
          "output_type": "execute_result",
          "data": {
            "text/plain": [
              "   mean_fit_time  std_fit_time  mean_score_time  std_score_time  \\\n",
              "0       0.004561      0.001554         0.003494        0.000699   \n",
              "1       0.009383      0.005162         0.001479        0.000232   \n",
              "\n",
              "                param_clf                           params  split0_test_score  \\\n",
              "0  KNeighborsClassifier()  {'clf': KNeighborsClassifier()}           0.944444   \n",
              "1    LogisticRegression()    {'clf': LogisticRegression()}           0.972222   \n",
              "\n",
              "   split1_test_score  split2_test_score  split3_test_score  split4_test_score  \\\n",
              "0           0.944444           0.972222           1.000000           0.885714   \n",
              "1           0.972222           1.000000           0.971429           1.000000   \n",
              "\n",
              "   mean_test_score  std_test_score  rank_test_score  \n",
              "0         0.949365        0.037911                2  \n",
              "1         0.983175        0.013741                1  "
            ],
            "text/html": [
              "\n",
              "  <div id=\"df-92b66a40-c90c-4549-9e23-b6be73db1fcd\">\n",
              "    <div class=\"colab-df-container\">\n",
              "      <div>\n",
              "<style scoped>\n",
              "    .dataframe tbody tr th:only-of-type {\n",
              "        vertical-align: middle;\n",
              "    }\n",
              "\n",
              "    .dataframe tbody tr th {\n",
              "        vertical-align: top;\n",
              "    }\n",
              "\n",
              "    .dataframe thead th {\n",
              "        text-align: right;\n",
              "    }\n",
              "</style>\n",
              "<table border=\"1\" class=\"dataframe\">\n",
              "  <thead>\n",
              "    <tr style=\"text-align: right;\">\n",
              "      <th></th>\n",
              "      <th>mean_fit_time</th>\n",
              "      <th>std_fit_time</th>\n",
              "      <th>mean_score_time</th>\n",
              "      <th>std_score_time</th>\n",
              "      <th>param_clf</th>\n",
              "      <th>params</th>\n",
              "      <th>split0_test_score</th>\n",
              "      <th>split1_test_score</th>\n",
              "      <th>split2_test_score</th>\n",
              "      <th>split3_test_score</th>\n",
              "      <th>split4_test_score</th>\n",
              "      <th>mean_test_score</th>\n",
              "      <th>std_test_score</th>\n",
              "      <th>rank_test_score</th>\n",
              "    </tr>\n",
              "  </thead>\n",
              "  <tbody>\n",
              "    <tr>\n",
              "      <th>0</th>\n",
              "      <td>0.004561</td>\n",
              "      <td>0.001554</td>\n",
              "      <td>0.003494</td>\n",
              "      <td>0.000699</td>\n",
              "      <td>KNeighborsClassifier()</td>\n",
              "      <td>{'clf': KNeighborsClassifier()}</td>\n",
              "      <td>0.944444</td>\n",
              "      <td>0.944444</td>\n",
              "      <td>0.972222</td>\n",
              "      <td>1.000000</td>\n",
              "      <td>0.885714</td>\n",
              "      <td>0.949365</td>\n",
              "      <td>0.037911</td>\n",
              "      <td>2</td>\n",
              "    </tr>\n",
              "    <tr>\n",
              "      <th>1</th>\n",
              "      <td>0.009383</td>\n",
              "      <td>0.005162</td>\n",
              "      <td>0.001479</td>\n",
              "      <td>0.000232</td>\n",
              "      <td>LogisticRegression()</td>\n",
              "      <td>{'clf': LogisticRegression()}</td>\n",
              "      <td>0.972222</td>\n",
              "      <td>0.972222</td>\n",
              "      <td>1.000000</td>\n",
              "      <td>0.971429</td>\n",
              "      <td>1.000000</td>\n",
              "      <td>0.983175</td>\n",
              "      <td>0.013741</td>\n",
              "      <td>1</td>\n",
              "    </tr>\n",
              "  </tbody>\n",
              "</table>\n",
              "</div>\n",
              "      <button class=\"colab-df-convert\" onclick=\"convertToInteractive('df-92b66a40-c90c-4549-9e23-b6be73db1fcd')\"\n",
              "              title=\"Convert this dataframe to an interactive table.\"\n",
              "              style=\"display:none;\">\n",
              "        \n",
              "  <svg xmlns=\"http://www.w3.org/2000/svg\" height=\"24px\"viewBox=\"0 0 24 24\"\n",
              "       width=\"24px\">\n",
              "    <path d=\"M0 0h24v24H0V0z\" fill=\"none\"/>\n",
              "    <path d=\"M18.56 5.44l.94 2.06.94-2.06 2.06-.94-2.06-.94-.94-2.06-.94 2.06-2.06.94zm-11 1L8.5 8.5l.94-2.06 2.06-.94-2.06-.94L8.5 2.5l-.94 2.06-2.06.94zm10 10l.94 2.06.94-2.06 2.06-.94-2.06-.94-.94-2.06-.94 2.06-2.06.94z\"/><path d=\"M17.41 7.96l-1.37-1.37c-.4-.4-.92-.59-1.43-.59-.52 0-1.04.2-1.43.59L10.3 9.45l-7.72 7.72c-.78.78-.78 2.05 0 2.83L4 21.41c.39.39.9.59 1.41.59.51 0 1.02-.2 1.41-.59l7.78-7.78 2.81-2.81c.8-.78.8-2.07 0-2.86zM5.41 20L4 18.59l7.72-7.72 1.47 1.35L5.41 20z\"/>\n",
              "  </svg>\n",
              "      </button>\n",
              "      \n",
              "  <style>\n",
              "    .colab-df-container {\n",
              "      display:flex;\n",
              "      flex-wrap:wrap;\n",
              "      gap: 12px;\n",
              "    }\n",
              "\n",
              "    .colab-df-convert {\n",
              "      background-color: #E8F0FE;\n",
              "      border: none;\n",
              "      border-radius: 50%;\n",
              "      cursor: pointer;\n",
              "      display: none;\n",
              "      fill: #1967D2;\n",
              "      height: 32px;\n",
              "      padding: 0 0 0 0;\n",
              "      width: 32px;\n",
              "    }\n",
              "\n",
              "    .colab-df-convert:hover {\n",
              "      background-color: #E2EBFA;\n",
              "      box-shadow: 0px 1px 2px rgba(60, 64, 67, 0.3), 0px 1px 3px 1px rgba(60, 64, 67, 0.15);\n",
              "      fill: #174EA6;\n",
              "    }\n",
              "\n",
              "    [theme=dark] .colab-df-convert {\n",
              "      background-color: #3B4455;\n",
              "      fill: #D2E3FC;\n",
              "    }\n",
              "\n",
              "    [theme=dark] .colab-df-convert:hover {\n",
              "      background-color: #434B5C;\n",
              "      box-shadow: 0px 1px 3px 1px rgba(0, 0, 0, 0.15);\n",
              "      filter: drop-shadow(0px 1px 2px rgba(0, 0, 0, 0.3));\n",
              "      fill: #FFFFFF;\n",
              "    }\n",
              "  </style>\n",
              "\n",
              "      <script>\n",
              "        const buttonEl =\n",
              "          document.querySelector('#df-92b66a40-c90c-4549-9e23-b6be73db1fcd button.colab-df-convert');\n",
              "        buttonEl.style.display =\n",
              "          google.colab.kernel.accessAllowed ? 'block' : 'none';\n",
              "\n",
              "        async function convertToInteractive(key) {\n",
              "          const element = document.querySelector('#df-92b66a40-c90c-4549-9e23-b6be73db1fcd');\n",
              "          const dataTable =\n",
              "            await google.colab.kernel.invokeFunction('convertToInteractive',\n",
              "                                                     [key], {});\n",
              "          if (!dataTable) return;\n",
              "\n",
              "          const docLinkHtml = 'Like what you see? Visit the ' +\n",
              "            '<a target=\"_blank\" href=https://colab.research.google.com/notebooks/data_table.ipynb>data table notebook</a>'\n",
              "            + ' to learn more about interactive tables.';\n",
              "          element.innerHTML = '';\n",
              "          dataTable['output_type'] = 'display_data';\n",
              "          await google.colab.output.renderOutput(dataTable, element);\n",
              "          const docLink = document.createElement('div');\n",
              "          docLink.innerHTML = docLinkHtml;\n",
              "          element.appendChild(docLink);\n",
              "        }\n",
              "      </script>\n",
              "    </div>\n",
              "  </div>\n",
              "  "
            ]
          },
          "metadata": {},
          "execution_count": 85
        }
      ],
      "source": [
        "# 알고리즘을 바꿔가면서 GridSearchCV하게 만들 수 있다. \n",
        "pd.DataFrame(grid.cv_results_)"
      ]
    },
    {
      "cell_type": "markdown",
      "metadata": {
        "id": "0mFT4fI6c6cG"
      },
      "source": [
        "### 알고리즘마다 하이퍼 파라미터 찾기"
      ]
    },
    {
      "cell_type": "code",
      "execution_count": null,
      "metadata": {
        "id": "GGcM-FYec6cH"
      },
      "outputs": [],
      "source": [
        "# param_grid를 list 안의 dict로 넣으면, dictionary끼리만 조합을 만든다.\n",
        "# 최적의 알고리즘과 최적의 하이퍼 파라미터를 동시에 찾을 수 있다.\n",
        "grid = GridSearchCV(pipe, [{'clf':[KNeighborsClassifier()], \n",
        "                            'clf__n_neighbors':[2,3,4,5]},\n",
        "                           {'clf':[LogisticRegression()]}])"
      ]
    },
    {
      "cell_type": "code",
      "execution_count": null,
      "metadata": {
        "id": "h1HnXAGic6cH",
        "outputId": "d8ed4e35-bb06-4765-f3cd-59792e28aba6",
        "colab": {
          "base_uri": "https://localhost:8080/",
          "height": 152
        }
      },
      "outputs": [
        {
          "output_type": "execute_result",
          "data": {
            "text/plain": [
              "GridSearchCV(estimator=Pipeline(steps=[('ss', StandardScaler()),\n",
              "                                       ('clf', KNeighborsClassifier())]),\n",
              "             param_grid=[{'clf': [KNeighborsClassifier()],\n",
              "                          'clf__n_neighbors': [2, 3, 4, 5]},\n",
              "                         {'clf': [LogisticRegression()]}])"
            ],
            "text/html": [
              "<style>#sk-container-id-9 {color: black;background-color: white;}#sk-container-id-9 pre{padding: 0;}#sk-container-id-9 div.sk-toggleable {background-color: white;}#sk-container-id-9 label.sk-toggleable__label {cursor: pointer;display: block;width: 100%;margin-bottom: 0;padding: 0.3em;box-sizing: border-box;text-align: center;}#sk-container-id-9 label.sk-toggleable__label-arrow:before {content: \"▸\";float: left;margin-right: 0.25em;color: #696969;}#sk-container-id-9 label.sk-toggleable__label-arrow:hover:before {color: black;}#sk-container-id-9 div.sk-estimator:hover label.sk-toggleable__label-arrow:before {color: black;}#sk-container-id-9 div.sk-toggleable__content {max-height: 0;max-width: 0;overflow: hidden;text-align: left;background-color: #f0f8ff;}#sk-container-id-9 div.sk-toggleable__content pre {margin: 0.2em;color: black;border-radius: 0.25em;background-color: #f0f8ff;}#sk-container-id-9 input.sk-toggleable__control:checked~div.sk-toggleable__content {max-height: 200px;max-width: 100%;overflow: auto;}#sk-container-id-9 input.sk-toggleable__control:checked~label.sk-toggleable__label-arrow:before {content: \"▾\";}#sk-container-id-9 div.sk-estimator input.sk-toggleable__control:checked~label.sk-toggleable__label {background-color: #d4ebff;}#sk-container-id-9 div.sk-label input.sk-toggleable__control:checked~label.sk-toggleable__label {background-color: #d4ebff;}#sk-container-id-9 input.sk-hidden--visually {border: 0;clip: rect(1px 1px 1px 1px);clip: rect(1px, 1px, 1px, 1px);height: 1px;margin: -1px;overflow: hidden;padding: 0;position: absolute;width: 1px;}#sk-container-id-9 div.sk-estimator {font-family: monospace;background-color: #f0f8ff;border: 1px dotted black;border-radius: 0.25em;box-sizing: border-box;margin-bottom: 0.5em;}#sk-container-id-9 div.sk-estimator:hover {background-color: #d4ebff;}#sk-container-id-9 div.sk-parallel-item::after {content: \"\";width: 100%;border-bottom: 1px solid gray;flex-grow: 1;}#sk-container-id-9 div.sk-label:hover label.sk-toggleable__label {background-color: #d4ebff;}#sk-container-id-9 div.sk-serial::before {content: \"\";position: absolute;border-left: 1px solid gray;box-sizing: border-box;top: 0;bottom: 0;left: 50%;z-index: 0;}#sk-container-id-9 div.sk-serial {display: flex;flex-direction: column;align-items: center;background-color: white;padding-right: 0.2em;padding-left: 0.2em;position: relative;}#sk-container-id-9 div.sk-item {position: relative;z-index: 1;}#sk-container-id-9 div.sk-parallel {display: flex;align-items: stretch;justify-content: center;background-color: white;position: relative;}#sk-container-id-9 div.sk-item::before, #sk-container-id-9 div.sk-parallel-item::before {content: \"\";position: absolute;border-left: 1px solid gray;box-sizing: border-box;top: 0;bottom: 0;left: 50%;z-index: -1;}#sk-container-id-9 div.sk-parallel-item {display: flex;flex-direction: column;z-index: 1;position: relative;background-color: white;}#sk-container-id-9 div.sk-parallel-item:first-child::after {align-self: flex-end;width: 50%;}#sk-container-id-9 div.sk-parallel-item:last-child::after {align-self: flex-start;width: 50%;}#sk-container-id-9 div.sk-parallel-item:only-child::after {width: 0;}#sk-container-id-9 div.sk-dashed-wrapped {border: 1px dashed gray;margin: 0 0.4em 0.5em 0.4em;box-sizing: border-box;padding-bottom: 0.4em;background-color: white;}#sk-container-id-9 div.sk-label label {font-family: monospace;font-weight: bold;display: inline-block;line-height: 1.2em;}#sk-container-id-9 div.sk-label-container {text-align: center;}#sk-container-id-9 div.sk-container {/* jupyter's `normalize.less` sets `[hidden] { display: none; }` but bootstrap.min.css set `[hidden] { display: none !important; }` so we also need the `!important` here to be able to override the default hidden behavior on the sphinx rendered scikit-learn.org. See: https://github.com/scikit-learn/scikit-learn/issues/21755 */display: inline-block !important;position: relative;}#sk-container-id-9 div.sk-text-repr-fallback {display: none;}</style><div id=\"sk-container-id-9\" class=\"sk-top-container\"><div class=\"sk-text-repr-fallback\"><pre>GridSearchCV(estimator=Pipeline(steps=[(&#x27;ss&#x27;, StandardScaler()),\n",
              "                                       (&#x27;clf&#x27;, KNeighborsClassifier())]),\n",
              "             param_grid=[{&#x27;clf&#x27;: [KNeighborsClassifier()],\n",
              "                          &#x27;clf__n_neighbors&#x27;: [2, 3, 4, 5]},\n",
              "                         {&#x27;clf&#x27;: [LogisticRegression()]}])</pre><b>In a Jupyter environment, please rerun this cell to show the HTML representation or trust the notebook. <br />On GitHub, the HTML representation is unable to render, please try loading this page with nbviewer.org.</b></div><div class=\"sk-container\" hidden><div class=\"sk-item sk-dashed-wrapped\"><div class=\"sk-label-container\"><div class=\"sk-label sk-toggleable\"><input class=\"sk-toggleable__control sk-hidden--visually\" id=\"sk-estimator-id-21\" type=\"checkbox\" ><label for=\"sk-estimator-id-21\" class=\"sk-toggleable__label sk-toggleable__label-arrow\">GridSearchCV</label><div class=\"sk-toggleable__content\"><pre>GridSearchCV(estimator=Pipeline(steps=[(&#x27;ss&#x27;, StandardScaler()),\n",
              "                                       (&#x27;clf&#x27;, KNeighborsClassifier())]),\n",
              "             param_grid=[{&#x27;clf&#x27;: [KNeighborsClassifier()],\n",
              "                          &#x27;clf__n_neighbors&#x27;: [2, 3, 4, 5]},\n",
              "                         {&#x27;clf&#x27;: [LogisticRegression()]}])</pre></div></div></div><div class=\"sk-parallel\"><div class=\"sk-parallel-item\"><div class=\"sk-item\"><div class=\"sk-label-container\"><div class=\"sk-label sk-toggleable\"><input class=\"sk-toggleable__control sk-hidden--visually\" id=\"sk-estimator-id-22\" type=\"checkbox\" ><label for=\"sk-estimator-id-22\" class=\"sk-toggleable__label sk-toggleable__label-arrow\">estimator: Pipeline</label><div class=\"sk-toggleable__content\"><pre>Pipeline(steps=[(&#x27;ss&#x27;, StandardScaler()), (&#x27;clf&#x27;, KNeighborsClassifier())])</pre></div></div></div><div class=\"sk-serial\"><div class=\"sk-item\"><div class=\"sk-serial\"><div class=\"sk-item\"><div class=\"sk-estimator sk-toggleable\"><input class=\"sk-toggleable__control sk-hidden--visually\" id=\"sk-estimator-id-23\" type=\"checkbox\" ><label for=\"sk-estimator-id-23\" class=\"sk-toggleable__label sk-toggleable__label-arrow\">StandardScaler</label><div class=\"sk-toggleable__content\"><pre>StandardScaler()</pre></div></div></div><div class=\"sk-item\"><div class=\"sk-estimator sk-toggleable\"><input class=\"sk-toggleable__control sk-hidden--visually\" id=\"sk-estimator-id-24\" type=\"checkbox\" ><label for=\"sk-estimator-id-24\" class=\"sk-toggleable__label sk-toggleable__label-arrow\">KNeighborsClassifier</label><div class=\"sk-toggleable__content\"><pre>KNeighborsClassifier()</pre></div></div></div></div></div></div></div></div></div></div></div></div>"
            ]
          },
          "metadata": {},
          "execution_count": 87
        }
      ],
      "source": [
        "grid.fit(wine.iloc[:, :-1], wine.target)"
      ]
    },
    {
      "cell_type": "code",
      "execution_count": null,
      "metadata": {
        "id": "nlI913LIc6cH",
        "outputId": "5832386d-60e6-4dd0-c603-cbf0d83588ab",
        "colab": {
          "base_uri": "https://localhost:8080/",
          "height": 426
        }
      },
      "outputs": [
        {
          "output_type": "execute_result",
          "data": {
            "text/plain": [
              "   mean_fit_time  std_fit_time  mean_score_time  std_score_time  \\\n",
              "0       0.005150      0.001580         0.003437        0.000552   \n",
              "1       0.003176      0.000138         0.003101        0.000158   \n",
              "2       0.002933      0.000146         0.002853        0.000079   \n",
              "3       0.002866      0.000087         0.002755        0.000047   \n",
              "4       0.007050      0.000125         0.001521        0.000050   \n",
              "\n",
              "                param_clf param_clf__n_neighbors  \\\n",
              "0  KNeighborsClassifier()                      2   \n",
              "1  KNeighborsClassifier()                      3   \n",
              "2  KNeighborsClassifier()                      4   \n",
              "3  KNeighborsClassifier()                      5   \n",
              "4    LogisticRegression()                    NaN   \n",
              "\n",
              "                                              params  split0_test_score  \\\n",
              "0  {'clf': KNeighborsClassifier(), 'clf__n_neighb...           0.916667   \n",
              "1  {'clf': KNeighborsClassifier(), 'clf__n_neighb...           0.888889   \n",
              "2  {'clf': KNeighborsClassifier(), 'clf__n_neighb...           0.888889   \n",
              "3  {'clf': KNeighborsClassifier(), 'clf__n_neighb...           0.944444   \n",
              "4                      {'clf': LogisticRegression()}           0.972222   \n",
              "\n",
              "   split1_test_score  split2_test_score  split3_test_score  split4_test_score  \\\n",
              "0           0.944444           0.944444           1.000000           0.914286   \n",
              "1           0.944444           0.972222           1.000000           0.914286   \n",
              "2           0.944444           0.972222           1.000000           0.914286   \n",
              "3           0.944444           0.972222           1.000000           0.885714   \n",
              "4           0.972222           1.000000           0.971429           1.000000   \n",
              "\n",
              "   mean_test_score  std_test_score  rank_test_score  \n",
              "0         0.943968        0.030875                3  \n",
              "1         0.943968        0.039630                3  \n",
              "2         0.943968        0.039630                3  \n",
              "3         0.949365        0.037911                2  \n",
              "4         0.983175        0.013741                1  "
            ],
            "text/html": [
              "\n",
              "  <div id=\"df-39c6ca18-ac5e-44d0-9b9e-efeca6fb6d1c\">\n",
              "    <div class=\"colab-df-container\">\n",
              "      <div>\n",
              "<style scoped>\n",
              "    .dataframe tbody tr th:only-of-type {\n",
              "        vertical-align: middle;\n",
              "    }\n",
              "\n",
              "    .dataframe tbody tr th {\n",
              "        vertical-align: top;\n",
              "    }\n",
              "\n",
              "    .dataframe thead th {\n",
              "        text-align: right;\n",
              "    }\n",
              "</style>\n",
              "<table border=\"1\" class=\"dataframe\">\n",
              "  <thead>\n",
              "    <tr style=\"text-align: right;\">\n",
              "      <th></th>\n",
              "      <th>mean_fit_time</th>\n",
              "      <th>std_fit_time</th>\n",
              "      <th>mean_score_time</th>\n",
              "      <th>std_score_time</th>\n",
              "      <th>param_clf</th>\n",
              "      <th>param_clf__n_neighbors</th>\n",
              "      <th>params</th>\n",
              "      <th>split0_test_score</th>\n",
              "      <th>split1_test_score</th>\n",
              "      <th>split2_test_score</th>\n",
              "      <th>split3_test_score</th>\n",
              "      <th>split4_test_score</th>\n",
              "      <th>mean_test_score</th>\n",
              "      <th>std_test_score</th>\n",
              "      <th>rank_test_score</th>\n",
              "    </tr>\n",
              "  </thead>\n",
              "  <tbody>\n",
              "    <tr>\n",
              "      <th>0</th>\n",
              "      <td>0.005150</td>\n",
              "      <td>0.001580</td>\n",
              "      <td>0.003437</td>\n",
              "      <td>0.000552</td>\n",
              "      <td>KNeighborsClassifier()</td>\n",
              "      <td>2</td>\n",
              "      <td>{'clf': KNeighborsClassifier(), 'clf__n_neighb...</td>\n",
              "      <td>0.916667</td>\n",
              "      <td>0.944444</td>\n",
              "      <td>0.944444</td>\n",
              "      <td>1.000000</td>\n",
              "      <td>0.914286</td>\n",
              "      <td>0.943968</td>\n",
              "      <td>0.030875</td>\n",
              "      <td>3</td>\n",
              "    </tr>\n",
              "    <tr>\n",
              "      <th>1</th>\n",
              "      <td>0.003176</td>\n",
              "      <td>0.000138</td>\n",
              "      <td>0.003101</td>\n",
              "      <td>0.000158</td>\n",
              "      <td>KNeighborsClassifier()</td>\n",
              "      <td>3</td>\n",
              "      <td>{'clf': KNeighborsClassifier(), 'clf__n_neighb...</td>\n",
              "      <td>0.888889</td>\n",
              "      <td>0.944444</td>\n",
              "      <td>0.972222</td>\n",
              "      <td>1.000000</td>\n",
              "      <td>0.914286</td>\n",
              "      <td>0.943968</td>\n",
              "      <td>0.039630</td>\n",
              "      <td>3</td>\n",
              "    </tr>\n",
              "    <tr>\n",
              "      <th>2</th>\n",
              "      <td>0.002933</td>\n",
              "      <td>0.000146</td>\n",
              "      <td>0.002853</td>\n",
              "      <td>0.000079</td>\n",
              "      <td>KNeighborsClassifier()</td>\n",
              "      <td>4</td>\n",
              "      <td>{'clf': KNeighborsClassifier(), 'clf__n_neighb...</td>\n",
              "      <td>0.888889</td>\n",
              "      <td>0.944444</td>\n",
              "      <td>0.972222</td>\n",
              "      <td>1.000000</td>\n",
              "      <td>0.914286</td>\n",
              "      <td>0.943968</td>\n",
              "      <td>0.039630</td>\n",
              "      <td>3</td>\n",
              "    </tr>\n",
              "    <tr>\n",
              "      <th>3</th>\n",
              "      <td>0.002866</td>\n",
              "      <td>0.000087</td>\n",
              "      <td>0.002755</td>\n",
              "      <td>0.000047</td>\n",
              "      <td>KNeighborsClassifier()</td>\n",
              "      <td>5</td>\n",
              "      <td>{'clf': KNeighborsClassifier(), 'clf__n_neighb...</td>\n",
              "      <td>0.944444</td>\n",
              "      <td>0.944444</td>\n",
              "      <td>0.972222</td>\n",
              "      <td>1.000000</td>\n",
              "      <td>0.885714</td>\n",
              "      <td>0.949365</td>\n",
              "      <td>0.037911</td>\n",
              "      <td>2</td>\n",
              "    </tr>\n",
              "    <tr>\n",
              "      <th>4</th>\n",
              "      <td>0.007050</td>\n",
              "      <td>0.000125</td>\n",
              "      <td>0.001521</td>\n",
              "      <td>0.000050</td>\n",
              "      <td>LogisticRegression()</td>\n",
              "      <td>NaN</td>\n",
              "      <td>{'clf': LogisticRegression()}</td>\n",
              "      <td>0.972222</td>\n",
              "      <td>0.972222</td>\n",
              "      <td>1.000000</td>\n",
              "      <td>0.971429</td>\n",
              "      <td>1.000000</td>\n",
              "      <td>0.983175</td>\n",
              "      <td>0.013741</td>\n",
              "      <td>1</td>\n",
              "    </tr>\n",
              "  </tbody>\n",
              "</table>\n",
              "</div>\n",
              "      <button class=\"colab-df-convert\" onclick=\"convertToInteractive('df-39c6ca18-ac5e-44d0-9b9e-efeca6fb6d1c')\"\n",
              "              title=\"Convert this dataframe to an interactive table.\"\n",
              "              style=\"display:none;\">\n",
              "        \n",
              "  <svg xmlns=\"http://www.w3.org/2000/svg\" height=\"24px\"viewBox=\"0 0 24 24\"\n",
              "       width=\"24px\">\n",
              "    <path d=\"M0 0h24v24H0V0z\" fill=\"none\"/>\n",
              "    <path d=\"M18.56 5.44l.94 2.06.94-2.06 2.06-.94-2.06-.94-.94-2.06-.94 2.06-2.06.94zm-11 1L8.5 8.5l.94-2.06 2.06-.94-2.06-.94L8.5 2.5l-.94 2.06-2.06.94zm10 10l.94 2.06.94-2.06 2.06-.94-2.06-.94-.94-2.06-.94 2.06-2.06.94z\"/><path d=\"M17.41 7.96l-1.37-1.37c-.4-.4-.92-.59-1.43-.59-.52 0-1.04.2-1.43.59L10.3 9.45l-7.72 7.72c-.78.78-.78 2.05 0 2.83L4 21.41c.39.39.9.59 1.41.59.51 0 1.02-.2 1.41-.59l7.78-7.78 2.81-2.81c.8-.78.8-2.07 0-2.86zM5.41 20L4 18.59l7.72-7.72 1.47 1.35L5.41 20z\"/>\n",
              "  </svg>\n",
              "      </button>\n",
              "      \n",
              "  <style>\n",
              "    .colab-df-container {\n",
              "      display:flex;\n",
              "      flex-wrap:wrap;\n",
              "      gap: 12px;\n",
              "    }\n",
              "\n",
              "    .colab-df-convert {\n",
              "      background-color: #E8F0FE;\n",
              "      border: none;\n",
              "      border-radius: 50%;\n",
              "      cursor: pointer;\n",
              "      display: none;\n",
              "      fill: #1967D2;\n",
              "      height: 32px;\n",
              "      padding: 0 0 0 0;\n",
              "      width: 32px;\n",
              "    }\n",
              "\n",
              "    .colab-df-convert:hover {\n",
              "      background-color: #E2EBFA;\n",
              "      box-shadow: 0px 1px 2px rgba(60, 64, 67, 0.3), 0px 1px 3px 1px rgba(60, 64, 67, 0.15);\n",
              "      fill: #174EA6;\n",
              "    }\n",
              "\n",
              "    [theme=dark] .colab-df-convert {\n",
              "      background-color: #3B4455;\n",
              "      fill: #D2E3FC;\n",
              "    }\n",
              "\n",
              "    [theme=dark] .colab-df-convert:hover {\n",
              "      background-color: #434B5C;\n",
              "      box-shadow: 0px 1px 3px 1px rgba(0, 0, 0, 0.15);\n",
              "      filter: drop-shadow(0px 1px 2px rgba(0, 0, 0, 0.3));\n",
              "      fill: #FFFFFF;\n",
              "    }\n",
              "  </style>\n",
              "\n",
              "      <script>\n",
              "        const buttonEl =\n",
              "          document.querySelector('#df-39c6ca18-ac5e-44d0-9b9e-efeca6fb6d1c button.colab-df-convert');\n",
              "        buttonEl.style.display =\n",
              "          google.colab.kernel.accessAllowed ? 'block' : 'none';\n",
              "\n",
              "        async function convertToInteractive(key) {\n",
              "          const element = document.querySelector('#df-39c6ca18-ac5e-44d0-9b9e-efeca6fb6d1c');\n",
              "          const dataTable =\n",
              "            await google.colab.kernel.invokeFunction('convertToInteractive',\n",
              "                                                     [key], {});\n",
              "          if (!dataTable) return;\n",
              "\n",
              "          const docLinkHtml = 'Like what you see? Visit the ' +\n",
              "            '<a target=\"_blank\" href=https://colab.research.google.com/notebooks/data_table.ipynb>data table notebook</a>'\n",
              "            + ' to learn more about interactive tables.';\n",
              "          element.innerHTML = '';\n",
              "          dataTable['output_type'] = 'display_data';\n",
              "          await google.colab.output.renderOutput(dataTable, element);\n",
              "          const docLink = document.createElement('div');\n",
              "          docLink.innerHTML = docLinkHtml;\n",
              "          element.appendChild(docLink);\n",
              "        }\n",
              "      </script>\n",
              "    </div>\n",
              "  </div>\n",
              "  "
            ]
          },
          "metadata": {},
          "execution_count": 88
        }
      ],
      "source": [
        "# knn의 하이퍼 파라미터는 knn에서만 사용되었다.\n",
        "pd.DataFrame(grid.cv_results_)"
      ]
    },
    {
      "cell_type": "markdown",
      "source": [
        "test_score가 가장 높은 4번 LogisticRegression이 가장 성능이 좋게 나온다.  \n",
        "따라서 위 데이터를 돌릴 떄는 LogisticRegression을 사용해야 한다."
      ],
      "metadata": {
        "id": "Elh7qByrc6cH"
      }
    },
    {
      "cell_type": "markdown",
      "source": [
        "https://guru.tistory.com/36   \n",
        "https://jhryu1208.github.io/data/2021/01/24/ML_cross_validation/"
      ],
      "metadata": {
        "id": "RxkR5M6TNy1x"
      }
    },
    {
      "cell_type": "code",
      "source": [],
      "metadata": {
        "id": "y5QWAvuxNzTi"
      },
      "execution_count": null,
      "outputs": []
    }
  ],
  "metadata": {
    "kernelspec": {
      "display_name": "Python 3",
      "language": "python",
      "name": "python3"
    },
    "language_info": {
      "codemirror_mode": {
        "name": "ipython",
        "version": 3
      },
      "file_extension": ".py",
      "mimetype": "text/x-python",
      "name": "python",
      "nbconvert_exporter": "python",
      "pygments_lexer": "ipython3",
      "version": "3.8.5"
    },
    "toc": {
      "base_numbering": 1,
      "nav_menu": {},
      "number_sections": true,
      "sideBar": true,
      "skip_h1_title": true,
      "title_cell": "Table of Contents",
      "title_sidebar": "Contents",
      "toc_cell": true,
      "toc_position": {},
      "toc_section_display": true,
      "toc_window_display": true
    },
    "varInspector": {
      "cols": {
        "lenName": 16,
        "lenType": 16,
        "lenVar": 40
      },
      "kernels_config": {
        "python": {
          "delete_cmd_postfix": "",
          "delete_cmd_prefix": "del ",
          "library": "var_list.py",
          "varRefreshCmd": "print(var_dic_list())"
        },
        "r": {
          "delete_cmd_postfix": ") ",
          "delete_cmd_prefix": "rm(",
          "library": "var_list.r",
          "varRefreshCmd": "cat(var_dic_list()) "
        }
      },
      "types_to_exclude": [
        "module",
        "function",
        "builtin_function_or_method",
        "instance",
        "_Feature"
      ],
      "window_display": false
    },
    "colab": {
      "provenance": [],
      "include_colab_link": true
    }
  },
  "nbformat": 4,
  "nbformat_minor": 0
}