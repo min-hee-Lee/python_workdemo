{
  "nbformat": 4,
  "nbformat_minor": 0,
  "metadata": {
    "colab": {
      "provenance": [],
      "authorship_tag": "ABX9TyPcVbdwJjaqzGIlV+aX6MKw",
      "include_colab_link": true
    },
    "kernelspec": {
      "name": "python3",
      "display_name": "Python 3"
    },
    "language_info": {
      "name": "python"
    }
  },
  "cells": [
    {
      "cell_type": "markdown",
      "metadata": {
        "id": "view-in-github",
        "colab_type": "text"
      },
      "source": [
        "<a href=\"https://colab.research.google.com/github/min-hee-Lee/python_workdemo/blob/master/p101_python_%EC%A0%9C%EC%96%B4%EB%AC%B8.ipynb\" target=\"_parent\"><img src=\"https://colab.research.google.com/assets/colab-badge.svg\" alt=\"Open In Colab\"/></a>"
      ]
    },
    {
      "cell_type": "code",
      "execution_count": null,
      "metadata": {
        "colab": {
          "base_uri": "https://localhost:8080/"
        },
        "id": "QZcYUWztn70m",
        "outputId": "a4943288-358d-491c-f6a5-4be30a801e4f"
      },
      "outputs": [
        {
          "output_type": "stream",
          "name": "stdout",
          "text": [
            "Yes\n",
            "OK\n"
          ]
        }
      ],
      "source": [
        "a = 1\n",
        "if a>0 : \n",
        "  print('Yes')\n",
        "  print('OK')\n",
        "else :\n",
        "  print('No')\n",
        "  print('Fail') #들여쓰기를 맞춰서 해야 같은 조건으로 인식"
      ]
    },
    {
      "cell_type": "markdown",
      "source": [
        "### existance\n",
        "python에서 조건은 존재론(existance)적이다. ->truthy, falsy\n"
      ],
      "metadata": {
        "id": "WZQionLcqx6g"
      }
    },
    {
      "cell_type": "code",
      "source": [
        "#0은 숫자가 없는 것과 같음 -> falsy\n",
        "a = 0.0\n",
        "if a:\n",
        "  print('Yes')\n",
        "else:\n",
        "  print('No') "
      ],
      "metadata": {
        "colab": {
          "base_uri": "https://localhost:8080/"
        },
        "id": "DAA3VrY2qBQI",
        "outputId": "38c31dc7-89bf-4a86-e128-c5b452b78b93"
      },
      "execution_count": null,
      "outputs": [
        {
          "output_type": "stream",
          "name": "stdout",
          "text": [
            "No\n"
          ]
        }
      ]
    },
    {
      "cell_type": "code",
      "source": [
        "#None은 객체가 없는 것과 같음 -> falsy\n",
        "a = None\n",
        "if a:\n",
        "  print('Yes')\n",
        "else:\n",
        "  print('No')"
      ],
      "metadata": {
        "colab": {
          "base_uri": "https://localhost:8080/"
        },
        "id": "neS5gFbZr31z",
        "outputId": "f0733afa-5d2f-4ff7-e024-dd245aaeb89a"
      },
      "execution_count": null,
      "outputs": [
        {
          "output_type": "stream",
          "name": "stdout",
          "text": [
            "No\n"
          ]
        }
      ]
    },
    {
      "cell_type": "code",
      "source": [
        "#비어 있는 dict는 없는 것과 같음 -> falsy\n",
        "a = {}\n",
        "if a:\n",
        "  print('Yes')\n",
        "else:\n",
        "  print('No')"
      ],
      "metadata": {
        "colab": {
          "base_uri": "https://localhost:8080/"
        },
        "id": "RLaJKlZdsVce",
        "outputId": "512b6db6-49fe-43d2-d2f9-1a43a66318bd"
      },
      "execution_count": null,
      "outputs": [
        {
          "output_type": "stream",
          "name": "stdout",
          "text": [
            "No\n"
          ]
        }
      ]
    },
    {
      "cell_type": "code",
      "source": [
        "# 인스턴스 방식으로 값을 만들 때 괄호 안이 비어 있으면 비어 있는 값을 만든다.\n",
        "# if에서 모두 false이다. -> falsy\n",
        "a = int()\n",
        "b = float()\n",
        "c = complex()\n",
        "d = list()"
      ],
      "metadata": {
        "id": "DTVIcqvbswGA"
      },
      "execution_count": null,
      "outputs": []
    },
    {
      "cell_type": "code",
      "source": [
        "if a:\n",
        "  print('Yes')\n",
        "else:\n",
        "  print('No')"
      ],
      "metadata": {
        "colab": {
          "base_uri": "https://localhost:8080/"
        },
        "id": "0gXCbD49tFnD",
        "outputId": "fac8625e-9eed-4ecc-caec-1fa0e4c2ccfb"
      },
      "execution_count": null,
      "outputs": [
        {
          "output_type": "stream",
          "name": "stdout",
          "text": [
            "No\n"
          ]
        }
      ]
    },
    {
      "cell_type": "code",
      "source": [
        "3<2 or 4<5\n"
      ],
      "metadata": {
        "colab": {
          "base_uri": "https://localhost:8080/"
        },
        "id": "V4D2v2vYtLsc",
        "outputId": "a73d391c-7603-49e0-e6cb-37a36775126d"
      },
      "execution_count": null,
      "outputs": [
        {
          "output_type": "execute_result",
          "data": {
            "text/plain": [
              "True"
            ]
          },
          "metadata": {},
          "execution_count": 9
        }
      ]
    },
    {
      "cell_type": "code",
      "source": [
        "# (3과 4는 존재론적으로 true이므로 true and true 이면 뒤 값을 리턴해준다.)\n",
        "# and는 앞이 True이면 뒤에 값을 수행한다.\n",
        "# 3은 존재론적으로 True\n",
        "3 and 4"
      ],
      "metadata": {
        "colab": {
          "base_uri": "https://localhost:8080/"
        },
        "id": "A_R38Bndt8lO",
        "outputId": "020c1cdf-6365-45d0-c3e6-df17e11b58b0"
      },
      "execution_count": null,
      "outputs": [
        {
          "output_type": "execute_result",
          "data": {
            "text/plain": [
              "4"
            ]
          },
          "metadata": {},
          "execution_count": 10
        }
      ]
    },
    {
      "cell_type": "code",
      "source": [
        "# and는 앞이 False이면 앞의 값을 반환한다.(앞이 false이면 뒤의 값을 수행하지 않음)\n",
        "# 비어 있는 문자열은 없는 것과 같다. -> falsy\n",
        "\"\" and 4"
      ],
      "metadata": {
        "colab": {
          "base_uri": "https://localhost:8080/",
          "height": 36
        },
        "id": "XW5FlP9EuN3q",
        "outputId": "5a908e02-08a1-49e7-a2ab-189847f67ab8"
      },
      "execution_count": null,
      "outputs": [
        {
          "output_type": "execute_result",
          "data": {
            "text/plain": [
              "''"
            ],
            "application/vnd.google.colaboratory.intrinsic+json": {
              "type": "string"
            }
          },
          "metadata": {},
          "execution_count": 11
        }
      ]
    },
    {
      "cell_type": "code",
      "source": [
        "0 and 4"
      ],
      "metadata": {
        "colab": {
          "base_uri": "https://localhost:8080/"
        },
        "id": "RCj-JAq3u8Mx",
        "outputId": "6eb0ad23-3e88-4a7e-d9e8-e60c4900c57f"
      },
      "execution_count": null,
      "outputs": [
        {
          "output_type": "execute_result",
          "data": {
            "text/plain": [
              "0"
            ]
          },
          "metadata": {},
          "execution_count": 12
        }
      ]
    },
    {
      "cell_type": "code",
      "source": [
        "# or는 and의 반대(앞이 false여도 뒤의 값 수행)\n",
        "# 앞이 true이면 앞, 앞이 false이면 뒤의 값을 반환한다.\n",
        "\"\" or 4"
      ],
      "metadata": {
        "colab": {
          "base_uri": "https://localhost:8080/"
        },
        "id": "cuQgz3Eru_5X",
        "outputId": "39e61fef-d5ca-4183-fbde-3af4027474d9"
      },
      "execution_count": null,
      "outputs": [
        {
          "output_type": "execute_result",
          "data": {
            "text/plain": [
              "4"
            ]
          },
          "metadata": {},
          "execution_count": 13
        }
      ]
    },
    {
      "cell_type": "code",
      "source": [
        "# or는 앞이 true이면 뒤의 값을 수행할 필요 없음\n",
        "1 or 4"
      ],
      "metadata": {
        "colab": {
          "base_uri": "https://localhost:8080/"
        },
        "id": "72dmkrgrvaVz",
        "outputId": "0917f653-aa1a-40b9-8c05-5df5b6fba0ac"
      },
      "execution_count": null,
      "outputs": [
        {
          "output_type": "execute_result",
          "data": {
            "text/plain": [
              "1"
            ]
          },
          "metadata": {},
          "execution_count": 14
        }
      ]
    },
    {
      "cell_type": "code",
      "source": [
        "# 모든 조건식에 문장을 사용할 수 없다.\n",
        "#if a=4:\n",
        "#  print('Yes')"
      ],
      "metadata": {
        "colab": {
          "base_uri": "https://localhost:8080/",
          "height": 138
        },
        "id": "-mAXi3pxwOLl",
        "outputId": "4301b53b-c52f-4b45-bd3c-aaa0611aa8a4"
      },
      "execution_count": null,
      "outputs": [
        {
          "output_type": "error",
          "ename": "SyntaxError",
          "evalue": "ignored",
          "traceback": [
            "\u001b[0;36m  File \u001b[0;32m\"<ipython-input-15-d1d870694cf4>\"\u001b[0;36m, line \u001b[0;32m1\u001b[0m\n\u001b[0;31m    if a=4:\u001b[0m\n\u001b[0m        ^\u001b[0m\n\u001b[0;31mSyntaxError\u001b[0m\u001b[0;31m:\u001b[0m invalid syntax\n"
          ]
        }
      ]
    },
    {
      "cell_type": "code",
      "source": [
        "#반복문 for in 을 이용해 리스트를 값을 각각 가져올 수 있다\n",
        "for v in [1,2,3,4,5]:\n",
        "  print(v)"
      ],
      "metadata": {
        "colab": {
          "base_uri": "https://localhost:8080/"
        },
        "id": "HQ9hbhG2xJmf",
        "outputId": "c0cb354d-f350-4791-ed16-13cf0e00b2d4"
      },
      "execution_count": null,
      "outputs": [
        {
          "output_type": "stream",
          "name": "stdout",
          "text": [
            "1\n",
            "2\n",
            "3\n",
            "4\n",
            "5\n"
          ]
        }
      ]
    },
    {
      "cell_type": "code",
      "source": [
        "a=3;\n",
        "while a>0:\n",
        "  print(a)\n",
        "  break;"
      ],
      "metadata": {
        "colab": {
          "base_uri": "https://localhost:8080/"
        },
        "id": "yjg4nXpdxdLi",
        "outputId": "b18c59b2-f8d0-4eff-86ab-1baec6ef1ce5"
      },
      "execution_count": null,
      "outputs": [
        {
          "output_type": "stream",
          "name": "stdout",
          "text": [
            "3\n"
          ]
        }
      ]
    },
    {
      "cell_type": "code",
      "source": [
        "#list안에 tuple저장\n",
        "t = [('one',1),('two',2)]\n",
        "for k in t:\n",
        "  print(k, type(k))"
      ],
      "metadata": {
        "colab": {
          "base_uri": "https://localhost:8080/"
        },
        "id": "8WpGc_ixx9IQ",
        "outputId": "828202c1-8c8e-49c2-e8f1-3e7ec169f153"
      },
      "execution_count": null,
      "outputs": [
        {
          "output_type": "stream",
          "name": "stdout",
          "text": [
            "('one', 1) <class 'tuple'>\n",
            "('two', 2) <class 'tuple'>\n"
          ]
        }
      ]
    },
    {
      "cell_type": "code",
      "source": [
        "t = [('one',1),('two',2)]\n",
        "for k,v in t:\n",
        "  print(k,v)\n",
        "  print(type(k), type(v))"
      ],
      "metadata": {
        "colab": {
          "base_uri": "https://localhost:8080/"
        },
        "id": "MXeWTMgUyUUs",
        "outputId": "977f2d20-5712-4689-df5f-e3f0428caeb7"
      },
      "execution_count": null,
      "outputs": [
        {
          "output_type": "stream",
          "name": "stdout",
          "text": [
            "one 1\n",
            "<class 'str'> <class 'int'>\n",
            "two 2\n",
            "<class 'str'> <class 'int'>\n"
          ]
        }
      ]
    },
    {
      "cell_type": "code",
      "source": [
        "dic={'a':1, 'b':2}\n",
        "for k in dic:\n",
        "  print(k, type(k)) #dict는 key만 가져온다"
      ],
      "metadata": {
        "colab": {
          "base_uri": "https://localhost:8080/"
        },
        "id": "YK94wmuAyrpy",
        "outputId": "bb3586ea-b6fe-4497-b983-4d8bfe6aae80"
      },
      "execution_count": null,
      "outputs": [
        {
          "output_type": "stream",
          "name": "stdout",
          "text": [
            "a <class 'str'>\n",
            "b <class 'str'>\n"
          ]
        }
      ]
    },
    {
      "cell_type": "code",
      "source": [
        "dic={'a':1, 'b':2}\n",
        "for k in dic:\n",
        "  print(k, dic[k])"
      ],
      "metadata": {
        "colab": {
          "base_uri": "https://localhost:8080/"
        },
        "id": "NSWwAjTYy5-i",
        "outputId": "99d10450-5105-4997-caa6-bfae827ebfbf"
      },
      "execution_count": null,
      "outputs": [
        {
          "output_type": "stream",
          "name": "stdout",
          "text": [
            "a 1\n",
            "b 2\n"
          ]
        }
      ]
    },
    {
      "cell_type": "code",
      "source": [
        "type(dic)"
      ],
      "metadata": {
        "colab": {
          "base_uri": "https://localhost:8080/"
        },
        "id": "WGoLAHOjzBTf",
        "outputId": "02170e23-45a1-4373-b1c4-f3874c18e2b1"
      },
      "execution_count": null,
      "outputs": [
        {
          "output_type": "execute_result",
          "data": {
            "text/plain": [
              "dict"
            ]
          },
          "metadata": {},
          "execution_count": 32
        }
      ]
    },
    {
      "cell_type": "code",
      "source": [
        "dir(dict)"
      ],
      "metadata": {
        "colab": {
          "base_uri": "https://localhost:8080/"
        },
        "id": "L7TmdZIf30kI",
        "outputId": "5f3ca34e-61f9-4b64-fe42-402bc259a3ca"
      },
      "execution_count": null,
      "outputs": [
        {
          "output_type": "execute_result",
          "data": {
            "text/plain": [
              "['__class__',\n",
              " '__contains__',\n",
              " '__delattr__',\n",
              " '__delitem__',\n",
              " '__dir__',\n",
              " '__doc__',\n",
              " '__eq__',\n",
              " '__format__',\n",
              " '__ge__',\n",
              " '__getattribute__',\n",
              " '__getitem__',\n",
              " '__gt__',\n",
              " '__hash__',\n",
              " '__init__',\n",
              " '__init_subclass__',\n",
              " '__iter__',\n",
              " '__le__',\n",
              " '__len__',\n",
              " '__lt__',\n",
              " '__ne__',\n",
              " '__new__',\n",
              " '__reduce__',\n",
              " '__reduce_ex__',\n",
              " '__repr__',\n",
              " '__reversed__',\n",
              " '__setattr__',\n",
              " '__setitem__',\n",
              " '__sizeof__',\n",
              " '__str__',\n",
              " '__subclasshook__',\n",
              " 'clear',\n",
              " 'copy',\n",
              " 'fromkeys',\n",
              " 'get',\n",
              " 'items',\n",
              " 'keys',\n",
              " 'pop',\n",
              " 'popitem',\n",
              " 'setdefault',\n",
              " 'update',\n",
              " 'values']"
            ]
          },
          "metadata": {},
          "execution_count": 35
        }
      ]
    },
    {
      "cell_type": "code",
      "source": [
        "dir(dic)"
      ],
      "metadata": {
        "colab": {
          "base_uri": "https://localhost:8080/"
        },
        "id": "t3cH8-gq35xW",
        "outputId": "1b42ab95-dcc7-43c3-df7b-cace204920dd"
      },
      "execution_count": null,
      "outputs": [
        {
          "output_type": "execute_result",
          "data": {
            "text/plain": [
              "['__class__',\n",
              " '__contains__',\n",
              " '__delattr__',\n",
              " '__delitem__',\n",
              " '__dir__',\n",
              " '__doc__',\n",
              " '__eq__',\n",
              " '__format__',\n",
              " '__ge__',\n",
              " '__getattribute__',\n",
              " '__getitem__',\n",
              " '__gt__',\n",
              " '__hash__',\n",
              " '__init__',\n",
              " '__init_subclass__',\n",
              " '__iter__',\n",
              " '__le__',\n",
              " '__len__',\n",
              " '__lt__',\n",
              " '__ne__',\n",
              " '__new__',\n",
              " '__reduce__',\n",
              " '__reduce_ex__',\n",
              " '__repr__',\n",
              " '__reversed__',\n",
              " '__setattr__',\n",
              " '__setitem__',\n",
              " '__sizeof__',\n",
              " '__str__',\n",
              " '__subclasshook__',\n",
              " 'clear',\n",
              " 'copy',\n",
              " 'fromkeys',\n",
              " 'get',\n",
              " 'items',\n",
              " 'keys',\n",
              " 'pop',\n",
              " 'popitem',\n",
              " 'setdefault',\n",
              " 'update',\n",
              " 'values']"
            ]
          },
          "metadata": {},
          "execution_count": 34
        }
      ]
    },
    {
      "cell_type": "code",
      "source": [
        "print(len(dir(dict)), len(dir(dic)))"
      ],
      "metadata": {
        "colab": {
          "base_uri": "https://localhost:8080/"
        },
        "id": "o7G5up4u4FOa",
        "outputId": "2fb4017a-7062-4433-b8ee-12a85f3bf1e8"
      },
      "execution_count": null,
      "outputs": [
        {
          "output_type": "stream",
          "name": "stdout",
          "text": [
            "41 41\n"
          ]
        }
      ]
    },
    {
      "cell_type": "code",
      "source": [
        "dic.__doc__  #dic에 대한 설명"
      ],
      "metadata": {
        "colab": {
          "base_uri": "https://localhost:8080/",
          "height": 73
        },
        "id": "vdwfMg2Z4PGI",
        "outputId": "3ae439de-07dc-4ffb-8c1a-218d9130df3e"
      },
      "execution_count": null,
      "outputs": [
        {
          "output_type": "execute_result",
          "data": {
            "text/plain": [
              "\"dict() -> new empty dictionary\\ndict(mapping) -> new dictionary initialized from a mapping object's\\n    (key, value) pairs\\ndict(iterable) -> new dictionary initialized as if via:\\n    d = {}\\n    for k, v in iterable:\\n        d[k] = v\\ndict(**kwargs) -> new dictionary initialized with the name=value pairs\\n    in the keyword argument list.  For example:  dict(one=1, two=2)\""
            ],
            "application/vnd.google.colaboratory.intrinsic+json": {
              "type": "string"
            }
          },
          "metadata": {},
          "execution_count": 37
        }
      ]
    },
    {
      "cell_type": "markdown",
      "source": [
        "### 반복문\n",
        "반복문에서 else는 반복문이 완벽하게 끝났을 때 실행된다.  \n",
        "대부분의 프로그래밍 언어는 while과 for를 지원한다."
      ],
      "metadata": {
        "id": "w9mNLLHw4ik1"
      }
    },
    {
      "cell_type": "code",
      "source": [
        "# 아래는 while문이 완벽히 돌았으므로 end가 출력된다.\n",
        "a = 10\n",
        "\n",
        "while a>5:\n",
        "  a -= 1\n",
        "  print(a)\n",
        "else:\n",
        "  print('end')"
      ],
      "metadata": {
        "colab": {
          "base_uri": "https://localhost:8080/"
        },
        "id": "Etyx_KjP4U7O",
        "outputId": "a06a16c0-4d3b-4e33-e5db-422a3d9af4a0"
      },
      "execution_count": null,
      "outputs": [
        {
          "output_type": "stream",
          "name": "stdout",
          "text": [
            "9\n",
            "8\n",
            "7\n",
            "6\n",
            "5\n",
            "end\n"
          ]
        }
      ]
    },
    {
      "cell_type": "code",
      "source": [
        "# break는 반복문을 중단시킨다.\n",
        "# break가 실행되면 반복문이 완벽하게 실행된 것이 아니므로 else가 실행되지 않는다.\n",
        "a = 10\n",
        "\n",
        "while a>5:\n",
        "  a -= 1\n",
        "  if a==6:\n",
        "    break #중간에 중단시킴\n",
        "  print(a)\n",
        "else:\n",
        "  print('end') #이런 경우 else를 수행하지 않음"
      ],
      "metadata": {
        "colab": {
          "base_uri": "https://localhost:8080/"
        },
        "id": "Efxemyt244fo",
        "outputId": "ceaa4d17-dc5b-4677-b3a9-5b2289a943ce"
      },
      "execution_count": null,
      "outputs": [
        {
          "output_type": "stream",
          "name": "stdout",
          "text": [
            "9\n",
            "8\n",
            "7\n"
          ]
        }
      ]
    },
    {
      "cell_type": "code",
      "source": [
        "# continue는 다음 루프로 바로 넘어간다.\n",
        "# 반복문을 중단하지는 않으므로 else문이 실행된다.\n",
        "a = 10\n",
        "\n",
        "while a>5:\n",
        "  a -= 1\n",
        "  if a==6:\n",
        "    continue #이동시킴\n",
        "  print(a)\n",
        "else:\n",
        "  print('end')"
      ],
      "metadata": {
        "colab": {
          "base_uri": "https://localhost:8080/"
        },
        "id": "mi2cf9oA5WEK",
        "outputId": "084e9d12-d006-4442-911e-7db8cd8c29ad"
      },
      "execution_count": null,
      "outputs": [
        {
          "output_type": "stream",
          "name": "stdout",
          "text": [
            "9\n",
            "8\n",
            "7\n",
            "5\n",
            "end\n"
          ]
        }
      ]
    },
    {
      "cell_type": "markdown",
      "source": [
        "for 변수 in iterable(list, dict, set) :  \n",
        "  실행구문\n",
        "\n",
        "### for문과 함께 사용되는 함수 3가지\n",
        "\n",
        "for 변수 in range(시작번호. 마지막번호, 증감값):  \n",
        "  실행구문\n",
        "\n",
        "for 변수 in enumerate(sequence, start):  \n",
        "  실행구문 \n",
        "\n",
        "for 변수 in zip(data1, data2...):  \n",
        "  실행구문\n"
      ],
      "metadata": {
        "id": "SsUrHutx6mzp"
      }
    },
    {
      "cell_type": "markdown",
      "source": [
        "### range"
      ],
      "metadata": {
        "id": "syrGhYQB7eDx"
      }
    },
    {
      "cell_type": "code",
      "source": [
        "for i in range(1,6): #1에서 6미만의 값을 생성해라\n",
        "  print(i)"
      ],
      "metadata": {
        "colab": {
          "base_uri": "https://localhost:8080/"
        },
        "id": "q9rXffYn6AbB",
        "outputId": "156c60cc-1814-4dc0-ae8f-013b88864048"
      },
      "execution_count": null,
      "outputs": [
        {
          "output_type": "stream",
          "name": "stdout",
          "text": [
            "1\n",
            "2\n",
            "3\n",
            "4\n",
            "5\n"
          ]
        }
      ]
    },
    {
      "cell_type": "markdown",
      "source": [
        "#### enumerate 함수\n",
        "  - enumerate()함수는 인덱스와 객체를 동시에 저장할 수 있는 특징을 가진 for문을 좀 더 효율적으로 사용하기 위한 함수이다.\n",
        "  -enumerate()함수는 순서자료형(list, tuple, str)을 입력으로 받아 인덱스를 포함하는 enumerate 객체를 리턴한다.\n",
        "  - enumerate([순서자료형], [시작값=0])의 형식을 가지며 순서자료형은 반복자가 가능한 객체가 입력되고 시작값은 입력 시 해당 수부터 증가하며, 생략했을 경우 기본값은 0이다. "
      ],
      "metadata": {
        "id": "MoMeNC-07kmL"
      }
    },
    {
      "cell_type": "code",
      "source": [
        "for k in enumerate(['apple', 'python', 'microsoft']): #enumerate로 입력한 값은 tuple로 리턴됨\n",
        "  print(k, type(k))"
      ],
      "metadata": {
        "colab": {
          "base_uri": "https://localhost:8080/"
        },
        "id": "WskVvUQN8xOc",
        "outputId": "f901232e-a113-4417-fc63-bdbe379edf1d"
      },
      "execution_count": null,
      "outputs": [
        {
          "output_type": "stream",
          "name": "stdout",
          "text": [
            "(0, 'apple') <class 'tuple'>\n",
            "(1, 'python') <class 'tuple'>\n",
            "(2, 'microsoft') <class 'tuple'>\n"
          ]
        }
      ]
    },
    {
      "cell_type": "code",
      "source": [
        "for k, v in enumerate(['apple', 'python', 'microsoft']): #enumerate로 객체를 생성할 수 있음\n",
        "  print(k,v)"
      ],
      "metadata": {
        "colab": {
          "base_uri": "https://localhost:8080/"
        },
        "id": "vHda3tWl7ZEr",
        "outputId": "a3e11eb8-c941-400d-9016-f7f7c5a5484d"
      },
      "execution_count": null,
      "outputs": [
        {
          "output_type": "stream",
          "name": "stdout",
          "text": [
            "0 apple\n",
            "1 python\n",
            "2 microsoft\n"
          ]
        }
      ]
    },
    {
      "cell_type": "code",
      "source": [
        "for k in enumerate(['apple', 'python', 'microsoft'], 1): # 시작 인덱스값이 1부터 시작\n",
        "  print(k, type(k))"
      ],
      "metadata": {
        "colab": {
          "base_uri": "https://localhost:8080/"
        },
        "id": "iBpbizfr70nV",
        "outputId": "0e1a300a-2bf3-4944-862f-84de7416217b"
      },
      "execution_count": null,
      "outputs": [
        {
          "output_type": "stream",
          "name": "stdout",
          "text": [
            "(1, 'apple') <class 'tuple'>\n",
            "(2, 'python') <class 'tuple'>\n",
            "(3, 'microsoft') <class 'tuple'>\n"
          ]
        }
      ]
    },
    {
      "cell_type": "markdown",
      "source": [
        "### zip함수\n",
        "- 매개인자로 여러 목록을 받아 각 목록의 요소를 튜플에 담아 목록에 저정한다."
      ],
      "metadata": {
        "id": "1yTQ0Hrb9RQA"
      }
    },
    {
      "cell_type": "code",
      "source": [
        "a = [1,2,3,4,5]\n",
        "b = ['a','b','c','d','e'] #a와 b의 항목 개수가 같다\n",
        "\n",
        "for x in zip(a,b):\n",
        "  print(x)"
      ],
      "metadata": {
        "colab": {
          "base_uri": "https://localhost:8080/"
        },
        "id": "vxX_4koj9FxC",
        "outputId": "1d942b44-ed9d-4b6b-c480-8886eaa45ebf"
      },
      "execution_count": null,
      "outputs": [
        {
          "output_type": "stream",
          "name": "stdout",
          "text": [
            "(1, 'a')\n",
            "(2, 'b')\n",
            "(3, 'c')\n",
            "(4, 'd')\n",
            "(5, 'e')\n"
          ]
        }
      ]
    },
    {
      "cell_type": "code",
      "source": [
        "a = [1,2,3,4,5]\n",
        "b = ['a','b','c','d','e'] \n",
        "\n",
        "for x,y in zip(a,b):\n",
        "  print(x,y)  #따로 받아온다"
      ],
      "metadata": {
        "colab": {
          "base_uri": "https://localhost:8080/"
        },
        "id": "eEc1pphc9lAh",
        "outputId": "a368be63-e1ca-4994-ad87-fcfc131db430"
      },
      "execution_count": null,
      "outputs": [
        {
          "output_type": "stream",
          "name": "stdout",
          "text": [
            "1 a\n",
            "2 b\n",
            "3 c\n",
            "4 d\n",
            "5 e\n"
          ]
        }
      ]
    },
    {
      "cell_type": "code",
      "source": [
        "# 그룹으로 설정할 데이터의 요소 길이가 다르면 가장 짧은 데이터 길이만큼 그룹을 설정한다.\n",
        "a = [1,2,3,4,5]\n",
        "b = ['a','b','c','d'] #a와 b의 항목 개수가 다르면 짧은 개수만큼 처리된다\n",
        "\n",
        "for x in zip(a,b):\n",
        "  print(x)"
      ],
      "metadata": {
        "colab": {
          "base_uri": "https://localhost:8080/"
        },
        "id": "6ss_uvwt9xKr",
        "outputId": "cc18964c-7376-48a2-d0bd-d8c37390aa2d"
      },
      "execution_count": null,
      "outputs": [
        {
          "output_type": "stream",
          "name": "stdout",
          "text": [
            "(1, 'a')\n",
            "(2, 'b')\n",
            "(3, 'c')\n",
            "(4, 'd')\n"
          ]
        }
      ]
    },
    {
      "cell_type": "code",
      "source": [
        "a = [1,2,3,4]\n",
        "b = ['a','b','c','d','e'] #a와 b의 항목 개수가 다르면 짧은 개수만큼 처리된다\n",
        "\n",
        "for x in zip(a,b):\n",
        "  print(x)"
      ],
      "metadata": {
        "colab": {
          "base_uri": "https://localhost:8080/"
        },
        "id": "kcbsAdnv95G3",
        "outputId": "f9ce97d1-7ac4-42e2-da18-7ba206f49ab7"
      },
      "execution_count": null,
      "outputs": [
        {
          "output_type": "stream",
          "name": "stdout",
          "text": [
            "(1, 'a')\n",
            "(2, 'b')\n",
            "(3, 'c')\n",
            "(4, 'd')\n"
          ]
        }
      ]
    },
    {
      "cell_type": "markdown",
      "source": [
        "### Comprehension\n",
        "\n",
        "list set dict => 공통점 mutable  \n",
        "\n",
        "list 생성할 때: 기호[], 함수list() 사용  \n",
        "set 생성할 때 : 함수set() 사용  \n",
        "dict 생성할 때 : 기호{}, dict{} 사용  \n",
        "\n",
        "comprehension 이란 iterable(반복가능)한 오브젝트를 생성하기 위한 방법 가운데 하나이다.  \n",
        "comprehension으로 list, set, dict객체를 생성할 수 있다.\n",
        "- List Comprehension(LC)\n",
        "- Set Comprehension(SC)\n",
        "- Dict Comprehension(DC)\n"
      ],
      "metadata": {
        "id": "aX0yCO_n9_cs"
      }
    },
    {
      "cell_type": "markdown",
      "source": [
        "### List Comprehension\n",
        "- 가장 많이 사용\n",
        "- 리스트 정의 시 값을 정하지 않고 호출 시 리스트 내의 값들이 처리되도록 구성\n",
        "- A = [표현식 for in sequence if 논리식]"
      ],
      "metadata": {
        "id": "zCN0pVTFAOH0"
      }
    },
    {
      "cell_type": "code",
      "source": [
        "s = []\n",
        "for x in range(10):  #0부터 10 미만의 데이터 생성\n",
        "  s.append(x**2) #거듭제곱\n",
        "\n",
        "print(s)"
      ],
      "metadata": {
        "colab": {
          "base_uri": "https://localhost:8080/"
        },
        "id": "O5PnFaqKANFv",
        "outputId": "0590ae3a-0a95-4316-c2ed-b9be94503abe"
      },
      "execution_count": null,
      "outputs": [
        {
          "output_type": "stream",
          "name": "stdout",
          "text": [
            "[0, 1, 4, 9, 16, 25, 36, 49, 64, 81]\n"
          ]
        }
      ]
    },
    {
      "cell_type": "markdown",
      "source": [
        "위의 식을 간단하게 comprehension으로"
      ],
      "metadata": {
        "id": "_yTy4oGYA_N7"
      }
    },
    {
      "cell_type": "code",
      "source": [
        "s = [ x**2 for x in range(10)]\n",
        "print(s)"
      ],
      "metadata": {
        "colab": {
          "base_uri": "https://localhost:8080/"
        },
        "id": "EtLJWvvvA225",
        "outputId": "34b6e525-4d6a-4bb4-e3a9-6a5641e7a891"
      },
      "execution_count": null,
      "outputs": [
        {
          "output_type": "stream",
          "name": "stdout",
          "text": [
            "[0, 1, 4, 9, 16, 25, 36, 49, 64, 81]\n"
          ]
        }
      ]
    },
    {
      "cell_type": "code",
      "source": [
        "k=[]\n",
        "for i in range(1,3):\n",
        "  for j in range(4,8):\n",
        "    #print('{}  {}'.format(i,j))\n",
        "    k.append((i,j))\n",
        "print(k)"
      ],
      "metadata": {
        "colab": {
          "base_uri": "https://localhost:8080/"
        },
        "id": "GeOkALB1BKSg",
        "outputId": "75afb897-865c-408b-d2c7-df58cecb6ff4"
      },
      "execution_count": null,
      "outputs": [
        {
          "output_type": "stream",
          "name": "stdout",
          "text": [
            "[(1, 4), (1, 5), (1, 6), (1, 7), (2, 4), (2, 5), (2, 6), (2, 7)]\n"
          ]
        }
      ]
    },
    {
      "cell_type": "markdown",
      "source": [
        "위의 식을 list comprehension으로"
      ],
      "metadata": {
        "id": "5whtWZdjFYDi"
      }
    },
    {
      "cell_type": "code",
      "source": [
        "k=[]\n",
        "k=[(i,j) for i in range(1,3) for j in range(4,8)]\n",
        "k"
      ],
      "metadata": {
        "colab": {
          "base_uri": "https://localhost:8080/"
        },
        "id": "CCmcnCq0EuGM",
        "outputId": "c73d15fa-c863-4ffb-b5e5-9bc67ff658a1"
      },
      "execution_count": null,
      "outputs": [
        {
          "output_type": "execute_result",
          "data": {
            "text/plain": [
              "[(1, 4), (1, 5), (1, 6), (1, 7), (2, 4), (2, 5), (2, 6), (2, 7)]"
            ]
          },
          "metadata": {},
          "execution_count": 64
        }
      ]
    },
    {
      "cell_type": "code",
      "source": [
        "k=[]\n",
        "for i in range(1,3):\n",
        "  for j in range(4,8):\n",
        "    if(j %2 ==0) : #j에 짝수만 저장하겠다\n",
        "      k.append((i,j))\n",
        "print(k)"
      ],
      "metadata": {
        "colab": {
          "base_uri": "https://localhost:8080/"
        },
        "id": "E4DYNjp3Fmoa",
        "outputId": "d9da25b6-1bde-44e1-bf86-3795a9e49e9f"
      },
      "execution_count": null,
      "outputs": [
        {
          "output_type": "stream",
          "name": "stdout",
          "text": [
            "[(1, 4), (1, 6), (2, 4), (2, 6)]\n"
          ]
        }
      ]
    },
    {
      "cell_type": "code",
      "source": [
        "k=[]\n",
        "k=[(i,j) for i in range(1,3) for j in range(4,8) if(j %2 ==0)]\n",
        "k"
      ],
      "metadata": {
        "colab": {
          "base_uri": "https://localhost:8080/"
        },
        "id": "jNT4gk1yF52i",
        "outputId": "6d2799b5-9138-4d7f-a8f3-32f57b3ca2f0"
      },
      "execution_count": null,
      "outputs": [
        {
          "output_type": "execute_result",
          "data": {
            "text/plain": [
              "[(1, 4), (1, 6), (2, 4), (2, 6)]"
            ]
          },
          "metadata": {},
          "execution_count": 66
        }
      ]
    },
    {
      "cell_type": "code",
      "source": [
        "# list comprehension에서 함수 내부 로직에서 외부변수를 참조할 때 모든 순환이 된 결과를 참조\n",
        "h = [ lambda x : x + n for n in range(5)]\n",
        "print(h)\n",
        "print(len(h)) #0,1,2,3,4 = 5개\n",
        "\n",
        "for i in h :\n",
        "  print(i(0)) #마지막 값 4만 5개 출력됨"
      ],
      "metadata": {
        "colab": {
          "base_uri": "https://localhost:8080/"
        },
        "id": "Mxo21yhXGGIu",
        "outputId": "2a7bc286-9b33-4f66-a42e-078a3014abd9"
      },
      "execution_count": null,
      "outputs": [
        {
          "output_type": "stream",
          "name": "stdout",
          "text": [
            "[<function <listcomp>.<lambda> at 0x7f545207f430>, <function <listcomp>.<lambda> at 0x7f545207f160>, <function <listcomp>.<lambda> at 0x7f545207ff70>, <function <listcomp>.<lambda> at 0x7f545207f310>, <function <listcomp>.<lambda> at 0x7f545207f4c0>]\n",
            "5\n",
            "4\n",
            "4\n",
            "4\n",
            "4\n",
            "4\n"
          ]
        }
      ]
    },
    {
      "cell_type": "code",
      "source": [
        "#list comprehension에 있는 변수를 함수의 파라미터 초기값으로 세팅하면 원하는 숫자대로 처리된다.\n",
        "h = [ lambda x, n=n : x + n for n in range(5)]\n",
        "print(h)\n",
        "print(len(h)) #0,1,2,3,4 = 5개\n",
        "\n",
        "for i in h :\n",
        "  print(i(0)) #원하는대로 0,1,2,3,4 = 5개가 출력된다"
      ],
      "metadata": {
        "colab": {
          "base_uri": "https://localhost:8080/"
        },
        "id": "_V8b3bDWGle7",
        "outputId": "a20ca28b-4b1d-4225-f149-0ead960ab40d"
      },
      "execution_count": null,
      "outputs": [
        {
          "output_type": "stream",
          "name": "stdout",
          "text": [
            "[<function <listcomp>.<lambda> at 0x7f5452149af0>, <function <listcomp>.<lambda> at 0x7f545207fca0>, <function <listcomp>.<lambda> at 0x7f545207fd30>, <function <listcomp>.<lambda> at 0x7f545207f820>, <function <listcomp>.<lambda> at 0x7f545207fa60>]\n",
            "5\n",
            "0\n",
            "1\n",
            "2\n",
            "3\n",
            "4\n"
          ]
        }
      ]
    },
    {
      "cell_type": "markdown",
      "source": [
        "dict comprehension\n",
        "- 사전 정의 시 값을 정하지 않고 호출 시 사전 내의 값들이 처리되도록 구성\n",
        "- A = {표현식 for (k,v) in sequence if 논리식}"
      ],
      "metadata": {
        "id": "zmYkUb7PIhZB"
      }
    },
    {
      "cell_type": "code",
      "source": [
        "d = {}\n",
        "for(k,v) in zip(range(9), range(9)):\n",
        "   d[k]=v\n",
        "print(d)"
      ],
      "metadata": {
        "colab": {
          "base_uri": "https://localhost:8080/"
        },
        "id": "mqC20a0zIISP",
        "outputId": "974069a5-7b7f-4749-d08b-30eb87cb521b"
      },
      "execution_count": null,
      "outputs": [
        {
          "output_type": "stream",
          "name": "stdout",
          "text": [
            "{0: 0, 1: 1, 2: 2, 3: 3, 4: 4, 5: 5, 6: 6, 7: 7, 8: 8}\n"
          ]
        }
      ]
    },
    {
      "cell_type": "code",
      "source": [
        "d = { k:v for(k,v) in zip(range(9), range(9))}\n",
        "print(d)"
      ],
      "metadata": {
        "colab": {
          "base_uri": "https://localhost:8080/"
        },
        "id": "pGRSXmeKI_Mn",
        "outputId": "9a192ef9-4553-4271-b57b-a4a0e5c6046f"
      },
      "execution_count": null,
      "outputs": [
        {
          "output_type": "stream",
          "name": "stdout",
          "text": [
            "{0: 0, 1: 1, 2: 2, 3: 3, 4: 4, 5: 5, 6: 6, 7: 7, 8: 8}\n"
          ]
        }
      ]
    },
    {
      "cell_type": "code",
      "source": [
        "a = {'x':1, 'y':2, 'z':3}\n",
        "b = {'w':10, 'x':11, 'y':2}\n",
        "print(a.keys(), b.keys())\n",
        "print(type(a.keys()))  #dict_keys\n",
        "\n",
        "c = {key:a[key] for key in a.keys() - b.keys()}\n",
        "print(c)"
      ],
      "metadata": {
        "colab": {
          "base_uri": "https://localhost:8080/"
        },
        "id": "6LdSa7QCJO_9",
        "outputId": "2e12aa52-673e-4f34-d79c-d1fc87f4eeee"
      },
      "execution_count": null,
      "outputs": [
        {
          "output_type": "stream",
          "name": "stdout",
          "text": [
            "dict_keys(['x', 'y', 'z']) dict_keys(['w', 'x', 'y'])\n",
            "<class 'dict_keys'>\n",
            "{'z': 3}\n"
          ]
        }
      ]
    },
    {
      "cell_type": "code",
      "source": [
        "k={i:j for i in range(1,3) for j in range(4,8)}\n",
        "print(k)\n",
        "print(type(k))"
      ],
      "metadata": {
        "colab": {
          "base_uri": "https://localhost:8080/"
        },
        "id": "rUVaaymVKjGu",
        "outputId": "066ce381-010b-43de-d850-a4e72f35c67a"
      },
      "execution_count": null,
      "outputs": [
        {
          "output_type": "stream",
          "name": "stdout",
          "text": [
            "{1: 7, 2: 7}\n",
            "<class 'dict'>\n"
          ]
        }
      ]
    },
    {
      "cell_type": "markdown",
      "source": [
        "Set Comprehension\n",
        "- Set 정의 시 값을 정하지 않고 호출 시 Set 내의 값들이 처리되도록 구성\n",
        "- A = [표현식 for in sequence if 논리식}\n"
      ],
      "metadata": {
        "id": "DAMgWCcZMa2H"
      }
    },
    {
      "cell_type": "code",
      "source": [
        "k={(i,j) for i in range(1,3) for j in range(4,8)}\n",
        "print(k)\n",
        "print(type(k))"
      ],
      "metadata": {
        "colab": {
          "base_uri": "https://localhost:8080/"
        },
        "id": "UvNJ3XVIMHoM",
        "outputId": "04fdcf20-4605-4bca-a885-1c1e4f42a893"
      },
      "execution_count": null,
      "outputs": [
        {
          "output_type": "stream",
          "name": "stdout",
          "text": [
            "{(2, 4), (2, 7), (1, 5), (1, 4), (1, 7), (2, 6), (1, 6), (2, 5)}\n",
            "<class 'set'>\n"
          ]
        }
      ]
    },
    {
      "cell_type": "code",
      "source": [
        "s = set()\n",
        "for i in range(10):\n",
        "  s.add(i)  #set에서 추가할 때 add\n",
        "print(s)\n",
        "print(type(s))"
      ],
      "metadata": {
        "colab": {
          "base_uri": "https://localhost:8080/"
        },
        "id": "rbJSxvP3MuTX",
        "outputId": "3cc931c5-10b5-4c17-fd47-75ba4777599d"
      },
      "execution_count": null,
      "outputs": [
        {
          "output_type": "stream",
          "name": "stdout",
          "text": [
            "{0, 1, 2, 3, 4, 5, 6, 7, 8, 9}\n",
            "<class 'set'>\n"
          ]
        }
      ]
    },
    {
      "cell_type": "code",
      "source": [
        "s = {i for i in range(10)}  #:콜론 넣어주면 dict로 처리\n",
        "print(s)\n",
        "print(type(s))"
      ],
      "metadata": {
        "colab": {
          "base_uri": "https://localhost:8080/"
        },
        "id": "jGtN7Ep0M1-2",
        "outputId": "0965af85-e3a8-407f-dbd9-de35331932bb"
      },
      "execution_count": null,
      "outputs": [
        {
          "output_type": "stream",
          "name": "stdout",
          "text": [
            "{0, 1, 2, 3, 4, 5, 6, 7, 8, 9}\n",
            "<class 'set'>\n"
          ]
        }
      ]
    },
    {
      "cell_type": "code",
      "source": [],
      "metadata": {
        "id": "ub7Q5tCnM_6o"
      },
      "execution_count": null,
      "outputs": []
    }
  ]
}